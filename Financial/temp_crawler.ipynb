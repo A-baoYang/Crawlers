{
 "cells": [
  {
   "cell_type": "code",
   "execution_count": 1,
   "metadata": {},
   "outputs": [],
   "source": [
    "import re\n",
    "import requests\n",
    "import random\n",
    "from bs4 import BeautifulSoup\n",
    "from tqdm import tqdm\n",
    "from time import sleep\n",
    "import json\n",
    "import numpy as np\n",
    "import pandas as pd\n"
   ]
  },
  {
   "cell_type": "code",
   "execution_count": 2,
   "metadata": {},
   "outputs": [],
   "source": [
    "user_agent_list = [\n",
    "    'Mozilla/5.0 (Macintosh; Intel Mac OS X 10_15_5) AppleWebKit/605.1.15 (KHTML, like Gecko) Version/13.1.1 Safari/605.1.15',\n",
    "    'Mozilla/5.0 (Windows NT 10.0; Win64; x64; rv:77.0) Gecko/20100101 Firefox/77.0',\n",
    "    'Mozilla/5.0 (Macintosh; Intel Mac OS X 10_15_5) AppleWebKit/537.36 (KHTML, like Gecko) Chrome/83.0.4103.97 Safari/537.36',\n",
    "    'Mozilla/5.0 (Macintosh; Intel Mac OS X 10.15; rv:77.0) Gecko/20100101 Firefox/77.0',\n",
    "    'Mozilla/5.0 (Windows NT 10.0; Win64; x64) AppleWebKit/537.36 (KHTML, like Gecko) Chrome/83.0.4103.97 Safari/537.36',\n",
    "]\n",
    "headers = {\n",
    "    \"accept\": \"text/html,application/xhtml+xml,application/xml;q=0.9,image/avif,image/webp,image/apng,*/*;q=0.8,application/signed-exchange;v=b3;q=0.9\", \n",
    "    \"accept-encoding\": \"gzip, deflate, br\", \n",
    "    \"accept-language\": \"zh-TW,zh;q=0.9,en-US;q=0.8,en;q=0.7\", \n",
    "    \"sec-fetch-dest\": \"document\",\n",
    "    \"sec-fetch-mode\": \"navigate\",\n",
    "    \"sec-fetch-site\": \"none\",\n",
    "    \"sec-fetch-user\": \"?1\",\n",
    "    \"sec-gpc\": \"1\",\n",
    "    \"referer\": \"https://www.google.com/\",\n",
    "    \"dnt\": \"1\", \n",
    "    \"upgrade-Insecure-Requests\": \"1\", \n",
    "    \"user-agent\": \"Mozilla/5.0 (Linux; Android 6.0; Nexus 5 Build/MRA58N) AppleWebKit/537.36 (KHTML, like Gecko) Chrome/95.0.4638.69 Mobile Safari/537.36\", \n",
    "}\n",
    "\n"
   ]
  },
  {
   "cell_type": "code",
   "execution_count": 3,
   "metadata": {},
   "outputs": [],
   "source": [
    "# get free ip for proxy\n",
    "def getFreeIpProxy():\n",
    "    free_proxy_url = 'https://free-proxy-list.net/'\n",
    "    res = requests.get(free_proxy_url, headers=headers)\n",
    "    ip_list = re.findall('\\d+\\.\\d+\\.\\d+\\.\\d+:\\d+', res.text)\n",
    "    return ip_list\n",
    "    "
   ]
  },
  {
   "cell_type": "code",
   "execution_count": 8,
   "metadata": {},
   "outputs": [
    {
     "name": "stderr",
     "output_type": "stream",
     "text": [
      "  0%|          | 1/300 [00:05<24:57,  5.01s/it]"
     ]
    },
    {
     "name": "stdout",
     "output_type": "stream",
     "text": [
      "Invalid:  109.238.222.5:40387\n"
     ]
    },
    {
     "name": "stderr",
     "output_type": "stream",
     "text": [
      "  1%|          | 2/300 [00:10<24:52,  5.01s/it]"
     ]
    },
    {
     "name": "stdout",
     "output_type": "stream",
     "text": [
      "Invalid:  203.81.87.186:10443\n"
     ]
    },
    {
     "name": "stderr",
     "output_type": "stream",
     "text": [
      "  1%|          | 3/300 [00:15<24:46,  5.01s/it]"
     ]
    },
    {
     "name": "stdout",
     "output_type": "stream",
     "text": [
      "Invalid:  131.221.97.8:55443\n"
     ]
    },
    {
     "name": "stderr",
     "output_type": "stream",
     "text": [
      "  1%|▏         | 4/300 [00:20<24:42,  5.01s/it]"
     ]
    },
    {
     "name": "stdout",
     "output_type": "stream",
     "text": [
      "Invalid:  162.155.10.150:55443\n"
     ]
    },
    {
     "name": "stderr",
     "output_type": "stream",
     "text": [
      "  2%|▏         | 5/300 [00:20<16:32,  3.37s/it]"
     ]
    },
    {
     "name": "stdout",
     "output_type": "stream",
     "text": [
      "Invalid:  206.253.164.122:80\n"
     ]
    },
    {
     "name": "stderr",
     "output_type": "stream",
     "text": [
      "  2%|▏         | 6/300 [00:25<19:13,  3.92s/it]"
     ]
    },
    {
     "name": "stdout",
     "output_type": "stream",
     "text": [
      "Invalid:  5.58.33.187:55507\n"
     ]
    },
    {
     "name": "stderr",
     "output_type": "stream",
     "text": [
      "  2%|▏         | 7/300 [00:30<20:53,  4.28s/it]"
     ]
    },
    {
     "name": "stdout",
     "output_type": "stream",
     "text": [
      "Invalid:  154.239.6.163:50800\n"
     ]
    },
    {
     "name": "stderr",
     "output_type": "stream",
     "text": [
      "  3%|▎         | 8/300 [00:32<17:41,  3.64s/it]"
     ]
    },
    {
     "name": "stdout",
     "output_type": "stream",
     "text": [
      "Invalid:  54.36.181.62:3129\n"
     ]
    },
    {
     "name": "stderr",
     "output_type": "stream",
     "text": [
      "  3%|▎         | 9/300 [00:37<19:42,  4.06s/it]"
     ]
    },
    {
     "name": "stdout",
     "output_type": "stream",
     "text": [
      "Invalid:  27.116.51.178:6666\n"
     ]
    },
    {
     "name": "stderr",
     "output_type": "stream",
     "text": [
      "  3%|▎         | 10/300 [00:38<14:22,  2.97s/it]"
     ]
    },
    {
     "name": "stdout",
     "output_type": "stream",
     "text": [
      "Invalid:  206.253.164.198:80\n"
     ]
    },
    {
     "name": "stderr",
     "output_type": "stream",
     "text": [
      "  4%|▎         | 11/300 [00:43<17:19,  3.60s/it]"
     ]
    },
    {
     "name": "stdout",
     "output_type": "stream",
     "text": [
      "Invalid:  52.168.34.113:80\n"
     ]
    },
    {
     "name": "stderr",
     "output_type": "stream",
     "text": [
      "  4%|▍         | 12/300 [00:48<19:19,  4.03s/it]"
     ]
    },
    {
     "name": "stdout",
     "output_type": "stream",
     "text": [
      "Invalid:  176.56.107.235:32439\n"
     ]
    },
    {
     "name": "stderr",
     "output_type": "stream",
     "text": [
      "  4%|▍         | 13/300 [00:56<25:09,  5.26s/it]"
     ]
    },
    {
     "name": "stdout",
     "output_type": "stream",
     "text": [
      "Invalid:  124.217.247.199:80\n"
     ]
    },
    {
     "name": "stderr",
     "output_type": "stream",
     "text": [
      "  5%|▍         | 14/300 [01:01<24:42,  5.18s/it]"
     ]
    },
    {
     "name": "stdout",
     "output_type": "stream",
     "text": [
      "Invalid:  193.200.151.69:48241\n"
     ]
    },
    {
     "name": "stderr",
     "output_type": "stream",
     "text": [
      "  5%|▌         | 15/300 [01:03<20:36,  4.34s/it]"
     ]
    },
    {
     "name": "stdout",
     "output_type": "stream",
     "text": [
      "Invalid:  167.71.5.83:8080\n"
     ]
    },
    {
     "name": "stderr",
     "output_type": "stream",
     "text": [
      "  5%|▌         | 16/300 [01:08<21:29,  4.54s/it]"
     ]
    },
    {
     "name": "stdout",
     "output_type": "stream",
     "text": [
      "Invalid:  46.0.203.186:8080\n"
     ]
    },
    {
     "name": "stderr",
     "output_type": "stream",
     "text": [
      "  6%|▌         | 17/300 [01:13<22:02,  4.67s/it]"
     ]
    },
    {
     "name": "stdout",
     "output_type": "stream",
     "text": [
      "Invalid:  193.239.146.98:80\n"
     ]
    },
    {
     "name": "stderr",
     "output_type": "stream",
     "text": [
      "  6%|▌         | 18/300 [01:13<15:39,  3.33s/it]"
     ]
    },
    {
     "name": "stdout",
     "output_type": "stream",
     "text": [
      "Invalid:  103.105.49.53:80\n"
     ]
    },
    {
     "name": "stderr",
     "output_type": "stream",
     "text": [
      "  6%|▋         | 19/300 [01:19<18:17,  3.91s/it]"
     ]
    },
    {
     "name": "stdout",
     "output_type": "stream",
     "text": [
      "Invalid:  27.72.28.32:8008\n"
     ]
    },
    {
     "name": "stderr",
     "output_type": "stream",
     "text": [
      "  7%|▋         | 20/300 [01:19<13:15,  2.84s/it]"
     ]
    },
    {
     "name": "stdout",
     "output_type": "stream",
     "text": [
      "Invalid:  68.183.56.232:80\n"
     ]
    },
    {
     "name": "stderr",
     "output_type": "stream",
     "text": [
      "  7%|▋         | 21/300 [01:20<09:56,  2.14s/it]"
     ]
    },
    {
     "name": "stdout",
     "output_type": "stream",
     "text": [
      "Invalid:  185.61.152.137:8080\n"
     ]
    },
    {
     "name": "stderr",
     "output_type": "stream",
     "text": [
      "  7%|▋         | 22/300 [01:25<14:15,  3.08s/it]"
     ]
    },
    {
     "name": "stdout",
     "output_type": "stream",
     "text": [
      "Invalid:  170.155.5.235:8080\n"
     ]
    },
    {
     "name": "stderr",
     "output_type": "stream",
     "text": [
      "  8%|▊         | 23/300 [01:30<16:52,  3.65s/it]"
     ]
    },
    {
     "name": "stdout",
     "output_type": "stream",
     "text": [
      "Invalid:  116.203.151.201:80\n"
     ]
    },
    {
     "name": "stderr",
     "output_type": "stream",
     "text": [
      "  8%|▊         | 24/300 [01:31<12:50,  2.79s/it]"
     ]
    },
    {
     "name": "stdout",
     "output_type": "stream",
     "text": [
      "{'ip': '47.242.168.144'}\n"
     ]
    },
    {
     "name": "stderr",
     "output_type": "stream",
     "text": [
      "  8%|▊         | 25/300 [01:31<09:34,  2.09s/it]"
     ]
    },
    {
     "name": "stdout",
     "output_type": "stream",
     "text": [
      "Invalid:  206.253.164.110:80\n"
     ]
    },
    {
     "name": "stderr",
     "output_type": "stream",
     "text": [
      "  9%|▊         | 26/300 [01:36<13:45,  3.01s/it]"
     ]
    },
    {
     "name": "stdout",
     "output_type": "stream",
     "text": [
      "{'ip': '200.105.215.18'}\n"
     ]
    },
    {
     "name": "stderr",
     "output_type": "stream",
     "text": [
      "  9%|▉         | 27/300 [01:37<10:10,  2.24s/it]"
     ]
    },
    {
     "name": "stdout",
     "output_type": "stream",
     "text": [
      "Invalid:  199.19.225.250:80\n"
     ]
    },
    {
     "name": "stderr",
     "output_type": "stream",
     "text": [
      "  9%|▉         | 28/300 [01:42<13:54,  3.07s/it]"
     ]
    },
    {
     "name": "stdout",
     "output_type": "stream",
     "text": [
      "Invalid:  181.192.2.233:53281\n"
     ]
    },
    {
     "name": "stderr",
     "output_type": "stream",
     "text": [
      " 10%|▉         | 29/300 [01:43<10:57,  2.42s/it]"
     ]
    },
    {
     "name": "stdout",
     "output_type": "stream",
     "text": [
      "Invalid:  198.167.193.67:8118\n"
     ]
    },
    {
     "name": "stderr",
     "output_type": "stream",
     "text": [
      " 10%|█         | 30/300 [01:48<14:23,  3.20s/it]"
     ]
    },
    {
     "name": "stdout",
     "output_type": "stream",
     "text": [
      "Invalid:  3.127.209.99:80\n"
     ]
    },
    {
     "name": "stderr",
     "output_type": "stream",
     "text": [
      " 10%|█         | 31/300 [01:49<11:17,  2.52s/it]"
     ]
    },
    {
     "name": "stdout",
     "output_type": "stream",
     "text": [
      "Invalid:  144.76.116.242:80\n"
     ]
    },
    {
     "name": "stderr",
     "output_type": "stream",
     "text": [
      " 11%|█         | 33/300 [01:54<10:20,  2.32s/it]"
     ]
    },
    {
     "name": "stdout",
     "output_type": "stream",
     "text": [
      "Invalid:  163.53.209.8:6666\n",
      "Invalid:  203.69.243.3:80\n"
     ]
    },
    {
     "name": "stderr",
     "output_type": "stream",
     "text": [
      " 11%|█▏        | 34/300 [01:59<13:52,  3.13s/it]"
     ]
    },
    {
     "name": "stdout",
     "output_type": "stream",
     "text": [
      "Invalid:  3.222.173.245:80\n"
     ]
    },
    {
     "name": "stderr",
     "output_type": "stream",
     "text": [
      " 12%|█▏        | 35/300 [01:59<10:23,  2.35s/it]"
     ]
    },
    {
     "name": "stdout",
     "output_type": "stream",
     "text": [
      "Invalid:  155.4.30.90:8080\n"
     ]
    },
    {
     "name": "stderr",
     "output_type": "stream",
     "text": [
      " 12%|█▏        | 36/300 [02:03<12:13,  2.78s/it]"
     ]
    },
    {
     "name": "stdout",
     "output_type": "stream",
     "text": [
      "{'ip': '158.101.146.40'}\n"
     ]
    },
    {
     "name": "stderr",
     "output_type": "stream",
     "text": [
      " 12%|█▏        | 37/300 [02:08<15:06,  3.45s/it]"
     ]
    },
    {
     "name": "stdout",
     "output_type": "stream",
     "text": [
      "Invalid:  110.44.124.220:55443\n"
     ]
    },
    {
     "name": "stderr",
     "output_type": "stream",
     "text": [
      " 13%|█▎        | 38/300 [02:13<17:10,  3.93s/it]"
     ]
    },
    {
     "name": "stdout",
     "output_type": "stream",
     "text": [
      "Invalid:  54.37.160.89:1080\n"
     ]
    },
    {
     "name": "stderr",
     "output_type": "stream",
     "text": [
      " 13%|█▎        | 39/300 [02:18<18:30,  4.26s/it]"
     ]
    },
    {
     "name": "stdout",
     "output_type": "stream",
     "text": [
      "Invalid:  187.87.189.252:55443\n"
     ]
    },
    {
     "name": "stderr",
     "output_type": "stream",
     "text": [
      " 13%|█▎        | 40/300 [02:23<19:25,  4.48s/it]"
     ]
    },
    {
     "name": "stdout",
     "output_type": "stream",
     "text": [
      "Invalid:  202.57.35.74:38629\n"
     ]
    },
    {
     "name": "stderr",
     "output_type": "stream",
     "text": [
      " 14%|█▎        | 41/300 [02:28<19:42,  4.57s/it]"
     ]
    },
    {
     "name": "stdout",
     "output_type": "stream",
     "text": [
      "{'ip': '185.201.88.128'}\n"
     ]
    },
    {
     "name": "stderr",
     "output_type": "stream",
     "text": [
      " 14%|█▍        | 42/300 [02:33<20:12,  4.70s/it]"
     ]
    },
    {
     "name": "stdout",
     "output_type": "stream",
     "text": [
      "Invalid:  14.161.252.185:55443\n"
     ]
    },
    {
     "name": "stderr",
     "output_type": "stream",
     "text": [
      " 14%|█▍        | 43/300 [02:38<20:31,  4.79s/it]"
     ]
    },
    {
     "name": "stdout",
     "output_type": "stream",
     "text": [
      "Invalid:  103.133.26.100:8181\n"
     ]
    },
    {
     "name": "stderr",
     "output_type": "stream",
     "text": [
      " 15%|█▍        | 44/300 [02:43<20:42,  4.86s/it]"
     ]
    },
    {
     "name": "stdout",
     "output_type": "stream",
     "text": [
      "Invalid:  150.107.137.25:8080\n"
     ]
    },
    {
     "name": "stderr",
     "output_type": "stream",
     "text": [
      " 15%|█▌        | 45/300 [02:48<20:49,  4.90s/it]"
     ]
    },
    {
     "name": "stdout",
     "output_type": "stream",
     "text": [
      "Invalid:  167.179.4.142:55443\n"
     ]
    },
    {
     "name": "stderr",
     "output_type": "stream",
     "text": [
      " 15%|█▌        | 46/300 [02:53<20:52,  4.93s/it]"
     ]
    },
    {
     "name": "stdout",
     "output_type": "stream",
     "text": [
      "Invalid:  182.253.93.4:53281\n"
     ]
    },
    {
     "name": "stderr",
     "output_type": "stream",
     "text": [
      " 16%|█▌        | 47/300 [02:53<15:12,  3.61s/it]"
     ]
    },
    {
     "name": "stdout",
     "output_type": "stream",
     "text": [
      "Invalid:  89.163.210.176:8118\n"
     ]
    },
    {
     "name": "stderr",
     "output_type": "stream",
     "text": [
      " 16%|█▌        | 48/300 [02:58<16:54,  4.03s/it]"
     ]
    },
    {
     "name": "stdout",
     "output_type": "stream",
     "text": [
      "Invalid:  27.116.51.186:6666\n"
     ]
    },
    {
     "name": "stderr",
     "output_type": "stream",
     "text": [
      " 16%|█▋        | 49/300 [03:03<18:04,  4.32s/it]"
     ]
    },
    {
     "name": "stdout",
     "output_type": "stream",
     "text": [
      "Invalid:  78.30.230.117:50932\n"
     ]
    },
    {
     "name": "stderr",
     "output_type": "stream",
     "text": [
      " 17%|█▋        | 50/300 [03:08<18:51,  4.53s/it]"
     ]
    },
    {
     "name": "stdout",
     "output_type": "stream",
     "text": [
      "Invalid:  201.184.145.60:999\n"
     ]
    },
    {
     "name": "stderr",
     "output_type": "stream",
     "text": [
      " 17%|█▋        | 51/300 [03:09<14:17,  3.45s/it]"
     ]
    },
    {
     "name": "stdout",
     "output_type": "stream",
     "text": [
      "Invalid:  85.195.95.222:1080\n"
     ]
    },
    {
     "name": "stderr",
     "output_type": "stream",
     "text": [
      " 17%|█▋        | 52/300 [03:14<16:10,  3.91s/it]"
     ]
    },
    {
     "name": "stdout",
     "output_type": "stream",
     "text": [
      "Invalid:  110.232.67.44:55443\n",
      "Invalid:  183.91.0.121:3128\n"
     ]
    },
    {
     "name": "stderr",
     "output_type": "stream",
     "text": [
      " 18%|█▊        | 54/300 [03:16<10:23,  2.54s/it]"
     ]
    },
    {
     "name": "stdout",
     "output_type": "stream",
     "text": [
      "Invalid:  164.68.123.119:9300\n"
     ]
    },
    {
     "name": "stderr",
     "output_type": "stream",
     "text": [
      " 18%|█▊        | 55/300 [03:21<12:51,  3.15s/it]"
     ]
    },
    {
     "name": "stdout",
     "output_type": "stream",
     "text": [
      "Invalid:  176.101.89.226:33470\n"
     ]
    },
    {
     "name": "stderr",
     "output_type": "stream",
     "text": [
      " 19%|█▊        | 56/300 [03:26<14:46,  3.63s/it]"
     ]
    },
    {
     "name": "stdout",
     "output_type": "stream",
     "text": [
      "Invalid:  200.69.79.220:55443\n"
     ]
    },
    {
     "name": "stderr",
     "output_type": "stream",
     "text": [
      " 19%|█▉        | 57/300 [03:31<16:13,  4.01s/it]"
     ]
    },
    {
     "name": "stdout",
     "output_type": "stream",
     "text": [
      "Invalid:  212.175.55.46:53281\n"
     ]
    },
    {
     "name": "stderr",
     "output_type": "stream",
     "text": [
      " 19%|█▉        | 58/300 [03:36<17:17,  4.29s/it]"
     ]
    },
    {
     "name": "stdout",
     "output_type": "stream",
     "text": [
      "Invalid:  193.31.27.123:80\n"
     ]
    },
    {
     "name": "stderr",
     "output_type": "stream",
     "text": [
      " 20%|█▉        | 59/300 [03:41<18:02,  4.49s/it]"
     ]
    },
    {
     "name": "stdout",
     "output_type": "stream",
     "text": [
      "Invalid:  190.7.141.66:47576\n"
     ]
    },
    {
     "name": "stderr",
     "output_type": "stream",
     "text": [
      " 20%|██        | 60/300 [03:46<18:34,  4.64s/it]"
     ]
    },
    {
     "name": "stdout",
     "output_type": "stream",
     "text": [
      "Invalid:  36.37.180.59:65205\n"
     ]
    },
    {
     "name": "stderr",
     "output_type": "stream",
     "text": [
      " 20%|██        | 61/300 [03:51<18:55,  4.75s/it]"
     ]
    },
    {
     "name": "stdout",
     "output_type": "stream",
     "text": [
      "Invalid:  31.131.67.14:8080\n"
     ]
    },
    {
     "name": "stderr",
     "output_type": "stream",
     "text": [
      " 21%|██        | 62/300 [03:56<19:08,  4.83s/it]"
     ]
    },
    {
     "name": "stdout",
     "output_type": "stream",
     "text": [
      "Invalid:  185.61.94.70:61616\n"
     ]
    },
    {
     "name": "stderr",
     "output_type": "stream",
     "text": [
      " 21%|██        | 63/300 [04:01<19:16,  4.88s/it]"
     ]
    },
    {
     "name": "stdout",
     "output_type": "stream",
     "text": [
      "Invalid:  181.49.100.190:8080\n"
     ]
    },
    {
     "name": "stderr",
     "output_type": "stream",
     "text": [
      " 21%|██        | 63/300 [04:09<15:37,  3.95s/it]"
     ]
    },
    {
     "name": "stdout",
     "output_type": "stream",
     "text": [
      "{'ip': '155.0.181.254'}\n"
     ]
    },
    {
     "name": "stderr",
     "output_type": "stream",
     "text": [
      "\n"
     ]
    }
   ],
   "source": [
    "# check if the ip is valid to use\n",
    "def GetValidIpProxy():\n",
    "    valid_ips = []\n",
    "    check_ip_url = 'https://api.ipify.org/?format=json'\n",
    "    ip_list = getFreeIpProxy()\n",
    "\n",
    "    for ip in tqdm(ip_list):\n",
    "        try:\n",
    "            res = requests.get(check_ip_url, proxies={'http': ip, 'https': ip}, timeout=5)\n",
    "            valid_ips.append(ip)\n",
    "            print(res.json())\n",
    "        except:\n",
    "            print('Invalid: ', ip)\n",
    "\n",
    "        if len(valid_ips) >= 5:\n",
    "            break\n",
    "    \n",
    "    return valid_ips\n",
    "\n",
    "\n",
    "valid_ips = GetValidIpProxy()\n"
   ]
  },
  {
   "cell_type": "code",
   "execution_count": 9,
   "metadata": {},
   "outputs": [
    {
     "data": {
      "text/plain": [
       "['47.242.168.144:59394',\n",
       " '200.105.215.18:33630',\n",
       " '158.101.146.40:59394',\n",
       " '185.201.88.128:6969',\n",
       " '155.0.181.254:43496']"
      ]
     },
     "execution_count": 9,
     "metadata": {},
     "output_type": "execute_result"
    }
   ],
   "source": [
    "valid_ips"
   ]
  },
  {
   "cell_type": "code",
   "execution_count": 60,
   "metadata": {},
   "outputs": [],
   "source": [
    "def changeUserAgentNProxy(url, headers, user_agent_list, valid_ips):\n",
    "    changedIp = 0\n",
    "    success = 0\n",
    "\n",
    "    while (changedIp < 5) and (success == 0):\n",
    "        retry = 0 \n",
    "        timeout = 20\n",
    "        headers['user-agent'] = random.choice(user_agent_list)\n",
    "        ip_proxy = random.choice(valid_ips)\n",
    "\n",
    "        while (retry < 3) and (success == 0):\n",
    "            try:\n",
    "                print(ip_proxy, ' Fetching ', url, ' timeout: ', timeout)\n",
    "                res = requests.get(url, headers=headers, proxies={'http': ip_proxy, 'https': ip_proxy}, timeout=timeout).content\n",
    "                success = 1\n",
    "                print('Success')\n",
    "            except Exception as e:\n",
    "                retry += 1\n",
    "                timeout += 5\n",
    "                print('retrying: ', retry)\n",
    "\n",
    "        changedIp += 1\n",
    "\n",
    "    return res\n",
    "    "
   ]
  },
  {
   "cell_type": "code",
   "execution_count": 61,
   "metadata": {},
   "outputs": [],
   "source": [
    "def getStockBasicinfo(stock_id, headers, user_agent_list, valid_ips):\n",
    "\n",
    "    url = f'https://goodinfo.tw/tw/BasicInfo.asp?STOCK_ID={stock_id}'\n",
    "    res = changeUserAgentNProxy(url=url, headers=headers, user_agent_list=user_agent_list, valid_ips=valid_ips)\n",
    "    soup = BeautifulSoup(res, 'html.parser')\n",
    "\n",
    "    keys = [item.text for item in soup.find('table', {'class': 'b1 p4_6 r10'}).find_all('td', {'class': 'bg_h1'})]\n",
    "    values = [item.text.replace('\\xa0', '') for item in soup.find('table', {'class': 'b1 p4_6 r10'}).find_all('td', {'bgcolor': 'white'})]\n",
    "\n",
    "    try:\n",
    "        childCompany_headers = [item.text for item in \n",
    "                                soup.find('table', {'class': 'b1 p4_6 r10 row_bg_2n row_mouse_over'}).find('tr', {'class': 'bg_h1'}).find_all('th')]\n",
    "        childCompany_rows = [[i.text for i in item.find_all('td')] for item in \n",
    "                            soup.find('table', {'class': 'b1 p4_6 r10 row_bg_2n row_mouse_over'}).find_all('tr', {'align': 'left'})]\n",
    "    except:\n",
    "        childCompany_headers = []\n",
    "        childCompany_rows = []\n",
    "\n",
    "    return keys, values, childCompany_headers, childCompany_rows\n",
    "\n"
   ]
  },
  {
   "cell_type": "code",
   "execution_count": 3,
   "metadata": {},
   "outputs": [],
   "source": [
    "stock_ids = pd.read_csv('data/listed_company.csv', header=None)\n",
    "stock_ids.columns = ['comp']\n",
    "stock_ids = stock_ids['comp'].str.split('　', expand=True)\n",
    "stock_ids.columns = ['id', 'name']\n",
    "stock_ids = stock_ids.id.unique().tolist()\n"
   ]
  },
  {
   "cell_type": "code",
   "execution_count": 69,
   "metadata": {},
   "outputs": [
    {
     "name": "stderr",
     "output_type": "stream",
     "text": [
      "  0%|          | 0/881 [00:00<?, ?it/s]"
     ]
    },
    {
     "name": "stdout",
     "output_type": "stream",
     "text": [
      "155.0.181.254:43496  Fetching  https://goodinfo.tw/tw/BasicInfo.asp?STOCK_ID=1449  timeout:  20\n",
      "retrying:  1\n",
      "155.0.181.254:43496  Fetching  https://goodinfo.tw/tw/BasicInfo.asp?STOCK_ID=1449  timeout:  25\n",
      "retrying:  2\n",
      "155.0.181.254:43496  Fetching  https://goodinfo.tw/tw/BasicInfo.asp?STOCK_ID=1449  timeout:  30\n"
     ]
    },
    {
     "name": "stderr",
     "output_type": "stream",
     "text": [
      "  0%|          | 1/881 [00:53<13:05:12, 53.54s/it]"
     ]
    },
    {
     "name": "stdout",
     "output_type": "stream",
     "text": [
      "Success\n",
      "200.105.215.18:33630  Fetching  https://goodinfo.tw/tw/BasicInfo.asp?STOCK_ID=1451  timeout:  20\n",
      "retrying:  1\n",
      "200.105.215.18:33630  Fetching  https://goodinfo.tw/tw/BasicInfo.asp?STOCK_ID=1451  timeout:  25\n"
     ]
    },
    {
     "name": "stderr",
     "output_type": "stream",
     "text": [
      "  0%|          | 2/881 [01:04<6:58:21, 28.56s/it] "
     ]
    },
    {
     "name": "stdout",
     "output_type": "stream",
     "text": [
      "Success\n",
      "47.242.168.144:59394  Fetching  https://goodinfo.tw/tw/BasicInfo.asp?STOCK_ID=1452  timeout:  20\n"
     ]
    },
    {
     "name": "stderr",
     "output_type": "stream",
     "text": [
      "  0%|          | 3/881 [01:05<3:53:03, 15.93s/it]"
     ]
    },
    {
     "name": "stdout",
     "output_type": "stream",
     "text": [
      "Success\n",
      "185.201.88.128:6969  Fetching  https://goodinfo.tw/tw/BasicInfo.asp?STOCK_ID=1453  timeout:  20\n",
      "retrying:  1\n",
      "185.201.88.128:6969  Fetching  https://goodinfo.tw/tw/BasicInfo.asp?STOCK_ID=1453  timeout:  25\n",
      "retrying:  2\n",
      "185.201.88.128:6969  Fetching  https://goodinfo.tw/tw/BasicInfo.asp?STOCK_ID=1453  timeout:  30\n",
      "retrying:  3\n",
      "185.201.88.128:6969  Fetching  https://goodinfo.tw/tw/BasicInfo.asp?STOCK_ID=1453  timeout:  20\n",
      "retrying:  1\n",
      "185.201.88.128:6969  Fetching  https://goodinfo.tw/tw/BasicInfo.asp?STOCK_ID=1453  timeout:  25\n",
      "retrying:  2\n",
      "185.201.88.128:6969  Fetching  https://goodinfo.tw/tw/BasicInfo.asp?STOCK_ID=1453  timeout:  30\n",
      "retrying:  3\n",
      "47.242.168.144:59394  Fetching  https://goodinfo.tw/tw/BasicInfo.asp?STOCK_ID=1453  timeout:  20\n"
     ]
    },
    {
     "name": "stderr",
     "output_type": "stream",
     "text": [
      "  0%|          | 4/881 [03:37<17:00:44, 69.83s/it]"
     ]
    },
    {
     "name": "stdout",
     "output_type": "stream",
     "text": [
      "Success\n",
      "158.101.146.40:59394  Fetching  https://goodinfo.tw/tw/BasicInfo.asp?STOCK_ID=1454  timeout:  20\n",
      "retrying:  1\n",
      "158.101.146.40:59394  Fetching  https://goodinfo.tw/tw/BasicInfo.asp?STOCK_ID=1454  timeout:  25\n",
      "retrying:  2\n",
      "158.101.146.40:59394  Fetching  https://goodinfo.tw/tw/BasicInfo.asp?STOCK_ID=1454  timeout:  30\n",
      "retrying:  3\n",
      "158.101.146.40:59394  Fetching  https://goodinfo.tw/tw/BasicInfo.asp?STOCK_ID=1454  timeout:  20\n",
      "retrying:  1\n",
      "158.101.146.40:59394  Fetching  https://goodinfo.tw/tw/BasicInfo.asp?STOCK_ID=1454  timeout:  25\n",
      "retrying:  2\n",
      "158.101.146.40:59394  Fetching  https://goodinfo.tw/tw/BasicInfo.asp?STOCK_ID=1454  timeout:  30\n",
      "retrying:  3\n",
      "185.201.88.128:6969  Fetching  https://goodinfo.tw/tw/BasicInfo.asp?STOCK_ID=1454  timeout:  20\n",
      "retrying:  1\n",
      "185.201.88.128:6969  Fetching  https://goodinfo.tw/tw/BasicInfo.asp?STOCK_ID=1454  timeout:  25\n",
      "retrying:  2\n",
      "185.201.88.128:6969  Fetching  https://goodinfo.tw/tw/BasicInfo.asp?STOCK_ID=1454  timeout:  30\n"
     ]
    },
    {
     "name": "stderr",
     "output_type": "stream",
     "text": [
      "  1%|          | 5/881 [07:03<28:52:02, 118.63s/it]"
     ]
    },
    {
     "name": "stdout",
     "output_type": "stream",
     "text": [
      "Success\n",
      "185.201.88.128:6969  Fetching  https://goodinfo.tw/tw/BasicInfo.asp?STOCK_ID=1455  timeout:  20\n",
      "retrying:  1\n",
      "185.201.88.128:6969  Fetching  https://goodinfo.tw/tw/BasicInfo.asp?STOCK_ID=1455  timeout:  25\n",
      "retrying:  2\n",
      "185.201.88.128:6969  Fetching  https://goodinfo.tw/tw/BasicInfo.asp?STOCK_ID=1455  timeout:  30\n",
      "retrying:  3\n",
      "200.105.215.18:33630  Fetching  https://goodinfo.tw/tw/BasicInfo.asp?STOCK_ID=1455  timeout:  20\n",
      "retrying:  1\n",
      "200.105.215.18:33630  Fetching  https://goodinfo.tw/tw/BasicInfo.asp?STOCK_ID=1455  timeout:  25\n"
     ]
    },
    {
     "name": "stderr",
     "output_type": "stream",
     "text": [
      "  1%|          | 6/881 [08:50<27:52:55, 114.72s/it]"
     ]
    },
    {
     "name": "stdout",
     "output_type": "stream",
     "text": [
      "Success\n",
      "200.105.215.18:33630  Fetching  https://goodinfo.tw/tw/BasicInfo.asp?STOCK_ID=1456  timeout:  20\n"
     ]
    },
    {
     "name": "stderr",
     "output_type": "stream",
     "text": [
      "  1%|          | 7/881 [08:55<19:08:27, 78.84s/it] "
     ]
    },
    {
     "name": "stdout",
     "output_type": "stream",
     "text": [
      "Success\n",
      "185.201.88.128:6969  Fetching  https://goodinfo.tw/tw/BasicInfo.asp?STOCK_ID=1457  timeout:  20\n",
      "retrying:  1\n",
      "185.201.88.128:6969  Fetching  https://goodinfo.tw/tw/BasicInfo.asp?STOCK_ID=1457  timeout:  25\n",
      "retrying:  2\n",
      "185.201.88.128:6969  Fetching  https://goodinfo.tw/tw/BasicInfo.asp?STOCK_ID=1457  timeout:  30\n",
      "retrying:  3\n",
      "200.105.215.18:33630  Fetching  https://goodinfo.tw/tw/BasicInfo.asp?STOCK_ID=1457  timeout:  20\n",
      "retrying:  1\n",
      "200.105.215.18:33630  Fetching  https://goodinfo.tw/tw/BasicInfo.asp?STOCK_ID=1457  timeout:  25\n"
     ]
    },
    {
     "name": "stderr",
     "output_type": "stream",
     "text": [
      "  1%|          | 8/881 [10:26<20:03:46, 82.73s/it]"
     ]
    },
    {
     "name": "stdout",
     "output_type": "stream",
     "text": [
      "Success\n",
      "158.101.146.40:59394  Fetching  https://goodinfo.tw/tw/BasicInfo.asp?STOCK_ID=1459  timeout:  20\n",
      "retrying:  1\n",
      "158.101.146.40:59394  Fetching  https://goodinfo.tw/tw/BasicInfo.asp?STOCK_ID=1459  timeout:  25\n",
      "retrying:  2\n",
      "158.101.146.40:59394  Fetching  https://goodinfo.tw/tw/BasicInfo.asp?STOCK_ID=1459  timeout:  30\n",
      "retrying:  3\n",
      "185.201.88.128:6969  Fetching  https://goodinfo.tw/tw/BasicInfo.asp?STOCK_ID=1459  timeout:  20\n",
      "retrying:  1\n",
      "185.201.88.128:6969  Fetching  https://goodinfo.tw/tw/BasicInfo.asp?STOCK_ID=1459  timeout:  25\n",
      "retrying:  2\n",
      "185.201.88.128:6969  Fetching  https://goodinfo.tw/tw/BasicInfo.asp?STOCK_ID=1459  timeout:  30\n",
      "retrying:  3\n",
      "158.101.146.40:59394  Fetching  https://goodinfo.tw/tw/BasicInfo.asp?STOCK_ID=1459  timeout:  20\n",
      "retrying:  1\n",
      "158.101.146.40:59394  Fetching  https://goodinfo.tw/tw/BasicInfo.asp?STOCK_ID=1459  timeout:  25\n",
      "retrying:  2\n",
      "158.101.146.40:59394  Fetching  https://goodinfo.tw/tw/BasicInfo.asp?STOCK_ID=1459  timeout:  30\n",
      "retrying:  3\n",
      "158.101.146.40:59394  Fetching  https://goodinfo.tw/tw/BasicInfo.asp?STOCK_ID=1459  timeout:  20\n",
      "retrying:  1\n",
      "158.101.146.40:59394  Fetching  https://goodinfo.tw/tw/BasicInfo.asp?STOCK_ID=1459  timeout:  25\n",
      "retrying:  2\n",
      "158.101.146.40:59394  Fetching  https://goodinfo.tw/tw/BasicInfo.asp?STOCK_ID=1459  timeout:  30\n",
      "retrying:  3\n",
      "158.101.146.40:59394  Fetching  https://goodinfo.tw/tw/BasicInfo.asp?STOCK_ID=1459  timeout:  20\n",
      "retrying:  1\n",
      "158.101.146.40:59394  Fetching  https://goodinfo.tw/tw/BasicInfo.asp?STOCK_ID=1459  timeout:  25\n",
      "retrying:  2\n",
      "158.101.146.40:59394  Fetching  https://goodinfo.tw/tw/BasicInfo.asp?STOCK_ID=1459  timeout:  30\n"
     ]
    },
    {
     "name": "stderr",
     "output_type": "stream",
     "text": [
      "  1%|          | 9/881 [16:41<42:11:42, 174.20s/it]"
     ]
    },
    {
     "name": "stdout",
     "output_type": "stream",
     "text": [
      "retrying:  3\n",
      "47.242.168.144:59394  Fetching  https://goodinfo.tw/tw/BasicInfo.asp?STOCK_ID=1460  timeout:  20\n",
      "retrying:  1\n",
      "47.242.168.144:59394  Fetching  https://goodinfo.tw/tw/BasicInfo.asp?STOCK_ID=1460  timeout:  25\n",
      "retrying:  2\n",
      "47.242.168.144:59394  Fetching  https://goodinfo.tw/tw/BasicInfo.asp?STOCK_ID=1460  timeout:  30\n",
      "retrying:  3\n",
      "200.105.215.18:33630  Fetching  https://goodinfo.tw/tw/BasicInfo.asp?STOCK_ID=1460  timeout:  20\n"
     ]
    },
    {
     "name": "stderr",
     "output_type": "stream",
     "text": [
      "  1%|          | 10/881 [17:12<31:27:04, 129.99s/it]"
     ]
    },
    {
     "name": "stdout",
     "output_type": "stream",
     "text": [
      "Success\n",
      "158.101.146.40:59394  Fetching  https://goodinfo.tw/tw/BasicInfo.asp?STOCK_ID=1463  timeout:  20\n",
      "retrying:  1\n",
      "158.101.146.40:59394  Fetching  https://goodinfo.tw/tw/BasicInfo.asp?STOCK_ID=1463  timeout:  25\n",
      "retrying:  2\n",
      "158.101.146.40:59394  Fetching  https://goodinfo.tw/tw/BasicInfo.asp?STOCK_ID=1463  timeout:  30\n",
      "retrying:  3\n",
      "155.0.181.254:43496  Fetching  https://goodinfo.tw/tw/BasicInfo.asp?STOCK_ID=1463  timeout:  20\n"
     ]
    },
    {
     "name": "stderr",
     "output_type": "stream",
     "text": [
      "  1%|          | 11/881 [18:33<27:47:55, 115.03s/it]"
     ]
    },
    {
     "name": "stdout",
     "output_type": "stream",
     "text": [
      "Success\n",
      "185.201.88.128:6969  Fetching  https://goodinfo.tw/tw/BasicInfo.asp?STOCK_ID=1464  timeout:  20\n",
      "retrying:  1\n",
      "185.201.88.128:6969  Fetching  https://goodinfo.tw/tw/BasicInfo.asp?STOCK_ID=1464  timeout:  25\n",
      "retrying:  2\n",
      "185.201.88.128:6969  Fetching  https://goodinfo.tw/tw/BasicInfo.asp?STOCK_ID=1464  timeout:  30\n"
     ]
    },
    {
     "name": "stderr",
     "output_type": "stream",
     "text": [
      "  1%|▏         | 12/881 [19:40<24:15:20, 100.48s/it]"
     ]
    },
    {
     "name": "stdout",
     "output_type": "stream",
     "text": [
      "Success\n",
      "158.101.146.40:59394  Fetching  https://goodinfo.tw/tw/BasicInfo.asp?STOCK_ID=1465  timeout:  20\n",
      "retrying:  1\n",
      "158.101.146.40:59394  Fetching  https://goodinfo.tw/tw/BasicInfo.asp?STOCK_ID=1465  timeout:  25\n",
      "retrying:  2\n",
      "158.101.146.40:59394  Fetching  https://goodinfo.tw/tw/BasicInfo.asp?STOCK_ID=1465  timeout:  30\n",
      "retrying:  3\n",
      "155.0.181.254:43496  Fetching  https://goodinfo.tw/tw/BasicInfo.asp?STOCK_ID=1465  timeout:  20\n"
     ]
    },
    {
     "name": "stderr",
     "output_type": "stream",
     "text": [
      "  1%|▏         | 13/881 [21:05<23:02:18, 95.55s/it] "
     ]
    },
    {
     "name": "stdout",
     "output_type": "stream",
     "text": [
      "Success\n",
      "47.242.168.144:59394  Fetching  https://goodinfo.tw/tw/BasicInfo.asp?STOCK_ID=1466  timeout:  20\n",
      "retrying:  1\n",
      "47.242.168.144:59394  Fetching  https://goodinfo.tw/tw/BasicInfo.asp?STOCK_ID=1466  timeout:  25\n",
      "retrying:  2\n",
      "47.242.168.144:59394  Fetching  https://goodinfo.tw/tw/BasicInfo.asp?STOCK_ID=1466  timeout:  30\n"
     ]
    },
    {
     "name": "stderr",
     "output_type": "stream",
     "text": [
      "  2%|▏         | 14/881 [22:06<20:30:48, 85.18s/it]"
     ]
    },
    {
     "name": "stdout",
     "output_type": "stream",
     "text": [
      "Success\n",
      "158.101.146.40:59394  Fetching  https://goodinfo.tw/tw/BasicInfo.asp?STOCK_ID=1467  timeout:  20\n",
      "retrying:  1\n",
      "158.101.146.40:59394  Fetching  https://goodinfo.tw/tw/BasicInfo.asp?STOCK_ID=1467  timeout:  25\n",
      "retrying:  2\n",
      "158.101.146.40:59394  Fetching  https://goodinfo.tw/tw/BasicInfo.asp?STOCK_ID=1467  timeout:  30\n",
      "retrying:  3\n",
      "200.105.215.18:33630  Fetching  https://goodinfo.tw/tw/BasicInfo.asp?STOCK_ID=1467  timeout:  20\n",
      "retrying:  1\n",
      "200.105.215.18:33630  Fetching  https://goodinfo.tw/tw/BasicInfo.asp?STOCK_ID=1467  timeout:  25\n",
      "retrying:  2\n",
      "200.105.215.18:33630  Fetching  https://goodinfo.tw/tw/BasicInfo.asp?STOCK_ID=1467  timeout:  30\n"
     ]
    },
    {
     "name": "stderr",
     "output_type": "stream",
     "text": [
      "  2%|▏         | 15/881 [24:15<23:39:36, 98.36s/it]"
     ]
    },
    {
     "name": "stdout",
     "output_type": "stream",
     "text": [
      "Success\n",
      "158.101.146.40:59394  Fetching  https://goodinfo.tw/tw/BasicInfo.asp?STOCK_ID=1468  timeout:  20\n",
      "retrying:  1\n",
      "158.101.146.40:59394  Fetching  https://goodinfo.tw/tw/BasicInfo.asp?STOCK_ID=1468  timeout:  25\n",
      "retrying:  2\n",
      "158.101.146.40:59394  Fetching  https://goodinfo.tw/tw/BasicInfo.asp?STOCK_ID=1468  timeout:  30\n",
      "retrying:  3\n",
      "158.101.146.40:59394  Fetching  https://goodinfo.tw/tw/BasicInfo.asp?STOCK_ID=1468  timeout:  20\n",
      "retrying:  1\n",
      "158.101.146.40:59394  Fetching  https://goodinfo.tw/tw/BasicInfo.asp?STOCK_ID=1468  timeout:  25\n",
      "retrying:  2\n",
      "158.101.146.40:59394  Fetching  https://goodinfo.tw/tw/BasicInfo.asp?STOCK_ID=1468  timeout:  30\n",
      "retrying:  3\n",
      "200.105.215.18:33630  Fetching  https://goodinfo.tw/tw/BasicInfo.asp?STOCK_ID=1468  timeout:  20\n"
     ]
    },
    {
     "name": "stderr",
     "output_type": "stream",
     "text": [
      "  2%|▏         | 16/881 [26:57<28:17:00, 117.71s/it]"
     ]
    },
    {
     "name": "stdout",
     "output_type": "stream",
     "text": [
      "Success\n",
      "158.101.146.40:59394  Fetching  https://goodinfo.tw/tw/BasicInfo.asp?STOCK_ID=1470  timeout:  20\n",
      "retrying:  1\n",
      "158.101.146.40:59394  Fetching  https://goodinfo.tw/tw/BasicInfo.asp?STOCK_ID=1470  timeout:  25\n",
      "retrying:  2\n",
      "158.101.146.40:59394  Fetching  https://goodinfo.tw/tw/BasicInfo.asp?STOCK_ID=1470  timeout:  30\n",
      "retrying:  3\n",
      "47.242.168.144:59394  Fetching  https://goodinfo.tw/tw/BasicInfo.asp?STOCK_ID=1470  timeout:  20\n",
      "retrying:  1\n",
      "47.242.168.144:59394  Fetching  https://goodinfo.tw/tw/BasicInfo.asp?STOCK_ID=1470  timeout:  25\n",
      "retrying:  2\n",
      "47.242.168.144:59394  Fetching  https://goodinfo.tw/tw/BasicInfo.asp?STOCK_ID=1470  timeout:  30\n",
      "retrying:  3\n",
      "47.242.168.144:59394  Fetching  https://goodinfo.tw/tw/BasicInfo.asp?STOCK_ID=1470  timeout:  20\n",
      "retrying:  1\n",
      "47.242.168.144:59394  Fetching  https://goodinfo.tw/tw/BasicInfo.asp?STOCK_ID=1470  timeout:  25\n",
      "retrying:  2\n",
      "47.242.168.144:59394  Fetching  https://goodinfo.tw/tw/BasicInfo.asp?STOCK_ID=1470  timeout:  30\n"
     ]
    },
    {
     "name": "stderr",
     "output_type": "stream",
     "text": [
      "  2%|▏         | 17/881 [29:04<28:52:37, 120.32s/it]"
     ]
    },
    {
     "name": "stdout",
     "output_type": "stream",
     "text": [
      "Success\n",
      "158.101.146.40:59394  Fetching  https://goodinfo.tw/tw/BasicInfo.asp?STOCK_ID=1471  timeout:  20\n",
      "retrying:  1\n",
      "158.101.146.40:59394  Fetching  https://goodinfo.tw/tw/BasicInfo.asp?STOCK_ID=1471  timeout:  25\n",
      "retrying:  2\n",
      "158.101.146.40:59394  Fetching  https://goodinfo.tw/tw/BasicInfo.asp?STOCK_ID=1471  timeout:  30\n",
      "retrying:  3\n",
      "158.101.146.40:59394  Fetching  https://goodinfo.tw/tw/BasicInfo.asp?STOCK_ID=1471  timeout:  20\n",
      "retrying:  1\n",
      "158.101.146.40:59394  Fetching  https://goodinfo.tw/tw/BasicInfo.asp?STOCK_ID=1471  timeout:  25\n",
      "retrying:  2\n",
      "158.101.146.40:59394  Fetching  https://goodinfo.tw/tw/BasicInfo.asp?STOCK_ID=1471  timeout:  30\n",
      "retrying:  3\n",
      "158.101.146.40:59394  Fetching  https://goodinfo.tw/tw/BasicInfo.asp?STOCK_ID=1471  timeout:  20\n",
      "retrying:  1\n",
      "158.101.146.40:59394  Fetching  https://goodinfo.tw/tw/BasicInfo.asp?STOCK_ID=1471  timeout:  25\n",
      "retrying:  2\n",
      "158.101.146.40:59394  Fetching  https://goodinfo.tw/tw/BasicInfo.asp?STOCK_ID=1471  timeout:  30\n",
      "retrying:  3\n",
      "155.0.181.254:43496  Fetching  https://goodinfo.tw/tw/BasicInfo.asp?STOCK_ID=1471  timeout:  20\n",
      "retrying:  1\n",
      "155.0.181.254:43496  Fetching  https://goodinfo.tw/tw/BasicInfo.asp?STOCK_ID=1471  timeout:  25\n"
     ]
    },
    {
     "name": "stderr",
     "output_type": "stream",
     "text": [
      "  2%|▏         | 18/881 [33:15<38:16:13, 159.65s/it]"
     ]
    },
    {
     "name": "stdout",
     "output_type": "stream",
     "text": [
      "Success\n",
      "185.201.88.128:6969  Fetching  https://goodinfo.tw/tw/BasicInfo.asp?STOCK_ID=1472  timeout:  20\n",
      "retrying:  1\n",
      "185.201.88.128:6969  Fetching  https://goodinfo.tw/tw/BasicInfo.asp?STOCK_ID=1472  timeout:  25\n",
      "retrying:  2\n",
      "185.201.88.128:6969  Fetching  https://goodinfo.tw/tw/BasicInfo.asp?STOCK_ID=1472  timeout:  30\n"
     ]
    },
    {
     "name": "stderr",
     "output_type": "stream",
     "text": [
      "  2%|▏         | 19/881 [34:21<31:29:15, 131.50s/it]"
     ]
    },
    {
     "name": "stdout",
     "output_type": "stream",
     "text": [
      "Success\n",
      "200.105.215.18:33630  Fetching  https://goodinfo.tw/tw/BasicInfo.asp?STOCK_ID=1473  timeout:  20\n"
     ]
    },
    {
     "name": "stderr",
     "output_type": "stream",
     "text": [
      "  2%|▏         | 20/881 [34:30<22:39:32, 94.74s/it] "
     ]
    },
    {
     "name": "stdout",
     "output_type": "stream",
     "text": [
      "Success\n",
      "185.201.88.128:6969  Fetching  https://goodinfo.tw/tw/BasicInfo.asp?STOCK_ID=1474  timeout:  20\n"
     ]
    },
    {
     "name": "stderr",
     "output_type": "stream",
     "text": [
      "  2%|▏         | 21/881 [34:40<16:32:36, 69.25s/it]"
     ]
    },
    {
     "name": "stdout",
     "output_type": "stream",
     "text": [
      "Success\n",
      "47.242.168.144:59394  Fetching  https://goodinfo.tw/tw/BasicInfo.asp?STOCK_ID=1475  timeout:  20\n"
     ]
    },
    {
     "name": "stderr",
     "output_type": "stream",
     "text": [
      "  2%|▏         | 22/881 [34:44<11:53:33, 49.84s/it]"
     ]
    },
    {
     "name": "stdout",
     "output_type": "stream",
     "text": [
      "Success\n",
      "47.242.168.144:59394  Fetching  https://goodinfo.tw/tw/BasicInfo.asp?STOCK_ID=1476  timeout:  20\n"
     ]
    },
    {
     "name": "stderr",
     "output_type": "stream",
     "text": [
      "  3%|▎         | 23/881 [34:46<8:26:37, 35.43s/it] "
     ]
    },
    {
     "name": "stdout",
     "output_type": "stream",
     "text": [
      "Success\n",
      "200.105.215.18:33630  Fetching  https://goodinfo.tw/tw/BasicInfo.asp?STOCK_ID=1477  timeout:  20\n"
     ]
    },
    {
     "name": "stderr",
     "output_type": "stream",
     "text": [
      "  3%|▎         | 24/881 [34:55<6:33:44, 27.57s/it]"
     ]
    },
    {
     "name": "stdout",
     "output_type": "stream",
     "text": [
      "Success\n",
      "158.101.146.40:59394  Fetching  https://goodinfo.tw/tw/BasicInfo.asp?STOCK_ID=1503  timeout:  20\n",
      "retrying:  1\n",
      "158.101.146.40:59394  Fetching  https://goodinfo.tw/tw/BasicInfo.asp?STOCK_ID=1503  timeout:  25\n",
      "retrying:  2\n",
      "158.101.146.40:59394  Fetching  https://goodinfo.tw/tw/BasicInfo.asp?STOCK_ID=1503  timeout:  30\n",
      "retrying:  3\n",
      "200.105.215.18:33630  Fetching  https://goodinfo.tw/tw/BasicInfo.asp?STOCK_ID=1503  timeout:  20\n"
     ]
    },
    {
     "name": "stderr",
     "output_type": "stream",
     "text": [
      "  3%|▎         | 25/881 [36:22<10:47:08, 45.36s/it]"
     ]
    },
    {
     "name": "stdout",
     "output_type": "stream",
     "text": [
      "Success\n",
      "155.0.181.254:43496  Fetching  https://goodinfo.tw/tw/BasicInfo.asp?STOCK_ID=1504  timeout:  20\n",
      "retrying:  1\n",
      "155.0.181.254:43496  Fetching  https://goodinfo.tw/tw/BasicInfo.asp?STOCK_ID=1504  timeout:  25\n"
     ]
    },
    {
     "name": "stderr",
     "output_type": "stream",
     "text": [
      "  3%|▎         | 26/881 [36:58<10:05:47, 42.51s/it]"
     ]
    },
    {
     "name": "stdout",
     "output_type": "stream",
     "text": [
      "Success\n",
      "47.242.168.144:59394  Fetching  https://goodinfo.tw/tw/BasicInfo.asp?STOCK_ID=1506  timeout:  20\n"
     ]
    },
    {
     "name": "stderr",
     "output_type": "stream",
     "text": [
      "  3%|▎         | 27/881 [36:59<7:05:54, 29.92s/it] "
     ]
    },
    {
     "name": "stdout",
     "output_type": "stream",
     "text": [
      "Success\n",
      "158.101.146.40:59394  Fetching  https://goodinfo.tw/tw/BasicInfo.asp?STOCK_ID=1507  timeout:  20\n",
      "retrying:  1\n",
      "158.101.146.40:59394  Fetching  https://goodinfo.tw/tw/BasicInfo.asp?STOCK_ID=1507  timeout:  25\n",
      "retrying:  2\n",
      "158.101.146.40:59394  Fetching  https://goodinfo.tw/tw/BasicInfo.asp?STOCK_ID=1507  timeout:  30\n",
      "retrying:  3\n",
      "200.105.215.18:33630  Fetching  https://goodinfo.tw/tw/BasicInfo.asp?STOCK_ID=1507  timeout:  20\n",
      "retrying:  1\n",
      "200.105.215.18:33630  Fetching  https://goodinfo.tw/tw/BasicInfo.asp?STOCK_ID=1507  timeout:  25\n"
     ]
    },
    {
     "name": "stderr",
     "output_type": "stream",
     "text": [
      "  3%|▎         | 28/881 [38:41<12:14:59, 51.70s/it]"
     ]
    },
    {
     "name": "stdout",
     "output_type": "stream",
     "text": [
      "Success\n",
      "155.0.181.254:43496  Fetching  https://goodinfo.tw/tw/BasicInfo.asp?STOCK_ID=1512  timeout:  20\n"
     ]
    },
    {
     "name": "stderr",
     "output_type": "stream",
     "text": [
      "  3%|▎         | 29/881 [38:50<9:12:27, 38.91s/it] "
     ]
    },
    {
     "name": "stdout",
     "output_type": "stream",
     "text": [
      "Success\n",
      "200.105.215.18:33630  Fetching  https://goodinfo.tw/tw/BasicInfo.asp?STOCK_ID=1513  timeout:  20\n",
      "retrying:  1\n",
      "200.105.215.18:33630  Fetching  https://goodinfo.tw/tw/BasicInfo.asp?STOCK_ID=1513  timeout:  25\n"
     ]
    },
    {
     "name": "stderr",
     "output_type": "stream",
     "text": [
      "  3%|▎         | 30/881 [39:24<8:49:05, 37.30s/it]"
     ]
    },
    {
     "name": "stdout",
     "output_type": "stream",
     "text": [
      "Success\n",
      "185.201.88.128:6969  Fetching  https://goodinfo.tw/tw/BasicInfo.asp?STOCK_ID=1514  timeout:  20\n"
     ]
    },
    {
     "name": "stderr",
     "output_type": "stream",
     "text": [
      "  4%|▎         | 31/881 [39:30<6:34:40, 27.86s/it]"
     ]
    },
    {
     "name": "stdout",
     "output_type": "stream",
     "text": [
      "Success\n",
      "200.105.215.18:33630  Fetching  https://goodinfo.tw/tw/BasicInfo.asp?STOCK_ID=1515  timeout:  20\n",
      "retrying:  1\n",
      "200.105.215.18:33630  Fetching  https://goodinfo.tw/tw/BasicInfo.asp?STOCK_ID=1515  timeout:  25\n"
     ]
    },
    {
     "name": "stderr",
     "output_type": "stream",
     "text": [
      "  4%|▎         | 32/881 [39:49<5:56:27, 25.19s/it]"
     ]
    },
    {
     "name": "stdout",
     "output_type": "stream",
     "text": [
      "Success\n",
      "155.0.181.254:43496  Fetching  https://goodinfo.tw/tw/BasicInfo.asp?STOCK_ID=1516  timeout:  20\n",
      "retrying:  1\n",
      "155.0.181.254:43496  Fetching  https://goodinfo.tw/tw/BasicInfo.asp?STOCK_ID=1516  timeout:  25\n",
      "retrying:  2\n",
      "155.0.181.254:43496  Fetching  https://goodinfo.tw/tw/BasicInfo.asp?STOCK_ID=1516  timeout:  30\n",
      "retrying:  3\n",
      "158.101.146.40:59394  Fetching  https://goodinfo.tw/tw/BasicInfo.asp?STOCK_ID=1516  timeout:  20\n",
      "retrying:  1\n",
      "158.101.146.40:59394  Fetching  https://goodinfo.tw/tw/BasicInfo.asp?STOCK_ID=1516  timeout:  25\n",
      "retrying:  2\n",
      "158.101.146.40:59394  Fetching  https://goodinfo.tw/tw/BasicInfo.asp?STOCK_ID=1516  timeout:  30\n",
      "retrying:  3\n",
      "185.201.88.128:6969  Fetching  https://goodinfo.tw/tw/BasicInfo.asp?STOCK_ID=1516  timeout:  20\n"
     ]
    },
    {
     "name": "stderr",
     "output_type": "stream",
     "text": [
      "  4%|▎         | 33/881 [42:24<15:09:58, 64.39s/it]"
     ]
    },
    {
     "name": "stdout",
     "output_type": "stream",
     "text": [
      "Success\n",
      "185.201.88.128:6969  Fetching  https://goodinfo.tw/tw/BasicInfo.asp?STOCK_ID=1517  timeout:  20\n"
     ]
    },
    {
     "name": "stderr",
     "output_type": "stream",
     "text": [
      "  4%|▍         | 34/881 [42:32<11:07:21, 47.27s/it]"
     ]
    },
    {
     "name": "stdout",
     "output_type": "stream",
     "text": [
      "Success\n",
      "47.242.168.144:59394  Fetching  https://goodinfo.tw/tw/BasicInfo.asp?STOCK_ID=1519  timeout:  20\n"
     ]
    },
    {
     "name": "stderr",
     "output_type": "stream",
     "text": [
      "  4%|▍         | 35/881 [42:33<7:53:28, 33.58s/it] "
     ]
    },
    {
     "name": "stdout",
     "output_type": "stream",
     "text": [
      "Success\n",
      "155.0.181.254:43496  Fetching  https://goodinfo.tw/tw/BasicInfo.asp?STOCK_ID=1521  timeout:  20\n"
     ]
    },
    {
     "name": "stderr",
     "output_type": "stream",
     "text": [
      "  4%|▍         | 36/881 [42:43<6:12:07, 26.42s/it]"
     ]
    },
    {
     "name": "stdout",
     "output_type": "stream",
     "text": [
      "Success\n",
      "185.201.88.128:6969  Fetching  https://goodinfo.tw/tw/BasicInfo.asp?STOCK_ID=1522  timeout:  20\n",
      "retrying:  1\n",
      "185.201.88.128:6969  Fetching  https://goodinfo.tw/tw/BasicInfo.asp?STOCK_ID=1522  timeout:  25\n",
      "retrying:  2\n",
      "185.201.88.128:6969  Fetching  https://goodinfo.tw/tw/BasicInfo.asp?STOCK_ID=1522  timeout:  30\n",
      "retrying:  3\n",
      "200.105.215.18:33630  Fetching  https://goodinfo.tw/tw/BasicInfo.asp?STOCK_ID=1522  timeout:  20\n"
     ]
    },
    {
     "name": "stderr",
     "output_type": "stream",
     "text": [
      "  4%|▍         | 37/881 [44:12<10:33:08, 45.01s/it]"
     ]
    },
    {
     "name": "stdout",
     "output_type": "stream",
     "text": [
      "Success\n",
      "158.101.146.40:59394  Fetching  https://goodinfo.tw/tw/BasicInfo.asp?STOCK_ID=1524  timeout:  20\n",
      "retrying:  1\n",
      "158.101.146.40:59394  Fetching  https://goodinfo.tw/tw/BasicInfo.asp?STOCK_ID=1524  timeout:  25\n",
      "retrying:  2\n",
      "158.101.146.40:59394  Fetching  https://goodinfo.tw/tw/BasicInfo.asp?STOCK_ID=1524  timeout:  30\n",
      "retrying:  3\n",
      "158.101.146.40:59394  Fetching  https://goodinfo.tw/tw/BasicInfo.asp?STOCK_ID=1524  timeout:  20\n",
      "retrying:  1\n",
      "158.101.146.40:59394  Fetching  https://goodinfo.tw/tw/BasicInfo.asp?STOCK_ID=1524  timeout:  25\n",
      "retrying:  2\n",
      "158.101.146.40:59394  Fetching  https://goodinfo.tw/tw/BasicInfo.asp?STOCK_ID=1524  timeout:  30\n",
      "retrying:  3\n",
      "185.201.88.128:6969  Fetching  https://goodinfo.tw/tw/BasicInfo.asp?STOCK_ID=1524  timeout:  20\n"
     ]
    },
    {
     "name": "stderr",
     "output_type": "stream",
     "text": [
      "  4%|▍         | 38/881 [46:55<18:52:49, 80.63s/it]"
     ]
    },
    {
     "name": "stdout",
     "output_type": "stream",
     "text": [
      "Success\n",
      "185.201.88.128:6969  Fetching  https://goodinfo.tw/tw/BasicInfo.asp?STOCK_ID=1525  timeout:  20\n",
      "retrying:  1\n",
      "185.201.88.128:6969  Fetching  https://goodinfo.tw/tw/BasicInfo.asp?STOCK_ID=1525  timeout:  25\n",
      "retrying:  2\n",
      "185.201.88.128:6969  Fetching  https://goodinfo.tw/tw/BasicInfo.asp?STOCK_ID=1525  timeout:  30\n",
      "retrying:  3\n",
      "185.201.88.128:6969  Fetching  https://goodinfo.tw/tw/BasicInfo.asp?STOCK_ID=1525  timeout:  20\n",
      "retrying:  1\n",
      "185.201.88.128:6969  Fetching  https://goodinfo.tw/tw/BasicInfo.asp?STOCK_ID=1525  timeout:  25\n",
      "retrying:  2\n",
      "185.201.88.128:6969  Fetching  https://goodinfo.tw/tw/BasicInfo.asp?STOCK_ID=1525  timeout:  30\n",
      "retrying:  3\n",
      "158.101.146.40:59394  Fetching  https://goodinfo.tw/tw/BasicInfo.asp?STOCK_ID=1525  timeout:  20\n",
      "retrying:  1\n",
      "158.101.146.40:59394  Fetching  https://goodinfo.tw/tw/BasicInfo.asp?STOCK_ID=1525  timeout:  25\n",
      "retrying:  2\n",
      "158.101.146.40:59394  Fetching  https://goodinfo.tw/tw/BasicInfo.asp?STOCK_ID=1525  timeout:  30\n",
      "retrying:  3\n",
      "158.101.146.40:59394  Fetching  https://goodinfo.tw/tw/BasicInfo.asp?STOCK_ID=1525  timeout:  20\n",
      "retrying:  1\n",
      "158.101.146.40:59394  Fetching  https://goodinfo.tw/tw/BasicInfo.asp?STOCK_ID=1525  timeout:  25\n",
      "retrying:  2\n",
      "158.101.146.40:59394  Fetching  https://goodinfo.tw/tw/BasicInfo.asp?STOCK_ID=1525  timeout:  30\n",
      "retrying:  3\n",
      "47.242.168.144:59394  Fetching  https://goodinfo.tw/tw/BasicInfo.asp?STOCK_ID=1525  timeout:  20\n",
      "retrying:  1\n",
      "47.242.168.144:59394  Fetching  https://goodinfo.tw/tw/BasicInfo.asp?STOCK_ID=1525  timeout:  25\n",
      "retrying:  2\n",
      "47.242.168.144:59394  Fetching  https://goodinfo.tw/tw/BasicInfo.asp?STOCK_ID=1525  timeout:  30\n"
     ]
    },
    {
     "name": "stderr",
     "output_type": "stream",
     "text": [
      "  4%|▍         | 39/881 [51:58<34:26:21, 147.25s/it]"
     ]
    },
    {
     "name": "stdout",
     "output_type": "stream",
     "text": [
      "Success\n",
      "47.242.168.144:59394  Fetching  https://goodinfo.tw/tw/BasicInfo.asp?STOCK_ID=1526  timeout:  20\n"
     ]
    },
    {
     "name": "stderr",
     "output_type": "stream",
     "text": [
      "  5%|▍         | 40/881 [52:00<24:15:06, 103.81s/it]"
     ]
    },
    {
     "name": "stdout",
     "output_type": "stream",
     "text": [
      "Success\n",
      "155.0.181.254:43496  Fetching  https://goodinfo.tw/tw/BasicInfo.asp?STOCK_ID=1527  timeout:  20\n",
      "retrying:  1\n",
      "155.0.181.254:43496  Fetching  https://goodinfo.tw/tw/BasicInfo.asp?STOCK_ID=1527  timeout:  25\n",
      "retrying:  2\n",
      "155.0.181.254:43496  Fetching  https://goodinfo.tw/tw/BasicInfo.asp?STOCK_ID=1527  timeout:  30\n",
      "retrying:  3\n",
      "158.101.146.40:59394  Fetching  https://goodinfo.tw/tw/BasicInfo.asp?STOCK_ID=1527  timeout:  20\n",
      "retrying:  1\n",
      "158.101.146.40:59394  Fetching  https://goodinfo.tw/tw/BasicInfo.asp?STOCK_ID=1527  timeout:  25\n",
      "retrying:  2\n",
      "158.101.146.40:59394  Fetching  https://goodinfo.tw/tw/BasicInfo.asp?STOCK_ID=1527  timeout:  30\n",
      "retrying:  3\n",
      "155.0.181.254:43496  Fetching  https://goodinfo.tw/tw/BasicInfo.asp?STOCK_ID=1527  timeout:  20\n",
      "retrying:  1\n",
      "155.0.181.254:43496  Fetching  https://goodinfo.tw/tw/BasicInfo.asp?STOCK_ID=1527  timeout:  25\n",
      "retrying:  2\n",
      "155.0.181.254:43496  Fetching  https://goodinfo.tw/tw/BasicInfo.asp?STOCK_ID=1527  timeout:  30\n",
      "retrying:  3\n",
      "200.105.215.18:33630  Fetching  https://goodinfo.tw/tw/BasicInfo.asp?STOCK_ID=1527  timeout:  20\n",
      "retrying:  1\n",
      "200.105.215.18:33630  Fetching  https://goodinfo.tw/tw/BasicInfo.asp?STOCK_ID=1527  timeout:  25\n",
      "retrying:  2\n",
      "200.105.215.18:33630  Fetching  https://goodinfo.tw/tw/BasicInfo.asp?STOCK_ID=1527  timeout:  30\n",
      "retrying:  3\n",
      "47.242.168.144:59394  Fetching  https://goodinfo.tw/tw/BasicInfo.asp?STOCK_ID=1527  timeout:  20\n"
     ]
    },
    {
     "name": "stderr",
     "output_type": "stream",
     "text": [
      "  5%|▍         | 41/881 [57:01<38:01:18, 162.95s/it]"
     ]
    },
    {
     "name": "stdout",
     "output_type": "stream",
     "text": [
      "Success\n",
      "47.242.168.144:59394  Fetching  https://goodinfo.tw/tw/BasicInfo.asp?STOCK_ID=1528  timeout:  20\n"
     ]
    },
    {
     "name": "stderr",
     "output_type": "stream",
     "text": [
      "  5%|▍         | 42/881 [57:03<26:41:41, 114.54s/it]"
     ]
    },
    {
     "name": "stdout",
     "output_type": "stream",
     "text": [
      "Success\n",
      "185.201.88.128:6969  Fetching  https://goodinfo.tw/tw/BasicInfo.asp?STOCK_ID=1529  timeout:  20\n"
     ]
    },
    {
     "name": "stderr",
     "output_type": "stream",
     "text": [
      "  5%|▍         | 43/881 [57:15<19:28:22, 83.65s/it] "
     ]
    },
    {
     "name": "stdout",
     "output_type": "stream",
     "text": [
      "Success\n",
      "185.201.88.128:6969  Fetching  https://goodinfo.tw/tw/BasicInfo.asp?STOCK_ID=1530  timeout:  20\n"
     ]
    },
    {
     "name": "stderr",
     "output_type": "stream",
     "text": [
      "  5%|▍         | 44/881 [57:26<14:24:50, 62.00s/it]"
     ]
    },
    {
     "name": "stdout",
     "output_type": "stream",
     "text": [
      "Success\n",
      "200.105.215.18:33630  Fetching  https://goodinfo.tw/tw/BasicInfo.asp?STOCK_ID=1531  timeout:  20\n"
     ]
    },
    {
     "name": "stderr",
     "output_type": "stream",
     "text": [
      "  5%|▌         | 45/881 [57:50<11:45:41, 50.65s/it]"
     ]
    },
    {
     "name": "stdout",
     "output_type": "stream",
     "text": [
      "Success\n",
      "47.242.168.144:59394  Fetching  https://goodinfo.tw/tw/BasicInfo.asp?STOCK_ID=1532  timeout:  20\n"
     ]
    },
    {
     "name": "stderr",
     "output_type": "stream",
     "text": [
      "  5%|▌         | 46/881 [57:51<8:17:36, 35.76s/it] "
     ]
    },
    {
     "name": "stdout",
     "output_type": "stream",
     "text": [
      "Success\n",
      "155.0.181.254:43496  Fetching  https://goodinfo.tw/tw/BasicInfo.asp?STOCK_ID=1533  timeout:  20\n"
     ]
    },
    {
     "name": "stderr",
     "output_type": "stream",
     "text": [
      "  5%|▌         | 47/881 [57:57<6:13:46, 26.89s/it]"
     ]
    },
    {
     "name": "stdout",
     "output_type": "stream",
     "text": [
      "Success\n",
      "47.242.168.144:59394  Fetching  https://goodinfo.tw/tw/BasicInfo.asp?STOCK_ID=1535  timeout:  20\n"
     ]
    },
    {
     "name": "stderr",
     "output_type": "stream",
     "text": [
      "  5%|▌         | 48/881 [58:14<5:28:57, 23.69s/it]"
     ]
    },
    {
     "name": "stdout",
     "output_type": "stream",
     "text": [
      "Success\n",
      "200.105.215.18:33630  Fetching  https://goodinfo.tw/tw/BasicInfo.asp?STOCK_ID=1536  timeout:  20\n",
      "retrying:  1\n",
      "200.105.215.18:33630  Fetching  https://goodinfo.tw/tw/BasicInfo.asp?STOCK_ID=1536  timeout:  25\n"
     ]
    },
    {
     "name": "stderr",
     "output_type": "stream",
     "text": [
      "  6%|▌         | 49/881 [58:54<6:38:55, 28.77s/it]"
     ]
    },
    {
     "name": "stdout",
     "output_type": "stream",
     "text": [
      "Success\n",
      "158.101.146.40:59394  Fetching  https://goodinfo.tw/tw/BasicInfo.asp?STOCK_ID=1537  timeout:  20\n",
      "retrying:  1\n",
      "158.101.146.40:59394  Fetching  https://goodinfo.tw/tw/BasicInfo.asp?STOCK_ID=1537  timeout:  25\n",
      "retrying:  2\n",
      "158.101.146.40:59394  Fetching  https://goodinfo.tw/tw/BasicInfo.asp?STOCK_ID=1537  timeout:  30\n",
      "retrying:  3\n",
      "155.0.181.254:43496  Fetching  https://goodinfo.tw/tw/BasicInfo.asp?STOCK_ID=1537  timeout:  20\n",
      "retrying:  1\n",
      "155.0.181.254:43496  Fetching  https://goodinfo.tw/tw/BasicInfo.asp?STOCK_ID=1537  timeout:  25\n",
      "retrying:  2\n",
      "155.0.181.254:43496  Fetching  https://goodinfo.tw/tw/BasicInfo.asp?STOCK_ID=1537  timeout:  30\n",
      "retrying:  3\n",
      "200.105.215.18:33630  Fetching  https://goodinfo.tw/tw/BasicInfo.asp?STOCK_ID=1537  timeout:  20\n",
      "retrying:  1\n",
      "200.105.215.18:33630  Fetching  https://goodinfo.tw/tw/BasicInfo.asp?STOCK_ID=1537  timeout:  25\n",
      "retrying:  2\n",
      "200.105.215.18:33630  Fetching  https://goodinfo.tw/tw/BasicInfo.asp?STOCK_ID=1537  timeout:  30\n",
      "retrying:  3\n",
      "200.105.215.18:33630  Fetching  https://goodinfo.tw/tw/BasicInfo.asp?STOCK_ID=1537  timeout:  20\n",
      "retrying:  1\n",
      "200.105.215.18:33630  Fetching  https://goodinfo.tw/tw/BasicInfo.asp?STOCK_ID=1537  timeout:  25\n",
      "retrying:  2\n",
      "200.105.215.18:33630  Fetching  https://goodinfo.tw/tw/BasicInfo.asp?STOCK_ID=1537  timeout:  30\n",
      "retrying:  3\n",
      "200.105.215.18:33630  Fetching  https://goodinfo.tw/tw/BasicInfo.asp?STOCK_ID=1537  timeout:  20\n",
      "retrying:  1\n",
      "200.105.215.18:33630  Fetching  https://goodinfo.tw/tw/BasicInfo.asp?STOCK_ID=1537  timeout:  25\n",
      "retrying:  2\n",
      "200.105.215.18:33630  Fetching  https://goodinfo.tw/tw/BasicInfo.asp?STOCK_ID=1537  timeout:  30\n"
     ]
    },
    {
     "name": "stderr",
     "output_type": "stream",
     "text": [
      "  6%|▌         | 50/881 [1:05:16<31:03:03, 134.52s/it]"
     ]
    },
    {
     "name": "stdout",
     "output_type": "stream",
     "text": [
      "retrying:  3\n",
      "47.242.168.144:59394  Fetching  https://goodinfo.tw/tw/BasicInfo.asp?STOCK_ID=1538  timeout:  20\n"
     ]
    },
    {
     "name": "stderr",
     "output_type": "stream",
     "text": [
      "  6%|▌         | 51/881 [1:05:18<21:52:37, 94.89s/it] "
     ]
    },
    {
     "name": "stdout",
     "output_type": "stream",
     "text": [
      "Success\n",
      "47.242.168.144:59394  Fetching  https://goodinfo.tw/tw/BasicInfo.asp?STOCK_ID=1539  timeout:  20\n"
     ]
    },
    {
     "name": "stderr",
     "output_type": "stream",
     "text": [
      "  6%|▌         | 52/881 [1:05:36<16:32:06, 71.80s/it]"
     ]
    },
    {
     "name": "stdout",
     "output_type": "stream",
     "text": [
      "Success\n",
      "158.101.146.40:59394  Fetching  https://goodinfo.tw/tw/BasicInfo.asp?STOCK_ID=1540  timeout:  20\n",
      "retrying:  1\n",
      "158.101.146.40:59394  Fetching  https://goodinfo.tw/tw/BasicInfo.asp?STOCK_ID=1540  timeout:  25\n",
      "retrying:  2\n",
      "158.101.146.40:59394  Fetching  https://goodinfo.tw/tw/BasicInfo.asp?STOCK_ID=1540  timeout:  30\n",
      "retrying:  3\n",
      "200.105.215.18:33630  Fetching  https://goodinfo.tw/tw/BasicInfo.asp?STOCK_ID=1540  timeout:  20\n",
      "retrying:  1\n",
      "200.105.215.18:33630  Fetching  https://goodinfo.tw/tw/BasicInfo.asp?STOCK_ID=1540  timeout:  25\n",
      "retrying:  2\n",
      "200.105.215.18:33630  Fetching  https://goodinfo.tw/tw/BasicInfo.asp?STOCK_ID=1540  timeout:  30\n",
      "retrying:  3\n",
      "158.101.146.40:59394  Fetching  https://goodinfo.tw/tw/BasicInfo.asp?STOCK_ID=1540  timeout:  20\n",
      "retrying:  1\n",
      "158.101.146.40:59394  Fetching  https://goodinfo.tw/tw/BasicInfo.asp?STOCK_ID=1540  timeout:  25\n",
      "retrying:  2\n",
      "158.101.146.40:59394  Fetching  https://goodinfo.tw/tw/BasicInfo.asp?STOCK_ID=1540  timeout:  30\n",
      "retrying:  3\n",
      "158.101.146.40:59394  Fetching  https://goodinfo.tw/tw/BasicInfo.asp?STOCK_ID=1540  timeout:  20\n",
      "retrying:  1\n",
      "158.101.146.40:59394  Fetching  https://goodinfo.tw/tw/BasicInfo.asp?STOCK_ID=1540  timeout:  25\n",
      "retrying:  2\n",
      "158.101.146.40:59394  Fetching  https://goodinfo.tw/tw/BasicInfo.asp?STOCK_ID=1540  timeout:  30\n",
      "retrying:  3\n",
      "47.242.168.144:59394  Fetching  https://goodinfo.tw/tw/BasicInfo.asp?STOCK_ID=1540  timeout:  20\n"
     ]
    },
    {
     "name": "stderr",
     "output_type": "stream",
     "text": [
      "  6%|▌         | 53/881 [1:11:10<34:37:25, 150.54s/it]"
     ]
    },
    {
     "name": "stdout",
     "output_type": "stream",
     "text": [
      "Success\n",
      "47.242.168.144:59394  Fetching  https://goodinfo.tw/tw/BasicInfo.asp?STOCK_ID=1541  timeout:  20\n"
     ]
    },
    {
     "name": "stderr",
     "output_type": "stream",
     "text": [
      "  6%|▌         | 54/881 [1:11:14<24:29:30, 106.61s/it]"
     ]
    },
    {
     "name": "stdout",
     "output_type": "stream",
     "text": [
      "Success\n",
      "47.242.168.144:59394  Fetching  https://goodinfo.tw/tw/BasicInfo.asp?STOCK_ID=1558  timeout:  20\n"
     ]
    },
    {
     "name": "stderr",
     "output_type": "stream",
     "text": [
      "  6%|▌         | 55/881 [1:11:18<17:21:51, 75.68s/it] "
     ]
    },
    {
     "name": "stdout",
     "output_type": "stream",
     "text": [
      "Success\n",
      "47.242.168.144:59394  Fetching  https://goodinfo.tw/tw/BasicInfo.asp?STOCK_ID=1560  timeout:  20\n",
      "retrying:  1\n",
      "47.242.168.144:59394  Fetching  https://goodinfo.tw/tw/BasicInfo.asp?STOCK_ID=1560  timeout:  25\n"
     ]
    },
    {
     "name": "stderr",
     "output_type": "stream",
     "text": [
      "  6%|▋         | 56/881 [1:11:22<12:24:09, 54.12s/it]"
     ]
    },
    {
     "name": "stdout",
     "output_type": "stream",
     "text": [
      "Success\n",
      "185.201.88.128:6969  Fetching  https://goodinfo.tw/tw/BasicInfo.asp?STOCK_ID=1568  timeout:  20\n",
      "retrying:  1\n",
      "185.201.88.128:6969  Fetching  https://goodinfo.tw/tw/BasicInfo.asp?STOCK_ID=1568  timeout:  25\n",
      "retrying:  2\n",
      "185.201.88.128:6969  Fetching  https://goodinfo.tw/tw/BasicInfo.asp?STOCK_ID=1568  timeout:  30\n",
      "retrying:  3\n",
      "185.201.88.128:6969  Fetching  https://goodinfo.tw/tw/BasicInfo.asp?STOCK_ID=1568  timeout:  20\n",
      "retrying:  1\n",
      "185.201.88.128:6969  Fetching  https://goodinfo.tw/tw/BasicInfo.asp?STOCK_ID=1568  timeout:  25\n",
      "retrying:  2\n",
      "185.201.88.128:6969  Fetching  https://goodinfo.tw/tw/BasicInfo.asp?STOCK_ID=1568  timeout:  30\n",
      "retrying:  3\n",
      "47.242.168.144:59394  Fetching  https://goodinfo.tw/tw/BasicInfo.asp?STOCK_ID=1568  timeout:  20\n"
     ]
    },
    {
     "name": "stderr",
     "output_type": "stream",
     "text": [
      "  6%|▋         | 57/881 [1:13:52<19:01:31, 83.12s/it]"
     ]
    },
    {
     "name": "stdout",
     "output_type": "stream",
     "text": [
      "Success\n",
      "155.0.181.254:43496  Fetching  https://goodinfo.tw/tw/BasicInfo.asp?STOCK_ID=1582  timeout:  20\n"
     ]
    },
    {
     "name": "stderr",
     "output_type": "stream",
     "text": [
      "  7%|▋         | 58/881 [1:14:13<14:44:27, 64.48s/it]"
     ]
    },
    {
     "name": "stdout",
     "output_type": "stream",
     "text": [
      "Success\n",
      "47.242.168.144:59394  Fetching  https://goodinfo.tw/tw/BasicInfo.asp?STOCK_ID=1583  timeout:  20\n",
      "retrying:  1\n",
      "47.242.168.144:59394  Fetching  https://goodinfo.tw/tw/BasicInfo.asp?STOCK_ID=1583  timeout:  25\n",
      "retrying:  2\n",
      "47.242.168.144:59394  Fetching  https://goodinfo.tw/tw/BasicInfo.asp?STOCK_ID=1583  timeout:  30\n"
     ]
    },
    {
     "name": "stderr",
     "output_type": "stream",
     "text": [
      "  7%|▋         | 59/881 [1:14:54<13:04:30, 57.26s/it]"
     ]
    },
    {
     "name": "stdout",
     "output_type": "stream",
     "text": [
      "Success\n",
      "200.105.215.18:33630  Fetching  https://goodinfo.tw/tw/BasicInfo.asp?STOCK_ID=1587  timeout:  20\n",
      "retrying:  1\n",
      "200.105.215.18:33630  Fetching  https://goodinfo.tw/tw/BasicInfo.asp?STOCK_ID=1587  timeout:  25\n",
      "retrying:  2\n",
      "200.105.215.18:33630  Fetching  https://goodinfo.tw/tw/BasicInfo.asp?STOCK_ID=1587  timeout:  30\n",
      "retrying:  3\n",
      "155.0.181.254:43496  Fetching  https://goodinfo.tw/tw/BasicInfo.asp?STOCK_ID=1587  timeout:  20\n",
      "retrying:  1\n",
      "155.0.181.254:43496  Fetching  https://goodinfo.tw/tw/BasicInfo.asp?STOCK_ID=1587  timeout:  25\n",
      "retrying:  2\n",
      "155.0.181.254:43496  Fetching  https://goodinfo.tw/tw/BasicInfo.asp?STOCK_ID=1587  timeout:  30\n"
     ]
    },
    {
     "name": "stderr",
     "output_type": "stream",
     "text": [
      "  7%|▋         | 60/881 [1:17:41<20:36:32, 90.37s/it]"
     ]
    },
    {
     "name": "stdout",
     "output_type": "stream",
     "text": [
      "Success\n",
      "158.101.146.40:59394  Fetching  https://goodinfo.tw/tw/BasicInfo.asp?STOCK_ID=1589  timeout:  20\n",
      "retrying:  1\n",
      "158.101.146.40:59394  Fetching  https://goodinfo.tw/tw/BasicInfo.asp?STOCK_ID=1589  timeout:  25\n",
      "retrying:  2\n",
      "158.101.146.40:59394  Fetching  https://goodinfo.tw/tw/BasicInfo.asp?STOCK_ID=1589  timeout:  30\n",
      "retrying:  3\n",
      "158.101.146.40:59394  Fetching  https://goodinfo.tw/tw/BasicInfo.asp?STOCK_ID=1589  timeout:  20\n",
      "retrying:  1\n",
      "158.101.146.40:59394  Fetching  https://goodinfo.tw/tw/BasicInfo.asp?STOCK_ID=1589  timeout:  25\n",
      "retrying:  2\n",
      "158.101.146.40:59394  Fetching  https://goodinfo.tw/tw/BasicInfo.asp?STOCK_ID=1589  timeout:  30\n",
      "retrying:  3\n",
      "155.0.181.254:43496  Fetching  https://goodinfo.tw/tw/BasicInfo.asp?STOCK_ID=1589  timeout:  20\n",
      "retrying:  1\n",
      "155.0.181.254:43496  Fetching  https://goodinfo.tw/tw/BasicInfo.asp?STOCK_ID=1589  timeout:  25\n"
     ]
    },
    {
     "name": "stderr",
     "output_type": "stream",
     "text": [
      "  7%|▋         | 61/881 [1:20:38<26:28:13, 116.21s/it]"
     ]
    },
    {
     "name": "stdout",
     "output_type": "stream",
     "text": [
      "Success\n",
      "47.242.168.144:59394  Fetching  https://goodinfo.tw/tw/BasicInfo.asp?STOCK_ID=1590  timeout:  20\n"
     ]
    },
    {
     "name": "stderr",
     "output_type": "stream",
     "text": [
      "  7%|▋         | 62/881 [1:20:42<18:47:53, 82.63s/it] "
     ]
    },
    {
     "name": "stdout",
     "output_type": "stream",
     "text": [
      "Success\n",
      "47.242.168.144:59394  Fetching  https://goodinfo.tw/tw/BasicInfo.asp?STOCK_ID=1592  timeout:  20\n"
     ]
    },
    {
     "name": "stderr",
     "output_type": "stream",
     "text": [
      "  7%|▋         | 63/881 [1:20:44<13:16:35, 58.43s/it]"
     ]
    },
    {
     "name": "stdout",
     "output_type": "stream",
     "text": [
      "Success\n",
      "155.0.181.254:43496  Fetching  https://goodinfo.tw/tw/BasicInfo.asp?STOCK_ID=1597  timeout:  20\n",
      "retrying:  1\n",
      "155.0.181.254:43496  Fetching  https://goodinfo.tw/tw/BasicInfo.asp?STOCK_ID=1597  timeout:  25\n",
      "retrying:  2\n",
      "155.0.181.254:43496  Fetching  https://goodinfo.tw/tw/BasicInfo.asp?STOCK_ID=1597  timeout:  30\n",
      "retrying:  3\n",
      "155.0.181.254:43496  Fetching  https://goodinfo.tw/tw/BasicInfo.asp?STOCK_ID=1597  timeout:  20\n",
      "retrying:  1\n",
      "155.0.181.254:43496  Fetching  https://goodinfo.tw/tw/BasicInfo.asp?STOCK_ID=1597  timeout:  25\n",
      "retrying:  2\n",
      "155.0.181.254:43496  Fetching  https://goodinfo.tw/tw/BasicInfo.asp?STOCK_ID=1597  timeout:  30\n",
      "retrying:  3\n",
      "200.105.215.18:33630  Fetching  https://goodinfo.tw/tw/BasicInfo.asp?STOCK_ID=1597  timeout:  20\n"
     ]
    },
    {
     "name": "stderr",
     "output_type": "stream",
     "text": [
      "  7%|▋         | 64/881 [1:23:32<20:40:54, 91.13s/it]"
     ]
    },
    {
     "name": "stdout",
     "output_type": "stream",
     "text": [
      "Success\n",
      "155.0.181.254:43496  Fetching  https://goodinfo.tw/tw/BasicInfo.asp?STOCK_ID=1598  timeout:  20\n",
      "retrying:  1\n",
      "155.0.181.254:43496  Fetching  https://goodinfo.tw/tw/BasicInfo.asp?STOCK_ID=1598  timeout:  25\n",
      "retrying:  2\n",
      "155.0.181.254:43496  Fetching  https://goodinfo.tw/tw/BasicInfo.asp?STOCK_ID=1598  timeout:  30\n"
     ]
    },
    {
     "name": "stderr",
     "output_type": "stream",
     "text": [
      "  7%|▋         | 65/881 [1:24:32<18:34:24, 81.94s/it]"
     ]
    },
    {
     "name": "stdout",
     "output_type": "stream",
     "text": [
      "Success\n",
      "200.105.215.18:33630  Fetching  https://goodinfo.tw/tw/BasicInfo.asp?STOCK_ID=1603  timeout:  20\n",
      "retrying:  1\n",
      "200.105.215.18:33630  Fetching  https://goodinfo.tw/tw/BasicInfo.asp?STOCK_ID=1603  timeout:  25\n",
      "retrying:  2\n",
      "200.105.215.18:33630  Fetching  https://goodinfo.tw/tw/BasicInfo.asp?STOCK_ID=1603  timeout:  30\n",
      "retrying:  3\n",
      "185.201.88.128:6969  Fetching  https://goodinfo.tw/tw/BasicInfo.asp?STOCK_ID=1603  timeout:  20\n",
      "retrying:  1\n",
      "185.201.88.128:6969  Fetching  https://goodinfo.tw/tw/BasicInfo.asp?STOCK_ID=1603  timeout:  25\n",
      "retrying:  2\n",
      "185.201.88.128:6969  Fetching  https://goodinfo.tw/tw/BasicInfo.asp?STOCK_ID=1603  timeout:  30\n",
      "retrying:  3\n",
      "158.101.146.40:59394  Fetching  https://goodinfo.tw/tw/BasicInfo.asp?STOCK_ID=1603  timeout:  20\n",
      "retrying:  1\n",
      "158.101.146.40:59394  Fetching  https://goodinfo.tw/tw/BasicInfo.asp?STOCK_ID=1603  timeout:  25\n",
      "retrying:  2\n",
      "158.101.146.40:59394  Fetching  https://goodinfo.tw/tw/BasicInfo.asp?STOCK_ID=1603  timeout:  30\n",
      "retrying:  3\n",
      "155.0.181.254:43496  Fetching  https://goodinfo.tw/tw/BasicInfo.asp?STOCK_ID=1603  timeout:  20\n",
      "retrying:  1\n",
      "155.0.181.254:43496  Fetching  https://goodinfo.tw/tw/BasicInfo.asp?STOCK_ID=1603  timeout:  25\n",
      "retrying:  2\n",
      "155.0.181.254:43496  Fetching  https://goodinfo.tw/tw/BasicInfo.asp?STOCK_ID=1603  timeout:  30\n",
      "retrying:  3\n",
      "200.105.215.18:33630  Fetching  https://goodinfo.tw/tw/BasicInfo.asp?STOCK_ID=1603  timeout:  20\n",
      "retrying:  1\n",
      "200.105.215.18:33630  Fetching  https://goodinfo.tw/tw/BasicInfo.asp?STOCK_ID=1603  timeout:  25\n",
      "retrying:  2\n",
      "200.105.215.18:33630  Fetching  https://goodinfo.tw/tw/BasicInfo.asp?STOCK_ID=1603  timeout:  30\n"
     ]
    },
    {
     "name": "stderr",
     "output_type": "stream",
     "text": [
      "  7%|▋         | 66/881 [1:31:10<40:01:00, 176.76s/it]"
     ]
    },
    {
     "name": "stdout",
     "output_type": "stream",
     "text": [
      "retrying:  3\n",
      "158.101.146.40:59394  Fetching  https://goodinfo.tw/tw/BasicInfo.asp?STOCK_ID=1604  timeout:  20\n",
      "retrying:  1\n",
      "158.101.146.40:59394  Fetching  https://goodinfo.tw/tw/BasicInfo.asp?STOCK_ID=1604  timeout:  25\n",
      "retrying:  2\n",
      "158.101.146.40:59394  Fetching  https://goodinfo.tw/tw/BasicInfo.asp?STOCK_ID=1604  timeout:  30\n",
      "retrying:  3\n",
      "155.0.181.254:43496  Fetching  https://goodinfo.tw/tw/BasicInfo.asp?STOCK_ID=1604  timeout:  20\n",
      "retrying:  1\n",
      "155.0.181.254:43496  Fetching  https://goodinfo.tw/tw/BasicInfo.asp?STOCK_ID=1604  timeout:  25\n",
      "retrying:  2\n",
      "155.0.181.254:43496  Fetching  https://goodinfo.tw/tw/BasicInfo.asp?STOCK_ID=1604  timeout:  30\n",
      "retrying:  3\n",
      "185.201.88.128:6969  Fetching  https://goodinfo.tw/tw/BasicInfo.asp?STOCK_ID=1604  timeout:  20\n",
      "retrying:  1\n",
      "185.201.88.128:6969  Fetching  https://goodinfo.tw/tw/BasicInfo.asp?STOCK_ID=1604  timeout:  25\n",
      "retrying:  2\n",
      "185.201.88.128:6969  Fetching  https://goodinfo.tw/tw/BasicInfo.asp?STOCK_ID=1604  timeout:  30\n",
      "retrying:  3\n",
      "158.101.146.40:59394  Fetching  https://goodinfo.tw/tw/BasicInfo.asp?STOCK_ID=1604  timeout:  20\n",
      "retrying:  1\n",
      "158.101.146.40:59394  Fetching  https://goodinfo.tw/tw/BasicInfo.asp?STOCK_ID=1604  timeout:  25\n",
      "retrying:  2\n",
      "158.101.146.40:59394  Fetching  https://goodinfo.tw/tw/BasicInfo.asp?STOCK_ID=1604  timeout:  30\n",
      "retrying:  3\n",
      "200.105.215.18:33630  Fetching  https://goodinfo.tw/tw/BasicInfo.asp?STOCK_ID=1604  timeout:  20\n",
      "retrying:  1\n",
      "200.105.215.18:33630  Fetching  https://goodinfo.tw/tw/BasicInfo.asp?STOCK_ID=1604  timeout:  25\n",
      "retrying:  2\n",
      "200.105.215.18:33630  Fetching  https://goodinfo.tw/tw/BasicInfo.asp?STOCK_ID=1604  timeout:  30\n"
     ]
    },
    {
     "name": "stderr",
     "output_type": "stream",
     "text": [
      "  8%|▊         | 67/881 [1:37:41<54:30:34, 241.07s/it]"
     ]
    },
    {
     "name": "stdout",
     "output_type": "stream",
     "text": [
      "retrying:  3\n",
      "200.105.215.18:33630  Fetching  https://goodinfo.tw/tw/BasicInfo.asp?STOCK_ID=1605  timeout:  20\n",
      "retrying:  1\n",
      "200.105.215.18:33630  Fetching  https://goodinfo.tw/tw/BasicInfo.asp?STOCK_ID=1605  timeout:  25\n",
      "retrying:  2\n",
      "200.105.215.18:33630  Fetching  https://goodinfo.tw/tw/BasicInfo.asp?STOCK_ID=1605  timeout:  30\n",
      "retrying:  3\n",
      "200.105.215.18:33630  Fetching  https://goodinfo.tw/tw/BasicInfo.asp?STOCK_ID=1605  timeout:  20\n",
      "retrying:  1\n",
      "200.105.215.18:33630  Fetching  https://goodinfo.tw/tw/BasicInfo.asp?STOCK_ID=1605  timeout:  25\n",
      "retrying:  2\n",
      "200.105.215.18:33630  Fetching  https://goodinfo.tw/tw/BasicInfo.asp?STOCK_ID=1605  timeout:  30\n",
      "retrying:  3\n",
      "200.105.215.18:33630  Fetching  https://goodinfo.tw/tw/BasicInfo.asp?STOCK_ID=1605  timeout:  20\n",
      "retrying:  1\n",
      "200.105.215.18:33630  Fetching  https://goodinfo.tw/tw/BasicInfo.asp?STOCK_ID=1605  timeout:  25\n",
      "retrying:  2\n",
      "200.105.215.18:33630  Fetching  https://goodinfo.tw/tw/BasicInfo.asp?STOCK_ID=1605  timeout:  30\n",
      "retrying:  3\n",
      "185.201.88.128:6969  Fetching  https://goodinfo.tw/tw/BasicInfo.asp?STOCK_ID=1605  timeout:  20\n"
     ]
    },
    {
     "name": "stderr",
     "output_type": "stream",
     "text": [
      "  8%|▊         | 68/881 [1:42:59<59:36:34, 263.95s/it]"
     ]
    },
    {
     "name": "stdout",
     "output_type": "stream",
     "text": [
      "Success\n",
      "185.201.88.128:6969  Fetching  https://goodinfo.tw/tw/BasicInfo.asp?STOCK_ID=1608  timeout:  20\n",
      "retrying:  1\n",
      "185.201.88.128:6969  Fetching  https://goodinfo.tw/tw/BasicInfo.asp?STOCK_ID=1608  timeout:  25\n",
      "retrying:  2\n",
      "185.201.88.128:6969  Fetching  https://goodinfo.tw/tw/BasicInfo.asp?STOCK_ID=1608  timeout:  30\n",
      "retrying:  3\n",
      "185.201.88.128:6969  Fetching  https://goodinfo.tw/tw/BasicInfo.asp?STOCK_ID=1608  timeout:  20\n",
      "retrying:  1\n",
      "185.201.88.128:6969  Fetching  https://goodinfo.tw/tw/BasicInfo.asp?STOCK_ID=1608  timeout:  25\n",
      "retrying:  2\n",
      "185.201.88.128:6969  Fetching  https://goodinfo.tw/tw/BasicInfo.asp?STOCK_ID=1608  timeout:  30\n",
      "retrying:  3\n",
      "47.242.168.144:59394  Fetching  https://goodinfo.tw/tw/BasicInfo.asp?STOCK_ID=1608  timeout:  20\n",
      "retrying:  1\n",
      "47.242.168.144:59394  Fetching  https://goodinfo.tw/tw/BasicInfo.asp?STOCK_ID=1608  timeout:  25\n"
     ]
    },
    {
     "name": "stderr",
     "output_type": "stream",
     "text": [
      "  8%|▊         | 69/881 [1:45:32<52:02:56, 230.76s/it]"
     ]
    },
    {
     "name": "stdout",
     "output_type": "stream",
     "text": [
      "Success\n",
      "185.201.88.128:6969  Fetching  https://goodinfo.tw/tw/BasicInfo.asp?STOCK_ID=1609  timeout:  20\n",
      "retrying:  1\n",
      "185.201.88.128:6969  Fetching  https://goodinfo.tw/tw/BasicInfo.asp?STOCK_ID=1609  timeout:  25\n",
      "retrying:  2\n",
      "185.201.88.128:6969  Fetching  https://goodinfo.tw/tw/BasicInfo.asp?STOCK_ID=1609  timeout:  30\n",
      "retrying:  3\n",
      "200.105.215.18:33630  Fetching  https://goodinfo.tw/tw/BasicInfo.asp?STOCK_ID=1609  timeout:  20\n",
      "retrying:  1\n",
      "200.105.215.18:33630  Fetching  https://goodinfo.tw/tw/BasicInfo.asp?STOCK_ID=1609  timeout:  25\n"
     ]
    },
    {
     "name": "stderr",
     "output_type": "stream",
     "text": [
      "  8%|▊         | 70/881 [1:47:01<42:22:55, 188.13s/it]"
     ]
    },
    {
     "name": "stdout",
     "output_type": "stream",
     "text": [
      "Success\n",
      "185.201.88.128:6969  Fetching  https://goodinfo.tw/tw/BasicInfo.asp?STOCK_ID=1611  timeout:  20\n",
      "retrying:  1\n",
      "185.201.88.128:6969  Fetching  https://goodinfo.tw/tw/BasicInfo.asp?STOCK_ID=1611  timeout:  25\n",
      "retrying:  2\n",
      "185.201.88.128:6969  Fetching  https://goodinfo.tw/tw/BasicInfo.asp?STOCK_ID=1611  timeout:  30\n",
      "retrying:  3\n",
      "185.201.88.128:6969  Fetching  https://goodinfo.tw/tw/BasicInfo.asp?STOCK_ID=1611  timeout:  20\n",
      "retrying:  1\n",
      "185.201.88.128:6969  Fetching  https://goodinfo.tw/tw/BasicInfo.asp?STOCK_ID=1611  timeout:  25\n",
      "retrying:  2\n",
      "185.201.88.128:6969  Fetching  https://goodinfo.tw/tw/BasicInfo.asp?STOCK_ID=1611  timeout:  30\n",
      "retrying:  3\n",
      "47.242.168.144:59394  Fetching  https://goodinfo.tw/tw/BasicInfo.asp?STOCK_ID=1611  timeout:  20\n",
      "retrying:  1\n",
      "47.242.168.144:59394  Fetching  https://goodinfo.tw/tw/BasicInfo.asp?STOCK_ID=1611  timeout:  25\n"
     ]
    },
    {
     "name": "stderr",
     "output_type": "stream",
     "text": [
      "  8%|▊         | 71/881 [1:49:33<39:55:06, 177.42s/it]"
     ]
    },
    {
     "name": "stdout",
     "output_type": "stream",
     "text": [
      "Success\n",
      "47.242.168.144:59394  Fetching  https://goodinfo.tw/tw/BasicInfo.asp?STOCK_ID=1612  timeout:  20\n",
      "retrying:  1\n",
      "47.242.168.144:59394  Fetching  https://goodinfo.tw/tw/BasicInfo.asp?STOCK_ID=1612  timeout:  25\n",
      "retrying:  2\n",
      "47.242.168.144:59394  Fetching  https://goodinfo.tw/tw/BasicInfo.asp?STOCK_ID=1612  timeout:  30\n",
      "retrying:  3\n",
      "185.201.88.128:6969  Fetching  https://goodinfo.tw/tw/BasicInfo.asp?STOCK_ID=1612  timeout:  20\n",
      "retrying:  1\n",
      "185.201.88.128:6969  Fetching  https://goodinfo.tw/tw/BasicInfo.asp?STOCK_ID=1612  timeout:  25\n",
      "retrying:  2\n",
      "185.201.88.128:6969  Fetching  https://goodinfo.tw/tw/BasicInfo.asp?STOCK_ID=1612  timeout:  30\n",
      "retrying:  3\n",
      "155.0.181.254:43496  Fetching  https://goodinfo.tw/tw/BasicInfo.asp?STOCK_ID=1612  timeout:  20\n",
      "retrying:  1\n",
      "155.0.181.254:43496  Fetching  https://goodinfo.tw/tw/BasicInfo.asp?STOCK_ID=1612  timeout:  25\n",
      "retrying:  2\n",
      "155.0.181.254:43496  Fetching  https://goodinfo.tw/tw/BasicInfo.asp?STOCK_ID=1612  timeout:  30\n",
      "retrying:  3\n",
      "200.105.215.18:33630  Fetching  https://goodinfo.tw/tw/BasicInfo.asp?STOCK_ID=1612  timeout:  20\n",
      "retrying:  1\n",
      "200.105.215.18:33630  Fetching  https://goodinfo.tw/tw/BasicInfo.asp?STOCK_ID=1612  timeout:  25\n",
      "retrying:  2\n",
      "200.105.215.18:33630  Fetching  https://goodinfo.tw/tw/BasicInfo.asp?STOCK_ID=1612  timeout:  30\n"
     ]
    },
    {
     "name": "stderr",
     "output_type": "stream",
     "text": [
      "  8%|▊         | 72/881 [1:53:34<44:10:33, 196.58s/it]"
     ]
    },
    {
     "name": "stdout",
     "output_type": "stream",
     "text": [
      "Success\n",
      "47.242.168.144:59394  Fetching  https://goodinfo.tw/tw/BasicInfo.asp?STOCK_ID=1614  timeout:  20\n"
     ]
    },
    {
     "name": "stderr",
     "output_type": "stream",
     "text": [
      "  8%|▊         | 73/881 [1:53:46<31:42:21, 141.26s/it]"
     ]
    },
    {
     "name": "stdout",
     "output_type": "stream",
     "text": [
      "Success\n",
      "200.105.215.18:33630  Fetching  https://goodinfo.tw/tw/BasicInfo.asp?STOCK_ID=1615  timeout:  20\n",
      "retrying:  1\n",
      "200.105.215.18:33630  Fetching  https://goodinfo.tw/tw/BasicInfo.asp?STOCK_ID=1615  timeout:  25\n"
     ]
    },
    {
     "name": "stderr",
     "output_type": "stream",
     "text": [
      "  8%|▊         | 74/881 [1:54:32<25:14:20, 112.59s/it]"
     ]
    },
    {
     "name": "stdout",
     "output_type": "stream",
     "text": [
      "Success\n",
      "185.201.88.128:6969  Fetching  https://goodinfo.tw/tw/BasicInfo.asp?STOCK_ID=1616  timeout:  20\n",
      "retrying:  1\n",
      "185.201.88.128:6969  Fetching  https://goodinfo.tw/tw/BasicInfo.asp?STOCK_ID=1616  timeout:  25\n",
      "retrying:  2\n",
      "185.201.88.128:6969  Fetching  https://goodinfo.tw/tw/BasicInfo.asp?STOCK_ID=1616  timeout:  30\n",
      "retrying:  3\n",
      "47.242.168.144:59394  Fetching  https://goodinfo.tw/tw/BasicInfo.asp?STOCK_ID=1616  timeout:  20\n"
     ]
    },
    {
     "name": "stderr",
     "output_type": "stream",
     "text": [
      "  9%|▊         | 75/881 [1:55:48<22:46:16, 101.71s/it]"
     ]
    },
    {
     "name": "stdout",
     "output_type": "stream",
     "text": [
      "Success\n",
      "185.201.88.128:6969  Fetching  https://goodinfo.tw/tw/BasicInfo.asp?STOCK_ID=1617  timeout:  20\n",
      "retrying:  1\n",
      "185.201.88.128:6969  Fetching  https://goodinfo.tw/tw/BasicInfo.asp?STOCK_ID=1617  timeout:  25\n",
      "retrying:  2\n",
      "185.201.88.128:6969  Fetching  https://goodinfo.tw/tw/BasicInfo.asp?STOCK_ID=1617  timeout:  30\n",
      "retrying:  3\n",
      "47.242.168.144:59394  Fetching  https://goodinfo.tw/tw/BasicInfo.asp?STOCK_ID=1617  timeout:  20\n"
     ]
    },
    {
     "name": "stderr",
     "output_type": "stream",
     "text": [
      "  9%|▊         | 76/881 [1:57:04<20:59:53, 93.90s/it] "
     ]
    },
    {
     "name": "stdout",
     "output_type": "stream",
     "text": [
      "Success\n",
      "200.105.215.18:33630  Fetching  https://goodinfo.tw/tw/BasicInfo.asp?STOCK_ID=1618  timeout:  20\n"
     ]
    },
    {
     "name": "stderr",
     "output_type": "stream",
     "text": [
      "  9%|▊         | 77/881 [1:57:30<16:23:58, 73.43s/it]"
     ]
    },
    {
     "name": "stdout",
     "output_type": "stream",
     "text": [
      "Success\n",
      "200.105.215.18:33630  Fetching  https://goodinfo.tw/tw/BasicInfo.asp?STOCK_ID=1626  timeout:  20\n",
      "retrying:  1\n",
      "200.105.215.18:33630  Fetching  https://goodinfo.tw/tw/BasicInfo.asp?STOCK_ID=1626  timeout:  25\n",
      "retrying:  2\n",
      "200.105.215.18:33630  Fetching  https://goodinfo.tw/tw/BasicInfo.asp?STOCK_ID=1626  timeout:  30\n",
      "retrying:  3\n",
      "185.201.88.128:6969  Fetching  https://goodinfo.tw/tw/BasicInfo.asp?STOCK_ID=1626  timeout:  20\n",
      "retrying:  1\n",
      "185.201.88.128:6969  Fetching  https://goodinfo.tw/tw/BasicInfo.asp?STOCK_ID=1626  timeout:  25\n",
      "retrying:  2\n",
      "185.201.88.128:6969  Fetching  https://goodinfo.tw/tw/BasicInfo.asp?STOCK_ID=1626  timeout:  30\n",
      "retrying:  3\n",
      "155.0.181.254:43496  Fetching  https://goodinfo.tw/tw/BasicInfo.asp?STOCK_ID=1626  timeout:  20\n",
      "retrying:  1\n",
      "155.0.181.254:43496  Fetching  https://goodinfo.tw/tw/BasicInfo.asp?STOCK_ID=1626  timeout:  25\n",
      "retrying:  2\n",
      "155.0.181.254:43496  Fetching  https://goodinfo.tw/tw/BasicInfo.asp?STOCK_ID=1626  timeout:  30\n",
      "retrying:  3\n",
      "47.242.168.144:59394  Fetching  https://goodinfo.tw/tw/BasicInfo.asp?STOCK_ID=1626  timeout:  20\n"
     ]
    },
    {
     "name": "stderr",
     "output_type": "stream",
     "text": [
      "  9%|▉         | 78/881 [2:01:22<26:59:14, 120.99s/it]"
     ]
    },
    {
     "name": "stdout",
     "output_type": "stream",
     "text": [
      "Success\n",
      "200.105.215.18:33630  Fetching  https://goodinfo.tw/tw/BasicInfo.asp?STOCK_ID=1701  timeout:  20\n",
      "retrying:  1\n",
      "200.105.215.18:33630  Fetching  https://goodinfo.tw/tw/BasicInfo.asp?STOCK_ID=1701  timeout:  25\n",
      "retrying:  2\n",
      "200.105.215.18:33630  Fetching  https://goodinfo.tw/tw/BasicInfo.asp?STOCK_ID=1701  timeout:  30\n",
      "retrying:  3\n",
      "155.0.181.254:43496  Fetching  https://goodinfo.tw/tw/BasicInfo.asp?STOCK_ID=1701  timeout:  20\n",
      "retrying:  1\n",
      "155.0.181.254:43496  Fetching  https://goodinfo.tw/tw/BasicInfo.asp?STOCK_ID=1701  timeout:  25\n",
      "retrying:  2\n",
      "155.0.181.254:43496  Fetching  https://goodinfo.tw/tw/BasicInfo.asp?STOCK_ID=1701  timeout:  30\n",
      "retrying:  3\n",
      "185.201.88.128:6969  Fetching  https://goodinfo.tw/tw/BasicInfo.asp?STOCK_ID=1701  timeout:  20\n"
     ]
    },
    {
     "name": "stderr",
     "output_type": "stream",
     "text": [
      "  9%|▉         | 79/881 [2:04:33<31:38:37, 142.04s/it]"
     ]
    },
    {
     "name": "stdout",
     "output_type": "stream",
     "text": [
      "Success\n",
      "200.105.215.18:33630  Fetching  https://goodinfo.tw/tw/BasicInfo.asp?STOCK_ID=1702  timeout:  20\n",
      "retrying:  1\n",
      "200.105.215.18:33630  Fetching  https://goodinfo.tw/tw/BasicInfo.asp?STOCK_ID=1702  timeout:  25\n",
      "retrying:  2\n",
      "200.105.215.18:33630  Fetching  https://goodinfo.tw/tw/BasicInfo.asp?STOCK_ID=1702  timeout:  30\n",
      "retrying:  3\n",
      "185.201.88.128:6969  Fetching  https://goodinfo.tw/tw/BasicInfo.asp?STOCK_ID=1702  timeout:  20\n",
      "retrying:  1\n",
      "185.201.88.128:6969  Fetching  https://goodinfo.tw/tw/BasicInfo.asp?STOCK_ID=1702  timeout:  25\n",
      "retrying:  2\n",
      "185.201.88.128:6969  Fetching  https://goodinfo.tw/tw/BasicInfo.asp?STOCK_ID=1702  timeout:  30\n",
      "retrying:  3\n",
      "185.201.88.128:6969  Fetching  https://goodinfo.tw/tw/BasicInfo.asp?STOCK_ID=1702  timeout:  20\n",
      "retrying:  1\n",
      "185.201.88.128:6969  Fetching  https://goodinfo.tw/tw/BasicInfo.asp?STOCK_ID=1702  timeout:  25\n",
      "retrying:  2\n",
      "185.201.88.128:6969  Fetching  https://goodinfo.tw/tw/BasicInfo.asp?STOCK_ID=1702  timeout:  30\n",
      "retrying:  3\n",
      "47.242.168.144:59394  Fetching  https://goodinfo.tw/tw/BasicInfo.asp?STOCK_ID=1702  timeout:  20\n",
      "retrying:  1\n",
      "47.242.168.144:59394  Fetching  https://goodinfo.tw/tw/BasicInfo.asp?STOCK_ID=1702  timeout:  25\n"
     ]
    },
    {
     "name": "stderr",
     "output_type": "stream",
     "text": [
      "  9%|▉         | 80/881 [2:08:25<37:38:31, 169.18s/it]"
     ]
    },
    {
     "name": "stdout",
     "output_type": "stream",
     "text": [
      "Success\n",
      "158.101.146.40:59394  Fetching  https://goodinfo.tw/tw/BasicInfo.asp?STOCK_ID=1707  timeout:  20\n",
      "retrying:  1\n",
      "158.101.146.40:59394  Fetching  https://goodinfo.tw/tw/BasicInfo.asp?STOCK_ID=1707  timeout:  25\n",
      "retrying:  2\n",
      "158.101.146.40:59394  Fetching  https://goodinfo.tw/tw/BasicInfo.asp?STOCK_ID=1707  timeout:  30\n",
      "retrying:  3\n",
      "185.201.88.128:6969  Fetching  https://goodinfo.tw/tw/BasicInfo.asp?STOCK_ID=1707  timeout:  20\n",
      "retrying:  1\n",
      "185.201.88.128:6969  Fetching  https://goodinfo.tw/tw/BasicInfo.asp?STOCK_ID=1707  timeout:  25\n",
      "retrying:  2\n",
      "185.201.88.128:6969  Fetching  https://goodinfo.tw/tw/BasicInfo.asp?STOCK_ID=1707  timeout:  30\n",
      "retrying:  3\n",
      "155.0.181.254:43496  Fetching  https://goodinfo.tw/tw/BasicInfo.asp?STOCK_ID=1707  timeout:  20\n",
      "retrying:  1\n",
      "155.0.181.254:43496  Fetching  https://goodinfo.tw/tw/BasicInfo.asp?STOCK_ID=1707  timeout:  25\n",
      "retrying:  2\n",
      "155.0.181.254:43496  Fetching  https://goodinfo.tw/tw/BasicInfo.asp?STOCK_ID=1707  timeout:  30\n",
      "retrying:  3\n",
      "155.0.181.254:43496  Fetching  https://goodinfo.tw/tw/BasicInfo.asp?STOCK_ID=1707  timeout:  20\n",
      "retrying:  1\n",
      "155.0.181.254:43496  Fetching  https://goodinfo.tw/tw/BasicInfo.asp?STOCK_ID=1707  timeout:  25\n"
     ]
    },
    {
     "name": "stderr",
     "output_type": "stream",
     "text": [
      "  9%|▉         | 81/881 [2:12:39<43:15:24, 194.66s/it]"
     ]
    },
    {
     "name": "stdout",
     "output_type": "stream",
     "text": [
      "Success\n",
      "200.105.215.18:33630  Fetching  https://goodinfo.tw/tw/BasicInfo.asp?STOCK_ID=1708  timeout:  20\n"
     ]
    },
    {
     "name": "stderr",
     "output_type": "stream",
     "text": [
      "  9%|▉         | 82/881 [2:12:50<30:56:56, 139.45s/it]"
     ]
    },
    {
     "name": "stdout",
     "output_type": "stream",
     "text": [
      "Success\n",
      "158.101.146.40:59394  Fetching  https://goodinfo.tw/tw/BasicInfo.asp?STOCK_ID=1709  timeout:  20\n",
      "retrying:  1\n",
      "158.101.146.40:59394  Fetching  https://goodinfo.tw/tw/BasicInfo.asp?STOCK_ID=1709  timeout:  25\n",
      "retrying:  2\n",
      "158.101.146.40:59394  Fetching  https://goodinfo.tw/tw/BasicInfo.asp?STOCK_ID=1709  timeout:  30\n",
      "retrying:  3\n",
      "200.105.215.18:33630  Fetching  https://goodinfo.tw/tw/BasicInfo.asp?STOCK_ID=1709  timeout:  20\n",
      "retrying:  1\n",
      "200.105.215.18:33630  Fetching  https://goodinfo.tw/tw/BasicInfo.asp?STOCK_ID=1709  timeout:  25\n"
     ]
    },
    {
     "name": "stderr",
     "output_type": "stream",
     "text": [
      "  9%|▉         | 83/881 [2:14:29<28:12:45, 127.27s/it]"
     ]
    },
    {
     "name": "stdout",
     "output_type": "stream",
     "text": [
      "Success\n",
      "47.242.168.144:59394  Fetching  https://goodinfo.tw/tw/BasicInfo.asp?STOCK_ID=1710  timeout:  20\n"
     ]
    },
    {
     "name": "stderr",
     "output_type": "stream",
     "text": [
      " 10%|▉         | 84/881 [2:14:31<19:50:48, 89.65s/it] "
     ]
    },
    {
     "name": "stdout",
     "output_type": "stream",
     "text": [
      "Success\n",
      "200.105.215.18:33630  Fetching  https://goodinfo.tw/tw/BasicInfo.asp?STOCK_ID=1711  timeout:  20\n",
      "retrying:  1\n",
      "200.105.215.18:33630  Fetching  https://goodinfo.tw/tw/BasicInfo.asp?STOCK_ID=1711  timeout:  25\n"
     ]
    },
    {
     "name": "stderr",
     "output_type": "stream",
     "text": [
      " 10%|▉         | 85/881 [2:15:01<15:54:12, 71.93s/it]"
     ]
    },
    {
     "name": "stdout",
     "output_type": "stream",
     "text": [
      "Success\n",
      "200.105.215.18:33630  Fetching  https://goodinfo.tw/tw/BasicInfo.asp?STOCK_ID=1712  timeout:  20\n"
     ]
    },
    {
     "name": "stderr",
     "output_type": "stream",
     "text": [
      " 10%|▉         | 86/881 [2:15:07<11:29:45, 52.06s/it]"
     ]
    },
    {
     "name": "stdout",
     "output_type": "stream",
     "text": [
      "Success\n",
      "185.201.88.128:6969  Fetching  https://goodinfo.tw/tw/BasicInfo.asp?STOCK_ID=1713  timeout:  20\n",
      "retrying:  1\n",
      "185.201.88.128:6969  Fetching  https://goodinfo.tw/tw/BasicInfo.asp?STOCK_ID=1713  timeout:  25\n"
     ]
    },
    {
     "name": "stderr",
     "output_type": "stream",
     "text": [
      " 10%|▉         | 87/881 [2:15:34<9:48:11, 44.45s/it] "
     ]
    },
    {
     "name": "stdout",
     "output_type": "stream",
     "text": [
      "Success\n",
      "155.0.181.254:43496  Fetching  https://goodinfo.tw/tw/BasicInfo.asp?STOCK_ID=1714  timeout:  20\n"
     ]
    },
    {
     "name": "stderr",
     "output_type": "stream",
     "text": [
      " 10%|▉         | 88/881 [2:15:45<7:34:35, 34.39s/it]"
     ]
    },
    {
     "name": "stdout",
     "output_type": "stream",
     "text": [
      "Success\n",
      "47.242.168.144:59394  Fetching  https://goodinfo.tw/tw/BasicInfo.asp?STOCK_ID=1717  timeout:  20\n",
      "retrying:  1\n",
      "47.242.168.144:59394  Fetching  https://goodinfo.tw/tw/BasicInfo.asp?STOCK_ID=1717  timeout:  25\n"
     ]
    },
    {
     "name": "stderr",
     "output_type": "stream",
     "text": [
      " 10%|█         | 89/881 [2:15:53<5:50:02, 26.52s/it]"
     ]
    },
    {
     "name": "stdout",
     "output_type": "stream",
     "text": [
      "Success\n",
      "155.0.181.254:43496  Fetching  https://goodinfo.tw/tw/BasicInfo.asp?STOCK_ID=1718  timeout:  20\n",
      "retrying:  1\n",
      "155.0.181.254:43496  Fetching  https://goodinfo.tw/tw/BasicInfo.asp?STOCK_ID=1718  timeout:  25\n",
      "retrying:  2\n",
      "155.0.181.254:43496  Fetching  https://goodinfo.tw/tw/BasicInfo.asp?STOCK_ID=1718  timeout:  30\n"
     ]
    },
    {
     "name": "stderr",
     "output_type": "stream",
     "text": [
      " 10%|█         | 90/881 [2:16:47<7:37:35, 34.71s/it]"
     ]
    },
    {
     "name": "stdout",
     "output_type": "stream",
     "text": [
      "Success\n",
      "158.101.146.40:59394  Fetching  https://goodinfo.tw/tw/BasicInfo.asp?STOCK_ID=1720  timeout:  20\n",
      "retrying:  1\n",
      "158.101.146.40:59394  Fetching  https://goodinfo.tw/tw/BasicInfo.asp?STOCK_ID=1720  timeout:  25\n",
      "retrying:  2\n",
      "158.101.146.40:59394  Fetching  https://goodinfo.tw/tw/BasicInfo.asp?STOCK_ID=1720  timeout:  30\n",
      "retrying:  3\n",
      "158.101.146.40:59394  Fetching  https://goodinfo.tw/tw/BasicInfo.asp?STOCK_ID=1720  timeout:  20\n",
      "retrying:  1\n",
      "158.101.146.40:59394  Fetching  https://goodinfo.tw/tw/BasicInfo.asp?STOCK_ID=1720  timeout:  25\n",
      "retrying:  2\n",
      "158.101.146.40:59394  Fetching  https://goodinfo.tw/tw/BasicInfo.asp?STOCK_ID=1720  timeout:  30\n",
      "retrying:  3\n",
      "47.242.168.144:59394  Fetching  https://goodinfo.tw/tw/BasicInfo.asp?STOCK_ID=1720  timeout:  20\n"
     ]
    },
    {
     "name": "stderr",
     "output_type": "stream",
     "text": [
      " 10%|█         | 91/881 [2:19:18<15:15:42, 69.55s/it]"
     ]
    },
    {
     "name": "stdout",
     "output_type": "stream",
     "text": [
      "Success\n",
      "185.201.88.128:6969  Fetching  https://goodinfo.tw/tw/BasicInfo.asp?STOCK_ID=1721  timeout:  20\n"
     ]
    },
    {
     "name": "stderr",
     "output_type": "stream",
     "text": [
      " 10%|█         | 92/881 [2:19:21<10:54:49, 49.80s/it]"
     ]
    },
    {
     "name": "stdout",
     "output_type": "stream",
     "text": [
      "Success\n",
      "155.0.181.254:43496  Fetching  https://goodinfo.tw/tw/BasicInfo.asp?STOCK_ID=1722  timeout:  20\n",
      "retrying:  1\n",
      "155.0.181.254:43496  Fetching  https://goodinfo.tw/tw/BasicInfo.asp?STOCK_ID=1722  timeout:  25\n",
      "retrying:  2\n",
      "155.0.181.254:43496  Fetching  https://goodinfo.tw/tw/BasicInfo.asp?STOCK_ID=1722  timeout:  30\n",
      "retrying:  3\n",
      "47.242.168.144:59394  Fetching  https://goodinfo.tw/tw/BasicInfo.asp?STOCK_ID=1722  timeout:  20\n"
     ]
    },
    {
     "name": "stderr",
     "output_type": "stream",
     "text": [
      " 11%|█         | 93/881 [2:20:08<10:43:29, 49.00s/it]"
     ]
    },
    {
     "name": "stdout",
     "output_type": "stream",
     "text": [
      "Success\n",
      "47.242.168.144:59394  Fetching  https://goodinfo.tw/tw/BasicInfo.asp?STOCK_ID=1723  timeout:  20\n"
     ]
    },
    {
     "name": "stderr",
     "output_type": "stream",
     "text": [
      " 11%|█         | 94/881 [2:20:09<7:33:41, 34.59s/it] "
     ]
    },
    {
     "name": "stdout",
     "output_type": "stream",
     "text": [
      "Success\n",
      "47.242.168.144:59394  Fetching  https://goodinfo.tw/tw/BasicInfo.asp?STOCK_ID=1725  timeout:  20\n"
     ]
    },
    {
     "name": "stderr",
     "output_type": "stream",
     "text": [
      " 11%|█         | 95/881 [2:20:10<5:21:00, 24.50s/it]"
     ]
    },
    {
     "name": "stdout",
     "output_type": "stream",
     "text": [
      "Success\n",
      "155.0.181.254:43496  Fetching  https://goodinfo.tw/tw/BasicInfo.asp?STOCK_ID=1726  timeout:  20\n",
      "retrying:  1\n",
      "155.0.181.254:43496  Fetching  https://goodinfo.tw/tw/BasicInfo.asp?STOCK_ID=1726  timeout:  25\n",
      "retrying:  2\n",
      "155.0.181.254:43496  Fetching  https://goodinfo.tw/tw/BasicInfo.asp?STOCK_ID=1726  timeout:  30\n",
      "retrying:  3\n",
      "158.101.146.40:59394  Fetching  https://goodinfo.tw/tw/BasicInfo.asp?STOCK_ID=1726  timeout:  20\n",
      "retrying:  1\n",
      "158.101.146.40:59394  Fetching  https://goodinfo.tw/tw/BasicInfo.asp?STOCK_ID=1726  timeout:  25\n",
      "retrying:  2\n",
      "158.101.146.40:59394  Fetching  https://goodinfo.tw/tw/BasicInfo.asp?STOCK_ID=1726  timeout:  30\n",
      "retrying:  3\n",
      "47.242.168.144:59394  Fetching  https://goodinfo.tw/tw/BasicInfo.asp?STOCK_ID=1726  timeout:  20\n"
     ]
    },
    {
     "name": "stderr",
     "output_type": "stream",
     "text": [
      " 11%|█         | 96/881 [2:22:41<13:37:12, 62.46s/it]"
     ]
    },
    {
     "name": "stdout",
     "output_type": "stream",
     "text": [
      "Success\n",
      "47.242.168.144:59394  Fetching  https://goodinfo.tw/tw/BasicInfo.asp?STOCK_ID=1727  timeout:  20\n"
     ]
    },
    {
     "name": "stderr",
     "output_type": "stream",
     "text": [
      " 11%|█         | 97/881 [2:22:43<9:38:42, 44.29s/it] "
     ]
    },
    {
     "name": "stdout",
     "output_type": "stream",
     "text": [
      "Success\n",
      "158.101.146.40:59394  Fetching  https://goodinfo.tw/tw/BasicInfo.asp?STOCK_ID=1730  timeout:  20\n",
      "retrying:  1\n",
      "158.101.146.40:59394  Fetching  https://goodinfo.tw/tw/BasicInfo.asp?STOCK_ID=1730  timeout:  25\n",
      "retrying:  2\n",
      "158.101.146.40:59394  Fetching  https://goodinfo.tw/tw/BasicInfo.asp?STOCK_ID=1730  timeout:  30\n",
      "retrying:  3\n",
      "155.0.181.254:43496  Fetching  https://goodinfo.tw/tw/BasicInfo.asp?STOCK_ID=1730  timeout:  20\n",
      "retrying:  1\n",
      "155.0.181.254:43496  Fetching  https://goodinfo.tw/tw/BasicInfo.asp?STOCK_ID=1730  timeout:  25\n"
     ]
    },
    {
     "name": "stderr",
     "output_type": "stream",
     "text": [
      " 11%|█         | 98/881 [2:24:24<13:19:14, 61.24s/it]"
     ]
    },
    {
     "name": "stdout",
     "output_type": "stream",
     "text": [
      "Success\n",
      "185.201.88.128:6969  Fetching  https://goodinfo.tw/tw/BasicInfo.asp?STOCK_ID=1731  timeout:  20\n"
     ]
    },
    {
     "name": "stderr",
     "output_type": "stream",
     "text": [
      " 11%|█         | 99/881 [2:24:30<9:43:00, 44.73s/it] "
     ]
    },
    {
     "name": "stdout",
     "output_type": "stream",
     "text": [
      "Success\n",
      "200.105.215.18:33630  Fetching  https://goodinfo.tw/tw/BasicInfo.asp?STOCK_ID=1732  timeout:  20\n",
      "retrying:  1\n",
      "200.105.215.18:33630  Fetching  https://goodinfo.tw/tw/BasicInfo.asp?STOCK_ID=1732  timeout:  25\n",
      "retrying:  2\n",
      "200.105.215.18:33630  Fetching  https://goodinfo.tw/tw/BasicInfo.asp?STOCK_ID=1732  timeout:  30\n",
      "retrying:  3\n",
      "155.0.181.254:43496  Fetching  https://goodinfo.tw/tw/BasicInfo.asp?STOCK_ID=1732  timeout:  20\n"
     ]
    },
    {
     "name": "stderr",
     "output_type": "stream",
     "text": [
      " 11%|█▏        | 100/881 [2:25:52<12:06:40, 55.83s/it]"
     ]
    },
    {
     "name": "stdout",
     "output_type": "stream",
     "text": [
      "Success\n",
      "155.0.181.254:43496  Fetching  https://goodinfo.tw/tw/BasicInfo.asp?STOCK_ID=1733  timeout:  20\n",
      "retrying:  1\n",
      "155.0.181.254:43496  Fetching  https://goodinfo.tw/tw/BasicInfo.asp?STOCK_ID=1733  timeout:  25\n",
      "retrying:  2\n",
      "155.0.181.254:43496  Fetching  https://goodinfo.tw/tw/BasicInfo.asp?STOCK_ID=1733  timeout:  30\n",
      "retrying:  3\n",
      "155.0.181.254:43496  Fetching  https://goodinfo.tw/tw/BasicInfo.asp?STOCK_ID=1733  timeout:  20\n"
     ]
    },
    {
     "name": "stderr",
     "output_type": "stream",
     "text": [
      " 11%|█▏        | 101/881 [2:26:52<12:22:47, 57.14s/it]"
     ]
    },
    {
     "name": "stdout",
     "output_type": "stream",
     "text": [
      "Success\n",
      "158.101.146.40:59394  Fetching  https://goodinfo.tw/tw/BasicInfo.asp?STOCK_ID=1734  timeout:  20\n",
      "retrying:  1\n",
      "158.101.146.40:59394  Fetching  https://goodinfo.tw/tw/BasicInfo.asp?STOCK_ID=1734  timeout:  25\n",
      "retrying:  2\n",
      "158.101.146.40:59394  Fetching  https://goodinfo.tw/tw/BasicInfo.asp?STOCK_ID=1734  timeout:  30\n",
      "retrying:  3\n",
      "200.105.215.18:33630  Fetching  https://goodinfo.tw/tw/BasicInfo.asp?STOCK_ID=1734  timeout:  20\n"
     ]
    },
    {
     "name": "stderr",
     "output_type": "stream",
     "text": [
      " 12%|█▏        | 102/881 [2:28:12<13:49:52, 63.92s/it]"
     ]
    },
    {
     "name": "stdout",
     "output_type": "stream",
     "text": [
      "Success\n",
      "158.101.146.40:59394  Fetching  https://goodinfo.tw/tw/BasicInfo.asp?STOCK_ID=1735  timeout:  20\n",
      "retrying:  1\n",
      "158.101.146.40:59394  Fetching  https://goodinfo.tw/tw/BasicInfo.asp?STOCK_ID=1735  timeout:  25\n",
      "retrying:  2\n",
      "158.101.146.40:59394  Fetching  https://goodinfo.tw/tw/BasicInfo.asp?STOCK_ID=1735  timeout:  30\n",
      "retrying:  3\n",
      "155.0.181.254:43496  Fetching  https://goodinfo.tw/tw/BasicInfo.asp?STOCK_ID=1735  timeout:  20\n",
      "retrying:  1\n",
      "155.0.181.254:43496  Fetching  https://goodinfo.tw/tw/BasicInfo.asp?STOCK_ID=1735  timeout:  25\n"
     ]
    },
    {
     "name": "stderr",
     "output_type": "stream",
     "text": [
      " 12%|█▏        | 103/881 [2:30:26<18:20:27, 84.87s/it]"
     ]
    },
    {
     "name": "stdout",
     "output_type": "stream",
     "text": [
      "Success\n",
      "185.201.88.128:6969  Fetching  https://goodinfo.tw/tw/BasicInfo.asp?STOCK_ID=1736  timeout:  20\n",
      "retrying:  1\n",
      "185.201.88.128:6969  Fetching  https://goodinfo.tw/tw/BasicInfo.asp?STOCK_ID=1736  timeout:  25\n",
      "retrying:  2\n",
      "185.201.88.128:6969  Fetching  https://goodinfo.tw/tw/BasicInfo.asp?STOCK_ID=1736  timeout:  30\n",
      "retrying:  3\n",
      "155.0.181.254:43496  Fetching  https://goodinfo.tw/tw/BasicInfo.asp?STOCK_ID=1736  timeout:  20\n",
      "retrying:  1\n",
      "155.0.181.254:43496  Fetching  https://goodinfo.tw/tw/BasicInfo.asp?STOCK_ID=1736  timeout:  25\n",
      "retrying:  2\n",
      "155.0.181.254:43496  Fetching  https://goodinfo.tw/tw/BasicInfo.asp?STOCK_ID=1736  timeout:  30\n",
      "retrying:  3\n",
      "155.0.181.254:43496  Fetching  https://goodinfo.tw/tw/BasicInfo.asp?STOCK_ID=1736  timeout:  20\n"
     ]
    },
    {
     "name": "stderr",
     "output_type": "stream",
     "text": [
      " 12%|█▏        | 104/881 [2:33:03<23:01:11, 106.66s/it]"
     ]
    },
    {
     "name": "stdout",
     "output_type": "stream",
     "text": [
      "Success\n",
      "200.105.215.18:33630  Fetching  https://goodinfo.tw/tw/BasicInfo.asp?STOCK_ID=1737  timeout:  20\n",
      "retrying:  1\n",
      "200.105.215.18:33630  Fetching  https://goodinfo.tw/tw/BasicInfo.asp?STOCK_ID=1737  timeout:  25\n"
     ]
    },
    {
     "name": "stderr",
     "output_type": "stream",
     "text": [
      " 12%|█▏        | 105/881 [2:33:31<17:52:13, 82.90s/it] "
     ]
    },
    {
     "name": "stdout",
     "output_type": "stream",
     "text": [
      "Success\n",
      "155.0.181.254:43496  Fetching  https://goodinfo.tw/tw/BasicInfo.asp?STOCK_ID=1760  timeout:  20\n"
     ]
    },
    {
     "name": "stderr",
     "output_type": "stream",
     "text": [
      " 12%|█▏        | 106/881 [2:33:37<12:54:13, 59.94s/it]"
     ]
    },
    {
     "name": "stdout",
     "output_type": "stream",
     "text": [
      "Success\n",
      "185.201.88.128:6969  Fetching  https://goodinfo.tw/tw/BasicInfo.asp?STOCK_ID=1762  timeout:  20\n"
     ]
    },
    {
     "name": "stderr",
     "output_type": "stream",
     "text": [
      " 12%|█▏        | 107/881 [2:33:43<9:24:24, 43.75s/it] "
     ]
    },
    {
     "name": "stdout",
     "output_type": "stream",
     "text": [
      "Success\n",
      "158.101.146.40:59394  Fetching  https://goodinfo.tw/tw/BasicInfo.asp?STOCK_ID=1773  timeout:  20\n",
      "retrying:  1\n",
      "158.101.146.40:59394  Fetching  https://goodinfo.tw/tw/BasicInfo.asp?STOCK_ID=1773  timeout:  25\n",
      "retrying:  2\n",
      "158.101.146.40:59394  Fetching  https://goodinfo.tw/tw/BasicInfo.asp?STOCK_ID=1773  timeout:  30\n",
      "retrying:  3\n",
      "200.105.215.18:33630  Fetching  https://goodinfo.tw/tw/BasicInfo.asp?STOCK_ID=1773  timeout:  20\n"
     ]
    },
    {
     "name": "stderr",
     "output_type": "stream",
     "text": [
      " 12%|█▏        | 108/881 [2:35:04<11:46:20, 54.83s/it]"
     ]
    },
    {
     "name": "stdout",
     "output_type": "stream",
     "text": [
      "Success\n",
      "158.101.146.40:59394  Fetching  https://goodinfo.tw/tw/BasicInfo.asp?STOCK_ID=1776  timeout:  20\n",
      "retrying:  1\n",
      "158.101.146.40:59394  Fetching  https://goodinfo.tw/tw/BasicInfo.asp?STOCK_ID=1776  timeout:  25\n",
      "retrying:  2\n",
      "158.101.146.40:59394  Fetching  https://goodinfo.tw/tw/BasicInfo.asp?STOCK_ID=1776  timeout:  30\n",
      "retrying:  3\n",
      "155.0.181.254:43496  Fetching  https://goodinfo.tw/tw/BasicInfo.asp?STOCK_ID=1776  timeout:  20\n",
      "retrying:  1\n",
      "155.0.181.254:43496  Fetching  https://goodinfo.tw/tw/BasicInfo.asp?STOCK_ID=1776  timeout:  25\n",
      "retrying:  2\n",
      "155.0.181.254:43496  Fetching  https://goodinfo.tw/tw/BasicInfo.asp?STOCK_ID=1776  timeout:  30\n"
     ]
    },
    {
     "name": "stderr",
     "output_type": "stream",
     "text": [
      " 12%|█▏        | 109/881 [2:37:15<16:40:09, 77.73s/it]"
     ]
    },
    {
     "name": "stdout",
     "output_type": "stream",
     "text": [
      "Success\n",
      "200.105.215.18:33630  Fetching  https://goodinfo.tw/tw/BasicInfo.asp?STOCK_ID=1783  timeout:  20\n"
     ]
    },
    {
     "name": "stderr",
     "output_type": "stream",
     "text": [
      " 12%|█▏        | 110/881 [2:37:19<11:57:12, 55.81s/it]"
     ]
    },
    {
     "name": "stdout",
     "output_type": "stream",
     "text": [
      "Success\n",
      "185.201.88.128:6969  Fetching  https://goodinfo.tw/tw/BasicInfo.asp?STOCK_ID=1786  timeout:  20\n"
     ]
    },
    {
     "name": "stderr",
     "output_type": "stream",
     "text": [
      " 13%|█▎        | 111/881 [2:37:31<9:06:33, 42.59s/it] "
     ]
    },
    {
     "name": "stdout",
     "output_type": "stream",
     "text": [
      "Success\n",
      "158.101.146.40:59394  Fetching  https://goodinfo.tw/tw/BasicInfo.asp?STOCK_ID=1789  timeout:  20\n",
      "retrying:  1\n",
      "158.101.146.40:59394  Fetching  https://goodinfo.tw/tw/BasicInfo.asp?STOCK_ID=1789  timeout:  25\n",
      "retrying:  2\n",
      "158.101.146.40:59394  Fetching  https://goodinfo.tw/tw/BasicInfo.asp?STOCK_ID=1789  timeout:  30\n",
      "retrying:  3\n",
      "47.242.168.144:59394  Fetching  https://goodinfo.tw/tw/BasicInfo.asp?STOCK_ID=1789  timeout:  20\n"
     ]
    },
    {
     "name": "stderr",
     "output_type": "stream",
     "text": [
      " 13%|█▎        | 112/881 [2:39:02<12:12:45, 57.17s/it]"
     ]
    },
    {
     "name": "stdout",
     "output_type": "stream",
     "text": [
      "Success\n",
      "155.0.181.254:43496  Fetching  https://goodinfo.tw/tw/BasicInfo.asp?STOCK_ID=1795  timeout:  20\n"
     ]
    },
    {
     "name": "stderr",
     "output_type": "stream",
     "text": [
      " 13%|█▎        | 113/881 [2:39:10<9:01:58, 42.34s/it] "
     ]
    },
    {
     "name": "stdout",
     "output_type": "stream",
     "text": [
      "Success\n",
      "47.242.168.144:59394  Fetching  https://goodinfo.tw/tw/BasicInfo.asp?STOCK_ID=1802  timeout:  20\n"
     ]
    },
    {
     "name": "stderr",
     "output_type": "stream",
     "text": [
      " 13%|█▎        | 114/881 [2:39:11<6:21:23, 29.84s/it]"
     ]
    },
    {
     "name": "stdout",
     "output_type": "stream",
     "text": [
      "Success\n",
      "47.242.168.144:59394  Fetching  https://goodinfo.tw/tw/BasicInfo.asp?STOCK_ID=1805  timeout:  20\n"
     ]
    },
    {
     "name": "stderr",
     "output_type": "stream",
     "text": [
      " 13%|█▎        | 115/881 [2:39:12<4:29:28, 21.11s/it]"
     ]
    },
    {
     "name": "stdout",
     "output_type": "stream",
     "text": [
      "Success\n",
      "155.0.181.254:43496  Fetching  https://goodinfo.tw/tw/BasicInfo.asp?STOCK_ID=1806  timeout:  20\n"
     ]
    },
    {
     "name": "stderr",
     "output_type": "stream",
     "text": [
      " 13%|█▎        | 116/881 [2:39:24<3:54:50, 18.42s/it]"
     ]
    },
    {
     "name": "stdout",
     "output_type": "stream",
     "text": [
      "Success\n",
      "200.105.215.18:33630  Fetching  https://goodinfo.tw/tw/BasicInfo.asp?STOCK_ID=1808  timeout:  20\n",
      "retrying:  1\n",
      "200.105.215.18:33630  Fetching  https://goodinfo.tw/tw/BasicInfo.asp?STOCK_ID=1808  timeout:  25\n"
     ]
    },
    {
     "name": "stderr",
     "output_type": "stream",
     "text": [
      " 13%|█▎        | 117/881 [2:39:50<4:24:34, 20.78s/it]"
     ]
    },
    {
     "name": "stdout",
     "output_type": "stream",
     "text": [
      "Success\n",
      "155.0.181.254:43496  Fetching  https://goodinfo.tw/tw/BasicInfo.asp?STOCK_ID=1809  timeout:  20\n"
     ]
    },
    {
     "name": "stderr",
     "output_type": "stream",
     "text": [
      " 13%|█▎        | 118/881 [2:40:13<4:32:16, 21.41s/it]"
     ]
    },
    {
     "name": "stdout",
     "output_type": "stream",
     "text": [
      "Success\n",
      "185.201.88.128:6969  Fetching  https://goodinfo.tw/tw/BasicInfo.asp?STOCK_ID=1810  timeout:  20\n",
      "retrying:  1\n",
      "185.201.88.128:6969  Fetching  https://goodinfo.tw/tw/BasicInfo.asp?STOCK_ID=1810  timeout:  25\n"
     ]
    },
    {
     "name": "stderr",
     "output_type": "stream",
     "text": [
      " 14%|█▎        | 119/881 [2:40:38<4:44:58, 22.44s/it]"
     ]
    },
    {
     "name": "stdout",
     "output_type": "stream",
     "text": [
      "Success\n",
      "47.242.168.144:59394  Fetching  https://goodinfo.tw/tw/BasicInfo.asp?STOCK_ID=1817  timeout:  20\n"
     ]
    },
    {
     "name": "stderr",
     "output_type": "stream",
     "text": [
      " 14%|█▎        | 120/881 [2:40:38<3:20:47, 15.83s/it]"
     ]
    },
    {
     "name": "stdout",
     "output_type": "stream",
     "text": [
      "Success\n",
      "158.101.146.40:59394  Fetching  https://goodinfo.tw/tw/BasicInfo.asp?STOCK_ID=1903  timeout:  20\n",
      "retrying:  1\n",
      "158.101.146.40:59394  Fetching  https://goodinfo.tw/tw/BasicInfo.asp?STOCK_ID=1903  timeout:  25\n",
      "retrying:  2\n",
      "158.101.146.40:59394  Fetching  https://goodinfo.tw/tw/BasicInfo.asp?STOCK_ID=1903  timeout:  30\n",
      "retrying:  3\n",
      "158.101.146.40:59394  Fetching  https://goodinfo.tw/tw/BasicInfo.asp?STOCK_ID=1903  timeout:  20\n",
      "retrying:  1\n",
      "158.101.146.40:59394  Fetching  https://goodinfo.tw/tw/BasicInfo.asp?STOCK_ID=1903  timeout:  25\n",
      "retrying:  2\n",
      "158.101.146.40:59394  Fetching  https://goodinfo.tw/tw/BasicInfo.asp?STOCK_ID=1903  timeout:  30\n",
      "retrying:  3\n",
      "155.0.181.254:43496  Fetching  https://goodinfo.tw/tw/BasicInfo.asp?STOCK_ID=1903  timeout:  20\n",
      "retrying:  1\n",
      "155.0.181.254:43496  Fetching  https://goodinfo.tw/tw/BasicInfo.asp?STOCK_ID=1903  timeout:  25\n",
      "retrying:  2\n",
      "155.0.181.254:43496  Fetching  https://goodinfo.tw/tw/BasicInfo.asp?STOCK_ID=1903  timeout:  30\n",
      "retrying:  3\n",
      "47.242.168.144:59394  Fetching  https://goodinfo.tw/tw/BasicInfo.asp?STOCK_ID=1903  timeout:  20\n",
      "retrying:  1\n",
      "47.242.168.144:59394  Fetching  https://goodinfo.tw/tw/BasicInfo.asp?STOCK_ID=1903  timeout:  25\n",
      "retrying:  2\n",
      "47.242.168.144:59394  Fetching  https://goodinfo.tw/tw/BasicInfo.asp?STOCK_ID=1903  timeout:  30\n"
     ]
    },
    {
     "name": "stderr",
     "output_type": "stream",
     "text": [
      " 14%|█▎        | 121/881 [2:45:01<18:57:55, 89.84s/it]"
     ]
    },
    {
     "name": "stdout",
     "output_type": "stream",
     "text": [
      "Success\n",
      "185.201.88.128:6969  Fetching  https://goodinfo.tw/tw/BasicInfo.asp?STOCK_ID=1904  timeout:  20\n"
     ]
    },
    {
     "name": "stderr",
     "output_type": "stream",
     "text": [
      " 14%|█▍        | 122/881 [2:45:22<14:35:03, 69.17s/it]"
     ]
    },
    {
     "name": "stdout",
     "output_type": "stream",
     "text": [
      "Success\n",
      "158.101.146.40:59394  Fetching  https://goodinfo.tw/tw/BasicInfo.asp?STOCK_ID=1905  timeout:  20\n",
      "retrying:  1\n",
      "158.101.146.40:59394  Fetching  https://goodinfo.tw/tw/BasicInfo.asp?STOCK_ID=1905  timeout:  25\n",
      "retrying:  2\n",
      "158.101.146.40:59394  Fetching  https://goodinfo.tw/tw/BasicInfo.asp?STOCK_ID=1905  timeout:  30\n",
      "retrying:  3\n",
      "47.242.168.144:59394  Fetching  https://goodinfo.tw/tw/BasicInfo.asp?STOCK_ID=1905  timeout:  20\n"
     ]
    },
    {
     "name": "stderr",
     "output_type": "stream",
     "text": [
      " 14%|█▍        | 123/881 [2:46:38<15:03:05, 71.49s/it]"
     ]
    },
    {
     "name": "stdout",
     "output_type": "stream",
     "text": [
      "Success\n",
      "185.201.88.128:6969  Fetching  https://goodinfo.tw/tw/BasicInfo.asp?STOCK_ID=1906  timeout:  20\n"
     ]
    },
    {
     "name": "stderr",
     "output_type": "stream",
     "text": [
      " 14%|█▍        | 124/881 [2:46:59<11:48:02, 56.12s/it]"
     ]
    },
    {
     "name": "stdout",
     "output_type": "stream",
     "text": [
      "Success\n",
      "155.0.181.254:43496  Fetching  https://goodinfo.tw/tw/BasicInfo.asp?STOCK_ID=1907  timeout:  20\n",
      "retrying:  1\n",
      "155.0.181.254:43496  Fetching  https://goodinfo.tw/tw/BasicInfo.asp?STOCK_ID=1907  timeout:  25\n",
      "retrying:  2\n",
      "155.0.181.254:43496  Fetching  https://goodinfo.tw/tw/BasicInfo.asp?STOCK_ID=1907  timeout:  30\n",
      "retrying:  3\n",
      "185.201.88.128:6969  Fetching  https://goodinfo.tw/tw/BasicInfo.asp?STOCK_ID=1907  timeout:  20\n",
      "retrying:  1\n",
      "185.201.88.128:6969  Fetching  https://goodinfo.tw/tw/BasicInfo.asp?STOCK_ID=1907  timeout:  25\n",
      "retrying:  2\n",
      "185.201.88.128:6969  Fetching  https://goodinfo.tw/tw/BasicInfo.asp?STOCK_ID=1907  timeout:  30\n",
      "retrying:  3\n",
      "47.242.168.144:59394  Fetching  https://goodinfo.tw/tw/BasicInfo.asp?STOCK_ID=1907  timeout:  20\n"
     ]
    },
    {
     "name": "stderr",
     "output_type": "stream",
     "text": [
      " 14%|█▍        | 125/881 [2:49:30<17:45:55, 84.60s/it]"
     ]
    },
    {
     "name": "stdout",
     "output_type": "stream",
     "text": [
      "Success\n",
      "158.101.146.40:59394  Fetching  https://goodinfo.tw/tw/BasicInfo.asp?STOCK_ID=1909  timeout:  20\n",
      "retrying:  1\n",
      "158.101.146.40:59394  Fetching  https://goodinfo.tw/tw/BasicInfo.asp?STOCK_ID=1909  timeout:  25\n",
      "retrying:  2\n",
      "158.101.146.40:59394  Fetching  https://goodinfo.tw/tw/BasicInfo.asp?STOCK_ID=1909  timeout:  30\n",
      "retrying:  3\n",
      "200.105.215.18:33630  Fetching  https://goodinfo.tw/tw/BasicInfo.asp?STOCK_ID=1909  timeout:  20\n"
     ]
    },
    {
     "name": "stderr",
     "output_type": "stream",
     "text": [
      " 14%|█▍        | 126/881 [2:50:52<17:36:26, 83.96s/it]"
     ]
    },
    {
     "name": "stdout",
     "output_type": "stream",
     "text": [
      "Success\n",
      "47.242.168.144:59394  Fetching  https://goodinfo.tw/tw/BasicInfo.asp?STOCK_ID=2002  timeout:  20\n"
     ]
    },
    {
     "name": "stderr",
     "output_type": "stream",
     "text": [
      " 14%|█▍        | 127/881 [2:51:10<13:24:23, 64.01s/it]"
     ]
    },
    {
     "name": "stdout",
     "output_type": "stream",
     "text": [
      "Success\n",
      "47.242.168.144:59394  Fetching  https://goodinfo.tw/tw/BasicInfo.asp?STOCK_ID=2006  timeout:  20\n",
      "retrying:  1\n",
      "47.242.168.144:59394  Fetching  https://goodinfo.tw/tw/BasicInfo.asp?STOCK_ID=2006  timeout:  25\n",
      "retrying:  2\n",
      "47.242.168.144:59394  Fetching  https://goodinfo.tw/tw/BasicInfo.asp?STOCK_ID=2006  timeout:  30\n"
     ]
    },
    {
     "name": "stderr",
     "output_type": "stream",
     "text": [
      " 15%|█▍        | 128/881 [2:51:11<9:28:10, 45.27s/it] "
     ]
    },
    {
     "name": "stdout",
     "output_type": "stream",
     "text": [
      "Success\n",
      "200.105.215.18:33630  Fetching  https://goodinfo.tw/tw/BasicInfo.asp?STOCK_ID=2007  timeout:  20\n",
      "retrying:  1\n",
      "200.105.215.18:33630  Fetching  https://goodinfo.tw/tw/BasicInfo.asp?STOCK_ID=2007  timeout:  25\n"
     ]
    },
    {
     "name": "stderr",
     "output_type": "stream",
     "text": [
      " 15%|█▍        | 129/881 [2:51:37<8:14:59, 39.49s/it]"
     ]
    },
    {
     "name": "stdout",
     "output_type": "stream",
     "text": [
      "Success\n",
      "185.201.88.128:6969  Fetching  https://goodinfo.tw/tw/BasicInfo.asp?STOCK_ID=2008  timeout:  20\n",
      "retrying:  1\n",
      "185.201.88.128:6969  Fetching  https://goodinfo.tw/tw/BasicInfo.asp?STOCK_ID=2008  timeout:  25\n"
     ]
    },
    {
     "name": "stderr",
     "output_type": "stream",
     "text": [
      " 15%|█▍        | 130/881 [2:52:03<7:23:06, 35.40s/it]"
     ]
    },
    {
     "name": "stdout",
     "output_type": "stream",
     "text": [
      "Success\n",
      "200.105.215.18:33630  Fetching  https://goodinfo.tw/tw/BasicInfo.asp?STOCK_ID=2009  timeout:  20\n"
     ]
    },
    {
     "name": "stderr",
     "output_type": "stream",
     "text": [
      " 15%|█▍        | 131/881 [2:52:08<5:29:08, 26.33s/it]"
     ]
    },
    {
     "name": "stdout",
     "output_type": "stream",
     "text": [
      "Success\n",
      "200.105.215.18:33630  Fetching  https://goodinfo.tw/tw/BasicInfo.asp?STOCK_ID=2010  timeout:  20\n"
     ]
    },
    {
     "name": "stderr",
     "output_type": "stream",
     "text": [
      " 15%|█▍        | 132/881 [2:52:13<4:06:46, 19.77s/it]"
     ]
    },
    {
     "name": "stdout",
     "output_type": "stream",
     "text": [
      "Success\n",
      "47.242.168.144:59394  Fetching  https://goodinfo.tw/tw/BasicInfo.asp?STOCK_ID=2012  timeout:  20\n"
     ]
    },
    {
     "name": "stderr",
     "output_type": "stream",
     "text": [
      " 15%|█▌        | 133/881 [2:52:29<3:53:59, 18.77s/it]"
     ]
    },
    {
     "name": "stdout",
     "output_type": "stream",
     "text": [
      "Success\n",
      "47.242.168.144:59394  Fetching  https://goodinfo.tw/tw/BasicInfo.asp?STOCK_ID=2013  timeout:  20\n"
     ]
    },
    {
     "name": "stderr",
     "output_type": "stream",
     "text": [
      " 15%|█▌        | 134/881 [2:52:30<2:47:51, 13.48s/it]"
     ]
    },
    {
     "name": "stdout",
     "output_type": "stream",
     "text": [
      "Success\n",
      "155.0.181.254:43496  Fetching  https://goodinfo.tw/tw/BasicInfo.asp?STOCK_ID=2014  timeout:  20\n",
      "retrying:  1\n",
      "155.0.181.254:43496  Fetching  https://goodinfo.tw/tw/BasicInfo.asp?STOCK_ID=2014  timeout:  25\n",
      "retrying:  2\n",
      "155.0.181.254:43496  Fetching  https://goodinfo.tw/tw/BasicInfo.asp?STOCK_ID=2014  timeout:  30\n",
      "retrying:  3\n",
      "155.0.181.254:43496  Fetching  https://goodinfo.tw/tw/BasicInfo.asp?STOCK_ID=2014  timeout:  20\n",
      "retrying:  1\n",
      "155.0.181.254:43496  Fetching  https://goodinfo.tw/tw/BasicInfo.asp?STOCK_ID=2014  timeout:  25\n",
      "retrying:  2\n",
      "155.0.181.254:43496  Fetching  https://goodinfo.tw/tw/BasicInfo.asp?STOCK_ID=2014  timeout:  30\n",
      "retrying:  3\n",
      "47.242.168.144:59394  Fetching  https://goodinfo.tw/tw/BasicInfo.asp?STOCK_ID=2014  timeout:  20\n"
     ]
    },
    {
     "name": "stderr",
     "output_type": "stream",
     "text": [
      " 15%|█▌        | 135/881 [2:54:31<9:27:03, 45.61s/it]"
     ]
    },
    {
     "name": "stdout",
     "output_type": "stream",
     "text": [
      "Success\n",
      "158.101.146.40:59394  Fetching  https://goodinfo.tw/tw/BasicInfo.asp?STOCK_ID=2015  timeout:  20\n",
      "retrying:  1\n",
      "158.101.146.40:59394  Fetching  https://goodinfo.tw/tw/BasicInfo.asp?STOCK_ID=2015  timeout:  25\n",
      "retrying:  2\n",
      "158.101.146.40:59394  Fetching  https://goodinfo.tw/tw/BasicInfo.asp?STOCK_ID=2015  timeout:  30\n",
      "retrying:  3\n",
      "200.105.215.18:33630  Fetching  https://goodinfo.tw/tw/BasicInfo.asp?STOCK_ID=2015  timeout:  20\n"
     ]
    },
    {
     "name": "stderr",
     "output_type": "stream",
     "text": [
      " 15%|█▌        | 136/881 [2:55:59<12:04:50, 58.38s/it]"
     ]
    },
    {
     "name": "stdout",
     "output_type": "stream",
     "text": [
      "Success\n",
      "155.0.181.254:43496  Fetching  https://goodinfo.tw/tw/BasicInfo.asp?STOCK_ID=2017  timeout:  20\n",
      "retrying:  1\n",
      "155.0.181.254:43496  Fetching  https://goodinfo.tw/tw/BasicInfo.asp?STOCK_ID=2017  timeout:  25\n",
      "retrying:  2\n",
      "155.0.181.254:43496  Fetching  https://goodinfo.tw/tw/BasicInfo.asp?STOCK_ID=2017  timeout:  30\n",
      "retrying:  3\n",
      "185.201.88.128:6969  Fetching  https://goodinfo.tw/tw/BasicInfo.asp?STOCK_ID=2017  timeout:  20\n",
      "retrying:  1\n",
      "185.201.88.128:6969  Fetching  https://goodinfo.tw/tw/BasicInfo.asp?STOCK_ID=2017  timeout:  25\n",
      "retrying:  2\n",
      "185.201.88.128:6969  Fetching  https://goodinfo.tw/tw/BasicInfo.asp?STOCK_ID=2017  timeout:  30\n",
      "retrying:  3\n",
      "200.105.215.18:33630  Fetching  https://goodinfo.tw/tw/BasicInfo.asp?STOCK_ID=2017  timeout:  20\n"
     ]
    },
    {
     "name": "stderr",
     "output_type": "stream",
     "text": [
      " 16%|█▌        | 137/881 [2:58:35<18:08:18, 87.77s/it]"
     ]
    },
    {
     "name": "stdout",
     "output_type": "stream",
     "text": [
      "Success\n",
      "47.242.168.144:59394  Fetching  https://goodinfo.tw/tw/BasicInfo.asp?STOCK_ID=2020  timeout:  20\n"
     ]
    },
    {
     "name": "stderr",
     "output_type": "stream",
     "text": [
      " 16%|█▌        | 138/881 [2:58:36<12:44:44, 61.76s/it]"
     ]
    },
    {
     "name": "stdout",
     "output_type": "stream",
     "text": [
      "Success\n",
      "47.242.168.144:59394  Fetching  https://goodinfo.tw/tw/BasicInfo.asp?STOCK_ID=2022  timeout:  20\n"
     ]
    },
    {
     "name": "stderr",
     "output_type": "stream",
     "text": [
      " 16%|█▌        | 139/881 [2:58:37<8:56:04, 43.35s/it] "
     ]
    },
    {
     "name": "stdout",
     "output_type": "stream",
     "text": [
      "Success\n",
      "155.0.181.254:43496  Fetching  https://goodinfo.tw/tw/BasicInfo.asp?STOCK_ID=2023  timeout:  20\n",
      "retrying:  1\n",
      "155.0.181.254:43496  Fetching  https://goodinfo.tw/tw/BasicInfo.asp?STOCK_ID=2023  timeout:  25\n"
     ]
    },
    {
     "name": "stderr",
     "output_type": "stream",
     "text": [
      " 16%|█▌        | 140/881 [2:59:06<8:03:06, 39.12s/it]"
     ]
    },
    {
     "name": "stdout",
     "output_type": "stream",
     "text": [
      "Success\n",
      "200.105.215.18:33630  Fetching  https://goodinfo.tw/tw/BasicInfo.asp?STOCK_ID=2024  timeout:  20\n",
      "retrying:  1\n",
      "200.105.215.18:33630  Fetching  https://goodinfo.tw/tw/BasicInfo.asp?STOCK_ID=2024  timeout:  25\n"
     ]
    },
    {
     "name": "stderr",
     "output_type": "stream",
     "text": [
      " 16%|█▌        | 141/881 [3:00:03<9:08:51, 44.50s/it]"
     ]
    },
    {
     "name": "stdout",
     "output_type": "stream",
     "text": [
      "Success\n",
      "185.201.88.128:6969  Fetching  https://goodinfo.tw/tw/BasicInfo.asp?STOCK_ID=2025  timeout:  20\n"
     ]
    },
    {
     "name": "stderr",
     "output_type": "stream",
     "text": [
      " 16%|█▌        | 142/881 [3:00:11<6:52:23, 33.48s/it]"
     ]
    },
    {
     "name": "stdout",
     "output_type": "stream",
     "text": [
      "Success\n",
      "47.242.168.144:59394  Fetching  https://goodinfo.tw/tw/BasicInfo.asp?STOCK_ID=2027  timeout:  20\n"
     ]
    },
    {
     "name": "stderr",
     "output_type": "stream",
     "text": [
      " 16%|█▌        | 143/881 [3:00:19<5:19:21, 25.96s/it]"
     ]
    },
    {
     "name": "stdout",
     "output_type": "stream",
     "text": [
      "Success\n",
      "185.201.88.128:6969  Fetching  https://goodinfo.tw/tw/BasicInfo.asp?STOCK_ID=2028  timeout:  20\n",
      "retrying:  1\n",
      "185.201.88.128:6969  Fetching  https://goodinfo.tw/tw/BasicInfo.asp?STOCK_ID=2028  timeout:  25\n"
     ]
    },
    {
     "name": "stderr",
     "output_type": "stream",
     "text": [
      " 16%|█▋        | 144/881 [3:00:51<5:38:32, 27.56s/it]"
     ]
    },
    {
     "name": "stdout",
     "output_type": "stream",
     "text": [
      "Success\n",
      "185.201.88.128:6969  Fetching  https://goodinfo.tw/tw/BasicInfo.asp?STOCK_ID=2029  timeout:  20\n",
      "retrying:  1\n",
      "185.201.88.128:6969  Fetching  https://goodinfo.tw/tw/BasicInfo.asp?STOCK_ID=2029  timeout:  25\n"
     ]
    },
    {
     "name": "stderr",
     "output_type": "stream",
     "text": [
      " 16%|█▋        | 145/881 [3:01:16<5:31:41, 27.04s/it]"
     ]
    },
    {
     "name": "stdout",
     "output_type": "stream",
     "text": [
      "Success\n",
      "47.242.168.144:59394  Fetching  https://goodinfo.tw/tw/BasicInfo.asp?STOCK_ID=2030  timeout:  20\n",
      "retrying:  1\n",
      "47.242.168.144:59394  Fetching  https://goodinfo.tw/tw/BasicInfo.asp?STOCK_ID=2030  timeout:  25\n"
     ]
    },
    {
     "name": "stderr",
     "output_type": "stream",
     "text": [
      " 17%|█▋        | 146/881 [3:01:18<3:56:09, 19.28s/it]"
     ]
    },
    {
     "name": "stdout",
     "output_type": "stream",
     "text": [
      "Success\n",
      "47.242.168.144:59394  Fetching  https://goodinfo.tw/tw/BasicInfo.asp?STOCK_ID=2031  timeout:  20\n",
      "retrying:  1\n",
      "47.242.168.144:59394  Fetching  https://goodinfo.tw/tw/BasicInfo.asp?STOCK_ID=2031  timeout:  25\n"
     ]
    },
    {
     "name": "stderr",
     "output_type": "stream",
     "text": [
      " 17%|█▋        | 147/881 [3:01:26<3:15:49, 16.01s/it]"
     ]
    },
    {
     "name": "stdout",
     "output_type": "stream",
     "text": [
      "Success\n",
      "158.101.146.40:59394  Fetching  https://goodinfo.tw/tw/BasicInfo.asp?STOCK_ID=2032  timeout:  20\n",
      "retrying:  1\n",
      "158.101.146.40:59394  Fetching  https://goodinfo.tw/tw/BasicInfo.asp?STOCK_ID=2032  timeout:  25\n",
      "retrying:  2\n",
      "158.101.146.40:59394  Fetching  https://goodinfo.tw/tw/BasicInfo.asp?STOCK_ID=2032  timeout:  30\n",
      "retrying:  3\n",
      "200.105.215.18:33630  Fetching  https://goodinfo.tw/tw/BasicInfo.asp?STOCK_ID=2032  timeout:  20\n",
      "retrying:  1\n",
      "200.105.215.18:33630  Fetching  https://goodinfo.tw/tw/BasicInfo.asp?STOCK_ID=2032  timeout:  25\n"
     ]
    },
    {
     "name": "stderr",
     "output_type": "stream",
     "text": [
      " 17%|█▋        | 148/881 [3:03:06<8:24:49, 41.32s/it]"
     ]
    },
    {
     "name": "stdout",
     "output_type": "stream",
     "text": [
      "Success\n",
      "158.101.146.40:59394  Fetching  https://goodinfo.tw/tw/BasicInfo.asp?STOCK_ID=2033  timeout:  20\n",
      "retrying:  1\n",
      "158.101.146.40:59394  Fetching  https://goodinfo.tw/tw/BasicInfo.asp?STOCK_ID=2033  timeout:  25\n",
      "retrying:  2\n",
      "158.101.146.40:59394  Fetching  https://goodinfo.tw/tw/BasicInfo.asp?STOCK_ID=2033  timeout:  30\n",
      "retrying:  3\n",
      "200.105.215.18:33630  Fetching  https://goodinfo.tw/tw/BasicInfo.asp?STOCK_ID=2033  timeout:  20\n",
      "retrying:  1\n",
      "200.105.215.18:33630  Fetching  https://goodinfo.tw/tw/BasicInfo.asp?STOCK_ID=2033  timeout:  25\n",
      "retrying:  2\n",
      "200.105.215.18:33630  Fetching  https://goodinfo.tw/tw/BasicInfo.asp?STOCK_ID=2033  timeout:  30\n"
     ]
    },
    {
     "name": "stderr",
     "output_type": "stream",
     "text": [
      " 17%|█▋        | 149/881 [3:05:18<13:56:10, 68.54s/it]"
     ]
    },
    {
     "name": "stdout",
     "output_type": "stream",
     "text": [
      "Success\n",
      "47.242.168.144:59394  Fetching  https://goodinfo.tw/tw/BasicInfo.asp?STOCK_ID=2034  timeout:  20\n",
      "retrying:  1\n",
      "47.242.168.144:59394  Fetching  https://goodinfo.tw/tw/BasicInfo.asp?STOCK_ID=2034  timeout:  25\n"
     ]
    },
    {
     "name": "stderr",
     "output_type": "stream",
     "text": [
      " 17%|█▋        | 150/881 [3:05:20<9:51:44, 48.57s/it] "
     ]
    },
    {
     "name": "stdout",
     "output_type": "stream",
     "text": [
      "Success\n",
      "185.201.88.128:6969  Fetching  https://goodinfo.tw/tw/BasicInfo.asp?STOCK_ID=2038  timeout:  20\n"
     ]
    },
    {
     "name": "stderr",
     "output_type": "stream",
     "text": [
      " 17%|█▋        | 151/881 [3:05:25<7:10:08, 35.35s/it]"
     ]
    },
    {
     "name": "stdout",
     "output_type": "stream",
     "text": [
      "Success\n",
      "155.0.181.254:43496  Fetching  https://goodinfo.tw/tw/BasicInfo.asp?STOCK_ID=2049  timeout:  20\n"
     ]
    },
    {
     "name": "stderr",
     "output_type": "stream",
     "text": [
      " 17%|█▋        | 152/881 [3:05:35<5:38:11, 27.83s/it]"
     ]
    },
    {
     "name": "stdout",
     "output_type": "stream",
     "text": [
      "Success\n",
      "158.101.146.40:59394  Fetching  https://goodinfo.tw/tw/BasicInfo.asp?STOCK_ID=2059  timeout:  20\n",
      "retrying:  1\n",
      "158.101.146.40:59394  Fetching  https://goodinfo.tw/tw/BasicInfo.asp?STOCK_ID=2059  timeout:  25\n",
      "retrying:  2\n",
      "158.101.146.40:59394  Fetching  https://goodinfo.tw/tw/BasicInfo.asp?STOCK_ID=2059  timeout:  30\n",
      "retrying:  3\n",
      "185.201.88.128:6969  Fetching  https://goodinfo.tw/tw/BasicInfo.asp?STOCK_ID=2059  timeout:  20\n"
     ]
    },
    {
     "name": "stderr",
     "output_type": "stream",
     "text": [
      " 17%|█▋        | 153/881 [3:06:58<8:59:21, 44.45s/it]"
     ]
    },
    {
     "name": "stdout",
     "output_type": "stream",
     "text": [
      "Success\n",
      "155.0.181.254:43496  Fetching  https://goodinfo.tw/tw/BasicInfo.asp?STOCK_ID=2062  timeout:  20\n",
      "retrying:  1\n",
      "155.0.181.254:43496  Fetching  https://goodinfo.tw/tw/BasicInfo.asp?STOCK_ID=2062  timeout:  25\n",
      "retrying:  2\n",
      "155.0.181.254:43496  Fetching  https://goodinfo.tw/tw/BasicInfo.asp?STOCK_ID=2062  timeout:  30\n",
      "retrying:  3\n",
      "185.201.88.128:6969  Fetching  https://goodinfo.tw/tw/BasicInfo.asp?STOCK_ID=2062  timeout:  20\n"
     ]
    },
    {
     "name": "stderr",
     "output_type": "stream",
     "text": [
      " 17%|█▋        | 154/881 [3:08:18<11:07:44, 55.11s/it]"
     ]
    },
    {
     "name": "stdout",
     "output_type": "stream",
     "text": [
      "Success\n",
      "185.201.88.128:6969  Fetching  https://goodinfo.tw/tw/BasicInfo.asp?STOCK_ID=2069  timeout:  20\n"
     ]
    },
    {
     "name": "stderr",
     "output_type": "stream",
     "text": [
      " 18%|█▊        | 155/881 [3:08:22<8:00:23, 39.70s/it] "
     ]
    },
    {
     "name": "stdout",
     "output_type": "stream",
     "text": [
      "Success\n",
      "200.105.215.18:33630  Fetching  https://goodinfo.tw/tw/BasicInfo.asp?STOCK_ID=2101  timeout:  20\n"
     ]
    },
    {
     "name": "stderr",
     "output_type": "stream",
     "text": [
      " 18%|█▊        | 156/881 [3:08:28<5:57:37, 29.60s/it]"
     ]
    },
    {
     "name": "stdout",
     "output_type": "stream",
     "text": [
      "Success\n",
      "200.105.215.18:33630  Fetching  https://goodinfo.tw/tw/BasicInfo.asp?STOCK_ID=2102  timeout:  20\n",
      "retrying:  1\n",
      "200.105.215.18:33630  Fetching  https://goodinfo.tw/tw/BasicInfo.asp?STOCK_ID=2102  timeout:  25\n"
     ]
    },
    {
     "name": "stderr",
     "output_type": "stream",
     "text": [
      " 18%|█▊        | 157/881 [3:08:54<5:42:14, 28.36s/it]"
     ]
    },
    {
     "name": "stdout",
     "output_type": "stream",
     "text": [
      "Success\n",
      "47.242.168.144:59394  Fetching  https://goodinfo.tw/tw/BasicInfo.asp?STOCK_ID=2103  timeout:  20\n"
     ]
    },
    {
     "name": "stderr",
     "output_type": "stream",
     "text": [
      " 18%|█▊        | 158/881 [3:08:57<4:12:31, 20.96s/it]"
     ]
    },
    {
     "name": "stdout",
     "output_type": "stream",
     "text": [
      "Success\n",
      "155.0.181.254:43496  Fetching  https://goodinfo.tw/tw/BasicInfo.asp?STOCK_ID=2104  timeout:  20\n",
      "retrying:  1\n",
      "155.0.181.254:43496  Fetching  https://goodinfo.tw/tw/BasicInfo.asp?STOCK_ID=2104  timeout:  25\n"
     ]
    },
    {
     "name": "stderr",
     "output_type": "stream",
     "text": [
      " 18%|█▊        | 159/881 [3:09:26<4:40:33, 23.32s/it]"
     ]
    },
    {
     "name": "stdout",
     "output_type": "stream",
     "text": [
      "Success\n",
      "185.201.88.128:6969  Fetching  https://goodinfo.tw/tw/BasicInfo.asp?STOCK_ID=2105  timeout:  20\n",
      "retrying:  1\n",
      "185.201.88.128:6969  Fetching  https://goodinfo.tw/tw/BasicInfo.asp?STOCK_ID=2105  timeout:  25\n",
      "retrying:  2\n",
      "185.201.88.128:6969  Fetching  https://goodinfo.tw/tw/BasicInfo.asp?STOCK_ID=2105  timeout:  30\n"
     ]
    },
    {
     "name": "stderr",
     "output_type": "stream",
     "text": [
      " 18%|█▊        | 160/881 [3:10:17<6:20:45, 31.69s/it]"
     ]
    },
    {
     "name": "stdout",
     "output_type": "stream",
     "text": [
      "Success\n",
      "47.242.168.144:59394  Fetching  https://goodinfo.tw/tw/BasicInfo.asp?STOCK_ID=2106  timeout:  20\n",
      "retrying:  1\n",
      "47.242.168.144:59394  Fetching  https://goodinfo.tw/tw/BasicInfo.asp?STOCK_ID=2106  timeout:  25\n",
      "retrying:  2\n",
      "47.242.168.144:59394  Fetching  https://goodinfo.tw/tw/BasicInfo.asp?STOCK_ID=2106  timeout:  30\n"
     ]
    },
    {
     "name": "stderr",
     "output_type": "stream",
     "text": [
      " 18%|█▊        | 161/881 [3:10:29<5:06:43, 25.56s/it]"
     ]
    },
    {
     "name": "stdout",
     "output_type": "stream",
     "text": [
      "Success\n",
      "200.105.215.18:33630  Fetching  https://goodinfo.tw/tw/BasicInfo.asp?STOCK_ID=2107  timeout:  20\n"
     ]
    },
    {
     "name": "stderr",
     "output_type": "stream",
     "text": [
      " 18%|█▊        | 162/881 [3:10:37<4:02:44, 20.26s/it]"
     ]
    },
    {
     "name": "stdout",
     "output_type": "stream",
     "text": [
      "Success\n",
      "47.242.168.144:59394  Fetching  https://goodinfo.tw/tw/BasicInfo.asp?STOCK_ID=2108  timeout:  20\n",
      "retrying:  1\n",
      "47.242.168.144:59394  Fetching  https://goodinfo.tw/tw/BasicInfo.asp?STOCK_ID=2108  timeout:  25\n"
     ]
    },
    {
     "name": "stderr",
     "output_type": "stream",
     "text": [
      " 19%|█▊        | 163/881 [3:11:00<4:15:18, 21.34s/it]"
     ]
    },
    {
     "name": "stdout",
     "output_type": "stream",
     "text": [
      "Success\n",
      "200.105.215.18:33630  Fetching  https://goodinfo.tw/tw/BasicInfo.asp?STOCK_ID=2109  timeout:  20\n"
     ]
    },
    {
     "name": "stderr",
     "output_type": "stream",
     "text": [
      " 19%|█▊        | 164/881 [3:11:06<3:19:23, 16.69s/it]"
     ]
    },
    {
     "name": "stdout",
     "output_type": "stream",
     "text": [
      "Success\n",
      "200.105.215.18:33630  Fetching  https://goodinfo.tw/tw/BasicInfo.asp?STOCK_ID=2114  timeout:  20\n"
     ]
    },
    {
     "name": "stderr",
     "output_type": "stream",
     "text": [
      " 19%|█▊        | 165/881 [3:11:14<2:45:24, 13.86s/it]"
     ]
    },
    {
     "name": "stdout",
     "output_type": "stream",
     "text": [
      "Success\n",
      "158.101.146.40:59394  Fetching  https://goodinfo.tw/tw/BasicInfo.asp?STOCK_ID=2115  timeout:  20\n",
      "retrying:  1\n",
      "158.101.146.40:59394  Fetching  https://goodinfo.tw/tw/BasicInfo.asp?STOCK_ID=2115  timeout:  25\n",
      "retrying:  2\n",
      "158.101.146.40:59394  Fetching  https://goodinfo.tw/tw/BasicInfo.asp?STOCK_ID=2115  timeout:  30\n",
      "retrying:  3\n",
      "200.105.215.18:33630  Fetching  https://goodinfo.tw/tw/BasicInfo.asp?STOCK_ID=2115  timeout:  20\n"
     ]
    },
    {
     "name": "stderr",
     "output_type": "stream",
     "text": [
      " 19%|█▉        | 166/881 [3:12:33<6:41:09, 33.66s/it]"
     ]
    },
    {
     "name": "stdout",
     "output_type": "stream",
     "text": [
      "Success\n",
      "185.201.88.128:6969  Fetching  https://goodinfo.tw/tw/BasicInfo.asp?STOCK_ID=2201  timeout:  20\n"
     ]
    },
    {
     "name": "stderr",
     "output_type": "stream",
     "text": [
      " 19%|█▉        | 167/881 [3:12:40<5:02:36, 25.43s/it]"
     ]
    },
    {
     "name": "stdout",
     "output_type": "stream",
     "text": [
      "Success\n",
      "47.242.168.144:59394  Fetching  https://goodinfo.tw/tw/BasicInfo.asp?STOCK_ID=2204  timeout:  20\n"
     ]
    },
    {
     "name": "stderr",
     "output_type": "stream",
     "text": [
      " 19%|█▉        | 168/881 [3:12:43<3:42:21, 18.71s/it]"
     ]
    },
    {
     "name": "stdout",
     "output_type": "stream",
     "text": [
      "Success\n",
      "47.242.168.144:59394  Fetching  https://goodinfo.tw/tw/BasicInfo.asp?STOCK_ID=2206  timeout:  20\n"
     ]
    },
    {
     "name": "stderr",
     "output_type": "stream",
     "text": [
      " 19%|█▉        | 169/881 [3:13:01<3:41:11, 18.64s/it]"
     ]
    },
    {
     "name": "stdout",
     "output_type": "stream",
     "text": [
      "Success\n",
      "47.242.168.144:59394  Fetching  https://goodinfo.tw/tw/BasicInfo.asp?STOCK_ID=2207  timeout:  20\n"
     ]
    },
    {
     "name": "stderr",
     "output_type": "stream",
     "text": [
      " 19%|█▉        | 170/881 [3:13:03<2:40:11, 13.52s/it]"
     ]
    },
    {
     "name": "stdout",
     "output_type": "stream",
     "text": [
      "Success\n",
      "155.0.181.254:43496  Fetching  https://goodinfo.tw/tw/BasicInfo.asp?STOCK_ID=2208  timeout:  20\n"
     ]
    },
    {
     "name": "stderr",
     "output_type": "stream",
     "text": [
      " 19%|█▉        | 171/881 [3:13:12<2:25:29, 12.30s/it]"
     ]
    },
    {
     "name": "stdout",
     "output_type": "stream",
     "text": [
      "Success\n",
      "47.242.168.144:59394  Fetching  https://goodinfo.tw/tw/BasicInfo.asp?STOCK_ID=2211  timeout:  20\n",
      "retrying:  1\n",
      "47.242.168.144:59394  Fetching  https://goodinfo.tw/tw/BasicInfo.asp?STOCK_ID=2211  timeout:  25\n",
      "retrying:  2\n",
      "47.242.168.144:59394  Fetching  https://goodinfo.tw/tw/BasicInfo.asp?STOCK_ID=2211  timeout:  30\n"
     ]
    },
    {
     "name": "stderr",
     "output_type": "stream",
     "text": [
      " 20%|█▉        | 172/881 [3:13:29<2:41:41, 13.68s/it]"
     ]
    },
    {
     "name": "stdout",
     "output_type": "stream",
     "text": [
      "Success\n",
      "185.201.88.128:6969  Fetching  https://goodinfo.tw/tw/BasicInfo.asp?STOCK_ID=2227  timeout:  20\n"
     ]
    },
    {
     "name": "stderr",
     "output_type": "stream",
     "text": [
      " 20%|█▉        | 173/881 [3:13:35<2:13:02, 11.28s/it]"
     ]
    },
    {
     "name": "stdout",
     "output_type": "stream",
     "text": [
      "Success\n",
      "158.101.146.40:59394  Fetching  https://goodinfo.tw/tw/BasicInfo.asp?STOCK_ID=2228  timeout:  20\n",
      "retrying:  1\n",
      "158.101.146.40:59394  Fetching  https://goodinfo.tw/tw/BasicInfo.asp?STOCK_ID=2228  timeout:  25\n",
      "retrying:  2\n",
      "158.101.146.40:59394  Fetching  https://goodinfo.tw/tw/BasicInfo.asp?STOCK_ID=2228  timeout:  30\n",
      "retrying:  3\n",
      "47.242.168.144:59394  Fetching  https://goodinfo.tw/tw/BasicInfo.asp?STOCK_ID=2228  timeout:  20\n"
     ]
    },
    {
     "name": "stderr",
     "output_type": "stream",
     "text": [
      " 20%|█▉        | 174/881 [3:14:53<6:08:59, 31.32s/it]"
     ]
    },
    {
     "name": "stdout",
     "output_type": "stream",
     "text": [
      "Success\n",
      "200.105.215.18:33630  Fetching  https://goodinfo.tw/tw/BasicInfo.asp?STOCK_ID=2231  timeout:  20\n",
      "retrying:  1\n",
      "200.105.215.18:33630  Fetching  https://goodinfo.tw/tw/BasicInfo.asp?STOCK_ID=2231  timeout:  25\n",
      "retrying:  2\n",
      "200.105.215.18:33630  Fetching  https://goodinfo.tw/tw/BasicInfo.asp?STOCK_ID=2231  timeout:  30\n"
     ]
    },
    {
     "name": "stderr",
     "output_type": "stream",
     "text": [
      " 20%|█▉        | 175/881 [3:15:45<7:23:52, 37.72s/it]"
     ]
    },
    {
     "name": "stdout",
     "output_type": "stream",
     "text": [
      "Success\n",
      "47.242.168.144:59394  Fetching  https://goodinfo.tw/tw/BasicInfo.asp?STOCK_ID=2233  timeout:  20\n",
      "retrying:  1\n",
      "47.242.168.144:59394  Fetching  https://goodinfo.tw/tw/BasicInfo.asp?STOCK_ID=2233  timeout:  25\n"
     ]
    },
    {
     "name": "stderr",
     "output_type": "stream",
     "text": [
      " 20%|█▉        | 176/881 [3:16:06<6:24:26, 32.72s/it]"
     ]
    },
    {
     "name": "stdout",
     "output_type": "stream",
     "text": [
      "Success\n",
      "47.242.168.144:59394  Fetching  https://goodinfo.tw/tw/BasicInfo.asp?STOCK_ID=2236  timeout:  20\n"
     ]
    },
    {
     "name": "stderr",
     "output_type": "stream",
     "text": [
      " 20%|██        | 177/881 [3:16:08<4:35:42, 23.50s/it]"
     ]
    },
    {
     "name": "stdout",
     "output_type": "stream",
     "text": [
      "Success\n",
      "155.0.181.254:43496  Fetching  https://goodinfo.tw/tw/BasicInfo.asp?STOCK_ID=2239  timeout:  20\n",
      "retrying:  1\n",
      "155.0.181.254:43496  Fetching  https://goodinfo.tw/tw/BasicInfo.asp?STOCK_ID=2239  timeout:  25\n",
      "retrying:  2\n",
      "155.0.181.254:43496  Fetching  https://goodinfo.tw/tw/BasicInfo.asp?STOCK_ID=2239  timeout:  30\n",
      "retrying:  3\n",
      "155.0.181.254:43496  Fetching  https://goodinfo.tw/tw/BasicInfo.asp?STOCK_ID=2239  timeout:  20\n",
      "retrying:  1\n",
      "155.0.181.254:43496  Fetching  https://goodinfo.tw/tw/BasicInfo.asp?STOCK_ID=2239  timeout:  25\n"
     ]
    },
    {
     "name": "stderr",
     "output_type": "stream",
     "text": [
      " 20%|██        | 178/881 [3:17:49<9:07:20, 46.71s/it]"
     ]
    },
    {
     "name": "stdout",
     "output_type": "stream",
     "text": [
      "Success\n",
      "47.242.168.144:59394  Fetching  https://goodinfo.tw/tw/BasicInfo.asp?STOCK_ID=2241  timeout:  20\n"
     ]
    },
    {
     "name": "stderr",
     "output_type": "stream",
     "text": [
      " 20%|██        | 179/881 [3:17:54<6:38:50, 34.09s/it]"
     ]
    },
    {
     "name": "stdout",
     "output_type": "stream",
     "text": [
      "Success\n",
      "155.0.181.254:43496  Fetching  https://goodinfo.tw/tw/BasicInfo.asp?STOCK_ID=2243  timeout:  20\n",
      "retrying:  1\n",
      "155.0.181.254:43496  Fetching  https://goodinfo.tw/tw/BasicInfo.asp?STOCK_ID=2243  timeout:  25\n"
     ]
    },
    {
     "name": "stderr",
     "output_type": "stream",
     "text": [
      " 20%|██        | 180/881 [3:18:13<5:46:50, 29.69s/it]"
     ]
    },
    {
     "name": "stdout",
     "output_type": "stream",
     "text": [
      "Success\n",
      "155.0.181.254:43496  Fetching  https://goodinfo.tw/tw/BasicInfo.asp?STOCK_ID=2247  timeout:  20\n",
      "retrying:  1\n",
      "155.0.181.254:43496  Fetching  https://goodinfo.tw/tw/BasicInfo.asp?STOCK_ID=2247  timeout:  25\n",
      "retrying:  2\n",
      "155.0.181.254:43496  Fetching  https://goodinfo.tw/tw/BasicInfo.asp?STOCK_ID=2247  timeout:  30\n"
     ]
    },
    {
     "name": "stderr",
     "output_type": "stream",
     "text": [
      " 21%|██        | 181/881 [3:19:15<7:39:21, 39.37s/it]"
     ]
    },
    {
     "name": "stdout",
     "output_type": "stream",
     "text": [
      "Success\n",
      "47.242.168.144:59394  Fetching  https://goodinfo.tw/tw/BasicInfo.asp?STOCK_ID=2250  timeout:  20\n",
      "retrying:  1\n",
      "47.242.168.144:59394  Fetching  https://goodinfo.tw/tw/BasicInfo.asp?STOCK_ID=2250  timeout:  25\n"
     ]
    },
    {
     "name": "stderr",
     "output_type": "stream",
     "text": [
      " 21%|██        | 182/881 [3:19:23<5:46:43, 29.76s/it]"
     ]
    },
    {
     "name": "stdout",
     "output_type": "stream",
     "text": [
      "Success\n",
      "47.242.168.144:59394  Fetching  https://goodinfo.tw/tw/BasicInfo.asp?STOCK_ID=2301  timeout:  20\n"
     ]
    },
    {
     "name": "stderr",
     "output_type": "stream",
     "text": [
      " 21%|██        | 183/881 [3:19:24<4:05:45, 21.13s/it]"
     ]
    },
    {
     "name": "stdout",
     "output_type": "stream",
     "text": [
      "Success\n",
      "47.242.168.144:59394  Fetching  https://goodinfo.tw/tw/BasicInfo.asp?STOCK_ID=2302  timeout:  20\n",
      "retrying:  1\n",
      "47.242.168.144:59394  Fetching  https://goodinfo.tw/tw/BasicInfo.asp?STOCK_ID=2302  timeout:  25\n"
     ]
    },
    {
     "name": "stderr",
     "output_type": "stream",
     "text": [
      " 21%|██        | 184/881 [3:19:30<3:15:23, 16.82s/it]"
     ]
    },
    {
     "name": "stdout",
     "output_type": "stream",
     "text": [
      "Success\n",
      "47.242.168.144:59394  Fetching  https://goodinfo.tw/tw/BasicInfo.asp?STOCK_ID=2303  timeout:  20\n"
     ]
    },
    {
     "name": "stderr",
     "output_type": "stream",
     "text": [
      " 21%|██        | 185/881 [3:19:32<2:21:51, 12.23s/it]"
     ]
    },
    {
     "name": "stdout",
     "output_type": "stream",
     "text": [
      "Success\n",
      "200.105.215.18:33630  Fetching  https://goodinfo.tw/tw/BasicInfo.asp?STOCK_ID=2305  timeout:  20\n"
     ]
    },
    {
     "name": "stderr",
     "output_type": "stream",
     "text": [
      " 21%|██        | 186/881 [3:19:38<2:01:05, 10.45s/it]"
     ]
    },
    {
     "name": "stdout",
     "output_type": "stream",
     "text": [
      "Success\n",
      "185.201.88.128:6969  Fetching  https://goodinfo.tw/tw/BasicInfo.asp?STOCK_ID=2308  timeout:  20\n",
      "retrying:  1\n",
      "185.201.88.128:6969  Fetching  https://goodinfo.tw/tw/BasicInfo.asp?STOCK_ID=2308  timeout:  25\n"
     ]
    },
    {
     "name": "stderr",
     "output_type": "stream",
     "text": [
      " 21%|██        | 187/881 [3:20:05<2:57:04, 15.31s/it]"
     ]
    },
    {
     "name": "stdout",
     "output_type": "stream",
     "text": [
      "Success\n",
      "47.242.168.144:59394  Fetching  https://goodinfo.tw/tw/BasicInfo.asp?STOCK_ID=2312  timeout:  20\n",
      "retrying:  1\n",
      "47.242.168.144:59394  Fetching  https://goodinfo.tw/tw/BasicInfo.asp?STOCK_ID=2312  timeout:  25\n",
      "retrying:  2\n",
      "47.242.168.144:59394  Fetching  https://goodinfo.tw/tw/BasicInfo.asp?STOCK_ID=2312  timeout:  30\n"
     ]
    },
    {
     "name": "stderr",
     "output_type": "stream",
     "text": [
      " 21%|██▏       | 188/881 [3:20:31<3:33:35, 18.49s/it]"
     ]
    },
    {
     "name": "stdout",
     "output_type": "stream",
     "text": [
      "Success\n",
      "155.0.181.254:43496  Fetching  https://goodinfo.tw/tw/BasicInfo.asp?STOCK_ID=2313  timeout:  20\n",
      "retrying:  1\n",
      "155.0.181.254:43496  Fetching  https://goodinfo.tw/tw/BasicInfo.asp?STOCK_ID=2313  timeout:  25\n",
      "retrying:  2\n",
      "155.0.181.254:43496  Fetching  https://goodinfo.tw/tw/BasicInfo.asp?STOCK_ID=2313  timeout:  30\n",
      "retrying:  3\n",
      "185.201.88.128:6969  Fetching  https://goodinfo.tw/tw/BasicInfo.asp?STOCK_ID=2313  timeout:  20\n",
      "retrying:  1\n",
      "185.201.88.128:6969  Fetching  https://goodinfo.tw/tw/BasicInfo.asp?STOCK_ID=2313  timeout:  25\n",
      "retrying:  2\n",
      "185.201.88.128:6969  Fetching  https://goodinfo.tw/tw/BasicInfo.asp?STOCK_ID=2313  timeout:  30\n"
     ]
    },
    {
     "name": "stderr",
     "output_type": "stream",
     "text": [
      " 21%|██▏       | 189/881 [3:22:51<10:35:46, 55.13s/it]"
     ]
    },
    {
     "name": "stdout",
     "output_type": "stream",
     "text": [
      "Success\n",
      "200.105.215.18:33630  Fetching  https://goodinfo.tw/tw/BasicInfo.asp?STOCK_ID=2314  timeout:  20\n",
      "retrying:  1\n",
      "200.105.215.18:33630  Fetching  https://goodinfo.tw/tw/BasicInfo.asp?STOCK_ID=2314  timeout:  25\n"
     ]
    },
    {
     "name": "stderr",
     "output_type": "stream",
     "text": [
      " 22%|██▏       | 190/881 [3:23:24<9:16:57, 48.36s/it] "
     ]
    },
    {
     "name": "stdout",
     "output_type": "stream",
     "text": [
      "Success\n",
      "47.242.168.144:59394  Fetching  https://goodinfo.tw/tw/BasicInfo.asp?STOCK_ID=2316  timeout:  20\n"
     ]
    },
    {
     "name": "stderr",
     "output_type": "stream",
     "text": [
      " 22%|██▏       | 191/881 [3:23:25<6:33:05, 34.18s/it]"
     ]
    },
    {
     "name": "stdout",
     "output_type": "stream",
     "text": [
      "Success\n",
      "155.0.181.254:43496  Fetching  https://goodinfo.tw/tw/BasicInfo.asp?STOCK_ID=2317  timeout:  20\n",
      "retrying:  1\n",
      "155.0.181.254:43496  Fetching  https://goodinfo.tw/tw/BasicInfo.asp?STOCK_ID=2317  timeout:  25\n",
      "retrying:  2\n",
      "155.0.181.254:43496  Fetching  https://goodinfo.tw/tw/BasicInfo.asp?STOCK_ID=2317  timeout:  30\n",
      "retrying:  3\n",
      "47.242.168.144:59394  Fetching  https://goodinfo.tw/tw/BasicInfo.asp?STOCK_ID=2317  timeout:  20\n",
      "retrying:  1\n",
      "47.242.168.144:59394  Fetching  https://goodinfo.tw/tw/BasicInfo.asp?STOCK_ID=2317  timeout:  25\n"
     ]
    },
    {
     "name": "stderr",
     "output_type": "stream",
     "text": [
      " 22%|██▏       | 192/881 [3:24:57<9:51:18, 51.49s/it]"
     ]
    },
    {
     "name": "stdout",
     "output_type": "stream",
     "text": [
      "Success\n",
      "155.0.181.254:43496  Fetching  https://goodinfo.tw/tw/BasicInfo.asp?STOCK_ID=2321  timeout:  20\n",
      "retrying:  1\n",
      "155.0.181.254:43496  Fetching  https://goodinfo.tw/tw/BasicInfo.asp?STOCK_ID=2321  timeout:  25\n",
      "retrying:  2\n",
      "155.0.181.254:43496  Fetching  https://goodinfo.tw/tw/BasicInfo.asp?STOCK_ID=2321  timeout:  30\n",
      "retrying:  3\n",
      "155.0.181.254:43496  Fetching  https://goodinfo.tw/tw/BasicInfo.asp?STOCK_ID=2321  timeout:  20\n",
      "retrying:  1\n",
      "155.0.181.254:43496  Fetching  https://goodinfo.tw/tw/BasicInfo.asp?STOCK_ID=2321  timeout:  25\n",
      "retrying:  2\n",
      "155.0.181.254:43496  Fetching  https://goodinfo.tw/tw/BasicInfo.asp?STOCK_ID=2321  timeout:  30\n",
      "retrying:  3\n",
      "185.201.88.128:6969  Fetching  https://goodinfo.tw/tw/BasicInfo.asp?STOCK_ID=2321  timeout:  20\n",
      "retrying:  1\n",
      "185.201.88.128:6969  Fetching  https://goodinfo.tw/tw/BasicInfo.asp?STOCK_ID=2321  timeout:  25\n",
      "retrying:  2\n",
      "185.201.88.128:6969  Fetching  https://goodinfo.tw/tw/BasicInfo.asp?STOCK_ID=2321  timeout:  30\n",
      "retrying:  3\n",
      "47.242.168.144:59394  Fetching  https://goodinfo.tw/tw/BasicInfo.asp?STOCK_ID=2321  timeout:  20\n"
     ]
    },
    {
     "name": "stderr",
     "output_type": "stream",
     "text": [
      " 22%|██▏       | 193/881 [3:28:51<20:16:29, 106.09s/it]"
     ]
    },
    {
     "name": "stdout",
     "output_type": "stream",
     "text": [
      "Success\n",
      "200.105.215.18:33630  Fetching  https://goodinfo.tw/tw/BasicInfo.asp?STOCK_ID=2323  timeout:  20\n",
      "retrying:  1\n",
      "200.105.215.18:33630  Fetching  https://goodinfo.tw/tw/BasicInfo.asp?STOCK_ID=2323  timeout:  25\n"
     ]
    },
    {
     "name": "stderr",
     "output_type": "stream",
     "text": [
      " 22%|██▏       | 194/881 [3:29:20<15:49:58, 82.97s/it] "
     ]
    },
    {
     "name": "stdout",
     "output_type": "stream",
     "text": [
      "Success\n",
      "185.201.88.128:6969  Fetching  https://goodinfo.tw/tw/BasicInfo.asp?STOCK_ID=2324  timeout:  20\n"
     ]
    },
    {
     "name": "stderr",
     "output_type": "stream",
     "text": [
      " 22%|██▏       | 195/881 [3:29:35<11:56:54, 62.70s/it]"
     ]
    },
    {
     "name": "stdout",
     "output_type": "stream",
     "text": [
      "Success\n",
      "185.201.88.128:6969  Fetching  https://goodinfo.tw/tw/BasicInfo.asp?STOCK_ID=2327  timeout:  20\n"
     ]
    },
    {
     "name": "stderr",
     "output_type": "stream",
     "text": [
      " 22%|██▏       | 196/881 [3:29:50<9:11:51, 48.34s/it] "
     ]
    },
    {
     "name": "stdout",
     "output_type": "stream",
     "text": [
      "Success\n",
      "158.101.146.40:59394  Fetching  https://goodinfo.tw/tw/BasicInfo.asp?STOCK_ID=2328  timeout:  20\n",
      "retrying:  1\n",
      "158.101.146.40:59394  Fetching  https://goodinfo.tw/tw/BasicInfo.asp?STOCK_ID=2328  timeout:  25\n",
      "retrying:  2\n",
      "158.101.146.40:59394  Fetching  https://goodinfo.tw/tw/BasicInfo.asp?STOCK_ID=2328  timeout:  30\n",
      "retrying:  3\n",
      "155.0.181.254:43496  Fetching  https://goodinfo.tw/tw/BasicInfo.asp?STOCK_ID=2328  timeout:  20\n",
      "retrying:  1\n",
      "155.0.181.254:43496  Fetching  https://goodinfo.tw/tw/BasicInfo.asp?STOCK_ID=2328  timeout:  25\n",
      "retrying:  2\n",
      "155.0.181.254:43496  Fetching  https://goodinfo.tw/tw/BasicInfo.asp?STOCK_ID=2328  timeout:  30\n",
      "retrying:  3\n",
      "155.0.181.254:43496  Fetching  https://goodinfo.tw/tw/BasicInfo.asp?STOCK_ID=2328  timeout:  20\n",
      "retrying:  1\n",
      "155.0.181.254:43496  Fetching  https://goodinfo.tw/tw/BasicInfo.asp?STOCK_ID=2328  timeout:  25\n",
      "retrying:  2\n",
      "155.0.181.254:43496  Fetching  https://goodinfo.tw/tw/BasicInfo.asp?STOCK_ID=2328  timeout:  30\n",
      "retrying:  3\n",
      "200.105.215.18:33630  Fetching  https://goodinfo.tw/tw/BasicInfo.asp?STOCK_ID=2328  timeout:  20\n",
      "retrying:  1\n",
      "200.105.215.18:33630  Fetching  https://goodinfo.tw/tw/BasicInfo.asp?STOCK_ID=2328  timeout:  25\n",
      "retrying:  2\n",
      "200.105.215.18:33630  Fetching  https://goodinfo.tw/tw/BasicInfo.asp?STOCK_ID=2328  timeout:  30\n",
      "retrying:  3\n",
      "200.105.215.18:33630  Fetching  https://goodinfo.tw/tw/BasicInfo.asp?STOCK_ID=2328  timeout:  20\n"
     ]
    },
    {
     "name": "stderr",
     "output_type": "stream",
     "text": [
      " 22%|██▏       | 197/881 [3:35:07<24:30:54, 129.03s/it]"
     ]
    },
    {
     "name": "stdout",
     "output_type": "stream",
     "text": [
      "Success\n",
      "155.0.181.254:43496  Fetching  https://goodinfo.tw/tw/BasicInfo.asp?STOCK_ID=2329  timeout:  20\n",
      "retrying:  1\n",
      "155.0.181.254:43496  Fetching  https://goodinfo.tw/tw/BasicInfo.asp?STOCK_ID=2329  timeout:  25\n",
      "retrying:  2\n",
      "155.0.181.254:43496  Fetching  https://goodinfo.tw/tw/BasicInfo.asp?STOCK_ID=2329  timeout:  30\n",
      "retrying:  3\n",
      "158.101.146.40:59394  Fetching  https://goodinfo.tw/tw/BasicInfo.asp?STOCK_ID=2329  timeout:  20\n",
      "retrying:  1\n",
      "158.101.146.40:59394  Fetching  https://goodinfo.tw/tw/BasicInfo.asp?STOCK_ID=2329  timeout:  25\n",
      "retrying:  2\n",
      "158.101.146.40:59394  Fetching  https://goodinfo.tw/tw/BasicInfo.asp?STOCK_ID=2329  timeout:  30\n",
      "retrying:  3\n",
      "155.0.181.254:43496  Fetching  https://goodinfo.tw/tw/BasicInfo.asp?STOCK_ID=2329  timeout:  20\n",
      "retrying:  1\n",
      "155.0.181.254:43496  Fetching  https://goodinfo.tw/tw/BasicInfo.asp?STOCK_ID=2329  timeout:  25\n",
      "retrying:  2\n",
      "155.0.181.254:43496  Fetching  https://goodinfo.tw/tw/BasicInfo.asp?STOCK_ID=2329  timeout:  30\n",
      "retrying:  3\n",
      "185.201.88.128:6969  Fetching  https://goodinfo.tw/tw/BasicInfo.asp?STOCK_ID=2329  timeout:  20\n",
      "retrying:  1\n",
      "185.201.88.128:6969  Fetching  https://goodinfo.tw/tw/BasicInfo.asp?STOCK_ID=2329  timeout:  25\n",
      "retrying:  2\n",
      "185.201.88.128:6969  Fetching  https://goodinfo.tw/tw/BasicInfo.asp?STOCK_ID=2329  timeout:  30\n",
      "retrying:  3\n",
      "185.201.88.128:6969  Fetching  https://goodinfo.tw/tw/BasicInfo.asp?STOCK_ID=2329  timeout:  20\n",
      "retrying:  1\n",
      "185.201.88.128:6969  Fetching  https://goodinfo.tw/tw/BasicInfo.asp?STOCK_ID=2329  timeout:  25\n",
      "retrying:  2\n",
      "185.201.88.128:6969  Fetching  https://goodinfo.tw/tw/BasicInfo.asp?STOCK_ID=2329  timeout:  30\n"
     ]
    },
    {
     "name": "stderr",
     "output_type": "stream",
     "text": [
      " 22%|██▏       | 198/881 [3:41:22<38:29:36, 202.89s/it]"
     ]
    },
    {
     "name": "stdout",
     "output_type": "stream",
     "text": [
      "retrying:  3\n",
      "158.101.146.40:59394  Fetching  https://goodinfo.tw/tw/BasicInfo.asp?STOCK_ID=2330  timeout:  20\n",
      "retrying:  1\n",
      "158.101.146.40:59394  Fetching  https://goodinfo.tw/tw/BasicInfo.asp?STOCK_ID=2330  timeout:  25\n",
      "retrying:  2\n",
      "158.101.146.40:59394  Fetching  https://goodinfo.tw/tw/BasicInfo.asp?STOCK_ID=2330  timeout:  30\n",
      "retrying:  3\n",
      "200.105.215.18:33630  Fetching  https://goodinfo.tw/tw/BasicInfo.asp?STOCK_ID=2330  timeout:  20\n"
     ]
    },
    {
     "name": "stderr",
     "output_type": "stream",
     "text": [
      " 23%|██▎       | 199/881 [3:42:45<31:34:39, 166.68s/it]"
     ]
    },
    {
     "name": "stdout",
     "output_type": "stream",
     "text": [
      "Success\n",
      "200.105.215.18:33630  Fetching  https://goodinfo.tw/tw/BasicInfo.asp?STOCK_ID=2331  timeout:  20\n",
      "retrying:  1\n",
      "200.105.215.18:33630  Fetching  https://goodinfo.tw/tw/BasicInfo.asp?STOCK_ID=2331  timeout:  25\n"
     ]
    },
    {
     "name": "stderr",
     "output_type": "stream",
     "text": [
      " 23%|██▎       | 200/881 [3:43:18<23:58:04, 126.70s/it]"
     ]
    },
    {
     "name": "stdout",
     "output_type": "stream",
     "text": [
      "Success\n",
      "200.105.215.18:33630  Fetching  https://goodinfo.tw/tw/BasicInfo.asp?STOCK_ID=2332  timeout:  20\n"
     ]
    },
    {
     "name": "stderr",
     "output_type": "stream",
     "text": [
      " 23%|██▎       | 201/881 [3:43:24<17:07:24, 90.65s/it] "
     ]
    },
    {
     "name": "stdout",
     "output_type": "stream",
     "text": [
      "Success\n",
      "158.101.146.40:59394  Fetching  https://goodinfo.tw/tw/BasicInfo.asp?STOCK_ID=2337  timeout:  20\n",
      "retrying:  1\n",
      "158.101.146.40:59394  Fetching  https://goodinfo.tw/tw/BasicInfo.asp?STOCK_ID=2337  timeout:  25\n",
      "retrying:  2\n",
      "158.101.146.40:59394  Fetching  https://goodinfo.tw/tw/BasicInfo.asp?STOCK_ID=2337  timeout:  30\n",
      "retrying:  3\n",
      "200.105.215.18:33630  Fetching  https://goodinfo.tw/tw/BasicInfo.asp?STOCK_ID=2337  timeout:  20\n"
     ]
    },
    {
     "name": "stderr",
     "output_type": "stream",
     "text": [
      " 23%|██▎       | 202/881 [3:45:00<17:21:25, 92.03s/it]"
     ]
    },
    {
     "name": "stdout",
     "output_type": "stream",
     "text": [
      "Success\n",
      "158.101.146.40:59394  Fetching  https://goodinfo.tw/tw/BasicInfo.asp?STOCK_ID=2338  timeout:  20\n",
      "retrying:  1\n",
      "158.101.146.40:59394  Fetching  https://goodinfo.tw/tw/BasicInfo.asp?STOCK_ID=2338  timeout:  25\n",
      "retrying:  2\n",
      "158.101.146.40:59394  Fetching  https://goodinfo.tw/tw/BasicInfo.asp?STOCK_ID=2338  timeout:  30\n",
      "retrying:  3\n",
      "185.201.88.128:6969  Fetching  https://goodinfo.tw/tw/BasicInfo.asp?STOCK_ID=2338  timeout:  20\n",
      "retrying:  1\n",
      "185.201.88.128:6969  Fetching  https://goodinfo.tw/tw/BasicInfo.asp?STOCK_ID=2338  timeout:  25\n",
      "retrying:  2\n",
      "185.201.88.128:6969  Fetching  https://goodinfo.tw/tw/BasicInfo.asp?STOCK_ID=2338  timeout:  30\n"
     ]
    },
    {
     "name": "stderr",
     "output_type": "stream",
     "text": [
      " 23%|██▎       | 203/881 [3:47:05<19:14:18, 102.15s/it]"
     ]
    },
    {
     "name": "stdout",
     "output_type": "stream",
     "text": [
      "Success\n",
      "155.0.181.254:43496  Fetching  https://goodinfo.tw/tw/BasicInfo.asp?STOCK_ID=2340  timeout:  20\n",
      "retrying:  1\n",
      "155.0.181.254:43496  Fetching  https://goodinfo.tw/tw/BasicInfo.asp?STOCK_ID=2340  timeout:  25\n",
      "retrying:  2\n",
      "155.0.181.254:43496  Fetching  https://goodinfo.tw/tw/BasicInfo.asp?STOCK_ID=2340  timeout:  30\n"
     ]
    },
    {
     "name": "stderr",
     "output_type": "stream",
     "text": [
      " 23%|██▎       | 204/881 [3:48:03<16:40:18, 88.65s/it] "
     ]
    },
    {
     "name": "stdout",
     "output_type": "stream",
     "text": [
      "Success\n",
      "200.105.215.18:33630  Fetching  https://goodinfo.tw/tw/BasicInfo.asp?STOCK_ID=2342  timeout:  20\n"
     ]
    },
    {
     "name": "stderr",
     "output_type": "stream",
     "text": [
      " 23%|██▎       | 205/881 [3:48:08<11:58:49, 63.80s/it]"
     ]
    },
    {
     "name": "stdout",
     "output_type": "stream",
     "text": [
      "Success\n",
      "155.0.181.254:43496  Fetching  https://goodinfo.tw/tw/BasicInfo.asp?STOCK_ID=2344  timeout:  20\n",
      "retrying:  1\n",
      "155.0.181.254:43496  Fetching  https://goodinfo.tw/tw/BasicInfo.asp?STOCK_ID=2344  timeout:  25\n"
     ]
    },
    {
     "name": "stderr",
     "output_type": "stream",
     "text": [
      " 23%|██▎       | 206/881 [3:48:39<10:06:14, 53.89s/it]"
     ]
    },
    {
     "name": "stdout",
     "output_type": "stream",
     "text": [
      "Success\n",
      "47.242.168.144:59394  Fetching  https://goodinfo.tw/tw/BasicInfo.asp?STOCK_ID=2345  timeout:  20\n"
     ]
    },
    {
     "name": "stderr",
     "output_type": "stream",
     "text": [
      " 23%|██▎       | 207/881 [3:48:42<7:14:20, 38.67s/it] "
     ]
    },
    {
     "name": "stdout",
     "output_type": "stream",
     "text": [
      "Success\n",
      "158.101.146.40:59394  Fetching  https://goodinfo.tw/tw/BasicInfo.asp?STOCK_ID=2347  timeout:  20\n",
      "retrying:  1\n",
      "158.101.146.40:59394  Fetching  https://goodinfo.tw/tw/BasicInfo.asp?STOCK_ID=2347  timeout:  25\n",
      "retrying:  2\n",
      "158.101.146.40:59394  Fetching  https://goodinfo.tw/tw/BasicInfo.asp?STOCK_ID=2347  timeout:  30\n",
      "retrying:  3\n",
      "200.105.215.18:33630  Fetching  https://goodinfo.tw/tw/BasicInfo.asp?STOCK_ID=2347  timeout:  20\n"
     ]
    },
    {
     "name": "stderr",
     "output_type": "stream",
     "text": [
      " 24%|██▎       | 208/881 [3:50:02<9:32:57, 51.08s/it]"
     ]
    },
    {
     "name": "stdout",
     "output_type": "stream",
     "text": [
      "Success\n",
      "158.101.146.40:59394  Fetching  https://goodinfo.tw/tw/BasicInfo.asp?STOCK_ID=2348  timeout:  20\n",
      "retrying:  1\n",
      "158.101.146.40:59394  Fetching  https://goodinfo.tw/tw/BasicInfo.asp?STOCK_ID=2348  timeout:  25\n",
      "retrying:  2\n",
      "158.101.146.40:59394  Fetching  https://goodinfo.tw/tw/BasicInfo.asp?STOCK_ID=2348  timeout:  30\n",
      "retrying:  3\n",
      "158.101.146.40:59394  Fetching  https://goodinfo.tw/tw/BasicInfo.asp?STOCK_ID=2348  timeout:  20\n",
      "retrying:  1\n",
      "158.101.146.40:59394  Fetching  https://goodinfo.tw/tw/BasicInfo.asp?STOCK_ID=2348  timeout:  25\n",
      "retrying:  2\n",
      "158.101.146.40:59394  Fetching  https://goodinfo.tw/tw/BasicInfo.asp?STOCK_ID=2348  timeout:  30\n",
      "retrying:  3\n",
      "185.201.88.128:6969  Fetching  https://goodinfo.tw/tw/BasicInfo.asp?STOCK_ID=2348  timeout:  20\n",
      "retrying:  1\n",
      "185.201.88.128:6969  Fetching  https://goodinfo.tw/tw/BasicInfo.asp?STOCK_ID=2348  timeout:  25\n",
      "retrying:  2\n",
      "185.201.88.128:6969  Fetching  https://goodinfo.tw/tw/BasicInfo.asp?STOCK_ID=2348  timeout:  30\n",
      "retrying:  3\n",
      "47.242.168.144:59394  Fetching  https://goodinfo.tw/tw/BasicInfo.asp?STOCK_ID=2348  timeout:  20\n"
     ]
    },
    {
     "name": "stderr",
     "output_type": "stream",
     "text": [
      " 24%|██▎       | 209/881 [3:53:56<19:44:34, 105.77s/it]"
     ]
    },
    {
     "name": "stdout",
     "output_type": "stream",
     "text": [
      "Success\n",
      "47.242.168.144:59394  Fetching  https://goodinfo.tw/tw/BasicInfo.asp?STOCK_ID=2349  timeout:  20\n"
     ]
    },
    {
     "name": "stderr",
     "output_type": "stream",
     "text": [
      " 24%|██▍       | 210/881 [3:53:57<13:52:21, 74.43s/it] "
     ]
    },
    {
     "name": "stdout",
     "output_type": "stream",
     "text": [
      "Success\n",
      "155.0.181.254:43496  Fetching  https://goodinfo.tw/tw/BasicInfo.asp?STOCK_ID=2351  timeout:  20\n",
      "retrying:  1\n",
      "155.0.181.254:43496  Fetching  https://goodinfo.tw/tw/BasicInfo.asp?STOCK_ID=2351  timeout:  25\n",
      "retrying:  2\n",
      "155.0.181.254:43496  Fetching  https://goodinfo.tw/tw/BasicInfo.asp?STOCK_ID=2351  timeout:  30\n",
      "retrying:  3\n",
      "158.101.146.40:59394  Fetching  https://goodinfo.tw/tw/BasicInfo.asp?STOCK_ID=2351  timeout:  20\n",
      "retrying:  1\n",
      "158.101.146.40:59394  Fetching  https://goodinfo.tw/tw/BasicInfo.asp?STOCK_ID=2351  timeout:  25\n",
      "retrying:  2\n",
      "158.101.146.40:59394  Fetching  https://goodinfo.tw/tw/BasicInfo.asp?STOCK_ID=2351  timeout:  30\n",
      "retrying:  3\n",
      "158.101.146.40:59394  Fetching  https://goodinfo.tw/tw/BasicInfo.asp?STOCK_ID=2351  timeout:  20\n",
      "retrying:  1\n",
      "158.101.146.40:59394  Fetching  https://goodinfo.tw/tw/BasicInfo.asp?STOCK_ID=2351  timeout:  25\n",
      "retrying:  2\n",
      "158.101.146.40:59394  Fetching  https://goodinfo.tw/tw/BasicInfo.asp?STOCK_ID=2351  timeout:  30\n",
      "retrying:  3\n",
      "200.105.215.18:33630  Fetching  https://goodinfo.tw/tw/BasicInfo.asp?STOCK_ID=2351  timeout:  20\n",
      "retrying:  1\n",
      "200.105.215.18:33630  Fetching  https://goodinfo.tw/tw/BasicInfo.asp?STOCK_ID=2351  timeout:  25\n"
     ]
    },
    {
     "name": "stderr",
     "output_type": "stream",
     "text": [
      " 24%|██▍       | 211/881 [3:58:08<23:42:32, 127.39s/it]"
     ]
    },
    {
     "name": "stdout",
     "output_type": "stream",
     "text": [
      "Success\n",
      "158.101.146.40:59394  Fetching  https://goodinfo.tw/tw/BasicInfo.asp?STOCK_ID=2352  timeout:  20\n",
      "retrying:  1\n",
      "158.101.146.40:59394  Fetching  https://goodinfo.tw/tw/BasicInfo.asp?STOCK_ID=2352  timeout:  25\n",
      "retrying:  2\n",
      "158.101.146.40:59394  Fetching  https://goodinfo.tw/tw/BasicInfo.asp?STOCK_ID=2352  timeout:  30\n",
      "retrying:  3\n",
      "158.101.146.40:59394  Fetching  https://goodinfo.tw/tw/BasicInfo.asp?STOCK_ID=2352  timeout:  20\n",
      "retrying:  1\n",
      "158.101.146.40:59394  Fetching  https://goodinfo.tw/tw/BasicInfo.asp?STOCK_ID=2352  timeout:  25\n",
      "retrying:  2\n",
      "158.101.146.40:59394  Fetching  https://goodinfo.tw/tw/BasicInfo.asp?STOCK_ID=2352  timeout:  30\n",
      "retrying:  3\n",
      "47.242.168.144:59394  Fetching  https://goodinfo.tw/tw/BasicInfo.asp?STOCK_ID=2352  timeout:  20\n"
     ]
    },
    {
     "name": "stderr",
     "output_type": "stream",
     "text": [
      " 24%|██▍       | 212/881 [4:00:39<25:00:11, 134.55s/it]"
     ]
    },
    {
     "name": "stdout",
     "output_type": "stream",
     "text": [
      "Success\n",
      "158.101.146.40:59394  Fetching  https://goodinfo.tw/tw/BasicInfo.asp?STOCK_ID=2353  timeout:  20\n",
      "retrying:  1\n",
      "158.101.146.40:59394  Fetching  https://goodinfo.tw/tw/BasicInfo.asp?STOCK_ID=2353  timeout:  25\n",
      "retrying:  2\n",
      "158.101.146.40:59394  Fetching  https://goodinfo.tw/tw/BasicInfo.asp?STOCK_ID=2353  timeout:  30\n",
      "retrying:  3\n",
      "155.0.181.254:43496  Fetching  https://goodinfo.tw/tw/BasicInfo.asp?STOCK_ID=2353  timeout:  20\n",
      "retrying:  1\n",
      "155.0.181.254:43496  Fetching  https://goodinfo.tw/tw/BasicInfo.asp?STOCK_ID=2353  timeout:  25\n",
      "retrying:  2\n",
      "155.0.181.254:43496  Fetching  https://goodinfo.tw/tw/BasicInfo.asp?STOCK_ID=2353  timeout:  30\n",
      "retrying:  3\n",
      "200.105.215.18:33630  Fetching  https://goodinfo.tw/tw/BasicInfo.asp?STOCK_ID=2353  timeout:  20\n",
      "retrying:  1\n",
      "200.105.215.18:33630  Fetching  https://goodinfo.tw/tw/BasicInfo.asp?STOCK_ID=2353  timeout:  25\n",
      "retrying:  2\n",
      "200.105.215.18:33630  Fetching  https://goodinfo.tw/tw/BasicInfo.asp?STOCK_ID=2353  timeout:  30\n"
     ]
    },
    {
     "name": "stderr",
     "output_type": "stream",
     "text": [
      " 24%|██▍       | 213/881 [4:04:04<28:50:51, 155.47s/it]"
     ]
    },
    {
     "name": "stdout",
     "output_type": "stream",
     "text": [
      "Success\n",
      "47.242.168.144:59394  Fetching  https://goodinfo.tw/tw/BasicInfo.asp?STOCK_ID=2354  timeout:  20\n"
     ]
    },
    {
     "name": "stderr",
     "output_type": "stream",
     "text": [
      " 24%|██▍       | 214/881 [4:04:04<20:12:24, 109.06s/it]"
     ]
    },
    {
     "name": "stdout",
     "output_type": "stream",
     "text": [
      "Success\n",
      "155.0.181.254:43496  Fetching  https://goodinfo.tw/tw/BasicInfo.asp?STOCK_ID=2355  timeout:  20\n",
      "retrying:  1\n",
      "155.0.181.254:43496  Fetching  https://goodinfo.tw/tw/BasicInfo.asp?STOCK_ID=2355  timeout:  25\n",
      "retrying:  2\n",
      "155.0.181.254:43496  Fetching  https://goodinfo.tw/tw/BasicInfo.asp?STOCK_ID=2355  timeout:  30\n",
      "retrying:  3\n",
      "155.0.181.254:43496  Fetching  https://goodinfo.tw/tw/BasicInfo.asp?STOCK_ID=2355  timeout:  20\n",
      "retrying:  1\n",
      "155.0.181.254:43496  Fetching  https://goodinfo.tw/tw/BasicInfo.asp?STOCK_ID=2355  timeout:  25\n",
      "retrying:  2\n",
      "155.0.181.254:43496  Fetching  https://goodinfo.tw/tw/BasicInfo.asp?STOCK_ID=2355  timeout:  30\n"
     ]
    },
    {
     "name": "stderr",
     "output_type": "stream",
     "text": [
      " 24%|██▍       | 215/881 [4:06:30<22:12:12, 120.02s/it]"
     ]
    },
    {
     "name": "stdout",
     "output_type": "stream",
     "text": [
      "Success\n",
      "47.242.168.144:59394  Fetching  https://goodinfo.tw/tw/BasicInfo.asp?STOCK_ID=2356  timeout:  20\n"
     ]
    },
    {
     "name": "stderr",
     "output_type": "stream",
     "text": [
      " 25%|██▍       | 216/881 [4:06:31<15:34:07, 84.28s/it] "
     ]
    },
    {
     "name": "stdout",
     "output_type": "stream",
     "text": [
      "Success\n",
      "47.242.168.144:59394  Fetching  https://goodinfo.tw/tw/BasicInfo.asp?STOCK_ID=2357  timeout:  20\n",
      "retrying:  1\n",
      "47.242.168.144:59394  Fetching  https://goodinfo.tw/tw/BasicInfo.asp?STOCK_ID=2357  timeout:  25\n"
     ]
    },
    {
     "name": "stderr",
     "output_type": "stream",
     "text": [
      " 25%|██▍       | 217/881 [4:06:33<11:00:20, 59.67s/it]"
     ]
    },
    {
     "name": "stdout",
     "output_type": "stream",
     "text": [
      "Success\n",
      "155.0.181.254:43496  Fetching  https://goodinfo.tw/tw/BasicInfo.asp?STOCK_ID=2358  timeout:  20\n"
     ]
    },
    {
     "name": "stderr",
     "output_type": "stream",
     "text": [
      " 25%|██▍       | 218/881 [4:06:41<8:08:13, 44.18s/it] "
     ]
    },
    {
     "name": "stdout",
     "output_type": "stream",
     "text": [
      "Success\n",
      "47.242.168.144:59394  Fetching  https://goodinfo.tw/tw/BasicInfo.asp?STOCK_ID=2359  timeout:  20\n"
     ]
    },
    {
     "name": "stderr",
     "output_type": "stream",
     "text": [
      " 25%|██▍       | 219/881 [4:06:43<5:47:23, 31.49s/it]"
     ]
    },
    {
     "name": "stdout",
     "output_type": "stream",
     "text": [
      "Success\n",
      "155.0.181.254:43496  Fetching  https://goodinfo.tw/tw/BasicInfo.asp?STOCK_ID=2360  timeout:  20\n",
      "retrying:  1\n",
      "155.0.181.254:43496  Fetching  https://goodinfo.tw/tw/BasicInfo.asp?STOCK_ID=2360  timeout:  25\n"
     ]
    },
    {
     "name": "stderr",
     "output_type": "stream",
     "text": [
      " 25%|██▍       | 220/881 [4:07:18<5:58:56, 32.58s/it]"
     ]
    },
    {
     "name": "stdout",
     "output_type": "stream",
     "text": [
      "Success\n",
      "200.105.215.18:33630  Fetching  https://goodinfo.tw/tw/BasicInfo.asp?STOCK_ID=2362  timeout:  20\n",
      "retrying:  1\n",
      "200.105.215.18:33630  Fetching  https://goodinfo.tw/tw/BasicInfo.asp?STOCK_ID=2362  timeout:  25\n"
     ]
    },
    {
     "name": "stderr",
     "output_type": "stream",
     "text": [
      " 25%|██▌       | 221/881 [4:07:59<6:25:15, 35.02s/it]"
     ]
    },
    {
     "name": "stdout",
     "output_type": "stream",
     "text": [
      "Success\n",
      "155.0.181.254:43496  Fetching  https://goodinfo.tw/tw/BasicInfo.asp?STOCK_ID=2363  timeout:  20\n",
      "retrying:  1\n",
      "155.0.181.254:43496  Fetching  https://goodinfo.tw/tw/BasicInfo.asp?STOCK_ID=2363  timeout:  25\n",
      "retrying:  2\n",
      "155.0.181.254:43496  Fetching  https://goodinfo.tw/tw/BasicInfo.asp?STOCK_ID=2363  timeout:  30\n"
     ]
    },
    {
     "name": "stderr",
     "output_type": "stream",
     "text": [
      " 25%|██▌       | 222/881 [4:08:47<7:07:50, 38.95s/it]"
     ]
    },
    {
     "name": "stdout",
     "output_type": "stream",
     "text": [
      "Success\n",
      "185.201.88.128:6969  Fetching  https://goodinfo.tw/tw/BasicInfo.asp?STOCK_ID=2364  timeout:  20\n"
     ]
    },
    {
     "name": "stderr",
     "output_type": "stream",
     "text": [
      " 25%|██▌       | 223/881 [4:09:07<6:05:18, 33.31s/it]"
     ]
    },
    {
     "name": "stdout",
     "output_type": "stream",
     "text": [
      "Success\n",
      "185.201.88.128:6969  Fetching  https://goodinfo.tw/tw/BasicInfo.asp?STOCK_ID=2365  timeout:  20\n",
      "retrying:  1\n",
      "185.201.88.128:6969  Fetching  https://goodinfo.tw/tw/BasicInfo.asp?STOCK_ID=2365  timeout:  25\n",
      "retrying:  2\n",
      "185.201.88.128:6969  Fetching  https://goodinfo.tw/tw/BasicInfo.asp?STOCK_ID=2365  timeout:  30\n",
      "retrying:  3\n",
      "155.0.181.254:43496  Fetching  https://goodinfo.tw/tw/BasicInfo.asp?STOCK_ID=2365  timeout:  20\n",
      "retrying:  1\n",
      "155.0.181.254:43496  Fetching  https://goodinfo.tw/tw/BasicInfo.asp?STOCK_ID=2365  timeout:  25\n"
     ]
    },
    {
     "name": "stderr",
     "output_type": "stream",
     "text": [
      " 25%|██▌       | 224/881 [4:10:52<9:59:52, 54.78s/it]"
     ]
    },
    {
     "name": "stdout",
     "output_type": "stream",
     "text": [
      "Success\n",
      "47.242.168.144:59394  Fetching  https://goodinfo.tw/tw/BasicInfo.asp?STOCK_ID=2367  timeout:  20\n"
     ]
    },
    {
     "name": "stderr",
     "output_type": "stream",
     "text": [
      " 26%|██▌       | 225/881 [4:10:54<7:05:14, 38.89s/it]"
     ]
    },
    {
     "name": "stdout",
     "output_type": "stream",
     "text": [
      "Success\n",
      "185.201.88.128:6969  Fetching  https://goodinfo.tw/tw/BasicInfo.asp?STOCK_ID=2368  timeout:  20\n",
      "retrying:  1\n",
      "185.201.88.128:6969  Fetching  https://goodinfo.tw/tw/BasicInfo.asp?STOCK_ID=2368  timeout:  25\n",
      "retrying:  2\n",
      "185.201.88.128:6969  Fetching  https://goodinfo.tw/tw/BasicInfo.asp?STOCK_ID=2368  timeout:  30\n",
      "retrying:  3\n",
      "47.242.168.144:59394  Fetching  https://goodinfo.tw/tw/BasicInfo.asp?STOCK_ID=2368  timeout:  20\n",
      "retrying:  1\n",
      "47.242.168.144:59394  Fetching  https://goodinfo.tw/tw/BasicInfo.asp?STOCK_ID=2368  timeout:  25\n"
     ]
    },
    {
     "name": "stderr",
     "output_type": "stream",
     "text": [
      " 26%|██▌       | 226/881 [4:12:11<9:10:22, 50.42s/it]"
     ]
    },
    {
     "name": "stdout",
     "output_type": "stream",
     "text": [
      "Success\n",
      "158.101.146.40:59394  Fetching  https://goodinfo.tw/tw/BasicInfo.asp?STOCK_ID=2369  timeout:  20\n",
      "retrying:  1\n",
      "158.101.146.40:59394  Fetching  https://goodinfo.tw/tw/BasicInfo.asp?STOCK_ID=2369  timeout:  25\n",
      "retrying:  2\n",
      "158.101.146.40:59394  Fetching  https://goodinfo.tw/tw/BasicInfo.asp?STOCK_ID=2369  timeout:  30\n",
      "retrying:  3\n",
      "200.105.215.18:33630  Fetching  https://goodinfo.tw/tw/BasicInfo.asp?STOCK_ID=2369  timeout:  20\n"
     ]
    },
    {
     "name": "stderr",
     "output_type": "stream",
     "text": [
      " 26%|██▌       | 227/881 [4:13:32<10:49:45, 59.61s/it]"
     ]
    },
    {
     "name": "stdout",
     "output_type": "stream",
     "text": [
      "Success\n",
      "185.201.88.128:6969  Fetching  https://goodinfo.tw/tw/BasicInfo.asp?STOCK_ID=2371  timeout:  20\n"
     ]
    },
    {
     "name": "stderr",
     "output_type": "stream",
     "text": [
      " 26%|██▌       | 228/881 [4:13:38<7:53:01, 43.46s/it] "
     ]
    },
    {
     "name": "stdout",
     "output_type": "stream",
     "text": [
      "Success\n",
      "185.201.88.128:6969  Fetching  https://goodinfo.tw/tw/BasicInfo.asp?STOCK_ID=2373  timeout:  20\n",
      "retrying:  1\n",
      "185.201.88.128:6969  Fetching  https://goodinfo.tw/tw/BasicInfo.asp?STOCK_ID=2373  timeout:  25\n"
     ]
    },
    {
     "name": "stderr",
     "output_type": "stream",
     "text": [
      " 26%|██▌       | 229/881 [4:14:07<7:04:08, 39.03s/it]"
     ]
    },
    {
     "name": "stdout",
     "output_type": "stream",
     "text": [
      "Success\n",
      "200.105.215.18:33630  Fetching  https://goodinfo.tw/tw/BasicInfo.asp?STOCK_ID=2374  timeout:  20\n"
     ]
    },
    {
     "name": "stderr",
     "output_type": "stream",
     "text": [
      " 26%|██▌       | 230/881 [4:14:13<5:17:11, 29.23s/it]"
     ]
    },
    {
     "name": "stdout",
     "output_type": "stream",
     "text": [
      "Success\n",
      "185.201.88.128:6969  Fetching  https://goodinfo.tw/tw/BasicInfo.asp?STOCK_ID=2375  timeout:  20\n"
     ]
    },
    {
     "name": "stderr",
     "output_type": "stream",
     "text": [
      " 26%|██▌       | 231/881 [4:14:20<4:04:14, 22.55s/it]"
     ]
    },
    {
     "name": "stdout",
     "output_type": "stream",
     "text": [
      "Success\n",
      "155.0.181.254:43496  Fetching  https://goodinfo.tw/tw/BasicInfo.asp?STOCK_ID=2376  timeout:  20\n",
      "retrying:  1\n",
      "155.0.181.254:43496  Fetching  https://goodinfo.tw/tw/BasicInfo.asp?STOCK_ID=2376  timeout:  25\n",
      "retrying:  2\n",
      "155.0.181.254:43496  Fetching  https://goodinfo.tw/tw/BasicInfo.asp?STOCK_ID=2376  timeout:  30\n",
      "retrying:  3\n",
      "200.105.215.18:33630  Fetching  https://goodinfo.tw/tw/BasicInfo.asp?STOCK_ID=2376  timeout:  20\n"
     ]
    },
    {
     "name": "stderr",
     "output_type": "stream",
     "text": [
      " 26%|██▋       | 232/881 [4:15:41<7:13:41, 40.09s/it]"
     ]
    },
    {
     "name": "stdout",
     "output_type": "stream",
     "text": [
      "Success\n",
      "200.105.215.18:33630  Fetching  https://goodinfo.tw/tw/BasicInfo.asp?STOCK_ID=2377  timeout:  20\n",
      "retrying:  1\n",
      "200.105.215.18:33630  Fetching  https://goodinfo.tw/tw/BasicInfo.asp?STOCK_ID=2377  timeout:  25\n"
     ]
    },
    {
     "name": "stderr",
     "output_type": "stream",
     "text": [
      " 26%|██▋       | 233/881 [4:15:55<5:49:58, 32.41s/it]"
     ]
    },
    {
     "name": "stdout",
     "output_type": "stream",
     "text": [
      "Success\n",
      "47.242.168.144:59394  Fetching  https://goodinfo.tw/tw/BasicInfo.asp?STOCK_ID=2379  timeout:  20\n",
      "retrying:  1\n",
      "47.242.168.144:59394  Fetching  https://goodinfo.tw/tw/BasicInfo.asp?STOCK_ID=2379  timeout:  25\n"
     ]
    },
    {
     "name": "stderr",
     "output_type": "stream",
     "text": [
      " 27%|██▋       | 234/881 [4:16:13<5:00:40, 27.88s/it]"
     ]
    },
    {
     "name": "stdout",
     "output_type": "stream",
     "text": [
      "Success\n",
      "200.105.215.18:33630  Fetching  https://goodinfo.tw/tw/BasicInfo.asp?STOCK_ID=2380  timeout:  20\n"
     ]
    },
    {
     "name": "stderr",
     "output_type": "stream",
     "text": [
      " 27%|██▋       | 235/881 [4:16:34<4:40:06, 26.02s/it]"
     ]
    },
    {
     "name": "stdout",
     "output_type": "stream",
     "text": [
      "Success\n",
      "155.0.181.254:43496  Fetching  https://goodinfo.tw/tw/BasicInfo.asp?STOCK_ID=2382  timeout:  20\n",
      "retrying:  1\n",
      "155.0.181.254:43496  Fetching  https://goodinfo.tw/tw/BasicInfo.asp?STOCK_ID=2382  timeout:  25\n",
      "retrying:  2\n",
      "155.0.181.254:43496  Fetching  https://goodinfo.tw/tw/BasicInfo.asp?STOCK_ID=2382  timeout:  30\n"
     ]
    },
    {
     "name": "stderr",
     "output_type": "stream",
     "text": [
      " 27%|██▋       | 236/881 [4:17:28<6:07:44, 34.21s/it]"
     ]
    },
    {
     "name": "stdout",
     "output_type": "stream",
     "text": [
      "Success\n",
      "200.105.215.18:33630  Fetching  https://goodinfo.tw/tw/BasicInfo.asp?STOCK_ID=2383  timeout:  20\n"
     ]
    },
    {
     "name": "stderr",
     "output_type": "stream",
     "text": [
      " 27%|██▋       | 237/881 [4:17:48<5:21:53, 29.99s/it]"
     ]
    },
    {
     "name": "stdout",
     "output_type": "stream",
     "text": [
      "Success\n",
      "47.242.168.144:59394  Fetching  https://goodinfo.tw/tw/BasicInfo.asp?STOCK_ID=2385  timeout:  20\n"
     ]
    },
    {
     "name": "stderr",
     "output_type": "stream",
     "text": [
      " 27%|██▋       | 238/881 [4:17:50<3:50:32, 21.51s/it]"
     ]
    },
    {
     "name": "stdout",
     "output_type": "stream",
     "text": [
      "Success\n",
      "155.0.181.254:43496  Fetching  https://goodinfo.tw/tw/BasicInfo.asp?STOCK_ID=2387  timeout:  20\n",
      "retrying:  1\n",
      "155.0.181.254:43496  Fetching  https://goodinfo.tw/tw/BasicInfo.asp?STOCK_ID=2387  timeout:  25\n",
      "retrying:  2\n",
      "155.0.181.254:43496  Fetching  https://goodinfo.tw/tw/BasicInfo.asp?STOCK_ID=2387  timeout:  30\n",
      "retrying:  3\n",
      "155.0.181.254:43496  Fetching  https://goodinfo.tw/tw/BasicInfo.asp?STOCK_ID=2387  timeout:  20\n",
      "retrying:  1\n",
      "155.0.181.254:43496  Fetching  https://goodinfo.tw/tw/BasicInfo.asp?STOCK_ID=2387  timeout:  25\n",
      "retrying:  2\n",
      "155.0.181.254:43496  Fetching  https://goodinfo.tw/tw/BasicInfo.asp?STOCK_ID=2387  timeout:  30\n",
      "retrying:  3\n",
      "47.242.168.144:59394  Fetching  https://goodinfo.tw/tw/BasicInfo.asp?STOCK_ID=2387  timeout:  20\n"
     ]
    },
    {
     "name": "stderr",
     "output_type": "stream",
     "text": [
      " 27%|██▋       | 239/881 [4:20:07<10:01:33, 56.22s/it]"
     ]
    },
    {
     "name": "stdout",
     "output_type": "stream",
     "text": [
      "Success\n",
      "200.105.215.18:33630  Fetching  https://goodinfo.tw/tw/BasicInfo.asp?STOCK_ID=2388  timeout:  20\n"
     ]
    },
    {
     "name": "stderr",
     "output_type": "stream",
     "text": [
      " 27%|██▋       | 240/881 [4:20:12<7:17:56, 40.99s/it] "
     ]
    },
    {
     "name": "stdout",
     "output_type": "stream",
     "text": [
      "Success\n",
      "200.105.215.18:33630  Fetching  https://goodinfo.tw/tw/BasicInfo.asp?STOCK_ID=2390  timeout:  20\n",
      "retrying:  1\n",
      "200.105.215.18:33630  Fetching  https://goodinfo.tw/tw/BasicInfo.asp?STOCK_ID=2390  timeout:  25\n",
      "retrying:  2\n",
      "200.105.215.18:33630  Fetching  https://goodinfo.tw/tw/BasicInfo.asp?STOCK_ID=2390  timeout:  30\n"
     ]
    },
    {
     "name": "stderr",
     "output_type": "stream",
     "text": [
      " 27%|██▋       | 241/881 [4:21:04<7:50:16, 44.09s/it]"
     ]
    },
    {
     "name": "stdout",
     "output_type": "stream",
     "text": [
      "Success\n",
      "47.242.168.144:59394  Fetching  https://goodinfo.tw/tw/BasicInfo.asp?STOCK_ID=2392  timeout:  20\n"
     ]
    },
    {
     "name": "stderr",
     "output_type": "stream",
     "text": [
      " 27%|██▋       | 242/881 [4:21:20<6:19:51, 35.67s/it]"
     ]
    },
    {
     "name": "stdout",
     "output_type": "stream",
     "text": [
      "Success\n",
      "200.105.215.18:33630  Fetching  https://goodinfo.tw/tw/BasicInfo.asp?STOCK_ID=2393  timeout:  20\n",
      "retrying:  1\n",
      "200.105.215.18:33630  Fetching  https://goodinfo.tw/tw/BasicInfo.asp?STOCK_ID=2393  timeout:  25\n",
      "retrying:  2\n",
      "200.105.215.18:33630  Fetching  https://goodinfo.tw/tw/BasicInfo.asp?STOCK_ID=2393  timeout:  30\n",
      "retrying:  3\n",
      "155.0.181.254:43496  Fetching  https://goodinfo.tw/tw/BasicInfo.asp?STOCK_ID=2393  timeout:  20\n",
      "retrying:  1\n",
      "155.0.181.254:43496  Fetching  https://goodinfo.tw/tw/BasicInfo.asp?STOCK_ID=2393  timeout:  25\n",
      "retrying:  2\n",
      "155.0.181.254:43496  Fetching  https://goodinfo.tw/tw/BasicInfo.asp?STOCK_ID=2393  timeout:  30\n",
      "retrying:  3\n",
      "200.105.215.18:33630  Fetching  https://goodinfo.tw/tw/BasicInfo.asp?STOCK_ID=2393  timeout:  20\n",
      "retrying:  1\n",
      "200.105.215.18:33630  Fetching  https://goodinfo.tw/tw/BasicInfo.asp?STOCK_ID=2393  timeout:  25\n",
      "retrying:  2\n",
      "200.105.215.18:33630  Fetching  https://goodinfo.tw/tw/BasicInfo.asp?STOCK_ID=2393  timeout:  30\n",
      "retrying:  3\n",
      "185.201.88.128:6969  Fetching  https://goodinfo.tw/tw/BasicInfo.asp?STOCK_ID=2393  timeout:  20\n",
      "retrying:  1\n",
      "185.201.88.128:6969  Fetching  https://goodinfo.tw/tw/BasicInfo.asp?STOCK_ID=2393  timeout:  25\n",
      "retrying:  2\n",
      "185.201.88.128:6969  Fetching  https://goodinfo.tw/tw/BasicInfo.asp?STOCK_ID=2393  timeout:  30\n",
      "retrying:  3\n",
      "185.201.88.128:6969  Fetching  https://goodinfo.tw/tw/BasicInfo.asp?STOCK_ID=2393  timeout:  20\n",
      "retrying:  1\n",
      "185.201.88.128:6969  Fetching  https://goodinfo.tw/tw/BasicInfo.asp?STOCK_ID=2393  timeout:  25\n",
      "retrying:  2\n",
      "185.201.88.128:6969  Fetching  https://goodinfo.tw/tw/BasicInfo.asp?STOCK_ID=2393  timeout:  30\n"
     ]
    },
    {
     "name": "stderr",
     "output_type": "stream",
     "text": [
      " 28%|██▊       | 243/881 [4:27:35<24:22:44, 137.56s/it]"
     ]
    },
    {
     "name": "stdout",
     "output_type": "stream",
     "text": [
      "retrying:  3\n",
      "47.242.168.144:59394  Fetching  https://goodinfo.tw/tw/BasicInfo.asp?STOCK_ID=2395  timeout:  20\n"
     ]
    },
    {
     "name": "stderr",
     "output_type": "stream",
     "text": [
      " 28%|██▊       | 244/881 [4:27:36<17:06:44, 96.71s/it] "
     ]
    },
    {
     "name": "stdout",
     "output_type": "stream",
     "text": [
      "Success\n",
      "155.0.181.254:43496  Fetching  https://goodinfo.tw/tw/BasicInfo.asp?STOCK_ID=2397  timeout:  20\n",
      "retrying:  1\n",
      "155.0.181.254:43496  Fetching  https://goodinfo.tw/tw/BasicInfo.asp?STOCK_ID=2397  timeout:  25\n",
      "retrying:  2\n",
      "155.0.181.254:43496  Fetching  https://goodinfo.tw/tw/BasicInfo.asp?STOCK_ID=2397  timeout:  30\n",
      "retrying:  3\n",
      "200.105.215.18:33630  Fetching  https://goodinfo.tw/tw/BasicInfo.asp?STOCK_ID=2397  timeout:  20\n",
      "retrying:  1\n",
      "200.105.215.18:33630  Fetching  https://goodinfo.tw/tw/BasicInfo.asp?STOCK_ID=2397  timeout:  25\n"
     ]
    },
    {
     "name": "stderr",
     "output_type": "stream",
     "text": [
      " 28%|██▊       | 245/881 [4:29:07<16:44:26, 94.76s/it]"
     ]
    },
    {
     "name": "stdout",
     "output_type": "stream",
     "text": [
      "Success\n",
      "47.242.168.144:59394  Fetching  https://goodinfo.tw/tw/BasicInfo.asp?STOCK_ID=2399  timeout:  20\n"
     ]
    },
    {
     "name": "stderr",
     "output_type": "stream",
     "text": [
      " 28%|██▊       | 246/881 [4:29:08<11:45:18, 66.64s/it]"
     ]
    },
    {
     "name": "stdout",
     "output_type": "stream",
     "text": [
      "Success\n",
      "158.101.146.40:59394  Fetching  https://goodinfo.tw/tw/BasicInfo.asp?STOCK_ID=2401  timeout:  20\n",
      "retrying:  1\n",
      "158.101.146.40:59394  Fetching  https://goodinfo.tw/tw/BasicInfo.asp?STOCK_ID=2401  timeout:  25\n",
      "retrying:  2\n",
      "158.101.146.40:59394  Fetching  https://goodinfo.tw/tw/BasicInfo.asp?STOCK_ID=2401  timeout:  30\n",
      "retrying:  3\n",
      "155.0.181.254:43496  Fetching  https://goodinfo.tw/tw/BasicInfo.asp?STOCK_ID=2401  timeout:  20\n",
      "retrying:  1\n",
      "155.0.181.254:43496  Fetching  https://goodinfo.tw/tw/BasicInfo.asp?STOCK_ID=2401  timeout:  25\n"
     ]
    },
    {
     "name": "stderr",
     "output_type": "stream",
     "text": [
      " 28%|██▊       | 247/881 [4:31:08<14:34:11, 82.73s/it]"
     ]
    },
    {
     "name": "stdout",
     "output_type": "stream",
     "text": [
      "Success\n",
      "185.201.88.128:6969  Fetching  https://goodinfo.tw/tw/BasicInfo.asp?STOCK_ID=2402  timeout:  20\n"
     ]
    },
    {
     "name": "stderr",
     "output_type": "stream",
     "text": [
      " 28%|██▊       | 248/881 [4:31:12<10:22:57, 59.05s/it]"
     ]
    },
    {
     "name": "stdout",
     "output_type": "stream",
     "text": [
      "Success\n",
      "155.0.181.254:43496  Fetching  https://goodinfo.tw/tw/BasicInfo.asp?STOCK_ID=2404  timeout:  20\n"
     ]
    },
    {
     "name": "stderr",
     "output_type": "stream",
     "text": [
      " 28%|██▊       | 249/881 [4:31:26<8:02:05, 45.77s/it] "
     ]
    },
    {
     "name": "stdout",
     "output_type": "stream",
     "text": [
      "Success\n",
      "155.0.181.254:43496  Fetching  https://goodinfo.tw/tw/BasicInfo.asp?STOCK_ID=2405  timeout:  20\n"
     ]
    },
    {
     "name": "stderr",
     "output_type": "stream",
     "text": [
      " 28%|██▊       | 250/881 [4:31:43<6:27:39, 36.86s/it]"
     ]
    },
    {
     "name": "stdout",
     "output_type": "stream",
     "text": [
      "Success\n",
      "158.101.146.40:59394  Fetching  https://goodinfo.tw/tw/BasicInfo.asp?STOCK_ID=2406  timeout:  20\n",
      "retrying:  1\n",
      "158.101.146.40:59394  Fetching  https://goodinfo.tw/tw/BasicInfo.asp?STOCK_ID=2406  timeout:  25\n",
      "retrying:  2\n",
      "158.101.146.40:59394  Fetching  https://goodinfo.tw/tw/BasicInfo.asp?STOCK_ID=2406  timeout:  30\n",
      "retrying:  3\n",
      "200.105.215.18:33630  Fetching  https://goodinfo.tw/tw/BasicInfo.asp?STOCK_ID=2406  timeout:  20\n"
     ]
    },
    {
     "name": "stderr",
     "output_type": "stream",
     "text": [
      " 28%|██▊       | 251/881 [4:33:05<8:49:19, 50.41s/it]"
     ]
    },
    {
     "name": "stdout",
     "output_type": "stream",
     "text": [
      "Success\n",
      "158.101.146.40:59394  Fetching  https://goodinfo.tw/tw/BasicInfo.asp?STOCK_ID=2408  timeout:  20\n",
      "retrying:  1\n",
      "158.101.146.40:59394  Fetching  https://goodinfo.tw/tw/BasicInfo.asp?STOCK_ID=2408  timeout:  25\n",
      "retrying:  2\n",
      "158.101.146.40:59394  Fetching  https://goodinfo.tw/tw/BasicInfo.asp?STOCK_ID=2408  timeout:  30\n",
      "retrying:  3\n",
      "47.242.168.144:59394  Fetching  https://goodinfo.tw/tw/BasicInfo.asp?STOCK_ID=2408  timeout:  20\n"
     ]
    },
    {
     "name": "stderr",
     "output_type": "stream",
     "text": [
      " 29%|██▊       | 252/881 [4:34:21<10:09:40, 58.16s/it]"
     ]
    },
    {
     "name": "stdout",
     "output_type": "stream",
     "text": [
      "Success\n",
      "185.201.88.128:6969  Fetching  https://goodinfo.tw/tw/BasicInfo.asp?STOCK_ID=2409  timeout:  20\n",
      "retrying:  1\n",
      "185.201.88.128:6969  Fetching  https://goodinfo.tw/tw/BasicInfo.asp?STOCK_ID=2409  timeout:  25\n"
     ]
    },
    {
     "name": "stderr",
     "output_type": "stream",
     "text": [
      " 29%|██▊       | 253/881 [4:34:46<8:26:10, 48.36s/it] "
     ]
    },
    {
     "name": "stdout",
     "output_type": "stream",
     "text": [
      "Success\n",
      "200.105.215.18:33630  Fetching  https://goodinfo.tw/tw/BasicInfo.asp?STOCK_ID=2412  timeout:  20\n"
     ]
    },
    {
     "name": "stderr",
     "output_type": "stream",
     "text": [
      " 29%|██▉       | 254/881 [4:35:11<7:11:01, 41.25s/it]"
     ]
    },
    {
     "name": "stdout",
     "output_type": "stream",
     "text": [
      "Success\n",
      "47.242.168.144:59394  Fetching  https://goodinfo.tw/tw/BasicInfo.asp?STOCK_ID=2413  timeout:  20\n"
     ]
    },
    {
     "name": "stderr",
     "output_type": "stream",
     "text": [
      " 29%|██▉       | 255/881 [4:35:16<5:17:43, 30.45s/it]"
     ]
    },
    {
     "name": "stdout",
     "output_type": "stream",
     "text": [
      "Success\n",
      "47.242.168.144:59394  Fetching  https://goodinfo.tw/tw/BasicInfo.asp?STOCK_ID=2414  timeout:  20\n"
     ]
    },
    {
     "name": "stderr",
     "output_type": "stream",
     "text": [
      " 29%|██▉       | 256/881 [4:35:17<3:45:00, 21.60s/it]"
     ]
    },
    {
     "name": "stdout",
     "output_type": "stream",
     "text": [
      "Success\n",
      "185.201.88.128:6969  Fetching  https://goodinfo.tw/tw/BasicInfo.asp?STOCK_ID=2415  timeout:  20\n"
     ]
    },
    {
     "name": "stderr",
     "output_type": "stream",
     "text": [
      " 29%|██▉       | 257/881 [4:35:24<2:58:40, 17.18s/it]"
     ]
    },
    {
     "name": "stdout",
     "output_type": "stream",
     "text": [
      "Success\n",
      "47.242.168.144:59394  Fetching  https://goodinfo.tw/tw/BasicInfo.asp?STOCK_ID=2417  timeout:  20\n"
     ]
    },
    {
     "name": "stderr",
     "output_type": "stream",
     "text": [
      " 29%|██▉       | 258/881 [4:35:26<2:10:24, 12.56s/it]"
     ]
    },
    {
     "name": "stdout",
     "output_type": "stream",
     "text": [
      "Success\n",
      "185.201.88.128:6969  Fetching  https://goodinfo.tw/tw/BasicInfo.asp?STOCK_ID=2419  timeout:  20\n",
      "retrying:  1\n",
      "185.201.88.128:6969  Fetching  https://goodinfo.tw/tw/BasicInfo.asp?STOCK_ID=2419  timeout:  25\n",
      "retrying:  2\n",
      "185.201.88.128:6969  Fetching  https://goodinfo.tw/tw/BasicInfo.asp?STOCK_ID=2419  timeout:  30\n"
     ]
    },
    {
     "name": "stderr",
     "output_type": "stream",
     "text": [
      " 29%|██▉       | 259/881 [4:36:16<4:08:29, 23.97s/it]"
     ]
    },
    {
     "name": "stdout",
     "output_type": "stream",
     "text": [
      "Success\n",
      "155.0.181.254:43496  Fetching  https://goodinfo.tw/tw/BasicInfo.asp?STOCK_ID=2420  timeout:  20\n",
      "retrying:  1\n",
      "155.0.181.254:43496  Fetching  https://goodinfo.tw/tw/BasicInfo.asp?STOCK_ID=2420  timeout:  25\n"
     ]
    },
    {
     "name": "stderr",
     "output_type": "stream",
     "text": [
      " 30%|██▉       | 260/881 [4:36:43<4:17:06, 24.84s/it]"
     ]
    },
    {
     "name": "stdout",
     "output_type": "stream",
     "text": [
      "Success\n",
      "47.242.168.144:59394  Fetching  https://goodinfo.tw/tw/BasicInfo.asp?STOCK_ID=2421  timeout:  20\n"
     ]
    },
    {
     "name": "stderr",
     "output_type": "stream",
     "text": [
      " 30%|██▉       | 261/881 [4:36:51<3:24:30, 19.79s/it]"
     ]
    },
    {
     "name": "stdout",
     "output_type": "stream",
     "text": [
      "Success\n",
      "200.105.215.18:33630  Fetching  https://goodinfo.tw/tw/BasicInfo.asp?STOCK_ID=2423  timeout:  20\n"
     ]
    },
    {
     "name": "stderr",
     "output_type": "stream",
     "text": [
      " 30%|██▉       | 262/881 [4:37:11<3:24:38, 19.84s/it]"
     ]
    },
    {
     "name": "stdout",
     "output_type": "stream",
     "text": [
      "Success\n",
      "47.242.168.144:59394  Fetching  https://goodinfo.tw/tw/BasicInfo.asp?STOCK_ID=2424  timeout:  20\n"
     ]
    },
    {
     "name": "stderr",
     "output_type": "stream",
     "text": [
      " 30%|██▉       | 263/881 [4:37:12<2:25:30, 14.13s/it]"
     ]
    },
    {
     "name": "stdout",
     "output_type": "stream",
     "text": [
      "Success\n",
      "47.242.168.144:59394  Fetching  https://goodinfo.tw/tw/BasicInfo.asp?STOCK_ID=2425  timeout:  20\n"
     ]
    },
    {
     "name": "stderr",
     "output_type": "stream",
     "text": [
      " 30%|██▉       | 264/881 [4:37:13<1:45:23, 10.25s/it]"
     ]
    },
    {
     "name": "stdout",
     "output_type": "stream",
     "text": [
      "Success\n",
      "158.101.146.40:59394  Fetching  https://goodinfo.tw/tw/BasicInfo.asp?STOCK_ID=2426  timeout:  20\n",
      "retrying:  1\n",
      "158.101.146.40:59394  Fetching  https://goodinfo.tw/tw/BasicInfo.asp?STOCK_ID=2426  timeout:  25\n",
      "retrying:  2\n",
      "158.101.146.40:59394  Fetching  https://goodinfo.tw/tw/BasicInfo.asp?STOCK_ID=2426  timeout:  30\n",
      "retrying:  3\n",
      "185.201.88.128:6969  Fetching  https://goodinfo.tw/tw/BasicInfo.asp?STOCK_ID=2426  timeout:  20\n"
     ]
    },
    {
     "name": "stderr",
     "output_type": "stream",
     "text": [
      " 30%|███       | 265/881 [4:38:34<5:21:59, 31.36s/it]"
     ]
    },
    {
     "name": "stdout",
     "output_type": "stream",
     "text": [
      "Success\n",
      "47.242.168.144:59394  Fetching  https://goodinfo.tw/tw/BasicInfo.asp?STOCK_ID=2427  timeout:  20\n"
     ]
    },
    {
     "name": "stderr",
     "output_type": "stream",
     "text": [
      " 30%|███       | 266/881 [4:38:36<3:52:05, 22.64s/it]"
     ]
    },
    {
     "name": "stdout",
     "output_type": "stream",
     "text": [
      "Success\n",
      "200.105.215.18:33630  Fetching  https://goodinfo.tw/tw/BasicInfo.asp?STOCK_ID=2428  timeout:  20\n"
     ]
    },
    {
     "name": "stderr",
     "output_type": "stream",
     "text": [
      " 30%|███       | 267/881 [4:38:44<3:05:34, 18.13s/it]"
     ]
    },
    {
     "name": "stdout",
     "output_type": "stream",
     "text": [
      "Success\n",
      "47.242.168.144:59394  Fetching  https://goodinfo.tw/tw/BasicInfo.asp?STOCK_ID=2429  timeout:  20\n"
     ]
    },
    {
     "name": "stderr",
     "output_type": "stream",
     "text": [
      " 30%|███       | 268/881 [4:38:45<2:12:44, 12.99s/it]"
     ]
    },
    {
     "name": "stdout",
     "output_type": "stream",
     "text": [
      "Success\n",
      "158.101.146.40:59394  Fetching  https://goodinfo.tw/tw/BasicInfo.asp?STOCK_ID=2430  timeout:  20\n",
      "retrying:  1\n",
      "158.101.146.40:59394  Fetching  https://goodinfo.tw/tw/BasicInfo.asp?STOCK_ID=2430  timeout:  25\n",
      "retrying:  2\n",
      "158.101.146.40:59394  Fetching  https://goodinfo.tw/tw/BasicInfo.asp?STOCK_ID=2430  timeout:  30\n",
      "retrying:  3\n",
      "185.201.88.128:6969  Fetching  https://goodinfo.tw/tw/BasicInfo.asp?STOCK_ID=2430  timeout:  20\n",
      "retrying:  1\n",
      "185.201.88.128:6969  Fetching  https://goodinfo.tw/tw/BasicInfo.asp?STOCK_ID=2430  timeout:  25\n",
      "retrying:  2\n",
      "185.201.88.128:6969  Fetching  https://goodinfo.tw/tw/BasicInfo.asp?STOCK_ID=2430  timeout:  30\n"
     ]
    },
    {
     "name": "stderr",
     "output_type": "stream",
     "text": [
      " 31%|███       | 269/881 [4:41:05<8:42:46, 51.25s/it]"
     ]
    },
    {
     "name": "stdout",
     "output_type": "stream",
     "text": [
      "Success\n",
      "200.105.215.18:33630  Fetching  https://goodinfo.tw/tw/BasicInfo.asp?STOCK_ID=2431  timeout:  20\n"
     ]
    },
    {
     "name": "stderr",
     "output_type": "stream",
     "text": [
      " 31%|███       | 270/881 [4:41:14<6:32:46, 38.57s/it]"
     ]
    },
    {
     "name": "stdout",
     "output_type": "stream",
     "text": [
      "Success\n",
      "158.101.146.40:59394  Fetching  https://goodinfo.tw/tw/BasicInfo.asp?STOCK_ID=2433  timeout:  20\n",
      "retrying:  1\n",
      "158.101.146.40:59394  Fetching  https://goodinfo.tw/tw/BasicInfo.asp?STOCK_ID=2433  timeout:  25\n",
      "retrying:  2\n",
      "158.101.146.40:59394  Fetching  https://goodinfo.tw/tw/BasicInfo.asp?STOCK_ID=2433  timeout:  30\n",
      "retrying:  3\n",
      "158.101.146.40:59394  Fetching  https://goodinfo.tw/tw/BasicInfo.asp?STOCK_ID=2433  timeout:  20\n",
      "retrying:  1\n",
      "158.101.146.40:59394  Fetching  https://goodinfo.tw/tw/BasicInfo.asp?STOCK_ID=2433  timeout:  25\n",
      "retrying:  2\n",
      "158.101.146.40:59394  Fetching  https://goodinfo.tw/tw/BasicInfo.asp?STOCK_ID=2433  timeout:  30\n",
      "retrying:  3\n",
      "185.201.88.128:6969  Fetching  https://goodinfo.tw/tw/BasicInfo.asp?STOCK_ID=2433  timeout:  20\n"
     ]
    },
    {
     "name": "stderr",
     "output_type": "stream",
     "text": [
      " 31%|███       | 271/881 [4:43:50<12:29:53, 73.76s/it]"
     ]
    },
    {
     "name": "stdout",
     "output_type": "stream",
     "text": [
      "Success\n",
      "155.0.181.254:43496  Fetching  https://goodinfo.tw/tw/BasicInfo.asp?STOCK_ID=2434  timeout:  20\n",
      "retrying:  1\n",
      "155.0.181.254:43496  Fetching  https://goodinfo.tw/tw/BasicInfo.asp?STOCK_ID=2434  timeout:  25\n"
     ]
    },
    {
     "name": "stderr",
     "output_type": "stream",
     "text": [
      " 31%|███       | 272/881 [4:44:19<10:12:04, 60.30s/it]"
     ]
    },
    {
     "name": "stdout",
     "output_type": "stream",
     "text": [
      "Success\n",
      "155.0.181.254:43496  Fetching  https://goodinfo.tw/tw/BasicInfo.asp?STOCK_ID=2436  timeout:  20\n"
     ]
    },
    {
     "name": "stderr",
     "output_type": "stream",
     "text": [
      " 31%|███       | 273/881 [4:44:31<7:44:42, 45.86s/it] "
     ]
    },
    {
     "name": "stdout",
     "output_type": "stream",
     "text": [
      "Success\n",
      "158.101.146.40:59394  Fetching  https://goodinfo.tw/tw/BasicInfo.asp?STOCK_ID=2438  timeout:  20\n",
      "retrying:  1\n",
      "158.101.146.40:59394  Fetching  https://goodinfo.tw/tw/BasicInfo.asp?STOCK_ID=2438  timeout:  25\n",
      "retrying:  2\n",
      "158.101.146.40:59394  Fetching  https://goodinfo.tw/tw/BasicInfo.asp?STOCK_ID=2438  timeout:  30\n",
      "retrying:  3\n",
      "155.0.181.254:43496  Fetching  https://goodinfo.tw/tw/BasicInfo.asp?STOCK_ID=2438  timeout:  20\n",
      "retrying:  1\n",
      "155.0.181.254:43496  Fetching  https://goodinfo.tw/tw/BasicInfo.asp?STOCK_ID=2438  timeout:  25\n",
      "retrying:  2\n",
      "155.0.181.254:43496  Fetching  https://goodinfo.tw/tw/BasicInfo.asp?STOCK_ID=2438  timeout:  30\n",
      "retrying:  3\n",
      "200.105.215.18:33630  Fetching  https://goodinfo.tw/tw/BasicInfo.asp?STOCK_ID=2438  timeout:  20\n"
     ]
    },
    {
     "name": "stderr",
     "output_type": "stream",
     "text": [
      " 31%|███       | 274/881 [4:47:22<14:03:07, 83.34s/it]"
     ]
    },
    {
     "name": "stdout",
     "output_type": "stream",
     "text": [
      "Success\n",
      "47.242.168.144:59394  Fetching  https://goodinfo.tw/tw/BasicInfo.asp?STOCK_ID=2439  timeout:  20\n"
     ]
    },
    {
     "name": "stderr",
     "output_type": "stream",
     "text": [
      " 31%|███       | 275/881 [4:47:25<9:57:19, 59.14s/it] "
     ]
    },
    {
     "name": "stdout",
     "output_type": "stream",
     "text": [
      "Success\n",
      "185.201.88.128:6969  Fetching  https://goodinfo.tw/tw/BasicInfo.asp?STOCK_ID=2440  timeout:  20\n"
     ]
    },
    {
     "name": "stderr",
     "output_type": "stream",
     "text": [
      " 31%|███▏      | 276/881 [4:47:32<7:18:54, 43.53s/it]"
     ]
    },
    {
     "name": "stdout",
     "output_type": "stream",
     "text": [
      "Success\n",
      "47.242.168.144:59394  Fetching  https://goodinfo.tw/tw/BasicInfo.asp?STOCK_ID=2441  timeout:  20\n"
     ]
    },
    {
     "name": "stderr",
     "output_type": "stream",
     "text": [
      " 31%|███▏      | 277/881 [4:47:35<5:15:57, 31.39s/it]"
     ]
    },
    {
     "name": "stdout",
     "output_type": "stream",
     "text": [
      "Success\n",
      "200.105.215.18:33630  Fetching  https://goodinfo.tw/tw/BasicInfo.asp?STOCK_ID=2442  timeout:  20\n",
      "retrying:  1\n",
      "200.105.215.18:33630  Fetching  https://goodinfo.tw/tw/BasicInfo.asp?STOCK_ID=2442  timeout:  25\n"
     ]
    },
    {
     "name": "stderr",
     "output_type": "stream",
     "text": [
      " 32%|███▏      | 278/881 [4:48:01<5:00:52, 29.94s/it]"
     ]
    },
    {
     "name": "stdout",
     "output_type": "stream",
     "text": [
      "Success\n",
      "200.105.215.18:33630  Fetching  https://goodinfo.tw/tw/BasicInfo.asp?STOCK_ID=2443  timeout:  20\n",
      "retrying:  1\n",
      "200.105.215.18:33630  Fetching  https://goodinfo.tw/tw/BasicInfo.asp?STOCK_ID=2443  timeout:  25\n",
      "retrying:  2\n",
      "200.105.215.18:33630  Fetching  https://goodinfo.tw/tw/BasicInfo.asp?STOCK_ID=2443  timeout:  30\n"
     ]
    },
    {
     "name": "stderr",
     "output_type": "stream",
     "text": [
      " 32%|███▏      | 279/881 [4:48:54<6:09:52, 36.86s/it]"
     ]
    },
    {
     "name": "stdout",
     "output_type": "stream",
     "text": [
      "Success\n",
      "158.101.146.40:59394  Fetching  https://goodinfo.tw/tw/BasicInfo.asp?STOCK_ID=2444  timeout:  20\n",
      "retrying:  1\n",
      "158.101.146.40:59394  Fetching  https://goodinfo.tw/tw/BasicInfo.asp?STOCK_ID=2444  timeout:  25\n",
      "retrying:  2\n",
      "158.101.146.40:59394  Fetching  https://goodinfo.tw/tw/BasicInfo.asp?STOCK_ID=2444  timeout:  30\n",
      "retrying:  3\n",
      "200.105.215.18:33630  Fetching  https://goodinfo.tw/tw/BasicInfo.asp?STOCK_ID=2444  timeout:  20\n"
     ]
    },
    {
     "name": "stderr",
     "output_type": "stream",
     "text": [
      " 32%|███▏      | 280/881 [4:50:31<9:08:23, 54.75s/it]"
     ]
    },
    {
     "name": "stdout",
     "output_type": "stream",
     "text": [
      "Success\n",
      "158.101.146.40:59394  Fetching  https://goodinfo.tw/tw/BasicInfo.asp?STOCK_ID=2449  timeout:  20\n",
      "retrying:  1\n",
      "158.101.146.40:59394  Fetching  https://goodinfo.tw/tw/BasicInfo.asp?STOCK_ID=2449  timeout:  25\n",
      "retrying:  2\n",
      "158.101.146.40:59394  Fetching  https://goodinfo.tw/tw/BasicInfo.asp?STOCK_ID=2449  timeout:  30\n",
      "retrying:  3\n",
      "200.105.215.18:33630  Fetching  https://goodinfo.tw/tw/BasicInfo.asp?STOCK_ID=2449  timeout:  20\n"
     ]
    },
    {
     "name": "stderr",
     "output_type": "stream",
     "text": [
      " 32%|███▏      | 281/881 [4:52:07<11:11:14, 67.12s/it]"
     ]
    },
    {
     "name": "stdout",
     "output_type": "stream",
     "text": [
      "Success\n",
      "185.201.88.128:6969  Fetching  https://goodinfo.tw/tw/BasicInfo.asp?STOCK_ID=2450  timeout:  20\n"
     ]
    },
    {
     "name": "stderr",
     "output_type": "stream",
     "text": [
      " 32%|███▏      | 282/881 [4:52:13<8:07:05, 48.79s/it] "
     ]
    },
    {
     "name": "stdout",
     "output_type": "stream",
     "text": [
      "Success\n",
      "185.201.88.128:6969  Fetching  https://goodinfo.tw/tw/BasicInfo.asp?STOCK_ID=2451  timeout:  20\n"
     ]
    },
    {
     "name": "stderr",
     "output_type": "stream",
     "text": [
      " 32%|███▏      | 283/881 [4:52:17<5:52:05, 35.33s/it]"
     ]
    },
    {
     "name": "stdout",
     "output_type": "stream",
     "text": [
      "Success\n",
      "200.105.215.18:33630  Fetching  https://goodinfo.tw/tw/BasicInfo.asp?STOCK_ID=2453  timeout:  20\n"
     ]
    },
    {
     "name": "stderr",
     "output_type": "stream",
     "text": [
      " 32%|███▏      | 284/881 [4:52:24<4:26:45, 26.81s/it]"
     ]
    },
    {
     "name": "stdout",
     "output_type": "stream",
     "text": [
      "Success\n",
      "47.242.168.144:59394  Fetching  https://goodinfo.tw/tw/BasicInfo.asp?STOCK_ID=2454  timeout:  20\n"
     ]
    },
    {
     "name": "stderr",
     "output_type": "stream",
     "text": [
      " 32%|███▏      | 285/881 [4:52:32<3:30:22, 21.18s/it]"
     ]
    },
    {
     "name": "stdout",
     "output_type": "stream",
     "text": [
      "Success\n",
      "200.105.215.18:33630  Fetching  https://goodinfo.tw/tw/BasicInfo.asp?STOCK_ID=2455  timeout:  20\n"
     ]
    },
    {
     "name": "stderr",
     "output_type": "stream",
     "text": [
      " 32%|███▏      | 286/881 [4:52:41<2:54:16, 17.57s/it]"
     ]
    },
    {
     "name": "stdout",
     "output_type": "stream",
     "text": [
      "Success\n",
      "47.242.168.144:59394  Fetching  https://goodinfo.tw/tw/BasicInfo.asp?STOCK_ID=2456  timeout:  20\n",
      "retrying:  1\n",
      "47.242.168.144:59394  Fetching  https://goodinfo.tw/tw/BasicInfo.asp?STOCK_ID=2456  timeout:  25\n"
     ]
    },
    {
     "name": "stderr",
     "output_type": "stream",
     "text": [
      " 33%|███▎      | 287/881 [4:52:44<2:09:43, 13.10s/it]"
     ]
    },
    {
     "name": "stdout",
     "output_type": "stream",
     "text": [
      "Success\n",
      "47.242.168.144:59394  Fetching  https://goodinfo.tw/tw/BasicInfo.asp?STOCK_ID=2457  timeout:  20\n"
     ]
    },
    {
     "name": "stderr",
     "output_type": "stream",
     "text": [
      " 33%|███▎      | 288/881 [4:52:45<1:35:21,  9.65s/it]"
     ]
    },
    {
     "name": "stdout",
     "output_type": "stream",
     "text": [
      "Success\n",
      "200.105.215.18:33630  Fetching  https://goodinfo.tw/tw/BasicInfo.asp?STOCK_ID=2458  timeout:  20\n"
     ]
    },
    {
     "name": "stderr",
     "output_type": "stream",
     "text": [
      " 33%|███▎      | 289/881 [4:52:53<1:30:27,  9.17s/it]"
     ]
    },
    {
     "name": "stdout",
     "output_type": "stream",
     "text": [
      "Success\n",
      "155.0.181.254:43496  Fetching  https://goodinfo.tw/tw/BasicInfo.asp?STOCK_ID=2459  timeout:  20\n",
      "retrying:  1\n",
      "155.0.181.254:43496  Fetching  https://goodinfo.tw/tw/BasicInfo.asp?STOCK_ID=2459  timeout:  25\n"
     ]
    },
    {
     "name": "stderr",
     "output_type": "stream",
     "text": [
      " 33%|███▎      | 290/881 [4:53:27<2:43:41, 16.62s/it]"
     ]
    },
    {
     "name": "stdout",
     "output_type": "stream",
     "text": [
      "Success\n",
      "185.201.88.128:6969  Fetching  https://goodinfo.tw/tw/BasicInfo.asp?STOCK_ID=2460  timeout:  20\n"
     ]
    },
    {
     "name": "stderr",
     "output_type": "stream",
     "text": [
      " 33%|███▎      | 291/881 [4:53:32<2:09:52, 13.21s/it]"
     ]
    },
    {
     "name": "stdout",
     "output_type": "stream",
     "text": [
      "Success\n",
      "155.0.181.254:43496  Fetching  https://goodinfo.tw/tw/BasicInfo.asp?STOCK_ID=2461  timeout:  20\n",
      "retrying:  1\n",
      "155.0.181.254:43496  Fetching  https://goodinfo.tw/tw/BasicInfo.asp?STOCK_ID=2461  timeout:  25\n",
      "retrying:  2\n",
      "155.0.181.254:43496  Fetching  https://goodinfo.tw/tw/BasicInfo.asp?STOCK_ID=2461  timeout:  30\n",
      "retrying:  3\n",
      "158.101.146.40:59394  Fetching  https://goodinfo.tw/tw/BasicInfo.asp?STOCK_ID=2461  timeout:  20\n",
      "retrying:  1\n",
      "158.101.146.40:59394  Fetching  https://goodinfo.tw/tw/BasicInfo.asp?STOCK_ID=2461  timeout:  25\n",
      "retrying:  2\n",
      "158.101.146.40:59394  Fetching  https://goodinfo.tw/tw/BasicInfo.asp?STOCK_ID=2461  timeout:  30\n",
      "retrying:  3\n",
      "200.105.215.18:33630  Fetching  https://goodinfo.tw/tw/BasicInfo.asp?STOCK_ID=2461  timeout:  20\n"
     ]
    },
    {
     "name": "stderr",
     "output_type": "stream",
     "text": [
      " 33%|███▎      | 292/881 [4:55:44<7:56:58, 48.59s/it]"
     ]
    },
    {
     "name": "stdout",
     "output_type": "stream",
     "text": [
      "Success\n",
      "155.0.181.254:43496  Fetching  https://goodinfo.tw/tw/BasicInfo.asp?STOCK_ID=2462  timeout:  20\n"
     ]
    },
    {
     "name": "stderr",
     "output_type": "stream",
     "text": [
      " 33%|███▎      | 293/881 [4:56:06<6:38:34, 40.67s/it]"
     ]
    },
    {
     "name": "stdout",
     "output_type": "stream",
     "text": [
      "Success\n",
      "185.201.88.128:6969  Fetching  https://goodinfo.tw/tw/BasicInfo.asp?STOCK_ID=2464  timeout:  20\n",
      "retrying:  1\n",
      "185.201.88.128:6969  Fetching  https://goodinfo.tw/tw/BasicInfo.asp?STOCK_ID=2464  timeout:  25\n"
     ]
    },
    {
     "name": "stderr",
     "output_type": "stream",
     "text": [
      " 33%|███▎      | 294/881 [4:56:31<5:51:31, 35.93s/it]"
     ]
    },
    {
     "name": "stdout",
     "output_type": "stream",
     "text": [
      "Success\n",
      "158.101.146.40:59394  Fetching  https://goodinfo.tw/tw/BasicInfo.asp?STOCK_ID=2465  timeout:  20\n",
      "retrying:  1\n",
      "158.101.146.40:59394  Fetching  https://goodinfo.tw/tw/BasicInfo.asp?STOCK_ID=2465  timeout:  25\n",
      "retrying:  2\n",
      "158.101.146.40:59394  Fetching  https://goodinfo.tw/tw/BasicInfo.asp?STOCK_ID=2465  timeout:  30\n",
      "retrying:  3\n",
      "158.101.146.40:59394  Fetching  https://goodinfo.tw/tw/BasicInfo.asp?STOCK_ID=2465  timeout:  20\n",
      "retrying:  1\n",
      "158.101.146.40:59394  Fetching  https://goodinfo.tw/tw/BasicInfo.asp?STOCK_ID=2465  timeout:  25\n",
      "retrying:  2\n",
      "158.101.146.40:59394  Fetching  https://goodinfo.tw/tw/BasicInfo.asp?STOCK_ID=2465  timeout:  30\n",
      "retrying:  3\n",
      "158.101.146.40:59394  Fetching  https://goodinfo.tw/tw/BasicInfo.asp?STOCK_ID=2465  timeout:  20\n",
      "retrying:  1\n",
      "158.101.146.40:59394  Fetching  https://goodinfo.tw/tw/BasicInfo.asp?STOCK_ID=2465  timeout:  25\n",
      "retrying:  2\n",
      "158.101.146.40:59394  Fetching  https://goodinfo.tw/tw/BasicInfo.asp?STOCK_ID=2465  timeout:  30\n",
      "retrying:  3\n",
      "200.105.215.18:33630  Fetching  https://goodinfo.tw/tw/BasicInfo.asp?STOCK_ID=2465  timeout:  20\n",
      "retrying:  1\n",
      "200.105.215.18:33630  Fetching  https://goodinfo.tw/tw/BasicInfo.asp?STOCK_ID=2465  timeout:  25\n"
     ]
    },
    {
     "name": "stderr",
     "output_type": "stream",
     "text": [
      " 33%|███▎      | 295/881 [5:00:44<16:28:05, 101.17s/it]"
     ]
    },
    {
     "name": "stdout",
     "output_type": "stream",
     "text": [
      "Success\n",
      "200.105.215.18:33630  Fetching  https://goodinfo.tw/tw/BasicInfo.asp?STOCK_ID=2466  timeout:  20\n",
      "retrying:  1\n",
      "200.105.215.18:33630  Fetching  https://goodinfo.tw/tw/BasicInfo.asp?STOCK_ID=2466  timeout:  25\n",
      "retrying:  2\n",
      "200.105.215.18:33630  Fetching  https://goodinfo.tw/tw/BasicInfo.asp?STOCK_ID=2466  timeout:  30\n",
      "retrying:  3\n",
      "158.101.146.40:59394  Fetching  https://goodinfo.tw/tw/BasicInfo.asp?STOCK_ID=2466  timeout:  20\n",
      "retrying:  1\n",
      "158.101.146.40:59394  Fetching  https://goodinfo.tw/tw/BasicInfo.asp?STOCK_ID=2466  timeout:  25\n",
      "retrying:  2\n",
      "158.101.146.40:59394  Fetching  https://goodinfo.tw/tw/BasicInfo.asp?STOCK_ID=2466  timeout:  30\n",
      "retrying:  3\n",
      "155.0.181.254:43496  Fetching  https://goodinfo.tw/tw/BasicInfo.asp?STOCK_ID=2466  timeout:  20\n",
      "retrying:  1\n",
      "155.0.181.254:43496  Fetching  https://goodinfo.tw/tw/BasicInfo.asp?STOCK_ID=2466  timeout:  25\n",
      "retrying:  2\n",
      "155.0.181.254:43496  Fetching  https://goodinfo.tw/tw/BasicInfo.asp?STOCK_ID=2466  timeout:  30\n",
      "retrying:  3\n",
      "155.0.181.254:43496  Fetching  https://goodinfo.tw/tw/BasicInfo.asp?STOCK_ID=2466  timeout:  20\n",
      "retrying:  1\n",
      "155.0.181.254:43496  Fetching  https://goodinfo.tw/tw/BasicInfo.asp?STOCK_ID=2466  timeout:  25\n",
      "retrying:  2\n",
      "155.0.181.254:43496  Fetching  https://goodinfo.tw/tw/BasicInfo.asp?STOCK_ID=2466  timeout:  30\n",
      "retrying:  3\n",
      "200.105.215.18:33630  Fetching  https://goodinfo.tw/tw/BasicInfo.asp?STOCK_ID=2466  timeout:  20\n",
      "retrying:  1\n",
      "200.105.215.18:33630  Fetching  https://goodinfo.tw/tw/BasicInfo.asp?STOCK_ID=2466  timeout:  25\n",
      "retrying:  2\n",
      "200.105.215.18:33630  Fetching  https://goodinfo.tw/tw/BasicInfo.asp?STOCK_ID=2466  timeout:  30\n"
     ]
    },
    {
     "name": "stderr",
     "output_type": "stream",
     "text": [
      " 34%|███▎      | 296/881 [5:06:37<28:41:29, 176.56s/it]"
     ]
    },
    {
     "name": "stdout",
     "output_type": "stream",
     "text": [
      "Success\n",
      "158.101.146.40:59394  Fetching  https://goodinfo.tw/tw/BasicInfo.asp?STOCK_ID=2467  timeout:  20\n",
      "retrying:  1\n",
      "158.101.146.40:59394  Fetching  https://goodinfo.tw/tw/BasicInfo.asp?STOCK_ID=2467  timeout:  25\n",
      "retrying:  2\n",
      "158.101.146.40:59394  Fetching  https://goodinfo.tw/tw/BasicInfo.asp?STOCK_ID=2467  timeout:  30\n",
      "retrying:  3\n",
      "158.101.146.40:59394  Fetching  https://goodinfo.tw/tw/BasicInfo.asp?STOCK_ID=2467  timeout:  20\n",
      "retrying:  1\n",
      "158.101.146.40:59394  Fetching  https://goodinfo.tw/tw/BasicInfo.asp?STOCK_ID=2467  timeout:  25\n",
      "retrying:  2\n",
      "158.101.146.40:59394  Fetching  https://goodinfo.tw/tw/BasicInfo.asp?STOCK_ID=2467  timeout:  30\n",
      "retrying:  3\n",
      "185.201.88.128:6969  Fetching  https://goodinfo.tw/tw/BasicInfo.asp?STOCK_ID=2467  timeout:  20\n"
     ]
    },
    {
     "name": "stderr",
     "output_type": "stream",
     "text": [
      " 34%|███▎      | 297/881 [5:09:13<27:39:36, 170.51s/it]"
     ]
    },
    {
     "name": "stdout",
     "output_type": "stream",
     "text": [
      "Success\n",
      "155.0.181.254:43496  Fetching  https://goodinfo.tw/tw/BasicInfo.asp?STOCK_ID=2468  timeout:  20\n",
      "retrying:  1\n",
      "155.0.181.254:43496  Fetching  https://goodinfo.tw/tw/BasicInfo.asp?STOCK_ID=2468  timeout:  25\n",
      "retrying:  2\n",
      "155.0.181.254:43496  Fetching  https://goodinfo.tw/tw/BasicInfo.asp?STOCK_ID=2468  timeout:  30\n",
      "retrying:  3\n",
      "47.242.168.144:59394  Fetching  https://goodinfo.tw/tw/BasicInfo.asp?STOCK_ID=2468  timeout:  20\n"
     ]
    },
    {
     "name": "stderr",
     "output_type": "stream",
     "text": [
      " 34%|███▍      | 298/881 [5:10:29<23:00:54, 142.12s/it]"
     ]
    },
    {
     "name": "stdout",
     "output_type": "stream",
     "text": [
      "Success\n",
      "158.101.146.40:59394  Fetching  https://goodinfo.tw/tw/BasicInfo.asp?STOCK_ID=2471  timeout:  20\n",
      "retrying:  1\n",
      "158.101.146.40:59394  Fetching  https://goodinfo.tw/tw/BasicInfo.asp?STOCK_ID=2471  timeout:  25\n",
      "retrying:  2\n",
      "158.101.146.40:59394  Fetching  https://goodinfo.tw/tw/BasicInfo.asp?STOCK_ID=2471  timeout:  30\n",
      "retrying:  3\n",
      "155.0.181.254:43496  Fetching  https://goodinfo.tw/tw/BasicInfo.asp?STOCK_ID=2471  timeout:  20\n",
      "retrying:  1\n",
      "155.0.181.254:43496  Fetching  https://goodinfo.tw/tw/BasicInfo.asp?STOCK_ID=2471  timeout:  25\n",
      "retrying:  2\n",
      "155.0.181.254:43496  Fetching  https://goodinfo.tw/tw/BasicInfo.asp?STOCK_ID=2471  timeout:  30\n",
      "retrying:  3\n",
      "47.242.168.144:59394  Fetching  https://goodinfo.tw/tw/BasicInfo.asp?STOCK_ID=2471  timeout:  20\n"
     ]
    },
    {
     "name": "stderr",
     "output_type": "stream",
     "text": [
      " 34%|███▍      | 299/881 [5:12:51<22:59:13, 142.19s/it]"
     ]
    },
    {
     "name": "stdout",
     "output_type": "stream",
     "text": [
      "Success\n",
      "155.0.181.254:43496  Fetching  https://goodinfo.tw/tw/BasicInfo.asp?STOCK_ID=2472  timeout:  20\n",
      "retrying:  1\n",
      "155.0.181.254:43496  Fetching  https://goodinfo.tw/tw/BasicInfo.asp?STOCK_ID=2472  timeout:  25\n",
      "retrying:  2\n",
      "155.0.181.254:43496  Fetching  https://goodinfo.tw/tw/BasicInfo.asp?STOCK_ID=2472  timeout:  30\n",
      "retrying:  3\n",
      "158.101.146.40:59394  Fetching  https://goodinfo.tw/tw/BasicInfo.asp?STOCK_ID=2472  timeout:  20\n",
      "retrying:  1\n",
      "158.101.146.40:59394  Fetching  https://goodinfo.tw/tw/BasicInfo.asp?STOCK_ID=2472  timeout:  25\n",
      "retrying:  2\n",
      "158.101.146.40:59394  Fetching  https://goodinfo.tw/tw/BasicInfo.asp?STOCK_ID=2472  timeout:  30\n",
      "retrying:  3\n",
      "158.101.146.40:59394  Fetching  https://goodinfo.tw/tw/BasicInfo.asp?STOCK_ID=2472  timeout:  20\n",
      "retrying:  1\n",
      "158.101.146.40:59394  Fetching  https://goodinfo.tw/tw/BasicInfo.asp?STOCK_ID=2472  timeout:  25\n",
      "retrying:  2\n",
      "158.101.146.40:59394  Fetching  https://goodinfo.tw/tw/BasicInfo.asp?STOCK_ID=2472  timeout:  30\n",
      "retrying:  3\n",
      "47.242.168.144:59394  Fetching  https://goodinfo.tw/tw/BasicInfo.asp?STOCK_ID=2472  timeout:  20\n",
      "retrying:  1\n",
      "47.242.168.144:59394  Fetching  https://goodinfo.tw/tw/BasicInfo.asp?STOCK_ID=2472  timeout:  25\n"
     ]
    },
    {
     "name": "stderr",
     "output_type": "stream",
     "text": [
      " 34%|███▍      | 300/881 [5:16:55<27:53:19, 172.81s/it]"
     ]
    },
    {
     "name": "stdout",
     "output_type": "stream",
     "text": [
      "Success\n",
      "47.242.168.144:59394  Fetching  https://goodinfo.tw/tw/BasicInfo.asp?STOCK_ID=2474  timeout:  20\n",
      "retrying:  1\n",
      "47.242.168.144:59394  Fetching  https://goodinfo.tw/tw/BasicInfo.asp?STOCK_ID=2474  timeout:  25\n"
     ]
    },
    {
     "name": "stderr",
     "output_type": "stream",
     "text": [
      " 34%|███▍      | 301/881 [5:17:19<20:38:43, 128.14s/it]"
     ]
    },
    {
     "name": "stdout",
     "output_type": "stream",
     "text": [
      "Success\n",
      "155.0.181.254:43496  Fetching  https://goodinfo.tw/tw/BasicInfo.asp?STOCK_ID=2476  timeout:  20\n",
      "retrying:  1\n",
      "155.0.181.254:43496  Fetching  https://goodinfo.tw/tw/BasicInfo.asp?STOCK_ID=2476  timeout:  25\n",
      "retrying:  2\n",
      "155.0.181.254:43496  Fetching  https://goodinfo.tw/tw/BasicInfo.asp?STOCK_ID=2476  timeout:  30\n"
     ]
    },
    {
     "name": "stderr",
     "output_type": "stream",
     "text": [
      " 34%|███▍      | 302/881 [5:18:12<16:57:29, 105.44s/it]"
     ]
    },
    {
     "name": "stdout",
     "output_type": "stream",
     "text": [
      "Success\n",
      "47.242.168.144:59394  Fetching  https://goodinfo.tw/tw/BasicInfo.asp?STOCK_ID=2477  timeout:  20\n",
      "retrying:  1\n",
      "47.242.168.144:59394  Fetching  https://goodinfo.tw/tw/BasicInfo.asp?STOCK_ID=2477  timeout:  25\n"
     ]
    },
    {
     "name": "stderr",
     "output_type": "stream",
     "text": [
      " 34%|███▍      | 303/881 [5:18:13<11:53:54, 74.11s/it] "
     ]
    },
    {
     "name": "stdout",
     "output_type": "stream",
     "text": [
      "Success\n",
      "47.242.168.144:59394  Fetching  https://goodinfo.tw/tw/BasicInfo.asp?STOCK_ID=2478  timeout:  20\n"
     ]
    },
    {
     "name": "stderr",
     "output_type": "stream",
     "text": [
      " 35%|███▍      | 304/881 [5:18:13<8:20:32, 52.05s/it] "
     ]
    },
    {
     "name": "stdout",
     "output_type": "stream",
     "text": [
      "Success\n",
      "47.242.168.144:59394  Fetching  https://goodinfo.tw/tw/BasicInfo.asp?STOCK_ID=2480  timeout:  20\n"
     ]
    },
    {
     "name": "stderr",
     "output_type": "stream",
     "text": [
      " 35%|███▍      | 305/881 [5:18:17<6:00:32, 37.56s/it]"
     ]
    },
    {
     "name": "stdout",
     "output_type": "stream",
     "text": [
      "Success\n",
      "155.0.181.254:43496  Fetching  https://goodinfo.tw/tw/BasicInfo.asp?STOCK_ID=2481  timeout:  20\n",
      "retrying:  1\n",
      "155.0.181.254:43496  Fetching  https://goodinfo.tw/tw/BasicInfo.asp?STOCK_ID=2481  timeout:  25\n"
     ]
    },
    {
     "name": "stderr",
     "output_type": "stream",
     "text": [
      " 35%|███▍      | 306/881 [5:18:46<5:33:53, 34.84s/it]"
     ]
    },
    {
     "name": "stdout",
     "output_type": "stream",
     "text": [
      "Success\n",
      "185.201.88.128:6969  Fetching  https://goodinfo.tw/tw/BasicInfo.asp?STOCK_ID=2482  timeout:  20\n",
      "retrying:  1\n",
      "185.201.88.128:6969  Fetching  https://goodinfo.tw/tw/BasicInfo.asp?STOCK_ID=2482  timeout:  25\n"
     ]
    },
    {
     "name": "stderr",
     "output_type": "stream",
     "text": [
      " 35%|███▍      | 307/881 [5:19:13<5:11:56, 32.61s/it]"
     ]
    },
    {
     "name": "stdout",
     "output_type": "stream",
     "text": [
      "Success\n",
      "158.101.146.40:59394  Fetching  https://goodinfo.tw/tw/BasicInfo.asp?STOCK_ID=2483  timeout:  20\n",
      "retrying:  1\n",
      "158.101.146.40:59394  Fetching  https://goodinfo.tw/tw/BasicInfo.asp?STOCK_ID=2483  timeout:  25\n",
      "retrying:  2\n",
      "158.101.146.40:59394  Fetching  https://goodinfo.tw/tw/BasicInfo.asp?STOCK_ID=2483  timeout:  30\n",
      "retrying:  3\n",
      "47.242.168.144:59394  Fetching  https://goodinfo.tw/tw/BasicInfo.asp?STOCK_ID=2483  timeout:  20\n",
      "retrying:  1\n",
      "47.242.168.144:59394  Fetching  https://goodinfo.tw/tw/BasicInfo.asp?STOCK_ID=2483  timeout:  25\n"
     ]
    },
    {
     "name": "stderr",
     "output_type": "stream",
     "text": [
      " 35%|███▍      | 308/881 [5:20:31<7:22:26, 46.33s/it]"
     ]
    },
    {
     "name": "stdout",
     "output_type": "stream",
     "text": [
      "Success\n",
      "185.201.88.128:6969  Fetching  https://goodinfo.tw/tw/BasicInfo.asp?STOCK_ID=2484  timeout:  20\n",
      "retrying:  1\n",
      "185.201.88.128:6969  Fetching  https://goodinfo.tw/tw/BasicInfo.asp?STOCK_ID=2484  timeout:  25\n",
      "retrying:  2\n",
      "185.201.88.128:6969  Fetching  https://goodinfo.tw/tw/BasicInfo.asp?STOCK_ID=2484  timeout:  30\n",
      "retrying:  3\n",
      "155.0.181.254:43496  Fetching  https://goodinfo.tw/tw/BasicInfo.asp?STOCK_ID=2484  timeout:  20\n"
     ]
    },
    {
     "name": "stderr",
     "output_type": "stream",
     "text": [
      " 35%|███▌      | 309/881 [5:21:54<9:05:57, 57.27s/it]"
     ]
    },
    {
     "name": "stdout",
     "output_type": "stream",
     "text": [
      "Success\n",
      "155.0.181.254:43496  Fetching  https://goodinfo.tw/tw/BasicInfo.asp?STOCK_ID=2485  timeout:  20\n",
      "retrying:  1\n",
      "155.0.181.254:43496  Fetching  https://goodinfo.tw/tw/BasicInfo.asp?STOCK_ID=2485  timeout:  25\n",
      "retrying:  2\n",
      "155.0.181.254:43496  Fetching  https://goodinfo.tw/tw/BasicInfo.asp?STOCK_ID=2485  timeout:  30\n",
      "retrying:  3\n",
      "185.201.88.128:6969  Fetching  https://goodinfo.tw/tw/BasicInfo.asp?STOCK_ID=2485  timeout:  20\n"
     ]
    },
    {
     "name": "stderr",
     "output_type": "stream",
     "text": [
      " 35%|███▌      | 310/881 [5:22:56<9:17:58, 58.63s/it]"
     ]
    },
    {
     "name": "stdout",
     "output_type": "stream",
     "text": [
      "Success\n",
      "200.105.215.18:33630  Fetching  https://goodinfo.tw/tw/BasicInfo.asp?STOCK_ID=2486  timeout:  20\n",
      "retrying:  1\n",
      "200.105.215.18:33630  Fetching  https://goodinfo.tw/tw/BasicInfo.asp?STOCK_ID=2486  timeout:  25\n"
     ]
    },
    {
     "name": "stderr",
     "output_type": "stream",
     "text": [
      " 35%|███▌      | 311/881 [5:23:37<8:26:28, 53.31s/it]"
     ]
    },
    {
     "name": "stdout",
     "output_type": "stream",
     "text": [
      "Success\n",
      "47.242.168.144:59394  Fetching  https://goodinfo.tw/tw/BasicInfo.asp?STOCK_ID=2488  timeout:  20\n"
     ]
    },
    {
     "name": "stderr",
     "output_type": "stream",
     "text": [
      " 35%|███▌      | 312/881 [5:23:41<6:05:54, 38.58s/it]"
     ]
    },
    {
     "name": "stdout",
     "output_type": "stream",
     "text": [
      "Success\n",
      "185.201.88.128:6969  Fetching  https://goodinfo.tw/tw/BasicInfo.asp?STOCK_ID=2489  timeout:  20\n"
     ]
    },
    {
     "name": "stderr",
     "output_type": "stream",
     "text": [
      " 36%|███▌      | 313/881 [5:23:49<4:38:48, 29.45s/it]"
     ]
    },
    {
     "name": "stdout",
     "output_type": "stream",
     "text": [
      "Success\n",
      "155.0.181.254:43496  Fetching  https://goodinfo.tw/tw/BasicInfo.asp?STOCK_ID=2491  timeout:  20\n",
      "retrying:  1\n",
      "155.0.181.254:43496  Fetching  https://goodinfo.tw/tw/BasicInfo.asp?STOCK_ID=2491  timeout:  25\n",
      "retrying:  2\n",
      "155.0.181.254:43496  Fetching  https://goodinfo.tw/tw/BasicInfo.asp?STOCK_ID=2491  timeout:  30\n"
     ]
    },
    {
     "name": "stderr",
     "output_type": "stream",
     "text": [
      " 36%|███▌      | 314/881 [5:24:22<4:48:25, 30.52s/it]"
     ]
    },
    {
     "name": "stdout",
     "output_type": "stream",
     "text": [
      "Success\n",
      "47.242.168.144:59394  Fetching  https://goodinfo.tw/tw/BasicInfo.asp?STOCK_ID=2492  timeout:  20\n",
      "retrying:  1\n",
      "47.242.168.144:59394  Fetching  https://goodinfo.tw/tw/BasicInfo.asp?STOCK_ID=2492  timeout:  25\n"
     ]
    },
    {
     "name": "stderr",
     "output_type": "stream",
     "text": [
      " 36%|███▌      | 315/881 [5:24:40<4:11:01, 26.61s/it]"
     ]
    },
    {
     "name": "stdout",
     "output_type": "stream",
     "text": [
      "Success\n",
      "158.101.146.40:59394  Fetching  https://goodinfo.tw/tw/BasicInfo.asp?STOCK_ID=2493  timeout:  20\n",
      "retrying:  1\n",
      "158.101.146.40:59394  Fetching  https://goodinfo.tw/tw/BasicInfo.asp?STOCK_ID=2493  timeout:  25\n",
      "retrying:  2\n",
      "158.101.146.40:59394  Fetching  https://goodinfo.tw/tw/BasicInfo.asp?STOCK_ID=2493  timeout:  30\n",
      "retrying:  3\n",
      "158.101.146.40:59394  Fetching  https://goodinfo.tw/tw/BasicInfo.asp?STOCK_ID=2493  timeout:  20\n",
      "retrying:  1\n",
      "158.101.146.40:59394  Fetching  https://goodinfo.tw/tw/BasicInfo.asp?STOCK_ID=2493  timeout:  25\n",
      "retrying:  2\n",
      "158.101.146.40:59394  Fetching  https://goodinfo.tw/tw/BasicInfo.asp?STOCK_ID=2493  timeout:  30\n",
      "retrying:  3\n",
      "158.101.146.40:59394  Fetching  https://goodinfo.tw/tw/BasicInfo.asp?STOCK_ID=2493  timeout:  20\n",
      "retrying:  1\n",
      "158.101.146.40:59394  Fetching  https://goodinfo.tw/tw/BasicInfo.asp?STOCK_ID=2493  timeout:  25\n",
      "retrying:  2\n",
      "158.101.146.40:59394  Fetching  https://goodinfo.tw/tw/BasicInfo.asp?STOCK_ID=2493  timeout:  30\n",
      "retrying:  3\n",
      "158.101.146.40:59394  Fetching  https://goodinfo.tw/tw/BasicInfo.asp?STOCK_ID=2493  timeout:  20\n",
      "retrying:  1\n",
      "158.101.146.40:59394  Fetching  https://goodinfo.tw/tw/BasicInfo.asp?STOCK_ID=2493  timeout:  25\n",
      "retrying:  2\n",
      "158.101.146.40:59394  Fetching  https://goodinfo.tw/tw/BasicInfo.asp?STOCK_ID=2493  timeout:  30\n",
      "retrying:  3\n",
      "47.242.168.144:59394  Fetching  https://goodinfo.tw/tw/BasicInfo.asp?STOCK_ID=2493  timeout:  20\n"
     ]
    },
    {
     "name": "stderr",
     "output_type": "stream",
     "text": [
      " 36%|███▌      | 316/881 [5:29:40<17:04:58, 108.85s/it]"
     ]
    },
    {
     "name": "stdout",
     "output_type": "stream",
     "text": [
      "Success\n",
      "158.101.146.40:59394  Fetching  https://goodinfo.tw/tw/BasicInfo.asp?STOCK_ID=2495  timeout:  20\n",
      "retrying:  1\n",
      "158.101.146.40:59394  Fetching  https://goodinfo.tw/tw/BasicInfo.asp?STOCK_ID=2495  timeout:  25\n",
      "retrying:  2\n",
      "158.101.146.40:59394  Fetching  https://goodinfo.tw/tw/BasicInfo.asp?STOCK_ID=2495  timeout:  30\n",
      "retrying:  3\n",
      "158.101.146.40:59394  Fetching  https://goodinfo.tw/tw/BasicInfo.asp?STOCK_ID=2495  timeout:  20\n",
      "retrying:  1\n",
      "158.101.146.40:59394  Fetching  https://goodinfo.tw/tw/BasicInfo.asp?STOCK_ID=2495  timeout:  25\n",
      "retrying:  2\n",
      "158.101.146.40:59394  Fetching  https://goodinfo.tw/tw/BasicInfo.asp?STOCK_ID=2495  timeout:  30\n",
      "retrying:  3\n",
      "155.0.181.254:43496  Fetching  https://goodinfo.tw/tw/BasicInfo.asp?STOCK_ID=2495  timeout:  20\n",
      "retrying:  1\n",
      "155.0.181.254:43496  Fetching  https://goodinfo.tw/tw/BasicInfo.asp?STOCK_ID=2495  timeout:  25\n",
      "retrying:  2\n",
      "155.0.181.254:43496  Fetching  https://goodinfo.tw/tw/BasicInfo.asp?STOCK_ID=2495  timeout:  30\n",
      "retrying:  3\n",
      "158.101.146.40:59394  Fetching  https://goodinfo.tw/tw/BasicInfo.asp?STOCK_ID=2495  timeout:  20\n",
      "retrying:  1\n",
      "158.101.146.40:59394  Fetching  https://goodinfo.tw/tw/BasicInfo.asp?STOCK_ID=2495  timeout:  25\n",
      "retrying:  2\n",
      "158.101.146.40:59394  Fetching  https://goodinfo.tw/tw/BasicInfo.asp?STOCK_ID=2495  timeout:  30\n",
      "retrying:  3\n",
      "47.242.168.144:59394  Fetching  https://goodinfo.tw/tw/BasicInfo.asp?STOCK_ID=2495  timeout:  20\n"
     ]
    },
    {
     "name": "stderr",
     "output_type": "stream",
     "text": [
      " 36%|███▌      | 317/881 [5:34:49<26:27:16, 168.86s/it]"
     ]
    },
    {
     "name": "stdout",
     "output_type": "stream",
     "text": [
      "Success\n",
      "200.105.215.18:33630  Fetching  https://goodinfo.tw/tw/BasicInfo.asp?STOCK_ID=2496  timeout:  20\n"
     ]
    },
    {
     "name": "stderr",
     "output_type": "stream",
     "text": [
      " 36%|███▌      | 318/881 [5:35:07<19:19:04, 123.53s/it]"
     ]
    },
    {
     "name": "stdout",
     "output_type": "stream",
     "text": [
      "Success\n",
      "158.101.146.40:59394  Fetching  https://goodinfo.tw/tw/BasicInfo.asp?STOCK_ID=2497  timeout:  20\n",
      "retrying:  1\n",
      "158.101.146.40:59394  Fetching  https://goodinfo.tw/tw/BasicInfo.asp?STOCK_ID=2497  timeout:  25\n",
      "retrying:  2\n",
      "158.101.146.40:59394  Fetching  https://goodinfo.tw/tw/BasicInfo.asp?STOCK_ID=2497  timeout:  30\n",
      "retrying:  3\n",
      "185.201.88.128:6969  Fetching  https://goodinfo.tw/tw/BasicInfo.asp?STOCK_ID=2497  timeout:  20\n",
      "retrying:  1\n",
      "185.201.88.128:6969  Fetching  https://goodinfo.tw/tw/BasicInfo.asp?STOCK_ID=2497  timeout:  25\n"
     ]
    },
    {
     "name": "stderr",
     "output_type": "stream",
     "text": [
      " 36%|███▌      | 319/881 [5:36:48<18:14:12, 116.82s/it]"
     ]
    },
    {
     "name": "stdout",
     "output_type": "stream",
     "text": [
      "Success\n",
      "185.201.88.128:6969  Fetching  https://goodinfo.tw/tw/BasicInfo.asp?STOCK_ID=2498  timeout:  20\n",
      "retrying:  1\n",
      "185.201.88.128:6969  Fetching  https://goodinfo.tw/tw/BasicInfo.asp?STOCK_ID=2498  timeout:  25\n",
      "retrying:  2\n",
      "185.201.88.128:6969  Fetching  https://goodinfo.tw/tw/BasicInfo.asp?STOCK_ID=2498  timeout:  30\n",
      "retrying:  3\n",
      "185.201.88.128:6969  Fetching  https://goodinfo.tw/tw/BasicInfo.asp?STOCK_ID=2498  timeout:  20\n",
      "retrying:  1\n",
      "185.201.88.128:6969  Fetching  https://goodinfo.tw/tw/BasicInfo.asp?STOCK_ID=2498  timeout:  25\n",
      "retrying:  2\n",
      "185.201.88.128:6969  Fetching  https://goodinfo.tw/tw/BasicInfo.asp?STOCK_ID=2498  timeout:  30\n",
      "retrying:  3\n",
      "200.105.215.18:33630  Fetching  https://goodinfo.tw/tw/BasicInfo.asp?STOCK_ID=2498  timeout:  20\n"
     ]
    },
    {
     "name": "stderr",
     "output_type": "stream",
     "text": [
      " 36%|███▋      | 320/881 [5:39:23<19:59:38, 128.30s/it]"
     ]
    },
    {
     "name": "stdout",
     "output_type": "stream",
     "text": [
      "Success\n",
      "47.242.168.144:59394  Fetching  https://goodinfo.tw/tw/BasicInfo.asp?STOCK_ID=2501  timeout:  20\n",
      "retrying:  1\n",
      "47.242.168.144:59394  Fetching  https://goodinfo.tw/tw/BasicInfo.asp?STOCK_ID=2501  timeout:  25\n",
      "retrying:  2\n",
      "47.242.168.144:59394  Fetching  https://goodinfo.tw/tw/BasicInfo.asp?STOCK_ID=2501  timeout:  30\n",
      "retrying:  3\n",
      "158.101.146.40:59394  Fetching  https://goodinfo.tw/tw/BasicInfo.asp?STOCK_ID=2501  timeout:  20\n",
      "retrying:  1\n",
      "158.101.146.40:59394  Fetching  https://goodinfo.tw/tw/BasicInfo.asp?STOCK_ID=2501  timeout:  25\n",
      "retrying:  2\n",
      "158.101.146.40:59394  Fetching  https://goodinfo.tw/tw/BasicInfo.asp?STOCK_ID=2501  timeout:  30\n",
      "retrying:  3\n",
      "200.105.215.18:33630  Fetching  https://goodinfo.tw/tw/BasicInfo.asp?STOCK_ID=2501  timeout:  20\n",
      "retrying:  1\n",
      "200.105.215.18:33630  Fetching  https://goodinfo.tw/tw/BasicInfo.asp?STOCK_ID=2501  timeout:  25\n",
      "retrying:  2\n",
      "200.105.215.18:33630  Fetching  https://goodinfo.tw/tw/BasicInfo.asp?STOCK_ID=2501  timeout:  30\n",
      "retrying:  3\n",
      "47.242.168.144:59394  Fetching  https://goodinfo.tw/tw/BasicInfo.asp?STOCK_ID=2501  timeout:  20\n"
     ]
    },
    {
     "name": "stderr",
     "output_type": "stream",
     "text": [
      " 36%|███▋      | 321/881 [5:43:11<24:36:38, 158.21s/it]"
     ]
    },
    {
     "name": "stdout",
     "output_type": "stream",
     "text": [
      "Success\n",
      "200.105.215.18:33630  Fetching  https://goodinfo.tw/tw/BasicInfo.asp?STOCK_ID=2504  timeout:  20\n",
      "retrying:  1\n",
      "200.105.215.18:33630  Fetching  https://goodinfo.tw/tw/BasicInfo.asp?STOCK_ID=2504  timeout:  25\n",
      "retrying:  2\n",
      "200.105.215.18:33630  Fetching  https://goodinfo.tw/tw/BasicInfo.asp?STOCK_ID=2504  timeout:  30\n"
     ]
    },
    {
     "name": "stderr",
     "output_type": "stream",
     "text": [
      " 37%|███▋      | 322/881 [5:44:09<19:53:27, 128.10s/it]"
     ]
    },
    {
     "name": "stdout",
     "output_type": "stream",
     "text": [
      "Success\n",
      "200.105.215.18:33630  Fetching  https://goodinfo.tw/tw/BasicInfo.asp?STOCK_ID=2505  timeout:  20\n"
     ]
    },
    {
     "name": "stderr",
     "output_type": "stream",
     "text": [
      " 37%|███▋      | 323/881 [5:44:14<14:06:15, 91.00s/it] "
     ]
    },
    {
     "name": "stdout",
     "output_type": "stream",
     "text": [
      "Success\n",
      "158.101.146.40:59394  Fetching  https://goodinfo.tw/tw/BasicInfo.asp?STOCK_ID=2506  timeout:  20\n",
      "retrying:  1\n",
      "158.101.146.40:59394  Fetching  https://goodinfo.tw/tw/BasicInfo.asp?STOCK_ID=2506  timeout:  25\n",
      "retrying:  2\n",
      "158.101.146.40:59394  Fetching  https://goodinfo.tw/tw/BasicInfo.asp?STOCK_ID=2506  timeout:  30\n",
      "retrying:  3\n",
      "200.105.215.18:33630  Fetching  https://goodinfo.tw/tw/BasicInfo.asp?STOCK_ID=2506  timeout:  20\n",
      "retrying:  1\n",
      "200.105.215.18:33630  Fetching  https://goodinfo.tw/tw/BasicInfo.asp?STOCK_ID=2506  timeout:  25\n",
      "retrying:  2\n",
      "200.105.215.18:33630  Fetching  https://goodinfo.tw/tw/BasicInfo.asp?STOCK_ID=2506  timeout:  30\n",
      "retrying:  3\n",
      "158.101.146.40:59394  Fetching  https://goodinfo.tw/tw/BasicInfo.asp?STOCK_ID=2506  timeout:  20\n",
      "retrying:  1\n",
      "158.101.146.40:59394  Fetching  https://goodinfo.tw/tw/BasicInfo.asp?STOCK_ID=2506  timeout:  25\n",
      "retrying:  2\n",
      "158.101.146.40:59394  Fetching  https://goodinfo.tw/tw/BasicInfo.asp?STOCK_ID=2506  timeout:  30\n",
      "retrying:  3\n",
      "200.105.215.18:33630  Fetching  https://goodinfo.tw/tw/BasicInfo.asp?STOCK_ID=2506  timeout:  20\n"
     ]
    },
    {
     "name": "stderr",
     "output_type": "stream",
     "text": [
      " 37%|███▋      | 324/881 [5:48:07<20:40:05, 133.58s/it]"
     ]
    },
    {
     "name": "stdout",
     "output_type": "stream",
     "text": [
      "Success\n",
      "158.101.146.40:59394  Fetching  https://goodinfo.tw/tw/BasicInfo.asp?STOCK_ID=2509  timeout:  20\n",
      "retrying:  1\n",
      "158.101.146.40:59394  Fetching  https://goodinfo.tw/tw/BasicInfo.asp?STOCK_ID=2509  timeout:  25\n",
      "retrying:  2\n",
      "158.101.146.40:59394  Fetching  https://goodinfo.tw/tw/BasicInfo.asp?STOCK_ID=2509  timeout:  30\n",
      "retrying:  3\n",
      "155.0.181.254:43496  Fetching  https://goodinfo.tw/tw/BasicInfo.asp?STOCK_ID=2509  timeout:  20\n",
      "retrying:  1\n",
      "155.0.181.254:43496  Fetching  https://goodinfo.tw/tw/BasicInfo.asp?STOCK_ID=2509  timeout:  25\n",
      "retrying:  2\n",
      "155.0.181.254:43496  Fetching  https://goodinfo.tw/tw/BasicInfo.asp?STOCK_ID=2509  timeout:  30\n",
      "retrying:  3\n",
      "47.242.168.144:59394  Fetching  https://goodinfo.tw/tw/BasicInfo.asp?STOCK_ID=2509  timeout:  20\n"
     ]
    },
    {
     "name": "stderr",
     "output_type": "stream",
     "text": [
      " 37%|███▋      | 325/881 [5:50:53<22:07:52, 143.30s/it]"
     ]
    },
    {
     "name": "stdout",
     "output_type": "stream",
     "text": [
      "Success\n",
      "158.101.146.40:59394  Fetching  https://goodinfo.tw/tw/BasicInfo.asp?STOCK_ID=2511  timeout:  20\n",
      "retrying:  1\n",
      "158.101.146.40:59394  Fetching  https://goodinfo.tw/tw/BasicInfo.asp?STOCK_ID=2511  timeout:  25\n",
      "retrying:  2\n",
      "158.101.146.40:59394  Fetching  https://goodinfo.tw/tw/BasicInfo.asp?STOCK_ID=2511  timeout:  30\n",
      "retrying:  3\n",
      "158.101.146.40:59394  Fetching  https://goodinfo.tw/tw/BasicInfo.asp?STOCK_ID=2511  timeout:  20\n",
      "retrying:  1\n",
      "158.101.146.40:59394  Fetching  https://goodinfo.tw/tw/BasicInfo.asp?STOCK_ID=2511  timeout:  25\n",
      "retrying:  2\n",
      "158.101.146.40:59394  Fetching  https://goodinfo.tw/tw/BasicInfo.asp?STOCK_ID=2511  timeout:  30\n",
      "retrying:  3\n",
      "158.101.146.40:59394  Fetching  https://goodinfo.tw/tw/BasicInfo.asp?STOCK_ID=2511  timeout:  20\n",
      "retrying:  1\n",
      "158.101.146.40:59394  Fetching  https://goodinfo.tw/tw/BasicInfo.asp?STOCK_ID=2511  timeout:  25\n",
      "retrying:  2\n",
      "158.101.146.40:59394  Fetching  https://goodinfo.tw/tw/BasicInfo.asp?STOCK_ID=2511  timeout:  30\n",
      "retrying:  3\n",
      "158.101.146.40:59394  Fetching  https://goodinfo.tw/tw/BasicInfo.asp?STOCK_ID=2511  timeout:  20\n",
      "retrying:  1\n",
      "158.101.146.40:59394  Fetching  https://goodinfo.tw/tw/BasicInfo.asp?STOCK_ID=2511  timeout:  25\n",
      "retrying:  2\n",
      "158.101.146.40:59394  Fetching  https://goodinfo.tw/tw/BasicInfo.asp?STOCK_ID=2511  timeout:  30\n",
      "retrying:  3\n",
      "47.242.168.144:59394  Fetching  https://goodinfo.tw/tw/BasicInfo.asp?STOCK_ID=2511  timeout:  20\n"
     ]
    },
    {
     "name": "stderr",
     "output_type": "stream",
     "text": [
      " 37%|███▋      | 326/881 [5:56:01<29:43:45, 192.84s/it]"
     ]
    },
    {
     "name": "stdout",
     "output_type": "stream",
     "text": [
      "Success\n",
      "155.0.181.254:43496  Fetching  https://goodinfo.tw/tw/BasicInfo.asp?STOCK_ID=2514  timeout:  20\n",
      "retrying:  1\n",
      "155.0.181.254:43496  Fetching  https://goodinfo.tw/tw/BasicInfo.asp?STOCK_ID=2514  timeout:  25\n",
      "retrying:  2\n",
      "155.0.181.254:43496  Fetching  https://goodinfo.tw/tw/BasicInfo.asp?STOCK_ID=2514  timeout:  30\n"
     ]
    },
    {
     "name": "stderr",
     "output_type": "stream",
     "text": [
      " 37%|███▋      | 327/881 [5:56:55<23:15:53, 151.18s/it]"
     ]
    },
    {
     "name": "stdout",
     "output_type": "stream",
     "text": [
      "Success\n",
      "200.105.215.18:33630  Fetching  https://goodinfo.tw/tw/BasicInfo.asp?STOCK_ID=2515  timeout:  20\n"
     ]
    },
    {
     "name": "stderr",
     "output_type": "stream",
     "text": [
      " 37%|███▋      | 328/881 [5:57:04<16:39:34, 108.45s/it]"
     ]
    },
    {
     "name": "stdout",
     "output_type": "stream",
     "text": [
      "Success\n",
      "155.0.181.254:43496  Fetching  https://goodinfo.tw/tw/BasicInfo.asp?STOCK_ID=2516  timeout:  20\n",
      "retrying:  1\n",
      "155.0.181.254:43496  Fetching  https://goodinfo.tw/tw/BasicInfo.asp?STOCK_ID=2516  timeout:  25\n",
      "retrying:  2\n",
      "155.0.181.254:43496  Fetching  https://goodinfo.tw/tw/BasicInfo.asp?STOCK_ID=2516  timeout:  30\n",
      "retrying:  3\n",
      "155.0.181.254:43496  Fetching  https://goodinfo.tw/tw/BasicInfo.asp?STOCK_ID=2516  timeout:  20\n"
     ]
    },
    {
     "name": "stderr",
     "output_type": "stream",
     "text": [
      " 37%|███▋      | 329/881 [5:58:40<16:04:35, 104.85s/it]"
     ]
    },
    {
     "name": "stdout",
     "output_type": "stream",
     "text": [
      "Success\n",
      "200.105.215.18:33630  Fetching  https://goodinfo.tw/tw/BasicInfo.asp?STOCK_ID=2520  timeout:  20\n",
      "retrying:  1\n",
      "200.105.215.18:33630  Fetching  https://goodinfo.tw/tw/BasicInfo.asp?STOCK_ID=2520  timeout:  25\n"
     ]
    },
    {
     "name": "stderr",
     "output_type": "stream",
     "text": [
      " 37%|███▋      | 330/881 [5:59:08<12:31:10, 81.80s/it] "
     ]
    },
    {
     "name": "stdout",
     "output_type": "stream",
     "text": [
      "Success\n",
      "47.242.168.144:59394  Fetching  https://goodinfo.tw/tw/BasicInfo.asp?STOCK_ID=2524  timeout:  20\n"
     ]
    },
    {
     "name": "stderr",
     "output_type": "stream",
     "text": [
      " 38%|███▊      | 331/881 [5:59:09<8:47:00, 57.49s/it] "
     ]
    },
    {
     "name": "stdout",
     "output_type": "stream",
     "text": [
      "Success\n",
      "47.242.168.144:59394  Fetching  https://goodinfo.tw/tw/BasicInfo.asp?STOCK_ID=2527  timeout:  20\n"
     ]
    },
    {
     "name": "stderr",
     "output_type": "stream",
     "text": [
      " 38%|███▊      | 332/881 [5:59:09<6:09:31, 40.38s/it]"
     ]
    },
    {
     "name": "stdout",
     "output_type": "stream",
     "text": [
      "Success\n",
      "158.101.146.40:59394  Fetching  https://goodinfo.tw/tw/BasicInfo.asp?STOCK_ID=2528  timeout:  20\n",
      "retrying:  1\n",
      "158.101.146.40:59394  Fetching  https://goodinfo.tw/tw/BasicInfo.asp?STOCK_ID=2528  timeout:  25\n",
      "retrying:  2\n",
      "158.101.146.40:59394  Fetching  https://goodinfo.tw/tw/BasicInfo.asp?STOCK_ID=2528  timeout:  30\n",
      "retrying:  3\n",
      "158.101.146.40:59394  Fetching  https://goodinfo.tw/tw/BasicInfo.asp?STOCK_ID=2528  timeout:  20\n",
      "retrying:  1\n",
      "158.101.146.40:59394  Fetching  https://goodinfo.tw/tw/BasicInfo.asp?STOCK_ID=2528  timeout:  25\n",
      "retrying:  2\n",
      "158.101.146.40:59394  Fetching  https://goodinfo.tw/tw/BasicInfo.asp?STOCK_ID=2528  timeout:  30\n",
      "retrying:  3\n",
      "47.242.168.144:59394  Fetching  https://goodinfo.tw/tw/BasicInfo.asp?STOCK_ID=2528  timeout:  20\n"
     ]
    },
    {
     "name": "stderr",
     "output_type": "stream",
     "text": [
      " 38%|███▊      | 333/881 [6:01:41<11:12:59, 73.69s/it]"
     ]
    },
    {
     "name": "stdout",
     "output_type": "stream",
     "text": [
      "Success\n",
      "185.201.88.128:6969  Fetching  https://goodinfo.tw/tw/BasicInfo.asp?STOCK_ID=2530  timeout:  20\n"
     ]
    },
    {
     "name": "stderr",
     "output_type": "stream",
     "text": [
      " 38%|███▊      | 334/881 [6:01:54<8:25:39, 55.47s/it] "
     ]
    },
    {
     "name": "stdout",
     "output_type": "stream",
     "text": [
      "Success\n",
      "155.0.181.254:43496  Fetching  https://goodinfo.tw/tw/BasicInfo.asp?STOCK_ID=2534  timeout:  20\n",
      "retrying:  1\n",
      "155.0.181.254:43496  Fetching  https://goodinfo.tw/tw/BasicInfo.asp?STOCK_ID=2534  timeout:  25\n",
      "retrying:  2\n",
      "155.0.181.254:43496  Fetching  https://goodinfo.tw/tw/BasicInfo.asp?STOCK_ID=2534  timeout:  30\n",
      "retrying:  3\n",
      "185.201.88.128:6969  Fetching  https://goodinfo.tw/tw/BasicInfo.asp?STOCK_ID=2534  timeout:  20\n"
     ]
    },
    {
     "name": "stderr",
     "output_type": "stream",
     "text": [
      " 38%|███▊      | 335/881 [6:03:22<9:52:53, 65.15s/it]"
     ]
    },
    {
     "name": "stdout",
     "output_type": "stream",
     "text": [
      "Success\n",
      "185.201.88.128:6969  Fetching  https://goodinfo.tw/tw/BasicInfo.asp?STOCK_ID=2535  timeout:  20\n",
      "retrying:  1\n",
      "185.201.88.128:6969  Fetching  https://goodinfo.tw/tw/BasicInfo.asp?STOCK_ID=2535  timeout:  25\n",
      "retrying:  2\n",
      "185.201.88.128:6969  Fetching  https://goodinfo.tw/tw/BasicInfo.asp?STOCK_ID=2535  timeout:  30\n",
      "retrying:  3\n",
      "158.101.146.40:59394  Fetching  https://goodinfo.tw/tw/BasicInfo.asp?STOCK_ID=2535  timeout:  20\n",
      "retrying:  1\n",
      "158.101.146.40:59394  Fetching  https://goodinfo.tw/tw/BasicInfo.asp?STOCK_ID=2535  timeout:  25\n",
      "retrying:  2\n",
      "158.101.146.40:59394  Fetching  https://goodinfo.tw/tw/BasicInfo.asp?STOCK_ID=2535  timeout:  30\n",
      "retrying:  3\n",
      "158.101.146.40:59394  Fetching  https://goodinfo.tw/tw/BasicInfo.asp?STOCK_ID=2535  timeout:  20\n",
      "retrying:  1\n",
      "158.101.146.40:59394  Fetching  https://goodinfo.tw/tw/BasicInfo.asp?STOCK_ID=2535  timeout:  25\n",
      "retrying:  2\n",
      "158.101.146.40:59394  Fetching  https://goodinfo.tw/tw/BasicInfo.asp?STOCK_ID=2535  timeout:  30\n",
      "retrying:  3\n",
      "185.201.88.128:6969  Fetching  https://goodinfo.tw/tw/BasicInfo.asp?STOCK_ID=2535  timeout:  20\n",
      "retrying:  1\n",
      "185.201.88.128:6969  Fetching  https://goodinfo.tw/tw/BasicInfo.asp?STOCK_ID=2535  timeout:  25\n"
     ]
    },
    {
     "name": "stderr",
     "output_type": "stream",
     "text": [
      " 38%|███▊      | 336/881 [6:07:41<18:41:17, 123.44s/it]"
     ]
    },
    {
     "name": "stdout",
     "output_type": "stream",
     "text": [
      "Success\n",
      "200.105.215.18:33630  Fetching  https://goodinfo.tw/tw/BasicInfo.asp?STOCK_ID=2536  timeout:  20\n",
      "retrying:  1\n",
      "200.105.215.18:33630  Fetching  https://goodinfo.tw/tw/BasicInfo.asp?STOCK_ID=2536  timeout:  25\n",
      "retrying:  2\n",
      "200.105.215.18:33630  Fetching  https://goodinfo.tw/tw/BasicInfo.asp?STOCK_ID=2536  timeout:  30\n",
      "retrying:  3\n",
      "47.242.168.144:59394  Fetching  https://goodinfo.tw/tw/BasicInfo.asp?STOCK_ID=2536  timeout:  20\n",
      "retrying:  1\n",
      "47.242.168.144:59394  Fetching  https://goodinfo.tw/tw/BasicInfo.asp?STOCK_ID=2536  timeout:  25\n"
     ]
    },
    {
     "name": "stderr",
     "output_type": "stream",
     "text": [
      " 38%|███▊      | 337/881 [6:08:40<15:45:10, 104.25s/it]"
     ]
    },
    {
     "name": "stdout",
     "output_type": "stream",
     "text": [
      "Success\n",
      "155.0.181.254:43496  Fetching  https://goodinfo.tw/tw/BasicInfo.asp?STOCK_ID=2537  timeout:  20\n",
      "retrying:  1\n",
      "155.0.181.254:43496  Fetching  https://goodinfo.tw/tw/BasicInfo.asp?STOCK_ID=2537  timeout:  25\n",
      "retrying:  2\n",
      "155.0.181.254:43496  Fetching  https://goodinfo.tw/tw/BasicInfo.asp?STOCK_ID=2537  timeout:  30\n"
     ]
    },
    {
     "name": "stderr",
     "output_type": "stream",
     "text": [
      " 38%|███▊      | 338/881 [6:09:37<13:33:57, 89.94s/it] "
     ]
    },
    {
     "name": "stdout",
     "output_type": "stream",
     "text": [
      "Success\n",
      "155.0.181.254:43496  Fetching  https://goodinfo.tw/tw/BasicInfo.asp?STOCK_ID=2538  timeout:  20\n"
     ]
    },
    {
     "name": "stderr",
     "output_type": "stream",
     "text": [
      " 38%|███▊      | 339/881 [6:09:45<9:51:18, 65.46s/it] "
     ]
    },
    {
     "name": "stdout",
     "output_type": "stream",
     "text": [
      "Success\n",
      "185.201.88.128:6969  Fetching  https://goodinfo.tw/tw/BasicInfo.asp?STOCK_ID=2539  timeout:  20\n",
      "retrying:  1\n",
      "185.201.88.128:6969  Fetching  https://goodinfo.tw/tw/BasicInfo.asp?STOCK_ID=2539  timeout:  25\n",
      "retrying:  2\n",
      "185.201.88.128:6969  Fetching  https://goodinfo.tw/tw/BasicInfo.asp?STOCK_ID=2539  timeout:  30\n"
     ]
    },
    {
     "name": "stderr",
     "output_type": "stream",
     "text": [
      " 39%|███▊      | 340/881 [6:10:43<9:28:41, 63.07s/it]"
     ]
    },
    {
     "name": "stdout",
     "output_type": "stream",
     "text": [
      "Success\n",
      "47.242.168.144:59394  Fetching  https://goodinfo.tw/tw/BasicInfo.asp?STOCK_ID=2540  timeout:  20\n",
      "retrying:  1\n",
      "47.242.168.144:59394  Fetching  https://goodinfo.tw/tw/BasicInfo.asp?STOCK_ID=2540  timeout:  25\n"
     ]
    },
    {
     "name": "stderr",
     "output_type": "stream",
     "text": [
      " 39%|███▊      | 341/881 [6:10:45<6:44:11, 44.91s/it]"
     ]
    },
    {
     "name": "stdout",
     "output_type": "stream",
     "text": [
      "Success\n",
      "158.101.146.40:59394  Fetching  https://goodinfo.tw/tw/BasicInfo.asp?STOCK_ID=2542  timeout:  20\n",
      "retrying:  1\n",
      "158.101.146.40:59394  Fetching  https://goodinfo.tw/tw/BasicInfo.asp?STOCK_ID=2542  timeout:  25\n",
      "retrying:  2\n",
      "158.101.146.40:59394  Fetching  https://goodinfo.tw/tw/BasicInfo.asp?STOCK_ID=2542  timeout:  30\n",
      "retrying:  3\n",
      "155.0.181.254:43496  Fetching  https://goodinfo.tw/tw/BasicInfo.asp?STOCK_ID=2542  timeout:  20\n"
     ]
    },
    {
     "name": "stderr",
     "output_type": "stream",
     "text": [
      " 39%|███▉      | 342/881 [6:12:10<8:29:54, 56.76s/it]"
     ]
    },
    {
     "name": "stdout",
     "output_type": "stream",
     "text": [
      "Success\n",
      "158.101.146.40:59394  Fetching  https://goodinfo.tw/tw/BasicInfo.asp?STOCK_ID=2543  timeout:  20\n",
      "retrying:  1\n",
      "158.101.146.40:59394  Fetching  https://goodinfo.tw/tw/BasicInfo.asp?STOCK_ID=2543  timeout:  25\n",
      "retrying:  2\n",
      "158.101.146.40:59394  Fetching  https://goodinfo.tw/tw/BasicInfo.asp?STOCK_ID=2543  timeout:  30\n",
      "retrying:  3\n",
      "47.242.168.144:59394  Fetching  https://goodinfo.tw/tw/BasicInfo.asp?STOCK_ID=2543  timeout:  20\n",
      "retrying:  1\n",
      "47.242.168.144:59394  Fetching  https://goodinfo.tw/tw/BasicInfo.asp?STOCK_ID=2543  timeout:  25\n",
      "retrying:  2\n",
      "47.242.168.144:59394  Fetching  https://goodinfo.tw/tw/BasicInfo.asp?STOCK_ID=2543  timeout:  30\n",
      "retrying:  3\n",
      "47.242.168.144:59394  Fetching  https://goodinfo.tw/tw/BasicInfo.asp?STOCK_ID=2543  timeout:  20\n",
      "retrying:  1\n",
      "47.242.168.144:59394  Fetching  https://goodinfo.tw/tw/BasicInfo.asp?STOCK_ID=2543  timeout:  25\n",
      "retrying:  2\n",
      "47.242.168.144:59394  Fetching  https://goodinfo.tw/tw/BasicInfo.asp?STOCK_ID=2543  timeout:  30\n",
      "retrying:  3\n",
      "200.105.215.18:33630  Fetching  https://goodinfo.tw/tw/BasicInfo.asp?STOCK_ID=2543  timeout:  20\n",
      "retrying:  1\n",
      "200.105.215.18:33630  Fetching  https://goodinfo.tw/tw/BasicInfo.asp?STOCK_ID=2543  timeout:  25\n",
      "retrying:  2\n",
      "200.105.215.18:33630  Fetching  https://goodinfo.tw/tw/BasicInfo.asp?STOCK_ID=2543  timeout:  30\n",
      "retrying:  3\n",
      "155.0.181.254:43496  Fetching  https://goodinfo.tw/tw/BasicInfo.asp?STOCK_ID=2543  timeout:  20\n"
     ]
    },
    {
     "name": "stderr",
     "output_type": "stream",
     "text": [
      " 39%|███▉      | 343/881 [6:17:02<19:02:48, 127.45s/it]"
     ]
    },
    {
     "name": "stdout",
     "output_type": "stream",
     "text": [
      "Success\n",
      "155.0.181.254:43496  Fetching  https://goodinfo.tw/tw/BasicInfo.asp?STOCK_ID=2545  timeout:  20\n"
     ]
    },
    {
     "name": "stderr",
     "output_type": "stream",
     "text": [
      " 39%|███▉      | 344/881 [6:17:09<13:36:32, 91.23s/it] "
     ]
    },
    {
     "name": "stdout",
     "output_type": "stream",
     "text": [
      "Success\n",
      "185.201.88.128:6969  Fetching  https://goodinfo.tw/tw/BasicInfo.asp?STOCK_ID=2546  timeout:  20\n"
     ]
    },
    {
     "name": "stderr",
     "output_type": "stream",
     "text": [
      " 39%|███▉      | 345/881 [6:17:14<9:44:33, 65.43s/it] "
     ]
    },
    {
     "name": "stdout",
     "output_type": "stream",
     "text": [
      "Success\n",
      "185.201.88.128:6969  Fetching  https://goodinfo.tw/tw/BasicInfo.asp?STOCK_ID=2547  timeout:  20\n"
     ]
    },
    {
     "name": "stderr",
     "output_type": "stream",
     "text": [
      " 39%|███▉      | 346/881 [6:17:35<7:44:40, 52.11s/it]"
     ]
    },
    {
     "name": "stdout",
     "output_type": "stream",
     "text": [
      "Success\n",
      "158.101.146.40:59394  Fetching  https://goodinfo.tw/tw/BasicInfo.asp?STOCK_ID=2548  timeout:  20\n",
      "retrying:  1\n",
      "158.101.146.40:59394  Fetching  https://goodinfo.tw/tw/BasicInfo.asp?STOCK_ID=2548  timeout:  25\n",
      "retrying:  2\n",
      "158.101.146.40:59394  Fetching  https://goodinfo.tw/tw/BasicInfo.asp?STOCK_ID=2548  timeout:  30\n",
      "retrying:  3\n",
      "47.242.168.144:59394  Fetching  https://goodinfo.tw/tw/BasicInfo.asp?STOCK_ID=2548  timeout:  20\n",
      "retrying:  1\n",
      "47.242.168.144:59394  Fetching  https://goodinfo.tw/tw/BasicInfo.asp?STOCK_ID=2548  timeout:  25\n",
      "retrying:  2\n",
      "47.242.168.144:59394  Fetching  https://goodinfo.tw/tw/BasicInfo.asp?STOCK_ID=2548  timeout:  30\n",
      "retrying:  3\n",
      "185.201.88.128:6969  Fetching  https://goodinfo.tw/tw/BasicInfo.asp?STOCK_ID=2548  timeout:  20\n",
      "retrying:  1\n",
      "185.201.88.128:6969  Fetching  https://goodinfo.tw/tw/BasicInfo.asp?STOCK_ID=2548  timeout:  25\n",
      "retrying:  2\n",
      "185.201.88.128:6969  Fetching  https://goodinfo.tw/tw/BasicInfo.asp?STOCK_ID=2548  timeout:  30\n"
     ]
    },
    {
     "name": "stderr",
     "output_type": "stream",
     "text": [
      " 39%|███▉      | 347/881 [6:21:00<14:32:21, 98.02s/it]"
     ]
    },
    {
     "name": "stdout",
     "output_type": "stream",
     "text": [
      "Success\n",
      "47.242.168.144:59394  Fetching  https://goodinfo.tw/tw/BasicInfo.asp?STOCK_ID=2597  timeout:  20\n",
      "retrying:  1\n",
      "47.242.168.144:59394  Fetching  https://goodinfo.tw/tw/BasicInfo.asp?STOCK_ID=2597  timeout:  25\n",
      "retrying:  2\n",
      "47.242.168.144:59394  Fetching  https://goodinfo.tw/tw/BasicInfo.asp?STOCK_ID=2597  timeout:  30\n",
      "retrying:  3\n",
      "155.0.181.254:43496  Fetching  https://goodinfo.tw/tw/BasicInfo.asp?STOCK_ID=2597  timeout:  20\n",
      "retrying:  1\n",
      "155.0.181.254:43496  Fetching  https://goodinfo.tw/tw/BasicInfo.asp?STOCK_ID=2597  timeout:  25\n",
      "retrying:  2\n",
      "155.0.181.254:43496  Fetching  https://goodinfo.tw/tw/BasicInfo.asp?STOCK_ID=2597  timeout:  30\n",
      "retrying:  3\n",
      "155.0.181.254:43496  Fetching  https://goodinfo.tw/tw/BasicInfo.asp?STOCK_ID=2597  timeout:  20\n",
      "retrying:  1\n",
      "155.0.181.254:43496  Fetching  https://goodinfo.tw/tw/BasicInfo.asp?STOCK_ID=2597  timeout:  25\n"
     ]
    },
    {
     "name": "stderr",
     "output_type": "stream",
     "text": [
      " 40%|███▉      | 348/881 [6:24:00<18:09:17, 122.62s/it]"
     ]
    },
    {
     "name": "stdout",
     "output_type": "stream",
     "text": [
      "Success\n",
      "155.0.181.254:43496  Fetching  https://goodinfo.tw/tw/BasicInfo.asp?STOCK_ID=2601  timeout:  20\n",
      "retrying:  1\n",
      "155.0.181.254:43496  Fetching  https://goodinfo.tw/tw/BasicInfo.asp?STOCK_ID=2601  timeout:  25\n"
     ]
    },
    {
     "name": "stderr",
     "output_type": "stream",
     "text": [
      " 40%|███▉      | 349/881 [6:24:26<13:49:31, 93.56s/it] "
     ]
    },
    {
     "name": "stdout",
     "output_type": "stream",
     "text": [
      "Success\n",
      "200.105.215.18:33630  Fetching  https://goodinfo.tw/tw/BasicInfo.asp?STOCK_ID=2603  timeout:  20\n"
     ]
    },
    {
     "name": "stderr",
     "output_type": "stream",
     "text": [
      " 40%|███▉      | 350/881 [6:24:31<9:52:22, 66.94s/it] "
     ]
    },
    {
     "name": "stdout",
     "output_type": "stream",
     "text": [
      "Success\n",
      "200.105.215.18:33630  Fetching  https://goodinfo.tw/tw/BasicInfo.asp?STOCK_ID=2605  timeout:  20\n",
      "retrying:  1\n",
      "200.105.215.18:33630  Fetching  https://goodinfo.tw/tw/BasicInfo.asp?STOCK_ID=2605  timeout:  25\n"
     ]
    },
    {
     "name": "stderr",
     "output_type": "stream",
     "text": [
      " 40%|███▉      | 351/881 [6:24:59<8:07:04, 55.14s/it]"
     ]
    },
    {
     "name": "stdout",
     "output_type": "stream",
     "text": [
      "Success\n",
      "47.242.168.144:59394  Fetching  https://goodinfo.tw/tw/BasicInfo.asp?STOCK_ID=2606  timeout:  20\n",
      "retrying:  1\n",
      "47.242.168.144:59394  Fetching  https://goodinfo.tw/tw/BasicInfo.asp?STOCK_ID=2606  timeout:  25\n",
      "retrying:  2\n",
      "47.242.168.144:59394  Fetching  https://goodinfo.tw/tw/BasicInfo.asp?STOCK_ID=2606  timeout:  30\n",
      "retrying:  3\n",
      "155.0.181.254:43496  Fetching  https://goodinfo.tw/tw/BasicInfo.asp?STOCK_ID=2606  timeout:  20\n"
     ]
    },
    {
     "name": "stderr",
     "output_type": "stream",
     "text": [
      " 40%|███▉      | 352/881 [6:26:26<9:32:55, 64.98s/it]"
     ]
    },
    {
     "name": "stdout",
     "output_type": "stream",
     "text": [
      "Success\n",
      "185.201.88.128:6969  Fetching  https://goodinfo.tw/tw/BasicInfo.asp?STOCK_ID=2607  timeout:  20\n",
      "retrying:  1\n",
      "185.201.88.128:6969  Fetching  https://goodinfo.tw/tw/BasicInfo.asp?STOCK_ID=2607  timeout:  25\n"
     ]
    },
    {
     "name": "stderr",
     "output_type": "stream",
     "text": [
      " 40%|████      | 353/881 [6:26:54<7:52:20, 53.68s/it]"
     ]
    },
    {
     "name": "stdout",
     "output_type": "stream",
     "text": [
      "Success\n",
      "47.242.168.144:59394  Fetching  https://goodinfo.tw/tw/BasicInfo.asp?STOCK_ID=2608  timeout:  20\n",
      "retrying:  1\n",
      "47.242.168.144:59394  Fetching  https://goodinfo.tw/tw/BasicInfo.asp?STOCK_ID=2608  timeout:  25\n",
      "retrying:  2\n",
      "47.242.168.144:59394  Fetching  https://goodinfo.tw/tw/BasicInfo.asp?STOCK_ID=2608  timeout:  30\n",
      "retrying:  3\n",
      "155.0.181.254:43496  Fetching  https://goodinfo.tw/tw/BasicInfo.asp?STOCK_ID=2608  timeout:  20\n",
      "retrying:  1\n",
      "155.0.181.254:43496  Fetching  https://goodinfo.tw/tw/BasicInfo.asp?STOCK_ID=2608  timeout:  25\n",
      "retrying:  2\n",
      "155.0.181.254:43496  Fetching  https://goodinfo.tw/tw/BasicInfo.asp?STOCK_ID=2608  timeout:  30\n",
      "retrying:  3\n",
      "185.201.88.128:6969  Fetching  https://goodinfo.tw/tw/BasicInfo.asp?STOCK_ID=2608  timeout:  20\n",
      "retrying:  1\n",
      "185.201.88.128:6969  Fetching  https://goodinfo.tw/tw/BasicInfo.asp?STOCK_ID=2608  timeout:  25\n"
     ]
    },
    {
     "name": "stderr",
     "output_type": "stream",
     "text": [
      " 40%|████      | 354/881 [6:29:51<13:17:29, 90.80s/it]"
     ]
    },
    {
     "name": "stdout",
     "output_type": "stream",
     "text": [
      "Success\n",
      "47.242.168.144:59394  Fetching  https://goodinfo.tw/tw/BasicInfo.asp?STOCK_ID=2609  timeout:  20\n",
      "retrying:  1\n",
      "47.242.168.144:59394  Fetching  https://goodinfo.tw/tw/BasicInfo.asp?STOCK_ID=2609  timeout:  25\n",
      "retrying:  2\n",
      "47.242.168.144:59394  Fetching  https://goodinfo.tw/tw/BasicInfo.asp?STOCK_ID=2609  timeout:  30\n",
      "retrying:  3\n",
      "185.201.88.128:6969  Fetching  https://goodinfo.tw/tw/BasicInfo.asp?STOCK_ID=2609  timeout:  20\n",
      "retrying:  1\n",
      "185.201.88.128:6969  Fetching  https://goodinfo.tw/tw/BasicInfo.asp?STOCK_ID=2609  timeout:  25\n",
      "retrying:  2\n",
      "185.201.88.128:6969  Fetching  https://goodinfo.tw/tw/BasicInfo.asp?STOCK_ID=2609  timeout:  30\n",
      "retrying:  3\n",
      "155.0.181.254:43496  Fetching  https://goodinfo.tw/tw/BasicInfo.asp?STOCK_ID=2609  timeout:  20\n"
     ]
    },
    {
     "name": "stderr",
     "output_type": "stream",
     "text": [
      " 40%|████      | 355/881 [6:32:50<17:06:20, 117.07s/it]"
     ]
    },
    {
     "name": "stdout",
     "output_type": "stream",
     "text": [
      "Success\n",
      "158.101.146.40:59394  Fetching  https://goodinfo.tw/tw/BasicInfo.asp?STOCK_ID=2610  timeout:  20\n",
      "retrying:  1\n",
      "158.101.146.40:59394  Fetching  https://goodinfo.tw/tw/BasicInfo.asp?STOCK_ID=2610  timeout:  25\n",
      "retrying:  2\n",
      "158.101.146.40:59394  Fetching  https://goodinfo.tw/tw/BasicInfo.asp?STOCK_ID=2610  timeout:  30\n",
      "retrying:  3\n",
      "155.0.181.254:43496  Fetching  https://goodinfo.tw/tw/BasicInfo.asp?STOCK_ID=2610  timeout:  20\n",
      "retrying:  1\n",
      "155.0.181.254:43496  Fetching  https://goodinfo.tw/tw/BasicInfo.asp?STOCK_ID=2610  timeout:  25\n",
      "retrying:  2\n",
      "155.0.181.254:43496  Fetching  https://goodinfo.tw/tw/BasicInfo.asp?STOCK_ID=2610  timeout:  30\n",
      "retrying:  3\n",
      "185.201.88.128:6969  Fetching  https://goodinfo.tw/tw/BasicInfo.asp?STOCK_ID=2610  timeout:  20\n",
      "retrying:  1\n",
      "185.201.88.128:6969  Fetching  https://goodinfo.tw/tw/BasicInfo.asp?STOCK_ID=2610  timeout:  25\n",
      "retrying:  2\n",
      "185.201.88.128:6969  Fetching  https://goodinfo.tw/tw/BasicInfo.asp?STOCK_ID=2610  timeout:  30\n",
      "retrying:  3\n",
      "158.101.146.40:59394  Fetching  https://goodinfo.tw/tw/BasicInfo.asp?STOCK_ID=2610  timeout:  20\n",
      "retrying:  1\n",
      "158.101.146.40:59394  Fetching  https://goodinfo.tw/tw/BasicInfo.asp?STOCK_ID=2610  timeout:  25\n",
      "retrying:  2\n",
      "158.101.146.40:59394  Fetching  https://goodinfo.tw/tw/BasicInfo.asp?STOCK_ID=2610  timeout:  30\n",
      "retrying:  3\n",
      "155.0.181.254:43496  Fetching  https://goodinfo.tw/tw/BasicInfo.asp?STOCK_ID=2610  timeout:  20\n",
      "retrying:  1\n",
      "155.0.181.254:43496  Fetching  https://goodinfo.tw/tw/BasicInfo.asp?STOCK_ID=2610  timeout:  25\n"
     ]
    },
    {
     "name": "stderr",
     "output_type": "stream",
     "text": [
      " 40%|████      | 356/881 [6:38:20<26:23:39, 180.99s/it]"
     ]
    },
    {
     "name": "stdout",
     "output_type": "stream",
     "text": [
      "Success\n",
      "185.201.88.128:6969  Fetching  https://goodinfo.tw/tw/BasicInfo.asp?STOCK_ID=2611  timeout:  20\n"
     ]
    },
    {
     "name": "stderr",
     "output_type": "stream",
     "text": [
      " 41%|████      | 357/881 [6:38:34<19:03:56, 130.98s/it]"
     ]
    },
    {
     "name": "stdout",
     "output_type": "stream",
     "text": [
      "Success\n",
      "185.201.88.128:6969  Fetching  https://goodinfo.tw/tw/BasicInfo.asp?STOCK_ID=2612  timeout:  20\n",
      "retrying:  1\n",
      "185.201.88.128:6969  Fetching  https://goodinfo.tw/tw/BasicInfo.asp?STOCK_ID=2612  timeout:  25\n",
      "retrying:  2\n",
      "185.201.88.128:6969  Fetching  https://goodinfo.tw/tw/BasicInfo.asp?STOCK_ID=2612  timeout:  30\n",
      "retrying:  3\n",
      "200.105.215.18:33630  Fetching  https://goodinfo.tw/tw/BasicInfo.asp?STOCK_ID=2612  timeout:  20\n"
     ]
    },
    {
     "name": "stderr",
     "output_type": "stream",
     "text": [
      " 41%|████      | 358/881 [6:39:56<16:54:57, 116.44s/it]"
     ]
    },
    {
     "name": "stdout",
     "output_type": "stream",
     "text": [
      "Success\n",
      "155.0.181.254:43496  Fetching  https://goodinfo.tw/tw/BasicInfo.asp?STOCK_ID=2613  timeout:  20\n",
      "retrying:  1\n",
      "155.0.181.254:43496  Fetching  https://goodinfo.tw/tw/BasicInfo.asp?STOCK_ID=2613  timeout:  25\n",
      "retrying:  2\n",
      "155.0.181.254:43496  Fetching  https://goodinfo.tw/tw/BasicInfo.asp?STOCK_ID=2613  timeout:  30\n",
      "retrying:  3\n",
      "155.0.181.254:43496  Fetching  https://goodinfo.tw/tw/BasicInfo.asp?STOCK_ID=2613  timeout:  20\n"
     ]
    },
    {
     "name": "stderr",
     "output_type": "stream",
     "text": [
      " 41%|████      | 359/881 [6:41:03<14:43:27, 101.55s/it]"
     ]
    },
    {
     "name": "stdout",
     "output_type": "stream",
     "text": [
      "Success\n",
      "47.242.168.144:59394  Fetching  https://goodinfo.tw/tw/BasicInfo.asp?STOCK_ID=2614  timeout:  20\n",
      "retrying:  1\n",
      "47.242.168.144:59394  Fetching  https://goodinfo.tw/tw/BasicInfo.asp?STOCK_ID=2614  timeout:  25\n",
      "retrying:  2\n",
      "47.242.168.144:59394  Fetching  https://goodinfo.tw/tw/BasicInfo.asp?STOCK_ID=2614  timeout:  30\n",
      "retrying:  3\n",
      "155.0.181.254:43496  Fetching  https://goodinfo.tw/tw/BasicInfo.asp?STOCK_ID=2614  timeout:  20\n"
     ]
    },
    {
     "name": "stderr",
     "output_type": "stream",
     "text": [
      " 41%|████      | 360/881 [6:42:24<13:47:43, 95.32s/it] "
     ]
    },
    {
     "name": "stdout",
     "output_type": "stream",
     "text": [
      "Success\n",
      "185.201.88.128:6969  Fetching  https://goodinfo.tw/tw/BasicInfo.asp?STOCK_ID=2615  timeout:  20\n",
      "retrying:  1\n",
      "185.201.88.128:6969  Fetching  https://goodinfo.tw/tw/BasicInfo.asp?STOCK_ID=2615  timeout:  25\n",
      "retrying:  2\n",
      "185.201.88.128:6969  Fetching  https://goodinfo.tw/tw/BasicInfo.asp?STOCK_ID=2615  timeout:  30\n",
      "retrying:  3\n",
      "185.201.88.128:6969  Fetching  https://goodinfo.tw/tw/BasicInfo.asp?STOCK_ID=2615  timeout:  20\n",
      "retrying:  1\n",
      "185.201.88.128:6969  Fetching  https://goodinfo.tw/tw/BasicInfo.asp?STOCK_ID=2615  timeout:  25\n",
      "retrying:  2\n",
      "185.201.88.128:6969  Fetching  https://goodinfo.tw/tw/BasicInfo.asp?STOCK_ID=2615  timeout:  30\n",
      "retrying:  3\n",
      "185.201.88.128:6969  Fetching  https://goodinfo.tw/tw/BasicInfo.asp?STOCK_ID=2615  timeout:  20\n",
      "retrying:  1\n",
      "185.201.88.128:6969  Fetching  https://goodinfo.tw/tw/BasicInfo.asp?STOCK_ID=2615  timeout:  25\n"
     ]
    },
    {
     "name": "stderr",
     "output_type": "stream",
     "text": [
      " 41%|████      | 361/881 [6:45:28<17:35:39, 121.81s/it]"
     ]
    },
    {
     "name": "stdout",
     "output_type": "stream",
     "text": [
      "Success\n",
      "47.242.168.144:59394  Fetching  https://goodinfo.tw/tw/BasicInfo.asp?STOCK_ID=2616  timeout:  20\n",
      "retrying:  1\n",
      "47.242.168.144:59394  Fetching  https://goodinfo.tw/tw/BasicInfo.asp?STOCK_ID=2616  timeout:  25\n",
      "retrying:  2\n",
      "47.242.168.144:59394  Fetching  https://goodinfo.tw/tw/BasicInfo.asp?STOCK_ID=2616  timeout:  30\n",
      "retrying:  3\n",
      "47.242.168.144:59394  Fetching  https://goodinfo.tw/tw/BasicInfo.asp?STOCK_ID=2616  timeout:  20\n",
      "retrying:  1\n",
      "47.242.168.144:59394  Fetching  https://goodinfo.tw/tw/BasicInfo.asp?STOCK_ID=2616  timeout:  25\n",
      "retrying:  2\n",
      "47.242.168.144:59394  Fetching  https://goodinfo.tw/tw/BasicInfo.asp?STOCK_ID=2616  timeout:  30\n",
      "retrying:  3\n",
      "158.101.146.40:59394  Fetching  https://goodinfo.tw/tw/BasicInfo.asp?STOCK_ID=2616  timeout:  20\n",
      "retrying:  1\n",
      "158.101.146.40:59394  Fetching  https://goodinfo.tw/tw/BasicInfo.asp?STOCK_ID=2616  timeout:  25\n",
      "retrying:  2\n",
      "158.101.146.40:59394  Fetching  https://goodinfo.tw/tw/BasicInfo.asp?STOCK_ID=2616  timeout:  30\n",
      "retrying:  3\n",
      "155.0.181.254:43496  Fetching  https://goodinfo.tw/tw/BasicInfo.asp?STOCK_ID=2616  timeout:  20\n",
      "retrying:  1\n",
      "155.0.181.254:43496  Fetching  https://goodinfo.tw/tw/BasicInfo.asp?STOCK_ID=2616  timeout:  25\n",
      "retrying:  2\n",
      "155.0.181.254:43496  Fetching  https://goodinfo.tw/tw/BasicInfo.asp?STOCK_ID=2616  timeout:  30\n"
     ]
    },
    {
     "name": "stderr",
     "output_type": "stream",
     "text": [
      " 41%|████      | 362/881 [6:50:06<24:20:14, 168.81s/it]"
     ]
    },
    {
     "name": "stdout",
     "output_type": "stream",
     "text": [
      "Success\n",
      "47.242.168.144:59394  Fetching  https://goodinfo.tw/tw/BasicInfo.asp?STOCK_ID=2617  timeout:  20\n",
      "retrying:  1\n",
      "47.242.168.144:59394  Fetching  https://goodinfo.tw/tw/BasicInfo.asp?STOCK_ID=2617  timeout:  25\n",
      "retrying:  2\n",
      "47.242.168.144:59394  Fetching  https://goodinfo.tw/tw/BasicInfo.asp?STOCK_ID=2617  timeout:  30\n",
      "retrying:  3\n",
      "158.101.146.40:59394  Fetching  https://goodinfo.tw/tw/BasicInfo.asp?STOCK_ID=2617  timeout:  20\n",
      "retrying:  1\n",
      "158.101.146.40:59394  Fetching  https://goodinfo.tw/tw/BasicInfo.asp?STOCK_ID=2617  timeout:  25\n",
      "retrying:  2\n",
      "158.101.146.40:59394  Fetching  https://goodinfo.tw/tw/BasicInfo.asp?STOCK_ID=2617  timeout:  30\n",
      "retrying:  3\n",
      "47.242.168.144:59394  Fetching  https://goodinfo.tw/tw/BasicInfo.asp?STOCK_ID=2617  timeout:  20\n",
      "retrying:  1\n",
      "47.242.168.144:59394  Fetching  https://goodinfo.tw/tw/BasicInfo.asp?STOCK_ID=2617  timeout:  25\n",
      "retrying:  2\n",
      "47.242.168.144:59394  Fetching  https://goodinfo.tw/tw/BasicInfo.asp?STOCK_ID=2617  timeout:  30\n",
      "retrying:  3\n",
      "185.201.88.128:6969  Fetching  https://goodinfo.tw/tw/BasicInfo.asp?STOCK_ID=2617  timeout:  20\n",
      "retrying:  1\n",
      "185.201.88.128:6969  Fetching  https://goodinfo.tw/tw/BasicInfo.asp?STOCK_ID=2617  timeout:  25\n",
      "retrying:  2\n",
      "185.201.88.128:6969  Fetching  https://goodinfo.tw/tw/BasicInfo.asp?STOCK_ID=2617  timeout:  30\n",
      "retrying:  3\n",
      "185.201.88.128:6969  Fetching  https://goodinfo.tw/tw/BasicInfo.asp?STOCK_ID=2617  timeout:  20\n",
      "retrying:  1\n",
      "185.201.88.128:6969  Fetching  https://goodinfo.tw/tw/BasicInfo.asp?STOCK_ID=2617  timeout:  25\n",
      "retrying:  2\n",
      "185.201.88.128:6969  Fetching  https://goodinfo.tw/tw/BasicInfo.asp?STOCK_ID=2617  timeout:  30\n"
     ]
    },
    {
     "name": "stderr",
     "output_type": "stream",
     "text": [
      " 41%|████      | 363/881 [6:56:21<33:12:13, 230.76s/it]"
     ]
    },
    {
     "name": "stdout",
     "output_type": "stream",
     "text": [
      "retrying:  3\n",
      "47.242.168.144:59394  Fetching  https://goodinfo.tw/tw/BasicInfo.asp?STOCK_ID=2618  timeout:  20\n",
      "retrying:  1\n",
      "47.242.168.144:59394  Fetching  https://goodinfo.tw/tw/BasicInfo.asp?STOCK_ID=2618  timeout:  25\n",
      "retrying:  2\n",
      "47.242.168.144:59394  Fetching  https://goodinfo.tw/tw/BasicInfo.asp?STOCK_ID=2618  timeout:  30\n",
      "retrying:  3\n",
      "47.242.168.144:59394  Fetching  https://goodinfo.tw/tw/BasicInfo.asp?STOCK_ID=2618  timeout:  20\n",
      "retrying:  1\n",
      "47.242.168.144:59394  Fetching  https://goodinfo.tw/tw/BasicInfo.asp?STOCK_ID=2618  timeout:  25\n",
      "retrying:  2\n",
      "47.242.168.144:59394  Fetching  https://goodinfo.tw/tw/BasicInfo.asp?STOCK_ID=2618  timeout:  30\n",
      "retrying:  3\n",
      "200.105.215.18:33630  Fetching  https://goodinfo.tw/tw/BasicInfo.asp?STOCK_ID=2618  timeout:  20\n"
     ]
    },
    {
     "name": "stderr",
     "output_type": "stream",
     "text": [
      " 41%|████▏     | 364/881 [6:58:43<29:16:37, 203.86s/it]"
     ]
    },
    {
     "name": "stdout",
     "output_type": "stream",
     "text": [
      "Success\n",
      "158.101.146.40:59394  Fetching  https://goodinfo.tw/tw/BasicInfo.asp?STOCK_ID=2630  timeout:  20\n",
      "retrying:  1\n",
      "158.101.146.40:59394  Fetching  https://goodinfo.tw/tw/BasicInfo.asp?STOCK_ID=2630  timeout:  25\n",
      "retrying:  2\n",
      "158.101.146.40:59394  Fetching  https://goodinfo.tw/tw/BasicInfo.asp?STOCK_ID=2630  timeout:  30\n",
      "retrying:  3\n",
      "200.105.215.18:33630  Fetching  https://goodinfo.tw/tw/BasicInfo.asp?STOCK_ID=2630  timeout:  20\n"
     ]
    },
    {
     "name": "stderr",
     "output_type": "stream",
     "text": [
      " 41%|████▏     | 365/881 [7:00:04<23:56:24, 167.02s/it]"
     ]
    },
    {
     "name": "stdout",
     "output_type": "stream",
     "text": [
      "Success\n",
      "155.0.181.254:43496  Fetching  https://goodinfo.tw/tw/BasicInfo.asp?STOCK_ID=2633  timeout:  20\n",
      "retrying:  1\n",
      "155.0.181.254:43496  Fetching  https://goodinfo.tw/tw/BasicInfo.asp?STOCK_ID=2633  timeout:  25\n"
     ]
    },
    {
     "name": "stderr",
     "output_type": "stream",
     "text": [
      " 42%|████▏     | 366/881 [7:00:31<17:53:35, 125.08s/it]"
     ]
    },
    {
     "name": "stdout",
     "output_type": "stream",
     "text": [
      "Success\n",
      "200.105.215.18:33630  Fetching  https://goodinfo.tw/tw/BasicInfo.asp?STOCK_ID=2634  timeout:  20\n",
      "retrying:  1\n",
      "200.105.215.18:33630  Fetching  https://goodinfo.tw/tw/BasicInfo.asp?STOCK_ID=2634  timeout:  25\n"
     ]
    },
    {
     "name": "stderr",
     "output_type": "stream",
     "text": [
      " 42%|████▏     | 367/881 [7:00:56<13:35:34, 95.20s/it] "
     ]
    },
    {
     "name": "stdout",
     "output_type": "stream",
     "text": [
      "Success\n",
      "47.242.168.144:59394  Fetching  https://goodinfo.tw/tw/BasicInfo.asp?STOCK_ID=2636  timeout:  20\n",
      "retrying:  1\n",
      "47.242.168.144:59394  Fetching  https://goodinfo.tw/tw/BasicInfo.asp?STOCK_ID=2636  timeout:  25\n",
      "retrying:  2\n",
      "47.242.168.144:59394  Fetching  https://goodinfo.tw/tw/BasicInfo.asp?STOCK_ID=2636  timeout:  30\n",
      "retrying:  3\n",
      "185.201.88.128:6969  Fetching  https://goodinfo.tw/tw/BasicInfo.asp?STOCK_ID=2636  timeout:  20\n",
      "retrying:  1\n",
      "185.201.88.128:6969  Fetching  https://goodinfo.tw/tw/BasicInfo.asp?STOCK_ID=2636  timeout:  25\n",
      "retrying:  2\n",
      "185.201.88.128:6969  Fetching  https://goodinfo.tw/tw/BasicInfo.asp?STOCK_ID=2636  timeout:  30\n"
     ]
    },
    {
     "name": "stderr",
     "output_type": "stream",
     "text": [
      " 42%|████▏     | 368/881 [7:03:02<14:51:51, 104.31s/it]"
     ]
    },
    {
     "name": "stdout",
     "output_type": "stream",
     "text": [
      "Success\n",
      "47.242.168.144:59394  Fetching  https://goodinfo.tw/tw/BasicInfo.asp?STOCK_ID=2637  timeout:  20\n",
      "retrying:  1\n",
      "47.242.168.144:59394  Fetching  https://goodinfo.tw/tw/BasicInfo.asp?STOCK_ID=2637  timeout:  25\n",
      "retrying:  2\n",
      "47.242.168.144:59394  Fetching  https://goodinfo.tw/tw/BasicInfo.asp?STOCK_ID=2637  timeout:  30\n",
      "retrying:  3\n",
      "155.0.181.254:43496  Fetching  https://goodinfo.tw/tw/BasicInfo.asp?STOCK_ID=2637  timeout:  20\n",
      "retrying:  1\n",
      "155.0.181.254:43496  Fetching  https://goodinfo.tw/tw/BasicInfo.asp?STOCK_ID=2637  timeout:  25\n",
      "retrying:  2\n",
      "155.0.181.254:43496  Fetching  https://goodinfo.tw/tw/BasicInfo.asp?STOCK_ID=2637  timeout:  30\n",
      "retrying:  3\n",
      "155.0.181.254:43496  Fetching  https://goodinfo.tw/tw/BasicInfo.asp?STOCK_ID=2637  timeout:  20\n",
      "retrying:  1\n",
      "155.0.181.254:43496  Fetching  https://goodinfo.tw/tw/BasicInfo.asp?STOCK_ID=2637  timeout:  25\n",
      "retrying:  2\n",
      "155.0.181.254:43496  Fetching  https://goodinfo.tw/tw/BasicInfo.asp?STOCK_ID=2637  timeout:  30\n",
      "retrying:  3\n",
      "158.101.146.40:59394  Fetching  https://goodinfo.tw/tw/BasicInfo.asp?STOCK_ID=2637  timeout:  20\n",
      "retrying:  1\n",
      "158.101.146.40:59394  Fetching  https://goodinfo.tw/tw/BasicInfo.asp?STOCK_ID=2637  timeout:  25\n",
      "retrying:  2\n",
      "158.101.146.40:59394  Fetching  https://goodinfo.tw/tw/BasicInfo.asp?STOCK_ID=2637  timeout:  30\n",
      "retrying:  3\n",
      "47.242.168.144:59394  Fetching  https://goodinfo.tw/tw/BasicInfo.asp?STOCK_ID=2637  timeout:  20\n",
      "retrying:  1\n",
      "47.242.168.144:59394  Fetching  https://goodinfo.tw/tw/BasicInfo.asp?STOCK_ID=2637  timeout:  25\n",
      "retrying:  2\n",
      "47.242.168.144:59394  Fetching  https://goodinfo.tw/tw/BasicInfo.asp?STOCK_ID=2637  timeout:  30\n"
     ]
    },
    {
     "name": "stderr",
     "output_type": "stream",
     "text": [
      " 42%|████▏     | 369/881 [7:09:17<26:23:50, 185.61s/it]"
     ]
    },
    {
     "name": "stdout",
     "output_type": "stream",
     "text": [
      "retrying:  3\n",
      "200.105.215.18:33630  Fetching  https://goodinfo.tw/tw/BasicInfo.asp?STOCK_ID=2642  timeout:  20\n",
      "retrying:  1\n",
      "200.105.215.18:33630  Fetching  https://goodinfo.tw/tw/BasicInfo.asp?STOCK_ID=2642  timeout:  25\n"
     ]
    },
    {
     "name": "stderr",
     "output_type": "stream",
     "text": [
      " 42%|████▏     | 370/881 [7:09:56<20:06:12, 141.63s/it]"
     ]
    },
    {
     "name": "stdout",
     "output_type": "stream",
     "text": [
      "Success\n",
      "155.0.181.254:43496  Fetching  https://goodinfo.tw/tw/BasicInfo.asp?STOCK_ID=2701  timeout:  20\n",
      "retrying:  1\n",
      "155.0.181.254:43496  Fetching  https://goodinfo.tw/tw/BasicInfo.asp?STOCK_ID=2701  timeout:  25\n"
     ]
    },
    {
     "name": "stderr",
     "output_type": "stream",
     "text": [
      " 42%|████▏     | 371/881 [7:10:25<15:15:17, 107.68s/it]"
     ]
    },
    {
     "name": "stdout",
     "output_type": "stream",
     "text": [
      "Success\n",
      "200.105.215.18:33630  Fetching  https://goodinfo.tw/tw/BasicInfo.asp?STOCK_ID=2702  timeout:  20\n"
     ]
    },
    {
     "name": "stderr",
     "output_type": "stream",
     "text": [
      " 42%|████▏     | 372/881 [7:10:32<10:59:07, 77.70s/it] "
     ]
    },
    {
     "name": "stdout",
     "output_type": "stream",
     "text": [
      "Success\n",
      "200.105.215.18:33630  Fetching  https://goodinfo.tw/tw/BasicInfo.asp?STOCK_ID=2704  timeout:  20\n"
     ]
    },
    {
     "name": "stderr",
     "output_type": "stream",
     "text": [
      " 42%|████▏     | 373/881 [7:10:51<8:26:42, 59.85s/it] "
     ]
    },
    {
     "name": "stdout",
     "output_type": "stream",
     "text": [
      "Success\n",
      "47.242.168.144:59394  Fetching  https://goodinfo.tw/tw/BasicInfo.asp?STOCK_ID=2705  timeout:  20\n",
      "retrying:  1\n",
      "47.242.168.144:59394  Fetching  https://goodinfo.tw/tw/BasicInfo.asp?STOCK_ID=2705  timeout:  25\n",
      "retrying:  2\n",
      "47.242.168.144:59394  Fetching  https://goodinfo.tw/tw/BasicInfo.asp?STOCK_ID=2705  timeout:  30\n",
      "retrying:  3\n",
      "158.101.146.40:59394  Fetching  https://goodinfo.tw/tw/BasicInfo.asp?STOCK_ID=2705  timeout:  20\n",
      "retrying:  1\n",
      "158.101.146.40:59394  Fetching  https://goodinfo.tw/tw/BasicInfo.asp?STOCK_ID=2705  timeout:  25\n",
      "retrying:  2\n",
      "158.101.146.40:59394  Fetching  https://goodinfo.tw/tw/BasicInfo.asp?STOCK_ID=2705  timeout:  30\n",
      "retrying:  3\n",
      "185.201.88.128:6969  Fetching  https://goodinfo.tw/tw/BasicInfo.asp?STOCK_ID=2705  timeout:  20\n",
      "retrying:  1\n",
      "185.201.88.128:6969  Fetching  https://goodinfo.tw/tw/BasicInfo.asp?STOCK_ID=2705  timeout:  25\n"
     ]
    },
    {
     "name": "stderr",
     "output_type": "stream",
     "text": [
      " 42%|████▏     | 374/881 [7:13:47<13:19:56, 94.67s/it]"
     ]
    },
    {
     "name": "stdout",
     "output_type": "stream",
     "text": [
      "Success\n",
      "155.0.181.254:43496  Fetching  https://goodinfo.tw/tw/BasicInfo.asp?STOCK_ID=2706  timeout:  20\n",
      "retrying:  1\n",
      "155.0.181.254:43496  Fetching  https://goodinfo.tw/tw/BasicInfo.asp?STOCK_ID=2706  timeout:  25\n"
     ]
    },
    {
     "name": "stderr",
     "output_type": "stream",
     "text": [
      " 43%|████▎     | 375/881 [7:14:15<10:31:46, 74.91s/it]"
     ]
    },
    {
     "name": "stdout",
     "output_type": "stream",
     "text": [
      "Success\n",
      "185.201.88.128:6969  Fetching  https://goodinfo.tw/tw/BasicInfo.asp?STOCK_ID=2707  timeout:  20\n"
     ]
    },
    {
     "name": "stderr",
     "output_type": "stream",
     "text": [
      " 43%|████▎     | 376/881 [7:14:37<8:14:55, 58.80s/it] "
     ]
    },
    {
     "name": "stdout",
     "output_type": "stream",
     "text": [
      "Success\n",
      "185.201.88.128:6969  Fetching  https://goodinfo.tw/tw/BasicInfo.asp?STOCK_ID=2712  timeout:  20\n",
      "retrying:  1\n",
      "185.201.88.128:6969  Fetching  https://goodinfo.tw/tw/BasicInfo.asp?STOCK_ID=2712  timeout:  25\n",
      "retrying:  2\n",
      "185.201.88.128:6969  Fetching  https://goodinfo.tw/tw/BasicInfo.asp?STOCK_ID=2712  timeout:  30\n",
      "retrying:  3\n",
      "155.0.181.254:43496  Fetching  https://goodinfo.tw/tw/BasicInfo.asp?STOCK_ID=2712  timeout:  20\n"
     ]
    },
    {
     "name": "stderr",
     "output_type": "stream",
     "text": [
      " 43%|████▎     | 377/881 [7:16:05<9:27:30, 67.56s/it]"
     ]
    },
    {
     "name": "stdout",
     "output_type": "stream",
     "text": [
      "Success\n",
      "185.201.88.128:6969  Fetching  https://goodinfo.tw/tw/BasicInfo.asp?STOCK_ID=2722  timeout:  20\n"
     ]
    },
    {
     "name": "stderr",
     "output_type": "stream",
     "text": [
      " 43%|████▎     | 378/881 [7:16:15<7:02:17, 50.37s/it]"
     ]
    },
    {
     "name": "stdout",
     "output_type": "stream",
     "text": [
      "Success\n",
      "200.105.215.18:33630  Fetching  https://goodinfo.tw/tw/BasicInfo.asp?STOCK_ID=2723  timeout:  20\n",
      "retrying:  1\n",
      "200.105.215.18:33630  Fetching  https://goodinfo.tw/tw/BasicInfo.asp?STOCK_ID=2723  timeout:  25\n",
      "retrying:  2\n",
      "200.105.215.18:33630  Fetching  https://goodinfo.tw/tw/BasicInfo.asp?STOCK_ID=2723  timeout:  30\n"
     ]
    },
    {
     "name": "stderr",
     "output_type": "stream",
     "text": [
      " 43%|████▎     | 379/881 [7:16:51<6:26:58, 46.25s/it]"
     ]
    },
    {
     "name": "stdout",
     "output_type": "stream",
     "text": [
      "Success\n",
      "200.105.215.18:33630  Fetching  https://goodinfo.tw/tw/BasicInfo.asp?STOCK_ID=2727  timeout:  20\n",
      "retrying:  1\n",
      "200.105.215.18:33630  Fetching  https://goodinfo.tw/tw/BasicInfo.asp?STOCK_ID=2727  timeout:  25\n"
     ]
    },
    {
     "name": "stderr",
     "output_type": "stream",
     "text": [
      " 43%|████▎     | 380/881 [7:17:24<5:51:28, 42.09s/it]"
     ]
    },
    {
     "name": "stdout",
     "output_type": "stream",
     "text": [
      "Success\n",
      "158.101.146.40:59394  Fetching  https://goodinfo.tw/tw/BasicInfo.asp?STOCK_ID=2731  timeout:  20\n",
      "retrying:  1\n",
      "158.101.146.40:59394  Fetching  https://goodinfo.tw/tw/BasicInfo.asp?STOCK_ID=2731  timeout:  25\n",
      "retrying:  2\n",
      "158.101.146.40:59394  Fetching  https://goodinfo.tw/tw/BasicInfo.asp?STOCK_ID=2731  timeout:  30\n",
      "retrying:  3\n",
      "200.105.215.18:33630  Fetching  https://goodinfo.tw/tw/BasicInfo.asp?STOCK_ID=2731  timeout:  20\n"
     ]
    },
    {
     "name": "stderr",
     "output_type": "stream",
     "text": [
      " 43%|████▎     | 381/881 [7:18:45<7:28:08, 53.78s/it]"
     ]
    },
    {
     "name": "stdout",
     "output_type": "stream",
     "text": [
      "Success\n",
      "158.101.146.40:59394  Fetching  https://goodinfo.tw/tw/BasicInfo.asp?STOCK_ID=2739  timeout:  20\n",
      "retrying:  1\n",
      "158.101.146.40:59394  Fetching  https://goodinfo.tw/tw/BasicInfo.asp?STOCK_ID=2739  timeout:  25\n",
      "retrying:  2\n",
      "158.101.146.40:59394  Fetching  https://goodinfo.tw/tw/BasicInfo.asp?STOCK_ID=2739  timeout:  30\n",
      "retrying:  3\n",
      "185.201.88.128:6969  Fetching  https://goodinfo.tw/tw/BasicInfo.asp?STOCK_ID=2739  timeout:  20\n",
      "retrying:  1\n",
      "185.201.88.128:6969  Fetching  https://goodinfo.tw/tw/BasicInfo.asp?STOCK_ID=2739  timeout:  25\n"
     ]
    },
    {
     "name": "stderr",
     "output_type": "stream",
     "text": [
      " 43%|████▎     | 382/881 [7:20:27<9:28:32, 68.36s/it]"
     ]
    },
    {
     "name": "stdout",
     "output_type": "stream",
     "text": [
      "Success\n",
      "200.105.215.18:33630  Fetching  https://goodinfo.tw/tw/BasicInfo.asp?STOCK_ID=2748  timeout:  20\n"
     ]
    },
    {
     "name": "stderr",
     "output_type": "stream",
     "text": [
      " 43%|████▎     | 383/881 [7:20:39<7:05:52, 51.31s/it]"
     ]
    },
    {
     "name": "stdout",
     "output_type": "stream",
     "text": [
      "Success\n",
      "185.201.88.128:6969  Fetching  https://goodinfo.tw/tw/BasicInfo.asp?STOCK_ID=2753  timeout:  20\n",
      "retrying:  1\n",
      "185.201.88.128:6969  Fetching  https://goodinfo.tw/tw/BasicInfo.asp?STOCK_ID=2753  timeout:  25\n",
      "retrying:  2\n",
      "185.201.88.128:6969  Fetching  https://goodinfo.tw/tw/BasicInfo.asp?STOCK_ID=2753  timeout:  30\n",
      "retrying:  3\n",
      "47.242.168.144:59394  Fetching  https://goodinfo.tw/tw/BasicInfo.asp?STOCK_ID=2753  timeout:  20\n",
      "retrying:  1\n",
      "47.242.168.144:59394  Fetching  https://goodinfo.tw/tw/BasicInfo.asp?STOCK_ID=2753  timeout:  25\n",
      "retrying:  2\n",
      "47.242.168.144:59394  Fetching  https://goodinfo.tw/tw/BasicInfo.asp?STOCK_ID=2753  timeout:  30\n",
      "retrying:  3\n",
      "155.0.181.254:43496  Fetching  https://goodinfo.tw/tw/BasicInfo.asp?STOCK_ID=2753  timeout:  20\n",
      "retrying:  1\n",
      "155.0.181.254:43496  Fetching  https://goodinfo.tw/tw/BasicInfo.asp?STOCK_ID=2753  timeout:  25\n"
     ]
    },
    {
     "name": "stderr",
     "output_type": "stream",
     "text": [
      " 44%|████▎     | 384/881 [7:23:37<12:19:59, 89.34s/it]"
     ]
    },
    {
     "name": "stdout",
     "output_type": "stream",
     "text": [
      "Success\n",
      "185.201.88.128:6969  Fetching  https://goodinfo.tw/tw/BasicInfo.asp?STOCK_ID=2801  timeout:  20\n"
     ]
    },
    {
     "name": "stderr",
     "output_type": "stream",
     "text": [
      " 44%|████▎     | 385/881 [7:23:54<9:18:30, 67.56s/it] "
     ]
    },
    {
     "name": "stdout",
     "output_type": "stream",
     "text": [
      "Success\n",
      "158.101.146.40:59394  Fetching  https://goodinfo.tw/tw/BasicInfo.asp?STOCK_ID=2809  timeout:  20\n",
      "retrying:  1\n",
      "158.101.146.40:59394  Fetching  https://goodinfo.tw/tw/BasicInfo.asp?STOCK_ID=2809  timeout:  25\n",
      "retrying:  2\n",
      "158.101.146.40:59394  Fetching  https://goodinfo.tw/tw/BasicInfo.asp?STOCK_ID=2809  timeout:  30\n",
      "retrying:  3\n",
      "155.0.181.254:43496  Fetching  https://goodinfo.tw/tw/BasicInfo.asp?STOCK_ID=2809  timeout:  20\n",
      "retrying:  1\n",
      "155.0.181.254:43496  Fetching  https://goodinfo.tw/tw/BasicInfo.asp?STOCK_ID=2809  timeout:  25\n"
     ]
    },
    {
     "name": "stderr",
     "output_type": "stream",
     "text": [
      " 44%|████▍     | 386/881 [7:25:37<10:45:30, 78.24s/it]"
     ]
    },
    {
     "name": "stdout",
     "output_type": "stream",
     "text": [
      "Success\n",
      "185.201.88.128:6969  Fetching  https://goodinfo.tw/tw/BasicInfo.asp?STOCK_ID=2812  timeout:  20\n"
     ]
    },
    {
     "name": "stderr",
     "output_type": "stream",
     "text": [
      " 44%|████▍     | 387/881 [7:25:46<7:52:50, 57.43s/it] "
     ]
    },
    {
     "name": "stdout",
     "output_type": "stream",
     "text": [
      "Success\n",
      "47.242.168.144:59394  Fetching  https://goodinfo.tw/tw/BasicInfo.asp?STOCK_ID=2816  timeout:  20\n",
      "retrying:  1\n",
      "47.242.168.144:59394  Fetching  https://goodinfo.tw/tw/BasicInfo.asp?STOCK_ID=2816  timeout:  25\n",
      "retrying:  2\n",
      "47.242.168.144:59394  Fetching  https://goodinfo.tw/tw/BasicInfo.asp?STOCK_ID=2816  timeout:  30\n",
      "retrying:  3\n",
      "158.101.146.40:59394  Fetching  https://goodinfo.tw/tw/BasicInfo.asp?STOCK_ID=2816  timeout:  20\n",
      "retrying:  1\n",
      "158.101.146.40:59394  Fetching  https://goodinfo.tw/tw/BasicInfo.asp?STOCK_ID=2816  timeout:  25\n",
      "retrying:  2\n",
      "158.101.146.40:59394  Fetching  https://goodinfo.tw/tw/BasicInfo.asp?STOCK_ID=2816  timeout:  30\n",
      "retrying:  3\n",
      "185.201.88.128:6969  Fetching  https://goodinfo.tw/tw/BasicInfo.asp?STOCK_ID=2816  timeout:  20\n",
      "retrying:  1\n",
      "185.201.88.128:6969  Fetching  https://goodinfo.tw/tw/BasicInfo.asp?STOCK_ID=2816  timeout:  25\n"
     ]
    },
    {
     "name": "stderr",
     "output_type": "stream",
     "text": [
      " 44%|████▍     | 388/881 [7:28:41<12:42:42, 92.82s/it]"
     ]
    },
    {
     "name": "stdout",
     "output_type": "stream",
     "text": [
      "Success\n",
      "185.201.88.128:6969  Fetching  https://goodinfo.tw/tw/BasicInfo.asp?STOCK_ID=2820  timeout:  20\n",
      "retrying:  1\n",
      "185.201.88.128:6969  Fetching  https://goodinfo.tw/tw/BasicInfo.asp?STOCK_ID=2820  timeout:  25\n"
     ]
    },
    {
     "name": "stderr",
     "output_type": "stream",
     "text": [
      " 44%|████▍     | 389/881 [7:29:06<9:53:39, 72.40s/it] "
     ]
    },
    {
     "name": "stdout",
     "output_type": "stream",
     "text": [
      "Success\n",
      "155.0.181.254:43496  Fetching  https://goodinfo.tw/tw/BasicInfo.asp?STOCK_ID=2823  timeout:  20\n",
      "retrying:  1\n",
      "155.0.181.254:43496  Fetching  https://goodinfo.tw/tw/BasicInfo.asp?STOCK_ID=2823  timeout:  25\n",
      "retrying:  2\n",
      "155.0.181.254:43496  Fetching  https://goodinfo.tw/tw/BasicInfo.asp?STOCK_ID=2823  timeout:  30\n",
      "retrying:  3\n",
      "155.0.181.254:43496  Fetching  https://goodinfo.tw/tw/BasicInfo.asp?STOCK_ID=2823  timeout:  20\n",
      "retrying:  1\n",
      "155.0.181.254:43496  Fetching  https://goodinfo.tw/tw/BasicInfo.asp?STOCK_ID=2823  timeout:  25\n",
      "retrying:  2\n",
      "155.0.181.254:43496  Fetching  https://goodinfo.tw/tw/BasicInfo.asp?STOCK_ID=2823  timeout:  30\n"
     ]
    },
    {
     "name": "stderr",
     "output_type": "stream",
     "text": [
      " 44%|████▍     | 390/881 [7:31:14<12:09:27, 89.14s/it]"
     ]
    },
    {
     "name": "stdout",
     "output_type": "stream",
     "text": [
      "Success\n",
      "185.201.88.128:6969  Fetching  https://goodinfo.tw/tw/BasicInfo.asp?STOCK_ID=2832  timeout:  20\n"
     ]
    },
    {
     "name": "stderr",
     "output_type": "stream",
     "text": [
      " 44%|████▍     | 391/881 [7:31:20<8:43:37, 64.12s/it] "
     ]
    },
    {
     "name": "stdout",
     "output_type": "stream",
     "text": [
      "Success\n",
      "185.201.88.128:6969  Fetching  https://goodinfo.tw/tw/BasicInfo.asp?STOCK_ID=2834  timeout:  20\n"
     ]
    },
    {
     "name": "stderr",
     "output_type": "stream",
     "text": [
      " 44%|████▍     | 392/881 [7:31:24<6:17:00, 46.26s/it]"
     ]
    },
    {
     "name": "stdout",
     "output_type": "stream",
     "text": [
      "Success\n",
      "200.105.215.18:33630  Fetching  https://goodinfo.tw/tw/BasicInfo.asp?STOCK_ID=2836  timeout:  20\n",
      "retrying:  1\n",
      "200.105.215.18:33630  Fetching  https://goodinfo.tw/tw/BasicInfo.asp?STOCK_ID=2836  timeout:  25\n",
      "retrying:  2\n",
      "200.105.215.18:33630  Fetching  https://goodinfo.tw/tw/BasicInfo.asp?STOCK_ID=2836  timeout:  30\n",
      "retrying:  3\n",
      "185.201.88.128:6969  Fetching  https://goodinfo.tw/tw/BasicInfo.asp?STOCK_ID=2836  timeout:  20\n"
     ]
    },
    {
     "name": "stderr",
     "output_type": "stream",
     "text": [
      " 45%|████▍     | 393/881 [7:32:51<7:55:05, 58.41s/it]"
     ]
    },
    {
     "name": "stdout",
     "output_type": "stream",
     "text": [
      "Success\n",
      "200.105.215.18:33630  Fetching  https://goodinfo.tw/tw/BasicInfo.asp?STOCK_ID=2838  timeout:  20\n"
     ]
    },
    {
     "name": "stderr",
     "output_type": "stream",
     "text": [
      " 45%|████▍     | 394/881 [7:33:13<6:25:31, 47.50s/it]"
     ]
    },
    {
     "name": "stdout",
     "output_type": "stream",
     "text": [
      "Success\n",
      "158.101.146.40:59394  Fetching  https://goodinfo.tw/tw/BasicInfo.asp?STOCK_ID=2841  timeout:  20\n",
      "retrying:  1\n",
      "158.101.146.40:59394  Fetching  https://goodinfo.tw/tw/BasicInfo.asp?STOCK_ID=2841  timeout:  25\n",
      "retrying:  2\n",
      "158.101.146.40:59394  Fetching  https://goodinfo.tw/tw/BasicInfo.asp?STOCK_ID=2841  timeout:  30\n",
      "retrying:  3\n",
      "185.201.88.128:6969  Fetching  https://goodinfo.tw/tw/BasicInfo.asp?STOCK_ID=2841  timeout:  20\n"
     ]
    },
    {
     "name": "stderr",
     "output_type": "stream",
     "text": [
      " 45%|████▍     | 395/881 [7:34:49<8:23:01, 62.10s/it]"
     ]
    },
    {
     "name": "stdout",
     "output_type": "stream",
     "text": [
      "Success\n",
      "200.105.215.18:33630  Fetching  https://goodinfo.tw/tw/BasicInfo.asp?STOCK_ID=2845  timeout:  20\n"
     ]
    },
    {
     "name": "stderr",
     "output_type": "stream",
     "text": [
      " 45%|████▍     | 396/881 [7:34:58<6:11:26, 45.95s/it]"
     ]
    },
    {
     "name": "stdout",
     "output_type": "stream",
     "text": [
      "Success\n",
      "47.242.168.144:59394  Fetching  https://goodinfo.tw/tw/BasicInfo.asp?STOCK_ID=2849  timeout:  20\n",
      "retrying:  1\n",
      "47.242.168.144:59394  Fetching  https://goodinfo.tw/tw/BasicInfo.asp?STOCK_ID=2849  timeout:  25\n",
      "retrying:  2\n",
      "47.242.168.144:59394  Fetching  https://goodinfo.tw/tw/BasicInfo.asp?STOCK_ID=2849  timeout:  30\n",
      "retrying:  3\n",
      "158.101.146.40:59394  Fetching  https://goodinfo.tw/tw/BasicInfo.asp?STOCK_ID=2849  timeout:  20\n",
      "retrying:  1\n",
      "158.101.146.40:59394  Fetching  https://goodinfo.tw/tw/BasicInfo.asp?STOCK_ID=2849  timeout:  25\n",
      "retrying:  2\n",
      "158.101.146.40:59394  Fetching  https://goodinfo.tw/tw/BasicInfo.asp?STOCK_ID=2849  timeout:  30\n",
      "retrying:  3\n",
      "200.105.215.18:33630  Fetching  https://goodinfo.tw/tw/BasicInfo.asp?STOCK_ID=2849  timeout:  20\n",
      "retrying:  1\n",
      "200.105.215.18:33630  Fetching  https://goodinfo.tw/tw/BasicInfo.asp?STOCK_ID=2849  timeout:  25\n",
      "retrying:  2\n",
      "200.105.215.18:33630  Fetching  https://goodinfo.tw/tw/BasicInfo.asp?STOCK_ID=2849  timeout:  30\n",
      "retrying:  3\n",
      "200.105.215.18:33630  Fetching  https://goodinfo.tw/tw/BasicInfo.asp?STOCK_ID=2849  timeout:  20\n"
     ]
    },
    {
     "name": "stderr",
     "output_type": "stream",
     "text": [
      " 45%|████▌     | 397/881 [7:38:49<13:39:08, 101.55s/it]"
     ]
    },
    {
     "name": "stdout",
     "output_type": "stream",
     "text": [
      "Success\n",
      "158.101.146.40:59394  Fetching  https://goodinfo.tw/tw/BasicInfo.asp?STOCK_ID=2850  timeout:  20\n",
      "retrying:  1\n",
      "158.101.146.40:59394  Fetching  https://goodinfo.tw/tw/BasicInfo.asp?STOCK_ID=2850  timeout:  25\n",
      "retrying:  2\n",
      "158.101.146.40:59394  Fetching  https://goodinfo.tw/tw/BasicInfo.asp?STOCK_ID=2850  timeout:  30\n",
      "retrying:  3\n",
      "47.242.168.144:59394  Fetching  https://goodinfo.tw/tw/BasicInfo.asp?STOCK_ID=2850  timeout:  20\n",
      "retrying:  1\n",
      "47.242.168.144:59394  Fetching  https://goodinfo.tw/tw/BasicInfo.asp?STOCK_ID=2850  timeout:  25\n",
      "retrying:  2\n",
      "47.242.168.144:59394  Fetching  https://goodinfo.tw/tw/BasicInfo.asp?STOCK_ID=2850  timeout:  30\n",
      "retrying:  3\n",
      "200.105.215.18:33630  Fetching  https://goodinfo.tw/tw/BasicInfo.asp?STOCK_ID=2850  timeout:  20\n",
      "retrying:  1\n",
      "200.105.215.18:33630  Fetching  https://goodinfo.tw/tw/BasicInfo.asp?STOCK_ID=2850  timeout:  25\n"
     ]
    },
    {
     "name": "stderr",
     "output_type": "stream",
     "text": [
      " 45%|████▌     | 398/881 [7:41:45<16:36:34, 123.80s/it]"
     ]
    },
    {
     "name": "stdout",
     "output_type": "stream",
     "text": [
      "Success\n",
      "200.105.215.18:33630  Fetching  https://goodinfo.tw/tw/BasicInfo.asp?STOCK_ID=2851  timeout:  20\n"
     ]
    },
    {
     "name": "stderr",
     "output_type": "stream",
     "text": [
      " 45%|████▌     | 399/881 [7:41:54<11:59:18, 89.54s/it] "
     ]
    },
    {
     "name": "stdout",
     "output_type": "stream",
     "text": [
      "Success\n",
      "158.101.146.40:59394  Fetching  https://goodinfo.tw/tw/BasicInfo.asp?STOCK_ID=2852  timeout:  20\n",
      "retrying:  1\n",
      "158.101.146.40:59394  Fetching  https://goodinfo.tw/tw/BasicInfo.asp?STOCK_ID=2852  timeout:  25\n",
      "retrying:  2\n",
      "158.101.146.40:59394  Fetching  https://goodinfo.tw/tw/BasicInfo.asp?STOCK_ID=2852  timeout:  30\n",
      "retrying:  3\n",
      "47.242.168.144:59394  Fetching  https://goodinfo.tw/tw/BasicInfo.asp?STOCK_ID=2852  timeout:  20\n",
      "retrying:  1\n",
      "47.242.168.144:59394  Fetching  https://goodinfo.tw/tw/BasicInfo.asp?STOCK_ID=2852  timeout:  25\n",
      "retrying:  2\n",
      "47.242.168.144:59394  Fetching  https://goodinfo.tw/tw/BasicInfo.asp?STOCK_ID=2852  timeout:  30\n",
      "retrying:  3\n",
      "158.101.146.40:59394  Fetching  https://goodinfo.tw/tw/BasicInfo.asp?STOCK_ID=2852  timeout:  20\n",
      "retrying:  1\n",
      "158.101.146.40:59394  Fetching  https://goodinfo.tw/tw/BasicInfo.asp?STOCK_ID=2852  timeout:  25\n",
      "retrying:  2\n",
      "158.101.146.40:59394  Fetching  https://goodinfo.tw/tw/BasicInfo.asp?STOCK_ID=2852  timeout:  30\n",
      "retrying:  3\n",
      "158.101.146.40:59394  Fetching  https://goodinfo.tw/tw/BasicInfo.asp?STOCK_ID=2852  timeout:  20\n",
      "retrying:  1\n",
      "158.101.146.40:59394  Fetching  https://goodinfo.tw/tw/BasicInfo.asp?STOCK_ID=2852  timeout:  25\n",
      "retrying:  2\n",
      "158.101.146.40:59394  Fetching  https://goodinfo.tw/tw/BasicInfo.asp?STOCK_ID=2852  timeout:  30\n",
      "retrying:  3\n",
      "200.105.215.18:33630  Fetching  https://goodinfo.tw/tw/BasicInfo.asp?STOCK_ID=2852  timeout:  20\n",
      "retrying:  1\n",
      "200.105.215.18:33630  Fetching  https://goodinfo.tw/tw/BasicInfo.asp?STOCK_ID=2852  timeout:  25\n"
     ]
    },
    {
     "name": "stderr",
     "output_type": "stream",
     "text": [
      " 45%|████▌     | 400/881 [7:47:09<20:58:41, 157.01s/it]"
     ]
    },
    {
     "name": "stdout",
     "output_type": "stream",
     "text": [
      "Success\n",
      "185.201.88.128:6969  Fetching  https://goodinfo.tw/tw/BasicInfo.asp?STOCK_ID=2855  timeout:  20\n",
      "retrying:  1\n",
      "185.201.88.128:6969  Fetching  https://goodinfo.tw/tw/BasicInfo.asp?STOCK_ID=2855  timeout:  25\n"
     ]
    },
    {
     "name": "stderr",
     "output_type": "stream",
     "text": [
      " 46%|████▌     | 401/881 [7:47:37<15:47:25, 118.43s/it]"
     ]
    },
    {
     "name": "stdout",
     "output_type": "stream",
     "text": [
      "Success\n",
      "200.105.215.18:33630  Fetching  https://goodinfo.tw/tw/BasicInfo.asp?STOCK_ID=2867  timeout:  20\n",
      "retrying:  1\n",
      "200.105.215.18:33630  Fetching  https://goodinfo.tw/tw/BasicInfo.asp?STOCK_ID=2867  timeout:  25\n"
     ]
    },
    {
     "name": "stderr",
     "output_type": "stream",
     "text": [
      " 46%|████▌     | 402/881 [7:48:11<12:22:47, 93.04s/it] "
     ]
    },
    {
     "name": "stdout",
     "output_type": "stream",
     "text": [
      "Success\n",
      "47.242.168.144:59394  Fetching  https://goodinfo.tw/tw/BasicInfo.asp?STOCK_ID=2880  timeout:  20\n",
      "retrying:  1\n",
      "47.242.168.144:59394  Fetching  https://goodinfo.tw/tw/BasicInfo.asp?STOCK_ID=2880  timeout:  25\n",
      "retrying:  2\n",
      "47.242.168.144:59394  Fetching  https://goodinfo.tw/tw/BasicInfo.asp?STOCK_ID=2880  timeout:  30\n",
      "retrying:  3\n",
      "185.201.88.128:6969  Fetching  https://goodinfo.tw/tw/BasicInfo.asp?STOCK_ID=2880  timeout:  20\n"
     ]
    },
    {
     "name": "stderr",
     "output_type": "stream",
     "text": [
      " 46%|████▌     | 403/881 [7:49:33<11:54:25, 89.68s/it]"
     ]
    },
    {
     "name": "stdout",
     "output_type": "stream",
     "text": [
      "Success\n",
      "155.0.181.254:43496  Fetching  https://goodinfo.tw/tw/BasicInfo.asp?STOCK_ID=2881  timeout:  20\n"
     ]
    },
    {
     "name": "stderr",
     "output_type": "stream",
     "text": [
      " 46%|████▌     | 404/881 [7:49:42<8:41:46, 65.63s/it] "
     ]
    },
    {
     "name": "stdout",
     "output_type": "stream",
     "text": [
      "Success\n",
      "158.101.146.40:59394  Fetching  https://goodinfo.tw/tw/BasicInfo.asp?STOCK_ID=2882  timeout:  20\n",
      "retrying:  1\n",
      "158.101.146.40:59394  Fetching  https://goodinfo.tw/tw/BasicInfo.asp?STOCK_ID=2882  timeout:  25\n",
      "retrying:  2\n",
      "158.101.146.40:59394  Fetching  https://goodinfo.tw/tw/BasicInfo.asp?STOCK_ID=2882  timeout:  30\n",
      "retrying:  3\n",
      "158.101.146.40:59394  Fetching  https://goodinfo.tw/tw/BasicInfo.asp?STOCK_ID=2882  timeout:  20\n",
      "retrying:  1\n",
      "158.101.146.40:59394  Fetching  https://goodinfo.tw/tw/BasicInfo.asp?STOCK_ID=2882  timeout:  25\n",
      "retrying:  2\n",
      "158.101.146.40:59394  Fetching  https://goodinfo.tw/tw/BasicInfo.asp?STOCK_ID=2882  timeout:  30\n",
      "retrying:  3\n",
      "47.242.168.144:59394  Fetching  https://goodinfo.tw/tw/BasicInfo.asp?STOCK_ID=2882  timeout:  20\n",
      "retrying:  1\n",
      "47.242.168.144:59394  Fetching  https://goodinfo.tw/tw/BasicInfo.asp?STOCK_ID=2882  timeout:  25\n",
      "retrying:  2\n",
      "47.242.168.144:59394  Fetching  https://goodinfo.tw/tw/BasicInfo.asp?STOCK_ID=2882  timeout:  30\n",
      "retrying:  3\n",
      "47.242.168.144:59394  Fetching  https://goodinfo.tw/tw/BasicInfo.asp?STOCK_ID=2882  timeout:  20\n",
      "retrying:  1\n",
      "47.242.168.144:59394  Fetching  https://goodinfo.tw/tw/BasicInfo.asp?STOCK_ID=2882  timeout:  25\n",
      "retrying:  2\n",
      "47.242.168.144:59394  Fetching  https://goodinfo.tw/tw/BasicInfo.asp?STOCK_ID=2882  timeout:  30\n",
      "retrying:  3\n",
      "185.201.88.128:6969  Fetching  https://goodinfo.tw/tw/BasicInfo.asp?STOCK_ID=2882  timeout:  20\n",
      "retrying:  1\n",
      "185.201.88.128:6969  Fetching  https://goodinfo.tw/tw/BasicInfo.asp?STOCK_ID=2882  timeout:  25\n",
      "retrying:  2\n",
      "185.201.88.128:6969  Fetching  https://goodinfo.tw/tw/BasicInfo.asp?STOCK_ID=2882  timeout:  30\n"
     ]
    },
    {
     "name": "stderr",
     "output_type": "stream",
     "text": [
      " 46%|████▌     | 405/881 [7:55:57<20:57:41, 158.53s/it]"
     ]
    },
    {
     "name": "stdout",
     "output_type": "stream",
     "text": [
      "retrying:  3\n",
      "200.105.215.18:33630  Fetching  https://goodinfo.tw/tw/BasicInfo.asp?STOCK_ID=2883  timeout:  20\n"
     ]
    },
    {
     "name": "stderr",
     "output_type": "stream",
     "text": [
      " 46%|████▌     | 406/881 [7:56:18<15:26:37, 117.05s/it]"
     ]
    },
    {
     "name": "stdout",
     "output_type": "stream",
     "text": [
      "Success\n",
      "155.0.181.254:43496  Fetching  https://goodinfo.tw/tw/BasicInfo.asp?STOCK_ID=2884  timeout:  20\n"
     ]
    },
    {
     "name": "stderr",
     "output_type": "stream",
     "text": [
      " 46%|████▌     | 407/881 [7:56:27<11:09:48, 84.78s/it] "
     ]
    },
    {
     "name": "stdout",
     "output_type": "stream",
     "text": [
      "Success\n",
      "155.0.181.254:43496  Fetching  https://goodinfo.tw/tw/BasicInfo.asp?STOCK_ID=2885  timeout:  20\n"
     ]
    },
    {
     "name": "stderr",
     "output_type": "stream",
     "text": [
      " 46%|████▋     | 408/881 [7:56:34<8:03:52, 61.38s/it] "
     ]
    },
    {
     "name": "stdout",
     "output_type": "stream",
     "text": [
      "Success\n",
      "47.242.168.144:59394  Fetching  https://goodinfo.tw/tw/BasicInfo.asp?STOCK_ID=2886  timeout:  20\n",
      "retrying:  1\n",
      "47.242.168.144:59394  Fetching  https://goodinfo.tw/tw/BasicInfo.asp?STOCK_ID=2886  timeout:  25\n",
      "retrying:  2\n",
      "47.242.168.144:59394  Fetching  https://goodinfo.tw/tw/BasicInfo.asp?STOCK_ID=2886  timeout:  30\n",
      "retrying:  3\n",
      "200.105.215.18:33630  Fetching  https://goodinfo.tw/tw/BasicInfo.asp?STOCK_ID=2886  timeout:  20\n"
     ]
    },
    {
     "name": "stderr",
     "output_type": "stream",
     "text": [
      " 46%|████▋     | 409/881 [7:57:56<8:51:46, 67.60s/it]"
     ]
    },
    {
     "name": "stdout",
     "output_type": "stream",
     "text": [
      "Success\n",
      "158.101.146.40:59394  Fetching  https://goodinfo.tw/tw/BasicInfo.asp?STOCK_ID=2887  timeout:  20\n",
      "retrying:  1\n",
      "158.101.146.40:59394  Fetching  https://goodinfo.tw/tw/BasicInfo.asp?STOCK_ID=2887  timeout:  25\n",
      "retrying:  2\n",
      "158.101.146.40:59394  Fetching  https://goodinfo.tw/tw/BasicInfo.asp?STOCK_ID=2887  timeout:  30\n",
      "retrying:  3\n",
      "47.242.168.144:59394  Fetching  https://goodinfo.tw/tw/BasicInfo.asp?STOCK_ID=2887  timeout:  20\n",
      "retrying:  1\n",
      "47.242.168.144:59394  Fetching  https://goodinfo.tw/tw/BasicInfo.asp?STOCK_ID=2887  timeout:  25\n",
      "retrying:  2\n",
      "47.242.168.144:59394  Fetching  https://goodinfo.tw/tw/BasicInfo.asp?STOCK_ID=2887  timeout:  30\n",
      "retrying:  3\n",
      "155.0.181.254:43496  Fetching  https://goodinfo.tw/tw/BasicInfo.asp?STOCK_ID=2887  timeout:  20\n"
     ]
    },
    {
     "name": "stderr",
     "output_type": "stream",
     "text": [
      " 47%|████▋     | 410/881 [8:00:34<12:24:24, 94.83s/it]"
     ]
    },
    {
     "name": "stdout",
     "output_type": "stream",
     "text": [
      "Success\n",
      "200.105.215.18:33630  Fetching  https://goodinfo.tw/tw/BasicInfo.asp?STOCK_ID=2888  timeout:  20\n"
     ]
    },
    {
     "name": "stderr",
     "output_type": "stream",
     "text": [
      " 47%|████▋     | 411/881 [8:00:43<9:00:49, 69.04s/it] "
     ]
    },
    {
     "name": "stdout",
     "output_type": "stream",
     "text": [
      "Success\n",
      "158.101.146.40:59394  Fetching  https://goodinfo.tw/tw/BasicInfo.asp?STOCK_ID=2889  timeout:  20\n",
      "retrying:  1\n",
      "158.101.146.40:59394  Fetching  https://goodinfo.tw/tw/BasicInfo.asp?STOCK_ID=2889  timeout:  25\n",
      "retrying:  2\n",
      "158.101.146.40:59394  Fetching  https://goodinfo.tw/tw/BasicInfo.asp?STOCK_ID=2889  timeout:  30\n",
      "retrying:  3\n",
      "47.242.168.144:59394  Fetching  https://goodinfo.tw/tw/BasicInfo.asp?STOCK_ID=2889  timeout:  20\n",
      "retrying:  1\n",
      "47.242.168.144:59394  Fetching  https://goodinfo.tw/tw/BasicInfo.asp?STOCK_ID=2889  timeout:  25\n",
      "retrying:  2\n",
      "47.242.168.144:59394  Fetching  https://goodinfo.tw/tw/BasicInfo.asp?STOCK_ID=2889  timeout:  30\n",
      "retrying:  3\n",
      "47.242.168.144:59394  Fetching  https://goodinfo.tw/tw/BasicInfo.asp?STOCK_ID=2889  timeout:  20\n",
      "retrying:  1\n",
      "47.242.168.144:59394  Fetching  https://goodinfo.tw/tw/BasicInfo.asp?STOCK_ID=2889  timeout:  25\n",
      "retrying:  2\n",
      "47.242.168.144:59394  Fetching  https://goodinfo.tw/tw/BasicInfo.asp?STOCK_ID=2889  timeout:  30\n",
      "retrying:  3\n",
      "185.201.88.128:6969  Fetching  https://goodinfo.tw/tw/BasicInfo.asp?STOCK_ID=2889  timeout:  20\n"
     ]
    },
    {
     "name": "stderr",
     "output_type": "stream",
     "text": [
      " 47%|████▋     | 412/881 [8:04:40<15:33:43, 119.45s/it]"
     ]
    },
    {
     "name": "stdout",
     "output_type": "stream",
     "text": [
      "Success\n",
      "158.101.146.40:59394  Fetching  https://goodinfo.tw/tw/BasicInfo.asp?STOCK_ID=2890  timeout:  20\n",
      "retrying:  1\n",
      "158.101.146.40:59394  Fetching  https://goodinfo.tw/tw/BasicInfo.asp?STOCK_ID=2890  timeout:  25\n",
      "retrying:  2\n",
      "158.101.146.40:59394  Fetching  https://goodinfo.tw/tw/BasicInfo.asp?STOCK_ID=2890  timeout:  30\n",
      "retrying:  3\n",
      "155.0.181.254:43496  Fetching  https://goodinfo.tw/tw/BasicInfo.asp?STOCK_ID=2890  timeout:  20\n"
     ]
    },
    {
     "name": "stderr",
     "output_type": "stream",
     "text": [
      " 47%|████▋     | 413/881 [8:06:18<14:39:41, 112.78s/it]"
     ]
    },
    {
     "name": "stdout",
     "output_type": "stream",
     "text": [
      "Success\n",
      "158.101.146.40:59394  Fetching  https://goodinfo.tw/tw/BasicInfo.asp?STOCK_ID=2891  timeout:  20\n",
      "retrying:  1\n",
      "158.101.146.40:59394  Fetching  https://goodinfo.tw/tw/BasicInfo.asp?STOCK_ID=2891  timeout:  25\n",
      "retrying:  2\n",
      "158.101.146.40:59394  Fetching  https://goodinfo.tw/tw/BasicInfo.asp?STOCK_ID=2891  timeout:  30\n",
      "retrying:  3\n",
      "47.242.168.144:59394  Fetching  https://goodinfo.tw/tw/BasicInfo.asp?STOCK_ID=2891  timeout:  20\n",
      "retrying:  1\n",
      "47.242.168.144:59394  Fetching  https://goodinfo.tw/tw/BasicInfo.asp?STOCK_ID=2891  timeout:  25\n",
      "retrying:  2\n",
      "47.242.168.144:59394  Fetching  https://goodinfo.tw/tw/BasicInfo.asp?STOCK_ID=2891  timeout:  30\n",
      "retrying:  3\n",
      "47.242.168.144:59394  Fetching  https://goodinfo.tw/tw/BasicInfo.asp?STOCK_ID=2891  timeout:  20\n",
      "retrying:  1\n",
      "47.242.168.144:59394  Fetching  https://goodinfo.tw/tw/BasicInfo.asp?STOCK_ID=2891  timeout:  25\n",
      "retrying:  2\n",
      "47.242.168.144:59394  Fetching  https://goodinfo.tw/tw/BasicInfo.asp?STOCK_ID=2891  timeout:  30\n",
      "retrying:  3\n",
      "155.0.181.254:43496  Fetching  https://goodinfo.tw/tw/BasicInfo.asp?STOCK_ID=2891  timeout:  20\n"
     ]
    },
    {
     "name": "stderr",
     "output_type": "stream",
     "text": [
      " 47%|████▋     | 414/881 [8:10:10<19:15:57, 148.52s/it]"
     ]
    },
    {
     "name": "stdout",
     "output_type": "stream",
     "text": [
      "Success\n",
      "185.201.88.128:6969  Fetching  https://goodinfo.tw/tw/BasicInfo.asp?STOCK_ID=2892  timeout:  20\n"
     ]
    },
    {
     "name": "stderr",
     "output_type": "stream",
     "text": [
      " 47%|████▋     | 415/881 [8:10:22<13:57:30, 107.83s/it]"
     ]
    },
    {
     "name": "stdout",
     "output_type": "stream",
     "text": [
      "Success\n",
      "200.105.215.18:33630  Fetching  https://goodinfo.tw/tw/BasicInfo.asp?STOCK_ID=2897  timeout:  20\n"
     ]
    },
    {
     "name": "stderr",
     "output_type": "stream",
     "text": [
      " 47%|████▋     | 416/881 [8:10:30<10:03:33, 77.88s/it] "
     ]
    },
    {
     "name": "stdout",
     "output_type": "stream",
     "text": [
      "Success\n",
      "155.0.181.254:43496  Fetching  https://goodinfo.tw/tw/BasicInfo.asp?STOCK_ID=2901  timeout:  20\n",
      "retrying:  1\n",
      "155.0.181.254:43496  Fetching  https://goodinfo.tw/tw/BasicInfo.asp?STOCK_ID=2901  timeout:  25\n",
      "retrying:  2\n",
      "155.0.181.254:43496  Fetching  https://goodinfo.tw/tw/BasicInfo.asp?STOCK_ID=2901  timeout:  30\n",
      "retrying:  3\n",
      "185.201.88.128:6969  Fetching  https://goodinfo.tw/tw/BasicInfo.asp?STOCK_ID=2901  timeout:  20\n"
     ]
    },
    {
     "name": "stderr",
     "output_type": "stream",
     "text": [
      " 47%|████▋     | 417/881 [8:11:35<9:30:58, 73.83s/it] "
     ]
    },
    {
     "name": "stdout",
     "output_type": "stream",
     "text": [
      "Success\n",
      "158.101.146.40:59394  Fetching  https://goodinfo.tw/tw/BasicInfo.asp?STOCK_ID=2903  timeout:  20\n",
      "retrying:  1\n",
      "158.101.146.40:59394  Fetching  https://goodinfo.tw/tw/BasicInfo.asp?STOCK_ID=2903  timeout:  25\n",
      "retrying:  2\n",
      "158.101.146.40:59394  Fetching  https://goodinfo.tw/tw/BasicInfo.asp?STOCK_ID=2903  timeout:  30\n",
      "retrying:  3\n",
      "185.201.88.128:6969  Fetching  https://goodinfo.tw/tw/BasicInfo.asp?STOCK_ID=2903  timeout:  20\n",
      "retrying:  1\n",
      "185.201.88.128:6969  Fetching  https://goodinfo.tw/tw/BasicInfo.asp?STOCK_ID=2903  timeout:  25\n"
     ]
    },
    {
     "name": "stderr",
     "output_type": "stream",
     "text": [
      " 47%|████▋     | 418/881 [8:13:23<10:49:08, 84.12s/it]"
     ]
    },
    {
     "name": "stdout",
     "output_type": "stream",
     "text": [
      "Success\n",
      "185.201.88.128:6969  Fetching  https://goodinfo.tw/tw/BasicInfo.asp?STOCK_ID=2904  timeout:  20\n"
     ]
    },
    {
     "name": "stderr",
     "output_type": "stream",
     "text": [
      " 48%|████▊     | 419/881 [8:13:32<7:53:16, 61.46s/it] "
     ]
    },
    {
     "name": "stdout",
     "output_type": "stream",
     "text": [
      "Success\n",
      "155.0.181.254:43496  Fetching  https://goodinfo.tw/tw/BasicInfo.asp?STOCK_ID=2905  timeout:  20\n",
      "retrying:  1\n",
      "155.0.181.254:43496  Fetching  https://goodinfo.tw/tw/BasicInfo.asp?STOCK_ID=2905  timeout:  25\n",
      "retrying:  2\n",
      "155.0.181.254:43496  Fetching  https://goodinfo.tw/tw/BasicInfo.asp?STOCK_ID=2905  timeout:  30\n"
     ]
    },
    {
     "name": "stderr",
     "output_type": "stream",
     "text": [
      " 48%|████▊     | 420/881 [8:14:26<7:37:02, 59.48s/it]"
     ]
    },
    {
     "name": "stdout",
     "output_type": "stream",
     "text": [
      "Success\n",
      "155.0.181.254:43496  Fetching  https://goodinfo.tw/tw/BasicInfo.asp?STOCK_ID=2906  timeout:  20\n",
      "retrying:  1\n",
      "155.0.181.254:43496  Fetching  https://goodinfo.tw/tw/BasicInfo.asp?STOCK_ID=2906  timeout:  25\n",
      "retrying:  2\n",
      "155.0.181.254:43496  Fetching  https://goodinfo.tw/tw/BasicInfo.asp?STOCK_ID=2906  timeout:  30\n"
     ]
    },
    {
     "name": "stderr",
     "output_type": "stream",
     "text": [
      " 48%|████▊     | 421/881 [8:15:26<7:36:49, 59.59s/it]"
     ]
    },
    {
     "name": "stdout",
     "output_type": "stream",
     "text": [
      "Success\n",
      "155.0.181.254:43496  Fetching  https://goodinfo.tw/tw/BasicInfo.asp?STOCK_ID=2908  timeout:  20\n",
      "retrying:  1\n",
      "155.0.181.254:43496  Fetching  https://goodinfo.tw/tw/BasicInfo.asp?STOCK_ID=2908  timeout:  25\n",
      "retrying:  2\n",
      "155.0.181.254:43496  Fetching  https://goodinfo.tw/tw/BasicInfo.asp?STOCK_ID=2908  timeout:  30\n"
     ]
    },
    {
     "name": "stderr",
     "output_type": "stream",
     "text": [
      " 48%|████▊     | 422/881 [8:16:24<7:31:23, 59.01s/it]"
     ]
    },
    {
     "name": "stdout",
     "output_type": "stream",
     "text": [
      "Success\n",
      "158.101.146.40:59394  Fetching  https://goodinfo.tw/tw/BasicInfo.asp?STOCK_ID=2910  timeout:  20\n",
      "retrying:  1\n",
      "158.101.146.40:59394  Fetching  https://goodinfo.tw/tw/BasicInfo.asp?STOCK_ID=2910  timeout:  25\n",
      "retrying:  2\n",
      "158.101.146.40:59394  Fetching  https://goodinfo.tw/tw/BasicInfo.asp?STOCK_ID=2910  timeout:  30\n",
      "retrying:  3\n",
      "185.201.88.128:6969  Fetching  https://goodinfo.tw/tw/BasicInfo.asp?STOCK_ID=2910  timeout:  20\n",
      "retrying:  1\n",
      "185.201.88.128:6969  Fetching  https://goodinfo.tw/tw/BasicInfo.asp?STOCK_ID=2910  timeout:  25\n"
     ]
    },
    {
     "name": "stderr",
     "output_type": "stream",
     "text": [
      " 48%|████▊     | 423/881 [8:18:21<9:44:14, 76.54s/it]"
     ]
    },
    {
     "name": "stdout",
     "output_type": "stream",
     "text": [
      "Success\n",
      "185.201.88.128:6969  Fetching  https://goodinfo.tw/tw/BasicInfo.asp?STOCK_ID=2911  timeout:  20\n"
     ]
    },
    {
     "name": "stderr",
     "output_type": "stream",
     "text": [
      " 48%|████▊     | 424/881 [8:18:42<7:36:07, 59.88s/it]"
     ]
    },
    {
     "name": "stdout",
     "output_type": "stream",
     "text": [
      "Success\n",
      "155.0.181.254:43496  Fetching  https://goodinfo.tw/tw/BasicInfo.asp?STOCK_ID=2912  timeout:  20\n",
      "retrying:  1\n",
      "155.0.181.254:43496  Fetching  https://goodinfo.tw/tw/BasicInfo.asp?STOCK_ID=2912  timeout:  25\n",
      "retrying:  2\n",
      "155.0.181.254:43496  Fetching  https://goodinfo.tw/tw/BasicInfo.asp?STOCK_ID=2912  timeout:  30\n",
      "retrying:  3\n",
      "185.201.88.128:6969  Fetching  https://goodinfo.tw/tw/BasicInfo.asp?STOCK_ID=2912  timeout:  20\n"
     ]
    },
    {
     "name": "stderr",
     "output_type": "stream",
     "text": [
      " 48%|████▊     | 425/881 [8:19:48<7:48:59, 61.71s/it]"
     ]
    },
    {
     "name": "stdout",
     "output_type": "stream",
     "text": [
      "Success\n",
      "158.101.146.40:59394  Fetching  https://goodinfo.tw/tw/BasicInfo.asp?STOCK_ID=2913  timeout:  20\n",
      "retrying:  1\n",
      "158.101.146.40:59394  Fetching  https://goodinfo.tw/tw/BasicInfo.asp?STOCK_ID=2913  timeout:  25\n",
      "retrying:  2\n",
      "158.101.146.40:59394  Fetching  https://goodinfo.tw/tw/BasicInfo.asp?STOCK_ID=2913  timeout:  30\n",
      "retrying:  3\n",
      "158.101.146.40:59394  Fetching  https://goodinfo.tw/tw/BasicInfo.asp?STOCK_ID=2913  timeout:  20\n",
      "retrying:  1\n",
      "158.101.146.40:59394  Fetching  https://goodinfo.tw/tw/BasicInfo.asp?STOCK_ID=2913  timeout:  25\n",
      "retrying:  2\n",
      "158.101.146.40:59394  Fetching  https://goodinfo.tw/tw/BasicInfo.asp?STOCK_ID=2913  timeout:  30\n",
      "retrying:  3\n",
      "200.105.215.18:33630  Fetching  https://goodinfo.tw/tw/BasicInfo.asp?STOCK_ID=2913  timeout:  20\n",
      "retrying:  1\n",
      "200.105.215.18:33630  Fetching  https://goodinfo.tw/tw/BasicInfo.asp?STOCK_ID=2913  timeout:  25\n",
      "retrying:  2\n",
      "200.105.215.18:33630  Fetching  https://goodinfo.tw/tw/BasicInfo.asp?STOCK_ID=2913  timeout:  30\n",
      "retrying:  3\n",
      "200.105.215.18:33630  Fetching  https://goodinfo.tw/tw/BasicInfo.asp?STOCK_ID=2913  timeout:  20\n",
      "retrying:  1\n",
      "200.105.215.18:33630  Fetching  https://goodinfo.tw/tw/BasicInfo.asp?STOCK_ID=2913  timeout:  25\n"
     ]
    },
    {
     "name": "stderr",
     "output_type": "stream",
     "text": [
      " 48%|████▊     | 426/881 [8:24:07<15:16:09, 120.81s/it]"
     ]
    },
    {
     "name": "stdout",
     "output_type": "stream",
     "text": [
      "Success\n",
      "200.105.215.18:33630  Fetching  https://goodinfo.tw/tw/BasicInfo.asp?STOCK_ID=2915  timeout:  20\n"
     ]
    },
    {
     "name": "stderr",
     "output_type": "stream",
     "text": [
      " 48%|████▊     | 427/881 [8:24:16<10:59:34, 87.17s/it] "
     ]
    },
    {
     "name": "stdout",
     "output_type": "stream",
     "text": [
      "Success\n",
      "158.101.146.40:59394  Fetching  https://goodinfo.tw/tw/BasicInfo.asp?STOCK_ID=2923  timeout:  20\n",
      "retrying:  1\n",
      "158.101.146.40:59394  Fetching  https://goodinfo.tw/tw/BasicInfo.asp?STOCK_ID=2923  timeout:  25\n",
      "retrying:  2\n",
      "158.101.146.40:59394  Fetching  https://goodinfo.tw/tw/BasicInfo.asp?STOCK_ID=2923  timeout:  30\n",
      "retrying:  3\n",
      "200.105.215.18:33630  Fetching  https://goodinfo.tw/tw/BasicInfo.asp?STOCK_ID=2923  timeout:  20\n",
      "retrying:  1\n",
      "200.105.215.18:33630  Fetching  https://goodinfo.tw/tw/BasicInfo.asp?STOCK_ID=2923  timeout:  25\n"
     ]
    },
    {
     "name": "stderr",
     "output_type": "stream",
     "text": [
      " 49%|████▊     | 428/881 [8:26:05<11:49:20, 93.95s/it]"
     ]
    },
    {
     "name": "stdout",
     "output_type": "stream",
     "text": [
      "Success\n",
      "158.101.146.40:59394  Fetching  https://goodinfo.tw/tw/BasicInfo.asp?STOCK_ID=2929  timeout:  20\n",
      "retrying:  1\n",
      "158.101.146.40:59394  Fetching  https://goodinfo.tw/tw/BasicInfo.asp?STOCK_ID=2929  timeout:  25\n",
      "retrying:  2\n",
      "158.101.146.40:59394  Fetching  https://goodinfo.tw/tw/BasicInfo.asp?STOCK_ID=2929  timeout:  30\n",
      "retrying:  3\n",
      "158.101.146.40:59394  Fetching  https://goodinfo.tw/tw/BasicInfo.asp?STOCK_ID=2929  timeout:  20\n",
      "retrying:  1\n",
      "158.101.146.40:59394  Fetching  https://goodinfo.tw/tw/BasicInfo.asp?STOCK_ID=2929  timeout:  25\n",
      "retrying:  2\n",
      "158.101.146.40:59394  Fetching  https://goodinfo.tw/tw/BasicInfo.asp?STOCK_ID=2929  timeout:  30\n",
      "retrying:  3\n",
      "155.0.181.254:43496  Fetching  https://goodinfo.tw/tw/BasicInfo.asp?STOCK_ID=2929  timeout:  20\n",
      "retrying:  1\n",
      "155.0.181.254:43496  Fetching  https://goodinfo.tw/tw/BasicInfo.asp?STOCK_ID=2929  timeout:  25\n",
      "retrying:  2\n",
      "155.0.181.254:43496  Fetching  https://goodinfo.tw/tw/BasicInfo.asp?STOCK_ID=2929  timeout:  30\n"
     ]
    },
    {
     "name": "stderr",
     "output_type": "stream",
     "text": [
      " 49%|████▊     | 429/881 [8:29:30<15:58:15, 127.20s/it]"
     ]
    },
    {
     "name": "stdout",
     "output_type": "stream",
     "text": [
      "Success\n",
      "185.201.88.128:6969  Fetching  https://goodinfo.tw/tw/BasicInfo.asp?STOCK_ID=2936  timeout:  20\n",
      "retrying:  1\n",
      "185.201.88.128:6969  Fetching  https://goodinfo.tw/tw/BasicInfo.asp?STOCK_ID=2936  timeout:  25\n"
     ]
    },
    {
     "name": "stderr",
     "output_type": "stream",
     "text": [
      " 49%|████▉     | 430/881 [8:29:59<12:14:12, 97.68s/it] "
     ]
    },
    {
     "name": "stdout",
     "output_type": "stream",
     "text": [
      "Success\n",
      "47.242.168.144:59394  Fetching  https://goodinfo.tw/tw/BasicInfo.asp?STOCK_ID=2939  timeout:  20\n",
      "retrying:  1\n",
      "47.242.168.144:59394  Fetching  https://goodinfo.tw/tw/BasicInfo.asp?STOCK_ID=2939  timeout:  25\n",
      "retrying:  2\n",
      "47.242.168.144:59394  Fetching  https://goodinfo.tw/tw/BasicInfo.asp?STOCK_ID=2939  timeout:  30\n",
      "retrying:  3\n",
      "155.0.181.254:43496  Fetching  https://goodinfo.tw/tw/BasicInfo.asp?STOCK_ID=2939  timeout:  20\n",
      "retrying:  1\n",
      "155.0.181.254:43496  Fetching  https://goodinfo.tw/tw/BasicInfo.asp?STOCK_ID=2939  timeout:  25\n"
     ]
    },
    {
     "name": "stderr",
     "output_type": "stream",
     "text": [
      " 49%|████▉     | 431/881 [8:31:48<12:37:58, 101.06s/it]"
     ]
    },
    {
     "name": "stdout",
     "output_type": "stream",
     "text": [
      "Success\n",
      "155.0.181.254:43496  Fetching  https://goodinfo.tw/tw/BasicInfo.asp?STOCK_ID=2945  timeout:  20\n",
      "retrying:  1\n",
      "155.0.181.254:43496  Fetching  https://goodinfo.tw/tw/BasicInfo.asp?STOCK_ID=2945  timeout:  25\n",
      "retrying:  2\n",
      "155.0.181.254:43496  Fetching  https://goodinfo.tw/tw/BasicInfo.asp?STOCK_ID=2945  timeout:  30\n"
     ]
    },
    {
     "name": "stderr",
     "output_type": "stream",
     "text": [
      " 49%|████▉     | 432/881 [8:32:40<10:45:31, 86.26s/it] "
     ]
    },
    {
     "name": "stdout",
     "output_type": "stream",
     "text": [
      "Success\n",
      "47.242.168.144:59394  Fetching  https://goodinfo.tw/tw/BasicInfo.asp?STOCK_ID=3002  timeout:  20\n",
      "retrying:  1\n",
      "47.242.168.144:59394  Fetching  https://goodinfo.tw/tw/BasicInfo.asp?STOCK_ID=3002  timeout:  25\n",
      "retrying:  2\n",
      "47.242.168.144:59394  Fetching  https://goodinfo.tw/tw/BasicInfo.asp?STOCK_ID=3002  timeout:  30\n",
      "retrying:  3\n",
      "47.242.168.144:59394  Fetching  https://goodinfo.tw/tw/BasicInfo.asp?STOCK_ID=3002  timeout:  20\n",
      "retrying:  1\n",
      "47.242.168.144:59394  Fetching  https://goodinfo.tw/tw/BasicInfo.asp?STOCK_ID=3002  timeout:  25\n",
      "retrying:  2\n",
      "47.242.168.144:59394  Fetching  https://goodinfo.tw/tw/BasicInfo.asp?STOCK_ID=3002  timeout:  30\n",
      "retrying:  3\n",
      "185.201.88.128:6969  Fetching  https://goodinfo.tw/tw/BasicInfo.asp?STOCK_ID=3002  timeout:  20\n"
     ]
    },
    {
     "name": "stderr",
     "output_type": "stream",
     "text": [
      " 49%|████▉     | 433/881 [8:35:16<13:21:30, 107.34s/it]"
     ]
    },
    {
     "name": "stdout",
     "output_type": "stream",
     "text": [
      "Success\n",
      "158.101.146.40:59394  Fetching  https://goodinfo.tw/tw/BasicInfo.asp?STOCK_ID=3003  timeout:  20\n",
      "retrying:  1\n",
      "158.101.146.40:59394  Fetching  https://goodinfo.tw/tw/BasicInfo.asp?STOCK_ID=3003  timeout:  25\n",
      "retrying:  2\n",
      "158.101.146.40:59394  Fetching  https://goodinfo.tw/tw/BasicInfo.asp?STOCK_ID=3003  timeout:  30\n",
      "retrying:  3\n",
      "47.242.168.144:59394  Fetching  https://goodinfo.tw/tw/BasicInfo.asp?STOCK_ID=3003  timeout:  20\n",
      "retrying:  1\n",
      "47.242.168.144:59394  Fetching  https://goodinfo.tw/tw/BasicInfo.asp?STOCK_ID=3003  timeout:  25\n",
      "retrying:  2\n",
      "47.242.168.144:59394  Fetching  https://goodinfo.tw/tw/BasicInfo.asp?STOCK_ID=3003  timeout:  30\n",
      "retrying:  3\n",
      "155.0.181.254:43496  Fetching  https://goodinfo.tw/tw/BasicInfo.asp?STOCK_ID=3003  timeout:  20\n",
      "retrying:  1\n",
      "155.0.181.254:43496  Fetching  https://goodinfo.tw/tw/BasicInfo.asp?STOCK_ID=3003  timeout:  25\n",
      "retrying:  2\n",
      "155.0.181.254:43496  Fetching  https://goodinfo.tw/tw/BasicInfo.asp?STOCK_ID=3003  timeout:  30\n",
      "retrying:  3\n",
      "155.0.181.254:43496  Fetching  https://goodinfo.tw/tw/BasicInfo.asp?STOCK_ID=3003  timeout:  20\n"
     ]
    },
    {
     "name": "stderr",
     "output_type": "stream",
     "text": [
      " 49%|████▉     | 434/881 [8:38:55<17:29:42, 140.90s/it]"
     ]
    },
    {
     "name": "stdout",
     "output_type": "stream",
     "text": [
      "Success\n",
      "47.242.168.144:59394  Fetching  https://goodinfo.tw/tw/BasicInfo.asp?STOCK_ID=3004  timeout:  20\n",
      "retrying:  1\n",
      "47.242.168.144:59394  Fetching  https://goodinfo.tw/tw/BasicInfo.asp?STOCK_ID=3004  timeout:  25\n",
      "retrying:  2\n",
      "47.242.168.144:59394  Fetching  https://goodinfo.tw/tw/BasicInfo.asp?STOCK_ID=3004  timeout:  30\n",
      "retrying:  3\n",
      "158.101.146.40:59394  Fetching  https://goodinfo.tw/tw/BasicInfo.asp?STOCK_ID=3004  timeout:  20\n",
      "retrying:  1\n",
      "158.101.146.40:59394  Fetching  https://goodinfo.tw/tw/BasicInfo.asp?STOCK_ID=3004  timeout:  25\n",
      "retrying:  2\n",
      "158.101.146.40:59394  Fetching  https://goodinfo.tw/tw/BasicInfo.asp?STOCK_ID=3004  timeout:  30\n",
      "retrying:  3\n",
      "200.105.215.18:33630  Fetching  https://goodinfo.tw/tw/BasicInfo.asp?STOCK_ID=3004  timeout:  20\n"
     ]
    },
    {
     "name": "stderr",
     "output_type": "stream",
     "text": [
      " 49%|████▉     | 435/881 [8:41:31<18:00:19, 145.34s/it]"
     ]
    },
    {
     "name": "stdout",
     "output_type": "stream",
     "text": [
      "Success\n",
      "47.242.168.144:59394  Fetching  https://goodinfo.tw/tw/BasicInfo.asp?STOCK_ID=3005  timeout:  20\n",
      "retrying:  1\n",
      "47.242.168.144:59394  Fetching  https://goodinfo.tw/tw/BasicInfo.asp?STOCK_ID=3005  timeout:  25\n",
      "retrying:  2\n",
      "47.242.168.144:59394  Fetching  https://goodinfo.tw/tw/BasicInfo.asp?STOCK_ID=3005  timeout:  30\n",
      "retrying:  3\n",
      "158.101.146.40:59394  Fetching  https://goodinfo.tw/tw/BasicInfo.asp?STOCK_ID=3005  timeout:  20\n",
      "retrying:  1\n",
      "158.101.146.40:59394  Fetching  https://goodinfo.tw/tw/BasicInfo.asp?STOCK_ID=3005  timeout:  25\n",
      "retrying:  2\n",
      "158.101.146.40:59394  Fetching  https://goodinfo.tw/tw/BasicInfo.asp?STOCK_ID=3005  timeout:  30\n",
      "retrying:  3\n",
      "155.0.181.254:43496  Fetching  https://goodinfo.tw/tw/BasicInfo.asp?STOCK_ID=3005  timeout:  20\n"
     ]
    },
    {
     "name": "stderr",
     "output_type": "stream",
     "text": [
      " 49%|████▉     | 436/881 [8:44:07<18:21:13, 148.48s/it]"
     ]
    },
    {
     "name": "stdout",
     "output_type": "stream",
     "text": [
      "Success\n",
      "200.105.215.18:33630  Fetching  https://goodinfo.tw/tw/BasicInfo.asp?STOCK_ID=3006  timeout:  20\n"
     ]
    },
    {
     "name": "stderr",
     "output_type": "stream",
     "text": [
      " 50%|████▉     | 437/881 [8:44:23<13:23:37, 108.60s/it]"
     ]
    },
    {
     "name": "stdout",
     "output_type": "stream",
     "text": [
      "Success\n",
      "155.0.181.254:43496  Fetching  https://goodinfo.tw/tw/BasicInfo.asp?STOCK_ID=3008  timeout:  20\n",
      "retrying:  1\n",
      "155.0.181.254:43496  Fetching  https://goodinfo.tw/tw/BasicInfo.asp?STOCK_ID=3008  timeout:  25\n",
      "retrying:  2\n",
      "155.0.181.254:43496  Fetching  https://goodinfo.tw/tw/BasicInfo.asp?STOCK_ID=3008  timeout:  30\n",
      "retrying:  3\n",
      "185.201.88.128:6969  Fetching  https://goodinfo.tw/tw/BasicInfo.asp?STOCK_ID=3008  timeout:  20\n",
      "retrying:  1\n",
      "185.201.88.128:6969  Fetching  https://goodinfo.tw/tw/BasicInfo.asp?STOCK_ID=3008  timeout:  25\n",
      "retrying:  2\n",
      "185.201.88.128:6969  Fetching  https://goodinfo.tw/tw/BasicInfo.asp?STOCK_ID=3008  timeout:  30\n",
      "retrying:  3\n",
      "155.0.181.254:43496  Fetching  https://goodinfo.tw/tw/BasicInfo.asp?STOCK_ID=3008  timeout:  20\n"
     ]
    },
    {
     "name": "stderr",
     "output_type": "stream",
     "text": [
      " 50%|████▉     | 438/881 [8:46:59<15:07:40, 122.93s/it]"
     ]
    },
    {
     "name": "stdout",
     "output_type": "stream",
     "text": [
      "Success\n",
      "200.105.215.18:33630  Fetching  https://goodinfo.tw/tw/BasicInfo.asp?STOCK_ID=3010  timeout:  20\n"
     ]
    },
    {
     "name": "stderr",
     "output_type": "stream",
     "text": [
      " 50%|████▉     | 439/881 [8:47:07<10:51:52, 88.49s/it] "
     ]
    },
    {
     "name": "stdout",
     "output_type": "stream",
     "text": [
      "Success\n",
      "200.105.215.18:33630  Fetching  https://goodinfo.tw/tw/BasicInfo.asp?STOCK_ID=3011  timeout:  20\n"
     ]
    },
    {
     "name": "stderr",
     "output_type": "stream",
     "text": [
      " 50%|████▉     | 440/881 [8:47:15<7:51:58, 64.21s/it] "
     ]
    },
    {
     "name": "stdout",
     "output_type": "stream",
     "text": [
      "Success\n",
      "200.105.215.18:33630  Fetching  https://goodinfo.tw/tw/BasicInfo.asp?STOCK_ID=3013  timeout:  20\n"
     ]
    },
    {
     "name": "stderr",
     "output_type": "stream",
     "text": [
      " 50%|█████     | 441/881 [8:47:22<5:45:52, 47.17s/it]"
     ]
    },
    {
     "name": "stdout",
     "output_type": "stream",
     "text": [
      "Success\n",
      "47.242.168.144:59394  Fetching  https://goodinfo.tw/tw/BasicInfo.asp?STOCK_ID=3014  timeout:  20\n",
      "retrying:  1\n",
      "47.242.168.144:59394  Fetching  https://goodinfo.tw/tw/BasicInfo.asp?STOCK_ID=3014  timeout:  25\n",
      "retrying:  2\n",
      "47.242.168.144:59394  Fetching  https://goodinfo.tw/tw/BasicInfo.asp?STOCK_ID=3014  timeout:  30\n",
      "retrying:  3\n",
      "200.105.215.18:33630  Fetching  https://goodinfo.tw/tw/BasicInfo.asp?STOCK_ID=3014  timeout:  20\n",
      "retrying:  1\n",
      "200.105.215.18:33630  Fetching  https://goodinfo.tw/tw/BasicInfo.asp?STOCK_ID=3014  timeout:  25\n"
     ]
    },
    {
     "name": "stderr",
     "output_type": "stream",
     "text": [
      " 50%|█████     | 442/881 [8:49:03<7:42:42, 63.24s/it]"
     ]
    },
    {
     "name": "stdout",
     "output_type": "stream",
     "text": [
      "Success\n",
      "47.242.168.144:59394  Fetching  https://goodinfo.tw/tw/BasicInfo.asp?STOCK_ID=3015  timeout:  20\n",
      "retrying:  1\n",
      "47.242.168.144:59394  Fetching  https://goodinfo.tw/tw/BasicInfo.asp?STOCK_ID=3015  timeout:  25\n",
      "retrying:  2\n",
      "47.242.168.144:59394  Fetching  https://goodinfo.tw/tw/BasicInfo.asp?STOCK_ID=3015  timeout:  30\n",
      "retrying:  3\n",
      "185.201.88.128:6969  Fetching  https://goodinfo.tw/tw/BasicInfo.asp?STOCK_ID=3015  timeout:  20\n"
     ]
    },
    {
     "name": "stderr",
     "output_type": "stream",
     "text": [
      " 50%|█████     | 443/881 [8:50:24<8:20:45, 68.60s/it]"
     ]
    },
    {
     "name": "stdout",
     "output_type": "stream",
     "text": [
      "Success\n",
      "185.201.88.128:6969  Fetching  https://goodinfo.tw/tw/BasicInfo.asp?STOCK_ID=3016  timeout:  20\n",
      "retrying:  1\n",
      "185.201.88.128:6969  Fetching  https://goodinfo.tw/tw/BasicInfo.asp?STOCK_ID=3016  timeout:  25\n",
      "retrying:  2\n",
      "185.201.88.128:6969  Fetching  https://goodinfo.tw/tw/BasicInfo.asp?STOCK_ID=3016  timeout:  30\n"
     ]
    },
    {
     "name": "stderr",
     "output_type": "stream",
     "text": [
      " 50%|█████     | 444/881 [8:51:29<8:13:06, 67.70s/it]"
     ]
    },
    {
     "name": "stdout",
     "output_type": "stream",
     "text": [
      "Success\n",
      "185.201.88.128:6969  Fetching  https://goodinfo.tw/tw/BasicInfo.asp?STOCK_ID=3017  timeout:  20\n",
      "retrying:  1\n",
      "185.201.88.128:6969  Fetching  https://goodinfo.tw/tw/BasicInfo.asp?STOCK_ID=3017  timeout:  25\n",
      "retrying:  2\n",
      "185.201.88.128:6969  Fetching  https://goodinfo.tw/tw/BasicInfo.asp?STOCK_ID=3017  timeout:  30\n"
     ]
    },
    {
     "name": "stderr",
     "output_type": "stream",
     "text": [
      " 51%|█████     | 445/881 [8:52:27<7:50:37, 64.76s/it]"
     ]
    },
    {
     "name": "stdout",
     "output_type": "stream",
     "text": [
      "Success\n",
      "155.0.181.254:43496  Fetching  https://goodinfo.tw/tw/BasicInfo.asp?STOCK_ID=3018  timeout:  20\n",
      "retrying:  1\n",
      "155.0.181.254:43496  Fetching  https://goodinfo.tw/tw/BasicInfo.asp?STOCK_ID=3018  timeout:  25\n",
      "retrying:  2\n",
      "155.0.181.254:43496  Fetching  https://goodinfo.tw/tw/BasicInfo.asp?STOCK_ID=3018  timeout:  30\n"
     ]
    },
    {
     "name": "stderr",
     "output_type": "stream",
     "text": [
      " 51%|█████     | 446/881 [8:53:09<7:00:07, 57.95s/it]"
     ]
    },
    {
     "name": "stdout",
     "output_type": "stream",
     "text": [
      "Success\n",
      "200.105.215.18:33630  Fetching  https://goodinfo.tw/tw/BasicInfo.asp?STOCK_ID=3019  timeout:  20\n"
     ]
    },
    {
     "name": "stderr",
     "output_type": "stream",
     "text": [
      " 51%|█████     | 447/881 [8:53:18<5:12:00, 43.14s/it]"
     ]
    },
    {
     "name": "stdout",
     "output_type": "stream",
     "text": [
      "Success\n",
      "200.105.215.18:33630  Fetching  https://goodinfo.tw/tw/BasicInfo.asp?STOCK_ID=3021  timeout:  20\n",
      "retrying:  1\n",
      "200.105.215.18:33630  Fetching  https://goodinfo.tw/tw/BasicInfo.asp?STOCK_ID=3021  timeout:  25\n",
      "retrying:  2\n",
      "200.105.215.18:33630  Fetching  https://goodinfo.tw/tw/BasicInfo.asp?STOCK_ID=3021  timeout:  30\n",
      "retrying:  3\n",
      "155.0.181.254:43496  Fetching  https://goodinfo.tw/tw/BasicInfo.asp?STOCK_ID=3021  timeout:  20\n",
      "retrying:  1\n",
      "155.0.181.254:43496  Fetching  https://goodinfo.tw/tw/BasicInfo.asp?STOCK_ID=3021  timeout:  25\n",
      "retrying:  2\n",
      "155.0.181.254:43496  Fetching  https://goodinfo.tw/tw/BasicInfo.asp?STOCK_ID=3021  timeout:  30\n",
      "retrying:  3\n",
      "158.101.146.40:59394  Fetching  https://goodinfo.tw/tw/BasicInfo.asp?STOCK_ID=3021  timeout:  20\n",
      "retrying:  1\n",
      "158.101.146.40:59394  Fetching  https://goodinfo.tw/tw/BasicInfo.asp?STOCK_ID=3021  timeout:  25\n",
      "retrying:  2\n",
      "158.101.146.40:59394  Fetching  https://goodinfo.tw/tw/BasicInfo.asp?STOCK_ID=3021  timeout:  30\n",
      "retrying:  3\n",
      "158.101.146.40:59394  Fetching  https://goodinfo.tw/tw/BasicInfo.asp?STOCK_ID=3021  timeout:  20\n",
      "retrying:  1\n",
      "158.101.146.40:59394  Fetching  https://goodinfo.tw/tw/BasicInfo.asp?STOCK_ID=3021  timeout:  25\n",
      "retrying:  2\n",
      "158.101.146.40:59394  Fetching  https://goodinfo.tw/tw/BasicInfo.asp?STOCK_ID=3021  timeout:  30\n",
      "retrying:  3\n",
      "47.242.168.144:59394  Fetching  https://goodinfo.tw/tw/BasicInfo.asp?STOCK_ID=3021  timeout:  20\n",
      "retrying:  1\n",
      "47.242.168.144:59394  Fetching  https://goodinfo.tw/tw/BasicInfo.asp?STOCK_ID=3021  timeout:  25\n",
      "retrying:  2\n",
      "47.242.168.144:59394  Fetching  https://goodinfo.tw/tw/BasicInfo.asp?STOCK_ID=3021  timeout:  30\n"
     ]
    },
    {
     "name": "stderr",
     "output_type": "stream",
     "text": [
      " 51%|█████     | 448/881 [8:59:21<16:43:32, 139.06s/it]"
     ]
    },
    {
     "name": "stdout",
     "output_type": "stream",
     "text": [
      "retrying:  3\n",
      "185.201.88.128:6969  Fetching  https://goodinfo.tw/tw/BasicInfo.asp?STOCK_ID=3022  timeout:  20\n",
      "retrying:  1\n",
      "185.201.88.128:6969  Fetching  https://goodinfo.tw/tw/BasicInfo.asp?STOCK_ID=3022  timeout:  25\n",
      "retrying:  2\n",
      "185.201.88.128:6969  Fetching  https://goodinfo.tw/tw/BasicInfo.asp?STOCK_ID=3022  timeout:  30\n",
      "retrying:  3\n",
      "155.0.181.254:43496  Fetching  https://goodinfo.tw/tw/BasicInfo.asp?STOCK_ID=3022  timeout:  20\n",
      "retrying:  1\n",
      "155.0.181.254:43496  Fetching  https://goodinfo.tw/tw/BasicInfo.asp?STOCK_ID=3022  timeout:  25\n",
      "retrying:  2\n",
      "155.0.181.254:43496  Fetching  https://goodinfo.tw/tw/BasicInfo.asp?STOCK_ID=3022  timeout:  30\n"
     ]
    },
    {
     "name": "stderr",
     "output_type": "stream",
     "text": [
      " 51%|█████     | 449/881 [9:01:31<16:22:55, 136.52s/it]"
     ]
    },
    {
     "name": "stdout",
     "output_type": "stream",
     "text": [
      "Success\n",
      "47.242.168.144:59394  Fetching  https://goodinfo.tw/tw/BasicInfo.asp?STOCK_ID=3023  timeout:  20\n",
      "retrying:  1\n",
      "47.242.168.144:59394  Fetching  https://goodinfo.tw/tw/BasicInfo.asp?STOCK_ID=3023  timeout:  25\n",
      "retrying:  2\n",
      "47.242.168.144:59394  Fetching  https://goodinfo.tw/tw/BasicInfo.asp?STOCK_ID=3023  timeout:  30\n",
      "retrying:  3\n",
      "47.242.168.144:59394  Fetching  https://goodinfo.tw/tw/BasicInfo.asp?STOCK_ID=3023  timeout:  20\n",
      "retrying:  1\n",
      "47.242.168.144:59394  Fetching  https://goodinfo.tw/tw/BasicInfo.asp?STOCK_ID=3023  timeout:  25\n",
      "retrying:  2\n",
      "47.242.168.144:59394  Fetching  https://goodinfo.tw/tw/BasicInfo.asp?STOCK_ID=3023  timeout:  30\n",
      "retrying:  3\n",
      "185.201.88.128:6969  Fetching  https://goodinfo.tw/tw/BasicInfo.asp?STOCK_ID=3023  timeout:  20\n"
     ]
    },
    {
     "name": "stderr",
     "output_type": "stream",
     "text": [
      " 51%|█████     | 450/881 [9:04:07<17:01:04, 142.15s/it]"
     ]
    },
    {
     "name": "stdout",
     "output_type": "stream",
     "text": [
      "Success\n",
      "158.101.146.40:59394  Fetching  https://goodinfo.tw/tw/BasicInfo.asp?STOCK_ID=3024  timeout:  20\n",
      "retrying:  1\n",
      "158.101.146.40:59394  Fetching  https://goodinfo.tw/tw/BasicInfo.asp?STOCK_ID=3024  timeout:  25\n",
      "retrying:  2\n",
      "158.101.146.40:59394  Fetching  https://goodinfo.tw/tw/BasicInfo.asp?STOCK_ID=3024  timeout:  30\n",
      "retrying:  3\n",
      "47.242.168.144:59394  Fetching  https://goodinfo.tw/tw/BasicInfo.asp?STOCK_ID=3024  timeout:  20\n",
      "retrying:  1\n",
      "47.242.168.144:59394  Fetching  https://goodinfo.tw/tw/BasicInfo.asp?STOCK_ID=3024  timeout:  25\n",
      "retrying:  2\n",
      "47.242.168.144:59394  Fetching  https://goodinfo.tw/tw/BasicInfo.asp?STOCK_ID=3024  timeout:  30\n",
      "retrying:  3\n",
      "47.242.168.144:59394  Fetching  https://goodinfo.tw/tw/BasicInfo.asp?STOCK_ID=3024  timeout:  20\n",
      "retrying:  1\n",
      "47.242.168.144:59394  Fetching  https://goodinfo.tw/tw/BasicInfo.asp?STOCK_ID=3024  timeout:  25\n",
      "retrying:  2\n",
      "47.242.168.144:59394  Fetching  https://goodinfo.tw/tw/BasicInfo.asp?STOCK_ID=3024  timeout:  30\n",
      "retrying:  3\n",
      "185.201.88.128:6969  Fetching  https://goodinfo.tw/tw/BasicInfo.asp?STOCK_ID=3024  timeout:  20\n",
      "retrying:  1\n",
      "185.201.88.128:6969  Fetching  https://goodinfo.tw/tw/BasicInfo.asp?STOCK_ID=3024  timeout:  25\n",
      "retrying:  2\n",
      "185.201.88.128:6969  Fetching  https://goodinfo.tw/tw/BasicInfo.asp?STOCK_ID=3024  timeout:  30\n",
      "retrying:  3\n",
      "185.201.88.128:6969  Fetching  https://goodinfo.tw/tw/BasicInfo.asp?STOCK_ID=3024  timeout:  20\n"
     ]
    },
    {
     "name": "stderr",
     "output_type": "stream",
     "text": [
      " 51%|█████     | 451/881 [9:09:20<23:05:43, 193.36s/it]"
     ]
    },
    {
     "name": "stdout",
     "output_type": "stream",
     "text": [
      "Success\n",
      "155.0.181.254:43496  Fetching  https://goodinfo.tw/tw/BasicInfo.asp?STOCK_ID=3025  timeout:  20\n"
     ]
    },
    {
     "name": "stderr",
     "output_type": "stream",
     "text": [
      " 51%|█████▏    | 452/881 [9:09:58<17:30:59, 146.99s/it]"
     ]
    },
    {
     "name": "stdout",
     "output_type": "stream",
     "text": [
      "Success\n",
      "155.0.181.254:43496  Fetching  https://goodinfo.tw/tw/BasicInfo.asp?STOCK_ID=3026  timeout:  20\n",
      "retrying:  1\n",
      "155.0.181.254:43496  Fetching  https://goodinfo.tw/tw/BasicInfo.asp?STOCK_ID=3026  timeout:  25\n",
      "retrying:  2\n",
      "155.0.181.254:43496  Fetching  https://goodinfo.tw/tw/BasicInfo.asp?STOCK_ID=3026  timeout:  30\n",
      "retrying:  3\n",
      "155.0.181.254:43496  Fetching  https://goodinfo.tw/tw/BasicInfo.asp?STOCK_ID=3026  timeout:  20\n",
      "retrying:  1\n",
      "155.0.181.254:43496  Fetching  https://goodinfo.tw/tw/BasicInfo.asp?STOCK_ID=3026  timeout:  25\n",
      "retrying:  2\n",
      "155.0.181.254:43496  Fetching  https://goodinfo.tw/tw/BasicInfo.asp?STOCK_ID=3026  timeout:  30\n",
      "retrying:  3\n",
      "200.105.215.18:33630  Fetching  https://goodinfo.tw/tw/BasicInfo.asp?STOCK_ID=3026  timeout:  20\n"
     ]
    },
    {
     "name": "stderr",
     "output_type": "stream",
     "text": [
      " 51%|█████▏    | 453/881 [9:12:35<17:49:52, 149.98s/it]"
     ]
    },
    {
     "name": "stdout",
     "output_type": "stream",
     "text": [
      "Success\n",
      "158.101.146.40:59394  Fetching  https://goodinfo.tw/tw/BasicInfo.asp?STOCK_ID=3027  timeout:  20\n",
      "retrying:  1\n",
      "158.101.146.40:59394  Fetching  https://goodinfo.tw/tw/BasicInfo.asp?STOCK_ID=3027  timeout:  25\n",
      "retrying:  2\n",
      "158.101.146.40:59394  Fetching  https://goodinfo.tw/tw/BasicInfo.asp?STOCK_ID=3027  timeout:  30\n",
      "retrying:  3\n",
      "158.101.146.40:59394  Fetching  https://goodinfo.tw/tw/BasicInfo.asp?STOCK_ID=3027  timeout:  20\n",
      "retrying:  1\n",
      "158.101.146.40:59394  Fetching  https://goodinfo.tw/tw/BasicInfo.asp?STOCK_ID=3027  timeout:  25\n",
      "retrying:  2\n",
      "158.101.146.40:59394  Fetching  https://goodinfo.tw/tw/BasicInfo.asp?STOCK_ID=3027  timeout:  30\n",
      "retrying:  3\n",
      "158.101.146.40:59394  Fetching  https://goodinfo.tw/tw/BasicInfo.asp?STOCK_ID=3027  timeout:  20\n",
      "retrying:  1\n",
      "158.101.146.40:59394  Fetching  https://goodinfo.tw/tw/BasicInfo.asp?STOCK_ID=3027  timeout:  25\n",
      "retrying:  2\n",
      "158.101.146.40:59394  Fetching  https://goodinfo.tw/tw/BasicInfo.asp?STOCK_ID=3027  timeout:  30\n",
      "retrying:  3\n",
      "155.0.181.254:43496  Fetching  https://goodinfo.tw/tw/BasicInfo.asp?STOCK_ID=3027  timeout:  20\n"
     ]
    },
    {
     "name": "stderr",
     "output_type": "stream",
     "text": [
      " 52%|█████▏    | 454/881 [9:16:29<20:46:01, 175.08s/it]"
     ]
    },
    {
     "name": "stdout",
     "output_type": "stream",
     "text": [
      "Success\n",
      "158.101.146.40:59394  Fetching  https://goodinfo.tw/tw/BasicInfo.asp?STOCK_ID=3028  timeout:  20\n",
      "retrying:  1\n",
      "158.101.146.40:59394  Fetching  https://goodinfo.tw/tw/BasicInfo.asp?STOCK_ID=3028  timeout:  25\n",
      "retrying:  2\n",
      "158.101.146.40:59394  Fetching  https://goodinfo.tw/tw/BasicInfo.asp?STOCK_ID=3028  timeout:  30\n",
      "retrying:  3\n",
      "185.201.88.128:6969  Fetching  https://goodinfo.tw/tw/BasicInfo.asp?STOCK_ID=3028  timeout:  20\n",
      "retrying:  1\n",
      "185.201.88.128:6969  Fetching  https://goodinfo.tw/tw/BasicInfo.asp?STOCK_ID=3028  timeout:  25\n"
     ]
    },
    {
     "name": "stderr",
     "output_type": "stream",
     "text": [
      " 52%|█████▏    | 455/881 [9:18:10<18:06:11, 152.99s/it]"
     ]
    },
    {
     "name": "stdout",
     "output_type": "stream",
     "text": [
      "Success\n",
      "185.201.88.128:6969  Fetching  https://goodinfo.tw/tw/BasicInfo.asp?STOCK_ID=3029  timeout:  20\n"
     ]
    },
    {
     "name": "stderr",
     "output_type": "stream",
     "text": [
      " 52%|█████▏    | 456/881 [9:18:16<12:51:09, 108.87s/it]"
     ]
    },
    {
     "name": "stdout",
     "output_type": "stream",
     "text": [
      "Success\n",
      "158.101.146.40:59394  Fetching  https://goodinfo.tw/tw/BasicInfo.asp?STOCK_ID=3030  timeout:  20\n",
      "retrying:  1\n",
      "158.101.146.40:59394  Fetching  https://goodinfo.tw/tw/BasicInfo.asp?STOCK_ID=3030  timeout:  25\n",
      "retrying:  2\n",
      "158.101.146.40:59394  Fetching  https://goodinfo.tw/tw/BasicInfo.asp?STOCK_ID=3030  timeout:  30\n",
      "retrying:  3\n",
      "185.201.88.128:6969  Fetching  https://goodinfo.tw/tw/BasicInfo.asp?STOCK_ID=3030  timeout:  20\n",
      "retrying:  1\n",
      "185.201.88.128:6969  Fetching  https://goodinfo.tw/tw/BasicInfo.asp?STOCK_ID=3030  timeout:  25\n"
     ]
    },
    {
     "name": "stderr",
     "output_type": "stream",
     "text": [
      " 52%|█████▏    | 457/881 [9:19:58<12:33:13, 106.59s/it]"
     ]
    },
    {
     "name": "stdout",
     "output_type": "stream",
     "text": [
      "Success\n",
      "185.201.88.128:6969  Fetching  https://goodinfo.tw/tw/BasicInfo.asp?STOCK_ID=3031  timeout:  20\n",
      "retrying:  1\n",
      "185.201.88.128:6969  Fetching  https://goodinfo.tw/tw/BasicInfo.asp?STOCK_ID=3031  timeout:  25\n",
      "retrying:  2\n",
      "185.201.88.128:6969  Fetching  https://goodinfo.tw/tw/BasicInfo.asp?STOCK_ID=3031  timeout:  30\n"
     ]
    },
    {
     "name": "stderr",
     "output_type": "stream",
     "text": [
      " 52%|█████▏    | 458/881 [9:20:49<10:34:48, 90.04s/it] "
     ]
    },
    {
     "name": "stdout",
     "output_type": "stream",
     "text": [
      "Success\n",
      "47.242.168.144:59394  Fetching  https://goodinfo.tw/tw/BasicInfo.asp?STOCK_ID=3032  timeout:  20\n",
      "retrying:  1\n",
      "47.242.168.144:59394  Fetching  https://goodinfo.tw/tw/BasicInfo.asp?STOCK_ID=3032  timeout:  25\n",
      "retrying:  2\n",
      "47.242.168.144:59394  Fetching  https://goodinfo.tw/tw/BasicInfo.asp?STOCK_ID=3032  timeout:  30\n",
      "retrying:  3\n",
      "47.242.168.144:59394  Fetching  https://goodinfo.tw/tw/BasicInfo.asp?STOCK_ID=3032  timeout:  20\n",
      "retrying:  1\n",
      "47.242.168.144:59394  Fetching  https://goodinfo.tw/tw/BasicInfo.asp?STOCK_ID=3032  timeout:  25\n",
      "retrying:  2\n",
      "47.242.168.144:59394  Fetching  https://goodinfo.tw/tw/BasicInfo.asp?STOCK_ID=3032  timeout:  30\n",
      "retrying:  3\n",
      "158.101.146.40:59394  Fetching  https://goodinfo.tw/tw/BasicInfo.asp?STOCK_ID=3032  timeout:  20\n",
      "retrying:  1\n",
      "158.101.146.40:59394  Fetching  https://goodinfo.tw/tw/BasicInfo.asp?STOCK_ID=3032  timeout:  25\n",
      "retrying:  2\n",
      "158.101.146.40:59394  Fetching  https://goodinfo.tw/tw/BasicInfo.asp?STOCK_ID=3032  timeout:  30\n",
      "retrying:  3\n",
      "200.105.215.18:33630  Fetching  https://goodinfo.tw/tw/BasicInfo.asp?STOCK_ID=3032  timeout:  20\n"
     ]
    },
    {
     "name": "stderr",
     "output_type": "stream",
     "text": [
      " 52%|█████▏    | 459/881 [9:24:41<15:32:50, 132.63s/it]"
     ]
    },
    {
     "name": "stdout",
     "output_type": "stream",
     "text": [
      "Success\n",
      "200.105.215.18:33630  Fetching  https://goodinfo.tw/tw/BasicInfo.asp?STOCK_ID=3033  timeout:  20\n"
     ]
    },
    {
     "name": "stderr",
     "output_type": "stream",
     "text": [
      " 52%|█████▏    | 460/881 [9:24:47<11:04:12, 94.66s/it] "
     ]
    },
    {
     "name": "stdout",
     "output_type": "stream",
     "text": [
      "Success\n",
      "200.105.215.18:33630  Fetching  https://goodinfo.tw/tw/BasicInfo.asp?STOCK_ID=3034  timeout:  20\n"
     ]
    },
    {
     "name": "stderr",
     "output_type": "stream",
     "text": [
      " 52%|█████▏    | 461/881 [9:24:56<8:02:31, 68.93s/it] "
     ]
    },
    {
     "name": "stdout",
     "output_type": "stream",
     "text": [
      "Success\n",
      "155.0.181.254:43496  Fetching  https://goodinfo.tw/tw/BasicInfo.asp?STOCK_ID=3035  timeout:  20\n",
      "retrying:  1\n",
      "155.0.181.254:43496  Fetching  https://goodinfo.tw/tw/BasicInfo.asp?STOCK_ID=3035  timeout:  25\n",
      "retrying:  2\n",
      "155.0.181.254:43496  Fetching  https://goodinfo.tw/tw/BasicInfo.asp?STOCK_ID=3035  timeout:  30\n",
      "retrying:  3\n",
      "185.201.88.128:6969  Fetching  https://goodinfo.tw/tw/BasicInfo.asp?STOCK_ID=3035  timeout:  20\n"
     ]
    },
    {
     "name": "stderr",
     "output_type": "stream",
     "text": [
      " 52%|█████▏    | 462/881 [9:26:15<8:22:41, 71.98s/it]"
     ]
    },
    {
     "name": "stdout",
     "output_type": "stream",
     "text": [
      "Success\n",
      "158.101.146.40:59394  Fetching  https://goodinfo.tw/tw/BasicInfo.asp?STOCK_ID=3036  timeout:  20\n",
      "retrying:  1\n",
      "158.101.146.40:59394  Fetching  https://goodinfo.tw/tw/BasicInfo.asp?STOCK_ID=3036  timeout:  25\n",
      "retrying:  2\n",
      "158.101.146.40:59394  Fetching  https://goodinfo.tw/tw/BasicInfo.asp?STOCK_ID=3036  timeout:  30\n",
      "retrying:  3\n",
      "158.101.146.40:59394  Fetching  https://goodinfo.tw/tw/BasicInfo.asp?STOCK_ID=3036  timeout:  20\n",
      "retrying:  1\n",
      "158.101.146.40:59394  Fetching  https://goodinfo.tw/tw/BasicInfo.asp?STOCK_ID=3036  timeout:  25\n",
      "retrying:  2\n",
      "158.101.146.40:59394  Fetching  https://goodinfo.tw/tw/BasicInfo.asp?STOCK_ID=3036  timeout:  30\n",
      "retrying:  3\n",
      "155.0.181.254:43496  Fetching  https://goodinfo.tw/tw/BasicInfo.asp?STOCK_ID=3036  timeout:  20\n"
     ]
    },
    {
     "name": "stderr",
     "output_type": "stream",
     "text": [
      " 53%|█████▎    | 463/881 [9:28:58<11:32:23, 99.39s/it]"
     ]
    },
    {
     "name": "stdout",
     "output_type": "stream",
     "text": [
      "Success\n",
      "155.0.181.254:43496  Fetching  https://goodinfo.tw/tw/BasicInfo.asp?STOCK_ID=3037  timeout:  20\n"
     ]
    },
    {
     "name": "stderr",
     "output_type": "stream",
     "text": [
      " 53%|█████▎    | 464/881 [9:29:06<8:18:49, 71.77s/it] "
     ]
    },
    {
     "name": "stdout",
     "output_type": "stream",
     "text": [
      "Success\n",
      "200.105.215.18:33630  Fetching  https://goodinfo.tw/tw/BasicInfo.asp?STOCK_ID=3038  timeout:  20\n",
      "retrying:  1\n",
      "200.105.215.18:33630  Fetching  https://goodinfo.tw/tw/BasicInfo.asp?STOCK_ID=3038  timeout:  25\n"
     ]
    },
    {
     "name": "stderr",
     "output_type": "stream",
     "text": [
      " 53%|█████▎    | 465/881 [9:29:31<6:41:44, 57.94s/it]"
     ]
    },
    {
     "name": "stdout",
     "output_type": "stream",
     "text": [
      "Success\n",
      "47.242.168.144:59394  Fetching  https://goodinfo.tw/tw/BasicInfo.asp?STOCK_ID=3040  timeout:  20\n",
      "retrying:  1\n",
      "47.242.168.144:59394  Fetching  https://goodinfo.tw/tw/BasicInfo.asp?STOCK_ID=3040  timeout:  25\n",
      "retrying:  2\n",
      "47.242.168.144:59394  Fetching  https://goodinfo.tw/tw/BasicInfo.asp?STOCK_ID=3040  timeout:  30\n",
      "retrying:  3\n",
      "47.242.168.144:59394  Fetching  https://goodinfo.tw/tw/BasicInfo.asp?STOCK_ID=3040  timeout:  20\n",
      "retrying:  1\n",
      "47.242.168.144:59394  Fetching  https://goodinfo.tw/tw/BasicInfo.asp?STOCK_ID=3040  timeout:  25\n",
      "retrying:  2\n",
      "47.242.168.144:59394  Fetching  https://goodinfo.tw/tw/BasicInfo.asp?STOCK_ID=3040  timeout:  30\n",
      "retrying:  3\n",
      "155.0.181.254:43496  Fetching  https://goodinfo.tw/tw/BasicInfo.asp?STOCK_ID=3040  timeout:  20\n"
     ]
    },
    {
     "name": "stderr",
     "output_type": "stream",
     "text": [
      " 53%|█████▎    | 466/881 [9:32:12<10:12:46, 88.59s/it]"
     ]
    },
    {
     "name": "stdout",
     "output_type": "stream",
     "text": [
      "Success\n",
      "155.0.181.254:43496  Fetching  https://goodinfo.tw/tw/BasicInfo.asp?STOCK_ID=3041  timeout:  20\n",
      "retrying:  1\n",
      "155.0.181.254:43496  Fetching  https://goodinfo.tw/tw/BasicInfo.asp?STOCK_ID=3041  timeout:  25\n",
      "retrying:  2\n",
      "155.0.181.254:43496  Fetching  https://goodinfo.tw/tw/BasicInfo.asp?STOCK_ID=3041  timeout:  30\n",
      "retrying:  3\n",
      "200.105.215.18:33630  Fetching  https://goodinfo.tw/tw/BasicInfo.asp?STOCK_ID=3041  timeout:  20\n",
      "retrying:  1\n",
      "200.105.215.18:33630  Fetching  https://goodinfo.tw/tw/BasicInfo.asp?STOCK_ID=3041  timeout:  25\n"
     ]
    },
    {
     "name": "stderr",
     "output_type": "stream",
     "text": [
      " 53%|█████▎    | 467/881 [9:34:01<10:54:17, 94.82s/it]"
     ]
    },
    {
     "name": "stdout",
     "output_type": "stream",
     "text": [
      "Success\n",
      "185.201.88.128:6969  Fetching  https://goodinfo.tw/tw/BasicInfo.asp?STOCK_ID=3042  timeout:  20\n",
      "retrying:  1\n",
      "185.201.88.128:6969  Fetching  https://goodinfo.tw/tw/BasicInfo.asp?STOCK_ID=3042  timeout:  25\n",
      "retrying:  2\n",
      "185.201.88.128:6969  Fetching  https://goodinfo.tw/tw/BasicInfo.asp?STOCK_ID=3042  timeout:  30\n",
      "retrying:  3\n",
      "185.201.88.128:6969  Fetching  https://goodinfo.tw/tw/BasicInfo.asp?STOCK_ID=3042  timeout:  20\n",
      "retrying:  1\n",
      "185.201.88.128:6969  Fetching  https://goodinfo.tw/tw/BasicInfo.asp?STOCK_ID=3042  timeout:  25\n"
     ]
    },
    {
     "name": "stderr",
     "output_type": "stream",
     "text": [
      " 53%|█████▎    | 468/881 [9:35:41<11:03:16, 96.36s/it]"
     ]
    },
    {
     "name": "stdout",
     "output_type": "stream",
     "text": [
      "Success\n",
      "47.242.168.144:59394  Fetching  https://goodinfo.tw/tw/BasicInfo.asp?STOCK_ID=3043  timeout:  20\n",
      "retrying:  1\n",
      "47.242.168.144:59394  Fetching  https://goodinfo.tw/tw/BasicInfo.asp?STOCK_ID=3043  timeout:  25\n",
      "retrying:  2\n",
      "47.242.168.144:59394  Fetching  https://goodinfo.tw/tw/BasicInfo.asp?STOCK_ID=3043  timeout:  30\n",
      "retrying:  3\n",
      "200.105.215.18:33630  Fetching  https://goodinfo.tw/tw/BasicInfo.asp?STOCK_ID=3043  timeout:  20\n"
     ]
    },
    {
     "name": "stderr",
     "output_type": "stream",
     "text": [
      " 53%|█████▎    | 469/881 [9:37:03<10:32:48, 92.16s/it]"
     ]
    },
    {
     "name": "stdout",
     "output_type": "stream",
     "text": [
      "Success\n",
      "47.242.168.144:59394  Fetching  https://goodinfo.tw/tw/BasicInfo.asp?STOCK_ID=3044  timeout:  20\n",
      "retrying:  1\n",
      "47.242.168.144:59394  Fetching  https://goodinfo.tw/tw/BasicInfo.asp?STOCK_ID=3044  timeout:  25\n",
      "retrying:  2\n",
      "47.242.168.144:59394  Fetching  https://goodinfo.tw/tw/BasicInfo.asp?STOCK_ID=3044  timeout:  30\n",
      "retrying:  3\n",
      "47.242.168.144:59394  Fetching  https://goodinfo.tw/tw/BasicInfo.asp?STOCK_ID=3044  timeout:  20\n",
      "retrying:  1\n",
      "47.242.168.144:59394  Fetching  https://goodinfo.tw/tw/BasicInfo.asp?STOCK_ID=3044  timeout:  25\n",
      "retrying:  2\n",
      "47.242.168.144:59394  Fetching  https://goodinfo.tw/tw/BasicInfo.asp?STOCK_ID=3044  timeout:  30\n",
      "retrying:  3\n",
      "47.242.168.144:59394  Fetching  https://goodinfo.tw/tw/BasicInfo.asp?STOCK_ID=3044  timeout:  20\n",
      "retrying:  1\n",
      "47.242.168.144:59394  Fetching  https://goodinfo.tw/tw/BasicInfo.asp?STOCK_ID=3044  timeout:  25\n",
      "retrying:  2\n",
      "47.242.168.144:59394  Fetching  https://goodinfo.tw/tw/BasicInfo.asp?STOCK_ID=3044  timeout:  30\n",
      "retrying:  3\n",
      "158.101.146.40:59394  Fetching  https://goodinfo.tw/tw/BasicInfo.asp?STOCK_ID=3044  timeout:  20\n",
      "retrying:  1\n",
      "158.101.146.40:59394  Fetching  https://goodinfo.tw/tw/BasicInfo.asp?STOCK_ID=3044  timeout:  25\n",
      "retrying:  2\n",
      "158.101.146.40:59394  Fetching  https://goodinfo.tw/tw/BasicInfo.asp?STOCK_ID=3044  timeout:  30\n",
      "retrying:  3\n",
      "158.101.146.40:59394  Fetching  https://goodinfo.tw/tw/BasicInfo.asp?STOCK_ID=3044  timeout:  20\n",
      "retrying:  1\n",
      "158.101.146.40:59394  Fetching  https://goodinfo.tw/tw/BasicInfo.asp?STOCK_ID=3044  timeout:  25\n",
      "retrying:  2\n",
      "158.101.146.40:59394  Fetching  https://goodinfo.tw/tw/BasicInfo.asp?STOCK_ID=3044  timeout:  30\n"
     ]
    },
    {
     "name": "stderr",
     "output_type": "stream",
     "text": [
      " 53%|█████▎    | 470/881 [9:43:19<20:13:13, 177.11s/it]"
     ]
    },
    {
     "name": "stdout",
     "output_type": "stream",
     "text": [
      "retrying:  3\n",
      "47.242.168.144:59394  Fetching  https://goodinfo.tw/tw/BasicInfo.asp?STOCK_ID=3045  timeout:  20\n",
      "retrying:  1\n",
      "47.242.168.144:59394  Fetching  https://goodinfo.tw/tw/BasicInfo.asp?STOCK_ID=3045  timeout:  25\n",
      "retrying:  2\n",
      "47.242.168.144:59394  Fetching  https://goodinfo.tw/tw/BasicInfo.asp?STOCK_ID=3045  timeout:  30\n",
      "retrying:  3\n",
      "155.0.181.254:43496  Fetching  https://goodinfo.tw/tw/BasicInfo.asp?STOCK_ID=3045  timeout:  20\n",
      "retrying:  1\n",
      "155.0.181.254:43496  Fetching  https://goodinfo.tw/tw/BasicInfo.asp?STOCK_ID=3045  timeout:  25\n"
     ]
    },
    {
     "name": "stderr",
     "output_type": "stream",
     "text": [
      " 53%|█████▎    | 471/881 [9:45:01<17:36:51, 154.66s/it]"
     ]
    },
    {
     "name": "stdout",
     "output_type": "stream",
     "text": [
      "Success\n",
      "158.101.146.40:59394  Fetching  https://goodinfo.tw/tw/BasicInfo.asp?STOCK_ID=3046  timeout:  20\n",
      "retrying:  1\n",
      "158.101.146.40:59394  Fetching  https://goodinfo.tw/tw/BasicInfo.asp?STOCK_ID=3046  timeout:  25\n",
      "retrying:  2\n",
      "158.101.146.40:59394  Fetching  https://goodinfo.tw/tw/BasicInfo.asp?STOCK_ID=3046  timeout:  30\n",
      "retrying:  3\n",
      "185.201.88.128:6969  Fetching  https://goodinfo.tw/tw/BasicInfo.asp?STOCK_ID=3046  timeout:  20\n"
     ]
    },
    {
     "name": "stderr",
     "output_type": "stream",
     "text": [
      " 54%|█████▎    | 472/881 [9:46:23<15:06:23, 132.97s/it]"
     ]
    },
    {
     "name": "stdout",
     "output_type": "stream",
     "text": [
      "Success\n",
      "158.101.146.40:59394  Fetching  https://goodinfo.tw/tw/BasicInfo.asp?STOCK_ID=3047  timeout:  20\n",
      "retrying:  1\n",
      "158.101.146.40:59394  Fetching  https://goodinfo.tw/tw/BasicInfo.asp?STOCK_ID=3047  timeout:  25\n",
      "retrying:  2\n",
      "158.101.146.40:59394  Fetching  https://goodinfo.tw/tw/BasicInfo.asp?STOCK_ID=3047  timeout:  30\n",
      "retrying:  3\n",
      "185.201.88.128:6969  Fetching  https://goodinfo.tw/tw/BasicInfo.asp?STOCK_ID=3047  timeout:  20\n"
     ]
    },
    {
     "name": "stderr",
     "output_type": "stream",
     "text": [
      " 54%|█████▎    | 473/881 [9:47:53<13:35:36, 119.94s/it]"
     ]
    },
    {
     "name": "stdout",
     "output_type": "stream",
     "text": [
      "Success\n",
      "155.0.181.254:43496  Fetching  https://goodinfo.tw/tw/BasicInfo.asp?STOCK_ID=3048  timeout:  20\n",
      "retrying:  1\n",
      "155.0.181.254:43496  Fetching  https://goodinfo.tw/tw/BasicInfo.asp?STOCK_ID=3048  timeout:  25\n"
     ]
    },
    {
     "name": "stderr",
     "output_type": "stream",
     "text": [
      " 54%|█████▍    | 474/881 [9:48:21<10:26:16, 92.32s/it] "
     ]
    },
    {
     "name": "stdout",
     "output_type": "stream",
     "text": [
      "Success\n",
      "155.0.181.254:43496  Fetching  https://goodinfo.tw/tw/BasicInfo.asp?STOCK_ID=3049  timeout:  20\n"
     ]
    },
    {
     "name": "stderr",
     "output_type": "stream",
     "text": [
      " 54%|█████▍    | 475/881 [9:48:38<7:51:46, 69.72s/it] "
     ]
    },
    {
     "name": "stdout",
     "output_type": "stream",
     "text": [
      "Success\n",
      "200.105.215.18:33630  Fetching  https://goodinfo.tw/tw/BasicInfo.asp?STOCK_ID=3050  timeout:  20\n",
      "retrying:  1\n",
      "200.105.215.18:33630  Fetching  https://goodinfo.tw/tw/BasicInfo.asp?STOCK_ID=3050  timeout:  25\n"
     ]
    },
    {
     "name": "stderr",
     "output_type": "stream",
     "text": [
      " 54%|█████▍    | 476/881 [9:49:04<6:23:06, 56.76s/it]"
     ]
    },
    {
     "name": "stdout",
     "output_type": "stream",
     "text": [
      "Success\n",
      "155.0.181.254:43496  Fetching  https://goodinfo.tw/tw/BasicInfo.asp?STOCK_ID=3051  timeout:  20\n"
     ]
    },
    {
     "name": "stderr",
     "output_type": "stream",
     "text": [
      " 54%|█████▍    | 477/881 [9:49:27<5:14:34, 46.72s/it]"
     ]
    },
    {
     "name": "stdout",
     "output_type": "stream",
     "text": [
      "Success\n",
      "200.105.215.18:33630  Fetching  https://goodinfo.tw/tw/BasicInfo.asp?STOCK_ID=3052  timeout:  20\n",
      "retrying:  1\n",
      "200.105.215.18:33630  Fetching  https://goodinfo.tw/tw/BasicInfo.asp?STOCK_ID=3052  timeout:  25\n"
     ]
    },
    {
     "name": "stderr",
     "output_type": "stream",
     "text": [
      " 54%|█████▍    | 478/881 [9:49:53<4:31:51, 40.47s/it]"
     ]
    },
    {
     "name": "stdout",
     "output_type": "stream",
     "text": [
      "Success\n",
      "200.105.215.18:33630  Fetching  https://goodinfo.tw/tw/BasicInfo.asp?STOCK_ID=3054  timeout:  20\n"
     ]
    },
    {
     "name": "stderr",
     "output_type": "stream",
     "text": [
      " 54%|█████▍    | 479/881 [9:50:01<3:25:23, 30.65s/it]"
     ]
    },
    {
     "name": "stdout",
     "output_type": "stream",
     "text": [
      "Success\n",
      "155.0.181.254:43496  Fetching  https://goodinfo.tw/tw/BasicInfo.asp?STOCK_ID=3055  timeout:  20\n",
      "retrying:  1\n",
      "155.0.181.254:43496  Fetching  https://goodinfo.tw/tw/BasicInfo.asp?STOCK_ID=3055  timeout:  25\n",
      "retrying:  2\n",
      "155.0.181.254:43496  Fetching  https://goodinfo.tw/tw/BasicInfo.asp?STOCK_ID=3055  timeout:  30\n"
     ]
    },
    {
     "name": "stderr",
     "output_type": "stream",
     "text": [
      " 54%|█████▍    | 480/881 [9:50:59<4:19:19, 38.80s/it]"
     ]
    },
    {
     "name": "stdout",
     "output_type": "stream",
     "text": [
      "Success\n",
      "200.105.215.18:33630  Fetching  https://goodinfo.tw/tw/BasicInfo.asp?STOCK_ID=3056  timeout:  20\n"
     ]
    },
    {
     "name": "stderr",
     "output_type": "stream",
     "text": [
      " 55%|█████▍    | 481/881 [9:51:08<3:19:19, 29.90s/it]"
     ]
    },
    {
     "name": "stdout",
     "output_type": "stream",
     "text": [
      "Success\n",
      "185.201.88.128:6969  Fetching  https://goodinfo.tw/tw/BasicInfo.asp?STOCK_ID=3057  timeout:  20\n",
      "retrying:  1\n",
      "185.201.88.128:6969  Fetching  https://goodinfo.tw/tw/BasicInfo.asp?STOCK_ID=3057  timeout:  25\n"
     ]
    },
    {
     "name": "stderr",
     "output_type": "stream",
     "text": [
      " 55%|█████▍    | 482/881 [9:51:35<3:13:46, 29.14s/it]"
     ]
    },
    {
     "name": "stdout",
     "output_type": "stream",
     "text": [
      "Success\n",
      "158.101.146.40:59394  Fetching  https://goodinfo.tw/tw/BasicInfo.asp?STOCK_ID=3058  timeout:  20\n",
      "retrying:  1\n",
      "158.101.146.40:59394  Fetching  https://goodinfo.tw/tw/BasicInfo.asp?STOCK_ID=3058  timeout:  25\n",
      "retrying:  2\n",
      "158.101.146.40:59394  Fetching  https://goodinfo.tw/tw/BasicInfo.asp?STOCK_ID=3058  timeout:  30\n",
      "retrying:  3\n",
      "185.201.88.128:6969  Fetching  https://goodinfo.tw/tw/BasicInfo.asp?STOCK_ID=3058  timeout:  20\n",
      "retrying:  1\n",
      "185.201.88.128:6969  Fetching  https://goodinfo.tw/tw/BasicInfo.asp?STOCK_ID=3058  timeout:  25\n"
     ]
    },
    {
     "name": "stderr",
     "output_type": "stream",
     "text": [
      " 55%|█████▍    | 483/881 [9:53:18<5:39:03, 51.11s/it]"
     ]
    },
    {
     "name": "stdout",
     "output_type": "stream",
     "text": [
      "Success\n",
      "185.201.88.128:6969  Fetching  https://goodinfo.tw/tw/BasicInfo.asp?STOCK_ID=3059  timeout:  20\n",
      "retrying:  1\n",
      "185.201.88.128:6969  Fetching  https://goodinfo.tw/tw/BasicInfo.asp?STOCK_ID=3059  timeout:  25\n",
      "retrying:  2\n",
      "185.201.88.128:6969  Fetching  https://goodinfo.tw/tw/BasicInfo.asp?STOCK_ID=3059  timeout:  30\n",
      "retrying:  3\n",
      "200.105.215.18:33630  Fetching  https://goodinfo.tw/tw/BasicInfo.asp?STOCK_ID=3059  timeout:  20\n",
      "retrying:  1\n",
      "200.105.215.18:33630  Fetching  https://goodinfo.tw/tw/BasicInfo.asp?STOCK_ID=3059  timeout:  25\n"
     ]
    },
    {
     "name": "stderr",
     "output_type": "stream",
     "text": [
      " 55%|█████▍    | 484/881 [9:54:58<7:14:55, 65.73s/it]"
     ]
    },
    {
     "name": "stdout",
     "output_type": "stream",
     "text": [
      "Success\n",
      "200.105.215.18:33630  Fetching  https://goodinfo.tw/tw/BasicInfo.asp?STOCK_ID=3060  timeout:  20\n"
     ]
    },
    {
     "name": "stderr",
     "output_type": "stream",
     "text": [
      " 55%|█████▌    | 485/881 [9:55:11<5:29:48, 49.97s/it]"
     ]
    },
    {
     "name": "stdout",
     "output_type": "stream",
     "text": [
      "Success\n",
      "158.101.146.40:59394  Fetching  https://goodinfo.tw/tw/BasicInfo.asp?STOCK_ID=3062  timeout:  20\n",
      "retrying:  1\n",
      "158.101.146.40:59394  Fetching  https://goodinfo.tw/tw/BasicInfo.asp?STOCK_ID=3062  timeout:  25\n",
      "retrying:  2\n",
      "158.101.146.40:59394  Fetching  https://goodinfo.tw/tw/BasicInfo.asp?STOCK_ID=3062  timeout:  30\n",
      "retrying:  3\n",
      "185.201.88.128:6969  Fetching  https://goodinfo.tw/tw/BasicInfo.asp?STOCK_ID=3062  timeout:  20\n"
     ]
    },
    {
     "name": "stderr",
     "output_type": "stream",
     "text": [
      " 55%|█████▌    | 486/881 [9:56:35<6:35:46, 60.12s/it]"
     ]
    },
    {
     "name": "stdout",
     "output_type": "stream",
     "text": [
      "Success\n",
      "155.0.181.254:43496  Fetching  https://goodinfo.tw/tw/BasicInfo.asp?STOCK_ID=3090  timeout:  20\n",
      "retrying:  1\n",
      "155.0.181.254:43496  Fetching  https://goodinfo.tw/tw/BasicInfo.asp?STOCK_ID=3090  timeout:  25\n",
      "retrying:  2\n",
      "155.0.181.254:43496  Fetching  https://goodinfo.tw/tw/BasicInfo.asp?STOCK_ID=3090  timeout:  30\n",
      "retrying:  3\n",
      "158.101.146.40:59394  Fetching  https://goodinfo.tw/tw/BasicInfo.asp?STOCK_ID=3090  timeout:  20\n",
      "retrying:  1\n",
      "158.101.146.40:59394  Fetching  https://goodinfo.tw/tw/BasicInfo.asp?STOCK_ID=3090  timeout:  25\n",
      "retrying:  2\n",
      "158.101.146.40:59394  Fetching  https://goodinfo.tw/tw/BasicInfo.asp?STOCK_ID=3090  timeout:  30\n",
      "retrying:  3\n",
      "185.201.88.128:6969  Fetching  https://goodinfo.tw/tw/BasicInfo.asp?STOCK_ID=3090  timeout:  20\n",
      "retrying:  1\n",
      "185.201.88.128:6969  Fetching  https://goodinfo.tw/tw/BasicInfo.asp?STOCK_ID=3090  timeout:  25\n",
      "retrying:  2\n",
      "185.201.88.128:6969  Fetching  https://goodinfo.tw/tw/BasicInfo.asp?STOCK_ID=3090  timeout:  30\n",
      "retrying:  3\n",
      "200.105.215.18:33630  Fetching  https://goodinfo.tw/tw/BasicInfo.asp?STOCK_ID=3090  timeout:  20\n"
     ]
    },
    {
     "name": "stderr",
     "output_type": "stream",
     "text": [
      " 55%|█████▌    | 487/881 [10:00:32<12:24:34, 113.39s/it]"
     ]
    },
    {
     "name": "stdout",
     "output_type": "stream",
     "text": [
      "Success\n",
      "185.201.88.128:6969  Fetching  https://goodinfo.tw/tw/BasicInfo.asp?STOCK_ID=3092  timeout:  20\n",
      "retrying:  1\n",
      "185.201.88.128:6969  Fetching  https://goodinfo.tw/tw/BasicInfo.asp?STOCK_ID=3092  timeout:  25\n"
     ]
    },
    {
     "name": "stderr",
     "output_type": "stream",
     "text": [
      " 55%|█████▌    | 488/881 [10:00:59<9:31:58, 87.32s/it]  "
     ]
    },
    {
     "name": "stdout",
     "output_type": "stream",
     "text": [
      "Success\n",
      "155.0.181.254:43496  Fetching  https://goodinfo.tw/tw/BasicInfo.asp?STOCK_ID=3094  timeout:  20\n",
      "retrying:  1\n",
      "155.0.181.254:43496  Fetching  https://goodinfo.tw/tw/BasicInfo.asp?STOCK_ID=3094  timeout:  25\n",
      "retrying:  2\n",
      "155.0.181.254:43496  Fetching  https://goodinfo.tw/tw/BasicInfo.asp?STOCK_ID=3094  timeout:  30\n",
      "retrying:  3\n",
      "155.0.181.254:43496  Fetching  https://goodinfo.tw/tw/BasicInfo.asp?STOCK_ID=3094  timeout:  20\n"
     ]
    },
    {
     "name": "stderr",
     "output_type": "stream",
     "text": [
      " 56%|█████▌    | 489/881 [10:02:05<8:49:23, 81.03s/it]"
     ]
    },
    {
     "name": "stdout",
     "output_type": "stream",
     "text": [
      "Success\n",
      "158.101.146.40:59394  Fetching  https://goodinfo.tw/tw/BasicInfo.asp?STOCK_ID=3130  timeout:  20\n",
      "retrying:  1\n",
      "158.101.146.40:59394  Fetching  https://goodinfo.tw/tw/BasicInfo.asp?STOCK_ID=3130  timeout:  25\n",
      "retrying:  2\n",
      "158.101.146.40:59394  Fetching  https://goodinfo.tw/tw/BasicInfo.asp?STOCK_ID=3130  timeout:  30\n",
      "retrying:  3\n",
      "158.101.146.40:59394  Fetching  https://goodinfo.tw/tw/BasicInfo.asp?STOCK_ID=3130  timeout:  20\n",
      "retrying:  1\n",
      "158.101.146.40:59394  Fetching  https://goodinfo.tw/tw/BasicInfo.asp?STOCK_ID=3130  timeout:  25\n",
      "retrying:  2\n",
      "158.101.146.40:59394  Fetching  https://goodinfo.tw/tw/BasicInfo.asp?STOCK_ID=3130  timeout:  30\n",
      "retrying:  3\n",
      "185.201.88.128:6969  Fetching  https://goodinfo.tw/tw/BasicInfo.asp?STOCK_ID=3130  timeout:  20\n",
      "retrying:  1\n",
      "185.201.88.128:6969  Fetching  https://goodinfo.tw/tw/BasicInfo.asp?STOCK_ID=3130  timeout:  25\n",
      "retrying:  2\n",
      "185.201.88.128:6969  Fetching  https://goodinfo.tw/tw/BasicInfo.asp?STOCK_ID=3130  timeout:  30\n"
     ]
    },
    {
     "name": "stderr",
     "output_type": "stream",
     "text": [
      " 56%|█████▌    | 490/881 [10:05:41<13:11:38, 121.48s/it]"
     ]
    },
    {
     "name": "stdout",
     "output_type": "stream",
     "text": [
      "Success\n",
      "200.105.215.18:33630  Fetching  https://goodinfo.tw/tw/BasicInfo.asp?STOCK_ID=3138  timeout:  20\n",
      "retrying:  1\n",
      "200.105.215.18:33630  Fetching  https://goodinfo.tw/tw/BasicInfo.asp?STOCK_ID=3138  timeout:  25\n",
      "retrying:  2\n",
      "200.105.215.18:33630  Fetching  https://goodinfo.tw/tw/BasicInfo.asp?STOCK_ID=3138  timeout:  30\n",
      "retrying:  3\n",
      "158.101.146.40:59394  Fetching  https://goodinfo.tw/tw/BasicInfo.asp?STOCK_ID=3138  timeout:  20\n",
      "retrying:  1\n",
      "158.101.146.40:59394  Fetching  https://goodinfo.tw/tw/BasicInfo.asp?STOCK_ID=3138  timeout:  25\n",
      "retrying:  2\n",
      "158.101.146.40:59394  Fetching  https://goodinfo.tw/tw/BasicInfo.asp?STOCK_ID=3138  timeout:  30\n",
      "retrying:  3\n",
      "185.201.88.128:6969  Fetching  https://goodinfo.tw/tw/BasicInfo.asp?STOCK_ID=3138  timeout:  20\n"
     ]
    },
    {
     "name": "stderr",
     "output_type": "stream",
     "text": [
      " 56%|█████▌    | 491/881 [10:08:38<14:58:05, 138.17s/it]"
     ]
    },
    {
     "name": "stdout",
     "output_type": "stream",
     "text": [
      "Success\n",
      "47.242.168.144:59394  Fetching  https://goodinfo.tw/tw/BasicInfo.asp?STOCK_ID=3149  timeout:  20\n",
      "retrying:  1\n",
      "47.242.168.144:59394  Fetching  https://goodinfo.tw/tw/BasicInfo.asp?STOCK_ID=3149  timeout:  25\n",
      "retrying:  2\n",
      "47.242.168.144:59394  Fetching  https://goodinfo.tw/tw/BasicInfo.asp?STOCK_ID=3149  timeout:  30\n",
      "retrying:  3\n",
      "155.0.181.254:43496  Fetching  https://goodinfo.tw/tw/BasicInfo.asp?STOCK_ID=3149  timeout:  20\n",
      "retrying:  1\n",
      "155.0.181.254:43496  Fetching  https://goodinfo.tw/tw/BasicInfo.asp?STOCK_ID=3149  timeout:  25\n",
      "retrying:  2\n",
      "155.0.181.254:43496  Fetching  https://goodinfo.tw/tw/BasicInfo.asp?STOCK_ID=3149  timeout:  30\n",
      "retrying:  3\n",
      "155.0.181.254:43496  Fetching  https://goodinfo.tw/tw/BasicInfo.asp?STOCK_ID=3149  timeout:  20\n",
      "retrying:  1\n",
      "155.0.181.254:43496  Fetching  https://goodinfo.tw/tw/BasicInfo.asp?STOCK_ID=3149  timeout:  25\n",
      "retrying:  2\n",
      "155.0.181.254:43496  Fetching  https://goodinfo.tw/tw/BasicInfo.asp?STOCK_ID=3149  timeout:  30\n",
      "retrying:  3\n",
      "185.201.88.128:6969  Fetching  https://goodinfo.tw/tw/BasicInfo.asp?STOCK_ID=3149  timeout:  20\n",
      "retrying:  1\n",
      "185.201.88.128:6969  Fetching  https://goodinfo.tw/tw/BasicInfo.asp?STOCK_ID=3149  timeout:  25\n"
     ]
    },
    {
     "name": "stderr",
     "output_type": "stream",
     "text": [
      " 56%|█████▌    | 492/881 [10:12:56<18:49:04, 174.15s/it]"
     ]
    },
    {
     "name": "stdout",
     "output_type": "stream",
     "text": [
      "Success\n",
      "200.105.215.18:33630  Fetching  https://goodinfo.tw/tw/BasicInfo.asp?STOCK_ID=3164  timeout:  20\n",
      "retrying:  1\n",
      "200.105.215.18:33630  Fetching  https://goodinfo.tw/tw/BasicInfo.asp?STOCK_ID=3164  timeout:  25\n"
     ]
    },
    {
     "name": "stderr",
     "output_type": "stream",
     "text": [
      " 56%|█████▌    | 493/881 [10:13:23<13:59:54, 129.88s/it]"
     ]
    },
    {
     "name": "stdout",
     "output_type": "stream",
     "text": [
      "Success\n",
      "200.105.215.18:33630  Fetching  https://goodinfo.tw/tw/BasicInfo.asp?STOCK_ID=3167  timeout:  20\n",
      "retrying:  1\n",
      "200.105.215.18:33630  Fetching  https://goodinfo.tw/tw/BasicInfo.asp?STOCK_ID=3167  timeout:  25\n"
     ]
    },
    {
     "name": "stderr",
     "output_type": "stream",
     "text": [
      " 56%|█████▌    | 494/881 [10:14:03<11:04:52, 103.08s/it]"
     ]
    },
    {
     "name": "stdout",
     "output_type": "stream",
     "text": [
      "Success\n",
      "185.201.88.128:6969  Fetching  https://goodinfo.tw/tw/BasicInfo.asp?STOCK_ID=3189  timeout:  20\n"
     ]
    },
    {
     "name": "stderr",
     "output_type": "stream",
     "text": [
      " 56%|█████▌    | 495/881 [10:14:09<7:55:26, 73.90s/it]  "
     ]
    },
    {
     "name": "stdout",
     "output_type": "stream",
     "text": [
      "Success\n",
      "155.0.181.254:43496  Fetching  https://goodinfo.tw/tw/BasicInfo.asp?STOCK_ID=3209  timeout:  20\n"
     ]
    },
    {
     "name": "stderr",
     "output_type": "stream",
     "text": [
      " 56%|█████▋    | 496/881 [10:14:17<5:46:51, 54.06s/it]"
     ]
    },
    {
     "name": "stdout",
     "output_type": "stream",
     "text": [
      "Success\n",
      "158.101.146.40:59394  Fetching  https://goodinfo.tw/tw/BasicInfo.asp?STOCK_ID=3229  timeout:  20\n",
      "retrying:  1\n",
      "158.101.146.40:59394  Fetching  https://goodinfo.tw/tw/BasicInfo.asp?STOCK_ID=3229  timeout:  25\n",
      "retrying:  2\n",
      "158.101.146.40:59394  Fetching  https://goodinfo.tw/tw/BasicInfo.asp?STOCK_ID=3229  timeout:  30\n",
      "retrying:  3\n",
      "47.242.168.144:59394  Fetching  https://goodinfo.tw/tw/BasicInfo.asp?STOCK_ID=3229  timeout:  20\n",
      "retrying:  1\n",
      "47.242.168.144:59394  Fetching  https://goodinfo.tw/tw/BasicInfo.asp?STOCK_ID=3229  timeout:  25\n",
      "retrying:  2\n",
      "47.242.168.144:59394  Fetching  https://goodinfo.tw/tw/BasicInfo.asp?STOCK_ID=3229  timeout:  30\n",
      "retrying:  3\n",
      "185.201.88.128:6969  Fetching  https://goodinfo.tw/tw/BasicInfo.asp?STOCK_ID=3229  timeout:  20\n"
     ]
    },
    {
     "name": "stderr",
     "output_type": "stream",
     "text": [
      " 56%|█████▋    | 497/881 [10:16:52<8:59:54, 84.36s/it]"
     ]
    },
    {
     "name": "stdout",
     "output_type": "stream",
     "text": [
      "Success\n",
      "185.201.88.128:6969  Fetching  https://goodinfo.tw/tw/BasicInfo.asp?STOCK_ID=3231  timeout:  20\n"
     ]
    },
    {
     "name": "stderr",
     "output_type": "stream",
     "text": [
      " 57%|█████▋    | 498/881 [10:16:58<6:28:33, 60.87s/it]"
     ]
    },
    {
     "name": "stdout",
     "output_type": "stream",
     "text": [
      "Success\n",
      "200.105.215.18:33630  Fetching  https://goodinfo.tw/tw/BasicInfo.asp?STOCK_ID=3257  timeout:  20\n"
     ]
    },
    {
     "name": "stderr",
     "output_type": "stream",
     "text": [
      " 57%|█████▋    | 499/881 [10:17:03<4:40:57, 44.13s/it]"
     ]
    },
    {
     "name": "stdout",
     "output_type": "stream",
     "text": [
      "Success\n",
      "200.105.215.18:33630  Fetching  https://goodinfo.tw/tw/BasicInfo.asp?STOCK_ID=3266  timeout:  20\n"
     ]
    },
    {
     "name": "stderr",
     "output_type": "stream",
     "text": [
      " 57%|█████▋    | 500/881 [10:17:09<3:27:01, 32.60s/it]"
     ]
    },
    {
     "name": "stdout",
     "output_type": "stream",
     "text": [
      "Success\n",
      "158.101.146.40:59394  Fetching  https://goodinfo.tw/tw/BasicInfo.asp?STOCK_ID=3296  timeout:  20\n",
      "retrying:  1\n",
      "158.101.146.40:59394  Fetching  https://goodinfo.tw/tw/BasicInfo.asp?STOCK_ID=3296  timeout:  25\n",
      "retrying:  2\n",
      "158.101.146.40:59394  Fetching  https://goodinfo.tw/tw/BasicInfo.asp?STOCK_ID=3296  timeout:  30\n",
      "retrying:  3\n",
      "200.105.215.18:33630  Fetching  https://goodinfo.tw/tw/BasicInfo.asp?STOCK_ID=3296  timeout:  20\n"
     ]
    },
    {
     "name": "stderr",
     "output_type": "stream",
     "text": [
      " 57%|█████▋    | 501/881 [10:18:33<5:03:39, 47.95s/it]"
     ]
    },
    {
     "name": "stdout",
     "output_type": "stream",
     "text": [
      "Success\n",
      "158.101.146.40:59394  Fetching  https://goodinfo.tw/tw/BasicInfo.asp?STOCK_ID=3305  timeout:  20\n",
      "retrying:  1\n",
      "158.101.146.40:59394  Fetching  https://goodinfo.tw/tw/BasicInfo.asp?STOCK_ID=3305  timeout:  25\n",
      "retrying:  2\n",
      "158.101.146.40:59394  Fetching  https://goodinfo.tw/tw/BasicInfo.asp?STOCK_ID=3305  timeout:  30\n",
      "retrying:  3\n",
      "185.201.88.128:6969  Fetching  https://goodinfo.tw/tw/BasicInfo.asp?STOCK_ID=3305  timeout:  20\n"
     ]
    },
    {
     "name": "stderr",
     "output_type": "stream",
     "text": [
      " 57%|█████▋    | 502/881 [10:20:03<6:23:04, 60.65s/it]"
     ]
    },
    {
     "name": "stdout",
     "output_type": "stream",
     "text": [
      "Success\n",
      "155.0.181.254:43496  Fetching  https://goodinfo.tw/tw/BasicInfo.asp?STOCK_ID=3308  timeout:  20\n"
     ]
    },
    {
     "name": "stderr",
     "output_type": "stream",
     "text": [
      " 57%|█████▋    | 503/881 [10:20:11<4:42:23, 44.83s/it]"
     ]
    },
    {
     "name": "stdout",
     "output_type": "stream",
     "text": [
      "Success\n",
      "185.201.88.128:6969  Fetching  https://goodinfo.tw/tw/BasicInfo.asp?STOCK_ID=3311  timeout:  20\n",
      "retrying:  1\n",
      "185.201.88.128:6969  Fetching  https://goodinfo.tw/tw/BasicInfo.asp?STOCK_ID=3311  timeout:  25\n"
     ]
    },
    {
     "name": "stderr",
     "output_type": "stream",
     "text": [
      " 57%|█████▋    | 504/881 [10:20:38<4:08:08, 39.49s/it]"
     ]
    },
    {
     "name": "stdout",
     "output_type": "stream",
     "text": [
      "Success\n",
      "200.105.215.18:33630  Fetching  https://goodinfo.tw/tw/BasicInfo.asp?STOCK_ID=3312  timeout:  20\n",
      "retrying:  1\n",
      "200.105.215.18:33630  Fetching  https://goodinfo.tw/tw/BasicInfo.asp?STOCK_ID=3312  timeout:  25\n"
     ]
    },
    {
     "name": "stderr",
     "output_type": "stream",
     "text": [
      " 57%|█████▋    | 505/881 [10:21:05<3:44:45, 35.87s/it]"
     ]
    },
    {
     "name": "stdout",
     "output_type": "stream",
     "text": [
      "Success\n",
      "185.201.88.128:6969  Fetching  https://goodinfo.tw/tw/BasicInfo.asp?STOCK_ID=3321  timeout:  20\n"
     ]
    },
    {
     "name": "stderr",
     "output_type": "stream",
     "text": [
      " 57%|█████▋    | 506/881 [10:21:14<2:53:11, 27.71s/it]"
     ]
    },
    {
     "name": "stdout",
     "output_type": "stream",
     "text": [
      "Success\n",
      "47.242.168.144:59394  Fetching  https://goodinfo.tw/tw/BasicInfo.asp?STOCK_ID=3338  timeout:  20\n",
      "retrying:  1\n",
      "47.242.168.144:59394  Fetching  https://goodinfo.tw/tw/BasicInfo.asp?STOCK_ID=3338  timeout:  25\n",
      "retrying:  2\n",
      "47.242.168.144:59394  Fetching  https://goodinfo.tw/tw/BasicInfo.asp?STOCK_ID=3338  timeout:  30\n",
      "retrying:  3\n",
      "47.242.168.144:59394  Fetching  https://goodinfo.tw/tw/BasicInfo.asp?STOCK_ID=3338  timeout:  20\n",
      "retrying:  1\n",
      "47.242.168.144:59394  Fetching  https://goodinfo.tw/tw/BasicInfo.asp?STOCK_ID=3338  timeout:  25\n",
      "retrying:  2\n",
      "47.242.168.144:59394  Fetching  https://goodinfo.tw/tw/BasicInfo.asp?STOCK_ID=3338  timeout:  30\n",
      "retrying:  3\n",
      "185.201.88.128:6969  Fetching  https://goodinfo.tw/tw/BasicInfo.asp?STOCK_ID=3338  timeout:  20\n"
     ]
    },
    {
     "name": "stderr",
     "output_type": "stream",
     "text": [
      " 58%|█████▊    | 507/881 [10:23:53<6:57:54, 67.04s/it]"
     ]
    },
    {
     "name": "stdout",
     "output_type": "stream",
     "text": [
      "Success\n",
      "200.105.215.18:33630  Fetching  https://goodinfo.tw/tw/BasicInfo.asp?STOCK_ID=3346  timeout:  20\n"
     ]
    },
    {
     "name": "stderr",
     "output_type": "stream",
     "text": [
      " 58%|█████▊    | 508/881 [10:23:58<5:00:57, 48.41s/it]"
     ]
    },
    {
     "name": "stdout",
     "output_type": "stream",
     "text": [
      "Success\n",
      "155.0.181.254:43496  Fetching  https://goodinfo.tw/tw/BasicInfo.asp?STOCK_ID=3356  timeout:  20\n",
      "retrying:  1\n",
      "155.0.181.254:43496  Fetching  https://goodinfo.tw/tw/BasicInfo.asp?STOCK_ID=3356  timeout:  25\n",
      "retrying:  2\n",
      "155.0.181.254:43496  Fetching  https://goodinfo.tw/tw/BasicInfo.asp?STOCK_ID=3356  timeout:  30\n",
      "retrying:  3\n",
      "200.105.215.18:33630  Fetching  https://goodinfo.tw/tw/BasicInfo.asp?STOCK_ID=3356  timeout:  20\n",
      "retrying:  1\n",
      "200.105.215.18:33630  Fetching  https://goodinfo.tw/tw/BasicInfo.asp?STOCK_ID=3356  timeout:  25\n"
     ]
    },
    {
     "name": "stderr",
     "output_type": "stream",
     "text": [
      " 58%|█████▊    | 509/881 [10:25:41<6:41:46, 64.80s/it]"
     ]
    },
    {
     "name": "stdout",
     "output_type": "stream",
     "text": [
      "Success\n",
      "47.242.168.144:59394  Fetching  https://goodinfo.tw/tw/BasicInfo.asp?STOCK_ID=3376  timeout:  20\n",
      "retrying:  1\n",
      "47.242.168.144:59394  Fetching  https://goodinfo.tw/tw/BasicInfo.asp?STOCK_ID=3376  timeout:  25\n",
      "retrying:  2\n",
      "47.242.168.144:59394  Fetching  https://goodinfo.tw/tw/BasicInfo.asp?STOCK_ID=3376  timeout:  30\n",
      "retrying:  3\n",
      "47.242.168.144:59394  Fetching  https://goodinfo.tw/tw/BasicInfo.asp?STOCK_ID=3376  timeout:  20\n",
      "retrying:  1\n",
      "47.242.168.144:59394  Fetching  https://goodinfo.tw/tw/BasicInfo.asp?STOCK_ID=3376  timeout:  25\n",
      "retrying:  2\n",
      "47.242.168.144:59394  Fetching  https://goodinfo.tw/tw/BasicInfo.asp?STOCK_ID=3376  timeout:  30\n",
      "retrying:  3\n",
      "47.242.168.144:59394  Fetching  https://goodinfo.tw/tw/BasicInfo.asp?STOCK_ID=3376  timeout:  20\n",
      "retrying:  1\n",
      "47.242.168.144:59394  Fetching  https://goodinfo.tw/tw/BasicInfo.asp?STOCK_ID=3376  timeout:  25\n",
      "retrying:  2\n",
      "47.242.168.144:59394  Fetching  https://goodinfo.tw/tw/BasicInfo.asp?STOCK_ID=3376  timeout:  30\n",
      "retrying:  3\n",
      "47.242.168.144:59394  Fetching  https://goodinfo.tw/tw/BasicInfo.asp?STOCK_ID=3376  timeout:  20\n",
      "retrying:  1\n",
      "47.242.168.144:59394  Fetching  https://goodinfo.tw/tw/BasicInfo.asp?STOCK_ID=3376  timeout:  25\n",
      "retrying:  2\n",
      "47.242.168.144:59394  Fetching  https://goodinfo.tw/tw/BasicInfo.asp?STOCK_ID=3376  timeout:  30\n",
      "retrying:  3\n",
      "185.201.88.128:6969  Fetching  https://goodinfo.tw/tw/BasicInfo.asp?STOCK_ID=3376  timeout:  20\n"
     ]
    },
    {
     "name": "stderr",
     "output_type": "stream",
     "text": [
      " 58%|█████▊    | 510/881 [10:31:01<14:35:19, 141.56s/it]"
     ]
    },
    {
     "name": "stdout",
     "output_type": "stream",
     "text": [
      "Success\n",
      "185.201.88.128:6969  Fetching  https://goodinfo.tw/tw/BasicInfo.asp?STOCK_ID=3380  timeout:  20\n"
     ]
    },
    {
     "name": "stderr",
     "output_type": "stream",
     "text": [
      " 58%|█████▊    | 511/881 [10:31:14<10:33:43, 102.77s/it]"
     ]
    },
    {
     "name": "stdout",
     "output_type": "stream",
     "text": [
      "Success\n",
      "200.105.215.18:33630  Fetching  https://goodinfo.tw/tw/BasicInfo.asp?STOCK_ID=3383  timeout:  20\n"
     ]
    },
    {
     "name": "stderr",
     "output_type": "stream",
     "text": [
      " 58%|█████▊    | 512/881 [10:31:20<7:35:09, 74.01s/it]  "
     ]
    },
    {
     "name": "stdout",
     "output_type": "stream",
     "text": [
      "Success\n",
      "185.201.88.128:6969  Fetching  https://goodinfo.tw/tw/BasicInfo.asp?STOCK_ID=3406  timeout:  20\n"
     ]
    },
    {
     "name": "stderr",
     "output_type": "stream",
     "text": [
      " 58%|█████▊    | 513/881 [10:31:32<5:39:42, 55.39s/it]"
     ]
    },
    {
     "name": "stdout",
     "output_type": "stream",
     "text": [
      "Success\n",
      "47.242.168.144:59394  Fetching  https://goodinfo.tw/tw/BasicInfo.asp?STOCK_ID=3413  timeout:  20\n",
      "retrying:  1\n",
      "47.242.168.144:59394  Fetching  https://goodinfo.tw/tw/BasicInfo.asp?STOCK_ID=3413  timeout:  25\n",
      "retrying:  2\n",
      "47.242.168.144:59394  Fetching  https://goodinfo.tw/tw/BasicInfo.asp?STOCK_ID=3413  timeout:  30\n",
      "retrying:  3\n",
      "200.105.215.18:33630  Fetching  https://goodinfo.tw/tw/BasicInfo.asp?STOCK_ID=3413  timeout:  20\n"
     ]
    },
    {
     "name": "stderr",
     "output_type": "stream",
     "text": [
      " 58%|█████▊    | 514/881 [10:33:03<6:43:21, 65.95s/it]"
     ]
    },
    {
     "name": "stdout",
     "output_type": "stream",
     "text": [
      "Success\n",
      "47.242.168.144:59394  Fetching  https://goodinfo.tw/tw/BasicInfo.asp?STOCK_ID=3416  timeout:  20\n",
      "retrying:  1\n",
      "47.242.168.144:59394  Fetching  https://goodinfo.tw/tw/BasicInfo.asp?STOCK_ID=3416  timeout:  25\n",
      "retrying:  2\n",
      "47.242.168.144:59394  Fetching  https://goodinfo.tw/tw/BasicInfo.asp?STOCK_ID=3416  timeout:  30\n",
      "retrying:  3\n",
      "200.105.215.18:33630  Fetching  https://goodinfo.tw/tw/BasicInfo.asp?STOCK_ID=3416  timeout:  20\n",
      "retrying:  1\n",
      "200.105.215.18:33630  Fetching  https://goodinfo.tw/tw/BasicInfo.asp?STOCK_ID=3416  timeout:  25\n"
     ]
    },
    {
     "name": "stderr",
     "output_type": "stream",
     "text": [
      " 58%|█████▊    | 515/881 [10:34:44<7:46:44, 76.51s/it]"
     ]
    },
    {
     "name": "stdout",
     "output_type": "stream",
     "text": [
      "Success\n",
      "158.101.146.40:59394  Fetching  https://goodinfo.tw/tw/BasicInfo.asp?STOCK_ID=3419  timeout:  20\n",
      "retrying:  1\n",
      "158.101.146.40:59394  Fetching  https://goodinfo.tw/tw/BasicInfo.asp?STOCK_ID=3419  timeout:  25\n",
      "retrying:  2\n",
      "158.101.146.40:59394  Fetching  https://goodinfo.tw/tw/BasicInfo.asp?STOCK_ID=3419  timeout:  30\n",
      "retrying:  3\n",
      "185.201.88.128:6969  Fetching  https://goodinfo.tw/tw/BasicInfo.asp?STOCK_ID=3419  timeout:  20\n",
      "retrying:  1\n",
      "185.201.88.128:6969  Fetching  https://goodinfo.tw/tw/BasicInfo.asp?STOCK_ID=3419  timeout:  25\n"
     ]
    },
    {
     "name": "stderr",
     "output_type": "stream",
     "text": [
      " 59%|█████▊    | 516/881 [10:36:40<8:56:26, 88.18s/it]"
     ]
    },
    {
     "name": "stdout",
     "output_type": "stream",
     "text": [
      "Success\n",
      "200.105.215.18:33630  Fetching  https://goodinfo.tw/tw/BasicInfo.asp?STOCK_ID=3432  timeout:  20\n",
      "retrying:  1\n",
      "200.105.215.18:33630  Fetching  https://goodinfo.tw/tw/BasicInfo.asp?STOCK_ID=3432  timeout:  25\n",
      "retrying:  2\n",
      "200.105.215.18:33630  Fetching  https://goodinfo.tw/tw/BasicInfo.asp?STOCK_ID=3432  timeout:  30\n",
      "retrying:  3\n",
      "158.101.146.40:59394  Fetching  https://goodinfo.tw/tw/BasicInfo.asp?STOCK_ID=3432  timeout:  20\n",
      "retrying:  1\n",
      "158.101.146.40:59394  Fetching  https://goodinfo.tw/tw/BasicInfo.asp?STOCK_ID=3432  timeout:  25\n",
      "retrying:  2\n",
      "158.101.146.40:59394  Fetching  https://goodinfo.tw/tw/BasicInfo.asp?STOCK_ID=3432  timeout:  30\n",
      "retrying:  3\n",
      "155.0.181.254:43496  Fetching  https://goodinfo.tw/tw/BasicInfo.asp?STOCK_ID=3432  timeout:  20\n"
     ]
    },
    {
     "name": "stderr",
     "output_type": "stream",
     "text": [
      " 59%|█████▊    | 517/881 [10:39:19<11:04:58, 109.61s/it]"
     ]
    },
    {
     "name": "stdout",
     "output_type": "stream",
     "text": [
      "Success\n",
      "200.105.215.18:33630  Fetching  https://goodinfo.tw/tw/BasicInfo.asp?STOCK_ID=3437  timeout:  20\n",
      "retrying:  1\n",
      "200.105.215.18:33630  Fetching  https://goodinfo.tw/tw/BasicInfo.asp?STOCK_ID=3437  timeout:  25\n"
     ]
    },
    {
     "name": "stderr",
     "output_type": "stream",
     "text": [
      " 59%|█████▉    | 518/881 [10:39:46<8:32:57, 84.79s/it]  "
     ]
    },
    {
     "name": "stdout",
     "output_type": "stream",
     "text": [
      "Success\n",
      "200.105.215.18:33630  Fetching  https://goodinfo.tw/tw/BasicInfo.asp?STOCK_ID=3443  timeout:  20\n",
      "retrying:  1\n",
      "200.105.215.18:33630  Fetching  https://goodinfo.tw/tw/BasicInfo.asp?STOCK_ID=3443  timeout:  25\n",
      "retrying:  2\n",
      "200.105.215.18:33630  Fetching  https://goodinfo.tw/tw/BasicInfo.asp?STOCK_ID=3443  timeout:  30\n"
     ]
    },
    {
     "name": "stderr",
     "output_type": "stream",
     "text": [
      " 59%|█████▉    | 519/881 [10:40:51<7:54:56, 78.72s/it]"
     ]
    },
    {
     "name": "stdout",
     "output_type": "stream",
     "text": [
      "Success\n",
      "158.101.146.40:59394  Fetching  https://goodinfo.tw/tw/BasicInfo.asp?STOCK_ID=3450  timeout:  20\n",
      "retrying:  1\n",
      "158.101.146.40:59394  Fetching  https://goodinfo.tw/tw/BasicInfo.asp?STOCK_ID=3450  timeout:  25\n",
      "retrying:  2\n",
      "158.101.146.40:59394  Fetching  https://goodinfo.tw/tw/BasicInfo.asp?STOCK_ID=3450  timeout:  30\n",
      "retrying:  3\n",
      "200.105.215.18:33630  Fetching  https://goodinfo.tw/tw/BasicInfo.asp?STOCK_ID=3450  timeout:  20\n",
      "retrying:  1\n",
      "200.105.215.18:33630  Fetching  https://goodinfo.tw/tw/BasicInfo.asp?STOCK_ID=3450  timeout:  25\n",
      "retrying:  2\n",
      "200.105.215.18:33630  Fetching  https://goodinfo.tw/tw/BasicInfo.asp?STOCK_ID=3450  timeout:  30\n"
     ]
    },
    {
     "name": "stderr",
     "output_type": "stream",
     "text": [
      " 59%|█████▉    | 520/881 [10:43:06<9:36:07, 95.76s/it]"
     ]
    },
    {
     "name": "stdout",
     "output_type": "stream",
     "text": [
      "Success\n",
      "200.105.215.18:33630  Fetching  https://goodinfo.tw/tw/BasicInfo.asp?STOCK_ID=3454  timeout:  20\n",
      "retrying:  1\n",
      "200.105.215.18:33630  Fetching  https://goodinfo.tw/tw/BasicInfo.asp?STOCK_ID=3454  timeout:  25\n"
     ]
    },
    {
     "name": "stderr",
     "output_type": "stream",
     "text": [
      " 59%|█████▉    | 521/881 [10:43:36<7:35:20, 75.89s/it]"
     ]
    },
    {
     "name": "stdout",
     "output_type": "stream",
     "text": [
      "Success\n",
      "185.201.88.128:6969  Fetching  https://goodinfo.tw/tw/BasicInfo.asp?STOCK_ID=3481  timeout:  20\n"
     ]
    },
    {
     "name": "stderr",
     "output_type": "stream",
     "text": [
      " 59%|█████▉    | 522/881 [10:43:42<5:29:04, 55.00s/it]"
     ]
    },
    {
     "name": "stdout",
     "output_type": "stream",
     "text": [
      "Success\n",
      "155.0.181.254:43496  Fetching  https://goodinfo.tw/tw/BasicInfo.asp?STOCK_ID=3494  timeout:  20\n"
     ]
    },
    {
     "name": "stderr",
     "output_type": "stream",
     "text": [
      " 59%|█████▉    | 523/881 [10:43:51<4:06:04, 41.24s/it]"
     ]
    },
    {
     "name": "stdout",
     "output_type": "stream",
     "text": [
      "Success\n",
      "155.0.181.254:43496  Fetching  https://goodinfo.tw/tw/BasicInfo.asp?STOCK_ID=3501  timeout:  20\n",
      "retrying:  1\n",
      "155.0.181.254:43496  Fetching  https://goodinfo.tw/tw/BasicInfo.asp?STOCK_ID=3501  timeout:  25\n",
      "retrying:  2\n",
      "155.0.181.254:43496  Fetching  https://goodinfo.tw/tw/BasicInfo.asp?STOCK_ID=3501  timeout:  30\n",
      "retrying:  3\n",
      "200.105.215.18:33630  Fetching  https://goodinfo.tw/tw/BasicInfo.asp?STOCK_ID=3501  timeout:  20\n"
     ]
    },
    {
     "name": "stderr",
     "output_type": "stream",
     "text": [
      " 59%|█████▉    | 524/881 [10:45:27<5:43:27, 57.72s/it]"
     ]
    },
    {
     "name": "stdout",
     "output_type": "stream",
     "text": [
      "Success\n",
      "158.101.146.40:59394  Fetching  https://goodinfo.tw/tw/BasicInfo.asp?STOCK_ID=3504  timeout:  20\n",
      "retrying:  1\n",
      "158.101.146.40:59394  Fetching  https://goodinfo.tw/tw/BasicInfo.asp?STOCK_ID=3504  timeout:  25\n",
      "retrying:  2\n",
      "158.101.146.40:59394  Fetching  https://goodinfo.tw/tw/BasicInfo.asp?STOCK_ID=3504  timeout:  30\n",
      "retrying:  3\n",
      "200.105.215.18:33630  Fetching  https://goodinfo.tw/tw/BasicInfo.asp?STOCK_ID=3504  timeout:  20\n",
      "retrying:  1\n",
      "200.105.215.18:33630  Fetching  https://goodinfo.tw/tw/BasicInfo.asp?STOCK_ID=3504  timeout:  25\n",
      "retrying:  2\n",
      "200.105.215.18:33630  Fetching  https://goodinfo.tw/tw/BasicInfo.asp?STOCK_ID=3504  timeout:  30\n",
      "retrying:  3\n",
      "200.105.215.18:33630  Fetching  https://goodinfo.tw/tw/BasicInfo.asp?STOCK_ID=3504  timeout:  20\n",
      "retrying:  1\n",
      "200.105.215.18:33630  Fetching  https://goodinfo.tw/tw/BasicInfo.asp?STOCK_ID=3504  timeout:  25\n",
      "retrying:  2\n",
      "200.105.215.18:33630  Fetching  https://goodinfo.tw/tw/BasicInfo.asp?STOCK_ID=3504  timeout:  30\n",
      "retrying:  3\n",
      "200.105.215.18:33630  Fetching  https://goodinfo.tw/tw/BasicInfo.asp?STOCK_ID=3504  timeout:  20\n",
      "retrying:  1\n",
      "200.105.215.18:33630  Fetching  https://goodinfo.tw/tw/BasicInfo.asp?STOCK_ID=3504  timeout:  25\n",
      "retrying:  2\n",
      "200.105.215.18:33630  Fetching  https://goodinfo.tw/tw/BasicInfo.asp?STOCK_ID=3504  timeout:  30\n",
      "retrying:  3\n",
      "155.0.181.254:43496  Fetching  https://goodinfo.tw/tw/BasicInfo.asp?STOCK_ID=3504  timeout:  20\n",
      "retrying:  1\n",
      "155.0.181.254:43496  Fetching  https://goodinfo.tw/tw/BasicInfo.asp?STOCK_ID=3504  timeout:  25\n"
     ]
    },
    {
     "name": "stderr",
     "output_type": "stream",
     "text": [
      " 60%|█████▉    | 525/881 [10:51:08<14:05:37, 142.52s/it]"
     ]
    },
    {
     "name": "stdout",
     "output_type": "stream",
     "text": [
      "Success\n",
      "158.101.146.40:59394  Fetching  https://goodinfo.tw/tw/BasicInfo.asp?STOCK_ID=3515  timeout:  20\n",
      "retrying:  1\n",
      "158.101.146.40:59394  Fetching  https://goodinfo.tw/tw/BasicInfo.asp?STOCK_ID=3515  timeout:  25\n",
      "retrying:  2\n",
      "158.101.146.40:59394  Fetching  https://goodinfo.tw/tw/BasicInfo.asp?STOCK_ID=3515  timeout:  30\n",
      "retrying:  3\n",
      "155.0.181.254:43496  Fetching  https://goodinfo.tw/tw/BasicInfo.asp?STOCK_ID=3515  timeout:  20\n",
      "retrying:  1\n",
      "155.0.181.254:43496  Fetching  https://goodinfo.tw/tw/BasicInfo.asp?STOCK_ID=3515  timeout:  25\n"
     ]
    },
    {
     "name": "stderr",
     "output_type": "stream",
     "text": [
      " 60%|█████▉    | 526/881 [10:52:51<12:53:57, 130.81s/it]"
     ]
    },
    {
     "name": "stdout",
     "output_type": "stream",
     "text": [
      "Success\n",
      "158.101.146.40:59394  Fetching  https://goodinfo.tw/tw/BasicInfo.asp?STOCK_ID=3518  timeout:  20\n",
      "retrying:  1\n",
      "158.101.146.40:59394  Fetching  https://goodinfo.tw/tw/BasicInfo.asp?STOCK_ID=3518  timeout:  25\n",
      "retrying:  2\n",
      "158.101.146.40:59394  Fetching  https://goodinfo.tw/tw/BasicInfo.asp?STOCK_ID=3518  timeout:  30\n",
      "retrying:  3\n",
      "185.201.88.128:6969  Fetching  https://goodinfo.tw/tw/BasicInfo.asp?STOCK_ID=3518  timeout:  20\n"
     ]
    },
    {
     "name": "stderr",
     "output_type": "stream",
     "text": [
      " 60%|█████▉    | 527/881 [10:54:15<11:29:27, 116.86s/it]"
     ]
    },
    {
     "name": "stdout",
     "output_type": "stream",
     "text": [
      "Success\n",
      "47.242.168.144:59394  Fetching  https://goodinfo.tw/tw/BasicInfo.asp?STOCK_ID=3528  timeout:  20\n",
      "retrying:  1\n",
      "47.242.168.144:59394  Fetching  https://goodinfo.tw/tw/BasicInfo.asp?STOCK_ID=3528  timeout:  25\n",
      "retrying:  2\n",
      "47.242.168.144:59394  Fetching  https://goodinfo.tw/tw/BasicInfo.asp?STOCK_ID=3528  timeout:  30\n",
      "retrying:  3\n",
      "185.201.88.128:6969  Fetching  https://goodinfo.tw/tw/BasicInfo.asp?STOCK_ID=3528  timeout:  20\n"
     ]
    },
    {
     "name": "stderr",
     "output_type": "stream",
     "text": [
      " 60%|█████▉    | 528/881 [10:55:36<10:23:56, 106.05s/it]"
     ]
    },
    {
     "name": "stdout",
     "output_type": "stream",
     "text": [
      "Success\n",
      "158.101.146.40:59394  Fetching  https://goodinfo.tw/tw/BasicInfo.asp?STOCK_ID=3530  timeout:  20\n",
      "retrying:  1\n",
      "158.101.146.40:59394  Fetching  https://goodinfo.tw/tw/BasicInfo.asp?STOCK_ID=3530  timeout:  25\n",
      "retrying:  2\n",
      "158.101.146.40:59394  Fetching  https://goodinfo.tw/tw/BasicInfo.asp?STOCK_ID=3530  timeout:  30\n",
      "retrying:  3\n",
      "158.101.146.40:59394  Fetching  https://goodinfo.tw/tw/BasicInfo.asp?STOCK_ID=3530  timeout:  20\n",
      "retrying:  1\n",
      "158.101.146.40:59394  Fetching  https://goodinfo.tw/tw/BasicInfo.asp?STOCK_ID=3530  timeout:  25\n",
      "retrying:  2\n",
      "158.101.146.40:59394  Fetching  https://goodinfo.tw/tw/BasicInfo.asp?STOCK_ID=3530  timeout:  30\n",
      "retrying:  3\n",
      "185.201.88.128:6969  Fetching  https://goodinfo.tw/tw/BasicInfo.asp?STOCK_ID=3530  timeout:  20\n"
     ]
    },
    {
     "name": "stderr",
     "output_type": "stream",
     "text": [
      " 60%|██████    | 529/881 [10:58:20<12:04:18, 123.46s/it]"
     ]
    },
    {
     "name": "stdout",
     "output_type": "stream",
     "text": [
      "Success\n",
      "158.101.146.40:59394  Fetching  https://goodinfo.tw/tw/BasicInfo.asp?STOCK_ID=3532  timeout:  20\n",
      "retrying:  1\n",
      "158.101.146.40:59394  Fetching  https://goodinfo.tw/tw/BasicInfo.asp?STOCK_ID=3532  timeout:  25\n",
      "retrying:  2\n",
      "158.101.146.40:59394  Fetching  https://goodinfo.tw/tw/BasicInfo.asp?STOCK_ID=3532  timeout:  30\n",
      "retrying:  3\n",
      "155.0.181.254:43496  Fetching  https://goodinfo.tw/tw/BasicInfo.asp?STOCK_ID=3532  timeout:  20\n",
      "retrying:  1\n",
      "155.0.181.254:43496  Fetching  https://goodinfo.tw/tw/BasicInfo.asp?STOCK_ID=3532  timeout:  25\n"
     ]
    },
    {
     "name": "stderr",
     "output_type": "stream",
     "text": [
      " 60%|██████    | 530/881 [11:00:15<11:46:59, 120.85s/it]"
     ]
    },
    {
     "name": "stdout",
     "output_type": "stream",
     "text": [
      "Success\n",
      "185.201.88.128:6969  Fetching  https://goodinfo.tw/tw/BasicInfo.asp?STOCK_ID=3533  timeout:  20\n"
     ]
    },
    {
     "name": "stderr",
     "output_type": "stream",
     "text": [
      " 60%|██████    | 531/881 [11:00:24<8:29:52, 87.41s/it]  "
     ]
    },
    {
     "name": "stdout",
     "output_type": "stream",
     "text": [
      "Success\n",
      "200.105.215.18:33630  Fetching  https://goodinfo.tw/tw/BasicInfo.asp?STOCK_ID=3535  timeout:  20\n"
     ]
    },
    {
     "name": "stderr",
     "output_type": "stream",
     "text": [
      " 60%|██████    | 532/881 [11:00:36<6:16:25, 64.72s/it]"
     ]
    },
    {
     "name": "stdout",
     "output_type": "stream",
     "text": [
      "Success\n",
      "185.201.88.128:6969  Fetching  https://goodinfo.tw/tw/BasicInfo.asp?STOCK_ID=3536  timeout:  20\n",
      "retrying:  1\n",
      "185.201.88.128:6969  Fetching  https://goodinfo.tw/tw/BasicInfo.asp?STOCK_ID=3536  timeout:  25\n"
     ]
    },
    {
     "name": "stderr",
     "output_type": "stream",
     "text": [
      " 60%|██████    | 533/881 [11:01:09<5:18:56, 54.99s/it]"
     ]
    },
    {
     "name": "stdout",
     "output_type": "stream",
     "text": [
      "Success\n",
      "185.201.88.128:6969  Fetching  https://goodinfo.tw/tw/BasicInfo.asp?STOCK_ID=3543  timeout:  20\n",
      "retrying:  1\n",
      "185.201.88.128:6969  Fetching  https://goodinfo.tw/tw/BasicInfo.asp?STOCK_ID=3543  timeout:  25\n",
      "retrying:  2\n",
      "185.201.88.128:6969  Fetching  https://goodinfo.tw/tw/BasicInfo.asp?STOCK_ID=3543  timeout:  30\n"
     ]
    },
    {
     "name": "stderr",
     "output_type": "stream",
     "text": [
      " 61%|██████    | 534/881 [11:02:14<5:37:03, 58.28s/it]"
     ]
    },
    {
     "name": "stdout",
     "output_type": "stream",
     "text": [
      "Success\n",
      "200.105.215.18:33630  Fetching  https://goodinfo.tw/tw/BasicInfo.asp?STOCK_ID=3545  timeout:  20\n"
     ]
    },
    {
     "name": "stderr",
     "output_type": "stream",
     "text": [
      " 61%|██████    | 535/881 [11:02:21<4:06:53, 42.81s/it]"
     ]
    },
    {
     "name": "stdout",
     "output_type": "stream",
     "text": [
      "Success\n",
      "158.101.146.40:59394  Fetching  https://goodinfo.tw/tw/BasicInfo.asp?STOCK_ID=3550  timeout:  20\n",
      "retrying:  1\n",
      "158.101.146.40:59394  Fetching  https://goodinfo.tw/tw/BasicInfo.asp?STOCK_ID=3550  timeout:  25\n",
      "retrying:  2\n",
      "158.101.146.40:59394  Fetching  https://goodinfo.tw/tw/BasicInfo.asp?STOCK_ID=3550  timeout:  30\n",
      "retrying:  3\n",
      "47.242.168.144:59394  Fetching  https://goodinfo.tw/tw/BasicInfo.asp?STOCK_ID=3550  timeout:  20\n",
      "retrying:  1\n",
      "47.242.168.144:59394  Fetching  https://goodinfo.tw/tw/BasicInfo.asp?STOCK_ID=3550  timeout:  25\n",
      "retrying:  2\n",
      "47.242.168.144:59394  Fetching  https://goodinfo.tw/tw/BasicInfo.asp?STOCK_ID=3550  timeout:  30\n",
      "retrying:  3\n",
      "158.101.146.40:59394  Fetching  https://goodinfo.tw/tw/BasicInfo.asp?STOCK_ID=3550  timeout:  20\n",
      "retrying:  1\n",
      "158.101.146.40:59394  Fetching  https://goodinfo.tw/tw/BasicInfo.asp?STOCK_ID=3550  timeout:  25\n",
      "retrying:  2\n",
      "158.101.146.40:59394  Fetching  https://goodinfo.tw/tw/BasicInfo.asp?STOCK_ID=3550  timeout:  30\n",
      "retrying:  3\n",
      "200.105.215.18:33630  Fetching  https://goodinfo.tw/tw/BasicInfo.asp?STOCK_ID=3550  timeout:  20\n",
      "retrying:  1\n",
      "200.105.215.18:33630  Fetching  https://goodinfo.tw/tw/BasicInfo.asp?STOCK_ID=3550  timeout:  25\n"
     ]
    },
    {
     "name": "stderr",
     "output_type": "stream",
     "text": [
      " 61%|██████    | 536/881 [11:06:48<10:33:10, 110.12s/it]"
     ]
    },
    {
     "name": "stdout",
     "output_type": "stream",
     "text": [
      "Success\n",
      "47.242.168.144:59394  Fetching  https://goodinfo.tw/tw/BasicInfo.asp?STOCK_ID=3557  timeout:  20\n",
      "retrying:  1\n",
      "47.242.168.144:59394  Fetching  https://goodinfo.tw/tw/BasicInfo.asp?STOCK_ID=3557  timeout:  25\n",
      "retrying:  2\n",
      "47.242.168.144:59394  Fetching  https://goodinfo.tw/tw/BasicInfo.asp?STOCK_ID=3557  timeout:  30\n",
      "retrying:  3\n",
      "200.105.215.18:33630  Fetching  https://goodinfo.tw/tw/BasicInfo.asp?STOCK_ID=3557  timeout:  20\n",
      "retrying:  1\n",
      "200.105.215.18:33630  Fetching  https://goodinfo.tw/tw/BasicInfo.asp?STOCK_ID=3557  timeout:  25\n"
     ]
    },
    {
     "name": "stderr",
     "output_type": "stream",
     "text": [
      " 61%|██████    | 537/881 [11:08:31<10:17:42, 107.74s/it]"
     ]
    },
    {
     "name": "stdout",
     "output_type": "stream",
     "text": [
      "Success\n",
      "155.0.181.254:43496  Fetching  https://goodinfo.tw/tw/BasicInfo.asp?STOCK_ID=3563  timeout:  20\n"
     ]
    },
    {
     "name": "stderr",
     "output_type": "stream",
     "text": [
      " 61%|██████    | 538/881 [11:08:39<7:25:33, 77.94s/it]  "
     ]
    },
    {
     "name": "stdout",
     "output_type": "stream",
     "text": [
      "Success\n",
      "47.242.168.144:59394  Fetching  https://goodinfo.tw/tw/BasicInfo.asp?STOCK_ID=3576  timeout:  20\n",
      "retrying:  1\n",
      "47.242.168.144:59394  Fetching  https://goodinfo.tw/tw/BasicInfo.asp?STOCK_ID=3576  timeout:  25\n",
      "retrying:  2\n",
      "47.242.168.144:59394  Fetching  https://goodinfo.tw/tw/BasicInfo.asp?STOCK_ID=3576  timeout:  30\n",
      "retrying:  3\n",
      "158.101.146.40:59394  Fetching  https://goodinfo.tw/tw/BasicInfo.asp?STOCK_ID=3576  timeout:  20\n",
      "retrying:  1\n",
      "158.101.146.40:59394  Fetching  https://goodinfo.tw/tw/BasicInfo.asp?STOCK_ID=3576  timeout:  25\n",
      "retrying:  2\n",
      "158.101.146.40:59394  Fetching  https://goodinfo.tw/tw/BasicInfo.asp?STOCK_ID=3576  timeout:  30\n",
      "retrying:  3\n",
      "158.101.146.40:59394  Fetching  https://goodinfo.tw/tw/BasicInfo.asp?STOCK_ID=3576  timeout:  20\n",
      "retrying:  1\n",
      "158.101.146.40:59394  Fetching  https://goodinfo.tw/tw/BasicInfo.asp?STOCK_ID=3576  timeout:  25\n",
      "retrying:  2\n",
      "158.101.146.40:59394  Fetching  https://goodinfo.tw/tw/BasicInfo.asp?STOCK_ID=3576  timeout:  30\n",
      "retrying:  3\n",
      "47.242.168.144:59394  Fetching  https://goodinfo.tw/tw/BasicInfo.asp?STOCK_ID=3576  timeout:  20\n",
      "retrying:  1\n",
      "47.242.168.144:59394  Fetching  https://goodinfo.tw/tw/BasicInfo.asp?STOCK_ID=3576  timeout:  25\n",
      "retrying:  2\n",
      "47.242.168.144:59394  Fetching  https://goodinfo.tw/tw/BasicInfo.asp?STOCK_ID=3576  timeout:  30\n",
      "retrying:  3\n",
      "47.242.168.144:59394  Fetching  https://goodinfo.tw/tw/BasicInfo.asp?STOCK_ID=3576  timeout:  20\n",
      "retrying:  1\n",
      "47.242.168.144:59394  Fetching  https://goodinfo.tw/tw/BasicInfo.asp?STOCK_ID=3576  timeout:  25\n",
      "retrying:  2\n",
      "47.242.168.144:59394  Fetching  https://goodinfo.tw/tw/BasicInfo.asp?STOCK_ID=3576  timeout:  30\n"
     ]
    },
    {
     "name": "stderr",
     "output_type": "stream",
     "text": [
      " 61%|██████    | 539/881 [11:14:54<15:52:46, 167.15s/it]"
     ]
    },
    {
     "name": "stdout",
     "output_type": "stream",
     "text": [
      "retrying:  3\n",
      "155.0.181.254:43496  Fetching  https://goodinfo.tw/tw/BasicInfo.asp?STOCK_ID=3583  timeout:  20\n"
     ]
    },
    {
     "name": "stderr",
     "output_type": "stream",
     "text": [
      " 61%|██████▏   | 540/881 [11:15:01<11:16:10, 118.98s/it]"
     ]
    },
    {
     "name": "stdout",
     "output_type": "stream",
     "text": [
      "Success\n",
      "47.242.168.144:59394  Fetching  https://goodinfo.tw/tw/BasicInfo.asp?STOCK_ID=3588  timeout:  20\n",
      "retrying:  1\n",
      "47.242.168.144:59394  Fetching  https://goodinfo.tw/tw/BasicInfo.asp?STOCK_ID=3588  timeout:  25\n",
      "retrying:  2\n",
      "47.242.168.144:59394  Fetching  https://goodinfo.tw/tw/BasicInfo.asp?STOCK_ID=3588  timeout:  30\n",
      "retrying:  3\n",
      "185.201.88.128:6969  Fetching  https://goodinfo.tw/tw/BasicInfo.asp?STOCK_ID=3588  timeout:  20\n"
     ]
    },
    {
     "name": "stderr",
     "output_type": "stream",
     "text": [
      " 61%|██████▏   | 541/881 [11:16:20<10:07:09, 107.15s/it]"
     ]
    },
    {
     "name": "stdout",
     "output_type": "stream",
     "text": [
      "Success\n",
      "200.105.215.18:33630  Fetching  https://goodinfo.tw/tw/BasicInfo.asp?STOCK_ID=3591  timeout:  20\n"
     ]
    },
    {
     "name": "stderr",
     "output_type": "stream",
     "text": [
      " 62%|██████▏   | 542/881 [11:16:29<7:17:35, 77.45s/it]  "
     ]
    },
    {
     "name": "stdout",
     "output_type": "stream",
     "text": [
      "Success\n",
      "200.105.215.18:33630  Fetching  https://goodinfo.tw/tw/BasicInfo.asp?STOCK_ID=3593  timeout:  20\n"
     ]
    },
    {
     "name": "stderr",
     "output_type": "stream",
     "text": [
      " 62%|██████▏   | 543/881 [11:16:39<5:22:46, 57.30s/it]"
     ]
    },
    {
     "name": "stdout",
     "output_type": "stream",
     "text": [
      "Success\n",
      "158.101.146.40:59394  Fetching  https://goodinfo.tw/tw/BasicInfo.asp?STOCK_ID=3596  timeout:  20\n",
      "retrying:  1\n",
      "158.101.146.40:59394  Fetching  https://goodinfo.tw/tw/BasicInfo.asp?STOCK_ID=3596  timeout:  25\n",
      "retrying:  2\n",
      "158.101.146.40:59394  Fetching  https://goodinfo.tw/tw/BasicInfo.asp?STOCK_ID=3596  timeout:  30\n",
      "retrying:  3\n",
      "155.0.181.254:43496  Fetching  https://goodinfo.tw/tw/BasicInfo.asp?STOCK_ID=3596  timeout:  20\n",
      "retrying:  1\n",
      "155.0.181.254:43496  Fetching  https://goodinfo.tw/tw/BasicInfo.asp?STOCK_ID=3596  timeout:  25\n",
      "retrying:  2\n",
      "155.0.181.254:43496  Fetching  https://goodinfo.tw/tw/BasicInfo.asp?STOCK_ID=3596  timeout:  30\n",
      "retrying:  3\n",
      "200.105.215.18:33630  Fetching  https://goodinfo.tw/tw/BasicInfo.asp?STOCK_ID=3596  timeout:  20\n",
      "retrying:  1\n",
      "200.105.215.18:33630  Fetching  https://goodinfo.tw/tw/BasicInfo.asp?STOCK_ID=3596  timeout:  25\n"
     ]
    },
    {
     "name": "stderr",
     "output_type": "stream",
     "text": [
      " 62%|██████▏   | 544/881 [11:19:34<8:40:52, 92.74s/it]"
     ]
    },
    {
     "name": "stdout",
     "output_type": "stream",
     "text": [
      "Success\n",
      "155.0.181.254:43496  Fetching  https://goodinfo.tw/tw/BasicInfo.asp?STOCK_ID=3605  timeout:  20\n",
      "retrying:  1\n",
      "155.0.181.254:43496  Fetching  https://goodinfo.tw/tw/BasicInfo.asp?STOCK_ID=3605  timeout:  25\n",
      "retrying:  2\n",
      "155.0.181.254:43496  Fetching  https://goodinfo.tw/tw/BasicInfo.asp?STOCK_ID=3605  timeout:  30\n"
     ]
    },
    {
     "name": "stderr",
     "output_type": "stream",
     "text": [
      " 62%|██████▏   | 545/881 [11:20:28<7:34:11, 81.11s/it]"
     ]
    },
    {
     "name": "stdout",
     "output_type": "stream",
     "text": [
      "Success\n",
      "47.242.168.144:59394  Fetching  https://goodinfo.tw/tw/BasicInfo.asp?STOCK_ID=3607  timeout:  20\n",
      "retrying:  1\n",
      "47.242.168.144:59394  Fetching  https://goodinfo.tw/tw/BasicInfo.asp?STOCK_ID=3607  timeout:  25\n",
      "retrying:  2\n",
      "47.242.168.144:59394  Fetching  https://goodinfo.tw/tw/BasicInfo.asp?STOCK_ID=3607  timeout:  30\n",
      "retrying:  3\n",
      "158.101.146.40:59394  Fetching  https://goodinfo.tw/tw/BasicInfo.asp?STOCK_ID=3607  timeout:  20\n",
      "retrying:  1\n",
      "158.101.146.40:59394  Fetching  https://goodinfo.tw/tw/BasicInfo.asp?STOCK_ID=3607  timeout:  25\n",
      "retrying:  2\n",
      "158.101.146.40:59394  Fetching  https://goodinfo.tw/tw/BasicInfo.asp?STOCK_ID=3607  timeout:  30\n",
      "retrying:  3\n",
      "185.201.88.128:6969  Fetching  https://goodinfo.tw/tw/BasicInfo.asp?STOCK_ID=3607  timeout:  20\n",
      "retrying:  1\n",
      "185.201.88.128:6969  Fetching  https://goodinfo.tw/tw/BasicInfo.asp?STOCK_ID=3607  timeout:  25\n"
     ]
    },
    {
     "name": "stderr",
     "output_type": "stream",
     "text": [
      " 62%|██████▏   | 546/881 [11:23:28<10:17:54, 110.67s/it]"
     ]
    },
    {
     "name": "stdout",
     "output_type": "stream",
     "text": [
      "Success\n",
      "158.101.146.40:59394  Fetching  https://goodinfo.tw/tw/BasicInfo.asp?STOCK_ID=3617  timeout:  20\n",
      "retrying:  1\n",
      "158.101.146.40:59394  Fetching  https://goodinfo.tw/tw/BasicInfo.asp?STOCK_ID=3617  timeout:  25\n",
      "retrying:  2\n",
      "158.101.146.40:59394  Fetching  https://goodinfo.tw/tw/BasicInfo.asp?STOCK_ID=3617  timeout:  30\n",
      "retrying:  3\n",
      "155.0.181.254:43496  Fetching  https://goodinfo.tw/tw/BasicInfo.asp?STOCK_ID=3617  timeout:  20\n"
     ]
    },
    {
     "name": "stderr",
     "output_type": "stream",
     "text": [
      " 62%|██████▏   | 547/881 [11:24:50<9:28:32, 102.13s/it] "
     ]
    },
    {
     "name": "stdout",
     "output_type": "stream",
     "text": [
      "Success\n",
      "200.105.215.18:33630  Fetching  https://goodinfo.tw/tw/BasicInfo.asp?STOCK_ID=3622  timeout:  20\n"
     ]
    },
    {
     "name": "stderr",
     "output_type": "stream",
     "text": [
      " 62%|██████▏   | 548/881 [11:25:01<6:55:00, 74.78s/it] "
     ]
    },
    {
     "name": "stdout",
     "output_type": "stream",
     "text": [
      "Success\n",
      "200.105.215.18:33630  Fetching  https://goodinfo.tw/tw/BasicInfo.asp?STOCK_ID=3645  timeout:  20\n"
     ]
    },
    {
     "name": "stderr",
     "output_type": "stream",
     "text": [
      " 62%|██████▏   | 549/881 [11:25:07<4:58:42, 53.98s/it]"
     ]
    },
    {
     "name": "stdout",
     "output_type": "stream",
     "text": [
      "Success\n",
      "185.201.88.128:6969  Fetching  https://goodinfo.tw/tw/BasicInfo.asp?STOCK_ID=3653  timeout:  20\n",
      "retrying:  1\n",
      "185.201.88.128:6969  Fetching  https://goodinfo.tw/tw/BasicInfo.asp?STOCK_ID=3653  timeout:  25\n",
      "retrying:  2\n",
      "185.201.88.128:6969  Fetching  https://goodinfo.tw/tw/BasicInfo.asp?STOCK_ID=3653  timeout:  30\n",
      "retrying:  3\n",
      "158.101.146.40:59394  Fetching  https://goodinfo.tw/tw/BasicInfo.asp?STOCK_ID=3653  timeout:  20\n",
      "retrying:  1\n",
      "158.101.146.40:59394  Fetching  https://goodinfo.tw/tw/BasicInfo.asp?STOCK_ID=3653  timeout:  25\n",
      "retrying:  2\n",
      "158.101.146.40:59394  Fetching  https://goodinfo.tw/tw/BasicInfo.asp?STOCK_ID=3653  timeout:  30\n",
      "retrying:  3\n",
      "158.101.146.40:59394  Fetching  https://goodinfo.tw/tw/BasicInfo.asp?STOCK_ID=3653  timeout:  20\n",
      "retrying:  1\n",
      "158.101.146.40:59394  Fetching  https://goodinfo.tw/tw/BasicInfo.asp?STOCK_ID=3653  timeout:  25\n",
      "retrying:  2\n",
      "158.101.146.40:59394  Fetching  https://goodinfo.tw/tw/BasicInfo.asp?STOCK_ID=3653  timeout:  30\n",
      "retrying:  3\n",
      "200.105.215.18:33630  Fetching  https://goodinfo.tw/tw/BasicInfo.asp?STOCK_ID=3653  timeout:  20\n"
     ]
    },
    {
     "name": "stderr",
     "output_type": "stream",
     "text": [
      " 62%|██████▏   | 550/881 [11:28:58<9:51:04, 107.14s/it]"
     ]
    },
    {
     "name": "stdout",
     "output_type": "stream",
     "text": [
      "Success\n",
      "200.105.215.18:33630  Fetching  https://goodinfo.tw/tw/BasicInfo.asp?STOCK_ID=3661  timeout:  20\n",
      "retrying:  1\n",
      "200.105.215.18:33630  Fetching  https://goodinfo.tw/tw/BasicInfo.asp?STOCK_ID=3661  timeout:  25\n"
     ]
    },
    {
     "name": "stderr",
     "output_type": "stream",
     "text": [
      " 63%|██████▎   | 551/881 [11:29:40<8:01:44, 87.59s/it] "
     ]
    },
    {
     "name": "stdout",
     "output_type": "stream",
     "text": [
      "Success\n",
      "47.242.168.144:59394  Fetching  https://goodinfo.tw/tw/BasicInfo.asp?STOCK_ID=3665  timeout:  20\n",
      "retrying:  1\n",
      "47.242.168.144:59394  Fetching  https://goodinfo.tw/tw/BasicInfo.asp?STOCK_ID=3665  timeout:  25\n",
      "retrying:  2\n",
      "47.242.168.144:59394  Fetching  https://goodinfo.tw/tw/BasicInfo.asp?STOCK_ID=3665  timeout:  30\n",
      "retrying:  3\n",
      "47.242.168.144:59394  Fetching  https://goodinfo.tw/tw/BasicInfo.asp?STOCK_ID=3665  timeout:  20\n",
      "retrying:  1\n",
      "47.242.168.144:59394  Fetching  https://goodinfo.tw/tw/BasicInfo.asp?STOCK_ID=3665  timeout:  25\n",
      "retrying:  2\n",
      "47.242.168.144:59394  Fetching  https://goodinfo.tw/tw/BasicInfo.asp?STOCK_ID=3665  timeout:  30\n",
      "retrying:  3\n",
      "155.0.181.254:43496  Fetching  https://goodinfo.tw/tw/BasicInfo.asp?STOCK_ID=3665  timeout:  20\n",
      "retrying:  1\n",
      "155.0.181.254:43496  Fetching  https://goodinfo.tw/tw/BasicInfo.asp?STOCK_ID=3665  timeout:  25\n"
     ]
    },
    {
     "name": "stderr",
     "output_type": "stream",
     "text": [
      " 63%|██████▎   | 552/881 [11:32:37<10:27:17, 114.40s/it]"
     ]
    },
    {
     "name": "stdout",
     "output_type": "stream",
     "text": [
      "Success\n",
      "158.101.146.40:59394  Fetching  https://goodinfo.tw/tw/BasicInfo.asp?STOCK_ID=3669  timeout:  20\n",
      "retrying:  1\n",
      "158.101.146.40:59394  Fetching  https://goodinfo.tw/tw/BasicInfo.asp?STOCK_ID=3669  timeout:  25\n",
      "retrying:  2\n",
      "158.101.146.40:59394  Fetching  https://goodinfo.tw/tw/BasicInfo.asp?STOCK_ID=3669  timeout:  30\n",
      "retrying:  3\n",
      "47.242.168.144:59394  Fetching  https://goodinfo.tw/tw/BasicInfo.asp?STOCK_ID=3669  timeout:  20\n",
      "retrying:  1\n",
      "47.242.168.144:59394  Fetching  https://goodinfo.tw/tw/BasicInfo.asp?STOCK_ID=3669  timeout:  25\n",
      "retrying:  2\n",
      "47.242.168.144:59394  Fetching  https://goodinfo.tw/tw/BasicInfo.asp?STOCK_ID=3669  timeout:  30\n",
      "retrying:  3\n",
      "47.242.168.144:59394  Fetching  https://goodinfo.tw/tw/BasicInfo.asp?STOCK_ID=3669  timeout:  20\n",
      "retrying:  1\n",
      "47.242.168.144:59394  Fetching  https://goodinfo.tw/tw/BasicInfo.asp?STOCK_ID=3669  timeout:  25\n",
      "retrying:  2\n",
      "47.242.168.144:59394  Fetching  https://goodinfo.tw/tw/BasicInfo.asp?STOCK_ID=3669  timeout:  30\n",
      "retrying:  3\n",
      "155.0.181.254:43496  Fetching  https://goodinfo.tw/tw/BasicInfo.asp?STOCK_ID=3669  timeout:  20\n"
     ]
    },
    {
     "name": "stderr",
     "output_type": "stream",
     "text": [
      " 63%|██████▎   | 553/881 [11:36:26<13:34:03, 148.91s/it]"
     ]
    },
    {
     "name": "stdout",
     "output_type": "stream",
     "text": [
      "Success\n",
      "158.101.146.40:59394  Fetching  https://goodinfo.tw/tw/BasicInfo.asp?STOCK_ID=3673  timeout:  20\n",
      "retrying:  1\n",
      "158.101.146.40:59394  Fetching  https://goodinfo.tw/tw/BasicInfo.asp?STOCK_ID=3673  timeout:  25\n",
      "retrying:  2\n",
      "158.101.146.40:59394  Fetching  https://goodinfo.tw/tw/BasicInfo.asp?STOCK_ID=3673  timeout:  30\n",
      "retrying:  3\n",
      "185.201.88.128:6969  Fetching  https://goodinfo.tw/tw/BasicInfo.asp?STOCK_ID=3673  timeout:  20\n",
      "retrying:  1\n",
      "185.201.88.128:6969  Fetching  https://goodinfo.tw/tw/BasicInfo.asp?STOCK_ID=3673  timeout:  25\n",
      "retrying:  2\n",
      "185.201.88.128:6969  Fetching  https://goodinfo.tw/tw/BasicInfo.asp?STOCK_ID=3673  timeout:  30\n",
      "retrying:  3\n",
      "158.101.146.40:59394  Fetching  https://goodinfo.tw/tw/BasicInfo.asp?STOCK_ID=3673  timeout:  20\n",
      "retrying:  1\n",
      "158.101.146.40:59394  Fetching  https://goodinfo.tw/tw/BasicInfo.asp?STOCK_ID=3673  timeout:  25\n",
      "retrying:  2\n",
      "158.101.146.40:59394  Fetching  https://goodinfo.tw/tw/BasicInfo.asp?STOCK_ID=3673  timeout:  30\n",
      "retrying:  3\n",
      "47.242.168.144:59394  Fetching  https://goodinfo.tw/tw/BasicInfo.asp?STOCK_ID=3673  timeout:  20\n",
      "retrying:  1\n",
      "47.242.168.144:59394  Fetching  https://goodinfo.tw/tw/BasicInfo.asp?STOCK_ID=3673  timeout:  25\n",
      "retrying:  2\n",
      "47.242.168.144:59394  Fetching  https://goodinfo.tw/tw/BasicInfo.asp?STOCK_ID=3673  timeout:  30\n",
      "retrying:  3\n",
      "155.0.181.254:43496  Fetching  https://goodinfo.tw/tw/BasicInfo.asp?STOCK_ID=3673  timeout:  20\n",
      "retrying:  1\n",
      "155.0.181.254:43496  Fetching  https://goodinfo.tw/tw/BasicInfo.asp?STOCK_ID=3673  timeout:  25\n",
      "retrying:  2\n",
      "155.0.181.254:43496  Fetching  https://goodinfo.tw/tw/BasicInfo.asp?STOCK_ID=3673  timeout:  30\n"
     ]
    },
    {
     "name": "stderr",
     "output_type": "stream",
     "text": [
      " 63%|██████▎   | 554/881 [11:42:08<18:47:43, 206.92s/it]"
     ]
    },
    {
     "name": "stdout",
     "output_type": "stream",
     "text": [
      "Success\n",
      "185.201.88.128:6969  Fetching  https://goodinfo.tw/tw/BasicInfo.asp?STOCK_ID=3679  timeout:  20\n"
     ]
    },
    {
     "name": "stderr",
     "output_type": "stream",
     "text": [
      " 63%|██████▎   | 555/881 [11:42:21<13:28:11, 148.75s/it]"
     ]
    },
    {
     "name": "stdout",
     "output_type": "stream",
     "text": [
      "Success\n",
      "185.201.88.128:6969  Fetching  https://goodinfo.tw/tw/BasicInfo.asp?STOCK_ID=3682  timeout:  20\n"
     ]
    },
    {
     "name": "stderr",
     "output_type": "stream",
     "text": [
      " 63%|██████▎   | 556/881 [11:42:37<9:49:59, 108.92s/it] "
     ]
    },
    {
     "name": "stdout",
     "output_type": "stream",
     "text": [
      "Success\n",
      "200.105.215.18:33630  Fetching  https://goodinfo.tw/tw/BasicInfo.asp?STOCK_ID=3686  timeout:  20\n"
     ]
    },
    {
     "name": "stderr",
     "output_type": "stream",
     "text": [
      " 63%|██████▎   | 557/881 [11:42:44<7:01:44, 78.10s/it] "
     ]
    },
    {
     "name": "stdout",
     "output_type": "stream",
     "text": [
      "Success\n",
      "47.242.168.144:59394  Fetching  https://goodinfo.tw/tw/BasicInfo.asp?STOCK_ID=3694  timeout:  20\n",
      "retrying:  1\n",
      "47.242.168.144:59394  Fetching  https://goodinfo.tw/tw/BasicInfo.asp?STOCK_ID=3694  timeout:  25\n",
      "retrying:  2\n",
      "47.242.168.144:59394  Fetching  https://goodinfo.tw/tw/BasicInfo.asp?STOCK_ID=3694  timeout:  30\n",
      "retrying:  3\n",
      "47.242.168.144:59394  Fetching  https://goodinfo.tw/tw/BasicInfo.asp?STOCK_ID=3694  timeout:  20\n",
      "retrying:  1\n",
      "47.242.168.144:59394  Fetching  https://goodinfo.tw/tw/BasicInfo.asp?STOCK_ID=3694  timeout:  25\n",
      "retrying:  2\n",
      "47.242.168.144:59394  Fetching  https://goodinfo.tw/tw/BasicInfo.asp?STOCK_ID=3694  timeout:  30\n",
      "retrying:  3\n",
      "47.242.168.144:59394  Fetching  https://goodinfo.tw/tw/BasicInfo.asp?STOCK_ID=3694  timeout:  20\n",
      "retrying:  1\n",
      "47.242.168.144:59394  Fetching  https://goodinfo.tw/tw/BasicInfo.asp?STOCK_ID=3694  timeout:  25\n",
      "retrying:  2\n",
      "47.242.168.144:59394  Fetching  https://goodinfo.tw/tw/BasicInfo.asp?STOCK_ID=3694  timeout:  30\n",
      "retrying:  3\n",
      "200.105.215.18:33630  Fetching  https://goodinfo.tw/tw/BasicInfo.asp?STOCK_ID=3694  timeout:  20\n"
     ]
    },
    {
     "name": "stderr",
     "output_type": "stream",
     "text": [
      " 63%|██████▎   | 558/881 [11:46:33<11:05:15, 123.58s/it]"
     ]
    },
    {
     "name": "stdout",
     "output_type": "stream",
     "text": [
      "Success\n",
      "200.105.215.18:33630  Fetching  https://goodinfo.tw/tw/BasicInfo.asp?STOCK_ID=3701  timeout:  20\n"
     ]
    },
    {
     "name": "stderr",
     "output_type": "stream",
     "text": [
      " 63%|██████▎   | 559/881 [11:46:39<7:53:08, 88.16s/it]  "
     ]
    },
    {
     "name": "stdout",
     "output_type": "stream",
     "text": [
      "Success\n",
      "158.101.146.40:59394  Fetching  https://goodinfo.tw/tw/BasicInfo.asp?STOCK_ID=3702  timeout:  20\n",
      "retrying:  1\n",
      "158.101.146.40:59394  Fetching  https://goodinfo.tw/tw/BasicInfo.asp?STOCK_ID=3702  timeout:  25\n",
      "retrying:  2\n",
      "158.101.146.40:59394  Fetching  https://goodinfo.tw/tw/BasicInfo.asp?STOCK_ID=3702  timeout:  30\n",
      "retrying:  3\n",
      "47.242.168.144:59394  Fetching  https://goodinfo.tw/tw/BasicInfo.asp?STOCK_ID=3702  timeout:  20\n",
      "retrying:  1\n",
      "47.242.168.144:59394  Fetching  https://goodinfo.tw/tw/BasicInfo.asp?STOCK_ID=3702  timeout:  25\n",
      "retrying:  2\n",
      "47.242.168.144:59394  Fetching  https://goodinfo.tw/tw/BasicInfo.asp?STOCK_ID=3702  timeout:  30\n",
      "retrying:  3\n",
      "200.105.215.18:33630  Fetching  https://goodinfo.tw/tw/BasicInfo.asp?STOCK_ID=3702  timeout:  20\n",
      "retrying:  1\n",
      "200.105.215.18:33630  Fetching  https://goodinfo.tw/tw/BasicInfo.asp?STOCK_ID=3702  timeout:  25\n"
     ]
    },
    {
     "name": "stderr",
     "output_type": "stream",
     "text": [
      " 64%|██████▎   | 560/881 [11:49:43<10:25:41, 116.95s/it]"
     ]
    },
    {
     "name": "stdout",
     "output_type": "stream",
     "text": [
      "Success\n",
      "185.201.88.128:6969  Fetching  https://goodinfo.tw/tw/BasicInfo.asp?STOCK_ID=3703  timeout:  20\n",
      "retrying:  1\n",
      "185.201.88.128:6969  Fetching  https://goodinfo.tw/tw/BasicInfo.asp?STOCK_ID=3703  timeout:  25\n"
     ]
    },
    {
     "name": "stderr",
     "output_type": "stream",
     "text": [
      " 64%|██████▎   | 561/881 [11:50:10<7:59:27, 89.90s/it]  "
     ]
    },
    {
     "name": "stdout",
     "output_type": "stream",
     "text": [
      "Success\n",
      "47.242.168.144:59394  Fetching  https://goodinfo.tw/tw/BasicInfo.asp?STOCK_ID=3704  timeout:  20\n",
      "retrying:  1\n",
      "47.242.168.144:59394  Fetching  https://goodinfo.tw/tw/BasicInfo.asp?STOCK_ID=3704  timeout:  25\n",
      "retrying:  2\n",
      "47.242.168.144:59394  Fetching  https://goodinfo.tw/tw/BasicInfo.asp?STOCK_ID=3704  timeout:  30\n",
      "retrying:  3\n",
      "200.105.215.18:33630  Fetching  https://goodinfo.tw/tw/BasicInfo.asp?STOCK_ID=3704  timeout:  20\n",
      "retrying:  1\n",
      "200.105.215.18:33630  Fetching  https://goodinfo.tw/tw/BasicInfo.asp?STOCK_ID=3704  timeout:  25\n",
      "retrying:  2\n",
      "200.105.215.18:33630  Fetching  https://goodinfo.tw/tw/BasicInfo.asp?STOCK_ID=3704  timeout:  30\n",
      "retrying:  3\n",
      "158.101.146.40:59394  Fetching  https://goodinfo.tw/tw/BasicInfo.asp?STOCK_ID=3704  timeout:  20\n",
      "retrying:  1\n",
      "158.101.146.40:59394  Fetching  https://goodinfo.tw/tw/BasicInfo.asp?STOCK_ID=3704  timeout:  25\n",
      "retrying:  2\n",
      "158.101.146.40:59394  Fetching  https://goodinfo.tw/tw/BasicInfo.asp?STOCK_ID=3704  timeout:  30\n",
      "retrying:  3\n",
      "158.101.146.40:59394  Fetching  https://goodinfo.tw/tw/BasicInfo.asp?STOCK_ID=3704  timeout:  20\n",
      "retrying:  1\n",
      "158.101.146.40:59394  Fetching  https://goodinfo.tw/tw/BasicInfo.asp?STOCK_ID=3704  timeout:  25\n",
      "retrying:  2\n",
      "158.101.146.40:59394  Fetching  https://goodinfo.tw/tw/BasicInfo.asp?STOCK_ID=3704  timeout:  30\n",
      "retrying:  3\n",
      "47.242.168.144:59394  Fetching  https://goodinfo.tw/tw/BasicInfo.asp?STOCK_ID=3704  timeout:  20\n",
      "retrying:  1\n",
      "47.242.168.144:59394  Fetching  https://goodinfo.tw/tw/BasicInfo.asp?STOCK_ID=3704  timeout:  25\n",
      "retrying:  2\n",
      "47.242.168.144:59394  Fetching  https://goodinfo.tw/tw/BasicInfo.asp?STOCK_ID=3704  timeout:  30\n"
     ]
    },
    {
     "name": "stderr",
     "output_type": "stream",
     "text": [
      " 64%|██████▍   | 562/881 [11:56:25<15:33:09, 175.52s/it]"
     ]
    },
    {
     "name": "stdout",
     "output_type": "stream",
     "text": [
      "retrying:  3\n",
      "200.105.215.18:33630  Fetching  https://goodinfo.tw/tw/BasicInfo.asp?STOCK_ID=3705  timeout:  20\n"
     ]
    },
    {
     "name": "stderr",
     "output_type": "stream",
     "text": [
      " 64%|██████▍   | 563/881 [11:56:41<11:16:28, 127.64s/it]"
     ]
    },
    {
     "name": "stdout",
     "output_type": "stream",
     "text": [
      "Success\n",
      "185.201.88.128:6969  Fetching  https://goodinfo.tw/tw/BasicInfo.asp?STOCK_ID=3706  timeout:  20\n"
     ]
    },
    {
     "name": "stderr",
     "output_type": "stream",
     "text": [
      " 64%|██████▍   | 564/881 [11:56:48<8:02:40, 91.36s/it]  "
     ]
    },
    {
     "name": "stdout",
     "output_type": "stream",
     "text": [
      "Success\n",
      "47.242.168.144:59394  Fetching  https://goodinfo.tw/tw/BasicInfo.asp?STOCK_ID=3708  timeout:  20\n",
      "retrying:  1\n",
      "47.242.168.144:59394  Fetching  https://goodinfo.tw/tw/BasicInfo.asp?STOCK_ID=3708  timeout:  25\n",
      "retrying:  2\n",
      "47.242.168.144:59394  Fetching  https://goodinfo.tw/tw/BasicInfo.asp?STOCK_ID=3708  timeout:  30\n",
      "retrying:  3\n",
      "200.105.215.18:33630  Fetching  https://goodinfo.tw/tw/BasicInfo.asp?STOCK_ID=3708  timeout:  20\n"
     ]
    },
    {
     "name": "stderr",
     "output_type": "stream",
     "text": [
      " 64%|██████▍   | 565/881 [11:58:11<7:48:14, 88.91s/it]"
     ]
    },
    {
     "name": "stdout",
     "output_type": "stream",
     "text": [
      "Success\n",
      "200.105.215.18:33630  Fetching  https://goodinfo.tw/tw/BasicInfo.asp?STOCK_ID=3711  timeout:  20\n"
     ]
    },
    {
     "name": "stderr",
     "output_type": "stream",
     "text": [
      " 64%|██████▍   | 566/881 [11:58:17<5:36:15, 64.05s/it]"
     ]
    },
    {
     "name": "stdout",
     "output_type": "stream",
     "text": [
      "Success\n",
      "155.0.181.254:43496  Fetching  https://goodinfo.tw/tw/BasicInfo.asp?STOCK_ID=3712  timeout:  20\n",
      "retrying:  1\n",
      "155.0.181.254:43496  Fetching  https://goodinfo.tw/tw/BasicInfo.asp?STOCK_ID=3712  timeout:  25\n",
      "retrying:  2\n",
      "155.0.181.254:43496  Fetching  https://goodinfo.tw/tw/BasicInfo.asp?STOCK_ID=3712  timeout:  30\n"
     ]
    },
    {
     "name": "stderr",
     "output_type": "stream",
     "text": [
      " 64%|██████▍   | 567/881 [11:59:09<5:16:27, 60.47s/it]"
     ]
    },
    {
     "name": "stdout",
     "output_type": "stream",
     "text": [
      "Success\n",
      "158.101.146.40:59394  Fetching  https://goodinfo.tw/tw/BasicInfo.asp?STOCK_ID=3714  timeout:  20\n",
      "retrying:  1\n",
      "158.101.146.40:59394  Fetching  https://goodinfo.tw/tw/BasicInfo.asp?STOCK_ID=3714  timeout:  25\n",
      "retrying:  2\n",
      "158.101.146.40:59394  Fetching  https://goodinfo.tw/tw/BasicInfo.asp?STOCK_ID=3714  timeout:  30\n",
      "retrying:  3\n",
      "47.242.168.144:59394  Fetching  https://goodinfo.tw/tw/BasicInfo.asp?STOCK_ID=3714  timeout:  20\n",
      "retrying:  1\n",
      "47.242.168.144:59394  Fetching  https://goodinfo.tw/tw/BasicInfo.asp?STOCK_ID=3714  timeout:  25\n",
      "retrying:  2\n",
      "47.242.168.144:59394  Fetching  https://goodinfo.tw/tw/BasicInfo.asp?STOCK_ID=3714  timeout:  30\n",
      "retrying:  3\n",
      "155.0.181.254:43496  Fetching  https://goodinfo.tw/tw/BasicInfo.asp?STOCK_ID=3714  timeout:  20\n",
      "retrying:  1\n",
      "155.0.181.254:43496  Fetching  https://goodinfo.tw/tw/BasicInfo.asp?STOCK_ID=3714  timeout:  25\n",
      "retrying:  2\n",
      "155.0.181.254:43496  Fetching  https://goodinfo.tw/tw/BasicInfo.asp?STOCK_ID=3714  timeout:  30\n"
     ]
    },
    {
     "name": "stderr",
     "output_type": "stream",
     "text": [
      " 64%|██████▍   | 568/881 [12:02:08<8:20:39, 95.97s/it]"
     ]
    },
    {
     "name": "stdout",
     "output_type": "stream",
     "text": [
      "Success\n",
      "155.0.181.254:43496  Fetching  https://goodinfo.tw/tw/BasicInfo.asp?STOCK_ID=4104  timeout:  20\n"
     ]
    },
    {
     "name": "stderr",
     "output_type": "stream",
     "text": [
      " 65%|██████▍   | 569/881 [12:02:14<5:58:43, 68.99s/it]"
     ]
    },
    {
     "name": "stdout",
     "output_type": "stream",
     "text": [
      "Success\n",
      "158.101.146.40:59394  Fetching  https://goodinfo.tw/tw/BasicInfo.asp?STOCK_ID=4106  timeout:  20\n",
      "retrying:  1\n",
      "158.101.146.40:59394  Fetching  https://goodinfo.tw/tw/BasicInfo.asp?STOCK_ID=4106  timeout:  25\n",
      "retrying:  2\n",
      "158.101.146.40:59394  Fetching  https://goodinfo.tw/tw/BasicInfo.asp?STOCK_ID=4106  timeout:  30\n",
      "retrying:  3\n",
      "158.101.146.40:59394  Fetching  https://goodinfo.tw/tw/BasicInfo.asp?STOCK_ID=4106  timeout:  20\n",
      "retrying:  1\n",
      "158.101.146.40:59394  Fetching  https://goodinfo.tw/tw/BasicInfo.asp?STOCK_ID=4106  timeout:  25\n",
      "retrying:  2\n",
      "158.101.146.40:59394  Fetching  https://goodinfo.tw/tw/BasicInfo.asp?STOCK_ID=4106  timeout:  30\n",
      "retrying:  3\n",
      "158.101.146.40:59394  Fetching  https://goodinfo.tw/tw/BasicInfo.asp?STOCK_ID=4106  timeout:  20\n",
      "retrying:  1\n",
      "158.101.146.40:59394  Fetching  https://goodinfo.tw/tw/BasicInfo.asp?STOCK_ID=4106  timeout:  25\n",
      "retrying:  2\n",
      "158.101.146.40:59394  Fetching  https://goodinfo.tw/tw/BasicInfo.asp?STOCK_ID=4106  timeout:  30\n",
      "retrying:  3\n",
      "200.105.215.18:33630  Fetching  https://goodinfo.tw/tw/BasicInfo.asp?STOCK_ID=4106  timeout:  20\n"
     ]
    },
    {
     "name": "stderr",
     "output_type": "stream",
     "text": [
      " 65%|██████▍   | 570/881 [12:06:20<10:33:40, 122.25s/it]"
     ]
    },
    {
     "name": "stdout",
     "output_type": "stream",
     "text": [
      "Success\n",
      "200.105.215.18:33630  Fetching  https://goodinfo.tw/tw/BasicInfo.asp?STOCK_ID=4108  timeout:  20\n",
      "retrying:  1\n",
      "200.105.215.18:33630  Fetching  https://goodinfo.tw/tw/BasicInfo.asp?STOCK_ID=4108  timeout:  25\n",
      "retrying:  2\n",
      "200.105.215.18:33630  Fetching  https://goodinfo.tw/tw/BasicInfo.asp?STOCK_ID=4108  timeout:  30\n",
      "retrying:  3\n",
      "200.105.215.18:33630  Fetching  https://goodinfo.tw/tw/BasicInfo.asp?STOCK_ID=4108  timeout:  20\n"
     ]
    },
    {
     "name": "stderr",
     "output_type": "stream",
     "text": [
      " 65%|██████▍   | 571/881 [12:07:57<9:52:37, 114.70s/it] "
     ]
    },
    {
     "name": "stdout",
     "output_type": "stream",
     "text": [
      "Success\n",
      "185.201.88.128:6969  Fetching  https://goodinfo.tw/tw/BasicInfo.asp?STOCK_ID=4119  timeout:  20\n",
      "retrying:  1\n",
      "185.201.88.128:6969  Fetching  https://goodinfo.tw/tw/BasicInfo.asp?STOCK_ID=4119  timeout:  25\n",
      "retrying:  2\n",
      "185.201.88.128:6969  Fetching  https://goodinfo.tw/tw/BasicInfo.asp?STOCK_ID=4119  timeout:  30\n",
      "retrying:  3\n",
      "158.101.146.40:59394  Fetching  https://goodinfo.tw/tw/BasicInfo.asp?STOCK_ID=4119  timeout:  20\n",
      "retrying:  1\n",
      "158.101.146.40:59394  Fetching  https://goodinfo.tw/tw/BasicInfo.asp?STOCK_ID=4119  timeout:  25\n",
      "retrying:  2\n",
      "158.101.146.40:59394  Fetching  https://goodinfo.tw/tw/BasicInfo.asp?STOCK_ID=4119  timeout:  30\n",
      "retrying:  3\n",
      "158.101.146.40:59394  Fetching  https://goodinfo.tw/tw/BasicInfo.asp?STOCK_ID=4119  timeout:  20\n",
      "retrying:  1\n",
      "158.101.146.40:59394  Fetching  https://goodinfo.tw/tw/BasicInfo.asp?STOCK_ID=4119  timeout:  25\n",
      "retrying:  2\n",
      "158.101.146.40:59394  Fetching  https://goodinfo.tw/tw/BasicInfo.asp?STOCK_ID=4119  timeout:  30\n",
      "retrying:  3\n",
      "200.105.215.18:33630  Fetching  https://goodinfo.tw/tw/BasicInfo.asp?STOCK_ID=4119  timeout:  20\n",
      "retrying:  1\n",
      "200.105.215.18:33630  Fetching  https://goodinfo.tw/tw/BasicInfo.asp?STOCK_ID=4119  timeout:  25\n"
     ]
    },
    {
     "name": "stderr",
     "output_type": "stream",
     "text": [
      " 65%|██████▍   | 572/881 [12:12:10<13:24:34, 156.23s/it]"
     ]
    },
    {
     "name": "stdout",
     "output_type": "stream",
     "text": [
      "Success\n",
      "158.101.146.40:59394  Fetching  https://goodinfo.tw/tw/BasicInfo.asp?STOCK_ID=4133  timeout:  20\n",
      "retrying:  1\n",
      "158.101.146.40:59394  Fetching  https://goodinfo.tw/tw/BasicInfo.asp?STOCK_ID=4133  timeout:  25\n",
      "retrying:  2\n",
      "158.101.146.40:59394  Fetching  https://goodinfo.tw/tw/BasicInfo.asp?STOCK_ID=4133  timeout:  30\n",
      "retrying:  3\n",
      "155.0.181.254:43496  Fetching  https://goodinfo.tw/tw/BasicInfo.asp?STOCK_ID=4133  timeout:  20\n"
     ]
    },
    {
     "name": "stderr",
     "output_type": "stream",
     "text": [
      " 65%|██████▌   | 573/881 [12:13:47<11:50:01, 138.32s/it]"
     ]
    },
    {
     "name": "stdout",
     "output_type": "stream",
     "text": [
      "Success\n",
      "155.0.181.254:43496  Fetching  https://goodinfo.tw/tw/BasicInfo.asp?STOCK_ID=4137  timeout:  20\n",
      "retrying:  1\n",
      "155.0.181.254:43496  Fetching  https://goodinfo.tw/tw/BasicInfo.asp?STOCK_ID=4137  timeout:  25\n",
      "retrying:  2\n",
      "155.0.181.254:43496  Fetching  https://goodinfo.tw/tw/BasicInfo.asp?STOCK_ID=4137  timeout:  30\n",
      "retrying:  3\n",
      "158.101.146.40:59394  Fetching  https://goodinfo.tw/tw/BasicInfo.asp?STOCK_ID=4137  timeout:  20\n",
      "retrying:  1\n",
      "158.101.146.40:59394  Fetching  https://goodinfo.tw/tw/BasicInfo.asp?STOCK_ID=4137  timeout:  25\n",
      "retrying:  2\n",
      "158.101.146.40:59394  Fetching  https://goodinfo.tw/tw/BasicInfo.asp?STOCK_ID=4137  timeout:  30\n",
      "retrying:  3\n",
      "200.105.215.18:33630  Fetching  https://goodinfo.tw/tw/BasicInfo.asp?STOCK_ID=4137  timeout:  20\n"
     ]
    },
    {
     "name": "stderr",
     "output_type": "stream",
     "text": [
      " 65%|██████▌   | 574/881 [12:16:23<12:15:01, 143.65s/it]"
     ]
    },
    {
     "name": "stdout",
     "output_type": "stream",
     "text": [
      "Success\n",
      "47.242.168.144:59394  Fetching  https://goodinfo.tw/tw/BasicInfo.asp?STOCK_ID=4141  timeout:  20\n",
      "retrying:  1\n",
      "47.242.168.144:59394  Fetching  https://goodinfo.tw/tw/BasicInfo.asp?STOCK_ID=4141  timeout:  25\n",
      "retrying:  2\n",
      "47.242.168.144:59394  Fetching  https://goodinfo.tw/tw/BasicInfo.asp?STOCK_ID=4141  timeout:  30\n",
      "retrying:  3\n",
      "155.0.181.254:43496  Fetching  https://goodinfo.tw/tw/BasicInfo.asp?STOCK_ID=4141  timeout:  20\n"
     ]
    },
    {
     "name": "stderr",
     "output_type": "stream",
     "text": [
      " 65%|██████▌   | 575/881 [12:17:29<10:13:16, 120.25s/it]"
     ]
    },
    {
     "name": "stdout",
     "output_type": "stream",
     "text": [
      "Success\n",
      "47.242.168.144:59394  Fetching  https://goodinfo.tw/tw/BasicInfo.asp?STOCK_ID=4142  timeout:  20\n",
      "retrying:  1\n",
      "47.242.168.144:59394  Fetching  https://goodinfo.tw/tw/BasicInfo.asp?STOCK_ID=4142  timeout:  25\n",
      "retrying:  2\n",
      "47.242.168.144:59394  Fetching  https://goodinfo.tw/tw/BasicInfo.asp?STOCK_ID=4142  timeout:  30\n",
      "retrying:  3\n",
      "158.101.146.40:59394  Fetching  https://goodinfo.tw/tw/BasicInfo.asp?STOCK_ID=4142  timeout:  20\n",
      "retrying:  1\n",
      "158.101.146.40:59394  Fetching  https://goodinfo.tw/tw/BasicInfo.asp?STOCK_ID=4142  timeout:  25\n",
      "retrying:  2\n",
      "158.101.146.40:59394  Fetching  https://goodinfo.tw/tw/BasicInfo.asp?STOCK_ID=4142  timeout:  30\n",
      "retrying:  3\n",
      "200.105.215.18:33630  Fetching  https://goodinfo.tw/tw/BasicInfo.asp?STOCK_ID=4142  timeout:  20\n"
     ]
    },
    {
     "name": "stderr",
     "output_type": "stream",
     "text": [
      " 65%|██████▌   | 576/881 [12:20:12<11:16:39, 133.11s/it]"
     ]
    },
    {
     "name": "stdout",
     "output_type": "stream",
     "text": [
      "Success\n",
      "158.101.146.40:59394  Fetching  https://goodinfo.tw/tw/BasicInfo.asp?STOCK_ID=4148   timeout:  20\n",
      "retrying:  1\n",
      "158.101.146.40:59394  Fetching  https://goodinfo.tw/tw/BasicInfo.asp?STOCK_ID=4148   timeout:  25\n",
      "retrying:  2\n",
      "158.101.146.40:59394  Fetching  https://goodinfo.tw/tw/BasicInfo.asp?STOCK_ID=4148   timeout:  30\n",
      "retrying:  3\n",
      "200.105.215.18:33630  Fetching  https://goodinfo.tw/tw/BasicInfo.asp?STOCK_ID=4148   timeout:  20\n",
      "retrying:  1\n",
      "200.105.215.18:33630  Fetching  https://goodinfo.tw/tw/BasicInfo.asp?STOCK_ID=4148   timeout:  25\n"
     ]
    },
    {
     "name": "stderr",
     "output_type": "stream",
     "text": [
      " 65%|██████▌   | 577/881 [12:22:00<10:36:35, 125.64s/it]"
     ]
    },
    {
     "name": "stdout",
     "output_type": "stream",
     "text": [
      "Success\n",
      "185.201.88.128:6969  Fetching  https://goodinfo.tw/tw/BasicInfo.asp?STOCK_ID=4155  timeout:  20\n"
     ]
    },
    {
     "name": "stderr",
     "output_type": "stream",
     "text": [
      " 66%|██████▌   | 578/881 [12:22:21<7:55:33, 94.17s/it]  "
     ]
    },
    {
     "name": "stdout",
     "output_type": "stream",
     "text": [
      "Success\n",
      "185.201.88.128:6969  Fetching  https://goodinfo.tw/tw/BasicInfo.asp?STOCK_ID=4164  timeout:  20\n"
     ]
    },
    {
     "name": "stderr",
     "output_type": "stream",
     "text": [
      " 66%|██████▌   | 579/881 [12:22:35<5:53:14, 70.18s/it]"
     ]
    },
    {
     "name": "stdout",
     "output_type": "stream",
     "text": [
      "Success\n",
      "158.101.146.40:59394  Fetching  https://goodinfo.tw/tw/BasicInfo.asp?STOCK_ID=4190  timeout:  20\n",
      "retrying:  1\n",
      "158.101.146.40:59394  Fetching  https://goodinfo.tw/tw/BasicInfo.asp?STOCK_ID=4190  timeout:  25\n",
      "retrying:  2\n",
      "158.101.146.40:59394  Fetching  https://goodinfo.tw/tw/BasicInfo.asp?STOCK_ID=4190  timeout:  30\n",
      "retrying:  3\n",
      "185.201.88.128:6969  Fetching  https://goodinfo.tw/tw/BasicInfo.asp?STOCK_ID=4190  timeout:  20\n",
      "retrying:  1\n",
      "185.201.88.128:6969  Fetching  https://goodinfo.tw/tw/BasicInfo.asp?STOCK_ID=4190  timeout:  25\n",
      "retrying:  2\n",
      "185.201.88.128:6969  Fetching  https://goodinfo.tw/tw/BasicInfo.asp?STOCK_ID=4190  timeout:  30\n",
      "retrying:  3\n",
      "155.0.181.254:43496  Fetching  https://goodinfo.tw/tw/BasicInfo.asp?STOCK_ID=4190  timeout:  20\n"
     ]
    },
    {
     "name": "stderr",
     "output_type": "stream",
     "text": [
      " 66%|██████▌   | 580/881 [12:25:11<8:01:11, 95.92s/it]"
     ]
    },
    {
     "name": "stdout",
     "output_type": "stream",
     "text": [
      "Success\n",
      "158.101.146.40:59394  Fetching  https://goodinfo.tw/tw/BasicInfo.asp?STOCK_ID=4306  timeout:  20\n",
      "retrying:  1\n",
      "158.101.146.40:59394  Fetching  https://goodinfo.tw/tw/BasicInfo.asp?STOCK_ID=4306  timeout:  25\n",
      "retrying:  2\n",
      "158.101.146.40:59394  Fetching  https://goodinfo.tw/tw/BasicInfo.asp?STOCK_ID=4306  timeout:  30\n",
      "retrying:  3\n",
      "158.101.146.40:59394  Fetching  https://goodinfo.tw/tw/BasicInfo.asp?STOCK_ID=4306  timeout:  20\n",
      "retrying:  1\n",
      "158.101.146.40:59394  Fetching  https://goodinfo.tw/tw/BasicInfo.asp?STOCK_ID=4306  timeout:  25\n",
      "retrying:  2\n",
      "158.101.146.40:59394  Fetching  https://goodinfo.tw/tw/BasicInfo.asp?STOCK_ID=4306  timeout:  30\n",
      "retrying:  3\n",
      "155.0.181.254:43496  Fetching  https://goodinfo.tw/tw/BasicInfo.asp?STOCK_ID=4306  timeout:  20\n",
      "retrying:  1\n",
      "155.0.181.254:43496  Fetching  https://goodinfo.tw/tw/BasicInfo.asp?STOCK_ID=4306  timeout:  25\n"
     ]
    },
    {
     "name": "stderr",
     "output_type": "stream",
     "text": [
      " 66%|██████▌   | 581/881 [12:28:10<10:04:18, 120.86s/it]"
     ]
    },
    {
     "name": "stdout",
     "output_type": "stream",
     "text": [
      "Success\n",
      "185.201.88.128:6969  Fetching  https://goodinfo.tw/tw/BasicInfo.asp?STOCK_ID=4414  timeout:  20\n",
      "retrying:  1\n",
      "185.201.88.128:6969  Fetching  https://goodinfo.tw/tw/BasicInfo.asp?STOCK_ID=4414  timeout:  25\n",
      "retrying:  2\n",
      "185.201.88.128:6969  Fetching  https://goodinfo.tw/tw/BasicInfo.asp?STOCK_ID=4414  timeout:  30\n",
      "retrying:  3\n",
      "47.242.168.144:59394  Fetching  https://goodinfo.tw/tw/BasicInfo.asp?STOCK_ID=4414  timeout:  20\n",
      "retrying:  1\n",
      "47.242.168.144:59394  Fetching  https://goodinfo.tw/tw/BasicInfo.asp?STOCK_ID=4414  timeout:  25\n",
      "retrying:  2\n",
      "47.242.168.144:59394  Fetching  https://goodinfo.tw/tw/BasicInfo.asp?STOCK_ID=4414  timeout:  30\n",
      "retrying:  3\n",
      "200.105.215.18:33630  Fetching  https://goodinfo.tw/tw/BasicInfo.asp?STOCK_ID=4414  timeout:  20\n"
     ]
    },
    {
     "name": "stderr",
     "output_type": "stream",
     "text": [
      " 66%|██████▌   | 582/881 [12:30:49<10:58:57, 132.23s/it]"
     ]
    },
    {
     "name": "stdout",
     "output_type": "stream",
     "text": [
      "Success\n",
      "155.0.181.254:43496  Fetching  https://goodinfo.tw/tw/BasicInfo.asp?STOCK_ID=4426  timeout:  20\n",
      "retrying:  1\n",
      "155.0.181.254:43496  Fetching  https://goodinfo.tw/tw/BasicInfo.asp?STOCK_ID=4426  timeout:  25\n",
      "retrying:  2\n",
      "155.0.181.254:43496  Fetching  https://goodinfo.tw/tw/BasicInfo.asp?STOCK_ID=4426  timeout:  30\n",
      "retrying:  3\n",
      "47.242.168.144:59394  Fetching  https://goodinfo.tw/tw/BasicInfo.asp?STOCK_ID=4426  timeout:  20\n",
      "retrying:  1\n",
      "47.242.168.144:59394  Fetching  https://goodinfo.tw/tw/BasicInfo.asp?STOCK_ID=4426  timeout:  25\n",
      "retrying:  2\n",
      "47.242.168.144:59394  Fetching  https://goodinfo.tw/tw/BasicInfo.asp?STOCK_ID=4426  timeout:  30\n",
      "retrying:  3\n",
      "155.0.181.254:43496  Fetching  https://goodinfo.tw/tw/BasicInfo.asp?STOCK_ID=4426  timeout:  20\n",
      "retrying:  1\n",
      "155.0.181.254:43496  Fetching  https://goodinfo.tw/tw/BasicInfo.asp?STOCK_ID=4426  timeout:  25\n"
     ]
    },
    {
     "name": "stderr",
     "output_type": "stream",
     "text": [
      " 66%|██████▌   | 583/881 [12:33:52<12:13:17, 147.64s/it]"
     ]
    },
    {
     "name": "stdout",
     "output_type": "stream",
     "text": [
      "Success\n",
      "47.242.168.144:59394  Fetching  https://goodinfo.tw/tw/BasicInfo.asp?STOCK_ID=4438  timeout:  20\n",
      "retrying:  1\n",
      "47.242.168.144:59394  Fetching  https://goodinfo.tw/tw/BasicInfo.asp?STOCK_ID=4438  timeout:  25\n",
      "retrying:  2\n",
      "47.242.168.144:59394  Fetching  https://goodinfo.tw/tw/BasicInfo.asp?STOCK_ID=4438  timeout:  30\n",
      "retrying:  3\n",
      "155.0.181.254:43496  Fetching  https://goodinfo.tw/tw/BasicInfo.asp?STOCK_ID=4438  timeout:  20\n",
      "retrying:  1\n",
      "155.0.181.254:43496  Fetching  https://goodinfo.tw/tw/BasicInfo.asp?STOCK_ID=4438  timeout:  25\n",
      "retrying:  2\n",
      "155.0.181.254:43496  Fetching  https://goodinfo.tw/tw/BasicInfo.asp?STOCK_ID=4438  timeout:  30\n",
      "retrying:  3\n",
      "155.0.181.254:43496  Fetching  https://goodinfo.tw/tw/BasicInfo.asp?STOCK_ID=4438  timeout:  20\n",
      "retrying:  1\n",
      "155.0.181.254:43496  Fetching  https://goodinfo.tw/tw/BasicInfo.asp?STOCK_ID=4438  timeout:  25\n",
      "retrying:  2\n",
      "155.0.181.254:43496  Fetching  https://goodinfo.tw/tw/BasicInfo.asp?STOCK_ID=4438  timeout:  30\n",
      "retrying:  3\n",
      "200.105.215.18:33630  Fetching  https://goodinfo.tw/tw/BasicInfo.asp?STOCK_ID=4438  timeout:  20\n",
      "retrying:  1\n",
      "200.105.215.18:33630  Fetching  https://goodinfo.tw/tw/BasicInfo.asp?STOCK_ID=4438  timeout:  25\n"
     ]
    },
    {
     "name": "stderr",
     "output_type": "stream",
     "text": [
      " 66%|██████▋   | 584/881 [12:37:52<14:27:04, 175.17s/it]"
     ]
    },
    {
     "name": "stdout",
     "output_type": "stream",
     "text": [
      "Success\n",
      "155.0.181.254:43496  Fetching  https://goodinfo.tw/tw/BasicInfo.asp?STOCK_ID=4439  timeout:  20\n",
      "retrying:  1\n",
      "155.0.181.254:43496  Fetching  https://goodinfo.tw/tw/BasicInfo.asp?STOCK_ID=4439  timeout:  25\n",
      "retrying:  2\n",
      "155.0.181.254:43496  Fetching  https://goodinfo.tw/tw/BasicInfo.asp?STOCK_ID=4439  timeout:  30\n",
      "retrying:  3\n",
      "185.201.88.128:6969  Fetching  https://goodinfo.tw/tw/BasicInfo.asp?STOCK_ID=4439  timeout:  20\n",
      "retrying:  1\n",
      "185.201.88.128:6969  Fetching  https://goodinfo.tw/tw/BasicInfo.asp?STOCK_ID=4439  timeout:  25\n",
      "retrying:  2\n",
      "185.201.88.128:6969  Fetching  https://goodinfo.tw/tw/BasicInfo.asp?STOCK_ID=4439  timeout:  30\n",
      "retrying:  3\n",
      "155.0.181.254:43496  Fetching  https://goodinfo.tw/tw/BasicInfo.asp?STOCK_ID=4439  timeout:  20\n",
      "retrying:  1\n",
      "155.0.181.254:43496  Fetching  https://goodinfo.tw/tw/BasicInfo.asp?STOCK_ID=4439  timeout:  25\n",
      "retrying:  2\n",
      "155.0.181.254:43496  Fetching  https://goodinfo.tw/tw/BasicInfo.asp?STOCK_ID=4439  timeout:  30\n"
     ]
    },
    {
     "name": "stderr",
     "output_type": "stream",
     "text": [
      " 66%|██████▋   | 585/881 [12:41:28<15:25:20, 187.57s/it]"
     ]
    },
    {
     "name": "stdout",
     "output_type": "stream",
     "text": [
      "Success\n",
      "185.201.88.128:6969  Fetching  https://goodinfo.tw/tw/BasicInfo.asp?STOCK_ID=4440  timeout:  20\n",
      "retrying:  1\n",
      "185.201.88.128:6969  Fetching  https://goodinfo.tw/tw/BasicInfo.asp?STOCK_ID=4440  timeout:  25\n",
      "retrying:  2\n",
      "185.201.88.128:6969  Fetching  https://goodinfo.tw/tw/BasicInfo.asp?STOCK_ID=4440  timeout:  30\n",
      "retrying:  3\n",
      "47.242.168.144:59394  Fetching  https://goodinfo.tw/tw/BasicInfo.asp?STOCK_ID=4440  timeout:  20\n",
      "retrying:  1\n",
      "47.242.168.144:59394  Fetching  https://goodinfo.tw/tw/BasicInfo.asp?STOCK_ID=4440  timeout:  25\n",
      "retrying:  2\n",
      "47.242.168.144:59394  Fetching  https://goodinfo.tw/tw/BasicInfo.asp?STOCK_ID=4440  timeout:  30\n",
      "retrying:  3\n",
      "200.105.215.18:33630  Fetching  https://goodinfo.tw/tw/BasicInfo.asp?STOCK_ID=4440  timeout:  20\n"
     ]
    },
    {
     "name": "stderr",
     "output_type": "stream",
     "text": [
      " 67%|██████▋   | 586/881 [12:44:23<15:03:27, 183.75s/it]"
     ]
    },
    {
     "name": "stdout",
     "output_type": "stream",
     "text": [
      "Success\n",
      "185.201.88.128:6969  Fetching  https://goodinfo.tw/tw/BasicInfo.asp?STOCK_ID=4526  timeout:  20\n",
      "retrying:  1\n",
      "185.201.88.128:6969  Fetching  https://goodinfo.tw/tw/BasicInfo.asp?STOCK_ID=4526  timeout:  25\n",
      "retrying:  2\n",
      "185.201.88.128:6969  Fetching  https://goodinfo.tw/tw/BasicInfo.asp?STOCK_ID=4526  timeout:  30\n"
     ]
    },
    {
     "name": "stderr",
     "output_type": "stream",
     "text": [
      " 67%|██████▋   | 587/881 [12:45:22<11:56:41, 146.26s/it]"
     ]
    },
    {
     "name": "stdout",
     "output_type": "stream",
     "text": [
      "Success\n",
      "158.101.146.40:59394  Fetching  https://goodinfo.tw/tw/BasicInfo.asp?STOCK_ID=4532  timeout:  20\n",
      "retrying:  1\n",
      "158.101.146.40:59394  Fetching  https://goodinfo.tw/tw/BasicInfo.asp?STOCK_ID=4532  timeout:  25\n",
      "retrying:  2\n",
      "158.101.146.40:59394  Fetching  https://goodinfo.tw/tw/BasicInfo.asp?STOCK_ID=4532  timeout:  30\n",
      "retrying:  3\n",
      "47.242.168.144:59394  Fetching  https://goodinfo.tw/tw/BasicInfo.asp?STOCK_ID=4532  timeout:  20\n",
      "retrying:  1\n",
      "47.242.168.144:59394  Fetching  https://goodinfo.tw/tw/BasicInfo.asp?STOCK_ID=4532  timeout:  25\n",
      "retrying:  2\n",
      "47.242.168.144:59394  Fetching  https://goodinfo.tw/tw/BasicInfo.asp?STOCK_ID=4532  timeout:  30\n",
      "retrying:  3\n",
      "200.105.215.18:33630  Fetching  https://goodinfo.tw/tw/BasicInfo.asp?STOCK_ID=4532  timeout:  20\n"
     ]
    },
    {
     "name": "stderr",
     "output_type": "stream",
     "text": [
      " 67%|██████▋   | 588/881 [12:47:59<12:09:45, 149.44s/it]"
     ]
    },
    {
     "name": "stdout",
     "output_type": "stream",
     "text": [
      "Success\n",
      "185.201.88.128:6969  Fetching  https://goodinfo.tw/tw/BasicInfo.asp?STOCK_ID=4536  timeout:  20\n",
      "retrying:  1\n",
      "185.201.88.128:6969  Fetching  https://goodinfo.tw/tw/BasicInfo.asp?STOCK_ID=4536  timeout:  25\n",
      "retrying:  2\n",
      "185.201.88.128:6969  Fetching  https://goodinfo.tw/tw/BasicInfo.asp?STOCK_ID=4536  timeout:  30\n",
      "retrying:  3\n",
      "47.242.168.144:59394  Fetching  https://goodinfo.tw/tw/BasicInfo.asp?STOCK_ID=4536  timeout:  20\n",
      "retrying:  1\n",
      "47.242.168.144:59394  Fetching  https://goodinfo.tw/tw/BasicInfo.asp?STOCK_ID=4536  timeout:  25\n",
      "retrying:  2\n",
      "47.242.168.144:59394  Fetching  https://goodinfo.tw/tw/BasicInfo.asp?STOCK_ID=4536  timeout:  30\n",
      "retrying:  3\n",
      "200.105.215.18:33630  Fetching  https://goodinfo.tw/tw/BasicInfo.asp?STOCK_ID=4536  timeout:  20\n",
      "retrying:  1\n",
      "200.105.215.18:33630  Fetching  https://goodinfo.tw/tw/BasicInfo.asp?STOCK_ID=4536  timeout:  25\n"
     ]
    },
    {
     "name": "stderr",
     "output_type": "stream",
     "text": [
      " 67%|██████▋   | 589/881 [12:50:49<12:37:45, 155.70s/it]"
     ]
    },
    {
     "name": "stdout",
     "output_type": "stream",
     "text": [
      "Success\n",
      "155.0.181.254:43496  Fetching  https://goodinfo.tw/tw/BasicInfo.asp?STOCK_ID=4540  timeout:  20\n"
     ]
    },
    {
     "name": "stderr",
     "output_type": "stream",
     "text": [
      " 67%|██████▋   | 590/881 [12:50:57<9:00:12, 111.38s/it] "
     ]
    },
    {
     "name": "stdout",
     "output_type": "stream",
     "text": [
      "Success\n",
      "200.105.215.18:33630  Fetching  https://goodinfo.tw/tw/BasicInfo.asp?STOCK_ID=4545  timeout:  20\n"
     ]
    },
    {
     "name": "stderr",
     "output_type": "stream",
     "text": [
      " 67%|██████▋   | 591/881 [12:51:05<6:27:48, 80.24s/it] "
     ]
    },
    {
     "name": "stdout",
     "output_type": "stream",
     "text": [
      "Success\n",
      "185.201.88.128:6969  Fetching  https://goodinfo.tw/tw/BasicInfo.asp?STOCK_ID=4551  timeout:  20\n",
      "retrying:  1\n",
      "185.201.88.128:6969  Fetching  https://goodinfo.tw/tw/BasicInfo.asp?STOCK_ID=4551  timeout:  25\n",
      "retrying:  2\n",
      "185.201.88.128:6969  Fetching  https://goodinfo.tw/tw/BasicInfo.asp?STOCK_ID=4551  timeout:  30\n",
      "retrying:  3\n",
      "185.201.88.128:6969  Fetching  https://goodinfo.tw/tw/BasicInfo.asp?STOCK_ID=4551  timeout:  20\n"
     ]
    },
    {
     "name": "stderr",
     "output_type": "stream",
     "text": [
      " 67%|██████▋   | 592/881 [12:52:40<6:47:35, 84.62s/it]"
     ]
    },
    {
     "name": "stdout",
     "output_type": "stream",
     "text": [
      "Success\n",
      "185.201.88.128:6969  Fetching  https://goodinfo.tw/tw/BasicInfo.asp?STOCK_ID=4552  timeout:  20\n"
     ]
    },
    {
     "name": "stderr",
     "output_type": "stream",
     "text": [
      " 67%|██████▋   | 593/881 [12:52:47<4:55:20, 61.53s/it]"
     ]
    },
    {
     "name": "stdout",
     "output_type": "stream",
     "text": [
      "Success\n",
      "185.201.88.128:6969  Fetching  https://goodinfo.tw/tw/BasicInfo.asp?STOCK_ID=4555  timeout:  20\n",
      "retrying:  1\n",
      "185.201.88.128:6969  Fetching  https://goodinfo.tw/tw/BasicInfo.asp?STOCK_ID=4555  timeout:  25\n",
      "retrying:  2\n",
      "185.201.88.128:6969  Fetching  https://goodinfo.tw/tw/BasicInfo.asp?STOCK_ID=4555  timeout:  30\n",
      "retrying:  3\n",
      "200.105.215.18:33630  Fetching  https://goodinfo.tw/tw/BasicInfo.asp?STOCK_ID=4555  timeout:  20\n"
     ]
    },
    {
     "name": "stderr",
     "output_type": "stream",
     "text": [
      " 67%|██████▋   | 594/881 [12:54:21<5:40:14, 71.13s/it]"
     ]
    },
    {
     "name": "stdout",
     "output_type": "stream",
     "text": [
      "Success\n",
      "158.101.146.40:59394  Fetching  https://goodinfo.tw/tw/BasicInfo.asp?STOCK_ID=4557  timeout:  20\n",
      "retrying:  1\n",
      "158.101.146.40:59394  Fetching  https://goodinfo.tw/tw/BasicInfo.asp?STOCK_ID=4557  timeout:  25\n",
      "retrying:  2\n",
      "158.101.146.40:59394  Fetching  https://goodinfo.tw/tw/BasicInfo.asp?STOCK_ID=4557  timeout:  30\n",
      "retrying:  3\n",
      "155.0.181.254:43496  Fetching  https://goodinfo.tw/tw/BasicInfo.asp?STOCK_ID=4557  timeout:  20\n",
      "retrying:  1\n",
      "155.0.181.254:43496  Fetching  https://goodinfo.tw/tw/BasicInfo.asp?STOCK_ID=4557  timeout:  25\n",
      "retrying:  2\n",
      "155.0.181.254:43496  Fetching  https://goodinfo.tw/tw/BasicInfo.asp?STOCK_ID=4557  timeout:  30\n",
      "retrying:  3\n",
      "158.101.146.40:59394  Fetching  https://goodinfo.tw/tw/BasicInfo.asp?STOCK_ID=4557  timeout:  20\n",
      "retrying:  1\n",
      "158.101.146.40:59394  Fetching  https://goodinfo.tw/tw/BasicInfo.asp?STOCK_ID=4557  timeout:  25\n",
      "retrying:  2\n",
      "158.101.146.40:59394  Fetching  https://goodinfo.tw/tw/BasicInfo.asp?STOCK_ID=4557  timeout:  30\n",
      "retrying:  3\n",
      "158.101.146.40:59394  Fetching  https://goodinfo.tw/tw/BasicInfo.asp?STOCK_ID=4557  timeout:  20\n",
      "retrying:  1\n",
      "158.101.146.40:59394  Fetching  https://goodinfo.tw/tw/BasicInfo.asp?STOCK_ID=4557  timeout:  25\n",
      "retrying:  2\n",
      "158.101.146.40:59394  Fetching  https://goodinfo.tw/tw/BasicInfo.asp?STOCK_ID=4557  timeout:  30\n",
      "retrying:  3\n",
      "185.201.88.128:6969  Fetching  https://goodinfo.tw/tw/BasicInfo.asp?STOCK_ID=4557  timeout:  20\n",
      "retrying:  1\n",
      "185.201.88.128:6969  Fetching  https://goodinfo.tw/tw/BasicInfo.asp?STOCK_ID=4557  timeout:  25\n",
      "retrying:  2\n",
      "185.201.88.128:6969  Fetching  https://goodinfo.tw/tw/BasicInfo.asp?STOCK_ID=4557  timeout:  30\n"
     ]
    },
    {
     "name": "stderr",
     "output_type": "stream",
     "text": [
      " 68%|██████▊   | 595/881 [13:00:35<12:53:05, 162.19s/it]"
     ]
    },
    {
     "name": "stdout",
     "output_type": "stream",
     "text": [
      "Success\n",
      "47.242.168.144:59394  Fetching  https://goodinfo.tw/tw/BasicInfo.asp?STOCK_ID=4560  timeout:  20\n",
      "retrying:  1\n",
      "47.242.168.144:59394  Fetching  https://goodinfo.tw/tw/BasicInfo.asp?STOCK_ID=4560  timeout:  25\n",
      "retrying:  2\n",
      "47.242.168.144:59394  Fetching  https://goodinfo.tw/tw/BasicInfo.asp?STOCK_ID=4560  timeout:  30\n",
      "retrying:  3\n",
      "47.242.168.144:59394  Fetching  https://goodinfo.tw/tw/BasicInfo.asp?STOCK_ID=4560  timeout:  20\n",
      "retrying:  1\n",
      "47.242.168.144:59394  Fetching  https://goodinfo.tw/tw/BasicInfo.asp?STOCK_ID=4560  timeout:  25\n",
      "retrying:  2\n",
      "47.242.168.144:59394  Fetching  https://goodinfo.tw/tw/BasicInfo.asp?STOCK_ID=4560  timeout:  30\n",
      "retrying:  3\n",
      "155.0.181.254:43496  Fetching  https://goodinfo.tw/tw/BasicInfo.asp?STOCK_ID=4560  timeout:  20\n"
     ]
    },
    {
     "name": "stderr",
     "output_type": "stream",
     "text": [
      " 68%|██████▊   | 596/881 [13:03:18<12:51:01, 162.32s/it]"
     ]
    },
    {
     "name": "stdout",
     "output_type": "stream",
     "text": [
      "Success\n",
      "47.242.168.144:59394  Fetching  https://goodinfo.tw/tw/BasicInfo.asp?STOCK_ID=4562  timeout:  20\n",
      "retrying:  1\n",
      "47.242.168.144:59394  Fetching  https://goodinfo.tw/tw/BasicInfo.asp?STOCK_ID=4562  timeout:  25\n",
      "retrying:  2\n",
      "47.242.168.144:59394  Fetching  https://goodinfo.tw/tw/BasicInfo.asp?STOCK_ID=4562  timeout:  30\n",
      "retrying:  3\n",
      "155.0.181.254:43496  Fetching  https://goodinfo.tw/tw/BasicInfo.asp?STOCK_ID=4562  timeout:  20\n"
     ]
    },
    {
     "name": "stderr",
     "output_type": "stream",
     "text": [
      " 68%|██████▊   | 597/881 [13:04:45<11:01:07, 139.67s/it]"
     ]
    },
    {
     "name": "stdout",
     "output_type": "stream",
     "text": [
      "Success\n",
      "155.0.181.254:43496  Fetching  https://goodinfo.tw/tw/BasicInfo.asp?STOCK_ID=4564  timeout:  20\n",
      "retrying:  1\n",
      "155.0.181.254:43496  Fetching  https://goodinfo.tw/tw/BasicInfo.asp?STOCK_ID=4564  timeout:  25\n",
      "retrying:  2\n",
      "155.0.181.254:43496  Fetching  https://goodinfo.tw/tw/BasicInfo.asp?STOCK_ID=4564  timeout:  30\n",
      "retrying:  3\n",
      "158.101.146.40:59394  Fetching  https://goodinfo.tw/tw/BasicInfo.asp?STOCK_ID=4564  timeout:  20\n",
      "retrying:  1\n",
      "158.101.146.40:59394  Fetching  https://goodinfo.tw/tw/BasicInfo.asp?STOCK_ID=4564  timeout:  25\n",
      "retrying:  2\n",
      "158.101.146.40:59394  Fetching  https://goodinfo.tw/tw/BasicInfo.asp?STOCK_ID=4564  timeout:  30\n",
      "retrying:  3\n",
      "200.105.215.18:33630  Fetching  https://goodinfo.tw/tw/BasicInfo.asp?STOCK_ID=4564  timeout:  20\n"
     ]
    },
    {
     "name": "stderr",
     "output_type": "stream",
     "text": [
      " 68%|██████▊   | 598/881 [13:07:15<11:14:03, 142.91s/it]"
     ]
    },
    {
     "name": "stdout",
     "output_type": "stream",
     "text": [
      "Success\n",
      "47.242.168.144:59394  Fetching  https://goodinfo.tw/tw/BasicInfo.asp?STOCK_ID=4566  timeout:  20\n",
      "retrying:  1\n",
      "47.242.168.144:59394  Fetching  https://goodinfo.tw/tw/BasicInfo.asp?STOCK_ID=4566  timeout:  25\n",
      "retrying:  2\n",
      "47.242.168.144:59394  Fetching  https://goodinfo.tw/tw/BasicInfo.asp?STOCK_ID=4566  timeout:  30\n",
      "retrying:  3\n",
      "200.105.215.18:33630  Fetching  https://goodinfo.tw/tw/BasicInfo.asp?STOCK_ID=4566  timeout:  20\n"
     ]
    },
    {
     "name": "stderr",
     "output_type": "stream",
     "text": [
      " 68%|██████▊   | 599/881 [13:08:40<9:49:48, 125.49s/it] "
     ]
    },
    {
     "name": "stdout",
     "output_type": "stream",
     "text": [
      "Success\n",
      "158.101.146.40:59394  Fetching  https://goodinfo.tw/tw/BasicInfo.asp?STOCK_ID=4571  timeout:  20\n",
      "retrying:  1\n",
      "158.101.146.40:59394  Fetching  https://goodinfo.tw/tw/BasicInfo.asp?STOCK_ID=4571  timeout:  25\n",
      "retrying:  2\n",
      "158.101.146.40:59394  Fetching  https://goodinfo.tw/tw/BasicInfo.asp?STOCK_ID=4571  timeout:  30\n",
      "retrying:  3\n",
      "200.105.215.18:33630  Fetching  https://goodinfo.tw/tw/BasicInfo.asp?STOCK_ID=4571  timeout:  20\n"
     ]
    },
    {
     "name": "stderr",
     "output_type": "stream",
     "text": [
      " 68%|██████▊   | 600/881 [13:10:08<8:54:44, 114.18s/it]"
     ]
    },
    {
     "name": "stdout",
     "output_type": "stream",
     "text": [
      "Success\n",
      "158.101.146.40:59394  Fetching  https://goodinfo.tw/tw/BasicInfo.asp?STOCK_ID=4572  timeout:  20\n",
      "retrying:  1\n",
      "158.101.146.40:59394  Fetching  https://goodinfo.tw/tw/BasicInfo.asp?STOCK_ID=4572  timeout:  25\n",
      "retrying:  2\n",
      "158.101.146.40:59394  Fetching  https://goodinfo.tw/tw/BasicInfo.asp?STOCK_ID=4572  timeout:  30\n",
      "retrying:  3\n",
      "47.242.168.144:59394  Fetching  https://goodinfo.tw/tw/BasicInfo.asp?STOCK_ID=4572  timeout:  20\n",
      "retrying:  1\n",
      "47.242.168.144:59394  Fetching  https://goodinfo.tw/tw/BasicInfo.asp?STOCK_ID=4572  timeout:  25\n",
      "retrying:  2\n",
      "47.242.168.144:59394  Fetching  https://goodinfo.tw/tw/BasicInfo.asp?STOCK_ID=4572  timeout:  30\n",
      "retrying:  3\n",
      "47.242.168.144:59394  Fetching  https://goodinfo.tw/tw/BasicInfo.asp?STOCK_ID=4572  timeout:  20\n",
      "retrying:  1\n",
      "47.242.168.144:59394  Fetching  https://goodinfo.tw/tw/BasicInfo.asp?STOCK_ID=4572  timeout:  25\n",
      "retrying:  2\n",
      "47.242.168.144:59394  Fetching  https://goodinfo.tw/tw/BasicInfo.asp?STOCK_ID=4572  timeout:  30\n",
      "retrying:  3\n",
      "158.101.146.40:59394  Fetching  https://goodinfo.tw/tw/BasicInfo.asp?STOCK_ID=4572  timeout:  20\n",
      "retrying:  1\n",
      "158.101.146.40:59394  Fetching  https://goodinfo.tw/tw/BasicInfo.asp?STOCK_ID=4572  timeout:  25\n",
      "retrying:  2\n",
      "158.101.146.40:59394  Fetching  https://goodinfo.tw/tw/BasicInfo.asp?STOCK_ID=4572  timeout:  30\n",
      "retrying:  3\n",
      "158.101.146.40:59394  Fetching  https://goodinfo.tw/tw/BasicInfo.asp?STOCK_ID=4572  timeout:  20\n",
      "retrying:  1\n",
      "158.101.146.40:59394  Fetching  https://goodinfo.tw/tw/BasicInfo.asp?STOCK_ID=4572  timeout:  25\n",
      "retrying:  2\n",
      "158.101.146.40:59394  Fetching  https://goodinfo.tw/tw/BasicInfo.asp?STOCK_ID=4572  timeout:  30\n"
     ]
    },
    {
     "name": "stderr",
     "output_type": "stream",
     "text": [
      " 68%|██████▊   | 601/881 [13:16:23<14:58:42, 192.58s/it]"
     ]
    },
    {
     "name": "stdout",
     "output_type": "stream",
     "text": [
      "retrying:  3\n",
      "200.105.215.18:33630  Fetching  https://goodinfo.tw/tw/BasicInfo.asp?STOCK_ID=4576  timeout:  20\n"
     ]
    },
    {
     "name": "stderr",
     "output_type": "stream",
     "text": [
      " 68%|██████▊   | 602/881 [13:16:36<10:43:46, 138.45s/it]"
     ]
    },
    {
     "name": "stdout",
     "output_type": "stream",
     "text": [
      "Success\n",
      "155.0.181.254:43496  Fetching  https://goodinfo.tw/tw/BasicInfo.asp?STOCK_ID=4581  timeout:  20\n",
      "retrying:  1\n",
      "155.0.181.254:43496  Fetching  https://goodinfo.tw/tw/BasicInfo.asp?STOCK_ID=4581  timeout:  25\n"
     ]
    },
    {
     "name": "stderr",
     "output_type": "stream",
     "text": [
      " 68%|██████▊   | 603/881 [13:16:54<7:54:35, 102.43s/it] "
     ]
    },
    {
     "name": "stdout",
     "output_type": "stream",
     "text": [
      "Success\n",
      "185.201.88.128:6969  Fetching  https://goodinfo.tw/tw/BasicInfo.asp?STOCK_ID=4720  timeout:  20\n",
      "retrying:  1\n",
      "185.201.88.128:6969  Fetching  https://goodinfo.tw/tw/BasicInfo.asp?STOCK_ID=4720  timeout:  25\n",
      "retrying:  2\n",
      "185.201.88.128:6969  Fetching  https://goodinfo.tw/tw/BasicInfo.asp?STOCK_ID=4720  timeout:  30\n"
     ]
    },
    {
     "name": "stderr",
     "output_type": "stream",
     "text": [
      " 69%|██████▊   | 604/881 [13:18:09<7:14:42, 94.16s/it] "
     ]
    },
    {
     "name": "stdout",
     "output_type": "stream",
     "text": [
      "Success\n",
      "200.105.215.18:33630  Fetching  https://goodinfo.tw/tw/BasicInfo.asp?STOCK_ID=4722  timeout:  20\n"
     ]
    },
    {
     "name": "stderr",
     "output_type": "stream",
     "text": [
      " 69%|██████▊   | 605/881 [13:18:16<5:13:08, 68.07s/it]"
     ]
    },
    {
     "name": "stdout",
     "output_type": "stream",
     "text": [
      "Success\n",
      "158.101.146.40:59394  Fetching  https://goodinfo.tw/tw/BasicInfo.asp?STOCK_ID=4737  timeout:  20\n",
      "retrying:  1\n",
      "158.101.146.40:59394  Fetching  https://goodinfo.tw/tw/BasicInfo.asp?STOCK_ID=4737  timeout:  25\n",
      "retrying:  2\n",
      "158.101.146.40:59394  Fetching  https://goodinfo.tw/tw/BasicInfo.asp?STOCK_ID=4737  timeout:  30\n",
      "retrying:  3\n",
      "200.105.215.18:33630  Fetching  https://goodinfo.tw/tw/BasicInfo.asp?STOCK_ID=4737  timeout:  20\n",
      "retrying:  1\n",
      "200.105.215.18:33630  Fetching  https://goodinfo.tw/tw/BasicInfo.asp?STOCK_ID=4737  timeout:  25\n"
     ]
    },
    {
     "name": "stderr",
     "output_type": "stream",
     "text": [
      " 69%|██████▉   | 606/881 [13:20:16<6:23:34, 83.69s/it]"
     ]
    },
    {
     "name": "stdout",
     "output_type": "stream",
     "text": [
      "Success\n",
      "185.201.88.128:6969  Fetching  https://goodinfo.tw/tw/BasicInfo.asp?STOCK_ID=4739  timeout:  20\n",
      "retrying:  1\n",
      "185.201.88.128:6969  Fetching  https://goodinfo.tw/tw/BasicInfo.asp?STOCK_ID=4739  timeout:  25\n",
      "retrying:  2\n",
      "185.201.88.128:6969  Fetching  https://goodinfo.tw/tw/BasicInfo.asp?STOCK_ID=4739  timeout:  30\n",
      "retrying:  3\n",
      "200.105.215.18:33630  Fetching  https://goodinfo.tw/tw/BasicInfo.asp?STOCK_ID=4739  timeout:  20\n"
     ]
    },
    {
     "name": "stderr",
     "output_type": "stream",
     "text": [
      " 69%|██████▉   | 607/881 [13:21:52<6:38:21, 87.23s/it]"
     ]
    },
    {
     "name": "stdout",
     "output_type": "stream",
     "text": [
      "Success\n",
      "47.242.168.144:59394  Fetching  https://goodinfo.tw/tw/BasicInfo.asp?STOCK_ID=4746  timeout:  20\n",
      "retrying:  1\n",
      "47.242.168.144:59394  Fetching  https://goodinfo.tw/tw/BasicInfo.asp?STOCK_ID=4746  timeout:  25\n",
      "retrying:  2\n",
      "47.242.168.144:59394  Fetching  https://goodinfo.tw/tw/BasicInfo.asp?STOCK_ID=4746  timeout:  30\n",
      "retrying:  3\n",
      "155.0.181.254:43496  Fetching  https://goodinfo.tw/tw/BasicInfo.asp?STOCK_ID=4746  timeout:  20\n"
     ]
    },
    {
     "name": "stderr",
     "output_type": "stream",
     "text": [
      " 69%|██████▉   | 608/881 [13:23:15<6:32:17, 86.22s/it]"
     ]
    },
    {
     "name": "stdout",
     "output_type": "stream",
     "text": [
      "Success\n",
      "185.201.88.128:6969  Fetching  https://goodinfo.tw/tw/BasicInfo.asp?STOCK_ID=4755  timeout:  20\n",
      "retrying:  1\n",
      "185.201.88.128:6969  Fetching  https://goodinfo.tw/tw/BasicInfo.asp?STOCK_ID=4755  timeout:  25\n",
      "retrying:  2\n",
      "185.201.88.128:6969  Fetching  https://goodinfo.tw/tw/BasicInfo.asp?STOCK_ID=4755  timeout:  30\n",
      "retrying:  3\n",
      "158.101.146.40:59394  Fetching  https://goodinfo.tw/tw/BasicInfo.asp?STOCK_ID=4755  timeout:  20\n",
      "retrying:  1\n",
      "158.101.146.40:59394  Fetching  https://goodinfo.tw/tw/BasicInfo.asp?STOCK_ID=4755  timeout:  25\n",
      "retrying:  2\n",
      "158.101.146.40:59394  Fetching  https://goodinfo.tw/tw/BasicInfo.asp?STOCK_ID=4755  timeout:  30\n",
      "retrying:  3\n",
      "47.242.168.144:59394  Fetching  https://goodinfo.tw/tw/BasicInfo.asp?STOCK_ID=4755  timeout:  20\n",
      "retrying:  1\n",
      "47.242.168.144:59394  Fetching  https://goodinfo.tw/tw/BasicInfo.asp?STOCK_ID=4755  timeout:  25\n",
      "retrying:  2\n",
      "47.242.168.144:59394  Fetching  https://goodinfo.tw/tw/BasicInfo.asp?STOCK_ID=4755  timeout:  30\n",
      "retrying:  3\n",
      "155.0.181.254:43496  Fetching  https://goodinfo.tw/tw/BasicInfo.asp?STOCK_ID=4755  timeout:  20\n"
     ]
    },
    {
     "name": "stderr",
     "output_type": "stream",
     "text": [
      " 69%|██████▉   | 609/881 [13:27:00<9:39:20, 127.80s/it]"
     ]
    },
    {
     "name": "stdout",
     "output_type": "stream",
     "text": [
      "Success\n",
      "155.0.181.254:43496  Fetching  https://goodinfo.tw/tw/BasicInfo.asp?STOCK_ID=4763  timeout:  20\n",
      "retrying:  1\n",
      "155.0.181.254:43496  Fetching  https://goodinfo.tw/tw/BasicInfo.asp?STOCK_ID=4763  timeout:  25\n",
      "retrying:  2\n",
      "155.0.181.254:43496  Fetching  https://goodinfo.tw/tw/BasicInfo.asp?STOCK_ID=4763  timeout:  30\n",
      "retrying:  3\n",
      "158.101.146.40:59394  Fetching  https://goodinfo.tw/tw/BasicInfo.asp?STOCK_ID=4763  timeout:  20\n",
      "retrying:  1\n",
      "158.101.146.40:59394  Fetching  https://goodinfo.tw/tw/BasicInfo.asp?STOCK_ID=4763  timeout:  25\n",
      "retrying:  2\n",
      "158.101.146.40:59394  Fetching  https://goodinfo.tw/tw/BasicInfo.asp?STOCK_ID=4763  timeout:  30\n",
      "retrying:  3\n",
      "47.242.168.144:59394  Fetching  https://goodinfo.tw/tw/BasicInfo.asp?STOCK_ID=4763  timeout:  20\n",
      "retrying:  1\n",
      "47.242.168.144:59394  Fetching  https://goodinfo.tw/tw/BasicInfo.asp?STOCK_ID=4763  timeout:  25\n",
      "retrying:  2\n",
      "47.242.168.144:59394  Fetching  https://goodinfo.tw/tw/BasicInfo.asp?STOCK_ID=4763  timeout:  30\n",
      "retrying:  3\n",
      "158.101.146.40:59394  Fetching  https://goodinfo.tw/tw/BasicInfo.asp?STOCK_ID=4763  timeout:  20\n",
      "retrying:  1\n",
      "158.101.146.40:59394  Fetching  https://goodinfo.tw/tw/BasicInfo.asp?STOCK_ID=4763  timeout:  25\n",
      "retrying:  2\n",
      "158.101.146.40:59394  Fetching  https://goodinfo.tw/tw/BasicInfo.asp?STOCK_ID=4763  timeout:  30\n",
      "retrying:  3\n",
      "155.0.181.254:43496  Fetching  https://goodinfo.tw/tw/BasicInfo.asp?STOCK_ID=4763  timeout:  20\n",
      "retrying:  1\n",
      "155.0.181.254:43496  Fetching  https://goodinfo.tw/tw/BasicInfo.asp?STOCK_ID=4763  timeout:  25\n"
     ]
    },
    {
     "name": "stderr",
     "output_type": "stream",
     "text": [
      " 69%|██████▉   | 610/881 [13:32:51<14:38:48, 194.57s/it]"
     ]
    },
    {
     "name": "stdout",
     "output_type": "stream",
     "text": [
      "Success\n",
      "158.101.146.40:59394  Fetching  https://goodinfo.tw/tw/BasicInfo.asp?STOCK_ID=4764  timeout:  20\n",
      "retrying:  1\n",
      "158.101.146.40:59394  Fetching  https://goodinfo.tw/tw/BasicInfo.asp?STOCK_ID=4764  timeout:  25\n",
      "retrying:  2\n",
      "158.101.146.40:59394  Fetching  https://goodinfo.tw/tw/BasicInfo.asp?STOCK_ID=4764  timeout:  30\n",
      "retrying:  3\n",
      "200.105.215.18:33630  Fetching  https://goodinfo.tw/tw/BasicInfo.asp?STOCK_ID=4764  timeout:  20\n",
      "retrying:  1\n",
      "200.105.215.18:33630  Fetching  https://goodinfo.tw/tw/BasicInfo.asp?STOCK_ID=4764  timeout:  25\n",
      "retrying:  2\n",
      "200.105.215.18:33630  Fetching  https://goodinfo.tw/tw/BasicInfo.asp?STOCK_ID=4764  timeout:  30\n"
     ]
    },
    {
     "name": "stderr",
     "output_type": "stream",
     "text": [
      " 69%|██████▉   | 611/881 [13:34:59<13:06:22, 174.75s/it]"
     ]
    },
    {
     "name": "stdout",
     "output_type": "stream",
     "text": [
      "Success\n",
      "155.0.181.254:43496  Fetching  https://goodinfo.tw/tw/BasicInfo.asp?STOCK_ID=4766  timeout:  20\n"
     ]
    },
    {
     "name": "stderr",
     "output_type": "stream",
     "text": [
      " 69%|██████▉   | 612/881 [13:35:22<9:38:29, 129.03s/it] "
     ]
    },
    {
     "name": "stdout",
     "output_type": "stream",
     "text": [
      "Success\n",
      "185.201.88.128:6969  Fetching  https://goodinfo.tw/tw/BasicInfo.asp?STOCK_ID=4807  timeout:  20\n",
      "retrying:  1\n",
      "185.201.88.128:6969  Fetching  https://goodinfo.tw/tw/BasicInfo.asp?STOCK_ID=4807  timeout:  25\n",
      "retrying:  2\n",
      "185.201.88.128:6969  Fetching  https://goodinfo.tw/tw/BasicInfo.asp?STOCK_ID=4807  timeout:  30\n",
      "retrying:  3\n",
      "47.242.168.144:59394  Fetching  https://goodinfo.tw/tw/BasicInfo.asp?STOCK_ID=4807  timeout:  20\n",
      "retrying:  1\n",
      "47.242.168.144:59394  Fetching  https://goodinfo.tw/tw/BasicInfo.asp?STOCK_ID=4807  timeout:  25\n",
      "retrying:  2\n",
      "47.242.168.144:59394  Fetching  https://goodinfo.tw/tw/BasicInfo.asp?STOCK_ID=4807  timeout:  30\n",
      "retrying:  3\n",
      "47.242.168.144:59394  Fetching  https://goodinfo.tw/tw/BasicInfo.asp?STOCK_ID=4807  timeout:  20\n",
      "retrying:  1\n",
      "47.242.168.144:59394  Fetching  https://goodinfo.tw/tw/BasicInfo.asp?STOCK_ID=4807  timeout:  25\n",
      "retrying:  2\n",
      "47.242.168.144:59394  Fetching  https://goodinfo.tw/tw/BasicInfo.asp?STOCK_ID=4807  timeout:  30\n",
      "retrying:  3\n",
      "47.242.168.144:59394  Fetching  https://goodinfo.tw/tw/BasicInfo.asp?STOCK_ID=4807  timeout:  20\n",
      "retrying:  1\n",
      "47.242.168.144:59394  Fetching  https://goodinfo.tw/tw/BasicInfo.asp?STOCK_ID=4807  timeout:  25\n",
      "retrying:  2\n",
      "47.242.168.144:59394  Fetching  https://goodinfo.tw/tw/BasicInfo.asp?STOCK_ID=4807  timeout:  30\n",
      "retrying:  3\n",
      "200.105.215.18:33630  Fetching  https://goodinfo.tw/tw/BasicInfo.asp?STOCK_ID=4807  timeout:  20\n"
     ]
    },
    {
     "name": "stderr",
     "output_type": "stream",
     "text": [
      " 70%|██████▉   | 613/881 [13:40:24<13:28:29, 181.01s/it]"
     ]
    },
    {
     "name": "stdout",
     "output_type": "stream",
     "text": [
      "Success\n",
      "185.201.88.128:6969  Fetching  https://goodinfo.tw/tw/BasicInfo.asp?STOCK_ID=4904  timeout:  20\n",
      "retrying:  1\n",
      "185.201.88.128:6969  Fetching  https://goodinfo.tw/tw/BasicInfo.asp?STOCK_ID=4904  timeout:  25\n",
      "retrying:  2\n",
      "185.201.88.128:6969  Fetching  https://goodinfo.tw/tw/BasicInfo.asp?STOCK_ID=4904  timeout:  30\n",
      "retrying:  3\n",
      "200.105.215.18:33630  Fetching  https://goodinfo.tw/tw/BasicInfo.asp?STOCK_ID=4904  timeout:  20\n"
     ]
    },
    {
     "name": "stderr",
     "output_type": "stream",
     "text": [
      " 70%|██████▉   | 614/881 [13:41:48<11:16:01, 151.92s/it]"
     ]
    },
    {
     "name": "stdout",
     "output_type": "stream",
     "text": [
      "Success\n",
      "158.101.146.40:59394  Fetching  https://goodinfo.tw/tw/BasicInfo.asp?STOCK_ID=4906  timeout:  20\n",
      "retrying:  1\n",
      "158.101.146.40:59394  Fetching  https://goodinfo.tw/tw/BasicInfo.asp?STOCK_ID=4906  timeout:  25\n",
      "retrying:  2\n",
      "158.101.146.40:59394  Fetching  https://goodinfo.tw/tw/BasicInfo.asp?STOCK_ID=4906  timeout:  30\n",
      "retrying:  3\n",
      "158.101.146.40:59394  Fetching  https://goodinfo.tw/tw/BasicInfo.asp?STOCK_ID=4906  timeout:  20\n",
      "retrying:  1\n",
      "158.101.146.40:59394  Fetching  https://goodinfo.tw/tw/BasicInfo.asp?STOCK_ID=4906  timeout:  25\n",
      "retrying:  2\n",
      "158.101.146.40:59394  Fetching  https://goodinfo.tw/tw/BasicInfo.asp?STOCK_ID=4906  timeout:  30\n",
      "retrying:  3\n",
      "200.105.215.18:33630  Fetching  https://goodinfo.tw/tw/BasicInfo.asp?STOCK_ID=4906  timeout:  20\n",
      "retrying:  1\n",
      "200.105.215.18:33630  Fetching  https://goodinfo.tw/tw/BasicInfo.asp?STOCK_ID=4906  timeout:  25\n",
      "retrying:  2\n",
      "200.105.215.18:33630  Fetching  https://goodinfo.tw/tw/BasicInfo.asp?STOCK_ID=4906  timeout:  30\n"
     ]
    },
    {
     "name": "stderr",
     "output_type": "stream",
     "text": [
      " 70%|██████▉   | 615/881 [13:45:10<12:19:59, 166.92s/it]"
     ]
    },
    {
     "name": "stdout",
     "output_type": "stream",
     "text": [
      "Success\n",
      "200.105.215.18:33630  Fetching  https://goodinfo.tw/tw/BasicInfo.asp?STOCK_ID=4912  timeout:  20\n",
      "Success\n"
     ]
    },
    {
     "name": "stderr",
     "output_type": "stream",
     "text": [
      " 70%|██████▉   | 616/881 [13:45:15<8:43:18, 118.48s/it] "
     ]
    },
    {
     "name": "stdout",
     "output_type": "stream",
     "text": [
      "155.0.181.254:43496  Fetching  https://goodinfo.tw/tw/BasicInfo.asp?STOCK_ID=4915  timeout:  20\n"
     ]
    },
    {
     "name": "stderr",
     "output_type": "stream",
     "text": [
      " 70%|███████   | 617/881 [13:45:22<6:13:17, 84.84s/it] "
     ]
    },
    {
     "name": "stdout",
     "output_type": "stream",
     "text": [
      "Success\n",
      "47.242.168.144:59394  Fetching  https://goodinfo.tw/tw/BasicInfo.asp?STOCK_ID=4916  timeout:  20\n",
      "retrying:  1\n",
      "47.242.168.144:59394  Fetching  https://goodinfo.tw/tw/BasicInfo.asp?STOCK_ID=4916  timeout:  25\n",
      "retrying:  2\n",
      "47.242.168.144:59394  Fetching  https://goodinfo.tw/tw/BasicInfo.asp?STOCK_ID=4916  timeout:  30\n",
      "retrying:  3\n",
      "47.242.168.144:59394  Fetching  https://goodinfo.tw/tw/BasicInfo.asp?STOCK_ID=4916  timeout:  20\n",
      "retrying:  1\n",
      "47.242.168.144:59394  Fetching  https://goodinfo.tw/tw/BasicInfo.asp?STOCK_ID=4916  timeout:  25\n",
      "retrying:  2\n",
      "47.242.168.144:59394  Fetching  https://goodinfo.tw/tw/BasicInfo.asp?STOCK_ID=4916  timeout:  30\n",
      "retrying:  3\n",
      "47.242.168.144:59394  Fetching  https://goodinfo.tw/tw/BasicInfo.asp?STOCK_ID=4916  timeout:  20\n",
      "retrying:  1\n",
      "47.242.168.144:59394  Fetching  https://goodinfo.tw/tw/BasicInfo.asp?STOCK_ID=4916  timeout:  25\n",
      "retrying:  2\n",
      "47.242.168.144:59394  Fetching  https://goodinfo.tw/tw/BasicInfo.asp?STOCK_ID=4916  timeout:  30\n",
      "retrying:  3\n",
      "47.242.168.144:59394  Fetching  https://goodinfo.tw/tw/BasicInfo.asp?STOCK_ID=4916  timeout:  20\n",
      "retrying:  1\n",
      "47.242.168.144:59394  Fetching  https://goodinfo.tw/tw/BasicInfo.asp?STOCK_ID=4916  timeout:  25\n",
      "retrying:  2\n",
      "47.242.168.144:59394  Fetching  https://goodinfo.tw/tw/BasicInfo.asp?STOCK_ID=4916  timeout:  30\n",
      "retrying:  3\n",
      "155.0.181.254:43496  Fetching  https://goodinfo.tw/tw/BasicInfo.asp?STOCK_ID=4916  timeout:  20\n"
     ]
    },
    {
     "name": "stderr",
     "output_type": "stream",
     "text": [
      " 70%|███████   | 618/881 [13:50:36<11:13:39, 153.69s/it]"
     ]
    },
    {
     "name": "stdout",
     "output_type": "stream",
     "text": [
      "Success\n",
      "158.101.146.40:59394  Fetching  https://goodinfo.tw/tw/BasicInfo.asp?STOCK_ID=4919  timeout:  20\n",
      "retrying:  1\n",
      "158.101.146.40:59394  Fetching  https://goodinfo.tw/tw/BasicInfo.asp?STOCK_ID=4919  timeout:  25\n",
      "retrying:  2\n",
      "158.101.146.40:59394  Fetching  https://goodinfo.tw/tw/BasicInfo.asp?STOCK_ID=4919  timeout:  30\n",
      "retrying:  3\n",
      "185.201.88.128:6969  Fetching  https://goodinfo.tw/tw/BasicInfo.asp?STOCK_ID=4919  timeout:  20\n",
      "retrying:  1\n",
      "185.201.88.128:6969  Fetching  https://goodinfo.tw/tw/BasicInfo.asp?STOCK_ID=4919  timeout:  25\n",
      "retrying:  2\n",
      "185.201.88.128:6969  Fetching  https://goodinfo.tw/tw/BasicInfo.asp?STOCK_ID=4919  timeout:  30\n",
      "retrying:  3\n",
      "155.0.181.254:43496  Fetching  https://goodinfo.tw/tw/BasicInfo.asp?STOCK_ID=4919  timeout:  20\n"
     ]
    },
    {
     "name": "stderr",
     "output_type": "stream",
     "text": [
      " 70%|███████   | 619/881 [13:53:28<11:35:50, 159.35s/it]"
     ]
    },
    {
     "name": "stdout",
     "output_type": "stream",
     "text": [
      "Success\n",
      "47.242.168.144:59394  Fetching  https://goodinfo.tw/tw/BasicInfo.asp?STOCK_ID=4927  timeout:  20\n",
      "retrying:  1\n",
      "47.242.168.144:59394  Fetching  https://goodinfo.tw/tw/BasicInfo.asp?STOCK_ID=4927  timeout:  25\n",
      "retrying:  2\n",
      "47.242.168.144:59394  Fetching  https://goodinfo.tw/tw/BasicInfo.asp?STOCK_ID=4927  timeout:  30\n",
      "retrying:  3\n",
      "155.0.181.254:43496  Fetching  https://goodinfo.tw/tw/BasicInfo.asp?STOCK_ID=4927  timeout:  20\n"
     ]
    },
    {
     "name": "stderr",
     "output_type": "stream",
     "text": [
      " 70%|███████   | 620/881 [13:54:47<9:48:09, 135.21s/it] "
     ]
    },
    {
     "name": "stdout",
     "output_type": "stream",
     "text": [
      "Success\n",
      "47.242.168.144:59394  Fetching  https://goodinfo.tw/tw/BasicInfo.asp?STOCK_ID=4930  timeout:  20\n",
      "retrying:  1\n",
      "47.242.168.144:59394  Fetching  https://goodinfo.tw/tw/BasicInfo.asp?STOCK_ID=4930  timeout:  25\n",
      "retrying:  2\n",
      "47.242.168.144:59394  Fetching  https://goodinfo.tw/tw/BasicInfo.asp?STOCK_ID=4930  timeout:  30\n",
      "retrying:  3\n",
      "155.0.181.254:43496  Fetching  https://goodinfo.tw/tw/BasicInfo.asp?STOCK_ID=4930  timeout:  20\n",
      "retrying:  1\n",
      "155.0.181.254:43496  Fetching  https://goodinfo.tw/tw/BasicInfo.asp?STOCK_ID=4930  timeout:  25\n",
      "retrying:  2\n",
      "155.0.181.254:43496  Fetching  https://goodinfo.tw/tw/BasicInfo.asp?STOCK_ID=4930  timeout:  30\n",
      "retrying:  3\n",
      "47.242.168.144:59394  Fetching  https://goodinfo.tw/tw/BasicInfo.asp?STOCK_ID=4930  timeout:  20\n",
      "retrying:  1\n",
      "47.242.168.144:59394  Fetching  https://goodinfo.tw/tw/BasicInfo.asp?STOCK_ID=4930  timeout:  25\n",
      "retrying:  2\n",
      "47.242.168.144:59394  Fetching  https://goodinfo.tw/tw/BasicInfo.asp?STOCK_ID=4930  timeout:  30\n",
      "retrying:  3\n",
      "185.201.88.128:6969  Fetching  https://goodinfo.tw/tw/BasicInfo.asp?STOCK_ID=4930  timeout:  20\n",
      "retrying:  1\n",
      "185.201.88.128:6969  Fetching  https://goodinfo.tw/tw/BasicInfo.asp?STOCK_ID=4930  timeout:  25\n",
      "retrying:  2\n",
      "185.201.88.128:6969  Fetching  https://goodinfo.tw/tw/BasicInfo.asp?STOCK_ID=4930  timeout:  30\n"
     ]
    },
    {
     "name": "stderr",
     "output_type": "stream",
     "text": [
      " 70%|███████   | 621/881 [13:59:39<13:09:09, 182.11s/it]"
     ]
    },
    {
     "name": "stdout",
     "output_type": "stream",
     "text": [
      "Success\n",
      "185.201.88.128:6969  Fetching  https://goodinfo.tw/tw/BasicInfo.asp?STOCK_ID=4934  timeout:  20\n",
      "retrying:  1\n",
      "185.201.88.128:6969  Fetching  https://goodinfo.tw/tw/BasicInfo.asp?STOCK_ID=4934  timeout:  25\n"
     ]
    },
    {
     "name": "stderr",
     "output_type": "stream",
     "text": [
      " 71%|███████   | 622/881 [14:00:05<9:44:33, 135.42s/it] "
     ]
    },
    {
     "name": "stdout",
     "output_type": "stream",
     "text": [
      "Success\n",
      "200.105.215.18:33630  Fetching  https://goodinfo.tw/tw/BasicInfo.asp?STOCK_ID=4935  timeout:  20\n"
     ]
    },
    {
     "name": "stderr",
     "output_type": "stream",
     "text": [
      " 71%|███████   | 623/881 [14:00:22<7:09:11, 99.81s/it] "
     ]
    },
    {
     "name": "stdout",
     "output_type": "stream",
     "text": [
      "Success\n",
      "200.105.215.18:33630  Fetching  https://goodinfo.tw/tw/BasicInfo.asp?STOCK_ID=4938  timeout:  20\n"
     ]
    },
    {
     "name": "stderr",
     "output_type": "stream",
     "text": [
      " 71%|███████   | 624/881 [14:00:42<5:25:15, 75.94s/it]"
     ]
    },
    {
     "name": "stdout",
     "output_type": "stream",
     "text": [
      "Success\n",
      "200.105.215.18:33630  Fetching  https://goodinfo.tw/tw/BasicInfo.asp?STOCK_ID=4942  timeout:  20\n"
     ]
    },
    {
     "name": "stderr",
     "output_type": "stream",
     "text": [
      " 71%|███████   | 625/881 [14:00:51<3:57:47, 55.73s/it]"
     ]
    },
    {
     "name": "stdout",
     "output_type": "stream",
     "text": [
      "Success\n",
      "185.201.88.128:6969  Fetching  https://goodinfo.tw/tw/BasicInfo.asp?STOCK_ID=4943  timeout:  20\n",
      "retrying:  1\n",
      "185.201.88.128:6969  Fetching  https://goodinfo.tw/tw/BasicInfo.asp?STOCK_ID=4943  timeout:  25\n"
     ]
    },
    {
     "name": "stderr",
     "output_type": "stream",
     "text": [
      " 71%|███████   | 626/881 [14:01:22<3:24:58, 48.23s/it]"
     ]
    },
    {
     "name": "stdout",
     "output_type": "stream",
     "text": [
      "Success\n",
      "185.201.88.128:6969  Fetching  https://goodinfo.tw/tw/BasicInfo.asp?STOCK_ID=4952  timeout:  20\n"
     ]
    },
    {
     "name": "stderr",
     "output_type": "stream",
     "text": [
      " 71%|███████   | 627/881 [14:01:37<2:42:45, 38.45s/it]"
     ]
    },
    {
     "name": "stdout",
     "output_type": "stream",
     "text": [
      "Success\n",
      "200.105.215.18:33630  Fetching  https://goodinfo.tw/tw/BasicInfo.asp?STOCK_ID=4956  timeout:  20\n"
     ]
    },
    {
     "name": "stderr",
     "output_type": "stream",
     "text": [
      " 71%|███████▏  | 628/881 [14:01:44<2:02:09, 28.97s/it]"
     ]
    },
    {
     "name": "stdout",
     "output_type": "stream",
     "text": [
      "Success\n",
      "155.0.181.254:43496  Fetching  https://goodinfo.tw/tw/BasicInfo.asp?STOCK_ID=4958  timeout:  20\n"
     ]
    },
    {
     "name": "stderr",
     "output_type": "stream",
     "text": [
      " 71%|███████▏  | 629/881 [14:01:53<1:35:44, 22.80s/it]"
     ]
    },
    {
     "name": "stdout",
     "output_type": "stream",
     "text": [
      "Success\n",
      "185.201.88.128:6969  Fetching  https://goodinfo.tw/tw/BasicInfo.asp?STOCK_ID=4960  timeout:  20\n"
     ]
    },
    {
     "name": "stderr",
     "output_type": "stream",
     "text": [
      " 72%|███████▏  | 630/881 [14:02:00<1:15:39, 18.09s/it]"
     ]
    },
    {
     "name": "stdout",
     "output_type": "stream",
     "text": [
      "Success\n",
      "185.201.88.128:6969  Fetching  https://goodinfo.tw/tw/BasicInfo.asp?STOCK_ID=4961  timeout:  20\n",
      "retrying:  1\n",
      "185.201.88.128:6969  Fetching  https://goodinfo.tw/tw/BasicInfo.asp?STOCK_ID=4961  timeout:  25\n",
      "retrying:  2\n",
      "185.201.88.128:6969  Fetching  https://goodinfo.tw/tw/BasicInfo.asp?STOCK_ID=4961  timeout:  30\n",
      "retrying:  3\n",
      "47.242.168.144:59394  Fetching  https://goodinfo.tw/tw/BasicInfo.asp?STOCK_ID=4961  timeout:  20\n",
      "retrying:  1\n",
      "47.242.168.144:59394  Fetching  https://goodinfo.tw/tw/BasicInfo.asp?STOCK_ID=4961  timeout:  25\n",
      "retrying:  2\n",
      "47.242.168.144:59394  Fetching  https://goodinfo.tw/tw/BasicInfo.asp?STOCK_ID=4961  timeout:  30\n",
      "retrying:  3\n",
      "155.0.181.254:43496  Fetching  https://goodinfo.tw/tw/BasicInfo.asp?STOCK_ID=4961  timeout:  20\n",
      "retrying:  1\n",
      "155.0.181.254:43496  Fetching  https://goodinfo.tw/tw/BasicInfo.asp?STOCK_ID=4961  timeout:  25\n"
     ]
    },
    {
     "name": "stderr",
     "output_type": "stream",
     "text": [
      " 72%|███████▏  | 631/881 [14:04:41<4:13:56, 60.95s/it]"
     ]
    },
    {
     "name": "stdout",
     "output_type": "stream",
     "text": [
      "Success\n",
      "47.242.168.144:59394  Fetching  https://goodinfo.tw/tw/BasicInfo.asp?STOCK_ID=4967  timeout:  20\n",
      "retrying:  1\n",
      "47.242.168.144:59394  Fetching  https://goodinfo.tw/tw/BasicInfo.asp?STOCK_ID=4967  timeout:  25\n",
      "retrying:  2\n",
      "47.242.168.144:59394  Fetching  https://goodinfo.tw/tw/BasicInfo.asp?STOCK_ID=4967  timeout:  30\n",
      "retrying:  3\n",
      "155.0.181.254:43496  Fetching  https://goodinfo.tw/tw/BasicInfo.asp?STOCK_ID=4967  timeout:  20\n",
      "retrying:  1\n",
      "155.0.181.254:43496  Fetching  https://goodinfo.tw/tw/BasicInfo.asp?STOCK_ID=4967  timeout:  25\n",
      "retrying:  2\n",
      "155.0.181.254:43496  Fetching  https://goodinfo.tw/tw/BasicInfo.asp?STOCK_ID=4967  timeout:  30\n",
      "retrying:  3\n",
      "185.201.88.128:6969  Fetching  https://goodinfo.tw/tw/BasicInfo.asp?STOCK_ID=4967  timeout:  20\n",
      "retrying:  1\n",
      "185.201.88.128:6969  Fetching  https://goodinfo.tw/tw/BasicInfo.asp?STOCK_ID=4967  timeout:  25\n",
      "retrying:  2\n",
      "185.201.88.128:6969  Fetching  https://goodinfo.tw/tw/BasicInfo.asp?STOCK_ID=4967  timeout:  30\n",
      "retrying:  3\n",
      "155.0.181.254:43496  Fetching  https://goodinfo.tw/tw/BasicInfo.asp?STOCK_ID=4967  timeout:  20\n",
      "retrying:  1\n",
      "155.0.181.254:43496  Fetching  https://goodinfo.tw/tw/BasicInfo.asp?STOCK_ID=4967  timeout:  25\n"
     ]
    },
    {
     "name": "stderr",
     "output_type": "stream",
     "text": [
      " 72%|███████▏  | 632/881 [14:09:03<8:23:10, 121.25s/it]"
     ]
    },
    {
     "name": "stdout",
     "output_type": "stream",
     "text": [
      "Success\n",
      "158.101.146.40:59394  Fetching  https://goodinfo.tw/tw/BasicInfo.asp?STOCK_ID=4968  timeout:  20\n",
      "retrying:  1\n",
      "158.101.146.40:59394  Fetching  https://goodinfo.tw/tw/BasicInfo.asp?STOCK_ID=4968  timeout:  25\n",
      "retrying:  2\n",
      "158.101.146.40:59394  Fetching  https://goodinfo.tw/tw/BasicInfo.asp?STOCK_ID=4968  timeout:  30\n",
      "retrying:  3\n",
      "185.201.88.128:6969  Fetching  https://goodinfo.tw/tw/BasicInfo.asp?STOCK_ID=4968  timeout:  20\n",
      "retrying:  1\n",
      "185.201.88.128:6969  Fetching  https://goodinfo.tw/tw/BasicInfo.asp?STOCK_ID=4968  timeout:  25\n"
     ]
    },
    {
     "name": "stderr",
     "output_type": "stream",
     "text": [
      " 72%|███████▏  | 633/881 [14:11:15<8:35:34, 124.74s/it]"
     ]
    },
    {
     "name": "stdout",
     "output_type": "stream",
     "text": [
      "Success\n",
      "185.201.88.128:6969  Fetching  https://goodinfo.tw/tw/BasicInfo.asp?STOCK_ID=4976  timeout:  20\n",
      "retrying:  1\n",
      "185.201.88.128:6969  Fetching  https://goodinfo.tw/tw/BasicInfo.asp?STOCK_ID=4976  timeout:  25\n",
      "retrying:  2\n",
      "185.201.88.128:6969  Fetching  https://goodinfo.tw/tw/BasicInfo.asp?STOCK_ID=4976  timeout:  30\n",
      "retrying:  3\n",
      "158.101.146.40:59394  Fetching  https://goodinfo.tw/tw/BasicInfo.asp?STOCK_ID=4976  timeout:  20\n",
      "retrying:  1\n",
      "158.101.146.40:59394  Fetching  https://goodinfo.tw/tw/BasicInfo.asp?STOCK_ID=4976  timeout:  25\n",
      "retrying:  2\n",
      "158.101.146.40:59394  Fetching  https://goodinfo.tw/tw/BasicInfo.asp?STOCK_ID=4976  timeout:  30\n",
      "retrying:  3\n",
      "158.101.146.40:59394  Fetching  https://goodinfo.tw/tw/BasicInfo.asp?STOCK_ID=4976  timeout:  20\n",
      "retrying:  1\n",
      "158.101.146.40:59394  Fetching  https://goodinfo.tw/tw/BasicInfo.asp?STOCK_ID=4976  timeout:  25\n",
      "retrying:  2\n",
      "158.101.146.40:59394  Fetching  https://goodinfo.tw/tw/BasicInfo.asp?STOCK_ID=4976  timeout:  30\n",
      "retrying:  3\n",
      "200.105.215.18:33630  Fetching  https://goodinfo.tw/tw/BasicInfo.asp?STOCK_ID=4976  timeout:  20\n",
      "retrying:  1\n",
      "200.105.215.18:33630  Fetching  https://goodinfo.tw/tw/BasicInfo.asp?STOCK_ID=4976  timeout:  25\n"
     ]
    },
    {
     "name": "stderr",
     "output_type": "stream",
     "text": [
      " 72%|███████▏  | 634/881 [14:15:19<11:00:14, 160.38s/it]"
     ]
    },
    {
     "name": "stdout",
     "output_type": "stream",
     "text": [
      "Success\n",
      "47.242.168.144:59394  Fetching  https://goodinfo.tw/tw/BasicInfo.asp?STOCK_ID=4977  timeout:  20\n",
      "retrying:  1\n",
      "47.242.168.144:59394  Fetching  https://goodinfo.tw/tw/BasicInfo.asp?STOCK_ID=4977  timeout:  25\n",
      "retrying:  2\n",
      "47.242.168.144:59394  Fetching  https://goodinfo.tw/tw/BasicInfo.asp?STOCK_ID=4977  timeout:  30\n",
      "retrying:  3\n",
      "158.101.146.40:59394  Fetching  https://goodinfo.tw/tw/BasicInfo.asp?STOCK_ID=4977  timeout:  20\n",
      "retrying:  1\n",
      "158.101.146.40:59394  Fetching  https://goodinfo.tw/tw/BasicInfo.asp?STOCK_ID=4977  timeout:  25\n",
      "retrying:  2\n",
      "158.101.146.40:59394  Fetching  https://goodinfo.tw/tw/BasicInfo.asp?STOCK_ID=4977  timeout:  30\n",
      "retrying:  3\n",
      "185.201.88.128:6969  Fetching  https://goodinfo.tw/tw/BasicInfo.asp?STOCK_ID=4977  timeout:  20\n",
      "retrying:  1\n",
      "185.201.88.128:6969  Fetching  https://goodinfo.tw/tw/BasicInfo.asp?STOCK_ID=4977  timeout:  25\n",
      "retrying:  2\n",
      "185.201.88.128:6969  Fetching  https://goodinfo.tw/tw/BasicInfo.asp?STOCK_ID=4977  timeout:  30\n",
      "retrying:  3\n",
      "158.101.146.40:59394  Fetching  https://goodinfo.tw/tw/BasicInfo.asp?STOCK_ID=4977  timeout:  20\n",
      "retrying:  1\n",
      "158.101.146.40:59394  Fetching  https://goodinfo.tw/tw/BasicInfo.asp?STOCK_ID=4977  timeout:  25\n",
      "retrying:  2\n",
      "158.101.146.40:59394  Fetching  https://goodinfo.tw/tw/BasicInfo.asp?STOCK_ID=4977  timeout:  30\n",
      "retrying:  3\n",
      "47.242.168.144:59394  Fetching  https://goodinfo.tw/tw/BasicInfo.asp?STOCK_ID=4977  timeout:  20\n",
      "retrying:  1\n",
      "47.242.168.144:59394  Fetching  https://goodinfo.tw/tw/BasicInfo.asp?STOCK_ID=4977  timeout:  25\n",
      "retrying:  2\n",
      "47.242.168.144:59394  Fetching  https://goodinfo.tw/tw/BasicInfo.asp?STOCK_ID=4977  timeout:  30\n"
     ]
    },
    {
     "name": "stderr",
     "output_type": "stream",
     "text": [
      " 72%|███████▏  | 635/881 [14:21:35<15:22:42, 225.05s/it]"
     ]
    },
    {
     "name": "stdout",
     "output_type": "stream",
     "text": [
      "retrying:  3\n",
      "47.242.168.144:59394  Fetching  https://goodinfo.tw/tw/BasicInfo.asp?STOCK_ID=4989  timeout:  20\n",
      "retrying:  1\n",
      "47.242.168.144:59394  Fetching  https://goodinfo.tw/tw/BasicInfo.asp?STOCK_ID=4989  timeout:  25\n",
      "retrying:  2\n",
      "47.242.168.144:59394  Fetching  https://goodinfo.tw/tw/BasicInfo.asp?STOCK_ID=4989  timeout:  30\n",
      "retrying:  3\n",
      "155.0.181.254:43496  Fetching  https://goodinfo.tw/tw/BasicInfo.asp?STOCK_ID=4989  timeout:  20\n"
     ]
    },
    {
     "name": "stderr",
     "output_type": "stream",
     "text": [
      " 72%|███████▏  | 636/881 [14:22:56<12:22:30, 181.84s/it]"
     ]
    },
    {
     "name": "stdout",
     "output_type": "stream",
     "text": [
      "Success\n",
      "155.0.181.254:43496  Fetching  https://goodinfo.tw/tw/BasicInfo.asp?STOCK_ID=4994  timeout:  20\n"
     ]
    },
    {
     "name": "stderr",
     "output_type": "stream",
     "text": [
      " 72%|███████▏  | 637/881 [14:23:03<8:45:50, 129.30s/it] "
     ]
    },
    {
     "name": "stdout",
     "output_type": "stream",
     "text": [
      "Success\n",
      "185.201.88.128:6969  Fetching  https://goodinfo.tw/tw/BasicInfo.asp?STOCK_ID=4999  timeout:  20\n"
     ]
    },
    {
     "name": "stderr",
     "output_type": "stream",
     "text": [
      " 72%|███████▏  | 638/881 [14:23:23<6:31:44, 96.73s/it] "
     ]
    },
    {
     "name": "stdout",
     "output_type": "stream",
     "text": [
      "Success\n",
      "185.201.88.128:6969  Fetching  https://goodinfo.tw/tw/BasicInfo.asp?STOCK_ID=5007  timeout:  20\n",
      "retrying:  1\n",
      "185.201.88.128:6969  Fetching  https://goodinfo.tw/tw/BasicInfo.asp?STOCK_ID=5007  timeout:  25\n"
     ]
    },
    {
     "name": "stderr",
     "output_type": "stream",
     "text": [
      " 73%|███████▎  | 639/881 [14:23:56<5:12:39, 77.52s/it]"
     ]
    },
    {
     "name": "stdout",
     "output_type": "stream",
     "text": [
      "Success\n",
      "185.201.88.128:6969  Fetching  https://goodinfo.tw/tw/BasicInfo.asp?STOCK_ID=5203  timeout:  20\n",
      "retrying:  1\n",
      "185.201.88.128:6969  Fetching  https://goodinfo.tw/tw/BasicInfo.asp?STOCK_ID=5203  timeout:  25\n",
      "retrying:  2\n",
      "185.201.88.128:6969  Fetching  https://goodinfo.tw/tw/BasicInfo.asp?STOCK_ID=5203  timeout:  30\n",
      "retrying:  3\n",
      "155.0.181.254:43496  Fetching  https://goodinfo.tw/tw/BasicInfo.asp?STOCK_ID=5203  timeout:  20\n",
      "retrying:  1\n",
      "155.0.181.254:43496  Fetching  https://goodinfo.tw/tw/BasicInfo.asp?STOCK_ID=5203  timeout:  25\n",
      "retrying:  2\n",
      "155.0.181.254:43496  Fetching  https://goodinfo.tw/tw/BasicInfo.asp?STOCK_ID=5203  timeout:  30\n",
      "retrying:  3\n",
      "47.242.168.144:59394  Fetching  https://goodinfo.tw/tw/BasicInfo.asp?STOCK_ID=5203  timeout:  20\n",
      "retrying:  1\n",
      "47.242.168.144:59394  Fetching  https://goodinfo.tw/tw/BasicInfo.asp?STOCK_ID=5203  timeout:  25\n",
      "retrying:  2\n",
      "47.242.168.144:59394  Fetching  https://goodinfo.tw/tw/BasicInfo.asp?STOCK_ID=5203  timeout:  30\n",
      "retrying:  3\n",
      "155.0.181.254:43496  Fetching  https://goodinfo.tw/tw/BasicInfo.asp?STOCK_ID=5203  timeout:  20\n"
     ]
    },
    {
     "name": "stderr",
     "output_type": "stream",
     "text": [
      " 73%|███████▎  | 640/881 [14:27:55<8:25:55, 125.96s/it]"
     ]
    },
    {
     "name": "stdout",
     "output_type": "stream",
     "text": [
      "Success\n",
      "185.201.88.128:6969  Fetching  https://goodinfo.tw/tw/BasicInfo.asp?STOCK_ID=5215  timeout:  20\n",
      "retrying:  1\n",
      "185.201.88.128:6969  Fetching  https://goodinfo.tw/tw/BasicInfo.asp?STOCK_ID=5215  timeout:  25\n",
      "retrying:  2\n",
      "185.201.88.128:6969  Fetching  https://goodinfo.tw/tw/BasicInfo.asp?STOCK_ID=5215  timeout:  30\n",
      "retrying:  3\n",
      "200.105.215.18:33630  Fetching  https://goodinfo.tw/tw/BasicInfo.asp?STOCK_ID=5215  timeout:  20\n"
     ]
    },
    {
     "name": "stderr",
     "output_type": "stream",
     "text": [
      " 73%|███████▎  | 641/881 [14:29:46<8:05:36, 121.40s/it]"
     ]
    },
    {
     "name": "stdout",
     "output_type": "stream",
     "text": [
      "Success\n",
      "47.242.168.144:59394  Fetching  https://goodinfo.tw/tw/BasicInfo.asp?STOCK_ID=5222  timeout:  20\n",
      "retrying:  1\n",
      "47.242.168.144:59394  Fetching  https://goodinfo.tw/tw/BasicInfo.asp?STOCK_ID=5222  timeout:  25\n",
      "retrying:  2\n",
      "47.242.168.144:59394  Fetching  https://goodinfo.tw/tw/BasicInfo.asp?STOCK_ID=5222  timeout:  30\n",
      "retrying:  3\n",
      "185.201.88.128:6969  Fetching  https://goodinfo.tw/tw/BasicInfo.asp?STOCK_ID=5222  timeout:  20\n",
      "retrying:  1\n",
      "185.201.88.128:6969  Fetching  https://goodinfo.tw/tw/BasicInfo.asp?STOCK_ID=5222  timeout:  25\n"
     ]
    },
    {
     "name": "stderr",
     "output_type": "stream",
     "text": [
      " 73%|███████▎  | 642/881 [14:31:38<7:52:34, 118.64s/it]"
     ]
    },
    {
     "name": "stdout",
     "output_type": "stream",
     "text": [
      "Success\n",
      "185.201.88.128:6969  Fetching  https://goodinfo.tw/tw/BasicInfo.asp?STOCK_ID=5225  timeout:  20\n",
      "retrying:  1\n",
      "185.201.88.128:6969  Fetching  https://goodinfo.tw/tw/BasicInfo.asp?STOCK_ID=5225  timeout:  25\n"
     ]
    },
    {
     "name": "stderr",
     "output_type": "stream",
     "text": [
      " 73%|███████▎  | 643/881 [14:32:08<6:04:33, 91.91s/it] "
     ]
    },
    {
     "name": "stdout",
     "output_type": "stream",
     "text": [
      "Success\n",
      "47.242.168.144:59394  Fetching  https://goodinfo.tw/tw/BasicInfo.asp?STOCK_ID=5234  timeout:  20\n",
      "retrying:  1\n",
      "47.242.168.144:59394  Fetching  https://goodinfo.tw/tw/BasicInfo.asp?STOCK_ID=5234  timeout:  25\n",
      "retrying:  2\n",
      "47.242.168.144:59394  Fetching  https://goodinfo.tw/tw/BasicInfo.asp?STOCK_ID=5234  timeout:  30\n",
      "retrying:  3\n",
      "47.242.168.144:59394  Fetching  https://goodinfo.tw/tw/BasicInfo.asp?STOCK_ID=5234  timeout:  20\n",
      "retrying:  1\n",
      "47.242.168.144:59394  Fetching  https://goodinfo.tw/tw/BasicInfo.asp?STOCK_ID=5234  timeout:  25\n",
      "retrying:  2\n",
      "47.242.168.144:59394  Fetching  https://goodinfo.tw/tw/BasicInfo.asp?STOCK_ID=5234  timeout:  30\n",
      "retrying:  3\n",
      "185.201.88.128:6969  Fetching  https://goodinfo.tw/tw/BasicInfo.asp?STOCK_ID=5234  timeout:  20\n"
     ]
    },
    {
     "name": "stderr",
     "output_type": "stream",
     "text": [
      " 73%|███████▎  | 644/881 [14:34:55<7:33:09, 114.72s/it]"
     ]
    },
    {
     "name": "stdout",
     "output_type": "stream",
     "text": [
      "Success\n",
      "155.0.181.254:43496  Fetching  https://goodinfo.tw/tw/BasicInfo.asp?STOCK_ID=5243  timeout:  20\n",
      "retrying:  1\n",
      "155.0.181.254:43496  Fetching  https://goodinfo.tw/tw/BasicInfo.asp?STOCK_ID=5243  timeout:  25\n",
      "retrying:  2\n",
      "155.0.181.254:43496  Fetching  https://goodinfo.tw/tw/BasicInfo.asp?STOCK_ID=5243  timeout:  30\n",
      "retrying:  3\n",
      "47.242.168.144:59394  Fetching  https://goodinfo.tw/tw/BasicInfo.asp?STOCK_ID=5243  timeout:  20\n",
      "retrying:  1\n",
      "47.242.168.144:59394  Fetching  https://goodinfo.tw/tw/BasicInfo.asp?STOCK_ID=5243  timeout:  25\n",
      "retrying:  2\n",
      "47.242.168.144:59394  Fetching  https://goodinfo.tw/tw/BasicInfo.asp?STOCK_ID=5243  timeout:  30\n",
      "retrying:  3\n",
      "185.201.88.128:6969  Fetching  https://goodinfo.tw/tw/BasicInfo.asp?STOCK_ID=5243  timeout:  20\n",
      "retrying:  1\n",
      "185.201.88.128:6969  Fetching  https://goodinfo.tw/tw/BasicInfo.asp?STOCK_ID=5243  timeout:  25\n",
      "retrying:  2\n",
      "185.201.88.128:6969  Fetching  https://goodinfo.tw/tw/BasicInfo.asp?STOCK_ID=5243  timeout:  30\n"
     ]
    },
    {
     "name": "stderr",
     "output_type": "stream",
     "text": [
      " 73%|███████▎  | 645/881 [14:38:24<9:21:36, 142.78s/it]"
     ]
    },
    {
     "name": "stdout",
     "output_type": "stream",
     "text": [
      "Success\n",
      "158.101.146.40:59394  Fetching  https://goodinfo.tw/tw/BasicInfo.asp?STOCK_ID=5258  timeout:  20\n",
      "retrying:  1\n",
      "158.101.146.40:59394  Fetching  https://goodinfo.tw/tw/BasicInfo.asp?STOCK_ID=5258  timeout:  25\n",
      "retrying:  2\n",
      "158.101.146.40:59394  Fetching  https://goodinfo.tw/tw/BasicInfo.asp?STOCK_ID=5258  timeout:  30\n",
      "retrying:  3\n",
      "155.0.181.254:43496  Fetching  https://goodinfo.tw/tw/BasicInfo.asp?STOCK_ID=5258  timeout:  20\n",
      "retrying:  1\n",
      "155.0.181.254:43496  Fetching  https://goodinfo.tw/tw/BasicInfo.asp?STOCK_ID=5258  timeout:  25\n"
     ]
    },
    {
     "name": "stderr",
     "output_type": "stream",
     "text": [
      " 73%|███████▎  | 646/881 [14:40:13<8:40:17, 132.84s/it]"
     ]
    },
    {
     "name": "stdout",
     "output_type": "stream",
     "text": [
      "Success\n",
      "47.242.168.144:59394  Fetching  https://goodinfo.tw/tw/BasicInfo.asp?STOCK_ID=5269  timeout:  20\n",
      "retrying:  1\n",
      "47.242.168.144:59394  Fetching  https://goodinfo.tw/tw/BasicInfo.asp?STOCK_ID=5269  timeout:  25\n",
      "retrying:  2\n",
      "47.242.168.144:59394  Fetching  https://goodinfo.tw/tw/BasicInfo.asp?STOCK_ID=5269  timeout:  30\n",
      "retrying:  3\n",
      "200.105.215.18:33630  Fetching  https://goodinfo.tw/tw/BasicInfo.asp?STOCK_ID=5269  timeout:  20\n",
      "retrying:  1\n",
      "200.105.215.18:33630  Fetching  https://goodinfo.tw/tw/BasicInfo.asp?STOCK_ID=5269  timeout:  25\n",
      "Success\n"
     ]
    },
    {
     "name": "stderr",
     "output_type": "stream",
     "text": [
      " 73%|███████▎  | 647/881 [14:42:02<8:10:15, 125.71s/it]"
     ]
    },
    {
     "name": "stdout",
     "output_type": "stream",
     "text": [
      "158.101.146.40:59394  Fetching  https://goodinfo.tw/tw/BasicInfo.asp?STOCK_ID=5283  timeout:  20\n",
      "retrying:  1\n",
      "158.101.146.40:59394  Fetching  https://goodinfo.tw/tw/BasicInfo.asp?STOCK_ID=5283  timeout:  25\n",
      "retrying:  2\n",
      "158.101.146.40:59394  Fetching  https://goodinfo.tw/tw/BasicInfo.asp?STOCK_ID=5283  timeout:  30\n",
      "retrying:  3\n",
      "47.242.168.144:59394  Fetching  https://goodinfo.tw/tw/BasicInfo.asp?STOCK_ID=5283  timeout:  20\n",
      "retrying:  1\n",
      "47.242.168.144:59394  Fetching  https://goodinfo.tw/tw/BasicInfo.asp?STOCK_ID=5283  timeout:  25\n",
      "retrying:  2\n",
      "47.242.168.144:59394  Fetching  https://goodinfo.tw/tw/BasicInfo.asp?STOCK_ID=5283  timeout:  30\n",
      "retrying:  3\n",
      "155.0.181.254:43496  Fetching  https://goodinfo.tw/tw/BasicInfo.asp?STOCK_ID=5283  timeout:  20\n",
      "Success\n"
     ]
    },
    {
     "name": "stderr",
     "output_type": "stream",
     "text": [
      " 74%|███████▎  | 648/881 [14:45:03<9:12:18, 142.23s/it]"
     ]
    },
    {
     "name": "stdout",
     "output_type": "stream",
     "text": [
      "155.0.181.254:43496  Fetching  https://goodinfo.tw/tw/BasicInfo.asp?STOCK_ID=5284  timeout:  20\n",
      "Success\n"
     ]
    },
    {
     "name": "stderr",
     "output_type": "stream",
     "text": [
      " 74%|███████▎  | 649/881 [14:45:14<6:37:27, 102.79s/it]"
     ]
    },
    {
     "name": "stdout",
     "output_type": "stream",
     "text": [
      "185.201.88.128:6969  Fetching  https://goodinfo.tw/tw/BasicInfo.asp?STOCK_ID=5285  timeout:  20\n"
     ]
    },
    {
     "name": "stderr",
     "output_type": "stream",
     "text": [
      " 74%|███████▍  | 650/881 [14:45:37<5:03:33, 78.85s/it] "
     ]
    },
    {
     "name": "stdout",
     "output_type": "stream",
     "text": [
      "Success\n",
      "185.201.88.128:6969  Fetching  https://goodinfo.tw/tw/BasicInfo.asp?STOCK_ID=5288  timeout:  20\n"
     ]
    },
    {
     "name": "stderr",
     "output_type": "stream",
     "text": [
      " 74%|███████▍  | 651/881 [14:45:46<3:42:19, 58.00s/it]"
     ]
    },
    {
     "name": "stdout",
     "output_type": "stream",
     "text": [
      "Success\n",
      "200.105.215.18:33630  Fetching  https://goodinfo.tw/tw/BasicInfo.asp?STOCK_ID=5388  timeout:  20\n"
     ]
    },
    {
     "name": "stderr",
     "output_type": "stream",
     "text": [
      " 74%|███████▍  | 652/881 [14:46:08<2:59:54, 47.14s/it]"
     ]
    },
    {
     "name": "stdout",
     "output_type": "stream",
     "text": [
      "Success\n",
      "47.242.168.144:59394  Fetching  https://goodinfo.tw/tw/BasicInfo.asp?STOCK_ID=5434  timeout:  20\n",
      "retrying:  1\n",
      "47.242.168.144:59394  Fetching  https://goodinfo.tw/tw/BasicInfo.asp?STOCK_ID=5434  timeout:  25\n",
      "retrying:  2\n",
      "47.242.168.144:59394  Fetching  https://goodinfo.tw/tw/BasicInfo.asp?STOCK_ID=5434  timeout:  30\n",
      "retrying:  3\n",
      "155.0.181.254:43496  Fetching  https://goodinfo.tw/tw/BasicInfo.asp?STOCK_ID=5434  timeout:  20\n"
     ]
    },
    {
     "name": "stderr",
     "output_type": "stream",
     "text": [
      " 74%|███████▍  | 653/881 [14:47:30<3:38:24, 57.48s/it]"
     ]
    },
    {
     "name": "stdout",
     "output_type": "stream",
     "text": [
      "Success\n",
      "200.105.215.18:33630  Fetching  https://goodinfo.tw/tw/BasicInfo.asp?STOCK_ID=5469  timeout:  20\n",
      "retrying:  1\n",
      "200.105.215.18:33630  Fetching  https://goodinfo.tw/tw/BasicInfo.asp?STOCK_ID=5469  timeout:  25\n",
      "retrying:  2\n",
      "200.105.215.18:33630  Fetching  https://goodinfo.tw/tw/BasicInfo.asp?STOCK_ID=5469  timeout:  30\n",
      "Success\n"
     ]
    },
    {
     "name": "stderr",
     "output_type": "stream",
     "text": [
      " 74%|███████▍  | 654/881 [14:48:49<4:02:14, 64.03s/it]"
     ]
    },
    {
     "name": "stdout",
     "output_type": "stream",
     "text": [
      "158.101.146.40:59394  Fetching  https://goodinfo.tw/tw/BasicInfo.asp?STOCK_ID=5471  timeout:  20\n",
      "retrying:  1\n",
      "158.101.146.40:59394  Fetching  https://goodinfo.tw/tw/BasicInfo.asp?STOCK_ID=5471  timeout:  25\n",
      "retrying:  2\n",
      "158.101.146.40:59394  Fetching  https://goodinfo.tw/tw/BasicInfo.asp?STOCK_ID=5471  timeout:  30\n",
      "retrying:  3\n",
      "200.105.215.18:33630  Fetching  https://goodinfo.tw/tw/BasicInfo.asp?STOCK_ID=5471  timeout:  20\n",
      "retrying:  1\n",
      "200.105.215.18:33630  Fetching  https://goodinfo.tw/tw/BasicInfo.asp?STOCK_ID=5471  timeout:  25\n",
      "retrying:  2\n",
      "200.105.215.18:33630  Fetching  https://goodinfo.tw/tw/BasicInfo.asp?STOCK_ID=5471  timeout:  30\n"
     ]
    },
    {
     "name": "stderr",
     "output_type": "stream",
     "text": [
      " 74%|███████▍  | 655/881 [14:50:59<5:15:36, 83.79s/it]"
     ]
    },
    {
     "name": "stdout",
     "output_type": "stream",
     "text": [
      "Success\n",
      "155.0.181.254:43496  Fetching  https://goodinfo.tw/tw/BasicInfo.asp?STOCK_ID=5484  timeout:  20\n",
      "retrying:  1\n",
      "155.0.181.254:43496  Fetching  https://goodinfo.tw/tw/BasicInfo.asp?STOCK_ID=5484  timeout:  25\n",
      "retrying:  2\n",
      "155.0.181.254:43496  Fetching  https://goodinfo.tw/tw/BasicInfo.asp?STOCK_ID=5484  timeout:  30\n"
     ]
    },
    {
     "name": "stderr",
     "output_type": "stream",
     "text": [
      " 74%|███████▍  | 656/881 [14:51:52<4:39:07, 74.43s/it]"
     ]
    },
    {
     "name": "stdout",
     "output_type": "stream",
     "text": [
      "Success\n",
      "185.201.88.128:6969  Fetching  https://goodinfo.tw/tw/BasicInfo.asp?STOCK_ID=5515  timeout:  20\n",
      "retrying:  1\n",
      "185.201.88.128:6969  Fetching  https://goodinfo.tw/tw/BasicInfo.asp?STOCK_ID=5515  timeout:  25\n",
      "retrying:  2\n",
      "185.201.88.128:6969  Fetching  https://goodinfo.tw/tw/BasicInfo.asp?STOCK_ID=5515  timeout:  30\n",
      "retrying:  3\n",
      "200.105.215.18:33630  Fetching  https://goodinfo.tw/tw/BasicInfo.asp?STOCK_ID=5515  timeout:  20\n"
     ]
    },
    {
     "name": "stderr",
     "output_type": "stream",
     "text": [
      " 75%|███████▍  | 657/881 [14:53:13<4:45:26, 76.46s/it]"
     ]
    },
    {
     "name": "stdout",
     "output_type": "stream",
     "text": [
      "Success\n",
      "185.201.88.128:6969  Fetching  https://goodinfo.tw/tw/BasicInfo.asp?STOCK_ID=5519  timeout:  20\n",
      "retrying:  1\n",
      "185.201.88.128:6969  Fetching  https://goodinfo.tw/tw/BasicInfo.asp?STOCK_ID=5519  timeout:  25\n",
      "retrying:  2\n",
      "185.201.88.128:6969  Fetching  https://goodinfo.tw/tw/BasicInfo.asp?STOCK_ID=5519  timeout:  30\n"
     ]
    },
    {
     "name": "stderr",
     "output_type": "stream",
     "text": [
      " 75%|███████▍  | 658/881 [14:54:06<4:17:48, 69.37s/it]"
     ]
    },
    {
     "name": "stdout",
     "output_type": "stream",
     "text": [
      "Success\n",
      "158.101.146.40:59394  Fetching  https://goodinfo.tw/tw/BasicInfo.asp?STOCK_ID=5521  timeout:  20\n",
      "retrying:  1\n",
      "158.101.146.40:59394  Fetching  https://goodinfo.tw/tw/BasicInfo.asp?STOCK_ID=5521  timeout:  25\n",
      "retrying:  2\n",
      "158.101.146.40:59394  Fetching  https://goodinfo.tw/tw/BasicInfo.asp?STOCK_ID=5521  timeout:  30\n",
      "retrying:  3\n",
      "155.0.181.254:43496  Fetching  https://goodinfo.tw/tw/BasicInfo.asp?STOCK_ID=5521  timeout:  20\n",
      "retrying:  1\n",
      "155.0.181.254:43496  Fetching  https://goodinfo.tw/tw/BasicInfo.asp?STOCK_ID=5521  timeout:  25\n"
     ]
    },
    {
     "name": "stderr",
     "output_type": "stream",
     "text": [
      " 75%|███████▍  | 659/881 [14:55:51<4:56:39, 80.18s/it]"
     ]
    },
    {
     "name": "stdout",
     "output_type": "stream",
     "text": [
      "Success\n",
      "155.0.181.254:43496  Fetching  https://goodinfo.tw/tw/BasicInfo.asp?STOCK_ID=5522  timeout:  20\n"
     ]
    },
    {
     "name": "stderr",
     "output_type": "stream",
     "text": [
      " 75%|███████▍  | 660/881 [14:56:07<3:44:34, 60.97s/it]"
     ]
    },
    {
     "name": "stdout",
     "output_type": "stream",
     "text": [
      "Success\n",
      "47.242.168.144:59394  Fetching  https://goodinfo.tw/tw/BasicInfo.asp?STOCK_ID=5525  timeout:  20\n",
      "retrying:  1\n",
      "47.242.168.144:59394  Fetching  https://goodinfo.tw/tw/BasicInfo.asp?STOCK_ID=5525  timeout:  25\n",
      "retrying:  2\n",
      "47.242.168.144:59394  Fetching  https://goodinfo.tw/tw/BasicInfo.asp?STOCK_ID=5525  timeout:  30\n",
      "retrying:  3\n",
      "200.105.215.18:33630  Fetching  https://goodinfo.tw/tw/BasicInfo.asp?STOCK_ID=5525  timeout:  20\n"
     ]
    },
    {
     "name": "stderr",
     "output_type": "stream",
     "text": [
      " 75%|███████▌  | 661/881 [14:57:32<4:09:44, 68.11s/it]"
     ]
    },
    {
     "name": "stdout",
     "output_type": "stream",
     "text": [
      "Success\n",
      "155.0.181.254:43496  Fetching  https://goodinfo.tw/tw/BasicInfo.asp?STOCK_ID=5531  timeout:  20\n",
      "retrying:  1\n",
      "155.0.181.254:43496  Fetching  https://goodinfo.tw/tw/BasicInfo.asp?STOCK_ID=5531  timeout:  25\n",
      "retrying:  2\n",
      "155.0.181.254:43496  Fetching  https://goodinfo.tw/tw/BasicInfo.asp?STOCK_ID=5531  timeout:  30\n",
      "retrying:  3\n",
      "155.0.181.254:43496  Fetching  https://goodinfo.tw/tw/BasicInfo.asp?STOCK_ID=5531  timeout:  20\n"
     ]
    },
    {
     "name": "stderr",
     "output_type": "stream",
     "text": [
      " 75%|███████▌  | 662/881 [14:59:10<4:41:57, 77.25s/it]"
     ]
    },
    {
     "name": "stdout",
     "output_type": "stream",
     "text": [
      "Success\n",
      "185.201.88.128:6969  Fetching  https://goodinfo.tw/tw/BasicInfo.asp?STOCK_ID=5533  timeout:  20\n"
     ]
    },
    {
     "name": "stderr",
     "output_type": "stream",
     "text": [
      " 75%|███████▌  | 663/881 [14:59:30<3:38:15, 60.07s/it]"
     ]
    },
    {
     "name": "stdout",
     "output_type": "stream",
     "text": [
      "Success\n",
      "155.0.181.254:43496  Fetching  https://goodinfo.tw/tw/BasicInfo.asp?STOCK_ID=5534  timeout:  20\n",
      "retrying:  1\n",
      "155.0.181.254:43496  Fetching  https://goodinfo.tw/tw/BasicInfo.asp?STOCK_ID=5534  timeout:  25\n",
      "retrying:  2\n",
      "155.0.181.254:43496  Fetching  https://goodinfo.tw/tw/BasicInfo.asp?STOCK_ID=5534  timeout:  30\n"
     ]
    },
    {
     "name": "stderr",
     "output_type": "stream",
     "text": [
      " 75%|███████▌  | 664/881 [15:00:22<3:28:08, 57.55s/it]"
     ]
    },
    {
     "name": "stdout",
     "output_type": "stream",
     "text": [
      "Success\n",
      "155.0.181.254:43496  Fetching  https://goodinfo.tw/tw/BasicInfo.asp?STOCK_ID=5538  timeout:  20\n"
     ]
    },
    {
     "name": "stderr",
     "output_type": "stream",
     "text": [
      " 75%|███████▌  | 665/881 [15:00:29<2:32:52, 42.46s/it]"
     ]
    },
    {
     "name": "stdout",
     "output_type": "stream",
     "text": [
      "Success\n",
      "185.201.88.128:6969  Fetching  https://goodinfo.tw/tw/BasicInfo.asp?STOCK_ID=5546  timeout:  20\n",
      "retrying:  1\n",
      "185.201.88.128:6969  Fetching  https://goodinfo.tw/tw/BasicInfo.asp?STOCK_ID=5546  timeout:  25\n",
      "retrying:  2\n",
      "185.201.88.128:6969  Fetching  https://goodinfo.tw/tw/BasicInfo.asp?STOCK_ID=5546  timeout:  30\n",
      "retrying:  3\n",
      "158.101.146.40:59394  Fetching  https://goodinfo.tw/tw/BasicInfo.asp?STOCK_ID=5546  timeout:  20\n",
      "retrying:  1\n",
      "158.101.146.40:59394  Fetching  https://goodinfo.tw/tw/BasicInfo.asp?STOCK_ID=5546  timeout:  25\n",
      "retrying:  2\n",
      "158.101.146.40:59394  Fetching  https://goodinfo.tw/tw/BasicInfo.asp?STOCK_ID=5546  timeout:  30\n",
      "retrying:  3\n",
      "158.101.146.40:59394  Fetching  https://goodinfo.tw/tw/BasicInfo.asp?STOCK_ID=5546  timeout:  20\n",
      "retrying:  1\n",
      "158.101.146.40:59394  Fetching  https://goodinfo.tw/tw/BasicInfo.asp?STOCK_ID=5546  timeout:  25\n",
      "retrying:  2\n",
      "158.101.146.40:59394  Fetching  https://goodinfo.tw/tw/BasicInfo.asp?STOCK_ID=5546  timeout:  30\n",
      "retrying:  3\n",
      "200.105.215.18:33630  Fetching  https://goodinfo.tw/tw/BasicInfo.asp?STOCK_ID=5546  timeout:  20\n"
     ]
    },
    {
     "name": "stderr",
     "output_type": "stream",
     "text": [
      " 76%|███████▌  | 666/881 [15:04:39<6:14:20, 104.47s/it]"
     ]
    },
    {
     "name": "stdout",
     "output_type": "stream",
     "text": [
      "Success\n",
      "47.242.168.144:59394  Fetching  https://goodinfo.tw/tw/BasicInfo.asp?STOCK_ID=5607  timeout:  20\n",
      "retrying:  1\n",
      "47.242.168.144:59394  Fetching  https://goodinfo.tw/tw/BasicInfo.asp?STOCK_ID=5607  timeout:  25\n",
      "retrying:  2\n",
      "47.242.168.144:59394  Fetching  https://goodinfo.tw/tw/BasicInfo.asp?STOCK_ID=5607  timeout:  30\n",
      "retrying:  3\n",
      "200.105.215.18:33630  Fetching  https://goodinfo.tw/tw/BasicInfo.asp?STOCK_ID=5607  timeout:  20\n"
     ]
    },
    {
     "name": "stderr",
     "output_type": "stream",
     "text": [
      " 76%|███████▌  | 667/881 [15:06:06<5:54:12, 99.31s/it] "
     ]
    },
    {
     "name": "stdout",
     "output_type": "stream",
     "text": [
      "Success\n",
      "155.0.181.254:43496  Fetching  https://goodinfo.tw/tw/BasicInfo.asp?STOCK_ID=5608  timeout:  20\n"
     ]
    },
    {
     "name": "stderr",
     "output_type": "stream",
     "text": [
      " 76%|███████▌  | 668/881 [15:06:13<4:14:08, 71.59s/it]"
     ]
    },
    {
     "name": "stdout",
     "output_type": "stream",
     "text": [
      "Success\n",
      "200.105.215.18:33630  Fetching  https://goodinfo.tw/tw/BasicInfo.asp?STOCK_ID=5706  timeout:  20\n"
     ]
    },
    {
     "name": "stderr",
     "output_type": "stream",
     "text": [
      " 76%|███████▌  | 669/881 [15:06:20<3:04:45, 52.29s/it]"
     ]
    },
    {
     "name": "stdout",
     "output_type": "stream",
     "text": [
      "Success\n",
      "47.242.168.144:59394  Fetching  https://goodinfo.tw/tw/BasicInfo.asp?STOCK_ID=5871  timeout:  20\n",
      "retrying:  1\n",
      "47.242.168.144:59394  Fetching  https://goodinfo.tw/tw/BasicInfo.asp?STOCK_ID=5871  timeout:  25\n",
      "retrying:  2\n",
      "47.242.168.144:59394  Fetching  https://goodinfo.tw/tw/BasicInfo.asp?STOCK_ID=5871  timeout:  30\n",
      "retrying:  3\n",
      "158.101.146.40:59394  Fetching  https://goodinfo.tw/tw/BasicInfo.asp?STOCK_ID=5871  timeout:  20\n",
      "retrying:  1\n",
      "158.101.146.40:59394  Fetching  https://goodinfo.tw/tw/BasicInfo.asp?STOCK_ID=5871  timeout:  25\n",
      "retrying:  2\n",
      "158.101.146.40:59394  Fetching  https://goodinfo.tw/tw/BasicInfo.asp?STOCK_ID=5871  timeout:  30\n",
      "retrying:  3\n",
      "158.101.146.40:59394  Fetching  https://goodinfo.tw/tw/BasicInfo.asp?STOCK_ID=5871  timeout:  20\n",
      "retrying:  1\n",
      "158.101.146.40:59394  Fetching  https://goodinfo.tw/tw/BasicInfo.asp?STOCK_ID=5871  timeout:  25\n",
      "retrying:  2\n",
      "158.101.146.40:59394  Fetching  https://goodinfo.tw/tw/BasicInfo.asp?STOCK_ID=5871  timeout:  30\n",
      "retrying:  3\n",
      "47.242.168.144:59394  Fetching  https://goodinfo.tw/tw/BasicInfo.asp?STOCK_ID=5871  timeout:  20\n",
      "retrying:  1\n",
      "47.242.168.144:59394  Fetching  https://goodinfo.tw/tw/BasicInfo.asp?STOCK_ID=5871  timeout:  25\n",
      "retrying:  2\n",
      "47.242.168.144:59394  Fetching  https://goodinfo.tw/tw/BasicInfo.asp?STOCK_ID=5871  timeout:  30\n",
      "retrying:  3\n",
      "200.105.215.18:33630  Fetching  https://goodinfo.tw/tw/BasicInfo.asp?STOCK_ID=5871  timeout:  20\n",
      "retrying:  1\n",
      "200.105.215.18:33630  Fetching  https://goodinfo.tw/tw/BasicInfo.asp?STOCK_ID=5871  timeout:  25\n",
      "retrying:  2\n",
      "200.105.215.18:33630  Fetching  https://goodinfo.tw/tw/BasicInfo.asp?STOCK_ID=5871  timeout:  30\n"
     ]
    },
    {
     "name": "stderr",
     "output_type": "stream",
     "text": [
      " 76%|███████▌  | 670/881 [15:12:01<8:08:56, 139.04s/it]"
     ]
    },
    {
     "name": "stdout",
     "output_type": "stream",
     "text": [
      "retrying:  3\n",
      "47.242.168.144:59394  Fetching  https://goodinfo.tw/tw/BasicInfo.asp?STOCK_ID=5876  timeout:  20\n",
      "retrying:  1\n",
      "47.242.168.144:59394  Fetching  https://goodinfo.tw/tw/BasicInfo.asp?STOCK_ID=5876  timeout:  25\n",
      "retrying:  2\n",
      "47.242.168.144:59394  Fetching  https://goodinfo.tw/tw/BasicInfo.asp?STOCK_ID=5876  timeout:  30\n",
      "retrying:  3\n",
      "200.105.215.18:33630  Fetching  https://goodinfo.tw/tw/BasicInfo.asp?STOCK_ID=5876  timeout:  20\n",
      "retrying:  1\n",
      "200.105.215.18:33630  Fetching  https://goodinfo.tw/tw/BasicInfo.asp?STOCK_ID=5876  timeout:  25\n"
     ]
    },
    {
     "name": "stderr",
     "output_type": "stream",
     "text": [
      " 76%|███████▌  | 671/881 [15:13:30<7:13:43, 123.92s/it]"
     ]
    },
    {
     "name": "stdout",
     "output_type": "stream",
     "text": [
      "Success\n",
      "185.201.88.128:6969  Fetching  https://goodinfo.tw/tw/BasicInfo.asp?STOCK_ID=5880  timeout:  20\n"
     ]
    },
    {
     "name": "stderr",
     "output_type": "stream",
     "text": [
      " 76%|███████▋  | 672/881 [15:13:39<5:11:56, 89.55s/it] "
     ]
    },
    {
     "name": "stdout",
     "output_type": "stream",
     "text": [
      "Success\n",
      "185.201.88.128:6969  Fetching  https://goodinfo.tw/tw/BasicInfo.asp?STOCK_ID=5906  timeout:  20\n",
      "retrying:  1\n",
      "185.201.88.128:6969  Fetching  https://goodinfo.tw/tw/BasicInfo.asp?STOCK_ID=5906  timeout:  25\n"
     ]
    },
    {
     "name": "stderr",
     "output_type": "stream",
     "text": [
      " 76%|███████▋  | 673/881 [15:14:37<4:37:36, 80.08s/it]"
     ]
    },
    {
     "name": "stdout",
     "output_type": "stream",
     "text": [
      "Success\n",
      "158.101.146.40:59394  Fetching  https://goodinfo.tw/tw/BasicInfo.asp?STOCK_ID=5907  timeout:  20\n",
      "retrying:  1\n",
      "158.101.146.40:59394  Fetching  https://goodinfo.tw/tw/BasicInfo.asp?STOCK_ID=5907  timeout:  25\n",
      "retrying:  2\n",
      "158.101.146.40:59394  Fetching  https://goodinfo.tw/tw/BasicInfo.asp?STOCK_ID=5907  timeout:  30\n",
      "retrying:  3\n",
      "47.242.168.144:59394  Fetching  https://goodinfo.tw/tw/BasicInfo.asp?STOCK_ID=5907  timeout:  20\n",
      "retrying:  1\n",
      "47.242.168.144:59394  Fetching  https://goodinfo.tw/tw/BasicInfo.asp?STOCK_ID=5907  timeout:  25\n",
      "retrying:  2\n",
      "47.242.168.144:59394  Fetching  https://goodinfo.tw/tw/BasicInfo.asp?STOCK_ID=5907  timeout:  30\n",
      "retrying:  3\n",
      "158.101.146.40:59394  Fetching  https://goodinfo.tw/tw/BasicInfo.asp?STOCK_ID=5907  timeout:  20\n",
      "retrying:  1\n",
      "158.101.146.40:59394  Fetching  https://goodinfo.tw/tw/BasicInfo.asp?STOCK_ID=5907  timeout:  25\n",
      "retrying:  2\n",
      "158.101.146.40:59394  Fetching  https://goodinfo.tw/tw/BasicInfo.asp?STOCK_ID=5907  timeout:  30\n",
      "retrying:  3\n",
      "185.201.88.128:6969  Fetching  https://goodinfo.tw/tw/BasicInfo.asp?STOCK_ID=5907  timeout:  20\n",
      "retrying:  1\n",
      "185.201.88.128:6969  Fetching  https://goodinfo.tw/tw/BasicInfo.asp?STOCK_ID=5907  timeout:  25\n",
      "retrying:  2\n",
      "185.201.88.128:6969  Fetching  https://goodinfo.tw/tw/BasicInfo.asp?STOCK_ID=5907  timeout:  30\n",
      "retrying:  3\n",
      "158.101.146.40:59394  Fetching  https://goodinfo.tw/tw/BasicInfo.asp?STOCK_ID=5907  timeout:  20\n",
      "retrying:  1\n",
      "158.101.146.40:59394  Fetching  https://goodinfo.tw/tw/BasicInfo.asp?STOCK_ID=5907  timeout:  25\n",
      "retrying:  2\n",
      "158.101.146.40:59394  Fetching  https://goodinfo.tw/tw/BasicInfo.asp?STOCK_ID=5907  timeout:  30\n"
     ]
    },
    {
     "name": "stderr",
     "output_type": "stream",
     "text": [
      " 77%|███████▋  | 674/881 [15:20:54<9:43:11, 169.04s/it]"
     ]
    },
    {
     "name": "stdout",
     "output_type": "stream",
     "text": [
      "retrying:  3\n",
      "155.0.181.254:43496  Fetching  https://goodinfo.tw/tw/BasicInfo.asp?STOCK_ID=6005  timeout:  20\n",
      "retrying:  1\n",
      "155.0.181.254:43496  Fetching  https://goodinfo.tw/tw/BasicInfo.asp?STOCK_ID=6005  timeout:  25\n",
      "retrying:  2\n",
      "155.0.181.254:43496  Fetching  https://goodinfo.tw/tw/BasicInfo.asp?STOCK_ID=6005  timeout:  30\n",
      "retrying:  3\n",
      "158.101.146.40:59394  Fetching  https://goodinfo.tw/tw/BasicInfo.asp?STOCK_ID=6005  timeout:  20\n",
      "retrying:  1\n",
      "158.101.146.40:59394  Fetching  https://goodinfo.tw/tw/BasicInfo.asp?STOCK_ID=6005  timeout:  25\n",
      "retrying:  2\n",
      "158.101.146.40:59394  Fetching  https://goodinfo.tw/tw/BasicInfo.asp?STOCK_ID=6005  timeout:  30\n",
      "retrying:  3\n",
      "155.0.181.254:43496  Fetching  https://goodinfo.tw/tw/BasicInfo.asp?STOCK_ID=6005  timeout:  20\n"
     ]
    },
    {
     "name": "stderr",
     "output_type": "stream",
     "text": [
      " 77%|███████▋  | 675/881 [15:23:32<9:29:20, 165.83s/it]"
     ]
    },
    {
     "name": "stdout",
     "output_type": "stream",
     "text": [
      "Success\n",
      "200.105.215.18:33630  Fetching  https://goodinfo.tw/tw/BasicInfo.asp?STOCK_ID=6024  timeout:  20\n"
     ]
    },
    {
     "name": "stderr",
     "output_type": "stream",
     "text": [
      " 77%|███████▋  | 676/881 [15:23:38<6:42:47, 117.89s/it]"
     ]
    },
    {
     "name": "stdout",
     "output_type": "stream",
     "text": [
      "Success\n",
      "158.101.146.40:59394  Fetching  https://goodinfo.tw/tw/BasicInfo.asp?STOCK_ID=6108  timeout:  20\n",
      "retrying:  1\n",
      "158.101.146.40:59394  Fetching  https://goodinfo.tw/tw/BasicInfo.asp?STOCK_ID=6108  timeout:  25\n",
      "retrying:  2\n",
      "158.101.146.40:59394  Fetching  https://goodinfo.tw/tw/BasicInfo.asp?STOCK_ID=6108  timeout:  30\n",
      "retrying:  3\n",
      "155.0.181.254:43496  Fetching  https://goodinfo.tw/tw/BasicInfo.asp?STOCK_ID=6108  timeout:  20\n",
      "retrying:  1\n",
      "155.0.181.254:43496  Fetching  https://goodinfo.tw/tw/BasicInfo.asp?STOCK_ID=6108  timeout:  25\n",
      "retrying:  2\n",
      "155.0.181.254:43496  Fetching  https://goodinfo.tw/tw/BasicInfo.asp?STOCK_ID=6108  timeout:  30\n"
     ]
    },
    {
     "name": "stderr",
     "output_type": "stream",
     "text": [
      " 77%|███████▋  | 677/881 [15:26:01<7:05:39, 125.19s/it]"
     ]
    },
    {
     "name": "stdout",
     "output_type": "stream",
     "text": [
      "Success\n",
      "158.101.146.40:59394  Fetching  https://goodinfo.tw/tw/BasicInfo.asp?STOCK_ID=6112  timeout:  20\n",
      "retrying:  1\n",
      "158.101.146.40:59394  Fetching  https://goodinfo.tw/tw/BasicInfo.asp?STOCK_ID=6112  timeout:  25\n",
      "retrying:  2\n",
      "158.101.146.40:59394  Fetching  https://goodinfo.tw/tw/BasicInfo.asp?STOCK_ID=6112  timeout:  30\n",
      "retrying:  3\n",
      "155.0.181.254:43496  Fetching  https://goodinfo.tw/tw/BasicInfo.asp?STOCK_ID=6112  timeout:  20\n",
      "retrying:  1\n",
      "155.0.181.254:43496  Fetching  https://goodinfo.tw/tw/BasicInfo.asp?STOCK_ID=6112  timeout:  25\n",
      "retrying:  2\n",
      "155.0.181.254:43496  Fetching  https://goodinfo.tw/tw/BasicInfo.asp?STOCK_ID=6112  timeout:  30\n",
      "retrying:  3\n",
      "155.0.181.254:43496  Fetching  https://goodinfo.tw/tw/BasicInfo.asp?STOCK_ID=6112  timeout:  20\n",
      "retrying:  1\n",
      "155.0.181.254:43496  Fetching  https://goodinfo.tw/tw/BasicInfo.asp?STOCK_ID=6112  timeout:  25\n"
     ]
    },
    {
     "name": "stderr",
     "output_type": "stream",
     "text": [
      " 77%|███████▋  | 678/881 [15:28:59<7:57:23, 141.10s/it]"
     ]
    },
    {
     "name": "stdout",
     "output_type": "stream",
     "text": [
      "Success\n",
      "200.105.215.18:33630  Fetching  https://goodinfo.tw/tw/BasicInfo.asp?STOCK_ID=6115  timeout:  20\n"
     ]
    },
    {
     "name": "stderr",
     "output_type": "stream",
     "text": [
      " 77%|███████▋  | 679/881 [15:29:12<5:45:41, 102.68s/it]"
     ]
    },
    {
     "name": "stdout",
     "output_type": "stream",
     "text": [
      "Success\n",
      "200.105.215.18:33630  Fetching  https://goodinfo.tw/tw/BasicInfo.asp?STOCK_ID=6116  timeout:  20\n",
      "Success\n"
     ]
    },
    {
     "name": "stderr",
     "output_type": "stream",
     "text": [
      " 77%|███████▋  | 680/881 [15:29:20<4:09:01, 74.34s/it] "
     ]
    },
    {
     "name": "stdout",
     "output_type": "stream",
     "text": [
      "200.105.215.18:33630  Fetching  https://goodinfo.tw/tw/BasicInfo.asp?STOCK_ID=6117  timeout:  20\n",
      "Success\n"
     ]
    },
    {
     "name": "stderr",
     "output_type": "stream",
     "text": [
      " 77%|███████▋  | 681/881 [15:29:26<2:59:41, 53.91s/it]"
     ]
    },
    {
     "name": "stdout",
     "output_type": "stream",
     "text": [
      "185.201.88.128:6969  Fetching  https://goodinfo.tw/tw/BasicInfo.asp?STOCK_ID=6120  timeout:  20\n"
     ]
    },
    {
     "name": "stderr",
     "output_type": "stream",
     "text": [
      " 77%|███████▋  | 682/881 [15:29:52<2:31:05, 45.56s/it]"
     ]
    },
    {
     "name": "stdout",
     "output_type": "stream",
     "text": [
      "Success\n",
      "158.101.146.40:59394  Fetching  https://goodinfo.tw/tw/BasicInfo.asp?STOCK_ID=6128  timeout:  20\n",
      "retrying:  1\n",
      "158.101.146.40:59394  Fetching  https://goodinfo.tw/tw/BasicInfo.asp?STOCK_ID=6128  timeout:  25\n",
      "retrying:  2\n",
      "158.101.146.40:59394  Fetching  https://goodinfo.tw/tw/BasicInfo.asp?STOCK_ID=6128  timeout:  30\n",
      "retrying:  3\n",
      "200.105.215.18:33630  Fetching  https://goodinfo.tw/tw/BasicInfo.asp?STOCK_ID=6128  timeout:  20\n",
      "retrying:  1\n",
      "200.105.215.18:33630  Fetching  https://goodinfo.tw/tw/BasicInfo.asp?STOCK_ID=6128  timeout:  25\n"
     ]
    },
    {
     "name": "stderr",
     "output_type": "stream",
     "text": [
      " 78%|███████▊  | 683/881 [15:31:52<3:43:34, 67.75s/it]"
     ]
    },
    {
     "name": "stdout",
     "output_type": "stream",
     "text": [
      "Success\n",
      "155.0.181.254:43496  Fetching  https://goodinfo.tw/tw/BasicInfo.asp?STOCK_ID=6133  timeout:  20\n",
      "retrying:  1\n",
      "155.0.181.254:43496  Fetching  https://goodinfo.tw/tw/BasicInfo.asp?STOCK_ID=6133  timeout:  25\n",
      "retrying:  2\n",
      "155.0.181.254:43496  Fetching  https://goodinfo.tw/tw/BasicInfo.asp?STOCK_ID=6133  timeout:  30\n",
      "retrying:  3\n",
      "155.0.181.254:43496  Fetching  https://goodinfo.tw/tw/BasicInfo.asp?STOCK_ID=6133  timeout:  20\n"
     ]
    },
    {
     "name": "stderr",
     "output_type": "stream",
     "text": [
      " 78%|███████▊  | 684/881 [15:33:22<4:04:12, 74.38s/it]"
     ]
    },
    {
     "name": "stdout",
     "output_type": "stream",
     "text": [
      "Success\n",
      "200.105.215.18:33630  Fetching  https://goodinfo.tw/tw/BasicInfo.asp?STOCK_ID=6136  timeout:  20\n"
     ]
    },
    {
     "name": "stderr",
     "output_type": "stream",
     "text": [
      " 78%|███████▊  | 685/881 [15:33:27<2:55:05, 53.60s/it]"
     ]
    },
    {
     "name": "stdout",
     "output_type": "stream",
     "text": [
      "Success\n",
      "155.0.181.254:43496  Fetching  https://goodinfo.tw/tw/BasicInfo.asp?STOCK_ID=6139  timeout:  20\n"
     ]
    },
    {
     "name": "stderr",
     "output_type": "stream",
     "text": [
      " 78%|███████▊  | 686/881 [15:33:38<2:12:36, 40.80s/it]"
     ]
    },
    {
     "name": "stdout",
     "output_type": "stream",
     "text": [
      "Success\n",
      "155.0.181.254:43496  Fetching  https://goodinfo.tw/tw/BasicInfo.asp?STOCK_ID=6141  timeout:  20\n"
     ]
    },
    {
     "name": "stderr",
     "output_type": "stream",
     "text": [
      " 78%|███████▊  | 687/881 [15:34:03<1:56:58, 36.18s/it]"
     ]
    },
    {
     "name": "stdout",
     "output_type": "stream",
     "text": [
      "Success\n",
      "155.0.181.254:43496  Fetching  https://goodinfo.tw/tw/BasicInfo.asp?STOCK_ID=6142  timeout:  20\n",
      "retrying:  1\n",
      "155.0.181.254:43496  Fetching  https://goodinfo.tw/tw/BasicInfo.asp?STOCK_ID=6142  timeout:  25\n",
      "retrying:  2\n",
      "155.0.181.254:43496  Fetching  https://goodinfo.tw/tw/BasicInfo.asp?STOCK_ID=6142  timeout:  30\n"
     ]
    },
    {
     "name": "stderr",
     "output_type": "stream",
     "text": [
      " 78%|███████▊  | 688/881 [15:35:10<2:26:22, 45.50s/it]"
     ]
    },
    {
     "name": "stdout",
     "output_type": "stream",
     "text": [
      "Success\n",
      "47.242.168.144:59394  Fetching  https://goodinfo.tw/tw/BasicInfo.asp?STOCK_ID=6152  timeout:  20\n",
      "retrying:  1\n",
      "47.242.168.144:59394  Fetching  https://goodinfo.tw/tw/BasicInfo.asp?STOCK_ID=6152  timeout:  25\n",
      "retrying:  2\n",
      "47.242.168.144:59394  Fetching  https://goodinfo.tw/tw/BasicInfo.asp?STOCK_ID=6152  timeout:  30\n",
      "retrying:  3\n",
      "200.105.215.18:33630  Fetching  https://goodinfo.tw/tw/BasicInfo.asp?STOCK_ID=6152  timeout:  20\n"
     ]
    },
    {
     "name": "stderr",
     "output_type": "stream",
     "text": [
      " 78%|███████▊  | 689/881 [15:36:42<3:09:22, 59.18s/it]"
     ]
    },
    {
     "name": "stdout",
     "output_type": "stream",
     "text": [
      "Success\n",
      "158.101.146.40:59394  Fetching  https://goodinfo.tw/tw/BasicInfo.asp?STOCK_ID=6153  timeout:  20\n",
      "retrying:  1\n",
      "158.101.146.40:59394  Fetching  https://goodinfo.tw/tw/BasicInfo.asp?STOCK_ID=6153  timeout:  25\n",
      "retrying:  2\n",
      "158.101.146.40:59394  Fetching  https://goodinfo.tw/tw/BasicInfo.asp?STOCK_ID=6153  timeout:  30\n",
      "retrying:  3\n",
      "185.201.88.128:6969  Fetching  https://goodinfo.tw/tw/BasicInfo.asp?STOCK_ID=6153  timeout:  20\n",
      "retrying:  1\n",
      "185.201.88.128:6969  Fetching  https://goodinfo.tw/tw/BasicInfo.asp?STOCK_ID=6153  timeout:  25\n",
      "retrying:  2\n",
      "185.201.88.128:6969  Fetching  https://goodinfo.tw/tw/BasicInfo.asp?STOCK_ID=6153  timeout:  30\n",
      "retrying:  3\n",
      "158.101.146.40:59394  Fetching  https://goodinfo.tw/tw/BasicInfo.asp?STOCK_ID=6153  timeout:  20\n",
      "retrying:  1\n",
      "158.101.146.40:59394  Fetching  https://goodinfo.tw/tw/BasicInfo.asp?STOCK_ID=6153  timeout:  25\n",
      "retrying:  2\n",
      "158.101.146.40:59394  Fetching  https://goodinfo.tw/tw/BasicInfo.asp?STOCK_ID=6153  timeout:  30\n",
      "retrying:  3\n",
      "155.0.181.254:43496  Fetching  https://goodinfo.tw/tw/BasicInfo.asp?STOCK_ID=6153  timeout:  20\n"
     ]
    },
    {
     "name": "stderr",
     "output_type": "stream",
     "text": [
      " 78%|███████▊  | 690/881 [15:40:36<5:55:40, 111.73s/it]"
     ]
    },
    {
     "name": "stdout",
     "output_type": "stream",
     "text": [
      "Success\n",
      "155.0.181.254:43496  Fetching  https://goodinfo.tw/tw/BasicInfo.asp?STOCK_ID=6155  timeout:  20\n",
      "retrying:  1\n",
      "155.0.181.254:43496  Fetching  https://goodinfo.tw/tw/BasicInfo.asp?STOCK_ID=6155  timeout:  25\n"
     ]
    },
    {
     "name": "stderr",
     "output_type": "stream",
     "text": [
      " 78%|███████▊  | 691/881 [15:41:10<4:40:13, 88.49s/it] "
     ]
    },
    {
     "name": "stdout",
     "output_type": "stream",
     "text": [
      "Success\n",
      "200.105.215.18:33630  Fetching  https://goodinfo.tw/tw/BasicInfo.asp?STOCK_ID=6164  timeout:  20\n"
     ]
    },
    {
     "name": "stderr",
     "output_type": "stream",
     "text": [
      " 79%|███████▊  | 692/881 [15:41:23<3:27:22, 65.83s/it]"
     ]
    },
    {
     "name": "stdout",
     "output_type": "stream",
     "text": [
      "Success\n",
      "158.101.146.40:59394  Fetching  https://goodinfo.tw/tw/BasicInfo.asp?STOCK_ID=6165  timeout:  20\n",
      "retrying:  1\n",
      "158.101.146.40:59394  Fetching  https://goodinfo.tw/tw/BasicInfo.asp?STOCK_ID=6165  timeout:  25\n",
      "retrying:  2\n",
      "158.101.146.40:59394  Fetching  https://goodinfo.tw/tw/BasicInfo.asp?STOCK_ID=6165  timeout:  30\n",
      "retrying:  3\n",
      "185.201.88.128:6969  Fetching  https://goodinfo.tw/tw/BasicInfo.asp?STOCK_ID=6165  timeout:  20\n",
      "retrying:  1\n",
      "185.201.88.128:6969  Fetching  https://goodinfo.tw/tw/BasicInfo.asp?STOCK_ID=6165  timeout:  25\n",
      "retrying:  2\n",
      "185.201.88.128:6969  Fetching  https://goodinfo.tw/tw/BasicInfo.asp?STOCK_ID=6165  timeout:  30\n",
      "retrying:  3\n",
      "47.242.168.144:59394  Fetching  https://goodinfo.tw/tw/BasicInfo.asp?STOCK_ID=6165  timeout:  20\n",
      "retrying:  1\n",
      "47.242.168.144:59394  Fetching  https://goodinfo.tw/tw/BasicInfo.asp?STOCK_ID=6165  timeout:  25\n",
      "retrying:  2\n",
      "47.242.168.144:59394  Fetching  https://goodinfo.tw/tw/BasicInfo.asp?STOCK_ID=6165  timeout:  30\n",
      "retrying:  3\n",
      "185.201.88.128:6969  Fetching  https://goodinfo.tw/tw/BasicInfo.asp?STOCK_ID=6165  timeout:  20\n",
      "retrying:  1\n",
      "185.201.88.128:6969  Fetching  https://goodinfo.tw/tw/BasicInfo.asp?STOCK_ID=6165  timeout:  25\n",
      "retrying:  2\n",
      "185.201.88.128:6969  Fetching  https://goodinfo.tw/tw/BasicInfo.asp?STOCK_ID=6165  timeout:  30\n",
      "retrying:  3\n",
      "185.201.88.128:6969  Fetching  https://goodinfo.tw/tw/BasicInfo.asp?STOCK_ID=6165  timeout:  20\n",
      "retrying:  1\n",
      "185.201.88.128:6969  Fetching  https://goodinfo.tw/tw/BasicInfo.asp?STOCK_ID=6165  timeout:  25\n",
      "retrying:  2\n",
      "185.201.88.128:6969  Fetching  https://goodinfo.tw/tw/BasicInfo.asp?STOCK_ID=6165  timeout:  30\n"
     ]
    },
    {
     "name": "stderr",
     "output_type": "stream",
     "text": [
      " 79%|███████▊  | 693/881 [15:47:46<8:24:44, 161.09s/it]"
     ]
    },
    {
     "name": "stdout",
     "output_type": "stream",
     "text": [
      "retrying:  3\n",
      "47.242.168.144:59394  Fetching  https://goodinfo.tw/tw/BasicInfo.asp?STOCK_ID=6166  timeout:  20\n",
      "retrying:  1\n",
      "47.242.168.144:59394  Fetching  https://goodinfo.tw/tw/BasicInfo.asp?STOCK_ID=6166  timeout:  25\n",
      "retrying:  2\n",
      "47.242.168.144:59394  Fetching  https://goodinfo.tw/tw/BasicInfo.asp?STOCK_ID=6166  timeout:  30\n",
      "retrying:  3\n",
      "155.0.181.254:43496  Fetching  https://goodinfo.tw/tw/BasicInfo.asp?STOCK_ID=6166  timeout:  20\n",
      "retrying:  1\n",
      "155.0.181.254:43496  Fetching  https://goodinfo.tw/tw/BasicInfo.asp?STOCK_ID=6166  timeout:  25\n"
     ]
    },
    {
     "name": "stderr",
     "output_type": "stream",
     "text": [
      " 79%|███████▉  | 694/881 [15:49:32<7:30:04, 144.41s/it]"
     ]
    },
    {
     "name": "stdout",
     "output_type": "stream",
     "text": [
      "Success\n",
      "200.105.215.18:33630  Fetching  https://goodinfo.tw/tw/BasicInfo.asp?STOCK_ID=6168  timeout:  20\n"
     ]
    },
    {
     "name": "stderr",
     "output_type": "stream",
     "text": [
      " 79%|███████▉  | 695/881 [15:49:37<5:18:22, 102.70s/it]"
     ]
    },
    {
     "name": "stdout",
     "output_type": "stream",
     "text": [
      "Success\n",
      "185.201.88.128:6969  Fetching  https://goodinfo.tw/tw/BasicInfo.asp?STOCK_ID=6172  timeout:  20\n",
      "retrying:  1\n",
      "185.201.88.128:6969  Fetching  https://goodinfo.tw/tw/BasicInfo.asp?STOCK_ID=6172  timeout:  25\n",
      "retrying:  2\n",
      "185.201.88.128:6969  Fetching  https://goodinfo.tw/tw/BasicInfo.asp?STOCK_ID=6172  timeout:  30\n",
      "retrying:  3\n",
      "200.105.215.18:33630  Fetching  https://goodinfo.tw/tw/BasicInfo.asp?STOCK_ID=6172  timeout:  20\n"
     ]
    },
    {
     "name": "stderr",
     "output_type": "stream",
     "text": [
      " 79%|███████▉  | 696/881 [15:51:02<4:59:42, 97.20s/it] "
     ]
    },
    {
     "name": "stdout",
     "output_type": "stream",
     "text": [
      "Success\n",
      "47.242.168.144:59394  Fetching  https://goodinfo.tw/tw/BasicInfo.asp?STOCK_ID=6176  timeout:  20\n",
      "retrying:  1\n",
      "47.242.168.144:59394  Fetching  https://goodinfo.tw/tw/BasicInfo.asp?STOCK_ID=6176  timeout:  25\n",
      "retrying:  2\n",
      "47.242.168.144:59394  Fetching  https://goodinfo.tw/tw/BasicInfo.asp?STOCK_ID=6176  timeout:  30\n",
      "retrying:  3\n",
      "200.105.215.18:33630  Fetching  https://goodinfo.tw/tw/BasicInfo.asp?STOCK_ID=6176  timeout:  20\n"
     ]
    },
    {
     "name": "stderr",
     "output_type": "stream",
     "text": [
      " 79%|███████▉  | 697/881 [15:52:46<5:04:49, 99.40s/it]"
     ]
    },
    {
     "name": "stdout",
     "output_type": "stream",
     "text": [
      "Success\n",
      "155.0.181.254:43496  Fetching  https://goodinfo.tw/tw/BasicInfo.asp?STOCK_ID=6177  timeout:  20\n",
      "retrying:  1\n",
      "155.0.181.254:43496  Fetching  https://goodinfo.tw/tw/BasicInfo.asp?STOCK_ID=6177  timeout:  25\n",
      "retrying:  2\n",
      "155.0.181.254:43496  Fetching  https://goodinfo.tw/tw/BasicInfo.asp?STOCK_ID=6177  timeout:  30\n",
      "retrying:  3\n",
      "47.242.168.144:59394  Fetching  https://goodinfo.tw/tw/BasicInfo.asp?STOCK_ID=6177  timeout:  20\n",
      "retrying:  1\n",
      "47.242.168.144:59394  Fetching  https://goodinfo.tw/tw/BasicInfo.asp?STOCK_ID=6177  timeout:  25\n",
      "retrying:  2\n",
      "47.242.168.144:59394  Fetching  https://goodinfo.tw/tw/BasicInfo.asp?STOCK_ID=6177  timeout:  30\n",
      "retrying:  3\n",
      "158.101.146.40:59394  Fetching  https://goodinfo.tw/tw/BasicInfo.asp?STOCK_ID=6177  timeout:  20\n",
      "retrying:  1\n",
      "158.101.146.40:59394  Fetching  https://goodinfo.tw/tw/BasicInfo.asp?STOCK_ID=6177  timeout:  25\n",
      "retrying:  2\n",
      "158.101.146.40:59394  Fetching  https://goodinfo.tw/tw/BasicInfo.asp?STOCK_ID=6177  timeout:  30\n",
      "retrying:  3\n",
      "47.242.168.144:59394  Fetching  https://goodinfo.tw/tw/BasicInfo.asp?STOCK_ID=6177  timeout:  20\n",
      "retrying:  1\n",
      "47.242.168.144:59394  Fetching  https://goodinfo.tw/tw/BasicInfo.asp?STOCK_ID=6177  timeout:  25\n",
      "retrying:  2\n",
      "47.242.168.144:59394  Fetching  https://goodinfo.tw/tw/BasicInfo.asp?STOCK_ID=6177  timeout:  30\n",
      "retrying:  3\n",
      "155.0.181.254:43496  Fetching  https://goodinfo.tw/tw/BasicInfo.asp?STOCK_ID=6177  timeout:  20\n"
     ]
    },
    {
     "name": "stderr",
     "output_type": "stream",
     "text": [
      " 79%|███████▉  | 698/881 [15:57:39<8:00:17, 157.47s/it]"
     ]
    },
    {
     "name": "stdout",
     "output_type": "stream",
     "text": [
      "Success\n",
      "200.105.215.18:33630  Fetching  https://goodinfo.tw/tw/BasicInfo.asp?STOCK_ID=6183  timeout:  20\n"
     ]
    },
    {
     "name": "stderr",
     "output_type": "stream",
     "text": [
      " 79%|███████▉  | 699/881 [15:57:56<5:49:18, 115.16s/it]"
     ]
    },
    {
     "name": "stdout",
     "output_type": "stream",
     "text": [
      "Success\n",
      "200.105.215.18:33630  Fetching  https://goodinfo.tw/tw/BasicInfo.asp?STOCK_ID=6184  timeout:  20\n",
      "retrying:  1\n",
      "200.105.215.18:33630  Fetching  https://goodinfo.tw/tw/BasicInfo.asp?STOCK_ID=6184  timeout:  25\n"
     ]
    },
    {
     "name": "stderr",
     "output_type": "stream",
     "text": [
      " 79%|███████▉  | 700/881 [15:58:27<4:31:07, 89.88s/it] "
     ]
    },
    {
     "name": "stdout",
     "output_type": "stream",
     "text": [
      "Success\n",
      "158.101.146.40:59394  Fetching  https://goodinfo.tw/tw/BasicInfo.asp?STOCK_ID=6189  timeout:  20\n",
      "retrying:  1\n",
      "158.101.146.40:59394  Fetching  https://goodinfo.tw/tw/BasicInfo.asp?STOCK_ID=6189  timeout:  25\n",
      "retrying:  2\n",
      "158.101.146.40:59394  Fetching  https://goodinfo.tw/tw/BasicInfo.asp?STOCK_ID=6189  timeout:  30\n",
      "retrying:  3\n",
      "155.0.181.254:43496  Fetching  https://goodinfo.tw/tw/BasicInfo.asp?STOCK_ID=6189  timeout:  20\n",
      "retrying:  1\n",
      "155.0.181.254:43496  Fetching  https://goodinfo.tw/tw/BasicInfo.asp?STOCK_ID=6189  timeout:  25\n",
      "retrying:  2\n",
      "155.0.181.254:43496  Fetching  https://goodinfo.tw/tw/BasicInfo.asp?STOCK_ID=6189  timeout:  30\n",
      "retrying:  3\n",
      "200.105.215.18:33630  Fetching  https://goodinfo.tw/tw/BasicInfo.asp?STOCK_ID=6189  timeout:  20\n",
      "retrying:  1\n",
      "200.105.215.18:33630  Fetching  https://goodinfo.tw/tw/BasicInfo.asp?STOCK_ID=6189  timeout:  25\n"
     ]
    },
    {
     "name": "stderr",
     "output_type": "stream",
     "text": [
      " 80%|███████▉  | 701/881 [16:01:29<5:52:31, 117.51s/it]"
     ]
    },
    {
     "name": "stdout",
     "output_type": "stream",
     "text": [
      "Success\n",
      "185.201.88.128:6969  Fetching  https://goodinfo.tw/tw/BasicInfo.asp?STOCK_ID=6191  timeout:  20\n"
     ]
    },
    {
     "name": "stderr",
     "output_type": "stream",
     "text": [
      " 80%|███████▉  | 702/881 [16:01:44<4:19:30, 86.98s/it] "
     ]
    },
    {
     "name": "stdout",
     "output_type": "stream",
     "text": [
      "Success\n",
      "158.101.146.40:59394  Fetching  https://goodinfo.tw/tw/BasicInfo.asp?STOCK_ID=6192  timeout:  20\n",
      "retrying:  1\n",
      "158.101.146.40:59394  Fetching  https://goodinfo.tw/tw/BasicInfo.asp?STOCK_ID=6192  timeout:  25\n",
      "retrying:  2\n",
      "158.101.146.40:59394  Fetching  https://goodinfo.tw/tw/BasicInfo.asp?STOCK_ID=6192  timeout:  30\n",
      "retrying:  3\n",
      "185.201.88.128:6969  Fetching  https://goodinfo.tw/tw/BasicInfo.asp?STOCK_ID=6192  timeout:  20\n"
     ]
    },
    {
     "name": "stderr",
     "output_type": "stream",
     "text": [
      " 80%|███████▉  | 703/881 [16:03:15<4:21:30, 88.15s/it]"
     ]
    },
    {
     "name": "stdout",
     "output_type": "stream",
     "text": [
      "Success\n",
      "155.0.181.254:43496  Fetching  https://goodinfo.tw/tw/BasicInfo.asp?STOCK_ID=6196  timeout:  20\n",
      "retrying:  1\n",
      "155.0.181.254:43496  Fetching  https://goodinfo.tw/tw/BasicInfo.asp?STOCK_ID=6196  timeout:  25\n",
      "retrying:  2\n",
      "155.0.181.254:43496  Fetching  https://goodinfo.tw/tw/BasicInfo.asp?STOCK_ID=6196  timeout:  30\n",
      "retrying:  3\n",
      "155.0.181.254:43496  Fetching  https://goodinfo.tw/tw/BasicInfo.asp?STOCK_ID=6196  timeout:  20\n",
      "retrying:  1\n",
      "155.0.181.254:43496  Fetching  https://goodinfo.tw/tw/BasicInfo.asp?STOCK_ID=6196  timeout:  25\n"
     ]
    },
    {
     "name": "stderr",
     "output_type": "stream",
     "text": [
      " 80%|███████▉  | 704/881 [16:04:57<4:32:12, 92.28s/it]"
     ]
    },
    {
     "name": "stdout",
     "output_type": "stream",
     "text": [
      "Success\n",
      "158.101.146.40:59394  Fetching  https://goodinfo.tw/tw/BasicInfo.asp?STOCK_ID=6197  timeout:  20\n",
      "retrying:  1\n",
      "158.101.146.40:59394  Fetching  https://goodinfo.tw/tw/BasicInfo.asp?STOCK_ID=6197  timeout:  25\n",
      "retrying:  2\n",
      "158.101.146.40:59394  Fetching  https://goodinfo.tw/tw/BasicInfo.asp?STOCK_ID=6197  timeout:  30\n",
      "retrying:  3\n",
      "158.101.146.40:59394  Fetching  https://goodinfo.tw/tw/BasicInfo.asp?STOCK_ID=6197  timeout:  20\n",
      "retrying:  1\n",
      "158.101.146.40:59394  Fetching  https://goodinfo.tw/tw/BasicInfo.asp?STOCK_ID=6197  timeout:  25\n",
      "retrying:  2\n",
      "158.101.146.40:59394  Fetching  https://goodinfo.tw/tw/BasicInfo.asp?STOCK_ID=6197  timeout:  30\n",
      "retrying:  3\n",
      "158.101.146.40:59394  Fetching  https://goodinfo.tw/tw/BasicInfo.asp?STOCK_ID=6197  timeout:  20\n",
      "retrying:  1\n",
      "158.101.146.40:59394  Fetching  https://goodinfo.tw/tw/BasicInfo.asp?STOCK_ID=6197  timeout:  25\n",
      "retrying:  2\n",
      "158.101.146.40:59394  Fetching  https://goodinfo.tw/tw/BasicInfo.asp?STOCK_ID=6197  timeout:  30\n",
      "retrying:  3\n",
      "47.242.168.144:59394  Fetching  https://goodinfo.tw/tw/BasicInfo.asp?STOCK_ID=6197  timeout:  20\n",
      "retrying:  1\n",
      "47.242.168.144:59394  Fetching  https://goodinfo.tw/tw/BasicInfo.asp?STOCK_ID=6197  timeout:  25\n",
      "retrying:  2\n",
      "47.242.168.144:59394  Fetching  https://goodinfo.tw/tw/BasicInfo.asp?STOCK_ID=6197  timeout:  30\n",
      "retrying:  3\n",
      "47.242.168.144:59394  Fetching  https://goodinfo.tw/tw/BasicInfo.asp?STOCK_ID=6197  timeout:  20\n",
      "retrying:  1\n",
      "47.242.168.144:59394  Fetching  https://goodinfo.tw/tw/BasicInfo.asp?STOCK_ID=6197  timeout:  25\n",
      "retrying:  2\n",
      "47.242.168.144:59394  Fetching  https://goodinfo.tw/tw/BasicInfo.asp?STOCK_ID=6197  timeout:  30\n"
     ]
    },
    {
     "name": "stderr",
     "output_type": "stream",
     "text": [
      " 80%|████████  | 705/881 [16:11:12<8:39:26, 177.08s/it]"
     ]
    },
    {
     "name": "stdout",
     "output_type": "stream",
     "text": [
      "retrying:  3\n",
      "200.105.215.18:33630  Fetching  https://goodinfo.tw/tw/BasicInfo.asp?STOCK_ID=6201  timeout:  20\n"
     ]
    },
    {
     "name": "stderr",
     "output_type": "stream",
     "text": [
      " 80%|████████  | 706/881 [16:11:36<6:22:32, 131.16s/it]"
     ]
    },
    {
     "name": "stdout",
     "output_type": "stream",
     "text": [
      "Success\n",
      "158.101.146.40:59394  Fetching  https://goodinfo.tw/tw/BasicInfo.asp?STOCK_ID=6202  timeout:  20\n",
      "retrying:  1\n",
      "158.101.146.40:59394  Fetching  https://goodinfo.tw/tw/BasicInfo.asp?STOCK_ID=6202  timeout:  25\n",
      "retrying:  2\n",
      "158.101.146.40:59394  Fetching  https://goodinfo.tw/tw/BasicInfo.asp?STOCK_ID=6202  timeout:  30\n",
      "retrying:  3\n",
      "47.242.168.144:59394  Fetching  https://goodinfo.tw/tw/BasicInfo.asp?STOCK_ID=6202  timeout:  20\n",
      "retrying:  1\n",
      "47.242.168.144:59394  Fetching  https://goodinfo.tw/tw/BasicInfo.asp?STOCK_ID=6202  timeout:  25\n",
      "retrying:  2\n",
      "47.242.168.144:59394  Fetching  https://goodinfo.tw/tw/BasicInfo.asp?STOCK_ID=6202  timeout:  30\n",
      "retrying:  3\n",
      "158.101.146.40:59394  Fetching  https://goodinfo.tw/tw/BasicInfo.asp?STOCK_ID=6202  timeout:  20\n",
      "retrying:  1\n",
      "158.101.146.40:59394  Fetching  https://goodinfo.tw/tw/BasicInfo.asp?STOCK_ID=6202  timeout:  25\n",
      "retrying:  2\n",
      "158.101.146.40:59394  Fetching  https://goodinfo.tw/tw/BasicInfo.asp?STOCK_ID=6202  timeout:  30\n",
      "retrying:  3\n",
      "185.201.88.128:6969  Fetching  https://goodinfo.tw/tw/BasicInfo.asp?STOCK_ID=6202  timeout:  20\n",
      "retrying:  1\n",
      "185.201.88.128:6969  Fetching  https://goodinfo.tw/tw/BasicInfo.asp?STOCK_ID=6202  timeout:  25\n"
     ]
    },
    {
     "name": "stderr",
     "output_type": "stream",
     "text": [
      " 80%|████████  | 707/881 [16:15:48<8:05:11, 167.31s/it]"
     ]
    },
    {
     "name": "stdout",
     "output_type": "stream",
     "text": [
      "Success\n",
      "200.105.215.18:33630  Fetching  https://goodinfo.tw/tw/BasicInfo.asp?STOCK_ID=6205  timeout:  20\n",
      "retrying:  1\n",
      "200.105.215.18:33630  Fetching  https://goodinfo.tw/tw/BasicInfo.asp?STOCK_ID=6205  timeout:  25\n",
      "retrying:  2\n",
      "200.105.215.18:33630  Fetching  https://goodinfo.tw/tw/BasicInfo.asp?STOCK_ID=6205  timeout:  30\n"
     ]
    },
    {
     "name": "stderr",
     "output_type": "stream",
     "text": [
      " 80%|████████  | 708/881 [16:16:41<6:23:44, 133.09s/it]"
     ]
    },
    {
     "name": "stdout",
     "output_type": "stream",
     "text": [
      "Success\n",
      "155.0.181.254:43496  Fetching  https://goodinfo.tw/tw/BasicInfo.asp?STOCK_ID=6206  timeout:  20\n",
      "retrying:  1\n",
      "155.0.181.254:43496  Fetching  https://goodinfo.tw/tw/BasicInfo.asp?STOCK_ID=6206  timeout:  25\n",
      "retrying:  2\n",
      "155.0.181.254:43496  Fetching  https://goodinfo.tw/tw/BasicInfo.asp?STOCK_ID=6206  timeout:  30\n",
      "retrying:  3\n",
      "185.201.88.128:6969  Fetching  https://goodinfo.tw/tw/BasicInfo.asp?STOCK_ID=6206  timeout:  20\n",
      "retrying:  1\n",
      "185.201.88.128:6969  Fetching  https://goodinfo.tw/tw/BasicInfo.asp?STOCK_ID=6206  timeout:  25\n"
     ]
    },
    {
     "name": "stderr",
     "output_type": "stream",
     "text": [
      " 80%|████████  | 709/881 [16:18:24<5:55:21, 123.96s/it]"
     ]
    },
    {
     "name": "stdout",
     "output_type": "stream",
     "text": [
      "Success\n",
      "200.105.215.18:33630  Fetching  https://goodinfo.tw/tw/BasicInfo.asp?STOCK_ID=6209  timeout:  20\n"
     ]
    },
    {
     "name": "stderr",
     "output_type": "stream",
     "text": [
      " 81%|████████  | 710/881 [16:18:30<4:12:45, 88.69s/it] "
     ]
    },
    {
     "name": "stdout",
     "output_type": "stream",
     "text": [
      "Success\n",
      "47.242.168.144:59394  Fetching  https://goodinfo.tw/tw/BasicInfo.asp?STOCK_ID=6213  timeout:  20\n",
      "retrying:  1\n",
      "47.242.168.144:59394  Fetching  https://goodinfo.tw/tw/BasicInfo.asp?STOCK_ID=6213  timeout:  25\n",
      "retrying:  2\n",
      "47.242.168.144:59394  Fetching  https://goodinfo.tw/tw/BasicInfo.asp?STOCK_ID=6213  timeout:  30\n",
      "retrying:  3\n",
      "158.101.146.40:59394  Fetching  https://goodinfo.tw/tw/BasicInfo.asp?STOCK_ID=6213  timeout:  20\n",
      "retrying:  1\n",
      "158.101.146.40:59394  Fetching  https://goodinfo.tw/tw/BasicInfo.asp?STOCK_ID=6213  timeout:  25\n",
      "retrying:  2\n",
      "158.101.146.40:59394  Fetching  https://goodinfo.tw/tw/BasicInfo.asp?STOCK_ID=6213  timeout:  30\n",
      "retrying:  3\n",
      "200.105.215.18:33630  Fetching  https://goodinfo.tw/tw/BasicInfo.asp?STOCK_ID=6213  timeout:  20\n"
     ]
    },
    {
     "name": "stderr",
     "output_type": "stream",
     "text": [
      " 81%|████████  | 711/881 [16:21:12<5:13:33, 110.67s/it]"
     ]
    },
    {
     "name": "stdout",
     "output_type": "stream",
     "text": [
      "Success\n",
      "155.0.181.254:43496  Fetching  https://goodinfo.tw/tw/BasicInfo.asp?STOCK_ID=6214  timeout:  20\n",
      "retrying:  1\n",
      "155.0.181.254:43496  Fetching  https://goodinfo.tw/tw/BasicInfo.asp?STOCK_ID=6214  timeout:  25\n",
      "retrying:  2\n",
      "155.0.181.254:43496  Fetching  https://goodinfo.tw/tw/BasicInfo.asp?STOCK_ID=6214  timeout:  30\n",
      "retrying:  3\n",
      "200.105.215.18:33630  Fetching  https://goodinfo.tw/tw/BasicInfo.asp?STOCK_ID=6214  timeout:  20\n"
     ]
    },
    {
     "name": "stderr",
     "output_type": "stream",
     "text": [
      " 81%|████████  | 712/881 [16:22:34<4:47:37, 102.11s/it]"
     ]
    },
    {
     "name": "stdout",
     "output_type": "stream",
     "text": [
      "Success\n",
      "185.201.88.128:6969  Fetching  https://goodinfo.tw/tw/BasicInfo.asp?STOCK_ID=6215  timeout:  20\n",
      "retrying:  1\n",
      "185.201.88.128:6969  Fetching  https://goodinfo.tw/tw/BasicInfo.asp?STOCK_ID=6215  timeout:  25\n",
      "retrying:  2\n",
      "185.201.88.128:6969  Fetching  https://goodinfo.tw/tw/BasicInfo.asp?STOCK_ID=6215  timeout:  30\n",
      "retrying:  3\n",
      "158.101.146.40:59394  Fetching  https://goodinfo.tw/tw/BasicInfo.asp?STOCK_ID=6215  timeout:  20\n",
      "retrying:  1\n",
      "158.101.146.40:59394  Fetching  https://goodinfo.tw/tw/BasicInfo.asp?STOCK_ID=6215  timeout:  25\n",
      "retrying:  2\n",
      "158.101.146.40:59394  Fetching  https://goodinfo.tw/tw/BasicInfo.asp?STOCK_ID=6215  timeout:  30\n",
      "retrying:  3\n",
      "155.0.181.254:43496  Fetching  https://goodinfo.tw/tw/BasicInfo.asp?STOCK_ID=6215  timeout:  20\n",
      "retrying:  1\n",
      "155.0.181.254:43496  Fetching  https://goodinfo.tw/tw/BasicInfo.asp?STOCK_ID=6215  timeout:  25\n",
      "retrying:  2\n",
      "155.0.181.254:43496  Fetching  https://goodinfo.tw/tw/BasicInfo.asp?STOCK_ID=6215  timeout:  30\n",
      "retrying:  3\n",
      "158.101.146.40:59394  Fetching  https://goodinfo.tw/tw/BasicInfo.asp?STOCK_ID=6215  timeout:  20\n",
      "retrying:  1\n",
      "158.101.146.40:59394  Fetching  https://goodinfo.tw/tw/BasicInfo.asp?STOCK_ID=6215  timeout:  25\n",
      "retrying:  2\n",
      "158.101.146.40:59394  Fetching  https://goodinfo.tw/tw/BasicInfo.asp?STOCK_ID=6215  timeout:  30\n",
      "retrying:  3\n",
      "200.105.215.18:33630  Fetching  https://goodinfo.tw/tw/BasicInfo.asp?STOCK_ID=6215  timeout:  20\n"
     ]
    },
    {
     "name": "stderr",
     "output_type": "stream",
     "text": [
      " 81%|████████  | 713/881 [16:27:43<7:39:56, 164.27s/it]"
     ]
    },
    {
     "name": "stdout",
     "output_type": "stream",
     "text": [
      "Success\n",
      "200.105.215.18:33630  Fetching  https://goodinfo.tw/tw/BasicInfo.asp?STOCK_ID=6216  timeout:  20\n"
     ]
    },
    {
     "name": "stderr",
     "output_type": "stream",
     "text": [
      " 81%|████████  | 714/881 [16:27:49<5:24:46, 116.69s/it]"
     ]
    },
    {
     "name": "stdout",
     "output_type": "stream",
     "text": [
      "Success\n",
      "158.101.146.40:59394  Fetching  https://goodinfo.tw/tw/BasicInfo.asp?STOCK_ID=6224  timeout:  20\n",
      "retrying:  1\n",
      "158.101.146.40:59394  Fetching  https://goodinfo.tw/tw/BasicInfo.asp?STOCK_ID=6224  timeout:  25\n",
      "retrying:  2\n",
      "158.101.146.40:59394  Fetching  https://goodinfo.tw/tw/BasicInfo.asp?STOCK_ID=6224  timeout:  30\n",
      "retrying:  3\n",
      "155.0.181.254:43496  Fetching  https://goodinfo.tw/tw/BasicInfo.asp?STOCK_ID=6224  timeout:  20\n",
      "retrying:  1\n",
      "155.0.181.254:43496  Fetching  https://goodinfo.tw/tw/BasicInfo.asp?STOCK_ID=6224  timeout:  25\n",
      "retrying:  2\n",
      "155.0.181.254:43496  Fetching  https://goodinfo.tw/tw/BasicInfo.asp?STOCK_ID=6224  timeout:  30\n",
      "retrying:  3\n",
      "200.105.215.18:33630  Fetching  https://goodinfo.tw/tw/BasicInfo.asp?STOCK_ID=6224  timeout:  20\n",
      "retrying:  1\n",
      "200.105.215.18:33630  Fetching  https://goodinfo.tw/tw/BasicInfo.asp?STOCK_ID=6224  timeout:  25\n"
     ]
    },
    {
     "name": "stderr",
     "output_type": "stream",
     "text": [
      " 81%|████████  | 715/881 [16:30:53<6:18:21, 136.75s/it]"
     ]
    },
    {
     "name": "stdout",
     "output_type": "stream",
     "text": [
      "Success\n",
      "185.201.88.128:6969  Fetching  https://goodinfo.tw/tw/BasicInfo.asp?STOCK_ID=6225  timeout:  20\n",
      "retrying:  1\n",
      "185.201.88.128:6969  Fetching  https://goodinfo.tw/tw/BasicInfo.asp?STOCK_ID=6225  timeout:  25\n",
      "retrying:  2\n",
      "185.201.88.128:6969  Fetching  https://goodinfo.tw/tw/BasicInfo.asp?STOCK_ID=6225  timeout:  30\n",
      "retrying:  3\n",
      "185.201.88.128:6969  Fetching  https://goodinfo.tw/tw/BasicInfo.asp?STOCK_ID=6225  timeout:  20\n"
     ]
    },
    {
     "name": "stderr",
     "output_type": "stream",
     "text": [
      " 81%|████████▏ | 716/881 [16:32:14<5:30:10, 120.07s/it]"
     ]
    },
    {
     "name": "stdout",
     "output_type": "stream",
     "text": [
      "Success\n",
      "185.201.88.128:6969  Fetching  https://goodinfo.tw/tw/BasicInfo.asp?STOCK_ID=6226  timeout:  20\n",
      "retrying:  1\n",
      "185.201.88.128:6969  Fetching  https://goodinfo.tw/tw/BasicInfo.asp?STOCK_ID=6226  timeout:  25\n"
     ]
    },
    {
     "name": "stderr",
     "output_type": "stream",
     "text": [
      " 81%|████████▏ | 717/881 [16:32:40<4:11:37, 92.06s/it] "
     ]
    },
    {
     "name": "stdout",
     "output_type": "stream",
     "text": [
      "Success\n",
      "185.201.88.128:6969  Fetching  https://goodinfo.tw/tw/BasicInfo.asp?STOCK_ID=6230  timeout:  20\n"
     ]
    },
    {
     "name": "stderr",
     "output_type": "stream",
     "text": [
      " 81%|████████▏ | 718/881 [16:32:50<3:02:30, 67.18s/it]"
     ]
    },
    {
     "name": "stdout",
     "output_type": "stream",
     "text": [
      "Success\n",
      "185.201.88.128:6969  Fetching  https://goodinfo.tw/tw/BasicInfo.asp?STOCK_ID=6235  timeout:  20\n",
      "retrying:  1\n",
      "185.201.88.128:6969  Fetching  https://goodinfo.tw/tw/BasicInfo.asp?STOCK_ID=6235  timeout:  25\n",
      "retrying:  2\n",
      "185.201.88.128:6969  Fetching  https://goodinfo.tw/tw/BasicInfo.asp?STOCK_ID=6235  timeout:  30\n",
      "retrying:  3\n",
      "185.201.88.128:6969  Fetching  https://goodinfo.tw/tw/BasicInfo.asp?STOCK_ID=6235  timeout:  20\n"
     ]
    },
    {
     "name": "stderr",
     "output_type": "stream",
     "text": [
      " 82%|████████▏ | 719/881 [16:34:20<3:20:11, 74.14s/it]"
     ]
    },
    {
     "name": "stdout",
     "output_type": "stream",
     "text": [
      "Success\n",
      "155.0.181.254:43496  Fetching  https://goodinfo.tw/tw/BasicInfo.asp?STOCK_ID=6239  timeout:  20\n",
      "retrying:  1\n",
      "155.0.181.254:43496  Fetching  https://goodinfo.tw/tw/BasicInfo.asp?STOCK_ID=6239  timeout:  25\n",
      "retrying:  2\n",
      "155.0.181.254:43496  Fetching  https://goodinfo.tw/tw/BasicInfo.asp?STOCK_ID=6239  timeout:  30\n",
      "retrying:  3\n",
      "200.105.215.18:33630  Fetching  https://goodinfo.tw/tw/BasicInfo.asp?STOCK_ID=6239  timeout:  20\n",
      "retrying:  1\n",
      "200.105.215.18:33630  Fetching  https://goodinfo.tw/tw/BasicInfo.asp?STOCK_ID=6239  timeout:  25\n"
     ]
    },
    {
     "name": "stderr",
     "output_type": "stream",
     "text": [
      " 82%|████████▏ | 720/881 [16:36:09<3:46:54, 84.56s/it]"
     ]
    },
    {
     "name": "stdout",
     "output_type": "stream",
     "text": [
      "Success\n",
      "185.201.88.128:6969  Fetching  https://goodinfo.tw/tw/BasicInfo.asp?STOCK_ID=6243  timeout:  20\n"
     ]
    },
    {
     "name": "stderr",
     "output_type": "stream",
     "text": [
      " 82%|████████▏ | 721/881 [16:36:17<2:44:28, 61.68s/it]"
     ]
    },
    {
     "name": "stdout",
     "output_type": "stream",
     "text": [
      "Success\n",
      "185.201.88.128:6969  Fetching  https://goodinfo.tw/tw/BasicInfo.asp?STOCK_ID=6251  timeout:  20\n",
      "retrying:  1\n",
      "185.201.88.128:6969  Fetching  https://goodinfo.tw/tw/BasicInfo.asp?STOCK_ID=6251  timeout:  25\n",
      "retrying:  2\n",
      "185.201.88.128:6969  Fetching  https://goodinfo.tw/tw/BasicInfo.asp?STOCK_ID=6251  timeout:  30\n",
      "retrying:  3\n",
      "158.101.146.40:59394  Fetching  https://goodinfo.tw/tw/BasicInfo.asp?STOCK_ID=6251  timeout:  20\n",
      "retrying:  1\n",
      "158.101.146.40:59394  Fetching  https://goodinfo.tw/tw/BasicInfo.asp?STOCK_ID=6251  timeout:  25\n",
      "retrying:  2\n",
      "158.101.146.40:59394  Fetching  https://goodinfo.tw/tw/BasicInfo.asp?STOCK_ID=6251  timeout:  30\n",
      "retrying:  3\n",
      "185.201.88.128:6969  Fetching  https://goodinfo.tw/tw/BasicInfo.asp?STOCK_ID=6251  timeout:  20\n",
      "retrying:  1\n",
      "185.201.88.128:6969  Fetching  https://goodinfo.tw/tw/BasicInfo.asp?STOCK_ID=6251  timeout:  25\n",
      "retrying:  2\n",
      "185.201.88.128:6969  Fetching  https://goodinfo.tw/tw/BasicInfo.asp?STOCK_ID=6251  timeout:  30\n",
      "retrying:  3\n",
      "185.201.88.128:6969  Fetching  https://goodinfo.tw/tw/BasicInfo.asp?STOCK_ID=6251  timeout:  20\n",
      "retrying:  1\n",
      "185.201.88.128:6969  Fetching  https://goodinfo.tw/tw/BasicInfo.asp?STOCK_ID=6251  timeout:  25\n",
      "retrying:  2\n",
      "185.201.88.128:6969  Fetching  https://goodinfo.tw/tw/BasicInfo.asp?STOCK_ID=6251  timeout:  30\n"
     ]
    },
    {
     "name": "stderr",
     "output_type": "stream",
     "text": [
      " 82%|████████▏ | 722/881 [16:40:53<5:34:04, 126.06s/it]"
     ]
    },
    {
     "name": "stdout",
     "output_type": "stream",
     "text": [
      "Success\n",
      "200.105.215.18:33630  Fetching  https://goodinfo.tw/tw/BasicInfo.asp?STOCK_ID=6257  timeout:  20\n"
     ]
    },
    {
     "name": "stderr",
     "output_type": "stream",
     "text": [
      " 82%|████████▏ | 723/881 [16:41:00<3:57:36, 90.23s/it] "
     ]
    },
    {
     "name": "stdout",
     "output_type": "stream",
     "text": [
      "Success\n",
      "185.201.88.128:6969  Fetching  https://goodinfo.tw/tw/BasicInfo.asp?STOCK_ID=6269  timeout:  20\n",
      "retrying:  1\n",
      "185.201.88.128:6969  Fetching  https://goodinfo.tw/tw/BasicInfo.asp?STOCK_ID=6269  timeout:  25\n",
      "retrying:  2\n",
      "185.201.88.128:6969  Fetching  https://goodinfo.tw/tw/BasicInfo.asp?STOCK_ID=6269  timeout:  30\n",
      "retrying:  3\n",
      "47.242.168.144:59394  Fetching  https://goodinfo.tw/tw/BasicInfo.asp?STOCK_ID=6269  timeout:  20\n",
      "retrying:  1\n",
      "47.242.168.144:59394  Fetching  https://goodinfo.tw/tw/BasicInfo.asp?STOCK_ID=6269  timeout:  25\n",
      "retrying:  2\n",
      "47.242.168.144:59394  Fetching  https://goodinfo.tw/tw/BasicInfo.asp?STOCK_ID=6269  timeout:  30\n",
      "retrying:  3\n",
      "200.105.215.18:33630  Fetching  https://goodinfo.tw/tw/BasicInfo.asp?STOCK_ID=6269  timeout:  20\n"
     ]
    },
    {
     "name": "stderr",
     "output_type": "stream",
     "text": [
      " 82%|████████▏ | 724/881 [16:43:35<4:47:06, 109.72s/it]"
     ]
    },
    {
     "name": "stdout",
     "output_type": "stream",
     "text": [
      "Success\n",
      "158.101.146.40:59394  Fetching  https://goodinfo.tw/tw/BasicInfo.asp?STOCK_ID=6271  timeout:  20\n",
      "retrying:  1\n",
      "158.101.146.40:59394  Fetching  https://goodinfo.tw/tw/BasicInfo.asp?STOCK_ID=6271  timeout:  25\n",
      "retrying:  2\n",
      "158.101.146.40:59394  Fetching  https://goodinfo.tw/tw/BasicInfo.asp?STOCK_ID=6271  timeout:  30\n",
      "retrying:  3\n",
      "200.105.215.18:33630  Fetching  https://goodinfo.tw/tw/BasicInfo.asp?STOCK_ID=6271  timeout:  20\n",
      "retrying:  1\n",
      "200.105.215.18:33630  Fetching  https://goodinfo.tw/tw/BasicInfo.asp?STOCK_ID=6271  timeout:  25\n"
     ]
    },
    {
     "name": "stderr",
     "output_type": "stream",
     "text": [
      " 82%|████████▏ | 725/881 [16:45:17<4:38:41, 107.19s/it]"
     ]
    },
    {
     "name": "stdout",
     "output_type": "stream",
     "text": [
      "Success\n",
      "158.101.146.40:59394  Fetching  https://goodinfo.tw/tw/BasicInfo.asp?STOCK_ID=6277  timeout:  20\n",
      "retrying:  1\n",
      "158.101.146.40:59394  Fetching  https://goodinfo.tw/tw/BasicInfo.asp?STOCK_ID=6277  timeout:  25\n",
      "retrying:  2\n",
      "158.101.146.40:59394  Fetching  https://goodinfo.tw/tw/BasicInfo.asp?STOCK_ID=6277  timeout:  30\n",
      "retrying:  3\n",
      "155.0.181.254:43496  Fetching  https://goodinfo.tw/tw/BasicInfo.asp?STOCK_ID=6277  timeout:  20\n",
      "retrying:  1\n",
      "155.0.181.254:43496  Fetching  https://goodinfo.tw/tw/BasicInfo.asp?STOCK_ID=6277  timeout:  25\n",
      "retrying:  2\n",
      "155.0.181.254:43496  Fetching  https://goodinfo.tw/tw/BasicInfo.asp?STOCK_ID=6277  timeout:  30\n"
     ]
    },
    {
     "name": "stderr",
     "output_type": "stream",
     "text": [
      " 82%|████████▏ | 726/881 [16:47:29<4:56:52, 114.92s/it]"
     ]
    },
    {
     "name": "stdout",
     "output_type": "stream",
     "text": [
      "Success\n",
      "47.242.168.144:59394  Fetching  https://goodinfo.tw/tw/BasicInfo.asp?STOCK_ID=6278  timeout:  20\n",
      "retrying:  1\n",
      "47.242.168.144:59394  Fetching  https://goodinfo.tw/tw/BasicInfo.asp?STOCK_ID=6278  timeout:  25\n",
      "retrying:  2\n",
      "47.242.168.144:59394  Fetching  https://goodinfo.tw/tw/BasicInfo.asp?STOCK_ID=6278  timeout:  30\n",
      "retrying:  3\n",
      "200.105.215.18:33630  Fetching  https://goodinfo.tw/tw/BasicInfo.asp?STOCK_ID=6278  timeout:  20\n"
     ]
    },
    {
     "name": "stderr",
     "output_type": "stream",
     "text": [
      " 83%|████████▎ | 727/881 [16:48:53<4:31:06, 105.63s/it]"
     ]
    },
    {
     "name": "stdout",
     "output_type": "stream",
     "text": [
      "Success\n",
      "47.242.168.144:59394  Fetching  https://goodinfo.tw/tw/BasicInfo.asp?STOCK_ID=6281  timeout:  20\n",
      "retrying:  1\n",
      "47.242.168.144:59394  Fetching  https://goodinfo.tw/tw/BasicInfo.asp?STOCK_ID=6281  timeout:  25\n",
      "retrying:  2\n",
      "47.242.168.144:59394  Fetching  https://goodinfo.tw/tw/BasicInfo.asp?STOCK_ID=6281  timeout:  30\n",
      "retrying:  3\n",
      "185.201.88.128:6969  Fetching  https://goodinfo.tw/tw/BasicInfo.asp?STOCK_ID=6281  timeout:  20\n",
      "retrying:  1\n",
      "185.201.88.128:6969  Fetching  https://goodinfo.tw/tw/BasicInfo.asp?STOCK_ID=6281  timeout:  25\n"
     ]
    },
    {
     "name": "stderr",
     "output_type": "stream",
     "text": [
      " 83%|████████▎ | 728/881 [16:50:36<4:27:02, 104.72s/it]"
     ]
    },
    {
     "name": "stdout",
     "output_type": "stream",
     "text": [
      "Success\n",
      "47.242.168.144:59394  Fetching  https://goodinfo.tw/tw/BasicInfo.asp?STOCK_ID=6282  timeout:  20\n",
      "retrying:  1\n",
      "47.242.168.144:59394  Fetching  https://goodinfo.tw/tw/BasicInfo.asp?STOCK_ID=6282  timeout:  25\n",
      "retrying:  2\n",
      "47.242.168.144:59394  Fetching  https://goodinfo.tw/tw/BasicInfo.asp?STOCK_ID=6282  timeout:  30\n",
      "retrying:  3\n",
      "200.105.215.18:33630  Fetching  https://goodinfo.tw/tw/BasicInfo.asp?STOCK_ID=6282  timeout:  20\n",
      "retrying:  1\n",
      "200.105.215.18:33630  Fetching  https://goodinfo.tw/tw/BasicInfo.asp?STOCK_ID=6282  timeout:  25\n"
     ]
    },
    {
     "name": "stderr",
     "output_type": "stream",
     "text": [
      " 83%|████████▎ | 729/881 [16:52:18<4:23:30, 104.02s/it]"
     ]
    },
    {
     "name": "stdout",
     "output_type": "stream",
     "text": [
      "Success\n",
      "200.105.215.18:33630  Fetching  https://goodinfo.tw/tw/BasicInfo.asp?STOCK_ID=6283  timeout:  20\n",
      "retrying:  1\n",
      "200.105.215.18:33630  Fetching  https://goodinfo.tw/tw/BasicInfo.asp?STOCK_ID=6283  timeout:  25\n"
     ]
    },
    {
     "name": "stderr",
     "output_type": "stream",
     "text": [
      " 83%|████████▎ | 730/881 [16:52:30<3:11:45, 76.19s/it] "
     ]
    },
    {
     "name": "stdout",
     "output_type": "stream",
     "text": [
      "Success\n",
      "158.101.146.40:59394  Fetching  https://goodinfo.tw/tw/BasicInfo.asp?STOCK_ID=6285  timeout:  20\n",
      "retrying:  1\n",
      "158.101.146.40:59394  Fetching  https://goodinfo.tw/tw/BasicInfo.asp?STOCK_ID=6285  timeout:  25\n",
      "retrying:  2\n",
      "158.101.146.40:59394  Fetching  https://goodinfo.tw/tw/BasicInfo.asp?STOCK_ID=6285  timeout:  30\n",
      "retrying:  3\n",
      "185.201.88.128:6969  Fetching  https://goodinfo.tw/tw/BasicInfo.asp?STOCK_ID=6285  timeout:  20\n"
     ]
    },
    {
     "name": "stderr",
     "output_type": "stream",
     "text": [
      " 83%|████████▎ | 731/881 [16:54:07<3:26:18, 82.52s/it]"
     ]
    },
    {
     "name": "stdout",
     "output_type": "stream",
     "text": [
      "Success\n",
      "200.105.215.18:33630  Fetching  https://goodinfo.tw/tw/BasicInfo.asp?STOCK_ID=6288  timeout:  20\n",
      "retrying:  1\n",
      "200.105.215.18:33630  Fetching  https://goodinfo.tw/tw/BasicInfo.asp?STOCK_ID=6288  timeout:  25\n",
      "retrying:  2\n",
      "200.105.215.18:33630  Fetching  https://goodinfo.tw/tw/BasicInfo.asp?STOCK_ID=6288  timeout:  30\n"
     ]
    },
    {
     "name": "stderr",
     "output_type": "stream",
     "text": [
      " 83%|████████▎ | 732/881 [16:54:57<3:00:44, 72.79s/it]"
     ]
    },
    {
     "name": "stdout",
     "output_type": "stream",
     "text": [
      "Success\n",
      "200.105.215.18:33630  Fetching  https://goodinfo.tw/tw/BasicInfo.asp?STOCK_ID=6289  timeout:  20\n"
     ]
    },
    {
     "name": "stderr",
     "output_type": "stream",
     "text": [
      " 83%|████████▎ | 733/881 [16:55:03<2:10:04, 52.73s/it]"
     ]
    },
    {
     "name": "stdout",
     "output_type": "stream",
     "text": [
      "Success\n",
      "158.101.146.40:59394  Fetching  https://goodinfo.tw/tw/BasicInfo.asp?STOCK_ID=6405  timeout:  20\n",
      "retrying:  1\n",
      "158.101.146.40:59394  Fetching  https://goodinfo.tw/tw/BasicInfo.asp?STOCK_ID=6405  timeout:  25\n",
      "retrying:  2\n",
      "158.101.146.40:59394  Fetching  https://goodinfo.tw/tw/BasicInfo.asp?STOCK_ID=6405  timeout:  30\n",
      "retrying:  3\n",
      "155.0.181.254:43496  Fetching  https://goodinfo.tw/tw/BasicInfo.asp?STOCK_ID=6405  timeout:  20\n"
     ]
    },
    {
     "name": "stderr",
     "output_type": "stream",
     "text": [
      " 83%|████████▎ | 734/881 [16:56:31<2:35:11, 63.35s/it]"
     ]
    },
    {
     "name": "stdout",
     "output_type": "stream",
     "text": [
      "Success\n",
      "158.101.146.40:59394  Fetching  https://goodinfo.tw/tw/BasicInfo.asp?STOCK_ID=6409  timeout:  20\n",
      "retrying:  1\n",
      "158.101.146.40:59394  Fetching  https://goodinfo.tw/tw/BasicInfo.asp?STOCK_ID=6409  timeout:  25\n",
      "retrying:  2\n",
      "158.101.146.40:59394  Fetching  https://goodinfo.tw/tw/BasicInfo.asp?STOCK_ID=6409  timeout:  30\n",
      "retrying:  3\n",
      "47.242.168.144:59394  Fetching  https://goodinfo.tw/tw/BasicInfo.asp?STOCK_ID=6409  timeout:  20\n",
      "retrying:  1\n",
      "47.242.168.144:59394  Fetching  https://goodinfo.tw/tw/BasicInfo.asp?STOCK_ID=6409  timeout:  25\n",
      "retrying:  2\n",
      "47.242.168.144:59394  Fetching  https://goodinfo.tw/tw/BasicInfo.asp?STOCK_ID=6409  timeout:  30\n",
      "retrying:  3\n",
      "200.105.215.18:33630  Fetching  https://goodinfo.tw/tw/BasicInfo.asp?STOCK_ID=6409  timeout:  20\n",
      "retrying:  1\n",
      "200.105.215.18:33630  Fetching  https://goodinfo.tw/tw/BasicInfo.asp?STOCK_ID=6409  timeout:  25\n"
     ]
    },
    {
     "name": "stderr",
     "output_type": "stream",
     "text": [
      " 83%|████████▎ | 735/881 [16:59:30<3:58:10, 97.88s/it]"
     ]
    },
    {
     "name": "stdout",
     "output_type": "stream",
     "text": [
      "Success\n",
      "47.242.168.144:59394  Fetching  https://goodinfo.tw/tw/BasicInfo.asp?STOCK_ID=6412  timeout:  20\n",
      "retrying:  1\n",
      "47.242.168.144:59394  Fetching  https://goodinfo.tw/tw/BasicInfo.asp?STOCK_ID=6412  timeout:  25\n",
      "retrying:  2\n",
      "47.242.168.144:59394  Fetching  https://goodinfo.tw/tw/BasicInfo.asp?STOCK_ID=6412  timeout:  30\n",
      "retrying:  3\n",
      "200.105.215.18:33630  Fetching  https://goodinfo.tw/tw/BasicInfo.asp?STOCK_ID=6412  timeout:  20\n"
     ]
    },
    {
     "name": "stderr",
     "output_type": "stream",
     "text": [
      " 84%|████████▎ | 736/881 [17:00:50<3:43:56, 92.66s/it]"
     ]
    },
    {
     "name": "stdout",
     "output_type": "stream",
     "text": [
      "Success\n",
      "200.105.215.18:33630  Fetching  https://goodinfo.tw/tw/BasicInfo.asp?STOCK_ID=6414  timeout:  20\n"
     ]
    },
    {
     "name": "stderr",
     "output_type": "stream",
     "text": [
      " 84%|████████▎ | 737/881 [17:00:57<2:40:51, 67.03s/it]"
     ]
    },
    {
     "name": "stdout",
     "output_type": "stream",
     "text": [
      "Success\n",
      "47.242.168.144:59394  Fetching  https://goodinfo.tw/tw/BasicInfo.asp?STOCK_ID=6415  timeout:  20\n",
      "retrying:  1\n",
      "47.242.168.144:59394  Fetching  https://goodinfo.tw/tw/BasicInfo.asp?STOCK_ID=6415  timeout:  25\n",
      "retrying:  2\n",
      "47.242.168.144:59394  Fetching  https://goodinfo.tw/tw/BasicInfo.asp?STOCK_ID=6415  timeout:  30\n",
      "retrying:  3\n",
      "47.242.168.144:59394  Fetching  https://goodinfo.tw/tw/BasicInfo.asp?STOCK_ID=6415  timeout:  20\n",
      "retrying:  1\n",
      "47.242.168.144:59394  Fetching  https://goodinfo.tw/tw/BasicInfo.asp?STOCK_ID=6415  timeout:  25\n",
      "retrying:  2\n",
      "47.242.168.144:59394  Fetching  https://goodinfo.tw/tw/BasicInfo.asp?STOCK_ID=6415  timeout:  30\n",
      "retrying:  3\n",
      "185.201.88.128:6969  Fetching  https://goodinfo.tw/tw/BasicInfo.asp?STOCK_ID=6415  timeout:  20\n",
      "retrying:  1\n",
      "185.201.88.128:6969  Fetching  https://goodinfo.tw/tw/BasicInfo.asp?STOCK_ID=6415  timeout:  25\n"
     ]
    },
    {
     "name": "stderr",
     "output_type": "stream",
     "text": [
      " 84%|████████▍ | 738/881 [17:03:56<3:59:34, 100.52s/it]"
     ]
    },
    {
     "name": "stdout",
     "output_type": "stream",
     "text": [
      "Success\n",
      "158.101.146.40:59394  Fetching  https://goodinfo.tw/tw/BasicInfo.asp?STOCK_ID=6416  timeout:  20\n",
      "retrying:  1\n",
      "158.101.146.40:59394  Fetching  https://goodinfo.tw/tw/BasicInfo.asp?STOCK_ID=6416  timeout:  25\n",
      "retrying:  2\n",
      "158.101.146.40:59394  Fetching  https://goodinfo.tw/tw/BasicInfo.asp?STOCK_ID=6416  timeout:  30\n",
      "retrying:  3\n",
      "185.201.88.128:6969  Fetching  https://goodinfo.tw/tw/BasicInfo.asp?STOCK_ID=6416  timeout:  20\n"
     ]
    },
    {
     "name": "stderr",
     "output_type": "stream",
     "text": [
      " 84%|████████▍ | 739/881 [17:05:20<3:45:57, 95.47s/it] "
     ]
    },
    {
     "name": "stdout",
     "output_type": "stream",
     "text": [
      "Success\n",
      "200.105.215.18:33630  Fetching  https://goodinfo.tw/tw/BasicInfo.asp?STOCK_ID=6426  timeout:  20\n"
     ]
    },
    {
     "name": "stderr",
     "output_type": "stream",
     "text": [
      " 84%|████████▍ | 740/881 [17:05:25<2:40:34, 68.33s/it]"
     ]
    },
    {
     "name": "stdout",
     "output_type": "stream",
     "text": [
      "Success\n",
      "47.242.168.144:59394  Fetching  https://goodinfo.tw/tw/BasicInfo.asp?STOCK_ID=6431  timeout:  20\n",
      "retrying:  1\n",
      "47.242.168.144:59394  Fetching  https://goodinfo.tw/tw/BasicInfo.asp?STOCK_ID=6431  timeout:  25\n",
      "retrying:  2\n",
      "47.242.168.144:59394  Fetching  https://goodinfo.tw/tw/BasicInfo.asp?STOCK_ID=6431  timeout:  30\n",
      "retrying:  3\n",
      "47.242.168.144:59394  Fetching  https://goodinfo.tw/tw/BasicInfo.asp?STOCK_ID=6431  timeout:  20\n",
      "retrying:  1\n",
      "47.242.168.144:59394  Fetching  https://goodinfo.tw/tw/BasicInfo.asp?STOCK_ID=6431  timeout:  25\n",
      "retrying:  2\n",
      "47.242.168.144:59394  Fetching  https://goodinfo.tw/tw/BasicInfo.asp?STOCK_ID=6431  timeout:  30\n",
      "retrying:  3\n",
      "158.101.146.40:59394  Fetching  https://goodinfo.tw/tw/BasicInfo.asp?STOCK_ID=6431  timeout:  20\n",
      "retrying:  1\n",
      "158.101.146.40:59394  Fetching  https://goodinfo.tw/tw/BasicInfo.asp?STOCK_ID=6431  timeout:  25\n",
      "retrying:  2\n",
      "158.101.146.40:59394  Fetching  https://goodinfo.tw/tw/BasicInfo.asp?STOCK_ID=6431  timeout:  30\n",
      "retrying:  3\n",
      "200.105.215.18:33630  Fetching  https://goodinfo.tw/tw/BasicInfo.asp?STOCK_ID=6431  timeout:  20\n"
     ]
    },
    {
     "name": "stderr",
     "output_type": "stream",
     "text": [
      " 84%|████████▍ | 741/881 [17:09:23<4:38:39, 119.42s/it]"
     ]
    },
    {
     "name": "stdout",
     "output_type": "stream",
     "text": [
      "Success\n",
      "158.101.146.40:59394  Fetching  https://goodinfo.tw/tw/BasicInfo.asp?STOCK_ID=6438  timeout:  20\n",
      "retrying:  1\n",
      "158.101.146.40:59394  Fetching  https://goodinfo.tw/tw/BasicInfo.asp?STOCK_ID=6438  timeout:  25\n",
      "retrying:  2\n",
      "158.101.146.40:59394  Fetching  https://goodinfo.tw/tw/BasicInfo.asp?STOCK_ID=6438  timeout:  30\n",
      "retrying:  3\n",
      "155.0.181.254:43496  Fetching  https://goodinfo.tw/tw/BasicInfo.asp?STOCK_ID=6438  timeout:  20\n",
      "retrying:  1\n",
      "155.0.181.254:43496  Fetching  https://goodinfo.tw/tw/BasicInfo.asp?STOCK_ID=6438  timeout:  25\n",
      "retrying:  2\n",
      "155.0.181.254:43496  Fetching  https://goodinfo.tw/tw/BasicInfo.asp?STOCK_ID=6438  timeout:  30\n",
      "retrying:  3\n",
      "155.0.181.254:43496  Fetching  https://goodinfo.tw/tw/BasicInfo.asp?STOCK_ID=6438  timeout:  20\n",
      "retrying:  1\n",
      "155.0.181.254:43496  Fetching  https://goodinfo.tw/tw/BasicInfo.asp?STOCK_ID=6438  timeout:  25\n",
      "retrying:  2\n",
      "155.0.181.254:43496  Fetching  https://goodinfo.tw/tw/BasicInfo.asp?STOCK_ID=6438  timeout:  30\n",
      "retrying:  3\n",
      "158.101.146.40:59394  Fetching  https://goodinfo.tw/tw/BasicInfo.asp?STOCK_ID=6438  timeout:  20\n",
      "retrying:  1\n",
      "158.101.146.40:59394  Fetching  https://goodinfo.tw/tw/BasicInfo.asp?STOCK_ID=6438  timeout:  25\n",
      "retrying:  2\n",
      "158.101.146.40:59394  Fetching  https://goodinfo.tw/tw/BasicInfo.asp?STOCK_ID=6438  timeout:  30\n",
      "retrying:  3\n",
      "185.201.88.128:6969  Fetching  https://goodinfo.tw/tw/BasicInfo.asp?STOCK_ID=6438  timeout:  20\n",
      "retrying:  1\n",
      "185.201.88.128:6969  Fetching  https://goodinfo.tw/tw/BasicInfo.asp?STOCK_ID=6438  timeout:  25\n",
      "retrying:  2\n",
      "185.201.88.128:6969  Fetching  https://goodinfo.tw/tw/BasicInfo.asp?STOCK_ID=6438  timeout:  30\n"
     ]
    },
    {
     "name": "stderr",
     "output_type": "stream",
     "text": [
      " 84%|████████▍ | 742/881 [17:15:39<7:34:33, 196.21s/it]"
     ]
    },
    {
     "name": "stdout",
     "output_type": "stream",
     "text": [
      "retrying:  3\n",
      "158.101.146.40:59394  Fetching  https://goodinfo.tw/tw/BasicInfo.asp?STOCK_ID=6442  timeout:  20\n",
      "retrying:  1\n",
      "158.101.146.40:59394  Fetching  https://goodinfo.tw/tw/BasicInfo.asp?STOCK_ID=6442  timeout:  25\n",
      "retrying:  2\n",
      "158.101.146.40:59394  Fetching  https://goodinfo.tw/tw/BasicInfo.asp?STOCK_ID=6442  timeout:  30\n",
      "retrying:  3\n",
      "200.105.215.18:33630  Fetching  https://goodinfo.tw/tw/BasicInfo.asp?STOCK_ID=6442  timeout:  20\n",
      "retrying:  1\n",
      "200.105.215.18:33630  Fetching  https://goodinfo.tw/tw/BasicInfo.asp?STOCK_ID=6442  timeout:  25\n"
     ]
    },
    {
     "name": "stderr",
     "output_type": "stream",
     "text": [
      " 84%|████████▍ | 743/881 [17:17:27<6:30:54, 169.96s/it]"
     ]
    },
    {
     "name": "stdout",
     "output_type": "stream",
     "text": [
      "Success\n",
      "158.101.146.40:59394  Fetching  https://goodinfo.tw/tw/BasicInfo.asp?STOCK_ID=6443  timeout:  20\n",
      "retrying:  1\n",
      "158.101.146.40:59394  Fetching  https://goodinfo.tw/tw/BasicInfo.asp?STOCK_ID=6443  timeout:  25\n",
      "retrying:  2\n",
      "158.101.146.40:59394  Fetching  https://goodinfo.tw/tw/BasicInfo.asp?STOCK_ID=6443  timeout:  30\n",
      "retrying:  3\n",
      "158.101.146.40:59394  Fetching  https://goodinfo.tw/tw/BasicInfo.asp?STOCK_ID=6443  timeout:  20\n",
      "retrying:  1\n",
      "158.101.146.40:59394  Fetching  https://goodinfo.tw/tw/BasicInfo.asp?STOCK_ID=6443  timeout:  25\n",
      "retrying:  2\n",
      "158.101.146.40:59394  Fetching  https://goodinfo.tw/tw/BasicInfo.asp?STOCK_ID=6443  timeout:  30\n",
      "retrying:  3\n",
      "200.105.215.18:33630  Fetching  https://goodinfo.tw/tw/BasicInfo.asp?STOCK_ID=6443  timeout:  20\n",
      "retrying:  1\n",
      "200.105.215.18:33630  Fetching  https://goodinfo.tw/tw/BasicInfo.asp?STOCK_ID=6443  timeout:  25\n"
     ]
    },
    {
     "name": "stderr",
     "output_type": "stream",
     "text": [
      " 84%|████████▍ | 744/881 [17:20:39<6:42:44, 176.38s/it]"
     ]
    },
    {
     "name": "stdout",
     "output_type": "stream",
     "text": [
      "Success\n",
      "47.242.168.144:59394  Fetching  https://goodinfo.tw/tw/BasicInfo.asp?STOCK_ID=6449  timeout:  20\n",
      "retrying:  1\n",
      "47.242.168.144:59394  Fetching  https://goodinfo.tw/tw/BasicInfo.asp?STOCK_ID=6449  timeout:  25\n",
      "retrying:  2\n",
      "47.242.168.144:59394  Fetching  https://goodinfo.tw/tw/BasicInfo.asp?STOCK_ID=6449  timeout:  30\n",
      "retrying:  3\n",
      "158.101.146.40:59394  Fetching  https://goodinfo.tw/tw/BasicInfo.asp?STOCK_ID=6449  timeout:  20\n",
      "retrying:  1\n",
      "158.101.146.40:59394  Fetching  https://goodinfo.tw/tw/BasicInfo.asp?STOCK_ID=6449  timeout:  25\n",
      "retrying:  2\n",
      "158.101.146.40:59394  Fetching  https://goodinfo.tw/tw/BasicInfo.asp?STOCK_ID=6449  timeout:  30\n",
      "retrying:  3\n",
      "200.105.215.18:33630  Fetching  https://goodinfo.tw/tw/BasicInfo.asp?STOCK_ID=6449  timeout:  20\n",
      "retrying:  1\n",
      "200.105.215.18:33630  Fetching  https://goodinfo.tw/tw/BasicInfo.asp?STOCK_ID=6449  timeout:  25\n",
      "retrying:  2\n",
      "200.105.215.18:33630  Fetching  https://goodinfo.tw/tw/BasicInfo.asp?STOCK_ID=6449  timeout:  30\n"
     ]
    },
    {
     "name": "stderr",
     "output_type": "stream",
     "text": [
      " 85%|████████▍ | 745/881 [17:24:20<7:10:03, 189.73s/it]"
     ]
    },
    {
     "name": "stdout",
     "output_type": "stream",
     "text": [
      "Success\n",
      "200.105.215.18:33630  Fetching  https://goodinfo.tw/tw/BasicInfo.asp?STOCK_ID=6451  timeout:  20\n",
      "retrying:  1\n",
      "200.105.215.18:33630  Fetching  https://goodinfo.tw/tw/BasicInfo.asp?STOCK_ID=6451  timeout:  25\n",
      "retrying:  2\n",
      "200.105.215.18:33630  Fetching  https://goodinfo.tw/tw/BasicInfo.asp?STOCK_ID=6451  timeout:  30\n",
      "retrying:  3\n",
      "47.242.168.144:59394  Fetching  https://goodinfo.tw/tw/BasicInfo.asp?STOCK_ID=6451  timeout:  20\n",
      "retrying:  1\n",
      "47.242.168.144:59394  Fetching  https://goodinfo.tw/tw/BasicInfo.asp?STOCK_ID=6451  timeout:  25\n",
      "retrying:  2\n",
      "47.242.168.144:59394  Fetching  https://goodinfo.tw/tw/BasicInfo.asp?STOCK_ID=6451  timeout:  30\n",
      "retrying:  3\n",
      "155.0.181.254:43496  Fetching  https://goodinfo.tw/tw/BasicInfo.asp?STOCK_ID=6451  timeout:  20\n",
      "retrying:  1\n",
      "155.0.181.254:43496  Fetching  https://goodinfo.tw/tw/BasicInfo.asp?STOCK_ID=6451  timeout:  25\n",
      "retrying:  2\n",
      "155.0.181.254:43496  Fetching  https://goodinfo.tw/tw/BasicInfo.asp?STOCK_ID=6451  timeout:  30\n",
      "retrying:  3\n",
      "155.0.181.254:43496  Fetching  https://goodinfo.tw/tw/BasicInfo.asp?STOCK_ID=6451  timeout:  20\n",
      "retrying:  1\n",
      "155.0.181.254:43496  Fetching  https://goodinfo.tw/tw/BasicInfo.asp?STOCK_ID=6451  timeout:  25\n",
      "retrying:  2\n",
      "155.0.181.254:43496  Fetching  https://goodinfo.tw/tw/BasicInfo.asp?STOCK_ID=6451  timeout:  30\n",
      "retrying:  3\n",
      "200.105.215.18:33630  Fetching  https://goodinfo.tw/tw/BasicInfo.asp?STOCK_ID=6451  timeout:  20\n",
      "retrying:  1\n",
      "200.105.215.18:33630  Fetching  https://goodinfo.tw/tw/BasicInfo.asp?STOCK_ID=6451  timeout:  25\n"
     ]
    },
    {
     "name": "stderr",
     "output_type": "stream",
     "text": [
      " 85%|████████▍ | 746/881 [17:30:17<9:00:15, 240.12s/it]"
     ]
    },
    {
     "name": "stdout",
     "output_type": "stream",
     "text": [
      "Success\n",
      "155.0.181.254:43496  Fetching  https://goodinfo.tw/tw/BasicInfo.asp?STOCK_ID=6456  timeout:  20\n",
      "retrying:  1\n",
      "155.0.181.254:43496  Fetching  https://goodinfo.tw/tw/BasicInfo.asp?STOCK_ID=6456  timeout:  25\n",
      "retrying:  2\n",
      "155.0.181.254:43496  Fetching  https://goodinfo.tw/tw/BasicInfo.asp?STOCK_ID=6456  timeout:  30\n",
      "retrying:  3\n",
      "47.242.168.144:59394  Fetching  https://goodinfo.tw/tw/BasicInfo.asp?STOCK_ID=6456  timeout:  20\n",
      "retrying:  1\n",
      "47.242.168.144:59394  Fetching  https://goodinfo.tw/tw/BasicInfo.asp?STOCK_ID=6456  timeout:  25\n",
      "retrying:  2\n",
      "47.242.168.144:59394  Fetching  https://goodinfo.tw/tw/BasicInfo.asp?STOCK_ID=6456  timeout:  30\n",
      "retrying:  3\n",
      "47.242.168.144:59394  Fetching  https://goodinfo.tw/tw/BasicInfo.asp?STOCK_ID=6456  timeout:  20\n",
      "retrying:  1\n",
      "47.242.168.144:59394  Fetching  https://goodinfo.tw/tw/BasicInfo.asp?STOCK_ID=6456  timeout:  25\n",
      "retrying:  2\n",
      "47.242.168.144:59394  Fetching  https://goodinfo.tw/tw/BasicInfo.asp?STOCK_ID=6456  timeout:  30\n",
      "retrying:  3\n",
      "155.0.181.254:43496  Fetching  https://goodinfo.tw/tw/BasicInfo.asp?STOCK_ID=6456  timeout:  20\n",
      "retrying:  1\n",
      "155.0.181.254:43496  Fetching  https://goodinfo.tw/tw/BasicInfo.asp?STOCK_ID=6456  timeout:  25\n",
      "retrying:  2\n",
      "155.0.181.254:43496  Fetching  https://goodinfo.tw/tw/BasicInfo.asp?STOCK_ID=6456  timeout:  30\n",
      "retrying:  3\n",
      "155.0.181.254:43496  Fetching  https://goodinfo.tw/tw/BasicInfo.asp?STOCK_ID=6456  timeout:  20\n",
      "retrying:  1\n",
      "155.0.181.254:43496  Fetching  https://goodinfo.tw/tw/BasicInfo.asp?STOCK_ID=6456  timeout:  25\n",
      "retrying:  2\n",
      "155.0.181.254:43496  Fetching  https://goodinfo.tw/tw/BasicInfo.asp?STOCK_ID=6456  timeout:  30\n"
     ]
    },
    {
     "name": "stderr",
     "output_type": "stream",
     "text": [
      " 85%|████████▍ | 747/881 [17:36:22<10:19:55, 277.58s/it]"
     ]
    },
    {
     "name": "stdout",
     "output_type": "stream",
     "text": [
      "retrying:  3\n",
      "158.101.146.40:59394  Fetching  https://goodinfo.tw/tw/BasicInfo.asp?STOCK_ID=6464  timeout:  20\n",
      "retrying:  1\n",
      "158.101.146.40:59394  Fetching  https://goodinfo.tw/tw/BasicInfo.asp?STOCK_ID=6464  timeout:  25\n",
      "retrying:  2\n",
      "158.101.146.40:59394  Fetching  https://goodinfo.tw/tw/BasicInfo.asp?STOCK_ID=6464  timeout:  30\n",
      "retrying:  3\n",
      "155.0.181.254:43496  Fetching  https://goodinfo.tw/tw/BasicInfo.asp?STOCK_ID=6464  timeout:  20\n",
      "retrying:  1\n",
      "155.0.181.254:43496  Fetching  https://goodinfo.tw/tw/BasicInfo.asp?STOCK_ID=6464  timeout:  25\n",
      "retrying:  2\n",
      "155.0.181.254:43496  Fetching  https://goodinfo.tw/tw/BasicInfo.asp?STOCK_ID=6464  timeout:  30\n",
      "retrying:  3\n",
      "158.101.146.40:59394  Fetching  https://goodinfo.tw/tw/BasicInfo.asp?STOCK_ID=6464  timeout:  20\n",
      "retrying:  1\n",
      "158.101.146.40:59394  Fetching  https://goodinfo.tw/tw/BasicInfo.asp?STOCK_ID=6464  timeout:  25\n",
      "retrying:  2\n",
      "158.101.146.40:59394  Fetching  https://goodinfo.tw/tw/BasicInfo.asp?STOCK_ID=6464  timeout:  30\n",
      "retrying:  3\n",
      "155.0.181.254:43496  Fetching  https://goodinfo.tw/tw/BasicInfo.asp?STOCK_ID=6464  timeout:  20\n",
      "retrying:  1\n",
      "155.0.181.254:43496  Fetching  https://goodinfo.tw/tw/BasicInfo.asp?STOCK_ID=6464  timeout:  25\n",
      "retrying:  2\n",
      "155.0.181.254:43496  Fetching  https://goodinfo.tw/tw/BasicInfo.asp?STOCK_ID=6464  timeout:  30\n"
     ]
    },
    {
     "name": "stderr",
     "output_type": "stream",
     "text": [
      " 85%|████████▍ | 748/881 [17:40:58<10:13:57, 276.97s/it]"
     ]
    },
    {
     "name": "stdout",
     "output_type": "stream",
     "text": [
      "Success\n",
      "200.105.215.18:33630  Fetching  https://goodinfo.tw/tw/BasicInfo.asp?STOCK_ID=6477  timeout:  20\n",
      "retrying:  1\n",
      "200.105.215.18:33630  Fetching  https://goodinfo.tw/tw/BasicInfo.asp?STOCK_ID=6477  timeout:  25\n"
     ]
    },
    {
     "name": "stderr",
     "output_type": "stream",
     "text": [
      " 85%|████████▌ | 749/881 [17:41:53<7:43:06, 210.51s/it] "
     ]
    },
    {
     "name": "stdout",
     "output_type": "stream",
     "text": [
      "Success\n",
      "155.0.181.254:43496  Fetching  https://goodinfo.tw/tw/BasicInfo.asp?STOCK_ID=6491  timeout:  20\n",
      "retrying:  1\n",
      "155.0.181.254:43496  Fetching  https://goodinfo.tw/tw/BasicInfo.asp?STOCK_ID=6491  timeout:  25\n",
      "retrying:  2\n",
      "155.0.181.254:43496  Fetching  https://goodinfo.tw/tw/BasicInfo.asp?STOCK_ID=6491  timeout:  30\n",
      "retrying:  3\n",
      "155.0.181.254:43496  Fetching  https://goodinfo.tw/tw/BasicInfo.asp?STOCK_ID=6491  timeout:  20\n",
      "retrying:  1\n",
      "155.0.181.254:43496  Fetching  https://goodinfo.tw/tw/BasicInfo.asp?STOCK_ID=6491  timeout:  25\n",
      "retrying:  2\n",
      "155.0.181.254:43496  Fetching  https://goodinfo.tw/tw/BasicInfo.asp?STOCK_ID=6491  timeout:  30\n",
      "retrying:  3\n",
      "158.101.146.40:59394  Fetching  https://goodinfo.tw/tw/BasicInfo.asp?STOCK_ID=6491  timeout:  20\n",
      "retrying:  1\n",
      "158.101.146.40:59394  Fetching  https://goodinfo.tw/tw/BasicInfo.asp?STOCK_ID=6491  timeout:  25\n",
      "retrying:  2\n",
      "158.101.146.40:59394  Fetching  https://goodinfo.tw/tw/BasicInfo.asp?STOCK_ID=6491  timeout:  30\n",
      "retrying:  3\n",
      "158.101.146.40:59394  Fetching  https://goodinfo.tw/tw/BasicInfo.asp?STOCK_ID=6491  timeout:  20\n",
      "retrying:  1\n",
      "158.101.146.40:59394  Fetching  https://goodinfo.tw/tw/BasicInfo.asp?STOCK_ID=6491  timeout:  25\n",
      "retrying:  2\n",
      "158.101.146.40:59394  Fetching  https://goodinfo.tw/tw/BasicInfo.asp?STOCK_ID=6491  timeout:  30\n",
      "retrying:  3\n",
      "155.0.181.254:43496  Fetching  https://goodinfo.tw/tw/BasicInfo.asp?STOCK_ID=6491  timeout:  20\n",
      "retrying:  1\n",
      "155.0.181.254:43496  Fetching  https://goodinfo.tw/tw/BasicInfo.asp?STOCK_ID=6491  timeout:  25\n",
      "retrying:  2\n",
      "155.0.181.254:43496  Fetching  https://goodinfo.tw/tw/BasicInfo.asp?STOCK_ID=6491  timeout:  30\n"
     ]
    },
    {
     "name": "stderr",
     "output_type": "stream",
     "text": [
      " 85%|████████▌ | 750/881 [17:48:09<9:27:36, 259.97s/it]"
     ]
    },
    {
     "name": "stdout",
     "output_type": "stream",
     "text": [
      "retrying:  3\n",
      "200.105.215.18:33630  Fetching  https://goodinfo.tw/tw/BasicInfo.asp?STOCK_ID=6504  timeout:  20\n"
     ]
    },
    {
     "name": "stderr",
     "output_type": "stream",
     "text": [
      " 85%|████████▌ | 751/881 [17:48:32<6:49:33, 189.03s/it]"
     ]
    },
    {
     "name": "stdout",
     "output_type": "stream",
     "text": [
      "Success\n",
      "200.105.215.18:33630  Fetching  https://goodinfo.tw/tw/BasicInfo.asp?STOCK_ID=6505  timeout:  20\n"
     ]
    },
    {
     "name": "stderr",
     "output_type": "stream",
     "text": [
      " 85%|████████▌ | 752/881 [17:48:41<4:49:58, 134.87s/it]"
     ]
    },
    {
     "name": "stdout",
     "output_type": "stream",
     "text": [
      "Success\n",
      "158.101.146.40:59394  Fetching  https://goodinfo.tw/tw/BasicInfo.asp?STOCK_ID=6515  timeout:  20\n",
      "retrying:  1\n",
      "158.101.146.40:59394  Fetching  https://goodinfo.tw/tw/BasicInfo.asp?STOCK_ID=6515  timeout:  25\n",
      "retrying:  2\n",
      "158.101.146.40:59394  Fetching  https://goodinfo.tw/tw/BasicInfo.asp?STOCK_ID=6515  timeout:  30\n",
      "retrying:  3\n",
      "47.242.168.144:59394  Fetching  https://goodinfo.tw/tw/BasicInfo.asp?STOCK_ID=6515  timeout:  20\n",
      "retrying:  1\n",
      "47.242.168.144:59394  Fetching  https://goodinfo.tw/tw/BasicInfo.asp?STOCK_ID=6515  timeout:  25\n",
      "retrying:  2\n",
      "47.242.168.144:59394  Fetching  https://goodinfo.tw/tw/BasicInfo.asp?STOCK_ID=6515  timeout:  30\n",
      "retrying:  3\n",
      "155.0.181.254:43496  Fetching  https://goodinfo.tw/tw/BasicInfo.asp?STOCK_ID=6515  timeout:  20\n"
     ]
    },
    {
     "name": "stderr",
     "output_type": "stream",
     "text": [
      " 85%|████████▌ | 753/881 [17:51:33<5:11:39, 146.09s/it]"
     ]
    },
    {
     "name": "stdout",
     "output_type": "stream",
     "text": [
      "Success\n",
      "155.0.181.254:43496  Fetching  https://goodinfo.tw/tw/BasicInfo.asp?STOCK_ID=6525  timeout:  20\n"
     ]
    },
    {
     "name": "stderr",
     "output_type": "stream",
     "text": [
      " 86%|████████▌ | 754/881 [17:51:46<3:44:41, 106.15s/it]"
     ]
    },
    {
     "name": "stdout",
     "output_type": "stream",
     "text": [
      "Success\n",
      "47.242.168.144:59394  Fetching  https://goodinfo.tw/tw/BasicInfo.asp?STOCK_ID=6531  timeout:  20\n",
      "retrying:  1\n",
      "47.242.168.144:59394  Fetching  https://goodinfo.tw/tw/BasicInfo.asp?STOCK_ID=6531  timeout:  25\n",
      "retrying:  2\n",
      "47.242.168.144:59394  Fetching  https://goodinfo.tw/tw/BasicInfo.asp?STOCK_ID=6531  timeout:  30\n",
      "retrying:  3\n",
      "185.201.88.128:6969  Fetching  https://goodinfo.tw/tw/BasicInfo.asp?STOCK_ID=6531  timeout:  20\n",
      "retrying:  1\n",
      "185.201.88.128:6969  Fetching  https://goodinfo.tw/tw/BasicInfo.asp?STOCK_ID=6531  timeout:  25\n",
      "retrying:  2\n",
      "185.201.88.128:6969  Fetching  https://goodinfo.tw/tw/BasicInfo.asp?STOCK_ID=6531  timeout:  30\n",
      "retrying:  3\n",
      "158.101.146.40:59394  Fetching  https://goodinfo.tw/tw/BasicInfo.asp?STOCK_ID=6531  timeout:  20\n",
      "retrying:  1\n",
      "158.101.146.40:59394  Fetching  https://goodinfo.tw/tw/BasicInfo.asp?STOCK_ID=6531  timeout:  25\n",
      "retrying:  2\n",
      "158.101.146.40:59394  Fetching  https://goodinfo.tw/tw/BasicInfo.asp?STOCK_ID=6531  timeout:  30\n",
      "retrying:  3\n",
      "47.242.168.144:59394  Fetching  https://goodinfo.tw/tw/BasicInfo.asp?STOCK_ID=6531  timeout:  20\n",
      "retrying:  1\n",
      "47.242.168.144:59394  Fetching  https://goodinfo.tw/tw/BasicInfo.asp?STOCK_ID=6531  timeout:  25\n",
      "retrying:  2\n",
      "47.242.168.144:59394  Fetching  https://goodinfo.tw/tw/BasicInfo.asp?STOCK_ID=6531  timeout:  30\n",
      "retrying:  3\n",
      "185.201.88.128:6969  Fetching  https://goodinfo.tw/tw/BasicInfo.asp?STOCK_ID=6531  timeout:  20\n",
      "retrying:  1\n",
      "185.201.88.128:6969  Fetching  https://goodinfo.tw/tw/BasicInfo.asp?STOCK_ID=6531  timeout:  25\n",
      "retrying:  2\n",
      "185.201.88.128:6969  Fetching  https://goodinfo.tw/tw/BasicInfo.asp?STOCK_ID=6531  timeout:  30\n"
     ]
    },
    {
     "name": "stderr",
     "output_type": "stream",
     "text": [
      " 86%|████████▌ | 755/881 [17:57:51<6:25:51, 183.75s/it]"
     ]
    },
    {
     "name": "stdout",
     "output_type": "stream",
     "text": [
      "Success\n",
      "200.105.215.18:33630  Fetching  https://goodinfo.tw/tw/BasicInfo.asp?STOCK_ID=6533  timeout:  20\n"
     ]
    },
    {
     "name": "stderr",
     "output_type": "stream",
     "text": [
      " 86%|████████▌ | 756/881 [17:57:59<4:33:13, 131.15s/it]"
     ]
    },
    {
     "name": "stdout",
     "output_type": "stream",
     "text": [
      "Success\n",
      "47.242.168.144:59394  Fetching  https://goodinfo.tw/tw/BasicInfo.asp?STOCK_ID=6541  timeout:  20\n",
      "retrying:  1\n",
      "47.242.168.144:59394  Fetching  https://goodinfo.tw/tw/BasicInfo.asp?STOCK_ID=6541  timeout:  25\n",
      "retrying:  2\n",
      "47.242.168.144:59394  Fetching  https://goodinfo.tw/tw/BasicInfo.asp?STOCK_ID=6541  timeout:  30\n",
      "retrying:  3\n",
      "185.201.88.128:6969  Fetching  https://goodinfo.tw/tw/BasicInfo.asp?STOCK_ID=6541  timeout:  20\n",
      "retrying:  1\n",
      "185.201.88.128:6969  Fetching  https://goodinfo.tw/tw/BasicInfo.asp?STOCK_ID=6541  timeout:  25\n",
      "retrying:  2\n",
      "185.201.88.128:6969  Fetching  https://goodinfo.tw/tw/BasicInfo.asp?STOCK_ID=6541  timeout:  30\n",
      "retrying:  3\n",
      "158.101.146.40:59394  Fetching  https://goodinfo.tw/tw/BasicInfo.asp?STOCK_ID=6541  timeout:  20\n",
      "retrying:  1\n",
      "158.101.146.40:59394  Fetching  https://goodinfo.tw/tw/BasicInfo.asp?STOCK_ID=6541  timeout:  25\n",
      "retrying:  2\n",
      "158.101.146.40:59394  Fetching  https://goodinfo.tw/tw/BasicInfo.asp?STOCK_ID=6541  timeout:  30\n",
      "retrying:  3\n",
      "185.201.88.128:6969  Fetching  https://goodinfo.tw/tw/BasicInfo.asp?STOCK_ID=6541  timeout:  20\n",
      "retrying:  1\n",
      "185.201.88.128:6969  Fetching  https://goodinfo.tw/tw/BasicInfo.asp?STOCK_ID=6541  timeout:  25\n",
      "retrying:  2\n",
      "185.201.88.128:6969  Fetching  https://goodinfo.tw/tw/BasicInfo.asp?STOCK_ID=6541  timeout:  30\n",
      "retrying:  3\n",
      "155.0.181.254:43496  Fetching  https://goodinfo.tw/tw/BasicInfo.asp?STOCK_ID=6541  timeout:  20\n",
      "retrying:  1\n",
      "155.0.181.254:43496  Fetching  https://goodinfo.tw/tw/BasicInfo.asp?STOCK_ID=6541  timeout:  25\n",
      "retrying:  2\n",
      "155.0.181.254:43496  Fetching  https://goodinfo.tw/tw/BasicInfo.asp?STOCK_ID=6541  timeout:  30\n"
     ]
    },
    {
     "name": "stderr",
     "output_type": "stream",
     "text": [
      " 86%|████████▌ | 757/881 [18:04:14<7:02:26, 204.41s/it]"
     ]
    },
    {
     "name": "stdout",
     "output_type": "stream",
     "text": [
      "retrying:  3\n",
      "155.0.181.254:43496  Fetching  https://goodinfo.tw/tw/BasicInfo.asp?STOCK_ID=6552  timeout:  20\n"
     ]
    },
    {
     "name": "stderr",
     "output_type": "stream",
     "text": [
      " 86%|████████▌ | 758/881 [18:04:22<4:57:42, 145.23s/it]"
     ]
    },
    {
     "name": "stdout",
     "output_type": "stream",
     "text": [
      "Success\n",
      "185.201.88.128:6969  Fetching  https://goodinfo.tw/tw/BasicInfo.asp?STOCK_ID=6558  timeout:  20\n",
      "retrying:  1\n",
      "185.201.88.128:6969  Fetching  https://goodinfo.tw/tw/BasicInfo.asp?STOCK_ID=6558  timeout:  25\n"
     ]
    },
    {
     "name": "stderr",
     "output_type": "stream",
     "text": [
      " 86%|████████▌ | 759/881 [18:04:48<3:43:02, 109.70s/it]"
     ]
    },
    {
     "name": "stdout",
     "output_type": "stream",
     "text": [
      "Success\n",
      "158.101.146.40:59394  Fetching  https://goodinfo.tw/tw/BasicInfo.asp?STOCK_ID=6573  timeout:  20\n",
      "retrying:  1\n",
      "158.101.146.40:59394  Fetching  https://goodinfo.tw/tw/BasicInfo.asp?STOCK_ID=6573  timeout:  25\n",
      "retrying:  2\n",
      "158.101.146.40:59394  Fetching  https://goodinfo.tw/tw/BasicInfo.asp?STOCK_ID=6573  timeout:  30\n",
      "retrying:  3\n",
      "158.101.146.40:59394  Fetching  https://goodinfo.tw/tw/BasicInfo.asp?STOCK_ID=6573  timeout:  20\n",
      "retrying:  1\n",
      "158.101.146.40:59394  Fetching  https://goodinfo.tw/tw/BasicInfo.asp?STOCK_ID=6573  timeout:  25\n",
      "retrying:  2\n",
      "158.101.146.40:59394  Fetching  https://goodinfo.tw/tw/BasicInfo.asp?STOCK_ID=6573  timeout:  30\n",
      "retrying:  3\n",
      "155.0.181.254:43496  Fetching  https://goodinfo.tw/tw/BasicInfo.asp?STOCK_ID=6573  timeout:  20\n"
     ]
    },
    {
     "name": "stderr",
     "output_type": "stream",
     "text": [
      " 86%|████████▋ | 760/881 [18:07:32<4:13:40, 125.79s/it]"
     ]
    },
    {
     "name": "stdout",
     "output_type": "stream",
     "text": [
      "Success\n",
      "185.201.88.128:6969  Fetching  https://goodinfo.tw/tw/BasicInfo.asp?STOCK_ID=6579  timeout:  20\n",
      "retrying:  1\n",
      "185.201.88.128:6969  Fetching  https://goodinfo.tw/tw/BasicInfo.asp?STOCK_ID=6579  timeout:  25\n",
      "retrying:  2\n",
      "185.201.88.128:6969  Fetching  https://goodinfo.tw/tw/BasicInfo.asp?STOCK_ID=6579  timeout:  30\n",
      "retrying:  3\n",
      "200.105.215.18:33630  Fetching  https://goodinfo.tw/tw/BasicInfo.asp?STOCK_ID=6579  timeout:  20\n"
     ]
    },
    {
     "name": "stderr",
     "output_type": "stream",
     "text": [
      " 86%|████████▋ | 761/881 [18:08:58<3:47:58, 113.99s/it]"
     ]
    },
    {
     "name": "stdout",
     "output_type": "stream",
     "text": [
      "Success\n",
      "185.201.88.128:6969  Fetching  https://goodinfo.tw/tw/BasicInfo.asp?STOCK_ID=6581  timeout:  20\n",
      "retrying:  1\n",
      "185.201.88.128:6969  Fetching  https://goodinfo.tw/tw/BasicInfo.asp?STOCK_ID=6581  timeout:  25\n",
      "retrying:  2\n",
      "185.201.88.128:6969  Fetching  https://goodinfo.tw/tw/BasicInfo.asp?STOCK_ID=6581  timeout:  30\n",
      "retrying:  3\n",
      "200.105.215.18:33630  Fetching  https://goodinfo.tw/tw/BasicInfo.asp?STOCK_ID=6581  timeout:  20\n",
      "retrying:  1\n",
      "200.105.215.18:33630  Fetching  https://goodinfo.tw/tw/BasicInfo.asp?STOCK_ID=6581  timeout:  25\n",
      "retrying:  2\n",
      "200.105.215.18:33630  Fetching  https://goodinfo.tw/tw/BasicInfo.asp?STOCK_ID=6581  timeout:  30\n"
     ]
    },
    {
     "name": "stderr",
     "output_type": "stream",
     "text": [
      " 86%|████████▋ | 762/881 [18:11:02<3:52:01, 116.99s/it]"
     ]
    },
    {
     "name": "stdout",
     "output_type": "stream",
     "text": [
      "Success\n",
      "47.242.168.144:59394  Fetching  https://goodinfo.tw/tw/BasicInfo.asp?STOCK_ID=6582  timeout:  20\n",
      "retrying:  1\n",
      "47.242.168.144:59394  Fetching  https://goodinfo.tw/tw/BasicInfo.asp?STOCK_ID=6582  timeout:  25\n",
      "retrying:  2\n",
      "47.242.168.144:59394  Fetching  https://goodinfo.tw/tw/BasicInfo.asp?STOCK_ID=6582  timeout:  30\n",
      "retrying:  3\n",
      "47.242.168.144:59394  Fetching  https://goodinfo.tw/tw/BasicInfo.asp?STOCK_ID=6582  timeout:  20\n",
      "retrying:  1\n",
      "47.242.168.144:59394  Fetching  https://goodinfo.tw/tw/BasicInfo.asp?STOCK_ID=6582  timeout:  25\n",
      "retrying:  2\n",
      "47.242.168.144:59394  Fetching  https://goodinfo.tw/tw/BasicInfo.asp?STOCK_ID=6582  timeout:  30\n",
      "retrying:  3\n",
      "185.201.88.128:6969  Fetching  https://goodinfo.tw/tw/BasicInfo.asp?STOCK_ID=6582  timeout:  20\n",
      "retrying:  1\n",
      "185.201.88.128:6969  Fetching  https://goodinfo.tw/tw/BasicInfo.asp?STOCK_ID=6582  timeout:  25\n",
      "retrying:  2\n",
      "185.201.88.128:6969  Fetching  https://goodinfo.tw/tw/BasicInfo.asp?STOCK_ID=6582  timeout:  30\n",
      "retrying:  3\n",
      "158.101.146.40:59394  Fetching  https://goodinfo.tw/tw/BasicInfo.asp?STOCK_ID=6582  timeout:  20\n",
      "retrying:  1\n",
      "158.101.146.40:59394  Fetching  https://goodinfo.tw/tw/BasicInfo.asp?STOCK_ID=6582  timeout:  25\n",
      "retrying:  2\n",
      "158.101.146.40:59394  Fetching  https://goodinfo.tw/tw/BasicInfo.asp?STOCK_ID=6582  timeout:  30\n",
      "retrying:  3\n",
      "158.101.146.40:59394  Fetching  https://goodinfo.tw/tw/BasicInfo.asp?STOCK_ID=6582  timeout:  20\n",
      "retrying:  1\n",
      "158.101.146.40:59394  Fetching  https://goodinfo.tw/tw/BasicInfo.asp?STOCK_ID=6582  timeout:  25\n",
      "retrying:  2\n",
      "158.101.146.40:59394  Fetching  https://goodinfo.tw/tw/BasicInfo.asp?STOCK_ID=6582  timeout:  30\n"
     ]
    },
    {
     "name": "stderr",
     "output_type": "stream",
     "text": [
      " 87%|████████▋ | 763/881 [18:17:15<6:20:52, 193.66s/it]"
     ]
    },
    {
     "name": "stdout",
     "output_type": "stream",
     "text": [
      "retrying:  3\n",
      "185.201.88.128:6969  Fetching  https://goodinfo.tw/tw/BasicInfo.asp?STOCK_ID=6591  timeout:  20\n",
      "retrying:  1\n",
      "185.201.88.128:6969  Fetching  https://goodinfo.tw/tw/BasicInfo.asp?STOCK_ID=6591  timeout:  25\n",
      "retrying:  2\n",
      "185.201.88.128:6969  Fetching  https://goodinfo.tw/tw/BasicInfo.asp?STOCK_ID=6591  timeout:  30\n",
      "retrying:  3\n",
      "155.0.181.254:43496  Fetching  https://goodinfo.tw/tw/BasicInfo.asp?STOCK_ID=6591  timeout:  20\n",
      "retrying:  1\n",
      "155.0.181.254:43496  Fetching  https://goodinfo.tw/tw/BasicInfo.asp?STOCK_ID=6591  timeout:  25\n"
     ]
    },
    {
     "name": "stderr",
     "output_type": "stream",
     "text": [
      " 87%|████████▋ | 764/881 [18:18:57<5:24:08, 166.23s/it]"
     ]
    },
    {
     "name": "stdout",
     "output_type": "stream",
     "text": [
      "Success\n",
      "200.105.215.18:33630  Fetching  https://goodinfo.tw/tw/BasicInfo.asp?STOCK_ID=6592  timeout:  20\n"
     ]
    },
    {
     "name": "stderr",
     "output_type": "stream",
     "text": [
      " 87%|████████▋ | 765/881 [18:19:09<3:51:59, 120.00s/it]"
     ]
    },
    {
     "name": "stdout",
     "output_type": "stream",
     "text": [
      "Success\n",
      "155.0.181.254:43496  Fetching  https://goodinfo.tw/tw/BasicInfo.asp?STOCK_ID=6598  timeout:  20\n"
     ]
    },
    {
     "name": "stderr",
     "output_type": "stream",
     "text": [
      " 87%|████████▋ | 766/881 [18:19:20<2:47:12, 87.24s/it] "
     ]
    },
    {
     "name": "stdout",
     "output_type": "stream",
     "text": [
      "Success\n",
      "155.0.181.254:43496  Fetching  https://goodinfo.tw/tw/BasicInfo.asp?STOCK_ID=6605  timeout:  20\n",
      "retrying:  1\n",
      "155.0.181.254:43496  Fetching  https://goodinfo.tw/tw/BasicInfo.asp?STOCK_ID=6605  timeout:  25\n"
     ]
    },
    {
     "name": "stderr",
     "output_type": "stream",
     "text": [
      " 87%|████████▋ | 767/881 [18:19:47<2:11:45, 69.34s/it]"
     ]
    },
    {
     "name": "stdout",
     "output_type": "stream",
     "text": [
      "Success\n",
      "158.101.146.40:59394  Fetching  https://goodinfo.tw/tw/BasicInfo.asp?STOCK_ID=6625  timeout:  20\n",
      "retrying:  1\n",
      "158.101.146.40:59394  Fetching  https://goodinfo.tw/tw/BasicInfo.asp?STOCK_ID=6625  timeout:  25\n",
      "retrying:  2\n",
      "158.101.146.40:59394  Fetching  https://goodinfo.tw/tw/BasicInfo.asp?STOCK_ID=6625  timeout:  30\n",
      "retrying:  3\n",
      "158.101.146.40:59394  Fetching  https://goodinfo.tw/tw/BasicInfo.asp?STOCK_ID=6625  timeout:  20\n",
      "retrying:  1\n",
      "158.101.146.40:59394  Fetching  https://goodinfo.tw/tw/BasicInfo.asp?STOCK_ID=6625  timeout:  25\n",
      "retrying:  2\n",
      "158.101.146.40:59394  Fetching  https://goodinfo.tw/tw/BasicInfo.asp?STOCK_ID=6625  timeout:  30\n",
      "retrying:  3\n",
      "185.201.88.128:6969  Fetching  https://goodinfo.tw/tw/BasicInfo.asp?STOCK_ID=6625  timeout:  20\n",
      "retrying:  1\n",
      "185.201.88.128:6969  Fetching  https://goodinfo.tw/tw/BasicInfo.asp?STOCK_ID=6625  timeout:  25\n",
      "retrying:  2\n",
      "185.201.88.128:6969  Fetching  https://goodinfo.tw/tw/BasicInfo.asp?STOCK_ID=6625  timeout:  30\n",
      "retrying:  3\n",
      "200.105.215.18:33630  Fetching  https://goodinfo.tw/tw/BasicInfo.asp?STOCK_ID=6625  timeout:  20\n",
      "retrying:  1\n",
      "200.105.215.18:33630  Fetching  https://goodinfo.tw/tw/BasicInfo.asp?STOCK_ID=6625  timeout:  25\n"
     ]
    },
    {
     "name": "stderr",
     "output_type": "stream",
     "text": [
      " 87%|████████▋ | 768/881 [18:24:13<4:01:30, 128.23s/it]"
     ]
    },
    {
     "name": "stdout",
     "output_type": "stream",
     "text": [
      "Success\n",
      "200.105.215.18:33630  Fetching  https://goodinfo.tw/tw/BasicInfo.asp?STOCK_ID=6641  timeout:  20\n"
     ]
    },
    {
     "name": "stderr",
     "output_type": "stream",
     "text": [
      " 87%|████████▋ | 769/881 [18:24:18<2:50:23, 91.28s/it] "
     ]
    },
    {
     "name": "stdout",
     "output_type": "stream",
     "text": [
      "Success\n",
      "155.0.181.254:43496  Fetching  https://goodinfo.tw/tw/BasicInfo.asp?STOCK_ID=6655  timeout:  20\n",
      "retrying:  1\n",
      "155.0.181.254:43496  Fetching  https://goodinfo.tw/tw/BasicInfo.asp?STOCK_ID=6655  timeout:  25\n"
     ]
    },
    {
     "name": "stderr",
     "output_type": "stream",
     "text": [
      " 87%|████████▋ | 770/881 [18:24:49<2:15:34, 73.28s/it]"
     ]
    },
    {
     "name": "stdout",
     "output_type": "stream",
     "text": [
      "Success\n",
      "155.0.181.254:43496  Fetching  https://goodinfo.tw/tw/BasicInfo.asp?STOCK_ID=6666  timeout:  20\n",
      "retrying:  1\n",
      "155.0.181.254:43496  Fetching  https://goodinfo.tw/tw/BasicInfo.asp?STOCK_ID=6666  timeout:  25\n"
     ]
    },
    {
     "name": "stderr",
     "output_type": "stream",
     "text": [
      " 88%|████████▊ | 771/881 [18:25:33<1:57:54, 64.31s/it]"
     ]
    },
    {
     "name": "stdout",
     "output_type": "stream",
     "text": [
      "Success\n",
      "158.101.146.40:59394  Fetching  https://goodinfo.tw/tw/BasicInfo.asp?STOCK_ID=6668  timeout:  20\n",
      "retrying:  1\n",
      "158.101.146.40:59394  Fetching  https://goodinfo.tw/tw/BasicInfo.asp?STOCK_ID=6668  timeout:  25\n",
      "retrying:  2\n",
      "158.101.146.40:59394  Fetching  https://goodinfo.tw/tw/BasicInfo.asp?STOCK_ID=6668  timeout:  30\n",
      "retrying:  3\n",
      "155.0.181.254:43496  Fetching  https://goodinfo.tw/tw/BasicInfo.asp?STOCK_ID=6668  timeout:  20\n"
     ]
    },
    {
     "name": "stderr",
     "output_type": "stream",
     "text": [
      " 88%|████████▊ | 772/881 [18:27:15<2:17:19, 75.59s/it]"
     ]
    },
    {
     "name": "stdout",
     "output_type": "stream",
     "text": [
      "Success\n",
      "200.105.215.18:33630  Fetching  https://goodinfo.tw/tw/BasicInfo.asp?STOCK_ID=6669  timeout:  20\n"
     ]
    },
    {
     "name": "stderr",
     "output_type": "stream",
     "text": [
      " 88%|████████▊ | 773/881 [18:27:26<1:41:07, 56.18s/it]"
     ]
    },
    {
     "name": "stdout",
     "output_type": "stream",
     "text": [
      "Success\n",
      "155.0.181.254:43496  Fetching  https://goodinfo.tw/tw/BasicInfo.asp?STOCK_ID=6670  timeout:  20\n",
      "retrying:  1\n",
      "155.0.181.254:43496  Fetching  https://goodinfo.tw/tw/BasicInfo.asp?STOCK_ID=6670  timeout:  25\n",
      "retrying:  2\n",
      "155.0.181.254:43496  Fetching  https://goodinfo.tw/tw/BasicInfo.asp?STOCK_ID=6670  timeout:  30\n",
      "retrying:  3\n",
      "47.242.168.144:59394  Fetching  https://goodinfo.tw/tw/BasicInfo.asp?STOCK_ID=6670  timeout:  20\n",
      "retrying:  1\n",
      "47.242.168.144:59394  Fetching  https://goodinfo.tw/tw/BasicInfo.asp?STOCK_ID=6670  timeout:  25\n",
      "retrying:  2\n",
      "47.242.168.144:59394  Fetching  https://goodinfo.tw/tw/BasicInfo.asp?STOCK_ID=6670  timeout:  30\n",
      "retrying:  3\n",
      "158.101.146.40:59394  Fetching  https://goodinfo.tw/tw/BasicInfo.asp?STOCK_ID=6670  timeout:  20\n",
      "retrying:  1\n",
      "158.101.146.40:59394  Fetching  https://goodinfo.tw/tw/BasicInfo.asp?STOCK_ID=6670  timeout:  25\n",
      "retrying:  2\n",
      "158.101.146.40:59394  Fetching  https://goodinfo.tw/tw/BasicInfo.asp?STOCK_ID=6670  timeout:  30\n",
      "retrying:  3\n",
      "155.0.181.254:43496  Fetching  https://goodinfo.tw/tw/BasicInfo.asp?STOCK_ID=6670  timeout:  20\n",
      "retrying:  1\n",
      "155.0.181.254:43496  Fetching  https://goodinfo.tw/tw/BasicInfo.asp?STOCK_ID=6670  timeout:  25\n",
      "retrying:  2\n",
      "155.0.181.254:43496  Fetching  https://goodinfo.tw/tw/BasicInfo.asp?STOCK_ID=6670  timeout:  30\n",
      "retrying:  3\n",
      "158.101.146.40:59394  Fetching  https://goodinfo.tw/tw/BasicInfo.asp?STOCK_ID=6670  timeout:  20\n",
      "retrying:  1\n",
      "158.101.146.40:59394  Fetching  https://goodinfo.tw/tw/BasicInfo.asp?STOCK_ID=6670  timeout:  25\n",
      "retrying:  2\n",
      "158.101.146.40:59394  Fetching  https://goodinfo.tw/tw/BasicInfo.asp?STOCK_ID=6670  timeout:  30\n"
     ]
    },
    {
     "name": "stderr",
     "output_type": "stream",
     "text": [
      " 88%|████████▊ | 774/881 [18:33:41<4:30:57, 151.94s/it]"
     ]
    },
    {
     "name": "stdout",
     "output_type": "stream",
     "text": [
      "retrying:  3\n",
      "47.242.168.144:59394  Fetching  https://goodinfo.tw/tw/BasicInfo.asp?STOCK_ID=6671  timeout:  20\n",
      "retrying:  1\n",
      "47.242.168.144:59394  Fetching  https://goodinfo.tw/tw/BasicInfo.asp?STOCK_ID=6671  timeout:  25\n",
      "retrying:  2\n",
      "47.242.168.144:59394  Fetching  https://goodinfo.tw/tw/BasicInfo.asp?STOCK_ID=6671  timeout:  30\n",
      "retrying:  3\n",
      "158.101.146.40:59394  Fetching  https://goodinfo.tw/tw/BasicInfo.asp?STOCK_ID=6671  timeout:  20\n",
      "retrying:  1\n",
      "158.101.146.40:59394  Fetching  https://goodinfo.tw/tw/BasicInfo.asp?STOCK_ID=6671  timeout:  25\n",
      "retrying:  2\n",
      "158.101.146.40:59394  Fetching  https://goodinfo.tw/tw/BasicInfo.asp?STOCK_ID=6671  timeout:  30\n",
      "retrying:  3\n",
      "47.242.168.144:59394  Fetching  https://goodinfo.tw/tw/BasicInfo.asp?STOCK_ID=6671  timeout:  20\n",
      "retrying:  1\n",
      "47.242.168.144:59394  Fetching  https://goodinfo.tw/tw/BasicInfo.asp?STOCK_ID=6671  timeout:  25\n",
      "retrying:  2\n",
      "47.242.168.144:59394  Fetching  https://goodinfo.tw/tw/BasicInfo.asp?STOCK_ID=6671  timeout:  30\n",
      "retrying:  3\n",
      "47.242.168.144:59394  Fetching  https://goodinfo.tw/tw/BasicInfo.asp?STOCK_ID=6671  timeout:  20\n",
      "retrying:  1\n",
      "47.242.168.144:59394  Fetching  https://goodinfo.tw/tw/BasicInfo.asp?STOCK_ID=6671  timeout:  25\n",
      "retrying:  2\n",
      "47.242.168.144:59394  Fetching  https://goodinfo.tw/tw/BasicInfo.asp?STOCK_ID=6671  timeout:  30\n",
      "retrying:  3\n",
      "185.201.88.128:6969  Fetching  https://goodinfo.tw/tw/BasicInfo.asp?STOCK_ID=6671  timeout:  20\n",
      "retrying:  1\n",
      "185.201.88.128:6969  Fetching  https://goodinfo.tw/tw/BasicInfo.asp?STOCK_ID=6671  timeout:  25\n",
      "retrying:  2\n",
      "185.201.88.128:6969  Fetching  https://goodinfo.tw/tw/BasicInfo.asp?STOCK_ID=6671  timeout:  30\n"
     ]
    },
    {
     "name": "stderr",
     "output_type": "stream",
     "text": [
      " 88%|████████▊ | 775/881 [18:39:36<6:16:04, 212.88s/it]"
     ]
    },
    {
     "name": "stdout",
     "output_type": "stream",
     "text": [
      "retrying:  3\n",
      "155.0.181.254:43496  Fetching  https://goodinfo.tw/tw/BasicInfo.asp?STOCK_ID=6672  timeout:  20\n",
      "retrying:  1\n",
      "155.0.181.254:43496  Fetching  https://goodinfo.tw/tw/BasicInfo.asp?STOCK_ID=6672  timeout:  25\n",
      "retrying:  2\n",
      "155.0.181.254:43496  Fetching  https://goodinfo.tw/tw/BasicInfo.asp?STOCK_ID=6672  timeout:  30\n"
     ]
    },
    {
     "name": "stderr",
     "output_type": "stream",
     "text": [
      " 88%|████████▊ | 776/881 [18:40:21<4:44:12, 162.40s/it]"
     ]
    },
    {
     "name": "stdout",
     "output_type": "stream",
     "text": [
      "Success\n",
      "200.105.215.18:33630  Fetching  https://goodinfo.tw/tw/BasicInfo.asp?STOCK_ID=6674  timeout:  20\n"
     ]
    },
    {
     "name": "stderr",
     "output_type": "stream",
     "text": [
      " 88%|████████▊ | 777/881 [18:40:30<3:22:04, 116.59s/it]"
     ]
    },
    {
     "name": "stdout",
     "output_type": "stream",
     "text": [
      "Success\n",
      "158.101.146.40:59394  Fetching  https://goodinfo.tw/tw/BasicInfo.asp?STOCK_ID=6698  timeout:  20\n",
      "retrying:  1\n",
      "158.101.146.40:59394  Fetching  https://goodinfo.tw/tw/BasicInfo.asp?STOCK_ID=6698  timeout:  25\n",
      "retrying:  2\n",
      "158.101.146.40:59394  Fetching  https://goodinfo.tw/tw/BasicInfo.asp?STOCK_ID=6698  timeout:  30\n",
      "retrying:  3\n",
      "47.242.168.144:59394  Fetching  https://goodinfo.tw/tw/BasicInfo.asp?STOCK_ID=6698  timeout:  20\n",
      "retrying:  1\n",
      "47.242.168.144:59394  Fetching  https://goodinfo.tw/tw/BasicInfo.asp?STOCK_ID=6698  timeout:  25\n",
      "retrying:  2\n",
      "47.242.168.144:59394  Fetching  https://goodinfo.tw/tw/BasicInfo.asp?STOCK_ID=6698  timeout:  30\n",
      "retrying:  3\n",
      "47.242.168.144:59394  Fetching  https://goodinfo.tw/tw/BasicInfo.asp?STOCK_ID=6698  timeout:  20\n",
      "retrying:  1\n",
      "47.242.168.144:59394  Fetching  https://goodinfo.tw/tw/BasicInfo.asp?STOCK_ID=6698  timeout:  25\n",
      "retrying:  2\n",
      "47.242.168.144:59394  Fetching  https://goodinfo.tw/tw/BasicInfo.asp?STOCK_ID=6698  timeout:  30\n",
      "retrying:  3\n",
      "47.242.168.144:59394  Fetching  https://goodinfo.tw/tw/BasicInfo.asp?STOCK_ID=6698  timeout:  20\n",
      "retrying:  1\n",
      "47.242.168.144:59394  Fetching  https://goodinfo.tw/tw/BasicInfo.asp?STOCK_ID=6698  timeout:  25\n",
      "retrying:  2\n",
      "47.242.168.144:59394  Fetching  https://goodinfo.tw/tw/BasicInfo.asp?STOCK_ID=6698  timeout:  30\n",
      "retrying:  3\n",
      "185.201.88.128:6969  Fetching  https://goodinfo.tw/tw/BasicInfo.asp?STOCK_ID=6698  timeout:  20\n"
     ]
    },
    {
     "name": "stderr",
     "output_type": "stream",
     "text": [
      " 88%|████████▊ | 778/881 [18:45:28<4:53:13, 170.81s/it]"
     ]
    },
    {
     "name": "stdout",
     "output_type": "stream",
     "text": [
      "Success\n",
      "158.101.146.40:59394  Fetching  https://goodinfo.tw/tw/BasicInfo.asp?STOCK_ID=6706  timeout:  20\n",
      "retrying:  1\n",
      "158.101.146.40:59394  Fetching  https://goodinfo.tw/tw/BasicInfo.asp?STOCK_ID=6706  timeout:  25\n",
      "retrying:  2\n",
      "158.101.146.40:59394  Fetching  https://goodinfo.tw/tw/BasicInfo.asp?STOCK_ID=6706  timeout:  30\n",
      "retrying:  3\n",
      "155.0.181.254:43496  Fetching  https://goodinfo.tw/tw/BasicInfo.asp?STOCK_ID=6706  timeout:  20\n"
     ]
    },
    {
     "name": "stderr",
     "output_type": "stream",
     "text": [
      " 88%|████████▊ | 779/881 [18:47:13<4:17:07, 151.25s/it]"
     ]
    },
    {
     "name": "stdout",
     "output_type": "stream",
     "text": [
      "Success\n",
      "200.105.215.18:33630  Fetching  https://goodinfo.tw/tw/BasicInfo.asp?STOCK_ID=6715  timeout:  20\n"
     ]
    },
    {
     "name": "stderr",
     "output_type": "stream",
     "text": [
      " 89%|████████▊ | 780/881 [18:47:23<3:03:04, 108.76s/it]"
     ]
    },
    {
     "name": "stdout",
     "output_type": "stream",
     "text": [
      "Success\n",
      "47.242.168.144:59394  Fetching  https://goodinfo.tw/tw/BasicInfo.asp?STOCK_ID=6743  timeout:  20\n",
      "retrying:  1\n",
      "47.242.168.144:59394  Fetching  https://goodinfo.tw/tw/BasicInfo.asp?STOCK_ID=6743  timeout:  25\n",
      "retrying:  2\n",
      "47.242.168.144:59394  Fetching  https://goodinfo.tw/tw/BasicInfo.asp?STOCK_ID=6743  timeout:  30\n",
      "retrying:  3\n",
      "158.101.146.40:59394  Fetching  https://goodinfo.tw/tw/BasicInfo.asp?STOCK_ID=6743  timeout:  20\n",
      "retrying:  1\n",
      "158.101.146.40:59394  Fetching  https://goodinfo.tw/tw/BasicInfo.asp?STOCK_ID=6743  timeout:  25\n",
      "retrying:  2\n",
      "158.101.146.40:59394  Fetching  https://goodinfo.tw/tw/BasicInfo.asp?STOCK_ID=6743  timeout:  30\n",
      "retrying:  3\n",
      "47.242.168.144:59394  Fetching  https://goodinfo.tw/tw/BasicInfo.asp?STOCK_ID=6743  timeout:  20\n",
      "retrying:  1\n",
      "47.242.168.144:59394  Fetching  https://goodinfo.tw/tw/BasicInfo.asp?STOCK_ID=6743  timeout:  25\n",
      "retrying:  2\n",
      "47.242.168.144:59394  Fetching  https://goodinfo.tw/tw/BasicInfo.asp?STOCK_ID=6743  timeout:  30\n",
      "retrying:  3\n",
      "200.105.215.18:33630  Fetching  https://goodinfo.tw/tw/BasicInfo.asp?STOCK_ID=6743  timeout:  20\n",
      "retrying:  1\n",
      "200.105.215.18:33630  Fetching  https://goodinfo.tw/tw/BasicInfo.asp?STOCK_ID=6743  timeout:  25\n",
      "retrying:  2\n",
      "200.105.215.18:33630  Fetching  https://goodinfo.tw/tw/BasicInfo.asp?STOCK_ID=6743  timeout:  30\n",
      "retrying:  3\n",
      "158.101.146.40:59394  Fetching  https://goodinfo.tw/tw/BasicInfo.asp?STOCK_ID=6743  timeout:  20\n",
      "retrying:  1\n",
      "158.101.146.40:59394  Fetching  https://goodinfo.tw/tw/BasicInfo.asp?STOCK_ID=6743  timeout:  25\n",
      "retrying:  2\n",
      "158.101.146.40:59394  Fetching  https://goodinfo.tw/tw/BasicInfo.asp?STOCK_ID=6743  timeout:  30\n"
     ]
    },
    {
     "name": "stderr",
     "output_type": "stream",
     "text": [
      " 89%|████████▊ | 781/881 [18:53:40<5:15:18, 189.19s/it]"
     ]
    },
    {
     "name": "stdout",
     "output_type": "stream",
     "text": [
      "retrying:  3\n",
      "155.0.181.254:43496  Fetching  https://goodinfo.tw/tw/BasicInfo.asp?STOCK_ID=6754  timeout:  20\n"
     ]
    },
    {
     "name": "stderr",
     "output_type": "stream",
     "text": [
      " 89%|████████▉ | 782/881 [18:53:53<3:44:49, 136.25s/it]"
     ]
    },
    {
     "name": "stdout",
     "output_type": "stream",
     "text": [
      "Success\n",
      "200.105.215.18:33630  Fetching  https://goodinfo.tw/tw/BasicInfo.asp?STOCK_ID=6756  timeout:  20\n",
      "retrying:  1\n",
      "200.105.215.18:33630  Fetching  https://goodinfo.tw/tw/BasicInfo.asp?STOCK_ID=6756  timeout:  25\n",
      "retrying:  2\n",
      "200.105.215.18:33630  Fetching  https://goodinfo.tw/tw/BasicInfo.asp?STOCK_ID=6756  timeout:  30\n",
      "retrying:  3\n",
      "185.201.88.128:6969  Fetching  https://goodinfo.tw/tw/BasicInfo.asp?STOCK_ID=6756  timeout:  20\n",
      "retrying:  1\n",
      "185.201.88.128:6969  Fetching  https://goodinfo.tw/tw/BasicInfo.asp?STOCK_ID=6756  timeout:  25\n",
      "retrying:  2\n",
      "185.201.88.128:6969  Fetching  https://goodinfo.tw/tw/BasicInfo.asp?STOCK_ID=6756  timeout:  30\n",
      "retrying:  3\n",
      "47.242.168.144:59394  Fetching  https://goodinfo.tw/tw/BasicInfo.asp?STOCK_ID=6756  timeout:  20\n",
      "retrying:  1\n",
      "47.242.168.144:59394  Fetching  https://goodinfo.tw/tw/BasicInfo.asp?STOCK_ID=6756  timeout:  25\n",
      "retrying:  2\n",
      "47.242.168.144:59394  Fetching  https://goodinfo.tw/tw/BasicInfo.asp?STOCK_ID=6756  timeout:  30\n",
      "retrying:  3\n",
      "200.105.215.18:33630  Fetching  https://goodinfo.tw/tw/BasicInfo.asp?STOCK_ID=6756  timeout:  20\n",
      "retrying:  1\n",
      "200.105.215.18:33630  Fetching  https://goodinfo.tw/tw/BasicInfo.asp?STOCK_ID=6756  timeout:  25\n",
      "retrying:  2\n",
      "200.105.215.18:33630  Fetching  https://goodinfo.tw/tw/BasicInfo.asp?STOCK_ID=6756  timeout:  30\n",
      "retrying:  3\n",
      "200.105.215.18:33630  Fetching  https://goodinfo.tw/tw/BasicInfo.asp?STOCK_ID=6756  timeout:  20\n"
     ]
    },
    {
     "name": "stderr",
     "output_type": "stream",
     "text": [
      " 89%|████████▉ | 783/881 [18:58:36<4:54:39, 180.40s/it]"
     ]
    },
    {
     "name": "stdout",
     "output_type": "stream",
     "text": [
      "Success\n",
      "155.0.181.254:43496  Fetching  https://goodinfo.tw/tw/BasicInfo.asp?STOCK_ID=6768  timeout:  20\n",
      "retrying:  1\n",
      "155.0.181.254:43496  Fetching  https://goodinfo.tw/tw/BasicInfo.asp?STOCK_ID=6768  timeout:  25\n",
      "retrying:  2\n",
      "155.0.181.254:43496  Fetching  https://goodinfo.tw/tw/BasicInfo.asp?STOCK_ID=6768  timeout:  30\n",
      "retrying:  3\n",
      "200.105.215.18:33630  Fetching  https://goodinfo.tw/tw/BasicInfo.asp?STOCK_ID=6768  timeout:  20\n",
      "retrying:  1\n",
      "200.105.215.18:33630  Fetching  https://goodinfo.tw/tw/BasicInfo.asp?STOCK_ID=6768  timeout:  25\n"
     ]
    },
    {
     "name": "stderr",
     "output_type": "stream",
     "text": [
      " 89%|████████▉ | 784/881 [19:00:21<4:15:00, 157.74s/it]"
     ]
    },
    {
     "name": "stdout",
     "output_type": "stream",
     "text": [
      "Success\n",
      "155.0.181.254:43496  Fetching  https://goodinfo.tw/tw/BasicInfo.asp?STOCK_ID=6770  timeout:  20\n",
      "retrying:  1\n",
      "155.0.181.254:43496  Fetching  https://goodinfo.tw/tw/BasicInfo.asp?STOCK_ID=6770  timeout:  25\n",
      "retrying:  2\n",
      "155.0.181.254:43496  Fetching  https://goodinfo.tw/tw/BasicInfo.asp?STOCK_ID=6770  timeout:  30\n"
     ]
    },
    {
     "name": "stderr",
     "output_type": "stream",
     "text": [
      " 89%|████████▉ | 785/881 [19:01:25<3:27:43, 129.82s/it]"
     ]
    },
    {
     "name": "stdout",
     "output_type": "stream",
     "text": [
      "Success\n",
      "185.201.88.128:6969  Fetching  https://goodinfo.tw/tw/BasicInfo.asp?STOCK_ID=6776  timeout:  20\n",
      "retrying:  1\n",
      "185.201.88.128:6969  Fetching  https://goodinfo.tw/tw/BasicInfo.asp?STOCK_ID=6776  timeout:  25\n",
      "retrying:  2\n",
      "185.201.88.128:6969  Fetching  https://goodinfo.tw/tw/BasicInfo.asp?STOCK_ID=6776  timeout:  30\n",
      "retrying:  3\n",
      "158.101.146.40:59394  Fetching  https://goodinfo.tw/tw/BasicInfo.asp?STOCK_ID=6776  timeout:  20\n",
      "retrying:  1\n",
      "158.101.146.40:59394  Fetching  https://goodinfo.tw/tw/BasicInfo.asp?STOCK_ID=6776  timeout:  25\n",
      "retrying:  2\n",
      "158.101.146.40:59394  Fetching  https://goodinfo.tw/tw/BasicInfo.asp?STOCK_ID=6776  timeout:  30\n",
      "retrying:  3\n",
      "158.101.146.40:59394  Fetching  https://goodinfo.tw/tw/BasicInfo.asp?STOCK_ID=6776  timeout:  20\n",
      "retrying:  1\n",
      "158.101.146.40:59394  Fetching  https://goodinfo.tw/tw/BasicInfo.asp?STOCK_ID=6776  timeout:  25\n",
      "retrying:  2\n",
      "158.101.146.40:59394  Fetching  https://goodinfo.tw/tw/BasicInfo.asp?STOCK_ID=6776  timeout:  30\n",
      "retrying:  3\n",
      "185.201.88.128:6969  Fetching  https://goodinfo.tw/tw/BasicInfo.asp?STOCK_ID=6776  timeout:  20\n",
      "retrying:  1\n",
      "185.201.88.128:6969  Fetching  https://goodinfo.tw/tw/BasicInfo.asp?STOCK_ID=6776  timeout:  25\n",
      "retrying:  2\n",
      "185.201.88.128:6969  Fetching  https://goodinfo.tw/tw/BasicInfo.asp?STOCK_ID=6776  timeout:  30\n",
      "retrying:  3\n",
      "200.105.215.18:33630  Fetching  https://goodinfo.tw/tw/BasicInfo.asp?STOCK_ID=6776  timeout:  20\n"
     ]
    },
    {
     "name": "stderr",
     "output_type": "stream",
     "text": [
      " 89%|████████▉ | 786/881 [19:06:32<4:49:40, 182.95s/it]"
     ]
    },
    {
     "name": "stdout",
     "output_type": "stream",
     "text": [
      "Success\n",
      "185.201.88.128:6969  Fetching  https://goodinfo.tw/tw/BasicInfo.asp?STOCK_ID=6781  timeout:  20\n"
     ]
    },
    {
     "name": "stderr",
     "output_type": "stream",
     "text": [
      " 89%|████████▉ | 787/881 [19:06:53<3:30:19, 134.25s/it]"
     ]
    },
    {
     "name": "stdout",
     "output_type": "stream",
     "text": [
      "Success\n",
      "158.101.146.40:59394  Fetching  https://goodinfo.tw/tw/BasicInfo.asp?STOCK_ID=6790  timeout:  20\n",
      "retrying:  1\n",
      "158.101.146.40:59394  Fetching  https://goodinfo.tw/tw/BasicInfo.asp?STOCK_ID=6790  timeout:  25\n",
      "retrying:  2\n",
      "158.101.146.40:59394  Fetching  https://goodinfo.tw/tw/BasicInfo.asp?STOCK_ID=6790  timeout:  30\n",
      "retrying:  3\n",
      "200.105.215.18:33630  Fetching  https://goodinfo.tw/tw/BasicInfo.asp?STOCK_ID=6790  timeout:  20\n"
     ]
    },
    {
     "name": "stderr",
     "output_type": "stream",
     "text": [
      " 89%|████████▉ | 788/881 [19:08:16<3:04:04, 118.76s/it]"
     ]
    },
    {
     "name": "stdout",
     "output_type": "stream",
     "text": [
      "Success\n",
      "185.201.88.128:6969  Fetching  https://goodinfo.tw/tw/BasicInfo.asp?STOCK_ID=6806  timeout:  20\n",
      "retrying:  1\n",
      "185.201.88.128:6969  Fetching  https://goodinfo.tw/tw/BasicInfo.asp?STOCK_ID=6806  timeout:  25\n",
      "retrying:  2\n",
      "185.201.88.128:6969  Fetching  https://goodinfo.tw/tw/BasicInfo.asp?STOCK_ID=6806  timeout:  30\n",
      "retrying:  3\n",
      "158.101.146.40:59394  Fetching  https://goodinfo.tw/tw/BasicInfo.asp?STOCK_ID=6806  timeout:  20\n",
      "retrying:  1\n",
      "158.101.146.40:59394  Fetching  https://goodinfo.tw/tw/BasicInfo.asp?STOCK_ID=6806  timeout:  25\n",
      "retrying:  2\n",
      "158.101.146.40:59394  Fetching  https://goodinfo.tw/tw/BasicInfo.asp?STOCK_ID=6806  timeout:  30\n",
      "retrying:  3\n",
      "158.101.146.40:59394  Fetching  https://goodinfo.tw/tw/BasicInfo.asp?STOCK_ID=6806  timeout:  20\n",
      "retrying:  1\n",
      "158.101.146.40:59394  Fetching  https://goodinfo.tw/tw/BasicInfo.asp?STOCK_ID=6806  timeout:  25\n",
      "retrying:  2\n",
      "158.101.146.40:59394  Fetching  https://goodinfo.tw/tw/BasicInfo.asp?STOCK_ID=6806  timeout:  30\n",
      "retrying:  3\n",
      "155.0.181.254:43496  Fetching  https://goodinfo.tw/tw/BasicInfo.asp?STOCK_ID=6806  timeout:  20\n",
      "retrying:  1\n",
      "155.0.181.254:43496  Fetching  https://goodinfo.tw/tw/BasicInfo.asp?STOCK_ID=6806  timeout:  25\n",
      "retrying:  2\n",
      "155.0.181.254:43496  Fetching  https://goodinfo.tw/tw/BasicInfo.asp?STOCK_ID=6806  timeout:  30\n",
      "retrying:  3\n",
      "155.0.181.254:43496  Fetching  https://goodinfo.tw/tw/BasicInfo.asp?STOCK_ID=6806  timeout:  20\n",
      "retrying:  1\n",
      "155.0.181.254:43496  Fetching  https://goodinfo.tw/tw/BasicInfo.asp?STOCK_ID=6806  timeout:  25\n",
      "retrying:  2\n",
      "155.0.181.254:43496  Fetching  https://goodinfo.tw/tw/BasicInfo.asp?STOCK_ID=6806  timeout:  30\n"
     ]
    },
    {
     "name": "stderr",
     "output_type": "stream",
     "text": [
      " 90%|████████▉ | 789/881 [19:14:31<5:00:20, 195.87s/it]"
     ]
    },
    {
     "name": "stdout",
     "output_type": "stream",
     "text": [
      "retrying:  3\n",
      "185.201.88.128:6969  Fetching  https://goodinfo.tw/tw/BasicInfo.asp?STOCK_ID=8011  timeout:  20\n",
      "retrying:  1\n",
      "185.201.88.128:6969  Fetching  https://goodinfo.tw/tw/BasicInfo.asp?STOCK_ID=8011  timeout:  25\n",
      "retrying:  2\n",
      "185.201.88.128:6969  Fetching  https://goodinfo.tw/tw/BasicInfo.asp?STOCK_ID=8011  timeout:  30\n",
      "retrying:  3\n",
      "158.101.146.40:59394  Fetching  https://goodinfo.tw/tw/BasicInfo.asp?STOCK_ID=8011  timeout:  20\n",
      "retrying:  1\n",
      "158.101.146.40:59394  Fetching  https://goodinfo.tw/tw/BasicInfo.asp?STOCK_ID=8011  timeout:  25\n",
      "retrying:  2\n",
      "158.101.146.40:59394  Fetching  https://goodinfo.tw/tw/BasicInfo.asp?STOCK_ID=8011  timeout:  30\n",
      "retrying:  3\n",
      "158.101.146.40:59394  Fetching  https://goodinfo.tw/tw/BasicInfo.asp?STOCK_ID=8011  timeout:  20\n",
      "retrying:  1\n",
      "158.101.146.40:59394  Fetching  https://goodinfo.tw/tw/BasicInfo.asp?STOCK_ID=8011  timeout:  25\n",
      "retrying:  2\n",
      "158.101.146.40:59394  Fetching  https://goodinfo.tw/tw/BasicInfo.asp?STOCK_ID=8011  timeout:  30\n",
      "retrying:  3\n",
      "155.0.181.254:43496  Fetching  https://goodinfo.tw/tw/BasicInfo.asp?STOCK_ID=8011  timeout:  20\n",
      "retrying:  1\n",
      "155.0.181.254:43496  Fetching  https://goodinfo.tw/tw/BasicInfo.asp?STOCK_ID=8011  timeout:  25\n",
      "retrying:  2\n",
      "155.0.181.254:43496  Fetching  https://goodinfo.tw/tw/BasicInfo.asp?STOCK_ID=8011  timeout:  30\n",
      "retrying:  3\n",
      "185.201.88.128:6969  Fetching  https://goodinfo.tw/tw/BasicInfo.asp?STOCK_ID=8011  timeout:  20\n",
      "retrying:  1\n",
      "185.201.88.128:6969  Fetching  https://goodinfo.tw/tw/BasicInfo.asp?STOCK_ID=8011  timeout:  25\n",
      "retrying:  2\n",
      "185.201.88.128:6969  Fetching  https://goodinfo.tw/tw/BasicInfo.asp?STOCK_ID=8011  timeout:  30\n"
     ]
    },
    {
     "name": "stderr",
     "output_type": "stream",
     "text": [
      " 90%|████████▉ | 790/881 [19:20:47<6:18:48, 249.76s/it]"
     ]
    },
    {
     "name": "stdout",
     "output_type": "stream",
     "text": [
      "retrying:  3\n",
      "158.101.146.40:59394  Fetching  https://goodinfo.tw/tw/BasicInfo.asp?STOCK_ID=8016  timeout:  20\n",
      "retrying:  1\n",
      "158.101.146.40:59394  Fetching  https://goodinfo.tw/tw/BasicInfo.asp?STOCK_ID=8016  timeout:  25\n",
      "retrying:  2\n",
      "158.101.146.40:59394  Fetching  https://goodinfo.tw/tw/BasicInfo.asp?STOCK_ID=8016  timeout:  30\n",
      "retrying:  3\n",
      "200.105.215.18:33630  Fetching  https://goodinfo.tw/tw/BasicInfo.asp?STOCK_ID=8016  timeout:  20\n",
      "retrying:  1\n",
      "200.105.215.18:33630  Fetching  https://goodinfo.tw/tw/BasicInfo.asp?STOCK_ID=8016  timeout:  25\n"
     ]
    },
    {
     "name": "stderr",
     "output_type": "stream",
     "text": [
      " 90%|████████▉ | 791/881 [19:22:40<5:13:03, 208.70s/it]"
     ]
    },
    {
     "name": "stdout",
     "output_type": "stream",
     "text": [
      "Success\n",
      "158.101.146.40:59394  Fetching  https://goodinfo.tw/tw/BasicInfo.asp?STOCK_ID=8021  timeout:  20\n",
      "retrying:  1\n",
      "158.101.146.40:59394  Fetching  https://goodinfo.tw/tw/BasicInfo.asp?STOCK_ID=8021  timeout:  25\n",
      "retrying:  2\n",
      "158.101.146.40:59394  Fetching  https://goodinfo.tw/tw/BasicInfo.asp?STOCK_ID=8021  timeout:  30\n",
      "retrying:  3\n",
      "155.0.181.254:43496  Fetching  https://goodinfo.tw/tw/BasicInfo.asp?STOCK_ID=8021  timeout:  20\n",
      "retrying:  1\n",
      "155.0.181.254:43496  Fetching  https://goodinfo.tw/tw/BasicInfo.asp?STOCK_ID=8021  timeout:  25\n",
      "retrying:  2\n",
      "155.0.181.254:43496  Fetching  https://goodinfo.tw/tw/BasicInfo.asp?STOCK_ID=8021  timeout:  30\n",
      "retrying:  3\n",
      "155.0.181.254:43496  Fetching  https://goodinfo.tw/tw/BasicInfo.asp?STOCK_ID=8021  timeout:  20\n",
      "retrying:  1\n",
      "155.0.181.254:43496  Fetching  https://goodinfo.tw/tw/BasicInfo.asp?STOCK_ID=8021  timeout:  25\n",
      "retrying:  2\n",
      "155.0.181.254:43496  Fetching  https://goodinfo.tw/tw/BasicInfo.asp?STOCK_ID=8021  timeout:  30\n",
      "retrying:  3\n",
      "158.101.146.40:59394  Fetching  https://goodinfo.tw/tw/BasicInfo.asp?STOCK_ID=8021  timeout:  20\n",
      "retrying:  1\n",
      "158.101.146.40:59394  Fetching  https://goodinfo.tw/tw/BasicInfo.asp?STOCK_ID=8021  timeout:  25\n",
      "retrying:  2\n",
      "158.101.146.40:59394  Fetching  https://goodinfo.tw/tw/BasicInfo.asp?STOCK_ID=8021  timeout:  30\n",
      "retrying:  3\n",
      "47.242.168.144:59394  Fetching  https://goodinfo.tw/tw/BasicInfo.asp?STOCK_ID=8021  timeout:  20\n",
      "retrying:  1\n",
      "47.242.168.144:59394  Fetching  https://goodinfo.tw/tw/BasicInfo.asp?STOCK_ID=8021  timeout:  25\n",
      "retrying:  2\n",
      "47.242.168.144:59394  Fetching  https://goodinfo.tw/tw/BasicInfo.asp?STOCK_ID=8021  timeout:  30\n"
     ]
    },
    {
     "name": "stderr",
     "output_type": "stream",
     "text": [
      " 90%|████████▉ | 792/881 [19:28:55<6:23:51, 258.78s/it]"
     ]
    },
    {
     "name": "stdout",
     "output_type": "stream",
     "text": [
      "retrying:  3\n",
      "158.101.146.40:59394  Fetching  https://goodinfo.tw/tw/BasicInfo.asp?STOCK_ID=8028  timeout:  20\n",
      "retrying:  1\n",
      "158.101.146.40:59394  Fetching  https://goodinfo.tw/tw/BasicInfo.asp?STOCK_ID=8028  timeout:  25\n",
      "retrying:  2\n",
      "158.101.146.40:59394  Fetching  https://goodinfo.tw/tw/BasicInfo.asp?STOCK_ID=8028  timeout:  30\n",
      "retrying:  3\n",
      "158.101.146.40:59394  Fetching  https://goodinfo.tw/tw/BasicInfo.asp?STOCK_ID=8028  timeout:  20\n",
      "retrying:  1\n",
      "158.101.146.40:59394  Fetching  https://goodinfo.tw/tw/BasicInfo.asp?STOCK_ID=8028  timeout:  25\n",
      "retrying:  2\n",
      "158.101.146.40:59394  Fetching  https://goodinfo.tw/tw/BasicInfo.asp?STOCK_ID=8028  timeout:  30\n",
      "retrying:  3\n",
      "158.101.146.40:59394  Fetching  https://goodinfo.tw/tw/BasicInfo.asp?STOCK_ID=8028  timeout:  20\n",
      "retrying:  1\n",
      "158.101.146.40:59394  Fetching  https://goodinfo.tw/tw/BasicInfo.asp?STOCK_ID=8028  timeout:  25\n",
      "retrying:  2\n",
      "158.101.146.40:59394  Fetching  https://goodinfo.tw/tw/BasicInfo.asp?STOCK_ID=8028  timeout:  30\n",
      "retrying:  3\n",
      "155.0.181.254:43496  Fetching  https://goodinfo.tw/tw/BasicInfo.asp?STOCK_ID=8028  timeout:  20\n",
      "retrying:  1\n",
      "155.0.181.254:43496  Fetching  https://goodinfo.tw/tw/BasicInfo.asp?STOCK_ID=8028  timeout:  25\n",
      "retrying:  2\n",
      "155.0.181.254:43496  Fetching  https://goodinfo.tw/tw/BasicInfo.asp?STOCK_ID=8028  timeout:  30\n",
      "retrying:  3\n",
      "47.242.168.144:59394  Fetching  https://goodinfo.tw/tw/BasicInfo.asp?STOCK_ID=8028  timeout:  20\n",
      "retrying:  1\n",
      "47.242.168.144:59394  Fetching  https://goodinfo.tw/tw/BasicInfo.asp?STOCK_ID=8028  timeout:  25\n",
      "retrying:  2\n",
      "47.242.168.144:59394  Fetching  https://goodinfo.tw/tw/BasicInfo.asp?STOCK_ID=8028  timeout:  30\n"
     ]
    },
    {
     "name": "stderr",
     "output_type": "stream",
     "text": [
      " 90%|█████████ | 793/881 [19:35:11<7:10:50, 293.76s/it]"
     ]
    },
    {
     "name": "stdout",
     "output_type": "stream",
     "text": [
      "retrying:  3\n",
      "155.0.181.254:43496  Fetching  https://goodinfo.tw/tw/BasicInfo.asp?STOCK_ID=8033  timeout:  20\n",
      "retrying:  1\n",
      "155.0.181.254:43496  Fetching  https://goodinfo.tw/tw/BasicInfo.asp?STOCK_ID=8033  timeout:  25\n",
      "retrying:  2\n",
      "155.0.181.254:43496  Fetching  https://goodinfo.tw/tw/BasicInfo.asp?STOCK_ID=8033  timeout:  30\n",
      "retrying:  3\n",
      "155.0.181.254:43496  Fetching  https://goodinfo.tw/tw/BasicInfo.asp?STOCK_ID=8033  timeout:  20\n",
      "retrying:  1\n",
      "155.0.181.254:43496  Fetching  https://goodinfo.tw/tw/BasicInfo.asp?STOCK_ID=8033  timeout:  25\n",
      "retrying:  2\n",
      "155.0.181.254:43496  Fetching  https://goodinfo.tw/tw/BasicInfo.asp?STOCK_ID=8033  timeout:  30\n",
      "retrying:  3\n",
      "185.201.88.128:6969  Fetching  https://goodinfo.tw/tw/BasicInfo.asp?STOCK_ID=8033  timeout:  20\n",
      "retrying:  1\n",
      "185.201.88.128:6969  Fetching  https://goodinfo.tw/tw/BasicInfo.asp?STOCK_ID=8033  timeout:  25\n",
      "retrying:  2\n",
      "185.201.88.128:6969  Fetching  https://goodinfo.tw/tw/BasicInfo.asp?STOCK_ID=8033  timeout:  30\n",
      "retrying:  3\n",
      "158.101.146.40:59394  Fetching  https://goodinfo.tw/tw/BasicInfo.asp?STOCK_ID=8033  timeout:  20\n",
      "retrying:  1\n",
      "158.101.146.40:59394  Fetching  https://goodinfo.tw/tw/BasicInfo.asp?STOCK_ID=8033  timeout:  25\n",
      "retrying:  2\n",
      "158.101.146.40:59394  Fetching  https://goodinfo.tw/tw/BasicInfo.asp?STOCK_ID=8033  timeout:  30\n",
      "retrying:  3\n",
      "158.101.146.40:59394  Fetching  https://goodinfo.tw/tw/BasicInfo.asp?STOCK_ID=8033  timeout:  20\n",
      "retrying:  1\n",
      "158.101.146.40:59394  Fetching  https://goodinfo.tw/tw/BasicInfo.asp?STOCK_ID=8033  timeout:  25\n",
      "retrying:  2\n",
      "158.101.146.40:59394  Fetching  https://goodinfo.tw/tw/BasicInfo.asp?STOCK_ID=8033  timeout:  30\n"
     ]
    },
    {
     "name": "stderr",
     "output_type": "stream",
     "text": [
      " 90%|█████████ | 794/881 [19:41:26<7:41:28, 318.26s/it]"
     ]
    },
    {
     "name": "stdout",
     "output_type": "stream",
     "text": [
      "retrying:  3\n",
      "47.242.168.144:59394  Fetching  https://goodinfo.tw/tw/BasicInfo.asp?STOCK_ID=8039  timeout:  20\n",
      "retrying:  1\n",
      "47.242.168.144:59394  Fetching  https://goodinfo.tw/tw/BasicInfo.asp?STOCK_ID=8039  timeout:  25\n",
      "retrying:  2\n",
      "47.242.168.144:59394  Fetching  https://goodinfo.tw/tw/BasicInfo.asp?STOCK_ID=8039  timeout:  30\n",
      "retrying:  3\n",
      "155.0.181.254:43496  Fetching  https://goodinfo.tw/tw/BasicInfo.asp?STOCK_ID=8039  timeout:  20\n",
      "retrying:  1\n",
      "155.0.181.254:43496  Fetching  https://goodinfo.tw/tw/BasicInfo.asp?STOCK_ID=8039  timeout:  25\n",
      "retrying:  2\n",
      "155.0.181.254:43496  Fetching  https://goodinfo.tw/tw/BasicInfo.asp?STOCK_ID=8039  timeout:  30\n",
      "retrying:  3\n",
      "155.0.181.254:43496  Fetching  https://goodinfo.tw/tw/BasicInfo.asp?STOCK_ID=8039  timeout:  20\n",
      "retrying:  1\n",
      "155.0.181.254:43496  Fetching  https://goodinfo.tw/tw/BasicInfo.asp?STOCK_ID=8039  timeout:  25\n",
      "retrying:  2\n",
      "155.0.181.254:43496  Fetching  https://goodinfo.tw/tw/BasicInfo.asp?STOCK_ID=8039  timeout:  30\n",
      "retrying:  3\n",
      "47.242.168.144:59394  Fetching  https://goodinfo.tw/tw/BasicInfo.asp?STOCK_ID=8039  timeout:  20\n",
      "retrying:  1\n",
      "47.242.168.144:59394  Fetching  https://goodinfo.tw/tw/BasicInfo.asp?STOCK_ID=8039  timeout:  25\n",
      "retrying:  2\n",
      "47.242.168.144:59394  Fetching  https://goodinfo.tw/tw/BasicInfo.asp?STOCK_ID=8039  timeout:  30\n",
      "retrying:  3\n",
      "155.0.181.254:43496  Fetching  https://goodinfo.tw/tw/BasicInfo.asp?STOCK_ID=8039  timeout:  20\n",
      "retrying:  1\n",
      "155.0.181.254:43496  Fetching  https://goodinfo.tw/tw/BasicInfo.asp?STOCK_ID=8039  timeout:  25\n",
      "retrying:  2\n",
      "155.0.181.254:43496  Fetching  https://goodinfo.tw/tw/BasicInfo.asp?STOCK_ID=8039  timeout:  30\n"
     ]
    },
    {
     "name": "stderr",
     "output_type": "stream",
     "text": [
      " 90%|█████████ | 795/881 [19:47:42<8:00:44, 335.40s/it]"
     ]
    },
    {
     "name": "stdout",
     "output_type": "stream",
     "text": [
      "retrying:  3\n",
      "47.242.168.144:59394  Fetching  https://goodinfo.tw/tw/BasicInfo.asp?STOCK_ID=8046  timeout:  20\n",
      "retrying:  1\n",
      "47.242.168.144:59394  Fetching  https://goodinfo.tw/tw/BasicInfo.asp?STOCK_ID=8046  timeout:  25\n",
      "retrying:  2\n",
      "47.242.168.144:59394  Fetching  https://goodinfo.tw/tw/BasicInfo.asp?STOCK_ID=8046  timeout:  30\n",
      "retrying:  3\n",
      "155.0.181.254:43496  Fetching  https://goodinfo.tw/tw/BasicInfo.asp?STOCK_ID=8046  timeout:  20\n",
      "retrying:  1\n",
      "155.0.181.254:43496  Fetching  https://goodinfo.tw/tw/BasicInfo.asp?STOCK_ID=8046  timeout:  25\n",
      "retrying:  2\n",
      "155.0.181.254:43496  Fetching  https://goodinfo.tw/tw/BasicInfo.asp?STOCK_ID=8046  timeout:  30\n",
      "retrying:  3\n",
      "155.0.181.254:43496  Fetching  https://goodinfo.tw/tw/BasicInfo.asp?STOCK_ID=8046  timeout:  20\n",
      "retrying:  1\n",
      "155.0.181.254:43496  Fetching  https://goodinfo.tw/tw/BasicInfo.asp?STOCK_ID=8046  timeout:  25\n",
      "retrying:  2\n",
      "155.0.181.254:43496  Fetching  https://goodinfo.tw/tw/BasicInfo.asp?STOCK_ID=8046  timeout:  30\n",
      "retrying:  3\n",
      "47.242.168.144:59394  Fetching  https://goodinfo.tw/tw/BasicInfo.asp?STOCK_ID=8046  timeout:  20\n",
      "retrying:  1\n",
      "47.242.168.144:59394  Fetching  https://goodinfo.tw/tw/BasicInfo.asp?STOCK_ID=8046  timeout:  25\n",
      "retrying:  2\n",
      "47.242.168.144:59394  Fetching  https://goodinfo.tw/tw/BasicInfo.asp?STOCK_ID=8046  timeout:  30\n",
      "retrying:  3\n",
      "185.201.88.128:6969  Fetching  https://goodinfo.tw/tw/BasicInfo.asp?STOCK_ID=8046  timeout:  20\n",
      "retrying:  1\n",
      "185.201.88.128:6969  Fetching  https://goodinfo.tw/tw/BasicInfo.asp?STOCK_ID=8046  timeout:  25\n",
      "retrying:  2\n",
      "185.201.88.128:6969  Fetching  https://goodinfo.tw/tw/BasicInfo.asp?STOCK_ID=8046  timeout:  30\n"
     ]
    },
    {
     "name": "stderr",
     "output_type": "stream",
     "text": [
      " 90%|█████████ | 796/881 [19:53:57<8:12:08, 347.39s/it]"
     ]
    },
    {
     "name": "stdout",
     "output_type": "stream",
     "text": [
      "retrying:  3\n",
      "155.0.181.254:43496  Fetching  https://goodinfo.tw/tw/BasicInfo.asp?STOCK_ID=8070  timeout:  20\n",
      "retrying:  1\n",
      "155.0.181.254:43496  Fetching  https://goodinfo.tw/tw/BasicInfo.asp?STOCK_ID=8070  timeout:  25\n",
      "retrying:  2\n",
      "155.0.181.254:43496  Fetching  https://goodinfo.tw/tw/BasicInfo.asp?STOCK_ID=8070  timeout:  30\n",
      "retrying:  3\n",
      "47.242.168.144:59394  Fetching  https://goodinfo.tw/tw/BasicInfo.asp?STOCK_ID=8070  timeout:  20\n",
      "retrying:  1\n",
      "47.242.168.144:59394  Fetching  https://goodinfo.tw/tw/BasicInfo.asp?STOCK_ID=8070  timeout:  25\n",
      "retrying:  2\n",
      "47.242.168.144:59394  Fetching  https://goodinfo.tw/tw/BasicInfo.asp?STOCK_ID=8070  timeout:  30\n",
      "retrying:  3\n",
      "155.0.181.254:43496  Fetching  https://goodinfo.tw/tw/BasicInfo.asp?STOCK_ID=8070  timeout:  20\n",
      "retrying:  1\n",
      "155.0.181.254:43496  Fetching  https://goodinfo.tw/tw/BasicInfo.asp?STOCK_ID=8070  timeout:  25\n",
      "retrying:  2\n",
      "155.0.181.254:43496  Fetching  https://goodinfo.tw/tw/BasicInfo.asp?STOCK_ID=8070  timeout:  30\n",
      "retrying:  3\n",
      "200.105.215.18:33630  Fetching  https://goodinfo.tw/tw/BasicInfo.asp?STOCK_ID=8070  timeout:  20\n",
      "retrying:  1\n",
      "200.105.215.18:33630  Fetching  https://goodinfo.tw/tw/BasicInfo.asp?STOCK_ID=8070  timeout:  25\n",
      "retrying:  2\n",
      "200.105.215.18:33630  Fetching  https://goodinfo.tw/tw/BasicInfo.asp?STOCK_ID=8070  timeout:  30\n"
     ]
    },
    {
     "name": "stderr",
     "output_type": "stream",
     "text": [
      " 90%|█████████ | 797/881 [19:58:33<7:36:26, 326.03s/it]"
     ]
    },
    {
     "name": "stdout",
     "output_type": "stream",
     "text": [
      "Success\n",
      "185.201.88.128:6969  Fetching  https://goodinfo.tw/tw/BasicInfo.asp?STOCK_ID=8072  timeout:  20\n",
      "retrying:  1\n",
      "185.201.88.128:6969  Fetching  https://goodinfo.tw/tw/BasicInfo.asp?STOCK_ID=8072  timeout:  25\n",
      "retrying:  2\n",
      "185.201.88.128:6969  Fetching  https://goodinfo.tw/tw/BasicInfo.asp?STOCK_ID=8072  timeout:  30\n",
      "retrying:  3\n",
      "158.101.146.40:59394  Fetching  https://goodinfo.tw/tw/BasicInfo.asp?STOCK_ID=8072  timeout:  20\n",
      "retrying:  1\n",
      "158.101.146.40:59394  Fetching  https://goodinfo.tw/tw/BasicInfo.asp?STOCK_ID=8072  timeout:  25\n",
      "retrying:  2\n",
      "158.101.146.40:59394  Fetching  https://goodinfo.tw/tw/BasicInfo.asp?STOCK_ID=8072  timeout:  30\n",
      "retrying:  3\n",
      "200.105.215.18:33630  Fetching  https://goodinfo.tw/tw/BasicInfo.asp?STOCK_ID=8072  timeout:  20\n",
      "retrying:  1\n",
      "200.105.215.18:33630  Fetching  https://goodinfo.tw/tw/BasicInfo.asp?STOCK_ID=8072  timeout:  25\n"
     ]
    },
    {
     "name": "stderr",
     "output_type": "stream",
     "text": [
      " 91%|█████████ | 798/881 [20:01:34<6:30:47, 282.50s/it]"
     ]
    },
    {
     "name": "stdout",
     "output_type": "stream",
     "text": [
      "Success\n",
      "158.101.146.40:59394  Fetching  https://goodinfo.tw/tw/BasicInfo.asp?STOCK_ID=8081  timeout:  20\n",
      "retrying:  1\n",
      "158.101.146.40:59394  Fetching  https://goodinfo.tw/tw/BasicInfo.asp?STOCK_ID=8081  timeout:  25\n",
      "retrying:  2\n",
      "158.101.146.40:59394  Fetching  https://goodinfo.tw/tw/BasicInfo.asp?STOCK_ID=8081  timeout:  30\n",
      "retrying:  3\n",
      "200.105.215.18:33630  Fetching  https://goodinfo.tw/tw/BasicInfo.asp?STOCK_ID=8081  timeout:  20\n"
     ]
    },
    {
     "name": "stderr",
     "output_type": "stream",
     "text": [
      " 91%|█████████ | 799/881 [20:02:58<5:04:50, 223.06s/it]"
     ]
    },
    {
     "name": "stdout",
     "output_type": "stream",
     "text": [
      "Success\n",
      "185.201.88.128:6969  Fetching  https://goodinfo.tw/tw/BasicInfo.asp?STOCK_ID=8101  timeout:  20\n",
      "retrying:  1\n",
      "185.201.88.128:6969  Fetching  https://goodinfo.tw/tw/BasicInfo.asp?STOCK_ID=8101  timeout:  25\n",
      "retrying:  2\n",
      "185.201.88.128:6969  Fetching  https://goodinfo.tw/tw/BasicInfo.asp?STOCK_ID=8101  timeout:  30\n",
      "retrying:  3\n",
      "155.0.181.254:43496  Fetching  https://goodinfo.tw/tw/BasicInfo.asp?STOCK_ID=8101  timeout:  20\n",
      "retrying:  1\n",
      "155.0.181.254:43496  Fetching  https://goodinfo.tw/tw/BasicInfo.asp?STOCK_ID=8101  timeout:  25\n",
      "retrying:  2\n",
      "155.0.181.254:43496  Fetching  https://goodinfo.tw/tw/BasicInfo.asp?STOCK_ID=8101  timeout:  30\n",
      "retrying:  3\n",
      "155.0.181.254:43496  Fetching  https://goodinfo.tw/tw/BasicInfo.asp?STOCK_ID=8101  timeout:  20\n",
      "retrying:  1\n",
      "155.0.181.254:43496  Fetching  https://goodinfo.tw/tw/BasicInfo.asp?STOCK_ID=8101  timeout:  25\n"
     ]
    },
    {
     "name": "stderr",
     "output_type": "stream",
     "text": [
      " 91%|█████████ | 800/881 [20:05:56<4:42:38, 209.36s/it]"
     ]
    },
    {
     "name": "stdout",
     "output_type": "stream",
     "text": [
      "Success\n",
      "155.0.181.254:43496  Fetching  https://goodinfo.tw/tw/BasicInfo.asp?STOCK_ID=8103  timeout:  20\n",
      "retrying:  1\n",
      "155.0.181.254:43496  Fetching  https://goodinfo.tw/tw/BasicInfo.asp?STOCK_ID=8103  timeout:  25\n",
      "retrying:  2\n",
      "155.0.181.254:43496  Fetching  https://goodinfo.tw/tw/BasicInfo.asp?STOCK_ID=8103  timeout:  30\n",
      "retrying:  3\n",
      "47.242.168.144:59394  Fetching  https://goodinfo.tw/tw/BasicInfo.asp?STOCK_ID=8103  timeout:  20\n",
      "retrying:  1\n",
      "47.242.168.144:59394  Fetching  https://goodinfo.tw/tw/BasicInfo.asp?STOCK_ID=8103  timeout:  25\n"
     ]
    },
    {
     "name": "stderr",
     "output_type": "stream",
     "text": [
      " 91%|█████████ | 801/881 [20:07:31<3:53:38, 175.23s/it]"
     ]
    },
    {
     "name": "stdout",
     "output_type": "stream",
     "text": [
      "Success\n",
      "158.101.146.40:59394  Fetching  https://goodinfo.tw/tw/BasicInfo.asp?STOCK_ID=8104  timeout:  20\n",
      "retrying:  1\n",
      "158.101.146.40:59394  Fetching  https://goodinfo.tw/tw/BasicInfo.asp?STOCK_ID=8104  timeout:  25\n",
      "retrying:  2\n",
      "158.101.146.40:59394  Fetching  https://goodinfo.tw/tw/BasicInfo.asp?STOCK_ID=8104  timeout:  30\n",
      "retrying:  3\n",
      "185.201.88.128:6969  Fetching  https://goodinfo.tw/tw/BasicInfo.asp?STOCK_ID=8104  timeout:  20\n",
      "retrying:  1\n",
      "185.201.88.128:6969  Fetching  https://goodinfo.tw/tw/BasicInfo.asp?STOCK_ID=8104  timeout:  25\n",
      "retrying:  2\n",
      "185.201.88.128:6969  Fetching  https://goodinfo.tw/tw/BasicInfo.asp?STOCK_ID=8104  timeout:  30\n",
      "retrying:  3\n",
      "185.201.88.128:6969  Fetching  https://goodinfo.tw/tw/BasicInfo.asp?STOCK_ID=8104  timeout:  20\n",
      "retrying:  1\n",
      "185.201.88.128:6969  Fetching  https://goodinfo.tw/tw/BasicInfo.asp?STOCK_ID=8104  timeout:  25\n",
      "retrying:  2\n",
      "185.201.88.128:6969  Fetching  https://goodinfo.tw/tw/BasicInfo.asp?STOCK_ID=8104  timeout:  30\n",
      "retrying:  3\n",
      "47.242.168.144:59394  Fetching  https://goodinfo.tw/tw/BasicInfo.asp?STOCK_ID=8104  timeout:  20\n"
     ]
    },
    {
     "name": "stderr",
     "output_type": "stream",
     "text": [
      " 91%|█████████ | 802/881 [20:11:17<4:10:40, 190.39s/it]"
     ]
    },
    {
     "name": "stdout",
     "output_type": "stream",
     "text": [
      "Success\n",
      "155.0.181.254:43496  Fetching  https://goodinfo.tw/tw/BasicInfo.asp?STOCK_ID=8105  timeout:  20\n",
      "retrying:  1\n",
      "155.0.181.254:43496  Fetching  https://goodinfo.tw/tw/BasicInfo.asp?STOCK_ID=8105  timeout:  25\n",
      "retrying:  2\n",
      "155.0.181.254:43496  Fetching  https://goodinfo.tw/tw/BasicInfo.asp?STOCK_ID=8105  timeout:  30\n",
      "retrying:  3\n",
      "155.0.181.254:43496  Fetching  https://goodinfo.tw/tw/BasicInfo.asp?STOCK_ID=8105  timeout:  20\n",
      "retrying:  1\n",
      "155.0.181.254:43496  Fetching  https://goodinfo.tw/tw/BasicInfo.asp?STOCK_ID=8105  timeout:  25\n",
      "retrying:  2\n",
      "155.0.181.254:43496  Fetching  https://goodinfo.tw/tw/BasicInfo.asp?STOCK_ID=8105  timeout:  30\n",
      "retrying:  3\n",
      "158.101.146.40:59394  Fetching  https://goodinfo.tw/tw/BasicInfo.asp?STOCK_ID=8105  timeout:  20\n",
      "retrying:  1\n",
      "158.101.146.40:59394  Fetching  https://goodinfo.tw/tw/BasicInfo.asp?STOCK_ID=8105  timeout:  25\n",
      "retrying:  2\n",
      "158.101.146.40:59394  Fetching  https://goodinfo.tw/tw/BasicInfo.asp?STOCK_ID=8105  timeout:  30\n",
      "retrying:  3\n",
      "185.201.88.128:6969  Fetching  https://goodinfo.tw/tw/BasicInfo.asp?STOCK_ID=8105  timeout:  20\n",
      "retrying:  1\n",
      "185.201.88.128:6969  Fetching  https://goodinfo.tw/tw/BasicInfo.asp?STOCK_ID=8105  timeout:  25\n",
      "retrying:  2\n",
      "185.201.88.128:6969  Fetching  https://goodinfo.tw/tw/BasicInfo.asp?STOCK_ID=8105  timeout:  30\n",
      "retrying:  3\n",
      "200.105.215.18:33630  Fetching  https://goodinfo.tw/tw/BasicInfo.asp?STOCK_ID=8105  timeout:  20\n",
      "retrying:  1\n",
      "200.105.215.18:33630  Fetching  https://goodinfo.tw/tw/BasicInfo.asp?STOCK_ID=8105  timeout:  25\n",
      "retrying:  2\n",
      "200.105.215.18:33630  Fetching  https://goodinfo.tw/tw/BasicInfo.asp?STOCK_ID=8105  timeout:  30\n"
     ]
    },
    {
     "name": "stderr",
     "output_type": "stream",
     "text": [
      " 91%|█████████ | 803/881 [20:17:16<5:13:00, 240.77s/it]"
     ]
    },
    {
     "name": "stdout",
     "output_type": "stream",
     "text": [
      "Success\n",
      "185.201.88.128:6969  Fetching  https://goodinfo.tw/tw/BasicInfo.asp?STOCK_ID=8110  timeout:  20\n",
      "retrying:  1\n",
      "185.201.88.128:6969  Fetching  https://goodinfo.tw/tw/BasicInfo.asp?STOCK_ID=8110  timeout:  25\n",
      "retrying:  2\n",
      "185.201.88.128:6969  Fetching  https://goodinfo.tw/tw/BasicInfo.asp?STOCK_ID=8110  timeout:  30\n",
      "retrying:  3\n",
      "158.101.146.40:59394  Fetching  https://goodinfo.tw/tw/BasicInfo.asp?STOCK_ID=8110  timeout:  20\n",
      "retrying:  1\n",
      "158.101.146.40:59394  Fetching  https://goodinfo.tw/tw/BasicInfo.asp?STOCK_ID=8110  timeout:  25\n",
      "retrying:  2\n",
      "158.101.146.40:59394  Fetching  https://goodinfo.tw/tw/BasicInfo.asp?STOCK_ID=8110  timeout:  30\n",
      "retrying:  3\n",
      "155.0.181.254:43496  Fetching  https://goodinfo.tw/tw/BasicInfo.asp?STOCK_ID=8110  timeout:  20\n",
      "retrying:  1\n",
      "155.0.181.254:43496  Fetching  https://goodinfo.tw/tw/BasicInfo.asp?STOCK_ID=8110  timeout:  25\n",
      "retrying:  2\n",
      "155.0.181.254:43496  Fetching  https://goodinfo.tw/tw/BasicInfo.asp?STOCK_ID=8110  timeout:  30\n",
      "retrying:  3\n",
      "200.105.215.18:33630  Fetching  https://goodinfo.tw/tw/BasicInfo.asp?STOCK_ID=8110  timeout:  20\n",
      "retrying:  1\n",
      "200.105.215.18:33630  Fetching  https://goodinfo.tw/tw/BasicInfo.asp?STOCK_ID=8110  timeout:  25\n"
     ]
    },
    {
     "name": "stderr",
     "output_type": "stream",
     "text": [
      " 91%|█████████▏| 804/881 [20:21:40<5:17:54, 247.73s/it]"
     ]
    },
    {
     "name": "stdout",
     "output_type": "stream",
     "text": [
      "Success\n",
      "155.0.181.254:43496  Fetching  https://goodinfo.tw/tw/BasicInfo.asp?STOCK_ID=8112  timeout:  20\n",
      "retrying:  1\n",
      "155.0.181.254:43496  Fetching  https://goodinfo.tw/tw/BasicInfo.asp?STOCK_ID=8112  timeout:  25\n",
      "retrying:  2\n",
      "155.0.181.254:43496  Fetching  https://goodinfo.tw/tw/BasicInfo.asp?STOCK_ID=8112  timeout:  30\n",
      "retrying:  3\n",
      "158.101.146.40:59394  Fetching  https://goodinfo.tw/tw/BasicInfo.asp?STOCK_ID=8112  timeout:  20\n",
      "retrying:  1\n",
      "158.101.146.40:59394  Fetching  https://goodinfo.tw/tw/BasicInfo.asp?STOCK_ID=8112  timeout:  25\n",
      "retrying:  2\n",
      "158.101.146.40:59394  Fetching  https://goodinfo.tw/tw/BasicInfo.asp?STOCK_ID=8112  timeout:  30\n",
      "retrying:  3\n",
      "185.201.88.128:6969  Fetching  https://goodinfo.tw/tw/BasicInfo.asp?STOCK_ID=8112  timeout:  20\n",
      "retrying:  1\n",
      "185.201.88.128:6969  Fetching  https://goodinfo.tw/tw/BasicInfo.asp?STOCK_ID=8112  timeout:  25\n",
      "retrying:  2\n",
      "185.201.88.128:6969  Fetching  https://goodinfo.tw/tw/BasicInfo.asp?STOCK_ID=8112  timeout:  30\n",
      "retrying:  3\n",
      "185.201.88.128:6969  Fetching  https://goodinfo.tw/tw/BasicInfo.asp?STOCK_ID=8112  timeout:  20\n",
      "retrying:  1\n",
      "185.201.88.128:6969  Fetching  https://goodinfo.tw/tw/BasicInfo.asp?STOCK_ID=8112  timeout:  25\n"
     ]
    },
    {
     "name": "stderr",
     "output_type": "stream",
     "text": [
      " 91%|█████████▏| 805/881 [20:25:52<5:15:41, 249.22s/it]"
     ]
    },
    {
     "name": "stdout",
     "output_type": "stream",
     "text": [
      "Success\n",
      "155.0.181.254:43496  Fetching  https://goodinfo.tw/tw/BasicInfo.asp?STOCK_ID=8114  timeout:  20\n",
      "retrying:  1\n",
      "155.0.181.254:43496  Fetching  https://goodinfo.tw/tw/BasicInfo.asp?STOCK_ID=8114  timeout:  25\n",
      "retrying:  2\n",
      "155.0.181.254:43496  Fetching  https://goodinfo.tw/tw/BasicInfo.asp?STOCK_ID=8114  timeout:  30\n",
      "retrying:  3\n",
      "47.242.168.144:59394  Fetching  https://goodinfo.tw/tw/BasicInfo.asp?STOCK_ID=8114  timeout:  20\n",
      "retrying:  1\n",
      "47.242.168.144:59394  Fetching  https://goodinfo.tw/tw/BasicInfo.asp?STOCK_ID=8114  timeout:  25\n",
      "retrying:  2\n",
      "47.242.168.144:59394  Fetching  https://goodinfo.tw/tw/BasicInfo.asp?STOCK_ID=8114  timeout:  30\n",
      "retrying:  3\n",
      "200.105.215.18:33630  Fetching  https://goodinfo.tw/tw/BasicInfo.asp?STOCK_ID=8114  timeout:  20\n"
     ]
    },
    {
     "name": "stderr",
     "output_type": "stream",
     "text": [
      " 91%|█████████▏| 806/881 [20:28:34<4:38:51, 223.09s/it]"
     ]
    },
    {
     "name": "stdout",
     "output_type": "stream",
     "text": [
      "Success\n",
      "158.101.146.40:59394  Fetching  https://goodinfo.tw/tw/BasicInfo.asp?STOCK_ID=8131  timeout:  20\n",
      "retrying:  1\n",
      "158.101.146.40:59394  Fetching  https://goodinfo.tw/tw/BasicInfo.asp?STOCK_ID=8131  timeout:  25\n",
      "retrying:  2\n",
      "158.101.146.40:59394  Fetching  https://goodinfo.tw/tw/BasicInfo.asp?STOCK_ID=8131  timeout:  30\n",
      "retrying:  3\n",
      "200.105.215.18:33630  Fetching  https://goodinfo.tw/tw/BasicInfo.asp?STOCK_ID=8131  timeout:  20\n",
      "retrying:  1\n",
      "200.105.215.18:33630  Fetching  https://goodinfo.tw/tw/BasicInfo.asp?STOCK_ID=8131  timeout:  25\n",
      "retrying:  2\n",
      "200.105.215.18:33630  Fetching  https://goodinfo.tw/tw/BasicInfo.asp?STOCK_ID=8131  timeout:  30\n",
      "retrying:  3\n",
      "155.0.181.254:43496  Fetching  https://goodinfo.tw/tw/BasicInfo.asp?STOCK_ID=8131  timeout:  20\n",
      "retrying:  1\n",
      "155.0.181.254:43496  Fetching  https://goodinfo.tw/tw/BasicInfo.asp?STOCK_ID=8131  timeout:  25\n",
      "retrying:  2\n",
      "155.0.181.254:43496  Fetching  https://goodinfo.tw/tw/BasicInfo.asp?STOCK_ID=8131  timeout:  30\n",
      "retrying:  3\n",
      "155.0.181.254:43496  Fetching  https://goodinfo.tw/tw/BasicInfo.asp?STOCK_ID=8131  timeout:  20\n",
      "retrying:  1\n",
      "155.0.181.254:43496  Fetching  https://goodinfo.tw/tw/BasicInfo.asp?STOCK_ID=8131  timeout:  25\n",
      "retrying:  2\n",
      "155.0.181.254:43496  Fetching  https://goodinfo.tw/tw/BasicInfo.asp?STOCK_ID=8131  timeout:  30\n",
      "retrying:  3\n",
      "158.101.146.40:59394  Fetching  https://goodinfo.tw/tw/BasicInfo.asp?STOCK_ID=8131  timeout:  20\n",
      "retrying:  1\n",
      "158.101.146.40:59394  Fetching  https://goodinfo.tw/tw/BasicInfo.asp?STOCK_ID=8131  timeout:  25\n",
      "retrying:  2\n",
      "158.101.146.40:59394  Fetching  https://goodinfo.tw/tw/BasicInfo.asp?STOCK_ID=8131  timeout:  30\n"
     ]
    },
    {
     "name": "stderr",
     "output_type": "stream",
     "text": [
      " 92%|█████████▏| 807/881 [20:34:50<5:31:29, 268.78s/it]"
     ]
    },
    {
     "name": "stdout",
     "output_type": "stream",
     "text": [
      "retrying:  3\n",
      "200.105.215.18:33630  Fetching  https://goodinfo.tw/tw/BasicInfo.asp?STOCK_ID=8150  timeout:  20\n",
      "retrying:  1\n",
      "200.105.215.18:33630  Fetching  https://goodinfo.tw/tw/BasicInfo.asp?STOCK_ID=8150  timeout:  25\n"
     ]
    },
    {
     "name": "stderr",
     "output_type": "stream",
     "text": [
      " 92%|█████████▏| 808/881 [20:35:08<3:55:32, 193.60s/it]"
     ]
    },
    {
     "name": "stdout",
     "output_type": "stream",
     "text": [
      "Success\n",
      "185.201.88.128:6969  Fetching  https://goodinfo.tw/tw/BasicInfo.asp?STOCK_ID=8163  timeout:  20\n",
      "retrying:  1\n",
      "185.201.88.128:6969  Fetching  https://goodinfo.tw/tw/BasicInfo.asp?STOCK_ID=8163  timeout:  25\n",
      "retrying:  2\n",
      "185.201.88.128:6969  Fetching  https://goodinfo.tw/tw/BasicInfo.asp?STOCK_ID=8163  timeout:  30\n",
      "retrying:  3\n",
      "158.101.146.40:59394  Fetching  https://goodinfo.tw/tw/BasicInfo.asp?STOCK_ID=8163  timeout:  20\n",
      "retrying:  1\n",
      "158.101.146.40:59394  Fetching  https://goodinfo.tw/tw/BasicInfo.asp?STOCK_ID=8163  timeout:  25\n",
      "retrying:  2\n",
      "158.101.146.40:59394  Fetching  https://goodinfo.tw/tw/BasicInfo.asp?STOCK_ID=8163  timeout:  30\n",
      "retrying:  3\n",
      "185.201.88.128:6969  Fetching  https://goodinfo.tw/tw/BasicInfo.asp?STOCK_ID=8163  timeout:  20\n",
      "retrying:  1\n",
      "185.201.88.128:6969  Fetching  https://goodinfo.tw/tw/BasicInfo.asp?STOCK_ID=8163  timeout:  25\n",
      "retrying:  2\n",
      "185.201.88.128:6969  Fetching  https://goodinfo.tw/tw/BasicInfo.asp?STOCK_ID=8163  timeout:  30\n",
      "retrying:  3\n",
      "185.201.88.128:6969  Fetching  https://goodinfo.tw/tw/BasicInfo.asp?STOCK_ID=8163  timeout:  20\n",
      "retrying:  1\n",
      "185.201.88.128:6969  Fetching  https://goodinfo.tw/tw/BasicInfo.asp?STOCK_ID=8163  timeout:  25\n",
      "retrying:  2\n",
      "185.201.88.128:6969  Fetching  https://goodinfo.tw/tw/BasicInfo.asp?STOCK_ID=8163  timeout:  30\n",
      "retrying:  3\n",
      "185.201.88.128:6969  Fetching  https://goodinfo.tw/tw/BasicInfo.asp?STOCK_ID=8163  timeout:  20\n",
      "retrying:  1\n",
      "185.201.88.128:6969  Fetching  https://goodinfo.tw/tw/BasicInfo.asp?STOCK_ID=8163  timeout:  25\n",
      "retrying:  2\n",
      "185.201.88.128:6969  Fetching  https://goodinfo.tw/tw/BasicInfo.asp?STOCK_ID=8163  timeout:  30\n"
     ]
    },
    {
     "name": "stderr",
     "output_type": "stream",
     "text": [
      " 92%|█████████▏| 809/881 [20:41:23<4:57:44, 248.12s/it]"
     ]
    },
    {
     "name": "stdout",
     "output_type": "stream",
     "text": [
      "retrying:  3\n",
      "185.201.88.128:6969  Fetching  https://goodinfo.tw/tw/BasicInfo.asp?STOCK_ID=8201  timeout:  20\n",
      "retrying:  1\n",
      "185.201.88.128:6969  Fetching  https://goodinfo.tw/tw/BasicInfo.asp?STOCK_ID=8201  timeout:  25\n",
      "retrying:  2\n",
      "185.201.88.128:6969  Fetching  https://goodinfo.tw/tw/BasicInfo.asp?STOCK_ID=8201  timeout:  30\n",
      "retrying:  3\n",
      "158.101.146.40:59394  Fetching  https://goodinfo.tw/tw/BasicInfo.asp?STOCK_ID=8201  timeout:  20\n",
      "retrying:  1\n",
      "158.101.146.40:59394  Fetching  https://goodinfo.tw/tw/BasicInfo.asp?STOCK_ID=8201  timeout:  25\n",
      "retrying:  2\n",
      "158.101.146.40:59394  Fetching  https://goodinfo.tw/tw/BasicInfo.asp?STOCK_ID=8201  timeout:  30\n",
      "retrying:  3\n",
      "47.242.168.144:59394  Fetching  https://goodinfo.tw/tw/BasicInfo.asp?STOCK_ID=8201  timeout:  20\n",
      "retrying:  1\n",
      "47.242.168.144:59394  Fetching  https://goodinfo.tw/tw/BasicInfo.asp?STOCK_ID=8201  timeout:  25\n",
      "retrying:  2\n",
      "47.242.168.144:59394  Fetching  https://goodinfo.tw/tw/BasicInfo.asp?STOCK_ID=8201  timeout:  30\n",
      "retrying:  3\n",
      "155.0.181.254:43496  Fetching  https://goodinfo.tw/tw/BasicInfo.asp?STOCK_ID=8201  timeout:  20\n",
      "retrying:  1\n",
      "155.0.181.254:43496  Fetching  https://goodinfo.tw/tw/BasicInfo.asp?STOCK_ID=8201  timeout:  25\n",
      "retrying:  2\n",
      "155.0.181.254:43496  Fetching  https://goodinfo.tw/tw/BasicInfo.asp?STOCK_ID=8201  timeout:  30\n",
      "retrying:  3\n",
      "47.242.168.144:59394  Fetching  https://goodinfo.tw/tw/BasicInfo.asp?STOCK_ID=8201  timeout:  20\n",
      "retrying:  1\n",
      "47.242.168.144:59394  Fetching  https://goodinfo.tw/tw/BasicInfo.asp?STOCK_ID=8201  timeout:  25\n",
      "retrying:  2\n",
      "47.242.168.144:59394  Fetching  https://goodinfo.tw/tw/BasicInfo.asp?STOCK_ID=8201  timeout:  30\n"
     ]
    },
    {
     "name": "stderr",
     "output_type": "stream",
     "text": [
      " 92%|█████████▏| 810/881 [20:47:39<5:38:47, 286.30s/it]"
     ]
    },
    {
     "name": "stdout",
     "output_type": "stream",
     "text": [
      "retrying:  3\n",
      "155.0.181.254:43496  Fetching  https://goodinfo.tw/tw/BasicInfo.asp?STOCK_ID=8210  timeout:  20\n",
      "retrying:  1\n",
      "155.0.181.254:43496  Fetching  https://goodinfo.tw/tw/BasicInfo.asp?STOCK_ID=8210  timeout:  25\n",
      "retrying:  2\n",
      "155.0.181.254:43496  Fetching  https://goodinfo.tw/tw/BasicInfo.asp?STOCK_ID=8210  timeout:  30\n",
      "retrying:  3\n",
      "185.201.88.128:6969  Fetching  https://goodinfo.tw/tw/BasicInfo.asp?STOCK_ID=8210  timeout:  20\n",
      "retrying:  1\n",
      "185.201.88.128:6969  Fetching  https://goodinfo.tw/tw/BasicInfo.asp?STOCK_ID=8210  timeout:  25\n",
      "retrying:  2\n",
      "185.201.88.128:6969  Fetching  https://goodinfo.tw/tw/BasicInfo.asp?STOCK_ID=8210  timeout:  30\n"
     ]
    },
    {
     "name": "stderr",
     "output_type": "stream",
     "text": [
      " 92%|█████████▏| 811/881 [20:50:00<4:43:09, 242.71s/it]"
     ]
    },
    {
     "name": "stdout",
     "output_type": "stream",
     "text": [
      "Success\n",
      "200.105.215.18:33630  Fetching  https://goodinfo.tw/tw/BasicInfo.asp?STOCK_ID=8213  timeout:  20\n",
      "retrying:  1\n",
      "200.105.215.18:33630  Fetching  https://goodinfo.tw/tw/BasicInfo.asp?STOCK_ID=8213  timeout:  25\n",
      "retrying:  2\n",
      "200.105.215.18:33630  Fetching  https://goodinfo.tw/tw/BasicInfo.asp?STOCK_ID=8213  timeout:  30\n",
      "retrying:  3\n",
      "158.101.146.40:59394  Fetching  https://goodinfo.tw/tw/BasicInfo.asp?STOCK_ID=8213  timeout:  20\n",
      "retrying:  1\n",
      "158.101.146.40:59394  Fetching  https://goodinfo.tw/tw/BasicInfo.asp?STOCK_ID=8213  timeout:  25\n",
      "retrying:  2\n",
      "158.101.146.40:59394  Fetching  https://goodinfo.tw/tw/BasicInfo.asp?STOCK_ID=8213  timeout:  30\n",
      "retrying:  3\n",
      "155.0.181.254:43496  Fetching  https://goodinfo.tw/tw/BasicInfo.asp?STOCK_ID=8213  timeout:  20\n",
      "retrying:  1\n",
      "155.0.181.254:43496  Fetching  https://goodinfo.tw/tw/BasicInfo.asp?STOCK_ID=8213  timeout:  25\n"
     ]
    },
    {
     "name": "stderr",
     "output_type": "stream",
     "text": [
      " 92%|█████████▏| 812/881 [20:53:08<4:20:12, 226.27s/it]"
     ]
    },
    {
     "name": "stdout",
     "output_type": "stream",
     "text": [
      "Success\n",
      "155.0.181.254:43496  Fetching  https://goodinfo.tw/tw/BasicInfo.asp?STOCK_ID=8215  timeout:  20\n",
      "retrying:  1\n",
      "155.0.181.254:43496  Fetching  https://goodinfo.tw/tw/BasicInfo.asp?STOCK_ID=8215  timeout:  25\n"
     ]
    },
    {
     "name": "stderr",
     "output_type": "stream",
     "text": [
      " 92%|█████████▏| 813/881 [20:53:42<3:11:05, 168.62s/it]"
     ]
    },
    {
     "name": "stdout",
     "output_type": "stream",
     "text": [
      "Success\n",
      "185.201.88.128:6969  Fetching  https://goodinfo.tw/tw/BasicInfo.asp?STOCK_ID=8222  timeout:  20\n",
      "retrying:  1\n",
      "185.201.88.128:6969  Fetching  https://goodinfo.tw/tw/BasicInfo.asp?STOCK_ID=8222  timeout:  25\n",
      "retrying:  2\n",
      "185.201.88.128:6969  Fetching  https://goodinfo.tw/tw/BasicInfo.asp?STOCK_ID=8222  timeout:  30\n",
      "retrying:  3\n",
      "185.201.88.128:6969  Fetching  https://goodinfo.tw/tw/BasicInfo.asp?STOCK_ID=8222  timeout:  20\n",
      "retrying:  1\n",
      "185.201.88.128:6969  Fetching  https://goodinfo.tw/tw/BasicInfo.asp?STOCK_ID=8222  timeout:  25\n",
      "retrying:  2\n",
      "185.201.88.128:6969  Fetching  https://goodinfo.tw/tw/BasicInfo.asp?STOCK_ID=8222  timeout:  30\n",
      "retrying:  3\n",
      "47.242.168.144:59394  Fetching  https://goodinfo.tw/tw/BasicInfo.asp?STOCK_ID=8222  timeout:  20\n",
      "retrying:  1\n",
      "47.242.168.144:59394  Fetching  https://goodinfo.tw/tw/BasicInfo.asp?STOCK_ID=8222  timeout:  25\n",
      "retrying:  2\n",
      "47.242.168.144:59394  Fetching  https://goodinfo.tw/tw/BasicInfo.asp?STOCK_ID=8222  timeout:  30\n",
      "retrying:  3\n",
      "47.242.168.144:59394  Fetching  https://goodinfo.tw/tw/BasicInfo.asp?STOCK_ID=8222  timeout:  20\n",
      "retrying:  1\n",
      "47.242.168.144:59394  Fetching  https://goodinfo.tw/tw/BasicInfo.asp?STOCK_ID=8222  timeout:  25\n",
      "retrying:  2\n",
      "47.242.168.144:59394  Fetching  https://goodinfo.tw/tw/BasicInfo.asp?STOCK_ID=8222  timeout:  30\n",
      "retrying:  3\n",
      "185.201.88.128:6969  Fetching  https://goodinfo.tw/tw/BasicInfo.asp?STOCK_ID=8222  timeout:  20\n",
      "retrying:  1\n",
      "185.201.88.128:6969  Fetching  https://goodinfo.tw/tw/BasicInfo.asp?STOCK_ID=8222  timeout:  25\n",
      "retrying:  2\n",
      "185.201.88.128:6969  Fetching  https://goodinfo.tw/tw/BasicInfo.asp?STOCK_ID=8222  timeout:  30\n"
     ]
    },
    {
     "name": "stderr",
     "output_type": "stream",
     "text": [
      " 92%|█████████▏| 814/881 [20:59:57<4:17:41, 230.78s/it]"
     ]
    },
    {
     "name": "stdout",
     "output_type": "stream",
     "text": [
      "retrying:  3\n",
      "155.0.181.254:43496  Fetching  https://goodinfo.tw/tw/BasicInfo.asp?STOCK_ID=8249  timeout:  20\n"
     ]
    },
    {
     "name": "stderr",
     "output_type": "stream",
     "text": [
      " 93%|█████████▎| 815/881 [21:00:17<3:04:14, 167.49s/it]"
     ]
    },
    {
     "name": "stdout",
     "output_type": "stream",
     "text": [
      "Success\n",
      "200.105.215.18:33630  Fetching  https://goodinfo.tw/tw/BasicInfo.asp?STOCK_ID=8261  timeout:  20\n"
     ]
    },
    {
     "name": "stderr",
     "output_type": "stream",
     "text": [
      " 93%|█████████▎| 816/881 [21:00:22<2:08:40, 118.77s/it]"
     ]
    },
    {
     "name": "stdout",
     "output_type": "stream",
     "text": [
      "Success\n",
      "155.0.181.254:43496  Fetching  https://goodinfo.tw/tw/BasicInfo.asp?STOCK_ID=8271  timeout:  20\n"
     ]
    },
    {
     "name": "stderr",
     "output_type": "stream",
     "text": [
      " 93%|█████████▎| 817/881 [21:00:38<1:33:49, 87.96s/it] "
     ]
    },
    {
     "name": "stdout",
     "output_type": "stream",
     "text": [
      "Success\n",
      "200.105.215.18:33630  Fetching  https://goodinfo.tw/tw/BasicInfo.asp?STOCK_ID=8341  timeout:  20\n",
      "retrying:  1\n",
      "200.105.215.18:33630  Fetching  https://goodinfo.tw/tw/BasicInfo.asp?STOCK_ID=8341  timeout:  25\n",
      "retrying:  2\n",
      "200.105.215.18:33630  Fetching  https://goodinfo.tw/tw/BasicInfo.asp?STOCK_ID=8341  timeout:  30\n"
     ]
    },
    {
     "name": "stderr",
     "output_type": "stream",
     "text": [
      " 93%|█████████▎| 818/881 [21:01:38<1:23:31, 79.54s/it]"
     ]
    },
    {
     "name": "stdout",
     "output_type": "stream",
     "text": [
      "Success\n",
      "47.242.168.144:59394  Fetching  https://goodinfo.tw/tw/BasicInfo.asp?STOCK_ID=8367  timeout:  20\n",
      "retrying:  1\n",
      "47.242.168.144:59394  Fetching  https://goodinfo.tw/tw/BasicInfo.asp?STOCK_ID=8367  timeout:  25\n",
      "retrying:  2\n",
      "47.242.168.144:59394  Fetching  https://goodinfo.tw/tw/BasicInfo.asp?STOCK_ID=8367  timeout:  30\n",
      "retrying:  3\n",
      "185.201.88.128:6969  Fetching  https://goodinfo.tw/tw/BasicInfo.asp?STOCK_ID=8367  timeout:  20\n"
     ]
    },
    {
     "name": "stderr",
     "output_type": "stream",
     "text": [
      " 93%|█████████▎| 819/881 [21:03:01<1:23:13, 80.54s/it]"
     ]
    },
    {
     "name": "stdout",
     "output_type": "stream",
     "text": [
      "Success\n",
      "47.242.168.144:59394  Fetching  https://goodinfo.tw/tw/BasicInfo.asp?STOCK_ID=8374  timeout:  20\n",
      "retrying:  1\n",
      "47.242.168.144:59394  Fetching  https://goodinfo.tw/tw/BasicInfo.asp?STOCK_ID=8374  timeout:  25\n",
      "retrying:  2\n",
      "47.242.168.144:59394  Fetching  https://goodinfo.tw/tw/BasicInfo.asp?STOCK_ID=8374  timeout:  30\n",
      "retrying:  3\n",
      "158.101.146.40:59394  Fetching  https://goodinfo.tw/tw/BasicInfo.asp?STOCK_ID=8374  timeout:  20\n",
      "retrying:  1\n",
      "158.101.146.40:59394  Fetching  https://goodinfo.tw/tw/BasicInfo.asp?STOCK_ID=8374  timeout:  25\n",
      "retrying:  2\n",
      "158.101.146.40:59394  Fetching  https://goodinfo.tw/tw/BasicInfo.asp?STOCK_ID=8374  timeout:  30\n",
      "retrying:  3\n",
      "158.101.146.40:59394  Fetching  https://goodinfo.tw/tw/BasicInfo.asp?STOCK_ID=8374  timeout:  20\n",
      "retrying:  1\n",
      "158.101.146.40:59394  Fetching  https://goodinfo.tw/tw/BasicInfo.asp?STOCK_ID=8374  timeout:  25\n",
      "retrying:  2\n",
      "158.101.146.40:59394  Fetching  https://goodinfo.tw/tw/BasicInfo.asp?STOCK_ID=8374  timeout:  30\n",
      "retrying:  3\n",
      "200.105.215.18:33630  Fetching  https://goodinfo.tw/tw/BasicInfo.asp?STOCK_ID=8374  timeout:  20\n"
     ]
    },
    {
     "name": "stderr",
     "output_type": "stream",
     "text": [
      " 93%|█████████▎| 820/881 [21:07:09<2:12:59, 130.81s/it]"
     ]
    },
    {
     "name": "stdout",
     "output_type": "stream",
     "text": [
      "Success\n",
      "155.0.181.254:43496  Fetching  https://goodinfo.tw/tw/BasicInfo.asp?STOCK_ID=8404  timeout:  20\n",
      "retrying:  1\n",
      "155.0.181.254:43496  Fetching  https://goodinfo.tw/tw/BasicInfo.asp?STOCK_ID=8404  timeout:  25\n"
     ]
    },
    {
     "name": "stderr",
     "output_type": "stream",
     "text": [
      " 93%|█████████▎| 821/881 [21:07:49<1:43:27, 103.46s/it]"
     ]
    },
    {
     "name": "stdout",
     "output_type": "stream",
     "text": [
      "Success\n",
      "158.101.146.40:59394  Fetching  https://goodinfo.tw/tw/BasicInfo.asp?STOCK_ID=8411  timeout:  20\n",
      "retrying:  1\n",
      "158.101.146.40:59394  Fetching  https://goodinfo.tw/tw/BasicInfo.asp?STOCK_ID=8411  timeout:  25\n",
      "retrying:  2\n",
      "158.101.146.40:59394  Fetching  https://goodinfo.tw/tw/BasicInfo.asp?STOCK_ID=8411  timeout:  30\n",
      "retrying:  3\n",
      "155.0.181.254:43496  Fetching  https://goodinfo.tw/tw/BasicInfo.asp?STOCK_ID=8411  timeout:  20\n",
      "retrying:  1\n",
      "155.0.181.254:43496  Fetching  https://goodinfo.tw/tw/BasicInfo.asp?STOCK_ID=8411  timeout:  25\n",
      "retrying:  2\n",
      "155.0.181.254:43496  Fetching  https://goodinfo.tw/tw/BasicInfo.asp?STOCK_ID=8411  timeout:  30\n"
     ]
    },
    {
     "name": "stderr",
     "output_type": "stream",
     "text": [
      " 93%|█████████▎| 822/881 [21:10:07<1:51:56, 113.83s/it]"
     ]
    },
    {
     "name": "stdout",
     "output_type": "stream",
     "text": [
      "Success\n",
      "47.242.168.144:59394  Fetching  https://goodinfo.tw/tw/BasicInfo.asp?STOCK_ID=8422  timeout:  20\n",
      "retrying:  1\n",
      "47.242.168.144:59394  Fetching  https://goodinfo.tw/tw/BasicInfo.asp?STOCK_ID=8422  timeout:  25\n",
      "retrying:  2\n",
      "47.242.168.144:59394  Fetching  https://goodinfo.tw/tw/BasicInfo.asp?STOCK_ID=8422  timeout:  30\n",
      "retrying:  3\n",
      "200.105.215.18:33630  Fetching  https://goodinfo.tw/tw/BasicInfo.asp?STOCK_ID=8422  timeout:  20\n"
     ]
    },
    {
     "name": "stderr",
     "output_type": "stream",
     "text": [
      " 93%|█████████▎| 823/881 [21:11:55<1:48:22, 112.11s/it]"
     ]
    },
    {
     "name": "stdout",
     "output_type": "stream",
     "text": [
      "Success\n",
      "47.242.168.144:59394  Fetching  https://goodinfo.tw/tw/BasicInfo.asp?STOCK_ID=8427  timeout:  20\n",
      "retrying:  1\n",
      "47.242.168.144:59394  Fetching  https://goodinfo.tw/tw/BasicInfo.asp?STOCK_ID=8427  timeout:  25\n",
      "retrying:  2\n",
      "47.242.168.144:59394  Fetching  https://goodinfo.tw/tw/BasicInfo.asp?STOCK_ID=8427  timeout:  30\n",
      "retrying:  3\n",
      "155.0.181.254:43496  Fetching  https://goodinfo.tw/tw/BasicInfo.asp?STOCK_ID=8427  timeout:  20\n"
     ]
    },
    {
     "name": "stderr",
     "output_type": "stream",
     "text": [
      " 94%|█████████▎| 824/881 [21:13:27<1:40:40, 105.98s/it]"
     ]
    },
    {
     "name": "stdout",
     "output_type": "stream",
     "text": [
      "Success\n",
      "47.242.168.144:59394  Fetching  https://goodinfo.tw/tw/BasicInfo.asp?STOCK_ID=8429  timeout:  20\n",
      "retrying:  1\n",
      "47.242.168.144:59394  Fetching  https://goodinfo.tw/tw/BasicInfo.asp?STOCK_ID=8429  timeout:  25\n",
      "retrying:  2\n",
      "47.242.168.144:59394  Fetching  https://goodinfo.tw/tw/BasicInfo.asp?STOCK_ID=8429  timeout:  30\n",
      "retrying:  3\n",
      "47.242.168.144:59394  Fetching  https://goodinfo.tw/tw/BasicInfo.asp?STOCK_ID=8429  timeout:  20\n",
      "retrying:  1\n",
      "47.242.168.144:59394  Fetching  https://goodinfo.tw/tw/BasicInfo.asp?STOCK_ID=8429  timeout:  25\n",
      "retrying:  2\n",
      "47.242.168.144:59394  Fetching  https://goodinfo.tw/tw/BasicInfo.asp?STOCK_ID=8429  timeout:  30\n",
      "retrying:  3\n",
      "158.101.146.40:59394  Fetching  https://goodinfo.tw/tw/BasicInfo.asp?STOCK_ID=8429  timeout:  20\n",
      "retrying:  1\n",
      "158.101.146.40:59394  Fetching  https://goodinfo.tw/tw/BasicInfo.asp?STOCK_ID=8429  timeout:  25\n",
      "retrying:  2\n",
      "158.101.146.40:59394  Fetching  https://goodinfo.tw/tw/BasicInfo.asp?STOCK_ID=8429  timeout:  30\n",
      "retrying:  3\n",
      "185.201.88.128:6969  Fetching  https://goodinfo.tw/tw/BasicInfo.asp?STOCK_ID=8429  timeout:  20\n"
     ]
    },
    {
     "name": "stderr",
     "output_type": "stream",
     "text": [
      " 94%|█████████▎| 825/881 [21:17:27<2:16:33, 146.31s/it]"
     ]
    },
    {
     "name": "stdout",
     "output_type": "stream",
     "text": [
      "Success\n",
      "158.101.146.40:59394  Fetching  https://goodinfo.tw/tw/BasicInfo.asp?STOCK_ID=8442  timeout:  20\n",
      "retrying:  1\n",
      "158.101.146.40:59394  Fetching  https://goodinfo.tw/tw/BasicInfo.asp?STOCK_ID=8442  timeout:  25\n",
      "retrying:  2\n",
      "158.101.146.40:59394  Fetching  https://goodinfo.tw/tw/BasicInfo.asp?STOCK_ID=8442  timeout:  30\n",
      "retrying:  3\n",
      "200.105.215.18:33630  Fetching  https://goodinfo.tw/tw/BasicInfo.asp?STOCK_ID=8442  timeout:  20\n",
      "retrying:  1\n",
      "200.105.215.18:33630  Fetching  https://goodinfo.tw/tw/BasicInfo.asp?STOCK_ID=8442  timeout:  25\n"
     ]
    },
    {
     "name": "stderr",
     "output_type": "stream",
     "text": [
      " 94%|█████████▍| 826/881 [21:19:09<2:01:57, 133.05s/it]"
     ]
    },
    {
     "name": "stdout",
     "output_type": "stream",
     "text": [
      "Success\n",
      "158.101.146.40:59394  Fetching  https://goodinfo.tw/tw/BasicInfo.asp?STOCK_ID=8443  timeout:  20\n",
      "retrying:  1\n",
      "158.101.146.40:59394  Fetching  https://goodinfo.tw/tw/BasicInfo.asp?STOCK_ID=8443  timeout:  25\n",
      "retrying:  2\n",
      "158.101.146.40:59394  Fetching  https://goodinfo.tw/tw/BasicInfo.asp?STOCK_ID=8443  timeout:  30\n",
      "retrying:  3\n",
      "158.101.146.40:59394  Fetching  https://goodinfo.tw/tw/BasicInfo.asp?STOCK_ID=8443  timeout:  20\n",
      "retrying:  1\n",
      "158.101.146.40:59394  Fetching  https://goodinfo.tw/tw/BasicInfo.asp?STOCK_ID=8443  timeout:  25\n",
      "retrying:  2\n",
      "158.101.146.40:59394  Fetching  https://goodinfo.tw/tw/BasicInfo.asp?STOCK_ID=8443  timeout:  30\n",
      "retrying:  3\n",
      "200.105.215.18:33630  Fetching  https://goodinfo.tw/tw/BasicInfo.asp?STOCK_ID=8443  timeout:  20\n",
      "retrying:  1\n",
      "200.105.215.18:33630  Fetching  https://goodinfo.tw/tw/BasicInfo.asp?STOCK_ID=8443  timeout:  25\n"
     ]
    },
    {
     "name": "stderr",
     "output_type": "stream",
     "text": [
      " 94%|█████████▍| 827/881 [21:22:08<2:12:11, 146.88s/it]"
     ]
    },
    {
     "name": "stdout",
     "output_type": "stream",
     "text": [
      "Success\n",
      "47.242.168.144:59394  Fetching  https://goodinfo.tw/tw/BasicInfo.asp?STOCK_ID=8454  timeout:  20\n",
      "retrying:  1\n",
      "47.242.168.144:59394  Fetching  https://goodinfo.tw/tw/BasicInfo.asp?STOCK_ID=8454  timeout:  25\n",
      "retrying:  2\n",
      "47.242.168.144:59394  Fetching  https://goodinfo.tw/tw/BasicInfo.asp?STOCK_ID=8454  timeout:  30\n",
      "retrying:  3\n",
      "47.242.168.144:59394  Fetching  https://goodinfo.tw/tw/BasicInfo.asp?STOCK_ID=8454  timeout:  20\n",
      "retrying:  1\n",
      "47.242.168.144:59394  Fetching  https://goodinfo.tw/tw/BasicInfo.asp?STOCK_ID=8454  timeout:  25\n",
      "retrying:  2\n",
      "47.242.168.144:59394  Fetching  https://goodinfo.tw/tw/BasicInfo.asp?STOCK_ID=8454  timeout:  30\n",
      "retrying:  3\n",
      "200.105.215.18:33630  Fetching  https://goodinfo.tw/tw/BasicInfo.asp?STOCK_ID=8454  timeout:  20\n",
      "retrying:  1\n",
      "200.105.215.18:33630  Fetching  https://goodinfo.tw/tw/BasicInfo.asp?STOCK_ID=8454  timeout:  25\n"
     ]
    },
    {
     "name": "stderr",
     "output_type": "stream",
     "text": [
      " 94%|█████████▍| 828/881 [21:25:11<2:19:12, 157.59s/it]"
     ]
    },
    {
     "name": "stdout",
     "output_type": "stream",
     "text": [
      "Success\n",
      "200.105.215.18:33630  Fetching  https://goodinfo.tw/tw/BasicInfo.asp?STOCK_ID=8462  timeout:  20\n"
     ]
    },
    {
     "name": "stderr",
     "output_type": "stream",
     "text": [
      " 94%|█████████▍| 829/881 [21:25:31<1:40:54, 116.43s/it]"
     ]
    },
    {
     "name": "stdout",
     "output_type": "stream",
     "text": [
      "Success\n",
      "47.242.168.144:59394  Fetching  https://goodinfo.tw/tw/BasicInfo.asp?STOCK_ID=8463  timeout:  20\n",
      "retrying:  1\n",
      "47.242.168.144:59394  Fetching  https://goodinfo.tw/tw/BasicInfo.asp?STOCK_ID=8463  timeout:  25\n",
      "retrying:  2\n",
      "47.242.168.144:59394  Fetching  https://goodinfo.tw/tw/BasicInfo.asp?STOCK_ID=8463  timeout:  30\n",
      "retrying:  3\n",
      "155.0.181.254:43496  Fetching  https://goodinfo.tw/tw/BasicInfo.asp?STOCK_ID=8463  timeout:  20\n"
     ]
    },
    {
     "name": "stderr",
     "output_type": "stream",
     "text": [
      " 94%|█████████▍| 830/881 [21:26:57<1:31:04, 107.14s/it]"
     ]
    },
    {
     "name": "stdout",
     "output_type": "stream",
     "text": [
      "Success\n",
      "158.101.146.40:59394  Fetching  https://goodinfo.tw/tw/BasicInfo.asp?STOCK_ID=8464  timeout:  20\n",
      "retrying:  1\n",
      "158.101.146.40:59394  Fetching  https://goodinfo.tw/tw/BasicInfo.asp?STOCK_ID=8464  timeout:  25\n",
      "retrying:  2\n",
      "158.101.146.40:59394  Fetching  https://goodinfo.tw/tw/BasicInfo.asp?STOCK_ID=8464  timeout:  30\n",
      "retrying:  3\n",
      "158.101.146.40:59394  Fetching  https://goodinfo.tw/tw/BasicInfo.asp?STOCK_ID=8464  timeout:  20\n",
      "retrying:  1\n",
      "158.101.146.40:59394  Fetching  https://goodinfo.tw/tw/BasicInfo.asp?STOCK_ID=8464  timeout:  25\n",
      "retrying:  2\n",
      "158.101.146.40:59394  Fetching  https://goodinfo.tw/tw/BasicInfo.asp?STOCK_ID=8464  timeout:  30\n",
      "retrying:  3\n",
      "155.0.181.254:43496  Fetching  https://goodinfo.tw/tw/BasicInfo.asp?STOCK_ID=8464  timeout:  20\n",
      "retrying:  1\n",
      "155.0.181.254:43496  Fetching  https://goodinfo.tw/tw/BasicInfo.asp?STOCK_ID=8464  timeout:  25\n",
      "retrying:  2\n",
      "155.0.181.254:43496  Fetching  https://goodinfo.tw/tw/BasicInfo.asp?STOCK_ID=8464  timeout:  30\n",
      "retrying:  3\n",
      "185.201.88.128:6969  Fetching  https://goodinfo.tw/tw/BasicInfo.asp?STOCK_ID=8464  timeout:  20\n"
     ]
    },
    {
     "name": "stderr",
     "output_type": "stream",
     "text": [
      " 94%|█████████▍| 831/881 [21:28:30<1:25:45, 102.92s/it]"
     ]
    },
    {
     "name": "stdout",
     "output_type": "stream",
     "text": [
      "Success\n",
      "185.201.88.128:6969  Fetching  https://goodinfo.tw/tw/BasicInfo.asp?STOCK_ID=8466  timeout:  20\n"
     ]
    },
    {
     "name": "stderr",
     "output_type": "stream",
     "text": [
      " 94%|█████████▍| 832/881 [21:28:38<1:00:42, 74.34s/it] "
     ]
    },
    {
     "name": "stdout",
     "output_type": "stream",
     "text": [
      "Success\n",
      "185.201.88.128:6969  Fetching  https://goodinfo.tw/tw/BasicInfo.asp?STOCK_ID=8467  timeout:  20\n",
      "retrying:  1\n",
      "185.201.88.128:6969  Fetching  https://goodinfo.tw/tw/BasicInfo.asp?STOCK_ID=8467  timeout:  25\n"
     ]
    },
    {
     "name": "stderr",
     "output_type": "stream",
     "text": [
      " 95%|█████████▍| 833/881 [21:29:09<49:09, 61.45s/it]  "
     ]
    },
    {
     "name": "stdout",
     "output_type": "stream",
     "text": [
      "Success\n",
      "158.101.146.40:59394  Fetching  https://goodinfo.tw/tw/BasicInfo.asp?STOCK_ID=8473  timeout:  20\n",
      "retrying:  1\n",
      "158.101.146.40:59394  Fetching  https://goodinfo.tw/tw/BasicInfo.asp?STOCK_ID=8473  timeout:  25\n",
      "retrying:  2\n",
      "158.101.146.40:59394  Fetching  https://goodinfo.tw/tw/BasicInfo.asp?STOCK_ID=8473  timeout:  30\n",
      "retrying:  3\n",
      "200.105.215.18:33630  Fetching  https://goodinfo.tw/tw/BasicInfo.asp?STOCK_ID=8473  timeout:  20\n"
     ]
    },
    {
     "name": "stderr",
     "output_type": "stream",
     "text": [
      " 95%|█████████▍| 834/881 [21:29:17<35:38, 45.50s/it]"
     ]
    },
    {
     "name": "stdout",
     "output_type": "stream",
     "text": [
      "Success\n",
      "200.105.215.18:33630  Fetching  https://goodinfo.tw/tw/BasicInfo.asp?STOCK_ID=8478  timeout:  20\n"
     ]
    },
    {
     "name": "stderr",
     "output_type": "stream",
     "text": [
      " 95%|█████████▍| 835/881 [21:29:25<26:18, 34.32s/it]"
     ]
    },
    {
     "name": "stdout",
     "output_type": "stream",
     "text": [
      "Success\n",
      "158.101.146.40:59394  Fetching  https://goodinfo.tw/tw/BasicInfo.asp?STOCK_ID=8480  timeout:  20\n",
      "retrying:  1\n",
      "158.101.146.40:59394  Fetching  https://goodinfo.tw/tw/BasicInfo.asp?STOCK_ID=8480  timeout:  25\n",
      "retrying:  2\n",
      "158.101.146.40:59394  Fetching  https://goodinfo.tw/tw/BasicInfo.asp?STOCK_ID=8480  timeout:  30\n",
      "retrying:  3\n",
      "158.101.146.40:59394  Fetching  https://goodinfo.tw/tw/BasicInfo.asp?STOCK_ID=8480  timeout:  20\n",
      "retrying:  1\n",
      "158.101.146.40:59394  Fetching  https://goodinfo.tw/tw/BasicInfo.asp?STOCK_ID=8480  timeout:  25\n",
      "retrying:  2\n",
      "158.101.146.40:59394  Fetching  https://goodinfo.tw/tw/BasicInfo.asp?STOCK_ID=8480  timeout:  30\n",
      "retrying:  3\n",
      "185.201.88.128:6969  Fetching  https://goodinfo.tw/tw/BasicInfo.asp?STOCK_ID=8480  timeout:  20\n",
      "retrying:  1\n",
      "185.201.88.128:6969  Fetching  https://goodinfo.tw/tw/BasicInfo.asp?STOCK_ID=8480  timeout:  25\n"
     ]
    },
    {
     "name": "stderr",
     "output_type": "stream",
     "text": [
      " 95%|█████████▍| 836/881 [21:29:57<25:01, 33.37s/it]"
     ]
    },
    {
     "name": "stdout",
     "output_type": "stream",
     "text": [
      "Success\n",
      "200.105.215.18:33630  Fetching  https://goodinfo.tw/tw/BasicInfo.asp?STOCK_ID=8481  timeout:  20\n",
      "retrying:  1\n",
      "200.105.215.18:33630  Fetching  https://goodinfo.tw/tw/BasicInfo.asp?STOCK_ID=8481  timeout:  25\n"
     ]
    },
    {
     "name": "stderr",
     "output_type": "stream",
     "text": [
      " 95%|█████████▌| 837/881 [21:30:21<22:34, 30.79s/it]"
     ]
    },
    {
     "name": "stdout",
     "output_type": "stream",
     "text": [
      "Success\n",
      "185.201.88.128:6969  Fetching  https://goodinfo.tw/tw/BasicInfo.asp?STOCK_ID=8482  timeout:  20\n",
      "retrying:  1\n",
      "185.201.88.128:6969  Fetching  https://goodinfo.tw/tw/BasicInfo.asp?STOCK_ID=8482  timeout:  25\n"
     ]
    },
    {
     "name": "stderr",
     "output_type": "stream",
     "text": [
      " 95%|█████████▌| 838/881 [21:31:04<24:35, 34.32s/it]"
     ]
    },
    {
     "name": "stdout",
     "output_type": "stream",
     "text": [
      "Success\n",
      "158.101.146.40:59394  Fetching  https://goodinfo.tw/tw/BasicInfo.asp?STOCK_ID=8488  timeout:  20\n",
      "retrying:  1\n",
      "158.101.146.40:59394  Fetching  https://goodinfo.tw/tw/BasicInfo.asp?STOCK_ID=8488  timeout:  25\n",
      "retrying:  2\n",
      "158.101.146.40:59394  Fetching  https://goodinfo.tw/tw/BasicInfo.asp?STOCK_ID=8488  timeout:  30\n",
      "retrying:  3\n",
      "200.105.215.18:33630  Fetching  https://goodinfo.tw/tw/BasicInfo.asp?STOCK_ID=8488  timeout:  20\n",
      "retrying:  1\n",
      "200.105.215.18:33630  Fetching  https://goodinfo.tw/tw/BasicInfo.asp?STOCK_ID=8488  timeout:  25\n",
      "retrying:  2\n",
      "200.105.215.18:33630  Fetching  https://goodinfo.tw/tw/BasicInfo.asp?STOCK_ID=8488  timeout:  30\n",
      "retrying:  3\n",
      "200.105.215.18:33630  Fetching  https://goodinfo.tw/tw/BasicInfo.asp?STOCK_ID=8488  timeout:  20\n",
      "retrying:  1\n",
      "200.105.215.18:33630  Fetching  https://goodinfo.tw/tw/BasicInfo.asp?STOCK_ID=8488  timeout:  25\n",
      "retrying:  2\n",
      "200.105.215.18:33630  Fetching  https://goodinfo.tw/tw/BasicInfo.asp?STOCK_ID=8488  timeout:  30\n",
      "retrying:  3\n",
      "47.242.168.144:59394  Fetching  https://goodinfo.tw/tw/BasicInfo.asp?STOCK_ID=8488  timeout:  20\n",
      "retrying:  1\n",
      "47.242.168.144:59394  Fetching  https://goodinfo.tw/tw/BasicInfo.asp?STOCK_ID=8488  timeout:  25\n",
      "retrying:  2\n",
      "47.242.168.144:59394  Fetching  https://goodinfo.tw/tw/BasicInfo.asp?STOCK_ID=8488  timeout:  30\n",
      "retrying:  3\n",
      "185.201.88.128:6969  Fetching  https://goodinfo.tw/tw/BasicInfo.asp?STOCK_ID=8488  timeout:  20\n",
      "retrying:  1\n",
      "185.201.88.128:6969  Fetching  https://goodinfo.tw/tw/BasicInfo.asp?STOCK_ID=8488  timeout:  25\n",
      "retrying:  2\n",
      "185.201.88.128:6969  Fetching  https://goodinfo.tw/tw/BasicInfo.asp?STOCK_ID=8488  timeout:  30\n"
     ]
    },
    {
     "name": "stderr",
     "output_type": "stream",
     "text": [
      " 95%|█████████▌| 839/881 [21:35:36<1:13:56, 105.62s/it]"
     ]
    },
    {
     "name": "stdout",
     "output_type": "stream",
     "text": [
      "Success\n",
      "155.0.181.254:43496  Fetching  https://goodinfo.tw/tw/BasicInfo.asp?STOCK_ID=8499  timeout:  20\n",
      "retrying:  1\n",
      "155.0.181.254:43496  Fetching  https://goodinfo.tw/tw/BasicInfo.asp?STOCK_ID=8499  timeout:  25\n",
      "retrying:  2\n",
      "155.0.181.254:43496  Fetching  https://goodinfo.tw/tw/BasicInfo.asp?STOCK_ID=8499  timeout:  30\n"
     ]
    },
    {
     "name": "stderr",
     "output_type": "stream",
     "text": [
      " 95%|█████████▌| 840/881 [21:36:36<1:02:45, 91.84s/it] "
     ]
    },
    {
     "name": "stdout",
     "output_type": "stream",
     "text": [
      "Success\n",
      "158.101.146.40:59394  Fetching  https://goodinfo.tw/tw/BasicInfo.asp?STOCK_ID=8926  timeout:  20\n",
      "retrying:  1\n",
      "158.101.146.40:59394  Fetching  https://goodinfo.tw/tw/BasicInfo.asp?STOCK_ID=8926  timeout:  25\n",
      "retrying:  2\n",
      "158.101.146.40:59394  Fetching  https://goodinfo.tw/tw/BasicInfo.asp?STOCK_ID=8926  timeout:  30\n",
      "retrying:  3\n",
      "155.0.181.254:43496  Fetching  https://goodinfo.tw/tw/BasicInfo.asp?STOCK_ID=8926  timeout:  20\n"
     ]
    },
    {
     "name": "stderr",
     "output_type": "stream",
     "text": [
      " 95%|█████████▌| 841/881 [21:36:48<45:22, 68.06s/it]  "
     ]
    },
    {
     "name": "stdout",
     "output_type": "stream",
     "text": [
      "Success\n",
      "47.242.168.144:59394  Fetching  https://goodinfo.tw/tw/BasicInfo.asp?STOCK_ID=8940  timeout:  20\n",
      "retrying:  1\n",
      "47.242.168.144:59394  Fetching  https://goodinfo.tw/tw/BasicInfo.asp?STOCK_ID=8940  timeout:  25\n",
      "retrying:  2\n",
      "47.242.168.144:59394  Fetching  https://goodinfo.tw/tw/BasicInfo.asp?STOCK_ID=8940  timeout:  30\n",
      "retrying:  3\n",
      "200.105.215.18:33630  Fetching  https://goodinfo.tw/tw/BasicInfo.asp?STOCK_ID=8940  timeout:  20\n",
      "retrying:  1\n",
      "200.105.215.18:33630  Fetching  https://goodinfo.tw/tw/BasicInfo.asp?STOCK_ID=8940  timeout:  25\n"
     ]
    },
    {
     "name": "stderr",
     "output_type": "stream",
     "text": [
      " 96%|█████████▌| 842/881 [21:38:44<53:35, 82.45s/it]"
     ]
    },
    {
     "name": "stdout",
     "output_type": "stream",
     "text": [
      "Success\n",
      "158.101.146.40:59394  Fetching  https://goodinfo.tw/tw/BasicInfo.asp?STOCK_ID=8996  timeout:  20\n",
      "retrying:  1\n",
      "158.101.146.40:59394  Fetching  https://goodinfo.tw/tw/BasicInfo.asp?STOCK_ID=8996  timeout:  25\n",
      "retrying:  2\n",
      "158.101.146.40:59394  Fetching  https://goodinfo.tw/tw/BasicInfo.asp?STOCK_ID=8996  timeout:  30\n",
      "retrying:  3\n",
      "185.201.88.128:6969  Fetching  https://goodinfo.tw/tw/BasicInfo.asp?STOCK_ID=8996  timeout:  20\n",
      "retrying:  1\n",
      "185.201.88.128:6969  Fetching  https://goodinfo.tw/tw/BasicInfo.asp?STOCK_ID=8996  timeout:  25\n",
      "retrying:  2\n",
      "185.201.88.128:6969  Fetching  https://goodinfo.tw/tw/BasicInfo.asp?STOCK_ID=8996  timeout:  30\n",
      "retrying:  3\n",
      "47.242.168.144:59394  Fetching  https://goodinfo.tw/tw/BasicInfo.asp?STOCK_ID=8996  timeout:  20\n",
      "retrying:  1\n",
      "47.242.168.144:59394  Fetching  https://goodinfo.tw/tw/BasicInfo.asp?STOCK_ID=8996  timeout:  25\n",
      "retrying:  2\n",
      "47.242.168.144:59394  Fetching  https://goodinfo.tw/tw/BasicInfo.asp?STOCK_ID=8996  timeout:  30\n",
      "retrying:  3\n",
      "185.201.88.128:6969  Fetching  https://goodinfo.tw/tw/BasicInfo.asp?STOCK_ID=8996  timeout:  20\n"
     ]
    },
    {
     "name": "stderr",
     "output_type": "stream",
     "text": [
      " 96%|█████████▌| 843/881 [21:41:30<1:08:08, 107.59s/it]"
     ]
    },
    {
     "name": "stdout",
     "output_type": "stream",
     "text": [
      "Success\n",
      "185.201.88.128:6969  Fetching  https://goodinfo.tw/tw/BasicInfo.asp?STOCK_ID=9802  timeout:  20\n",
      "retrying:  1\n",
      "185.201.88.128:6969  Fetching  https://goodinfo.tw/tw/BasicInfo.asp?STOCK_ID=9802  timeout:  25\n"
     ]
    },
    {
     "name": "stderr",
     "output_type": "stream",
     "text": [
      " 96%|█████████▌| 844/881 [21:41:58<51:31, 83.55s/it]   "
     ]
    },
    {
     "name": "stdout",
     "output_type": "stream",
     "text": [
      "Success\n",
      "47.242.168.144:59394  Fetching  https://goodinfo.tw/tw/BasicInfo.asp?STOCK_ID=9902  timeout:  20\n",
      "retrying:  1\n",
      "47.242.168.144:59394  Fetching  https://goodinfo.tw/tw/BasicInfo.asp?STOCK_ID=9902  timeout:  25\n",
      "retrying:  2\n",
      "47.242.168.144:59394  Fetching  https://goodinfo.tw/tw/BasicInfo.asp?STOCK_ID=9902  timeout:  30\n",
      "retrying:  3\n",
      "158.101.146.40:59394  Fetching  https://goodinfo.tw/tw/BasicInfo.asp?STOCK_ID=9902  timeout:  20\n",
      "retrying:  1\n",
      "158.101.146.40:59394  Fetching  https://goodinfo.tw/tw/BasicInfo.asp?STOCK_ID=9902  timeout:  25\n",
      "retrying:  2\n",
      "158.101.146.40:59394  Fetching  https://goodinfo.tw/tw/BasicInfo.asp?STOCK_ID=9902  timeout:  30\n",
      "retrying:  3\n",
      "47.242.168.144:59394  Fetching  https://goodinfo.tw/tw/BasicInfo.asp?STOCK_ID=9902  timeout:  20\n",
      "retrying:  1\n",
      "47.242.168.144:59394  Fetching  https://goodinfo.tw/tw/BasicInfo.asp?STOCK_ID=9902  timeout:  25\n",
      "retrying:  2\n",
      "47.242.168.144:59394  Fetching  https://goodinfo.tw/tw/BasicInfo.asp?STOCK_ID=9902  timeout:  30\n",
      "retrying:  3\n",
      "185.201.88.128:6969  Fetching  https://goodinfo.tw/tw/BasicInfo.asp?STOCK_ID=9902  timeout:  20\n",
      "retrying:  1\n",
      "185.201.88.128:6969  Fetching  https://goodinfo.tw/tw/BasicInfo.asp?STOCK_ID=9902  timeout:  25\n",
      "retrying:  2\n",
      "185.201.88.128:6969  Fetching  https://goodinfo.tw/tw/BasicInfo.asp?STOCK_ID=9902  timeout:  30\n"
     ]
    },
    {
     "name": "stderr",
     "output_type": "stream",
     "text": [
      " 96%|█████████▌| 845/881 [21:45:22<1:11:45, 119.61s/it]"
     ]
    },
    {
     "name": "stdout",
     "output_type": "stream",
     "text": [
      "Success\n",
      "47.242.168.144:59394  Fetching  https://goodinfo.tw/tw/BasicInfo.asp?STOCK_ID=9904  timeout:  20\n",
      "retrying:  1\n",
      "47.242.168.144:59394  Fetching  https://goodinfo.tw/tw/BasicInfo.asp?STOCK_ID=9904  timeout:  25\n",
      "retrying:  2\n",
      "47.242.168.144:59394  Fetching  https://goodinfo.tw/tw/BasicInfo.asp?STOCK_ID=9904  timeout:  30\n",
      "retrying:  3\n",
      "47.242.168.144:59394  Fetching  https://goodinfo.tw/tw/BasicInfo.asp?STOCK_ID=9904  timeout:  20\n",
      "retrying:  1\n",
      "47.242.168.144:59394  Fetching  https://goodinfo.tw/tw/BasicInfo.asp?STOCK_ID=9904  timeout:  25\n",
      "retrying:  2\n",
      "47.242.168.144:59394  Fetching  https://goodinfo.tw/tw/BasicInfo.asp?STOCK_ID=9904  timeout:  30\n",
      "retrying:  3\n",
      "158.101.146.40:59394  Fetching  https://goodinfo.tw/tw/BasicInfo.asp?STOCK_ID=9904  timeout:  20\n",
      "retrying:  1\n",
      "158.101.146.40:59394  Fetching  https://goodinfo.tw/tw/BasicInfo.asp?STOCK_ID=9904  timeout:  25\n",
      "retrying:  2\n",
      "158.101.146.40:59394  Fetching  https://goodinfo.tw/tw/BasicInfo.asp?STOCK_ID=9904  timeout:  30\n",
      "retrying:  3\n",
      "155.0.181.254:43496  Fetching  https://goodinfo.tw/tw/BasicInfo.asp?STOCK_ID=9904  timeout:  20\n",
      "retrying:  1\n",
      "155.0.181.254:43496  Fetching  https://goodinfo.tw/tw/BasicInfo.asp?STOCK_ID=9904  timeout:  25\n",
      "retrying:  2\n",
      "155.0.181.254:43496  Fetching  https://goodinfo.tw/tw/BasicInfo.asp?STOCK_ID=9904  timeout:  30\n",
      "retrying:  3\n",
      "158.101.146.40:59394  Fetching  https://goodinfo.tw/tw/BasicInfo.asp?STOCK_ID=9904  timeout:  20\n",
      "retrying:  1\n",
      "158.101.146.40:59394  Fetching  https://goodinfo.tw/tw/BasicInfo.asp?STOCK_ID=9904  timeout:  25\n",
      "retrying:  2\n",
      "158.101.146.40:59394  Fetching  https://goodinfo.tw/tw/BasicInfo.asp?STOCK_ID=9904  timeout:  30\n"
     ]
    },
    {
     "name": "stderr",
     "output_type": "stream",
     "text": [
      " 96%|█████████▌| 846/881 [21:49:08<1:28:29, 151.69s/it]"
     ]
    },
    {
     "name": "stdout",
     "output_type": "stream",
     "text": [
      "retrying:  3\n",
      "47.242.168.144:59394  Fetching  https://goodinfo.tw/tw/BasicInfo.asp?STOCK_ID=9905  timeout:  20\n",
      "retrying:  1\n",
      "47.242.168.144:59394  Fetching  https://goodinfo.tw/tw/BasicInfo.asp?STOCK_ID=9905  timeout:  25\n",
      "retrying:  2\n",
      "47.242.168.144:59394  Fetching  https://goodinfo.tw/tw/BasicInfo.asp?STOCK_ID=9905  timeout:  30\n",
      "retrying:  3\n",
      "185.201.88.128:6969  Fetching  https://goodinfo.tw/tw/BasicInfo.asp?STOCK_ID=9905  timeout:  20\n",
      "retrying:  1\n",
      "185.201.88.128:6969  Fetching  https://goodinfo.tw/tw/BasicInfo.asp?STOCK_ID=9905  timeout:  25\n",
      "retrying:  2\n",
      "185.201.88.128:6969  Fetching  https://goodinfo.tw/tw/BasicInfo.asp?STOCK_ID=9905  timeout:  30\n"
     ]
    },
    {
     "name": "stderr",
     "output_type": "stream",
     "text": [
      " 96%|█████████▌| 847/881 [21:51:25<1:23:26, 147.26s/it]"
     ]
    },
    {
     "name": "stdout",
     "output_type": "stream",
     "text": [
      "Success\n",
      "200.105.215.18:33630  Fetching  https://goodinfo.tw/tw/BasicInfo.asp?STOCK_ID=9906  timeout:  20\n"
     ]
    },
    {
     "name": "stderr",
     "output_type": "stream",
     "text": [
      " 96%|█████████▋| 848/881 [21:51:31<57:39, 104.84s/it]  "
     ]
    },
    {
     "name": "stdout",
     "output_type": "stream",
     "text": [
      "Success\n",
      "155.0.181.254:43496  Fetching  https://goodinfo.tw/tw/BasicInfo.asp?STOCK_ID=9907  timeout:  20\n",
      "retrying:  1\n",
      "155.0.181.254:43496  Fetching  https://goodinfo.tw/tw/BasicInfo.asp?STOCK_ID=9907  timeout:  25\n",
      "retrying:  2\n",
      "155.0.181.254:43496  Fetching  https://goodinfo.tw/tw/BasicInfo.asp?STOCK_ID=9907  timeout:  30\n"
     ]
    },
    {
     "name": "stderr",
     "output_type": "stream",
     "text": [
      " 96%|█████████▋| 849/881 [21:52:44<50:48, 95.27s/it] "
     ]
    },
    {
     "name": "stdout",
     "output_type": "stream",
     "text": [
      "Success\n",
      "200.105.215.18:33630  Fetching  https://goodinfo.tw/tw/BasicInfo.asp?STOCK_ID=9908  timeout:  20\n",
      "retrying:  1\n",
      "200.105.215.18:33630  Fetching  https://goodinfo.tw/tw/BasicInfo.asp?STOCK_ID=9908  timeout:  25\n",
      "retrying:  2\n",
      "200.105.215.18:33630  Fetching  https://goodinfo.tw/tw/BasicInfo.asp?STOCK_ID=9908  timeout:  30\n"
     ]
    },
    {
     "name": "stderr",
     "output_type": "stream",
     "text": [
      " 96%|█████████▋| 850/881 [21:53:34<42:14, 81.77s/it]"
     ]
    },
    {
     "name": "stdout",
     "output_type": "stream",
     "text": [
      "Success\n",
      "158.101.146.40:59394  Fetching  https://goodinfo.tw/tw/BasicInfo.asp?STOCK_ID=9910  timeout:  20\n",
      "retrying:  1\n",
      "158.101.146.40:59394  Fetching  https://goodinfo.tw/tw/BasicInfo.asp?STOCK_ID=9910  timeout:  25\n",
      "retrying:  2\n",
      "158.101.146.40:59394  Fetching  https://goodinfo.tw/tw/BasicInfo.asp?STOCK_ID=9910  timeout:  30\n",
      "retrying:  3\n",
      "200.105.215.18:33630  Fetching  https://goodinfo.tw/tw/BasicInfo.asp?STOCK_ID=9910  timeout:  20\n"
     ]
    },
    {
     "name": "stderr",
     "output_type": "stream",
     "text": [
      " 97%|█████████▋| 851/881 [21:53:41<29:34, 59.16s/it]"
     ]
    },
    {
     "name": "stdout",
     "output_type": "stream",
     "text": [
      "Success\n",
      "185.201.88.128:6969  Fetching  https://goodinfo.tw/tw/BasicInfo.asp?STOCK_ID=9911  timeout:  20\n"
     ]
    },
    {
     "name": "stderr",
     "output_type": "stream",
     "text": [
      " 97%|█████████▋| 852/881 [21:54:00<22:49, 47.22s/it]"
     ]
    },
    {
     "name": "stdout",
     "output_type": "stream",
     "text": [
      "Success\n",
      "47.242.168.144:59394  Fetching  https://goodinfo.tw/tw/BasicInfo.asp?STOCK_ID=9912  timeout:  20\n",
      "retrying:  1\n",
      "47.242.168.144:59394  Fetching  https://goodinfo.tw/tw/BasicInfo.asp?STOCK_ID=9912  timeout:  25\n",
      "retrying:  2\n",
      "47.242.168.144:59394  Fetching  https://goodinfo.tw/tw/BasicInfo.asp?STOCK_ID=9912  timeout:  30\n",
      "retrying:  3\n",
      "185.201.88.128:6969  Fetching  https://goodinfo.tw/tw/BasicInfo.asp?STOCK_ID=9912  timeout:  20\n",
      "retrying:  1\n",
      "185.201.88.128:6969  Fetching  https://goodinfo.tw/tw/BasicInfo.asp?STOCK_ID=9912  timeout:  25\n",
      "retrying:  2\n",
      "185.201.88.128:6969  Fetching  https://goodinfo.tw/tw/BasicInfo.asp?STOCK_ID=9912  timeout:  30\n",
      "retrying:  3\n",
      "200.105.215.18:33630  Fetching  https://goodinfo.tw/tw/BasicInfo.asp?STOCK_ID=9912  timeout:  20\n",
      "retrying:  1\n",
      "200.105.215.18:33630  Fetching  https://goodinfo.tw/tw/BasicInfo.asp?STOCK_ID=9912  timeout:  25\n"
     ]
    },
    {
     "name": "stderr",
     "output_type": "stream",
     "text": [
      " 97%|█████████▋| 853/881 [21:57:02<40:52, 87.59s/it]"
     ]
    },
    {
     "name": "stdout",
     "output_type": "stream",
     "text": [
      "Success\n",
      "185.201.88.128:6969  Fetching  https://goodinfo.tw/tw/BasicInfo.asp?STOCK_ID=9914  timeout:  20\n",
      "retrying:  1\n",
      "185.201.88.128:6969  Fetching  https://goodinfo.tw/tw/BasicInfo.asp?STOCK_ID=9914  timeout:  25\n"
     ]
    },
    {
     "name": "stderr",
     "output_type": "stream",
     "text": [
      " 97%|█████████▋| 854/881 [21:57:43<33:07, 73.59s/it]"
     ]
    },
    {
     "name": "stdout",
     "output_type": "stream",
     "text": [
      "Success\n",
      "47.242.168.144:59394  Fetching  https://goodinfo.tw/tw/BasicInfo.asp?STOCK_ID=9917  timeout:  20\n",
      "retrying:  1\n",
      "47.242.168.144:59394  Fetching  https://goodinfo.tw/tw/BasicInfo.asp?STOCK_ID=9917  timeout:  25\n",
      "retrying:  2\n",
      "47.242.168.144:59394  Fetching  https://goodinfo.tw/tw/BasicInfo.asp?STOCK_ID=9917  timeout:  30\n",
      "retrying:  3\n",
      "200.105.215.18:33630  Fetching  https://goodinfo.tw/tw/BasicInfo.asp?STOCK_ID=9917  timeout:  20\n",
      "retrying:  1\n",
      "200.105.215.18:33630  Fetching  https://goodinfo.tw/tw/BasicInfo.asp?STOCK_ID=9917  timeout:  25\n"
     ]
    },
    {
     "name": "stderr",
     "output_type": "stream",
     "text": [
      " 97%|█████████▋| 855/881 [21:59:40<37:32, 86.65s/it]"
     ]
    },
    {
     "name": "stdout",
     "output_type": "stream",
     "text": [
      "Success\n",
      "200.105.215.18:33630  Fetching  https://goodinfo.tw/tw/BasicInfo.asp?STOCK_ID=9918  timeout:  20\n",
      "retrying:  1\n",
      "200.105.215.18:33630  Fetching  https://goodinfo.tw/tw/BasicInfo.asp?STOCK_ID=9918  timeout:  25\n"
     ]
    },
    {
     "name": "stderr",
     "output_type": "stream",
     "text": [
      " 97%|█████████▋| 856/881 [22:00:14<29:35, 71.03s/it]"
     ]
    },
    {
     "name": "stdout",
     "output_type": "stream",
     "text": [
      "Success\n",
      "155.0.181.254:43496  Fetching  https://goodinfo.tw/tw/BasicInfo.asp?STOCK_ID=9919  timeout:  20\n",
      "retrying:  1\n",
      "155.0.181.254:43496  Fetching  https://goodinfo.tw/tw/BasicInfo.asp?STOCK_ID=9919  timeout:  25\n",
      "retrying:  2\n",
      "155.0.181.254:43496  Fetching  https://goodinfo.tw/tw/BasicInfo.asp?STOCK_ID=9919  timeout:  30\n"
     ]
    },
    {
     "name": "stderr",
     "output_type": "stream",
     "text": [
      " 97%|█████████▋| 857/881 [22:01:24<28:15, 70.66s/it]"
     ]
    },
    {
     "name": "stdout",
     "output_type": "stream",
     "text": [
      "Success\n",
      "47.242.168.144:59394  Fetching  https://goodinfo.tw/tw/BasicInfo.asp?STOCK_ID=9921  timeout:  20\n",
      "retrying:  1\n",
      "47.242.168.144:59394  Fetching  https://goodinfo.tw/tw/BasicInfo.asp?STOCK_ID=9921  timeout:  25\n",
      "retrying:  2\n",
      "47.242.168.144:59394  Fetching  https://goodinfo.tw/tw/BasicInfo.asp?STOCK_ID=9921  timeout:  30\n",
      "retrying:  3\n",
      "47.242.168.144:59394  Fetching  https://goodinfo.tw/tw/BasicInfo.asp?STOCK_ID=9921  timeout:  20\n",
      "retrying:  1\n",
      "47.242.168.144:59394  Fetching  https://goodinfo.tw/tw/BasicInfo.asp?STOCK_ID=9921  timeout:  25\n",
      "retrying:  2\n",
      "47.242.168.144:59394  Fetching  https://goodinfo.tw/tw/BasicInfo.asp?STOCK_ID=9921  timeout:  30\n",
      "retrying:  3\n",
      "158.101.146.40:59394  Fetching  https://goodinfo.tw/tw/BasicInfo.asp?STOCK_ID=9921  timeout:  20\n",
      "retrying:  1\n",
      "158.101.146.40:59394  Fetching  https://goodinfo.tw/tw/BasicInfo.asp?STOCK_ID=9921  timeout:  25\n",
      "retrying:  2\n",
      "158.101.146.40:59394  Fetching  https://goodinfo.tw/tw/BasicInfo.asp?STOCK_ID=9921  timeout:  30\n",
      "retrying:  3\n",
      "200.105.215.18:33630  Fetching  https://goodinfo.tw/tw/BasicInfo.asp?STOCK_ID=9921  timeout:  20\n"
     ]
    },
    {
     "name": "stderr",
     "output_type": "stream",
     "text": [
      " 97%|█████████▋| 858/881 [22:04:14<38:31, 100.49s/it]"
     ]
    },
    {
     "name": "stdout",
     "output_type": "stream",
     "text": [
      "Success\n",
      "158.101.146.40:59394  Fetching  https://goodinfo.tw/tw/BasicInfo.asp?STOCK_ID=9924  timeout:  20\n",
      "retrying:  1\n",
      "158.101.146.40:59394  Fetching  https://goodinfo.tw/tw/BasicInfo.asp?STOCK_ID=9924  timeout:  25\n",
      "retrying:  2\n",
      "158.101.146.40:59394  Fetching  https://goodinfo.tw/tw/BasicInfo.asp?STOCK_ID=9924  timeout:  30\n",
      "retrying:  3\n",
      "158.101.146.40:59394  Fetching  https://goodinfo.tw/tw/BasicInfo.asp?STOCK_ID=9924  timeout:  20\n",
      "retrying:  1\n",
      "158.101.146.40:59394  Fetching  https://goodinfo.tw/tw/BasicInfo.asp?STOCK_ID=9924  timeout:  25\n",
      "retrying:  2\n",
      "158.101.146.40:59394  Fetching  https://goodinfo.tw/tw/BasicInfo.asp?STOCK_ID=9924  timeout:  30\n",
      "retrying:  3\n",
      "158.101.146.40:59394  Fetching  https://goodinfo.tw/tw/BasicInfo.asp?STOCK_ID=9924  timeout:  20\n",
      "retrying:  1\n",
      "158.101.146.40:59394  Fetching  https://goodinfo.tw/tw/BasicInfo.asp?STOCK_ID=9924  timeout:  25\n",
      "retrying:  2\n",
      "158.101.146.40:59394  Fetching  https://goodinfo.tw/tw/BasicInfo.asp?STOCK_ID=9924  timeout:  30\n",
      "retrying:  3\n",
      "185.201.88.128:6969  Fetching  https://goodinfo.tw/tw/BasicInfo.asp?STOCK_ID=9924  timeout:  20\n"
     ]
    },
    {
     "name": "stderr",
     "output_type": "stream",
     "text": [
      " 98%|█████████▊| 859/881 [22:04:22<26:35, 72.53s/it] "
     ]
    },
    {
     "name": "stdout",
     "output_type": "stream",
     "text": [
      "Success\n",
      "47.242.168.144:59394  Fetching  https://goodinfo.tw/tw/BasicInfo.asp?STOCK_ID=9925  timeout:  20\n",
      "retrying:  1\n",
      "47.242.168.144:59394  Fetching  https://goodinfo.tw/tw/BasicInfo.asp?STOCK_ID=9925  timeout:  25\n",
      "retrying:  2\n",
      "47.242.168.144:59394  Fetching  https://goodinfo.tw/tw/BasicInfo.asp?STOCK_ID=9925  timeout:  30\n",
      "retrying:  3\n",
      "200.105.215.18:33630  Fetching  https://goodinfo.tw/tw/BasicInfo.asp?STOCK_ID=9925  timeout:  20\n",
      "retrying:  1\n",
      "200.105.215.18:33630  Fetching  https://goodinfo.tw/tw/BasicInfo.asp?STOCK_ID=9925  timeout:  25\n",
      "retrying:  2\n",
      "200.105.215.18:33630  Fetching  https://goodinfo.tw/tw/BasicInfo.asp?STOCK_ID=9925  timeout:  30\n",
      "retrying:  3\n",
      "200.105.215.18:33630  Fetching  https://goodinfo.tw/tw/BasicInfo.asp?STOCK_ID=9925  timeout:  20\n",
      "retrying:  1\n",
      "200.105.215.18:33630  Fetching  https://goodinfo.tw/tw/BasicInfo.asp?STOCK_ID=9925  timeout:  25\n"
     ]
    },
    {
     "name": "stderr",
     "output_type": "stream",
     "text": [
      " 98%|█████████▊| 860/881 [22:07:08<35:13, 100.65s/it]"
     ]
    },
    {
     "name": "stdout",
     "output_type": "stream",
     "text": [
      "Success\n",
      "185.201.88.128:6969  Fetching  https://goodinfo.tw/tw/BasicInfo.asp?STOCK_ID=9926  timeout:  20\n",
      "retrying:  1\n",
      "185.201.88.128:6969  Fetching  https://goodinfo.tw/tw/BasicInfo.asp?STOCK_ID=9926  timeout:  25\n"
     ]
    },
    {
     "name": "stderr",
     "output_type": "stream",
     "text": [
      " 98%|█████████▊| 861/881 [22:08:04<29:04, 87.22s/it] "
     ]
    },
    {
     "name": "stdout",
     "output_type": "stream",
     "text": [
      "Success\n",
      "158.101.146.40:59394  Fetching  https://goodinfo.tw/tw/BasicInfo.asp?STOCK_ID=9927  timeout:  20\n",
      "retrying:  1\n",
      "158.101.146.40:59394  Fetching  https://goodinfo.tw/tw/BasicInfo.asp?STOCK_ID=9927  timeout:  25\n",
      "retrying:  2\n",
      "158.101.146.40:59394  Fetching  https://goodinfo.tw/tw/BasicInfo.asp?STOCK_ID=9927  timeout:  30\n",
      "retrying:  3\n",
      "47.242.168.144:59394  Fetching  https://goodinfo.tw/tw/BasicInfo.asp?STOCK_ID=9927  timeout:  20\n",
      "retrying:  1\n",
      "47.242.168.144:59394  Fetching  https://goodinfo.tw/tw/BasicInfo.asp?STOCK_ID=9927  timeout:  25\n",
      "retrying:  2\n",
      "47.242.168.144:59394  Fetching  https://goodinfo.tw/tw/BasicInfo.asp?STOCK_ID=9927  timeout:  30\n",
      "retrying:  3\n",
      "155.0.181.254:43496  Fetching  https://goodinfo.tw/tw/BasicInfo.asp?STOCK_ID=9927  timeout:  20\n",
      "retrying:  1\n",
      "155.0.181.254:43496  Fetching  https://goodinfo.tw/tw/BasicInfo.asp?STOCK_ID=9927  timeout:  25\n",
      "retrying:  2\n",
      "155.0.181.254:43496  Fetching  https://goodinfo.tw/tw/BasicInfo.asp?STOCK_ID=9927  timeout:  30\n",
      "retrying:  3\n",
      "185.201.88.128:6969  Fetching  https://goodinfo.tw/tw/BasicInfo.asp?STOCK_ID=9927  timeout:  20\n"
     ]
    },
    {
     "name": "stderr",
     "output_type": "stream",
     "text": [
      " 98%|█████████▊| 862/881 [22:10:43<34:27, 108.79s/it]"
     ]
    },
    {
     "name": "stdout",
     "output_type": "stream",
     "text": [
      "Success\n",
      "155.0.181.254:43496  Fetching  https://goodinfo.tw/tw/BasicInfo.asp?STOCK_ID=9928  timeout:  20\n",
      "retrying:  1\n",
      "155.0.181.254:43496  Fetching  https://goodinfo.tw/tw/BasicInfo.asp?STOCK_ID=9928  timeout:  25\n"
     ]
    },
    {
     "name": "stderr",
     "output_type": "stream",
     "text": [
      " 98%|█████████▊| 863/881 [22:11:23<26:26, 88.14s/it] "
     ]
    },
    {
     "name": "stdout",
     "output_type": "stream",
     "text": [
      "Success\n",
      "185.201.88.128:6969  Fetching  https://goodinfo.tw/tw/BasicInfo.asp?STOCK_ID=9929  timeout:  20\n"
     ]
    },
    {
     "name": "stderr",
     "output_type": "stream",
     "text": [
      " 98%|█████████▊| 864/881 [22:11:32<18:16, 64.50s/it]"
     ]
    },
    {
     "name": "stdout",
     "output_type": "stream",
     "text": [
      "Success\n",
      "47.242.168.144:59394  Fetching  https://goodinfo.tw/tw/BasicInfo.asp?STOCK_ID=9930  timeout:  20\n",
      "retrying:  1\n",
      "47.242.168.144:59394  Fetching  https://goodinfo.tw/tw/BasicInfo.asp?STOCK_ID=9930  timeout:  25\n",
      "retrying:  2\n",
      "47.242.168.144:59394  Fetching  https://goodinfo.tw/tw/BasicInfo.asp?STOCK_ID=9930  timeout:  30\n",
      "retrying:  3\n",
      "47.242.168.144:59394  Fetching  https://goodinfo.tw/tw/BasicInfo.asp?STOCK_ID=9930  timeout:  20\n",
      "retrying:  1\n",
      "47.242.168.144:59394  Fetching  https://goodinfo.tw/tw/BasicInfo.asp?STOCK_ID=9930  timeout:  25\n",
      "retrying:  2\n",
      "47.242.168.144:59394  Fetching  https://goodinfo.tw/tw/BasicInfo.asp?STOCK_ID=9930  timeout:  30\n",
      "retrying:  3\n",
      "185.201.88.128:6969  Fetching  https://goodinfo.tw/tw/BasicInfo.asp?STOCK_ID=9930  timeout:  20\n"
     ]
    },
    {
     "name": "stderr",
     "output_type": "stream",
     "text": [
      " 98%|█████████▊| 865/881 [22:14:25<25:51, 96.96s/it]"
     ]
    },
    {
     "name": "stdout",
     "output_type": "stream",
     "text": [
      "Success\n",
      "200.105.215.18:33630  Fetching  https://goodinfo.tw/tw/BasicInfo.asp?STOCK_ID=9931  timeout:  20\n",
      "retrying:  1\n",
      "200.105.215.18:33630  Fetching  https://goodinfo.tw/tw/BasicInfo.asp?STOCK_ID=9931  timeout:  25\n",
      "retrying:  2\n",
      "200.105.215.18:33630  Fetching  https://goodinfo.tw/tw/BasicInfo.asp?STOCK_ID=9931  timeout:  30\n",
      "retrying:  3\n",
      "158.101.146.40:59394  Fetching  https://goodinfo.tw/tw/BasicInfo.asp?STOCK_ID=9931  timeout:  20\n",
      "retrying:  1\n",
      "158.101.146.40:59394  Fetching  https://goodinfo.tw/tw/BasicInfo.asp?STOCK_ID=9931  timeout:  25\n",
      "retrying:  2\n",
      "158.101.146.40:59394  Fetching  https://goodinfo.tw/tw/BasicInfo.asp?STOCK_ID=9931  timeout:  30\n",
      "retrying:  3\n",
      "155.0.181.254:43496  Fetching  https://goodinfo.tw/tw/BasicInfo.asp?STOCK_ID=9931  timeout:  20\n",
      "retrying:  1\n",
      "155.0.181.254:43496  Fetching  https://goodinfo.tw/tw/BasicInfo.asp?STOCK_ID=9931  timeout:  25\n",
      "retrying:  2\n",
      "155.0.181.254:43496  Fetching  https://goodinfo.tw/tw/BasicInfo.asp?STOCK_ID=9931  timeout:  30\n"
     ]
    },
    {
     "name": "stderr",
     "output_type": "stream",
     "text": [
      " 98%|█████████▊| 866/881 [22:16:25<25:56, 103.79s/it]"
     ]
    },
    {
     "name": "stdout",
     "output_type": "stream",
     "text": [
      "Success\n",
      "47.242.168.144:59394  Fetching  https://goodinfo.tw/tw/BasicInfo.asp?STOCK_ID=9933  timeout:  20\n",
      "retrying:  1\n",
      "47.242.168.144:59394  Fetching  https://goodinfo.tw/tw/BasicInfo.asp?STOCK_ID=9933  timeout:  25\n",
      "retrying:  2\n",
      "47.242.168.144:59394  Fetching  https://goodinfo.tw/tw/BasicInfo.asp?STOCK_ID=9933  timeout:  30\n",
      "retrying:  3\n",
      "47.242.168.144:59394  Fetching  https://goodinfo.tw/tw/BasicInfo.asp?STOCK_ID=9933  timeout:  20\n",
      "retrying:  1\n",
      "47.242.168.144:59394  Fetching  https://goodinfo.tw/tw/BasicInfo.asp?STOCK_ID=9933  timeout:  25\n",
      "retrying:  2\n",
      "47.242.168.144:59394  Fetching  https://goodinfo.tw/tw/BasicInfo.asp?STOCK_ID=9933  timeout:  30\n",
      "retrying:  3\n",
      "200.105.215.18:33630  Fetching  https://goodinfo.tw/tw/BasicInfo.asp?STOCK_ID=9933  timeout:  20\n",
      "retrying:  1\n",
      "200.105.215.18:33630  Fetching  https://goodinfo.tw/tw/BasicInfo.asp?STOCK_ID=9933  timeout:  25\n"
     ]
    },
    {
     "name": "stderr",
     "output_type": "stream",
     "text": [
      " 98%|█████████▊| 867/881 [22:19:30<29:54, 128.14s/it]"
     ]
    },
    {
     "name": "stdout",
     "output_type": "stream",
     "text": [
      "Success\n",
      "155.0.181.254:43496  Fetching  https://goodinfo.tw/tw/BasicInfo.asp?STOCK_ID=9934  timeout:  20\n",
      "retrying:  1\n",
      "155.0.181.254:43496  Fetching  https://goodinfo.tw/tw/BasicInfo.asp?STOCK_ID=9934  timeout:  25\n",
      "retrying:  2\n",
      "155.0.181.254:43496  Fetching  https://goodinfo.tw/tw/BasicInfo.asp?STOCK_ID=9934  timeout:  30\n"
     ]
    },
    {
     "name": "stderr",
     "output_type": "stream",
     "text": [
      " 99%|█████████▊| 868/881 [22:20:31<23:24, 108.07s/it]"
     ]
    },
    {
     "name": "stdout",
     "output_type": "stream",
     "text": [
      "Success\n",
      "155.0.181.254:43496  Fetching  https://goodinfo.tw/tw/BasicInfo.asp?STOCK_ID=9935  timeout:  20\n",
      "retrying:  1\n",
      "155.0.181.254:43496  Fetching  https://goodinfo.tw/tw/BasicInfo.asp?STOCK_ID=9935  timeout:  25\n",
      "retrying:  2\n",
      "155.0.181.254:43496  Fetching  https://goodinfo.tw/tw/BasicInfo.asp?STOCK_ID=9935  timeout:  30\n",
      "retrying:  3\n",
      "47.242.168.144:59394  Fetching  https://goodinfo.tw/tw/BasicInfo.asp?STOCK_ID=9935  timeout:  20\n",
      "retrying:  1\n",
      "47.242.168.144:59394  Fetching  https://goodinfo.tw/tw/BasicInfo.asp?STOCK_ID=9935  timeout:  25\n",
      "retrying:  2\n",
      "47.242.168.144:59394  Fetching  https://goodinfo.tw/tw/BasicInfo.asp?STOCK_ID=9935  timeout:  30\n",
      "retrying:  3\n",
      "185.201.88.128:6969  Fetching  https://goodinfo.tw/tw/BasicInfo.asp?STOCK_ID=9935  timeout:  20\n"
     ]
    },
    {
     "name": "stderr",
     "output_type": "stream",
     "text": [
      " 99%|█████████▊| 869/881 [22:23:12<24:48, 124.04s/it]"
     ]
    },
    {
     "name": "stdout",
     "output_type": "stream",
     "text": [
      "Success\n",
      "155.0.181.254:43496  Fetching  https://goodinfo.tw/tw/BasicInfo.asp?STOCK_ID=9937  timeout:  20\n",
      "retrying:  1\n",
      "155.0.181.254:43496  Fetching  https://goodinfo.tw/tw/BasicInfo.asp?STOCK_ID=9937  timeout:  25\n",
      "retrying:  2\n",
      "155.0.181.254:43496  Fetching  https://goodinfo.tw/tw/BasicInfo.asp?STOCK_ID=9937  timeout:  30\n",
      "retrying:  3\n",
      "158.101.146.40:59394  Fetching  https://goodinfo.tw/tw/BasicInfo.asp?STOCK_ID=9937  timeout:  20\n",
      "retrying:  1\n",
      "158.101.146.40:59394  Fetching  https://goodinfo.tw/tw/BasicInfo.asp?STOCK_ID=9937  timeout:  25\n",
      "retrying:  2\n",
      "158.101.146.40:59394  Fetching  https://goodinfo.tw/tw/BasicInfo.asp?STOCK_ID=9937  timeout:  30\n",
      "retrying:  3\n",
      "47.242.168.144:59394  Fetching  https://goodinfo.tw/tw/BasicInfo.asp?STOCK_ID=9937  timeout:  20\n",
      "retrying:  1\n",
      "47.242.168.144:59394  Fetching  https://goodinfo.tw/tw/BasicInfo.asp?STOCK_ID=9937  timeout:  25\n",
      "retrying:  2\n",
      "47.242.168.144:59394  Fetching  https://goodinfo.tw/tw/BasicInfo.asp?STOCK_ID=9937  timeout:  30\n",
      "retrying:  3\n",
      "158.101.146.40:59394  Fetching  https://goodinfo.tw/tw/BasicInfo.asp?STOCK_ID=9937  timeout:  20\n",
      "retrying:  1\n",
      "158.101.146.40:59394  Fetching  https://goodinfo.tw/tw/BasicInfo.asp?STOCK_ID=9937  timeout:  25\n",
      "retrying:  2\n",
      "158.101.146.40:59394  Fetching  https://goodinfo.tw/tw/BasicInfo.asp?STOCK_ID=9937  timeout:  30\n",
      "retrying:  3\n",
      "155.0.181.254:43496  Fetching  https://goodinfo.tw/tw/BasicInfo.asp?STOCK_ID=9937  timeout:  20\n",
      "retrying:  1\n",
      "155.0.181.254:43496  Fetching  https://goodinfo.tw/tw/BasicInfo.asp?STOCK_ID=9937  timeout:  25\n"
     ]
    },
    {
     "name": "stderr",
     "output_type": "stream",
     "text": [
      " 99%|█████████▉| 870/881 [22:26:20<26:14, 143.16s/it]"
     ]
    },
    {
     "name": "stdout",
     "output_type": "stream",
     "text": [
      "Success\n",
      "185.201.88.128:6969  Fetching  https://goodinfo.tw/tw/BasicInfo.asp?STOCK_ID=9938  timeout:  20\n",
      "retrying:  1\n",
      "185.201.88.128:6969  Fetching  https://goodinfo.tw/tw/BasicInfo.asp?STOCK_ID=9938  timeout:  25\n"
     ]
    },
    {
     "name": "stderr",
     "output_type": "stream",
     "text": [
      " 99%|█████████▉| 871/881 [22:26:53<18:22, 110.26s/it]"
     ]
    },
    {
     "name": "stdout",
     "output_type": "stream",
     "text": [
      "Success\n",
      "47.242.168.144:59394  Fetching  https://goodinfo.tw/tw/BasicInfo.asp?STOCK_ID=9939  timeout:  20\n",
      "retrying:  1\n",
      "47.242.168.144:59394  Fetching  https://goodinfo.tw/tw/BasicInfo.asp?STOCK_ID=9939  timeout:  25\n",
      "retrying:  2\n",
      "47.242.168.144:59394  Fetching  https://goodinfo.tw/tw/BasicInfo.asp?STOCK_ID=9939  timeout:  30\n",
      "retrying:  3\n",
      "155.0.181.254:43496  Fetching  https://goodinfo.tw/tw/BasicInfo.asp?STOCK_ID=9939  timeout:  20\n",
      "retrying:  1\n",
      "155.0.181.254:43496  Fetching  https://goodinfo.tw/tw/BasicInfo.asp?STOCK_ID=9939  timeout:  25\n",
      "retrying:  2\n",
      "155.0.181.254:43496  Fetching  https://goodinfo.tw/tw/BasicInfo.asp?STOCK_ID=9939  timeout:  30\n",
      "retrying:  3\n",
      "47.242.168.144:59394  Fetching  https://goodinfo.tw/tw/BasicInfo.asp?STOCK_ID=9939  timeout:  20\n",
      "retrying:  1\n",
      "47.242.168.144:59394  Fetching  https://goodinfo.tw/tw/BasicInfo.asp?STOCK_ID=9939  timeout:  25\n",
      "retrying:  2\n",
      "47.242.168.144:59394  Fetching  https://goodinfo.tw/tw/BasicInfo.asp?STOCK_ID=9939  timeout:  30\n",
      "retrying:  3\n",
      "200.105.215.18:33630  Fetching  https://goodinfo.tw/tw/BasicInfo.asp?STOCK_ID=9939  timeout:  20\n",
      "retrying:  1\n",
      "200.105.215.18:33630  Fetching  https://goodinfo.tw/tw/BasicInfo.asp?STOCK_ID=9939  timeout:  25\n",
      "retrying:  2\n",
      "200.105.215.18:33630  Fetching  https://goodinfo.tw/tw/BasicInfo.asp?STOCK_ID=9939  timeout:  30\n",
      "retrying:  3\n",
      "47.242.168.144:59394  Fetching  https://goodinfo.tw/tw/BasicInfo.asp?STOCK_ID=9939  timeout:  20\n",
      "retrying:  1\n",
      "47.242.168.144:59394  Fetching  https://goodinfo.tw/tw/BasicInfo.asp?STOCK_ID=9939  timeout:  25\n",
      "retrying:  2\n",
      "47.242.168.144:59394  Fetching  https://goodinfo.tw/tw/BasicInfo.asp?STOCK_ID=9939  timeout:  30\n"
     ]
    },
    {
     "name": "stderr",
     "output_type": "stream",
     "text": [
      " 99%|█████████▉| 872/881 [22:33:10<28:31, 190.20s/it]"
     ]
    },
    {
     "name": "stdout",
     "output_type": "stream",
     "text": [
      "retrying:  3\n",
      "200.105.215.18:33630  Fetching  https://goodinfo.tw/tw/BasicInfo.asp?STOCK_ID=9940  timeout:  20\n",
      "retrying:  1\n",
      "200.105.215.18:33630  Fetching  https://goodinfo.tw/tw/BasicInfo.asp?STOCK_ID=9940  timeout:  25\n"
     ]
    },
    {
     "name": "stderr",
     "output_type": "stream",
     "text": [
      " 99%|█████████▉| 873/881 [22:33:43<19:03, 142.90s/it]"
     ]
    },
    {
     "name": "stdout",
     "output_type": "stream",
     "text": [
      "Success\n",
      "185.201.88.128:6969  Fetching  https://goodinfo.tw/tw/BasicInfo.asp?STOCK_ID=9941  timeout:  20\n",
      "retrying:  1\n",
      "185.201.88.128:6969  Fetching  https://goodinfo.tw/tw/BasicInfo.asp?STOCK_ID=9941  timeout:  25\n",
      "retrying:  2\n",
      "185.201.88.128:6969  Fetching  https://goodinfo.tw/tw/BasicInfo.asp?STOCK_ID=9941  timeout:  30\n",
      "retrying:  3\n",
      "185.201.88.128:6969  Fetching  https://goodinfo.tw/tw/BasicInfo.asp?STOCK_ID=9941  timeout:  20\n",
      "retrying:  1\n",
      "185.201.88.128:6969  Fetching  https://goodinfo.tw/tw/BasicInfo.asp?STOCK_ID=9941  timeout:  25\n",
      "retrying:  2\n",
      "185.201.88.128:6969  Fetching  https://goodinfo.tw/tw/BasicInfo.asp?STOCK_ID=9941  timeout:  30\n",
      "retrying:  3\n",
      "158.101.146.40:59394  Fetching  https://goodinfo.tw/tw/BasicInfo.asp?STOCK_ID=9941  timeout:  20\n",
      "retrying:  1\n",
      "158.101.146.40:59394  Fetching  https://goodinfo.tw/tw/BasicInfo.asp?STOCK_ID=9941  timeout:  25\n",
      "retrying:  2\n",
      "158.101.146.40:59394  Fetching  https://goodinfo.tw/tw/BasicInfo.asp?STOCK_ID=9941  timeout:  30\n",
      "retrying:  3\n",
      "155.0.181.254:43496  Fetching  https://goodinfo.tw/tw/BasicInfo.asp?STOCK_ID=9941  timeout:  20\n",
      "retrying:  1\n",
      "155.0.181.254:43496  Fetching  https://goodinfo.tw/tw/BasicInfo.asp?STOCK_ID=9941  timeout:  25\n"
     ]
    },
    {
     "name": "stderr",
     "output_type": "stream",
     "text": [
      " 99%|█████████▉| 874/881 [22:36:52<18:17, 156.74s/it]"
     ]
    },
    {
     "name": "stdout",
     "output_type": "stream",
     "text": [
      "Success\n",
      "185.201.88.128:6969  Fetching  https://goodinfo.tw/tw/BasicInfo.asp?STOCK_ID=9942  timeout:  20\n",
      "retrying:  1\n",
      "185.201.88.128:6969  Fetching  https://goodinfo.tw/tw/BasicInfo.asp?STOCK_ID=9942  timeout:  25\n",
      "Success\n"
     ]
    },
    {
     "name": "stderr",
     "output_type": "stream",
     "text": [
      " 99%|█████████▉| 875/881 [22:37:27<12:01, 120.26s/it]"
     ]
    },
    {
     "name": "stdout",
     "output_type": "stream",
     "text": [
      "185.201.88.128:6969  Fetching  https://goodinfo.tw/tw/BasicInfo.asp?STOCK_ID=9943  timeout:  20\n",
      "retrying:  1\n",
      "185.201.88.128:6969  Fetching  https://goodinfo.tw/tw/BasicInfo.asp?STOCK_ID=9943  timeout:  25\n",
      "retrying:  2\n",
      "185.201.88.128:6969  Fetching  https://goodinfo.tw/tw/BasicInfo.asp?STOCK_ID=9943  timeout:  30\n",
      "retrying:  3\n",
      "155.0.181.254:43496  Fetching  https://goodinfo.tw/tw/BasicInfo.asp?STOCK_ID=9943  timeout:  20\n",
      "retrying:  1\n",
      "155.0.181.254:43496  Fetching  https://goodinfo.tw/tw/BasicInfo.asp?STOCK_ID=9943  timeout:  25\n",
      "retrying:  2\n",
      "155.0.181.254:43496  Fetching  https://goodinfo.tw/tw/BasicInfo.asp?STOCK_ID=9943  timeout:  30\n",
      "retrying:  3\n",
      "158.101.146.40:59394  Fetching  https://goodinfo.tw/tw/BasicInfo.asp?STOCK_ID=9943  timeout:  20\n",
      "retrying:  1\n",
      "158.101.146.40:59394  Fetching  https://goodinfo.tw/tw/BasicInfo.asp?STOCK_ID=9943  timeout:  25\n",
      "retrying:  2\n",
      "158.101.146.40:59394  Fetching  https://goodinfo.tw/tw/BasicInfo.asp?STOCK_ID=9943  timeout:  30\n",
      "retrying:  3\n",
      "200.105.215.18:33630  Fetching  https://goodinfo.tw/tw/BasicInfo.asp?STOCK_ID=9943  timeout:  20\n"
     ]
    },
    {
     "name": "stderr",
     "output_type": "stream",
     "text": [
      " 99%|█████████▉| 876/881 [22:40:22<11:23, 136.71s/it]"
     ]
    },
    {
     "name": "stdout",
     "output_type": "stream",
     "text": [
      "Success\n",
      "155.0.181.254:43496  Fetching  https://goodinfo.tw/tw/BasicInfo.asp?STOCK_ID=9944  timeout:  20\n",
      "retrying:  1\n",
      "155.0.181.254:43496  Fetching  https://goodinfo.tw/tw/BasicInfo.asp?STOCK_ID=9944  timeout:  25\n",
      "retrying:  2\n",
      "155.0.181.254:43496  Fetching  https://goodinfo.tw/tw/BasicInfo.asp?STOCK_ID=9944  timeout:  30\n"
     ]
    },
    {
     "name": "stderr",
     "output_type": "stream",
     "text": [
      "100%|█████████▉| 877/881 [22:41:17<07:28, 112.08s/it]"
     ]
    },
    {
     "name": "stdout",
     "output_type": "stream",
     "text": [
      "Success\n",
      "200.105.215.18:33630  Fetching  https://goodinfo.tw/tw/BasicInfo.asp?STOCK_ID=9945  timeout:  20\n"
     ]
    },
    {
     "name": "stderr",
     "output_type": "stream",
     "text": [
      "100%|█████████▉| 878/881 [22:41:25<04:02, 80.94s/it] "
     ]
    },
    {
     "name": "stdout",
     "output_type": "stream",
     "text": [
      "Success\n",
      "185.201.88.128:6969  Fetching  https://goodinfo.tw/tw/BasicInfo.asp?STOCK_ID=9946  timeout:  20\n"
     ]
    },
    {
     "name": "stderr",
     "output_type": "stream",
     "text": [
      "100%|█████████▉| 879/881 [22:41:35<01:59, 59.84s/it]"
     ]
    },
    {
     "name": "stdout",
     "output_type": "stream",
     "text": [
      "Success\n",
      "158.101.146.40:59394  Fetching  https://goodinfo.tw/tw/BasicInfo.asp?STOCK_ID=9955  timeout:  20\n",
      "retrying:  1\n",
      "158.101.146.40:59394  Fetching  https://goodinfo.tw/tw/BasicInfo.asp?STOCK_ID=9955  timeout:  25\n",
      "retrying:  2\n",
      "158.101.146.40:59394  Fetching  https://goodinfo.tw/tw/BasicInfo.asp?STOCK_ID=9955  timeout:  30\n",
      "retrying:  3\n",
      "47.242.168.144:59394  Fetching  https://goodinfo.tw/tw/BasicInfo.asp?STOCK_ID=9955  timeout:  20\n",
      "retrying:  1\n",
      "47.242.168.144:59394  Fetching  https://goodinfo.tw/tw/BasicInfo.asp?STOCK_ID=9955  timeout:  25\n",
      "retrying:  2\n",
      "47.242.168.144:59394  Fetching  https://goodinfo.tw/tw/BasicInfo.asp?STOCK_ID=9955  timeout:  30\n",
      "retrying:  3\n",
      "47.242.168.144:59394  Fetching  https://goodinfo.tw/tw/BasicInfo.asp?STOCK_ID=9955  timeout:  20\n",
      "retrying:  1\n",
      "47.242.168.144:59394  Fetching  https://goodinfo.tw/tw/BasicInfo.asp?STOCK_ID=9955  timeout:  25\n",
      "retrying:  2\n",
      "47.242.168.144:59394  Fetching  https://goodinfo.tw/tw/BasicInfo.asp?STOCK_ID=9955  timeout:  30\n",
      "retrying:  3\n",
      "185.201.88.128:6969  Fetching  https://goodinfo.tw/tw/BasicInfo.asp?STOCK_ID=9955  timeout:  20\n"
     ]
    },
    {
     "name": "stderr",
     "output_type": "stream",
     "text": [
      "100%|█████████▉| 880/881 [22:44:14<01:29, 89.43s/it]"
     ]
    },
    {
     "name": "stdout",
     "output_type": "stream",
     "text": [
      "Success\n",
      "155.0.181.254:43496  Fetching  https://goodinfo.tw/tw/BasicInfo.asp?STOCK_ID=9958  timeout:  20\n"
     ]
    },
    {
     "name": "stderr",
     "output_type": "stream",
     "text": [
      "100%|██████████| 881/881 [22:44:36<00:00, 92.94s/it]"
     ]
    },
    {
     "name": "stdout",
     "output_type": "stream",
     "text": [
      "Success\n"
     ]
    },
    {
     "name": "stderr",
     "output_type": "stream",
     "text": [
      "\n"
     ]
    }
   ],
   "source": [
    "# company_basicinfo = dict()\n",
    "invalid_stocks = list()\n",
    "\n",
    "for stock_id in tqdm(stock_ids):\n",
    "\n",
    "    try:\n",
    "        keys, values, childCompany_headers, childCompany_rows = getStockBasicinfo(stock_id, headers, user_agent_list, valid_ips)\n",
    "        childCompany_rows = np.array(childCompany_rows)\n",
    "\n",
    "        if len(keys) != len(values):\n",
    "            invalid_stocks.append(stock_id)\n",
    "            \n",
    "        else:\n",
    "            stock_basicinfo = dict(zip(keys, values))\n",
    "            company_basicinfo.update({stock_id: stock_basicinfo})\n",
    "\n",
    "        childcomps = list()\n",
    "        if len(childCompany_headers) == 0:\n",
    "            company_basicinfo[stock_id].update({'重要子公司': childcomps})\n",
    "        elif (len(childCompany_headers) != 4) or (childCompany_rows.shape[1] !=4):\n",
    "            invalid_stocks.append(stock_id)\n",
    "        else:\n",
    "            for i in range(len(childCompany_rows)):\n",
    "                childcomps.append(dict(zip(childCompany_headers, childCompany_rows[i])))\n",
    "                \n",
    "            company_basicinfo[stock_id].update({'重要子公司': childcomps})\n",
    "\n",
    "    except:\n",
    "        invalid_stocks.append(stock_id)\n",
    "\n",
    "\n"
   ]
  },
  {
   "cell_type": "code",
   "execution_count": 73,
   "metadata": {},
   "outputs": [
    {
     "data": {
      "text/plain": [
       "{'股票代號': '9958',\n",
       " '股票名稱': '世紀鋼',\n",
       " '產業別': '鋼鐵工業',\n",
       " '上市/上櫃': '上市',\n",
       " '公司名稱': '世紀鋼鐵結構股份有限公司',\n",
       " '英文簡稱': 'CIAS',\n",
       " '成立日期': '1987/10/09(成立34年)',\n",
       " '上市日期': '2008/03/12(上市13年)',\n",
       " '資本額': '23.1億元',\n",
       " '每股面值': '新台幣10元',\n",
       " '目前市值': '254.4億元',\n",
       " '公司債發行': '有',\n",
       " '發行股數': '231,278,853股 (含私募0股)',\n",
       " '特別股': '0股',\n",
       " '財報編製類型': '合併',\n",
       " '盈餘分派頻率': '每年',\n",
       " '董事長': '賴文祥',\n",
       " '總經理': '林明政',\n",
       " '發言人': '李育慶',\n",
       " '發言人職稱': '業務部副總經理',\n",
       " '代理發言人': '李光明',\n",
       " '統一編號': '22649001',\n",
       " '總機電話': '03-4730201',\n",
       " '傳真電話': '03-4738325',\n",
       " '公司電郵': 'ct.service@century.com.tw',\n",
       " '公司網址': 'www.century.com.tw',\n",
       " '中文地址': '桃園市觀音區中山路一段1119號',\n",
       " '英文地址': 'No.1119,Sec.1,Zhongshan Rd.,Guanyin Shiang,Taoyuan County 328,Taiwan(R.O.C)TAOYUAN, TAIWAN',\n",
       " '主要業務': '有關各種鐵骨/不銹鋼桶/建築材料等加工製造買賣及相關業務;按裝工程業務(營造業除外)/大樓鋼結構買賣代理國內外有關廠商產品經銷/報價投標業務',\n",
       " '股票過戶機構': '群益金鼎證券股份有限公司',\n",
       " '過戶機構電話': '(02)2702-3999',\n",
       " '過戶機構地址': '台北市106大安區敦化南路二段97號B2',\n",
       " '簽證會計師事務所': '安永聯合會計師事務所',\n",
       " '簽證會計師': '鄭清標,洪茂益',\n",
       " '投資人關係聯絡人': '李育慶',\n",
       " '聯絡人職稱': '業務部副總經理',\n",
       " '投資人關係聯絡電話': '03-4730201',\n",
       " '聯絡人電子郵件': 'yuch.lee@century.com.tw',\n",
       " '利害關係人專區網址': 'www.century.com.tw/new/00.html',\n",
       " '重要子公司': [{'登錄日期': '2020/03/17',\n",
       "   '子公司名稱': '世紀離岸風電設備股份有限公司',\n",
       "   '主要經營業務': '發電、輸電、配電機械製造、機械設備製造及相關安裝工程及能源技術服務業務',\n",
       "   '所在地區': 'Taiwan/台灣'}]}"
      ]
     },
     "execution_count": 73,
     "metadata": {},
     "output_type": "execute_result"
    }
   ],
   "source": [
    "# stock_ids.index(stock_id)\n",
    "# company_basicinfo['1101']['重要子公司']\n",
    "company_basicinfo['9958']"
   ]
  },
  {
   "cell_type": "code",
   "execution_count": 72,
   "metadata": {},
   "outputs": [],
   "source": [
    "with open('data/company_basicinfo.json', 'w', encoding='utf-8') as f:\n",
    "    json.dump(company_basicinfo, f, ensure_ascii=False, indent=4)\n"
   ]
  },
  {
   "cell_type": "code",
   "execution_count": 5,
   "metadata": {},
   "outputs": [],
   "source": [
    "# load from json\n",
    "with open('data/company_basicinfo.json', 'r', encoding='utf-8') as f:\n",
    "    company_basicinfo = json.load(f)\n",
    "\n",
    "with open('data/company_basicinfo_MoneyDJ.json', 'r', encoding='utf-8') as f:\n",
    "    company_basicinfo_moneydj = json.load(f)\n",
    "\n",
    "with open('data/stock_categories.json', 'r', encoding='utf-8') as f:\n",
    "    stock_categories = json.load(f)\n",
    "\n",
    "with open('data/company_news.json', 'r', encoding='utf-8') as f:\n",
    "    company_news = json.load(f)\n",
    "\n",
    "with open('data/company_shareholdings.json', 'r', encoding='utf-8') as f:\n",
    "    company_shareholdings = json.load(f)\n",
    "\n"
   ]
  },
  {
   "cell_type": "code",
   "execution_count": 6,
   "metadata": {},
   "outputs": [
    {
     "data": {
      "text/plain": [
       "(958, 958, 6, 958, 948)"
      ]
     },
     "execution_count": 6,
     "metadata": {},
     "output_type": "execute_result"
    }
   ],
   "source": [
    "len(company_basicinfo.keys()), len(company_basicinfo_moneydj.keys()), len(stock_categories.keys()), \\\n",
    "len(company_news.keys()), len(company_shareholdings.keys())\n"
   ]
  },
  {
   "cell_type": "code",
   "execution_count": 7,
   "metadata": {},
   "outputs": [
    {
     "data": {
      "text/plain": [
       "[('上市', '半導體業'),\n",
       " ('電子產業', '晶圓代工'),\n",
       " ('電子產業', 'IC生產'),\n",
       " ('概念股', '3d–3d感測'),\n",
       " ('概念股', 'ai–人工智慧'),\n",
       " ('概念股', 'ai–人臉辨識'),\n",
       " ('概念股', 'etf–台灣50'),\n",
       " ('概念股', 'msci成分股'),\n",
       " ('概念股', '中概–大陸惠台政策'),\n",
       " ('概念股', '手機–華為'),\n",
       " ('概念股', '半導體–18吋晶圓'),\n",
       " ('概念股', '半導體–功率半導體'),\n",
       " ('概念股', '汽車–車聯網'),\n",
       " ('概念股', '金融–qdii'),\n",
       " ('概念股', '指數成分–高薪100'),\n",
       " ('概念股', '指數成分–就業99'),\n",
       " ('概念股', '海外投資–赴美設廠'),\n",
       " ('概念股', '海外掛牌–美國'),\n",
       " ('概念股', '基礎建設–智慧城市'),\n",
       " ('概念股', '貨幣–日圓貶值'),\n",
       " ('概念股', '智慧家電–智慧音箱'),\n",
       " ('概念股', '智慧家電–智慧家庭'),\n",
       " ('概念股', '虛擬貨幣–比特幣'),\n",
       " ('概念股', '虛擬實境'),\n",
       " ('概念股', '網路–5g'),\n",
       " ('概念股', '蘋果–apple tv'),\n",
       " ('概念股', '蘋果–homepod'),\n",
       " ('概念股', '蘋果–iphone11'),\n",
       " ('概念股', '蘋果–蘋果供應鏈'),\n",
       " ('集團股', '台積電')]"
      ]
     },
     "execution_count": 7,
     "metadata": {},
     "output_type": "execute_result"
    }
   ],
   "source": [
    "# stock_categories['上市']\n",
    "\n",
    "byStock_stock_categories = dict()\n",
    "\n",
    "for k in stock_categories.keys():\n",
    "    for ind in stock_categories[k].keys():\n",
    "        for stock_ in stock_categories[k][ind]:\n",
    "            stock_id = str(stock_[0])\n",
    "            if stock_id in byStock_stock_categories.keys():\n",
    "                byStock_stock_categories[stock_id].append((k, ind))\n",
    "            else:\n",
    "                byStock_stock_categories.update({stock_id: [(k, ind)]})\n",
    "\n",
    "byStock_stock_categories['2330']\n"
   ]
  },
  {
   "cell_type": "code",
   "execution_count": 13,
   "metadata": {},
   "outputs": [
    {
     "name": "stderr",
     "output_type": "stream",
     "text": [
      "100%|██████████| 958/958 [00:00<00:00, 217384.94it/s]"
     ]
    },
    {
     "name": "stdout",
     "output_type": "stream",
     "text": [
      "'1315'\n",
      "'1592'\n",
      "'2034'\n",
      "'2243'\n",
      "'2841'\n",
      "'2936'\n",
      "'3046'\n",
      "'3055'\n",
      "'3167'\n",
      "'3504'\n",
      "'4148 '\n",
      "'5521'\n",
      "'6128'\n",
      "'6172'\n"
     ]
    },
    {
     "name": "stderr",
     "output_type": "stream",
     "text": [
      "\n"
     ]
    },
    {
     "data": {
      "text/plain": [
       "{'開盤價': '48.15',\n",
       " '最高價': '48.2',\n",
       " '最低價': '48',\n",
       " '收盤價': '48',\n",
       " '漲跌': '-0.15',\n",
       " '一年內最高價': '58.7',\n",
       " '一年內最低價': '40.15',\n",
       " '本益比': '14.08',\n",
       " '一年內最大量': '204,668',\n",
       " '一年內最低量': '4,666',\n",
       " '成交量': '4,666',\n",
       " '同業平均本益比': '22.37',\n",
       " '一年來最高本益比': '14.28',\n",
       " '一年來最低本益比': '9.56',\n",
       " '盤後量': '72',\n",
       " '殖利率': '7.02%',\n",
       " '總市值': '293,962',\n",
       " '85年來最高總市值': '323,631',\n",
       " '85年來最低總市值': '17,104',\n",
       " '今年以來': '18.95%',\n",
       " '每股淨值(元)': '31.94',\n",
       " '營業毛利率': '19.25%',\n",
       " '貝他值': '0.50',\n",
       " '最近一週': '0.63%',\n",
       " '每人營收(仟元)': '2,476.00',\n",
       " '營業利益率': '14.34%',\n",
       " '標準差': '1.26%',\n",
       " '最近一個月': '4.35%',\n",
       " '每股營收(元)': '4.26',\n",
       " '稅前淨利率': '17.45%',\n",
       " '最近二個月': '-0.52%',\n",
       " '負債比例': '44.96%',\n",
       " '資產報酬率': '1.02%',\n",
       " '最近三個月': '-5.88%',\n",
       " '股價淨值比': '1.50',\n",
       " '股東權益報酬率': '1.64%',\n",
       " '股本(億, 台幣)': '612.42',\n",
       " '現金股利(元)': '3.36811984',\n",
       " '成立時間': '39/12/29',\n",
       " '股票股利': '0',\n",
       " '初次上市(櫃)日期': '51/02/09',\n",
       " '盈餘配股': '0',\n",
       " '股務代理': '中信託02-66365566',\n",
       " '公積配股': '0',\n",
       " '董事長': '張安平',\n",
       " '總經理': '李鐘培',\n",
       " '發言人': '黃健強',\n",
       " '營收比重': '水泥及熟料67.28%、電力13.34%、預拌混凝土11.49%、化工產品7.90% (2020年)',\n",
       " '公司電話': '02-25317099',\n",
       " '網址': 'http://www.taiwancement.com/',\n",
       " '公司地址': '台北市中山北路2段113號',\n",
       " '股票代號': '1101',\n",
       " '股票名稱': '台泥',\n",
       " '產業別': '水泥工業',\n",
       " '上市/上櫃': '上市',\n",
       " '公司名稱': '台灣水泥股份有限公司',\n",
       " '英文簡稱': 'TCC',\n",
       " '重要子公司': [{'登錄日期': '2013/03/29',\n",
       "   '子公司名稱': 'TCC International Ltd.',\n",
       "   '主要經營業務': '投資控股',\n",
       "   '所在地區': 'HONG KONG/香港'},\n",
       "  {'登錄日期': '2013/03/29',\n",
       "   '子公司名稱': 'TCC International Holdings Ltd.',\n",
       "   '主要經營業務': '投資控股',\n",
       "   '所在地區': 'HONG KONG/香港'},\n",
       "  {'登錄日期': '2013/03/29',\n",
       "   '子公司名稱': 'TCC International (Hong Kong) Co., Ltd.',\n",
       "   '主要經營業務': '投資控股',\n",
       "   '所在地區': 'HONG KONG/香港'},\n",
       "  {'登錄日期': '2013/03/29',\n",
       "   '子公司名稱': 'TCC Hong Kong Cement (International) Ltd.',\n",
       "   '主要經營業務': '投資控股',\n",
       "   '所在地區': 'HONG KONG/香港'},\n",
       "  {'登錄日期': '2013/03/29',\n",
       "   '子公司名稱': 'TCC Hong Kong Cement (BVI) Holdings Ltd.',\n",
       "   '主要經營業務': '投資控股',\n",
       "   '所在地區': 'HONG KONG/香港'},\n",
       "  {'登錄日期': '2014/03/31',\n",
       "   '子公司名稱': 'Upper Value Investments Ltd.',\n",
       "   '主要經營業務': '投資控股',\n",
       "   '所在地區': 'HONG KONG/香港'},\n",
       "  {'登錄日期': '2020/03/24',\n",
       "   '子公司名稱': 'Taiwan Cement (Dutch) Holdings B.V.',\n",
       "   '主要經營業務': '投資控股',\n",
       "   '所在地區': 'NETHERLANDS/荷蘭'}],\n",
       " 'stock_categories': [('上市', '水泥工業'),\n",
       "  ('概念股', 'etf–台灣50'),\n",
       "  ('概念股', 'msci成分股'),\n",
       "  ('概念股', '中概–一帶一路'),\n",
       "  ('概念股', '中概–中國內需收成股'),\n",
       "  ('概念股', '指數成分–高股息'),\n",
       "  ('概念股', '海外掛牌–香港'),\n",
       "  ('概念股', '基礎建設–公共工程'),\n",
       "  ('概念股', '貨幣–台幣升值'),\n",
       "  ('集團股', '台泥'),\n",
       "  ('集團股', '和信')],\n",
       " 'share_holdings': [['職稱',\n",
       "   '姓名',\n",
       "   '選任時持股',\n",
       "   '目前持股',\n",
       "   '設質股數',\n",
       "   '設質股數佔持股比例',\n",
       "   '配偶、未成年子女及利用他人名義持有部份'],\n",
       "  ['內部人關係人目前持股合計', '設質股數', '設質比例'],\n",
       "  ['董事長本人',\n",
       "   '嘉利實業股份有限公司',\n",
       "   '3,032,923',\n",
       "   '3,032,923',\n",
       "   '0',\n",
       "   '0.00%',\n",
       "   '0',\n",
       "   '0',\n",
       "   '0.00%'],\n",
       "  ['董事長之法人代表人',\n",
       "   '張安平',\n",
       "   '0',\n",
       "   '2,188,553',\n",
       "   '0',\n",
       "   '0.00%',\n",
       "   '4,181,917',\n",
       "   '0',\n",
       "   '0.00%'],\n",
       "  ['董事本人',\n",
       "   '財團法人辜公亮文教基金會',\n",
       "   '3,168,803',\n",
       "   '3,168,803',\n",
       "   '0',\n",
       "   '0.00%',\n",
       "   '0',\n",
       "   '0',\n",
       "   '0.00%'],\n",
       "  ['董事之法人代表人', '李鐘培', '0', '786,542', '0', '0.00%', '0', '0', '0.00%'],\n",
       "  ['董事本人',\n",
       "   '泰和興業股份有限公司',\n",
       "   '6,043,126',\n",
       "   '6,043,126',\n",
       "   '0',\n",
       "   '0.00%',\n",
       "   '0',\n",
       "   '0',\n",
       "   '0.00%'],\n",
       "  ['董事之法人代表人', '辜公怡', '0', '561,815', '0', '0.00%', '0', '0', '0.00%'],\n",
       "  ['董事本人',\n",
       "   '恆強投資股份有限公司',\n",
       "   '102,240,983',\n",
       "   '102,240,983',\n",
       "   '0',\n",
       "   '0.00%',\n",
       "   '0',\n",
       "   '0',\n",
       "   '0.00%'],\n",
       "  ['董事之法人代表人', '溫堅', '0', '0', '0', '0.00%', '0', '0', '0.00%'],\n",
       "  ['董事本人', '恆強投資股份有限公司', '0', '102,240,983', '0', '0.00%', '0', '0', '0.00%'],\n",
       "  ['董事之法人代表人', '劉純穎', '0', '0', '0', '0.00%', '0', '0', '0.00%'],\n",
       "  ['職稱', '姓名', '選任時持股', '目前持股', '設質股數', '設質股數佔持股比例', '配偶、未成年子女及利用他人名義持有部份'],\n",
       "  ['內部人關係人目前持股合計', '設質股數', '設質比例'],\n",
       "  ['董事本人',\n",
       "   '富品投資股份有限公司',\n",
       "   '77,482,477',\n",
       "   '77,482,477',\n",
       "   '0',\n",
       "   '0.00%',\n",
       "   '0',\n",
       "   '0',\n",
       "   '0.00%'],\n",
       "  ['董事之法人代表人', '王伯元', '0', '0', '0', '0.00%', '0', '0', '0.00%'],\n",
       "  ['董事本人',\n",
       "   '國際中橡投資控股股份有限公司',\n",
       "   '103,548,831',\n",
       "   '103,548,831',\n",
       "   '0',\n",
       "   '0.00%',\n",
       "   '0',\n",
       "   '0',\n",
       "   '0.00%'],\n",
       "  ['董事之法人代表人', '駱錦明', '0', '0', '0', '0.00%', '0', '0', '0.00%'],\n",
       "  ['董事本人',\n",
       "   '嘉新水泥股份有限公司',\n",
       "   '217,859,506',\n",
       "   '217,859,456',\n",
       "   '0',\n",
       "   '0.00%',\n",
       "   '0',\n",
       "   '0',\n",
       "   '0.00%'],\n",
       "  ['董事之法人代表人', '張剛綸', '0', '0', '0', '0.00%', '240,456', '0', '0.00%'],\n",
       "  ['董事本人', '富品投資股份有限公司', '0', '77,482,477', '0', '0.00%', '0', '0', '0.00%'],\n",
       "  ['董事之法人代表人', '謝其嘉', '0', '494,397', '0', '0.00%', '0', '0', '0.00%'],\n",
       "  ['董事本人', '嘉新水泥股份有限公司', '0', '217,859,456', '0', '0.00%', '0', '0', '0.00%'],\n",
       "  ['董事之法人代表人', '陳啟德', '0', '67,906', '0', '0.00%', '5,648', '0', '0.00%'],\n",
       "  ['職稱', '姓名', '選任時持股', '目前持股', '設質股數', '設質股數佔持股比例', '配偶、未成年子女及利用他人名義持有部份'],\n",
       "  ['內部人關係人目前持股合計', '設質股數', '設質比例'],\n",
       "  ['獨立董事本人', '焦佑鈞', '0', '0', '0', '0.00%', '0', '0', '0.00%'],\n",
       "  ['獨立董事本人', '王金山', '0', '0', '0', '0.00%', '0', '0', '0.00%'],\n",
       "  ['獨立董事本人', '周玲臺', '1', '1', '0', '0.00%', '2', '0', '0.00%'],\n",
       "  ['獨立董事本人', '林美花', '0', '0', '0', '0.00%', '0', '0', '0.00%'],\n",
       "  ['獨立董事本人', '林秀玲', '0', '0', '0', '0.00%', '0', '0', '0.00%'],\n",
       "  ['總經理本人', '李鐘培', '0', '786,542', '0', '0.00%', '0', '0', '0.00%'],\n",
       "  ['總經理本人', '張安平', '0', '2,188,553', '0', '0.00%', '4,181,917', '0', '0.00%'],\n",
       "  ['總經理本人', '張毓揚', '0', '0', '0', '0.00%', '0', '0', '0.00%'],\n",
       "  ['副總經理本人', '黃健強', '0', '739,535', '0', '0.00%', '0', '0', '0.00%'],\n",
       "  ['副總經理本人', '呂克甫', '0', '108,092', '0', '0.00%', '0', '0', '0.00%'],\n",
       "  ['職稱', '姓名', '選任時持股', '目前持股', '設質股數', '設質股數佔持股比例', '配偶、未成年子女及利用他人名義持有部份'],\n",
       "  ['內部人關係人目前持股合計', '設質股數', '設質比例'],\n",
       "  ['副總經理本人', '葛保羅', '0', '292,448', '0', '0.00%', '0', '0', '0.00%'],\n",
       "  ['副總經理本人', '王建全', '0', '183,992', '0', '0.00%', '1,718', '0', '0.00%'],\n",
       "  ['經理本人', '李明達', '0', '10,000', '0', '0.00%', '0', '0', '0.00%'],\n",
       "  ['經理本人', '劉志仁', '0', '91,219', '0', '0.00%', '0', '0', '0.00%'],\n",
       "  ['經理本人', '吳雲德', '0', '37,225', '0', '0.00%', '0', '0', '0.00%'],\n",
       "  ['經理本人', '陳進益', '0', '89,890', '0', '0.00%', '0', '0', '0.00%'],\n",
       "  ['經理本人', '曹家華', '0', '0', '0', '0.00%', '0', '0', '0.00%'],\n",
       "  ['協理本人', '辜公怡', '0', '561,815', '0', '0.00%', '0', '0', '0.00%'],\n",
       "  ['協理本人', '劉鳳萍', '0', '140,790', '0', '0.00%', '229', '0', '0.00%'],\n",
       "  ['協理本人', '黃麟添', '0', '4,301', '0', '0.00%', '0', '0', '0.00%'],\n",
       "  ['職稱', '姓名', '選任時持股', '目前持股', '設質股數', '設質股數佔持股比例', '配偶、未成年子女及利用他人名義持有部份'],\n",
       "  ['內部人關係人目前持股合計', '設質股數', '設質比例'],\n",
       "  ['協理本人', '洪維爵', '0', '205,380', '0', '0.00%', '0', '0', '0.00%'],\n",
       "  ['協理本人', '余金龍', '0', '230,463', '0', '0.00%', '0', '0', '0.00%'],\n",
       "  ['協理本人', '宋又新', '0', '125,957', '0', '0.00%', '0', '0', '0.00%'],\n",
       "  ['協理本人', '藍岑蔚', '0', '144,984', '0', '0.00%', '0', '0', '0.00%'],\n",
       "  ['協理本人', '葉毓君', '0', '153,362', '0', '0.00%', '0', '0', '0.00%'],\n",
       "  ['協理本人', '賴家柔', '0', '66,053', '0', '0.00%', '224', '0', '0.00%'],\n",
       "  ['協理本人', '陳光熙', '0', '78,653', '0', '0.00%', '0', '0', '0.00%'],\n",
       "  ['協理本人', '蔡國嶼', '0', '526,028', '0', '0.00%', '0', '0', '0.00%'],\n",
       "  ['協理本人', '邱鈺文', '0', '2,110', '0', '0.00%', '0', '0', '0.00%'],\n",
       "  ['協理本人', '李國源', '0', '54,045', '0', '0.00%', '0', '0', '0.00%'],\n",
       "  ['職稱', '姓名', '選任時持股', '目前持股', '設質股數', '設質股數佔持股比例', '配偶、未成年子女及利用他人名義持有部份'],\n",
       "  ['內部人關係人目前持股合計', '設質股數', '設質比例'],\n",
       "  ['協理本人', '蔣政道', '0', '83,844', '0', '0.00%', '0', '0', '0.00%'],\n",
       "  ['協理本人', '魏家珮', '0', '178,084', '0', '0.00%', '0', '0', '0.00%'],\n",
       "  ['副理本人', '吳志\\ueaf7', '0', '79,075', '0', '0.00%', '3,707', '0', '0.00%'],\n",
       "  ['副理本人', '吳子揚', '0', '0', '0', '0.00%', '0', '0', '0.00%'],\n",
       "  ['會計部門主管本人', '葉國宏', '0', '112,362', '0', '0.00%', '0', '0', '0.00%'],\n",
       "  ['其他', '賴家柔', '0', '66,053', '0', '0.00%', '224', '0', '0.00%']],\n",
       " 'news': [['ETtoday新聞雲',\n",
       "   '中國能耗雙控各地政策不同\\u3000台泥、亞泥11月營收二樣情\\xa0\\xa0(ETtoday新聞雲\\xa02021/12/10 21:15)(詳全文)',\n",
       "   'https://www.ettoday.net/news/20211210/2143586.htm?from=rss'],\n",
       "  ['Anue鉅亨',\n",
       "   '中國各地能耗雙控政策不同 水泥雙雄11月營收各有所長\\xa0\\xa0(Anue鉅亨\\xa02021/12/10 20:27)(詳全文)',\n",
       "   'https://news.cnyes.com/news/id/4785489'],\n",
       "  ['ETtoday新聞雲',\n",
       "   '「碳是生存問題！不能比鈔票」\\u3000台泥董座「2030碳減半不敢簽下去」\\xa0\\xa0(ETtoday新聞雲\\xa02021/12/08 12:52)(詳全文)',\n",
       "   'https://www.ettoday.net/news/20211208/2141281.htm?from=rss'],\n",
       "  ['Anue鉅亨',\n",
       "   '〈台股盤後〉航運領軍多頭 量縮小跌收17688點守住月線\\xa0\\xa0(Anue鉅亨\\xa02021/12/06 15:25)(詳全文)',\n",
       "   'https://news.cnyes.com/news/id/4780843'],\n",
       "  ['ETtoday新聞雲',\n",
       "   '台泥：水泥暫不漲價\\u3000陸市場明年Q1前維持弱勢\\xa0\\xa0(ETtoday新聞雲\\xa02021/12/02 07:25)(詳全文)',\n",
       "   'https://www.ettoday.net/news/20211202/2136603.htm?from=rss'],\n",
       "  ['Anue鉅亨',\n",
       "   '台泥強化混凝土產銷品管 投資2億元增建專用實驗室\\xa0\\xa0(Anue鉅亨\\xa02021/12/01 22:26)(詳全文)',\n",
       "   'https://news.cnyes.com/news/id/4779050'],\n",
       "  ['Anue鉅亨',\n",
       "   '台泥ECB轉換價定價59.8元 溢價約3成\\xa0\\xa0(Anue鉅亨\\xa02021/12/01 19:52)(詳全文)',\n",
       "   'https://news.cnyes.com/news/id/4779048'],\n",
       "  ['ETtoday新聞雲',\n",
       "   '落實碳足跡！台泥攜手臺灣營建研究院\\u3000首創混凝土履歷制度\\xa0\\xa0(ETtoday新聞雲\\xa02021/12/01 18:32)(詳全文)',\n",
       "   'https://www.ettoday.net/news/20211201/2136420.htm?from=rss'],\n",
       "  ['1101\\xa0台泥',\n",
       "   '台泥110年度第一次海外無擔保可轉換公司債完成訂價\\xa0\\xa0(公告訊息\\xa02021/12/01 06:01)1.事實發生日:110/11/30\\n2.公司名稱:台灣水泥股份有限公司(以下簡稱「本公司」)\\n3.與公司關係(請輸入本公司或子公司):本公司...\\xa0(詳全文)',\n",
       "   'StockAnnounceDetail.asp?STOCK_ID=1101&CLAIM_TIME=2021/12/01+06:01:50'],\n",
       "  ['1101\\xa0台泥',\n",
       "   '代子公司Taiwan Cement Europe Holdings B.V.公告董事會決議增資NHOA S.A.(補充認購說明)\\xa0\\xa0(公告訊息\\xa02021/11/18 21:50)1.標的物之名稱及性質（屬特別股者，並應標明特別股約定發行條件，如股息率等）:\\r\\nNHOA S.A. (以下稱NHOA)普通股\\r\\n2.事實發...\\xa0(詳全文)',\n",
       "   'StockAnnounceDetail.asp?STOCK_ID=1101&CLAIM_TIME=2021/11/18+21:50:36']]}"
      ]
     },
     "execution_count": 13,
     "metadata": {},
     "output_type": "execute_result"
    }
   ],
   "source": [
    "company_merge = dict()\n",
    "\n",
    "merge_config = {\n",
    "    'basicinfo_goodinfo_cols': ['股票代號', '股票名稱', '產業別', '上市/上櫃', '公司名稱', '英文簡稱'], \n",
    "    'basicinfo_moneydj_cols': list(company_basicinfo_moneydj['1101'].keys()),\n",
    "    'stock_categories': ['stock_categories'], \n",
    "    'share_holdings': ['share_holdings'],\n",
    "    'news': ['news']\n",
    "}\n",
    "\n",
    "for stock_id in tqdm(stock_ids):\n",
    "\n",
    "    # company_merge.update({stock_id: dict()})\n",
    "\n",
    "    # for k in merge_config['basicinfo_goodinfo_cols']:\n",
    "    #     try:\n",
    "    #         company_merge[stock_id].update({k: company_basicinfo[stock_id][k]})\n",
    "    #     except:\n",
    "    #         company_merge[stock_id].update({k: ''})\n",
    "\n",
    "    # for k in merge_config['basicinfo_moneydj_cols']:\n",
    "    #     try:\n",
    "    #         company_merge[stock_id].update({k: company_basicinfo_moneydj[stock_id][k]})\n",
    "    #     except:\n",
    "    #         company_merge[stock_id].update({k: ''})\n",
    "\n",
    "    for k in merge_config['stock_categories']:\n",
    "        try:\n",
    "            # company_merge[stock_id].update({k: byStock_stock_categories[stock_id]})\n",
    "            company_basicinfo[stock_id].update({k: byStock_stock_categories[stock_id]})\n",
    "        except Exception as e:\n",
    "            print(e)\n",
    "            # company_merge[stock_id].update({k: ''})\n",
    "            company_basicinfo[stock_id].update({k: ''})\n",
    "\n",
    "    for k in merge_config['share_holdings']:\n",
    "        try:\n",
    "            # company_merge[stock_id].update({k: company_shareholdings[stock_id]})\n",
    "            company_basicinfo[stock_id].update({k: company_shareholdings[stock_id]})\n",
    "        except Exception as e:\n",
    "            print(e)\n",
    "            # company_merge[stock_id].update({k: ''})\n",
    "            company_basicinfo[stock_id].update({k: ''})\n",
    "\n",
    "    for k in merge_config['news']:\n",
    "        try:\n",
    "            # company_merge[stock_id].update({k: company_news[stock_id]})\n",
    "            company_basicinfo[stock_id].update({k: company_news[stock_id]})\n",
    "        except Exception as e:\n",
    "            print(e)\n",
    "            # company_merge[stock_id].update({k: ''})\n",
    "            company_basicinfo[stock_id].update({k: ''})\n",
    "\n",
    "\n",
    "# company_merge['1101']\n",
    "company_basicinfo['1101']\n"
   ]
  },
  {
   "cell_type": "code",
   "execution_count": 14,
   "metadata": {},
   "outputs": [],
   "source": [
    "with open('data/company_merged.json', 'w', encoding='utf-8') as f:\n",
    "    json.dump(company_merge, f, ensure_ascii=False, indent=4)\n"
   ]
  },
  {
   "cell_type": "code",
   "execution_count": null,
   "metadata": {},
   "outputs": [],
   "source": []
  }
 ],
 "metadata": {
  "interpreter": {
   "hash": "40d3a090f54c6569ab1632332b64b2c03c39dcf918b08424e98f38b5ae0af88f"
  },
  "kernelspec": {
   "display_name": "Python 3.8.8 64-bit ('base': conda)",
   "language": "python",
   "name": "python3"
  },
  "language_info": {
   "codemirror_mode": {
    "name": "ipython",
    "version": 3
   },
   "file_extension": ".py",
   "mimetype": "text/x-python",
   "name": "python",
   "nbconvert_exporter": "python",
   "pygments_lexer": "ipython3",
   "version": "3.8.8"
  },
  "orig_nbformat": 4
 },
 "nbformat": 4,
 "nbformat_minor": 2
}
