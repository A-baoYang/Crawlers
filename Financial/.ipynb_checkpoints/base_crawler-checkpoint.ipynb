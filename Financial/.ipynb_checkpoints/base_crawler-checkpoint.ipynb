{
 "cells": [
  {
   "cell_type": "code",
   "execution_count": null,
   "metadata": {},
   "outputs": [],
   "source": [
    "import requests\n",
    "import random\n",
    "from bs4 import BeautifulSoup\n"
   ]
  },
  {
   "cell_type": "code",
   "execution_count": null,
   "metadata": {},
   "outputs": [],
   "source": [
    "url = 'https://www.moneydj.com/ETF/X/Basic/Basic0007a.xdjhtm?etfid=0061.TW'\n",
    "user_agent_list = [\n",
    "    'Mozilla/5.0 (Macintosh; Intel Mac OS X 10_15_5) AppleWebKit/605.1.15 (KHTML, like Gecko) Version/13.1.1 Safari/605.1.15',\n",
    "    'Mozilla/5.0 (Windows NT 10.0; Win64; x64; rv:77.0) Gecko/20100101 Firefox/77.0',\n",
    "    'Mozilla/5.0 (Macintosh; Intel Mac OS X 10_15_5) AppleWebKit/537.36 (KHTML, like Gecko) Chrome/83.0.4103.97 Safari/537.36',\n",
    "    'Mozilla/5.0 (Macintosh; Intel Mac OS X 10.15; rv:77.0) Gecko/20100101 Firefox/77.0',\n",
    "    'Mozilla/5.0 (Windows NT 10.0; Win64; x64) AppleWebKit/537.36 (KHTML, like Gecko) Chrome/83.0.4103.97 Safari/537.36',\n",
    "]\n",
    "headers = {\n",
    "    \"accept\": \"text/html,application/xhtml+xml,application/xml;q=0.9,image/avif,image/webp,image/apng,*/*;q=0.8,application/signed-exchange;v=b3;q=0.9\", \n",
    "    \"accept-encoding\": \"gzip, deflate, br\", \n",
    "    \"accept-language\": \"zh-TW,zh;q=0.9,en-US;q=0.8,en;q=0.7\", \n",
    "    \"sec-fetch-dest\": \"document\",\n",
    "    \"sec-fetch-mode\": \"navigate\",\n",
    "    \"sec-fetch-site\": \"none\",\n",
    "    \"sec-fetch-user\": \"?1\",\n",
    "    \"sec-gpc\": \"1\",\n",
    "    \"referer\": \"https://www.google.com/\",\n",
    "    \"dnt\": \"1\", \n",
    "    \"upgrade-Insecure-Requests\": \"1\", \n",
    "    \"user-Agent\": \"Mozilla/5.0 (Linux; Android 6.0; Nexus 5 Build/MRA58N) AppleWebKit/537.36 (KHTML, like Gecko) Chrome/95.0.4638.69 Mobile Safari/537.36\", \n",
    "}\n",
    "\n"
   ]
  },
  {
   "cell_type": "code",
   "execution_count": null,
   "metadata": {},
   "outputs": [],
   "source": [
    "# test requests but no use\n",
    "res = requests.get(url, headers=headers).content\n",
    "soup = BeautifulSoup(res, 'html.parser')\n",
    "# soup"
   ]
  },
  {
   "cell_type": "code",
   "execution_count": null,
   "metadata": {},
   "outputs": [],
   "source": [
    "import selenium\n",
    "selenium.__version__\n",
    "from selenium import webdriver\n",
    "from webdriver_manager.chrome import ChromeDriverManager\n",
    "# driver = webdriver.Chrome(ChromeDriverManager().install())\n",
    "from selenium.webdriver.common.by import By\n",
    "from selenium.webdriver.support import expected_conditions as EC\n",
    "from selenium.webdriver.support.ui import WebDriverWait\n",
    "from selenium.webdriver.common.action_chains import ActionChains\n",
    "from selenium.webdriver.common.keys import Keys\n",
    "\n",
    "from time import sleep\n",
    "import numpy as np\n",
    "from tqdm import tqdm\n"
   ]
  },
  {
   "cell_type": "code",
   "execution_count": null,
   "metadata": {},
   "outputs": [],
   "source": [
    "user_agent = 'Mozilla/5.0 (Macintosh; Intel Mac OS X 10_13_6) AppleWebKit/605.1.15 (KHTML, like Gecko) Version/12.0.3 Safari/605.1.15'\n",
    "chrome_path = 'C:/Users/Administrator/.wdm/drivers/chromedriver/win32/96.0.4664.45/chromedriver.exe'\n",
    "url = 'https://www.moneydj.com/ETF/X/Basic/Basic0007.xdjhtm?etfid=2824.HK'\n",
    "opt = webdriver.ChromeOptions()\n",
    "opt.add_argument('--user-agent=%s' % user_agent)\n"
   ]
  },
  {
   "cell_type": "markdown",
   "metadata": {},
   "source": [
    "### ETFs\n",
    "- https://www.moneydj.com/etf/x/Basic/Basic0007.xdjhtm?etfid=SPY"
   ]
  },
  {
   "cell_type": "code",
   "execution_count": null,
   "metadata": {},
   "outputs": [],
   "source": [
    "import json"
   ]
  },
  {
   "cell_type": "code",
   "execution_count": null,
   "metadata": {},
   "outputs": [],
   "source": [
    "# catch all etf company names\n",
    "driver = webdriver.Chrome(executable_path=chrome_path, options=opt)\n",
    "driver.set_window_size(1024, 850)\n",
    "\n",
    "driver.get(url)\n",
    "sleep(0.5)\n",
    "\n",
    "etf_list = [item.text for item in driver.find_elements_by_xpath('//select[@id=\"Menu1\"]//option')]\n",
    "print(etf_list)\n",
    "\n",
    "driver.quit()\n",
    "\n"
   ]
  },
  {
   "cell_type": "code",
   "execution_count": null,
   "metadata": {},
   "outputs": [],
   "source": [
    "etf_list_asia = etf_list[212:]\n"
   ]
  },
  {
   "cell_type": "code",
   "execution_count": null,
   "metadata": {},
   "outputs": [],
   "source": [
    "# catch all etf of each companies\n",
    "driver = webdriver.Chrome(executable_path=chrome_path, options=opt)\n",
    "driver.set_window_size(1024, 850)\n",
    "\n",
    "etf_options = dict()\n",
    "driver.get(url)\n",
    "for etf in tqdm(etf_list_asia):\n",
    "    \n",
    "#     idx = etf_list.index(etf)\n",
    "#     print(idx)\n",
    "\n",
    "    # get current company's etf list\n",
    "    option_list = [item.text for item in driver.find_elements_by_xpath('//select[@id=\"Menu2\"]//option')]\n",
    "    etf_options.update({etf: option_list})\n",
    "    \n",
    "    # go to another company\n",
    "    WebDriverWait(driver, 3).until(\n",
    "        EC.presence_of_element_located((By.XPATH, \n",
    "                                        '//span[@id=\"DivMenu1\"]'))\n",
    "    ).click()\n",
    "    action = ActionChains(driver)\n",
    "    action.send_keys(Keys.ARROW_DOWN).send_keys(Keys.ENTER).perform()\n",
    "    \n",
    "    sleep(np.random.randint(1, 5))\n",
    "\n",
    "\n",
    "driver.quit()\n",
    "\n",
    "\n"
   ]
  },
  {
   "cell_type": "code",
   "execution_count": null,
   "metadata": {
    "scrolled": true
   },
   "outputs": [],
   "source": [
    "# catch all stock (element ratio) of each etf of each companies\n",
    "driver = webdriver.Chrome(executable_path=chrome_path, options=opt)\n",
    "driver.set_window_size(1024, 850)\n",
    "\n",
    "etf_element = dict()\n",
    "for etf in tqdm(etf_options.keys()):\n",
    "    for etfid in etf_options[etf]:\n",
    "        \n",
    "        etfid = etfid.split('〈')[1][:-1]\n",
    "        url = f'https://www.moneydj.com/ETF/X/Basic/Basic0007.xdjhtm?etfid={etfid}'\n",
    "        driver.get(url)\n",
    "        \n",
    "        try:\n",
    "            table = WebDriverWait(driver, 3).until(\n",
    "                EC.presence_of_element_located((By.XPATH, \n",
    "                                                '//table[@id=\"ctl00_ctl00_MainContent_MainContent_stable3\"]')))\n",
    "            table_content = table.text\n",
    "        except:\n",
    "            print(url)\n",
    "            table_content = ' '\n",
    "#         driver.find_element_by_xpath('//table[@id=\"ctl00_ctl00_MainContent_MainContent_stable3\"]').text\n",
    "        etf_element.update({etfid: table_content})\n",
    "        \n",
    "        sleep(np.random.randint(1, 5))\n",
    "\n",
    "driver.quit()\n",
    "        "
   ]
  },
  {
   "cell_type": "code",
   "execution_count": null,
   "metadata": {},
   "outputs": [],
   "source": [
    "# reformat the table content to list of tuples\n",
    "etf_element_new = dict()\n",
    "for etfid in etf_element.keys():\n",
    "    \n",
    "    if etf_element[etfid] == ' ':\n",
    "        etf_element_new.update({etfid: ' '})\n",
    "    else:\n",
    "        list_table = [line.split(' ') for line in etf_element[etfid].split('\\n')]\n",
    "        etf_element_new.update({etfid: [(row[0], row[1], row[2]) for row in list_table[1:]]})\n",
    "\n"
   ]
  },
  {
   "cell_type": "code",
   "execution_count": null,
   "metadata": {},
   "outputs": [],
   "source": [
    "# write to json\n",
    "with open('etf_element_ratio.json', 'w', encoding='utf-8') as f:\n",
    "    json.dump(etf_element_new, f, ensure_ascii=False, indent=4)\n",
    "    "
   ]
  },
  {
   "cell_type": "code",
   "execution_count": null,
   "metadata": {},
   "outputs": [],
   "source": [
    "# load from json\n",
    "with open('etf_element_ratio.json', 'r', encoding='utf-8') as f:\n",
    "    etf_element_test = json.load(f)\n",
    "    "
   ]
  },
  {
   "cell_type": "code",
   "execution_count": null,
   "metadata": {},
   "outputs": [],
   "source": [
    "# A mapping dict between ETF id & name\n",
    "etf_id_name_mapping = dict()\n",
    "\n",
    "for comp in etf_options.keys():\n",
    "    for etf in etf_options[comp]:\n",
    "        etf_id = etf.split('〈')[-1][:-1]\n",
    "        etf_name = etf.split('〈')[0]\n",
    "        etf_id_name_mapping.update({etf_id: etf_name})\n",
    "        \n",
    "# etf_id_name_mapping\n"
   ]
  },
  {
   "cell_type": "markdown",
   "metadata": {},
   "source": [
    "### 基金\n",
    "- https://www.moneydj.com/funddj/yb/YP301000.djhtm"
   ]
  },
  {
   "cell_type": "code",
   "execution_count": null,
   "metadata": {},
   "outputs": [],
   "source": [
    "import re\n",
    "import pandas as pd\n"
   ]
  },
  {
   "cell_type": "code",
   "execution_count": null,
   "metadata": {},
   "outputs": [],
   "source": [
    "url = 'https://www.moneydj.com/funddj/yb/YP301000.djhtm'\n",
    "account = 'abaoyang'\n",
    "password = 'YGyang615thebest'\n"
   ]
  },
  {
   "cell_type": "code",
   "execution_count": null,
   "metadata": {},
   "outputs": [],
   "source": [
    "# catch type of funds\n",
    "driver = webdriver.Chrome(executable_path=chrome_path, options=opt)\n",
    "driver.set_window_size(1024, 850)\n",
    "driver.get(url)\n",
    "sleep(1)\n",
    "fund_types = [(item.text, item.get_attribute('href')) for item \n",
    "              in driver.find_elements_by_xpath('//div[@class=\"InternalSearch\"]//a')]\n",
    "print(fund_types[:5])\n",
    "\n",
    "fund_company_list = list()\n",
    "for item in tqdm(fund_types):\n",
    "    driver.get(item[1])\n",
    "    fund_company = [(item.text, item.get_attribute('href')) for item \n",
    "                         in driver.find_elements_by_xpath('//table[@id=\"oMainTable\"]//td/a') if len(item.text.strip()) > 0]\n",
    "    print(fund_company[:6])\n",
    "    fund_list = fund_company[0::2]\n",
    "    print(fund_list[:3])\n",
    "    company_list = fund_company[1::2]\n",
    "    company_list = [item[0] for item in company_list]\n",
    "    print(company_list[:3])\n",
    "    for i in range(len(fund_list)):\n",
    "        fund_company_list += [(company_list[i], fund_list[i][0], fund_list[i][1])]\n",
    "    \n",
    "    sleep(np.random.randint(3, 7))\n",
    "    \n",
    "    \n",
    "driver.quit()\n",
    "\n",
    "\n"
   ]
  },
  {
   "cell_type": "code",
   "execution_count": null,
   "metadata": {
    "scrolled": true
   },
   "outputs": [],
   "source": [
    "fund_company_dict = {'list': fund_company_list}\n",
    "\n",
    "# store to json file\n",
    "with open('fund_company_dict.json', 'w', encoding='utf-8') as f:\n",
    "    json.dump(fund_company_dict, f, ensure_ascii=False, indent=4)\n"
   ]
  },
  {
   "cell_type": "code",
   "execution_count": null,
   "metadata": {
    "scrolled": false
   },
   "outputs": [],
   "source": [
    "# load from json\n",
    "with open('../../KG-try/basic_info_collector/from_moneyDJ/fund_company_dict.json', 'r', encoding='utf-8') as f:\n",
    "    fund_company_dict = json.load(f)\n",
    "fund_company_list = fund_company_dict['list']\n"
   ]
  },
  {
   "cell_type": "code",
   "execution_count": null,
   "metadata": {},
   "outputs": [
    {
     "name": "stdout",
     "output_type": "stream",
     "text": [
      "{'基金名稱': '富邦台灣核心半導體ETF基金', '成立日期': '2021/06/02', '興櫃交易代碼': '', '基金規模': '73.42億元(台幣)\\u3000規模日期:2021/12/31', '基金公司': '富邦投信', '基金類型': '國內股票開放型指數型', '基金經理人': '陳靜如', '計價幣別': '台幣', '成立時規模': '62.29億元(台幣)', '投資區域': '台灣', '保管銀行': '中國信託銀行', '基金評等': ' ', '主要投資區域': '台灣', '基金統編': '88183736 ', '配息頻率': '半年配', '單筆最低申購': '15,000元', '風險報酬等級': 'RR5', '定時定額': ' ', '最高管理年費(%)': '0.400', '手續費(%)': '2.000', '保管費(%)': '0.035', '買回手續費率': '不超過2% ', '備註': '上列手續費為公開說明書公告之最高費率。 ', '文件下載': '財務報告書 / 公開說明書 / 基金月報 / 簡式公開說明書', '投資標的': '本基金投資中華民國有價證券。 追蹤「ICE FactSet台灣核心半導體指數」之績效表現為本基金投資組合管理之目標。 ', '銷售機構': '富邦綜合證券股份有限公司,台新證券股份有限公司,合作金庫證券股份有限公司,群益金鼎證券股份有限公司 ,元大證券股份有限公司,康和綜合證券股份有限公司,永豐金證券股份有限公司,統一綜合證券股份有限公司,中國信託綜合證券股份有限公司,兆豐證券股份有限公司,凱基證券股份有限公司 ', '短線交易規定': ''}\n"
     ]
    },
    {
     "name": "stderr",
     "output_type": "stream",
     "text": [
      "\r",
      "  0%|                                                                              | 3/3672 [00:45<14:42:25, 14.43s/it]"
     ]
    },
    {
     "name": "stdout",
     "output_type": "stream",
     "text": [
      "資料月份：2021/12/31 [['環球晶', '32', '9.03', '0.35%'], ['璟德', '8', '0.93', '-0.06%'], ['穩懋', '61', '7.36', '-0.11%'], ['大江', '13', '0.90', '-0.04%'], ['世界', '142', '7.20', '-0.20%'], ['台半', '34', '0.86', '-0.03%'], ['譜瑞-KY', '10', '6.95', '-0.39%'], ['聯亞', '13', '0.84', '-0.08%'], ['力旺', '10', '6.77', '-0.19%'], ['金居', '33', '0.81', '-0.03%'], ['元太', '131', '6.37', '0.83%'], ['91APP*-KY', '9', '0.76', '-0.15%'], ['中美晶', '76', '5.77', '0.47%'], ['長科*', '21', '0.71', '0.01%'], ['信驊', '4', '4.81', '0.05%'], ['朋程', '9', '0.71', '-0.03%'], ['群聯', '23', '3.81', '0.60%'], ['東洋', '32', '0.71', '-0.02%'], ['新普', '27', '2.80', '-0.12%'], ['宜鼎', '11', '0.71', '-0.03%'], ['鈊象', '9', '2.18', '-0.07%'], ['順達', '21', '0.69', '-0.04%'], ['合晶', '78', '2.15', '0.00'], ['大學光', '7', '0.68', '-0.03%'], ['頎邦', '96', '2.07', '-0.11%'], ['精華', '7', '0.68', '0.00'], ['中光電', '51', '1.52', '0.15%'], ['雙鴻', '10', '0.68', '0.01%'], ['光洋科', '77', '1.27', '-0.01%'], ['精測', '3', '0.68', '-0.01%'], ['金麗科', '8', '1.22', '-0.13%'], ['金可-KY', '7', '0.63', '0.03%'], ['晟德', '59', '1.14', '-0.09%'], ['網家', '15', '0.62', '-0.06%'], ['台燿', '35', '1.14', '-0.05%'], ['昇佳電子', '4', '0.59', '-0.01%'], ['欣銓', '63', '1.13', '-0.05%'], ['中菲行', '17', '0.58', '0.00'], ['精材', '23', '1.07', '-0.01%'], ['桂盟', '9', '0.57', '-0.04%'], ['家登', '10', '1.06', '0.04%'], ['同致', '10', '0.56', '-0.06%'], ['威剛', '34', '1.01', '0.02%'], ['泰博', '8', '0.47', '0.00'], ['宏捷科', '22', '1.01', '-0.09%'], ['宣德', '14', '0.38', '0.00'], ['原相', '20', '1.00', '-0.06%'], ['是方', '4', '0.38', '0.00'], ['晶焱', '12', '0.95', '-0.18%'], ['長聖', '4', '0.27', '-0.03%']]\n",
      "{'基金名稱': '元大富櫃50基金', '成立日期': '2011/01/12', '興櫃交易代碼': '', '基金規模': '3.11億元(台幣)\\u3000規模日期:2021/12/31', '基金公司': '元大投信', '基金類型': '國內股票開放型指數型', '基金經理人': '邱鉦淵', '計價幣別': '台幣', '成立時規模': ' ', '投資區域': '台灣', '保管銀行': '國泰世華商業銀行', '基金評等': ' ', '主要投資區域': '台灣', '基金統編': '26282102 ', '配息頻率': '年配', '單筆最低申購': ' 元', '風險報酬等級': 'RR5', '定時定額': ' ', '最高管理年費(%)': '0.400', '手續費(%)': '2.000', '保管費(%)': '0.035', '買回手續費率': '最高不得超過本基金每受益權單位淨資產價值之1% ', '備註': '上列手續費為公開說明書公告之最高費率。  ', '文件下載': '財務報告書 / 公開說明書 / 基金月報 / 簡式公開說明書', '投資標的': '本國上市股票、上櫃股票(包括但不限於成分證券)、以原股東身分認購已上櫃之現金增資股票及認購已上櫃同種類現金增資承銷股票、初次上櫃股票之承銷股票。 ', '銷售機構': '中國信託商業銀行,台新國際商業銀行,國泰世華商業銀行,元大(原：元大寶來)證券股份有限公司,元富證券股份有限公司,兆豐證券股份有限公司,凱基證券股份有限公司,富邦綜合證券股份有限公司,康和綜合證券股份有限公司,日盛證券股份有限公司,統一綜合證券股份有限公司,群益金鼎證券股份有限公司,華南永昌綜合證券股份有限公司 ', '短線交易規定': ''}\n"
     ]
    },
    {
     "name": "stderr",
     "output_type": "stream",
     "text": [
      "\r",
      "  0%|                                                                              | 4/3672 [01:01<15:11:46, 14.91s/it]"
     ]
    },
    {
     "name": "stdout",
     "output_type": "stream",
     "text": [
      "資料月份：2021/11/30 [['富邦吉祥貨幣市場基金', ' ', '13.96', '0.06%'], [' ', ' ', ' ', ' ']]\n",
      "{'基金名稱': '富邦臺灣加權單日正向兩倍基金', '成立日期': '2016/09/23', '興櫃交易代碼': '', '基金規模': '39.49億元(台幣)\\u3000規模日期:2021/12/31', '基金公司': '富邦投信', '基金類型': '國內股票開放型指數型', '基金經理人': '溫芳儀', '計價幣別': '台幣', '成立時規模': '5.38億元(台幣)', '投資區域': '台灣', '保管銀行': '華南商業銀行', '基金評等': ' ', '主要投資區域': '台灣', '基金統編': '42450837 ', '配息頻率': ' ', '單筆最低申購': ' 元', '風險報酬等級': 'RR5', '定時定額': ' ', '最高管理年費(%)': '0.650', '手續費(%)': '2.000', '保管費(%)': '0.040', '買回手續費率': '不超過2% ', '備註': '上列手續費為公開說明書公告之最高費率。  ', '文件下載': '財務報告書 / 公開說明書 / 基金月報 / 簡式公開說明書', '投資標的': '(一)追蹤臺指日報酬兩倍指數之績效表現為本基金投資組合管理之目標，將運用本基金於中華民國境內有價證券及從事證券相關商品交易。 (二)本基金原則上透過每日重新平衡機制(Daily Rebalancing)，以使本基金投資組合之整體曝險，能貼近本基金淨資產價值之正向兩倍之百分之一百。為因應標的指數之正向倍數表現之複製策略所需，從事證券相關商品交易曝險部位，應以本基金每營業日持有期貨、選擇權之契約總市值或總(名目)價值之合計數，不超過本基金淨資產價值之正向之百分之二百二十為限。 ', '銷售機構': '台新證券,國泰證券,群益金鼎,凱基證券,華南永昌證券,富邦證券,元大證券,永豐金證券 ', '短線交易規定': ''}\n"
     ]
    },
    {
     "name": "stderr",
     "output_type": "stream",
     "text": [
      "\r",
      "  0%|                                                                              | 5/3672 [01:12<14:01:43, 13.77s/it]"
     ]
    },
    {
     "name": "stdout",
     "output_type": "stream",
     "text": [
      "資料月份：2021/12/31 [['台積電', '1,173', '19.28', '-0.12%'], ['和碩', '1,224', '2.26', '0.00'], ['中華電', '2,923', '9.10', '0.01%'], ['亞泥', '1,368', '1.62', '0.03%'], ['中信金', '11,087', '7.69', '0.19%'], ['彰銀', '3,411', '1.55', '0.00'], ['兆豐金', '6,230', '5.92', '0.01%'], ['仁寶', '2,350', '1.52', '0.01%'], ['玉山金', '7,496', '5.62', '0.01%'], ['緯創', '1,604', '1.25', '-0.02%'], ['統一', '2,771', '5.08', '0.06%'], ['英業達', '1,770', '1.18', '-0.09%'], ['華碩', '404', '4.06', '0.11%'], ['臺企銀', '3,288', '0.87', '0.00'], ['廣達', '1,588', '4.02', '0.23%'], ['興富發', '696', '0.86', '-0.03%'], ['第一金', '6,093', '3.99', '0.09%'], ['群光', '355', '0.78', '0.00'], ['台泥', '3,056', '3.92', '0.02%'], ['台中銀', '1,848', '0.60', '-0.01%'], ['合庫金', '5,675', '3.86', '0.12%'], ['宏全', '152', '0.29', '0.01%'], ['華南金', '5,736', '3.25', '0.03%'], ['可寧衛', '45', '0.28', '-0.03%'], ['台新金', '6,279', '3.18', '-0.06%'], ['志超', '139', '0.18', '0.00'], ['永豐金', '6,348', '2.74', '0.05%'], ['聲寶', '200', '0.16', '0.00'], ['新光金', '7,822', '2.31', '0.03%'], ['達欣工', '160', '0.14', '0.00']]\n",
      "{'基金名稱': '國泰臺灣低波動股利精選30基金', '成立日期': '2017/08/09', '興櫃交易代碼': '', '基金規模': '37.41億元(台幣)\\u3000規模日期:2021/12/31', '基金公司': '國泰投信', '基金類型': '國內股票開放型指數型', '基金經理人': '蘇鼎宇', '計價幣別': '台幣', '成立時規模': '9.28億元(台幣)', '投資區域': '台灣', '保管銀行': '玉山銀行', '基金評等': ' ', '主要投資區域': '台灣', '基金統編': '42530591 ', '配息頻率': '半年配', '單筆最低申購': ' 元', '風險報酬等級': 'RR4', '定時定額': ' ', '最高管理年費(%)': '0.300', '手續費(%)': '2.000', '保管費(%)': '0.035', '買回手續費率': '最高2.0% ', '備註': '上列手續費為公開說明書公告之最高費率。  ', '文件下載': '財務報告書 / 公開說明書 / 基金月報 / 簡式公開說明書', '投資標的': '本基金係採用指數化策略，並以追蹤標的指數之績效表現為目標，依下列規範，行基金投資：1本基金自掛牌日起追蹤標的指數，投資於中華民國境內之上市及上櫃股票(含承銷股票)之總額，不得低於本基金淨資產價值百分之八十(含)。2本基金之指數化投資策略，原則上以前述1方法為主，但為符合本基金之貼近指數操作與資金調度需要，經理公司得運用本基金從事前述(二)之證券相關商品交易，以使資組合之整體曝險，能貼近本基金淨資產價值百分之一百。 ', '銷售機構': '合庫證券,玉山證券,國泰證券,凱基證券,元大證券,永豐金證券,玉山銀行,台新銀行 ', '短線交易規定': ''}\n"
     ]
    },
    {
     "name": "stderr",
     "output_type": "stream",
     "text": [
      "\r",
      "  0%|▏                                                                             | 6/3672 [01:29<14:59:07, 14.72s/it]"
     ]
    }
   ],
   "source": [
    "# catch ratio of funds\n",
    "driver = webdriver.Chrome(executable_path=chrome_path, options=opt)\n",
    "driver.set_window_size(1024, 850)\n",
    "fund_url = 'https://www.moneydj.com/funddj/yl/yp013000.djhtm?a=ACFP72'\n",
    "driver.get(fund_url)\n",
    "sleep(15)\n",
    "\n",
    "\n",
    "fund_ratio = dict()\n",
    "\n",
    "for fund in tqdm(fund_company_list):\n",
    "    \n",
    "\n",
    "    fund_name = fund[1]\n",
    "    fund_id = fund[2].split('a=')[-1]\n",
    "    fund_ratio.update({fund_id: dict()})\n",
    "    fund_ratio[fund_id].update({'基金名稱': fund_name})\n",
    "\n",
    "    info_url = 'https://www.moneydj.com/funddj/yp/yp011000.djhtm?a=%s' % (fund_id)\n",
    "    fund_url = 'https://www.moneydj.com/funddj/yl/yp013000.djhtm?a=%s' % (fund_id)\n",
    "    \n",
    "    # 持股成分\n",
    "    driver.get(fund_url)\n",
    "    try:\n",
    "        ratio_content = WebDriverWait(driver, 3).until(\n",
    "                    EC.presence_of_element_located((By.XPATH, \n",
    "                                                    '//table[@class=\"t04\"]//table[@class=\"t01\"]//td[contains(@class, \"t3\")]')))\n",
    "        ratio_content = [item.text for item \n",
    "                         in driver.find_elements_by_xpath('//table[@class=\"t04\"]//table[@class=\"t01\"]//td[contains(@class, \"t3\")]')]\n",
    "        ratio_content = np.array(ratio_content).reshape(len(ratio_content)//4, 4).tolist()\n",
    "        \n",
    "        update_date = driver.find_element_by_xpath('//table[@class=\"t04\"]//td[@class=\"t3n1c1\"]').text\n",
    "#         print(update_date, ratio_content)\n",
    "    except:\n",
    "        ratio_content = ' '\n",
    "        update_date = ' '\n",
    "        print(fund_url)\n",
    "\n",
    "    finally:\n",
    "        fund_ratio[fund_id].update({'更新時間': update_date})\n",
    "        fund_ratio[fund_id].update({'持股': ratio_content})\n",
    "        \n",
    "    # 基本資料\n",
    "    driver.get(info_url)\n",
    "    try:\n",
    "        info_col = WebDriverWait(driver, 3).until(\n",
    "            EC.presence_of_element_located((By.XPATH, '//table[@class=\"t04\"]//td[@class=\"t2c1\"]')))\n",
    "        info_col = [item.text for item\n",
    "                    in driver.find_elements_by_xpath('//table[@class=\"t04\"]//td[@class=\"t2\" or @class=\"t2c1\"]')]\n",
    "        info_val = WebDriverWait(driver, 3).until(\n",
    "            EC.presence_of_element_located((By.XPATH, '//table[@class=\"t04\"]//td[@class=\"t3t2\"]')))\n",
    "        info_val = [item.text for item \n",
    "                    in driver.find_elements_by_xpath('//table[@class=\"t04\"]//td[@class=\"t3t2\"]')]\n",
    "        \n",
    "    except Exception as e:\n",
    "        print(e)\n",
    "        info_col, info_val = list(), list()\n",
    "        \n",
    "    finally:\n",
    "        res = dict(zip(info_col, info_val))\n",
    "        fund_ratio[fund_id].update({'基本資料': res})\n",
    "#         print(res)\n",
    "\n",
    "\n",
    "    sleep(np.random.randint(3, 7))\n",
    "    \n",
    "driver.quit()\n",
    "\n",
    "\n",
    "# store to json file\n",
    "with open('../../KG-try/basic_info_collector/from_moneyDJ/20220117/fund_holdings_final.json', 'w', encoding='utf-8') as f:\n",
    "    json.dump(fund_ratio, f, ensure_ascii=False, indent=4)\n",
    "\n"
   ]
  },
  {
   "cell_type": "code",
   "execution_count": null,
   "metadata": {},
   "outputs": [],
   "source": [
    "fund_ratio_copy['ACDD01']"
   ]
  },
  {
   "cell_type": "code",
   "execution_count": null,
   "metadata": {},
   "outputs": [],
   "source": [
    "# catch ratio of funds\n",
    "driver = webdriver.Chrome(executable_path=chrome_path, options=opt)\n",
    "driver.set_window_size(1024, 850)\n",
    "fund_id = 'ACDS99'\n",
    "fund_url = 'https://www.moneydj.com/funddj/yl/yp013000.djhtm?a=%s' % (fund_id)\n",
    "info_url = 'https://www.moneydj.com/funddj/yp/yp011000.djhtm?a=%s' % (fund_id)\n",
    "\n",
    "# 基本資料\n",
    "driver.get(info_url)\n",
    "\n",
    "# try:\n",
    "info_col = WebDriverWait(driver, 3).until(\n",
    "    EC.presence_of_element_located((By.XPATH, '//table[@class=\"t04\"]//td[@class=\"t2c1\"]')))\n",
    "info_col = [item.text for item\n",
    "            in driver.find_elements_by_xpath('//table[@class=\"t04\"]//td[@class=\"t2\" or @class=\"t2c1\"]')]\n",
    "info_val = WebDriverWait(driver, 3).until(\n",
    "    EC.presence_of_element_located((By.XPATH, '//table[@class=\"t04\"]//td[@class=\"t3t2\"]')))\n",
    "info_val = [item.text for item \n",
    "            in driver.find_elements_by_xpath('//table[@class=\"t04\"]//td[@class=\"t3t2\"]')]\n",
    "\n",
    "# except Exception as e:\n",
    "#     print(e)\n",
    "#     info_col, info_val = list(), list()\n",
    "\n",
    "# finally:\n",
    "res = dict(zip(info_col, info_val))\n",
    "print(res)\n",
    "\n",
    "\n",
    "sleep(np.random.randint(3, 7))\n",
    "\n",
    "driver.quit()\n",
    "\n"
   ]
  },
  {
   "cell_type": "code",
   "execution_count": null,
   "metadata": {},
   "outputs": [],
   "source": [
    "password\n",
    "# fund_ratio.keys()\n",
    "# fund_ratio['ACDS99']\n"
   ]
  },
  {
   "cell_type": "code",
   "execution_count": null,
   "metadata": {},
   "outputs": [],
   "source": [
    "account \n",
    "# np.array(ratio_content).reshape(72//4, 4)"
   ]
  },
  {
   "cell_type": "code",
   "execution_count": null,
   "metadata": {},
   "outputs": [],
   "source": [
    "# store to json file\n",
    "with open('fund_element_ratio_tables.json', 'w', encoding='utf-8') as f:\n",
    "    json.dump(fund_ratio, f, ensure_ascii=False, indent=4)\n",
    "    \n",
    "with open('fund_id_name_mapping.json', 'w', encoding='utf-8') as f:\n",
    "    json.dump(fund_id_name_mapping, f, ensure_ascii=False, indent=4)\n"
   ]
  },
  {
   "cell_type": "code",
   "execution_count": null,
   "metadata": {},
   "outputs": [],
   "source": [
    "# 只存股票項目不存比例\n",
    "fund_ratio_simple = dict()\n",
    "for k in fund_ratio.keys():\n",
    "    \n",
    "    update_date = fund_ratio[k].split(' 更新。')[0]\n",
    "    content = ' '.join(fund_ratio[k].split('\\n')[3:])\n",
    "    cl = np.unique([char.strip() for char in re.findall(r'[\\u4e00-\\u9fff- a-zA-Z]+|91APP', content) \n",
    "                    if (char.strip() != '') and (char.strip() != '-') \n",
    "                    and (char.strip() != 'KY') and (char.strip() != '-KY')]).tolist()\n",
    "    \n",
    "    fund_ratio_simple.update({k: {'更新時間': update_date, '持股': cl}})\n",
    "\n",
    "\n",
    "# store to json file\n",
    "with open('fund_holdings.json', 'w', encoding='utf-8') as f:\n",
    "    json.dump(fund_ratio_simple, f, ensure_ascii=False, indent=4)\n"
   ]
  },
  {
   "cell_type": "code",
   "execution_count": null,
   "metadata": {},
   "outputs": [],
   "source": [
    "fund_ratio_simple['ACAI174']\n"
   ]
  },
  {
   "cell_type": "code",
   "execution_count": null,
   "metadata": {},
   "outputs": [],
   "source": [
    "# 轉存 3 元組為 csv\n",
    "collect = list()\n",
    "for k in tqdm(fund_ratio_simple.keys()):\n",
    "    for item in fund_ratio_simple[k]['持股']:\n",
    "        collect += [(k, '持有', item)]\n",
    "\n",
    "len(collect)\n",
    "pd.DataFrame(collect, columns=['fund_id', 'rel', 'target_name']).drop_duplicates().to_csv('fund_holding_relation.csv', index=False)\n"
   ]
  },
  {
   "cell_type": "markdown",
   "metadata": {},
   "source": [
    "### 公司基本資訊\n",
    "- MoneyDJ: https://concords.moneydj.com/z/zc/zca/zca.djhtm?a=2303\n",
    "    - 有些網頁是亂碼、有些會有空格問題抓起來比較麻煩\n",
    "    \n",
    "- Goodinfo: https://goodinfo.tw/StockInfo/BasicInfo.asp?STOCK_ID=2303\n"
   ]
  },
  {
   "cell_type": "code",
   "execution_count": null,
   "metadata": {},
   "outputs": [],
   "source": [
    "url = 'https://concords.moneydj.com/z/zc/zca/zca.djhtm?a=2303'\n",
    "\n",
    "list_stock_id = pd.read_csv('listed_company.csv', header=None)\n",
    "list_stock_id.columns = ['comp']\n",
    "list_stock_id = list_stock_id['comp'].str.split('　', expand=True)\n",
    "list_stock_id.columns = ['id', 'name']\n",
    "stock_ids = list_stock_id.id.unique()\n",
    "stock_ids\n"
   ]
  },
  {
   "cell_type": "code",
   "execution_count": null,
   "metadata": {},
   "outputs": [],
   "source": [
    "url = f'https://concords.moneydj.com/z/zc/zca/zca.djhtm?a={stock_id}'\n",
    "res = requests.get(url, headers=headers).content\n",
    "soup = BeautifulSoup(res, 'html.parser')\n",
    "keys = [item.text for item in soup.find_all('td', {'class': 't4t1'})]\n",
    "values = [item.text for item in soup.find_all('td', {'class': ['t3n1', 't3t1']}) if item.text.strip() != '']\n",
    "try:\n",
    "    idx = keys.index('公司地址')\n",
    "    _dict = dict(zip(keys[:idx+1], values[:idx+1]))\n",
    "\n",
    "except:\n",
    "    print(f'broken id: {stock_id}')\n",
    "\n",
    "finally:\n",
    "    print(_dict)\n",
    "    "
   ]
  },
  {
   "cell_type": "code",
   "execution_count": null,
   "metadata": {},
   "outputs": [],
   "source": [
    "def getCompanyTable(url):\n",
    "    print(url)\n",
    "    res = requests.get(url, headers=headers).content\n",
    "    soup = BeautifulSoup(res, 'html.parser')\n",
    "    keys = [item.text for item in soup.find_all('td', {'class': 't4t1'})]\n",
    "    values = [item.text for item in soup.find_all('td', {'class': ['t3n1', 't3t1']}) if item.text.strip() != '']\n",
    "    try:\n",
    "        idx = keys.index('公司地址')\n",
    "        _dict = dict(zip(keys[:idx+1], values[:idx+1]))\n",
    "    except:\n",
    "        print(f'broken ')\n",
    "        print(keys, values)\n",
    "        _dict = ''\n",
    "    return _dict\n",
    "\n",
    "\n",
    "\n",
    "\n",
    "import chardet\n",
    "chardet.detect('¶}½L»ù'.encode('utf-8'))\n"
   ]
  },
  {
   "cell_type": "code",
   "execution_count": null,
   "metadata": {
    "scrolled": true
   },
   "outputs": [],
   "source": [
    "# for stock_id in broken_ids:\n",
    "stock_id = 1324\n",
    "url = f'https://concords.moneydj.com/z/zc/zca/zca.djhtm?a={stock_id}'\n",
    "getCompanyTable(url)\n"
   ]
  },
  {
   "cell_type": "code",
   "execution_count": null,
   "metadata": {
    "scrolled": true
   },
   "outputs": [],
   "source": [
    "# comp_dict = dict()\n",
    "# broken_ids = list()\n",
    "\n",
    "selected_stock_ids = ['1236','1307','1321','1419','1439','1470','1541','1592','1614','1727','1805','2028','2115','2115','2211','2250','2388','2390','2404','2405','2424','2430','2433','2438','2468','2501','2501','2543','2712','2753','2910','2936','2945','3021','3035','3051','3059','3138','3266','3419','3515','3532','3701','3714','4190','4426','4440','4555','4560','4755','4930','4994','5222','5225','5284','5546','5608','6136','6172','6189','6201','6209','6224','6230','6289','6405','6442','6515','6715','6743','6754','6756','6768','6770','6781','6790','6806','8104','8427','8467','8478','8482','8488','9926','9927']\n",
    "\n",
    "for stock_id in tqdm(selected_stock_ids):\n",
    "\n",
    "    url = f'https://concords.moneydj.com/z/zc/zca/zca.djhtm?a={stock_id}'\n",
    "    res = requests.get(url, headers=headers).content\n",
    "    soup = BeautifulSoup(res, 'html.parser')\n",
    "    keys = [item.text for item in soup.find_all('td', {'class': 't4t1'})]\n",
    "    values = [item.text for item in soup.find_all('td', {'class': ['t3n1', 't3t1']}) if item.text.strip() != '']\n",
    "    try:\n",
    "        idx = keys.index('公司地址')\n",
    "        _dict = dict(zip(keys[:idx+1], values[:idx+1]))\n",
    "        comp_dict.update({stock_id: _dict})\n",
    "    \n",
    "    except:\n",
    "        print(f'broken id: {stock_id}')\n",
    "        broken_ids.append(stock_id)\n",
    "        continue\n",
    "    \n",
    "    finally:\n",
    "        sleep(np.random.randint(3, 8))\n",
    "\n"
   ]
  },
  {
   "cell_type": "code",
   "execution_count": null,
   "metadata": {
    "scrolled": true
   },
   "outputs": [],
   "source": [
    "for stock_id in tqdm(selected_stock_ids):\n",
    "    print(comp_dict[stock_id])\n",
    "    "
   ]
  },
  {
   "cell_type": "code",
   "execution_count": null,
   "metadata": {},
   "outputs": [],
   "source": [
    "selected_stock_ids[2]"
   ]
  },
  {
   "cell_type": "code",
   "execution_count": null,
   "metadata": {},
   "outputs": [],
   "source": [
    "# write to json\n",
    "with open('company_basic_info.json', 'w', encoding='utf-8') as f:\n",
    "    json.dump(comp_dict, f, ensure_ascii=False, indent=4)\n",
    "    "
   ]
  },
  {
   "cell_type": "markdown",
   "metadata": {},
   "source": [
    "#### 類股分類\n",
    "- 上市\n",
    "- 上櫃\n",
    "- 興櫃\n",
    "- 電子產業\n",
    "- 概念股\n",
    "- 集團股\n"
   ]
  },
  {
   "cell_type": "code",
   "execution_count": null,
   "metadata": {
    "scrolled": true
   },
   "outputs": [],
   "source": [
    "def getStockCates(idx):\n",
    "    \n",
    "    market_categories = ['上市','上櫃','興櫃','電子產業','概念股','集團股']\n",
    "    market_cat = market_categories[idx]\n",
    "    url = f'https://goodinfo.tw/StockInfo/StockList.asp?MARKET_CAT={market_cat}'\n",
    "    headers['User-Agent'] = random.choice(user_agent_list)\n",
    "    res = requests.get(url, headers=headers).content\n",
    "    soup = BeautifulSoup(res, 'html.parser')\n",
    "    list_stock_cate = soup.find('table', {'id': f'MENU{idx+2}'}).find_all('td', {'colspan': '4'})\n",
    "    list_stock_cate = [re.findall(r'[\\u4e00-\\u9fff]+', str(item)) for item in list_stock_cate]\n",
    "    list_stock_cate = [item[-1] for item in list_stock_cate if len(item) >0 and market_cat not in item[-1]]\n",
    "    return list_stock_cate\n",
    "\n",
    "\n",
    "list_stock_cate = getStockCates(idx=1)\n",
    "list_stock_cate\n"
   ]
  },
  {
   "cell_type": "code",
   "execution_count": null,
   "metadata": {},
   "outputs": [],
   "source": [
    "industries = list_stock_cate.copy()\n",
    "url = f'https://goodinfo.tw/StockInfo/StockList.asp?MARKET_CAT=上市&INDUSTRY_CAT={list_stock_cate[0]}'\n"
   ]
  },
  {
   "cell_type": "code",
   "execution_count": null,
   "metadata": {},
   "outputs": [],
   "source": [
    "def getCateStockList(market_cat, ind):\n",
    "    \n",
    "    url = f'https://goodinfo.tw/StockInfo/StockList.asp?MARKET_CAT={market_cat}&INDUSTRY_CAT={ind}'\n",
    "    headers['User-Agent'] = random.choice(user_agent_list)\n",
    "    res = requests.get(url, headers=headers).content\n",
    "    soup = BeautifulSoup(res, 'html.parser')\n",
    "    list_stock = [item.text for item in soup.find('table', {'class': 'r10_0_0_10 b1 p4_1'}).find_all('td')]\n",
    "    list_stock = [(x, y) for x, y in zip(list_stock[::2], list_stock[1::2]) if x != '代號']\n",
    "    return list_stock\n",
    "\n"
   ]
  },
  {
   "cell_type": "code",
   "execution_count": null,
   "metadata": {
    "scrolled": true
   },
   "outputs": [],
   "source": [
    "market_categories = ['上市','上櫃','興櫃','電子產業','概念股','集團股']\n",
    "stock_categories = dict()\n",
    "sleep_time = 10\n",
    "\n",
    "for idx in tqdm(range(len(market_categories))):\n",
    "    _ind_stocks = dict()\n",
    "    market_cat = market_categories[idx]\n",
    "    industries = getStockCates(idx=idx)\n",
    "    print(industries)\n",
    "    \n",
    "    sleep(np.random.randint(5, 8))\n",
    "    \n",
    "    for ind in industries:\n",
    "        try:\n",
    "            list_stock = getCateStockList(market_cat=market_cat, ind=ind)\n",
    "        except:\n",
    "            print(url)\n",
    "            # 發生錯誤時 多休息幾秒緩衝 避免被網站擋\n",
    "            sleep_time += 5\n",
    "            continue\n",
    "            \n",
    "        finally:\n",
    "            _ind_stocks.update({ind: list_stock})\n",
    "            print(ind, _ind_stocks[ind], '\\n')\n",
    "\n",
    "        sleep(np.random.randint(sleep_time, sleep_time+5))\n",
    "        \n",
    "    stock_categories.update({market_cat: _ind_stocks})\n",
    "    print(market_cat, stock_categories[market_cat])\n",
    "\n"
   ]
  },
  {
   "cell_type": "code",
   "execution_count": null,
   "metadata": {},
   "outputs": [],
   "source": [
    "stock_categories.keys()\n",
    "stock_categories['上櫃']['保險業']\n"
   ]
  },
  {
   "cell_type": "code",
   "execution_count": null,
   "metadata": {},
   "outputs": [],
   "source": [
    "with open('stock_categories.json', 'w', encoding='utf-8') as f:\n",
    "    json.dump(stock_categories, f, ensure_ascii=False, indent=4)\n"
   ]
  },
  {
   "cell_type": "code",
   "execution_count": null,
   "metadata": {},
   "outputs": [],
   "source": [
    "url = f'https://goodinfo.tw/StockInfo/StockDetail.asp?STOCK_ID={stock_id}'\n"
   ]
  },
  {
   "cell_type": "markdown",
   "metadata": {},
   "source": [
    "#### SemEval 2016 Task5 ABSA datasets\n",
    "- xml parser"
   ]
  },
  {
   "cell_type": "code",
   "execution_count": null,
   "metadata": {},
   "outputs": [],
   "source": [
    "from xml.etree import ElementTree\n",
    "import xmltodict\n",
    "\n",
    "# trial data\n",
    "url = 'https://alt.qcri.org/semeval2016/task5/data/uploads/trial-data/mobilephones_trial_chinese.xml'\n",
    "\n",
    "res = requests.get(url, headers=headers).content\n",
    "# tree = ElementTree.fromstring(res)\n",
    "res_dict = xmltodict.parse(res)\n",
    "res_dict\n"
   ]
  },
  {
   "cell_type": "code",
   "execution_count": null,
   "metadata": {},
   "outputs": [],
   "source": [
    "res_dict.keys()\n",
    "res_dict['Reviews'].keys()\n",
    "len(res_dict['Reviews']['Review'])\n",
    "res_dict['Reviews']['Review'][0].keys()\n",
    "res_dict['Reviews']['Review'][0]['sentences'].keys()\n",
    "len(res_dict['Reviews']['Review'][0]['sentences']['sentence'])\n",
    "res_dict['Reviews']['Review'][0]['sentences']['sentence'][1].keys()\n",
    "res_dict['Reviews']['Review'][0]['sentences']['sentence'][1]['Opinions']['Opinion']['@category']\n"
   ]
  },
  {
   "cell_type": "markdown",
   "metadata": {},
   "source": [
    "#### Other"
   ]
  },
  {
   "cell_type": "code",
   "execution_count": null,
   "metadata": {},
   "outputs": [],
   "source": [
    "# check table data\n",
    "# 英文公司名中間有空格，和分隔符衝突\n",
    "\n",
    "empty = list()\n",
    "diff = list()\n",
    "valid = list()\n",
    "for k in fund_ratio.keys():\n",
    "    \n",
    "    cl = list()\n",
    "    for row in fund_ratio[k].split('\\n'):\n",
    "        cl.append([char.strip() for char in row.split(' ') if len(char.strip()) > 0])\n",
    "    \n",
    "    try: \n",
    "        check = len(cl[3])\n",
    "        if check not in [6, 8]:\n",
    "            diff.append(k)\n",
    "        else:\n",
    "            valid.append(k)\n",
    "    except:\n",
    "        empty.append(k)\n",
    "\n",
    "\n",
    "empty\n",
    "diff"
   ]
  },
  {
   "cell_type": "code",
   "execution_count": null,
   "metadata": {},
   "outputs": [],
   "source": [
    "# test the login pop-up\n",
    "driver = webdriver.Chrome(executable_path=chrome_path, options=opt)\n",
    "driver.set_window_size(1024, 850)\n",
    "driver.get('https://www.moneydj.com/funddj/yl/yp013000.djhtm?a=ACKY39')\n",
    "sleep(1)\n",
    "\n",
    "# 在網頁外面的彈出 selenium 沒辦法操作\n",
    "#action = ActionChains(driver)\n",
    "#action.send_keys(account).send_keys(Keys.TAB).send_keys(password).send_keys(Keys.ENTER).perform()\n"
   ]
  },
  {
   "cell_type": "code",
   "execution_count": null,
   "metadata": {},
   "outputs": [],
   "source": [
    "driver.quit()"
   ]
  },
  {
   "cell_type": "code",
   "execution_count": null,
   "metadata": {
    "scrolled": true
   },
   "outputs": [],
   "source": [
    "cl = list()\n",
    "for row in fund_ratio[diff[11]].split('\\n'):\n",
    "    cl.append([char.strip() for char in row.split(' ') if len(char.strip()) > 0])\n",
    "\n",
    "cl\n",
    "# [row.split(' ') for row in fund_ratio['AC0001'].split('\\n')]\n",
    "diff[11]"
   ]
  },
  {
   "cell_type": "code",
   "execution_count": null,
   "metadata": {},
   "outputs": [],
   "source": [
    "k = 'ACAI175'\n",
    "\n",
    "content = ' '.join(fund_ratio[k].split('\\n')[3:])\n",
    "cl = np.unique([char.strip() for char in re.findall(r'[\\u4e00-\\u9fff- a-zA-Z]+|91APP', content) \n",
    "                if (char.strip() != '') and (char.strip() != '-')]).tolist()\n",
    "\n",
    "content"
   ]
  },
  {
   "cell_type": "code",
   "execution_count": null,
   "metadata": {},
   "outputs": [],
   "source": [
    "len(fund_ratio_simple.keys())"
   ]
  },
  {
   "cell_type": "code",
   "execution_count": null,
   "metadata": {},
   "outputs": [],
   "source": [
    "fund_ratio[k]"
   ]
  },
  {
   "cell_type": "code",
   "execution_count": null,
   "metadata": {},
   "outputs": [],
   "source": [
    "url = 'https://www.tej.com.tw/webtej/doc/uid.htm'\n",
    "\n",
    "driver = webdriver.Chrome(executable_path=chrome_path, options=opt)\n",
    "driver.set_window_size(1024, 850)\n",
    "driver.get(url)\n",
    "text = [item.text for item in driver.find_elements_by_xpath('//font')]\n",
    "sleep(1)\n",
    "driver.quit()"
   ]
  },
  {
   "cell_type": "code",
   "execution_count": null,
   "metadata": {},
   "outputs": [],
   "source": [
    "end = text.index('上櫃公司代碼一覽表')\n",
    "start = text.index('1101   台泥')\n",
    "stock_comp = [item.strip() for item in text[start:end] if (item.strip() != '') and re.findall('[0-9]+', item)]\n",
    "stock_names = [item.split(' ')[-1].strip() for item in stock_comp]\n",
    "stock_ids = [item.split(' ')[0].strip() for item in stock_comp]\n"
   ]
  },
  {
   "cell_type": "code",
   "execution_count": null,
   "metadata": {},
   "outputs": [],
   "source": [
    "re.findall('[0-9]+', '1110   東泥')"
   ]
  },
  {
   "cell_type": "code",
   "execution_count": null,
   "metadata": {},
   "outputs": [],
   "source": [
    "df_stock_comp = pd.DataFrame([stock_ids, stock_names]).T\n",
    "df_stock_comp.columns = ['id', 'name']\n",
    "df_stock_comp.to_csv('df_stock_comp.csv', index=False)"
   ]
  },
  {
   "cell_type": "code",
   "execution_count": null,
   "metadata": {
    "scrolled": false
   },
   "outputs": [],
   "source": [
    "df_stock_comp"
   ]
  },
  {
   "cell_type": "code",
   "execution_count": null,
   "metadata": {},
   "outputs": [],
   "source": []
  },
  {
   "cell_type": "code",
   "execution_count": null,
   "metadata": {},
   "outputs": [],
   "source": []
  }
 ],
 "metadata": {
  "kernelspec": {
   "display_name": "Python 3",
   "language": "python",
   "name": "python3"
  },
  "language_info": {
   "codemirror_mode": {
    "name": "ipython",
    "version": 3
   },
   "file_extension": ".py",
   "mimetype": "text/x-python",
   "name": "python",
   "nbconvert_exporter": "python",
   "pygments_lexer": "ipython3",
   "version": "3.7.9"
  }
 },
 "nbformat": 4,
 "nbformat_minor": 5
}
