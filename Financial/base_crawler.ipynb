{
 "cells": [
  {
   "cell_type": "code",
   "execution_count": null,
   "metadata": {},
   "outputs": [],
   "source": [
    "import requests\n",
    "import random\n",
    "from bs4 import BeautifulSoup\n"
   ]
  },
  {
   "cell_type": "code",
   "execution_count": null,
   "metadata": {},
   "outputs": [],
   "source": [
    "url = 'https://www.moneydj.com/ETF/X/Basic/Basic0007a.xdjhtm?etfid=0061.TW'\n",
    "user_agent_list = [\n",
    "    'Mozilla/5.0 (Macintosh; Intel Mac OS X 10_15_5) AppleWebKit/605.1.15 (KHTML, like Gecko) Version/13.1.1 Safari/605.1.15',\n",
    "    'Mozilla/5.0 (Windows NT 10.0; Win64; x64; rv:77.0) Gecko/20100101 Firefox/77.0',\n",
    "    'Mozilla/5.0 (Macintosh; Intel Mac OS X 10_15_5) AppleWebKit/537.36 (KHTML, like Gecko) Chrome/83.0.4103.97 Safari/537.36',\n",
    "    'Mozilla/5.0 (Macintosh; Intel Mac OS X 10.15; rv:77.0) Gecko/20100101 Firefox/77.0',\n",
    "    'Mozilla/5.0 (Windows NT 10.0; Win64; x64) AppleWebKit/537.36 (KHTML, like Gecko) Chrome/83.0.4103.97 Safari/537.36',\n",
    "]\n",
    "headers = {\n",
    "    \"accept\": \"text/html,application/xhtml+xml,application/xml;q=0.9,image/avif,image/webp,image/apng,*/*;q=0.8,application/signed-exchange;v=b3;q=0.9\", \n",
    "    \"accept-encoding\": \"gzip, deflate, br\", \n",
    "    \"accept-language\": \"zh-TW,zh;q=0.9,en-US;q=0.8,en;q=0.7\", \n",
    "    \"sec-fetch-dest\": \"document\",\n",
    "    \"sec-fetch-mode\": \"navigate\",\n",
    "    \"sec-fetch-site\": \"none\",\n",
    "    \"sec-fetch-user\": \"?1\",\n",
    "    \"sec-gpc\": \"1\",\n",
    "    \"referer\": \"https://www.google.com/\",\n",
    "    \"dnt\": \"1\", \n",
    "    \"upgrade-Insecure-Requests\": \"1\", \n",
    "    \"user-Agent\": \"Mozilla/5.0 (Linux; Android 6.0; Nexus 5 Build/MRA58N) AppleWebKit/537.36 (KHTML, like Gecko) Chrome/95.0.4638.69 Mobile Safari/537.36\", \n",
    "}\n",
    "\n"
   ]
  },
  {
   "cell_type": "code",
   "execution_count": null,
   "metadata": {},
   "outputs": [],
   "source": [
    "# test requests but no use\n",
    "res = requests.get(url, headers=headers).content\n",
    "soup = BeautifulSoup(res, 'html.parser')\n",
    "# soup"
   ]
  },
  {
   "cell_type": "code",
   "execution_count": null,
   "metadata": {},
   "outputs": [],
   "source": [
    "import selenium\n",
    "selenium.__version__\n",
    "from selenium import webdriver\n",
    "from webdriver_manager.chrome import ChromeDriverManager\n",
    "# driver = webdriver.Chrome(ChromeDriverManager().install())\n",
    "from selenium.webdriver.common.by import By\n",
    "from selenium.webdriver.support import expected_conditions as EC\n",
    "from selenium.webdriver.support.ui import WebDriverWait\n",
    "from selenium.webdriver.common.action_chains import ActionChains\n",
    "from selenium.webdriver.common.keys import Keys\n",
    "\n",
    "from time import sleep\n",
    "import numpy as np\n",
    "from tqdm import tqdm\n"
   ]
  },
  {
   "cell_type": "code",
   "execution_count": null,
   "metadata": {},
   "outputs": [],
   "source": [
    "user_agent = 'Mozilla/5.0 (Macintosh; Intel Mac OS X 10_13_6) AppleWebKit/605.1.15 (KHTML, like Gecko) Version/12.0.3 Safari/605.1.15'\n",
    "chrome_path = 'C:/Users/Administrator/.wdm/drivers/chromedriver/win32/96.0.4664.45/chromedriver.exe'\n",
    "url = 'https://www.moneydj.com/ETF/X/Basic/Basic0007.xdjhtm?etfid=2824.HK'\n",
    "opt = webdriver.ChromeOptions()\n",
    "opt.add_argument('--user-agent=%s' % user_agent)\n"
   ]
  },
  {
   "cell_type": "markdown",
   "metadata": {},
   "source": [
    "### ETFs\n",
    "- https://www.moneydj.com/etf/x/Basic/Basic0007.xdjhtm?etfid=SPY"
   ]
  },
  {
   "cell_type": "code",
   "execution_count": null,
   "metadata": {},
   "outputs": [],
   "source": [
    "import json"
   ]
  },
  {
   "cell_type": "code",
   "execution_count": null,
   "metadata": {},
   "outputs": [],
   "source": [
    "# catch all etf company names\n",
    "driver = webdriver.Chrome(executable_path=chrome_path, options=opt)\n",
    "driver.set_window_size(1024, 850)\n",
    "\n",
    "driver.get(url)\n",
    "sleep(0.5)\n",
    "\n",
    "etf_list = [item.text for item in driver.find_elements_by_xpath('//select[@id=\"Menu1\"]//option')]\n",
    "print(etf_list)\n",
    "\n",
    "driver.quit()\n",
    "\n"
   ]
  },
  {
   "cell_type": "code",
   "execution_count": null,
   "metadata": {},
   "outputs": [],
   "source": [
    "etf_list_asia = etf_list[212:]\n"
   ]
  },
  {
   "cell_type": "code",
   "execution_count": null,
   "metadata": {},
   "outputs": [],
   "source": [
    "# catch all etf of each companies\n",
    "driver = webdriver.Chrome(executable_path=chrome_path, options=opt)\n",
    "driver.set_window_size(1024, 850)\n",
    "\n",
    "etf_options = dict()\n",
    "driver.get(url)\n",
    "for etf in tqdm(etf_list_asia):\n",
    "    \n",
    "#     idx = etf_list.index(etf)\n",
    "#     print(idx)\n",
    "\n",
    "    # get current company's etf list\n",
    "    option_list = [item.text for item in driver.find_elements_by_xpath('//select[@id=\"Menu2\"]//option')]\n",
    "    etf_options.update({etf: option_list})\n",
    "    \n",
    "    # go to another company\n",
    "    WebDriverWait(driver, 3).until(\n",
    "        EC.presence_of_element_located((By.XPATH, \n",
    "                                        '//span[@id=\"DivMenu1\"]'))\n",
    "    ).click()\n",
    "    action = ActionChains(driver)\n",
    "    action.send_keys(Keys.ARROW_DOWN).send_keys(Keys.ENTER).perform()\n",
    "    \n",
    "    sleep(np.random.randint(1, 5))\n",
    "\n",
    "\n",
    "driver.quit()\n",
    "\n",
    "\n"
   ]
  },
  {
   "cell_type": "code",
   "execution_count": null,
   "metadata": {
    "scrolled": true
   },
   "outputs": [],
   "source": [
    "# catch all stock (element ratio) of each etf of each companies\n",
    "driver = webdriver.Chrome(executable_path=chrome_path, options=opt)\n",
    "driver.set_window_size(1024, 850)\n",
    "\n",
    "etf_element = dict()\n",
    "for etf in tqdm(etf_options.keys()):\n",
    "    for etfid in etf_options[etf]:\n",
    "        \n",
    "        etfid = etfid.split('〈')[1][:-1]\n",
    "        url = f'https://www.moneydj.com/ETF/X/Basic/Basic0007.xdjhtm?etfid={etfid}'\n",
    "        driver.get(url)\n",
    "        \n",
    "        try:\n",
    "            table = WebDriverWait(driver, 3).until(\n",
    "                EC.presence_of_element_located((By.XPATH, \n",
    "                                                '//table[@id=\"ctl00_ctl00_MainContent_MainContent_stable3\"]')))\n",
    "            table_content = table.text\n",
    "        except:\n",
    "            print(url)\n",
    "            table_content = ' '\n",
    "#         driver.find_element_by_xpath('//table[@id=\"ctl00_ctl00_MainContent_MainContent_stable3\"]').text\n",
    "        etf_element.update({etfid: table_content})\n",
    "        \n",
    "        sleep(np.random.randint(1, 5))\n",
    "\n",
    "driver.quit()\n",
    "        "
   ]
  },
  {
   "cell_type": "code",
   "execution_count": null,
   "metadata": {},
   "outputs": [],
   "source": [
    "# reformat the table content to list of tuples\n",
    "etf_element_new = dict()\n",
    "for etfid in etf_element.keys():\n",
    "    \n",
    "    if etf_element[etfid] == ' ':\n",
    "        etf_element_new.update({etfid: ' '})\n",
    "    else:\n",
    "        list_table = [line.split(' ') for line in etf_element[etfid].split('\\n')]\n",
    "        etf_element_new.update({etfid: [(row[0], row[1], row[2]) for row in list_table[1:]]})\n",
    "\n"
   ]
  },
  {
   "cell_type": "code",
   "execution_count": null,
   "metadata": {},
   "outputs": [],
   "source": [
    "# write to json\n",
    "with open('etf_element_ratio.json', 'w', encoding='utf-8') as f:\n",
    "    json.dump(etf_element_new, f, ensure_ascii=False, indent=4)\n",
    "    "
   ]
  },
  {
   "cell_type": "code",
   "execution_count": null,
   "metadata": {},
   "outputs": [],
   "source": [
    "# load from json\n",
    "with open('etf_element_ratio.json', 'r', encoding='utf-8') as f:\n",
    "    etf_element_test = json.load(f)\n",
    "    "
   ]
  },
  {
   "cell_type": "code",
   "execution_count": null,
   "metadata": {},
   "outputs": [],
   "source": [
    "# A mapping dict between ETF id & name\n",
    "etf_id_name_mapping = dict()\n",
    "\n",
    "for comp in etf_options.keys():\n",
    "    for etf in etf_options[comp]:\n",
    "        etf_id = etf.split('〈')[-1][:-1]\n",
    "        etf_name = etf.split('〈')[0]\n",
    "        etf_id_name_mapping.update({etf_id: etf_name})\n",
    "        \n",
    "# etf_id_name_mapping\n"
   ]
  },
  {
   "cell_type": "markdown",
   "metadata": {},
   "source": [
    "### 基金\n",
    "- https://www.moneydj.com/funddj/yb/YP301000.djhtm"
   ]
  },
  {
   "cell_type": "code",
   "execution_count": null,
   "metadata": {},
   "outputs": [],
   "source": [
    "import re\n",
    "import pandas as pd\n"
   ]
  },
  {
   "cell_type": "code",
   "execution_count": null,
   "metadata": {},
   "outputs": [],
   "source": [
    "url = 'https://www.moneydj.com/funddj/yb/YP301000.djhtm'\n",
    "account = 'abaoyang'\n",
    "password = 'YGyang615thebest'\n"
   ]
  },
  {
   "cell_type": "code",
   "execution_count": null,
   "metadata": {},
   "outputs": [],
   "source": [
    "# catch type of funds\n",
    "driver = webdriver.Chrome(executable_path=chrome_path, options=opt)\n",
    "driver.set_window_size(1024, 850)\n",
    "driver.get(url)\n",
    "sleep(1)\n",
    "fund_types = [(item.text, item.get_attribute('href')) for item \n",
    "              in driver.find_elements_by_xpath('//div[@class=\"InternalSearch\"]//a')]\n",
    "print(fund_types[:5])\n",
    "\n",
    "fund_company_list = list()\n",
    "for item in tqdm(fund_types):\n",
    "    driver.get(item[1])\n",
    "    fund_company = [(item.text, item.get_attribute('href')) for item \n",
    "                         in driver.find_elements_by_xpath('//table[@id=\"oMainTable\"]//td/a') if len(item.text.strip()) > 0]\n",
    "    print(fund_company[:6])\n",
    "    fund_list = fund_company[0::2]\n",
    "    print(fund_list[:3])\n",
    "    company_list = fund_company[1::2]\n",
    "    company_list = [item[0] for item in company_list]\n",
    "    print(company_list[:3])\n",
    "    for i in range(len(fund_list)):\n",
    "        fund_company_list += [(company_list[i], fund_list[i][0], fund_list[i][1])]\n",
    "    \n",
    "    sleep(np.random.randint(3, 7))\n",
    "    \n",
    "    \n",
    "driver.quit()\n",
    "\n",
    "\n"
   ]
  },
  {
   "cell_type": "code",
   "execution_count": null,
   "metadata": {
    "scrolled": true
   },
   "outputs": [],
   "source": [
    "fund_company_dict = {'list': fund_company_list}\n",
    "\n",
    "# store to json file\n",
    "with open('fund_company_dict.json', 'w', encoding='utf-8') as f:\n",
    "    json.dump(fund_company_dict, f, ensure_ascii=False, indent=4)\n"
   ]
  },
  {
   "cell_type": "code",
   "execution_count": null,
   "metadata": {
    "scrolled": false
   },
   "outputs": [],
   "source": [
    "# load from json\n",
    "with open('../../KG-try/basic_info_collector/from_moneyDJ/fund_company_dict.json', 'r', encoding='utf-8') as f:\n",
    "    fund_company_dict = json.load(f)\n",
    "fund_company_list = fund_company_dict['list']\n"
   ]
  },
  {
   "cell_type": "code",
   "execution_count": 16,
   "metadata": {},
   "outputs": [
    {
     "name": "stderr",
     "output_type": "stream",
     "text": [
      "  0%|▏                                                                             | 6/3672 [01:38<15:58:09, 15.68s/it]"
     ]
    },
    {
     "name": "stdout",
     "output_type": "stream",
     "text": [
      "https://www.moneydj.com/funddj/yl/yp013000.djhtm?a=ACCA98\n"
     ]
    },
    {
     "name": "stderr",
     "output_type": "stream",
     "text": [
      "\r",
      "  0%|▏                                                                             | 7/3672 [01:51<14:56:22, 14.67s/it]"
     ]
    },
    {
     "name": "stdout",
     "output_type": "stream",
     "text": [
      "https://www.moneydj.com/funddj/yl/yp013000.djhtm?a=ACTR12\n"
     ]
    },
    {
     "name": "stderr",
     "output_type": "stream",
     "text": [
      "\r",
      "  0%|▏                                                                             | 8/3672 [01:59<13:06:50, 12.88s/it]"
     ]
    },
    {
     "name": "stdout",
     "output_type": "stream",
     "text": [
      "https://www.moneydj.com/funddj/yl/yp013000.djhtm?a=ACYT59\n"
     ]
    },
    {
     "name": "stderr",
     "output_type": "stream",
     "text": [
      "  1%|▌                                                                             | 29/3672 [05:34<9:13:20,  9.11s/it]"
     ]
    },
    {
     "name": "stdout",
     "output_type": "stream",
     "text": [
      "https://www.moneydj.com/funddj/yl/yp013000.djhtm?a=ACCH38\n"
     ]
    },
    {
     "name": "stderr",
     "output_type": "stream",
     "text": [
      "\r",
      "  1%|▋                                                                            | 30/3672 [05:46<10:05:08,  9.97s/it]"
     ]
    },
    {
     "name": "stdout",
     "output_type": "stream",
     "text": [
      "https://www.moneydj.com/funddj/yl/yp013000.djhtm?a=ACCH21\n"
     ]
    },
    {
     "name": "stderr",
     "output_type": "stream",
     "text": [
      "  1%|▋                                                                            | 33/3672 [06:18<10:23:49, 10.29s/it]"
     ]
    },
    {
     "name": "stdout",
     "output_type": "stream",
     "text": [
      "https://www.moneydj.com/funddj/yl/yp013000.djhtm?a=ACCA97\n"
     ]
    },
    {
     "name": "stderr",
     "output_type": "stream",
     "text": [
      "  1%|▋                                                                            | 35/3672 [06:38<10:07:23, 10.02s/it]"
     ]
    },
    {
     "name": "stdout",
     "output_type": "stream",
     "text": [
      "https://www.moneydj.com/funddj/yl/yp013000.djhtm?a=ACTR13\n"
     ]
    },
    {
     "name": "stderr",
     "output_type": "stream",
     "text": [
      "\r",
      "  1%|▊                                                                            | 36/3672 [06:49<10:22:49, 10.28s/it]"
     ]
    },
    {
     "name": "stdout",
     "output_type": "stream",
     "text": [
      "https://www.moneydj.com/funddj/yl/yp013000.djhtm?a=ACYT60\n"
     ]
    },
    {
     "name": "stderr",
     "output_type": "stream",
     "text": [
      "  1%|▊                                                                             | 40/3672 [07:28<9:46:28,  9.69s/it]"
     ]
    },
    {
     "name": "stdout",
     "output_type": "stream",
     "text": [
      "https://www.moneydj.com/funddj/yl/yp013000.djhtm?a=ACFP136\n"
     ]
    },
    {
     "name": "stderr",
     "output_type": "stream",
     "text": [
      "  5%|████▏                                                                        | 198/3672 [28:19<7:50:27,  8.13s/it]"
     ]
    },
    {
     "name": "stdout",
     "output_type": "stream",
     "text": [
      "https://www.moneydj.com/funddj/yl/yp013000.djhtm?a=ACNB03\n"
     ]
    },
    {
     "name": "stderr",
     "output_type": "stream",
     "text": [
      "\r",
      "  5%|████▏                                                                        | 199/3672 [28:29<8:17:35,  8.60s/it]"
     ]
    },
    {
     "name": "stdout",
     "output_type": "stream",
     "text": [
      "https://www.moneydj.com/funddj/yl/yp013000.djhtm?a=ACNB04\n"
     ]
    },
    {
     "name": "stderr",
     "output_type": "stream",
     "text": [
      "\r",
      "  5%|████▏                                                                        | 200/3672 [28:38<8:38:26,  8.96s/it]"
     ]
    },
    {
     "name": "stdout",
     "output_type": "stream",
     "text": [
      "https://www.moneydj.com/funddj/yl/yp013000.djhtm?a=ACAI214\n"
     ]
    },
    {
     "name": "stderr",
     "output_type": "stream",
     "text": [
      "  6%|████▍                                                                        | 212/3672 [30:26<8:26:14,  8.78s/it]"
     ]
    },
    {
     "name": "stdout",
     "output_type": "stream",
     "text": [
      "https://www.moneydj.com/funddj/yl/yp013000.djhtm?a=ACCA274\n"
     ]
    },
    {
     "name": "stderr",
     "output_type": "stream",
     "text": [
      " 14%|██████████▋                                                                | 522/3672 [1:16:54<7:37:01,  8.71s/it]"
     ]
    },
    {
     "name": "stdout",
     "output_type": "stream",
     "text": [
      "https://www.moneydj.com/funddj/yl/yp013000.djhtm?a=ACFH59\n"
     ]
    },
    {
     "name": "stderr",
     "output_type": "stream",
     "text": [
      "\r",
      " 14%|██████████▋                                                                | 523/3672 [1:17:06<8:31:59,  9.76s/it]"
     ]
    },
    {
     "name": "stdout",
     "output_type": "stream",
     "text": [
      "https://www.moneydj.com/funddj/yl/yp013000.djhtm?a=ACCA255\n"
     ]
    },
    {
     "name": "stderr",
     "output_type": "stream",
     "text": [
      "\r",
      " 14%|██████████▋                                                                | 524/3672 [1:17:16<8:33:41,  9.79s/it]"
     ]
    },
    {
     "name": "stdout",
     "output_type": "stream",
     "text": [
      "https://www.moneydj.com/funddj/yl/yp013000.djhtm?a=ACCA142\n"
     ]
    },
    {
     "name": "stderr",
     "output_type": "stream",
     "text": [
      "\r",
      " 14%|██████████▋                                                                | 525/3672 [1:17:28<9:04:48, 10.39s/it]"
     ]
    },
    {
     "name": "stdout",
     "output_type": "stream",
     "text": [
      "https://www.moneydj.com/funddj/yl/yp013000.djhtm?a=ACAI350\n"
     ]
    },
    {
     "name": "stderr",
     "output_type": "stream",
     "text": [
      "\r",
      " 14%|██████████▋                                                                | 526/3672 [1:17:38<9:09:00, 10.47s/it]"
     ]
    },
    {
     "name": "stdout",
     "output_type": "stream",
     "text": [
      "https://www.moneydj.com/funddj/yl/yp013000.djhtm?a=ACAI352\n"
     ]
    },
    {
     "name": "stderr",
     "output_type": "stream",
     "text": [
      " 14%|██████████▊                                                                | 528/3672 [1:17:59<8:51:55, 10.15s/it]"
     ]
    },
    {
     "name": "stdout",
     "output_type": "stream",
     "text": [
      "https://www.moneydj.com/funddj/yl/yp013000.djhtm?a=ACAI354\n"
     ]
    },
    {
     "name": "stderr",
     "output_type": "stream",
     "text": [
      "\r",
      " 14%|██████████▊                                                                | 529/3672 [1:18:09<9:00:47, 10.32s/it]"
     ]
    },
    {
     "name": "stdout",
     "output_type": "stream",
     "text": [
      "https://www.moneydj.com/funddj/yl/yp013000.djhtm?a=ACAI342\n"
     ]
    },
    {
     "name": "stderr",
     "output_type": "stream",
     "text": [
      "\r",
      " 14%|██████████▊                                                                | 530/3672 [1:18:20<9:01:02, 10.33s/it]"
     ]
    },
    {
     "name": "stdout",
     "output_type": "stream",
     "text": [
      "https://www.moneydj.com/funddj/yl/yp013000.djhtm?a=ACAI343\n"
     ]
    },
    {
     "name": "stderr",
     "output_type": "stream",
     "text": [
      "\r",
      " 14%|██████████▊                                                                | 531/3672 [1:18:29<8:40:45,  9.95s/it]"
     ]
    },
    {
     "name": "stdout",
     "output_type": "stream",
     "text": [
      "https://www.moneydj.com/funddj/yl/yp013000.djhtm?a=ACAI344\n"
     ]
    },
    {
     "name": "stderr",
     "output_type": "stream",
     "text": [
      "\r",
      " 14%|██████████▊                                                                | 532/3672 [1:18:39<8:48:03, 10.09s/it]"
     ]
    },
    {
     "name": "stdout",
     "output_type": "stream",
     "text": [
      "https://www.moneydj.com/funddj/yl/yp013000.djhtm?a=ACAI345\n"
     ]
    },
    {
     "name": "stderr",
     "output_type": "stream",
     "text": [
      "\r",
      " 15%|██████████▉                                                                | 533/3672 [1:18:49<8:40:58,  9.96s/it]"
     ]
    },
    {
     "name": "stdout",
     "output_type": "stream",
     "text": [
      "https://www.moneydj.com/funddj/yl/yp013000.djhtm?a=ACAI346\n"
     ]
    },
    {
     "name": "stderr",
     "output_type": "stream",
     "text": [
      "\r",
      " 15%|██████████▉                                                                | 534/3672 [1:18:57<8:15:45,  9.48s/it]"
     ]
    },
    {
     "name": "stdout",
     "output_type": "stream",
     "text": [
      "https://www.moneydj.com/funddj/yl/yp013000.djhtm?a=ACAI347\n"
     ]
    },
    {
     "name": "stderr",
     "output_type": "stream",
     "text": [
      "\r",
      " 15%|██████████▉                                                                | 535/3672 [1:19:09<8:51:27, 10.17s/it]"
     ]
    },
    {
     "name": "stdout",
     "output_type": "stream",
     "text": [
      "https://www.moneydj.com/funddj/yl/yp013000.djhtm?a=ACAI337\n"
     ]
    },
    {
     "name": "stderr",
     "output_type": "stream",
     "text": [
      "\r",
      " 15%|██████████▉                                                                | 536/3672 [1:19:20<9:03:39, 10.40s/it]"
     ]
    },
    {
     "name": "stdout",
     "output_type": "stream",
     "text": [
      "https://www.moneydj.com/funddj/yl/yp013000.djhtm?a=ACAI340\n"
     ]
    },
    {
     "name": "stderr",
     "output_type": "stream",
     "text": [
      "\r",
      " 15%|██████████▉                                                                | 537/3672 [1:19:32<9:27:59, 10.87s/it]"
     ]
    },
    {
     "name": "stdout",
     "output_type": "stream",
     "text": [
      "https://www.moneydj.com/funddj/yl/yp013000.djhtm?a=ACAI335\n"
     ]
    },
    {
     "name": "stderr",
     "output_type": "stream",
     "text": [
      "\r",
      " 15%|██████████▉                                                                | 538/3672 [1:19:41<9:07:35, 10.48s/it]"
     ]
    },
    {
     "name": "stdout",
     "output_type": "stream",
     "text": [
      "https://www.moneydj.com/funddj/yl/yp013000.djhtm?a=ACAI180\n"
     ]
    },
    {
     "name": "stderr",
     "output_type": "stream",
     "text": [
      "\r",
      " 15%|███████████                                                                | 539/3672 [1:19:51<8:59:26, 10.33s/it]"
     ]
    },
    {
     "name": "stdout",
     "output_type": "stream",
     "text": [
      "https://www.moneydj.com/funddj/yl/yp013000.djhtm?a=ACAI181\n"
     ]
    },
    {
     "name": "stderr",
     "output_type": "stream",
     "text": [
      "\r",
      " 15%|███████████                                                                | 540/3672 [1:20:03<9:26:28, 10.85s/it]"
     ]
    },
    {
     "name": "stdout",
     "output_type": "stream",
     "text": [
      "https://www.moneydj.com/funddj/yl/yp013000.djhtm?a=ACNB108\n"
     ]
    },
    {
     "name": "stderr",
     "output_type": "stream",
     "text": [
      "\r",
      " 15%|███████████                                                                | 541/3672 [1:20:14<9:23:40, 10.80s/it]"
     ]
    },
    {
     "name": "stdout",
     "output_type": "stream",
     "text": [
      "https://www.moneydj.com/funddj/yl/yp013000.djhtm?a=ACNB109\n"
     ]
    },
    {
     "name": "stderr",
     "output_type": "stream",
     "text": [
      "\r",
      " 15%|███████████                                                                | 542/3672 [1:20:27<9:52:09, 11.35s/it]"
     ]
    },
    {
     "name": "stdout",
     "output_type": "stream",
     "text": [
      "https://www.moneydj.com/funddj/yl/yp013000.djhtm?a=ACNB110\n"
     ]
    },
    {
     "name": "stderr",
     "output_type": "stream",
     "text": [
      "\r",
      " 15%|███████████                                                                | 543/3672 [1:20:38<9:43:02, 11.18s/it]"
     ]
    },
    {
     "name": "stdout",
     "output_type": "stream",
     "text": [
      "https://www.moneydj.com/funddj/yl/yp013000.djhtm?a=ACNB111\n"
     ]
    },
    {
     "name": "stderr",
     "output_type": "stream",
     "text": [
      "\r",
      " 15%|███████████                                                                | 544/3672 [1:20:50<9:55:16, 11.42s/it]"
     ]
    },
    {
     "name": "stdout",
     "output_type": "stream",
     "text": [
      "https://www.moneydj.com/funddj/yl/yp013000.djhtm?a=ACNB112\n"
     ]
    },
    {
     "name": "stderr",
     "output_type": "stream",
     "text": [
      "\r",
      " 15%|███████████▏                                                               | 545/3672 [1:20:59<9:29:31, 10.93s/it]"
     ]
    },
    {
     "name": "stdout",
     "output_type": "stream",
     "text": [
      "https://www.moneydj.com/funddj/yl/yp013000.djhtm?a=ACNB113\n"
     ]
    },
    {
     "name": "stderr",
     "output_type": "stream",
     "text": [
      "\r",
      " 15%|███████████▏                                                               | 546/3672 [1:21:10<9:24:28, 10.83s/it]"
     ]
    },
    {
     "name": "stdout",
     "output_type": "stream",
     "text": [
      "https://www.moneydj.com/funddj/yl/yp013000.djhtm?a=ACNB114\n"
     ]
    },
    {
     "name": "stderr",
     "output_type": "stream",
     "text": [
      "\r",
      " 15%|███████████▏                                                               | 547/3672 [1:21:23<9:51:50, 11.36s/it]"
     ]
    },
    {
     "name": "stdout",
     "output_type": "stream",
     "text": [
      "https://www.moneydj.com/funddj/yl/yp013000.djhtm?a=ACNB115\n"
     ]
    },
    {
     "name": "stderr",
     "output_type": "stream",
     "text": [
      "\r",
      " 15%|███████████▏                                                               | 548/3672 [1:21:33<9:41:35, 11.17s/it]"
     ]
    },
    {
     "name": "stdout",
     "output_type": "stream",
     "text": [
      "https://www.moneydj.com/funddj/yl/yp013000.djhtm?a=ACNB116\n"
     ]
    },
    {
     "name": "stderr",
     "output_type": "stream",
     "text": [
      "\r",
      " 15%|███████████▏                                                               | 549/3672 [1:21:46<9:59:34, 11.52s/it]"
     ]
    },
    {
     "name": "stdout",
     "output_type": "stream",
     "text": [
      "https://www.moneydj.com/funddj/yl/yp013000.djhtm?a=ACNB117\n"
     ]
    },
    {
     "name": "stderr",
     "output_type": "stream",
     "text": [
      "\r",
      " 15%|███████████▏                                                               | 550/3672 [1:21:55<9:25:04, 10.86s/it]"
     ]
    },
    {
     "name": "stdout",
     "output_type": "stream",
     "text": [
      "https://www.moneydj.com/funddj/yl/yp013000.djhtm?a=ACNB118\n"
     ]
    },
    {
     "name": "stderr",
     "output_type": "stream",
     "text": [
      "\r",
      " 15%|███████████▎                                                               | 551/3672 [1:22:04<8:51:23, 10.22s/it]"
     ]
    },
    {
     "name": "stdout",
     "output_type": "stream",
     "text": [
      "https://www.moneydj.com/funddj/yl/yp013000.djhtm?a=ACNB119\n"
     ]
    },
    {
     "name": "stderr",
     "output_type": "stream",
     "text": [
      "\r",
      " 15%|███████████▎                                                               | 552/3672 [1:22:16<9:18:18, 10.74s/it]"
     ]
    },
    {
     "name": "stdout",
     "output_type": "stream",
     "text": [
      "https://www.moneydj.com/funddj/yl/yp013000.djhtm?a=ACNB120\n"
     ]
    },
    {
     "name": "stderr",
     "output_type": "stream",
     "text": [
      "\r",
      " 15%|███████████▎                                                               | 553/3672 [1:22:25<9:04:33, 10.48s/it]"
     ]
    },
    {
     "name": "stdout",
     "output_type": "stream",
     "text": [
      "https://www.moneydj.com/funddj/yl/yp013000.djhtm?a=ACNB121\n"
     ]
    },
    {
     "name": "stderr",
     "output_type": "stream",
     "text": [
      "\r",
      " 15%|███████████▎                                                               | 554/3672 [1:22:37<9:22:37, 10.83s/it]"
     ]
    },
    {
     "name": "stdout",
     "output_type": "stream",
     "text": [
      "https://www.moneydj.com/funddj/yl/yp013000.djhtm?a=ACNB122\n"
     ]
    },
    {
     "name": "stderr",
     "output_type": "stream",
     "text": [
      "\r",
      " 15%|███████████▎                                                               | 555/3672 [1:22:46<8:59:34, 10.39s/it]"
     ]
    },
    {
     "name": "stdout",
     "output_type": "stream",
     "text": [
      "https://www.moneydj.com/funddj/yl/yp013000.djhtm?a=ACNB123\n"
     ]
    },
    {
     "name": "stderr",
     "output_type": "stream",
     "text": [
      "\r",
      " 15%|███████████▎                                                               | 556/3672 [1:22:57<9:05:57, 10.51s/it]"
     ]
    },
    {
     "name": "stdout",
     "output_type": "stream",
     "text": [
      "https://www.moneydj.com/funddj/yl/yp013000.djhtm?a=ACNB124\n"
     ]
    },
    {
     "name": "stderr",
     "output_type": "stream",
     "text": [
      "\r",
      " 15%|███████████▍                                                               | 557/3672 [1:23:09<9:25:24, 10.89s/it]"
     ]
    },
    {
     "name": "stdout",
     "output_type": "stream",
     "text": [
      "https://www.moneydj.com/funddj/yl/yp013000.djhtm?a=ACNB125\n"
     ]
    },
    {
     "name": "stderr",
     "output_type": "stream",
     "text": [
      "\r",
      " 15%|███████████▍                                                               | 558/3672 [1:23:21<9:48:01, 11.33s/it]"
     ]
    },
    {
     "name": "stdout",
     "output_type": "stream",
     "text": [
      "https://www.moneydj.com/funddj/yl/yp013000.djhtm?a=ACNB126\n"
     ]
    },
    {
     "name": "stderr",
     "output_type": "stream",
     "text": [
      "\r",
      " 15%|███████████▍                                                               | 559/3672 [1:23:31<9:21:43, 10.83s/it]"
     ]
    },
    {
     "name": "stdout",
     "output_type": "stream",
     "text": [
      "https://www.moneydj.com/funddj/yl/yp013000.djhtm?a=ACNB127\n"
     ]
    },
    {
     "name": "stderr",
     "output_type": "stream",
     "text": [
      "\r",
      " 15%|███████████▍                                                               | 560/3672 [1:23:40<8:47:28, 10.17s/it]"
     ]
    },
    {
     "name": "stdout",
     "output_type": "stream",
     "text": [
      "https://www.moneydj.com/funddj/yl/yp013000.djhtm?a=ACNB128\n"
     ]
    },
    {
     "name": "stderr",
     "output_type": "stream",
     "text": [
      "\r",
      " 15%|███████████▍                                                               | 561/3672 [1:23:49<8:39:24, 10.02s/it]"
     ]
    },
    {
     "name": "stdout",
     "output_type": "stream",
     "text": [
      "https://www.moneydj.com/funddj/yl/yp013000.djhtm?a=ACNB129\n"
     ]
    },
    {
     "name": "stderr",
     "output_type": "stream",
     "text": [
      " 20%|███████████████▎                                                           | 750/3672 [1:53:01<7:52:59,  9.71s/it]"
     ]
    },
    {
     "name": "stdout",
     "output_type": "stream",
     "text": [
      "https://www.moneydj.com/funddj/yl/yp013000.djhtm?a=ACAI106\n"
     ]
    },
    {
     "name": "stderr",
     "output_type": "stream",
     "text": [
      "\r",
      " 20%|███████████████▎                                                           | 751/3672 [1:53:13<8:16:26, 10.20s/it]"
     ]
    },
    {
     "name": "stdout",
     "output_type": "stream",
     "text": [
      "https://www.moneydj.com/funddj/yl/yp013000.djhtm?a=ACAI107\n"
     ]
    },
    {
     "name": "stderr",
     "output_type": "stream",
     "text": [
      "\r",
      " 20%|███████████████▎                                                           | 752/3672 [1:53:24<8:30:10, 10.48s/it]"
     ]
    },
    {
     "name": "stdout",
     "output_type": "stream",
     "text": [
      "https://www.moneydj.com/funddj/yl/yp013000.djhtm?a=ACAI108\n"
     ]
    },
    {
     "name": "stderr",
     "output_type": "stream",
     "text": [
      "\r",
      " 21%|███████████████▍                                                           | 753/3672 [1:53:37<9:11:21, 11.33s/it]"
     ]
    },
    {
     "name": "stdout",
     "output_type": "stream",
     "text": [
      "https://www.moneydj.com/funddj/yl/yp013000.djhtm?a=ACAI59\n"
     ]
    },
    {
     "name": "stderr",
     "output_type": "stream",
     "text": [
      "\r",
      " 21%|███████████████▍                                                           | 754/3672 [1:53:49<9:23:32, 11.59s/it]"
     ]
    },
    {
     "name": "stdout",
     "output_type": "stream",
     "text": [
      "https://www.moneydj.com/funddj/yl/yp013000.djhtm?a=ACAI65\n"
     ]
    },
    {
     "name": "stderr",
     "output_type": "stream",
     "text": [
      "\r",
      " 21%|███████████████▍                                                           | 755/3672 [1:54:00<9:13:58, 11.39s/it]"
     ]
    },
    {
     "name": "stdout",
     "output_type": "stream",
     "text": [
      "https://www.moneydj.com/funddj/yl/yp013000.djhtm?a=ACAI84\n"
     ]
    },
    {
     "name": "stderr",
     "output_type": "stream",
     "text": [
      "\r",
      " 21%|███████████████▍                                                           | 756/3672 [1:54:11<9:08:02, 11.28s/it]"
     ]
    },
    {
     "name": "stdout",
     "output_type": "stream",
     "text": [
      "https://www.moneydj.com/funddj/yl/yp013000.djhtm?a=ACAI85\n"
     ]
    },
    {
     "name": "stderr",
     "output_type": "stream",
     "text": [
      "\r",
      " 21%|███████████████▍                                                           | 757/3672 [1:54:23<9:16:18, 11.45s/it]"
     ]
    },
    {
     "name": "stdout",
     "output_type": "stream",
     "text": [
      "https://www.moneydj.com/funddj/yl/yp013000.djhtm?a=ACAI86\n"
     ]
    },
    {
     "name": "stderr",
     "output_type": "stream",
     "text": [
      "\r",
      " 21%|███████████████▍                                                           | 758/3672 [1:54:32<8:41:17, 10.73s/it]"
     ]
    },
    {
     "name": "stdout",
     "output_type": "stream",
     "text": [
      "https://www.moneydj.com/funddj/yl/yp013000.djhtm?a=ACCP51\n"
     ]
    },
    {
     "name": "stderr",
     "output_type": "stream",
     "text": [
      "\r",
      " 21%|███████████████▌                                                           | 759/3672 [1:54:45<9:05:54, 11.24s/it]"
     ]
    },
    {
     "name": "stdout",
     "output_type": "stream",
     "text": [
      "https://www.moneydj.com/funddj/yl/yp013000.djhtm?a=ACCP52\n"
     ]
    },
    {
     "name": "stderr",
     "output_type": "stream",
     "text": [
      "\r",
      " 21%|███████████████▌                                                           | 760/3672 [1:54:53<8:30:04, 10.51s/it]"
     ]
    },
    {
     "name": "stdout",
     "output_type": "stream",
     "text": [
      "https://www.moneydj.com/funddj/yl/yp013000.djhtm?a=ACCP53\n"
     ]
    },
    {
     "name": "stderr",
     "output_type": "stream",
     "text": [
      "\r",
      " 21%|███████████████▌                                                           | 761/3672 [1:55:05<8:47:00, 10.86s/it]"
     ]
    },
    {
     "name": "stdout",
     "output_type": "stream",
     "text": [
      "https://www.moneydj.com/funddj/yl/yp013000.djhtm?a=ACCP54\n"
     ]
    },
    {
     "name": "stderr",
     "output_type": "stream",
     "text": [
      "\r",
      " 21%|███████████████▌                                                           | 762/3672 [1:55:14<8:25:49, 10.43s/it]"
     ]
    },
    {
     "name": "stdout",
     "output_type": "stream",
     "text": [
      "https://www.moneydj.com/funddj/yl/yp013000.djhtm?a=ACJF1201\n"
     ]
    },
    {
     "name": "stderr",
     "output_type": "stream",
     "text": [
      " 23%|█████████████████                                                          | 836/3672 [2:06:43<7:04:50,  8.99s/it]"
     ]
    },
    {
     "name": "stdout",
     "output_type": "stream",
     "text": [
      "https://www.moneydj.com/funddj/yl/yp013000.djhtm?a=ACJS90\n"
     ]
    },
    {
     "name": "stderr",
     "output_type": "stream",
     "text": [
      "\r",
      " 23%|█████████████████                                                          | 837/3672 [2:06:55<7:37:54,  9.69s/it]"
     ]
    },
    {
     "name": "stdout",
     "output_type": "stream",
     "text": [
      "https://www.moneydj.com/funddj/yl/yp013000.djhtm?a=ACJS91\n"
     ]
    },
    {
     "name": "stderr",
     "output_type": "stream",
     "text": [
      "\r",
      " 23%|█████████████████                                                          | 838/3672 [2:07:03<7:20:41,  9.33s/it]"
     ]
    },
    {
     "name": "stdout",
     "output_type": "stream",
     "text": [
      "https://www.moneydj.com/funddj/yl/yp013000.djhtm?a=ACJS92\n"
     ]
    },
    {
     "name": "stderr",
     "output_type": "stream",
     "text": [
      "\r",
      " 23%|█████████████████▏                                                         | 839/3672 [2:07:14<7:40:28,  9.75s/it]"
     ]
    },
    {
     "name": "stdout",
     "output_type": "stream",
     "text": [
      "https://www.moneydj.com/funddj/yl/yp013000.djhtm?a=ACJS93\n"
     ]
    },
    {
     "name": "stderr",
     "output_type": "stream",
     "text": [
      "\r",
      " 23%|█████████████████▏                                                         | 840/3672 [2:07:26<8:08:29, 10.35s/it]"
     ]
    },
    {
     "name": "stdout",
     "output_type": "stream",
     "text": [
      "https://www.moneydj.com/funddj/yl/yp013000.djhtm?a=ACCY164\n"
     ]
    },
    {
     "name": "stderr",
     "output_type": "stream",
     "text": [
      "\r",
      " 23%|█████████████████▏                                                         | 841/3672 [2:07:35<7:54:21, 10.05s/it]"
     ]
    },
    {
     "name": "stdout",
     "output_type": "stream",
     "text": [
      "https://www.moneydj.com/funddj/yl/yp013000.djhtm?a=ACCY165\n"
     ]
    },
    {
     "name": "stderr",
     "output_type": "stream",
     "text": [
      "\r",
      " 23%|█████████████████▏                                                         | 842/3672 [2:07:46<8:11:57, 10.43s/it]"
     ]
    },
    {
     "name": "stdout",
     "output_type": "stream",
     "text": [
      "https://www.moneydj.com/funddj/yl/yp013000.djhtm?a=ACAI208\n"
     ]
    },
    {
     "name": "stderr",
     "output_type": "stream",
     "text": [
      "\r",
      " 23%|█████████████████▏                                                         | 843/3672 [2:07:57<8:18:25, 10.57s/it]"
     ]
    },
    {
     "name": "stdout",
     "output_type": "stream",
     "text": [
      "https://www.moneydj.com/funddj/yl/yp013000.djhtm?a=ACAI209\n"
     ]
    },
    {
     "name": "stderr",
     "output_type": "stream",
     "text": [
      "\r",
      " 23%|█████████████████▏                                                         | 844/3672 [2:08:07<8:05:35, 10.30s/it]"
     ]
    },
    {
     "name": "stdout",
     "output_type": "stream",
     "text": [
      "https://www.moneydj.com/funddj/yl/yp013000.djhtm?a=ACFP79\n"
     ]
    },
    {
     "name": "stderr",
     "output_type": "stream",
     "text": [
      "\r",
      " 23%|█████████████████▎                                                         | 845/3672 [2:08:19<8:26:13, 10.74s/it]"
     ]
    },
    {
     "name": "stdout",
     "output_type": "stream",
     "text": [
      "https://www.moneydj.com/funddj/yl/yp013000.djhtm?a=ACFP68\n"
     ]
    },
    {
     "name": "stderr",
     "output_type": "stream",
     "text": [
      "\r",
      " 23%|█████████████████▎                                                         | 846/3672 [2:08:31<8:46:00, 11.17s/it]"
     ]
    },
    {
     "name": "stdout",
     "output_type": "stream",
     "text": [
      "https://www.moneydj.com/funddj/yl/yp013000.djhtm?a=ACYT81\n"
     ]
    },
    {
     "name": "stderr",
     "output_type": "stream",
     "text": [
      " 23%|█████████████████▎                                                         | 848/3672 [2:08:51<8:22:00, 10.67s/it]"
     ]
    },
    {
     "name": "stdout",
     "output_type": "stream",
     "text": [
      "https://www.moneydj.com/funddj/yl/yp013000.djhtm?a=ACFH63\n"
     ]
    },
    {
     "name": "stderr",
     "output_type": "stream",
     "text": [
      " 23%|█████████████████▍                                                         | 856/3672 [2:10:15<7:44:37,  9.90s/it]"
     ]
    },
    {
     "name": "stdout",
     "output_type": "stream",
     "text": [
      "https://www.moneydj.com/funddj/yl/yp013000.djhtm?a=ACCY132\n"
     ]
    },
    {
     "name": "stderr",
     "output_type": "stream",
     "text": [
      " 23%|█████████████████▎                                                        | 862/3672 [2:11:36<10:55:24, 13.99s/it]"
     ]
    },
    {
     "name": "stdout",
     "output_type": "stream",
     "text": [
      "https://www.moneydj.com/funddj/yl/yp013000.djhtm?a=ACFP64\n"
     ]
    },
    {
     "name": "stderr",
     "output_type": "stream",
     "text": [
      " 24%|█████████████████▉                                                         | 878/3672 [2:14:27<7:03:12,  9.09s/it]"
     ]
    },
    {
     "name": "stdout",
     "output_type": "stream",
     "text": [
      "https://www.moneydj.com/funddj/yl/yp013000.djhtm?a=ACYT65\n"
     ]
    },
    {
     "name": "stderr",
     "output_type": "stream",
     "text": [
      " 24%|█████████████████▉                                                         | 880/3672 [2:14:48<7:47:49, 10.05s/it]"
     ]
    },
    {
     "name": "stdout",
     "output_type": "stream",
     "text": [
      "https://www.moneydj.com/funddj/yl/yp013000.djhtm?a=ACCY74\n"
     ]
    },
    {
     "name": "stderr",
     "output_type": "stream",
     "text": [
      " 24%|██████████████████▏                                                        | 890/3672 [2:16:31<7:01:02,  9.08s/it]"
     ]
    },
    {
     "name": "stdout",
     "output_type": "stream",
     "text": [
      "https://www.moneydj.com/funddj/yl/yp013000.djhtm?a=ACFP52\n"
     ]
    },
    {
     "name": "stderr",
     "output_type": "stream",
     "text": [
      " 26%|███████████████████▏                                                       | 938/3672 [2:25:30<7:07:48,  9.39s/it]"
     ]
    },
    {
     "name": "stdout",
     "output_type": "stream",
     "text": [
      "https://www.moneydj.com/funddj/yl/yp013000.djhtm?a=ACFP60\n"
     ]
    },
    {
     "name": "stderr",
     "output_type": "stream",
     "text": [
      " 26%|███████████████████▎                                                       | 944/3672 [2:26:36<7:36:45, 10.05s/it]"
     ]
    },
    {
     "name": "stdout",
     "output_type": "stream",
     "text": [
      "https://www.moneydj.com/funddj/yl/yp013000.djhtm?a=ACFP65\n"
     ]
    },
    {
     "name": "stderr",
     "output_type": "stream",
     "text": [
      " 26%|███████████████████▌                                                       | 956/3672 [2:28:31<6:30:03,  8.62s/it]"
     ]
    },
    {
     "name": "stdout",
     "output_type": "stream",
     "text": [
      "https://www.moneydj.com/funddj/yl/yp013000.djhtm?a=ACYT82\n"
     ]
    },
    {
     "name": "stderr",
     "output_type": "stream",
     "text": [
      "\r",
      " 26%|███████████████████▌                                                       | 957/3672 [2:28:42<7:13:41,  9.58s/it]"
     ]
    },
    {
     "name": "stdout",
     "output_type": "stream",
     "text": [
      "https://www.moneydj.com/funddj/yl/yp013000.djhtm?a=ACFP80\n"
     ]
    },
    {
     "name": "stderr",
     "output_type": "stream",
     "text": [
      " 26%|███████████████████▊                                                       | 968/3672 [2:30:17<6:16:41,  8.36s/it]"
     ]
    },
    {
     "name": "stdout",
     "output_type": "stream",
     "text": [
      "https://www.moneydj.com/funddj/yl/yp013000.djhtm?a=ACFH62\n"
     ]
    },
    {
     "name": "stderr",
     "output_type": "stream",
     "text": [
      "\r",
      " 26%|███████████████████▊                                                       | 969/3672 [2:30:26<6:33:02,  8.72s/it]"
     ]
    },
    {
     "name": "stdout",
     "output_type": "stream",
     "text": [
      "https://www.moneydj.com/funddj/yl/yp013000.djhtm?a=ACFP67\n"
     ]
    },
    {
     "name": "stderr",
     "output_type": "stream",
     "text": [
      " 27%|███████████████████▉                                                       | 974/3672 [2:31:15<7:10:02,  9.56s/it]"
     ]
    },
    {
     "name": "stdout",
     "output_type": "stream",
     "text": [
      "https://www.moneydj.com/funddj/yl/yp013000.djhtm?a=ACFP73\n"
     ]
    },
    {
     "name": "stderr",
     "output_type": "stream",
     "text": [
      "\r",
      " 27%|███████████████████▉                                                       | 975/3672 [2:31:23<6:57:20,  9.28s/it]"
     ]
    },
    {
     "name": "stdout",
     "output_type": "stream",
     "text": [
      "https://www.moneydj.com/funddj/yl/yp013000.djhtm?a=ACFT127\n"
     ]
    },
    {
     "name": "stderr",
     "output_type": "stream",
     "text": [
      "\r",
      " 27%|███████████████████▉                                                       | 976/3672 [2:31:33<7:04:42,  9.45s/it]"
     ]
    },
    {
     "name": "stdout",
     "output_type": "stream",
     "text": [
      "https://www.moneydj.com/funddj/yl/yp013000.djhtm?a=ACDS62\n"
     ]
    },
    {
     "name": "stderr",
     "output_type": "stream",
     "text": [
      " 27%|████████████████████▏                                                     | 1004/3672 [2:35:42<7:38:43, 10.32s/it]"
     ]
    },
    {
     "name": "stdout",
     "output_type": "stream",
     "text": [
      "https://www.moneydj.com/funddj/yl/yp013000.djhtm?a=ACAI103\n"
     ]
    },
    {
     "name": "stderr",
     "output_type": "stream",
     "text": [
      "\r",
      " 27%|████████████████████▎                                                     | 1005/3672 [2:35:54<8:00:45, 10.82s/it]"
     ]
    },
    {
     "name": "stdout",
     "output_type": "stream",
     "text": [
      "https://www.moneydj.com/funddj/yl/yp013000.djhtm?a=ACAI104\n"
     ]
    },
    {
     "name": "stderr",
     "output_type": "stream",
     "text": [
      "\r",
      " 27%|████████████████████▎                                                     | 1006/3672 [2:36:03<7:34:27, 10.23s/it]"
     ]
    },
    {
     "name": "stdout",
     "output_type": "stream",
     "text": [
      "https://www.moneydj.com/funddj/yl/yp013000.djhtm?a=ACAI105\n"
     ]
    },
    {
     "name": "stderr",
     "output_type": "stream",
     "text": [
      " 31%|██████████████████████▉                                                   | 1136/3672 [2:55:12<5:54:22,  8.38s/it]"
     ]
    },
    {
     "name": "stdout",
     "output_type": "stream",
     "text": [
      "https://www.moneydj.com/funddj/yl/yp013000.djhtm?a=ACUI67\n"
     ]
    },
    {
     "name": "stderr",
     "output_type": "stream",
     "text": [
      "\r",
      " 31%|██████████████████████▉                                                   | 1137/3672 [2:55:22<6:19:15,  8.98s/it]"
     ]
    },
    {
     "name": "stdout",
     "output_type": "stream",
     "text": [
      "https://www.moneydj.com/funddj/yl/yp013000.djhtm?a=ACUI68\n"
     ]
    },
    {
     "name": "stderr",
     "output_type": "stream",
     "text": [
      "\r",
      " 31%|██████████████████████▉                                                   | 1138/3672 [2:55:33<6:43:02,  9.54s/it]"
     ]
    },
    {
     "name": "stdout",
     "output_type": "stream",
     "text": [
      "https://www.moneydj.com/funddj/yl/yp013000.djhtm?a=ACUI69\n"
     ]
    },
    {
     "name": "stderr",
     "output_type": "stream",
     "text": [
      "\r",
      " 31%|██████████████████████▉                                                   | 1139/3672 [2:55:46<7:22:31, 10.48s/it]"
     ]
    },
    {
     "name": "stdout",
     "output_type": "stream",
     "text": [
      "https://www.moneydj.com/funddj/yl/yp013000.djhtm?a=ACUI70\n"
     ]
    },
    {
     "name": "stderr",
     "output_type": "stream",
     "text": [
      "\r",
      " 31%|██████████████████████▉                                                   | 1140/3672 [2:55:59<7:53:43, 11.23s/it]"
     ]
    },
    {
     "name": "stdout",
     "output_type": "stream",
     "text": [
      "https://www.moneydj.com/funddj/yl/yp013000.djhtm?a=ACCP174\n"
     ]
    },
    {
     "name": "stderr",
     "output_type": "stream",
     "text": [
      "\r",
      " 31%|██████████████████████▉                                                   | 1141/3672 [2:56:09<7:44:32, 11.01s/it]"
     ]
    },
    {
     "name": "stdout",
     "output_type": "stream",
     "text": [
      "https://www.moneydj.com/funddj/yl/yp013000.djhtm?a=ACCA170\n"
     ]
    },
    {
     "name": "stderr",
     "output_type": "stream",
     "text": [
      " 42%|██████████████████████████████▊                                           | 1526/3672 [3:51:44<5:26:09,  9.12s/it]"
     ]
    },
    {
     "name": "stdout",
     "output_type": "stream",
     "text": [
      "https://www.moneydj.com/funddj/yl/yp013000.djhtm?a=ACAI244\n"
     ]
    },
    {
     "name": "stderr",
     "output_type": "stream",
     "text": [
      "\r",
      " 42%|██████████████████████████████▊                                           | 1527/3672 [3:51:57<6:09:51, 10.35s/it]"
     ]
    },
    {
     "name": "stdout",
     "output_type": "stream",
     "text": [
      "https://www.moneydj.com/funddj/yl/yp013000.djhtm?a=ACAI248\n"
     ]
    },
    {
     "name": "stderr",
     "output_type": "stream",
     "text": [
      "\r",
      " 42%|██████████████████████████████▊                                           | 1528/3672 [3:52:09<6:25:16, 10.78s/it]"
     ]
    },
    {
     "name": "stdout",
     "output_type": "stream",
     "text": [
      "https://www.moneydj.com/funddj/yl/yp013000.djhtm?a=ACAI252\n"
     ]
    },
    {
     "name": "stderr",
     "output_type": "stream",
     "text": [
      "\r",
      " 42%|██████████████████████████████▊                                           | 1529/3672 [3:52:22<6:44:38, 11.33s/it]"
     ]
    },
    {
     "name": "stdout",
     "output_type": "stream",
     "text": [
      "https://www.moneydj.com/funddj/yl/yp013000.djhtm?a=ACAI256\n"
     ]
    },
    {
     "name": "stderr",
     "output_type": "stream",
     "text": [
      "\r",
      " 42%|██████████████████████████████▊                                           | 1530/3672 [3:52:33<6:36:56, 11.12s/it]"
     ]
    },
    {
     "name": "stdout",
     "output_type": "stream",
     "text": [
      "https://www.moneydj.com/funddj/yl/yp013000.djhtm?a=ACAI257\n"
     ]
    },
    {
     "name": "stderr",
     "output_type": "stream",
     "text": [
      "\r",
      " 42%|██████████████████████████████▊                                           | 1531/3672 [3:52:45<6:45:55, 11.38s/it]"
     ]
    },
    {
     "name": "stdout",
     "output_type": "stream",
     "text": [
      "https://www.moneydj.com/funddj/yl/yp013000.djhtm?a=ACAI258\n"
     ]
    },
    {
     "name": "stderr",
     "output_type": "stream",
     "text": [
      "\r",
      " 42%|██████████████████████████████▊                                           | 1532/3672 [3:52:56<6:44:56, 11.35s/it]"
     ]
    },
    {
     "name": "stdout",
     "output_type": "stream",
     "text": [
      "https://www.moneydj.com/funddj/yl/yp013000.djhtm?a=ACAI259\n"
     ]
    },
    {
     "name": "stderr",
     "output_type": "stream",
     "text": [
      "\r",
      " 42%|██████████████████████████████▉                                           | 1533/3672 [3:53:07<6:40:12, 11.23s/it]"
     ]
    },
    {
     "name": "stdout",
     "output_type": "stream",
     "text": [
      "https://www.moneydj.com/funddj/yl/yp013000.djhtm?a=ACAI260\n"
     ]
    },
    {
     "name": "stderr",
     "output_type": "stream",
     "text": [
      "\r",
      " 42%|██████████████████████████████▉                                           | 1534/3672 [3:53:18<6:42:21, 11.29s/it]"
     ]
    },
    {
     "name": "stdout",
     "output_type": "stream",
     "text": [
      "https://www.moneydj.com/funddj/yl/yp013000.djhtm?a=ACAI309\n"
     ]
    },
    {
     "name": "stderr",
     "output_type": "stream",
     "text": [
      "\r",
      " 42%|██████████████████████████████▉                                           | 1535/3672 [3:53:28<6:22:04, 10.73s/it]"
     ]
    },
    {
     "name": "stdout",
     "output_type": "stream",
     "text": [
      "https://www.moneydj.com/funddj/yl/yp013000.djhtm?a=ACAI302\n"
     ]
    },
    {
     "name": "stderr",
     "output_type": "stream",
     "text": [
      "\r",
      " 42%|██████████████████████████████▉                                           | 1536/3672 [3:53:39<6:28:37, 10.92s/it]"
     ]
    },
    {
     "name": "stdout",
     "output_type": "stream",
     "text": [
      "https://www.moneydj.com/funddj/yl/yp013000.djhtm?a=ACAI292\n"
     ]
    },
    {
     "name": "stderr",
     "output_type": "stream",
     "text": [
      "\r",
      " 42%|██████████████████████████████▉                                           | 1537/3672 [3:53:49<6:14:55, 10.54s/it]"
     ]
    },
    {
     "name": "stdout",
     "output_type": "stream",
     "text": [
      "https://www.moneydj.com/funddj/yl/yp013000.djhtm?a=ACCP185\n"
     ]
    },
    {
     "name": "stderr",
     "output_type": "stream",
     "text": [
      "\r",
      " 42%|██████████████████████████████▉                                           | 1538/3672 [3:53:59<6:09:28, 10.39s/it]"
     ]
    },
    {
     "name": "stdout",
     "output_type": "stream",
     "text": [
      "https://www.moneydj.com/funddj/yl/yp013000.djhtm?a=ACCP186\n"
     ]
    },
    {
     "name": "stderr",
     "output_type": "stream",
     "text": [
      "\r",
      " 42%|███████████████████████████████                                           | 1539/3672 [3:54:11<6:28:20, 10.92s/it]"
     ]
    },
    {
     "name": "stdout",
     "output_type": "stream",
     "text": [
      "https://www.moneydj.com/funddj/yl/yp013000.djhtm?a=ACCP187\n"
     ]
    },
    {
     "name": "stderr",
     "output_type": "stream",
     "text": [
      " 51%|█████████████████████████████████████▊                                    | 1879/3672 [4:47:05<4:52:45,  9.80s/it]"
     ]
    },
    {
     "name": "stdout",
     "output_type": "stream",
     "text": [
      "https://www.moneydj.com/funddj/yl/yp013000.djhtm?a=ACCP125\n"
     ]
    },
    {
     "name": "stderr",
     "output_type": "stream",
     "text": [
      "\r",
      " 51%|█████████████████████████████████████▉                                    | 1880/3672 [4:47:15<4:53:13,  9.82s/it]"
     ]
    },
    {
     "name": "stdout",
     "output_type": "stream",
     "text": [
      "https://www.moneydj.com/funddj/yl/yp013000.djhtm?a=ACCP127\n"
     ]
    },
    {
     "name": "stderr",
     "output_type": "stream",
     "text": [
      "\r",
      " 51%|█████████████████████████████████████▉                                    | 1881/3672 [4:47:24<4:43:59,  9.51s/it]"
     ]
    },
    {
     "name": "stdout",
     "output_type": "stream",
     "text": [
      "https://www.moneydj.com/funddj/yl/yp013000.djhtm?a=ACCF125\n"
     ]
    },
    {
     "name": "stderr",
     "output_type": "stream",
     "text": [
      "\r",
      " 51%|█████████████████████████████████████▉                                    | 1882/3672 [4:47:33<4:42:33,  9.47s/it]"
     ]
    },
    {
     "name": "stdout",
     "output_type": "stream",
     "text": [
      "https://www.moneydj.com/funddj/yl/yp013000.djhtm?a=ACCF126\n"
     ]
    },
    {
     "name": "stderr",
     "output_type": "stream",
     "text": [
      "\r",
      " 51%|█████████████████████████████████████▉                                    | 1883/3672 [4:47:45<5:00:16, 10.07s/it]"
     ]
    },
    {
     "name": "stdout",
     "output_type": "stream",
     "text": [
      "https://www.moneydj.com/funddj/yl/yp013000.djhtm?a=ACCF127\n"
     ]
    },
    {
     "name": "stderr",
     "output_type": "stream",
     "text": [
      "\r",
      " 51%|█████████████████████████████████████▉                                    | 1884/3672 [4:47:55<4:55:41,  9.92s/it]"
     ]
    },
    {
     "name": "stdout",
     "output_type": "stream",
     "text": [
      "https://www.moneydj.com/funddj/yl/yp013000.djhtm?a=ACCF128\n"
     ]
    },
    {
     "name": "stderr",
     "output_type": "stream",
     "text": [
      "\r",
      " 51%|█████████████████████████████████████▉                                    | 1885/3672 [4:48:06<5:12:05, 10.48s/it]"
     ]
    },
    {
     "name": "stdout",
     "output_type": "stream",
     "text": [
      "https://www.moneydj.com/funddj/yl/yp013000.djhtm?a=ACCF129\n"
     ]
    },
    {
     "name": "stderr",
     "output_type": "stream",
     "text": [
      "\r",
      " 51%|██████████████████████████████████████                                    | 1886/3672 [4:48:17<5:12:09, 10.49s/it]"
     ]
    },
    {
     "name": "stdout",
     "output_type": "stream",
     "text": [
      "https://www.moneydj.com/funddj/yl/yp013000.djhtm?a=ACCF130\n"
     ]
    },
    {
     "name": "stderr",
     "output_type": "stream",
     "text": [
      "\r",
      " 51%|██████████████████████████████████████                                    | 1887/3672 [4:48:26<5:04:30, 10.24s/it]"
     ]
    },
    {
     "name": "stdout",
     "output_type": "stream",
     "text": [
      "https://www.moneydj.com/funddj/yl/yp013000.djhtm?a=ACCF131\n"
     ]
    },
    {
     "name": "stderr",
     "output_type": "stream",
     "text": [
      "\r",
      " 51%|██████████████████████████████████████                                    | 1888/3672 [4:48:39<5:21:29, 10.81s/it]"
     ]
    },
    {
     "name": "stdout",
     "output_type": "stream",
     "text": [
      "https://www.moneydj.com/funddj/yl/yp013000.djhtm?a=ACCF132\n"
     ]
    },
    {
     "name": "stderr",
     "output_type": "stream",
     "text": [
      "\r",
      " 51%|██████████████████████████████████████                                    | 1889/3672 [4:48:48<5:10:46, 10.46s/it]"
     ]
    },
    {
     "name": "stdout",
     "output_type": "stream",
     "text": [
      "https://www.moneydj.com/funddj/yl/yp013000.djhtm?a=ACCF133\n"
     ]
    },
    {
     "name": "stderr",
     "output_type": "stream",
     "text": [
      "\r",
      " 51%|██████████████████████████████████████                                    | 1890/3672 [4:48:58<5:04:28, 10.25s/it]"
     ]
    },
    {
     "name": "stdout",
     "output_type": "stream",
     "text": [
      "https://www.moneydj.com/funddj/yl/yp013000.djhtm?a=ACCF134\n"
     ]
    },
    {
     "name": "stderr",
     "output_type": "stream",
     "text": [
      "\r",
      " 51%|██████████████████████████████████████                                    | 1891/3672 [4:49:12<5:34:53, 11.28s/it]"
     ]
    },
    {
     "name": "stdout",
     "output_type": "stream",
     "text": [
      "https://www.moneydj.com/funddj/yl/yp013000.djhtm?a=ACCF135\n"
     ]
    },
    {
     "name": "stderr",
     "output_type": "stream",
     "text": [
      "\r",
      " 52%|██████████████████████████████████████▏                                   | 1892/3672 [4:49:24<5:40:58, 11.49s/it]"
     ]
    },
    {
     "name": "stdout",
     "output_type": "stream",
     "text": [
      "https://www.moneydj.com/funddj/yl/yp013000.djhtm?a=ACCF136\n"
     ]
    },
    {
     "name": "stderr",
     "output_type": "stream",
     "text": [
      "\r",
      " 52%|██████████████████████████████████████▏                                   | 1893/3672 [4:49:34<5:31:47, 11.19s/it]"
     ]
    },
    {
     "name": "stdout",
     "output_type": "stream",
     "text": [
      "https://www.moneydj.com/funddj/yl/yp013000.djhtm?a=ACCF137\n"
     ]
    },
    {
     "name": "stderr",
     "output_type": "stream",
     "text": [
      "\r",
      " 52%|██████████████████████████████████████▏                                   | 1894/3672 [4:49:46<5:36:41, 11.36s/it]"
     ]
    },
    {
     "name": "stdout",
     "output_type": "stream",
     "text": [
      "https://www.moneydj.com/funddj/yl/yp013000.djhtm?a=ACCF138\n"
     ]
    },
    {
     "name": "stderr",
     "output_type": "stream",
     "text": [
      "\r",
      " 52%|██████████████████████████████████████▏                                   | 1895/3672 [4:49:58<5:44:07, 11.62s/it]"
     ]
    },
    {
     "name": "stdout",
     "output_type": "stream",
     "text": [
      "https://www.moneydj.com/funddj/yl/yp013000.djhtm?a=ACCF139\n"
     ]
    },
    {
     "name": "stderr",
     "output_type": "stream",
     "text": [
      "\r",
      " 52%|██████████████████████████████████████▏                                   | 1896/3672 [4:50:09<5:39:42, 11.48s/it]"
     ]
    },
    {
     "name": "stdout",
     "output_type": "stream",
     "text": [
      "https://www.moneydj.com/funddj/yl/yp013000.djhtm?a=ACCF140\n"
     ]
    },
    {
     "name": "stderr",
     "output_type": "stream",
     "text": [
      "\r",
      " 52%|██████████████████████████████████████▏                                   | 1897/3672 [4:50:21<5:41:22, 11.54s/it]"
     ]
    },
    {
     "name": "stdout",
     "output_type": "stream",
     "text": [
      "https://www.moneydj.com/funddj/yl/yp013000.djhtm?a=ACCF141\n"
     ]
    },
    {
     "name": "stderr",
     "output_type": "stream",
     "text": [
      "\r",
      " 52%|██████████████████████████████████████▏                                   | 1898/3672 [4:50:33<5:42:57, 11.60s/it]"
     ]
    },
    {
     "name": "stdout",
     "output_type": "stream",
     "text": [
      "https://www.moneydj.com/funddj/yl/yp013000.djhtm?a=ACCF142\n"
     ]
    },
    {
     "name": "stderr",
     "output_type": "stream",
     "text": [
      "\r",
      " 52%|██████████████████████████████████████▎                                   | 1899/3672 [4:50:44<5:43:48, 11.63s/it]"
     ]
    },
    {
     "name": "stdout",
     "output_type": "stream",
     "text": [
      "https://www.moneydj.com/funddj/yl/yp013000.djhtm?a=ACCF143\n"
     ]
    },
    {
     "name": "stderr",
     "output_type": "stream",
     "text": [
      "\r",
      " 52%|██████████████████████████████████████▎                                   | 1900/3672 [4:50:54<5:24:46, 11.00s/it]"
     ]
    },
    {
     "name": "stdout",
     "output_type": "stream",
     "text": [
      "https://www.moneydj.com/funddj/yl/yp013000.djhtm?a=ACCF144\n"
     ]
    },
    {
     "name": "stderr",
     "output_type": "stream",
     "text": [
      "\r",
      " 52%|██████████████████████████████████████▎                                   | 1901/3672 [4:51:06<5:29:51, 11.18s/it]"
     ]
    },
    {
     "name": "stdout",
     "output_type": "stream",
     "text": [
      "https://www.moneydj.com/funddj/yl/yp013000.djhtm?a=ACAI152\n"
     ]
    },
    {
     "name": "stderr",
     "output_type": "stream",
     "text": [
      "\r",
      " 52%|██████████████████████████████████████▎                                   | 1902/3672 [4:51:16<5:24:54, 11.01s/it]"
     ]
    },
    {
     "name": "stdout",
     "output_type": "stream",
     "text": [
      "https://www.moneydj.com/funddj/yl/yp013000.djhtm?a=ACAI155\n"
     ]
    },
    {
     "name": "stderr",
     "output_type": "stream",
     "text": [
      "\r",
      " 52%|██████████████████████████████████████▎                                   | 1903/3672 [4:51:30<5:49:09, 11.84s/it]"
     ]
    },
    {
     "name": "stdout",
     "output_type": "stream",
     "text": [
      "https://www.moneydj.com/funddj/yl/yp013000.djhtm?a=ACAI156\n"
     ]
    },
    {
     "name": "stderr",
     "output_type": "stream",
     "text": [
      "\r",
      " 52%|██████████████████████████████████████▎                                   | 1904/3672 [4:51:42<5:49:01, 11.84s/it]"
     ]
    },
    {
     "name": "stdout",
     "output_type": "stream",
     "text": [
      "https://www.moneydj.com/funddj/yl/yp013000.djhtm?a=ACAI157\n"
     ]
    },
    {
     "name": "stderr",
     "output_type": "stream",
     "text": [
      "\r",
      " 52%|██████████████████████████████████████▍                                   | 1905/3672 [4:51:52<5:35:54, 11.41s/it]"
     ]
    },
    {
     "name": "stdout",
     "output_type": "stream",
     "text": [
      "https://www.moneydj.com/funddj/yl/yp013000.djhtm?a=ACAI158\n"
     ]
    },
    {
     "name": "stderr",
     "output_type": "stream",
     "text": [
      "\r",
      " 52%|██████████████████████████████████████▍                                   | 1906/3672 [4:52:02<5:20:36, 10.89s/it]"
     ]
    },
    {
     "name": "stdout",
     "output_type": "stream",
     "text": [
      "https://www.moneydj.com/funddj/yl/yp013000.djhtm?a=ACAI159\n"
     ]
    },
    {
     "name": "stderr",
     "output_type": "stream",
     "text": [
      "\r",
      " 52%|██████████████████████████████████████▍                                   | 1907/3672 [4:52:11<5:06:34, 10.42s/it]"
     ]
    },
    {
     "name": "stdout",
     "output_type": "stream",
     "text": [
      "https://www.moneydj.com/funddj/yl/yp013000.djhtm?a=ACAI160\n"
     ]
    },
    {
     "name": "stderr",
     "output_type": "stream",
     "text": [
      "\r",
      " 52%|██████████████████████████████████████▍                                   | 1908/3672 [4:52:20<4:54:03, 10.00s/it]"
     ]
    },
    {
     "name": "stdout",
     "output_type": "stream",
     "text": [
      "https://www.moneydj.com/funddj/yl/yp013000.djhtm?a=ACAI161\n"
     ]
    },
    {
     "name": "stderr",
     "output_type": "stream",
     "text": [
      "\r",
      " 52%|██████████████████████████████████████▍                                   | 1909/3672 [4:52:29<4:46:05,  9.74s/it]"
     ]
    },
    {
     "name": "stdout",
     "output_type": "stream",
     "text": [
      "https://www.moneydj.com/funddj/yl/yp013000.djhtm?a=ACAI162\n"
     ]
    },
    {
     "name": "stderr",
     "output_type": "stream",
     "text": [
      "\r",
      " 52%|██████████████████████████████████████▍                                   | 1910/3672 [4:52:40<4:49:40,  9.86s/it]"
     ]
    },
    {
     "name": "stdout",
     "output_type": "stream",
     "text": [
      "https://www.moneydj.com/funddj/yl/yp013000.djhtm?a=ACAI163\n"
     ]
    },
    {
     "name": "stderr",
     "output_type": "stream",
     "text": [
      "\r",
      " 52%|██████████████████████████████████████▌                                   | 1911/3672 [4:52:49<4:45:20,  9.72s/it]"
     ]
    },
    {
     "name": "stdout",
     "output_type": "stream",
     "text": [
      "https://www.moneydj.com/funddj/yl/yp013000.djhtm?a=ACAI164\n"
     ]
    },
    {
     "name": "stderr",
     "output_type": "stream",
     "text": [
      "\r",
      " 52%|██████████████████████████████████████▌                                   | 1912/3672 [4:53:01<5:05:47, 10.42s/it]"
     ]
    },
    {
     "name": "stdout",
     "output_type": "stream",
     "text": [
      "https://www.moneydj.com/funddj/yl/yp013000.djhtm?a=ACAI278\n"
     ]
    },
    {
     "name": "stderr",
     "output_type": "stream",
     "text": [
      "\r",
      " 52%|██████████████████████████████████████▌                                   | 1913/3672 [4:53:10<4:53:07, 10.00s/it]"
     ]
    },
    {
     "name": "stdout",
     "output_type": "stream",
     "text": [
      "https://www.moneydj.com/funddj/yl/yp013000.djhtm?a=ACAI279\n"
     ]
    },
    {
     "name": "stderr",
     "output_type": "stream",
     "text": [
      "\r",
      " 52%|██████████████████████████████████████▌                                   | 1914/3672 [4:53:24<5:31:20, 11.31s/it]"
     ]
    },
    {
     "name": "stdout",
     "output_type": "stream",
     "text": [
      "https://www.moneydj.com/funddj/yl/yp013000.djhtm?a=ACAI280\n"
     ]
    },
    {
     "name": "stderr",
     "output_type": "stream",
     "text": [
      "\r",
      " 52%|██████████████████████████████████████▌                                   | 1915/3672 [4:53:34<5:20:19, 10.94s/it]"
     ]
    },
    {
     "name": "stdout",
     "output_type": "stream",
     "text": [
      "https://www.moneydj.com/funddj/yl/yp013000.djhtm?a=ACAI281\n"
     ]
    },
    {
     "name": "stderr",
     "output_type": "stream",
     "text": [
      "\r",
      " 52%|██████████████████████████████████████▌                                   | 1916/3672 [4:53:47<5:35:20, 11.46s/it]"
     ]
    },
    {
     "name": "stdout",
     "output_type": "stream",
     "text": [
      "https://www.moneydj.com/funddj/yl/yp013000.djhtm?a=ACAI332\n"
     ]
    },
    {
     "name": "stderr",
     "output_type": "stream",
     "text": [
      "\r",
      " 52%|██████████████████████████████████████▋                                   | 1917/3672 [4:53:57<5:23:02, 11.04s/it]"
     ]
    },
    {
     "name": "stdout",
     "output_type": "stream",
     "text": [
      "https://www.moneydj.com/funddj/yl/yp013000.djhtm?a=ACAI329\n"
     ]
    },
    {
     "name": "stderr",
     "output_type": "stream",
     "text": [
      "\r",
      " 52%|██████████████████████████████████████▋                                   | 1918/3672 [4:54:07<5:16:34, 10.83s/it]"
     ]
    },
    {
     "name": "stdout",
     "output_type": "stream",
     "text": [
      "https://www.moneydj.com/funddj/yl/yp013000.djhtm?a=ACAI314\n"
     ]
    },
    {
     "name": "stderr",
     "output_type": "stream",
     "text": [
      "\r",
      " 52%|██████████████████████████████████████▋                                   | 1919/3672 [4:54:18<5:11:41, 10.67s/it]"
     ]
    },
    {
     "name": "stdout",
     "output_type": "stream",
     "text": [
      "https://www.moneydj.com/funddj/yl/yp013000.djhtm?a=ACAI315\n"
     ]
    },
    {
     "name": "stderr",
     "output_type": "stream",
     "text": [
      "\r",
      " 52%|██████████████████████████████████████▋                                   | 1920/3672 [4:54:30<5:23:17, 11.07s/it]"
     ]
    },
    {
     "name": "stdout",
     "output_type": "stream",
     "text": [
      "https://www.moneydj.com/funddj/yl/yp013000.djhtm?a=ACAI316\n"
     ]
    },
    {
     "name": "stderr",
     "output_type": "stream",
     "text": [
      "\r",
      " 52%|██████████████████████████████████████▋                                   | 1921/3672 [4:54:42<5:34:49, 11.47s/it]"
     ]
    },
    {
     "name": "stdout",
     "output_type": "stream",
     "text": [
      "https://www.moneydj.com/funddj/yl/yp013000.djhtm?a=ACAI319\n"
     ]
    },
    {
     "name": "stderr",
     "output_type": "stream",
     "text": [
      "\r",
      " 52%|██████████████████████████████████████▋                                   | 1922/3672 [4:54:54<5:40:30, 11.67s/it]"
     ]
    },
    {
     "name": "stdout",
     "output_type": "stream",
     "text": [
      "https://www.moneydj.com/funddj/yl/yp013000.djhtm?a=ACML77\n"
     ]
    },
    {
     "name": "stderr",
     "output_type": "stream",
     "text": [
      "\r",
      " 52%|██████████████████████████████████████▊                                   | 1923/3672 [4:55:05<5:28:41, 11.28s/it]"
     ]
    },
    {
     "name": "stdout",
     "output_type": "stream",
     "text": [
      "https://www.moneydj.com/funddj/yl/yp013000.djhtm?a=ACDD59\n"
     ]
    },
    {
     "name": "stderr",
     "output_type": "stream",
     "text": [
      "\r",
      " 52%|██████████████████████████████████████▊                                   | 1924/3672 [4:55:13<5:06:47, 10.53s/it]"
     ]
    },
    {
     "name": "stdout",
     "output_type": "stream",
     "text": [
      "https://www.moneydj.com/funddj/yl/yp013000.djhtm?a=ACDD60\n"
     ]
    },
    {
     "name": "stderr",
     "output_type": "stream",
     "text": [
      "\r",
      " 52%|██████████████████████████████████████▊                                   | 1925/3672 [4:55:25<5:15:27, 10.83s/it]"
     ]
    },
    {
     "name": "stdout",
     "output_type": "stream",
     "text": [
      "https://www.moneydj.com/funddj/yl/yp013000.djhtm?a=ACDD61\n"
     ]
    },
    {
     "name": "stderr",
     "output_type": "stream",
     "text": [
      "\r",
      " 52%|██████████████████████████████████████▊                                   | 1926/3672 [4:55:35<5:09:20, 10.63s/it]"
     ]
    },
    {
     "name": "stdout",
     "output_type": "stream",
     "text": [
      "https://www.moneydj.com/funddj/yl/yp013000.djhtm?a=ACDD62\n"
     ]
    },
    {
     "name": "stderr",
     "output_type": "stream",
     "text": [
      "\r",
      " 52%|██████████████████████████████████████▊                                   | 1927/3672 [4:55:48<5:26:44, 11.23s/it]"
     ]
    },
    {
     "name": "stdout",
     "output_type": "stream",
     "text": [
      "https://www.moneydj.com/funddj/yl/yp013000.djhtm?a=ACFH66\n"
     ]
    },
    {
     "name": "stderr",
     "output_type": "stream",
     "text": [
      " 54%|███████████████████████████████████████▋                                  | 1968/3672 [5:01:58<4:10:19,  8.81s/it]"
     ]
    },
    {
     "name": "stdout",
     "output_type": "stream",
     "text": [
      "Message: \n",
      "\n"
     ]
    },
    {
     "name": "stderr",
     "output_type": "stream",
     "text": [
      " 54%|███████████████████████████████████████▊                                  | 1974/3672 [5:02:49<4:00:42,  8.51s/it]"
     ]
    },
    {
     "name": "stdout",
     "output_type": "stream",
     "text": [
      "Message: \n",
      "\n"
     ]
    },
    {
     "name": "stderr",
     "output_type": "stream",
     "text": [
      " 56%|█████████████████████████████████████████                                 | 2038/3672 [5:12:23<4:16:33,  9.42s/it]"
     ]
    },
    {
     "name": "stdout",
     "output_type": "stream",
     "text": [
      "Message: \n",
      "\n"
     ]
    },
    {
     "name": "stderr",
     "output_type": "stream",
     "text": [
      "\r",
      " 56%|█████████████████████████████████████████                                 | 2039/3672 [5:12:33<4:28:02,  9.85s/it]"
     ]
    },
    {
     "name": "stdout",
     "output_type": "stream",
     "text": [
      "Message: \n",
      "\n"
     ]
    },
    {
     "name": "stderr",
     "output_type": "stream",
     "text": [
      " 58%|██████████████████████████████████████████▊                               | 2127/3672 [5:25:26<3:21:08,  7.81s/it]"
     ]
    },
    {
     "name": "stdout",
     "output_type": "stream",
     "text": [
      "Message: \n",
      "\n"
     ]
    },
    {
     "name": "stderr",
     "output_type": "stream",
     "text": [
      " 59%|███████████████████████████████████████████▋                              | 2166/3672 [5:30:58<3:11:43,  7.64s/it]"
     ]
    },
    {
     "name": "stdout",
     "output_type": "stream",
     "text": [
      "Message: \n",
      "\n"
     ]
    },
    {
     "name": "stderr",
     "output_type": "stream",
     "text": [
      " 67%|█████████████████████████████████████████████████▉                        | 2476/3672 [6:17:48<3:02:33,  9.16s/it]"
     ]
    },
    {
     "name": "stdout",
     "output_type": "stream",
     "text": [
      "https://www.moneydj.com/funddj/yl/yp013000.djhtm?a=ACTT140\n"
     ]
    },
    {
     "name": "stderr",
     "output_type": "stream",
     "text": [
      "\r",
      " 67%|█████████████████████████████████████████████████▉                        | 2477/3672 [6:17:59<3:17:12,  9.90s/it]"
     ]
    },
    {
     "name": "stdout",
     "output_type": "stream",
     "text": [
      "https://www.moneydj.com/funddj/yl/yp013000.djhtm?a=ACTT141\n"
     ]
    },
    {
     "name": "stderr",
     "output_type": "stream",
     "text": [
      "\r",
      " 67%|█████████████████████████████████████████████████▉                        | 2478/3672 [6:18:10<3:21:14, 10.11s/it]"
     ]
    },
    {
     "name": "stdout",
     "output_type": "stream",
     "text": [
      "https://www.moneydj.com/funddj/yl/yp013000.djhtm?a=ACTT142\n"
     ]
    },
    {
     "name": "stderr",
     "output_type": "stream",
     "text": [
      "\r",
      " 68%|█████████████████████████████████████████████████▉                        | 2479/3672 [6:18:19<3:12:28,  9.68s/it]"
     ]
    },
    {
     "name": "stdout",
     "output_type": "stream",
     "text": [
      "https://www.moneydj.com/funddj/yl/yp013000.djhtm?a=ACTT143\n"
     ]
    },
    {
     "name": "stderr",
     "output_type": "stream",
     "text": [
      "\r",
      " 68%|█████████████████████████████████████████████████▉                        | 2480/3672 [6:18:29<3:16:51,  9.91s/it]"
     ]
    },
    {
     "name": "stdout",
     "output_type": "stream",
     "text": [
      "https://www.moneydj.com/funddj/yl/yp013000.djhtm?a=ACTT144\n"
     ]
    },
    {
     "name": "stderr",
     "output_type": "stream",
     "text": [
      "\r",
      " 68%|█████████████████████████████████████████████████▉                        | 2481/3672 [6:18:37<3:07:47,  9.46s/it]"
     ]
    },
    {
     "name": "stdout",
     "output_type": "stream",
     "text": [
      "https://www.moneydj.com/funddj/yl/yp013000.djhtm?a=ACTT145\n"
     ]
    },
    {
     "name": "stderr",
     "output_type": "stream",
     "text": [
      "\r",
      " 68%|██████████████████████████████████████████████████                        | 2482/3672 [6:18:47<3:09:45,  9.57s/it]"
     ]
    },
    {
     "name": "stdout",
     "output_type": "stream",
     "text": [
      "https://www.moneydj.com/funddj/yl/yp013000.djhtm?a=ACTT146\n"
     ]
    },
    {
     "name": "stderr",
     "output_type": "stream",
     "text": [
      "\r",
      " 68%|██████████████████████████████████████████████████                        | 2483/3672 [6:18:59<3:22:12, 10.20s/it]"
     ]
    },
    {
     "name": "stdout",
     "output_type": "stream",
     "text": [
      "https://www.moneydj.com/funddj/yl/yp013000.djhtm?a=ACTT139\n"
     ]
    },
    {
     "name": "stderr",
     "output_type": "stream",
     "text": [
      "\r",
      " 68%|██████████████████████████████████████████████████                        | 2484/3672 [6:19:10<3:27:31, 10.48s/it]"
     ]
    },
    {
     "name": "stdout",
     "output_type": "stream",
     "text": [
      "https://www.moneydj.com/funddj/yl/yp013000.djhtm?a=ACTI42\n"
     ]
    },
    {
     "name": "stderr",
     "output_type": "stream",
     "text": [
      "\r",
      " 68%|██████████████████████████████████████████████████                        | 2485/3672 [6:19:22<3:33:58, 10.82s/it]"
     ]
    },
    {
     "name": "stdout",
     "output_type": "stream",
     "text": [
      "https://www.moneydj.com/funddj/yl/yp013000.djhtm?a=ACAI122\n"
     ]
    },
    {
     "name": "stderr",
     "output_type": "stream",
     "text": [
      "\r",
      " 68%|██████████████████████████████████████████████████                        | 2486/3672 [6:19:32<3:31:29, 10.70s/it]"
     ]
    },
    {
     "name": "stdout",
     "output_type": "stream",
     "text": [
      "https://www.moneydj.com/funddj/yl/yp013000.djhtm?a=ACAI123\n"
     ]
    },
    {
     "name": "stderr",
     "output_type": "stream",
     "text": [
      "\r",
      " 68%|██████████████████████████████████████████████████                        | 2487/3672 [6:19:43<3:33:04, 10.79s/it]"
     ]
    },
    {
     "name": "stdout",
     "output_type": "stream",
     "text": [
      "https://www.moneydj.com/funddj/yl/yp013000.djhtm?a=ACAI224\n"
     ]
    },
    {
     "name": "stderr",
     "output_type": "stream",
     "text": [
      "\r",
      " 68%|██████████████████████████████████████████████████▏                       | 2488/3672 [6:19:53<3:30:00, 10.64s/it]"
     ]
    },
    {
     "name": "stdout",
     "output_type": "stream",
     "text": [
      "https://www.moneydj.com/funddj/yl/yp013000.djhtm?a=ACAI225\n"
     ]
    },
    {
     "name": "stderr",
     "output_type": "stream",
     "text": [
      "\r",
      " 68%|██████████████████████████████████████████████████▏                       | 2489/3672 [6:20:04<3:30:43, 10.69s/it]"
     ]
    },
    {
     "name": "stdout",
     "output_type": "stream",
     "text": [
      "https://www.moneydj.com/funddj/yl/yp013000.djhtm?a=ACAI186\n"
     ]
    },
    {
     "name": "stderr",
     "output_type": "stream",
     "text": [
      "\r",
      " 68%|██████████████████████████████████████████████████▏                       | 2490/3672 [6:20:14<3:25:11, 10.42s/it]"
     ]
    },
    {
     "name": "stdout",
     "output_type": "stream",
     "text": [
      "https://www.moneydj.com/funddj/yl/yp013000.djhtm?a=ACAI240\n"
     ]
    },
    {
     "name": "stderr",
     "output_type": "stream",
     "text": [
      "\r",
      " 68%|██████████████████████████████████████████████████▏                       | 2491/3672 [6:20:25<3:27:56, 10.56s/it]"
     ]
    },
    {
     "name": "stdout",
     "output_type": "stream",
     "text": [
      "https://www.moneydj.com/funddj/yl/yp013000.djhtm?a=ACAI236\n"
     ]
    },
    {
     "name": "stderr",
     "output_type": "stream",
     "text": [
      "\r",
      " 68%|██████████████████████████████████████████████████▏                       | 2492/3672 [6:20:34<3:18:30, 10.09s/it]"
     ]
    },
    {
     "name": "stdout",
     "output_type": "stream",
     "text": [
      "https://www.moneydj.com/funddj/yl/yp013000.djhtm?a=ACAI237\n"
     ]
    },
    {
     "name": "stderr",
     "output_type": "stream",
     "text": [
      "\r",
      " 68%|██████████████████████████████████████████████████▏                       | 2493/3672 [6:20:46<3:29:06, 10.64s/it]"
     ]
    },
    {
     "name": "stdout",
     "output_type": "stream",
     "text": [
      "https://www.moneydj.com/funddj/yl/yp013000.djhtm?a=ACAI232\n"
     ]
    },
    {
     "name": "stderr",
     "output_type": "stream",
     "text": [
      "\r",
      " 68%|██████████████████████████████████████████████████▎                       | 2494/3672 [6:20:58<3:37:14, 11.07s/it]"
     ]
    },
    {
     "name": "stdout",
     "output_type": "stream",
     "text": [
      "https://www.moneydj.com/funddj/yl/yp013000.djhtm?a=ACAI76\n"
     ]
    },
    {
     "name": "stderr",
     "output_type": "stream",
     "text": [
      " 70%|███████████████████████████████████████████████████▉                      | 2575/3672 [6:36:03<3:03:37, 10.04s/it]"
     ]
    },
    {
     "name": "stdout",
     "output_type": "stream",
     "text": [
      "https://www.moneydj.com/funddj/yl/yp013000.djhtm?a=ACCY94\n"
     ]
    },
    {
     "name": "stderr",
     "output_type": "stream",
     "text": [
      "\r",
      " 70%|███████████████████████████████████████████████████▉                      | 2576/3672 [6:36:12<2:56:06,  9.64s/it]"
     ]
    },
    {
     "name": "stdout",
     "output_type": "stream",
     "text": [
      "https://www.moneydj.com/funddj/yl/yp013000.djhtm?a=ACYT100\n"
     ]
    },
    {
     "name": "stderr",
     "output_type": "stream",
     "text": [
      " 82%|████████████████████████████████████████████████████████████▋             | 3011/3672 [8:17:06<1:32:14,  8.37s/it]"
     ]
    },
    {
     "name": "stdout",
     "output_type": "stream",
     "text": [
      "https://www.moneydj.com/funddj/yl/yp013000.djhtm?a=ACDS79\n"
     ]
    },
    {
     "name": "stderr",
     "output_type": "stream",
     "text": [
      "\r",
      " 82%|████████████████████████████████████████████████████████████▋             | 3012/3672 [8:17:19<1:46:44,  9.70s/it]"
     ]
    },
    {
     "name": "stdout",
     "output_type": "stream",
     "text": [
      "https://www.moneydj.com/funddj/yl/yp013000.djhtm?a=ACDS80\n"
     ]
    },
    {
     "name": "stderr",
     "output_type": "stream",
     "text": [
      "\r",
      " 82%|████████████████████████████████████████████████████████████▋             | 3013/3672 [8:17:30<1:50:40, 10.08s/it]"
     ]
    },
    {
     "name": "stdout",
     "output_type": "stream",
     "text": [
      "https://www.moneydj.com/funddj/yl/yp013000.djhtm?a=ACCA269\n"
     ]
    },
    {
     "name": "stderr",
     "output_type": "stream",
     "text": [
      "\r",
      " 82%|████████████████████████████████████████████████████████████▋             | 3014/3672 [8:17:41<1:54:40, 10.46s/it]"
     ]
    },
    {
     "name": "stdout",
     "output_type": "stream",
     "text": [
      "https://www.moneydj.com/funddj/yl/yp013000.djhtm?a=ACCA270\n"
     ]
    },
    {
     "name": "stderr",
     "output_type": "stream",
     "text": [
      "\r",
      " 82%|████████████████████████████████████████████████████████████▊             | 3015/3672 [8:17:52<1:57:37, 10.74s/it]"
     ]
    },
    {
     "name": "stdout",
     "output_type": "stream",
     "text": [
      "https://www.moneydj.com/funddj/yl/yp013000.djhtm?a=ACCA271\n"
     ]
    },
    {
     "name": "stderr",
     "output_type": "stream",
     "text": [
      "\r",
      " 82%|████████████████████████████████████████████████████████████▊             | 3016/3672 [8:18:03<1:56:02, 10.61s/it]"
     ]
    },
    {
     "name": "stdout",
     "output_type": "stream",
     "text": [
      "https://www.moneydj.com/funddj/yl/yp013000.djhtm?a=ACCA272\n"
     ]
    },
    {
     "name": "stderr",
     "output_type": "stream",
     "text": [
      "\r",
      " 82%|████████████████████████████████████████████████████████████▊             | 3017/3672 [8:18:17<2:07:04, 11.64s/it]"
     ]
    },
    {
     "name": "stdout",
     "output_type": "stream",
     "text": [
      "https://www.moneydj.com/funddj/yl/yp013000.djhtm?a=ACAI144\n"
     ]
    },
    {
     "name": "stderr",
     "output_type": "stream",
     "text": [
      "\r",
      " 82%|████████████████████████████████████████████████████████████▊             | 3018/3672 [8:18:28<2:03:59, 11.38s/it]"
     ]
    },
    {
     "name": "stdout",
     "output_type": "stream",
     "text": [
      "https://www.moneydj.com/funddj/yl/yp013000.djhtm?a=ACAI145\n"
     ]
    },
    {
     "name": "stderr",
     "output_type": "stream",
     "text": [
      "\r",
      " 82%|████████████████████████████████████████████████████████████▊             | 3019/3672 [8:18:37<1:57:19, 10.78s/it]"
     ]
    },
    {
     "name": "stdout",
     "output_type": "stream",
     "text": [
      "https://www.moneydj.com/funddj/yl/yp013000.djhtm?a=ACAI146\n"
     ]
    },
    {
     "name": "stderr",
     "output_type": "stream",
     "text": [
      "\r",
      " 82%|████████████████████████████████████████████████████████████▊             | 3020/3672 [8:18:47<1:55:39, 10.64s/it]"
     ]
    },
    {
     "name": "stdout",
     "output_type": "stream",
     "text": [
      "https://www.moneydj.com/funddj/yl/yp013000.djhtm?a=ACCB66\n"
     ]
    },
    {
     "name": "stderr",
     "output_type": "stream",
     "text": [
      "\r",
      " 82%|████████████████████████████████████████████████████████████▉             | 3021/3672 [8:18:58<1:55:16, 10.62s/it]"
     ]
    },
    {
     "name": "stdout",
     "output_type": "stream",
     "text": [
      "https://www.moneydj.com/funddj/yl/yp013000.djhtm?a=ACCB67\n"
     ]
    },
    {
     "name": "stderr",
     "output_type": "stream",
     "text": [
      " 86%|███████████████████████████████████████████████████████████████▎          | 3142/3672 [8:38:19<1:14:12,  8.40s/it]"
     ]
    },
    {
     "name": "stdout",
     "output_type": "stream",
     "text": [
      "https://www.moneydj.com/funddj/yl/yp013000.djhtm?a=ACCI77\n"
     ]
    },
    {
     "name": "stderr",
     "output_type": "stream",
     "text": [
      "\r",
      " 86%|███████████████████████████████████████████████████████████████▎          | 3143/3672 [8:38:29<1:16:54,  8.72s/it]"
     ]
    },
    {
     "name": "stdout",
     "output_type": "stream",
     "text": [
      "https://www.moneydj.com/funddj/yl/yp013000.djhtm?a=ACCI78\n"
     ]
    },
    {
     "name": "stderr",
     "output_type": "stream",
     "text": [
      "\r",
      " 86%|███████████████████████████████████████████████████████████████▎          | 3144/3672 [8:38:40<1:24:47,  9.64s/it]"
     ]
    },
    {
     "name": "stdout",
     "output_type": "stream",
     "text": [
      "https://www.moneydj.com/funddj/yl/yp013000.djhtm?a=ACCA265\n"
     ]
    },
    {
     "name": "stderr",
     "output_type": "stream",
     "text": [
      "\r",
      " 86%|███████████████████████████████████████████████████████████████▍          | 3145/3672 [8:38:52<1:30:40, 10.32s/it]"
     ]
    },
    {
     "name": "stdout",
     "output_type": "stream",
     "text": [
      "https://www.moneydj.com/funddj/yl/yp013000.djhtm?a=ACCA266\n"
     ]
    },
    {
     "name": "stderr",
     "output_type": "stream",
     "text": [
      "\r",
      " 86%|███████████████████████████████████████████████████████████████▍          | 3146/3672 [8:39:01<1:26:29,  9.87s/it]"
     ]
    },
    {
     "name": "stdout",
     "output_type": "stream",
     "text": [
      "https://www.moneydj.com/funddj/yl/yp013000.djhtm?a=ACCA267\n"
     ]
    },
    {
     "name": "stderr",
     "output_type": "stream",
     "text": [
      "\r",
      " 86%|███████████████████████████████████████████████████████████████▍          | 3147/3672 [8:39:12<1:29:11, 10.19s/it]"
     ]
    },
    {
     "name": "stdout",
     "output_type": "stream",
     "text": [
      "https://www.moneydj.com/funddj/yl/yp013000.djhtm?a=ACCA268\n"
     ]
    },
    {
     "name": "stderr",
     "output_type": "stream",
     "text": [
      "\r",
      " 86%|███████████████████████████████████████████████████████████████▍          | 3148/3672 [8:39:24<1:32:13, 10.56s/it]"
     ]
    },
    {
     "name": "stdout",
     "output_type": "stream",
     "text": [
      "https://www.moneydj.com/funddj/yl/yp013000.djhtm?a=ACAI182\n"
     ]
    },
    {
     "name": "stderr",
     "output_type": "stream",
     "text": [
      "\r",
      " 86%|███████████████████████████████████████████████████████████████▍          | 3149/3672 [8:39:35<1:35:26, 10.95s/it]"
     ]
    },
    {
     "name": "stdout",
     "output_type": "stream",
     "text": [
      "https://www.moneydj.com/funddj/yl/yp013000.djhtm?a=ACAI183\n"
     ]
    },
    {
     "name": "stderr",
     "output_type": "stream",
     "text": [
      "\r",
      " 86%|███████████████████████████████████████████████████████████████▍          | 3150/3672 [8:39:45<1:32:18, 10.61s/it]"
     ]
    },
    {
     "name": "stdout",
     "output_type": "stream",
     "text": [
      "https://www.moneydj.com/funddj/yl/yp013000.djhtm?a=ACAI184\n"
     ]
    },
    {
     "name": "stderr",
     "output_type": "stream",
     "text": [
      "\r",
      " 86%|███████████████████████████████████████████████████████████████▌          | 3151/3672 [8:39:55<1:30:36, 10.44s/it]"
     ]
    },
    {
     "name": "stdout",
     "output_type": "stream",
     "text": [
      "https://www.moneydj.com/funddj/yl/yp013000.djhtm?a=ACAI185\n"
     ]
    },
    {
     "name": "stderr",
     "output_type": "stream",
     "text": [
      " 86%|███████████████████████████████████████████████████████████████▌          | 3153/3672 [8:40:13<1:22:13,  9.51s/it]"
     ]
    },
    {
     "name": "stdout",
     "output_type": "stream",
     "text": [
      "https://www.moneydj.com/funddj/yl/yp013000.djhtm?a=ACGC43\n"
     ]
    },
    {
     "name": "stderr",
     "output_type": "stream",
     "text": [
      "\r",
      " 86%|███████████████████████████████████████████████████████████████▌          | 3154/3672 [8:40:22<1:21:03,  9.39s/it]"
     ]
    },
    {
     "name": "stdout",
     "output_type": "stream",
     "text": [
      "https://www.moneydj.com/funddj/yl/yp013000.djhtm?a=ACNC50\n"
     ]
    },
    {
     "name": "stderr",
     "output_type": "stream",
     "text": [
      " 86%|███████████████████████████████████████████████████████████████▌          | 3156/3672 [8:40:37<1:10:57,  8.25s/it]"
     ]
    },
    {
     "name": "stdout",
     "output_type": "stream",
     "text": [
      "https://www.moneydj.com/funddj/yl/yp013000.djhtm?a=ACYT58\n"
     ]
    },
    {
     "name": "stderr",
     "output_type": "stream",
     "text": [
      "\r",
      " 86%|███████████████████████████████████████████████████████████████▌          | 3157/3672 [8:40:48<1:16:56,  8.96s/it]"
     ]
    },
    {
     "name": "stdout",
     "output_type": "stream",
     "text": [
      "https://www.moneydj.com/funddj/yl/yp013000.djhtm?a=ACCA48\n"
     ]
    },
    {
     "name": "stderr",
     "output_type": "stream",
     "text": [
      " 86%|███████████████████████████████████████████████████████████████▋          | 3160/3672 [8:41:09<1:04:31,  7.56s/it]"
     ]
    },
    {
     "name": "stdout",
     "output_type": "stream",
     "text": [
      "https://www.moneydj.com/funddj/yl/yp013000.djhtm?a=ACYT57\n"
     ]
    },
    {
     "name": "stderr",
     "output_type": "stream",
     "text": [
      " 86%|███████████████████████████████████████████████████████████████▋          | 3162/3672 [8:41:28<1:11:02,  8.36s/it]"
     ]
    },
    {
     "name": "stdout",
     "output_type": "stream",
     "text": [
      "https://www.moneydj.com/funddj/yl/yp013000.djhtm?a=ACGC45\n"
     ]
    },
    {
     "name": "stderr",
     "output_type": "stream",
     "text": [
      "\r",
      " 86%|███████████████████████████████████████████████████████████████▋          | 3163/3672 [8:41:38<1:17:08,  9.09s/it]"
     ]
    },
    {
     "name": "stdout",
     "output_type": "stream",
     "text": [
      "https://www.moneydj.com/funddj/yl/yp013000.djhtm?a=ACNC51\n"
     ]
    },
    {
     "name": "stderr",
     "output_type": "stream",
     "text": [
      "\r",
      " 86%|███████████████████████████████████████████████████████████████▊          | 3164/3672 [8:41:48<1:17:52,  9.20s/it]"
     ]
    },
    {
     "name": "stdout",
     "output_type": "stream",
     "text": [
      "https://www.moneydj.com/funddj/yl/yp013000.djhtm?a=ACCA49\n"
     ]
    },
    {
     "name": "stderr",
     "output_type": "stream",
     "text": [
      " 86%|███████████████████████████████████████████████████████████████▊          | 3166/3672 [8:42:05<1:11:57,  8.53s/it]"
     ]
    },
    {
     "name": "stdout",
     "output_type": "stream",
     "text": [
      "https://www.moneydj.com/funddj/yl/yp013000.djhtm?a=ACYT84\n"
     ]
    },
    {
     "name": "stderr",
     "output_type": "stream",
     "text": [
      "\r",
      " 86%|███████████████████████████████████████████████████████████████▊          | 3167/3672 [8:42:18<1:23:20,  9.90s/it]"
     ]
    },
    {
     "name": "stdout",
     "output_type": "stream",
     "text": [
      "https://www.moneydj.com/funddj/yl/yp013000.djhtm?a=ACII39\n"
     ]
    },
    {
     "name": "stderr",
     "output_type": "stream",
     "text": [
      "\r",
      " 86%|███████████████████████████████████████████████████████████████▊          | 3168/3672 [8:42:28<1:23:14,  9.91s/it]"
     ]
    },
    {
     "name": "stdout",
     "output_type": "stream",
     "text": [
      "https://www.moneydj.com/funddj/yl/yp013000.djhtm?a=ACII38\n"
     ]
    },
    {
     "name": "stderr",
     "output_type": "stream",
     "text": [
      "\r",
      " 86%|███████████████████████████████████████████████████████████████▊          | 3169/3672 [8:42:39<1:26:45, 10.35s/it]"
     ]
    },
    {
     "name": "stdout",
     "output_type": "stream",
     "text": [
      "https://www.moneydj.com/funddj/yl/yp013000.djhtm?a=ACYT83\n"
     ]
    },
    {
     "name": "stderr",
     "output_type": "stream",
     "text": [
      " 86%|███████████████████████████████████████████████████████████████▉          | 3171/3672 [8:42:58<1:19:40,  9.54s/it]"
     ]
    },
    {
     "name": "stdout",
     "output_type": "stream",
     "text": [
      "https://www.moneydj.com/funddj/yl/yp013000.djhtm?a=ACNC10\n"
     ]
    },
    {
     "name": "stderr",
     "output_type": "stream",
     "text": [
      "\r",
      " 86%|███████████████████████████████████████████████████████████████▉          | 3172/3672 [8:43:08<1:21:31,  9.78s/it]"
     ]
    },
    {
     "name": "stdout",
     "output_type": "stream",
     "text": [
      "https://www.moneydj.com/funddj/yl/yp013000.djhtm?a=ACFT16\n"
     ]
    },
    {
     "name": "stderr",
     "output_type": "stream",
     "text": [
      "\r",
      " 86%|███████████████████████████████████████████████████████████████▉          | 3173/3672 [8:43:21<1:28:42, 10.67s/it]"
     ]
    },
    {
     "name": "stdout",
     "output_type": "stream",
     "text": [
      "https://www.moneydj.com/funddj/yl/yp013000.djhtm?a=ACSH02\n"
     ]
    },
    {
     "name": "stderr",
     "output_type": "stream",
     "text": [
      "\r",
      " 86%|███████████████████████████████████████████████████████████████▉          | 3174/3672 [8:43:30<1:23:50, 10.10s/it]"
     ]
    },
    {
     "name": "stdout",
     "output_type": "stream",
     "text": [
      "https://www.moneydj.com/funddj/yl/yp013000.djhtm?a=ACML04\n"
     ]
    },
    {
     "name": "stderr",
     "output_type": "stream",
     "text": [
      "\r",
      " 86%|███████████████████████████████████████████████████████████████▉          | 3175/3672 [8:43:43<1:31:18, 11.02s/it]"
     ]
    },
    {
     "name": "stdout",
     "output_type": "stream",
     "text": [
      "https://www.moneydj.com/funddj/yl/yp013000.djhtm?a=ACTC02\n"
     ]
    },
    {
     "name": "stderr",
     "output_type": "stream",
     "text": [
      "\r",
      " 86%|████████████████████████████████████████████████████████████████          | 3176/3672 [8:43:54<1:30:39, 10.97s/it]"
     ]
    },
    {
     "name": "stdout",
     "output_type": "stream",
     "text": [
      "https://www.moneydj.com/funddj/yl/yp013000.djhtm?a=ACYC03\n"
     ]
    },
    {
     "name": "stderr",
     "output_type": "stream",
     "text": [
      "\r",
      " 87%|████████████████████████████████████████████████████████████████          | 3177/3672 [8:44:07<1:36:28, 11.69s/it]"
     ]
    },
    {
     "name": "stdout",
     "output_type": "stream",
     "text": [
      "https://www.moneydj.com/funddj/yl/yp013000.djhtm?a=ACCP12\n"
     ]
    },
    {
     "name": "stderr",
     "output_type": "stream",
     "text": [
      "\r",
      " 87%|████████████████████████████████████████████████████████████████          | 3178/3672 [8:44:17<1:33:01, 11.30s/it]"
     ]
    },
    {
     "name": "stdout",
     "output_type": "stream",
     "text": [
      "https://www.moneydj.com/funddj/yl/yp013000.djhtm?a=ACKH10\n"
     ]
    },
    {
     "name": "stderr",
     "output_type": "stream",
     "text": [
      "\r",
      " 87%|████████████████████████████████████████████████████████████████          | 3179/3672 [8:44:26<1:27:02, 10.59s/it]"
     ]
    },
    {
     "name": "stdout",
     "output_type": "stream",
     "text": [
      "https://www.moneydj.com/funddj/yl/yp013000.djhtm?a=ACFE02\n"
     ]
    },
    {
     "name": "stderr",
     "output_type": "stream",
     "text": [
      "\r",
      " 87%|████████████████████████████████████████████████████████████████          | 3180/3672 [8:44:38<1:28:22, 10.78s/it]"
     ]
    },
    {
     "name": "stdout",
     "output_type": "stream",
     "text": [
      "https://www.moneydj.com/funddj/yl/yp013000.djhtm?a=ACAS08\n"
     ]
    },
    {
     "name": "stderr",
     "output_type": "stream",
     "text": [
      "\r",
      " 87%|████████████████████████████████████████████████████████████████          | 3181/3672 [8:44:48<1:28:08, 10.77s/it]"
     ]
    },
    {
     "name": "stdout",
     "output_type": "stream",
     "text": [
      "https://www.moneydj.com/funddj/yl/yp013000.djhtm?a=ACNC06\n"
     ]
    },
    {
     "name": "stderr",
     "output_type": "stream",
     "text": [
      "\r",
      " 87%|████████████████████████████████████████████████████████████████▏         | 3182/3672 [8:45:01<1:33:57, 11.51s/it]"
     ]
    },
    {
     "name": "stdout",
     "output_type": "stream",
     "text": [
      "https://www.moneydj.com/funddj/yl/yp013000.djhtm?a=ACUI02\n"
     ]
    },
    {
     "name": "stderr",
     "output_type": "stream",
     "text": [
      "\r",
      " 87%|████████████████████████████████████████████████████████████████▏         | 3183/3672 [8:45:13<1:32:41, 11.37s/it]"
     ]
    },
    {
     "name": "stdout",
     "output_type": "stream",
     "text": [
      "https://www.moneydj.com/funddj/yl/yp013000.djhtm?a=ACCY02\n"
     ]
    },
    {
     "name": "stderr",
     "output_type": "stream",
     "text": [
      "\r",
      " 87%|████████████████████████████████████████████████████████████████▏         | 3184/3672 [8:45:24<1:33:24, 11.49s/it]"
     ]
    },
    {
     "name": "stdout",
     "output_type": "stream",
     "text": [
      "https://www.moneydj.com/funddj/yl/yp013000.djhtm?a=ACCA02\n"
     ]
    },
    {
     "name": "stderr",
     "output_type": "stream",
     "text": [
      "\r",
      " 87%|████████████████████████████████████████████████████████████████▏         | 3185/3672 [8:45:36<1:34:03, 11.59s/it]"
     ]
    },
    {
     "name": "stdout",
     "output_type": "stream",
     "text": [
      "https://www.moneydj.com/funddj/yl/yp013000.djhtm?a=ACDD02\n"
     ]
    },
    {
     "name": "stderr",
     "output_type": "stream",
     "text": [
      "\r",
      " 87%|████████████████████████████████████████████████████████████████▏         | 3186/3672 [8:45:45<1:27:27, 10.80s/it]"
     ]
    },
    {
     "name": "stdout",
     "output_type": "stream",
     "text": [
      "https://www.moneydj.com/funddj/yl/yp013000.djhtm?a=ACKY02\n"
     ]
    },
    {
     "name": "stderr",
     "output_type": "stream",
     "text": [
      "\r",
      " 87%|████████████████████████████████████████████████████████████████▏         | 3187/3672 [8:45:54<1:22:07, 10.16s/it]"
     ]
    },
    {
     "name": "stdout",
     "output_type": "stream",
     "text": [
      "https://www.moneydj.com/funddj/yl/yp013000.djhtm?a=ACYC09\n"
     ]
    },
    {
     "name": "stderr",
     "output_type": "stream",
     "text": [
      "\r",
      " 87%|████████████████████████████████████████████████████████████████▏         | 3188/3672 [8:46:04<1:22:24, 10.22s/it]"
     ]
    },
    {
     "name": "stdout",
     "output_type": "stream",
     "text": [
      "https://www.moneydj.com/funddj/yl/yp013000.djhtm?a=ACPS04\n"
     ]
    },
    {
     "name": "stderr",
     "output_type": "stream",
     "text": [
      "\r",
      " 87%|████████████████████████████████████████████████████████████████▎         | 3189/3672 [8:46:16<1:25:29, 10.62s/it]"
     ]
    },
    {
     "name": "stdout",
     "output_type": "stream",
     "text": [
      "https://www.moneydj.com/funddj/yl/yp013000.djhtm?a=ACKG03\n"
     ]
    },
    {
     "name": "stderr",
     "output_type": "stream",
     "text": [
      "\r",
      " 87%|████████████████████████████████████████████████████████████████▎         | 3190/3672 [8:46:28<1:30:23, 11.25s/it]"
     ]
    },
    {
     "name": "stdout",
     "output_type": "stream",
     "text": [
      "https://www.moneydj.com/funddj/yl/yp013000.djhtm?a=ACDS13\n"
     ]
    },
    {
     "name": "stderr",
     "output_type": "stream",
     "text": [
      "\r",
      " 87%|████████████████████████████████████████████████████████████████▎         | 3191/3672 [8:46:39<1:29:10, 11.12s/it]"
     ]
    },
    {
     "name": "stdout",
     "output_type": "stream",
     "text": [
      "https://www.moneydj.com/funddj/yl/yp013000.djhtm?a=ACGC02\n"
     ]
    },
    {
     "name": "stderr",
     "output_type": "stream",
     "text": [
      "\r",
      " 87%|████████████████████████████████████████████████████████████████▎         | 3192/3672 [8:46:49<1:26:49, 10.85s/it]"
     ]
    },
    {
     "name": "stdout",
     "output_type": "stream",
     "text": [
      "https://www.moneydj.com/funddj/yl/yp013000.djhtm?a=ACTS06\n"
     ]
    },
    {
     "name": "stderr",
     "output_type": "stream",
     "text": [
      "\r",
      " 87%|████████████████████████████████████████████████████████████████▎         | 3193/3672 [8:47:00<1:25:09, 10.67s/it]"
     ]
    },
    {
     "name": "stdout",
     "output_type": "stream",
     "text": [
      "https://www.moneydj.com/funddj/yl/yp013000.djhtm?a=ACCB20\n"
     ]
    },
    {
     "name": "stderr",
     "output_type": "stream",
     "text": [
      "\r",
      " 87%|████████████████████████████████████████████████████████████████▎         | 3194/3672 [8:47:11<1:25:40, 10.75s/it]"
     ]
    },
    {
     "name": "stdout",
     "output_type": "stream",
     "text": [
      "https://www.moneydj.com/funddj/yl/yp013000.djhtm?a=ACKY08\n"
     ]
    },
    {
     "name": "stderr",
     "output_type": "stream",
     "text": [
      "\r",
      " 87%|████████████████████████████████████████████████████████████████▍         | 3195/3672 [8:47:22<1:26:12, 10.84s/it]"
     ]
    },
    {
     "name": "stdout",
     "output_type": "stream",
     "text": [
      "https://www.moneydj.com/funddj/yl/yp013000.djhtm?a=ACFP07\n"
     ]
    },
    {
     "name": "stderr",
     "output_type": "stream",
     "text": [
      "\r",
      " 87%|████████████████████████████████████████████████████████████████▍         | 3196/3672 [8:47:32<1:25:38, 10.80s/it]"
     ]
    },
    {
     "name": "stdout",
     "output_type": "stream",
     "text": [
      "https://www.moneydj.com/funddj/yl/yp013000.djhtm?a=ACYT08\n"
     ]
    },
    {
     "name": "stderr",
     "output_type": "stream",
     "text": [
      "\r",
      " 87%|████████████████████████████████████████████████████████████████▍         | 3197/3672 [8:47:44<1:26:56, 10.98s/it]"
     ]
    },
    {
     "name": "stdout",
     "output_type": "stream",
     "text": [
      "https://www.moneydj.com/funddj/yl/yp013000.djhtm?a=ACFH05\n"
     ]
    },
    {
     "name": "stderr",
     "output_type": "stream",
     "text": [
      "\r",
      " 87%|████████████████████████████████████████████████████████████████▍         | 3198/3672 [8:47:56<1:29:03, 11.27s/it]"
     ]
    },
    {
     "name": "stdout",
     "output_type": "stream",
     "text": [
      "https://www.moneydj.com/funddj/yl/yp013000.djhtm?a=ACFH02\n"
     ]
    },
    {
     "name": "stderr",
     "output_type": "stream",
     "text": [
      "\r",
      " 87%|████████████████████████████████████████████████████████████████▍         | 3199/3672 [8:48:04<1:22:33, 10.47s/it]"
     ]
    },
    {
     "name": "stdout",
     "output_type": "stream",
     "text": [
      "https://www.moneydj.com/funddj/yl/yp013000.djhtm?a=ACCH02\n"
     ]
    },
    {
     "name": "stderr",
     "output_type": "stream",
     "text": [
      "\r",
      " 87%|████████████████████████████████████████████████████████████████▍         | 3200/3672 [8:48:14<1:20:49, 10.28s/it]"
     ]
    },
    {
     "name": "stdout",
     "output_type": "stream",
     "text": [
      "https://www.moneydj.com/funddj/yl/yp013000.djhtm?a=ACDF09\n"
     ]
    },
    {
     "name": "stderr",
     "output_type": "stream",
     "text": [
      "\r",
      " 87%|████████████████████████████████████████████████████████████████▌         | 3201/3672 [8:48:25<1:22:08, 10.46s/it]"
     ]
    },
    {
     "name": "stdout",
     "output_type": "stream",
     "text": [
      "https://www.moneydj.com/funddj/yl/yp013000.djhtm?a=ACAI03\n"
     ]
    },
    {
     "name": "stderr",
     "output_type": "stream",
     "text": [
      "\r",
      " 87%|████████████████████████████████████████████████████████████████▌         | 3202/3672 [8:48:35<1:20:50, 10.32s/it]"
     ]
    },
    {
     "name": "stdout",
     "output_type": "stream",
     "text": [
      "https://www.moneydj.com/funddj/yl/yp013000.djhtm?a=ACCS03\n"
     ]
    },
    {
     "name": "stderr",
     "output_type": "stream",
     "text": [
      "\r",
      " 87%|████████████████████████████████████████████████████████████████▌         | 3203/3672 [8:48:47<1:24:19, 10.79s/it]"
     ]
    },
    {
     "name": "stdout",
     "output_type": "stream",
     "text": [
      "https://www.moneydj.com/funddj/yl/yp013000.djhtm?a=ACKH22\n"
     ]
    },
    {
     "name": "stderr",
     "output_type": "stream",
     "text": [
      "\r",
      " 87%|████████████████████████████████████████████████████████████████▌         | 3204/3672 [8:48:59<1:27:53, 11.27s/it]"
     ]
    },
    {
     "name": "stdout",
     "output_type": "stream",
     "text": [
      "https://www.moneydj.com/funddj/yl/yp013000.djhtm?a=ACJF78\n"
     ]
    },
    {
     "name": "stderr",
     "output_type": "stream",
     "text": [
      "\r",
      " 87%|████████████████████████████████████████████████████████████████▌         | 3205/3672 [8:49:09<1:25:07, 10.94s/it]"
     ]
    },
    {
     "name": "stdout",
     "output_type": "stream",
     "text": [
      "https://www.moneydj.com/funddj/yl/yp013000.djhtm?a=ACAP02\n"
     ]
    },
    {
     "name": "stderr",
     "output_type": "stream",
     "text": [
      "\r",
      " 87%|████████████████████████████████████████████████████████████████▌         | 3206/3672 [8:49:19<1:21:01, 10.43s/it]"
     ]
    },
    {
     "name": "stdout",
     "output_type": "stream",
     "text": [
      "https://www.moneydj.com/funddj/yl/yp013000.djhtm?a=ACCY95\n"
     ]
    },
    {
     "name": "stderr",
     "output_type": "stream",
     "text": [
      "\r",
      " 87%|████████████████████████████████████████████████████████████████▋         | 3207/3672 [8:49:28<1:18:40, 10.15s/it]"
     ]
    },
    {
     "name": "stdout",
     "output_type": "stream",
     "text": [
      "https://www.moneydj.com/funddj/yl/yp013000.djhtm?a=ACYT101\n"
     ]
    },
    {
     "name": "stderr",
     "output_type": "stream",
     "text": [
      " 90%|████████████████████████████████████████████████████████████████████        | 3290/3672 [9:01:27<59:54,  9.41s/it]"
     ]
    },
    {
     "name": "stdout",
     "output_type": "stream",
     "text": [
      "Message: \n",
      "\n"
     ]
    },
    {
     "name": "stderr",
     "output_type": "stream",
     "text": [
      " 92%|█████████████████████████████████████████████████████████████████████▌      | 3361/3672 [9:12:02<42:21,  8.17s/it]"
     ]
    },
    {
     "name": "stdout",
     "output_type": "stream",
     "text": [
      "https://www.moneydj.com/funddj/yl/yp013000.djhtm?a=ACUN78\n"
     ]
    },
    {
     "name": "stderr",
     "output_type": "stream",
     "text": [
      "\r",
      " 92%|█████████████████████████████████████████████████████████████████████▌      | 3362/3672 [9:12:13<45:10,  8.74s/it]"
     ]
    },
    {
     "name": "stdout",
     "output_type": "stream",
     "text": [
      "https://www.moneydj.com/funddj/yl/yp013000.djhtm?a=ACUN79\n"
     ]
    },
    {
     "name": "stderr",
     "output_type": "stream",
     "text": [
      "\r",
      " 92%|█████████████████████████████████████████████████████████████████████▌      | 3363/3672 [9:12:26<52:49, 10.26s/it]"
     ]
    },
    {
     "name": "stdout",
     "output_type": "stream",
     "text": [
      "https://www.moneydj.com/funddj/yl/yp013000.djhtm?a=ACUN80\n"
     ]
    },
    {
     "name": "stderr",
     "output_type": "stream",
     "text": [
      "\r",
      " 92%|█████████████████████████████████████████████████████████████████████▋      | 3364/3672 [9:12:35<50:39,  9.87s/it]"
     ]
    },
    {
     "name": "stdout",
     "output_type": "stream",
     "text": [
      "https://www.moneydj.com/funddj/yl/yp013000.djhtm?a=ACUN81\n"
     ]
    },
    {
     "name": "stderr",
     "output_type": "stream",
     "text": [
      "\r",
      " 92%|█████████████████████████████████████████████████████████████████████▋      | 3365/3672 [9:12:49<55:52, 10.92s/it]"
     ]
    },
    {
     "name": "stdout",
     "output_type": "stream",
     "text": [
      "https://www.moneydj.com/funddj/yl/yp013000.djhtm?a=ACUN82\n"
     ]
    },
    {
     "name": "stderr",
     "output_type": "stream",
     "text": [
      "\r",
      " 92%|█████████████████████████████████████████████████████████████████████▋      | 3366/3672 [9:13:02<59:12, 11.61s/it]"
     ]
    },
    {
     "name": "stdout",
     "output_type": "stream",
     "text": [
      "https://www.moneydj.com/funddj/yl/yp013000.djhtm?a=ACCP85\n"
     ]
    },
    {
     "name": "stderr",
     "output_type": "stream",
     "text": [
      "\r",
      " 92%|███████████████████████████████████████████████████████████████████▊      | 3367/3672 [9:13:15<1:00:57, 11.99s/it]"
     ]
    },
    {
     "name": "stdout",
     "output_type": "stream",
     "text": [
      "https://www.moneydj.com/funddj/yl/yp013000.djhtm?a=ACDD82\n"
     ]
    },
    {
     "name": "stderr",
     "output_type": "stream",
     "text": [
      "\r",
      " 92%|███████████████████████████████████████████████████████████████████▊      | 3368/3672 [9:13:29<1:03:32, 12.54s/it]"
     ]
    },
    {
     "name": "stdout",
     "output_type": "stream",
     "text": [
      "https://www.moneydj.com/funddj/yl/yp013000.djhtm?a=ACDD64\n"
     ]
    },
    {
     "name": "stderr",
     "output_type": "stream",
     "text": [
      "\r",
      " 92%|███████████████████████████████████████████████████████████████████▉      | 3369/3672 [9:13:39<1:00:46, 12.03s/it]"
     ]
    },
    {
     "name": "stdout",
     "output_type": "stream",
     "text": [
      "https://www.moneydj.com/funddj/yl/yp013000.djhtm?a=ACDD38\n"
     ]
    },
    {
     "name": "stderr",
     "output_type": "stream",
     "text": [
      "\r",
      " 92%|███████████████████████████████████████████████████████████████████▉      | 3370/3672 [9:13:54<1:04:51, 12.89s/it]"
     ]
    },
    {
     "name": "stdout",
     "output_type": "stream",
     "text": [
      "https://www.moneydj.com/funddj/yl/yp013000.djhtm?a=ACDD39\n"
     ]
    },
    {
     "name": "stderr",
     "output_type": "stream",
     "text": [
      " 97%|█████████████████████████████████████████████████████████████████████████▋  | 3559/3672 [9:41:53<16:08,  8.57s/it]"
     ]
    },
    {
     "name": "stdout",
     "output_type": "stream",
     "text": [
      "https://www.moneydj.com/funddj/yl/yp013000.djhtm?a=ACFH57\n"
     ]
    },
    {
     "name": "stderr",
     "output_type": "stream",
     "text": [
      "\r",
      " 97%|█████████████████████████████████████████████████████████████████████████▋  | 3560/3672 [9:42:06<18:52, 10.12s/it]"
     ]
    },
    {
     "name": "stdout",
     "output_type": "stream",
     "text": [
      "https://www.moneydj.com/funddj/yl/yp013000.djhtm?a=ACDD50\n"
     ]
    },
    {
     "name": "stderr",
     "output_type": "stream",
     "text": [
      "\r",
      " 97%|█████████████████████████████████████████████████████████████████████████▋  | 3561/3672 [9:42:17<19:01, 10.29s/it]"
     ]
    },
    {
     "name": "stdout",
     "output_type": "stream",
     "text": [
      "https://www.moneydj.com/funddj/yl/yp013000.djhtm?a=ACDD51\n"
     ]
    },
    {
     "name": "stderr",
     "output_type": "stream",
     "text": [
      "\r",
      " 97%|█████████████████████████████████████████████████████████████████████████▋  | 3562/3672 [9:42:27<18:49, 10.27s/it]"
     ]
    },
    {
     "name": "stdout",
     "output_type": "stream",
     "text": [
      "https://www.moneydj.com/funddj/yl/yp013000.djhtm?a=ACDD46\n"
     ]
    },
    {
     "name": "stderr",
     "output_type": "stream",
     "text": [
      "\r",
      " 97%|█████████████████████████████████████████████████████████████████████████▋  | 3563/3672 [9:42:39<19:14, 10.59s/it]"
     ]
    },
    {
     "name": "stdout",
     "output_type": "stream",
     "text": [
      "https://www.moneydj.com/funddj/yl/yp013000.djhtm?a=ACDD47\n"
     ]
    },
    {
     "name": "stderr",
     "output_type": "stream",
     "text": [
      "\r",
      " 97%|█████████████████████████████████████████████████████████████████████████▊  | 3564/3672 [9:42:51<19:47, 10.99s/it]"
     ]
    },
    {
     "name": "stdout",
     "output_type": "stream",
     "text": [
      "https://www.moneydj.com/funddj/yl/yp013000.djhtm?a=ACDD48\n"
     ]
    },
    {
     "name": "stderr",
     "output_type": "stream",
     "text": [
      "\r",
      " 97%|█████████████████████████████████████████████████████████████████████████▊  | 3565/3672 [9:43:03<20:21, 11.41s/it]"
     ]
    },
    {
     "name": "stdout",
     "output_type": "stream",
     "text": [
      "https://www.moneydj.com/funddj/yl/yp013000.djhtm?a=ACCP81\n"
     ]
    },
    {
     "name": "stderr",
     "output_type": "stream",
     "text": [
      "\r",
      " 97%|█████████████████████████████████████████████████████████████████████████▊  | 3566/3672 [9:43:16<21:16, 12.05s/it]"
     ]
    },
    {
     "name": "stdout",
     "output_type": "stream",
     "text": [
      "https://www.moneydj.com/funddj/yl/yp013000.djhtm?a=ACCA264\n"
     ]
    },
    {
     "name": "stderr",
     "output_type": "stream",
     "text": [
      "\r",
      " 97%|█████████████████████████████████████████████████████████████████████████▊  | 3567/3672 [9:43:27<20:16, 11.59s/it]"
     ]
    },
    {
     "name": "stdout",
     "output_type": "stream",
     "text": [
      "https://www.moneydj.com/funddj/yl/yp013000.djhtm?a=ACCA262\n"
     ]
    },
    {
     "name": "stderr",
     "output_type": "stream",
     "text": [
      "\r",
      " 97%|█████████████████████████████████████████████████████████████████████████▊  | 3568/3672 [9:43:41<21:11, 12.22s/it]"
     ]
    },
    {
     "name": "stdout",
     "output_type": "stream",
     "text": [
      "https://www.moneydj.com/funddj/yl/yp013000.djhtm?a=ACAI127\n"
     ]
    },
    {
     "name": "stderr",
     "output_type": "stream",
     "text": [
      "\r",
      " 97%|█████████████████████████████████████████████████████████████████████████▊  | 3569/3672 [9:43:51<20:03, 11.69s/it]"
     ]
    },
    {
     "name": "stdout",
     "output_type": "stream",
     "text": [
      "https://www.moneydj.com/funddj/yl/yp013000.djhtm?a=ACAI131\n"
     ]
    },
    {
     "name": "stderr",
     "output_type": "stream",
     "text": [
      "\r",
      " 97%|█████████████████████████████████████████████████████████████████████████▉  | 3570/3672 [9:44:02<19:42, 11.59s/it]"
     ]
    },
    {
     "name": "stdout",
     "output_type": "stream",
     "text": [
      "https://www.moneydj.com/funddj/yl/yp013000.djhtm?a=ACAI139\n"
     ]
    },
    {
     "name": "stderr",
     "output_type": "stream",
     "text": [
      "\r",
      " 97%|█████████████████████████████████████████████████████████████████████████▉  | 3571/3672 [9:44:13<18:45, 11.14s/it]"
     ]
    },
    {
     "name": "stdout",
     "output_type": "stream",
     "text": [
      "https://www.moneydj.com/funddj/yl/yp013000.djhtm?a=ACAI135\n"
     ]
    },
    {
     "name": "stderr",
     "output_type": "stream",
     "text": [
      " 98%|██████████████████████████████████████████████████████████████████████████▏ | 3584/3672 [9:46:26<14:16,  9.74s/it]"
     ]
    },
    {
     "name": "stdout",
     "output_type": "stream",
     "text": [
      "https://www.moneydj.com/funddj/yl/yp013000.djhtm?a=ACCH26\n"
     ]
    },
    {
     "name": "stderr",
     "output_type": "stream",
     "text": [
      "\r",
      " 98%|██████████████████████████████████████████████████████████████████████████▏ | 3585/3672 [9:46:36<14:21,  9.90s/it]"
     ]
    },
    {
     "name": "stdout",
     "output_type": "stream",
     "text": [
      "https://www.moneydj.com/funddj/yl/yp013000.djhtm?a=ACYT105\n"
     ]
    },
    {
     "name": "stderr",
     "output_type": "stream",
     "text": [
      "\r",
      " 98%|██████████████████████████████████████████████████████████████████████████▏ | 3586/3672 [9:46:46<14:19,  9.99s/it]"
     ]
    },
    {
     "name": "stdout",
     "output_type": "stream",
     "text": [
      "https://www.moneydj.com/funddj/yl/yp013000.djhtm?a=ACYT69\n"
     ]
    },
    {
     "name": "stderr",
     "output_type": "stream",
     "text": [
      "\r",
      " 98%|██████████████████████████████████████████████████████████████████████████▏ | 3587/3672 [9:47:00<15:30, 10.95s/it]"
     ]
    },
    {
     "name": "stdout",
     "output_type": "stream",
     "text": [
      "https://www.moneydj.com/funddj/yl/yp013000.djhtm?a=ACYT104\n"
     ]
    },
    {
     "name": "stderr",
     "output_type": "stream",
     "text": [
      "\r",
      " 98%|██████████████████████████████████████████████████████████████████████████▎ | 3588/3672 [9:47:12<15:46, 11.27s/it]"
     ]
    },
    {
     "name": "stdout",
     "output_type": "stream",
     "text": [
      "https://www.moneydj.com/funddj/yl/yp013000.djhtm?a=ACYT116\n"
     ]
    },
    {
     "name": "stderr",
     "output_type": "stream",
     "text": [
      "\r",
      " 98%|██████████████████████████████████████████████████████████████████████████▎ | 3589/3672 [9:47:22<15:08, 10.95s/it]"
     ]
    },
    {
     "name": "stdout",
     "output_type": "stream",
     "text": [
      "https://www.moneydj.com/funddj/yl/yp013000.djhtm?a=ACYT117\n"
     ]
    },
    {
     "name": "stderr",
     "output_type": "stream",
     "text": [
      "\r",
      " 98%|██████████████████████████████████████████████████████████████████████████▎ | 3590/3672 [9:47:33<14:58, 10.95s/it]"
     ]
    },
    {
     "name": "stdout",
     "output_type": "stream",
     "text": [
      "https://www.moneydj.com/funddj/yl/yp013000.djhtm?a=ACYT63\n"
     ]
    },
    {
     "name": "stderr",
     "output_type": "stream",
     "text": [
      "\r",
      " 98%|██████████████████████████████████████████████████████████████████████████▎ | 3591/3672 [9:47:46<15:35, 11.55s/it]"
     ]
    },
    {
     "name": "stdout",
     "output_type": "stream",
     "text": [
      "https://www.moneydj.com/funddj/yl/yp013000.djhtm?a=ACKY38\n"
     ]
    },
    {
     "name": "stderr",
     "output_type": "stream",
     "text": [
      "\r",
      " 98%|██████████████████████████████████████████████████████████████████████████▎ | 3592/3672 [9:47:55<14:42, 11.04s/it]"
     ]
    },
    {
     "name": "stdout",
     "output_type": "stream",
     "text": [
      "https://www.moneydj.com/funddj/yl/yp013000.djhtm?a=ACYT96\n"
     ]
    },
    {
     "name": "stderr",
     "output_type": "stream",
     "text": [
      "\r",
      " 98%|██████████████████████████████████████████████████████████████████████████▎ | 3593/3672 [9:48:07<14:35, 11.08s/it]"
     ]
    },
    {
     "name": "stdout",
     "output_type": "stream",
     "text": [
      "https://www.moneydj.com/funddj/yl/yp013000.djhtm?a=ACYT106\n"
     ]
    },
    {
     "name": "stderr",
     "output_type": "stream",
     "text": [
      "\r",
      " 98%|██████████████████████████████████████████████████████████████████████████▍ | 3594/3672 [9:48:20<15:24, 11.86s/it]"
     ]
    },
    {
     "name": "stdout",
     "output_type": "stream",
     "text": [
      "https://www.moneydj.com/funddj/yl/yp013000.djhtm?a=ACYT115\n"
     ]
    },
    {
     "name": "stderr",
     "output_type": "stream",
     "text": [
      "\r",
      " 98%|██████████████████████████████████████████████████████████████████████████▍ | 3595/3672 [9:48:31<14:56, 11.64s/it]"
     ]
    },
    {
     "name": "stdout",
     "output_type": "stream",
     "text": [
      "https://www.moneydj.com/funddj/yl/yp013000.djhtm?a=ACYT95\n"
     ]
    },
    {
     "name": "stderr",
     "output_type": "stream",
     "text": [
      "\r",
      " 98%|██████████████████████████████████████████████████████████████████████████▍ | 3596/3672 [9:48:44<15:03, 11.89s/it]"
     ]
    },
    {
     "name": "stdout",
     "output_type": "stream",
     "text": [
      "https://www.moneydj.com/funddj/yl/yp013000.djhtm?a=ACYT138\n"
     ]
    },
    {
     "name": "stderr",
     "output_type": "stream",
     "text": [
      "100%|███████████████████████████████████████████████████████████████████████████▋| 3655/3672 [9:59:01<04:13, 14.88s/it]"
     ]
    },
    {
     "name": "stdout",
     "output_type": "stream",
     "text": [
      "https://www.moneydj.com/funddj/yl/yp013000.djhtm?a=ACJS74\n"
     ]
    },
    {
     "name": "stderr",
     "output_type": "stream",
     "text": [
      "\r",
      "100%|███████████████████████████████████████████████████████████████████████████▋| 3656/3672 [9:59:12<03:39, 13.72s/it]"
     ]
    },
    {
     "name": "stdout",
     "output_type": "stream",
     "text": [
      "https://www.moneydj.com/funddj/yl/yp013000.djhtm?a=ACJS82\n"
     ]
    },
    {
     "name": "stderr",
     "output_type": "stream",
     "text": [
      "\r",
      "100%|███████████████████████████████████████████████████████████████████████████▋| 3657/3672 [9:59:24<03:15, 13.02s/it]"
     ]
    },
    {
     "name": "stdout",
     "output_type": "stream",
     "text": [
      "https://www.moneydj.com/funddj/yl/yp013000.djhtm?a=ACJS83\n"
     ]
    },
    {
     "name": "stderr",
     "output_type": "stream",
     "text": [
      "\r",
      "100%|███████████████████████████████████████████████████████████████████████████▋| 3658/3672 [9:59:35<02:55, 12.51s/it]"
     ]
    },
    {
     "name": "stdout",
     "output_type": "stream",
     "text": [
      "https://www.moneydj.com/funddj/yl/yp013000.djhtm?a=ACJS84\n"
     ]
    },
    {
     "name": "stderr",
     "output_type": "stream",
     "text": [
      "\r",
      "100%|███████████████████████████████████████████████████████████████████████████▋| 3659/3672 [9:59:48<02:44, 12.64s/it]"
     ]
    },
    {
     "name": "stdout",
     "output_type": "stream",
     "text": [
      "https://www.moneydj.com/funddj/yl/yp013000.djhtm?a=ACJS85\n"
     ]
    },
    {
     "name": "stderr",
     "output_type": "stream",
     "text": [
      "\r",
      "100%|███████████████████████████████████████████████████████████████████████████▊| 3660/3672 [9:59:58<02:24, 12.02s/it]"
     ]
    },
    {
     "name": "stdout",
     "output_type": "stream",
     "text": [
      "https://www.moneydj.com/funddj/yl/yp013000.djhtm?a=ACJS86\n"
     ]
    },
    {
     "name": "stderr",
     "output_type": "stream",
     "text": [
      "\r",
      "100%|██████████████████████████████████████████████████████████████████████████▊| 3661/3672 [10:00:13<02:19, 12.64s/it]"
     ]
    },
    {
     "name": "stdout",
     "output_type": "stream",
     "text": [
      "https://www.moneydj.com/funddj/yl/yp013000.djhtm?a=ACJS87\n"
     ]
    },
    {
     "name": "stderr",
     "output_type": "stream",
     "text": [
      "\r",
      "100%|██████████████████████████████████████████████████████████████████████████▊| 3662/3672 [10:00:22<01:56, 11.67s/it]"
     ]
    },
    {
     "name": "stdout",
     "output_type": "stream",
     "text": [
      "https://www.moneydj.com/funddj/yl/yp013000.djhtm?a=ACJS88\n"
     ]
    },
    {
     "name": "stderr",
     "output_type": "stream",
     "text": [
      "\r",
      "100%|██████████████████████████████████████████████████████████████████████████▊| 3663/3672 [10:00:33<01:44, 11.63s/it]"
     ]
    },
    {
     "name": "stdout",
     "output_type": "stream",
     "text": [
      "https://www.moneydj.com/funddj/yl/yp013000.djhtm?a=ACJS89\n"
     ]
    },
    {
     "name": "stderr",
     "output_type": "stream",
     "text": [
      "\r",
      "100%|██████████████████████████████████████████████████████████████████████████▊| 3664/3672 [10:00:47<01:36, 12.10s/it]"
     ]
    },
    {
     "name": "stdout",
     "output_type": "stream",
     "text": [
      "https://www.moneydj.com/funddj/yl/yp013000.djhtm?a=ACJS76\n"
     ]
    },
    {
     "name": "stderr",
     "output_type": "stream",
     "text": [
      "\r",
      "100%|██████████████████████████████████████████████████████████████████████████▊| 3665/3672 [10:00:58<01:23, 11.87s/it]"
     ]
    },
    {
     "name": "stdout",
     "output_type": "stream",
     "text": [
      "https://www.moneydj.com/funddj/yl/yp013000.djhtm?a=ACJS77\n"
     ]
    },
    {
     "name": "stderr",
     "output_type": "stream",
     "text": [
      "\r",
      "100%|██████████████████████████████████████████████████████████████████████████▉| 3666/3672 [10:01:09<01:10, 11.73s/it]"
     ]
    },
    {
     "name": "stdout",
     "output_type": "stream",
     "text": [
      "https://www.moneydj.com/funddj/yl/yp013000.djhtm?a=ACJS75\n"
     ]
    },
    {
     "name": "stderr",
     "output_type": "stream",
     "text": [
      "\r",
      "100%|██████████████████████████████████████████████████████████████████████████▉| 3667/3672 [10:01:23<01:00, 12.19s/it]"
     ]
    },
    {
     "name": "stdout",
     "output_type": "stream",
     "text": [
      "https://www.moneydj.com/funddj/yl/yp013000.djhtm?a=ACJS78\n"
     ]
    },
    {
     "name": "stderr",
     "output_type": "stream",
     "text": [
      "\r",
      "100%|██████████████████████████████████████████████████████████████████████████▉| 3668/3672 [10:01:37<00:50, 12.69s/it]"
     ]
    },
    {
     "name": "stdout",
     "output_type": "stream",
     "text": [
      "https://www.moneydj.com/funddj/yl/yp013000.djhtm?a=ACJS80\n"
     ]
    },
    {
     "name": "stderr",
     "output_type": "stream",
     "text": [
      "\r",
      "100%|██████████████████████████████████████████████████████████████████████████▉| 3669/3672 [10:01:47<00:35, 11.96s/it]"
     ]
    },
    {
     "name": "stdout",
     "output_type": "stream",
     "text": [
      "https://www.moneydj.com/funddj/yl/yp013000.djhtm?a=ACJS81\n"
     ]
    },
    {
     "name": "stderr",
     "output_type": "stream",
     "text": [
      "\r",
      "100%|██████████████████████████████████████████████████████████████████████████▉| 3670/3672 [10:02:00<00:24, 12.26s/it]"
     ]
    },
    {
     "name": "stdout",
     "output_type": "stream",
     "text": [
      "https://www.moneydj.com/funddj/yl/yp013000.djhtm?a=ACJS79\n"
     ]
    },
    {
     "name": "stderr",
     "output_type": "stream",
     "text": [
      "\r",
      "100%|██████████████████████████████████████████████████████████████████████████▉| 3671/3672 [10:02:11<00:11, 11.90s/it]"
     ]
    },
    {
     "name": "stdout",
     "output_type": "stream",
     "text": [
      "https://www.moneydj.com/funddj/yl/yp013000.djhtm?a=ACFH64\n"
     ]
    },
    {
     "name": "stderr",
     "output_type": "stream",
     "text": [
      "100%|███████████████████████████████████████████████████████████████████████████| 3672/3672 [10:02:21<00:00,  9.84s/it]\n"
     ]
    }
   ],
   "source": [
    "# catch ratio of funds\n",
    "driver = webdriver.Chrome(executable_path=chrome_path, options=opt)\n",
    "driver.set_window_size(1024, 850)\n",
    "fund_url = 'https://www.moneydj.com/funddj/yl/yp013000.djhtm?a=ACFP72'\n",
    "driver.get(fund_url)\n",
    "sleep(15)\n",
    "\n",
    "\n",
    "fund_ratio = dict()\n",
    "\n",
    "for fund in tqdm(fund_company_list):\n",
    "    \n",
    "\n",
    "    fund_name = fund[1]\n",
    "    fund_id = fund[2].split('a=')[-1]\n",
    "    fund_ratio.update({fund_id: dict()})\n",
    "    fund_ratio[fund_id].update({'基金名稱': fund_name})\n",
    "\n",
    "    info_url = 'https://www.moneydj.com/funddj/yp/yp011000.djhtm?a=%s' % (fund_id)\n",
    "    fund_url = 'https://www.moneydj.com/funddj/yl/yp013000.djhtm?a=%s' % (fund_id)\n",
    "    \n",
    "    # 持股成分\n",
    "    driver.get(fund_url)\n",
    "    try:\n",
    "        ratio_content = WebDriverWait(driver, 3).until(\n",
    "                    EC.presence_of_element_located((By.XPATH, \n",
    "                                                    '//table[@class=\"t04\"]//table[@class=\"t01\"]//td[contains(@class, \"t3\")]')))\n",
    "        ratio_content = [item.text for item \n",
    "                         in driver.find_elements_by_xpath('//table[@class=\"t04\"]//table[@class=\"t01\"]//td[contains(@class, \"t3\")]')]\n",
    "        ratio_content = np.array(ratio_content).reshape(len(ratio_content)//4, 4).tolist()\n",
    "        \n",
    "        update_date = driver.find_element_by_xpath('//table[@class=\"t04\"]//td[@class=\"t3n1c1\"]').text\n",
    "#         print(update_date, ratio_content)\n",
    "    except:\n",
    "        ratio_content = ' '\n",
    "        update_date = ' '\n",
    "        print(fund_url)\n",
    "\n",
    "    finally:\n",
    "        fund_ratio[fund_id].update({'更新時間': update_date})\n",
    "        fund_ratio[fund_id].update({'持股': ratio_content})\n",
    "        \n",
    "    # 基本資料\n",
    "    driver.get(info_url)\n",
    "    try:\n",
    "        info_col = WebDriverWait(driver, 3).until(\n",
    "            EC.presence_of_element_located((By.XPATH, '//table[@class=\"t04\"]//td[@class=\"t2c1\"]')))\n",
    "        info_col = [item.text for item\n",
    "                    in driver.find_elements_by_xpath('//table[@class=\"t04\"]//td[@class=\"t2\" or @class=\"t2c1\"]')]\n",
    "        info_val = WebDriverWait(driver, 3).until(\n",
    "            EC.presence_of_element_located((By.XPATH, '//table[@class=\"t04\"]//td[@class=\"t3t2\"]')))\n",
    "        info_val = [item.text for item \n",
    "                    in driver.find_elements_by_xpath('//table[@class=\"t04\"]//td[@class=\"t3t2\"]')]\n",
    "        \n",
    "    except Exception as e:\n",
    "        print(e)\n",
    "        info_col, info_val = list(), list()\n",
    "        \n",
    "    finally:\n",
    "        res = dict(zip(info_col, info_val))\n",
    "        fund_ratio[fund_id].update({'基本資料': res})\n",
    "#         print(res)\n",
    "\n",
    "\n",
    "    sleep(np.random.randint(3, 7))\n",
    "    \n",
    "driver.quit()\n",
    "\n",
    "\n",
    "# store to json file\n",
    "with open('../../KG-try/basic_info_collector/from_moneyDJ/20220117/fund_holdings_final.json', 'w', encoding='utf-8') as f:\n",
    "    json.dump(fund_ratio, f, ensure_ascii=False, indent=4)\n",
    "\n"
   ]
  },
  {
   "cell_type": "code",
   "execution_count": null,
   "metadata": {},
   "outputs": [],
   "source": [
    "fund_ratio_copy['ACDD01']"
   ]
  },
  {
   "cell_type": "code",
   "execution_count": null,
   "metadata": {},
   "outputs": [],
   "source": [
    "# catch ratio of funds\n",
    "driver = webdriver.Chrome(executable_path=chrome_path, options=opt)\n",
    "driver.set_window_size(1024, 850)\n",
    "fund_id = 'ACDS99'\n",
    "fund_url = 'https://www.moneydj.com/funddj/yl/yp013000.djhtm?a=%s' % (fund_id)\n",
    "info_url = 'https://www.moneydj.com/funddj/yp/yp011000.djhtm?a=%s' % (fund_id)\n",
    "\n",
    "# 基本資料\n",
    "driver.get(info_url)\n",
    "\n",
    "# try:\n",
    "info_col = WebDriverWait(driver, 3).until(\n",
    "    EC.presence_of_element_located((By.XPATH, '//table[@class=\"t04\"]//td[@class=\"t2c1\"]')))\n",
    "info_col = [item.text for item\n",
    "            in driver.find_elements_by_xpath('//table[@class=\"t04\"]//td[@class=\"t2\" or @class=\"t2c1\"]')]\n",
    "info_val = WebDriverWait(driver, 3).until(\n",
    "    EC.presence_of_element_located((By.XPATH, '//table[@class=\"t04\"]//td[@class=\"t3t2\"]')))\n",
    "info_val = [item.text for item \n",
    "            in driver.find_elements_by_xpath('//table[@class=\"t04\"]//td[@class=\"t3t2\"]')]\n",
    "\n",
    "# except Exception as e:\n",
    "#     print(e)\n",
    "#     info_col, info_val = list(), list()\n",
    "\n",
    "# finally:\n",
    "res = dict(zip(info_col, info_val))\n",
    "print(res)\n",
    "\n",
    "\n",
    "sleep(np.random.randint(3, 7))\n",
    "\n",
    "driver.quit()\n",
    "\n"
   ]
  },
  {
   "cell_type": "code",
   "execution_count": 14,
   "metadata": {},
   "outputs": [
    {
     "data": {
      "text/plain": [
       "'YGyang615thebest'"
      ]
     },
     "execution_count": 14,
     "metadata": {},
     "output_type": "execute_result"
    }
   ],
   "source": [
    "password\n",
    "# fund_ratio.keys()\n",
    "# fund_ratio['ACDS99']\n"
   ]
  },
  {
   "cell_type": "code",
   "execution_count": 15,
   "metadata": {},
   "outputs": [
    {
     "data": {
      "text/plain": [
       "'abaoyang'"
      ]
     },
     "execution_count": 15,
     "metadata": {},
     "output_type": "execute_result"
    }
   ],
   "source": [
    "account \n",
    "# np.array(ratio_content).reshape(72//4, 4)"
   ]
  },
  {
   "cell_type": "code",
   "execution_count": null,
   "metadata": {},
   "outputs": [],
   "source": [
    "# store to json file\n",
    "with open('fund_element_ratio_tables.json', 'w', encoding='utf-8') as f:\n",
    "    json.dump(fund_ratio, f, ensure_ascii=False, indent=4)\n",
    "    \n",
    "with open('fund_id_name_mapping.json', 'w', encoding='utf-8') as f:\n",
    "    json.dump(fund_id_name_mapping, f, ensure_ascii=False, indent=4)\n"
   ]
  },
  {
   "cell_type": "code",
   "execution_count": null,
   "metadata": {},
   "outputs": [],
   "source": [
    "# 只存股票項目不存比例\n",
    "fund_ratio_simple = dict()\n",
    "for k in fund_ratio.keys():\n",
    "    \n",
    "    update_date = fund_ratio[k].split(' 更新。')[0]\n",
    "    content = ' '.join(fund_ratio[k].split('\\n')[3:])\n",
    "    cl = np.unique([char.strip() for char in re.findall(r'[\\u4e00-\\u9fff- a-zA-Z]+|91APP', content) \n",
    "                    if (char.strip() != '') and (char.strip() != '-') \n",
    "                    and (char.strip() != 'KY') and (char.strip() != '-KY')]).tolist()\n",
    "    \n",
    "    fund_ratio_simple.update({k: {'更新時間': update_date, '持股': cl}})\n",
    "\n",
    "\n",
    "# store to json file\n",
    "with open('fund_holdings.json', 'w', encoding='utf-8') as f:\n",
    "    json.dump(fund_ratio_simple, f, ensure_ascii=False, indent=4)\n"
   ]
  },
  {
   "cell_type": "code",
   "execution_count": null,
   "metadata": {},
   "outputs": [],
   "source": [
    "fund_ratio_simple['ACAI174']\n"
   ]
  },
  {
   "cell_type": "code",
   "execution_count": null,
   "metadata": {},
   "outputs": [],
   "source": [
    "# 轉存 3 元組為 csv\n",
    "collect = list()\n",
    "for k in tqdm(fund_ratio_simple.keys()):\n",
    "    for item in fund_ratio_simple[k]['持股']:\n",
    "        collect += [(k, '持有', item)]\n",
    "\n",
    "len(collect)\n",
    "pd.DataFrame(collect, columns=['fund_id', 'rel', 'target_name']).drop_duplicates().to_csv('fund_holding_relation.csv', index=False)\n"
   ]
  },
  {
   "cell_type": "markdown",
   "metadata": {},
   "source": [
    "### 公司基本資訊\n",
    "- MoneyDJ: https://concords.moneydj.com/z/zc/zca/zca.djhtm?a=2303\n",
    "    - 有些網頁是亂碼、有些會有空格問題抓起來比較麻煩\n",
    "    \n",
    "- Goodinfo: https://goodinfo.tw/StockInfo/BasicInfo.asp?STOCK_ID=2303\n"
   ]
  },
  {
   "cell_type": "code",
   "execution_count": null,
   "metadata": {},
   "outputs": [],
   "source": [
    "url = 'https://concords.moneydj.com/z/zc/zca/zca.djhtm?a=2303'\n",
    "\n",
    "list_stock_id = pd.read_csv('listed_company.csv', header=None)\n",
    "list_stock_id.columns = ['comp']\n",
    "list_stock_id = list_stock_id['comp'].str.split('　', expand=True)\n",
    "list_stock_id.columns = ['id', 'name']\n",
    "stock_ids = list_stock_id.id.unique()\n",
    "stock_ids\n"
   ]
  },
  {
   "cell_type": "code",
   "execution_count": null,
   "metadata": {},
   "outputs": [],
   "source": [
    "url = f'https://concords.moneydj.com/z/zc/zca/zca.djhtm?a={stock_id}'\n",
    "res = requests.get(url, headers=headers).content\n",
    "soup = BeautifulSoup(res, 'html.parser')\n",
    "keys = [item.text for item in soup.find_all('td', {'class': 't4t1'})]\n",
    "values = [item.text for item in soup.find_all('td', {'class': ['t3n1', 't3t1']}) if item.text.strip() != '']\n",
    "try:\n",
    "    idx = keys.index('公司地址')\n",
    "    _dict = dict(zip(keys[:idx+1], values[:idx+1]))\n",
    "\n",
    "except:\n",
    "    print(f'broken id: {stock_id}')\n",
    "\n",
    "finally:\n",
    "    print(_dict)\n",
    "    "
   ]
  },
  {
   "cell_type": "code",
   "execution_count": null,
   "metadata": {},
   "outputs": [],
   "source": [
    "def getCompanyTable(url):\n",
    "    print(url)\n",
    "    res = requests.get(url, headers=headers).content\n",
    "    soup = BeautifulSoup(res, 'html.parser')\n",
    "    keys = [item.text for item in soup.find_all('td', {'class': 't4t1'})]\n",
    "    values = [item.text for item in soup.find_all('td', {'class': ['t3n1', 't3t1']}) if item.text.strip() != '']\n",
    "    try:\n",
    "        idx = keys.index('公司地址')\n",
    "        _dict = dict(zip(keys[:idx+1], values[:idx+1]))\n",
    "    except:\n",
    "        print(f'broken ')\n",
    "        print(keys, values)\n",
    "        _dict = ''\n",
    "    return _dict\n",
    "\n",
    "\n",
    "\n",
    "\n",
    "import chardet\n",
    "chardet.detect('¶}½L»ù'.encode('utf-8'))\n"
   ]
  },
  {
   "cell_type": "code",
   "execution_count": null,
   "metadata": {
    "scrolled": true
   },
   "outputs": [],
   "source": [
    "# for stock_id in broken_ids:\n",
    "stock_id = 1324\n",
    "url = f'https://concords.moneydj.com/z/zc/zca/zca.djhtm?a={stock_id}'\n",
    "getCompanyTable(url)\n"
   ]
  },
  {
   "cell_type": "code",
   "execution_count": null,
   "metadata": {
    "scrolled": true
   },
   "outputs": [],
   "source": [
    "# comp_dict = dict()\n",
    "# broken_ids = list()\n",
    "\n",
    "selected_stock_ids = ['1236','1307','1321','1419','1439','1470','1541','1592','1614','1727','1805','2028','2115','2115','2211','2250','2388','2390','2404','2405','2424','2430','2433','2438','2468','2501','2501','2543','2712','2753','2910','2936','2945','3021','3035','3051','3059','3138','3266','3419','3515','3532','3701','3714','4190','4426','4440','4555','4560','4755','4930','4994','5222','5225','5284','5546','5608','6136','6172','6189','6201','6209','6224','6230','6289','6405','6442','6515','6715','6743','6754','6756','6768','6770','6781','6790','6806','8104','8427','8467','8478','8482','8488','9926','9927']\n",
    "\n",
    "for stock_id in tqdm(selected_stock_ids):\n",
    "\n",
    "    url = f'https://concords.moneydj.com/z/zc/zca/zca.djhtm?a={stock_id}'\n",
    "    res = requests.get(url, headers=headers).content\n",
    "    soup = BeautifulSoup(res, 'html.parser')\n",
    "    keys = [item.text for item in soup.find_all('td', {'class': 't4t1'})]\n",
    "    values = [item.text for item in soup.find_all('td', {'class': ['t3n1', 't3t1']}) if item.text.strip() != '']\n",
    "    try:\n",
    "        idx = keys.index('公司地址')\n",
    "        _dict = dict(zip(keys[:idx+1], values[:idx+1]))\n",
    "        comp_dict.update({stock_id: _dict})\n",
    "    \n",
    "    except:\n",
    "        print(f'broken id: {stock_id}')\n",
    "        broken_ids.append(stock_id)\n",
    "        continue\n",
    "    \n",
    "    finally:\n",
    "        sleep(np.random.randint(3, 8))\n",
    "\n"
   ]
  },
  {
   "cell_type": "code",
   "execution_count": null,
   "metadata": {
    "scrolled": true
   },
   "outputs": [],
   "source": [
    "for stock_id in tqdm(selected_stock_ids):\n",
    "    print(comp_dict[stock_id])\n",
    "    "
   ]
  },
  {
   "cell_type": "code",
   "execution_count": null,
   "metadata": {},
   "outputs": [],
   "source": [
    "selected_stock_ids[2]"
   ]
  },
  {
   "cell_type": "code",
   "execution_count": null,
   "metadata": {},
   "outputs": [],
   "source": [
    "# write to json\n",
    "with open('company_basic_info.json', 'w', encoding='utf-8') as f:\n",
    "    json.dump(comp_dict, f, ensure_ascii=False, indent=4)\n",
    "    "
   ]
  },
  {
   "cell_type": "markdown",
   "metadata": {},
   "source": [
    "#### 類股分類\n",
    "- 上市\n",
    "- 上櫃\n",
    "- 興櫃\n",
    "- 電子產業\n",
    "- 概念股\n",
    "- 集團股\n"
   ]
  },
  {
   "cell_type": "code",
   "execution_count": null,
   "metadata": {
    "scrolled": true
   },
   "outputs": [],
   "source": [
    "def getStockCates(idx):\n",
    "    \n",
    "    market_categories = ['上市','上櫃','興櫃','電子產業','概念股','集團股']\n",
    "    market_cat = market_categories[idx]\n",
    "    url = f'https://goodinfo.tw/StockInfo/StockList.asp?MARKET_CAT={market_cat}'\n",
    "    headers['User-Agent'] = random.choice(user_agent_list)\n",
    "    res = requests.get(url, headers=headers).content\n",
    "    soup = BeautifulSoup(res, 'html.parser')\n",
    "    list_stock_cate = soup.find('table', {'id': f'MENU{idx+2}'}).find_all('td', {'colspan': '4'})\n",
    "    list_stock_cate = [re.findall(r'[\\u4e00-\\u9fff]+', str(item)) for item in list_stock_cate]\n",
    "    list_stock_cate = [item[-1] for item in list_stock_cate if len(item) >0 and market_cat not in item[-1]]\n",
    "    return list_stock_cate\n",
    "\n",
    "\n",
    "list_stock_cate = getStockCates(idx=1)\n",
    "list_stock_cate\n"
   ]
  },
  {
   "cell_type": "code",
   "execution_count": null,
   "metadata": {},
   "outputs": [],
   "source": [
    "industries = list_stock_cate.copy()\n",
    "url = f'https://goodinfo.tw/StockInfo/StockList.asp?MARKET_CAT=上市&INDUSTRY_CAT={list_stock_cate[0]}'\n"
   ]
  },
  {
   "cell_type": "code",
   "execution_count": null,
   "metadata": {},
   "outputs": [],
   "source": [
    "def getCateStockList(market_cat, ind):\n",
    "    \n",
    "    url = f'https://goodinfo.tw/StockInfo/StockList.asp?MARKET_CAT={market_cat}&INDUSTRY_CAT={ind}'\n",
    "    headers['User-Agent'] = random.choice(user_agent_list)\n",
    "    res = requests.get(url, headers=headers).content\n",
    "    soup = BeautifulSoup(res, 'html.parser')\n",
    "    list_stock = [item.text for item in soup.find('table', {'class': 'r10_0_0_10 b1 p4_1'}).find_all('td')]\n",
    "    list_stock = [(x, y) for x, y in zip(list_stock[::2], list_stock[1::2]) if x != '代號']\n",
    "    return list_stock\n",
    "\n"
   ]
  },
  {
   "cell_type": "code",
   "execution_count": null,
   "metadata": {
    "scrolled": true
   },
   "outputs": [],
   "source": [
    "market_categories = ['上市','上櫃','興櫃','電子產業','概念股','集團股']\n",
    "stock_categories = dict()\n",
    "sleep_time = 10\n",
    "\n",
    "for idx in tqdm(range(len(market_categories))):\n",
    "    _ind_stocks = dict()\n",
    "    market_cat = market_categories[idx]\n",
    "    industries = getStockCates(idx=idx)\n",
    "    print(industries)\n",
    "    \n",
    "    sleep(np.random.randint(5, 8))\n",
    "    \n",
    "    for ind in industries:\n",
    "        try:\n",
    "            list_stock = getCateStockList(market_cat=market_cat, ind=ind)\n",
    "        except:\n",
    "            print(url)\n",
    "            # 發生錯誤時 多休息幾秒緩衝 避免被網站擋\n",
    "            sleep_time += 5\n",
    "            continue\n",
    "            \n",
    "        finally:\n",
    "            _ind_stocks.update({ind: list_stock})\n",
    "            print(ind, _ind_stocks[ind], '\\n')\n",
    "\n",
    "        sleep(np.random.randint(sleep_time, sleep_time+5))\n",
    "        \n",
    "    stock_categories.update({market_cat: _ind_stocks})\n",
    "    print(market_cat, stock_categories[market_cat])\n",
    "\n"
   ]
  },
  {
   "cell_type": "code",
   "execution_count": null,
   "metadata": {},
   "outputs": [],
   "source": [
    "stock_categories.keys()\n",
    "stock_categories['上櫃']['保險業']\n"
   ]
  },
  {
   "cell_type": "code",
   "execution_count": null,
   "metadata": {},
   "outputs": [],
   "source": [
    "with open('stock_categories.json', 'w', encoding='utf-8') as f:\n",
    "    json.dump(stock_categories, f, ensure_ascii=False, indent=4)\n"
   ]
  },
  {
   "cell_type": "code",
   "execution_count": null,
   "metadata": {},
   "outputs": [],
   "source": [
    "url = f'https://goodinfo.tw/StockInfo/StockDetail.asp?STOCK_ID={stock_id}'\n"
   ]
  },
  {
   "cell_type": "markdown",
   "metadata": {},
   "source": [
    "#### SemEval 2016 Task5 ABSA datasets\n",
    "- xml parser"
   ]
  },
  {
   "cell_type": "code",
   "execution_count": null,
   "metadata": {},
   "outputs": [],
   "source": [
    "from xml.etree import ElementTree\n",
    "import xmltodict\n",
    "\n",
    "# trial data\n",
    "url = 'https://alt.qcri.org/semeval2016/task5/data/uploads/trial-data/mobilephones_trial_chinese.xml'\n",
    "\n",
    "res = requests.get(url, headers=headers).content\n",
    "# tree = ElementTree.fromstring(res)\n",
    "res_dict = xmltodict.parse(res)\n",
    "res_dict\n"
   ]
  },
  {
   "cell_type": "code",
   "execution_count": null,
   "metadata": {},
   "outputs": [],
   "source": [
    "res_dict.keys()\n",
    "res_dict['Reviews'].keys()\n",
    "len(res_dict['Reviews']['Review'])\n",
    "res_dict['Reviews']['Review'][0].keys()\n",
    "res_dict['Reviews']['Review'][0]['sentences'].keys()\n",
    "len(res_dict['Reviews']['Review'][0]['sentences']['sentence'])\n",
    "res_dict['Reviews']['Review'][0]['sentences']['sentence'][1].keys()\n",
    "res_dict['Reviews']['Review'][0]['sentences']['sentence'][1]['Opinions']['Opinion']['@category']\n"
   ]
  },
  {
   "cell_type": "markdown",
   "metadata": {},
   "source": [
    "#### Other"
   ]
  },
  {
   "cell_type": "code",
   "execution_count": null,
   "metadata": {},
   "outputs": [],
   "source": [
    "# check table data\n",
    "# 英文公司名中間有空格，和分隔符衝突\n",
    "\n",
    "empty = list()\n",
    "diff = list()\n",
    "valid = list()\n",
    "for k in fund_ratio.keys():\n",
    "    \n",
    "    cl = list()\n",
    "    for row in fund_ratio[k].split('\\n'):\n",
    "        cl.append([char.strip() for char in row.split(' ') if len(char.strip()) > 0])\n",
    "    \n",
    "    try: \n",
    "        check = len(cl[3])\n",
    "        if check not in [6, 8]:\n",
    "            diff.append(k)\n",
    "        else:\n",
    "            valid.append(k)\n",
    "    except:\n",
    "        empty.append(k)\n",
    "\n",
    "\n",
    "empty\n",
    "diff"
   ]
  },
  {
   "cell_type": "code",
   "execution_count": null,
   "metadata": {},
   "outputs": [],
   "source": [
    "# test the login pop-up\n",
    "driver = webdriver.Chrome(executable_path=chrome_path, options=opt)\n",
    "driver.set_window_size(1024, 850)\n",
    "driver.get('https://www.moneydj.com/funddj/yl/yp013000.djhtm?a=ACKY39')\n",
    "sleep(1)\n",
    "\n",
    "# 在網頁外面的彈出 selenium 沒辦法操作\n",
    "#action = ActionChains(driver)\n",
    "#action.send_keys(account).send_keys(Keys.TAB).send_keys(password).send_keys(Keys.ENTER).perform()\n"
   ]
  },
  {
   "cell_type": "code",
   "execution_count": null,
   "metadata": {},
   "outputs": [],
   "source": [
    "driver.quit()"
   ]
  },
  {
   "cell_type": "code",
   "execution_count": null,
   "metadata": {
    "scrolled": true
   },
   "outputs": [],
   "source": [
    "cl = list()\n",
    "for row in fund_ratio[diff[11]].split('\\n'):\n",
    "    cl.append([char.strip() for char in row.split(' ') if len(char.strip()) > 0])\n",
    "\n",
    "cl\n",
    "# [row.split(' ') for row in fund_ratio['AC0001'].split('\\n')]\n",
    "diff[11]"
   ]
  },
  {
   "cell_type": "code",
   "execution_count": null,
   "metadata": {},
   "outputs": [],
   "source": [
    "k = 'ACAI175'\n",
    "\n",
    "content = ' '.join(fund_ratio[k].split('\\n')[3:])\n",
    "cl = np.unique([char.strip() for char in re.findall(r'[\\u4e00-\\u9fff- a-zA-Z]+|91APP', content) \n",
    "                if (char.strip() != '') and (char.strip() != '-')]).tolist()\n",
    "\n",
    "content"
   ]
  },
  {
   "cell_type": "code",
   "execution_count": null,
   "metadata": {},
   "outputs": [],
   "source": [
    "len(fund_ratio_simple.keys())"
   ]
  },
  {
   "cell_type": "code",
   "execution_count": null,
   "metadata": {},
   "outputs": [],
   "source": [
    "fund_ratio[k]"
   ]
  },
  {
   "cell_type": "code",
   "execution_count": null,
   "metadata": {},
   "outputs": [],
   "source": [
    "url = 'https://www.tej.com.tw/webtej/doc/uid.htm'\n",
    "\n",
    "driver = webdriver.Chrome(executable_path=chrome_path, options=opt)\n",
    "driver.set_window_size(1024, 850)\n",
    "driver.get(url)\n",
    "text = [item.text for item in driver.find_elements_by_xpath('//font')]\n",
    "sleep(1)\n",
    "driver.quit()"
   ]
  },
  {
   "cell_type": "code",
   "execution_count": null,
   "metadata": {},
   "outputs": [],
   "source": [
    "end = text.index('上櫃公司代碼一覽表')\n",
    "start = text.index('1101   台泥')\n",
    "stock_comp = [item.strip() for item in text[start:end] if (item.strip() != '') and re.findall('[0-9]+', item)]\n",
    "stock_names = [item.split(' ')[-1].strip() for item in stock_comp]\n",
    "stock_ids = [item.split(' ')[0].strip() for item in stock_comp]\n"
   ]
  },
  {
   "cell_type": "code",
   "execution_count": null,
   "metadata": {},
   "outputs": [],
   "source": [
    "re.findall('[0-9]+', '1110   東泥')"
   ]
  },
  {
   "cell_type": "code",
   "execution_count": null,
   "metadata": {},
   "outputs": [],
   "source": [
    "df_stock_comp = pd.DataFrame([stock_ids, stock_names]).T\n",
    "df_stock_comp.columns = ['id', 'name']\n",
    "df_stock_comp.to_csv('df_stock_comp.csv', index=False)"
   ]
  },
  {
   "cell_type": "code",
   "execution_count": null,
   "metadata": {
    "scrolled": false
   },
   "outputs": [],
   "source": [
    "df_stock_comp"
   ]
  },
  {
   "cell_type": "code",
   "execution_count": null,
   "metadata": {},
   "outputs": [],
   "source": []
  },
  {
   "cell_type": "code",
   "execution_count": null,
   "metadata": {},
   "outputs": [],
   "source": []
  }
 ],
 "metadata": {
  "kernelspec": {
   "display_name": "Python 3",
   "language": "python",
   "name": "python3"
  },
  "language_info": {
   "codemirror_mode": {
    "name": "ipython",
    "version": 3
   },
   "file_extension": ".py",
   "mimetype": "text/x-python",
   "name": "python",
   "nbconvert_exporter": "python",
   "pygments_lexer": "ipython3",
   "version": "3.7.9"
  }
 },
 "nbformat": 4,
 "nbformat_minor": 5
}
