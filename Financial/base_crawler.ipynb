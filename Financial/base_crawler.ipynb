{
 "cells": [
  {
   "cell_type": "code",
   "execution_count": 265,
   "metadata": {},
   "outputs": [],
   "source": [
    "import requests\n",
    "import random\n",
    "from bs4 import BeautifulSoup\n"
   ]
  },
  {
   "cell_type": "code",
   "execution_count": 273,
   "metadata": {},
   "outputs": [],
   "source": [
    "url = 'https://www.moneydj.com/ETF/X/Basic/Basic0007a.xdjhtm?etfid=0061.TW'\n",
    "user_agent_list = [\n",
    "    'Mozilla/5.0 (Macintosh; Intel Mac OS X 10_15_5) AppleWebKit/605.1.15 (KHTML, like Gecko) Version/13.1.1 Safari/605.1.15',\n",
    "    'Mozilla/5.0 (Windows NT 10.0; Win64; x64; rv:77.0) Gecko/20100101 Firefox/77.0',\n",
    "    'Mozilla/5.0 (Macintosh; Intel Mac OS X 10_15_5) AppleWebKit/537.36 (KHTML, like Gecko) Chrome/83.0.4103.97 Safari/537.36',\n",
    "    'Mozilla/5.0 (Macintosh; Intel Mac OS X 10.15; rv:77.0) Gecko/20100101 Firefox/77.0',\n",
    "    'Mozilla/5.0 (Windows NT 10.0; Win64; x64) AppleWebKit/537.36 (KHTML, like Gecko) Chrome/83.0.4103.97 Safari/537.36',\n",
    "]\n",
    "headers = {\n",
    "    \"accept\": \"text/html,application/xhtml+xml,application/xml;q=0.9,image/avif,image/webp,image/apng,*/*;q=0.8,application/signed-exchange;v=b3;q=0.9\", \n",
    "    \"accept-encoding\": \"gzip, deflate, br\", \n",
    "    \"accept-language\": \"zh-TW,zh;q=0.9,en-US;q=0.8,en;q=0.7\", \n",
    "    \"sec-fetch-dest\": \"document\",\n",
    "    \"sec-fetch-mode\": \"navigate\",\n",
    "    \"sec-fetch-site\": \"none\",\n",
    "    \"sec-fetch-user\": \"?1\",\n",
    "    \"sec-gpc\": \"1\",\n",
    "    \"referer\": \"https://www.google.com/\",\n",
    "    \"dnt\": \"1\", \n",
    "    \"upgrade-Insecure-Requests\": \"1\", \n",
    "    \"user-Agent\": \"Mozilla/5.0 (Linux; Android 6.0; Nexus 5 Build/MRA58N) AppleWebKit/537.36 (KHTML, like Gecko) Chrome/95.0.4638.69 Mobile Safari/537.36\", \n",
    "}\n",
    "\n"
   ]
  },
  {
   "cell_type": "code",
   "execution_count": null,
   "metadata": {},
   "outputs": [],
   "source": [
    "\n"
   ]
  },
  {
   "cell_type": "code",
   "execution_count": 26,
   "metadata": {},
   "outputs": [],
   "source": [
    "# test requests but no use\n",
    "res = requests.get(url, headers=headers).content\n",
    "soup = BeautifulSoup(res, 'html.parser')\n",
    "# soup"
   ]
  },
  {
   "cell_type": "code",
   "execution_count": 5,
   "metadata": {},
   "outputs": [],
   "source": [
    "from selenium import webdriver\n",
    "from webdriver_manager.chrome import ChromeDriverManager\n",
    "# driver = webdriver.Chrome(ChromeDriverManager().install())\n",
    "from selenium.webdriver.common.by import By\n",
    "from selenium.webdriver.support import expected_conditions as EC\n",
    "from selenium.webdriver.support.ui import WebDriverWait\n",
    "from selenium.webdriver.common.action_chains import ActionChains\n",
    "from selenium.webdriver.common.keys import Keys\n",
    "\n",
    "from time import sleep\n",
    "import numpy as np\n",
    "from tqdm import tqdm\n"
   ]
  },
  {
   "cell_type": "code",
   "execution_count": 6,
   "metadata": {},
   "outputs": [],
   "source": [
    "user_agent = 'Mozilla/5.0 (Macintosh; Intel Mac OS X 10_13_6) AppleWebKit/605.1.15 (KHTML, like Gecko) Version/12.0.3 Safari/605.1.15'\n",
    "chrome_path = 'C:/Users/Administrator/.wdm/drivers/chromedriver/win32/92.0.4515.107/chromedriver.exe'\n",
    "url = 'https://www.moneydj.com/ETF/X/Basic/Basic0007.xdjhtm?etfid=2824.HK'\n"
   ]
  },
  {
   "cell_type": "markdown",
   "metadata": {},
   "source": [
    "### ETFs\n",
    "- https://www.moneydj.com/etf/x/Basic/Basic0007.xdjhtm?etfid=SPY"
   ]
  },
  {
   "cell_type": "code",
   "execution_count": 7,
   "metadata": {},
   "outputs": [],
   "source": [
    "import json"
   ]
  },
  {
   "cell_type": "code",
   "execution_count": 28,
   "metadata": {
    "collapsed": true
   },
   "outputs": [
    {
     "name": "stdout",
     "output_type": "stream",
     "text": [
      "['2ndVote Funds', 'AAM', 'abrdn', 'Absolute Investment Advisers', 'Acquirers Funds', 'ACV ETFs', 'Adaptive Investments', 'Adasina', 'AdvisorShares', 'AGFiQ', 'Alexis Practical Tactical', 'Alger', 'AllianzIM', 'Alpha Architect', 'AlphaClone', 'AlphaMark Advisors', 'ALPS Advisors', 'Alternative Access Funds', 'AltShares', 'American Century Investments', 'Amplifyetfs', 'Apollo Funds', 'Applied Finance Funds', 'Aptus Capital Advisors', 'ARK ETF Trust', 'Arrow Investment Advisors', 'ArrowShares', 'ASA Gold and Precious Metals', 'ASYMshare', 'Avantis Investors', 'Ballast Asset Management', 'Barclays Bank', 'Beyond Investing', 'Blue Horizon Capital', 'BMO Capital Markets', 'BNY Mellon', 'Cabana', 'Cabot ETF Partners', 'Cambria Funds', 'Capital Link', 'Change Finance', 'Changebridge', 'Charles Schwab', 'ClearShares', 'Columbia Threadneedle Investments', 'Core Alternative Capital', 'Cornercap', 'Counterpoint Mutual Funds', 'Credit Suisse', 'CrossingBridge', 'Davis ETFs', 'Day Hagan', 'db X-trackers（Germany）', 'Defiance ETFs', 'DeltaShares', 'Democracy Investments', 'DESPACetfs', 'Dimensional ETF Trust', 'Direxion Shares', 'Disciplinefunds', 'Distillate Capital Partners', 'DWS', 'Eaton Vance', 'ELEMENTS Funds', 'Emles', 'ENGINE NO. 1 LLC', 'EntrepreneurShares', 'Equbot', 'Esoterica Capital', 'ETFMG', 'ETRACS ETNs （UBS）', 'EVOKE ARIS', 'Exchange Traded Concepts', 'Faith Investor Services', 'Fidelity Investment', 'First Trust Portfolios', 'Flexshares Trust', 'Foothill Capital Management', 'Formidable Funds', 'FormulaFolioFunds', 'Franklin Templeton Investments', 'Gabelli', 'Gadsden ETFs', 'GaveKal Capital', 'Global Beta', 'Global X Funds', 'Goldman Sachs', 'Gotham', 'GraniteShares', 'Guggenheim Investments', 'Harbor', 'Hartford Funds', 'Highland Capital Management', 'Horizon Kinetics', 'Horizons（未來資產香港）', 'Howard Capital Management', 'Hoya Capital Real Estate', 'Hull Tactical Funds', 'Humankind', 'iClima', 'iM Global Partner (US)', 'Impact Shares', 'IndexIQ Funds', 'Infusive', 'Innovation Shares', 'Innovator Management', 'Inspire Investing', 'Invesco PowerShares', 'iPath ETNs（Barclays）', 'iShares Europe（BlackRock）', 'iShares（BlackRock）', 'iShares安碩（貝萊德香港）', 'Jacob', 'Janus Henderson', 'John Hancock', 'JPMorgan Chase', 'Knowledge Leaders Capital', 'KraneShares', 'LeaderShares', 'Leatherback', 'Leuthold', 'lifegoalinvestments', 'Little Harbor Advisors', 'Loncar Funds', 'Lyrical Asset Management', 'Lyxor ETF', 'Main Management ETFs', 'Main Manangement', 'Mairs & Power', 'Merk Funds', 'Metaurus', 'Monarch Funds', 'Morgan Creek', 'Morgan Stanley', 'Motley Fool', 'Nationwide', 'Natixis Funds', 'New Age Alpha', 'Nomura Asset Management', 'Nuveen', 'O’Shares Investments', 'Overlay Shares', 'Pacer ETFs', 'PGIM Investments', 'PIMCO Investments', 'Point Bridge Capital', 'Premia Partners', 'Premise Capital', 'Principal Funds', 'ProcureAM', 'ProShares', 'Putnam', 'Qraft Technologies', 'Quadratic Capital', 'Rareview Capital', 'Rayliant', 'RBB Funds', 'Reflection Asset Management', 'Regents Park Funds', 'Renaissance Capital', 'Robinson Capital', 'Robo Global', 'Roundhill Investments', 'Saba Capital', 'SAMSUNG ASSET MANAGEMENT (HONG KONG) LIMITED', 'Simplify Asset Management', 'SmartETFs', 'Sofi', 'Sound ETF', 'SP Funds', 'Sparkline Capital', 'SPDR（State Street Global Advisors）', 'Spear', 'Spinnaker Trust', 'Sprott Asset Management', 'SRN Advisors', 'Stance', 'Sterling Capital Funds', 'Strategy Shares', 'Swan', 'Syntax', 'T. Rowe Price', 'Teucrium Trading', 'The Future Fund', 'The Korea Fund', 'Timothy Plan', 'TIS Advisors', 'Toews Corp', 'Toroso Investments', 'Trajan Wealth', 'TrimTabs Asset Management', 'TrueMark Investments', 'Tuttle Capital Management', 'U.S. Global Investors', 'Uncommon Investments', 'Upholdings', 'USCF Investments', 'Van Eck', 'Vanguard', 'VectorShares', 'Victory Capital', 'Vident Financial', 'Viridi Funds', 'Virtus Investment', 'Volshares', 'Wahed Invest', 'WBI Shares', 'WisdomTree Funds', 'wShares', 'Xtrackers（德意志香港）', 'Zacks Funds', 'ZEGA', '力寶投資', '大成基金', '山證國際資產管理有限公司', '工銀瑞信基金', '中金公司', '中國平安（香港）', '中國信託投信', '中銀基金', '元大投信', '元大證券', '元富證券', '日興資產管理香港有限公司', '台新投信', '永豐投信', '永豐金證券', '交銀施羅德', '兆豐國際投信', '兆豐證券', '沛富基金', '招商基金', '易方達（香港）', '易方達基金', '東方匯理資產管理', '南方東英', '南方基金', '建信基金', '恒生投資管理', '海通資產管理（香港）', '海富通基金', '國泰投信', '國泰基金', '國聯安基金', '第一金投信', '統一投信', '統一證券', '凱基投信', '凱基證券', '博時基金', '博時基金（香港）', '富邦投信', '富邦基金（香港）', '富邦證券', '富國基金', '復華投信', '惠理基金', '華安基金', '華南永昌綜合證券', '華夏基金', '華夏基金（香港）', '華泰柏瑞基金', '華寶興業基金', '街口投信', '匯添富基金', '匯豐環球投資管理（香港）', '新光投信', '群益投信', '群益證券', '道富環球投資管理（香港）', '嘉實基金', '嘉實基金（香港）', '廣發基金', '標智（中銀國際英國保誠）']\n"
     ]
    }
   ],
   "source": [
    "# catch all etf company names\n",
    "opt = webdriver.ChromeOptions()\n",
    "opt.add_argument('--user-agent=%s' % user_agent)\n",
    "driver = webdriver.Chrome(executable_path=chrome_path, options=opt)\n",
    "driver.set_window_size(1024, 850)\n",
    "\n",
    "driver.get(url)\n",
    "sleep(0.5)\n",
    "\n",
    "etf_list = [item.text for item in driver.find_elements_by_xpath('//select[@id=\"Menu1\"]//option')]\n",
    "print(etf_list)\n",
    "\n",
    "driver.quit()\n",
    "\n"
   ]
  },
  {
   "cell_type": "code",
   "execution_count": 17,
   "metadata": {},
   "outputs": [],
   "source": [
    "etf_list_asia = etf_list[212:]\n"
   ]
  },
  {
   "cell_type": "code",
   "execution_count": 59,
   "metadata": {},
   "outputs": [
    {
     "name": "stderr",
     "output_type": "stream",
     "text": [
      "100%|███████████████████████████████████████████████████████████████████████████████████████████████████████████████████████████████████████████████████████████████████████████████████████████████████████| 62/62 [04:49<00:00,  4.67s/it]\n"
     ]
    }
   ],
   "source": [
    "# catch all etf of each companies\n",
    "driver = webdriver.Chrome(executable_path=chrome_path, options=opt)\n",
    "driver.set_window_size(1024, 850)\n",
    "\n",
    "etf_options = dict()\n",
    "driver.get(url)\n",
    "for etf in tqdm(etf_list_asia):\n",
    "    \n",
    "#     idx = etf_list.index(etf)\n",
    "#     print(idx)\n",
    "\n",
    "    # get current company's etf list\n",
    "    option_list = [item.text for item in driver.find_elements_by_xpath('//select[@id=\"Menu2\"]//option')]\n",
    "    etf_options.update({etf: option_list})\n",
    "    \n",
    "    # go to another company\n",
    "    WebDriverWait(driver, 3).until(\n",
    "        EC.presence_of_element_located((By.XPATH, \n",
    "                                        '//span[@id=\"DivMenu1\"]'))\n",
    "    ).click()\n",
    "    action = ActionChains(driver)\n",
    "    action.send_keys(Keys.ARROW_DOWN).send_keys(Keys.ENTER).perform()\n",
    "    \n",
    "    sleep(np.random.randint(1, 5))\n",
    "\n",
    "\n",
    "driver.quit()\n",
    "\n",
    "\n"
   ]
  },
  {
   "cell_type": "code",
   "execution_count": 76,
   "metadata": {
    "scrolled": true
   },
   "outputs": [
    {
     "name": "stderr",
     "output_type": "stream",
     "text": [
      " 10%|███████████████████▎                                                                                                                                                                                    | 6/62 [01:53<21:44, 23.30s/it]"
     ]
    },
    {
     "name": "stdout",
     "output_type": "stream",
     "text": [
      "https://www.moneydj.com/ETF/X/Basic/Basic0007.xdjhtm?etfid=00753L.TW\n"
     ]
    },
    {
     "name": "stderr",
     "output_type": "stream",
     "text": [
      "\r",
      " 11%|██████████████████████▌                                                                                                                                                                                 | 7/62 [03:22<39:25, 43.02s/it]"
     ]
    },
    {
     "name": "stdout",
     "output_type": "stream",
     "text": [
      "https://www.moneydj.com/ETF/X/Basic/Basic0007.xdjhtm?etfid=00638R.TW\n",
      "https://www.moneydj.com/ETF/X/Basic/Basic0007.xdjhtm?etfid=00648R.TW\n",
      "https://www.moneydj.com/ETF/X/Basic/Basic0007.xdjhtm?etfid=00647L.TW\n",
      "https://www.moneydj.com/ETF/X/Basic/Basic0007.xdjhtm?etfid=00632R.TW\n",
      "https://www.moneydj.com/ETF/X/Basic/Basic0007.xdjhtm?etfid=00631L.TW\n",
      "https://www.moneydj.com/ETF/X/Basic/Basic0007.xdjhtm?etfid=00681R.TW\n",
      "https://www.moneydj.com/ETF/X/Basic/Basic0007.xdjhtm?etfid=00680L.TW\n",
      "https://www.moneydj.com/ETF/X/Basic/Basic0007.xdjhtm?etfid=00738U.TW\n",
      "https://www.moneydj.com/ETF/X/Basic/Basic0007.xdjhtm?etfid=00673R.TW\n",
      "https://www.moneydj.com/ETF/X/Basic/Basic0007.xdjhtm?etfid=00642U.TW\n",
      "https://www.moneydj.com/ETF/X/Basic/Basic0007.xdjhtm?etfid=00674R.TW\n",
      "https://www.moneydj.com/ETF/X/Basic/Basic0007.xdjhtm?etfid=00708L.TW\n",
      "https://www.moneydj.com/ETF/X/Basic/Basic0007.xdjhtm?etfid=00635U.TW\n",
      "https://www.moneydj.com/ETF/X/Basic/Basic0007.xdjhtm?etfid=00707R.TW\n",
      "https://www.moneydj.com/ETF/X/Basic/Basic0007.xdjhtm?etfid=00706L.TW\n",
      "https://www.moneydj.com/ETF/X/Basic/Basic0007.xdjhtm?etfid=00684R.TW\n",
      "https://www.moneydj.com/ETF/X/Basic/Basic0007.xdjhtm?etfid=00683L.TW\n",
      "https://www.moneydj.com/ETF/X/Basic/Basic0007.xdjhtm?etfid=00682U.TW\n"
     ]
    },
    {
     "name": "stderr",
     "output_type": "stream",
     "text": [
      "\r",
      " 13%|█████████████████████████▍                                                                                                                                                                           | 8/62 [07:42<1:37:31, 108.37s/it]"
     ]
    },
    {
     "name": "stdout",
     "output_type": "stream",
     "text": [
      "https://www.moneydj.com/ETF/X/Basic/Basic0007.xdjhtm?etfid=020022.TW\n",
      "https://www.moneydj.com/ETF/X/Basic/Basic0007.xdjhtm?etfid=020028.TW\n",
      "https://www.moneydj.com/ETF/X/Basic/Basic0007.xdjhtm?etfid=020029.TW\n",
      "https://www.moneydj.com/ETF/X/Basic/Basic0007.xdjhtm?etfid=020008.TW\n",
      "https://www.moneydj.com/ETF/X/Basic/Basic0007.xdjhtm?etfid=020020.TW\n",
      "https://www.moneydj.com/ETF/X/Basic/Basic0007.xdjhtm?etfid=020014.TW\n",
      "https://www.moneydj.com/ETF/X/Basic/Basic0007.xdjhtm?etfid=020027.TW\n",
      "https://www.moneydj.com/ETF/X/Basic/Basic0007.xdjhtm?etfid=020023.TW\n"
     ]
    },
    {
     "name": "stderr",
     "output_type": "stream",
     "text": [
      "\r",
      " 15%|████████████████████████████▋                                                                                                                                                                         | 9/62 [08:43<1:23:05, 94.06s/it]"
     ]
    },
    {
     "name": "stdout",
     "output_type": "stream",
     "text": [
      "https://www.moneydj.com/ETF/X/Basic/Basic0007.xdjhtm?etfid=020013.TW\n",
      "https://www.moneydj.com/ETF/X/Basic/Basic0007.xdjhtm?etfid=020002.TW\n"
     ]
    },
    {
     "name": "stderr",
     "output_type": "stream",
     "text": [
      " 19%|██████████████████████████████████████▌                                                                                                                                                                | 12/62 [09:39<37:30, 45.01s/it]"
     ]
    },
    {
     "name": "stdout",
     "output_type": "stream",
     "text": [
      "https://www.moneydj.com/ETF/X/Basic/Basic0007.xdjhtm?etfid=00901.TW\n"
     ]
    },
    {
     "name": "stderr",
     "output_type": "stream",
     "text": [
      "\r",
      " 21%|█████████████████████████████████████████▋                                                                                                                                                             | 13/62 [10:23<36:30, 44.71s/it]"
     ]
    },
    {
     "name": "stdout",
     "output_type": "stream",
     "text": [
      "https://www.moneydj.com/ETF/X/Basic/Basic0007.xdjhtm?etfid=02003L.TW\n"
     ]
    },
    {
     "name": "stderr",
     "output_type": "stream",
     "text": [
      " 26%|███████████████████████████████████████████████████▎                                                                                                                                                   | 16/62 [10:45<15:17, 19.94s/it]"
     ]
    },
    {
     "name": "stdout",
     "output_type": "stream",
     "text": [
      "https://www.moneydj.com/ETF/X/Basic/Basic0007.xdjhtm?etfid=020004.TW\n",
      "https://www.moneydj.com/ETF/X/Basic/Basic0007.xdjhtm?etfid=020026.TW\n",
      "https://www.moneydj.com/ETF/X/Basic/Basic0007.xdjhtm?etfid=020024.TW\n",
      "https://www.moneydj.com/ETF/X/Basic/Basic0007.xdjhtm?etfid=02002L.TW\n"
     ]
    },
    {
     "name": "stderr",
     "output_type": "stream",
     "text": [
      " 40%|████████████████████████████████████████████████████████████████████████████████▏                                                                                                                      | 25/62 [16:31<27:56, 45.31s/it]"
     ]
    },
    {
     "name": "stdout",
     "output_type": "stream",
     "text": [
      "https://www.moneydj.com/ETF/X/Basic/Basic0007.xdjhtm?etfid=83168.HK\n"
     ]
    },
    {
     "name": "stderr",
     "output_type": "stream",
     "text": [
      " 45%|█████████████████████████████████████████████████████████████████████████████████████████▊                                                                                                             | 28/62 [18:04<18:13, 32.16s/it]"
     ]
    },
    {
     "name": "stdout",
     "output_type": "stream",
     "text": [
      "https://www.moneydj.com/ETF/X/Basic/Basic0007.xdjhtm?etfid=00689R.TW\n",
      "https://www.moneydj.com/ETF/X/Basic/Basic0007.xdjhtm?etfid=00688L.TW\n",
      "https://www.moneydj.com/ETF/X/Basic/Basic0007.xdjhtm?etfid=00852L.TW\n",
      "https://www.moneydj.com/ETF/X/Basic/Basic0007.xdjhtm?etfid=00656R.TW\n",
      "https://www.moneydj.com/ETF/X/Basic/Basic0007.xdjhtm?etfid=00898.TW\n",
      "https://www.moneydj.com/ETF/X/Basic/Basic0007.xdjhtm?etfid=00664R.TW\n",
      "https://www.moneydj.com/ETF/X/Basic/Basic0007.xdjhtm?etfid=00663L.TW\n"
     ]
    },
    {
     "name": "stderr",
     "output_type": "stream",
     "text": [
      " 53%|█████████████████████████████████████████████████████████████████████████████████████████████████████████▉                                                                                             | 33/62 [21:26<11:20, 23.47s/it]"
     ]
    },
    {
     "name": "stdout",
     "output_type": "stream",
     "text": [
      "https://www.moneydj.com/ETF/X/Basic/Basic0007.xdjhtm?etfid=020021.TW\n",
      "https://www.moneydj.com/ETF/X/Basic/Basic0007.xdjhtm?etfid=020025.TW\n",
      "https://www.moneydj.com/ETF/X/Basic/Basic0007.xdjhtm?etfid=020016.TW\n",
      "https://www.moneydj.com/ETF/X/Basic/Basic0007.xdjhtm?etfid=020015.TW\n",
      "https://www.moneydj.com/ETF/X/Basic/Basic0007.xdjhtm?etfid=020018.TW\n",
      "https://www.moneydj.com/ETF/X/Basic/Basic0007.xdjhtm?etfid=020011.TW\n",
      "https://www.moneydj.com/ETF/X/Basic/Basic0007.xdjhtm?etfid=020019.TW\n",
      "https://www.moneydj.com/ETF/X/Basic/Basic0007.xdjhtm?etfid=020030.TW\n",
      "https://www.moneydj.com/ETF/X/Basic/Basic0007.xdjhtm?etfid=02001B.TW\n",
      "https://www.moneydj.com/ETF/X/Basic/Basic0007.xdjhtm?etfid=020003.TW\n"
     ]
    },
    {
     "name": "stderr",
     "output_type": "stream",
     "text": [
      "\r",
      " 55%|█████████████████████████████████████████████████████████████████████████████████████████████████████████████▏                                                                                         | 34/62 [22:33<17:01, 36.47s/it]"
     ]
    },
    {
     "name": "stdout",
     "output_type": "stream",
     "text": [
      "https://www.moneydj.com/ETF/X/Basic/Basic0007.xdjhtm?etfid=008201.TW\n"
     ]
    },
    {
     "name": "stderr",
     "output_type": "stream",
     "text": [
      "\r",
      " 56%|████████████████████████████████████████████████████████████████████████████████████████████████████████████████▎                                                                                      | 35/62 [23:17<17:23, 38.63s/it]"
     ]
    },
    {
     "name": "stdout",
     "output_type": "stream",
     "text": [
      "https://www.moneydj.com/ETF/X/Basic/Basic0007.xdjhtm?etfid=020007.TW\n"
     ]
    },
    {
     "name": "stderr",
     "output_type": "stream",
     "text": [
      " 61%|█████████████████████████████████████████████████████████████████████████████████████████████████████████████████████████▉                                                                             | 38/62 [23:51<08:25, 21.05s/it]"
     ]
    },
    {
     "name": "stdout",
     "output_type": "stream",
     "text": [
      "https://www.moneydj.com/ETF/X/Basic/Basic0007.xdjhtm?etfid=00666R.TW\n",
      "https://www.moneydj.com/ETF/X/Basic/Basic0007.xdjhtm?etfid=00665L.TW\n",
      "https://www.moneydj.com/ETF/X/Basic/Basic0007.xdjhtm?etfid=00653L.TW\n",
      "https://www.moneydj.com/ETF/X/Basic/Basic0007.xdjhtm?etfid=00654R.TW\n",
      "https://www.moneydj.com/ETF/X/Basic/Basic0007.xdjhtm?etfid=00671R.TW\n",
      "https://www.moneydj.com/ETF/X/Basic/Basic0007.xdjhtm?etfid=00670L.TW\n",
      "https://www.moneydj.com/ETF/X/Basic/Basic0007.xdjhtm?etfid=00634R.TW\n",
      "https://www.moneydj.com/ETF/X/Basic/Basic0007.xdjhtm?etfid=00641R.TW\n"
     ]
    },
    {
     "name": "stderr",
     "output_type": "stream",
     "text": [
      "\r",
      " 63%|█████████████████████████████████████████████████████████████████████████████████████████████████████████████████████████████▏                                                                         | 39/62 [27:12<28:46, 75.05s/it]"
     ]
    },
    {
     "name": "stdout",
     "output_type": "stream",
     "text": [
      "https://www.moneydj.com/ETF/X/Basic/Basic0007.xdjhtm?etfid=7332.HK\n",
      "https://www.moneydj.com/ETF/X/Basic/Basic0007.xdjhtm?etfid=7232.HK\n"
     ]
    },
    {
     "name": "stderr",
     "output_type": "stream",
     "text": [
      "\r",
      " 65%|████████████████████████████████████████████████████████████████████████████████████████████████████████████████████████████████▍                                                                      | 40/62 [27:30<21:13, 57.87s/it]"
     ]
    },
    {
     "name": "stdout",
     "output_type": "stream",
     "text": [
      "https://www.moneydj.com/ETF/X/Basic/Basic0007.xdjhtm?etfid=020001.TW\n",
      "https://www.moneydj.com/ETF/X/Basic/Basic0007.xdjhtm?etfid=02001R.TW\n",
      "https://www.moneydj.com/ETF/X/Basic/Basic0007.xdjhtm?etfid=02001L.TW\n",
      "https://www.moneydj.com/ETF/X/Basic/Basic0007.xdjhtm?etfid=020000.TW\n",
      "https://www.moneydj.com/ETF/X/Basic/Basic0007.xdjhtm?etfid=020012.TW\n"
     ]
    },
    {
     "name": "stderr",
     "output_type": "stream",
     "text": [
      " 68%|██████████████████████████████████████████████████████████████████████████████████████████████████████████████████████████████████████▊                                                                | 42/62 [28:09<12:16, 36.82s/it]"
     ]
    },
    {
     "name": "stdout",
     "output_type": "stream",
     "text": [
      "https://www.moneydj.com/ETF/X/Basic/Basic0007.xdjhtm?etfid=00651R.TW\n",
      "https://www.moneydj.com/ETF/X/Basic/Basic0007.xdjhtm?etfid=00650L.TW\n"
     ]
    },
    {
     "name": "stderr",
     "output_type": "stream",
     "text": [
      "\r",
      " 69%|██████████████████████████████████████████████████████████████████████████████████████████████████████████████████████████████████████████                                                             | 43/62 [29:21<15:02, 47.49s/it]"
     ]
    },
    {
     "name": "stdout",
     "output_type": "stream",
     "text": [
      "https://www.moneydj.com/ETF/X/Basic/Basic0007.xdjhtm?etfid=3081.HK\n",
      "https://www.moneydj.com/ETF/X/Basic/Basic0007.xdjhtm?etfid=83081.HK\n",
      "https://www.moneydj.com/ETF/X/Basic/Basic0007.xdjhtm?etfid=9081.HK\n"
     ]
    },
    {
     "name": "stderr",
     "output_type": "stream",
     "text": [
      " 73%|████████████████████████████████████████████████████████████████████████████████████████████████████████████████████████████████████████████████▍                                                      | 45/62 [29:52<08:34, 30.25s/it]"
     ]
    },
    {
     "name": "stdout",
     "output_type": "stream",
     "text": [
      "https://www.moneydj.com/ETF/X/Basic/Basic0007.xdjhtm?etfid=020006.TW\n",
      "https://www.moneydj.com/ETF/X/Basic/Basic0007.xdjhtm?etfid=020010.TW\n"
     ]
    },
    {
     "name": "stderr",
     "output_type": "stream",
     "text": [
      " 81%|████████████████████████████████████████████████████████████████████████████████████████████████████████████████████████████████████████████████████████████████▍                                      | 50/62 [32:31<05:37, 28.16s/it]"
     ]
    },
    {
     "name": "stdout",
     "output_type": "stream",
     "text": [
      "https://www.moneydj.com/ETF/X/Basic/Basic0007.xdjhtm?etfid=00763U.TW\n",
      "https://www.moneydj.com/ETF/X/Basic/Basic0007.xdjhtm?etfid=00715L.TW\n",
      "https://www.moneydj.com/ETF/X/Basic/Basic0007.xdjhtm?etfid=00693U.TW\n"
     ]
    },
    {
     "name": "stderr",
     "output_type": "stream",
     "text": [
      " 87%|█████████████████████████████████████████████████████████████████████████████████████████████████████████████████████████████████████████████████████████████████████████████▎                         | 54/62 [33:25<02:22, 17.85s/it]"
     ]
    },
    {
     "name": "stdout",
     "output_type": "stream",
     "text": [
      "https://www.moneydj.com/ETF/X/Basic/Basic0007.xdjhtm?etfid=00686R.TW\n",
      "https://www.moneydj.com/ETF/X/Basic/Basic0007.xdjhtm?etfid=00685L.TW\n"
     ]
    },
    {
     "name": "stderr",
     "output_type": "stream",
     "text": [
      "\r",
      " 89%|████████████████████████████████████████████████████████████████████████████████████████████████████████████████████████████████████████████████████████████████████████████████▌                      | 55/62 [34:38<04:00, 34.36s/it]"
     ]
    },
    {
     "name": "stdout",
     "output_type": "stream",
     "text": [
      "https://www.moneydj.com/ETF/X/Basic/Basic0007.xdjhtm?etfid=020009.TW\n"
     ]
    },
    {
     "name": "stderr",
     "output_type": "stream",
     "text": [
      "\r",
      " 90%|███████████████████████████████████████████████████████████████████████████████████████████████████████████████████████████████████████████████████████████████████████████████████▋                   | 56/62 [34:46<02:38, 26.43s/it]"
     ]
    },
    {
     "name": "stdout",
     "output_type": "stream",
     "text": [
      "https://www.moneydj.com/ETF/X/Basic/Basic0007.xdjhtm?etfid=2840.HK\n"
     ]
    },
    {
     "name": "stderr",
     "output_type": "stream",
     "text": [
      "100%|███████████████████████████████████████████████████████████████████████████████████████████████████████████████████████████████████████████████████████████████████████████████████████████████████████| 62/62 [36:34<00:00, 35.39s/it]\n"
     ]
    }
   ],
   "source": [
    "# catch all stock (element ratio) of each etf of each companies\n",
    "driver = webdriver.Chrome(executable_path=chrome_path, options=opt)\n",
    "driver.set_window_size(1024, 850)\n",
    "\n",
    "etf_element = dict()\n",
    "for etf in tqdm(etf_options.keys()):\n",
    "    for etfid in etf_options[etf]:\n",
    "        \n",
    "        etfid = etfid.split('〈')[1][:-1]\n",
    "        url = f'https://www.moneydj.com/ETF/X/Basic/Basic0007.xdjhtm?etfid={etfid}'\n",
    "        driver.get(url)\n",
    "        \n",
    "        try:\n",
    "            table = WebDriverWait(driver, 3).until(\n",
    "                EC.presence_of_element_located((By.XPATH, \n",
    "                                                '//table[@id=\"ctl00_ctl00_MainContent_MainContent_stable3\"]')))\n",
    "            table_content = table.text\n",
    "        except:\n",
    "            print(url)\n",
    "            table_content = ' '\n",
    "#         driver.find_element_by_xpath('//table[@id=\"ctl00_ctl00_MainContent_MainContent_stable3\"]').text\n",
    "        etf_element.update({etfid: table_content})\n",
    "        \n",
    "        sleep(np.random.randint(1, 5))\n",
    "\n",
    "driver.quit()\n",
    "        "
   ]
  },
  {
   "cell_type": "code",
   "execution_count": 92,
   "metadata": {},
   "outputs": [],
   "source": [
    "# reformat the table content to list of tuples\n",
    "etf_element_new = dict()\n",
    "for etfid in etf_element.keys():\n",
    "    \n",
    "    if etf_element[etfid] == ' ':\n",
    "        etf_element_new.update({etfid: ' '})\n",
    "    else:\n",
    "        list_table = [line.split(' ') for line in etf_element[etfid].split('\\n')]\n",
    "        etf_element_new.update({etfid: [(row[0], row[1], row[2]) for row in list_table[1:]]})\n",
    "\n"
   ]
  },
  {
   "cell_type": "code",
   "execution_count": 5,
   "metadata": {},
   "outputs": [],
   "source": [
    "# write to json\n",
    "with open('etf_element_ratio.json', 'w', encoding='utf-8') as f:\n",
    "    json.dump(etf_element_new, f, ensure_ascii=False, indent=4)\n",
    "    "
   ]
  },
  {
   "cell_type": "code",
   "execution_count": 98,
   "metadata": {},
   "outputs": [],
   "source": [
    "# load from json\n",
    "with open('etf_element_ratio.json', 'r', encoding='utf-8') as f:\n",
    "    etf_element_test = json.load(f)\n",
    "    "
   ]
  },
  {
   "cell_type": "code",
   "execution_count": 112,
   "metadata": {},
   "outputs": [],
   "source": [
    "# A mapping dict between ETF id & name\n",
    "etf_id_name_mapping = dict()\n",
    "\n",
    "for comp in etf_options.keys():\n",
    "    for etf in etf_options[comp]:\n",
    "        etf_id = etf.split('〈')[-1][:-1]\n",
    "        etf_name = etf.split('〈')[0]\n",
    "        etf_id_name_mapping.update({etf_id: etf_name})\n",
    "        \n",
    "# etf_id_name_mapping\n"
   ]
  },
  {
   "cell_type": "markdown",
   "metadata": {},
   "source": [
    "### 基金\n",
    "- https://www.moneydj.com/funddj/yb/YP301000.djhtm"
   ]
  },
  {
   "cell_type": "code",
   "execution_count": 9,
   "metadata": {},
   "outputs": [],
   "source": [
    "import re\n",
    "import pandas as pd\n"
   ]
  },
  {
   "cell_type": "code",
   "execution_count": 104,
   "metadata": {},
   "outputs": [],
   "source": [
    "url = 'https://www.moneydj.com/funddj/yb/YP301000.djhtm'\n",
    "account = 'abaoyang'\n",
    "password = 'YGyang615thebest'\n"
   ]
  },
  {
   "cell_type": "code",
   "execution_count": 126,
   "metadata": {
    "collapsed": true
   },
   "outputs": [
    {
     "name": "stderr",
     "output_type": "stream",
     "text": [
      "\r",
      "  0%|                                                                                                                                                                                                                | 0/32 [00:00<?, ?it/s]"
     ]
    },
    {
     "name": "stdout",
     "output_type": "stream",
     "text": [
      "[('指數型', 'https://www.moneydj.com/funddj/yb/YP302000.djhtm?a=ET000001'), ('科技類', 'https://www.moneydj.com/funddj/yb/YP302000.djhtm?a=ET001001'), ('中小型', 'https://www.moneydj.com/funddj/yb/YP302000.djhtm?a=ET001004'), ('一般股票型', 'https://www.moneydj.com/funddj/yb/YP302000.djhtm?a=ET001005'), ('中概股型', 'https://www.moneydj.com/funddj/yb/YP302000.djhtm?a=ET001006')]\n",
      "[('元大富櫃50基金', 'https://www.moneydj.com/funddj/ya/yp010000.djhtm?a=ACKY39'), ('元大投信', 'https://www.moneydj.com/funddj/ya/yp020000.djhtm?a=BFZYTA'), ('元大台灣金融基金', 'https://www.moneydj.com/funddj/ya/yp010000.djhtm?a=AC0055'), ('元大投信', 'https://www.moneydj.com/funddj/ya/yp020000.djhtm?a=BFZYTA'), ('元大台灣中型100基金', 'https://www.moneydj.com/funddj/ya/yp010000.djhtm?a=AC0051'), ('元大投信', 'https://www.moneydj.com/funddj/ya/yp020000.djhtm?a=BFZYTA')]\n",
      "[('元大富櫃50基金', 'https://www.moneydj.com/funddj/ya/yp010000.djhtm?a=ACKY39'), ('元大台灣金融基金', 'https://www.moneydj.com/funddj/ya/yp010000.djhtm?a=AC0055'), ('元大台灣中型100基金', 'https://www.moneydj.com/funddj/ya/yp010000.djhtm?a=AC0051')]\n",
      "['元大投信', '元大投信', '元大投信']\n"
     ]
    },
    {
     "name": "stderr",
     "output_type": "stream",
     "text": [
      "\r",
      "  3%|██████▎                                                                                                                                                                                                 | 1/32 [00:06<03:11,  6.16s/it]"
     ]
    },
    {
     "name": "stdout",
     "output_type": "stream",
     "text": [
      "[('安聯台灣科技基金', 'https://www.moneydj.com/funddj/ya/yp010000.djhtm?a=ACDD04'), ('安聯投信', 'https://www.moneydj.com/funddj/ya/yp020000.djhtm?a=BFZ002'), ('新光創新科技基金', 'https://www.moneydj.com/funddj/ya/yp010000.djhtm?a=ACTS09'), ('新光投信', 'https://www.moneydj.com/funddj/ya/yp020000.djhtm?a=BFZTSA'), ('兆豐國際電子基金', 'https://www.moneydj.com/funddj/ya/yp010000.djhtm?a=ACII11'), ('兆豐投信', 'https://www.moneydj.com/funddj/ya/yp020000.djhtm?a=BFZIIA')]\n",
      "[('安聯台灣科技基金', 'https://www.moneydj.com/funddj/ya/yp010000.djhtm?a=ACDD04'), ('新光創新科技基金', 'https://www.moneydj.com/funddj/ya/yp010000.djhtm?a=ACTS09'), ('兆豐國際電子基金', 'https://www.moneydj.com/funddj/ya/yp010000.djhtm?a=ACII11')]\n",
      "['安聯投信', '新光投信', '兆豐投信']\n"
     ]
    },
    {
     "name": "stderr",
     "output_type": "stream",
     "text": [
      "\r",
      "  6%|████████████▌                                                                                                                                                                                           | 2/32 [00:13<03:18,  6.62s/it]"
     ]
    },
    {
     "name": "stdout",
     "output_type": "stream",
     "text": [
      "[('野村中小基金-累積S類型(台幣)', 'https://www.moneydj.com/funddj/ya/yp010000.djhtm?a=ACKH174'), ('野村投信', 'https://www.moneydj.com/funddj/ya/yp020000.djhtm?a=BFZICA'), ('復華中小精選基金', 'https://www.moneydj.com/funddj/ya/yp010000.djhtm?a=ACFH08'), ('復華投信', 'https://www.moneydj.com/funddj/ya/yp020000.djhtm?a=BFZFHA'), ('群益中小型股基金', 'https://www.moneydj.com/funddj/ya/yp010000.djhtm?a=AC0023'), ('群益投信', 'https://www.moneydj.com/funddj/ya/yp020000.djhtm?a=BFZCAA')]\n",
      "[('野村中小基金-累積S類型(台幣)', 'https://www.moneydj.com/funddj/ya/yp010000.djhtm?a=ACKH174'), ('復華中小精選基金', 'https://www.moneydj.com/funddj/ya/yp010000.djhtm?a=ACFH08'), ('群益中小型股基金', 'https://www.moneydj.com/funddj/ya/yp010000.djhtm?a=AC0023')]\n",
      "['野村投信', '復華投信', '群益投信']\n"
     ]
    },
    {
     "name": "stderr",
     "output_type": "stream",
     "text": [
      "\r",
      "  9%|██████████████████▊                                                                                                                                                                                     | 3/32 [00:18<02:51,  5.92s/it]"
     ]
    },
    {
     "name": "stdout",
     "output_type": "stream",
     "text": [
      "[('安聯台灣大壩基金-G累積型(台幣)', 'https://www.moneydj.com/funddj/ya/yp010000.djhtm?a=ACDD102'), ('安聯投信', 'https://www.moneydj.com/funddj/ya/yp020000.djhtm?a=BFZ002'), ('群益奧斯卡基金', 'https://www.moneydj.com/funddj/ya/yp010000.djhtm?a=ACCA17'), ('群益投信', 'https://www.moneydj.com/funddj/ya/yp020000.djhtm?a=BFZCAA'), ('安聯台灣大壩基金-A累積型(台幣)', 'https://www.moneydj.com/funddj/ya/yp010000.djhtm?a=ACDD01'), ('安聯投信', 'https://www.moneydj.com/funddj/ya/yp020000.djhtm?a=BFZ002')]\n",
      "[('安聯台灣大壩基金-G累積型(台幣)', 'https://www.moneydj.com/funddj/ya/yp010000.djhtm?a=ACDD102'), ('群益奧斯卡基金', 'https://www.moneydj.com/funddj/ya/yp010000.djhtm?a=ACCA17'), ('安聯台灣大壩基金-A累積型(台幣)', 'https://www.moneydj.com/funddj/ya/yp010000.djhtm?a=ACDD01')]\n",
      "['安聯投信', '群益投信', '安聯投信']\n"
     ]
    },
    {
     "name": "stderr",
     "output_type": "stream",
     "text": [
      "\r",
      " 12%|█████████████████████████                                                                                                                                                                               | 4/32 [00:27<03:14,  6.95s/it]"
     ]
    },
    {
     "name": "stdout",
     "output_type": "stream",
     "text": [
      "[('國泰大中華基金', 'https://www.moneydj.com/funddj/ya/yp010000.djhtm?a=ACCY06'), ('國泰投信', 'https://www.moneydj.com/funddj/ya/yp020000.djhtm?a=BFZCYA'), ('聯邦中國龍基金', 'https://www.moneydj.com/funddj/ya/yp010000.djhtm?a=ACUI05'), ('聯邦投信', 'https://www.moneydj.com/funddj/ya/yp020000.djhtm?a=BFZUIA'), ('台新中國通基金', 'https://www.moneydj.com/funddj/ya/yp010000.djhtm?a=ACTC10'), ('台新投信', 'https://www.moneydj.com/funddj/ya/yp020000.djhtm?a=BFZ010')]\n",
      "[('國泰大中華基金', 'https://www.moneydj.com/funddj/ya/yp010000.djhtm?a=ACCY06'), ('聯邦中國龍基金', 'https://www.moneydj.com/funddj/ya/yp010000.djhtm?a=ACUI05'), ('台新中國通基金', 'https://www.moneydj.com/funddj/ya/yp010000.djhtm?a=ACTC10')]\n",
      "['國泰投信', '聯邦投信', '台新投信']\n"
     ]
    },
    {
     "name": "stderr",
     "output_type": "stream",
     "text": [
      "\r",
      " 16%|███████████████████████████████▎                                                                                                                                                                        | 5/32 [00:33<02:57,  6.58s/it]"
     ]
    },
    {
     "name": "stdout",
     "output_type": "stream",
     "text": [
      "[('富達台灣成長基金', 'https://www.moneydj.com/funddj/ya/yp010000.djhtm?a=ACFD02'), ('富達投信', 'https://www.moneydj.com/funddj/ya/yp020000.djhtm?a=BFZFDA'), ('野村台灣高股息基金', 'https://www.moneydj.com/funddj/ya/yp010000.djhtm?a=ACKH29'), ('野村投信', 'https://www.moneydj.com/funddj/ya/yp020000.djhtm?a=BFZICA')]\n",
      "[('富達台灣成長基金', 'https://www.moneydj.com/funddj/ya/yp010000.djhtm?a=ACFD02'), ('野村台灣高股息基金', 'https://www.moneydj.com/funddj/ya/yp010000.djhtm?a=ACKH29')]\n",
      "['富達投信', '野村投信']\n"
     ]
    },
    {
     "name": "stderr",
     "output_type": "stream",
     "text": [
      "\r",
      " 19%|█████████████████████████████████████▌                                                                                                                                                                  | 6/32 [00:38<02:38,  6.08s/it]"
     ]
    },
    {
     "name": "stdout",
     "output_type": "stream",
     "text": [
      "[('新光店頭基金', 'https://www.moneydj.com/funddj/ya/yp010000.djhtm?a=ACTS10'), ('新光投信', 'https://www.moneydj.com/funddj/ya/yp020000.djhtm?a=BFZTSA'), ('元大店頭基金', 'https://www.moneydj.com/funddj/ya/yp010000.djhtm?a=ACYT07'), ('元大投信', 'https://www.moneydj.com/funddj/ya/yp020000.djhtm?a=BFZYTA'), ('群益店頭市場基金', 'https://www.moneydj.com/funddj/ya/yp010000.djhtm?a=AC0028'), ('群益投信', 'https://www.moneydj.com/funddj/ya/yp020000.djhtm?a=BFZCAA')]\n",
      "[('新光店頭基金', 'https://www.moneydj.com/funddj/ya/yp010000.djhtm?a=ACTS10'), ('元大店頭基金', 'https://www.moneydj.com/funddj/ya/yp010000.djhtm?a=ACYT07'), ('群益店頭市場基金', 'https://www.moneydj.com/funddj/ya/yp010000.djhtm?a=AC0028')]\n",
      "['新光投信', '元大投信', '群益投信']\n"
     ]
    },
    {
     "name": "stderr",
     "output_type": "stream",
     "text": [
      "\r",
      " 22%|███████████████████████████████████████████▊                                                                                                                                                            | 7/32 [00:45<02:40,  6.42s/it]"
     ]
    },
    {
     "name": "stdout",
     "output_type": "stream",
     "text": [
      "[('富蘭克林華美AI新科技基金(南非幣)', 'https://www.moneydj.com/funddj/ya/yp010000.djhtm?a=ACFT121'), ('富蘭克林華美投信', 'https://www.moneydj.com/funddj/ya/yp020000.djhtm?a=BFZ008'), ('富蘭克林華美AI新科技基金-N類型(南非幣)', 'https://www.moneydj.com/funddj/ya/yp010000.djhtm?a=ACFT122'), ('富蘭克林華美投信', 'https://www.moneydj.com/funddj/ya/yp020000.djhtm?a=BFZ008'), ('統一全球新科技基金(人民幣)', 'https://www.moneydj.com/funddj/ya/yp010000.djhtm?a=ACPS40'), ('統一投信', 'https://www.moneydj.com/funddj/ya/yp020000.djhtm?a=BFZPSA')]\n",
      "[('富蘭克林華美AI新科技基金(南非幣)', 'https://www.moneydj.com/funddj/ya/yp010000.djhtm?a=ACFT121'), ('富蘭克林華美AI新科技基金-N類型(南非幣)', 'https://www.moneydj.com/funddj/ya/yp010000.djhtm?a=ACFT122'), ('統一全球新科技基金(人民幣)', 'https://www.moneydj.com/funddj/ya/yp010000.djhtm?a=ACPS40')]\n",
      "['富蘭克林華美投信', '富蘭克林華美投信', '統一投信']\n"
     ]
    },
    {
     "name": "stderr",
     "output_type": "stream",
     "text": [
      "\r",
      " 25%|██████████████████████████████████████████████████                                                                                                                                                      | 8/32 [01:05<04:12, 10.51s/it]"
     ]
    },
    {
     "name": "stdout",
     "output_type": "stream",
     "text": [
      "[('統一新亞洲科技能源基金', 'https://www.moneydj.com/funddj/ya/yp010000.djhtm?a=ACPS26'), ('統一投信', 'https://www.moneydj.com/funddj/ya/yp020000.djhtm?a=BFZPSA'), ('統一大中華中小基金(人民幣)', 'https://www.moneydj.com/funddj/ya/yp010000.djhtm?a=ACPS50'), ('統一投信', 'https://www.moneydj.com/funddj/ya/yp020000.djhtm?a=BFZPSA'), ('統一大中華中小基金(台幣)', 'https://www.moneydj.com/funddj/ya/yp010000.djhtm?a=ACPS25'), ('統一投信', 'https://www.moneydj.com/funddj/ya/yp020000.djhtm?a=BFZPSA')]\n",
      "[('統一新亞洲科技能源基金', 'https://www.moneydj.com/funddj/ya/yp010000.djhtm?a=ACPS26'), ('統一大中華中小基金(人民幣)', 'https://www.moneydj.com/funddj/ya/yp010000.djhtm?a=ACPS50'), ('統一大中華中小基金(台幣)', 'https://www.moneydj.com/funddj/ya/yp010000.djhtm?a=ACPS25')]\n",
      "['統一投信', '統一投信', '統一投信']\n"
     ]
    },
    {
     "name": "stderr",
     "output_type": "stream",
     "text": [
      "\r",
      " 28%|████████████████████████████████████████████████████████▎                                                                                                                                               | 9/32 [01:20<04:33, 11.90s/it]"
     ]
    },
    {
     "name": "stdout",
     "output_type": "stream",
     "text": [
      "[('瀚亞美國高科技基金不配息(台幣)', 'https://www.moneydj.com/funddj/ya/yp010000.djhtm?a=ACCP16'), ('瀚亞投信', 'https://www.moneydj.com/funddj/ya/yp020000.djhtm?a=BFZCPA'), ('瀚亞美國高科技基金不配息(美元)', 'https://www.moneydj.com/funddj/ya/yp010000.djhtm?a=ACCP201'), ('瀚亞投信', 'https://www.moneydj.com/funddj/ya/yp020000.djhtm?a=BFZCPA'), ('統一NYSE FANG+ETF基金', 'https://www.moneydj.com/funddj/ya/yp010000.djhtm?a=ACPS56'), ('統一投信', 'https://www.moneydj.com/funddj/ya/yp020000.djhtm?a=BFZPSA')]\n",
      "[('瀚亞美國高科技基金不配息(台幣)', 'https://www.moneydj.com/funddj/ya/yp010000.djhtm?a=ACCP16'), ('瀚亞美國高科技基金不配息(美元)', 'https://www.moneydj.com/funddj/ya/yp010000.djhtm?a=ACCP201'), ('統一NYSE FANG+ETF基金', 'https://www.moneydj.com/funddj/ya/yp010000.djhtm?a=ACPS56')]\n",
      "['瀚亞投信', '瀚亞投信', '統一投信']\n"
     ]
    },
    {
     "name": "stderr",
     "output_type": "stream",
     "text": [
      "\r",
      " 31%|██████████████████████████████████████████████████████████████▏                                                                                                                                        | 10/32 [01:28<03:54, 10.65s/it]"
     ]
    },
    {
     "name": "stdout",
     "output_type": "stream",
     "text": [
      "[('富邦NASDAQ-100單日正向兩倍基金(本基金採匯率避險)', 'https://www.moneydj.com/funddj/ya/yp010000.djhtm?a=ACFP79'), ('富邦投信', 'https://www.moneydj.com/funddj/ya/yp020000.djhtm?a=BFZFPA'), ('台新SG全球AI機器人精選ETF基金', 'https://www.moneydj.com/funddj/ya/yp010000.djhtm?a=ACTT63'), ('台新投信', 'https://www.moneydj.com/funddj/ya/yp020000.djhtm?a=BFZ010'), ('國泰美國費城半導體基金', 'https://www.moneydj.com/funddj/ya/yp010000.djhtm?a=ACCY118'), ('國泰投信', 'https://www.moneydj.com/funddj/ya/yp020000.djhtm?a=BFZCYA')]\n",
      "[('富邦NASDAQ-100單日正向兩倍基金(本基金採匯率避險)', 'https://www.moneydj.com/funddj/ya/yp010000.djhtm?a=ACFP79'), ('台新SG全球AI機器人精選ETF基金', 'https://www.moneydj.com/funddj/ya/yp010000.djhtm?a=ACTT63'), ('國泰美國費城半導體基金', 'https://www.moneydj.com/funddj/ya/yp010000.djhtm?a=ACCY118')]\n",
      "['富邦投信', '台新投信', '國泰投信']\n"
     ]
    },
    {
     "name": "stderr",
     "output_type": "stream",
     "text": [
      "\r",
      " 34%|████████████████████████████████████████████████████████████████████▍                                                                                                                                  | 11/32 [01:40<03:51, 11.04s/it]"
     ]
    },
    {
     "name": "stdout",
     "output_type": "stream",
     "text": [
      "[('中國信託MSCI中國外資自由投資50不含A及B股單日正向2倍ETF基金', 'https://www.moneydj.com/funddj/ya/yp010000.djhtm?a=ACDS62'), ('中國信託投信', 'https://www.moneydj.com/funddj/ya/yp020000.djhtm?a=BFZDSA')]\n",
      "[('中國信託MSCI中國外資自由投資50不含A及B股單日正向2倍ETF基金', 'https://www.moneydj.com/funddj/ya/yp010000.djhtm?a=ACDS62')]\n",
      "['中國信託投信']\n"
     ]
    },
    {
     "name": "stderr",
     "output_type": "stream",
     "text": [
      "\r",
      " 38%|██████████████████████████████████████████████████████████████████████████▋                                                                                                                            | 12/32 [01:45<03:04,  9.23s/it]"
     ]
    },
    {
     "name": "stdout",
     "output_type": "stream",
     "text": [
      "[('兆豐國際萬全基金', 'https://www.moneydj.com/funddj/ya/yp010000.djhtm?a=ACII03'), ('兆豐投信', 'https://www.moneydj.com/funddj/ya/yp020000.djhtm?a=BFZIIA'), ('聯邦金鑽平衡基金', 'https://www.moneydj.com/funddj/ya/yp010000.djhtm?a=ACUI08'), ('聯邦投信', 'https://www.moneydj.com/funddj/ya/yp020000.djhtm?a=BFZUIA'), ('野村平衡基金', 'https://www.moneydj.com/funddj/ya/yp010000.djhtm?a=ACIC05'), ('野村投信', 'https://www.moneydj.com/funddj/ya/yp020000.djhtm?a=BFZICA')]\n",
      "[('兆豐國際萬全基金', 'https://www.moneydj.com/funddj/ya/yp010000.djhtm?a=ACII03'), ('聯邦金鑽平衡基金', 'https://www.moneydj.com/funddj/ya/yp010000.djhtm?a=ACUI08'), ('野村平衡基金', 'https://www.moneydj.com/funddj/ya/yp010000.djhtm?a=ACIC05')]\n",
      "['兆豐投信', '聯邦投信', '野村投信']\n"
     ]
    },
    {
     "name": "stderr",
     "output_type": "stream",
     "text": [
      "\r",
      " 41%|████████████████████████████████████████████████████████████████████████████████▊                                                                                                                      | 13/32 [01:51<02:37,  8.29s/it]"
     ]
    },
    {
     "name": "stdout",
     "output_type": "stream",
     "text": [
      "[('群益平衡王基金', 'https://www.moneydj.com/funddj/ya/yp010000.djhtm?a=ACCA13'), ('群益投信', 'https://www.moneydj.com/funddj/ya/yp020000.djhtm?a=BFZCAA'), ('PGIM保德信金平衡基金-A累積型', 'https://www.moneydj.com/funddj/ya/yp010000.djhtm?a=ACML14'), ('保德信投信', 'https://www.moneydj.com/funddj/ya/yp020000.djhtm?a=BFZMLA'), ('大華銀多元特別收益平衡基金A累積(台幣)', 'https://www.moneydj.com/funddj/ya/yp010000.djhtm?a=ACOB03'), ('大華銀投信', 'https://www.moneydj.com/funddj/ya/yp020000.djhtm?a=BFZ014')]\n",
      "[('群益平衡王基金', 'https://www.moneydj.com/funddj/ya/yp010000.djhtm?a=ACCA13'), ('PGIM保德信金平衡基金-A累積型', 'https://www.moneydj.com/funddj/ya/yp010000.djhtm?a=ACML14'), ('大華銀多元特別收益平衡基金A累積(台幣)', 'https://www.moneydj.com/funddj/ya/yp010000.djhtm?a=ACOB03')]\n",
      "['群益投信', '保德信投信', '大華銀投信']\n"
     ]
    },
    {
     "name": "stderr",
     "output_type": "stream",
     "text": [
      "\r",
      " 44%|███████████████████████████████████████████████████████████████████████████████████████                                                                                                                | 14/32 [01:55<02:07,  7.06s/it]"
     ]
    },
    {
     "name": "stdout",
     "output_type": "stream",
     "text": [
      "[('復華亞太平衡基金(本基金有相當比重投資於非投資等級之高風險債券)', 'https://www.moneydj.com/funddj/ya/yp010000.djhtm?a=ACFH16'), ('復華投信', 'https://www.moneydj.com/funddj/ya/yp020000.djhtm?a=BFZFHA'), ('國泰亞太入息平衡基金-A不配息(澳幣)(本基金有相當比重投資於非投資等級之高風險債券且基金之配息來源可能為本金)', 'https://www.moneydj.com/funddj/ya/yp010000.djhtm?a=ACCY72'), ('國泰投信', 'https://www.moneydj.com/funddj/ya/yp020000.djhtm?a=BFZCYA'), ('復華全球平衡基金(台幣)(本基金有相當比重投資於非投資等級之高風險債券)', 'https://www.moneydj.com/funddj/ya/yp010000.djhtm?a=ACFH12'), ('復華投信', 'https://www.moneydj.com/funddj/ya/yp020000.djhtm?a=BFZFHA')]\n",
      "[('復華亞太平衡基金(本基金有相當比重投資於非投資等級之高風險債券)', 'https://www.moneydj.com/funddj/ya/yp010000.djhtm?a=ACFH16'), ('國泰亞太入息平衡基金-A不配息(澳幣)(本基金有相當比重投資於非投資等級之高風險債券且基金之配息來源可能為本金)', 'https://www.moneydj.com/funddj/ya/yp010000.djhtm?a=ACCY72'), ('復華全球平衡基金(台幣)(本基金有相當比重投資於非投資等級之高風險債券)', 'https://www.moneydj.com/funddj/ya/yp010000.djhtm?a=ACFH12')]\n",
      "['復華投信', '國泰投信', '復華投信']\n"
     ]
    },
    {
     "name": "stderr",
     "output_type": "stream",
     "text": [
      "\r",
      " 47%|█████████████████████████████████████████████████████████████████████████████████████████████▎                                                                                                         | 15/32 [02:05<02:14,  7.91s/it]"
     ]
    },
    {
     "name": "stdout",
     "output_type": "stream",
     "text": [
      "[('凱基未來世代關鍵收息多重資產基金A不配息(南非幣)(本基金之配息來源可能為本金)', 'https://www.moneydj.com/funddj/ya/yp010000.djhtm?a=ACKG134'), ('凱基投信', 'https://www.moneydj.com/funddj/ya/yp020000.djhtm?a=BFZ004'), ('凱基未來世代關鍵收息多重資產基金NA不配息(南非幣)(本基金之配息來源可能為本金)', 'https://www.moneydj.com/funddj/ya/yp010000.djhtm?a=ACKG136'), ('凱基投信', 'https://www.moneydj.com/funddj/ya/yp020000.djhtm?a=BFZ004'), ('凱基未來世代關鍵收息多重資產基金NB配息(南非幣)(本基金之配息來源可能為本金)', 'https://www.moneydj.com/funddj/ya/yp010000.djhtm?a=ACKG137'), ('凱基投信', 'https://www.moneydj.com/funddj/ya/yp020000.djhtm?a=BFZ004')]\n",
      "[('凱基未來世代關鍵收息多重資產基金A不配息(南非幣)(本基金之配息來源可能為本金)', 'https://www.moneydj.com/funddj/ya/yp010000.djhtm?a=ACKG134'), ('凱基未來世代關鍵收息多重資產基金NA不配息(南非幣)(本基金之配息來源可能為本金)', 'https://www.moneydj.com/funddj/ya/yp010000.djhtm?a=ACKG136'), ('凱基未來世代關鍵收息多重資產基金NB配息(南非幣)(本基金之配息來源可能為本金)', 'https://www.moneydj.com/funddj/ya/yp010000.djhtm?a=ACKG137')]\n",
      "['凱基投信', '凱基投信', '凱基投信']\n"
     ]
    },
    {
     "name": "stderr",
     "output_type": "stream",
     "text": [
      "\r",
      " 50%|███████████████████████████████████████████████████████████████████████████████████████████████████▌                                                                                                   | 16/32 [02:29<03:22, 12.68s/it]"
     ]
    },
    {
     "name": "stdout",
     "output_type": "stream",
     "text": [
      "[('PGIM保德信瑞騰基金', 'https://www.moneydj.com/funddj/ya/yp010000.djhtm?a=ACAS02'), ('保德信投信', 'https://www.moneydj.com/funddj/ya/yp020000.djhtm?a=BFZMLA')]\n",
      "[('PGIM保德信瑞騰基金', 'https://www.moneydj.com/funddj/ya/yp010000.djhtm?a=ACAS02')]\n",
      "['保德信投信']\n"
     ]
    },
    {
     "name": "stderr",
     "output_type": "stream",
     "text": [
      "\r",
      " 53%|█████████████████████████████████████████████████████████████████████████████████████████████████████████▋                                                                                             | 17/32 [02:33<02:30, 10.03s/it]"
     ]
    },
    {
     "name": "stdout",
     "output_type": "stream",
     "text": [
      "[('景順2023到期優質新興債券基金(南非幣)(本基金有相當比重投資於非投資等級之高風險債券)', 'https://www.moneydj.com/funddj/ya/yp010000.djhtm?a=ACCS77'), ('景順投信', 'https://www.moneydj.com/funddj/ya/yp020000.djhtm?a=BFZCSA'), ('柏瑞全球策略量化債券基金N月配息(南非幣)(本基金有一定比重得投資於非投資等級之高風險債券且配息來源可能為本金)', 'https://www.moneydj.com/funddj/ya/yp010000.djhtm?a=ACAI331'), ('柏瑞投信', 'https://www.moneydj.com/funddj/ya/yp020000.djhtm?a=BFZAIA'), ('柏瑞全球策略量化債券基金B月配息(南非幣)(本基金有一定比重得投資於非投資等級之高風險債券且配息來源可能為本金)', 'https://www.moneydj.com/funddj/ya/yp010000.djhtm?a=ACAI330'), ('柏瑞投信', 'https://www.moneydj.com/funddj/ya/yp020000.djhtm?a=BFZAIA')]\n",
      "[('景順2023到期優質新興債券基金(南非幣)(本基金有相當比重投資於非投資等級之高風險債券)', 'https://www.moneydj.com/funddj/ya/yp010000.djhtm?a=ACCS77'), ('柏瑞全球策略量化債券基金N月配息(南非幣)(本基金有一定比重得投資於非投資等級之高風險債券且配息來源可能為本金)', 'https://www.moneydj.com/funddj/ya/yp010000.djhtm?a=ACAI331'), ('柏瑞全球策略量化債券基金B月配息(南非幣)(本基金有一定比重得投資於非投資等級之高風險債券且配息來源可能為本金)', 'https://www.moneydj.com/funddj/ya/yp010000.djhtm?a=ACAI330')]\n",
      "['景順投信', '柏瑞投信', '柏瑞投信']\n"
     ]
    },
    {
     "name": "stderr",
     "output_type": "stream",
     "text": [
      "\r",
      " 56%|███████████████████████████████████████████████████████████████████████████████████████████████████████████████▉                                                                                       | 18/32 [02:53<03:02, 13.02s/it]"
     ]
    },
    {
     "name": "stdout",
     "output_type": "stream",
     "text": [
      "[('宏利新興市場高收益債券基金-A不配息(南非幣避險)(本基金主要係投資於非投資等級之高風險債券)', 'https://www.moneydj.com/funddj/ya/yp010000.djhtm?a=ACAP130'), ('宏利投信', 'https://www.moneydj.com/funddj/ya/yp020000.djhtm?a=BFZAPA'), ('宏利新興市場高收益債券基金-NA不配息(南非幣避險)(本基金主要係投資於非投資等級之高風險債券)', 'https://www.moneydj.com/funddj/ya/yp010000.djhtm?a=ACAP132'), ('宏利投信', 'https://www.moneydj.com/funddj/ya/yp020000.djhtm?a=BFZAPA'), ('宏利新興市場高收益債券基金-C月配息(南非幣避險)(本基金主要係投資於非投資等級之高風險債券且基金之配息來源可能為本金)', 'https://www.moneydj.com/funddj/ya/yp010000.djhtm?a=ACAP131'), ('宏利投信', 'https://www.moneydj.com/funddj/ya/yp020000.djhtm?a=BFZAPA')]\n",
      "[('宏利新興市場高收益債券基金-A不配息(南非幣避險)(本基金主要係投資於非投資等級之高風險債券)', 'https://www.moneydj.com/funddj/ya/yp010000.djhtm?a=ACAP130'), ('宏利新興市場高收益債券基金-NA不配息(南非幣避險)(本基金主要係投資於非投資等級之高風險債券)', 'https://www.moneydj.com/funddj/ya/yp010000.djhtm?a=ACAP132'), ('宏利新興市場高收益債券基金-C月配息(南非幣避險)(本基金主要係投資於非投資等級之高風險債券且基金之配息來源可能為本金)', 'https://www.moneydj.com/funddj/ya/yp010000.djhtm?a=ACAP131')]\n",
      "['宏利投信', '宏利投信', '宏利投信']\n"
     ]
    },
    {
     "name": "stderr",
     "output_type": "stream",
     "text": [
      "\r",
      " 59%|██████████████████████████████████████████████████████████████████████████████████████████████████████████████████████▏                                                                                | 19/32 [03:23<03:57, 18.30s/it]"
     ]
    },
    {
     "name": "stdout",
     "output_type": "stream",
     "text": [
      "[('群益25年期以上美國政府債券ETF基金', 'https://www.moneydj.com/funddj/ya/yp010000.djhtm?a=ACCA214'), ('群益投信', 'https://www.moneydj.com/funddj/ya/yp020000.djhtm?a=BFZCAA'), ('元大美國政府20年期(以上)債券基金', 'https://www.moneydj.com/funddj/ya/yp010000.djhtm?a=ACYT99'), ('元大投信', 'https://www.moneydj.com/funddj/ya/yp020000.djhtm?a=BFZYTA'), ('復華美國20年期以上公債ETF基金', 'https://www.moneydj.com/funddj/ya/yp010000.djhtm?a=ACFH84'), ('復華投信', 'https://www.moneydj.com/funddj/ya/yp020000.djhtm?a=BFZFHA')]\n",
      "[('群益25年期以上美國政府債券ETF基金', 'https://www.moneydj.com/funddj/ya/yp010000.djhtm?a=ACCA214'), ('元大美國政府20年期(以上)債券基金', 'https://www.moneydj.com/funddj/ya/yp010000.djhtm?a=ACYT99'), ('復華美國20年期以上公債ETF基金', 'https://www.moneydj.com/funddj/ya/yp010000.djhtm?a=ACFH84')]\n",
      "['群益投信', '元大投信', '復華投信']\n"
     ]
    },
    {
     "name": "stderr",
     "output_type": "stream",
     "text": [
      "\r",
      " 62%|████████████████████████████████████████████████████████████████████████████████████████████████████████████████████████████▍                                                                          | 20/32 [03:32<03:03, 15.31s/it]"
     ]
    },
    {
     "name": "stdout",
     "output_type": "stream",
     "text": [
      "[('元大美國政府20年期(以上)債券單日正向2倍基金', 'https://www.moneydj.com/funddj/ya/yp010000.djhtm?a=ACYT100'), ('元大投信', 'https://www.moneydj.com/funddj/ya/yp020000.djhtm?a=BFZYTA'), ('國泰彭博巴克萊20年期(以上)美國公債指數單日正向2倍基金', 'https://www.moneydj.com/funddj/ya/yp010000.djhtm?a=ACCY94'), ('國泰投信', 'https://www.moneydj.com/funddj/ya/yp020000.djhtm?a=BFZCYA')]\n",
      "[('元大美國政府20年期(以上)債券單日正向2倍基金', 'https://www.moneydj.com/funddj/ya/yp010000.djhtm?a=ACYT100'), ('國泰彭博巴克萊20年期(以上)美國公債指數單日正向2倍基金', 'https://www.moneydj.com/funddj/ya/yp010000.djhtm?a=ACCY94')]\n",
      "['元大投信', '國泰投信']\n"
     ]
    },
    {
     "name": "stderr",
     "output_type": "stream",
     "text": [
      "\r",
      " 66%|██████████████████████████████████████████████████████████████████████████████████████████████████████████████████████████████████▌                                                                    | 21/32 [03:39<02:21, 12.88s/it]"
     ]
    },
    {
     "name": "stdout",
     "output_type": "stream",
     "text": [
      "[('永豐新興市場企業債券基金-累積型(南非幣)(本基金可投資於相當比例非投資等級之高風險債券且基金之配息來源可能為本金)', 'https://www.moneydj.com/funddj/ya/yp010000.djhtm?a=ACGC76'), ('永豐投信', 'https://www.moneydj.com/funddj/ya/yp020000.djhtm?a=BFZGCA'), ('街口六年到期新興市場債券基金-B配息(南非幣)(本基金有相當比重投資於非投資等級之高風險債券且配息來源可能為本金)', 'https://www.moneydj.com/funddj/ya/yp010000.djhtm?a=ACCH46'), ('街口投信', 'https://www.moneydj.com/funddj/ya/yp020000.djhtm?a=BFZ007'), ('街口六年到期新興市場債券基金-A不配息(南非幣)(本基金有相當比重投資於非投資等級之高風險債券且配息來源可能為本金)', 'https://www.moneydj.com/funddj/ya/yp010000.djhtm?a=ACCH45'), ('街口投信', 'https://www.moneydj.com/funddj/ya/yp020000.djhtm?a=BFZ007')]\n",
      "[('永豐新興市場企業債券基金-累積型(南非幣)(本基金可投資於相當比例非投資等級之高風險債券且基金之配息來源可能為本金)', 'https://www.moneydj.com/funddj/ya/yp010000.djhtm?a=ACGC76'), ('街口六年到期新興市場債券基金-B配息(南非幣)(本基金有相當比重投資於非投資等級之高風險債券且配息來源可能為本金)', 'https://www.moneydj.com/funddj/ya/yp010000.djhtm?a=ACCH46'), ('街口六年到期新興市場債券基金-A不配息(南非幣)(本基金有相當比重投資於非投資等級之高風險債券且配息來源可能為本金)', 'https://www.moneydj.com/funddj/ya/yp010000.djhtm?a=ACCH45')]\n",
      "['永豐投信', '街口投信', '街口投信']\n"
     ]
    },
    {
     "name": "stderr",
     "output_type": "stream",
     "text": [
      "\r",
      " 69%|████████████████████████████████████████████████████████████████████████████████████████████████████████████████████████████████████████▊                                                              | 22/32 [04:05<02:47, 16.76s/it]"
     ]
    },
    {
     "name": "stdout",
     "output_type": "stream",
     "text": [
      "[('元大新興印尼機會債券基金B配息(人民幣)(本基金有相當比重投資於非投資等級之高風險債券且基金之配息來源可能為本金)', 'https://www.moneydj.com/funddj/ya/yp010000.djhtm?a=ACYT73'), ('元大投信', 'https://www.moneydj.com/funddj/ya/yp020000.djhtm?a=BFZYTA'), ('元大新興印尼機會債券基金B配息(台幣)(本基金有相當比重投資於非投資等級之高風險債券且基金之配息來源可能為本金)', 'https://www.moneydj.com/funddj/ya/yp010000.djhtm?a=ACYT71'), ('元大投信', 'https://www.moneydj.com/funddj/ya/yp020000.djhtm?a=BFZYTA'), ('元大新興印尼機會債券基金A不配息(台幣)(本基金有相當比重投資於非投資等級之高風險債券)', 'https://www.moneydj.com/funddj/ya/yp010000.djhtm?a=ACYT70'), ('元大投信', 'https://www.moneydj.com/funddj/ya/yp020000.djhtm?a=BFZYTA')]\n",
      "[('元大新興印尼機會債券基金B配息(人民幣)(本基金有相當比重投資於非投資等級之高風險債券且基金之配息來源可能為本金)', 'https://www.moneydj.com/funddj/ya/yp010000.djhtm?a=ACYT73'), ('元大新興印尼機會債券基金B配息(台幣)(本基金有相當比重投資於非投資等級之高風險債券且基金之配息來源可能為本金)', 'https://www.moneydj.com/funddj/ya/yp010000.djhtm?a=ACYT71'), ('元大新興印尼機會債券基金A不配息(台幣)(本基金有相當比重投資於非投資等級之高風險債券)', 'https://www.moneydj.com/funddj/ya/yp010000.djhtm?a=ACYT70')]\n",
      "['元大投信', '元大投信', '元大投信']\n"
     ]
    },
    {
     "name": "stderr",
     "output_type": "stream",
     "text": [
      "\r",
      " 72%|███████████████████████████████████████████████████████████████████████████████████████████████████████████████████████████████████████████████                                                        | 23/32 [04:17<02:18, 15.43s/it]"
     ]
    },
    {
     "name": "stdout",
     "output_type": "stream",
     "text": [
      "[('兆豐國際人民幣貨幣市場基金', 'https://www.moneydj.com/funddj/ya/yp010000.djhtm?a=ACII30'), ('兆豐投信', 'https://www.moneydj.com/funddj/ya/yp020000.djhtm?a=BFZIIA'), ('富邦中國貨幣市場基金(人民幣)', 'https://www.moneydj.com/funddj/ya/yp010000.djhtm?a=ACFP50'), ('富邦投信', 'https://www.moneydj.com/funddj/ya/yp020000.djhtm?a=BFZFPA'), ('元大人民幣貨幣市場基金(人民幣)', 'https://www.moneydj.com/funddj/ya/yp010000.djhtm?a=ACYT57'), ('元大投信', 'https://www.moneydj.com/funddj/ya/yp020000.djhtm?a=BFZYTA')]\n",
      "[('兆豐國際人民幣貨幣市場基金', 'https://www.moneydj.com/funddj/ya/yp010000.djhtm?a=ACII30'), ('富邦中國貨幣市場基金(人民幣)', 'https://www.moneydj.com/funddj/ya/yp010000.djhtm?a=ACFP50'), ('元大人民幣貨幣市場基金(人民幣)', 'https://www.moneydj.com/funddj/ya/yp010000.djhtm?a=ACYT57')]\n",
      "['兆豐投信', '富邦投信', '元大投信']\n"
     ]
    },
    {
     "name": "stderr",
     "output_type": "stream",
     "text": [
      "\r",
      " 75%|█████████████████████████████████████████████████████████████████████████████████████████████████████████████████████████████████████████████████████▎                                                 | 24/32 [04:23<01:40, 12.54s/it]"
     ]
    },
    {
     "name": "stdout",
     "output_type": "stream",
     "text": [
      "[('日盛貨幣市場基金', 'https://www.moneydj.com/funddj/ya/yp010000.djhtm?a=ACJS02'), ('日盛投信', 'https://www.moneydj.com/funddj/ya/yp020000.djhtm?a=BFZJSA'), ('第一金台灣貨幣市場基金', 'https://www.moneydj.com/funddj/ya/yp010000.djhtm?a=ACNC10'), ('第一金投信', 'https://www.moneydj.com/funddj/ya/yp020000.djhtm?a=BFZNCA'), ('富蘭克林華美貨幣市場基金', 'https://www.moneydj.com/funddj/ya/yp010000.djhtm?a=ACFT16'), ('富蘭克林華美投信', 'https://www.moneydj.com/funddj/ya/yp020000.djhtm?a=BFZ008')]\n",
      "[('日盛貨幣市場基金', 'https://www.moneydj.com/funddj/ya/yp010000.djhtm?a=ACJS02'), ('第一金台灣貨幣市場基金', 'https://www.moneydj.com/funddj/ya/yp010000.djhtm?a=ACNC10'), ('富蘭克林華美貨幣市場基金', 'https://www.moneydj.com/funddj/ya/yp010000.djhtm?a=ACFT16')]\n",
      "['日盛投信', '第一金投信', '富蘭克林華美投信']\n"
     ]
    },
    {
     "name": "stderr",
     "output_type": "stream",
     "text": [
      "\r",
      " 78%|███████████████████████████████████████████████████████████████████████████████████████████████████████████████████████████████████████████████████████████▍                                           | 25/32 [04:29<01:14, 10.66s/it]"
     ]
    },
    {
     "name": "stdout",
     "output_type": "stream",
     "text": [
      "[('元大美國政府20年期(以上)債券單日反向1倍基金', 'https://www.moneydj.com/funddj/ya/yp010000.djhtm?a=ACYT101'), ('元大投信', 'https://www.moneydj.com/funddj/ya/yp020000.djhtm?a=BFZYTA'), ('國泰彭博巴克萊20年期(以上)美國公債指數單日反向1倍基金', 'https://www.moneydj.com/funddj/ya/yp010000.djhtm?a=ACCY95'), ('國泰投信', 'https://www.moneydj.com/funddj/ya/yp020000.djhtm?a=BFZCYA')]\n",
      "[('元大美國政府20年期(以上)債券單日反向1倍基金', 'https://www.moneydj.com/funddj/ya/yp010000.djhtm?a=ACYT101'), ('國泰彭博巴克萊20年期(以上)美國公債指數單日反向1倍基金', 'https://www.moneydj.com/funddj/ya/yp010000.djhtm?a=ACCY95')]\n",
      "['元大投信', '國泰投信']\n"
     ]
    },
    {
     "name": "stderr",
     "output_type": "stream",
     "text": [
      "\r",
      " 81%|█████████████████████████████████████████████████████████████████████████████████████████████████████████████████████████████████████████████████████████████████▋                                     | 26/32 [04:35<00:55,  9.26s/it]"
     ]
    },
    {
     "name": "stdout",
     "output_type": "stream",
     "text": [
      "[('國泰全球積極組合基金-A不配息(澳幣)(本基金之配息來源可能為本金)', 'https://www.moneydj.com/funddj/ya/yp010000.djhtm?a=ACCY106'), ('國泰投信', 'https://www.moneydj.com/funddj/ya/yp020000.djhtm?a=BFZCYA'), ('富蘭克林華美坦伯頓全球股票組合基金-A類型', 'https://www.moneydj.com/funddj/ya/yp010000.djhtm?a=ACFT04'), ('富蘭克林華美投信', 'https://www.moneydj.com/funddj/ya/yp020000.djhtm?a=BFZ008'), ('國泰全球積極組合基金-B配息(台幣)(本基金之配息來源可能為本金)', 'https://www.moneydj.com/funddj/ya/yp010000.djhtm?a=ACCY107'), ('國泰投信', 'https://www.moneydj.com/funddj/ya/yp020000.djhtm?a=BFZCYA')]\n",
      "[('國泰全球積極組合基金-A不配息(澳幣)(本基金之配息來源可能為本金)', 'https://www.moneydj.com/funddj/ya/yp010000.djhtm?a=ACCY106'), ('富蘭克林華美坦伯頓全球股票組合基金-A類型', 'https://www.moneydj.com/funddj/ya/yp010000.djhtm?a=ACFT04'), ('國泰全球積極組合基金-B配息(台幣)(本基金之配息來源可能為本金)', 'https://www.moneydj.com/funddj/ya/yp010000.djhtm?a=ACCY107')]\n",
      "['國泰投信', '富蘭克林華美投信', '國泰投信']\n"
     ]
    },
    {
     "name": "stderr",
     "output_type": "stream",
     "text": [
      "\r",
      " 84%|███████████████████████████████████████████████████████████████████████████████████████████████████████████████████████████████████████████████████████████████████████▉                               | 27/32 [04:43<00:44,  8.80s/it]"
     ]
    },
    {
     "name": "stdout",
     "output_type": "stream",
     "text": [
      "[('合庫新興多重收益基金-A不配息(澳幣)(本基金之子基金得投資於非投資等級之高風險債券)', 'https://www.moneydj.com/funddj/ya/yp010000.djhtm?a=ACCB31'), ('合作金庫投信', 'https://www.moneydj.com/funddj/ya/yp020000.djhtm?a=BFZ012'), ('國泰智富ETF安鑫組合基金-A不配息(澳幣)(本基金之配息來源可能為本金)', 'https://www.moneydj.com/funddj/ya/yp010000.djhtm?a=ACCY92'), ('國泰投信', 'https://www.moneydj.com/funddj/ya/yp020000.djhtm?a=BFZCYA'), ('合庫新興多重收益基金-A不配息(美元)(本基金之子基金得投資於非投資等級之高風險債券)', 'https://www.moneydj.com/funddj/ya/yp010000.djhtm?a=ACCB30'), ('合作金庫投信', 'https://www.moneydj.com/funddj/ya/yp020000.djhtm?a=BFZ012')]\n",
      "[('合庫新興多重收益基金-A不配息(澳幣)(本基金之子基金得投資於非投資等級之高風險債券)', 'https://www.moneydj.com/funddj/ya/yp010000.djhtm?a=ACCB31'), ('國泰智富ETF安鑫組合基金-A不配息(澳幣)(本基金之配息來源可能為本金)', 'https://www.moneydj.com/funddj/ya/yp010000.djhtm?a=ACCY92'), ('合庫新興多重收益基金-A不配息(美元)(本基金之子基金得投資於非投資等級之高風險債券)', 'https://www.moneydj.com/funddj/ya/yp010000.djhtm?a=ACCB30')]\n",
      "['合作金庫投信', '國泰投信', '合作金庫投信']\n"
     ]
    },
    {
     "name": "stderr",
     "output_type": "stream",
     "text": [
      "\r",
      " 88%|██████████████████████████████████████████████████████████████████████████████████████████████████████████████████████████████████████████████████████████████████████████████▏                        | 28/32 [04:54<00:38,  9.53s/it]"
     ]
    },
    {
     "name": "stdout",
     "output_type": "stream",
     "text": [
      "[('合庫多元入息組合基金-B配息(台幣)(本基金之配息來源可能為本金)', 'https://www.moneydj.com/funddj/ya/yp010000.djhtm?a=ACCB27'), ('合作金庫投信', 'https://www.moneydj.com/funddj/ya/yp020000.djhtm?a=BFZ012'), ('合庫多元入息組合基金-A不配息(美元)', 'https://www.moneydj.com/funddj/ya/yp010000.djhtm?a=ACCB28'), ('合作金庫投信', 'https://www.moneydj.com/funddj/ya/yp020000.djhtm?a=BFZ012'), ('合庫多元入息組合基金-B配息(美元)(本基金之配息來源可能為本金)', 'https://www.moneydj.com/funddj/ya/yp010000.djhtm?a=ACCB29'), ('合作金庫投信', 'https://www.moneydj.com/funddj/ya/yp020000.djhtm?a=BFZ012')]\n",
      "[('合庫多元入息組合基金-B配息(台幣)(本基金之配息來源可能為本金)', 'https://www.moneydj.com/funddj/ya/yp010000.djhtm?a=ACCB27'), ('合庫多元入息組合基金-A不配息(美元)', 'https://www.moneydj.com/funddj/ya/yp010000.djhtm?a=ACCB28'), ('合庫多元入息組合基金-B配息(美元)(本基金之配息來源可能為本金)', 'https://www.moneydj.com/funddj/ya/yp010000.djhtm?a=ACCB29')]\n",
      "['合作金庫投信', '合作金庫投信', '合作金庫投信']\n"
     ]
    },
    {
     "name": "stderr",
     "output_type": "stream",
     "text": [
      "\r",
      " 91%|████████████████████████████████████████████████████████████████████████████████████████████████████████████████████████████████████████████████████████████████████████████████████▎                  | 29/32 [05:06<00:30, 10.24s/it]"
     ]
    },
    {
     "name": "stdout",
     "output_type": "stream",
     "text": [
      "[('PGIM保德信策略成長ETF組合基金(台幣)', 'https://www.moneydj.com/funddj/ya/yp010000.djhtm?a=ACML58'), ('保德信投信', 'https://www.moneydj.com/funddj/ya/yp020000.djhtm?a=BFZMLA'), ('PGIM保德信策略成長ETF組合基金(美元)', 'https://www.moneydj.com/funddj/ya/yp010000.djhtm?a=ACML59'), ('保德信投信', 'https://www.moneydj.com/funddj/ya/yp020000.djhtm?a=BFZMLA'), ('復華奧林匹克全球優勢組合基金B配息(台幣)(本基金有相當比重投資於持有非投資等級高風險債券之基金且基金之配息來源可能為本金)', 'https://www.moneydj.com/funddj/ya/yp010000.djhtm?a=ACFH2101'), ('復華投信', 'https://www.moneydj.com/funddj/ya/yp020000.djhtm?a=BFZFHA')]\n",
      "[('PGIM保德信策略成長ETF組合基金(台幣)', 'https://www.moneydj.com/funddj/ya/yp010000.djhtm?a=ACML58'), ('PGIM保德信策略成長ETF組合基金(美元)', 'https://www.moneydj.com/funddj/ya/yp010000.djhtm?a=ACML59'), ('復華奧林匹克全球優勢組合基金B配息(台幣)(本基金有相當比重投資於持有非投資等級高風險債券之基金且基金之配息來源可能為本金)', 'https://www.moneydj.com/funddj/ya/yp010000.djhtm?a=ACFH2101')]\n",
      "['保德信投信', '保德信投信', '復華投信']\n"
     ]
    },
    {
     "name": "stderr",
     "output_type": "stream",
     "text": [
      "\r",
      " 94%|██████████████████████████████████████████████████████████████████████████████████████████████████████████████████████████████████████████████████████████████████████████████████████████▌            | 30/32 [05:10<00:16,  8.48s/it]"
     ]
    },
    {
     "name": "stdout",
     "output_type": "stream",
     "text": [
      "[('街口標普高盛布蘭特原油ER單日正向2倍指數期貨基金', 'https://www.moneydj.com/funddj/ya/yp010000.djhtm?a=ACCH26'), ('街口投信', 'https://www.moneydj.com/funddj/ya/yp020000.djhtm?a=BFZ007'), ('元大標普美元ER單日正向2倍指數期貨基金', 'https://www.moneydj.com/funddj/ya/yp010000.djhtm?a=ACYT105'), ('元大投信', 'https://www.moneydj.com/funddj/ya/yp020000.djhtm?a=BFZYTA'), ('元大標普高盛原油ER指數期貨基金', 'https://www.moneydj.com/funddj/ya/yp010000.djhtm?a=ACYT69'), ('元大投信', 'https://www.moneydj.com/funddj/ya/yp020000.djhtm?a=BFZYTA')]\n",
      "[('街口標普高盛布蘭特原油ER單日正向2倍指數期貨基金', 'https://www.moneydj.com/funddj/ya/yp010000.djhtm?a=ACCH26'), ('元大標普美元ER單日正向2倍指數期貨基金', 'https://www.moneydj.com/funddj/ya/yp010000.djhtm?a=ACYT105'), ('元大標普高盛原油ER指數期貨基金', 'https://www.moneydj.com/funddj/ya/yp010000.djhtm?a=ACYT69')]\n",
      "['街口投信', '元大投信', '元大投信']\n"
     ]
    },
    {
     "name": "stderr",
     "output_type": "stream",
     "text": [
      "\r",
      " 97%|████████████████████████████████████████████████████████████████████████████████████████████████████████████████████████████████████████████████████████████████████████████████████████████████▊      | 31/32 [05:16<00:07,  7.54s/it]"
     ]
    },
    {
     "name": "stdout",
     "output_type": "stream",
     "text": [
      "[('台新北美收益資產證券化基金-I不配息(台幣)', 'https://www.moneydj.com/funddj/ya/yp010000.djhtm?a=ACTT79'), ('台新投信', 'https://www.moneydj.com/funddj/ya/yp020000.djhtm?a=BFZ010'), ('台新北美收益資產證券化基金-B配息(台幣)', 'https://www.moneydj.com/funddj/ya/yp010000.djhtm?a=ACTC1501'), ('台新投信', 'https://www.moneydj.com/funddj/ya/yp020000.djhtm?a=BFZ010'), ('台新北美收益資產證券化基金-A不配息(台幣)', 'https://www.moneydj.com/funddj/ya/yp010000.djhtm?a=ACTC15'), ('台新投信', 'https://www.moneydj.com/funddj/ya/yp020000.djhtm?a=BFZ010')]\n",
      "[('台新北美收益資產證券化基金-I不配息(台幣)', 'https://www.moneydj.com/funddj/ya/yp010000.djhtm?a=ACTT79'), ('台新北美收益資產證券化基金-B配息(台幣)', 'https://www.moneydj.com/funddj/ya/yp010000.djhtm?a=ACTC1501'), ('台新北美收益資產證券化基金-A不配息(台幣)', 'https://www.moneydj.com/funddj/ya/yp010000.djhtm?a=ACTC15')]\n",
      "['台新投信', '台新投信', '台新投信']\n"
     ]
    },
    {
     "name": "stderr",
     "output_type": "stream",
     "text": [
      "100%|███████████████████████████████████████████████████████████████████████████████████████████████████████████████████████████████████████████████████████████████████████████████████████████████████████| 32/32 [05:22<00:00, 10.09s/it]\n",
      "  0%|                                                                                                                                                                                                              | 0/3632 [00:00<?, ?it/s]"
     ]
    },
    {
     "name": "stdout",
     "output_type": "stream",
     "text": [
      "https://www.moneydj.com/funddj/yl/yp013000.djhtm?a=t\n"
     ]
    },
    {
     "name": "stderr",
     "output_type": "stream",
     "text": [
      "\r",
      "  0%|                                                                                                                                                                                                    | 1/3632 [00:09<9:37:15,  9.54s/it]"
     ]
    },
    {
     "name": "stdout",
     "output_type": "stream",
     "text": [
      "https://www.moneydj.com/funddj/yl/yp013000.djhtm?a=t\n"
     ]
    },
    {
     "name": "stderr",
     "output_type": "stream",
     "text": [
      "\r",
      "  0%|                                                                                                                                                                                                    | 2/3632 [00:18<9:28:41,  9.40s/it]"
     ]
    },
    {
     "name": "stdout",
     "output_type": "stream",
     "text": [
      "https://www.moneydj.com/funddj/yl/yp013000.djhtm?a=t\n"
     ]
    },
    {
     "name": "stderr",
     "output_type": "stream",
     "text": [
      "\r",
      "  0%|▏                                                                                                                                                                                                   | 3/3632 [00:26<9:04:28,  9.00s/it]"
     ]
    },
    {
     "name": "stdout",
     "output_type": "stream",
     "text": [
      "https://www.moneydj.com/funddj/yl/yp013000.djhtm?a=t\n"
     ]
    },
    {
     "name": "stderr",
     "output_type": "stream",
     "text": [
      "\r",
      "  0%|▏                                                                                                                                                                                                   | 4/3632 [00:32<8:11:10,  8.12s/it]"
     ]
    },
    {
     "name": "stdout",
     "output_type": "stream",
     "text": [
      "https://www.moneydj.com/funddj/yl/yp013000.djhtm?a=t\n"
     ]
    },
    {
     "name": "stderr",
     "output_type": "stream",
     "text": [
      "\r",
      "  0%|▎                                                                                                                                                                                                   | 5/3632 [00:40<8:10:07,  8.11s/it]"
     ]
    },
    {
     "name": "stdout",
     "output_type": "stream",
     "text": [
      "https://www.moneydj.com/funddj/yl/yp013000.djhtm?a=t\n"
     ]
    },
    {
     "name": "stderr",
     "output_type": "stream",
     "text": [
      "\r",
      "  0%|▎                                                                                                                                                                                                   | 6/3632 [00:46<7:33:06,  7.50s/it]"
     ]
    },
    {
     "name": "stdout",
     "output_type": "stream",
     "text": [
      "https://www.moneydj.com/funddj/yl/yp013000.djhtm?a=t\n"
     ]
    },
    {
     "name": "stderr",
     "output_type": "stream",
     "text": [
      "\r",
      "  0%|▍                                                                                                                                                                                                   | 7/3632 [00:54<7:43:22,  7.67s/it]"
     ]
    },
    {
     "name": "stdout",
     "output_type": "stream",
     "text": [
      "https://www.moneydj.com/funddj/yl/yp013000.djhtm?a=t\n"
     ]
    },
    {
     "name": "stderr",
     "output_type": "stream",
     "text": [
      "\r",
      "  0%|▍                                                                                                                                                                                                   | 8/3632 [01:04<8:08:39,  8.09s/it]"
     ]
    },
    {
     "name": "stdout",
     "output_type": "stream",
     "text": [
      "https://www.moneydj.com/funddj/yl/yp013000.djhtm?a=t\n"
     ]
    },
    {
     "name": "stderr",
     "output_type": "stream",
     "text": [
      "\r",
      "  0%|▍                                                                                                                                                                                                   | 9/3632 [01:10<7:35:35,  7.54s/it]"
     ]
    },
    {
     "name": "stdout",
     "output_type": "stream",
     "text": [
      "https://www.moneydj.com/funddj/yl/yp013000.djhtm?a=t\n"
     ]
    },
    {
     "name": "stderr",
     "output_type": "stream",
     "text": [
      "\r",
      "  0%|▌                                                                                                                                                                                                  | 10/3632 [01:18<7:44:59,  7.70s/it]"
     ]
    },
    {
     "name": "stdout",
     "output_type": "stream",
     "text": [
      "https://www.moneydj.com/funddj/yl/yp013000.djhtm?a=t\n"
     ]
    },
    {
     "name": "stderr",
     "output_type": "stream",
     "text": [
      "\r",
      "  0%|▌                                                                                                                                                                                                  | 11/3632 [01:24<7:15:19,  7.21s/it]"
     ]
    },
    {
     "name": "stdout",
     "output_type": "stream",
     "text": [
      "https://www.moneydj.com/funddj/yl/yp013000.djhtm?a=t\n"
     ]
    },
    {
     "name": "stderr",
     "output_type": "stream",
     "text": [
      "\r",
      "  0%|▋                                                                                                                                                                                                  | 12/3632 [01:32<7:30:45,  7.47s/it]"
     ]
    },
    {
     "name": "stdout",
     "output_type": "stream",
     "text": [
      "https://www.moneydj.com/funddj/yl/yp013000.djhtm?a=t\n"
     ]
    },
    {
     "name": "stderr",
     "output_type": "stream",
     "text": [
      "\r",
      "  0%|▋                                                                                                                                                                                                  | 13/3632 [01:40<7:41:31,  7.65s/it]"
     ]
    },
    {
     "name": "stdout",
     "output_type": "stream",
     "text": [
      "https://www.moneydj.com/funddj/yl/yp013000.djhtm?a=t\n"
     ]
    },
    {
     "name": "stderr",
     "output_type": "stream",
     "text": [
      "\r",
      "  0%|▊                                                                                                                                                                                                  | 14/3632 [01:47<7:30:57,  7.48s/it]"
     ]
    },
    {
     "name": "stdout",
     "output_type": "stream",
     "text": [
      "https://www.moneydj.com/funddj/yl/yp013000.djhtm?a=t\n"
     ]
    },
    {
     "name": "stderr",
     "output_type": "stream",
     "text": [
      "\r",
      "  0%|▊                                                                                                                                                                                                  | 15/3632 [01:53<7:05:24,  7.06s/it]"
     ]
    },
    {
     "name": "stdout",
     "output_type": "stream",
     "text": [
      "https://www.moneydj.com/funddj/yl/yp013000.djhtm?a=t\n"
     ]
    },
    {
     "name": "stderr",
     "output_type": "stream",
     "text": [
      "\r",
      "  0%|▊                                                                                                                                                                                                  | 16/3632 [02:00<7:06:21,  7.07s/it]"
     ]
    },
    {
     "name": "stdout",
     "output_type": "stream",
     "text": [
      "https://www.moneydj.com/funddj/yl/yp013000.djhtm?a=t\n"
     ]
    },
    {
     "name": "stderr",
     "output_type": "stream",
     "text": [
      "\r",
      "  0%|▉                                                                                                                                                                                                  | 17/3632 [02:09<7:42:21,  7.67s/it]"
     ]
    },
    {
     "name": "stdout",
     "output_type": "stream",
     "text": [
      "https://www.moneydj.com/funddj/yl/yp013000.djhtm?a=t\n"
     ]
    },
    {
     "name": "stderr",
     "output_type": "stream",
     "text": [
      "\r",
      "  0%|▉                                                                                                                                                                                                  | 18/3632 [02:18<7:49:25,  7.79s/it]"
     ]
    },
    {
     "name": "stdout",
     "output_type": "stream",
     "text": [
      "https://www.moneydj.com/funddj/yl/yp013000.djhtm?a=t\n"
     ]
    },
    {
     "name": "stderr",
     "output_type": "stream",
     "text": [
      "\r",
      "  1%|█                                                                                                                                                                                                  | 19/3632 [02:26<7:54:18,  7.88s/it]"
     ]
    },
    {
     "name": "stdout",
     "output_type": "stream",
     "text": [
      "https://www.moneydj.com/funddj/yl/yp013000.djhtm?a=t\n"
     ]
    },
    {
     "name": "stderr",
     "output_type": "stream",
     "text": [
      "\r",
      "  1%|█                                                                                                                                                                                                  | 20/3632 [02:34<7:57:40,  7.93s/it]"
     ]
    },
    {
     "name": "stdout",
     "output_type": "stream",
     "text": [
      "https://www.moneydj.com/funddj/yl/yp013000.djhtm?a=t\n"
     ]
    },
    {
     "name": "stderr",
     "output_type": "stream",
     "text": [
      "\r",
      "  1%|█▏                                                                                                                                                                                                 | 21/3632 [02:40<7:23:56,  7.38s/it]"
     ]
    },
    {
     "name": "stdout",
     "output_type": "stream",
     "text": [
      "https://www.moneydj.com/funddj/yl/yp013000.djhtm?a=t\n"
     ]
    },
    {
     "name": "stderr",
     "output_type": "stream",
     "text": [
      "\r",
      "  1%|█▏                                                                                                                                                                                                 | 22/3632 [02:47<7:18:19,  7.29s/it]"
     ]
    },
    {
     "name": "stdout",
     "output_type": "stream",
     "text": [
      "https://www.moneydj.com/funddj/yl/yp013000.djhtm?a=t\n"
     ]
    },
    {
     "name": "stderr",
     "output_type": "stream",
     "text": [
      "\r",
      "  1%|█▏                                                                                                                                                                                                 | 23/3632 [02:56<7:50:32,  7.82s/it]"
     ]
    },
    {
     "name": "stdout",
     "output_type": "stream",
     "text": [
      "https://www.moneydj.com/funddj/yl/yp013000.djhtm?a=t\n"
     ]
    },
    {
     "name": "stderr",
     "output_type": "stream",
     "text": [
      "\r",
      "  1%|█▎                                                                                                                                                                                                 | 24/3632 [03:02<7:19:49,  7.31s/it]"
     ]
    },
    {
     "name": "stdout",
     "output_type": "stream",
     "text": [
      "https://www.moneydj.com/funddj/yl/yp013000.djhtm?a=t\n"
     ]
    },
    {
     "name": "stderr",
     "output_type": "stream",
     "text": [
      "\r",
      "  1%|█▎                                                                                                                                                                                                 | 25/3632 [03:09<7:15:19,  7.24s/it]"
     ]
    },
    {
     "name": "stdout",
     "output_type": "stream",
     "text": [
      "https://www.moneydj.com/funddj/yl/yp013000.djhtm?a=t\n"
     ]
    },
    {
     "name": "stderr",
     "output_type": "stream",
     "text": [
      "\r",
      "  1%|█▍                                                                                                                                                                                                 | 26/3632 [03:17<7:30:12,  7.49s/it]"
     ]
    },
    {
     "name": "stdout",
     "output_type": "stream",
     "text": [
      "https://www.moneydj.com/funddj/yl/yp013000.djhtm?a=t\n"
     ]
    },
    {
     "name": "stderr",
     "output_type": "stream",
     "text": [
      "\r",
      "  1%|█▍                                                                                                                                                                                                 | 27/3632 [03:24<7:22:43,  7.37s/it]"
     ]
    },
    {
     "name": "stdout",
     "output_type": "stream",
     "text": [
      "https://www.moneydj.com/funddj/yl/yp013000.djhtm?a=t\n"
     ]
    },
    {
     "name": "stderr",
     "output_type": "stream",
     "text": [
      "\r",
      "  1%|█▌                                                                                                                                                                                                 | 28/3632 [03:30<6:59:16,  6.98s/it]"
     ]
    },
    {
     "name": "stdout",
     "output_type": "stream",
     "text": [
      "https://www.moneydj.com/funddj/yl/yp013000.djhtm?a=t\n"
     ]
    },
    {
     "name": "stderr",
     "output_type": "stream",
     "text": [
      "\r",
      "  1%|█▌                                                                                                                                                                                                 | 29/3632 [03:38<7:18:51,  7.31s/it]"
     ]
    },
    {
     "name": "stdout",
     "output_type": "stream",
     "text": [
      "https://www.moneydj.com/funddj/yl/yp013000.djhtm?a=t\n"
     ]
    },
    {
     "name": "stderr",
     "output_type": "stream",
     "text": [
      "\r",
      "  1%|█▌                                                                                                                                                                                                 | 30/3632 [03:44<6:56:31,  6.94s/it]"
     ]
    },
    {
     "name": "stdout",
     "output_type": "stream",
     "text": [
      "https://www.moneydj.com/funddj/yl/yp013000.djhtm?a=t\n"
     ]
    },
    {
     "name": "stderr",
     "output_type": "stream",
     "text": [
      "\r",
      "  1%|█▋                                                                                                                                                                                                 | 31/3632 [03:53<7:16:49,  7.28s/it]"
     ]
    },
    {
     "name": "stdout",
     "output_type": "stream",
     "text": [
      "https://www.moneydj.com/funddj/yl/yp013000.djhtm?a=t\n"
     ]
    },
    {
     "name": "stderr",
     "output_type": "stream",
     "text": [
      "\r",
      "  1%|█▋                                                                                                                                                                                                 | 32/3632 [03:59<6:55:00,  6.92s/it]"
     ]
    },
    {
     "name": "stdout",
     "output_type": "stream",
     "text": [
      "https://www.moneydj.com/funddj/yl/yp013000.djhtm?a=t\n"
     ]
    },
    {
     "name": "stderr",
     "output_type": "stream",
     "text": [
      "\r",
      "  1%|█▊                                                                                                                                                                                                 | 33/3632 [04:08<7:33:39,  7.56s/it]"
     ]
    },
    {
     "name": "stdout",
     "output_type": "stream",
     "text": [
      "https://www.moneydj.com/funddj/yl/yp013000.djhtm?a=t\n"
     ]
    },
    {
     "name": "stderr",
     "output_type": "stream",
     "text": [
      "\r",
      "  1%|█▊                                                                                                                                                                                                 | 34/3632 [04:16<7:42:40,  7.72s/it]"
     ]
    },
    {
     "name": "stdout",
     "output_type": "stream",
     "text": [
      "https://www.moneydj.com/funddj/yl/yp013000.djhtm?a=t\n"
     ]
    },
    {
     "name": "stderr",
     "output_type": "stream",
     "text": [
      "\r",
      "  1%|█▉                                                                                                                                                                                                 | 35/3632 [04:25<8:06:56,  8.12s/it]"
     ]
    },
    {
     "name": "stdout",
     "output_type": "stream",
     "text": [
      "https://www.moneydj.com/funddj/yl/yp013000.djhtm?a=t\n"
     ]
    },
    {
     "name": "stderr",
     "output_type": "stream",
     "text": [
      "\r",
      "  1%|█▉                                                                                                                                                                                                 | 36/3632 [04:32<7:47:54,  7.81s/it]"
     ]
    },
    {
     "name": "stdout",
     "output_type": "stream",
     "text": [
      "https://www.moneydj.com/funddj/yl/yp013000.djhtm?a=t\n"
     ]
    },
    {
     "name": "stderr",
     "output_type": "stream",
     "text": [
      "\r",
      "  1%|█▉                                                                                                                                                                                                 | 37/3632 [04:41<8:10:30,  8.19s/it]"
     ]
    },
    {
     "name": "stdout",
     "output_type": "stream",
     "text": [
      "https://www.moneydj.com/funddj/yl/yp013000.djhtm?a=t\n"
     ]
    },
    {
     "name": "stderr",
     "output_type": "stream",
     "text": [
      "\r",
      "  1%|██                                                                                                                                                                                                 | 38/3632 [04:48<7:50:21,  7.85s/it]"
     ]
    },
    {
     "name": "stdout",
     "output_type": "stream",
     "text": [
      "https://www.moneydj.com/funddj/yl/yp013000.djhtm?a=t\n"
     ]
    },
    {
     "name": "stderr",
     "output_type": "stream",
     "text": [
      "\r",
      "  1%|██                                                                                                                                                                                                 | 39/3632 [04:55<7:36:11,  7.62s/it]"
     ]
    },
    {
     "name": "stdout",
     "output_type": "stream",
     "text": [
      "https://www.moneydj.com/funddj/yl/yp013000.djhtm?a=t\n"
     ]
    },
    {
     "name": "stderr",
     "output_type": "stream",
     "text": [
      "\r",
      "  1%|██▏                                                                                                                                                                                                | 40/3632 [05:04<8:02:17,  8.06s/it]"
     ]
    },
    {
     "name": "stdout",
     "output_type": "stream",
     "text": [
      "https://www.moneydj.com/funddj/yl/yp013000.djhtm?a=t\n"
     ]
    },
    {
     "name": "stderr",
     "output_type": "stream",
     "text": [
      "\r",
      "  1%|██▏                                                                                                                                                                                                | 41/3632 [05:12<8:02:25,  8.06s/it]"
     ]
    },
    {
     "name": "stdout",
     "output_type": "stream",
     "text": [
      "https://www.moneydj.com/funddj/yl/yp013000.djhtm?a=t\n"
     ]
    },
    {
     "name": "stderr",
     "output_type": "stream",
     "text": [
      "\r",
      "  1%|██▎                                                                                                                                                                                                | 42/3632 [05:21<8:20:25,  8.36s/it]"
     ]
    },
    {
     "name": "stdout",
     "output_type": "stream",
     "text": [
      "https://www.moneydj.com/funddj/yl/yp013000.djhtm?a=t\n"
     ]
    },
    {
     "name": "stderr",
     "output_type": "stream",
     "text": [
      "\r",
      "  1%|██▎                                                                                                                                                                                                | 43/3632 [05:29<8:15:03,  8.28s/it]"
     ]
    },
    {
     "name": "stdout",
     "output_type": "stream",
     "text": [
      "https://www.moneydj.com/funddj/yl/yp013000.djhtm?a=t\n"
     ]
    },
    {
     "name": "stderr",
     "output_type": "stream",
     "text": [
      "\r",
      "  1%|██▎                                                                                                                                                                                                | 44/3632 [05:38<8:29:12,  8.52s/it]"
     ]
    },
    {
     "name": "stdout",
     "output_type": "stream",
     "text": [
      "https://www.moneydj.com/funddj/yl/yp013000.djhtm?a=t\n"
     ]
    },
    {
     "name": "stderr",
     "output_type": "stream",
     "text": [
      "\r",
      "  1%|██▍                                                                                                                                                                                                | 45/3632 [05:47<8:21:09,  8.38s/it]"
     ]
    },
    {
     "name": "stdout",
     "output_type": "stream",
     "text": [
      "https://www.moneydj.com/funddj/yl/yp013000.djhtm?a=t\n"
     ]
    },
    {
     "name": "stderr",
     "output_type": "stream",
     "text": [
      "\r",
      "  1%|██▍                                                                                                                                                                                                | 46/3632 [05:56<8:33:24,  8.59s/it]"
     ]
    },
    {
     "name": "stdout",
     "output_type": "stream",
     "text": [
      "https://www.moneydj.com/funddj/yl/yp013000.djhtm?a=t\n"
     ]
    },
    {
     "name": "stderr",
     "output_type": "stream",
     "text": [
      "\r",
      "  1%|██▌                                                                                                                                                                                                | 47/3632 [06:06<9:05:15,  9.13s/it]"
     ]
    },
    {
     "name": "stdout",
     "output_type": "stream",
     "text": [
      "https://www.moneydj.com/funddj/yl/yp013000.djhtm?a=t\n"
     ]
    },
    {
     "name": "stderr",
     "output_type": "stream",
     "text": [
      "\r",
      "  1%|██▌                                                                                                                                                                                                | 48/3632 [06:16<9:12:05,  9.24s/it]"
     ]
    },
    {
     "name": "stdout",
     "output_type": "stream",
     "text": [
      "https://www.moneydj.com/funddj/yl/yp013000.djhtm?a=t\n"
     ]
    },
    {
     "name": "stderr",
     "output_type": "stream",
     "text": [
      "\r",
      "  1%|██▋                                                                                                                                                                                                | 49/3632 [06:23<8:41:17,  8.73s/it]"
     ]
    },
    {
     "name": "stdout",
     "output_type": "stream",
     "text": [
      "https://www.moneydj.com/funddj/yl/yp013000.djhtm?a=t\n"
     ]
    },
    {
     "name": "stderr",
     "output_type": "stream",
     "text": [
      "\r",
      "  1%|██▋                                                                                                                                                                                                | 50/3632 [06:30<8:18:02,  8.34s/it]"
     ]
    },
    {
     "name": "stdout",
     "output_type": "stream",
     "text": [
      "https://www.moneydj.com/funddj/yl/yp013000.djhtm?a=t\n"
     ]
    },
    {
     "name": "stderr",
     "output_type": "stream",
     "text": [
      "\r",
      "  1%|██▋                                                                                                                                                                                                | 51/3632 [06:39<8:20:10,  8.38s/it]"
     ]
    },
    {
     "name": "stdout",
     "output_type": "stream",
     "text": [
      "https://www.moneydj.com/funddj/yl/yp013000.djhtm?a=t\n"
     ]
    },
    {
     "name": "stderr",
     "output_type": "stream",
     "text": [
      "\r",
      "  1%|██▊                                                                                                                                                                                                | 52/3632 [06:50<9:06:47,  9.16s/it]"
     ]
    },
    {
     "name": "stdout",
     "output_type": "stream",
     "text": [
      "https://www.moneydj.com/funddj/yl/yp013000.djhtm?a=t\n"
     ]
    },
    {
     "name": "stderr",
     "output_type": "stream",
     "text": [
      "\r",
      "  1%|██▊                                                                                                                                                                                                | 53/3632 [07:00<9:19:38,  9.38s/it]"
     ]
    },
    {
     "name": "stdout",
     "output_type": "stream",
     "text": [
      "https://www.moneydj.com/funddj/yl/yp013000.djhtm?a=t\n"
     ]
    },
    {
     "name": "stderr",
     "output_type": "stream",
     "text": [
      "\r",
      "  1%|██▉                                                                                                                                                                                                | 54/3632 [07:10<9:29:28,  9.55s/it]"
     ]
    },
    {
     "name": "stdout",
     "output_type": "stream",
     "text": [
      "https://www.moneydj.com/funddj/yl/yp013000.djhtm?a=t\n"
     ]
    },
    {
     "name": "stderr",
     "output_type": "stream",
     "text": [
      "\r",
      "  2%|██▉                                                                                                                                                                                                | 55/3632 [07:18<9:10:10,  9.23s/it]"
     ]
    },
    {
     "name": "stdout",
     "output_type": "stream",
     "text": [
      "https://www.moneydj.com/funddj/yl/yp013000.djhtm?a=t\n"
     ]
    },
    {
     "name": "stderr",
     "output_type": "stream",
     "text": [
      "\r",
      "  2%|███                                                                                                                                                                                                | 56/3632 [07:28<9:19:37,  9.39s/it]"
     ]
    },
    {
     "name": "stdout",
     "output_type": "stream",
     "text": [
      "https://www.moneydj.com/funddj/yl/yp013000.djhtm?a=t\n"
     ]
    },
    {
     "name": "stderr",
     "output_type": "stream",
     "text": [
      "\r",
      "  2%|███                                                                                                                                                                                                | 57/3632 [07:39<9:56:04, 10.00s/it]"
     ]
    },
    {
     "name": "stdout",
     "output_type": "stream",
     "text": [
      "https://www.moneydj.com/funddj/yl/yp013000.djhtm?a=t\n"
     ]
    },
    {
     "name": "stderr",
     "output_type": "stream",
     "text": [
      "\r",
      "  2%|███                                                                                                                                                                                                | 58/3632 [07:48<9:31:20,  9.59s/it]"
     ]
    },
    {
     "name": "stdout",
     "output_type": "stream",
     "text": [
      "https://www.moneydj.com/funddj/yl/yp013000.djhtm?a=t\n"
     ]
    },
    {
     "name": "stderr",
     "output_type": "stream",
     "text": [
      "\r",
      "  2%|███▏                                                                                                                                                                                               | 59/3632 [07:58<9:29:54,  9.57s/it]"
     ]
    },
    {
     "name": "stdout",
     "output_type": "stream",
     "text": [
      "https://www.moneydj.com/funddj/yl/yp013000.djhtm?a=t\n"
     ]
    },
    {
     "name": "stderr",
     "output_type": "stream",
     "text": [
      "\r",
      "  2%|███▏                                                                                                                                                                                              | 60/3632 [08:09<10:07:38, 10.21s/it]"
     ]
    },
    {
     "name": "stdout",
     "output_type": "stream",
     "text": [
      "https://www.moneydj.com/funddj/yl/yp013000.djhtm?a=t\n"
     ]
    },
    {
     "name": "stderr",
     "output_type": "stream",
     "text": [
      "\r",
      "  2%|███▎                                                                                                                                                                                              | 61/3632 [08:19<10:06:44, 10.19s/it]"
     ]
    },
    {
     "name": "stdout",
     "output_type": "stream",
     "text": [
      "https://www.moneydj.com/funddj/yl/yp013000.djhtm?a=t\n"
     ]
    },
    {
     "name": "stderr",
     "output_type": "stream",
     "text": [
      "\r",
      "  2%|███▎                                                                                                                                                                                               | 62/3632 [08:29<9:46:33,  9.86s/it]"
     ]
    },
    {
     "name": "stdout",
     "output_type": "stream",
     "text": [
      "https://www.moneydj.com/funddj/yl/yp013000.djhtm?a=t\n"
     ]
    },
    {
     "name": "stderr",
     "output_type": "stream",
     "text": [
      "\r",
      "  2%|███▎                                                                                                                                                                                              | 63/3632 [08:40<10:07:54, 10.22s/it]"
     ]
    },
    {
     "name": "stdout",
     "output_type": "stream",
     "text": [
      "https://www.moneydj.com/funddj/yl/yp013000.djhtm?a=t\n"
     ]
    },
    {
     "name": "stderr",
     "output_type": "stream",
     "text": [
      "\r",
      "  2%|███▍                                                                                                                                                                                              | 64/3632 [08:50<10:03:07, 10.14s/it]"
     ]
    },
    {
     "name": "stdout",
     "output_type": "stream",
     "text": [
      "https://www.moneydj.com/funddj/yl/yp013000.djhtm?a=t\n"
     ]
    },
    {
     "name": "stderr",
     "output_type": "stream",
     "text": [
      "\r",
      "  2%|███▍                                                                                                                                                                                              | 65/3632 [09:00<10:09:39, 10.26s/it]"
     ]
    },
    {
     "name": "stdout",
     "output_type": "stream",
     "text": [
      "https://www.moneydj.com/funddj/yl/yp013000.djhtm?a=t\n"
     ]
    },
    {
     "name": "stderr",
     "output_type": "stream",
     "text": [
      "\r",
      "  2%|███▌                                                                                                                                                                                               | 66/3632 [09:10<9:55:25, 10.02s/it]"
     ]
    },
    {
     "name": "stdout",
     "output_type": "stream",
     "text": [
      "https://www.moneydj.com/funddj/yl/yp013000.djhtm?a=t\n"
     ]
    },
    {
     "name": "stderr",
     "output_type": "stream",
     "text": [
      "\r",
      "  2%|███▌                                                                                                                                                                                              | 67/3632 [09:21<10:29:34, 10.60s/it]"
     ]
    },
    {
     "name": "stdout",
     "output_type": "stream",
     "text": [
      "https://www.moneydj.com/funddj/yl/yp013000.djhtm?a=t\n"
     ]
    },
    {
     "name": "stderr",
     "output_type": "stream",
     "text": [
      "\r",
      "  2%|███▋                                                                                                                                                                                              | 68/3632 [09:31<10:01:36, 10.13s/it]"
     ]
    },
    {
     "name": "stdout",
     "output_type": "stream",
     "text": [
      "https://www.moneydj.com/funddj/yl/yp013000.djhtm?a=t\n"
     ]
    },
    {
     "name": "stderr",
     "output_type": "stream",
     "text": [
      "\r",
      "  2%|███▋                                                                                                                                                                                               | 69/3632 [09:39<9:40:30,  9.78s/it]"
     ]
    },
    {
     "name": "stdout",
     "output_type": "stream",
     "text": [
      "https://www.moneydj.com/funddj/yl/yp013000.djhtm?a=t\n"
     ]
    },
    {
     "name": "stderr",
     "output_type": "stream",
     "text": [
      "\r",
      "  2%|███▊                                                                                                                                                                                               | 70/3632 [09:48<9:25:56,  9.53s/it]"
     ]
    },
    {
     "name": "stdout",
     "output_type": "stream",
     "text": [
      "https://www.moneydj.com/funddj/yl/yp013000.djhtm?a=t\n"
     ]
    },
    {
     "name": "stderr",
     "output_type": "stream",
     "text": [
      "\r",
      "  2%|███▊                                                                                                                                                                                               | 71/3632 [09:59<9:50:50,  9.96s/it]"
     ]
    },
    {
     "name": "stdout",
     "output_type": "stream",
     "text": [
      "https://www.moneydj.com/funddj/yl/yp013000.djhtm?a=t\n"
     ]
    },
    {
     "name": "stderr",
     "output_type": "stream",
     "text": [
      "\r",
      "  2%|███▊                                                                                                                                                                                              | 72/3632 [10:10<10:00:18, 10.12s/it]"
     ]
    },
    {
     "name": "stdout",
     "output_type": "stream",
     "text": [
      "https://www.moneydj.com/funddj/yl/yp013000.djhtm?a=t\n"
     ]
    },
    {
     "name": "stderr",
     "output_type": "stream",
     "text": [
      "\r",
      "  2%|███▉                                                                                                                                                                                              | 73/3632 [10:21<10:15:14, 10.37s/it]"
     ]
    },
    {
     "name": "stdout",
     "output_type": "stream",
     "text": [
      "https://www.moneydj.com/funddj/yl/yp013000.djhtm?a=t\n"
     ]
    },
    {
     "name": "stderr",
     "output_type": "stream",
     "text": [
      "\r",
      "  2%|███▉                                                                                                                                                                                              | 74/3632 [10:31<10:07:51, 10.25s/it]"
     ]
    },
    {
     "name": "stdout",
     "output_type": "stream",
     "text": [
      "https://www.moneydj.com/funddj/yl/yp013000.djhtm?a=t\n"
     ]
    },
    {
     "name": "stderr",
     "output_type": "stream",
     "text": [
      "\r",
      "  2%|████                                                                                                                                                                                              | 75/3632 [10:41<10:12:23, 10.33s/it]"
     ]
    },
    {
     "name": "stdout",
     "output_type": "stream",
     "text": [
      "https://www.moneydj.com/funddj/yl/yp013000.djhtm?a=t\n"
     ]
    },
    {
     "name": "stderr",
     "output_type": "stream",
     "text": [
      "\r",
      "  2%|████                                                                                                                                                                                              | 76/3632 [10:52<10:23:27, 10.52s/it]"
     ]
    },
    {
     "name": "stdout",
     "output_type": "stream",
     "text": [
      "https://www.moneydj.com/funddj/yl/yp013000.djhtm?a=t\n"
     ]
    },
    {
     "name": "stderr",
     "output_type": "stream",
     "text": [
      "\r",
      "  2%|████                                                                                                                                                                                              | 77/3632 [11:04<10:49:17, 10.96s/it]"
     ]
    },
    {
     "name": "stdout",
     "output_type": "stream",
     "text": [
      "https://www.moneydj.com/funddj/yl/yp013000.djhtm?a=t\n"
     ]
    },
    {
     "name": "stderr",
     "output_type": "stream",
     "text": [
      "\r",
      "  2%|████▏                                                                                                                                                                                             | 78/3632 [11:17<11:22:09, 11.52s/it]"
     ]
    },
    {
     "name": "stdout",
     "output_type": "stream",
     "text": [
      "https://www.moneydj.com/funddj/yl/yp013000.djhtm?a=t\n"
     ]
    },
    {
     "name": "stderr",
     "output_type": "stream",
     "text": [
      "\r",
      "  2%|████▏                                                                                                                                                                                             | 79/3632 [11:28<11:14:35, 11.39s/it]"
     ]
    },
    {
     "name": "stdout",
     "output_type": "stream",
     "text": [
      "https://www.moneydj.com/funddj/yl/yp013000.djhtm?a=t\n"
     ]
    },
    {
     "name": "stderr",
     "output_type": "stream",
     "text": [
      "\r",
      "  2%|████▎                                                                                                                                                                                             | 80/3632 [11:38<10:49:13, 10.97s/it]"
     ]
    },
    {
     "name": "stdout",
     "output_type": "stream",
     "text": [
      "https://www.moneydj.com/funddj/yl/yp013000.djhtm?a=t\n"
     ]
    },
    {
     "name": "stderr",
     "output_type": "stream",
     "text": [
      "\r",
      "  2%|████▎                                                                                                                                                                                             | 81/3632 [11:48<10:21:28, 10.50s/it]"
     ]
    },
    {
     "name": "stdout",
     "output_type": "stream",
     "text": [
      "https://www.moneydj.com/funddj/yl/yp013000.djhtm?a=t\n"
     ]
    },
    {
     "name": "stderr",
     "output_type": "stream",
     "text": [
      "\r",
      "  2%|████▍                                                                                                                                                                                              | 82/3632 [11:57<9:55:10, 10.06s/it]"
     ]
    },
    {
     "name": "stdout",
     "output_type": "stream",
     "text": [
      "https://www.moneydj.com/funddj/yl/yp013000.djhtm?a=t\n"
     ]
    },
    {
     "name": "stderr",
     "output_type": "stream",
     "text": [
      "\r",
      "  2%|████▍                                                                                                                                                                                             | 83/3632 [12:08<10:10:57, 10.33s/it]"
     ]
    },
    {
     "name": "stdout",
     "output_type": "stream",
     "text": [
      "https://www.moneydj.com/funddj/yl/yp013000.djhtm?a=t\n"
     ]
    },
    {
     "name": "stderr",
     "output_type": "stream",
     "text": [
      "\r",
      "  2%|████▍                                                                                                                                                                                             | 84/3632 [12:19<10:23:21, 10.54s/it]"
     ]
    },
    {
     "name": "stdout",
     "output_type": "stream",
     "text": [
      "https://www.moneydj.com/funddj/yl/yp013000.djhtm?a=t\n"
     ]
    },
    {
     "name": "stderr",
     "output_type": "stream",
     "text": [
      "\r",
      "  2%|████▌                                                                                                                                                                                             | 85/3632 [12:30<10:39:47, 10.82s/it]"
     ]
    },
    {
     "name": "stdout",
     "output_type": "stream",
     "text": [
      "https://www.moneydj.com/funddj/yl/yp013000.djhtm?a=t\n"
     ]
    },
    {
     "name": "stderr",
     "output_type": "stream",
     "text": [
      "\r",
      "  2%|████▌                                                                                                                                                                                             | 86/3632 [12:41<10:45:19, 10.92s/it]"
     ]
    },
    {
     "name": "stdout",
     "output_type": "stream",
     "text": [
      "https://www.moneydj.com/funddj/yl/yp013000.djhtm?a=t\n"
     ]
    },
    {
     "name": "stderr",
     "output_type": "stream",
     "text": [
      "\r",
      "  2%|████▋                                                                                                                                                                                             | 87/3632 [12:50<10:11:38, 10.35s/it]"
     ]
    },
    {
     "name": "stdout",
     "output_type": "stream",
     "text": [
      "https://www.moneydj.com/funddj/yl/yp013000.djhtm?a=t\n"
     ]
    },
    {
     "name": "stderr",
     "output_type": "stream",
     "text": [
      "\r",
      "  2%|████▋                                                                                                                                                                                             | 88/3632 [13:01<10:21:36, 10.52s/it]"
     ]
    },
    {
     "name": "stdout",
     "output_type": "stream",
     "text": [
      "https://www.moneydj.com/funddj/yl/yp013000.djhtm?a=t\n"
     ]
    },
    {
     "name": "stderr",
     "output_type": "stream",
     "text": [
      "\r",
      "  2%|████▊                                                                                                                                                                                              | 89/3632 [13:10<9:54:40, 10.07s/it]"
     ]
    },
    {
     "name": "stdout",
     "output_type": "stream",
     "text": [
      "https://www.moneydj.com/funddj/yl/yp013000.djhtm?a=t\n"
     ]
    },
    {
     "name": "stderr",
     "output_type": "stream",
     "text": [
      "\r",
      "  2%|████▊                                                                                                                                                                                              | 90/3632 [13:19<9:39:09,  9.81s/it]"
     ]
    },
    {
     "name": "stdout",
     "output_type": "stream",
     "text": [
      "https://www.moneydj.com/funddj/yl/yp013000.djhtm?a=t\n"
     ]
    },
    {
     "name": "stderr",
     "output_type": "stream",
     "text": [
      "\r",
      "  3%|████▉                                                                                                                                                                                              | 91/3632 [13:28<9:14:14,  9.39s/it]"
     ]
    },
    {
     "name": "stdout",
     "output_type": "stream",
     "text": [
      "https://www.moneydj.com/funddj/yl/yp013000.djhtm?a=t\n"
     ]
    },
    {
     "name": "stderr",
     "output_type": "stream",
     "text": [
      "\r",
      "  3%|████▉                                                                                                                                                                                              | 92/3632 [13:36<9:00:24,  9.16s/it]"
     ]
    },
    {
     "name": "stdout",
     "output_type": "stream",
     "text": [
      "https://www.moneydj.com/funddj/yl/yp013000.djhtm?a=t\n"
     ]
    },
    {
     "name": "stderr",
     "output_type": "stream",
     "text": [
      "\r",
      "  3%|████▉                                                                                                                                                                                              | 93/3632 [13:48<9:34:50,  9.75s/it]"
     ]
    },
    {
     "name": "stdout",
     "output_type": "stream",
     "text": [
      "https://www.moneydj.com/funddj/yl/yp013000.djhtm?a=t\n"
     ]
    },
    {
     "name": "stderr",
     "output_type": "stream",
     "text": [
      "\r",
      "  3%|█████                                                                                                                                                                                              | 94/3632 [13:57<9:22:22,  9.54s/it]"
     ]
    },
    {
     "name": "stdout",
     "output_type": "stream",
     "text": [
      "https://www.moneydj.com/funddj/yl/yp013000.djhtm?a=t\n"
     ]
    },
    {
     "name": "stderr",
     "output_type": "stream",
     "text": [
      "\r",
      "  3%|█████                                                                                                                                                                                              | 95/3632 [14:07<9:38:38,  9.82s/it]"
     ]
    },
    {
     "name": "stdout",
     "output_type": "stream",
     "text": [
      "https://www.moneydj.com/funddj/yl/yp013000.djhtm?a=t\n"
     ]
    },
    {
     "name": "stderr",
     "output_type": "stream",
     "text": [
      "\r",
      "  3%|█████▏                                                                                                                                                                                             | 96/3632 [14:16<9:26:19,  9.61s/it]"
     ]
    },
    {
     "name": "stdout",
     "output_type": "stream",
     "text": [
      "https://www.moneydj.com/funddj/yl/yp013000.djhtm?a=t\n"
     ]
    },
    {
     "name": "stderr",
     "output_type": "stream",
     "text": [
      "\r",
      "  3%|█████▏                                                                                                                                                                                            | 97/3632 [14:28<10:08:41, 10.33s/it]"
     ]
    },
    {
     "name": "stdout",
     "output_type": "stream",
     "text": [
      "https://www.moneydj.com/funddj/yl/yp013000.djhtm?a=t\n"
     ]
    },
    {
     "name": "stderr",
     "output_type": "stream",
     "text": [
      "\r",
      "  3%|█████▏                                                                                                                                                                                            | 98/3632 [14:38<10:02:42, 10.23s/it]"
     ]
    },
    {
     "name": "stdout",
     "output_type": "stream",
     "text": [
      "https://www.moneydj.com/funddj/yl/yp013000.djhtm?a=t\n"
     ]
    },
    {
     "name": "stderr",
     "output_type": "stream",
     "text": [
      "\r",
      "  3%|█████▎                                                                                                                                                                                             | 99/3632 [14:47<9:41:32,  9.88s/it]"
     ]
    },
    {
     "name": "stdout",
     "output_type": "stream",
     "text": [
      "https://www.moneydj.com/funddj/yl/yp013000.djhtm?a=t\n"
     ]
    },
    {
     "name": "stderr",
     "output_type": "stream",
     "text": [
      "\r",
      "  3%|█████▎                                                                                                                                                                                            | 100/3632 [14:58<9:52:25, 10.06s/it]"
     ]
    },
    {
     "name": "stdout",
     "output_type": "stream",
     "text": [
      "https://www.moneydj.com/funddj/yl/yp013000.djhtm?a=t\n"
     ]
    },
    {
     "name": "stderr",
     "output_type": "stream",
     "text": [
      "\r",
      "  3%|█████▎                                                                                                                                                                                           | 101/3632 [15:09<10:17:37, 10.49s/it]"
     ]
    },
    {
     "name": "stdout",
     "output_type": "stream",
     "text": [
      "https://www.moneydj.com/funddj/yl/yp013000.djhtm?a=t\n"
     ]
    },
    {
     "name": "stderr",
     "output_type": "stream",
     "text": [
      "\r",
      "  3%|█████▍                                                                                                                                                                                            | 102/3632 [15:18<9:51:11, 10.05s/it]"
     ]
    },
    {
     "name": "stdout",
     "output_type": "stream",
     "text": [
      "https://www.moneydj.com/funddj/yl/yp013000.djhtm?a=t\n"
     ]
    },
    {
     "name": "stderr",
     "output_type": "stream",
     "text": [
      "\r",
      "  3%|█████▌                                                                                                                                                                                            | 103/3632 [15:26<9:18:09,  9.49s/it]"
     ]
    },
    {
     "name": "stdout",
     "output_type": "stream",
     "text": [
      "https://www.moneydj.com/funddj/yl/yp013000.djhtm?a=t\n"
     ]
    },
    {
     "name": "stderr",
     "output_type": "stream",
     "text": [
      "\r",
      "  3%|█████▌                                                                                                                                                                                            | 104/3632 [15:37<9:37:14,  9.82s/it]"
     ]
    },
    {
     "name": "stdout",
     "output_type": "stream",
     "text": [
      "https://www.moneydj.com/funddj/yl/yp013000.djhtm?a=t\n"
     ]
    },
    {
     "name": "stderr",
     "output_type": "stream",
     "text": [
      "\r",
      "  3%|█████▌                                                                                                                                                                                            | 105/3632 [15:46<9:21:48,  9.56s/it]"
     ]
    },
    {
     "name": "stdout",
     "output_type": "stream",
     "text": [
      "https://www.moneydj.com/funddj/yl/yp013000.djhtm?a=t\n"
     ]
    },
    {
     "name": "stderr",
     "output_type": "stream",
     "text": [
      "\r",
      "  3%|█████▋                                                                                                                                                                                            | 106/3632 [15:56<9:28:17,  9.67s/it]"
     ]
    },
    {
     "name": "stdout",
     "output_type": "stream",
     "text": [
      "https://www.moneydj.com/funddj/yl/yp013000.djhtm?a=t\n"
     ]
    },
    {
     "name": "stderr",
     "output_type": "stream",
     "text": [
      "\r",
      "  3%|█████▋                                                                                                                                                                                            | 107/3632 [16:05<9:26:02,  9.63s/it]"
     ]
    },
    {
     "name": "stdout",
     "output_type": "stream",
     "text": [
      "https://www.moneydj.com/funddj/yl/yp013000.djhtm?a=t\n"
     ]
    },
    {
     "name": "stderr",
     "output_type": "stream",
     "text": [
      "\r",
      "  3%|█████▊                                                                                                                                                                                            | 108/3632 [16:16<9:34:00,  9.77s/it]"
     ]
    },
    {
     "name": "stdout",
     "output_type": "stream",
     "text": [
      "https://www.moneydj.com/funddj/yl/yp013000.djhtm?a=t\n"
     ]
    },
    {
     "name": "stderr",
     "output_type": "stream",
     "text": [
      "\r",
      "  3%|█████▊                                                                                                                                                                                           | 109/3632 [16:28<10:12:30, 10.43s/it]"
     ]
    },
    {
     "name": "stdout",
     "output_type": "stream",
     "text": [
      "https://www.moneydj.com/funddj/yl/yp013000.djhtm?a=t\n"
     ]
    },
    {
     "name": "stderr",
     "output_type": "stream",
     "text": [
      "\r",
      "  3%|█████▉                                                                                                                                                                                            | 110/3632 [16:37<9:48:16, 10.02s/it]"
     ]
    },
    {
     "name": "stdout",
     "output_type": "stream",
     "text": [
      "https://www.moneydj.com/funddj/yl/yp013000.djhtm?a=t\n"
     ]
    },
    {
     "name": "stderr",
     "output_type": "stream",
     "text": [
      "\r",
      "  3%|█████▉                                                                                                                                                                                           | 111/3632 [16:48<10:06:29, 10.34s/it]"
     ]
    },
    {
     "name": "stdout",
     "output_type": "stream",
     "text": [
      "https://www.moneydj.com/funddj/yl/yp013000.djhtm?a=t\n"
     ]
    },
    {
     "name": "stderr",
     "output_type": "stream",
     "text": [
      "\r",
      "  3%|█████▉                                                                                                                                                                                           | 112/3632 [16:59<10:16:53, 10.52s/it]"
     ]
    },
    {
     "name": "stdout",
     "output_type": "stream",
     "text": [
      "https://www.moneydj.com/funddj/yl/yp013000.djhtm?a=t\n"
     ]
    },
    {
     "name": "stderr",
     "output_type": "stream",
     "text": [
      "\r",
      "  3%|██████                                                                                                                                                                                           | 113/3632 [17:09<10:06:58, 10.35s/it]"
     ]
    },
    {
     "name": "stdout",
     "output_type": "stream",
     "text": [
      "https://www.moneydj.com/funddj/yl/yp013000.djhtm?a=t\n"
     ]
    },
    {
     "name": "stderr",
     "output_type": "stream",
     "text": [
      "\r",
      "  3%|██████                                                                                                                                                                                            | 114/3632 [17:17<9:33:53,  9.79s/it]"
     ]
    },
    {
     "name": "stdout",
     "output_type": "stream",
     "text": [
      "https://www.moneydj.com/funddj/yl/yp013000.djhtm?a=t\n"
     ]
    },
    {
     "name": "stderr",
     "output_type": "stream",
     "text": [
      "\r",
      "  3%|██████▏                                                                                                                                                                                           | 115/3632 [17:27<9:37:49,  9.86s/it]"
     ]
    },
    {
     "name": "stdout",
     "output_type": "stream",
     "text": [
      "https://www.moneydj.com/funddj/yl/yp013000.djhtm?a=t\n"
     ]
    },
    {
     "name": "stderr",
     "output_type": "stream",
     "text": [
      "\r",
      "  3%|██████▏                                                                                                                                                                                           | 116/3632 [17:36<9:21:32,  9.58s/it]"
     ]
    },
    {
     "name": "stdout",
     "output_type": "stream",
     "text": [
      "https://www.moneydj.com/funddj/yl/yp013000.djhtm?a=t\n"
     ]
    },
    {
     "name": "stderr",
     "output_type": "stream",
     "text": [
      "\r",
      "  3%|██████▏                                                                                                                                                                                           | 117/3632 [17:46<9:36:27,  9.84s/it]"
     ]
    },
    {
     "name": "stdout",
     "output_type": "stream",
     "text": [
      "https://www.moneydj.com/funddj/yl/yp013000.djhtm?a=t\n"
     ]
    },
    {
     "name": "stderr",
     "output_type": "stream",
     "text": [
      "\r",
      "  3%|██████▎                                                                                                                                                                                           | 118/3632 [17:56<9:30:18,  9.74s/it]"
     ]
    },
    {
     "name": "stdout",
     "output_type": "stream",
     "text": [
      "https://www.moneydj.com/funddj/yl/yp013000.djhtm?a=t\n"
     ]
    },
    {
     "name": "stderr",
     "output_type": "stream",
     "text": [
      "\r",
      "  3%|██████▎                                                                                                                                                                                           | 119/3632 [18:07<9:51:37, 10.10s/it]"
     ]
    },
    {
     "name": "stdout",
     "output_type": "stream",
     "text": [
      "https://www.moneydj.com/funddj/yl/yp013000.djhtm?a=t\n"
     ]
    },
    {
     "name": "stderr",
     "output_type": "stream",
     "text": [
      "\r",
      "  3%|██████▍                                                                                                                                                                                           | 120/3632 [18:17<9:57:59, 10.22s/it]"
     ]
    },
    {
     "name": "stdout",
     "output_type": "stream",
     "text": [
      "https://www.moneydj.com/funddj/yl/yp013000.djhtm?a=t\n"
     ]
    },
    {
     "name": "stderr",
     "output_type": "stream",
     "text": [
      "\r",
      "  3%|██████▍                                                                                                                                                                                           | 121/3632 [18:27<9:55:18, 10.17s/it]"
     ]
    },
    {
     "name": "stdout",
     "output_type": "stream",
     "text": [
      "https://www.moneydj.com/funddj/yl/yp013000.djhtm?a=t\n"
     ]
    },
    {
     "name": "stderr",
     "output_type": "stream",
     "text": [
      "\r",
      "  3%|██████▌                                                                                                                                                                                           | 122/3632 [18:36<9:34:46,  9.83s/it]"
     ]
    },
    {
     "name": "stdout",
     "output_type": "stream",
     "text": [
      "https://www.moneydj.com/funddj/yl/yp013000.djhtm?a=t\n"
     ]
    },
    {
     "name": "stderr",
     "output_type": "stream",
     "text": [
      "\r",
      "  3%|██████▌                                                                                                                                                                                           | 123/3632 [18:46<9:38:12,  9.89s/it]"
     ]
    },
    {
     "name": "stdout",
     "output_type": "stream",
     "text": [
      "https://www.moneydj.com/funddj/yl/yp013000.djhtm?a=t\n"
     ]
    },
    {
     "name": "stderr",
     "output_type": "stream",
     "text": [
      "\r",
      "  3%|██████▌                                                                                                                                                                                           | 124/3632 [18:57<9:45:00, 10.01s/it]"
     ]
    },
    {
     "name": "stdout",
     "output_type": "stream",
     "text": [
      "https://www.moneydj.com/funddj/yl/yp013000.djhtm?a=t\n"
     ]
    },
    {
     "name": "stderr",
     "output_type": "stream",
     "text": [
      "\r",
      "  3%|██████▋                                                                                                                                                                                           | 125/3632 [19:05<9:18:11,  9.55s/it]"
     ]
    },
    {
     "name": "stdout",
     "output_type": "stream",
     "text": [
      "https://www.moneydj.com/funddj/yl/yp013000.djhtm?a=t\n"
     ]
    },
    {
     "name": "stderr",
     "output_type": "stream",
     "text": [
      "\r",
      "  3%|██████▋                                                                                                                                                                                           | 126/3632 [19:15<9:25:03,  9.67s/it]"
     ]
    },
    {
     "name": "stdout",
     "output_type": "stream",
     "text": [
      "https://www.moneydj.com/funddj/yl/yp013000.djhtm?a=t\n"
     ]
    },
    {
     "name": "stderr",
     "output_type": "stream",
     "text": [
      "\r",
      "  3%|██████▊                                                                                                                                                                                           | 127/3632 [19:24<9:11:09,  9.43s/it]"
     ]
    },
    {
     "name": "stdout",
     "output_type": "stream",
     "text": [
      "https://www.moneydj.com/funddj/yl/yp013000.djhtm?a=t\n"
     ]
    },
    {
     "name": "stderr",
     "output_type": "stream",
     "text": [
      "\r",
      "  4%|██████▊                                                                                                                                                                                           | 128/3632 [19:35<9:35:23,  9.85s/it]"
     ]
    },
    {
     "name": "stdout",
     "output_type": "stream",
     "text": [
      "https://www.moneydj.com/funddj/yl/yp013000.djhtm?a=t\n"
     ]
    },
    {
     "name": "stderr",
     "output_type": "stream",
     "text": [
      "\r",
      "  4%|██████▉                                                                                                                                                                                           | 129/3632 [19:45<9:36:35,  9.88s/it]"
     ]
    },
    {
     "name": "stdout",
     "output_type": "stream",
     "text": [
      "https://www.moneydj.com/funddj/yl/yp013000.djhtm?a=t\n"
     ]
    },
    {
     "name": "stderr",
     "output_type": "stream",
     "text": [
      "\r",
      "  4%|██████▉                                                                                                                                                                                           | 130/3632 [19:54<9:30:38,  9.78s/it]"
     ]
    },
    {
     "name": "stdout",
     "output_type": "stream",
     "text": [
      "https://www.moneydj.com/funddj/yl/yp013000.djhtm?a=t\n"
     ]
    },
    {
     "name": "stderr",
     "output_type": "stream",
     "text": [
      "\r",
      "  4%|██████▉                                                                                                                                                                                           | 131/3632 [20:06<9:59:45, 10.28s/it]"
     ]
    },
    {
     "name": "stdout",
     "output_type": "stream",
     "text": [
      "https://www.moneydj.com/funddj/yl/yp013000.djhtm?a=t\n"
     ]
    },
    {
     "name": "stderr",
     "output_type": "stream",
     "text": [
      "\r",
      "  4%|███████                                                                                                                                                                                           | 132/3632 [20:13<8:58:02,  9.22s/it]"
     ]
    },
    {
     "name": "stdout",
     "output_type": "stream",
     "text": [
      "https://www.moneydj.com/funddj/yl/yp013000.djhtm?a=t\n"
     ]
    },
    {
     "name": "stderr",
     "output_type": "stream",
     "text": [
      "\r",
      "  4%|███████                                                                                                                                                                                           | 133/3632 [20:25<9:45:57, 10.05s/it]"
     ]
    },
    {
     "name": "stdout",
     "output_type": "stream",
     "text": [
      "https://www.moneydj.com/funddj/yl/yp013000.djhtm?a=t\n"
     ]
    },
    {
     "name": "stderr",
     "output_type": "stream",
     "text": [
      "\r",
      "  4%|███████                                                                                                                                                                                          | 134/3632 [20:37<10:20:26, 10.64s/it]"
     ]
    },
    {
     "name": "stdout",
     "output_type": "stream",
     "text": [
      "https://www.moneydj.com/funddj/yl/yp013000.djhtm?a=t\n"
     ]
    },
    {
     "name": "stderr",
     "output_type": "stream",
     "text": [
      "\r",
      "  4%|███████▏                                                                                                                                                                                         | 135/3632 [20:47<10:08:13, 10.44s/it]"
     ]
    },
    {
     "name": "stdout",
     "output_type": "stream",
     "text": [
      "https://www.moneydj.com/funddj/yl/yp013000.djhtm?a=t\n"
     ]
    },
    {
     "name": "stderr",
     "output_type": "stream",
     "text": [
      "\r",
      "  4%|███████▎                                                                                                                                                                                          | 136/3632 [20:56<9:52:13, 10.16s/it]"
     ]
    },
    {
     "name": "stdout",
     "output_type": "stream",
     "text": [
      "https://www.moneydj.com/funddj/yl/yp013000.djhtm?a=t\n"
     ]
    },
    {
     "name": "stderr",
     "output_type": "stream",
     "text": [
      "\r",
      "  4%|███████▎                                                                                                                                                                                         | 137/3632 [21:07<10:07:25, 10.43s/it]"
     ]
    },
    {
     "name": "stdout",
     "output_type": "stream",
     "text": [
      "https://www.moneydj.com/funddj/yl/yp013000.djhtm?a=t\n"
     ]
    },
    {
     "name": "stderr",
     "output_type": "stream",
     "text": [
      "\r",
      "  4%|███████▎                                                                                                                                                                                         | 138/3632 [21:17<10:04:18, 10.38s/it]"
     ]
    },
    {
     "name": "stdout",
     "output_type": "stream",
     "text": [
      "https://www.moneydj.com/funddj/yl/yp013000.djhtm?a=t\n"
     ]
    },
    {
     "name": "stderr",
     "output_type": "stream",
     "text": [
      "\r",
      "  4%|███████▍                                                                                                                                                                                         | 139/3632 [21:28<10:15:09, 10.57s/it]"
     ]
    },
    {
     "name": "stdout",
     "output_type": "stream",
     "text": [
      "https://www.moneydj.com/funddj/yl/yp013000.djhtm?a=t\n"
     ]
    },
    {
     "name": "stderr",
     "output_type": "stream",
     "text": [
      "\r",
      "  4%|███████▍                                                                                                                                                                                         | 140/3632 [21:39<10:21:36, 10.68s/it]"
     ]
    },
    {
     "name": "stdout",
     "output_type": "stream",
     "text": [
      "https://www.moneydj.com/funddj/yl/yp013000.djhtm?a=t\n"
     ]
    },
    {
     "name": "stderr",
     "output_type": "stream",
     "text": [
      "\r",
      "  4%|███████▍                                                                                                                                                                                         | 141/3632 [21:50<10:27:36, 10.79s/it]"
     ]
    },
    {
     "name": "stdout",
     "output_type": "stream",
     "text": [
      "https://www.moneydj.com/funddj/yl/yp013000.djhtm?a=t\n"
     ]
    },
    {
     "name": "stderr",
     "output_type": "stream",
     "text": [
      "\r",
      "  4%|███████▌                                                                                                                                                                                         | 142/3632 [22:00<10:04:52, 10.40s/it]"
     ]
    },
    {
     "name": "stdout",
     "output_type": "stream",
     "text": [
      "https://www.moneydj.com/funddj/yl/yp013000.djhtm?a=t\n"
     ]
    },
    {
     "name": "stderr",
     "output_type": "stream",
     "text": [
      "\r",
      "  4%|███████▌                                                                                                                                                                                         | 143/3632 [22:12<10:33:49, 10.90s/it]"
     ]
    },
    {
     "name": "stdout",
     "output_type": "stream",
     "text": [
      "https://www.moneydj.com/funddj/yl/yp013000.djhtm?a=t\n"
     ]
    },
    {
     "name": "stderr",
     "output_type": "stream",
     "text": [
      "\r",
      "  4%|███████▋                                                                                                                                                                                         | 144/3632 [22:21<10:08:23, 10.47s/it]"
     ]
    },
    {
     "name": "stdout",
     "output_type": "stream",
     "text": [
      "https://www.moneydj.com/funddj/yl/yp013000.djhtm?a=t\n"
     ]
    },
    {
     "name": "stderr",
     "output_type": "stream",
     "text": [
      "\r",
      "  4%|███████▋                                                                                                                                                                                          | 145/3632 [22:30<9:43:10, 10.03s/it]"
     ]
    },
    {
     "name": "stdout",
     "output_type": "stream",
     "text": [
      "https://www.moneydj.com/funddj/yl/yp013000.djhtm?a=t\n"
     ]
    },
    {
     "name": "stderr",
     "output_type": "stream",
     "text": [
      "\r",
      "  4%|███████▊                                                                                                                                                                                          | 146/3632 [22:39<9:24:36,  9.72s/it]"
     ]
    },
    {
     "name": "stdout",
     "output_type": "stream",
     "text": [
      "https://www.moneydj.com/funddj/yl/yp013000.djhtm?a=t\n"
     ]
    },
    {
     "name": "stderr",
     "output_type": "stream",
     "text": [
      "\r",
      "  4%|███████▊                                                                                                                                                                                         | 147/3632 [22:51<10:04:57, 10.42s/it]"
     ]
    },
    {
     "name": "stdout",
     "output_type": "stream",
     "text": [
      "https://www.moneydj.com/funddj/yl/yp013000.djhtm?a=t\n"
     ]
    },
    {
     "name": "stderr",
     "output_type": "stream",
     "text": [
      "\r",
      "  4%|███████▉                                                                                                                                                                                          | 148/3632 [23:01<9:50:30, 10.17s/it]"
     ]
    },
    {
     "name": "stdout",
     "output_type": "stream",
     "text": [
      "https://www.moneydj.com/funddj/yl/yp013000.djhtm?a=t\n"
     ]
    },
    {
     "name": "stderr",
     "output_type": "stream",
     "text": [
      "\r",
      "  4%|███████▉                                                                                                                                                                                         | 149/3632 [23:12<10:05:52, 10.44s/it]"
     ]
    },
    {
     "name": "stdout",
     "output_type": "stream",
     "text": [
      "https://www.moneydj.com/funddj/yl/yp013000.djhtm?a=t\n"
     ]
    },
    {
     "name": "stderr",
     "output_type": "stream",
     "text": [
      "\r",
      "  4%|████████                                                                                                                                                                                          | 150/3632 [23:21<9:38:35,  9.97s/it]"
     ]
    },
    {
     "name": "stdout",
     "output_type": "stream",
     "text": [
      "https://www.moneydj.com/funddj/yl/yp013000.djhtm?a=t\n"
     ]
    },
    {
     "name": "stderr",
     "output_type": "stream",
     "text": [
      "\r",
      "  4%|████████                                                                                                                                                                                          | 151/3632 [23:31<9:46:19, 10.11s/it]"
     ]
    },
    {
     "name": "stdout",
     "output_type": "stream",
     "text": [
      "https://www.moneydj.com/funddj/yl/yp013000.djhtm?a=t\n"
     ]
    },
    {
     "name": "stderr",
     "output_type": "stream",
     "text": [
      "\r",
      "  4%|████████                                                                                                                                                                                         | 152/3632 [23:43<10:19:18, 10.68s/it]"
     ]
    },
    {
     "name": "stdout",
     "output_type": "stream",
     "text": [
      "https://www.moneydj.com/funddj/yl/yp013000.djhtm?a=t\n"
     ]
    },
    {
     "name": "stderr",
     "output_type": "stream",
     "text": [
      "\r",
      "  4%|████████▏                                                                                                                                                                                        | 153/3632 [23:53<10:00:01, 10.35s/it]"
     ]
    },
    {
     "name": "stdout",
     "output_type": "stream",
     "text": [
      "https://www.moneydj.com/funddj/yl/yp013000.djhtm?a=t\n"
     ]
    },
    {
     "name": "stderr",
     "output_type": "stream",
     "text": [
      "\r",
      "  4%|████████▏                                                                                                                                                                                         | 154/3632 [24:03<9:52:44, 10.23s/it]"
     ]
    },
    {
     "name": "stdout",
     "output_type": "stream",
     "text": [
      "https://www.moneydj.com/funddj/yl/yp013000.djhtm?a=t\n"
     ]
    },
    {
     "name": "stderr",
     "output_type": "stream",
     "text": [
      "\r",
      "  4%|████████▎                                                                                                                                                                                         | 155/3632 [24:12<9:31:06,  9.86s/it]"
     ]
    },
    {
     "name": "stdout",
     "output_type": "stream",
     "text": [
      "https://www.moneydj.com/funddj/yl/yp013000.djhtm?a=t\n"
     ]
    },
    {
     "name": "stderr",
     "output_type": "stream",
     "text": [
      "\r",
      "  4%|████████▎                                                                                                                                                                                         | 156/3632 [24:22<9:31:40,  9.87s/it]"
     ]
    },
    {
     "name": "stdout",
     "output_type": "stream",
     "text": [
      "https://www.moneydj.com/funddj/yl/yp013000.djhtm?a=t\n"
     ]
    },
    {
     "name": "stderr",
     "output_type": "stream",
     "text": [
      "\r",
      "  4%|████████▍                                                                                                                                                                                         | 157/3632 [24:31<9:15:43,  9.60s/it]"
     ]
    },
    {
     "name": "stdout",
     "output_type": "stream",
     "text": [
      "https://www.moneydj.com/funddj/yl/yp013000.djhtm?a=t\n"
     ]
    },
    {
     "name": "stderr",
     "output_type": "stream",
     "text": [
      "\r",
      "  4%|████████▍                                                                                                                                                                                         | 158/3632 [24:41<9:22:02,  9.71s/it]"
     ]
    },
    {
     "name": "stdout",
     "output_type": "stream",
     "text": [
      "https://www.moneydj.com/funddj/yl/yp013000.djhtm?a=t\n"
     ]
    },
    {
     "name": "stderr",
     "output_type": "stream",
     "text": [
      "\r",
      "  4%|████████▍                                                                                                                                                                                        | 159/3632 [24:53<10:00:36, 10.38s/it]"
     ]
    },
    {
     "name": "stdout",
     "output_type": "stream",
     "text": [
      "https://www.moneydj.com/funddj/yl/yp013000.djhtm?a=t\n"
     ]
    },
    {
     "name": "stderr",
     "output_type": "stream",
     "text": [
      "\r",
      "  4%|████████▌                                                                                                                                                                                         | 160/3632 [25:02<9:36:13,  9.96s/it]"
     ]
    },
    {
     "name": "stdout",
     "output_type": "stream",
     "text": [
      "https://www.moneydj.com/funddj/yl/yp013000.djhtm?a=t\n"
     ]
    },
    {
     "name": "stderr",
     "output_type": "stream",
     "text": [
      "\r",
      "  4%|████████▌                                                                                                                                                                                         | 161/3632 [25:13<9:54:52, 10.28s/it]"
     ]
    },
    {
     "name": "stdout",
     "output_type": "stream",
     "text": [
      "https://www.moneydj.com/funddj/yl/yp013000.djhtm?a=t\n"
     ]
    },
    {
     "name": "stderr",
     "output_type": "stream",
     "text": [
      "\r",
      "  4%|████████▌                                                                                                                                                                                        | 162/3632 [25:24<10:07:41, 10.51s/it]"
     ]
    },
    {
     "name": "stdout",
     "output_type": "stream",
     "text": [
      "https://www.moneydj.com/funddj/yl/yp013000.djhtm?a=t\n"
     ]
    },
    {
     "name": "stderr",
     "output_type": "stream",
     "text": [
      "\r",
      "  4%|████████▋                                                                                                                                                                                        | 163/3632 [25:35<10:17:38, 10.68s/it]"
     ]
    },
    {
     "name": "stdout",
     "output_type": "stream",
     "text": [
      "https://www.moneydj.com/funddj/yl/yp013000.djhtm?a=t\n"
     ]
    },
    {
     "name": "stderr",
     "output_type": "stream",
     "text": [
      "\r",
      "  5%|████████▊                                                                                                                                                                                         | 164/3632 [25:44<9:56:23, 10.32s/it]"
     ]
    },
    {
     "name": "stdout",
     "output_type": "stream",
     "text": [
      "https://www.moneydj.com/funddj/yl/yp013000.djhtm?a=t\n"
     ]
    },
    {
     "name": "stderr",
     "output_type": "stream",
     "text": [
      "\r",
      "  5%|████████▊                                                                                                                                                                                        | 165/3632 [25:56<10:24:43, 10.81s/it]"
     ]
    },
    {
     "name": "stdout",
     "output_type": "stream",
     "text": [
      "https://www.moneydj.com/funddj/yl/yp013000.djhtm?a=t\n"
     ]
    },
    {
     "name": "stderr",
     "output_type": "stream",
     "text": [
      "\r",
      "  5%|████████▊                                                                                                                                                                                         | 166/3632 [26:04<9:35:49,  9.97s/it]"
     ]
    },
    {
     "name": "stdout",
     "output_type": "stream",
     "text": [
      "https://www.moneydj.com/funddj/yl/yp013000.djhtm?a=t\n"
     ]
    },
    {
     "name": "stderr",
     "output_type": "stream",
     "text": [
      "\r",
      "  5%|████████▊                                                                                                                                                                                        | 167/3632 [26:16<10:00:05, 10.39s/it]"
     ]
    },
    {
     "name": "stdout",
     "output_type": "stream",
     "text": [
      "https://www.moneydj.com/funddj/yl/yp013000.djhtm?a=t\n"
     ]
    },
    {
     "name": "stderr",
     "output_type": "stream",
     "text": [
      "\r",
      "  5%|████████▉                                                                                                                                                                                         | 168/3632 [26:24<9:26:10,  9.81s/it]"
     ]
    },
    {
     "name": "stdout",
     "output_type": "stream",
     "text": [
      "https://www.moneydj.com/funddj/yl/yp013000.djhtm?a=t\n"
     ]
    },
    {
     "name": "stderr",
     "output_type": "stream",
     "text": [
      "\r",
      "  5%|█████████                                                                                                                                                                                         | 169/3632 [26:35<9:47:19, 10.18s/it]"
     ]
    },
    {
     "name": "stdout",
     "output_type": "stream",
     "text": [
      "https://www.moneydj.com/funddj/yl/yp013000.djhtm?a=t\n"
     ]
    },
    {
     "name": "stderr",
     "output_type": "stream",
     "text": [
      "\r",
      "  5%|█████████                                                                                                                                                                                         | 170/3632 [26:43<9:09:13,  9.52s/it]"
     ]
    },
    {
     "name": "stdout",
     "output_type": "stream",
     "text": [
      "https://www.moneydj.com/funddj/yl/yp013000.djhtm?a=t\n"
     ]
    },
    {
     "name": "stderr",
     "output_type": "stream",
     "text": [
      "\r",
      "  5%|█████████▏                                                                                                                                                                                        | 171/3632 [26:53<9:07:39,  9.49s/it]"
     ]
    },
    {
     "name": "stdout",
     "output_type": "stream",
     "text": [
      "https://www.moneydj.com/funddj/yl/yp013000.djhtm?a=t\n"
     ]
    },
    {
     "name": "stderr",
     "output_type": "stream",
     "text": [
      "\r",
      "  5%|█████████▏                                                                                                                                                                                        | 172/3632 [27:03<9:16:44,  9.65s/it]"
     ]
    },
    {
     "name": "stdout",
     "output_type": "stream",
     "text": [
      "https://www.moneydj.com/funddj/yl/yp013000.djhtm?a=t\n"
     ]
    },
    {
     "name": "stderr",
     "output_type": "stream",
     "text": [
      "\r",
      "  5%|█████████▏                                                                                                                                                                                        | 173/3632 [27:14<9:45:17, 10.15s/it]"
     ]
    },
    {
     "name": "stdout",
     "output_type": "stream",
     "text": [
      "https://www.moneydj.com/funddj/yl/yp013000.djhtm?a=t\n"
     ]
    },
    {
     "name": "stderr",
     "output_type": "stream",
     "text": [
      "\r",
      "  5%|█████████▎                                                                                                                                                                                        | 174/3632 [27:24<9:42:25, 10.11s/it]"
     ]
    },
    {
     "name": "stdout",
     "output_type": "stream",
     "text": [
      "https://www.moneydj.com/funddj/yl/yp013000.djhtm?a=t\n"
     ]
    },
    {
     "name": "stderr",
     "output_type": "stream",
     "text": [
      "\r",
      "  5%|█████████▎                                                                                                                                                                                        | 175/3632 [27:32<9:13:03,  9.60s/it]"
     ]
    },
    {
     "name": "stdout",
     "output_type": "stream",
     "text": [
      "https://www.moneydj.com/funddj/yl/yp013000.djhtm?a=t\n"
     ]
    },
    {
     "name": "stderr",
     "output_type": "stream",
     "text": [
      "\r",
      "  5%|█████████▍                                                                                                                                                                                        | 176/3632 [27:41<9:01:13,  9.40s/it]"
     ]
    },
    {
     "name": "stdout",
     "output_type": "stream",
     "text": [
      "https://www.moneydj.com/funddj/yl/yp013000.djhtm?a=t\n"
     ]
    },
    {
     "name": "stderr",
     "output_type": "stream",
     "text": [
      "\r",
      "  5%|█████████▍                                                                                                                                                                                        | 177/3632 [27:51<9:11:12,  9.57s/it]"
     ]
    },
    {
     "name": "stdout",
     "output_type": "stream",
     "text": [
      "https://www.moneydj.com/funddj/yl/yp013000.djhtm?a=t\n"
     ]
    },
    {
     "name": "stderr",
     "output_type": "stream",
     "text": [
      "\r",
      "  5%|█████████▌                                                                                                                                                                                        | 178/3632 [28:02<9:35:01,  9.99s/it]"
     ]
    },
    {
     "name": "stdout",
     "output_type": "stream",
     "text": [
      "https://www.moneydj.com/funddj/yl/yp013000.djhtm?a=t\n"
     ]
    },
    {
     "name": "stderr",
     "output_type": "stream",
     "text": [
      "\r",
      "  5%|█████████▌                                                                                                                                                                                        | 179/3632 [28:11<9:20:50,  9.75s/it]"
     ]
    },
    {
     "name": "stdout",
     "output_type": "stream",
     "text": [
      "https://www.moneydj.com/funddj/yl/yp013000.djhtm?a=t\n"
     ]
    },
    {
     "name": "stderr",
     "output_type": "stream",
     "text": [
      "\r",
      "  5%|█████████▌                                                                                                                                                                                        | 180/3632 [28:21<9:25:17,  9.83s/it]"
     ]
    },
    {
     "name": "stdout",
     "output_type": "stream",
     "text": [
      "https://www.moneydj.com/funddj/yl/yp013000.djhtm?a=t\n"
     ]
    },
    {
     "name": "stderr",
     "output_type": "stream",
     "text": [
      "\r",
      "  5%|█████████▋                                                                                                                                                                                        | 181/3632 [28:30<9:09:36,  9.56s/it]"
     ]
    },
    {
     "name": "stdout",
     "output_type": "stream",
     "text": [
      "https://www.moneydj.com/funddj/yl/yp013000.djhtm?a=t\n"
     ]
    },
    {
     "name": "stderr",
     "output_type": "stream",
     "text": [
      "\r",
      "  5%|█████████▋                                                                                                                                                                                        | 182/3632 [28:42<9:43:06, 10.14s/it]"
     ]
    },
    {
     "name": "stdout",
     "output_type": "stream",
     "text": [
      "https://www.moneydj.com/funddj/yl/yp013000.djhtm?a=t\n"
     ]
    },
    {
     "name": "stderr",
     "output_type": "stream",
     "text": [
      "\r",
      "  5%|█████████▊                                                                                                                                                                                        | 183/3632 [28:52<9:41:24, 10.11s/it]"
     ]
    },
    {
     "name": "stdout",
     "output_type": "stream",
     "text": [
      "https://www.moneydj.com/funddj/yl/yp013000.djhtm?a=t\n"
     ]
    },
    {
     "name": "stderr",
     "output_type": "stream",
     "text": [
      "\r",
      "  5%|█████████▊                                                                                                                                                                                        | 184/3632 [29:01<9:22:38,  9.79s/it]"
     ]
    },
    {
     "name": "stdout",
     "output_type": "stream",
     "text": [
      "https://www.moneydj.com/funddj/yl/yp013000.djhtm?a=t\n"
     ]
    },
    {
     "name": "stderr",
     "output_type": "stream",
     "text": [
      "\r",
      "  5%|█████████▉                                                                                                                                                                                        | 185/3632 [29:12<9:41:59, 10.13s/it]"
     ]
    },
    {
     "name": "stdout",
     "output_type": "stream",
     "text": [
      "https://www.moneydj.com/funddj/yl/yp013000.djhtm?a=t\n"
     ]
    },
    {
     "name": "stderr",
     "output_type": "stream",
     "text": [
      "\r",
      "  5%|█████████▉                                                                                                                                                                                        | 186/3632 [29:23<9:55:40, 10.37s/it]"
     ]
    },
    {
     "name": "stdout",
     "output_type": "stream",
     "text": [
      "https://www.moneydj.com/funddj/yl/yp013000.djhtm?a=t\n"
     ]
    },
    {
     "name": "stderr",
     "output_type": "stream",
     "text": [
      "\r",
      "  5%|█████████▉                                                                                                                                                                                        | 187/3632 [29:33<9:50:30, 10.28s/it]"
     ]
    },
    {
     "name": "stdout",
     "output_type": "stream",
     "text": [
      "https://www.moneydj.com/funddj/yl/yp013000.djhtm?a=t\n"
     ]
    },
    {
     "name": "stderr",
     "output_type": "stream",
     "text": [
      "\r",
      "  5%|██████████                                                                                                                                                                                        | 188/3632 [29:43<9:45:54, 10.21s/it]"
     ]
    },
    {
     "name": "stdout",
     "output_type": "stream",
     "text": [
      "https://www.moneydj.com/funddj/yl/yp013000.djhtm?a=t\n"
     ]
    },
    {
     "name": "stderr",
     "output_type": "stream",
     "text": [
      "\r",
      "  5%|██████████                                                                                                                                                                                       | 189/3632 [29:55<10:15:45, 10.73s/it]"
     ]
    },
    {
     "name": "stdout",
     "output_type": "stream",
     "text": [
      "https://www.moneydj.com/funddj/yl/yp013000.djhtm?a=t\n"
     ]
    },
    {
     "name": "stderr",
     "output_type": "stream",
     "text": [
      "\r",
      "  5%|██████████▏                                                                                                                                                                                       | 190/3632 [30:03<9:31:47,  9.97s/it]"
     ]
    },
    {
     "name": "stdout",
     "output_type": "stream",
     "text": [
      "https://www.moneydj.com/funddj/yl/yp013000.djhtm?a=t\n"
     ]
    },
    {
     "name": "stderr",
     "output_type": "stream",
     "text": [
      "\r",
      "  5%|██████████▏                                                                                                                                                                                       | 191/3632 [30:13<9:32:25,  9.98s/it]"
     ]
    },
    {
     "name": "stdout",
     "output_type": "stream",
     "text": [
      "https://www.moneydj.com/funddj/yl/yp013000.djhtm?a=t\n"
     ]
    },
    {
     "name": "stderr",
     "output_type": "stream",
     "text": [
      "\r",
      "  5%|██████████▎                                                                                                                                                                                       | 192/3632 [30:22<9:15:53,  9.70s/it]"
     ]
    },
    {
     "name": "stdout",
     "output_type": "stream",
     "text": [
      "https://www.moneydj.com/funddj/yl/yp013000.djhtm?a=t\n"
     ]
    },
    {
     "name": "stderr",
     "output_type": "stream",
     "text": [
      "\r",
      "  5%|██████████▎                                                                                                                                                                                       | 193/3632 [30:34<9:54:52, 10.38s/it]"
     ]
    },
    {
     "name": "stdout",
     "output_type": "stream",
     "text": [
      "https://www.moneydj.com/funddj/yl/yp013000.djhtm?a=t\n"
     ]
    },
    {
     "name": "stderr",
     "output_type": "stream",
     "text": [
      "\r",
      "  5%|██████████▎                                                                                                                                                                                       | 194/3632 [30:44<9:40:49, 10.14s/it]"
     ]
    },
    {
     "name": "stdout",
     "output_type": "stream",
     "text": [
      "https://www.moneydj.com/funddj/yl/yp013000.djhtm?a=t\n"
     ]
    },
    {
     "name": "stderr",
     "output_type": "stream",
     "text": [
      "\r",
      "  5%|██████████▍                                                                                                                                                                                       | 195/3632 [30:52<9:11:31,  9.63s/it]"
     ]
    },
    {
     "name": "stdout",
     "output_type": "stream",
     "text": [
      "https://www.moneydj.com/funddj/yl/yp013000.djhtm?a=t\n"
     ]
    },
    {
     "name": "stderr",
     "output_type": "stream",
     "text": [
      "\r",
      "  5%|██████████▍                                                                                                                                                                                       | 196/3632 [31:02<9:18:13,  9.75s/it]"
     ]
    },
    {
     "name": "stdout",
     "output_type": "stream",
     "text": [
      "https://www.moneydj.com/funddj/yl/yp013000.djhtm?a=t\n"
     ]
    },
    {
     "name": "stderr",
     "output_type": "stream",
     "text": [
      "\r",
      "  5%|██████████▌                                                                                                                                                                                       | 197/3632 [31:11<9:04:17,  9.51s/it]"
     ]
    },
    {
     "name": "stdout",
     "output_type": "stream",
     "text": [
      "https://www.moneydj.com/funddj/yl/yp013000.djhtm?a=t\n"
     ]
    },
    {
     "name": "stderr",
     "output_type": "stream",
     "text": [
      "\r",
      "  5%|██████████▌                                                                                                                                                                                       | 198/3632 [31:23<9:46:46, 10.25s/it]"
     ]
    },
    {
     "name": "stdout",
     "output_type": "stream",
     "text": [
      "https://www.moneydj.com/funddj/yl/yp013000.djhtm?a=t\n"
     ]
    },
    {
     "name": "stderr",
     "output_type": "stream",
     "text": [
      "\r",
      "  5%|██████████▋                                                                                                                                                                                       | 199/3632 [31:32<9:22:41,  9.83s/it]"
     ]
    },
    {
     "name": "stdout",
     "output_type": "stream",
     "text": [
      "https://www.moneydj.com/funddj/yl/yp013000.djhtm?a=t\n"
     ]
    },
    {
     "name": "stderr",
     "output_type": "stream",
     "text": [
      "\r",
      "  6%|██████████▋                                                                                                                                                                                       | 200/3632 [31:40<8:48:57,  9.25s/it]"
     ]
    },
    {
     "name": "stdout",
     "output_type": "stream",
     "text": [
      "https://www.moneydj.com/funddj/yl/yp013000.djhtm?a=t\n"
     ]
    },
    {
     "name": "stderr",
     "output_type": "stream",
     "text": [
      "\r",
      "  6%|██████████▋                                                                                                                                                                                       | 201/3632 [31:50<9:02:23,  9.49s/it]"
     ]
    },
    {
     "name": "stdout",
     "output_type": "stream",
     "text": [
      "https://www.moneydj.com/funddj/yl/yp013000.djhtm?a=t\n"
     ]
    },
    {
     "name": "stderr",
     "output_type": "stream",
     "text": [
      "\r",
      "  6%|██████████▊                                                                                                                                                                                       | 202/3632 [31:58<8:44:40,  9.18s/it]"
     ]
    },
    {
     "name": "stdout",
     "output_type": "stream",
     "text": [
      "https://www.moneydj.com/funddj/yl/yp013000.djhtm?a=t\n"
     ]
    },
    {
     "name": "stderr",
     "output_type": "stream",
     "text": [
      "\r",
      "  6%|██████████▊                                                                                                                                                                                       | 203/3632 [32:10<9:32:42, 10.02s/it]"
     ]
    },
    {
     "name": "stdout",
     "output_type": "stream",
     "text": [
      "https://www.moneydj.com/funddj/yl/yp013000.djhtm?a=t\n"
     ]
    },
    {
     "name": "stderr",
     "output_type": "stream",
     "text": [
      "\r",
      "  6%|██████████▉                                                                                                                                                                                       | 204/3632 [32:22<9:57:04, 10.45s/it]"
     ]
    },
    {
     "name": "stdout",
     "output_type": "stream",
     "text": [
      "https://www.moneydj.com/funddj/yl/yp013000.djhtm?a=t\n"
     ]
    },
    {
     "name": "stderr",
     "output_type": "stream",
     "text": [
      "\r",
      "  6%|██████████▉                                                                                                                                                                                      | 205/3632 [32:33<10:05:44, 10.61s/it]"
     ]
    },
    {
     "name": "stdout",
     "output_type": "stream",
     "text": [
      "https://www.moneydj.com/funddj/yl/yp013000.djhtm?a=t\n"
     ]
    },
    {
     "name": "stderr",
     "output_type": "stream",
     "text": [
      "\r",
      "  6%|██████████▉                                                                                                                                                                                      | 206/3632 [32:44<10:19:19, 10.85s/it]"
     ]
    },
    {
     "name": "stdout",
     "output_type": "stream",
     "text": [
      "https://www.moneydj.com/funddj/yl/yp013000.djhtm?a=t\n"
     ]
    },
    {
     "name": "stderr",
     "output_type": "stream",
     "text": [
      "\r",
      "  6%|███████████                                                                                                                                                                                       | 207/3632 [32:53<9:47:12, 10.29s/it]"
     ]
    },
    {
     "name": "stdout",
     "output_type": "stream",
     "text": [
      "https://www.moneydj.com/funddj/yl/yp013000.djhtm?a=t\n"
     ]
    },
    {
     "name": "stderr",
     "output_type": "stream",
     "text": [
      "\r",
      "  6%|███████████                                                                                                                                                                                       | 208/3632 [33:02<9:25:42,  9.91s/it]"
     ]
    },
    {
     "name": "stdout",
     "output_type": "stream",
     "text": [
      "https://www.moneydj.com/funddj/yl/yp013000.djhtm?a=t\n"
     ]
    },
    {
     "name": "stderr",
     "output_type": "stream",
     "text": [
      "\r",
      "  6%|███████████▏                                                                                                                                                                                      | 209/3632 [33:12<9:17:40,  9.78s/it]"
     ]
    },
    {
     "name": "stdout",
     "output_type": "stream",
     "text": [
      "https://www.moneydj.com/funddj/yl/yp013000.djhtm?a=t\n"
     ]
    },
    {
     "name": "stderr",
     "output_type": "stream",
     "text": [
      "\r",
      "  6%|███████████▏                                                                                                                                                                                      | 210/3632 [33:23<9:54:53, 10.43s/it]"
     ]
    },
    {
     "name": "stdout",
     "output_type": "stream",
     "text": [
      "https://www.moneydj.com/funddj/yl/yp013000.djhtm?a=t\n"
     ]
    },
    {
     "name": "stderr",
     "output_type": "stream",
     "text": [
      "\r",
      "  6%|███████████▎                                                                                                                                                                                      | 211/3632 [33:32<9:25:11,  9.91s/it]"
     ]
    },
    {
     "name": "stdout",
     "output_type": "stream",
     "text": [
      "https://www.moneydj.com/funddj/yl/yp013000.djhtm?a=t\n"
     ]
    },
    {
     "name": "stderr",
     "output_type": "stream",
     "text": [
      "\r",
      "  6%|███████████▎                                                                                                                                                                                      | 212/3632 [33:42<9:25:04,  9.91s/it]"
     ]
    },
    {
     "name": "stdout",
     "output_type": "stream",
     "text": [
      "https://www.moneydj.com/funddj/yl/yp013000.djhtm?a=t\n"
     ]
    },
    {
     "name": "stderr",
     "output_type": "stream",
     "text": [
      "\r",
      "  6%|███████████▍                                                                                                                                                                                      | 213/3632 [33:51<9:01:17,  9.50s/it]"
     ]
    },
    {
     "name": "stdout",
     "output_type": "stream",
     "text": [
      "https://www.moneydj.com/funddj/yl/yp013000.djhtm?a=t\n"
     ]
    },
    {
     "name": "stderr",
     "output_type": "stream",
     "text": [
      "\r",
      "  6%|███████████▍                                                                                                                                                                                      | 214/3632 [34:02<9:27:49,  9.97s/it]"
     ]
    },
    {
     "name": "stdout",
     "output_type": "stream",
     "text": [
      "https://www.moneydj.com/funddj/yl/yp013000.djhtm?a=t\n"
     ]
    },
    {
     "name": "stderr",
     "output_type": "stream",
     "text": [
      "\r",
      "  6%|███████████▍                                                                                                                                                                                      | 215/3632 [34:12<9:30:49, 10.02s/it]"
     ]
    },
    {
     "name": "stdout",
     "output_type": "stream",
     "text": [
      "https://www.moneydj.com/funddj/yl/yp013000.djhtm?a=t\n"
     ]
    },
    {
     "name": "stderr",
     "output_type": "stream",
     "text": [
      "\r",
      "  6%|███████████▌                                                                                                                                                                                      | 216/3632 [34:21<9:14:27,  9.74s/it]"
     ]
    },
    {
     "name": "stdout",
     "output_type": "stream",
     "text": [
      "https://www.moneydj.com/funddj/yl/yp013000.djhtm?a=t\n"
     ]
    },
    {
     "name": "stderr",
     "output_type": "stream",
     "text": [
      "\r",
      "  6%|███████████▌                                                                                                                                                                                      | 217/3632 [34:32<9:35:23, 10.11s/it]"
     ]
    },
    {
     "name": "stdout",
     "output_type": "stream",
     "text": [
      "https://www.moneydj.com/funddj/yl/yp013000.djhtm?a=t\n"
     ]
    },
    {
     "name": "stderr",
     "output_type": "stream",
     "text": [
      "\r",
      "  6%|███████████▋                                                                                                                                                                                      | 218/3632 [34:43<9:49:02, 10.35s/it]"
     ]
    },
    {
     "name": "stdout",
     "output_type": "stream",
     "text": [
      "https://www.moneydj.com/funddj/yl/yp013000.djhtm?a=t\n"
     ]
    },
    {
     "name": "stderr",
     "output_type": "stream",
     "text": [
      "\r",
      "  6%|███████████▋                                                                                                                                                                                     | 219/3632 [34:54<10:10:18, 10.73s/it]"
     ]
    },
    {
     "name": "stdout",
     "output_type": "stream",
     "text": [
      "https://www.moneydj.com/funddj/yl/yp013000.djhtm?a=t\n"
     ]
    },
    {
     "name": "stderr",
     "output_type": "stream",
     "text": [
      "\r",
      "  6%|███████████▋                                                                                                                                                                                     | 220/3632 [35:05<10:04:57, 10.64s/it]"
     ]
    },
    {
     "name": "stdout",
     "output_type": "stream",
     "text": [
      "https://www.moneydj.com/funddj/yl/yp013000.djhtm?a=t\n"
     ]
    },
    {
     "name": "stderr",
     "output_type": "stream",
     "text": [
      "\r",
      "  6%|███████████▋                                                                                                                                                                                     | 221/3632 [35:17<10:26:50, 11.03s/it]"
     ]
    },
    {
     "name": "stdout",
     "output_type": "stream",
     "text": [
      "https://www.moneydj.com/funddj/yl/yp013000.djhtm?a=t\n"
     ]
    },
    {
     "name": "stderr",
     "output_type": "stream",
     "text": [
      "\r",
      "  6%|███████████▊                                                                                                                                                                                     | 222/3632 [35:26<10:01:09, 10.58s/it]"
     ]
    },
    {
     "name": "stdout",
     "output_type": "stream",
     "text": [
      "https://www.moneydj.com/funddj/yl/yp013000.djhtm?a=t\n"
     ]
    },
    {
     "name": "stderr",
     "output_type": "stream",
     "text": [
      "\r",
      "  6%|███████████▊                                                                                                                                                                                     | 223/3632 [35:38<10:24:14, 10.99s/it]"
     ]
    },
    {
     "name": "stdout",
     "output_type": "stream",
     "text": [
      "https://www.moneydj.com/funddj/yl/yp013000.djhtm?a=t\n"
     ]
    },
    {
     "name": "stderr",
     "output_type": "stream",
     "text": [
      "\r",
      "  6%|███████████▉                                                                                                                                                                                     | 224/3632 [35:48<10:06:41, 10.68s/it]"
     ]
    },
    {
     "name": "stdout",
     "output_type": "stream",
     "text": [
      "https://www.moneydj.com/funddj/yl/yp013000.djhtm?a=t\n"
     ]
    },
    {
     "name": "stderr",
     "output_type": "stream",
     "text": [
      "\r",
      "  6%|████████████                                                                                                                                                                                      | 225/3632 [35:58<9:47:49, 10.35s/it]"
     ]
    },
    {
     "name": "stdout",
     "output_type": "stream",
     "text": [
      "https://www.moneydj.com/funddj/yl/yp013000.djhtm?a=t\n"
     ]
    },
    {
     "name": "stderr",
     "output_type": "stream",
     "text": [
      "\r",
      "  6%|████████████                                                                                                                                                                                      | 226/3632 [36:08<9:51:20, 10.42s/it]"
     ]
    },
    {
     "name": "stdout",
     "output_type": "stream",
     "text": [
      "https://www.moneydj.com/funddj/yl/yp013000.djhtm?a=t\n"
     ]
    },
    {
     "name": "stderr",
     "output_type": "stream",
     "text": [
      "\r",
      "  6%|████████████                                                                                                                                                                                     | 227/3632 [36:20<10:17:52, 10.89s/it]"
     ]
    },
    {
     "name": "stdout",
     "output_type": "stream",
     "text": [
      "https://www.moneydj.com/funddj/yl/yp013000.djhtm?a=t\n"
     ]
    },
    {
     "name": "stderr",
     "output_type": "stream",
     "text": [
      "\r",
      "  6%|████████████▏                                                                                                                                                                                     | 228/3632 [36:30<9:53:50, 10.47s/it]"
     ]
    },
    {
     "name": "stdout",
     "output_type": "stream",
     "text": [
      "https://www.moneydj.com/funddj/yl/yp013000.djhtm?a=t\n"
     ]
    },
    {
     "name": "stderr",
     "output_type": "stream",
     "text": [
      "\r",
      "  6%|████████████▏                                                                                                                                                                                     | 229/3632 [36:38<9:18:24,  9.85s/it]"
     ]
    },
    {
     "name": "stdout",
     "output_type": "stream",
     "text": [
      "https://www.moneydj.com/funddj/yl/yp013000.djhtm?a=t\n"
     ]
    },
    {
     "name": "stderr",
     "output_type": "stream",
     "text": [
      "\r",
      "  6%|████████████▎                                                                                                                                                                                     | 230/3632 [36:47<9:03:19,  9.58s/it]"
     ]
    },
    {
     "name": "stdout",
     "output_type": "stream",
     "text": [
      "https://www.moneydj.com/funddj/yl/yp013000.djhtm?a=t\n"
     ]
    },
    {
     "name": "stderr",
     "output_type": "stream",
     "text": [
      "\r",
      "  6%|████████████▎                                                                                                                                                                                     | 231/3632 [36:57<9:09:24,  9.69s/it]"
     ]
    },
    {
     "name": "stdout",
     "output_type": "stream",
     "text": [
      "https://www.moneydj.com/funddj/yl/yp013000.djhtm?a=t\n"
     ]
    },
    {
     "name": "stderr",
     "output_type": "stream",
     "text": [
      "\r",
      "  6%|████████████▍                                                                                                                                                                                     | 232/3632 [37:07<9:13:13,  9.76s/it]"
     ]
    },
    {
     "name": "stdout",
     "output_type": "stream",
     "text": [
      "https://www.moneydj.com/funddj/yl/yp013000.djhtm?a=t\n"
     ]
    },
    {
     "name": "stderr",
     "output_type": "stream",
     "text": [
      "\r",
      "  6%|████████████▍                                                                                                                                                                                     | 233/3632 [37:17<9:07:35,  9.67s/it]"
     ]
    },
    {
     "name": "stdout",
     "output_type": "stream",
     "text": [
      "https://www.moneydj.com/funddj/yl/yp013000.djhtm?a=t\n"
     ]
    },
    {
     "name": "stderr",
     "output_type": "stream",
     "text": [
      "\r",
      "  6%|████████████▍                                                                                                                                                                                     | 234/3632 [37:25<8:50:02,  9.36s/it]"
     ]
    },
    {
     "name": "stdout",
     "output_type": "stream",
     "text": [
      "https://www.moneydj.com/funddj/yl/yp013000.djhtm?a=t\n"
     ]
    },
    {
     "name": "stderr",
     "output_type": "stream",
     "text": [
      "\r",
      "  6%|████████████▌                                                                                                                                                                                     | 235/3632 [37:36<9:17:55,  9.85s/it]"
     ]
    },
    {
     "name": "stdout",
     "output_type": "stream",
     "text": [
      "https://www.moneydj.com/funddj/yl/yp013000.djhtm?a=t\n"
     ]
    },
    {
     "name": "stderr",
     "output_type": "stream",
     "text": [
      "\r",
      "  6%|████████████▌                                                                                                                                                                                     | 236/3632 [37:47<9:32:42, 10.12s/it]"
     ]
    },
    {
     "name": "stdout",
     "output_type": "stream",
     "text": [
      "https://www.moneydj.com/funddj/yl/yp013000.djhtm?a=t\n"
     ]
    },
    {
     "name": "stderr",
     "output_type": "stream",
     "text": [
      "\r",
      "  7%|████████████▋                                                                                                                                                                                     | 237/3632 [37:56<9:21:12,  9.92s/it]"
     ]
    },
    {
     "name": "stdout",
     "output_type": "stream",
     "text": [
      "https://www.moneydj.com/funddj/yl/yp013000.djhtm?a=t\n"
     ]
    },
    {
     "name": "stderr",
     "output_type": "stream",
     "text": [
      "\r",
      "  7%|████████████▋                                                                                                                                                                                     | 238/3632 [38:08<9:56:11, 10.54s/it]"
     ]
    },
    {
     "name": "stdout",
     "output_type": "stream",
     "text": [
      "https://www.moneydj.com/funddj/yl/yp013000.djhtm?a=t\n"
     ]
    },
    {
     "name": "stderr",
     "output_type": "stream",
     "text": [
      "\r",
      "  7%|████████████▋                                                                                                                                                                                    | 239/3632 [38:21<10:24:23, 11.04s/it]"
     ]
    },
    {
     "name": "stdout",
     "output_type": "stream",
     "text": [
      "https://www.moneydj.com/funddj/yl/yp013000.djhtm?a=t\n"
     ]
    },
    {
     "name": "stderr",
     "output_type": "stream",
     "text": [
      "\r",
      "  7%|████████████▊                                                                                                                                                                                    | 240/3632 [38:30<10:05:15, 10.71s/it]"
     ]
    },
    {
     "name": "stdout",
     "output_type": "stream",
     "text": [
      "https://www.moneydj.com/funddj/yl/yp013000.djhtm?a=t\n"
     ]
    },
    {
     "name": "stderr",
     "output_type": "stream",
     "text": [
      "\r",
      "  7%|████████████▊                                                                                                                                                                                    | 241/3632 [38:42<10:18:26, 10.94s/it]"
     ]
    },
    {
     "name": "stdout",
     "output_type": "stream",
     "text": [
      "https://www.moneydj.com/funddj/yl/yp013000.djhtm?a=t\n"
     ]
    },
    {
     "name": "stderr",
     "output_type": "stream",
     "text": [
      "\r",
      "  7%|████████████▉                                                                                                                                                                                     | 242/3632 [38:50<9:21:23,  9.94s/it]"
     ]
    },
    {
     "name": "stdout",
     "output_type": "stream",
     "text": [
      "https://www.moneydj.com/funddj/yl/yp013000.djhtm?a=t\n"
     ]
    },
    {
     "name": "stderr",
     "output_type": "stream",
     "text": [
      "\r",
      "  7%|████████████▉                                                                                                                                                                                     | 243/3632 [39:01<9:48:14, 10.41s/it]"
     ]
    },
    {
     "name": "stdout",
     "output_type": "stream",
     "text": [
      "https://www.moneydj.com/funddj/yl/yp013000.djhtm?a=t\n"
     ]
    },
    {
     "name": "stderr",
     "output_type": "stream",
     "text": [
      "\r",
      "  7%|█████████████                                                                                                                                                                                     | 244/3632 [39:10<9:23:18,  9.98s/it]"
     ]
    },
    {
     "name": "stdout",
     "output_type": "stream",
     "text": [
      "https://www.moneydj.com/funddj/yl/yp013000.djhtm?a=t\n"
     ]
    },
    {
     "name": "stderr",
     "output_type": "stream",
     "text": [
      "\r",
      "  7%|█████████████                                                                                                                                                                                     | 245/3632 [39:21<9:41:30, 10.30s/it]"
     ]
    },
    {
     "name": "stdout",
     "output_type": "stream",
     "text": [
      "https://www.moneydj.com/funddj/yl/yp013000.djhtm?a=t\n"
     ]
    },
    {
     "name": "stderr",
     "output_type": "stream",
     "text": [
      "\r",
      "  7%|█████████████▏                                                                                                                                                                                    | 246/3632 [39:30<9:19:14,  9.91s/it]"
     ]
    },
    {
     "name": "stdout",
     "output_type": "stream",
     "text": [
      "https://www.moneydj.com/funddj/yl/yp013000.djhtm?a=t\n"
     ]
    },
    {
     "name": "stderr",
     "output_type": "stream",
     "text": [
      "\r",
      "  7%|█████████████▏                                                                                                                                                                                    | 247/3632 [39:41<9:29:05, 10.09s/it]"
     ]
    },
    {
     "name": "stdout",
     "output_type": "stream",
     "text": [
      "https://www.moneydj.com/funddj/yl/yp013000.djhtm?a=t\n"
     ]
    },
    {
     "name": "stderr",
     "output_type": "stream",
     "text": [
      "\r",
      "  7%|█████████████▏                                                                                                                                                                                    | 248/3632 [39:50<9:09:27,  9.74s/it]"
     ]
    },
    {
     "name": "stdout",
     "output_type": "stream",
     "text": [
      "https://www.moneydj.com/funddj/yl/yp013000.djhtm?a=t\n"
     ]
    },
    {
     "name": "stderr",
     "output_type": "stream",
     "text": [
      "\r",
      "  7%|█████████████▎                                                                                                                                                                                    | 249/3632 [39:58<8:47:14,  9.35s/it]"
     ]
    },
    {
     "name": "stdout",
     "output_type": "stream",
     "text": [
      "https://www.moneydj.com/funddj/yl/yp013000.djhtm?a=t\n"
     ]
    },
    {
     "name": "stderr",
     "output_type": "stream",
     "text": [
      "\r",
      "  7%|█████████████▎                                                                                                                                                                                    | 250/3632 [40:08<8:57:55,  9.54s/it]"
     ]
    },
    {
     "name": "stdout",
     "output_type": "stream",
     "text": [
      "https://www.moneydj.com/funddj/yl/yp013000.djhtm?a=t\n"
     ]
    },
    {
     "name": "stderr",
     "output_type": "stream",
     "text": [
      "\r",
      "  7%|█████████████▍                                                                                                                                                                                    | 251/3632 [40:20<9:38:08, 10.26s/it]"
     ]
    },
    {
     "name": "stdout",
     "output_type": "stream",
     "text": [
      "https://www.moneydj.com/funddj/yl/yp013000.djhtm?a=t\n"
     ]
    },
    {
     "name": "stderr",
     "output_type": "stream",
     "text": [
      "\r",
      "  7%|█████████████▍                                                                                                                                                                                    | 252/3632 [40:29<9:25:00, 10.03s/it]"
     ]
    },
    {
     "name": "stdout",
     "output_type": "stream",
     "text": [
      "https://www.moneydj.com/funddj/yl/yp013000.djhtm?a=t\n"
     ]
    },
    {
     "name": "stderr",
     "output_type": "stream",
     "text": [
      "\r",
      "  7%|█████████████▌                                                                                                                                                                                    | 253/3632 [40:38<9:07:05,  9.71s/it]"
     ]
    },
    {
     "name": "stdout",
     "output_type": "stream",
     "text": [
      "https://www.moneydj.com/funddj/yl/yp013000.djhtm?a=t\n"
     ]
    },
    {
     "name": "stderr",
     "output_type": "stream",
     "text": [
      "\r",
      "  7%|█████████████▌                                                                                                                                                                                    | 254/3632 [40:48<8:58:22,  9.56s/it]"
     ]
    },
    {
     "name": "stdout",
     "output_type": "stream",
     "text": [
      "https://www.moneydj.com/funddj/yl/yp013000.djhtm?a=t\n"
     ]
    },
    {
     "name": "stderr",
     "output_type": "stream",
     "text": [
      "\r",
      "  7%|█████████████▌                                                                                                                                                                                    | 255/3632 [40:57<8:49:02,  9.40s/it]"
     ]
    },
    {
     "name": "stdout",
     "output_type": "stream",
     "text": [
      "https://www.moneydj.com/funddj/yl/yp013000.djhtm?a=t\n"
     ]
    },
    {
     "name": "stderr",
     "output_type": "stream",
     "text": [
      "\r",
      "  7%|█████████████▋                                                                                                                                                                                    | 256/3632 [41:07<9:00:01,  9.60s/it]"
     ]
    },
    {
     "name": "stdout",
     "output_type": "stream",
     "text": [
      "https://www.moneydj.com/funddj/yl/yp013000.djhtm?a=t\n"
     ]
    },
    {
     "name": "stderr",
     "output_type": "stream",
     "text": [
      "\r",
      "  7%|█████████████▋                                                                                                                                                                                    | 257/3632 [41:17<9:13:16,  9.84s/it]"
     ]
    },
    {
     "name": "stdout",
     "output_type": "stream",
     "text": [
      "https://www.moneydj.com/funddj/yl/yp013000.djhtm?a=t\n"
     ]
    },
    {
     "name": "stderr",
     "output_type": "stream",
     "text": [
      "\r",
      "  7%|█████████████▊                                                                                                                                                                                    | 258/3632 [41:29<9:53:26, 10.55s/it]"
     ]
    },
    {
     "name": "stdout",
     "output_type": "stream",
     "text": [
      "https://www.moneydj.com/funddj/yl/yp013000.djhtm?a=t\n"
     ]
    },
    {
     "name": "stderr",
     "output_type": "stream",
     "text": [
      "\r",
      "  7%|█████████████▊                                                                                                                                                                                    | 259/3632 [41:39<9:46:55, 10.44s/it]"
     ]
    },
    {
     "name": "stdout",
     "output_type": "stream",
     "text": [
      "https://www.moneydj.com/funddj/yl/yp013000.djhtm?a=t\n"
     ]
    },
    {
     "name": "stderr",
     "output_type": "stream",
     "text": [
      "\r",
      "  7%|█████████████▉                                                                                                                                                                                    | 260/3632 [41:48<9:17:07,  9.91s/it]"
     ]
    },
    {
     "name": "stdout",
     "output_type": "stream",
     "text": [
      "https://www.moneydj.com/funddj/yl/yp013000.djhtm?a=t\n"
     ]
    },
    {
     "name": "stderr",
     "output_type": "stream",
     "text": [
      "\r",
      "  7%|█████████████▉                                                                                                                                                                                    | 261/3632 [41:57<9:01:14,  9.63s/it]"
     ]
    },
    {
     "name": "stdout",
     "output_type": "stream",
     "text": [
      "https://www.moneydj.com/funddj/yl/yp013000.djhtm?a=t\n"
     ]
    },
    {
     "name": "stderr",
     "output_type": "stream",
     "text": [
      "\r",
      "  7%|█████████████▉                                                                                                                                                                                    | 262/3632 [42:07<9:01:42,  9.64s/it]"
     ]
    },
    {
     "name": "stdout",
     "output_type": "stream",
     "text": [
      "https://www.moneydj.com/funddj/yl/yp013000.djhtm?a=t\n"
     ]
    },
    {
     "name": "stderr",
     "output_type": "stream",
     "text": [
      "\r",
      "  7%|██████████████                                                                                                                                                                                    | 263/3632 [42:16<8:50:08,  9.44s/it]"
     ]
    },
    {
     "name": "stdout",
     "output_type": "stream",
     "text": [
      "https://www.moneydj.com/funddj/yl/yp013000.djhtm?a=t\n"
     ]
    },
    {
     "name": "stderr",
     "output_type": "stream",
     "text": [
      "\r",
      "  7%|██████████████                                                                                                                                                                                    | 264/3632 [42:26<9:07:31,  9.75s/it]"
     ]
    },
    {
     "name": "stdout",
     "output_type": "stream",
     "text": [
      "https://www.moneydj.com/funddj/yl/yp013000.djhtm?a=t\n"
     ]
    },
    {
     "name": "stderr",
     "output_type": "stream",
     "text": [
      "\r",
      "  7%|██████████████▏                                                                                                                                                                                   | 265/3632 [42:38<9:45:50, 10.44s/it]"
     ]
    },
    {
     "name": "stdout",
     "output_type": "stream",
     "text": [
      "https://www.moneydj.com/funddj/yl/yp013000.djhtm?a=t\n"
     ]
    },
    {
     "name": "stderr",
     "output_type": "stream",
     "text": [
      "\r",
      "  7%|██████████████▏                                                                                                                                                                                   | 266/3632 [42:48<9:25:11, 10.07s/it]"
     ]
    },
    {
     "name": "stdout",
     "output_type": "stream",
     "text": [
      "https://www.moneydj.com/funddj/yl/yp013000.djhtm?a=t\n"
     ]
    },
    {
     "name": "stderr",
     "output_type": "stream",
     "text": [
      "\r",
      "  7%|██████████████▎                                                                                                                                                                                   | 267/3632 [42:57<9:22:48, 10.04s/it]"
     ]
    },
    {
     "name": "stdout",
     "output_type": "stream",
     "text": [
      "https://www.moneydj.com/funddj/yl/yp013000.djhtm?a=t\n"
     ]
    },
    {
     "name": "stderr",
     "output_type": "stream",
     "text": [
      "\r",
      "  7%|██████████████▎                                                                                                                                                                                   | 268/3632 [43:09<9:41:50, 10.38s/it]"
     ]
    },
    {
     "name": "stdout",
     "output_type": "stream",
     "text": [
      "https://www.moneydj.com/funddj/yl/yp013000.djhtm?a=t\n"
     ]
    },
    {
     "name": "stderr",
     "output_type": "stream",
     "text": [
      "\r",
      "  7%|██████████████▎                                                                                                                                                                                   | 269/3632 [43:19<9:43:07, 10.40s/it]"
     ]
    },
    {
     "name": "stdout",
     "output_type": "stream",
     "text": [
      "https://www.moneydj.com/funddj/yl/yp013000.djhtm?a=t\n"
     ]
    },
    {
     "name": "stderr",
     "output_type": "stream",
     "text": [
      "\r",
      "  7%|██████████████▍                                                                                                                                                                                   | 270/3632 [43:29<9:35:00, 10.26s/it]"
     ]
    },
    {
     "name": "stdout",
     "output_type": "stream",
     "text": [
      "https://www.moneydj.com/funddj/yl/yp013000.djhtm?a=t\n"
     ]
    },
    {
     "name": "stderr",
     "output_type": "stream",
     "text": [
      "\r",
      "  7%|██████████████▍                                                                                                                                                                                   | 271/3632 [43:40<9:42:16, 10.39s/it]"
     ]
    },
    {
     "name": "stdout",
     "output_type": "stream",
     "text": [
      "https://www.moneydj.com/funddj/yl/yp013000.djhtm?a=t\n"
     ]
    },
    {
     "name": "stderr",
     "output_type": "stream",
     "text": [
      "\r",
      "  7%|██████████████▌                                                                                                                                                                                   | 272/3632 [43:50<9:47:24, 10.49s/it]"
     ]
    },
    {
     "name": "stdout",
     "output_type": "stream",
     "text": [
      "https://www.moneydj.com/funddj/yl/yp013000.djhtm?a=t\n"
     ]
    },
    {
     "name": "stderr",
     "output_type": "stream",
     "text": [
      "\r",
      "  8%|██████████████▌                                                                                                                                                                                  | 273/3632 [44:02<10:11:43, 10.93s/it]"
     ]
    },
    {
     "name": "stdout",
     "output_type": "stream",
     "text": [
      "https://www.moneydj.com/funddj/yl/yp013000.djhtm?a=t\n"
     ]
    },
    {
     "name": "stderr",
     "output_type": "stream",
     "text": [
      "\r",
      "  8%|██████████████▋                                                                                                                                                                                   | 274/3632 [44:11<9:32:36, 10.23s/it]"
     ]
    },
    {
     "name": "stdout",
     "output_type": "stream",
     "text": [
      "https://www.moneydj.com/funddj/yl/yp013000.djhtm?a=t\n"
     ]
    },
    {
     "name": "stderr",
     "output_type": "stream",
     "text": [
      "\r",
      "  8%|██████████████▋                                                                                                                                                                                   | 275/3632 [44:20<9:11:26,  9.86s/it]"
     ]
    },
    {
     "name": "stdout",
     "output_type": "stream",
     "text": [
      "https://www.moneydj.com/funddj/yl/yp013000.djhtm?a=t\n"
     ]
    },
    {
     "name": "stderr",
     "output_type": "stream",
     "text": [
      "\r",
      "  8%|██████████████▋                                                                                                                                                                                   | 276/3632 [44:29<8:58:09,  9.62s/it]"
     ]
    },
    {
     "name": "stdout",
     "output_type": "stream",
     "text": [
      "https://www.moneydj.com/funddj/yl/yp013000.djhtm?a=t\n"
     ]
    },
    {
     "name": "stderr",
     "output_type": "stream",
     "text": [
      "\r",
      "  8%|██████████████▊                                                                                                                                                                                   | 277/3632 [44:38<8:43:05,  9.35s/it]"
     ]
    },
    {
     "name": "stdout",
     "output_type": "stream",
     "text": [
      "https://www.moneydj.com/funddj/yl/yp013000.djhtm?a=t\n"
     ]
    },
    {
     "name": "stderr",
     "output_type": "stream",
     "text": [
      "\r",
      "  8%|██████████████▊                                                                                                                                                                                   | 278/3632 [44:49<9:09:17,  9.83s/it]"
     ]
    },
    {
     "name": "stdout",
     "output_type": "stream",
     "text": [
      "https://www.moneydj.com/funddj/yl/yp013000.djhtm?a=t\n"
     ]
    },
    {
     "name": "stderr",
     "output_type": "stream",
     "text": [
      "\r",
      "  8%|██████████████▉                                                                                                                                                                                   | 279/3632 [44:59<9:12:20,  9.88s/it]"
     ]
    },
    {
     "name": "stdout",
     "output_type": "stream",
     "text": [
      "https://www.moneydj.com/funddj/yl/yp013000.djhtm?a=t\n"
     ]
    },
    {
     "name": "stderr",
     "output_type": "stream",
     "text": [
      "\r",
      "  8%|██████████████▉                                                                                                                                                                                   | 280/3632 [45:08<9:06:31,  9.78s/it]"
     ]
    },
    {
     "name": "stdout",
     "output_type": "stream",
     "text": [
      "https://www.moneydj.com/funddj/yl/yp013000.djhtm?a=t\n"
     ]
    },
    {
     "name": "stderr",
     "output_type": "stream",
     "text": [
      "\r",
      "  8%|███████████████                                                                                                                                                                                   | 281/3632 [45:16<8:39:03,  9.29s/it]"
     ]
    },
    {
     "name": "stdout",
     "output_type": "stream",
     "text": [
      "https://www.moneydj.com/funddj/yl/yp013000.djhtm?a=t\n"
     ]
    },
    {
     "name": "stderr",
     "output_type": "stream",
     "text": [
      "\r",
      "  8%|███████████████                                                                                                                                                                                   | 282/3632 [45:27<8:52:06,  9.53s/it]"
     ]
    },
    {
     "name": "stdout",
     "output_type": "stream",
     "text": [
      "https://www.moneydj.com/funddj/yl/yp013000.djhtm?a=t\n"
     ]
    },
    {
     "name": "stderr",
     "output_type": "stream",
     "text": [
      "\r",
      "  8%|███████████████                                                                                                                                                                                   | 283/3632 [45:36<8:53:29,  9.56s/it]"
     ]
    },
    {
     "name": "stdout",
     "output_type": "stream",
     "text": [
      "https://www.moneydj.com/funddj/yl/yp013000.djhtm?a=t\n"
     ]
    },
    {
     "name": "stderr",
     "output_type": "stream",
     "text": [
      "\r",
      "  8%|███████████████▏                                                                                                                                                                                  | 284/3632 [45:45<8:42:48,  9.37s/it]"
     ]
    },
    {
     "name": "stdout",
     "output_type": "stream",
     "text": [
      "https://www.moneydj.com/funddj/yl/yp013000.djhtm?a=t\n"
     ]
    },
    {
     "name": "stderr",
     "output_type": "stream",
     "text": [
      "\r",
      "  8%|███████████████▏                                                                                                                                                                                  | 285/3632 [45:53<8:18:06,  8.93s/it]"
     ]
    },
    {
     "name": "stdout",
     "output_type": "stream",
     "text": [
      "https://www.moneydj.com/funddj/yl/yp013000.djhtm?a=t\n"
     ]
    },
    {
     "name": "stderr",
     "output_type": "stream",
     "text": [
      "\r",
      "  8%|███████████████▎                                                                                                                                                                                  | 286/3632 [46:03<8:43:17,  9.38s/it]"
     ]
    },
    {
     "name": "stdout",
     "output_type": "stream",
     "text": [
      "https://www.moneydj.com/funddj/yl/yp013000.djhtm?a=t\n"
     ]
    },
    {
     "name": "stderr",
     "output_type": "stream",
     "text": [
      "\r",
      "  8%|███████████████▎                                                                                                                                                                                  | 287/3632 [46:14<9:01:14,  9.71s/it]"
     ]
    },
    {
     "name": "stdout",
     "output_type": "stream",
     "text": [
      "https://www.moneydj.com/funddj/yl/yp013000.djhtm?a=t\n"
     ]
    },
    {
     "name": "stderr",
     "output_type": "stream",
     "text": [
      "\r",
      "  8%|███████████████▍                                                                                                                                                                                  | 288/3632 [46:23<8:57:12,  9.64s/it]"
     ]
    },
    {
     "name": "stdout",
     "output_type": "stream",
     "text": [
      "https://www.moneydj.com/funddj/yl/yp013000.djhtm?a=t\n"
     ]
    },
    {
     "name": "stderr",
     "output_type": "stream",
     "text": [
      "\r",
      "  8%|███████████████▍                                                                                                                                                                                  | 289/3632 [46:34<9:18:49, 10.03s/it]"
     ]
    },
    {
     "name": "stdout",
     "output_type": "stream",
     "text": [
      "https://www.moneydj.com/funddj/yl/yp013000.djhtm?a=t\n"
     ]
    },
    {
     "name": "stderr",
     "output_type": "stream",
     "text": [
      "\r",
      "  8%|███████████████▍                                                                                                                                                                                  | 290/3632 [46:43<8:59:20,  9.68s/it]"
     ]
    },
    {
     "name": "stdout",
     "output_type": "stream",
     "text": [
      "https://www.moneydj.com/funddj/yl/yp013000.djhtm?a=t\n"
     ]
    },
    {
     "name": "stderr",
     "output_type": "stream",
     "text": [
      "\r",
      "  8%|███████████████▌                                                                                                                                                                                  | 291/3632 [46:54<9:20:32, 10.07s/it]"
     ]
    },
    {
     "name": "stdout",
     "output_type": "stream",
     "text": [
      "https://www.moneydj.com/funddj/yl/yp013000.djhtm?a=t\n"
     ]
    },
    {
     "name": "stderr",
     "output_type": "stream",
     "text": [
      "\r",
      "  8%|███████████████▌                                                                                                                                                                                  | 292/3632 [47:03<9:00:09,  9.70s/it]"
     ]
    },
    {
     "name": "stdout",
     "output_type": "stream",
     "text": [
      "https://www.moneydj.com/funddj/yl/yp013000.djhtm?a=t\n"
     ]
    },
    {
     "name": "stderr",
     "output_type": "stream",
     "text": [
      "\r",
      "  8%|███████████████▋                                                                                                                                                                                  | 293/3632 [47:12<8:47:17,  9.48s/it]"
     ]
    },
    {
     "name": "stdout",
     "output_type": "stream",
     "text": [
      "https://www.moneydj.com/funddj/yl/yp013000.djhtm?a=t\n"
     ]
    },
    {
     "name": "stderr",
     "output_type": "stream",
     "text": [
      "\r",
      "  8%|███████████████▋                                                                                                                                                                                  | 294/3632 [47:22<9:04:52,  9.79s/it]"
     ]
    },
    {
     "name": "stdout",
     "output_type": "stream",
     "text": [
      "https://www.moneydj.com/funddj/yl/yp013000.djhtm?a=t\n"
     ]
    },
    {
     "name": "stderr",
     "output_type": "stream",
     "text": [
      "\r",
      "  8%|███████████████▊                                                                                                                                                                                  | 295/3632 [47:31<8:44:47,  9.44s/it]"
     ]
    },
    {
     "name": "stdout",
     "output_type": "stream",
     "text": [
      "https://www.moneydj.com/funddj/yl/yp013000.djhtm?a=t\n"
     ]
    },
    {
     "name": "stderr",
     "output_type": "stream",
     "text": [
      "\r",
      "  8%|███████████████▊                                                                                                                                                                                  | 296/3632 [47:40<8:28:04,  9.14s/it]"
     ]
    },
    {
     "name": "stdout",
     "output_type": "stream",
     "text": [
      "https://www.moneydj.com/funddj/yl/yp013000.djhtm?a=t\n"
     ]
    },
    {
     "name": "stderr",
     "output_type": "stream",
     "text": [
      "\r",
      "  8%|███████████████▊                                                                                                                                                                                  | 297/3632 [47:49<8:35:36,  9.28s/it]"
     ]
    },
    {
     "name": "stdout",
     "output_type": "stream",
     "text": [
      "https://www.moneydj.com/funddj/yl/yp013000.djhtm?a=t\n"
     ]
    },
    {
     "name": "stderr",
     "output_type": "stream",
     "text": [
      "\r",
      "  8%|███████████████▉                                                                                                                                                                                  | 298/3632 [47:58<8:24:30,  9.08s/it]"
     ]
    },
    {
     "name": "stdout",
     "output_type": "stream",
     "text": [
      "https://www.moneydj.com/funddj/yl/yp013000.djhtm?a=t\n"
     ]
    },
    {
     "name": "stderr",
     "output_type": "stream",
     "text": [
      "\r",
      "  8%|███████████████▉                                                                                                                                                                                  | 299/3632 [48:08<8:47:52,  9.50s/it]"
     ]
    },
    {
     "name": "stdout",
     "output_type": "stream",
     "text": [
      "https://www.moneydj.com/funddj/yl/yp013000.djhtm?a=t\n"
     ]
    },
    {
     "name": "stderr",
     "output_type": "stream",
     "text": [
      "\r",
      "  8%|████████████████                                                                                                                                                                                  | 300/3632 [48:16<8:21:15,  9.03s/it]"
     ]
    },
    {
     "name": "stdout",
     "output_type": "stream",
     "text": [
      "https://www.moneydj.com/funddj/yl/yp013000.djhtm?a=t\n"
     ]
    },
    {
     "name": "stderr",
     "output_type": "stream",
     "text": [
      "\r",
      "  8%|████████████████                                                                                                                                                                                  | 301/3632 [48:25<8:12:29,  8.87s/it]"
     ]
    },
    {
     "name": "stdout",
     "output_type": "stream",
     "text": [
      "https://www.moneydj.com/funddj/yl/yp013000.djhtm?a=t\n"
     ]
    },
    {
     "name": "stderr",
     "output_type": "stream",
     "text": [
      "\r",
      "  8%|████████████████▏                                                                                                                                                                                 | 302/3632 [48:34<8:14:25,  8.91s/it]"
     ]
    },
    {
     "name": "stdout",
     "output_type": "stream",
     "text": [
      "https://www.moneydj.com/funddj/yl/yp013000.djhtm?a=t\n"
     ]
    },
    {
     "name": "stderr",
     "output_type": "stream",
     "text": [
      "\r",
      "  8%|████████████████▏                                                                                                                                                                                 | 303/3632 [48:45<8:48:42,  9.53s/it]"
     ]
    },
    {
     "name": "stdout",
     "output_type": "stream",
     "text": [
      "https://www.moneydj.com/funddj/yl/yp013000.djhtm?a=t\n"
     ]
    },
    {
     "name": "stderr",
     "output_type": "stream",
     "text": [
      "\r",
      "  8%|████████████████▏                                                                                                                                                                                 | 304/3632 [48:56<9:13:17,  9.98s/it]"
     ]
    },
    {
     "name": "stdout",
     "output_type": "stream",
     "text": [
      "https://www.moneydj.com/funddj/yl/yp013000.djhtm?a=t\n"
     ]
    },
    {
     "name": "stderr",
     "output_type": "stream",
     "text": [
      "\r",
      "  8%|████████████████▎                                                                                                                                                                                 | 305/3632 [49:06<9:13:06,  9.98s/it]"
     ]
    },
    {
     "name": "stdout",
     "output_type": "stream",
     "text": [
      "https://www.moneydj.com/funddj/yl/yp013000.djhtm?a=t\n"
     ]
    },
    {
     "name": "stderr",
     "output_type": "stream",
     "text": [
      "\r",
      "  8%|████████████████▎                                                                                                                                                                                 | 306/3632 [49:16<9:26:06, 10.21s/it]"
     ]
    },
    {
     "name": "stdout",
     "output_type": "stream",
     "text": [
      "https://www.moneydj.com/funddj/yl/yp013000.djhtm?a=t\n"
     ]
    },
    {
     "name": "stderr",
     "output_type": "stream",
     "text": [
      "\r",
      "  8%|████████████████▍                                                                                                                                                                                 | 307/3632 [49:26<9:07:56,  9.89s/it]"
     ]
    },
    {
     "name": "stdout",
     "output_type": "stream",
     "text": [
      "https://www.moneydj.com/funddj/yl/yp013000.djhtm?a=t\n"
     ]
    },
    {
     "name": "stderr",
     "output_type": "stream",
     "text": [
      "\r",
      "  8%|████████████████▍                                                                                                                                                                                 | 308/3632 [49:35<8:59:49,  9.74s/it]"
     ]
    },
    {
     "name": "stdout",
     "output_type": "stream",
     "text": [
      "https://www.moneydj.com/funddj/yl/yp013000.djhtm?a=t\n"
     ]
    },
    {
     "name": "stderr",
     "output_type": "stream",
     "text": [
      "\r",
      "  9%|████████████████▌                                                                                                                                                                                 | 309/3632 [49:46<9:21:43, 10.14s/it]"
     ]
    },
    {
     "name": "stdout",
     "output_type": "stream",
     "text": [
      "https://www.moneydj.com/funddj/yl/yp013000.djhtm?a=t\n"
     ]
    },
    {
     "name": "stderr",
     "output_type": "stream",
     "text": [
      "\r",
      "  9%|████████████████▌                                                                                                                                                                                 | 310/3632 [49:56<9:20:15, 10.12s/it]"
     ]
    },
    {
     "name": "stdout",
     "output_type": "stream",
     "text": [
      "https://www.moneydj.com/funddj/yl/yp013000.djhtm?a=t\n"
     ]
    },
    {
     "name": "stderr",
     "output_type": "stream",
     "text": [
      "\r",
      "  9%|████████████████▌                                                                                                                                                                                 | 311/3632 [50:06<9:17:17, 10.07s/it]"
     ]
    },
    {
     "name": "stdout",
     "output_type": "stream",
     "text": [
      "https://www.moneydj.com/funddj/yl/yp013000.djhtm?a=t\n"
     ]
    },
    {
     "name": "stderr",
     "output_type": "stream",
     "text": [
      "\r",
      "  9%|████████████████▋                                                                                                                                                                                 | 312/3632 [50:17<9:39:44, 10.48s/it]"
     ]
    },
    {
     "name": "stdout",
     "output_type": "stream",
     "text": [
      "https://www.moneydj.com/funddj/yl/yp013000.djhtm?a=t\n"
     ]
    },
    {
     "name": "stderr",
     "output_type": "stream",
     "text": [
      "\r",
      "  9%|████████████████▋                                                                                                                                                                                 | 313/3632 [50:28<9:47:05, 10.61s/it]"
     ]
    },
    {
     "name": "stdout",
     "output_type": "stream",
     "text": [
      "https://www.moneydj.com/funddj/yl/yp013000.djhtm?a=t\n"
     ]
    },
    {
     "name": "stderr",
     "output_type": "stream",
     "text": [
      "\r",
      "  9%|████████████████▊                                                                                                                                                                                 | 314/3632 [50:38<9:36:54, 10.43s/it]"
     ]
    },
    {
     "name": "stdout",
     "output_type": "stream",
     "text": [
      "https://www.moneydj.com/funddj/yl/yp013000.djhtm?a=t\n"
     ]
    },
    {
     "name": "stderr",
     "output_type": "stream",
     "text": [
      "\r",
      "  9%|████████████████▋                                                                                                                                                                                | 315/3632 [50:50<10:03:48, 10.92s/it]"
     ]
    },
    {
     "name": "stdout",
     "output_type": "stream",
     "text": [
      "https://www.moneydj.com/funddj/yl/yp013000.djhtm?a=t\n"
     ]
    },
    {
     "name": "stderr",
     "output_type": "stream",
     "text": [
      "\r",
      "  9%|████████████████▉                                                                                                                                                                                 | 316/3632 [51:00<9:39:14, 10.48s/it]"
     ]
    },
    {
     "name": "stdout",
     "output_type": "stream",
     "text": [
      "https://www.moneydj.com/funddj/yl/yp013000.djhtm?a=t\n"
     ]
    },
    {
     "name": "stderr",
     "output_type": "stream",
     "text": [
      "\r",
      "  9%|████████████████▉                                                                                                                                                                                 | 317/3632 [51:08<9:05:33,  9.87s/it]"
     ]
    },
    {
     "name": "stdout",
     "output_type": "stream",
     "text": [
      "https://www.moneydj.com/funddj/yl/yp013000.djhtm?a=t\n"
     ]
    },
    {
     "name": "stderr",
     "output_type": "stream",
     "text": [
      "\r",
      "  9%|████████████████▉                                                                                                                                                                                 | 318/3632 [51:17<8:50:34,  9.61s/it]"
     ]
    },
    {
     "name": "stdout",
     "output_type": "stream",
     "text": [
      "https://www.moneydj.com/funddj/yl/yp013000.djhtm?a=t\n"
     ]
    },
    {
     "name": "stderr",
     "output_type": "stream",
     "text": [
      "\r",
      "  9%|█████████████████                                                                                                                                                                                 | 319/3632 [51:27<8:51:51,  9.63s/it]"
     ]
    },
    {
     "name": "stdout",
     "output_type": "stream",
     "text": [
      "https://www.moneydj.com/funddj/yl/yp013000.djhtm?a=t\n"
     ]
    },
    {
     "name": "stderr",
     "output_type": "stream",
     "text": [
      "\r",
      "  9%|█████████████████                                                                                                                                                                                 | 320/3632 [51:36<8:43:36,  9.49s/it]"
     ]
    },
    {
     "name": "stdout",
     "output_type": "stream",
     "text": [
      "https://www.moneydj.com/funddj/yl/yp013000.djhtm?a=t\n"
     ]
    },
    {
     "name": "stderr",
     "output_type": "stream",
     "text": [
      "\r",
      "  9%|█████████████████▏                                                                                                                                                                                | 321/3632 [51:46<8:54:04,  9.68s/it]"
     ]
    },
    {
     "name": "stdout",
     "output_type": "stream",
     "text": [
      "https://www.moneydj.com/funddj/yl/yp013000.djhtm?a=t\n"
     ]
    },
    {
     "name": "stderr",
     "output_type": "stream",
     "text": [
      "\r",
      "  9%|█████████████████▏                                                                                                                                                                                | 322/3632 [51:55<8:34:45,  9.33s/it]"
     ]
    },
    {
     "name": "stdout",
     "output_type": "stream",
     "text": [
      "https://www.moneydj.com/funddj/yl/yp013000.djhtm?a=t\n"
     ]
    },
    {
     "name": "stderr",
     "output_type": "stream",
     "text": [
      "\r",
      "  9%|█████████████████▎                                                                                                                                                                                | 323/3632 [52:04<8:28:39,  9.22s/it]"
     ]
    },
    {
     "name": "stdout",
     "output_type": "stream",
     "text": [
      "https://www.moneydj.com/funddj/yl/yp013000.djhtm?a=t\n"
     ]
    },
    {
     "name": "stderr",
     "output_type": "stream",
     "text": [
      "\r",
      "  9%|█████████████████▎                                                                                                                                                                                | 324/3632 [52:15<9:04:57,  9.88s/it]"
     ]
    },
    {
     "name": "stdout",
     "output_type": "stream",
     "text": [
      "https://www.moneydj.com/funddj/yl/yp013000.djhtm?a=t\n"
     ]
    },
    {
     "name": "stderr",
     "output_type": "stream",
     "text": [
      "\r",
      "  9%|█████████████████▎                                                                                                                                                                                | 325/3632 [52:23<8:34:08,  9.33s/it]"
     ]
    },
    {
     "name": "stdout",
     "output_type": "stream",
     "text": [
      "https://www.moneydj.com/funddj/yl/yp013000.djhtm?a=t\n"
     ]
    },
    {
     "name": "stderr",
     "output_type": "stream",
     "text": [
      "\r",
      "  9%|█████████████████▍                                                                                                                                                                                | 326/3632 [52:33<8:38:39,  9.41s/it]"
     ]
    },
    {
     "name": "stdout",
     "output_type": "stream",
     "text": [
      "https://www.moneydj.com/funddj/yl/yp013000.djhtm?a=t\n"
     ]
    },
    {
     "name": "stderr",
     "output_type": "stream",
     "text": [
      "\r",
      "  9%|█████████████████▍                                                                                                                                                                                | 327/3632 [52:43<8:49:01,  9.60s/it]"
     ]
    },
    {
     "name": "stdout",
     "output_type": "stream",
     "text": [
      "https://www.moneydj.com/funddj/yl/yp013000.djhtm?a=t\n"
     ]
    },
    {
     "name": "stderr",
     "output_type": "stream",
     "text": [
      "\r",
      "  9%|█████████████████▌                                                                                                                                                                                | 328/3632 [52:53<9:03:00,  9.86s/it]"
     ]
    },
    {
     "name": "stdout",
     "output_type": "stream",
     "text": [
      "https://www.moneydj.com/funddj/yl/yp013000.djhtm?a=t\n"
     ]
    },
    {
     "name": "stderr",
     "output_type": "stream",
     "text": [
      "\r",
      "  9%|█████████████████▌                                                                                                                                                                                | 329/3632 [53:02<8:39:41,  9.44s/it]"
     ]
    },
    {
     "name": "stdout",
     "output_type": "stream",
     "text": [
      "https://www.moneydj.com/funddj/yl/yp013000.djhtm?a=t\n"
     ]
    },
    {
     "name": "stderr",
     "output_type": "stream",
     "text": [
      "\r",
      "  9%|█████████████████▋                                                                                                                                                                                | 330/3632 [53:09<8:07:27,  8.86s/it]"
     ]
    },
    {
     "name": "stdout",
     "output_type": "stream",
     "text": [
      "https://www.moneydj.com/funddj/yl/yp013000.djhtm?a=t\n"
     ]
    },
    {
     "name": "stderr",
     "output_type": "stream",
     "text": [
      "\r",
      "  9%|█████████████████▋                                                                                                                                                                                | 331/3632 [53:20<8:41:16,  9.47s/it]"
     ]
    },
    {
     "name": "stdout",
     "output_type": "stream",
     "text": [
      "https://www.moneydj.com/funddj/yl/yp013000.djhtm?a=t\n"
     ]
    },
    {
     "name": "stderr",
     "output_type": "stream",
     "text": [
      "\r",
      "  9%|█████████████████▋                                                                                                                                                                                | 332/3632 [53:31<9:05:47,  9.92s/it]"
     ]
    },
    {
     "name": "stdout",
     "output_type": "stream",
     "text": [
      "https://www.moneydj.com/funddj/yl/yp013000.djhtm?a=t\n"
     ]
    },
    {
     "name": "stderr",
     "output_type": "stream",
     "text": [
      "\r",
      "  9%|█████████████████▊                                                                                                                                                                                | 333/3632 [53:40<8:49:20,  9.63s/it]"
     ]
    },
    {
     "name": "stdout",
     "output_type": "stream",
     "text": [
      "https://www.moneydj.com/funddj/yl/yp013000.djhtm?a=t\n"
     ]
    },
    {
     "name": "stderr",
     "output_type": "stream",
     "text": [
      "\r",
      "  9%|█████████████████▊                                                                                                                                                                                | 334/3632 [53:51<9:09:42, 10.00s/it]"
     ]
    },
    {
     "name": "stdout",
     "output_type": "stream",
     "text": [
      "https://www.moneydj.com/funddj/yl/yp013000.djhtm?a=t\n"
     ]
    },
    {
     "name": "stderr",
     "output_type": "stream",
     "text": [
      "\r",
      "  9%|█████████████████▉                                                                                                                                                                                | 335/3632 [54:03<9:35:37, 10.48s/it]"
     ]
    },
    {
     "name": "stdout",
     "output_type": "stream",
     "text": [
      "https://www.moneydj.com/funddj/yl/yp013000.djhtm?a=t\n"
     ]
    },
    {
     "name": "stderr",
     "output_type": "stream",
     "text": [
      "\r",
      "  9%|█████████████████▉                                                                                                                                                                                | 336/3632 [54:13<9:28:19, 10.35s/it]"
     ]
    },
    {
     "name": "stdout",
     "output_type": "stream",
     "text": [
      "https://www.moneydj.com/funddj/yl/yp013000.djhtm?a=t\n"
     ]
    },
    {
     "name": "stderr",
     "output_type": "stream",
     "text": [
      "\r",
      "  9%|██████████████████                                                                                                                                                                                | 337/3632 [54:22<9:13:39, 10.08s/it]"
     ]
    },
    {
     "name": "stdout",
     "output_type": "stream",
     "text": [
      "https://www.moneydj.com/funddj/yl/yp013000.djhtm?a=t\n"
     ]
    },
    {
     "name": "stderr",
     "output_type": "stream",
     "text": [
      "\r",
      "  9%|██████████████████                                                                                                                                                                                | 338/3632 [54:32<9:03:31,  9.90s/it]"
     ]
    },
    {
     "name": "stdout",
     "output_type": "stream",
     "text": [
      "https://www.moneydj.com/funddj/yl/yp013000.djhtm?a=t\n"
     ]
    },
    {
     "name": "stderr",
     "output_type": "stream",
     "text": [
      "  9%|██████████████████                                                                                                                                                                                | 339/3632 [54:40<8:51:10,  9.68s/it]\n"
     ]
    },
    {
     "ename": "KeyboardInterrupt",
     "evalue": "",
     "output_type": "error",
     "traceback": [
      "\u001b[1;31m---------------------------------------------------------------------------\u001b[0m",
      "\u001b[1;31mKeyboardInterrupt\u001b[0m                         Traceback (most recent call last)",
      "\u001b[1;32m<ipython-input-126-10283d29d14f>\u001b[0m in \u001b[0;36m<module>\u001b[1;34m\u001b[0m\n\u001b[0;32m     36\u001b[0m \u001b[1;33m\u001b[0m\u001b[0m\n\u001b[0;32m     37\u001b[0m     \u001b[0mfund_url\u001b[0m \u001b[1;33m=\u001b[0m \u001b[1;34mf'https://www.moneydj.com/funddj/yl/yp013000.djhtm?a={fund_id}'\u001b[0m\u001b[1;33m\u001b[0m\u001b[1;33m\u001b[0m\u001b[0m\n\u001b[1;32m---> 38\u001b[1;33m     \u001b[0mdriver\u001b[0m\u001b[1;33m.\u001b[0m\u001b[0mget\u001b[0m\u001b[1;33m(\u001b[0m\u001b[0mfund_url\u001b[0m\u001b[1;33m)\u001b[0m\u001b[1;33m\u001b[0m\u001b[1;33m\u001b[0m\u001b[0m\n\u001b[0m\u001b[0;32m     39\u001b[0m     \u001b[1;32mtry\u001b[0m\u001b[1;33m:\u001b[0m\u001b[1;33m\u001b[0m\u001b[1;33m\u001b[0m\u001b[0m\n\u001b[0;32m     40\u001b[0m         ratio_content = WebDriverWait(driver, 3).until(\n",
      "\u001b[1;32mC:\\ProgramData\\Anaconda3\\envs\\tensorflow_gpu2.1.0\\lib\\site-packages\\selenium\\webdriver\\remote\\webdriver.py\u001b[0m in \u001b[0;36mget\u001b[1;34m(self, url)\u001b[0m\n\u001b[0;32m    331\u001b[0m         \u001b[0mLoads\u001b[0m \u001b[0ma\u001b[0m \u001b[0mweb\u001b[0m \u001b[0mpage\u001b[0m \u001b[1;32min\u001b[0m \u001b[0mthe\u001b[0m \u001b[0mcurrent\u001b[0m \u001b[0mbrowser\u001b[0m \u001b[0msession\u001b[0m\u001b[1;33m.\u001b[0m\u001b[1;33m\u001b[0m\u001b[1;33m\u001b[0m\u001b[0m\n\u001b[0;32m    332\u001b[0m         \"\"\"\n\u001b[1;32m--> 333\u001b[1;33m         \u001b[0mself\u001b[0m\u001b[1;33m.\u001b[0m\u001b[0mexecute\u001b[0m\u001b[1;33m(\u001b[0m\u001b[0mCommand\u001b[0m\u001b[1;33m.\u001b[0m\u001b[0mGET\u001b[0m\u001b[1;33m,\u001b[0m \u001b[1;33m{\u001b[0m\u001b[1;34m'url'\u001b[0m\u001b[1;33m:\u001b[0m \u001b[0murl\u001b[0m\u001b[1;33m}\u001b[0m\u001b[1;33m)\u001b[0m\u001b[1;33m\u001b[0m\u001b[1;33m\u001b[0m\u001b[0m\n\u001b[0m\u001b[0;32m    334\u001b[0m \u001b[1;33m\u001b[0m\u001b[0m\n\u001b[0;32m    335\u001b[0m     \u001b[1;33m@\u001b[0m\u001b[0mproperty\u001b[0m\u001b[1;33m\u001b[0m\u001b[1;33m\u001b[0m\u001b[0m\n",
      "\u001b[1;32mC:\\ProgramData\\Anaconda3\\envs\\tensorflow_gpu2.1.0\\lib\\site-packages\\selenium\\webdriver\\remote\\webdriver.py\u001b[0m in \u001b[0;36mexecute\u001b[1;34m(self, driver_command, params)\u001b[0m\n\u001b[0;32m    317\u001b[0m \u001b[1;33m\u001b[0m\u001b[0m\n\u001b[0;32m    318\u001b[0m         \u001b[0mparams\u001b[0m \u001b[1;33m=\u001b[0m \u001b[0mself\u001b[0m\u001b[1;33m.\u001b[0m\u001b[0m_wrap_value\u001b[0m\u001b[1;33m(\u001b[0m\u001b[0mparams\u001b[0m\u001b[1;33m)\u001b[0m\u001b[1;33m\u001b[0m\u001b[1;33m\u001b[0m\u001b[0m\n\u001b[1;32m--> 319\u001b[1;33m         \u001b[0mresponse\u001b[0m \u001b[1;33m=\u001b[0m \u001b[0mself\u001b[0m\u001b[1;33m.\u001b[0m\u001b[0mcommand_executor\u001b[0m\u001b[1;33m.\u001b[0m\u001b[0mexecute\u001b[0m\u001b[1;33m(\u001b[0m\u001b[0mdriver_command\u001b[0m\u001b[1;33m,\u001b[0m \u001b[0mparams\u001b[0m\u001b[1;33m)\u001b[0m\u001b[1;33m\u001b[0m\u001b[1;33m\u001b[0m\u001b[0m\n\u001b[0m\u001b[0;32m    320\u001b[0m         \u001b[1;32mif\u001b[0m \u001b[0mresponse\u001b[0m\u001b[1;33m:\u001b[0m\u001b[1;33m\u001b[0m\u001b[1;33m\u001b[0m\u001b[0m\n\u001b[0;32m    321\u001b[0m             \u001b[0mself\u001b[0m\u001b[1;33m.\u001b[0m\u001b[0merror_handler\u001b[0m\u001b[1;33m.\u001b[0m\u001b[0mcheck_response\u001b[0m\u001b[1;33m(\u001b[0m\u001b[0mresponse\u001b[0m\u001b[1;33m)\u001b[0m\u001b[1;33m\u001b[0m\u001b[1;33m\u001b[0m\u001b[0m\n",
      "\u001b[1;32mC:\\ProgramData\\Anaconda3\\envs\\tensorflow_gpu2.1.0\\lib\\site-packages\\selenium\\webdriver\\remote\\remote_connection.py\u001b[0m in \u001b[0;36mexecute\u001b[1;34m(self, command, params)\u001b[0m\n\u001b[0;32m    372\u001b[0m         \u001b[0mdata\u001b[0m \u001b[1;33m=\u001b[0m \u001b[0mutils\u001b[0m\u001b[1;33m.\u001b[0m\u001b[0mdump_json\u001b[0m\u001b[1;33m(\u001b[0m\u001b[0mparams\u001b[0m\u001b[1;33m)\u001b[0m\u001b[1;33m\u001b[0m\u001b[1;33m\u001b[0m\u001b[0m\n\u001b[0;32m    373\u001b[0m         \u001b[0murl\u001b[0m \u001b[1;33m=\u001b[0m \u001b[1;34m'%s%s'\u001b[0m \u001b[1;33m%\u001b[0m \u001b[1;33m(\u001b[0m\u001b[0mself\u001b[0m\u001b[1;33m.\u001b[0m\u001b[0m_url\u001b[0m\u001b[1;33m,\u001b[0m \u001b[0mpath\u001b[0m\u001b[1;33m)\u001b[0m\u001b[1;33m\u001b[0m\u001b[1;33m\u001b[0m\u001b[0m\n\u001b[1;32m--> 374\u001b[1;33m         \u001b[1;32mreturn\u001b[0m \u001b[0mself\u001b[0m\u001b[1;33m.\u001b[0m\u001b[0m_request\u001b[0m\u001b[1;33m(\u001b[0m\u001b[0mcommand_info\u001b[0m\u001b[1;33m[\u001b[0m\u001b[1;36m0\u001b[0m\u001b[1;33m]\u001b[0m\u001b[1;33m,\u001b[0m \u001b[0murl\u001b[0m\u001b[1;33m,\u001b[0m \u001b[0mbody\u001b[0m\u001b[1;33m=\u001b[0m\u001b[0mdata\u001b[0m\u001b[1;33m)\u001b[0m\u001b[1;33m\u001b[0m\u001b[1;33m\u001b[0m\u001b[0m\n\u001b[0m\u001b[0;32m    375\u001b[0m \u001b[1;33m\u001b[0m\u001b[0m\n\u001b[0;32m    376\u001b[0m     \u001b[1;32mdef\u001b[0m \u001b[0m_request\u001b[0m\u001b[1;33m(\u001b[0m\u001b[0mself\u001b[0m\u001b[1;33m,\u001b[0m \u001b[0mmethod\u001b[0m\u001b[1;33m,\u001b[0m \u001b[0murl\u001b[0m\u001b[1;33m,\u001b[0m \u001b[0mbody\u001b[0m\u001b[1;33m=\u001b[0m\u001b[1;32mNone\u001b[0m\u001b[1;33m)\u001b[0m\u001b[1;33m:\u001b[0m\u001b[1;33m\u001b[0m\u001b[1;33m\u001b[0m\u001b[0m\n",
      "\u001b[1;32mC:\\ProgramData\\Anaconda3\\envs\\tensorflow_gpu2.1.0\\lib\\site-packages\\selenium\\webdriver\\remote\\remote_connection.py\u001b[0m in \u001b[0;36m_request\u001b[1;34m(self, method, url, body)\u001b[0m\n\u001b[0;32m    395\u001b[0m \u001b[1;33m\u001b[0m\u001b[0m\n\u001b[0;32m    396\u001b[0m         \u001b[1;32mif\u001b[0m \u001b[0mself\u001b[0m\u001b[1;33m.\u001b[0m\u001b[0mkeep_alive\u001b[0m\u001b[1;33m:\u001b[0m\u001b[1;33m\u001b[0m\u001b[1;33m\u001b[0m\u001b[0m\n\u001b[1;32m--> 397\u001b[1;33m             \u001b[0mresp\u001b[0m \u001b[1;33m=\u001b[0m \u001b[0mself\u001b[0m\u001b[1;33m.\u001b[0m\u001b[0m_conn\u001b[0m\u001b[1;33m.\u001b[0m\u001b[0mrequest\u001b[0m\u001b[1;33m(\u001b[0m\u001b[0mmethod\u001b[0m\u001b[1;33m,\u001b[0m \u001b[0murl\u001b[0m\u001b[1;33m,\u001b[0m \u001b[0mbody\u001b[0m\u001b[1;33m=\u001b[0m\u001b[0mbody\u001b[0m\u001b[1;33m,\u001b[0m \u001b[0mheaders\u001b[0m\u001b[1;33m=\u001b[0m\u001b[0mheaders\u001b[0m\u001b[1;33m)\u001b[0m\u001b[1;33m\u001b[0m\u001b[1;33m\u001b[0m\u001b[0m\n\u001b[0m\u001b[0;32m    398\u001b[0m \u001b[1;33m\u001b[0m\u001b[0m\n\u001b[0;32m    399\u001b[0m             \u001b[0mstatuscode\u001b[0m \u001b[1;33m=\u001b[0m \u001b[0mresp\u001b[0m\u001b[1;33m.\u001b[0m\u001b[0mstatus\u001b[0m\u001b[1;33m\u001b[0m\u001b[1;33m\u001b[0m\u001b[0m\n",
      "\u001b[1;32mC:\\ProgramData\\Anaconda3\\envs\\tensorflow_gpu2.1.0\\lib\\site-packages\\urllib3\\request.py\u001b[0m in \u001b[0;36mrequest\u001b[1;34m(self, method, url, fields, headers, **urlopen_kw)\u001b[0m\n\u001b[0;32m     78\u001b[0m         \u001b[1;32melse\u001b[0m\u001b[1;33m:\u001b[0m\u001b[1;33m\u001b[0m\u001b[1;33m\u001b[0m\u001b[0m\n\u001b[0;32m     79\u001b[0m             return self.request_encode_body(\n\u001b[1;32m---> 80\u001b[1;33m                 \u001b[0mmethod\u001b[0m\u001b[1;33m,\u001b[0m \u001b[0murl\u001b[0m\u001b[1;33m,\u001b[0m \u001b[0mfields\u001b[0m\u001b[1;33m=\u001b[0m\u001b[0mfields\u001b[0m\u001b[1;33m,\u001b[0m \u001b[0mheaders\u001b[0m\u001b[1;33m=\u001b[0m\u001b[0mheaders\u001b[0m\u001b[1;33m,\u001b[0m \u001b[1;33m**\u001b[0m\u001b[0murlopen_kw\u001b[0m\u001b[1;33m\u001b[0m\u001b[1;33m\u001b[0m\u001b[0m\n\u001b[0m\u001b[0;32m     81\u001b[0m             )\n\u001b[0;32m     82\u001b[0m \u001b[1;33m\u001b[0m\u001b[0m\n",
      "\u001b[1;32mC:\\ProgramData\\Anaconda3\\envs\\tensorflow_gpu2.1.0\\lib\\site-packages\\urllib3\\request.py\u001b[0m in \u001b[0;36mrequest_encode_body\u001b[1;34m(self, method, url, fields, headers, encode_multipart, multipart_boundary, **urlopen_kw)\u001b[0m\n\u001b[0;32m    169\u001b[0m         \u001b[0mextra_kw\u001b[0m\u001b[1;33m.\u001b[0m\u001b[0mupdate\u001b[0m\u001b[1;33m(\u001b[0m\u001b[0murlopen_kw\u001b[0m\u001b[1;33m)\u001b[0m\u001b[1;33m\u001b[0m\u001b[1;33m\u001b[0m\u001b[0m\n\u001b[0;32m    170\u001b[0m \u001b[1;33m\u001b[0m\u001b[0m\n\u001b[1;32m--> 171\u001b[1;33m         \u001b[1;32mreturn\u001b[0m \u001b[0mself\u001b[0m\u001b[1;33m.\u001b[0m\u001b[0murlopen\u001b[0m\u001b[1;33m(\u001b[0m\u001b[0mmethod\u001b[0m\u001b[1;33m,\u001b[0m \u001b[0murl\u001b[0m\u001b[1;33m,\u001b[0m \u001b[1;33m**\u001b[0m\u001b[0mextra_kw\u001b[0m\u001b[1;33m)\u001b[0m\u001b[1;33m\u001b[0m\u001b[1;33m\u001b[0m\u001b[0m\n\u001b[0m",
      "\u001b[1;32mC:\\ProgramData\\Anaconda3\\envs\\tensorflow_gpu2.1.0\\lib\\site-packages\\urllib3\\poolmanager.py\u001b[0m in \u001b[0;36murlopen\u001b[1;34m(self, method, url, redirect, **kw)\u001b[0m\n\u001b[0;32m    334\u001b[0m             \u001b[0mresponse\u001b[0m \u001b[1;33m=\u001b[0m \u001b[0mconn\u001b[0m\u001b[1;33m.\u001b[0m\u001b[0murlopen\u001b[0m\u001b[1;33m(\u001b[0m\u001b[0mmethod\u001b[0m\u001b[1;33m,\u001b[0m \u001b[0murl\u001b[0m\u001b[1;33m,\u001b[0m \u001b[1;33m**\u001b[0m\u001b[0mkw\u001b[0m\u001b[1;33m)\u001b[0m\u001b[1;33m\u001b[0m\u001b[1;33m\u001b[0m\u001b[0m\n\u001b[0;32m    335\u001b[0m         \u001b[1;32melse\u001b[0m\u001b[1;33m:\u001b[0m\u001b[1;33m\u001b[0m\u001b[1;33m\u001b[0m\u001b[0m\n\u001b[1;32m--> 336\u001b[1;33m             \u001b[0mresponse\u001b[0m \u001b[1;33m=\u001b[0m \u001b[0mconn\u001b[0m\u001b[1;33m.\u001b[0m\u001b[0murlopen\u001b[0m\u001b[1;33m(\u001b[0m\u001b[0mmethod\u001b[0m\u001b[1;33m,\u001b[0m \u001b[0mu\u001b[0m\u001b[1;33m.\u001b[0m\u001b[0mrequest_uri\u001b[0m\u001b[1;33m,\u001b[0m \u001b[1;33m**\u001b[0m\u001b[0mkw\u001b[0m\u001b[1;33m)\u001b[0m\u001b[1;33m\u001b[0m\u001b[1;33m\u001b[0m\u001b[0m\n\u001b[0m\u001b[0;32m    337\u001b[0m \u001b[1;33m\u001b[0m\u001b[0m\n\u001b[0;32m    338\u001b[0m         \u001b[0mredirect_location\u001b[0m \u001b[1;33m=\u001b[0m \u001b[0mredirect\u001b[0m \u001b[1;32mand\u001b[0m \u001b[0mresponse\u001b[0m\u001b[1;33m.\u001b[0m\u001b[0mget_redirect_location\u001b[0m\u001b[1;33m(\u001b[0m\u001b[1;33m)\u001b[0m\u001b[1;33m\u001b[0m\u001b[1;33m\u001b[0m\u001b[0m\n",
      "\u001b[1;32mC:\\ProgramData\\Anaconda3\\envs\\tensorflow_gpu2.1.0\\lib\\site-packages\\urllib3\\connectionpool.py\u001b[0m in \u001b[0;36murlopen\u001b[1;34m(self, method, url, body, headers, retries, redirect, assert_same_host, timeout, pool_timeout, release_conn, chunked, body_pos, **response_kw)\u001b[0m\n\u001b[0;32m    675\u001b[0m                 \u001b[0mbody\u001b[0m\u001b[1;33m=\u001b[0m\u001b[0mbody\u001b[0m\u001b[1;33m,\u001b[0m\u001b[1;33m\u001b[0m\u001b[1;33m\u001b[0m\u001b[0m\n\u001b[0;32m    676\u001b[0m                 \u001b[0mheaders\u001b[0m\u001b[1;33m=\u001b[0m\u001b[0mheaders\u001b[0m\u001b[1;33m,\u001b[0m\u001b[1;33m\u001b[0m\u001b[1;33m\u001b[0m\u001b[0m\n\u001b[1;32m--> 677\u001b[1;33m                 \u001b[0mchunked\u001b[0m\u001b[1;33m=\u001b[0m\u001b[0mchunked\u001b[0m\u001b[1;33m,\u001b[0m\u001b[1;33m\u001b[0m\u001b[1;33m\u001b[0m\u001b[0m\n\u001b[0m\u001b[0;32m    678\u001b[0m             )\n\u001b[0;32m    679\u001b[0m \u001b[1;33m\u001b[0m\u001b[0m\n",
      "\u001b[1;32mC:\\ProgramData\\Anaconda3\\envs\\tensorflow_gpu2.1.0\\lib\\site-packages\\urllib3\\connectionpool.py\u001b[0m in \u001b[0;36m_make_request\u001b[1;34m(self, conn, method, url, timeout, chunked, **httplib_request_kw)\u001b[0m\n\u001b[0;32m    424\u001b[0m                     \u001b[1;31m# Python 3 (including for exceptions like SystemExit).\u001b[0m\u001b[1;33m\u001b[0m\u001b[1;33m\u001b[0m\u001b[1;33m\u001b[0m\u001b[0m\n\u001b[0;32m    425\u001b[0m                     \u001b[1;31m# Otherwise it looks like a bug in the code.\u001b[0m\u001b[1;33m\u001b[0m\u001b[1;33m\u001b[0m\u001b[1;33m\u001b[0m\u001b[0m\n\u001b[1;32m--> 426\u001b[1;33m                     \u001b[0msix\u001b[0m\u001b[1;33m.\u001b[0m\u001b[0mraise_from\u001b[0m\u001b[1;33m(\u001b[0m\u001b[0me\u001b[0m\u001b[1;33m,\u001b[0m \u001b[1;32mNone\u001b[0m\u001b[1;33m)\u001b[0m\u001b[1;33m\u001b[0m\u001b[1;33m\u001b[0m\u001b[0m\n\u001b[0m\u001b[0;32m    427\u001b[0m         \u001b[1;32mexcept\u001b[0m \u001b[1;33m(\u001b[0m\u001b[0mSocketTimeout\u001b[0m\u001b[1;33m,\u001b[0m \u001b[0mBaseSSLError\u001b[0m\u001b[1;33m,\u001b[0m \u001b[0mSocketError\u001b[0m\u001b[1;33m)\u001b[0m \u001b[1;32mas\u001b[0m \u001b[0me\u001b[0m\u001b[1;33m:\u001b[0m\u001b[1;33m\u001b[0m\u001b[1;33m\u001b[0m\u001b[0m\n\u001b[0;32m    428\u001b[0m             \u001b[0mself\u001b[0m\u001b[1;33m.\u001b[0m\u001b[0m_raise_timeout\u001b[0m\u001b[1;33m(\u001b[0m\u001b[0merr\u001b[0m\u001b[1;33m=\u001b[0m\u001b[0me\u001b[0m\u001b[1;33m,\u001b[0m \u001b[0murl\u001b[0m\u001b[1;33m=\u001b[0m\u001b[0murl\u001b[0m\u001b[1;33m,\u001b[0m \u001b[0mtimeout_value\u001b[0m\u001b[1;33m=\u001b[0m\u001b[0mread_timeout\u001b[0m\u001b[1;33m)\u001b[0m\u001b[1;33m\u001b[0m\u001b[1;33m\u001b[0m\u001b[0m\n",
      "\u001b[1;32mC:\\ProgramData\\Anaconda3\\envs\\tensorflow_gpu2.1.0\\lib\\site-packages\\urllib3\\packages\\six.py\u001b[0m in \u001b[0;36mraise_from\u001b[1;34m(value, from_value)\u001b[0m\n",
      "\u001b[1;32mC:\\ProgramData\\Anaconda3\\envs\\tensorflow_gpu2.1.0\\lib\\site-packages\\urllib3\\connectionpool.py\u001b[0m in \u001b[0;36m_make_request\u001b[1;34m(self, conn, method, url, timeout, chunked, **httplib_request_kw)\u001b[0m\n\u001b[0;32m    419\u001b[0m                 \u001b[1;31m# Python 3\u001b[0m\u001b[1;33m\u001b[0m\u001b[1;33m\u001b[0m\u001b[1;33m\u001b[0m\u001b[0m\n\u001b[0;32m    420\u001b[0m                 \u001b[1;32mtry\u001b[0m\u001b[1;33m:\u001b[0m\u001b[1;33m\u001b[0m\u001b[1;33m\u001b[0m\u001b[0m\n\u001b[1;32m--> 421\u001b[1;33m                     \u001b[0mhttplib_response\u001b[0m \u001b[1;33m=\u001b[0m \u001b[0mconn\u001b[0m\u001b[1;33m.\u001b[0m\u001b[0mgetresponse\u001b[0m\u001b[1;33m(\u001b[0m\u001b[1;33m)\u001b[0m\u001b[1;33m\u001b[0m\u001b[1;33m\u001b[0m\u001b[0m\n\u001b[0m\u001b[0;32m    422\u001b[0m                 \u001b[1;32mexcept\u001b[0m \u001b[0mBaseException\u001b[0m \u001b[1;32mas\u001b[0m \u001b[0me\u001b[0m\u001b[1;33m:\u001b[0m\u001b[1;33m\u001b[0m\u001b[1;33m\u001b[0m\u001b[0m\n\u001b[0;32m    423\u001b[0m                     \u001b[1;31m# Remove the TypeError from the exception chain in\u001b[0m\u001b[1;33m\u001b[0m\u001b[1;33m\u001b[0m\u001b[1;33m\u001b[0m\u001b[0m\n",
      "\u001b[1;32mC:\\ProgramData\\Anaconda3\\envs\\tensorflow_gpu2.1.0\\lib\\http\\client.py\u001b[0m in \u001b[0;36mgetresponse\u001b[1;34m(self)\u001b[0m\n\u001b[0;32m   1367\u001b[0m         \u001b[1;32mtry\u001b[0m\u001b[1;33m:\u001b[0m\u001b[1;33m\u001b[0m\u001b[1;33m\u001b[0m\u001b[0m\n\u001b[0;32m   1368\u001b[0m             \u001b[1;32mtry\u001b[0m\u001b[1;33m:\u001b[0m\u001b[1;33m\u001b[0m\u001b[1;33m\u001b[0m\u001b[0m\n\u001b[1;32m-> 1369\u001b[1;33m                 \u001b[0mresponse\u001b[0m\u001b[1;33m.\u001b[0m\u001b[0mbegin\u001b[0m\u001b[1;33m(\u001b[0m\u001b[1;33m)\u001b[0m\u001b[1;33m\u001b[0m\u001b[1;33m\u001b[0m\u001b[0m\n\u001b[0m\u001b[0;32m   1370\u001b[0m             \u001b[1;32mexcept\u001b[0m \u001b[0mConnectionError\u001b[0m\u001b[1;33m:\u001b[0m\u001b[1;33m\u001b[0m\u001b[1;33m\u001b[0m\u001b[0m\n\u001b[0;32m   1371\u001b[0m                 \u001b[0mself\u001b[0m\u001b[1;33m.\u001b[0m\u001b[0mclose\u001b[0m\u001b[1;33m(\u001b[0m\u001b[1;33m)\u001b[0m\u001b[1;33m\u001b[0m\u001b[1;33m\u001b[0m\u001b[0m\n",
      "\u001b[1;32mC:\\ProgramData\\Anaconda3\\envs\\tensorflow_gpu2.1.0\\lib\\http\\client.py\u001b[0m in \u001b[0;36mbegin\u001b[1;34m(self)\u001b[0m\n\u001b[0;32m    308\u001b[0m         \u001b[1;31m# read until we get a non-100 response\u001b[0m\u001b[1;33m\u001b[0m\u001b[1;33m\u001b[0m\u001b[1;33m\u001b[0m\u001b[0m\n\u001b[0;32m    309\u001b[0m         \u001b[1;32mwhile\u001b[0m \u001b[1;32mTrue\u001b[0m\u001b[1;33m:\u001b[0m\u001b[1;33m\u001b[0m\u001b[1;33m\u001b[0m\u001b[0m\n\u001b[1;32m--> 310\u001b[1;33m             \u001b[0mversion\u001b[0m\u001b[1;33m,\u001b[0m \u001b[0mstatus\u001b[0m\u001b[1;33m,\u001b[0m \u001b[0mreason\u001b[0m \u001b[1;33m=\u001b[0m \u001b[0mself\u001b[0m\u001b[1;33m.\u001b[0m\u001b[0m_read_status\u001b[0m\u001b[1;33m(\u001b[0m\u001b[1;33m)\u001b[0m\u001b[1;33m\u001b[0m\u001b[1;33m\u001b[0m\u001b[0m\n\u001b[0m\u001b[0;32m    311\u001b[0m             \u001b[1;32mif\u001b[0m \u001b[0mstatus\u001b[0m \u001b[1;33m!=\u001b[0m \u001b[0mCONTINUE\u001b[0m\u001b[1;33m:\u001b[0m\u001b[1;33m\u001b[0m\u001b[1;33m\u001b[0m\u001b[0m\n\u001b[0;32m    312\u001b[0m                 \u001b[1;32mbreak\u001b[0m\u001b[1;33m\u001b[0m\u001b[1;33m\u001b[0m\u001b[0m\n",
      "\u001b[1;32mC:\\ProgramData\\Anaconda3\\envs\\tensorflow_gpu2.1.0\\lib\\http\\client.py\u001b[0m in \u001b[0;36m_read_status\u001b[1;34m(self)\u001b[0m\n\u001b[0;32m    269\u001b[0m \u001b[1;33m\u001b[0m\u001b[0m\n\u001b[0;32m    270\u001b[0m     \u001b[1;32mdef\u001b[0m \u001b[0m_read_status\u001b[0m\u001b[1;33m(\u001b[0m\u001b[0mself\u001b[0m\u001b[1;33m)\u001b[0m\u001b[1;33m:\u001b[0m\u001b[1;33m\u001b[0m\u001b[1;33m\u001b[0m\u001b[0m\n\u001b[1;32m--> 271\u001b[1;33m         \u001b[0mline\u001b[0m \u001b[1;33m=\u001b[0m \u001b[0mstr\u001b[0m\u001b[1;33m(\u001b[0m\u001b[0mself\u001b[0m\u001b[1;33m.\u001b[0m\u001b[0mfp\u001b[0m\u001b[1;33m.\u001b[0m\u001b[0mreadline\u001b[0m\u001b[1;33m(\u001b[0m\u001b[0m_MAXLINE\u001b[0m \u001b[1;33m+\u001b[0m \u001b[1;36m1\u001b[0m\u001b[1;33m)\u001b[0m\u001b[1;33m,\u001b[0m \u001b[1;34m\"iso-8859-1\"\u001b[0m\u001b[1;33m)\u001b[0m\u001b[1;33m\u001b[0m\u001b[1;33m\u001b[0m\u001b[0m\n\u001b[0m\u001b[0;32m    272\u001b[0m         \u001b[1;32mif\u001b[0m \u001b[0mlen\u001b[0m\u001b[1;33m(\u001b[0m\u001b[0mline\u001b[0m\u001b[1;33m)\u001b[0m \u001b[1;33m>\u001b[0m \u001b[0m_MAXLINE\u001b[0m\u001b[1;33m:\u001b[0m\u001b[1;33m\u001b[0m\u001b[1;33m\u001b[0m\u001b[0m\n\u001b[0;32m    273\u001b[0m             \u001b[1;32mraise\u001b[0m \u001b[0mLineTooLong\u001b[0m\u001b[1;33m(\u001b[0m\u001b[1;34m\"status line\"\u001b[0m\u001b[1;33m)\u001b[0m\u001b[1;33m\u001b[0m\u001b[1;33m\u001b[0m\u001b[0m\n",
      "\u001b[1;32mC:\\ProgramData\\Anaconda3\\envs\\tensorflow_gpu2.1.0\\lib\\socket.py\u001b[0m in \u001b[0;36mreadinto\u001b[1;34m(self, b)\u001b[0m\n\u001b[0;32m    587\u001b[0m         \u001b[1;32mwhile\u001b[0m \u001b[1;32mTrue\u001b[0m\u001b[1;33m:\u001b[0m\u001b[1;33m\u001b[0m\u001b[1;33m\u001b[0m\u001b[0m\n\u001b[0;32m    588\u001b[0m             \u001b[1;32mtry\u001b[0m\u001b[1;33m:\u001b[0m\u001b[1;33m\u001b[0m\u001b[1;33m\u001b[0m\u001b[0m\n\u001b[1;32m--> 589\u001b[1;33m                 \u001b[1;32mreturn\u001b[0m \u001b[0mself\u001b[0m\u001b[1;33m.\u001b[0m\u001b[0m_sock\u001b[0m\u001b[1;33m.\u001b[0m\u001b[0mrecv_into\u001b[0m\u001b[1;33m(\u001b[0m\u001b[0mb\u001b[0m\u001b[1;33m)\u001b[0m\u001b[1;33m\u001b[0m\u001b[1;33m\u001b[0m\u001b[0m\n\u001b[0m\u001b[0;32m    590\u001b[0m             \u001b[1;32mexcept\u001b[0m \u001b[0mtimeout\u001b[0m\u001b[1;33m:\u001b[0m\u001b[1;33m\u001b[0m\u001b[1;33m\u001b[0m\u001b[0m\n\u001b[0;32m    591\u001b[0m                 \u001b[0mself\u001b[0m\u001b[1;33m.\u001b[0m\u001b[0m_timeout_occurred\u001b[0m \u001b[1;33m=\u001b[0m \u001b[1;32mTrue\u001b[0m\u001b[1;33m\u001b[0m\u001b[1;33m\u001b[0m\u001b[0m\n",
      "\u001b[1;31mKeyboardInterrupt\u001b[0m: "
     ]
    }
   ],
   "source": [
    "# catch type of funds\n",
    "driver = webdriver.Chrome(executable_path=chrome_path, options=opt)\n",
    "driver.set_window_size(1024, 850)\n",
    "driver.get(url)\n",
    "sleep(1)\n",
    "fund_types = [(item.text, item.get_attribute('href')) for item \n",
    "              in driver.find_elements_by_xpath('//div[@class=\"InternalSearch\"]//a')]\n",
    "print(fund_types[:5])\n",
    "\n",
    "fund_company_list = list()\n",
    "for item in tqdm(fund_types):\n",
    "    driver.get(item[1])\n",
    "    fund_company = [(item.text, item.get_attribute('href')) for item \n",
    "                         in driver.find_elements_by_xpath('//table[@id=\"oMainTable\"]//td/a') if len(item.text.strip()) > 0]\n",
    "    print(fund_company[:6])\n",
    "    fund_list = fund_company[0::2]\n",
    "    print(fund_list[:3])\n",
    "    company_list = fund_company[1::2]\n",
    "    company_list = [item[0] for item in company_list]\n",
    "    print(company_list[:3])\n",
    "    for i in range(len(fund_list)):\n",
    "        fund_company_list += [(company_list[i], fund_list[i][0], fund_list[i][1])]\n",
    "    \n",
    "    sleep(np.random.randint(3, 7))\n",
    "    \n",
    "    \n",
    "driver.quit()\n",
    "\n",
    "\n"
   ]
  },
  {
   "cell_type": "code",
   "execution_count": 139,
   "metadata": {},
   "outputs": [
    {
     "name": "stderr",
     "output_type": "stream",
     "text": [
      "  0%|▏                                                                                                                                                                                                   | 4/3632 [00:23<6:19:42,  6.28s/it]"
     ]
    },
    {
     "name": "stdout",
     "output_type": "stream",
     "text": [
      "https://www.moneydj.com/funddj/yl/yp013000.djhtm?a=ACCA98\n"
     ]
    },
    {
     "name": "stderr",
     "output_type": "stream",
     "text": [
      "  0%|▎                                                                                                                                                                                                   | 6/3632 [00:38<6:59:17,  6.94s/it]"
     ]
    },
    {
     "name": "stdout",
     "output_type": "stream",
     "text": [
      "https://www.moneydj.com/funddj/yl/yp013000.djhtm?a=ACTR12\n"
     ]
    },
    {
     "name": "stderr",
     "output_type": "stream",
     "text": [
      "\r",
      "  0%|▍                                                                                                                                                                                                   | 7/3632 [00:48<7:46:16,  7.72s/it]"
     ]
    },
    {
     "name": "stdout",
     "output_type": "stream",
     "text": [
      "https://www.moneydj.com/funddj/yl/yp013000.djhtm?a=ACYT59\n"
     ]
    },
    {
     "name": "stderr",
     "output_type": "stream",
     "text": [
      "  1%|█▋                                                                                                                                                                                                 | 31/3632 [03:12<5:57:23,  5.95s/it]"
     ]
    },
    {
     "name": "stdout",
     "output_type": "stream",
     "text": [
      "https://www.moneydj.com/funddj/yl/yp013000.djhtm?a=ACYT60\n"
     ]
    },
    {
     "name": "stderr",
     "output_type": "stream",
     "text": [
      "\r",
      "  1%|█▋                                                                                                                                                                                                 | 32/3632 [03:20<6:24:49,  6.41s/it]"
     ]
    },
    {
     "name": "stdout",
     "output_type": "stream",
     "text": [
      "https://www.moneydj.com/funddj/yl/yp013000.djhtm?a=ACCA97\n"
     ]
    },
    {
     "name": "stderr",
     "output_type": "stream",
     "text": [
      "\r",
      "  1%|█▊                                                                                                                                                                                                 | 33/3632 [03:31<7:58:42,  7.98s/it]"
     ]
    },
    {
     "name": "stdout",
     "output_type": "stream",
     "text": [
      "https://www.moneydj.com/funddj/yl/yp013000.djhtm?a=ACTR13\n"
     ]
    },
    {
     "name": "stderr",
     "output_type": "stream",
     "text": [
      "\r",
      "  1%|█▊                                                                                                                                                                                                 | 34/3632 [03:43<9:02:07,  9.04s/it]"
     ]
    },
    {
     "name": "stdout",
     "output_type": "stream",
     "text": [
      "https://www.moneydj.com/funddj/yl/yp013000.djhtm?a=ACCH38\n"
     ]
    },
    {
     "name": "stderr",
     "output_type": "stream",
     "text": [
      "\r",
      "  1%|█▉                                                                                                                                                                                                 | 35/3632 [03:53<9:20:41,  9.35s/it]"
     ]
    },
    {
     "name": "stdout",
     "output_type": "stream",
     "text": [
      "https://www.moneydj.com/funddj/yl/yp013000.djhtm?a=ACCH21\n"
     ]
    },
    {
     "name": "stderr",
     "output_type": "stream",
     "text": [
      "  1%|██                                                                                                                                                                                                 | 39/3632 [04:24<8:21:31,  8.38s/it]"
     ]
    },
    {
     "name": "stdout",
     "output_type": "stream",
     "text": [
      "https://www.moneydj.com/funddj/yl/yp013000.djhtm?a=ACGC79\n"
     ]
    },
    {
     "name": "stderr",
     "output_type": "stream",
     "text": [
      "\r",
      "  1%|██▏                                                                                                                                                                                                | 40/3632 [04:36<9:20:07,  9.36s/it]"
     ]
    },
    {
     "name": "stdout",
     "output_type": "stream",
     "text": [
      "https://www.moneydj.com/funddj/yl/yp013000.djhtm?a=ACFP136\n"
     ]
    },
    {
     "name": "stderr",
     "output_type": "stream",
     "text": [
      "  2%|███▌                                                                                                                                                                                               | 66/3632 [07:36<6:07:16,  6.18s/it]"
     ]
    },
    {
     "name": "stdout",
     "output_type": "stream",
     "text": [
      "https://www.moneydj.com/funddj/yl/yp013000.djhtm?a=ACCA275\n"
     ]
    },
    {
     "name": "stderr",
     "output_type": "stream",
     "text": [
      "  5%|██████████▌                                                                                                                                                                                       | 198/3632 [22:55<6:05:58,  6.39s/it]"
     ]
    },
    {
     "name": "stdout",
     "output_type": "stream",
     "text": [
      "https://www.moneydj.com/funddj/yl/yp013000.djhtm?a=ACNB03\n"
     ]
    },
    {
     "name": "stderr",
     "output_type": "stream",
     "text": [
      "\r",
      "  5%|██████████▋                                                                                                                                                                                       | 199/3632 [23:03<6:34:32,  6.90s/it]"
     ]
    },
    {
     "name": "stdout",
     "output_type": "stream",
     "text": [
      "https://www.moneydj.com/funddj/yl/yp013000.djhtm?a=ACNB04\n"
     ]
    },
    {
     "name": "stderr",
     "output_type": "stream",
     "text": [
      "\r",
      "  6%|██████████▋                                                                                                                                                                                       | 200/3632 [23:14<7:46:39,  8.16s/it]"
     ]
    },
    {
     "name": "stdout",
     "output_type": "stream",
     "text": [
      "https://www.moneydj.com/funddj/yl/yp013000.djhtm?a=ACAI214\n"
     ]
    },
    {
     "name": "stderr",
     "output_type": "stream",
     "text": [
      "  6%|███████████▎                                                                                                                                                                                      | 212/3632 [24:40<6:57:34,  7.33s/it]"
     ]
    },
    {
     "name": "stdout",
     "output_type": "stream",
     "text": [
      "https://www.moneydj.com/funddj/yl/yp013000.djhtm?a=ACCA274\n"
     ]
    },
    {
     "name": "stderr",
     "output_type": "stream",
     "text": [
      " 14%|██████████████████████████▍                                                                                                                                                                       | 495/3632 [55:05<5:07:43,  5.89s/it]"
     ]
    },
    {
     "name": "stdout",
     "output_type": "stream",
     "text": [
      "https://www.moneydj.com/funddj/yl/yp013000.djhtm?a=ACNB104\n"
     ]
    },
    {
     "name": "stderr",
     "output_type": "stream",
     "text": [
      "\r",
      " 14%|██████████████████████████▍                                                                                                                                                                       | 496/3632 [55:16<6:21:59,  7.31s/it]"
     ]
    },
    {
     "name": "stdout",
     "output_type": "stream",
     "text": [
      "https://www.moneydj.com/funddj/yl/yp013000.djhtm?a=ACNB105\n"
     ]
    },
    {
     "name": "stderr",
     "output_type": "stream",
     "text": [
      "\r",
      " 14%|██████████████████████████▌                                                                                                                                                                       | 497/3632 [55:27<7:21:25,  8.45s/it]"
     ]
    },
    {
     "name": "stdout",
     "output_type": "stream",
     "text": [
      "https://www.moneydj.com/funddj/yl/yp013000.djhtm?a=ACNB101\n"
     ]
    },
    {
     "name": "stderr",
     "output_type": "stream",
     "text": [
      "\r",
      " 14%|██████████████████████████▌                                                                                                                                                                       | 498/3632 [55:38<7:54:49,  9.09s/it]"
     ]
    },
    {
     "name": "stdout",
     "output_type": "stream",
     "text": [
      "https://www.moneydj.com/funddj/yl/yp013000.djhtm?a=ACNB100\n"
     ]
    },
    {
     "name": "stderr",
     "output_type": "stream",
     "text": [
      " 14%|██████████████████████████▊                                                                                                                                                                       | 501/3632 [55:59<6:26:52,  7.41s/it]"
     ]
    },
    {
     "name": "stdout",
     "output_type": "stream",
     "text": [
      "https://www.moneydj.com/funddj/yl/yp013000.djhtm?a=ACNB102\n"
     ]
    },
    {
     "name": "stderr",
     "output_type": "stream",
     "text": [
      "\r",
      " 14%|██████████████████████████▊                                                                                                                                                                       | 502/3632 [56:07<6:37:58,  7.63s/it]"
     ]
    },
    {
     "name": "stdout",
     "output_type": "stream",
     "text": [
      "https://www.moneydj.com/funddj/yl/yp013000.djhtm?a=ACNB103\n"
     ]
    },
    {
     "name": "stderr",
     "output_type": "stream",
     "text": [
      "\r",
      " 14%|██████████████████████████▊                                                                                                                                                                       | 503/3632 [56:18<7:23:51,  8.51s/it]"
     ]
    },
    {
     "name": "stdout",
     "output_type": "stream",
     "text": [
      "https://www.moneydj.com/funddj/yl/yp013000.djhtm?a=ACNB98\n"
     ]
    },
    {
     "name": "stderr",
     "output_type": "stream",
     "text": [
      "\r",
      " 14%|██████████████████████████▉                                                                                                                                                                       | 504/3632 [56:28<7:56:08,  9.13s/it]"
     ]
    },
    {
     "name": "stdout",
     "output_type": "stream",
     "text": [
      "https://www.moneydj.com/funddj/yl/yp013000.djhtm?a=ACNB99\n"
     ]
    },
    {
     "name": "stderr",
     "output_type": "stream",
     "text": [
      "\r",
      " 14%|██████████████████████████▉                                                                                                                                                                       | 505/3632 [56:37<7:50:15,  9.02s/it]"
     ]
    },
    {
     "name": "stdout",
     "output_type": "stream",
     "text": [
      "https://www.moneydj.com/funddj/yl/yp013000.djhtm?a=ACNB106\n"
     ]
    },
    {
     "name": "stderr",
     "output_type": "stream",
     "text": [
      "\r",
      " 14%|███████████████████████████                                                                                                                                                                       | 506/3632 [56:49<8:29:14,  9.77s/it]"
     ]
    },
    {
     "name": "stdout",
     "output_type": "stream",
     "text": [
      "https://www.moneydj.com/funddj/yl/yp013000.djhtm?a=ACNB107\n"
     ]
    },
    {
     "name": "stderr",
     "output_type": "stream",
     "text": [
      " 14%|███████████████████████████▎                                                                                                                                                                      | 511/3632 [57:24<6:19:59,  7.31s/it]"
     ]
    },
    {
     "name": "stdout",
     "output_type": "stream",
     "text": [
      "https://www.moneydj.com/funddj/yl/yp013000.djhtm?a=ACTR38\n"
     ]
    },
    {
     "name": "stderr",
     "output_type": "stream",
     "text": [
      " 14%|███████████████████████████▉                                                                                                                                                                      | 523/3632 [58:44<5:41:45,  6.60s/it]"
     ]
    },
    {
     "name": "stdout",
     "output_type": "stream",
     "text": [
      "https://www.moneydj.com/funddj/yl/yp013000.djhtm?a=ACFH59\n"
     ]
    },
    {
     "name": "stderr",
     "output_type": "stream",
     "text": [
      "\r",
      " 14%|███████████████████████████▉                                                                                                                                                                      | 524/3632 [58:54<6:32:21,  7.57s/it]"
     ]
    },
    {
     "name": "stdout",
     "output_type": "stream",
     "text": [
      "https://www.moneydj.com/funddj/yl/yp013000.djhtm?a=ACCA255\n"
     ]
    },
    {
     "name": "stderr",
     "output_type": "stream",
     "text": [
      "\r",
      " 14%|████████████████████████████                                                                                                                                                                      | 525/3632 [59:05<7:20:38,  8.51s/it]"
     ]
    },
    {
     "name": "stdout",
     "output_type": "stream",
     "text": [
      "https://www.moneydj.com/funddj/yl/yp013000.djhtm?a=ACAI335\n"
     ]
    },
    {
     "name": "stderr",
     "output_type": "stream",
     "text": [
      "\r",
      " 14%|████████████████████████████                                                                                                                                                                      | 526/3632 [59:16<8:02:58,  9.33s/it]"
     ]
    },
    {
     "name": "stdout",
     "output_type": "stream",
     "text": [
      "https://www.moneydj.com/funddj/yl/yp013000.djhtm?a=ACAI180\n"
     ]
    },
    {
     "name": "stderr",
     "output_type": "stream",
     "text": [
      "\r",
      " 15%|████████████████████████████▏                                                                                                                                                                     | 527/3632 [59:24<7:42:23,  8.93s/it]"
     ]
    },
    {
     "name": "stdout",
     "output_type": "stream",
     "text": [
      "https://www.moneydj.com/funddj/yl/yp013000.djhtm?a=ACAI181\n"
     ]
    },
    {
     "name": "stderr",
     "output_type": "stream",
     "text": [
      "\r",
      " 15%|████████████████████████████▏                                                                                                                                                                     | 528/3632 [59:33<7:36:14,  8.82s/it]"
     ]
    },
    {
     "name": "stdout",
     "output_type": "stream",
     "text": [
      "https://www.moneydj.com/funddj/yl/yp013000.djhtm?a=ACAI350\n"
     ]
    },
    {
     "name": "stderr",
     "output_type": "stream",
     "text": [
      "\r",
      " 15%|████████████████████████████▎                                                                                                                                                                     | 529/3632 [59:42<7:47:38,  9.04s/it]"
     ]
    },
    {
     "name": "stdout",
     "output_type": "stream",
     "text": [
      "https://www.moneydj.com/funddj/yl/yp013000.djhtm?a=ACAI352\n"
     ]
    },
    {
     "name": "stderr",
     "output_type": "stream",
     "text": [
      "\r",
      " 15%|████████████████████████████▎                                                                                                                                                                     | 530/3632 [59:51<7:39:02,  8.88s/it]"
     ]
    },
    {
     "name": "stdout",
     "output_type": "stream",
     "text": [
      "https://www.moneydj.com/funddj/yl/yp013000.djhtm?a=ACAI353\n"
     ]
    },
    {
     "name": "stderr",
     "output_type": "stream",
     "text": [
      "\r",
      " 15%|████████████████████████████                                                                                                                                                                    | 531/3632 [1:00:00<7:51:01,  9.11s/it]"
     ]
    },
    {
     "name": "stdout",
     "output_type": "stream",
     "text": [
      "https://www.moneydj.com/funddj/yl/yp013000.djhtm?a=ACAI354\n"
     ]
    },
    {
     "name": "stderr",
     "output_type": "stream",
     "text": [
      "\r",
      " 15%|████████████████████████████                                                                                                                                                                    | 532/3632 [1:00:09<7:42:44,  8.96s/it]"
     ]
    },
    {
     "name": "stdout",
     "output_type": "stream",
     "text": [
      "https://www.moneydj.com/funddj/yl/yp013000.djhtm?a=ACAI342\n"
     ]
    },
    {
     "name": "stderr",
     "output_type": "stream",
     "text": [
      "\r",
      " 15%|████████████████████████████▏                                                                                                                                                                   | 533/3632 [1:00:17<7:28:03,  8.67s/it]"
     ]
    },
    {
     "name": "stdout",
     "output_type": "stream",
     "text": [
      "https://www.moneydj.com/funddj/yl/yp013000.djhtm?a=ACAI343\n"
     ]
    },
    {
     "name": "stderr",
     "output_type": "stream",
     "text": [
      "\r",
      " 15%|████████████████████████████▏                                                                                                                                                                   | 534/3632 [1:00:28<8:04:12,  9.38s/it]"
     ]
    },
    {
     "name": "stdout",
     "output_type": "stream",
     "text": [
      "https://www.moneydj.com/funddj/yl/yp013000.djhtm?a=ACAI344\n"
     ]
    },
    {
     "name": "stderr",
     "output_type": "stream",
     "text": [
      "\r",
      " 15%|████████████████████████████▎                                                                                                                                                                   | 535/3632 [1:00:36<7:50:08,  9.11s/it]"
     ]
    },
    {
     "name": "stdout",
     "output_type": "stream",
     "text": [
      "https://www.moneydj.com/funddj/yl/yp013000.djhtm?a=ACAI345\n"
     ]
    },
    {
     "name": "stderr",
     "output_type": "stream",
     "text": [
      "\r",
      " 15%|████████████████████████████▎                                                                                                                                                                   | 536/3632 [1:00:46<7:49:56,  9.11s/it]"
     ]
    },
    {
     "name": "stdout",
     "output_type": "stream",
     "text": [
      "https://www.moneydj.com/funddj/yl/yp013000.djhtm?a=ACAI346\n"
     ]
    },
    {
     "name": "stderr",
     "output_type": "stream",
     "text": [
      "\r",
      " 15%|████████████████████████████▍                                                                                                                                                                   | 537/3632 [1:00:56<8:11:39,  9.53s/it]"
     ]
    },
    {
     "name": "stdout",
     "output_type": "stream",
     "text": [
      "https://www.moneydj.com/funddj/yl/yp013000.djhtm?a=ACAI347\n"
     ]
    },
    {
     "name": "stderr",
     "output_type": "stream",
     "text": [
      "\r",
      " 15%|████████████████████████████▍                                                                                                                                                                   | 538/3632 [1:01:05<8:05:07,  9.41s/it]"
     ]
    },
    {
     "name": "stdout",
     "output_type": "stream",
     "text": [
      "https://www.moneydj.com/funddj/yl/yp013000.djhtm?a=ACAI337\n"
     ]
    },
    {
     "name": "stderr",
     "output_type": "stream",
     "text": [
      "\r",
      " 15%|████████████████████████████▍                                                                                                                                                                   | 539/3632 [1:01:13<7:43:52,  9.00s/it]"
     ]
    },
    {
     "name": "stdout",
     "output_type": "stream",
     "text": [
      "https://www.moneydj.com/funddj/yl/yp013000.djhtm?a=ACAI340\n"
     ]
    },
    {
     "name": "stderr",
     "output_type": "stream",
     "text": [
      " 20%|██████████████████████████████████████▍                                                                                                                                                         | 728/3632 [1:21:00<5:15:41,  6.52s/it]"
     ]
    },
    {
     "name": "stdout",
     "output_type": "stream",
     "text": [
      "https://www.moneydj.com/funddj/yl/yp013000.djhtm?a=ACAI106\n"
     ]
    },
    {
     "name": "stderr",
     "output_type": "stream",
     "text": [
      "\r",
      " 20%|██████████████████████████████████████▌                                                                                                                                                         | 729/3632 [1:21:10<6:06:29,  7.57s/it]"
     ]
    },
    {
     "name": "stdout",
     "output_type": "stream",
     "text": [
      "https://www.moneydj.com/funddj/yl/yp013000.djhtm?a=ACAI107\n"
     ]
    },
    {
     "name": "stderr",
     "output_type": "stream",
     "text": [
      "\r",
      " 20%|██████████████████████████████████████▌                                                                                                                                                         | 730/3632 [1:21:18<6:12:25,  7.70s/it]"
     ]
    },
    {
     "name": "stdout",
     "output_type": "stream",
     "text": [
      "https://www.moneydj.com/funddj/yl/yp013000.djhtm?a=ACAI108\n"
     ]
    },
    {
     "name": "stderr",
     "output_type": "stream",
     "text": [
      "\r",
      " 20%|██████████████████████████████████████▋                                                                                                                                                         | 731/3632 [1:21:26<6:19:17,  7.84s/it]"
     ]
    },
    {
     "name": "stdout",
     "output_type": "stream",
     "text": [
      "https://www.moneydj.com/funddj/yl/yp013000.djhtm?a=ACAI59\n"
     ]
    },
    {
     "name": "stderr",
     "output_type": "stream",
     "text": [
      "\r",
      " 20%|██████████████████████████████████████▋                                                                                                                                                         | 732/3632 [1:21:35<6:23:53,  7.94s/it]"
     ]
    },
    {
     "name": "stdout",
     "output_type": "stream",
     "text": [
      "https://www.moneydj.com/funddj/yl/yp013000.djhtm?a=ACAI65\n"
     ]
    },
    {
     "name": "stderr",
     "output_type": "stream",
     "text": [
      "\r",
      " 20%|██████████████████████████████████████▋                                                                                                                                                         | 733/3632 [1:21:43<6:33:35,  8.15s/it]"
     ]
    },
    {
     "name": "stdout",
     "output_type": "stream",
     "text": [
      "https://www.moneydj.com/funddj/yl/yp013000.djhtm?a=ACAI84\n"
     ]
    },
    {
     "name": "stderr",
     "output_type": "stream",
     "text": [
      "\r",
      " 20%|██████████████████████████████████████▊                                                                                                                                                         | 734/3632 [1:21:54<7:14:59,  9.01s/it]"
     ]
    },
    {
     "name": "stdout",
     "output_type": "stream",
     "text": [
      "https://www.moneydj.com/funddj/yl/yp013000.djhtm?a=ACAI85\n"
     ]
    },
    {
     "name": "stderr",
     "output_type": "stream",
     "text": [
      "\r",
      " 20%|██████████████████████████████████████▊                                                                                                                                                         | 735/3632 [1:22:03<7:11:46,  8.94s/it]"
     ]
    },
    {
     "name": "stdout",
     "output_type": "stream",
     "text": [
      "https://www.moneydj.com/funddj/yl/yp013000.djhtm?a=ACAI86\n"
     ]
    },
    {
     "name": "stderr",
     "output_type": "stream",
     "text": [
      "\r",
      " 20%|██████████████████████████████████████▉                                                                                                                                                         | 736/3632 [1:22:14<7:39:55,  9.53s/it]"
     ]
    },
    {
     "name": "stdout",
     "output_type": "stream",
     "text": [
      "https://www.moneydj.com/funddj/yl/yp013000.djhtm?a=ACCP51\n"
     ]
    },
    {
     "name": "stderr",
     "output_type": "stream",
     "text": [
      "\r",
      " 20%|██████████████████████████████████████▉                                                                                                                                                         | 737/3632 [1:22:26<8:15:52, 10.28s/it]"
     ]
    },
    {
     "name": "stdout",
     "output_type": "stream",
     "text": [
      "https://www.moneydj.com/funddj/yl/yp013000.djhtm?a=ACCP52\n"
     ]
    },
    {
     "name": "stderr",
     "output_type": "stream",
     "text": [
      "\r",
      " 20%|███████████████████████████████████████                                                                                                                                                         | 738/3632 [1:22:35<7:57:33,  9.90s/it]"
     ]
    },
    {
     "name": "stdout",
     "output_type": "stream",
     "text": [
      "https://www.moneydj.com/funddj/yl/yp013000.djhtm?a=ACCP53\n"
     ]
    },
    {
     "name": "stderr",
     "output_type": "stream",
     "text": [
      "\r",
      " 20%|███████████████████████████████████████                                                                                                                                                         | 739/3632 [1:22:44<7:45:20,  9.65s/it]"
     ]
    },
    {
     "name": "stdout",
     "output_type": "stream",
     "text": [
      "https://www.moneydj.com/funddj/yl/yp013000.djhtm?a=ACCP54\n"
     ]
    },
    {
     "name": "stderr",
     "output_type": "stream",
     "text": [
      "\r",
      " 20%|███████████████████████████████████████                                                                                                                                                         | 740/3632 [1:22:54<7:51:16,  9.78s/it]"
     ]
    },
    {
     "name": "stdout",
     "output_type": "stream",
     "text": [
      "https://www.moneydj.com/funddj/yl/yp013000.djhtm?a=ACJF1201\n"
     ]
    },
    {
     "name": "stderr",
     "output_type": "stream",
     "text": [
      " 22%|██████████████████████████████████████████▊                                                                                                                                                     | 809/3632 [1:30:19<4:26:46,  5.67s/it]"
     ]
    },
    {
     "name": "stdout",
     "output_type": "stream",
     "text": [
      "https://www.moneydj.com/funddj/yl/yp013000.djhtm?a=ACCP205\n"
     ]
    },
    {
     "name": "stderr",
     "output_type": "stream",
     "text": [
      " 22%|███████████████████████████████████████████                                                                                                                                                     | 814/3632 [1:30:52<4:57:07,  6.33s/it]"
     ]
    },
    {
     "name": "stdout",
     "output_type": "stream",
     "text": [
      "https://www.moneydj.com/funddj/yl/yp013000.djhtm?a=ACAI208\n"
     ]
    },
    {
     "name": "stderr",
     "output_type": "stream",
     "text": [
      "\r",
      " 22%|███████████████████████████████████████████                                                                                                                                                     | 815/3632 [1:31:02<5:52:20,  7.50s/it]"
     ]
    },
    {
     "name": "stdout",
     "output_type": "stream",
     "text": [
      "https://www.moneydj.com/funddj/yl/yp013000.djhtm?a=ACAI209\n"
     ]
    },
    {
     "name": "stderr",
     "output_type": "stream",
     "text": [
      "\r",
      " 22%|███████████████████████████████████████████▏                                                                                                                                                    | 816/3632 [1:31:11<6:21:20,  8.13s/it]"
     ]
    },
    {
     "name": "stdout",
     "output_type": "stream",
     "text": [
      "https://www.moneydj.com/funddj/yl/yp013000.djhtm?a=ACFP79\n"
     ]
    },
    {
     "name": "stderr",
     "output_type": "stream",
     "text": [
      " 23%|███████████████████████████████████████████▎                                                                                                                                                    | 819/3632 [1:31:36<6:03:54,  7.76s/it]"
     ]
    },
    {
     "name": "stdout",
     "output_type": "stream",
     "text": [
      "https://www.moneydj.com/funddj/yl/yp013000.djhtm?a=ACYT81\n"
     ]
    },
    {
     "name": "stderr",
     "output_type": "stream",
     "text": [
      " 23%|███████████████████████████████████████████▍                                                                                                                                                    | 821/3632 [1:31:54<6:23:14,  8.18s/it]"
     ]
    },
    {
     "name": "stdout",
     "output_type": "stream",
     "text": [
      "https://www.moneydj.com/funddj/yl/yp013000.djhtm?a=ACFP68\n"
     ]
    },
    {
     "name": "stderr",
     "output_type": "stream",
     "text": [
      " 23%|███████████████████████████████████████████▌                                                                                                                                                    | 824/3632 [1:32:16<5:48:06,  7.44s/it]"
     ]
    },
    {
     "name": "stdout",
     "output_type": "stream",
     "text": [
      "https://www.moneydj.com/funddj/yl/yp013000.djhtm?a=ACFH63\n"
     ]
    },
    {
     "name": "stderr",
     "output_type": "stream",
     "text": [
      " 23%|███████████████████████████████████████████▊                                                                                                                                                    | 828/3632 [1:32:45<5:48:42,  7.46s/it]"
     ]
    },
    {
     "name": "stdout",
     "output_type": "stream",
     "text": [
      "https://www.moneydj.com/funddj/yl/yp013000.djhtm?a=ACFP64\n"
     ]
    },
    {
     "name": "stderr",
     "output_type": "stream",
     "text": [
      " 23%|███████████████████████████████████████████▉                                                                                                                                                    | 830/3632 [1:33:03<6:17:50,  8.09s/it]"
     ]
    },
    {
     "name": "stdout",
     "output_type": "stream",
     "text": [
      "https://www.moneydj.com/funddj/yl/yp013000.djhtm?a=ACYT65\n"
     ]
    },
    {
     "name": "stderr",
     "output_type": "stream",
     "text": [
      " 23%|███████████████████████████████████████████▉                                                                                                                                                    | 832/3632 [1:33:18<5:51:14,  7.53s/it]"
     ]
    },
    {
     "name": "stdout",
     "output_type": "stream",
     "text": [
      "https://www.moneydj.com/funddj/yl/yp013000.djhtm?a=ACCY74\n"
     ]
    },
    {
     "name": "stderr",
     "output_type": "stream",
     "text": [
      " 23%|████████████████████████████████████████████▏                                                                                                                                                   | 836/3632 [1:33:50<6:10:12,  7.94s/it]"
     ]
    },
    {
     "name": "stdout",
     "output_type": "stream",
     "text": [
      "https://www.moneydj.com/funddj/yl/yp013000.djhtm?a=ACFP52\n"
     ]
    },
    {
     "name": "stderr",
     "output_type": "stream",
     "text": [
      " 24%|█████████████████████████████████████████████▍                                                                                                                                                  | 860/3632 [1:36:28<4:23:30,  5.70s/it]"
     ]
    },
    {
     "name": "stdout",
     "output_type": "stream",
     "text": [
      "https://www.moneydj.com/funddj/yl/yp013000.djhtm?a=ACCY132\n"
     ]
    },
    {
     "name": "stderr",
     "output_type": "stream",
     "text": [
      " 24%|██████████████████████████████████████████████▏                                                                                                                                                 | 874/3632 [1:38:11<5:41:06,  7.42s/it]"
     ]
    },
    {
     "name": "stdout",
     "output_type": "stream",
     "text": [
      "https://www.moneydj.com/funddj/yl/yp013000.djhtm?a=ACFP60\n"
     ]
    },
    {
     "name": "stderr",
     "output_type": "stream",
     "text": [
      " 25%|████████████████████████████████████████████████                                                                                                                                                | 910/3632 [1:42:06<4:53:35,  6.47s/it]"
     ]
    },
    {
     "name": "stdout",
     "output_type": "stream",
     "text": [
      "https://www.moneydj.com/funddj/yl/yp013000.djhtm?a=ACFP65\n"
     ]
    },
    {
     "name": "stderr",
     "output_type": "stream",
     "text": [
      " 25%|████████████████████████████████████████████████▎                                                                                                                                               | 914/3632 [1:42:35<4:58:50,  6.60s/it]"
     ]
    },
    {
     "name": "stdout",
     "output_type": "stream",
     "text": [
      "https://www.moneydj.com/funddj/yl/yp013000.djhtm?a=ACYT82\n"
     ]
    },
    {
     "name": "stderr",
     "output_type": "stream",
     "text": [
      " 26%|█████████████████████████████████████████████████                                                                                                                                               | 928/3632 [1:44:07<4:51:14,  6.46s/it]"
     ]
    },
    {
     "name": "stdout",
     "output_type": "stream",
     "text": [
      "https://www.moneydj.com/funddj/yl/yp013000.djhtm?a=ACFP80\n"
     ]
    },
    {
     "name": "stderr",
     "output_type": "stream",
     "text": [
      " 26%|█████████████████████████████████████████████████▋                                                                                                                                              | 939/3632 [1:45:19<4:56:30,  6.61s/it]"
     ]
    },
    {
     "name": "stdout",
     "output_type": "stream",
     "text": [
      "https://www.moneydj.com/funddj/yl/yp013000.djhtm?a=ACFH62\n"
     ]
    },
    {
     "name": "stderr",
     "output_type": "stream",
     "text": [
      "\r",
      " 26%|█████████████████████████████████████████████████▋                                                                                                                                              | 940/3632 [1:45:30<5:56:41,  7.95s/it]"
     ]
    },
    {
     "name": "stdout",
     "output_type": "stream",
     "text": [
      "https://www.moneydj.com/funddj/yl/yp013000.djhtm?a=ACFP67\n"
     ]
    },
    {
     "name": "stderr",
     "output_type": "stream",
     "text": [
      " 26%|██████████████████████████████████████████████████                                                                                                                                              | 946/3632 [1:46:06<4:20:43,  5.82s/it]"
     ]
    },
    {
     "name": "stdout",
     "output_type": "stream",
     "text": [
      "https://www.moneydj.com/funddj/yl/yp013000.djhtm?a=ACFP73\n"
     ]
    },
    {
     "name": "stderr",
     "output_type": "stream",
     "text": [
      "\r",
      " 26%|██████████████████████████████████████████████████                                                                                                                                              | 947/3632 [1:46:18<5:44:50,  7.71s/it]"
     ]
    },
    {
     "name": "stdout",
     "output_type": "stream",
     "text": [
      "https://www.moneydj.com/funddj/yl/yp013000.djhtm?a=ACDS62\n"
     ]
    },
    {
     "name": "stderr",
     "output_type": "stream",
     "text": [
      " 27%|███████████████████████████████████████████████████▌                                                                                                                                            | 975/3632 [1:49:18<4:47:35,  6.49s/it]"
     ]
    },
    {
     "name": "stdout",
     "output_type": "stream",
     "text": [
      "https://www.moneydj.com/funddj/yl/yp013000.djhtm?a=ACAI103\n"
     ]
    },
    {
     "name": "stderr",
     "output_type": "stream",
     "text": [
      "\r",
      " 27%|███████████████████████████████████████████████████▌                                                                                                                                            | 976/3632 [1:49:27<5:16:08,  7.14s/it]"
     ]
    },
    {
     "name": "stdout",
     "output_type": "stream",
     "text": [
      "https://www.moneydj.com/funddj/yl/yp013000.djhtm?a=ACAI104\n"
     ]
    },
    {
     "name": "stderr",
     "output_type": "stream",
     "text": [
      "\r",
      " 27%|███████████████████████████████████████████████████▋                                                                                                                                            | 977/3632 [1:49:35<5:32:22,  7.51s/it]"
     ]
    },
    {
     "name": "stdout",
     "output_type": "stream",
     "text": [
      "https://www.moneydj.com/funddj/yl/yp013000.djhtm?a=ACAI105\n"
     ]
    },
    {
     "name": "stderr",
     "output_type": "stream",
     "text": [
      " 31%|██████████████████████████████████████████████████████████▎                                                                                                                                    | 1108/3632 [2:03:44<4:03:27,  5.79s/it]"
     ]
    },
    {
     "name": "stdout",
     "output_type": "stream",
     "text": [
      "https://www.moneydj.com/funddj/yl/yp013000.djhtm?a=ACCP174\n"
     ]
    },
    {
     "name": "stderr",
     "output_type": "stream",
     "text": [
      " 39%|██████████████████████████████████████████████████████████████████████████▍                                                                                                                    | 1416/3632 [2:35:52<4:18:34,  7.00s/it]"
     ]
    },
    {
     "name": "stdout",
     "output_type": "stream",
     "text": [
      "https://www.moneydj.com/funddj/yl/yp013000.djhtm?a=ACUI65\n"
     ]
    },
    {
     "name": "stderr",
     "output_type": "stream",
     "text": [
      "\r",
      " 39%|██████████████████████████████████████████████████████████████████████████▌                                                                                                                    | 1417/3632 [2:36:02<4:50:33,  7.87s/it]"
     ]
    },
    {
     "name": "stdout",
     "output_type": "stream",
     "text": [
      "https://www.moneydj.com/funddj/yl/yp013000.djhtm?a=ACUI66\n"
     ]
    },
    {
     "name": "stderr",
     "output_type": "stream",
     "text": [
      "\r",
      " 39%|██████████████████████████████████████████████████████████████████████████▌                                                                                                                    | 1418/3632 [2:36:12<5:09:46,  8.40s/it]"
     ]
    },
    {
     "name": "stdout",
     "output_type": "stream",
     "text": [
      "https://www.moneydj.com/funddj/yl/yp013000.djhtm?a=ACUI63\n"
     ]
    },
    {
     "name": "stderr",
     "output_type": "stream",
     "text": [
      "\r",
      " 39%|██████████████████████████████████████████████████████████████████████████▌                                                                                                                    | 1419/3632 [2:36:23<5:44:12,  9.33s/it]"
     ]
    },
    {
     "name": "stdout",
     "output_type": "stream",
     "text": [
      "https://www.moneydj.com/funddj/yl/yp013000.djhtm?a=ACUI64\n"
     ]
    },
    {
     "name": "stderr",
     "output_type": "stream",
     "text": [
      " 41%|█████████████████████████████████████████████████████████████████████████████▌                                                                                                                 | 1476/3632 [2:42:28<3:31:57,  5.90s/it]"
     ]
    },
    {
     "name": "stdout",
     "output_type": "stream",
     "text": [
      "https://www.moneydj.com/funddj/yl/yp013000.djhtm?a=ACAI244\n"
     ]
    },
    {
     "name": "stderr",
     "output_type": "stream",
     "text": [
      "\r",
      " 41%|█████████████████████████████████████████████████████████████████████████████▋                                                                                                                 | 1477/3632 [2:42:38<4:22:28,  7.31s/it]"
     ]
    },
    {
     "name": "stdout",
     "output_type": "stream",
     "text": [
      "https://www.moneydj.com/funddj/yl/yp013000.djhtm?a=ACAI248\n"
     ]
    },
    {
     "name": "stderr",
     "output_type": "stream",
     "text": [
      "\r",
      " 41%|█████████████████████████████████████████████████████████████████████████████▋                                                                                                                 | 1478/3632 [2:42:50<5:09:07,  8.61s/it]"
     ]
    },
    {
     "name": "stdout",
     "output_type": "stream",
     "text": [
      "https://www.moneydj.com/funddj/yl/yp013000.djhtm?a=ACAI252\n"
     ]
    },
    {
     "name": "stderr",
     "output_type": "stream",
     "text": [
      "\r",
      " 41%|█████████████████████████████████████████████████████████████████████████████▊                                                                                                                 | 1479/3632 [2:43:00<5:19:45,  8.91s/it]"
     ]
    },
    {
     "name": "stdout",
     "output_type": "stream",
     "text": [
      "https://www.moneydj.com/funddj/yl/yp013000.djhtm?a=ACAI256\n"
     ]
    },
    {
     "name": "stderr",
     "output_type": "stream",
     "text": [
      "\r",
      " 41%|█████████████████████████████████████████████████████████████████████████████▊                                                                                                                 | 1480/3632 [2:43:11<5:47:36,  9.69s/it]"
     ]
    },
    {
     "name": "stdout",
     "output_type": "stream",
     "text": [
      "https://www.moneydj.com/funddj/yl/yp013000.djhtm?a=ACAI257\n"
     ]
    },
    {
     "name": "stderr",
     "output_type": "stream",
     "text": [
      "\r",
      " 41%|█████████████████████████████████████████████████████████████████████████████▉                                                                                                                 | 1481/3632 [2:43:22<5:57:25,  9.97s/it]"
     ]
    },
    {
     "name": "stdout",
     "output_type": "stream",
     "text": [
      "https://www.moneydj.com/funddj/yl/yp013000.djhtm?a=ACAI258\n"
     ]
    },
    {
     "name": "stderr",
     "output_type": "stream",
     "text": [
      "\r",
      " 41%|█████████████████████████████████████████████████████████████████████████████▉                                                                                                                 | 1482/3632 [2:43:30<5:42:23,  9.55s/it]"
     ]
    },
    {
     "name": "stdout",
     "output_type": "stream",
     "text": [
      "https://www.moneydj.com/funddj/yl/yp013000.djhtm?a=ACAI259\n"
     ]
    },
    {
     "name": "stderr",
     "output_type": "stream",
     "text": [
      "\r",
      " 41%|█████████████████████████████████████████████████████████████████████████████▉                                                                                                                 | 1483/3632 [2:43:42<6:03:09, 10.14s/it]"
     ]
    },
    {
     "name": "stdout",
     "output_type": "stream",
     "text": [
      "https://www.moneydj.com/funddj/yl/yp013000.djhtm?a=ACAI260\n"
     ]
    },
    {
     "name": "stderr",
     "output_type": "stream",
     "text": [
      "\r",
      " 41%|██████████████████████████████████████████████████████████████████████████████                                                                                                                 | 1484/3632 [2:43:51<5:58:07, 10.00s/it]"
     ]
    },
    {
     "name": "stdout",
     "output_type": "stream",
     "text": [
      "https://www.moneydj.com/funddj/yl/yp013000.djhtm?a=ACAI292\n"
     ]
    },
    {
     "name": "stderr",
     "output_type": "stream",
     "text": [
      "\r",
      " 41%|██████████████████████████████████████████████████████████████████████████████                                                                                                                 | 1485/3632 [2:44:01<5:48:34,  9.74s/it]"
     ]
    },
    {
     "name": "stdout",
     "output_type": "stream",
     "text": [
      "https://www.moneydj.com/funddj/yl/yp013000.djhtm?a=ACAI302\n"
     ]
    },
    {
     "name": "stderr",
     "output_type": "stream",
     "text": [
      "\r",
      " 41%|██████████████████████████████████████████████████████████████████████████████▏                                                                                                                | 1486/3632 [2:44:12<6:07:48, 10.28s/it]"
     ]
    },
    {
     "name": "stdout",
     "output_type": "stream",
     "text": [
      "https://www.moneydj.com/funddj/yl/yp013000.djhtm?a=ACAI308\n"
     ]
    },
    {
     "name": "stderr",
     "output_type": "stream",
     "text": [
      "\r",
      " 41%|██████████████████████████████████████████████████████████████████████████████▏                                                                                                                | 1487/3632 [2:44:24<6:21:01, 10.66s/it]"
     ]
    },
    {
     "name": "stdout",
     "output_type": "stream",
     "text": [
      "https://www.moneydj.com/funddj/yl/yp013000.djhtm?a=ACAI309\n"
     ]
    },
    {
     "name": "stderr",
     "output_type": "stream",
     "text": [
      "\r",
      " 41%|██████████████████████████████████████████████████████████████████████████████▎                                                                                                                | 1488/3632 [2:44:33<6:03:52, 10.18s/it]"
     ]
    },
    {
     "name": "stdout",
     "output_type": "stream",
     "text": [
      "https://www.moneydj.com/funddj/yl/yp013000.djhtm?a=ACCB121\n"
     ]
    },
    {
     "name": "stderr",
     "output_type": "stream",
     "text": [
      "\r",
      " 41%|██████████████████████████████████████████████████████████████████████████████▎                                                                                                                | 1489/3632 [2:44:45<6:24:55, 10.78s/it]"
     ]
    },
    {
     "name": "stdout",
     "output_type": "stream",
     "text": [
      "https://www.moneydj.com/funddj/yl/yp013000.djhtm?a=ACCB122\n"
     ]
    },
    {
     "name": "stderr",
     "output_type": "stream",
     "text": [
      "\r",
      " 41%|██████████████████████████████████████████████████████████████████████████████▎                                                                                                                | 1490/3632 [2:44:57<6:38:06, 11.15s/it]"
     ]
    },
    {
     "name": "stdout",
     "output_type": "stream",
     "text": [
      "https://www.moneydj.com/funddj/yl/yp013000.djhtm?a=ACCB123\n"
     ]
    },
    {
     "name": "stderr",
     "output_type": "stream",
     "text": [
      "\r",
      " 41%|██████████████████████████████████████████████████████████████████████████████▍                                                                                                                | 1491/3632 [2:45:07<6:23:43, 10.75s/it]"
     ]
    },
    {
     "name": "stdout",
     "output_type": "stream",
     "text": [
      "https://www.moneydj.com/funddj/yl/yp013000.djhtm?a=ACCB124\n"
     ]
    },
    {
     "name": "stderr",
     "output_type": "stream",
     "text": [
      "\r",
      " 41%|██████████████████████████████████████████████████████████████████████████████▍                                                                                                                | 1492/3632 [2:45:16<6:05:31, 10.25s/it]"
     ]
    },
    {
     "name": "stdout",
     "output_type": "stream",
     "text": [
      "https://www.moneydj.com/funddj/yl/yp013000.djhtm?a=ACCB125\n"
     ]
    },
    {
     "name": "stderr",
     "output_type": "stream",
     "text": [
      "\r",
      " 41%|██████████████████████████████████████████████████████████████████████████████▌                                                                                                                | 1493/3632 [2:45:27<6:13:42, 10.48s/it]"
     ]
    },
    {
     "name": "stdout",
     "output_type": "stream",
     "text": [
      "https://www.moneydj.com/funddj/yl/yp013000.djhtm?a=ACCB126\n"
     ]
    },
    {
     "name": "stderr",
     "output_type": "stream",
     "text": [
      "\r",
      " 41%|██████████████████████████████████████████████████████████████████████████████▌                                                                                                                | 1494/3632 [2:45:37<6:08:59, 10.36s/it]"
     ]
    },
    {
     "name": "stdout",
     "output_type": "stream",
     "text": [
      "https://www.moneydj.com/funddj/yl/yp013000.djhtm?a=ACCB127\n"
     ]
    },
    {
     "name": "stderr",
     "output_type": "stream",
     "text": [
      "\r",
      " 41%|██████████████████████████████████████████████████████████████████████████████▌                                                                                                                | 1495/3632 [2:45:49<6:27:07, 10.87s/it]"
     ]
    },
    {
     "name": "stdout",
     "output_type": "stream",
     "text": [
      "https://www.moneydj.com/funddj/yl/yp013000.djhtm?a=ACCB128\n"
     ]
    },
    {
     "name": "stderr",
     "output_type": "stream",
     "text": [
      "\r",
      " 41%|██████████████████████████████████████████████████████████████████████████████▋                                                                                                                | 1496/3632 [2:46:00<6:23:26, 10.77s/it]"
     ]
    },
    {
     "name": "stdout",
     "output_type": "stream",
     "text": [
      "https://www.moneydj.com/funddj/yl/yp013000.djhtm?a=ACCB129\n"
     ]
    },
    {
     "name": "stderr",
     "output_type": "stream",
     "text": [
      "\r",
      " 41%|██████████████████████████████████████████████████████████████████████████████▋                                                                                                                | 1497/3632 [2:46:11<6:26:32, 10.86s/it]"
     ]
    },
    {
     "name": "stdout",
     "output_type": "stream",
     "text": [
      "https://www.moneydj.com/funddj/yl/yp013000.djhtm?a=ACCB130\n"
     ]
    },
    {
     "name": "stderr",
     "output_type": "stream",
     "text": [
      "\r",
      " 41%|██████████████████████████████████████████████████████████████████████████████▊                                                                                                                | 1498/3632 [2:46:22<6:29:09, 10.94s/it]"
     ]
    },
    {
     "name": "stdout",
     "output_type": "stream",
     "text": [
      "https://www.moneydj.com/funddj/yl/yp013000.djhtm?a=ACDS102\n"
     ]
    },
    {
     "name": "stderr",
     "output_type": "stream",
     "text": [
      "\r",
      " 41%|██████████████████████████████████████████████████████████████████████████████▊                                                                                                                | 1499/3632 [2:46:31<6:06:27, 10.31s/it]"
     ]
    },
    {
     "name": "stdout",
     "output_type": "stream",
     "text": [
      "https://www.moneydj.com/funddj/yl/yp013000.djhtm?a=ACDS103\n"
     ]
    },
    {
     "name": "stderr",
     "output_type": "stream",
     "text": [
      "\r",
      " 41%|██████████████████████████████████████████████████████████████████████████████▉                                                                                                                | 1500/3632 [2:46:42<6:14:58, 10.55s/it]"
     ]
    },
    {
     "name": "stdout",
     "output_type": "stream",
     "text": [
      "https://www.moneydj.com/funddj/yl/yp013000.djhtm?a=ACDS104\n"
     ]
    },
    {
     "name": "stderr",
     "output_type": "stream",
     "text": [
      "\r",
      " 41%|██████████████████████████████████████████████████████████████████████████████▉                                                                                                                | 1501/3632 [2:46:54<6:31:28, 11.02s/it]"
     ]
    },
    {
     "name": "stdout",
     "output_type": "stream",
     "text": [
      "https://www.moneydj.com/funddj/yl/yp013000.djhtm?a=ACDS105\n"
     ]
    },
    {
     "name": "stderr",
     "output_type": "stream",
     "text": [
      "\r",
      " 41%|██████████████████████████████████████████████████████████████████████████████▉                                                                                                                | 1502/3632 [2:47:04<6:26:20, 10.88s/it]"
     ]
    },
    {
     "name": "stdout",
     "output_type": "stream",
     "text": [
      "https://www.moneydj.com/funddj/yl/yp013000.djhtm?a=ACDS106\n"
     ]
    },
    {
     "name": "stderr",
     "output_type": "stream",
     "text": [
      "\r",
      " 41%|███████████████████████████████████████████████████████████████████████████████                                                                                                                | 1503/3632 [2:47:13<6:00:43, 10.17s/it]"
     ]
    },
    {
     "name": "stdout",
     "output_type": "stream",
     "text": [
      "https://www.moneydj.com/funddj/yl/yp013000.djhtm?a=ACDS107\n"
     ]
    },
    {
     "name": "stderr",
     "output_type": "stream",
     "text": [
      "\r",
      " 41%|███████████████████████████████████████████████████████████████████████████████                                                                                                                | 1504/3632 [2:47:24<6:09:23, 10.42s/it]"
     ]
    },
    {
     "name": "stdout",
     "output_type": "stream",
     "text": [
      "https://www.moneydj.com/funddj/yl/yp013000.djhtm?a=ACCP185\n"
     ]
    },
    {
     "name": "stderr",
     "output_type": "stream",
     "text": [
      "\r",
      " 41%|███████████████████████████████████████████████████████████████████████████████▏                                                                                                               | 1505/3632 [2:47:34<6:06:03, 10.33s/it]"
     ]
    },
    {
     "name": "stdout",
     "output_type": "stream",
     "text": [
      "https://www.moneydj.com/funddj/yl/yp013000.djhtm?a=ACCP186\n"
     ]
    },
    {
     "name": "stderr",
     "output_type": "stream",
     "text": [
      "\r",
      " 41%|███████████████████████████████████████████████████████████████████████████████▏                                                                                                               | 1506/3632 [2:47:45<6:14:59, 10.58s/it]"
     ]
    },
    {
     "name": "stdout",
     "output_type": "stream",
     "text": [
      "https://www.moneydj.com/funddj/yl/yp013000.djhtm?a=ACCP187\n"
     ]
    },
    {
     "name": "stderr",
     "output_type": "stream",
     "text": [
      " 51%|█████████████████████████████████████████████████████████████████████████████████████████████████                                                                                              | 1846/3632 [3:23:16<3:09:27,  6.36s/it]"
     ]
    },
    {
     "name": "stdout",
     "output_type": "stream",
     "text": [
      "https://www.moneydj.com/funddj/yl/yp013000.djhtm?a=ACCP125\n"
     ]
    },
    {
     "name": "stderr",
     "output_type": "stream",
     "text": [
      "\r",
      " 51%|█████████████████████████████████████████████████████████████████████████████████████████████████▏                                                                                             | 1847/3632 [3:23:27<3:52:22,  7.81s/it]"
     ]
    },
    {
     "name": "stdout",
     "output_type": "stream",
     "text": [
      "https://www.moneydj.com/funddj/yl/yp013000.djhtm?a=ACCP127\n"
     ]
    },
    {
     "name": "stderr",
     "output_type": "stream",
     "text": [
      "\r",
      " 51%|█████████████████████████████████████████████████████████████████████████████████████████████████▏                                                                                             | 1848/3632 [3:23:38<4:16:25,  8.62s/it]"
     ]
    },
    {
     "name": "stdout",
     "output_type": "stream",
     "text": [
      "https://www.moneydj.com/funddj/yl/yp013000.djhtm?a=ACDD59\n"
     ]
    },
    {
     "name": "stderr",
     "output_type": "stream",
     "text": [
      "\r",
      " 51%|█████████████████████████████████████████████████████████████████████████████████████████████████▏                                                                                             | 1849/3632 [3:23:50<4:47:04,  9.66s/it]"
     ]
    },
    {
     "name": "stdout",
     "output_type": "stream",
     "text": [
      "https://www.moneydj.com/funddj/yl/yp013000.djhtm?a=ACDD60\n"
     ]
    },
    {
     "name": "stderr",
     "output_type": "stream",
     "text": [
      "\r",
      " 51%|█████████████████████████████████████████████████████████████████████████████████████████████████▎                                                                                             | 1850/3632 [3:24:01<4:59:38, 10.09s/it]"
     ]
    },
    {
     "name": "stdout",
     "output_type": "stream",
     "text": [
      "https://www.moneydj.com/funddj/yl/yp013000.djhtm?a=ACDD61\n"
     ]
    },
    {
     "name": "stderr",
     "output_type": "stream",
     "text": [
      "\r",
      " 51%|█████████████████████████████████████████████████████████████████████████████████████████████████▎                                                                                             | 1851/3632 [3:24:13<5:14:42, 10.60s/it]"
     ]
    },
    {
     "name": "stdout",
     "output_type": "stream",
     "text": [
      "https://www.moneydj.com/funddj/yl/yp013000.djhtm?a=ACDD62\n"
     ]
    },
    {
     "name": "stderr",
     "output_type": "stream",
     "text": [
      "\r",
      " 51%|█████████████████████████████████████████████████████████████████████████████████████████████████▍                                                                                             | 1852/3632 [3:24:24<5:17:01, 10.69s/it]"
     ]
    },
    {
     "name": "stdout",
     "output_type": "stream",
     "text": [
      "https://www.moneydj.com/funddj/yl/yp013000.djhtm?a=ACAI152\n"
     ]
    },
    {
     "name": "stderr",
     "output_type": "stream",
     "text": [
      "\r",
      " 51%|█████████████████████████████████████████████████████████████████████████████████████████████████▍                                                                                             | 1853/3632 [3:24:35<5:20:13, 10.80s/it]"
     ]
    },
    {
     "name": "stdout",
     "output_type": "stream",
     "text": [
      "https://www.moneydj.com/funddj/yl/yp013000.djhtm?a=ACAI155\n"
     ]
    },
    {
     "name": "stderr",
     "output_type": "stream",
     "text": [
      "\r",
      " 51%|█████████████████████████████████████████████████████████████████████████████████████████████████▍                                                                                             | 1854/3632 [3:24:45<5:17:55, 10.73s/it]"
     ]
    },
    {
     "name": "stdout",
     "output_type": "stream",
     "text": [
      "https://www.moneydj.com/funddj/yl/yp013000.djhtm?a=ACAI156\n"
     ]
    },
    {
     "name": "stderr",
     "output_type": "stream",
     "text": [
      "\r",
      " 51%|█████████████████████████████████████████████████████████████████████████████████████████████████▌                                                                                             | 1855/3632 [3:24:57<5:25:41, 11.00s/it]"
     ]
    },
    {
     "name": "stdout",
     "output_type": "stream",
     "text": [
      "https://www.moneydj.com/funddj/yl/yp013000.djhtm?a=ACAI157\n"
     ]
    },
    {
     "name": "stderr",
     "output_type": "stream",
     "text": [
      "\r",
      " 51%|█████████████████████████████████████████████████████████████████████████████████████████████████▌                                                                                             | 1856/3632 [3:25:07<5:12:38, 10.56s/it]"
     ]
    },
    {
     "name": "stdout",
     "output_type": "stream",
     "text": [
      "https://www.moneydj.com/funddj/yl/yp013000.djhtm?a=ACAI158\n"
     ]
    },
    {
     "name": "stderr",
     "output_type": "stream",
     "text": [
      "\r",
      " 51%|█████████████████████████████████████████████████████████████████████████████████████████████████▋                                                                                             | 1857/3632 [3:25:17<5:07:05, 10.38s/it]"
     ]
    },
    {
     "name": "stdout",
     "output_type": "stream",
     "text": [
      "https://www.moneydj.com/funddj/yl/yp013000.djhtm?a=ACAI159\n"
     ]
    },
    {
     "name": "stderr",
     "output_type": "stream",
     "text": [
      "\r",
      " 51%|█████████████████████████████████████████████████████████████████████████████████████████████████▋                                                                                             | 1858/3632 [3:25:27<5:08:06, 10.42s/it]"
     ]
    },
    {
     "name": "stdout",
     "output_type": "stream",
     "text": [
      "https://www.moneydj.com/funddj/yl/yp013000.djhtm?a=ACAI160\n"
     ]
    },
    {
     "name": "stderr",
     "output_type": "stream",
     "text": [
      "\r",
      " 51%|█████████████████████████████████████████████████████████████████████████████████████████████████▊                                                                                             | 1859/3632 [3:25:37<5:00:02, 10.15s/it]"
     ]
    },
    {
     "name": "stdout",
     "output_type": "stream",
     "text": [
      "https://www.moneydj.com/funddj/yl/yp013000.djhtm?a=ACAI161\n"
     ]
    },
    {
     "name": "stderr",
     "output_type": "stream",
     "text": [
      "\r",
      " 51%|█████████████████████████████████████████████████████████████████████████████████████████████████▊                                                                                             | 1860/3632 [3:25:45<4:41:51,  9.54s/it]"
     ]
    },
    {
     "name": "stdout",
     "output_type": "stream",
     "text": [
      "https://www.moneydj.com/funddj/yl/yp013000.djhtm?a=ACAI162\n"
     ]
    },
    {
     "name": "stderr",
     "output_type": "stream",
     "text": [
      "\r",
      " 51%|█████████████████████████████████████████████████████████████████████████████████████████████████▊                                                                                             | 1861/3632 [3:25:56<4:54:14,  9.97s/it]"
     ]
    },
    {
     "name": "stdout",
     "output_type": "stream",
     "text": [
      "https://www.moneydj.com/funddj/yl/yp013000.djhtm?a=ACAI163\n"
     ]
    },
    {
     "name": "stderr",
     "output_type": "stream",
     "text": [
      "\r",
      " 51%|█████████████████████████████████████████████████████████████████████████████████████████████████▉                                                                                             | 1862/3632 [3:26:06<4:59:43, 10.16s/it]"
     ]
    },
    {
     "name": "stdout",
     "output_type": "stream",
     "text": [
      "https://www.moneydj.com/funddj/yl/yp013000.djhtm?a=ACAI164\n"
     ]
    },
    {
     "name": "stderr",
     "output_type": "stream",
     "text": [
      "\r",
      " 51%|█████████████████████████████████████████████████████████████████████████████████████████████████▉                                                                                             | 1863/3632 [3:26:14<4:40:31,  9.51s/it]"
     ]
    },
    {
     "name": "stdout",
     "output_type": "stream",
     "text": [
      "https://www.moneydj.com/funddj/yl/yp013000.djhtm?a=ACAI278\n"
     ]
    },
    {
     "name": "stderr",
     "output_type": "stream",
     "text": [
      "\r",
      " 51%|██████████████████████████████████████████████████████████████████████████████████████████████████                                                                                             | 1864/3632 [3:26:24<4:44:49,  9.67s/it]"
     ]
    },
    {
     "name": "stdout",
     "output_type": "stream",
     "text": [
      "https://www.moneydj.com/funddj/yl/yp013000.djhtm?a=ACAI279\n"
     ]
    },
    {
     "name": "stderr",
     "output_type": "stream",
     "text": [
      "\r",
      " 51%|██████████████████████████████████████████████████████████████████████████████████████████████████                                                                                             | 1865/3632 [3:26:33<4:35:23,  9.35s/it]"
     ]
    },
    {
     "name": "stdout",
     "output_type": "stream",
     "text": [
      "https://www.moneydj.com/funddj/yl/yp013000.djhtm?a=ACAI280\n"
     ]
    },
    {
     "name": "stderr",
     "output_type": "stream",
     "text": [
      "\r",
      " 51%|██████████████████████████████████████████████████████████████████████████████████████████████████▏                                                                                            | 1866/3632 [3:26:41<4:23:13,  8.94s/it]"
     ]
    },
    {
     "name": "stdout",
     "output_type": "stream",
     "text": [
      "https://www.moneydj.com/funddj/yl/yp013000.djhtm?a=ACAI281\n"
     ]
    },
    {
     "name": "stderr",
     "output_type": "stream",
     "text": [
      "\r",
      " 51%|██████████████████████████████████████████████████████████████████████████████████████████████████▏                                                                                            | 1867/3632 [3:26:49<4:13:19,  8.61s/it]"
     ]
    },
    {
     "name": "stdout",
     "output_type": "stream",
     "text": [
      "https://www.moneydj.com/funddj/yl/yp013000.djhtm?a=ACAI332\n"
     ]
    },
    {
     "name": "stderr",
     "output_type": "stream",
     "text": [
      "\r",
      " 51%|██████████████████████████████████████████████████████████████████████████████████████████████████▏                                                                                            | 1868/3632 [3:26:59<4:25:32,  9.03s/it]"
     ]
    },
    {
     "name": "stdout",
     "output_type": "stream",
     "text": [
      "https://www.moneydj.com/funddj/yl/yp013000.djhtm?a=ACAI329\n"
     ]
    },
    {
     "name": "stderr",
     "output_type": "stream",
     "text": [
      "\r",
      " 51%|██████████████████████████████████████████████████████████████████████████████████████████████████▎                                                                                            | 1869/3632 [3:27:09<4:31:23,  9.24s/it]"
     ]
    },
    {
     "name": "stdout",
     "output_type": "stream",
     "text": [
      "https://www.moneydj.com/funddj/yl/yp013000.djhtm?a=ACAI319\n"
     ]
    },
    {
     "name": "stderr",
     "output_type": "stream",
     "text": [
      "\r",
      " 51%|██████████████████████████████████████████████████████████████████████████████████████████████████▎                                                                                            | 1870/3632 [3:27:18<4:34:32,  9.35s/it]"
     ]
    },
    {
     "name": "stdout",
     "output_type": "stream",
     "text": [
      "https://www.moneydj.com/funddj/yl/yp013000.djhtm?a=ACAI314\n"
     ]
    },
    {
     "name": "stderr",
     "output_type": "stream",
     "text": [
      "\r",
      " 52%|██████████████████████████████████████████████████████████████████████████████████████████████████▍                                                                                            | 1871/3632 [3:27:27<4:30:56,  9.23s/it]"
     ]
    },
    {
     "name": "stdout",
     "output_type": "stream",
     "text": [
      "https://www.moneydj.com/funddj/yl/yp013000.djhtm?a=ACAI315\n"
     ]
    },
    {
     "name": "stderr",
     "output_type": "stream",
     "text": [
      "\r",
      " 52%|██████████████████████████████████████████████████████████████████████████████████████████████████▍                                                                                            | 1872/3632 [3:27:36<4:28:59,  9.17s/it]"
     ]
    },
    {
     "name": "stdout",
     "output_type": "stream",
     "text": [
      "https://www.moneydj.com/funddj/yl/yp013000.djhtm?a=ACAI316\n"
     ]
    },
    {
     "name": "stderr",
     "output_type": "stream",
     "text": [
      "\r",
      " 52%|██████████████████████████████████████████████████████████████████████████████████████████████████▍                                                                                            | 1873/3632 [3:27:47<4:41:56,  9.62s/it]"
     ]
    },
    {
     "name": "stdout",
     "output_type": "stream",
     "text": [
      "https://www.moneydj.com/funddj/yl/yp013000.djhtm?a=ACFH66\n"
     ]
    },
    {
     "name": "stderr",
     "output_type": "stream",
     "text": [
      "\r",
      " 52%|██████████████████████████████████████████████████████████████████████████████████████████████████▌                                                                                            | 1874/3632 [3:27:54<4:24:05,  9.01s/it]"
     ]
    },
    {
     "name": "stdout",
     "output_type": "stream",
     "text": [
      "https://www.moneydj.com/funddj/yl/yp013000.djhtm?a=ACML77\n"
     ]
    },
    {
     "name": "stderr",
     "output_type": "stream",
     "text": [
      " 67%|███████████████████████████████████████████████████████████████████████████████████████████████████████████████████████████████▋                                                               | 2427/3632 [4:26:40<2:07:47,  6.36s/it]"
     ]
    },
    {
     "name": "stdout",
     "output_type": "stream",
     "text": [
      "https://www.moneydj.com/funddj/yl/yp013000.djhtm?a=ACTT140\n"
     ]
    },
    {
     "name": "stderr",
     "output_type": "stream",
     "text": [
      "\r",
      " 67%|███████████████████████████████████████████████████████████████████████████████████████████████████████████████████████████████▋                                                               | 2428/3632 [4:26:49<2:24:13,  7.19s/it]"
     ]
    },
    {
     "name": "stdout",
     "output_type": "stream",
     "text": [
      "https://www.moneydj.com/funddj/yl/yp013000.djhtm?a=ACTT141\n"
     ]
    },
    {
     "name": "stderr",
     "output_type": "stream",
     "text": [
      "\r",
      " 67%|███████████████████████████████████████████████████████████████████████████████████████████████████████████████████████████████▋                                                               | 2429/3632 [4:26:57<2:27:18,  7.35s/it]"
     ]
    },
    {
     "name": "stdout",
     "output_type": "stream",
     "text": [
      "https://www.moneydj.com/funddj/yl/yp013000.djhtm?a=ACTT142\n"
     ]
    },
    {
     "name": "stderr",
     "output_type": "stream",
     "text": [
      "\r",
      " 67%|███████████████████████████████████████████████████████████████████████████████████████████████████████████████████████████████▊                                                               | 2430/3632 [4:27:05<2:32:54,  7.63s/it]"
     ]
    },
    {
     "name": "stdout",
     "output_type": "stream",
     "text": [
      "https://www.moneydj.com/funddj/yl/yp013000.djhtm?a=ACTT143\n"
     ]
    },
    {
     "name": "stderr",
     "output_type": "stream",
     "text": [
      "\r",
      " 67%|███████████████████████████████████████████████████████████████████████████████████████████████████████████████████████████████▊                                                               | 2431/3632 [4:27:14<2:44:55,  8.24s/it]"
     ]
    },
    {
     "name": "stdout",
     "output_type": "stream",
     "text": [
      "https://www.moneydj.com/funddj/yl/yp013000.djhtm?a=ACTT144\n"
     ]
    },
    {
     "name": "stderr",
     "output_type": "stream",
     "text": [
      "\r",
      " 67%|███████████████████████████████████████████████████████████████████████████████████████████████████████████████████████████████▉                                                               | 2432/3632 [4:27:26<3:01:37,  9.08s/it]"
     ]
    },
    {
     "name": "stdout",
     "output_type": "stream",
     "text": [
      "https://www.moneydj.com/funddj/yl/yp013000.djhtm?a=ACTT145\n"
     ]
    },
    {
     "name": "stderr",
     "output_type": "stream",
     "text": [
      "\r",
      " 67%|███████████████████████████████████████████████████████████████████████████████████████████████████████████████████████████████▉                                                               | 2433/3632 [4:27:34<2:58:32,  8.93s/it]"
     ]
    },
    {
     "name": "stdout",
     "output_type": "stream",
     "text": [
      "https://www.moneydj.com/funddj/yl/yp013000.djhtm?a=ACTT146\n"
     ]
    },
    {
     "name": "stderr",
     "output_type": "stream",
     "text": [
      "\r",
      " 67%|███████████████████████████████████████████████████████████████████████████████████████████████████████████████████████████████▉                                                               | 2434/3632 [4:27:45<3:10:58,  9.56s/it]"
     ]
    },
    {
     "name": "stdout",
     "output_type": "stream",
     "text": [
      "https://www.moneydj.com/funddj/yl/yp013000.djhtm?a=ACTT139\n"
     ]
    },
    {
     "name": "stderr",
     "output_type": "stream",
     "text": [
      "\r",
      " 67%|████████████████████████████████████████████████████████████████████████████████████████████████████████████████████████████████                                                               | 2435/3632 [4:27:53<3:02:18,  9.14s/it]"
     ]
    },
    {
     "name": "stdout",
     "output_type": "stream",
     "text": [
      "https://www.moneydj.com/funddj/yl/yp013000.djhtm?a=ACTI42\n"
     ]
    },
    {
     "name": "stderr",
     "output_type": "stream",
     "text": [
      "\r",
      " 67%|████████████████████████████████████████████████████████████████████████████████████████████████████████████████████████████████                                                               | 2436/3632 [4:28:03<3:07:48,  9.42s/it]"
     ]
    },
    {
     "name": "stdout",
     "output_type": "stream",
     "text": [
      "https://www.moneydj.com/funddj/yl/yp013000.djhtm?a=ACAI122\n"
     ]
    },
    {
     "name": "stderr",
     "output_type": "stream",
     "text": [
      "\r",
      " 67%|████████████████████████████████████████████████████████████████████████████████████████████████████████████████████████████████▏                                                              | 2437/3632 [4:28:15<3:23:25, 10.21s/it]"
     ]
    },
    {
     "name": "stdout",
     "output_type": "stream",
     "text": [
      "https://www.moneydj.com/funddj/yl/yp013000.djhtm?a=ACAI123\n"
     ]
    },
    {
     "name": "stderr",
     "output_type": "stream",
     "text": [
      "\r",
      " 67%|████████████████████████████████████████████████████████████████████████████████████████████████████████████████████████████████▏                                                              | 2438/3632 [4:28:24<3:16:27,  9.87s/it]"
     ]
    },
    {
     "name": "stdout",
     "output_type": "stream",
     "text": [
      "https://www.moneydj.com/funddj/yl/yp013000.djhtm?a=ACAI224\n"
     ]
    },
    {
     "name": "stderr",
     "output_type": "stream",
     "text": [
      "\r",
      " 67%|████████████████████████████████████████████████████████████████████████████████████████████████████████████████████████████████▎                                                              | 2439/3632 [4:28:35<3:17:56,  9.95s/it]"
     ]
    },
    {
     "name": "stdout",
     "output_type": "stream",
     "text": [
      "https://www.moneydj.com/funddj/yl/yp013000.djhtm?a=ACAI225\n"
     ]
    },
    {
     "name": "stderr",
     "output_type": "stream",
     "text": [
      "\r",
      " 67%|████████████████████████████████████████████████████████████████████████████████████████████████████████████████████████████████▎                                                              | 2440/3632 [4:28:43<3:09:18,  9.53s/it]"
     ]
    },
    {
     "name": "stdout",
     "output_type": "stream",
     "text": [
      "https://www.moneydj.com/funddj/yl/yp013000.djhtm?a=ACAI186\n"
     ]
    },
    {
     "name": "stderr",
     "output_type": "stream",
     "text": [
      "\r",
      " 67%|████████████████████████████████████████████████████████████████████████████████████████████████████████████████████████████████▎                                                              | 2441/3632 [4:28:53<3:12:17,  9.69s/it]"
     ]
    },
    {
     "name": "stdout",
     "output_type": "stream",
     "text": [
      "https://www.moneydj.com/funddj/yl/yp013000.djhtm?a=ACAI240\n"
     ]
    },
    {
     "name": "stderr",
     "output_type": "stream",
     "text": [
      "\r",
      " 67%|████████████████████████████████████████████████████████████████████████████████████████████████████████████████████████████████▍                                                              | 2442/3632 [4:29:02<3:04:13,  9.29s/it]"
     ]
    },
    {
     "name": "stdout",
     "output_type": "stream",
     "text": [
      "https://www.moneydj.com/funddj/yl/yp013000.djhtm?a=ACAI236\n"
     ]
    },
    {
     "name": "stderr",
     "output_type": "stream",
     "text": [
      "\r",
      " 67%|████████████████████████████████████████████████████████████████████████████████████████████████████████████████████████████████▍                                                              | 2443/3632 [4:29:10<3:01:34,  9.16s/it]"
     ]
    },
    {
     "name": "stdout",
     "output_type": "stream",
     "text": [
      "https://www.moneydj.com/funddj/yl/yp013000.djhtm?a=ACAI237\n"
     ]
    },
    {
     "name": "stderr",
     "output_type": "stream",
     "text": [
      "\r",
      " 67%|████████████████████████████████████████████████████████████████████████████████████████████████████████████████████████████████▌                                                              | 2444/3632 [4:29:21<3:06:44,  9.43s/it]"
     ]
    },
    {
     "name": "stdout",
     "output_type": "stream",
     "text": [
      "https://www.moneydj.com/funddj/yl/yp013000.djhtm?a=ACAI232\n"
     ]
    },
    {
     "name": "stderr",
     "output_type": "stream",
     "text": [
      "\r",
      " 67%|████████████████████████████████████████████████████████████████████████████████████████████████████████████████████████████████▌                                                              | 2445/3632 [4:29:29<2:58:09,  9.01s/it]"
     ]
    },
    {
     "name": "stdout",
     "output_type": "stream",
     "text": [
      "https://www.moneydj.com/funddj/yl/yp013000.djhtm?a=ACAI76\n"
     ]
    },
    {
     "name": "stderr",
     "output_type": "stream",
     "text": [
      " 70%|████████████████████████████████████████████████████████████████████████████████████████████████████████████████████████████████████▊                                                          | 2526/3632 [4:38:07<1:42:10,  5.54s/it]"
     ]
    },
    {
     "name": "stdout",
     "output_type": "stream",
     "text": [
      "https://www.moneydj.com/funddj/yl/yp013000.djhtm?a=ACYT100\n"
     ]
    },
    {
     "name": "stderr",
     "output_type": "stream",
     "text": [
      "\r",
      " 70%|████████████████████████████████████████████████████████████████████████████████████████████████████████████████████████████████████▉                                                          | 2527/3632 [4:38:16<1:59:22,  6.48s/it]"
     ]
    },
    {
     "name": "stdout",
     "output_type": "stream",
     "text": [
      "https://www.moneydj.com/funddj/yl/yp013000.djhtm?a=ACCY94\n"
     ]
    },
    {
     "name": "stderr",
     "output_type": "stream",
     "text": [
      " 82%|████████████████████████████████████████████████████████████████████████████████████████████████████████████████████████████████████████████████████████████▏                                  | 2970/3632 [5:25:27<1:08:39,  6.22s/it]"
     ]
    },
    {
     "name": "stdout",
     "output_type": "stream",
     "text": [
      "https://www.moneydj.com/funddj/yl/yp013000.djhtm?a=ACDS79\n"
     ]
    },
    {
     "name": "stderr",
     "output_type": "stream",
     "text": [
      "\r",
      " 82%|████████████████████████████████████████████████████████████████████████████████████████████████████████████████████████████████████████████████████████████▏                                  | 2971/3632 [5:25:38<1:24:51,  7.70s/it]"
     ]
    },
    {
     "name": "stdout",
     "output_type": "stream",
     "text": [
      "https://www.moneydj.com/funddj/yl/yp013000.djhtm?a=ACDS80\n"
     ]
    },
    {
     "name": "stderr",
     "output_type": "stream",
     "text": [
      "\r",
      " 82%|████████████████████████████████████████████████████████████████████████████████████████████████████████████████████████████████████████████████████████████▎                                  | 2972/3632 [5:25:50<1:37:25,  8.86s/it]"
     ]
    },
    {
     "name": "stdout",
     "output_type": "stream",
     "text": [
      "https://www.moneydj.com/funddj/yl/yp013000.djhtm?a=ACCA269\n"
     ]
    },
    {
     "name": "stderr",
     "output_type": "stream",
     "text": [
      "\r",
      " 82%|████████████████████████████████████████████████████████████████████████████████████████████████████████████████████████████████████████████████████████████▎                                  | 2973/3632 [5:25:58<1:36:07,  8.75s/it]"
     ]
    },
    {
     "name": "stdout",
     "output_type": "stream",
     "text": [
      "https://www.moneydj.com/funddj/yl/yp013000.djhtm?a=ACCA270\n"
     ]
    },
    {
     "name": "stderr",
     "output_type": "stream",
     "text": [
      "\r",
      " 82%|████████████████████████████████████████████████████████████████████████████████████████████████████████████████████████████████████████████████████████████▍                                  | 2974/3632 [5:26:10<1:45:12,  9.59s/it]"
     ]
    },
    {
     "name": "stdout",
     "output_type": "stream",
     "text": [
      "https://www.moneydj.com/funddj/yl/yp013000.djhtm?a=ACCA271\n"
     ]
    },
    {
     "name": "stderr",
     "output_type": "stream",
     "text": [
      "\r",
      " 82%|████████████████████████████████████████████████████████████████████████████████████████████████████████████████████████████████████████████████████████████▍                                  | 2975/3632 [5:26:22<1:51:35, 10.19s/it]"
     ]
    },
    {
     "name": "stdout",
     "output_type": "stream",
     "text": [
      "https://www.moneydj.com/funddj/yl/yp013000.djhtm?a=ACCA272\n"
     ]
    },
    {
     "name": "stderr",
     "output_type": "stream",
     "text": [
      "\r",
      " 82%|████████████████████████████████████████████████████████████████████████████████████████████████████████████████████████████████████████████████████████████▌                                  | 2976/3632 [5:26:31<1:49:19, 10.00s/it]"
     ]
    },
    {
     "name": "stdout",
     "output_type": "stream",
     "text": [
      "https://www.moneydj.com/funddj/yl/yp013000.djhtm?a=ACAI144\n"
     ]
    },
    {
     "name": "stderr",
     "output_type": "stream",
     "text": [
      "\r",
      " 82%|████████████████████████████████████████████████████████████████████████████████████████████████████████████████████████████████████████████████████████████▌                                  | 2977/3632 [5:26:43<1:54:11, 10.46s/it]"
     ]
    },
    {
     "name": "stdout",
     "output_type": "stream",
     "text": [
      "https://www.moneydj.com/funddj/yl/yp013000.djhtm?a=ACAI145\n"
     ]
    },
    {
     "name": "stderr",
     "output_type": "stream",
     "text": [
      "\r",
      " 82%|████████████████████████████████████████████████████████████████████████████████████████████████████████████████████████████████████████████████████████████▌                                  | 2978/3632 [5:26:52<1:50:28, 10.13s/it]"
     ]
    },
    {
     "name": "stdout",
     "output_type": "stream",
     "text": [
      "https://www.moneydj.com/funddj/yl/yp013000.djhtm?a=ACAI146\n"
     ]
    },
    {
     "name": "stderr",
     "output_type": "stream",
     "text": [
      "\r",
      " 82%|████████████████████████████████████████████████████████████████████████████████████████████████████████████████████████████████████████████████████████████▋                                  | 2979/3632 [5:27:01<1:46:35,  9.79s/it]"
     ]
    },
    {
     "name": "stdout",
     "output_type": "stream",
     "text": [
      "https://www.moneydj.com/funddj/yl/yp013000.djhtm?a=ACCB66\n"
     ]
    },
    {
     "name": "stderr",
     "output_type": "stream",
     "text": [
      "\r",
      " 82%|████████████████████████████████████████████████████████████████████████████████████████████████████████████████████████████████████████████████████████████▋                                  | 2980/3632 [5:27:13<1:54:04, 10.50s/it]"
     ]
    },
    {
     "name": "stdout",
     "output_type": "stream",
     "text": [
      "https://www.moneydj.com/funddj/yl/yp013000.djhtm?a=ACCB67\n"
     ]
    },
    {
     "name": "stderr",
     "output_type": "stream",
     "text": [
      " 85%|████████████████████████████████████████████████████████████████████████████████████████████████████████████████████████████████████████████████████████████████████▊                            | 3101/3632 [5:40:15<53:52,  6.09s/it]"
     ]
    },
    {
     "name": "stdout",
     "output_type": "stream",
     "text": [
      "https://www.moneydj.com/funddj/yl/yp013000.djhtm?a=ACCI77\n"
     ]
    },
    {
     "name": "stderr",
     "output_type": "stream",
     "text": [
      "\r",
      " 85%|███████████████████████████████████████████████████████████████████████████████████████████████████████████████████████████████████████████████████████████████████▏                           | 3102/3632 [5:40:24<1:01:43,  6.99s/it]"
     ]
    },
    {
     "name": "stdout",
     "output_type": "stream",
     "text": [
      "https://www.moneydj.com/funddj/yl/yp013000.djhtm?a=ACCI78\n"
     ]
    },
    {
     "name": "stderr",
     "output_type": "stream",
     "text": [
      "\r",
      " 85%|███████████████████████████████████████████████████████████████████████████████████████████████████████████████████████████████████████████████████████████████████▏                           | 3103/3632 [5:40:36<1:13:45,  8.36s/it]"
     ]
    },
    {
     "name": "stdout",
     "output_type": "stream",
     "text": [
      "https://www.moneydj.com/funddj/yl/yp013000.djhtm?a=ACCA265\n"
     ]
    },
    {
     "name": "stderr",
     "output_type": "stream",
     "text": [
      "\r",
      " 85%|███████████████████████████████████████████████████████████████████████████████████████████████████████████████████████████████████████████████████████████████████▏                           | 3104/3632 [5:40:45<1:16:29,  8.69s/it]"
     ]
    },
    {
     "name": "stdout",
     "output_type": "stream",
     "text": [
      "https://www.moneydj.com/funddj/yl/yp013000.djhtm?a=ACCA266\n"
     ]
    },
    {
     "name": "stderr",
     "output_type": "stream",
     "text": [
      "\r",
      " 85%|███████████████████████████████████████████████████████████████████████████████████████████████████████████████████████████████████████████████████████████████████▎                           | 3105/3632 [5:40:57<1:24:13,  9.59s/it]"
     ]
    },
    {
     "name": "stdout",
     "output_type": "stream",
     "text": [
      "https://www.moneydj.com/funddj/yl/yp013000.djhtm?a=ACCA267\n"
     ]
    },
    {
     "name": "stderr",
     "output_type": "stream",
     "text": [
      "\r",
      " 86%|███████████████████████████████████████████████████████████████████████████████████████████████████████████████████████████████████████████████████████████████████▎                           | 3106/3632 [5:41:08<1:29:08, 10.17s/it]"
     ]
    },
    {
     "name": "stdout",
     "output_type": "stream",
     "text": [
      "https://www.moneydj.com/funddj/yl/yp013000.djhtm?a=ACCA268\n"
     ]
    },
    {
     "name": "stderr",
     "output_type": "stream",
     "text": [
      "\r",
      " 86%|███████████████████████████████████████████████████████████████████████████████████████████████████████████████████████████████████████████████████████████████████▍                           | 3107/3632 [5:41:20<1:32:33, 10.58s/it]"
     ]
    },
    {
     "name": "stdout",
     "output_type": "stream",
     "text": [
      "https://www.moneydj.com/funddj/yl/yp013000.djhtm?a=ACAI182\n"
     ]
    },
    {
     "name": "stderr",
     "output_type": "stream",
     "text": [
      "\r",
      " 86%|███████████████████████████████████████████████████████████████████████████████████████████████████████████████████████████████████████████████████████████████████▍                           | 3108/3632 [5:41:32<1:36:33, 11.06s/it]"
     ]
    },
    {
     "name": "stdout",
     "output_type": "stream",
     "text": [
      "https://www.moneydj.com/funddj/yl/yp013000.djhtm?a=ACAI183\n"
     ]
    },
    {
     "name": "stderr",
     "output_type": "stream",
     "text": [
      "\r",
      " 86%|███████████████████████████████████████████████████████████████████████████████████████████████████████████████████████████████████████████████████████████████████▍                           | 3109/3632 [5:41:42<1:35:01, 10.90s/it]"
     ]
    },
    {
     "name": "stdout",
     "output_type": "stream",
     "text": [
      "https://www.moneydj.com/funddj/yl/yp013000.djhtm?a=ACAI184\n"
     ]
    },
    {
     "name": "stderr",
     "output_type": "stream",
     "text": [
      "\r",
      " 86%|███████████████████████████████████████████████████████████████████████████████████████████████████████████████████████████████████████████████████████████████████▌                           | 3110/3632 [5:41:53<1:32:45, 10.66s/it]"
     ]
    },
    {
     "name": "stdout",
     "output_type": "stream",
     "text": [
      "https://www.moneydj.com/funddj/yl/yp013000.djhtm?a=ACAI185\n"
     ]
    },
    {
     "name": "stderr",
     "output_type": "stream",
     "text": [
      " 86%|███████████████████████████████████████████████████████████████████████████████████████████████████████████████████████████████████████████████████████████████████▋                           | 3113/3632 [5:42:14<1:09:04,  7.99s/it]"
     ]
    },
    {
     "name": "stdout",
     "output_type": "stream",
     "text": [
      "https://www.moneydj.com/funddj/yl/yp013000.djhtm?a=ACYT57\n"
     ]
    },
    {
     "name": "stderr",
     "output_type": "stream",
     "text": [
      " 86%|███████████████████████████████████████████████████████████████████████████████████████████████████████████████████████████████████████████████████████████████████▊                           | 3115/3632 [5:42:28<1:03:58,  7.43s/it]"
     ]
    },
    {
     "name": "stdout",
     "output_type": "stream",
     "text": [
      "https://www.moneydj.com/funddj/yl/yp013000.djhtm?a=ACGC45\n"
     ]
    },
    {
     "name": "stderr",
     "output_type": "stream",
     "text": [
      "\r",
      " 86%|███████████████████████████████████████████████████████████████████████████████████████████████████████████████████████████████████████████████████████████████████▊                           | 3116/3632 [5:42:39<1:13:04,  8.50s/it]"
     ]
    },
    {
     "name": "stdout",
     "output_type": "stream",
     "text": [
      "https://www.moneydj.com/funddj/yl/yp013000.djhtm?a=ACNC51\n"
     ]
    },
    {
     "name": "stderr",
     "output_type": "stream",
     "text": [
      "\r",
      " 86%|███████████████████████████████████████████████████████████████████████████████████████████████████████████████████████████████████████████████████████████████████▉                           | 3117/3632 [5:42:49<1:17:39,  9.05s/it]"
     ]
    },
    {
     "name": "stdout",
     "output_type": "stream",
     "text": [
      "https://www.moneydj.com/funddj/yl/yp013000.djhtm?a=ACCA49\n"
     ]
    },
    {
     "name": "stderr",
     "output_type": "stream",
     "text": [
      " 86%|████████████████████████████████████████████████████████████████████████████████████████████████████████████████████████████████████████████████████████████████████                           | 3120/3632 [5:43:09<1:01:14,  7.18s/it]"
     ]
    },
    {
     "name": "stdout",
     "output_type": "stream",
     "text": [
      "https://www.moneydj.com/funddj/yl/yp013000.djhtm?a=ACNC50\n"
     ]
    },
    {
     "name": "stderr",
     "output_type": "stream",
     "text": [
      "\r",
      " 86%|████████████████████████████████████████████████████████████████████████████████████████████████████████████████████████████████████████████████████████████████████▏                          | 3121/3632 [5:43:20<1:11:14,  8.37s/it]"
     ]
    },
    {
     "name": "stdout",
     "output_type": "stream",
     "text": [
      "https://www.moneydj.com/funddj/yl/yp013000.djhtm?a=ACYT58\n"
     ]
    },
    {
     "name": "stderr",
     "output_type": "stream",
     "text": [
      "\r",
      " 86%|████████████████████████████████████████████████████████████████████████████████████████████████████████████████████████████████████████████████████████████████████▏                          | 3122/3632 [5:43:30<1:14:26,  8.76s/it]"
     ]
    },
    {
     "name": "stdout",
     "output_type": "stream",
     "text": [
      "https://www.moneydj.com/funddj/yl/yp013000.djhtm?a=ACGC43\n"
     ]
    },
    {
     "name": "stderr",
     "output_type": "stream",
     "text": [
      " 86%|████████████████████████████████████████████████████████████████████████████████████████████████████████████████████████████████████████████████████████████████████▎                          | 3124/3632 [5:43:48<1:14:09,  8.76s/it]"
     ]
    },
    {
     "name": "stdout",
     "output_type": "stream",
     "text": [
      "https://www.moneydj.com/funddj/yl/yp013000.djhtm?a=ACCA48\n"
     ]
    },
    {
     "name": "stderr",
     "output_type": "stream",
     "text": [
      "\r",
      " 86%|████████████████████████████████████████████████████████████████████████████████████████████████████████████████████████████████████████████████████████████████████▎                          | 3125/3632 [5:43:58<1:17:57,  9.23s/it]"
     ]
    },
    {
     "name": "stdout",
     "output_type": "stream",
     "text": [
      "https://www.moneydj.com/funddj/yl/yp013000.djhtm?a=ACYT83\n"
     ]
    },
    {
     "name": "stderr",
     "output_type": "stream",
     "text": [
      "\r",
      " 86%|████████████████████████████████████████████████████████████████████████████████████████████████████████████████████████████████████████████████████████████████████▍                          | 3126/3632 [5:44:10<1:23:02,  9.85s/it]"
     ]
    },
    {
     "name": "stdout",
     "output_type": "stream",
     "text": [
      "https://www.moneydj.com/funddj/yl/yp013000.djhtm?a=ACII38\n"
     ]
    },
    {
     "name": "stderr",
     "output_type": "stream",
     "text": [
      "\r",
      " 86%|████████████████████████████████████████████████████████████████████████████████████████████████████████████████████████████████████████████████████████████████████▍                          | 3127/3632 [5:44:19<1:20:46,  9.60s/it]"
     ]
    },
    {
     "name": "stdout",
     "output_type": "stream",
     "text": [
      "https://www.moneydj.com/funddj/yl/yp013000.djhtm?a=ACYT84\n"
     ]
    },
    {
     "name": "stderr",
     "output_type": "stream",
     "text": [
      "\r",
      " 86%|████████████████████████████████████████████████████████████████████████████████████████████████████████████████████████████████████████████████████████████████████▍                          | 3128/3632 [5:44:30<1:24:14, 10.03s/it]"
     ]
    },
    {
     "name": "stdout",
     "output_type": "stream",
     "text": [
      "https://www.moneydj.com/funddj/yl/yp013000.djhtm?a=ACII39\n"
     ]
    },
    {
     "name": "stderr",
     "output_type": "stream",
     "text": [
      " 86%|████████████████████████████████████████████████████████████████████████████████████████████████████████████████████████████████████████████████████████████████████▌                          | 3130/3632 [5:44:48<1:20:05,  9.57s/it]"
     ]
    },
    {
     "name": "stdout",
     "output_type": "stream",
     "text": [
      "https://www.moneydj.com/funddj/yl/yp013000.djhtm?a=ACNC10\n"
     ]
    },
    {
     "name": "stderr",
     "output_type": "stream",
     "text": [
      "\r",
      " 86%|████████████████████████████████████████████████████████████████████████████████████████████████████████████████████████████████████████████████████████████████████▋                          | 3131/3632 [5:44:57<1:17:21,  9.26s/it]"
     ]
    },
    {
     "name": "stdout",
     "output_type": "stream",
     "text": [
      "https://www.moneydj.com/funddj/yl/yp013000.djhtm?a=ACFT16\n"
     ]
    },
    {
     "name": "stderr",
     "output_type": "stream",
     "text": [
      "\r",
      " 86%|████████████████████████████████████████████████████████████████████████████████████████████████████████████████████████████████████████████████████████████████████▋                          | 3132/3632 [5:45:07<1:19:00,  9.48s/it]"
     ]
    },
    {
     "name": "stdout",
     "output_type": "stream",
     "text": [
      "https://www.moneydj.com/funddj/yl/yp013000.djhtm?a=ACSH02\n"
     ]
    },
    {
     "name": "stderr",
     "output_type": "stream",
     "text": [
      "\r",
      " 86%|████████████████████████████████████████████████████████████████████████████████████████████████████████████████████████████████████████████████████████████████████▊                          | 3133/3632 [5:45:18<1:23:03,  9.99s/it]"
     ]
    },
    {
     "name": "stdout",
     "output_type": "stream",
     "text": [
      "https://www.moneydj.com/funddj/yl/yp013000.djhtm?a=ACML04\n"
     ]
    },
    {
     "name": "stderr",
     "output_type": "stream",
     "text": [
      "\r",
      " 86%|████████████████████████████████████████████████████████████████████████████████████████████████████████████████████████████████████████████████████████████████████▊                          | 3134/3632 [5:45:29<1:25:23, 10.29s/it]"
     ]
    },
    {
     "name": "stdout",
     "output_type": "stream",
     "text": [
      "https://www.moneydj.com/funddj/yl/yp013000.djhtm?a=ACFE02\n"
     ]
    },
    {
     "name": "stderr",
     "output_type": "stream",
     "text": [
      "\r",
      " 86%|████████████████████████████████████████████████████████████████████████████████████████████████████████████████████████████████████████████████████████████████████▊                          | 3135/3632 [5:45:40<1:27:04, 10.51s/it]"
     ]
    },
    {
     "name": "stdout",
     "output_type": "stream",
     "text": [
      "https://www.moneydj.com/funddj/yl/yp013000.djhtm?a=ACTC02\n"
     ]
    },
    {
     "name": "stderr",
     "output_type": "stream",
     "text": [
      "\r",
      " 86%|████████████████████████████████████████████████████████████████████████████████████████████████████████████████████████████████████████████████████████████████████▉                          | 3136/3632 [5:45:48<1:20:53,  9.79s/it]"
     ]
    },
    {
     "name": "stdout",
     "output_type": "stream",
     "text": [
      "https://www.moneydj.com/funddj/yl/yp013000.djhtm?a=ACYC03\n"
     ]
    },
    {
     "name": "stderr",
     "output_type": "stream",
     "text": [
      "\r",
      " 86%|████████████████████████████████████████████████████████████████████████████████████████████████████████████████████████████████████████████████████████████████████▉                          | 3137/3632 [5:46:00<1:25:13, 10.33s/it]"
     ]
    },
    {
     "name": "stdout",
     "output_type": "stream",
     "text": [
      "https://www.moneydj.com/funddj/yl/yp013000.djhtm?a=ACUI02\n"
     ]
    },
    {
     "name": "stderr",
     "output_type": "stream",
     "text": [
      "\r",
      " 86%|█████████████████████████████████████████████████████████████████████████████████████████████████████████████████████████████████████████████████████████████████████                          | 3138/3632 [5:46:10<1:25:52, 10.43s/it]"
     ]
    },
    {
     "name": "stdout",
     "output_type": "stream",
     "text": [
      "https://www.moneydj.com/funddj/yl/yp013000.djhtm?a=ACCP12\n"
     ]
    },
    {
     "name": "stderr",
     "output_type": "stream",
     "text": [
      "\r",
      " 86%|█████████████████████████████████████████████████████████████████████████████████████████████████████████████████████████████████████████████████████████████████████                          | 3139/3632 [5:46:20<1:25:00, 10.35s/it]"
     ]
    },
    {
     "name": "stdout",
     "output_type": "stream",
     "text": [
      "https://www.moneydj.com/funddj/yl/yp013000.djhtm?a=ACKH10\n"
     ]
    },
    {
     "name": "stderr",
     "output_type": "stream",
     "text": [
      "\r",
      " 86%|█████████████████████████████████████████████████████████████████████████████████████████████████████████████████████████████████████████████████████████████████████▏                         | 3140/3632 [5:46:29<1:20:35,  9.83s/it]"
     ]
    },
    {
     "name": "stdout",
     "output_type": "stream",
     "text": [
      "https://www.moneydj.com/funddj/yl/yp013000.djhtm?a=ACAS08\n"
     ]
    },
    {
     "name": "stderr",
     "output_type": "stream",
     "text": [
      "\r",
      " 86%|█████████████████████████████████████████████████████████████████████████████████████████████████████████████████████████████████████████████████████████████████████▏                         | 3141/3632 [5:46:39<1:20:49,  9.88s/it]"
     ]
    },
    {
     "name": "stdout",
     "output_type": "stream",
     "text": [
      "https://www.moneydj.com/funddj/yl/yp013000.djhtm?a=ACNC06\n"
     ]
    },
    {
     "name": "stderr",
     "output_type": "stream",
     "text": [
      "\r",
      " 87%|█████████████████████████████████████████████████████████████████████████████████████████████████████████████████████████████████████████████████████████████████████▏                         | 3142/3632 [5:46:48<1:18:40,  9.63s/it]"
     ]
    },
    {
     "name": "stdout",
     "output_type": "stream",
     "text": [
      "https://www.moneydj.com/funddj/yl/yp013000.djhtm?a=ACCY02\n"
     ]
    },
    {
     "name": "stderr",
     "output_type": "stream",
     "text": [
      "\r",
      " 87%|█████████████████████████████████████████████████████████████████████████████████████████████████████████████████████████████████████████████████████████████████████▎                         | 3143/3632 [5:47:00<1:23:15, 10.22s/it]"
     ]
    },
    {
     "name": "stdout",
     "output_type": "stream",
     "text": [
      "https://www.moneydj.com/funddj/yl/yp013000.djhtm?a=ACDD02\n"
     ]
    },
    {
     "name": "stderr",
     "output_type": "stream",
     "text": [
      "\r",
      " 87%|█████████████████████████████████████████████████████████████████████████████████████████████████████████████████████████████████████████████████████████████████████▎                         | 3144/3632 [5:47:08<1:19:02,  9.72s/it]"
     ]
    },
    {
     "name": "stdout",
     "output_type": "stream",
     "text": [
      "https://www.moneydj.com/funddj/yl/yp013000.djhtm?a=ACCA02\n"
     ]
    },
    {
     "name": "stderr",
     "output_type": "stream",
     "text": [
      "\r",
      " 87%|█████████████████████████████████████████████████████████████████████████████████████████████████████████████████████████████████████████████████████████████████████▍                         | 3145/3632 [5:47:16<1:13:36,  9.07s/it]"
     ]
    },
    {
     "name": "stdout",
     "output_type": "stream",
     "text": [
      "https://www.moneydj.com/funddj/yl/yp013000.djhtm?a=ACKY02\n"
     ]
    },
    {
     "name": "stderr",
     "output_type": "stream",
     "text": [
      "\r",
      " 87%|█████████████████████████████████████████████████████████████████████████████████████████████████████████████████████████████████████████████████████████████████████▍                         | 3146/3632 [5:47:24<1:10:57,  8.76s/it]"
     ]
    },
    {
     "name": "stdout",
     "output_type": "stream",
     "text": [
      "https://www.moneydj.com/funddj/yl/yp013000.djhtm?a=ACYC09\n"
     ]
    },
    {
     "name": "stderr",
     "output_type": "stream",
     "text": [
      "\r",
      " 87%|█████████████████████████████████████████████████████████████████████████████████████████████████████████████████████████████████████████████████████████████████████▍                         | 3147/3632 [5:47:33<1:12:44,  9.00s/it]"
     ]
    },
    {
     "name": "stdout",
     "output_type": "stream",
     "text": [
      "https://www.moneydj.com/funddj/yl/yp013000.djhtm?a=ACPS04\n"
     ]
    },
    {
     "name": "stderr",
     "output_type": "stream",
     "text": [
      "\r",
      " 87%|█████████████████████████████████████████████████████████████████████████████████████████████████████████████████████████████████████████████████████████████████████▌                         | 3148/3632 [5:47:46<1:21:24, 10.09s/it]"
     ]
    },
    {
     "name": "stdout",
     "output_type": "stream",
     "text": [
      "https://www.moneydj.com/funddj/yl/yp013000.djhtm?a=ACKG03\n"
     ]
    },
    {
     "name": "stderr",
     "output_type": "stream",
     "text": [
      "\r",
      " 87%|█████████████████████████████████████████████████████████████████████████████████████████████████████████████████████████████████████████████████████████████████████▌                         | 3149/3632 [5:47:57<1:22:34, 10.26s/it]"
     ]
    },
    {
     "name": "stdout",
     "output_type": "stream",
     "text": [
      "https://www.moneydj.com/funddj/yl/yp013000.djhtm?a=ACDS13\n"
     ]
    },
    {
     "name": "stderr",
     "output_type": "stream",
     "text": [
      "\r",
      " 87%|█████████████████████████████████████████████████████████████████████████████████████████████████████████████████████████████████████████████████████████████████████▋                         | 3150/3632 [5:48:06<1:19:26,  9.89s/it]"
     ]
    },
    {
     "name": "stdout",
     "output_type": "stream",
     "text": [
      "https://www.moneydj.com/funddj/yl/yp013000.djhtm?a=ACTS06\n"
     ]
    },
    {
     "name": "stderr",
     "output_type": "stream",
     "text": [
      "\r",
      " 87%|█████████████████████████████████████████████████████████████████████████████████████████████████████████████████████████████████████████████████████████████████████▋                         | 3151/3632 [5:48:17<1:21:43, 10.19s/it]"
     ]
    },
    {
     "name": "stdout",
     "output_type": "stream",
     "text": [
      "https://www.moneydj.com/funddj/yl/yp013000.djhtm?a=ACCB20\n"
     ]
    },
    {
     "name": "stderr",
     "output_type": "stream",
     "text": [
      "\r",
      " 87%|█████████████████████████████████████████████████████████████████████████████████████████████████████████████████████████████████████████████████████████████████████▊                         | 3152/3632 [5:48:26<1:18:56,  9.87s/it]"
     ]
    },
    {
     "name": "stdout",
     "output_type": "stream",
     "text": [
      "https://www.moneydj.com/funddj/yl/yp013000.djhtm?a=ACGC02\n"
     ]
    },
    {
     "name": "stderr",
     "output_type": "stream",
     "text": [
      "\r",
      " 87%|█████████████████████████████████████████████████████████████████████████████████████████████████████████████████████████████████████████████████████████████████████▊                         | 3153/3632 [5:48:36<1:21:10, 10.17s/it]"
     ]
    },
    {
     "name": "stdout",
     "output_type": "stream",
     "text": [
      "https://www.moneydj.com/funddj/yl/yp013000.djhtm?a=ACKY08\n"
     ]
    },
    {
     "name": "stderr",
     "output_type": "stream",
     "text": [
      "\r",
      " 87%|█████████████████████████████████████████████████████████████████████████████████████████████████████████████████████████████████████████████████████████████████████▊                         | 3154/3632 [5:48:48<1:24:30, 10.61s/it]"
     ]
    },
    {
     "name": "stdout",
     "output_type": "stream",
     "text": [
      "https://www.moneydj.com/funddj/yl/yp013000.djhtm?a=ACFP07\n"
     ]
    },
    {
     "name": "stderr",
     "output_type": "stream",
     "text": [
      "\r",
      " 87%|█████████████████████████████████████████████████████████████████████████████████████████████████████████████████████████████████████████████████████████████████████▉                         | 3155/3632 [5:48:58<1:22:54, 10.43s/it]"
     ]
    },
    {
     "name": "stdout",
     "output_type": "stream",
     "text": [
      "https://www.moneydj.com/funddj/yl/yp013000.djhtm?a=ACYT08\n"
     ]
    },
    {
     "name": "stderr",
     "output_type": "stream",
     "text": [
      "\r",
      " 87%|█████████████████████████████████████████████████████████████████████████████████████████████████████████████████████████████████████████████████████████████████████▉                         | 3156/3632 [5:49:10<1:25:20, 10.76s/it]"
     ]
    },
    {
     "name": "stdout",
     "output_type": "stream",
     "text": [
      "https://www.moneydj.com/funddj/yl/yp013000.djhtm?a=ACFH02\n"
     ]
    },
    {
     "name": "stderr",
     "output_type": "stream",
     "text": [
      "\r",
      " 87%|██████████████████████████████████████████████████████████████████████████████████████████████████████████████████████████████████████████████████████████████████████                         | 3157/3632 [5:49:19<1:21:07, 10.25s/it]"
     ]
    },
    {
     "name": "stdout",
     "output_type": "stream",
     "text": [
      "https://www.moneydj.com/funddj/yl/yp013000.djhtm?a=ACFH05\n"
     ]
    },
    {
     "name": "stderr",
     "output_type": "stream",
     "text": [
      "\r",
      " 87%|██████████████████████████████████████████████████████████████████████████████████████████████████████████████████████████████████████████████████████████████████████                         | 3158/3632 [5:49:30<1:22:46, 10.48s/it]"
     ]
    },
    {
     "name": "stdout",
     "output_type": "stream",
     "text": [
      "https://www.moneydj.com/funddj/yl/yp013000.djhtm?a=ACDF09\n"
     ]
    },
    {
     "name": "stderr",
     "output_type": "stream",
     "text": [
      "\r",
      " 87%|██████████████████████████████████████████████████████████████████████████████████████████████████████████████████████████████████████████████████████████████████████▏                        | 3159/3632 [5:49:39<1:20:32, 10.22s/it]"
     ]
    },
    {
     "name": "stdout",
     "output_type": "stream",
     "text": [
      "https://www.moneydj.com/funddj/yl/yp013000.djhtm?a=ACCH02\n"
     ]
    },
    {
     "name": "stderr",
     "output_type": "stream",
     "text": [
      "\r",
      " 87%|██████████████████████████████████████████████████████████████████████████████████████████████████████████████████████████████████████████████████████████████████████▏                        | 3160/3632 [5:49:49<1:18:45, 10.01s/it]"
     ]
    },
    {
     "name": "stdout",
     "output_type": "stream",
     "text": [
      "https://www.moneydj.com/funddj/yl/yp013000.djhtm?a=ACAI03\n"
     ]
    },
    {
     "name": "stderr",
     "output_type": "stream",
     "text": [
      "\r",
      " 87%|██████████████████████████████████████████████████████████████████████████████████████████████████████████████████████████████████████████████████████████████████████▏                        | 3161/3632 [5:50:00<1:21:01, 10.32s/it]"
     ]
    },
    {
     "name": "stdout",
     "output_type": "stream",
     "text": [
      "https://www.moneydj.com/funddj/yl/yp013000.djhtm?a=ACCS03\n"
     ]
    },
    {
     "name": "stderr",
     "output_type": "stream",
     "text": [
      "\r",
      " 87%|██████████████████████████████████████████████████████████████████████████████████████████████████████████████████████████████████████████████████████████████████████▎                        | 3162/3632 [5:50:11<1:22:43, 10.56s/it]"
     ]
    },
    {
     "name": "stdout",
     "output_type": "stream",
     "text": [
      "https://www.moneydj.com/funddj/yl/yp013000.djhtm?a=ACKH22\n"
     ]
    },
    {
     "name": "stderr",
     "output_type": "stream",
     "text": [
      "\r",
      " 87%|██████████████████████████████████████████████████████████████████████████████████████████████████████████████████████████████████████████████████████████████████████▎                        | 3163/3632 [5:50:22<1:23:31, 10.69s/it]"
     ]
    },
    {
     "name": "stdout",
     "output_type": "stream",
     "text": [
      "https://www.moneydj.com/funddj/yl/yp013000.djhtm?a=ACJF78\n"
     ]
    },
    {
     "name": "stderr",
     "output_type": "stream",
     "text": [
      "\r",
      " 87%|██████████████████████████████████████████████████████████████████████████████████████████████████████████████████████████████████████████████████████████████████████▍                        | 3164/3632 [5:50:31<1:18:48, 10.10s/it]"
     ]
    },
    {
     "name": "stdout",
     "output_type": "stream",
     "text": [
      "https://www.moneydj.com/funddj/yl/yp013000.djhtm?a=ACAP02\n"
     ]
    },
    {
     "name": "stderr",
     "output_type": "stream",
     "text": [
      "\r",
      " 87%|██████████████████████████████████████████████████████████████████████████████████████████████████████████████████████████████████████████████████████████████████████▍                        | 3165/3632 [5:50:42<1:21:55, 10.53s/it]"
     ]
    },
    {
     "name": "stdout",
     "output_type": "stream",
     "text": [
      "https://www.moneydj.com/funddj/yl/yp013000.djhtm?a=ACYT101\n"
     ]
    },
    {
     "name": "stderr",
     "output_type": "stream",
     "text": [
      "\r",
      " 87%|██████████████████████████████████████████████████████████████████████████████████████████████████████████████████████████████████████████████████████████████████████▍                        | 3166/3632 [5:50:51<1:17:14,  9.95s/it]"
     ]
    },
    {
     "name": "stdout",
     "output_type": "stream",
     "text": [
      "https://www.moneydj.com/funddj/yl/yp013000.djhtm?a=ACCY95\n"
     ]
    },
    {
     "name": "stderr",
     "output_type": "stream",
     "text": [
      " 91%|████████████████████████████████████████████████████████████████████████████████████████████████████████████████████████████████████████████████████████████████████████████████▍                | 3320/3632 [6:08:23<38:08,  7.34s/it]"
     ]
    },
    {
     "name": "stdout",
     "output_type": "stream",
     "text": [
      "https://www.moneydj.com/funddj/yl/yp013000.djhtm?a=ACUN78\n"
     ]
    },
    {
     "name": "stderr",
     "output_type": "stream",
     "text": [
      "\r",
      " 91%|████████████████████████████████████████████████████████████████████████████████████████████████████████████████████████████████████████████████████████████████████████████████▍                | 3321/3632 [6:08:33<41:24,  7.99s/it]"
     ]
    },
    {
     "name": "stdout",
     "output_type": "stream",
     "text": [
      "https://www.moneydj.com/funddj/yl/yp013000.djhtm?a=ACUN79\n"
     ]
    },
    {
     "name": "stderr",
     "output_type": "stream",
     "text": [
      "\r",
      " 91%|████████████████████████████████████████████████████████████████████████████████████████████████████████████████████████████████████████████████████████████████████████████████▌                | 3322/3632 [6:08:44<46:11,  8.94s/it]"
     ]
    },
    {
     "name": "stdout",
     "output_type": "stream",
     "text": [
      "https://www.moneydj.com/funddj/yl/yp013000.djhtm?a=ACUN80\n"
     ]
    },
    {
     "name": "stderr",
     "output_type": "stream",
     "text": [
      "\r",
      " 91%|████████████████████████████████████████████████████████████████████████████████████████████████████████████████████████████████████████████████████████████████████████████████▌                | 3323/3632 [6:08:54<48:23,  9.40s/it]"
     ]
    },
    {
     "name": "stdout",
     "output_type": "stream",
     "text": [
      "https://www.moneydj.com/funddj/yl/yp013000.djhtm?a=ACUN81\n"
     ]
    },
    {
     "name": "stderr",
     "output_type": "stream",
     "text": [
      "\r",
      " 92%|████████████████████████████████████████████████████████████████████████████████████████████████████████████████████████████████████████████████████████████████████████████████▋                | 3324/3632 [6:09:05<50:47,  9.89s/it]"
     ]
    },
    {
     "name": "stdout",
     "output_type": "stream",
     "text": [
      "https://www.moneydj.com/funddj/yl/yp013000.djhtm?a=ACUN82\n"
     ]
    },
    {
     "name": "stderr",
     "output_type": "stream",
     "text": [
      "\r",
      " 92%|████████████████████████████████████████████████████████████████████████████████████████████████████████████████████████████████████████████████████████████████████████████████▋                | 3325/3632 [6:09:13<47:01,  9.19s/it]"
     ]
    },
    {
     "name": "stdout",
     "output_type": "stream",
     "text": [
      "https://www.moneydj.com/funddj/yl/yp013000.djhtm?a=ACCP85\n"
     ]
    },
    {
     "name": "stderr",
     "output_type": "stream",
     "text": [
      "\r",
      " 92%|████████████████████████████████████████████████████████████████████████████████████████████████████████████████████████████████████████████████████████████████████████████████▋                | 3326/3632 [6:09:23<48:08,  9.44s/it]"
     ]
    },
    {
     "name": "stdout",
     "output_type": "stream",
     "text": [
      "https://www.moneydj.com/funddj/yl/yp013000.djhtm?a=ACDD82\n"
     ]
    },
    {
     "name": "stderr",
     "output_type": "stream",
     "text": [
      "\r",
      " 92%|████████████████████████████████████████████████████████████████████████████████████████████████████████████████████████████████████████████████████████████████████████████████▊                | 3327/3632 [6:09:33<48:55,  9.62s/it]"
     ]
    },
    {
     "name": "stdout",
     "output_type": "stream",
     "text": [
      "https://www.moneydj.com/funddj/yl/yp013000.djhtm?a=ACDD64\n"
     ]
    },
    {
     "name": "stderr",
     "output_type": "stream",
     "text": [
      "\r",
      " 92%|████████████████████████████████████████████████████████████████████████████████████████████████████████████████████████████████████████████████████████████████████████████████▊                | 3328/3632 [6:09:43<49:22,  9.74s/it]"
     ]
    },
    {
     "name": "stdout",
     "output_type": "stream",
     "text": [
      "https://www.moneydj.com/funddj/yl/yp013000.djhtm?a=ACDD38\n"
     ]
    },
    {
     "name": "stderr",
     "output_type": "stream",
     "text": [
      "\r",
      " 92%|████████████████████████████████████████████████████████████████████████████████████████████████████████████████████████████████████████████████████████████████████████████████▉                | 3329/3632 [6:09:54<51:10, 10.14s/it]"
     ]
    },
    {
     "name": "stdout",
     "output_type": "stream",
     "text": [
      "https://www.moneydj.com/funddj/yl/yp013000.djhtm?a=ACDD39\n"
     ]
    },
    {
     "name": "stderr",
     "output_type": "stream",
     "text": [
      " 96%|██████████████████████████████████████████████████████████████████████████████████████████████████████████████████████████████████████████████████████████████████████████████████████████▏      | 3503/3632 [6:29:28<12:49,  5.96s/it]"
     ]
    },
    {
     "name": "stdout",
     "output_type": "stream",
     "text": [
      "https://www.moneydj.com/funddj/yl/yp013000.djhtm?a=ACCP204\n"
     ]
    },
    {
     "name": "stderr",
     "output_type": "stream",
     "text": [
      " 97%|██████████████████████████████████████████████████████████████████████████████████████████████████████████████████████████████████████████████████████████████████████████████████████████▌      | 3512/3632 [6:30:36<15:16,  7.64s/it]"
     ]
    },
    {
     "name": "stdout",
     "output_type": "stream",
     "text": [
      "https://www.moneydj.com/funddj/yl/yp013000.djhtm?a=ACFH57\n"
     ]
    },
    {
     "name": "stderr",
     "output_type": "stream",
     "text": [
      "\r",
      " 97%|██████████████████████████████████████████████████████████████████████████████████████████████████████████████████████████████████████████████████████████████████████████████████████████▋      | 3513/3632 [6:30:45<16:01,  8.08s/it]"
     ]
    },
    {
     "name": "stdout",
     "output_type": "stream",
     "text": [
      "https://www.moneydj.com/funddj/yl/yp013000.djhtm?a=ACDD50\n"
     ]
    },
    {
     "name": "stderr",
     "output_type": "stream",
     "text": [
      "\r",
      " 97%|██████████████████████████████████████████████████████████████████████████████████████████████████████████████████████████████████████████████████████████████████████████████████████████▋      | 3514/3632 [6:30:57<18:14,  9.27s/it]"
     ]
    },
    {
     "name": "stdout",
     "output_type": "stream",
     "text": [
      "https://www.moneydj.com/funddj/yl/yp013000.djhtm?a=ACDD51\n"
     ]
    },
    {
     "name": "stderr",
     "output_type": "stream",
     "text": [
      "\r",
      " 97%|██████████████████████████████████████████████████████████████████████████████████████████████████████████████████████████████████████████████████████████████████████████████████████████▊      | 3515/3632 [6:31:08<19:02,  9.76s/it]"
     ]
    },
    {
     "name": "stdout",
     "output_type": "stream",
     "text": [
      "https://www.moneydj.com/funddj/yl/yp013000.djhtm?a=ACDD46\n"
     ]
    },
    {
     "name": "stderr",
     "output_type": "stream",
     "text": [
      "\r",
      " 97%|██████████████████████████████████████████████████████████████████████████████████████████████████████████████████████████████████████████████████████████████████████████████████████████▊      | 3516/3632 [6:31:18<19:19, 10.00s/it]"
     ]
    },
    {
     "name": "stdout",
     "output_type": "stream",
     "text": [
      "https://www.moneydj.com/funddj/yl/yp013000.djhtm?a=ACDD47\n"
     ]
    },
    {
     "name": "stderr",
     "output_type": "stream",
     "text": [
      "\r",
      " 97%|██████████████████████████████████████████████████████████████████████████████████████████████████████████████████████████████████████████████████████████████████████████████████████████▉      | 3517/3632 [6:31:27<18:37,  9.72s/it]"
     ]
    },
    {
     "name": "stdout",
     "output_type": "stream",
     "text": [
      "https://www.moneydj.com/funddj/yl/yp013000.djhtm?a=ACDD48\n"
     ]
    },
    {
     "name": "stderr",
     "output_type": "stream",
     "text": [
      "\r",
      " 97%|██████████████████████████████████████████████████████████████████████████████████████████████████████████████████████████████████████████████████████████████████████████████████████████▉      | 3518/3632 [6:31:36<17:45,  9.35s/it]"
     ]
    },
    {
     "name": "stdout",
     "output_type": "stream",
     "text": [
      "https://www.moneydj.com/funddj/yl/yp013000.djhtm?a=ACCP81\n"
     ]
    },
    {
     "name": "stderr",
     "output_type": "stream",
     "text": [
      "\r",
      " 97%|██████████████████████████████████████████████████████████████████████████████████████████████████████████████████████████████████████████████████████████████████████████████████████████▉      | 3519/3632 [6:31:45<17:25,  9.25s/it]"
     ]
    },
    {
     "name": "stdout",
     "output_type": "stream",
     "text": [
      "https://www.moneydj.com/funddj/yl/yp013000.djhtm?a=ACCS125\n"
     ]
    },
    {
     "name": "stderr",
     "output_type": "stream",
     "text": [
      "\r",
      " 97%|███████████████████████████████████████████████████████████████████████████████████████████████████████████████████████████████████████████████████████████████████████████████████████████      | 3520/3632 [6:31:55<17:56,  9.61s/it]"
     ]
    },
    {
     "name": "stdout",
     "output_type": "stream",
     "text": [
      "https://www.moneydj.com/funddj/yl/yp013000.djhtm?a=ACCS126\n"
     ]
    },
    {
     "name": "stderr",
     "output_type": "stream",
     "text": [
      "\r",
      " 97%|███████████████████████████████████████████████████████████████████████████████████████████████████████████████████████████████████████████████████████████████████████████████████████████      | 3521/3632 [6:32:06<18:16,  9.88s/it]"
     ]
    },
    {
     "name": "stdout",
     "output_type": "stream",
     "text": [
      "https://www.moneydj.com/funddj/yl/yp013000.djhtm?a=ACCS127\n"
     ]
    },
    {
     "name": "stderr",
     "output_type": "stream",
     "text": [
      "\r",
      " 97%|███████████████████████████████████████████████████████████████████████████████████████████████████████████████████████████████████████████████████████████████████████████████████████████▏     | 3522/3632 [6:32:17<18:51, 10.28s/it]"
     ]
    },
    {
     "name": "stdout",
     "output_type": "stream",
     "text": [
      "https://www.moneydj.com/funddj/yl/yp013000.djhtm?a=ACCS128\n"
     ]
    },
    {
     "name": "stderr",
     "output_type": "stream",
     "text": [
      "\r",
      " 97%|███████████████████████████████████████████████████████████████████████████████████████████████████████████████████████████████████████████████████████████████████████████████████████████▏     | 3523/3632 [6:32:27<18:34, 10.22s/it]"
     ]
    },
    {
     "name": "stdout",
     "output_type": "stream",
     "text": [
      "https://www.moneydj.com/funddj/yl/yp013000.djhtm?a=ACCS129\n"
     ]
    },
    {
     "name": "stderr",
     "output_type": "stream",
     "text": [
      "\r",
      " 97%|███████████████████████████████████████████████████████████████████████████████████████████████████████████████████████████████████████████████████████████████████████████████████████████▎     | 3524/3632 [6:32:37<18:12, 10.12s/it]"
     ]
    },
    {
     "name": "stdout",
     "output_type": "stream",
     "text": [
      "https://www.moneydj.com/funddj/yl/yp013000.djhtm?a=ACCS130\n"
     ]
    },
    {
     "name": "stderr",
     "output_type": "stream",
     "text": [
      "\r",
      " 97%|███████████████████████████████████████████████████████████████████████████████████████████████████████████████████████████████████████████████████████████████████████████████████████████▎     | 3525/3632 [6:32:46<17:27,  9.79s/it]"
     ]
    },
    {
     "name": "stdout",
     "output_type": "stream",
     "text": [
      "https://www.moneydj.com/funddj/yl/yp013000.djhtm?a=ACCA264\n"
     ]
    },
    {
     "name": "stderr",
     "output_type": "stream",
     "text": [
      "\r",
      " 97%|███████████████████████████████████████████████████████████████████████████████████████████████████████████████████████████████████████████████████████████████████████████████████████████▎     | 3526/3632 [6:32:56<17:26,  9.87s/it]"
     ]
    },
    {
     "name": "stdout",
     "output_type": "stream",
     "text": [
      "https://www.moneydj.com/funddj/yl/yp013000.djhtm?a=ACCA262\n"
     ]
    },
    {
     "name": "stderr",
     "output_type": "stream",
     "text": [
      "\r",
      " 97%|███████████████████████████████████████████████████████████████████████████████████████████████████████████████████████████████████████████████████████████████████████████████████████████▍     | 3527/3632 [6:33:05<16:33,  9.46s/it]"
     ]
    },
    {
     "name": "stdout",
     "output_type": "stream",
     "text": [
      "https://www.moneydj.com/funddj/yl/yp013000.djhtm?a=ACAI139\n"
     ]
    },
    {
     "name": "stderr",
     "output_type": "stream",
     "text": [
      "\r",
      " 97%|███████████████████████████████████████████████████████████████████████████████████████████████████████████████████████████████████████████████████████████████████████████████████████████▍     | 3528/3632 [6:33:14<16:14,  9.37s/it]"
     ]
    },
    {
     "name": "stdout",
     "output_type": "stream",
     "text": [
      "https://www.moneydj.com/funddj/yl/yp013000.djhtm?a=ACAI135\n"
     ]
    },
    {
     "name": "stderr",
     "output_type": "stream",
     "text": [
      "\r",
      " 97%|███████████████████████████████████████████████████████████████████████████████████████████████████████████████████████████████████████████████████████████████████████████████████████████▌     | 3529/3632 [6:33:24<16:25,  9.57s/it]"
     ]
    },
    {
     "name": "stdout",
     "output_type": "stream",
     "text": [
      "https://www.moneydj.com/funddj/yl/yp013000.djhtm?a=ACAI127\n"
     ]
    },
    {
     "name": "stderr",
     "output_type": "stream",
     "text": [
      "\r",
      " 97%|███████████████████████████████████████████████████████████████████████████████████████████████████████████████████████████████████████████████████████████████████████████████████████████▌     | 3530/3632 [6:33:35<17:04, 10.04s/it]"
     ]
    },
    {
     "name": "stdout",
     "output_type": "stream",
     "text": [
      "https://www.moneydj.com/funddj/yl/yp013000.djhtm?a=ACAI131\n"
     ]
    },
    {
     "name": "stderr",
     "output_type": "stream",
     "text": [
      " 98%|████████████████████████████████████████████████████████████████████████████████████████████████████████████████████████████████████████████████████████████████████████████████████████████▎    | 3543/3632 [6:35:08<09:59,  6.74s/it]"
     ]
    },
    {
     "name": "stdout",
     "output_type": "stream",
     "text": [
      "https://www.moneydj.com/funddj/yl/yp013000.djhtm?a=ACCH26\n"
     ]
    },
    {
     "name": "stderr",
     "output_type": "stream",
     "text": [
      "\r",
      " 98%|████████████████████████████████████████████████████████████████████████████████████████████████████████████████████████████████████████████████████████████████████████████████████████████▎    | 3544/3632 [6:35:17<10:53,  7.43s/it]"
     ]
    },
    {
     "name": "stdout",
     "output_type": "stream",
     "text": [
      "https://www.moneydj.com/funddj/yl/yp013000.djhtm?a=ACYT105\n"
     ]
    },
    {
     "name": "stderr",
     "output_type": "stream",
     "text": [
      "\r",
      " 98%|████████████████████████████████████████████████████████████████████████████████████████████████████████████████████████████████████████████████████████████████████████████████████████████▍    | 3545/3632 [6:35:28<12:10,  8.39s/it]"
     ]
    },
    {
     "name": "stdout",
     "output_type": "stream",
     "text": [
      "https://www.moneydj.com/funddj/yl/yp013000.djhtm?a=ACYT69\n"
     ]
    },
    {
     "name": "stderr",
     "output_type": "stream",
     "text": [
      "\r",
      " 98%|████████████████████████████████████████████████████████████████████████████████████████████████████████████████████████████████████████████████████████████████████████████████████████████▍    | 3546/3632 [6:35:38<12:53,  9.00s/it]"
     ]
    },
    {
     "name": "stdout",
     "output_type": "stream",
     "text": [
      "https://www.moneydj.com/funddj/yl/yp013000.djhtm?a=ACYT104\n"
     ]
    },
    {
     "name": "stderr",
     "output_type": "stream",
     "text": [
      "\r",
      " 98%|████████████████████████████████████████████████████████████████████████████████████████████████████████████████████████████████████████████████████████████████████████████████████████████▍    | 3547/3632 [6:35:49<13:36,  9.61s/it]"
     ]
    },
    {
     "name": "stdout",
     "output_type": "stream",
     "text": [
      "https://www.moneydj.com/funddj/yl/yp013000.djhtm?a=ACYT96\n"
     ]
    },
    {
     "name": "stderr",
     "output_type": "stream",
     "text": [
      "\r",
      " 98%|████████████████████████████████████████████████████████████████████████████████████████████████████████████████████████████████████████████████████████████████████████████████████████████▌    | 3548/3632 [6:35:59<13:25,  9.59s/it]"
     ]
    },
    {
     "name": "stdout",
     "output_type": "stream",
     "text": [
      "https://www.moneydj.com/funddj/yl/yp013000.djhtm?a=ACYT116\n"
     ]
    },
    {
     "name": "stderr",
     "output_type": "stream",
     "text": [
      "\r",
      " 98%|████████████████████████████████████████████████████████████████████████████████████████████████████████████████████████████████████████████████████████████████████████████████████████████▌    | 3549/3632 [6:36:09<13:27,  9.72s/it]"
     ]
    },
    {
     "name": "stdout",
     "output_type": "stream",
     "text": [
      "https://www.moneydj.com/funddj/yl/yp013000.djhtm?a=ACYT63\n"
     ]
    },
    {
     "name": "stderr",
     "output_type": "stream",
     "text": [
      "\r",
      " 98%|████████████████████████████████████████████████████████████████████████████████████████████████████████████████████████████████████████████████████████████████████████████████████████████▋    | 3550/3632 [6:36:18<13:01,  9.54s/it]"
     ]
    },
    {
     "name": "stdout",
     "output_type": "stream",
     "text": [
      "https://www.moneydj.com/funddj/yl/yp013000.djhtm?a=ACYT106\n"
     ]
    },
    {
     "name": "stderr",
     "output_type": "stream",
     "text": [
      "\r",
      " 98%|████████████████████████████████████████████████████████████████████████████████████████████████████████████████████████████████████████████████████████████████████████████████████████████▋    | 3551/3632 [6:36:27<12:39,  9.38s/it]"
     ]
    },
    {
     "name": "stdout",
     "output_type": "stream",
     "text": [
      "https://www.moneydj.com/funddj/yl/yp013000.djhtm?a=ACYT115\n"
     ]
    },
    {
     "name": "stderr",
     "output_type": "stream",
     "text": [
      "\r",
      " 98%|████████████████████████████████████████████████████████████████████████████████████████████████████████████████████████████████████████████████████████████████████████████████████████████▋    | 3552/3632 [6:36:40<13:46, 10.34s/it]"
     ]
    },
    {
     "name": "stdout",
     "output_type": "stream",
     "text": [
      "https://www.moneydj.com/funddj/yl/yp013000.djhtm?a=ACKY38\n"
     ]
    },
    {
     "name": "stderr",
     "output_type": "stream",
     "text": [
      "\r",
      " 98%|████████████████████████████████████████████████████████████████████████████████████████████████████████████████████████████████████████████████████████████████████████████████████████████▊    | 3553/3632 [6:36:49<13:18, 10.10s/it]"
     ]
    },
    {
     "name": "stdout",
     "output_type": "stream",
     "text": [
      "https://www.moneydj.com/funddj/yl/yp013000.djhtm?a=ACYT95\n"
     ]
    },
    {
     "name": "stderr",
     "output_type": "stream",
     "text": [
      "\r",
      " 98%|████████████████████████████████████████████████████████████████████████████████████████████████████████████████████████████████████████████████████████████████████████████████████████████▊    | 3554/3632 [6:37:00<13:21, 10.27s/it]"
     ]
    },
    {
     "name": "stdout",
     "output_type": "stream",
     "text": [
      "https://www.moneydj.com/funddj/yl/yp013000.djhtm?a=ACYT117\n"
     ]
    },
    {
     "name": "stderr",
     "output_type": "stream",
     "text": [
      "\r",
      " 98%|████████████████████████████████████████████████████████████████████████████████████████████████████████████████████████████████████████████████████████████████████████████████████████████▉    | 3555/3632 [6:37:09<12:42,  9.91s/it]"
     ]
    },
    {
     "name": "stdout",
     "output_type": "stream",
     "text": [
      "https://www.moneydj.com/funddj/yl/yp013000.djhtm?a=ACYT138\n"
     ]
    },
    {
     "name": "stderr",
     "output_type": "stream",
     "text": [
      "100%|████████████████████████████████████████████████████████████████████████████████████████████████████████████████████████████████████████████████████████████████████████████████████████████████ | 3615/3632 [6:43:44<01:38,  5.82s/it]"
     ]
    },
    {
     "name": "stdout",
     "output_type": "stream",
     "text": [
      "https://www.moneydj.com/funddj/yl/yp013000.djhtm?a=ACJS74\n"
     ]
    },
    {
     "name": "stderr",
     "output_type": "stream",
     "text": [
      "\r",
      "100%|████████████████████████████████████████████████████████████████████████████████████████████████████████████████████████████████████████████████████████████████████████████████████████████████▏| 3616/3632 [6:43:54<01:53,  7.09s/it]"
     ]
    },
    {
     "name": "stdout",
     "output_type": "stream",
     "text": [
      "https://www.moneydj.com/funddj/yl/yp013000.djhtm?a=ACJS82\n"
     ]
    },
    {
     "name": "stderr",
     "output_type": "stream",
     "text": [
      "\r",
      "100%|████████████████████████████████████████████████████████████████████████████████████████████████████████████████████████████████████████████████████████████████████████████████████████████████▏| 3617/3632 [6:44:04<01:57,  7.82s/it]"
     ]
    },
    {
     "name": "stdout",
     "output_type": "stream",
     "text": [
      "https://www.moneydj.com/funddj/yl/yp013000.djhtm?a=ACJS83\n"
     ]
    },
    {
     "name": "stderr",
     "output_type": "stream",
     "text": [
      "\r",
      "100%|████████████████████████████████████████████████████████████████████████████████████████████████████████████████████████████████████████████████████████████████████████████████████████████████▎| 3618/3632 [6:44:12<01:52,  8.04s/it]"
     ]
    },
    {
     "name": "stdout",
     "output_type": "stream",
     "text": [
      "https://www.moneydj.com/funddj/yl/yp013000.djhtm?a=ACJS84\n"
     ]
    },
    {
     "name": "stderr",
     "output_type": "stream",
     "text": [
      "\r",
      "100%|████████████████████████████████████████████████████████████████████████████████████████████████████████████████████████████████████████████████████████████████████████████████████████████████▎| 3619/3632 [6:44:22<01:52,  8.64s/it]"
     ]
    },
    {
     "name": "stdout",
     "output_type": "stream",
     "text": [
      "https://www.moneydj.com/funddj/yl/yp013000.djhtm?a=ACJS85\n"
     ]
    },
    {
     "name": "stderr",
     "output_type": "stream",
     "text": [
      "\r",
      "100%|████████████████████████████████████████████████████████████████████████████████████████████████████████████████████████████████████████████████████████████████████████████████████████████████▎| 3620/3632 [6:44:30<01:41,  8.43s/it]"
     ]
    },
    {
     "name": "stdout",
     "output_type": "stream",
     "text": [
      "https://www.moneydj.com/funddj/yl/yp013000.djhtm?a=ACJS86\n"
     ]
    },
    {
     "name": "stderr",
     "output_type": "stream",
     "text": [
      "\r",
      "100%|████████████████████████████████████████████████████████████████████████████████████████████████████████████████████████████████████████████████████████████████████████████████████████████████▍| 3621/3632 [6:44:41<01:40,  9.14s/it]"
     ]
    },
    {
     "name": "stdout",
     "output_type": "stream",
     "text": [
      "https://www.moneydj.com/funddj/yl/yp013000.djhtm?a=ACJS87\n"
     ]
    },
    {
     "name": "stderr",
     "output_type": "stream",
     "text": [
      "\r",
      "100%|████████████████████████████████████████████████████████████████████████████████████████████████████████████████████████████████████████████████████████████████████████████████████████████████▍| 3622/3632 [6:44:49<01:29,  8.99s/it]"
     ]
    },
    {
     "name": "stdout",
     "output_type": "stream",
     "text": [
      "https://www.moneydj.com/funddj/yl/yp013000.djhtm?a=ACJS88\n"
     ]
    },
    {
     "name": "stderr",
     "output_type": "stream",
     "text": [
      "\r",
      "100%|████████████████████████████████████████████████████████████████████████████████████████████████████████████████████████████████████████████████████████████████████████████████████████████████▌| 3623/3632 [6:45:00<01:24,  9.43s/it]"
     ]
    },
    {
     "name": "stdout",
     "output_type": "stream",
     "text": [
      "https://www.moneydj.com/funddj/yl/yp013000.djhtm?a=ACJS89\n"
     ]
    },
    {
     "name": "stderr",
     "output_type": "stream",
     "text": [
      "\r",
      "100%|████████████████████████████████████████████████████████████████████████████████████████████████████████████████████████████████████████████████████████████████████████████████████████████████▌| 3624/3632 [6:45:11<01:18,  9.80s/it]"
     ]
    },
    {
     "name": "stdout",
     "output_type": "stream",
     "text": [
      "https://www.moneydj.com/funddj/yl/yp013000.djhtm?a=ACJS76\n"
     ]
    },
    {
     "name": "stderr",
     "output_type": "stream",
     "text": [
      "\r",
      "100%|████████████████████████████████████████████████████████████████████████████████████████████████████████████████████████████████████████████████████████████████████████████████████████████████▋| 3625/3632 [6:45:20<01:07,  9.58s/it]"
     ]
    },
    {
     "name": "stdout",
     "output_type": "stream",
     "text": [
      "https://www.moneydj.com/funddj/yl/yp013000.djhtm?a=ACJS77\n"
     ]
    },
    {
     "name": "stderr",
     "output_type": "stream",
     "text": [
      "\r",
      "100%|████████████████████████████████████████████████████████████████████████████████████████████████████████████████████████████████████████████████████████████████████████████████████████████████▋| 3626/3632 [6:45:30<00:58,  9.75s/it]"
     ]
    },
    {
     "name": "stdout",
     "output_type": "stream",
     "text": [
      "https://www.moneydj.com/funddj/yl/yp013000.djhtm?a=ACJS75\n"
     ]
    },
    {
     "name": "stderr",
     "output_type": "stream",
     "text": [
      "\r",
      "100%|████████████████████████████████████████████████████████████████████████████████████████████████████████████████████████████████████████████████████████████████████████████████████████████████▋| 3627/3632 [6:45:39<00:47,  9.53s/it]"
     ]
    },
    {
     "name": "stdout",
     "output_type": "stream",
     "text": [
      "https://www.moneydj.com/funddj/yl/yp013000.djhtm?a=ACJS78\n"
     ]
    },
    {
     "name": "stderr",
     "output_type": "stream",
     "text": [
      "\r",
      "100%|████████████████████████████████████████████████████████████████████████████████████████████████████████████████████████████████████████████████████████████████████████████████████████████████▊| 3628/3632 [6:45:49<00:39,  9.83s/it]"
     ]
    },
    {
     "name": "stdout",
     "output_type": "stream",
     "text": [
      "https://www.moneydj.com/funddj/yl/yp013000.djhtm?a=ACJS80\n"
     ]
    },
    {
     "name": "stderr",
     "output_type": "stream",
     "text": [
      "\r",
      "100%|████████████████████████████████████████████████████████████████████████████████████████████████████████████████████████████████████████████████████████████████████████████████████████████████▊| 3629/3632 [6:45:57<00:27,  9.13s/it]"
     ]
    },
    {
     "name": "stdout",
     "output_type": "stream",
     "text": [
      "https://www.moneydj.com/funddj/yl/yp013000.djhtm?a=ACJS81\n"
     ]
    },
    {
     "name": "stderr",
     "output_type": "stream",
     "text": [
      "\r",
      "100%|████████████████████████████████████████████████████████████████████████████████████████████████████████████████████████████████████████████████████████████████████████████████████████████████▉| 3630/3632 [6:46:04<00:17,  8.65s/it]"
     ]
    },
    {
     "name": "stdout",
     "output_type": "stream",
     "text": [
      "https://www.moneydj.com/funddj/yl/yp013000.djhtm?a=ACJS79\n"
     ]
    },
    {
     "name": "stderr",
     "output_type": "stream",
     "text": [
      "\r",
      "100%|████████████████████████████████████████████████████████████████████████████████████████████████████████████████████████████████████████████████████████████████████████████████████████████████▉| 3631/3632 [6:46:15<00:09,  9.35s/it]"
     ]
    },
    {
     "name": "stdout",
     "output_type": "stream",
     "text": [
      "https://www.moneydj.com/funddj/yl/yp013000.djhtm?a=ACFH64\n"
     ]
    },
    {
     "name": "stderr",
     "output_type": "stream",
     "text": [
      "100%|█████████████████████████████████████████████████████████████████████████████████████████████████████████████████████████████████████████████████████████████████████████████████████████████████| 3632/3632 [6:46:27<00:00,  6.71s/it]\n"
     ]
    }
   ],
   "source": [
    "# catch ratio of funds\n",
    "driver = webdriver.Chrome(executable_path=chrome_path, options=opt)\n",
    "driver.set_window_size(1024, 850)\n",
    "fund_url = 'https://www.moneydj.com/funddj/yl/yp013000.djhtm?a=ACFP72'\n",
    "driver.get(fund_url)\n",
    "sleep(15)\n",
    "\n",
    "\n",
    "fund_ratio = dict()\n",
    "fund_id_name_mapping = dict()\n",
    "\n",
    "for fund in tqdm(fund_company_list):\n",
    "    \n",
    "    fund_name = fund[1]\n",
    "    fund_id = fund[2].split('a=')[-1]\n",
    "    fund_id_name_mapping.update({fund_id: fund_name})\n",
    "    \n",
    "    fund_url = f'https://www.moneydj.com/funddj/yl/yp013000.djhtm?a={fund_id}'\n",
    "    driver.get(fund_url)\n",
    "    try:\n",
    "        ratio_content = WebDriverWait(driver, 3).until(\n",
    "                EC.presence_of_element_located((By.XPATH, '//table[@class=\"t04\"]//table[@class=\"t01\"]/tbody')))\n",
    "        ratio_content = ratio_content.text\n",
    "    except:\n",
    "        print(fund_url)\n",
    "        ratio_content = ' '\n",
    "    \n",
    "    finally:\n",
    "        fund_ratio.update({fund_id: ratio_content})\n",
    "        \n",
    "    sleep(np.random.randint(3, 7))\n",
    "\n",
    "\n",
    "driver.quit()\n",
    "\n",
    "\n"
   ]
  },
  {
   "cell_type": "code",
   "execution_count": 143,
   "metadata": {
    "scrolled": true
   },
   "outputs": [
    {
     "data": {
      "text/plain": [
       "('富邦投信',\n",
       " '富邦臺灣加權單日反向一倍基金',\n",
       " 'https://www.moneydj.com/funddj/ya/yp010000.djhtm?a=ACFP72')"
      ]
     },
     "execution_count": 143,
     "metadata": {},
     "output_type": "execute_result"
    }
   ],
   "source": [
    "fund_company_list[30]"
   ]
  },
  {
   "cell_type": "code",
   "execution_count": 304,
   "metadata": {},
   "outputs": [],
   "source": [
    "# store to json file\n",
    "with open('fund_element_ratio_tables.json', 'w', encoding='utf-8') as f:\n",
    "    json.dump(fund_ratio, f, ensure_ascii=False, indent=4)\n",
    "    \n",
    "with open('fund_id_name_mapping.json', 'w', encoding='utf-8') as f:\n",
    "    json.dump(fund_id_name_mapping, f, ensure_ascii=False, indent=4)\n"
   ]
  },
  {
   "cell_type": "code",
   "execution_count": 302,
   "metadata": {},
   "outputs": [],
   "source": [
    "# 只存股票項目不存比例\n",
    "fund_ratio_simple = dict()\n",
    "for k in fund_ratio.keys():\n",
    "    \n",
    "    content = ' '.join(fund_ratio[k].split('\\n')[3:])\n",
    "    cl = np.unique([char.strip() for char in re.findall(r'[\\u4e00-\\u9fff- a-zA-Z]+|91APP', content) \n",
    "                    if (char.strip() != '') and (char.strip() != '-') \n",
    "                    and (char.strip() != 'KY') and (char.strip() != '-KY')]).tolist()\n",
    "    \n",
    "    fund_ratio_simple.update({k: cl})\n",
    "\n",
    "\n",
    "# store to json file\n",
    "with open('fund_holdings.json', 'w', encoding='utf-8') as f:\n",
    "    json.dump(fund_ratio_simple, f, ensure_ascii=False, indent=4)\n"
   ]
  },
  {
   "cell_type": "code",
   "execution_count": 312,
   "metadata": {},
   "outputs": [
    {
     "name": "stderr",
     "output_type": "stream",
     "text": [
      "100%|███████████████████████████████████████████████████████████████████████████████████████████████████████████████████████████████████████████████████████████████████████████████████████████████| 3632/3632 [00:00<00:00, 301872.86it/s]\n"
     ]
    }
   ],
   "source": [
    "# 轉存 3 元組為 csv\n",
    "collect = list()\n",
    "for k in tqdm(fund_ratio_simple.keys()):\n",
    "    for item in fund_ratio_simple[k]:\n",
    "        collect += [(k, '持有', item)]\n",
    "\n",
    "len(collect)\n",
    "pd.DataFrame(collect, columns=['fund_id', 'rel', 'target_name']).drop_duplicates().to_csv('fund_holding_relation.csv', index=False)\n"
   ]
  },
  {
   "cell_type": "markdown",
   "metadata": {},
   "source": [
    "### 公司基本資訊\n",
    "- MoneyDJ: https://concords.moneydj.com/z/zc/zca/zca.djhtm?a=2303\n",
    "    - 有些網頁是亂碼、有些會有空格問題抓起來比較麻煩\n",
    "    \n",
    "- Goodinfo: https://goodinfo.tw/StockInfo/BasicInfo.asp?STOCK_ID=2303\n"
   ]
  },
  {
   "cell_type": "code",
   "execution_count": 104,
   "metadata": {
    "collapsed": true
   },
   "outputs": [
    {
     "data": {
      "text/plain": [
       "array(['1101', '1102', '1103', '1104', '1108', '1109', '1110', '1201',\n",
       "       '1203', '1210', '1213', '1215', '1216', '1217', '1218', '1219',\n",
       "       '1220', '1225', '1227', '1229', '1231', '1232', '1233', '1234',\n",
       "       '1235', '1236', '1256', '1301', '1303', '1304', '1305', '1307',\n",
       "       '1308', '1309', '1310', '1312', '1313', '1314', '1315', '1316',\n",
       "       '1319', '1321', '1323', '1324', '1325', '1326', '1337', '1338',\n",
       "       '1339', '1340', '1341', '1342', '1402', '1409', '1410', '1413',\n",
       "       '1414', '1416', '1417', '1418', '1419', '1423', '1432', '1434',\n",
       "       '1435', '1436', '1437', '1438', '1439', '1440', '1441', '1442',\n",
       "       '1443', '1444', '1445', '1446', '1447', '1449', '1451', '1452',\n",
       "       '1453', '1454', '1455', '1456', '1457', '1459', '1460', '1463',\n",
       "       '1464', '1465', '1466', '1467', '1468', '1470', '1471', '1472',\n",
       "       '1473', '1474', '1475', '1476', '1477', '1503', '1504', '1506',\n",
       "       '1507', '1512', '1513', '1514', '1515', '1516', '1517', '1519',\n",
       "       '1521', '1522', '1524', '1525', '1526', '1527', '1528', '1529',\n",
       "       '1530', '1531', '1532', '1533', '1535', '1536', '1537', '1538',\n",
       "       '1539', '1540', '1541', '1558', '1560', '1568', '1582', '1583',\n",
       "       '1587', '1589', '1590', '1592', '1597', '1598', '1603', '1604',\n",
       "       '1605', '1608', '1609', '1611', '1612', '1614', '1615', '1616',\n",
       "       '1617', '1618', '1626', '1701', '1702', '1707', '1708', '1709',\n",
       "       '1710', '1711', '1712', '1713', '1714', '1717', '1718', '1720',\n",
       "       '1721', '1722', '1723', '1725', '1726', '1727', '1730', '1731',\n",
       "       '1732', '1733', '1734', '1735', '1736', '1737', '1760', '1762',\n",
       "       '1773', '1776', '1783', '1786', '1789', '1795', '1802', '1805',\n",
       "       '1806', '1808', '1809', '1810', '1817', '1903', '1904', '1905',\n",
       "       '1906', '1907', '1909', '2002', '2006', '2007', '2008', '2009',\n",
       "       '2010', '2012', '2013', '2014', '2015', '2017', '2020', '2022',\n",
       "       '2023', '2024', '2025', '2027', '2028', '2029', '2030', '2031',\n",
       "       '2032', '2033', '2034', '2038', '2049', '2059', '2062', '2069',\n",
       "       '2101', '2102', '2103', '2104', '2105', '2106', '2107', '2108',\n",
       "       '2109', '2114', '2115', '2201', '2204', '2206', '2207', '2208',\n",
       "       '2211', '2227', '2228', '2231', '2233', '2236', '2239', '2241',\n",
       "       '2243', '2247', '2250', '2301', '2302', '2303', '2305', '2308',\n",
       "       '2312', '2313', '2314', '2316', '2317', '2321', '2323', '2324',\n",
       "       '2327', '2328', '2329', '2330', '2331', '2332', '2337', '2338',\n",
       "       '2340', '2342', '2344', '2345', '2347', '2348', '2349', '2351',\n",
       "       '2352', '2353', '2354', '2355', '2356', '2357', '2358', '2359',\n",
       "       '2360', '2362', '2363', '2364', '2365', '2367', '2368', '2369',\n",
       "       '2371', '2373', '2374', '2375', '2376', '2377', '2379', '2380',\n",
       "       '2382', '2383', '2385', '2387', '2388', '2390', '2392', '2393',\n",
       "       '2395', '2397', '2399', '2401', '2402', '2404', '2405', '2406',\n",
       "       '2408', '2409', '2412', '2413', '2414', '2415', '2417', '2419',\n",
       "       '2420', '2421', '2423', '2424', '2425', '2426', '2427', '2428',\n",
       "       '2429', '2430', '2431', '2433', '2434', '2436', '2438', '2439',\n",
       "       '2440', '2441', '2442', '2443', '2444', '2449', '2450', '2451',\n",
       "       '2453', '2454', '2455', '2456', '2457', '2458', '2459', '2460',\n",
       "       '2461', '2462', '2464', '2465', '2466', '2467', '2468', '2471',\n",
       "       '2472', '2474', '2476', '2477', '2478', '2480', '2481', '2482',\n",
       "       '2483', '2484', '2485', '2486', '2488', '2489', '2491', '2492',\n",
       "       '2493', '2495', '2496', '2497', '2498', '2501', '2504', '2505',\n",
       "       '2506', '2509', '2511', '2514', '2515', '2516', '2520', '2524',\n",
       "       '2527', '2528', '2530', '2534', '2535', '2536', '2537', '2538',\n",
       "       '2539', '2540', '2542', '2543', '2545', '2546', '2547', '2548',\n",
       "       '2597', '2601', '2603', '2605', '2606', '2607', '2608', '2609',\n",
       "       '2610', '2611', '2612', '2613', '2614', '2615', '2616', '2617',\n",
       "       '2618', '2630', '2633', '2634', '2636', '2637', '2642', '2701',\n",
       "       '2702', '2704', '2705', '2706', '2707', '2712', '2722', '2723',\n",
       "       '2727', '2731', '2739', '2748', '2753', '2801', '2809', '2812',\n",
       "       '2816', '2820', '2823', '2832', '2834', '2836', '2838', '2841',\n",
       "       '2845', '2849', '2850', '2851', '2852', '2855', '2867', '2880',\n",
       "       '2881', '2882', '2883', '2884', '2885', '2886', '2887', '2888',\n",
       "       '2889', '2890', '2891', '2892', '2897', '2901', '2903', '2904',\n",
       "       '2905', '2906', '2908', '2910', '2911', '2912', '2913', '2915',\n",
       "       '2923', '2929', '2936', '2939', '2945', '3002', '3003', '3004',\n",
       "       '3005', '3006', '3008', '3010', '3011', '3013', '3014', '3015',\n",
       "       '3016', '3017', '3018', '3019', '3021', '3022', '3023', '3024',\n",
       "       '3025', '3026', '3027', '3028', '3029', '3030', '3031', '3032',\n",
       "       '3033', '3034', '3035', '3036', '3037', '3038', '3040', '3041',\n",
       "       '3042', '3043', '3044', '3045', '3046', '3047', '3048', '3049',\n",
       "       '3050', '3051', '3052', '3054', '3055', '3056', '3057', '3058',\n",
       "       '3059', '3060', '3062', '3090', '3092', '3094', '3130', '3138',\n",
       "       '3149', '3164', '3167', '3189', '3209', '3229', '3231', '3257',\n",
       "       '3266', '3296', '3305', '3308', '3311', '3312', '3321', '3338',\n",
       "       '3346', '3356', '3376', '3380', '3383', '3406', '3413', '3416',\n",
       "       '3419', '3432', '3437', '3443', '3450', '3454', '3481', '3494',\n",
       "       '3501', '3504', '3515', '3518', '3528', '3530', '3532', '3533',\n",
       "       '3535', '3536', '3543', '3545', '3550', '3557', '3563', '3576',\n",
       "       '3583', '3588', '3591', '3593', '3596', '3605', '3607', '3617',\n",
       "       '3622', '3645', '3653', '3661', '3665', '3669', '3673', '3679',\n",
       "       '3682', '3686', '3694', '3701', '3702', '3703', '3704', '3705',\n",
       "       '3706', '3708', '3711', '3712', '3714', '4104', '4106', '4108',\n",
       "       '4119', '4133', '4137', '4141', '4142', '4148 ', '4155', '4164',\n",
       "       '4190', '4306', '4414', '4426', '4438', '4439', '4440', '4526',\n",
       "       '4532', '4536', '4540', '4545', '4551', '4552', '4555', '4557',\n",
       "       '4560', '4562', '4564', '4566', '4571', '4572', '4576', '4581',\n",
       "       '4720', '4722', '4737', '4739', '4746', '4755', '4763', '4764',\n",
       "       '4766', '4807', '4904', '4906', '4912', '4915', '4916', '4919',\n",
       "       '4927', '4930', '4934', '4935', '4938', '4942', '4943', '4952',\n",
       "       '4956', '4958', '4960', '4961', '4967', '4968', '4976', '4977',\n",
       "       '4989', '4994', '4999', '5007', '5203', '5215', '5222', '5225',\n",
       "       '5234', '5243', '5258', '5269', '5283', '5284', '5285', '5288',\n",
       "       '5388', '5434', '5469', '5471', '5484', '5515', '5519', '5521',\n",
       "       '5522', '5525', '5531', '5533', '5534', '5538', '5546', '5607',\n",
       "       '5608', '5706', '5871', '5876', '5880', '5906', '5907', '6005',\n",
       "       '6024', '6108', '6112', '6115', '6116', '6117', '6120', '6128',\n",
       "       '6133', '6136', '6139', '6141', '6142', '6152', '6153', '6155',\n",
       "       '6164', '6165', '6166', '6168', '6172', '6176', '6177', '6183',\n",
       "       '6184', '6189', '6191', '6192', '6196', '6197', '6201', '6202',\n",
       "       '6205', '6206', '6209', '6213', '6214', '6215', '6216', '6224',\n",
       "       '6225', '6226', '6230', '6235', '6239', '6243', '6251', '6257',\n",
       "       '6269', '6271', '6277', '6278', '6281', '6282', '6283', '6285',\n",
       "       '6288', '6289', '6405', '6409', '6412', '6414', '6415', '6416',\n",
       "       '6426', '6431', '6438', '6442', '6443', '6449', '6451', '6456',\n",
       "       '6464', '6477', '6491', '6504', '6505', '6515', '6525', '6531',\n",
       "       '6533', '6541', '6552', '6558', '6573', '6579', '6581', '6582',\n",
       "       '6591', '6592', '6598', '6605', '6625', '6641', '6655', '6666',\n",
       "       '6668', '6669', '6670', '6671', '6672', '6674', '6698', '6706',\n",
       "       '6715', '6743', '6754', '6756', '6768', '6770', '6776', '6781',\n",
       "       '6790', '6806', '8011', '8016', '8021', '8028', '8033', '8039',\n",
       "       '8046', '8070', '8072', '8081', '8101', '8103', '8104', '8105',\n",
       "       '8110', '8112', '8114', '8131', '8150', '8163', '8201', '8210',\n",
       "       '8213', '8215', '8222', '8249', '8261', '8271', '8341', '8367',\n",
       "       '8374', '8404', '8411', '8422', '8427', '8429', '8442', '8443',\n",
       "       '8454', '8462', '8463', '8464', '8466', '8467', '8473', '8478',\n",
       "       '8480', '8481', '8482', '8488', '8499', '8926', '8940', '8996',\n",
       "       '9802', '9902', '9904', '9905', '9906', '9907', '9908', '9910',\n",
       "       '9911', '9912', '9914', '9917', '9918', '9919', '9921', '9924',\n",
       "       '9925', '9926', '9927', '9928', '9929', '9930', '9931', '9933',\n",
       "       '9934', '9935', '9937', '9938', '9939', '9940', '9941', '9942',\n",
       "       '9943', '9944', '9945', '9946', '9955', '9958'], dtype=object)"
      ]
     },
     "execution_count": 104,
     "metadata": {},
     "output_type": "execute_result"
    }
   ],
   "source": [
    "url = 'https://concords.moneydj.com/z/zc/zca/zca.djhtm?a=2303'\n",
    "\n",
    "list_stock_id = pd.read_csv('listed_company.csv', header=None)\n",
    "list_stock_id.columns = ['comp']\n",
    "list_stock_id = list_stock_id['comp'].str.split('　', expand=True)\n",
    "list_stock_id.columns = ['id', 'name']\n",
    "stock_ids = list_stock_id.id.unique()\n",
    "stock_ids\n"
   ]
  },
  {
   "cell_type": "code",
   "execution_count": null,
   "metadata": {},
   "outputs": [],
   "source": [
    "url = f'https://concords.moneydj.com/z/zc/zca/zca.djhtm?a={stock_id}'\n",
    "res = requests.get(url, headers=headers).content\n",
    "soup = BeautifulSoup(res, 'html.parser')\n",
    "keys = [item.text for item in soup.find_all('td', {'class': 't4t1'})]\n",
    "values = [item.text for item in soup.find_all('td', {'class': ['t3n1', 't3t1']}) if item.text.strip() != '']\n",
    "try:\n",
    "    idx = keys.index('公司地址')\n",
    "    _dict = dict(zip(keys[:idx+1], values[:idx+1]))\n",
    "\n",
    "except:\n",
    "    print(f'broken id: {stock_id}')\n",
    "\n",
    "finally:\n",
    "    print(_dict)\n",
    "    "
   ]
  },
  {
   "cell_type": "code",
   "execution_count": 189,
   "metadata": {},
   "outputs": [
    {
     "data": {
      "text/plain": [
       "{'encoding': 'utf-8', 'confidence': 0.938125, 'language': ''}"
      ]
     },
     "execution_count": 189,
     "metadata": {},
     "output_type": "execute_result"
    }
   ],
   "source": [
    "def getCompanyTable(url):\n",
    "    print(url)\n",
    "    res = requests.get(url, headers=headers).content\n",
    "    soup = BeautifulSoup(res, 'html.parser')\n",
    "    keys = [item.text for item in soup.find_all('td', {'class': 't4t1'})]\n",
    "    values = [item.text for item in soup.find_all('td', {'class': ['t3n1', 't3t1']}) if item.text.strip() != '']\n",
    "    try:\n",
    "        idx = keys.index('公司地址')\n",
    "        _dict = dict(zip(keys[:idx+1], values[:idx+1]))\n",
    "    except:\n",
    "        print(f'broken ')\n",
    "        print(keys, values)\n",
    "        _dict = ''\n",
    "    return _dict\n",
    "\n",
    "\n",
    "\n",
    "\n",
    "import chardet\n",
    "chardet.detect('¶}½L»ù'.encode('utf-8'))\n"
   ]
  },
  {
   "cell_type": "code",
   "execution_count": 190,
   "metadata": {
    "scrolled": true
   },
   "outputs": [
    {
     "name": "stdout",
     "output_type": "stream",
     "text": [
      "https://concords.moneydj.com/z/zc/zca/zca.djhtm?a=1324\n"
     ]
    },
    {
     "data": {
      "text/plain": [
       "{'開盤價': '10.95',\n",
       " '最高價': '11.2',\n",
       " '最低價': '10.95',\n",
       " '收盤價': '11.15',\n",
       " '漲跌': '+0.15',\n",
       " '一年內最高價': '14.2',\n",
       " '一年內最低價': '9.8',\n",
       " '本益比': 'N/A',\n",
       " '一年內最大量': '3,424',\n",
       " '一年內最低量': '1',\n",
       " '成交量': '119',\n",
       " '同業平均本益比': '11.93',\n",
       " '一年來最高本益比': 'N/A',\n",
       " '一年來最低本益比': '44.59',\n",
       " '盤後量': '0',\n",
       " '殖利率': '2.69%',\n",
       " '總市值': '838',\n",
       " '85年來最高總市值': '2,967',\n",
       " '85年來最低總市值': '488',\n",
       " '今年以來': '9.14%',\n",
       " '每股淨值(元)': '12.50',\n",
       " '營業毛利率': '13.38%',\n",
       " '貝他值': '0.64',\n",
       " '最近一週': '2.29%',\n",
       " '每人營收(仟元)': '761.00',\n",
       " '營業利益率': '-0.98%',\n",
       " '標準差': '1.83%',\n",
       " '最近一個月': '0.90%',\n",
       " '每股營收(元)': '3.68',\n",
       " '稅前淨利率': '-0.90%',\n",
       " '最近二個月': '0.90%',\n",
       " '負債比例': '23.04%',\n",
       " '資產報酬率': '-0.28%',\n",
       " '最近三個月': '4.69%',\n",
       " '股價淨值比': '0.89',\n",
       " '股東權益報酬率': '-0.37%',\n",
       " '股本(億, 台幣)': '7.51',\n",
       " '現金股利(元)': '0.3',\n",
       " '成立時間': '53/12/08',\n",
       " '股票股利': '0',\n",
       " '初次上市(櫃)日期': '86/12/26',\n",
       " '盈餘配股': '0',\n",
       " '股務代理': '永豐金證02-23816288',\n",
       " '公積配股': '0',\n",
       " '董事長': '鈞鼎投資股份有限公司/張德照',\n",
       " '總經理': '黃林慶',\n",
       " '發言人': '張雅琪',\n",
       " '營收比重': 'PVC膠帶100.00% (2020年)',\n",
       " '公司電話': '02-25066666',\n",
       " '網址': 'http://www.globetape.com.tw/',\n",
       " '公司地址': '台北市中山區南京東路三段61號7樓'}"
      ]
     },
     "execution_count": 190,
     "metadata": {},
     "output_type": "execute_result"
    }
   ],
   "source": [
    "# for stock_id in broken_ids:\n",
    "stock_id = 1324\n",
    "url = f'https://concords.moneydj.com/z/zc/zca/zca.djhtm?a={stock_id}'\n",
    "getCompanyTable(url)\n"
   ]
  },
  {
   "cell_type": "code",
   "execution_count": 174,
   "metadata": {
    "scrolled": true
   },
   "outputs": [
    {
     "name": "stderr",
     "output_type": "stream",
     "text": [
      "100%|███████████████████████████████████████████████████████████████████████████████████████████████████████████████████████████████████████████████████████████████████████████████████████████████████████| 85/85 [07:12<00:00,  5.09s/it]\n"
     ]
    }
   ],
   "source": [
    "# comp_dict = dict()\n",
    "# broken_ids = list()\n",
    "\n",
    "selected_stock_ids = ['1236','1307','1321','1419','1439','1470','1541','1592','1614','1727','1805','2028','2115','2115','2211','2250','2388','2390','2404','2405','2424','2430','2433','2438','2468','2501','2501','2543','2712','2753','2910','2936','2945','3021','3035','3051','3059','3138','3266','3419','3515','3532','3701','3714','4190','4426','4440','4555','4560','4755','4930','4994','5222','5225','5284','5546','5608','6136','6172','6189','6201','6209','6224','6230','6289','6405','6442','6515','6715','6743','6754','6756','6768','6770','6781','6790','6806','8104','8427','8467','8478','8482','8488','9926','9927']\n",
    "\n",
    "for stock_id in tqdm(selected_stock_ids):\n",
    "\n",
    "    url = f'https://concords.moneydj.com/z/zc/zca/zca.djhtm?a={stock_id}'\n",
    "    res = requests.get(url, headers=headers).content\n",
    "    soup = BeautifulSoup(res, 'html.parser')\n",
    "    keys = [item.text for item in soup.find_all('td', {'class': 't4t1'})]\n",
    "    values = [item.text for item in soup.find_all('td', {'class': ['t3n1', 't3t1']}) if item.text.strip() != '']\n",
    "    try:\n",
    "        idx = keys.index('公司地址')\n",
    "        _dict = dict(zip(keys[:idx+1], values[:idx+1]))\n",
    "        comp_dict.update({stock_id: _dict})\n",
    "    \n",
    "    except:\n",
    "        print(f'broken id: {stock_id}')\n",
    "        broken_ids.append(stock_id)\n",
    "        continue\n",
    "    \n",
    "    finally:\n",
    "        sleep(np.random.randint(3, 8))\n",
    "\n"
   ]
  },
  {
   "cell_type": "code",
   "execution_count": 175,
   "metadata": {
    "scrolled": true
   },
   "outputs": [
    {
     "name": "stderr",
     "output_type": "stream",
     "text": [
      "100%|████████████████████████████████████████████████████████████████████████████████████████████████████████████████████████████████████████████████████████████████████████████████████████████████████| 85/85 [00:00<00:00, 33918.36it/s]"
     ]
    },
    {
     "name": "stdout",
     "output_type": "stream",
     "text": [
      "{'開盤價': '24.5', '最高價': '25.55', '最低價': '24.2', '收盤價': '25.55', '漲跌': '+0.05', '一年內最高價': '25.7', '一年內最低價': '13', '本益比': 'N/A', '一年內最大量': '4,818', '一年內最低量': '2', '成交量': '2,318', '同業平均本益比': '22.49', '一年來最高本益比': 'N/A', '一年來最低本益比': '33.64', '盤後量': '12', '殖利率': '0.78%', '總市值': '2,768', '85年來最高總市值': '3,158', '85年來最低總市值': '299', '今年以來': '82.25%', '每股淨值(元)': '14.26', '營業毛利率': '23.71%', '貝他值': '0.39', '最近一週': '21.38%', '每人營收(仟元)': 'N/A', '營業利益率': '-4.62%', '標準差': '2.71%', '最近一個月': '80.57%', '每股營收(元)': '3.73', '稅前淨利率': '-3.51%', '最近二個月': '83.81%', '負債比例': '40.45%', '資產報酬率': '-0.47%', '最近三個月': '83.15%', '股價淨值比': '1.79', '股東權益報酬率': '-0.87%', '股本(億, 台幣)': '10.83', '現金股利(元)': '0.2', '成立時間': '65/06/14', '股票股利': '0', '初次上市(櫃)日期': '90/09/17', '盈餘配股': '0', '股務代理': '群益金鼎證02-27023999', '公積配股': '0', '董事長': '張云綺', '總經理': '張云綺', '發言人': '余彩雲', '營收比重': '威化巧克力37.05%、糕(囍)餅(盒)27.74%、乳加巧克力21.03%、其他14.19% (2020年)', '公司電話': '02-29180786', '網址': 'http://www.hunya.com.tw', '公司地址': '新北市新店區寶興路45巷8弄3號5樓'}\n",
      "{'開盤價': '20.85', '最高價': '20.95', '最低價': '20.75', '收盤價': '20.75', '漲跌': '-0.1', '一年內最高價': '28', '一年內最低價': '19.35', '本益比': '43.23', '一年內最大量': '11,832', '一年內最低量': '46', '成交量': '48', '同業平均本益比': '11.93', '一年來最高本益比': '44.27', '一年來最低本益比': '18.38', '盤後量': '0', '殖利率': '2.41%', '總市值': '8,255', '85年來最高總市值': '20,999', '85年來最低總市值': '1,376', '今年以來': '-6.23%', '每股淨值(元)': '19.24', '營業毛利率': '7.03%', '貝他值': '0.72', '最近一週': '1.22%', '每人營收(仟元)': '615.00', '營業利益率': '-9.79%', '標準差': '1.56%', '最近一個月': '-4.38%', '每股營收(元)': '4.24', '稅前淨利率': '-11.50%', '最近二個月': '-3.04%', '負債比例': '48.40%', '資產報酬率': '-1.02%', '最近三個月': '-0.95%', '股價淨值比': '1.08', '股東權益報酬率': '-2.11%', '股本(億, 台幣)': '39.78', '現金股利(元)': '0.5', '成立時間': '62/06/16', '股票股利': '0', '初次上市(櫃)日期': '74/11/23', '盈餘配股': '0', '股務代理': '中信託02-66365566', '公積配股': '0', '董事長': '林孟經', '總經理': '林至逸', '發言人': '林信宏', '營收比重': '濕式合成皮革62.12%、乾式合成皮革27.26%、其他10.62% (2020年)', '公司電話': '07-3712111', '網址': 'http://www.sanfang.com.tw', '公司地址': '高雄市三民區通化街120號'}\n",
      "{'開盤價': '35.4', '最高價': '35.4', '最低價': '35.2', '收盤價': '35.2', '漲跌': '-0.15', '一年內最高價': '42.7', '一年內最低價': '31.85', '本益比': '16.37', '一年內最大量': '4,262', '一年內最低量': '23', '成交量': '153', '同業平均本益比': '11.93', '一年來最高本益比': '16.81', '一年來最低本益比': '10.80', '盤後量': '2.84%', '殖利率': '7,998', '總市值': '11,077', '85年來最高總市值': '999', '85年來最低總市值': '0.95%', '今年以來': '29.93', '每股淨值(元)': '5.06%', '營業毛利率': '0.71', '貝他值': '1.29%', '最近一週': 'N/A', '每人營收(仟元)': '-2.42%', '營業利益率': '1.62%', '標準差': '5.39%', '最近一個月': '7.44', '每股營收(元)': '8.77%', '稅前淨利率': '7.32%', '最近二個月': '47.88%', '負債比例': '1.12%', '資產報酬率': '9.66%', '最近三個月': '1.18', '股價淨值比': '2.08%', '股東權益報酬率': '22.72', '股本(億, 台幣)': '1', '現金股利(元)': '54/06/07', '成立時間': '0', '股票股利': '88/01/26', '初次上市(櫃)日期': '0', '盈餘配股': '凱基證02-23892999', '股務代理': '0', '公積配股': '陳欽明', '董事長': '陳欽明', '總經理': '王逸鶴', '發言人': '塑膠原料66.72%、塑膠布16.99%、塑膠建材13.59%、合成皮1.65%、塑膠皮1.04% (2020年)', '營收比重': '02-23062131', '公司電話': 'http://www.opc.com.tw/', '網址': '台北市莒光路310號5,6樓', '公司地址': '9,703'}\n",
      "{'開盤價': '43.45', '最高價': '43.45', '最低價': '43', '收盤價': '43.15', '漲跌': '-0.15', '一年內最高價': '45.8', '一年內最低價': '36.35', '本益比': '26.47', '一年內最大量': '624', '一年內最低量': '0', '成交量': '22', '同業平均本益比': '54.90', '一年來最高本益比': '39.45', '一年來最低本益比': '25.46', '盤後量': '0', '殖利率': '2.32%', '總市值': '12,947', '85年來最高總市值': '23,522', '85年來最低總市值': '2,410', '今年以來': '4.55%', '每股淨值(元)': '32.65', '營業毛利率': '23.37%', '貝他值': '0.60', '最近一週': '-1.60%', '每人營收(仟元)': '1,795.00', '營業利益率': '3.09%', '標準差': '1.18%', '最近一個月': '3.98%', '每股營收(元)': '2.17', '稅前淨利率': '47.26%', '最近二個月': '4.35%', '負債比例': '34.09%', '資產報酬率': '2.13%', '最近三個月': '6.02%', '股價淨值比': '1.32', '股東權益報酬率': '3.15%', '股本(億, 台幣)': '30.00', '現金股利(元)': '1', '成立時間': '44/06/06', '股票股利': '0', '初次上市(櫃)日期': '66/03/14', '盈餘配股': '0', '股務代理': '台新證02-25048125', '公積配股': '0', '董事長': '吳昕恩', '總經理': '柯夙娟', '發言人': '布51.71%、零售及成衣29.73%、租金收入16.56%、代工布1.05%、混紡紗0.82%、其他0.12% (2020年)', '營收比重': '02-25071251', '公司電話': 'http://www.sktextile.com.tw/', '網址': '台北市南京東路二段123號11樓', '公司地址': '13,217'}\n",
      "{'開盤價': '24', '最高價': '24.15', '最低價': '23.85', '收盤價': '23.85', '漲跌': '-0.4', '一年內最高價': '29.25', '一年內最低價': '20.55', '本益比': 'N/A', '一年內最大量': '2,298', '一年內最低量': '0', '成交量': '16', '同業平均本益比': '54.90', '一年來最高本益比': 'N/A', '一年來最低本益比': '55.80', '盤後量': '5', '殖利率': '0%', '總市值': '2,194', '85年來最高總市值': '7,598', '85年來最低總市值': '723', '今年以來': '-16.32%', '每股淨值(元)': '23.61', '營業毛利率': '0.83%', '貝他值': '0.48', '最近一週': '-0.42%', '每人營收(仟元)': '748.00', '營業利益率': '-42.90%', '標準差': '1.46%', '最近一個月': '8.41%', '每股營收(元)': '0.20', '稅前淨利率': '250.70%', '最近二個月': '5.76%', '負債比例': '19.23%', '資產報酬率': '1.77%', '最近三個月': '9.91%', '股價淨值比': '1.01', '股東權益報酬率': '2.13%', '股本(億, 台幣)': '9.20', '現金股利(元)': '0', '成立時間': '53/10/01', '股票股利': '0', '初次上市(櫃)日期': '78/05/22', '盈餘配股': '0', '股務代理': '福邦證02-23711658', '公積配股': '0', '董事長': '侯嘉騏', '總經理': '劉先雯', '發言人': '羅健彰', '營收比重': '毛條64.56%、防縮毛條35.44% (2020年)', '公司電話': '02-27566777', '網址': 'http://www.chuwa.com.tw/', '公司地址': '台北市信義區忠孝東路四段557之1號19樓'}\n",
      "{'開盤價': '18.35', '最高價': '18.7', '最低價': '18.35', '收盤價': '18.7', '漲跌': '+0.05', '一年內最高價': '19.45', '一年內最低價': '15', '本益比': '23.97', '一年內最大量': '326', '一年內最低量': '0', '成交量': '5', '同業平均本益比': '54.90', '一年來最高本益比': '58.97', '一年來最低本益比': '21.22', '盤後量': '2.25%', '殖利率': '1,604', '總市值': '2,041', '85年來最高總市值': '258', '85年來最低總市值': '6.06%', '今年以來': '11.54', '每股淨值(元)': '23.22%', '營業毛利率': '0.28', '貝他值': '3.60%', '最近一週': 'N/A', '每人營收(仟元)': '9.81%', '營業利益率': '1.33%', '標準差': '2.47%', '最近一個月': '2.84', '每股營收(元)': '7.37%', '稅前淨利率': '-0.53%', '最近二個月': '16.40%', '負債比例': '1.08%', '資產報酬率': '7.16%', '最近三個月': '1.62', '股價淨值比': '1.30%', '股東權益報酬率': '8.58', '股本(億, 台幣)': '0.42', '現金股利(元)': '75/12/09', '成立時間': '0', '股票股利': '88/05/21', '初次上市(櫃)日期': '0', '盈餘配股': '富邦證02-23611300', '股務代理': '0', '公積配股': '葉泉發', '董事長': '葉柏亮', '總經理': '洪憲忠', '發言人': '布匹買賣53.89%、染整加工44.26%、其他1.85% (2020年)', '營收比重': '02-25503266', '公司電話': 'http://www.evertex.tw/', '網址': '台北市大同區塔城街64號4樓', '公司地址': '1,630'}\n",
      "{'開盤價': '43.5', '最高價': '43.5', '最低價': '43.5', '收盤價': '43.5', '漲跌': '0', '一年內最高價': '70.6', '一年內最低價': '41.3', '本益比': '10.31', '一年內最大量': '1,985', '一年內最低量': '0', '成交量': '7', '同業平均本益比': '31.68', '一年來最高本益比': '12.30', '一年來最低本益比': '8.45', '盤後量': '6.9%', '殖利率': '3,428', '總市值': '5,500', '85年來最高總市值': '408', '85年來最低總市值': '-13.08%', '今年以來': '21.27', '每股淨值(元)': '13.22%', '營業毛利率': '0.68', '貝他值': '0.69%', '最近一週': '3,556.00', '每人營收(仟元)': '8.27%', '營業利益率': '2.09%', '標準差': '-1.14%', '最近一個月': '22.56', '每股營收(元)': '8.34%', '稅前淨利率': '-2.25%', '最近二個月': '65.78%', '負債比例': '2.54%', '資產報酬率': '1.60%', '最近三個月': '2.05', '股價淨值比': '6.57%', '股東權益報酬率': '7.88', '股本(億, 台幣)': '3', '現金股利(元)': '78/04/21', '成立時間': '0', '股票股利': '92/03/19', '初次上市(櫃)日期': '0', '盈餘配股': '台新證02-25048125', '股務代理': '0', '公積配股': '張經金', '董事長': '張經金', '總經理': '張錦華', '發言人': '電動鋸木機99.98%、其他0.02% (2020年)', '營收比重': '04-25580669', '公司電話': 'http://www.toty.com.tw/', '網址': '台中市后里區南村路41號', '公司地址': '5,500'}\n",
      "{'開盤價': '-0.28', '最高價': '15.75', '最低價': '2.16', '收盤價': 'N/A', '漲跌': '26,556', '一年內最高價': '75', '一年內最低價': '1,014', '本益比': '30.55', '一年內最大量': 'N/A', '一年內最低量': 'N/A', '成交量': '0%', '同業平均本益比': '285', '一年來最高本益比': '6,558', '一年來最低本益比': '240', '盤後量': '-71.91%', '殖利率': '4.75', '總市值': '-20.57%', '85年來最高總市值': '0.52', '85年來最低總市值': '0.00%', '今年以來': '371.00', '每股淨值(元)': '-70.22%', '營業毛利率': '3.83%', '貝他值': '0.00%', '最近一週': '4.19', '每人營收(仟元)': '-84.71%', '營業利益率': '0.00%', '標準差': '86.96%', '最近一個月': '-8.77%', '每股營收(元)': '0.00%', '稅前淨利率': '0.54', '最近二個月': '-55.17%', '負債比例': '11.10', '資產報酬率': '0', '最近三個月': '98/11/19', '股價淨值比': '0', '股東權益報酬率': '103/10/16', '股本(億, 台幣)': '0', '現金股利(元)': '永豐金證02-23816288', '成立時間': '0', '股票股利': '翁瑞蓮', '初次上市(櫃)日期': '翁瑞蓮', '盈餘配股': '車用水箱55.90%、其他26.19%、冷凝器10.72%、重型水箱7.19% (2020年)', '股務代理': '06-2931556', '公積配股': 'http://tw.enterexinternational.com/', '董事長': '台南市安平區慶平路573號10樓', '總經理': '1,015', '發言人': '1,903', '營收比重': '2,774', '公司電話': '3,354', '網址': '5,875', '公司地址': '6,558'}\n",
      "{'開盤價': '36.4', '最高價': '36.4', '最低價': '36', '收盤價': '36.1', '漲跌': '-0.2', '一年內最高價': '37.8', '一年內最低價': '31', '本益比': '28.20', '一年內最大量': '728', '一年內最低量': '4', '成交量': '72', '同業平均本益比': '22.79', '一年來最高本益比': '28.79', '一年來最低本益比': '21.47', '盤後量': '0', '殖利率': '2.63%', '總市值': '9,715', '85年來最高總市值': '14,089', '85年來最低總市值': '2,596', '今年以來': '0.88%', '每股淨值(元)': '20.68', '營業毛利率': '22.08%', '貝他值': '0.55', '最近一週': '0.28%', '每人營收(仟元)': '1,425.00', '營業利益率': '8.98%', '標準差': '1.02%', '最近一個月': '4.34%', '每股營收(元)': '5.81', '稅前淨利率': '9.36%', '最近二個月': '5.56%', '負債比例': '21.27%', '資產報酬率': '1.62%', '最近三個月': '6.96%', '股價淨值比': '1.75', '股東權益報酬率': '2.11%', '股本(億, 台幣)': '26.91', '現金股利(元)': '0.949277755', '成立時間': '52/02/13', '股票股利': '0', '初次上市(櫃)日期': '86/09/18', '盈餘配股': '0', '股務代理': '華南永昌證02-27186425', '公積配股': '0', '董事長': '李文峰', '總經理': '李文琳', '發言人': '林張惠', '營收比重': '電化產品93.19%、無線產品6.17%、租賃4.57% (2020年)', '公司電話': '02-25210251', '網址': 'http://www.sanyo.com.tw/', '公司地址': '台北市中山區松江路266號10樓'}\n",
      "{'開盤價': '51.4', '最高價': '51.9', '最低價': '50.1', '收盤價': '50.1', '漲跌': '-0.9', '一年內最高價': '61.6', '一年內最低價': '10.35', '本益比': '34.32', '一年內最大量': '150,325', '一年內最低量': '3', '成交量': '3,898', '同業平均本益比': '24.27', '一年來最高本益比': 'N/A', '一年來最低本益比': '14.95', '盤後量': '46', '殖利率': '%', '總市值': '5,423', '85年來最高總市值': '6,203', '85年來最低總市值': '204', '今年以來': '353.39%', '每股淨值(元)': '13.02', '營業毛利率': '17.07%', '貝他值': '0.53', '最近一週': '-3.65%', '每人營收(仟元)': '1,958.00', '營業利益率': '6.62%', '標準差': '3.96%', '最近一個月': '-6.70%', '每股營收(元)': '4.74', '稅前淨利率': '6.62%', '最近二個月': '51.82%', '負債比例': '42.73%', '資產報酬率': '1.15%', '最近三個月': '90.86%', '股價淨值比': '3.85', '股東權益報酬率': '1.95%', '股本(億, 台幣)': '10.83', '現金股利(元)': '0', '成立時間': '45/10/30', '股票股利': '88/01/16', '初次上市(櫃)日期': '0', '盈餘配股': '永豐金證02-23816288', '股務代理': '干文元', '公積配股': '干文元', '董事長': '馮億苓', '總經理': '基礎化學品61.59%、電子化學品20.99%、特用化學品17.42% (2020年)', '發言人': '03-4761266', '營收比重': 'http://www.chciw.com.tw/', '公司電話': '桃園市觀音區樹林里工業五路15號', '網址': '6,203', '公司地址': '1,323'}\n",
      "{'開盤價': '14.8', '最高價': '14.8', '最低價': '14.1', '收盤價': '14.55', '漲跌': '+0.05', '一年內最高價': '18.2', '一年內最低價': '9.5', '本益比': 'N/A', '一年內最大量': '4,217', '一年內最低量': '4', '成交量': '104', '同業平均本益比': '49.87', '一年來最高本益比': 'N/A', '一年來最低本益比': 'N/A', '盤後量': '0', '殖利率': '0%', '總市值': '1,168', '85年來最高總市值': '9,377', '85年來最低總市值': '102', '今年以來': '45.65%', '每股淨值(元)': '5.98', '營業毛利率': '57.21%', '貝他值': '1.04', '最近一週': '5.82%', '每人營收(仟元)': '829.00', '營業利益率': '-17.16%', '標準差': '2.92%', '最近一個月': '4.30%', '每股營收(元)': '0.17', '稅前淨利率': '-37.85%', '最近二個月': '3.93%', '負債比例': '58.60%', '資產報酬率': '-0.17%', '最近三個月': '4.30%', '股價淨值比': '2.43', '股東權益報酬率': '-1.11%', '股本(億, 台幣)': '8.03', '現金股利(元)': '0', '成立時間': '67/06/30', '股票股利': '0', '初次上市(櫃)日期': '78/10/20', '盈餘配股': '0', '股務代理': '群益金鼎證02-27023999', '公積配股': '0', '董事長': '鍾喜吉', '總經理': '林瑞山', '發言人': '黃文正', '營收比重': '康橋旭92.69%、其他6.65%、青埔- 徠花園0.66% (2020年)', '公司電話': '02-27915688', '網址': 'http://blgroup.com.tw/', '公司地址': '台北市內湖區新湖一路303號4樓'}\n",
      "{'開盤價': '44.9', '最高價': '45.55', '最低價': '43.6', '收盤價': '44.35', '漲跌': '-0.4', '一年內最高價': '67.8', '一年內最低價': '16.5', '本益比': '9.64', '一年內最大量': '58,929', '一年內最低量': '453', '成交量': '7,005', '同業平均本益比': '18.22', '一年來最高本益比': '25.28', '一年來最低本益比': '8.30', '盤後量': '27', '殖利率': '0%', '總市值': '14,445', '85年來最高總市值': '20,259', '85年來最低總市值': '294', '今年以來': '81.76%', '每股淨值(元)': '12.98', '營業毛利率': '20.41%', '貝他值': '1.45', '最近一週': '8.04%', '每人營收(仟元)': '10,052.00', '營業利益率': '17.72%', '標準差': '4.88%', '最近一個月': '14.16%', '每股營收(元)': '10.83', '稅前淨利率': '17.50%', '最近二個月': '18.42%', '負債比例': '49.19%', '資產報酬率': '6.36%', '最近三個月': '-0.34%', '股價淨值比': '3.42', '股東權益報酬率': '12.42%', '股本(億, 台幣)': '32.57', '現金股利(元)': '0', '成立時間': '71/10/27', '股票股利': '0', '初次上市(櫃)日期': '85/12/13', '盈餘配股': '0', '股務代理': '福邦證02-23711658', '公積配股': '0', '董事長': '郭瑞西', '總經理': '郭素惠', '發言人': '郭素惠', '營收比重': '鋼筋60.43%、鋼胚24.69%、棒鋼10.15%、盤元4.66%、其他0.06% (2020年)', '公司電話': '06-5790213', '網址': 'http://www.weichih.com.tw/', '公司地址': '台南市官田區南部里南部123號'}\n",
      "{'開盤價': '40.9', '最高價': '40.9', '最低價': '40.65', '收盤價': '40.85', '漲跌': '-0.05', '一年內最高價': '55.3', '一年內最低價': '39.05', '本益比': '9.75', '一年內最大量': '2,262', '一年內最低量': '6', '成交量': '30', '同業平均本益比': '48.02', '一年來最高本益比': '9.84', '一年來最低本益比': '5.74', '盤後量': '1', '殖利率': '6.12%', '總市值': '4,061', '85年來最高總市值': '5,197', '85年來最低總市值': '2,266', '今年以來': '4.09%', '每股淨值(元)': '28.60', '營業毛利率': '24.76%', '貝他值': '0.59', '最近一週': '3.81%', '每人營收(仟元)': '622.00', '營業利益率': '13.33%', '標準差': '1.33%', '最近一個月': '-0.24%', '每股營收(元)': '8.34', '稅前淨利率': '15.80%', '最近二個月': '1.74%', '負債比例': '43.17%', '資產報酬率': '1.90%', '最近三個月': '-5.98%', '股價淨值比': '1.43', '股東權益報酬率': '3.24%', '股本(億, 台幣)': '9.94', '現金股利(元)': '1.49999995', '成立時間': '98/10/19', '股票股利': '1.0000000553', '初次上市(櫃)日期': '102/12/25', '盈餘配股': '1.0000000553', '股務代理': '永豐金證02-23816288', '公積配股': '0', '董事長': '許廉凱', '總經理': '許秀華', '發言人': '張琪琪', '營收比重': '機車、電動摩托車類32.69%、汽車、卡車及非道路用車類24.28%、腳踏車類24.17%、配件及其他18.86% (2020年)', '公司電話': '04-8748122', '網址': 'http://www.luhai.com.tw/', '公司地址': 'The Grand Pavilion Commercial Centre, Oleander Way, 802 West'}\n",
      "{'開盤價': '40.9', '最高價': '40.9', '最低價': '40.65', '收盤價': '40.85', '漲跌': '-0.05', '一年內最高價': '55.3', '一年內最低價': '39.05', '本益比': '9.75', '一年內最大量': '2,262', '一年內最低量': '6', '成交量': '30', '同業平均本益比': '48.02', '一年來最高本益比': '9.84', '一年來最低本益比': '5.74', '盤後量': '1', '殖利率': '6.12%', '總市值': '4,061', '85年來最高總市值': '5,197', '85年來最低總市值': '2,266', '今年以來': '4.09%', '每股淨值(元)': '28.60', '營業毛利率': '24.76%', '貝他值': '0.59', '最近一週': '3.81%', '每人營收(仟元)': '622.00', '營業利益率': '13.33%', '標準差': '1.33%', '最近一個月': '-0.24%', '每股營收(元)': '8.34', '稅前淨利率': '15.80%', '最近二個月': '1.74%', '負債比例': '43.17%', '資產報酬率': '1.90%', '最近三個月': '-5.98%', '股價淨值比': '1.43', '股東權益報酬率': '3.24%', '股本(億, 台幣)': '9.94', '現金股利(元)': '1.49999995', '成立時間': '98/10/19', '股票股利': '1.0000000553', '初次上市(櫃)日期': '102/12/25', '盈餘配股': '1.0000000553', '股務代理': '永豐金證02-23816288', '公積配股': '0', '董事長': '許廉凱', '總經理': '許秀華', '發言人': '張琪琪', '營收比重': '機車、電動摩托車類32.69%、汽車、卡車及非道路用車類24.28%、腳踏車類24.17%、配件及其他18.86% (2020年)', '公司電話': '04-8748122', '網址': 'http://www.luhai.com.tw/', '公司地址': 'The Grand Pavilion Commercial Centre, Oleander Way, 802 West'}\n",
      "{'開盤價': '54.7', '最高價': '55.3', '最低價': '54.1', '收盤價': '54.7', '漲跌': '+1', '一年內最高價': '75.5', '一年內最低價': '45.75', '本益比': '18.48', '一年內最大量': '17,622', '一年內最低量': '177', '成交量': '1,910', '同業平均本益比': '18.22', '一年來最高本益比': '29.17', '一年來最低本益比': '17.09', '盤後量': '14', '殖利率': '3.82%', '總市值': '22,973', '85年來最高總市值': '30,869', '85年來最低總市值': '12,127', '今年以來': 'N/A', '每股淨值(元)': '48.60', '營業毛利率': '19.47%', '貝他值': '3.80%', '最近一週': '5,381.00', '每人營收(仟元)': '15.58%', '營業利益率': '7.25%', '標準差': '8.23', '最近一個月': '20.01%', '每股營收(元)': '12.55%', '稅前淨利率': '26.98%', '最近二個月': '1.74%', '負債比例': '7.47%', '資產報酬率': '1.13', '最近三個月': '2.29%', '股價淨值比': '42.00', '股東權益報酬率': '2.09157486', '股本(億, 台幣)': '62/01/29', '現金股利(元)': '0', '成立時間': '110/04/12', '股票股利': '0', '初次上市(櫃)日期': '凱基證02-23892999', '盈餘配股': '0', '股務代理': '林耿立', '公積配股': '劉邦恩', '董事長': '劉邦恩', '總經理': '鋼構構件76.13%、一般, 事業廢棄物處理及其他23.87% (2020年)', '發言人': '02-25135858', '營收比重': 'http://www.evergreennet.com', '公司電話': '台北市中山區長安東路2段100號11樓', '網址': '30,869', '公司地址': '19,532'}\n",
      "{'開盤價': '105', '最高價': '107.5', '最低價': '103.5', '收盤價': '104', '漲跌': '+2.5', '一年內最高價': '220', '一年內最低價': '96.6', '本益比': '17.60', '一年內最大量': '3,126', '一年內最低量': '34', '成交量': '151', '同業平均本益比': '48.02', '一年來最高本益比': '32.52', '一年來最低本益比': '16.38', '盤後量': '1', '殖利率': '2.88%', '總市值': '2,808', '85年來最高總市值': '5,805', '85年來最低總市值': '2,614', '今年以來': 'N/A', '每股淨值(元)': '54.26', '營業毛利率': '15.07%', '貝他值': '-2.35%', '最近一週': 'N/A', '每人營收(仟元)': '3.33%', '營業利益率': '-8.77%', '標準差': '32.61', '最近一個月': '4.24%', '每股營收(元)': '0.97%', '稅前淨利率': '54.26%', '最近二個月': '0.79%', '負債比例': '-21.80%', '資產報酬率': '1.92', '最近三個月': '1.62%', '股價淨值比': '2.70', '股東權益報酬率': '3', '股本(億, 台幣)': '105/03/31', '現金股利(元)': '0', '成立時間': '110/05/31', '股票股利': '0', '初次上市(櫃)日期': '康和證02-87871888', '盈餘配股': '0', '股務代理': '胡湘麒', '公積配股': '小原正美', '董事長': '胡湘麒', '總經理': '汽車類60.92%、衛浴家電類19.33%、其他14.13%、辦公設備5.62% (2020年)', '發言人': '03-5870928', '營收比重': 'http://www.ikka.com.tw/', '公司電話': '新竹縣關西鎮深坑子3-1號', '網址': '5,805', '公司地址': 'N/A'}\n",
      "{'開盤價': '90.6', '最高價': '93', '最低價': '88.3', '收盤價': '89.2', '漲跌': '+0.2', '一年內最高價': '103.5', '一年內最低價': '38.05', '本益比': '7.74', '一年內最大量': '236,641', '一年內最低量': '636', '成交量': '26,736', '同業平均本益比': '31.40', '一年來最高本益比': 'N/A', '一年來最低本益比': '3.09', '盤後量': '98', '殖利率': '0.9%', '總市值': '44,100', '85年來最高總市值': '268,766', '85年來最低總市值': '2,225', '今年以來': '69.81%', '每股淨值(元)': '19.21', '營業毛利率': '35.90%', '貝他值': '1.63', '最近一週': '1.83%', '每人營收(仟元)': '1,325.00', '營業利益率': '-10.77%', '標準差': '3.79%', '最近一個月': '6.06%', '每股營收(元)': '3.79', '稅前淨利率': '-9.55%', '最近二個月': '120.52%', '負債比例': '39.91%', '資產報酬率': '-1.25%', '最近三個月': '88.19%', '股價淨值比': '4.64', '股東權益報酬率': '-2.14%', '股本(億, 台幣)': '49.44', '現金股利(元)': '0.8', '成立時間': '81/09/21', '股票股利': '0', '初次上市(櫃)日期': '88/03/05', '盈餘配股': '0', '股務代理': '中信託02-66365566', '公積配股': '0', '董事長': '陳文琦', '總經理': '陳文琦', '發言人': '陳文琦', '營收比重': 'IC、嵌入式平台及其他100.00% (2020年)', '公司電話': '02-22185452', '網址': 'http://www.via.com.tw', '公司地址': '新北市新店區中正路535號8樓'}\n",
      "{'開盤價': '24.7', '最高價': '24.75', '最低價': '23', '收盤價': '23', '漲跌': '-1.55', '一年內最高價': '34.05', '一年內最低價': '12.45', '本益比': '3.61', '一年內最大量': '179,346', '一年內最低量': '623', '成交量': '18,801', '同業平均本益比': '38.79', '一年來最高本益比': '32.67', '一年來最低本益比': '3.12', '盤後量': '62', '殖利率': '0%', '總市值': '4,922', '85年來最高總市值': '30,527', '85年來最低總市值': '880', '今年以來': '55.41%', '每股淨值(元)': '17.78', '營業毛利率': '15.17%', '貝他值': '-0.22', '最近一週': '9.00%', '每人營收(仟元)': 'N/A', '營業利益率': '-26.98%', '標準差': '3.78%', '最近一個月': '7.98%', '每股營收(元)': '0.66', '稅前淨利率': '62.47%', '最近二個月': '13.86%', '負債比例': '8.45%', '資產報酬率': '2.71%', '最近三個月': '4.07%', '股價淨值比': '1.29', '股東權益報酬率': '2.99%', '股本(億, 台幣)': '21.40', '現金股利(元)': '0', '成立時間': '69/04/16', '股票股利': '0', '初次上市(櫃)日期': '88/06/15', '盈餘配股': '0', '股務代理': '群益金鼎證02-27023999', '公積配股': '0', '董事長': '張姿玲', '總經理': '張姿玲', '發言人': '呂麗筑', '營收比重': '智慧型安控防 自動化系統39.96%、其他27.54%、智能感應器,警報器,控制器17.53%、智能照明14.97% (2020年)', '公司電話': '02-22606868', '網址': 'http://www.everspring.com', '公司地址': '新北市土城區中華路一段50號3樓'}\n",
      "{'開盤價': '174.5', '最高價': '176', '最低價': '173', '收盤價': '174', '漲跌': '+1', '一年內最高價': '275.5', '一年內最低價': '170', '本益比': '11.61', '一年內最大量': '8,639', '一年內最低量': '190', '成交量': '877', '同業平均本益比': '38.79', '一年來最高本益比': '12.81', '一年來最低本益比': '9.02', '盤後量': '11', '殖利率': '9.77%', '總市值': '33,162', '85年來最高總市值': '51,172', '85年來最低總市值': '2,649', '今年以來': '-13.23%', '每股淨值(元)': '47.12', '營業毛利率': '17.92%', '貝他值': '0.73', '最近一週': '-2.79%', '每人營收(仟元)': '7,244.00', '營業利益率': '14.08%', '標準差': '1.60%', '最近一個月': '-5.69%', '每股營收(元)': '32.92', '稅前淨利率': '14.01%', '最近二個月': '-1.97%', '負債比例': '62.05%', '資產報酬率': '2.79%', '最近三個月': '-5.18%', '股價淨值比': '3.69', '股東權益報酬率': '7.88%', '股本(億, 台幣)': '19.06', '現金股利(元)': '17', '成立時間': '71/09/13', '股票股利': '0', '初次上市(櫃)日期': '87/02/16', '盈餘配股': '0', '股務代理': '台新證02-25048125', '公積配股': '0', '董事長': '李惠文', '總經理': '許俊源', '發言人': '系統整合99.42%、設計業務及產品銷售0.42%、維護服務0.16% (2020年)', '營收比重': '02-29174060', '公司電話': 'http://www.uisco.com.tw/', '網址': '新北市新店區寶高路7巷3號5樓', '公司地址': '51,172'}\n",
      "{'開盤價': '14.55', '最高價': '14.2', '最低價': '+1.4', '收盤價': '15.45', '漲跌': '10.1', '一年內最高價': '53.28', '一年內最低價': '38,625', '本益比': '255', '一年內最大量': '38,625', '一年內最低量': '29.18', '成交量': 'N/A', '同業平均本益比': '36.00', '一年來最高本益比': '43', '一年來最低本益比': '0%', '盤後量': '5,306', '殖利率': '9,712', '總市值': '835', '85年來最高總市值': '17.05%', '85年來最低總市值': '9.87', '今年以來': '38.80%', '每股淨值(元)': '1.11', '營業毛利率': '18.85%', '貝他值': 'N/A', '最近一週': '6.33%', '每人營收(仟元)': '2.95%', '營業利益率': '28.22%', '標準差': '1.43', '最近一個月': '5.31%', '每股營收(元)': '35.53%', '稅前淨利率': '15.00%', '最近二個月': '0.43%', '負債比例': '48.56%', '資產報酬率': '1.57', '最近三個月': '0.50%', '股價淨值比': '34.34', '股東權益報酬率': '0', '股本(億, 台幣)': '72/06/10', '現金股利(元)': '0', '成立時間': '87/12/08', '股票股利': '0', '初次上市(櫃)日期': '群益金鼎證02-27023999', '盈餘配股': '0', '股務代理': '余麗娜', '公積配股': '鄭瑋勳', '董事長': '石翔麟', '總經理': '迷你準系統72.06%、氣墊床及醫療週邊設備19.91%、電腦周邊設備及零組件5.94%、筆記型電腦(NB)2.09% (2020年)', '發言人': '02-87926168', '營收比重': 'http://www.shuttle.com', '公司電話': '台北市內湖區瑞光路76巷30號', '網址': '5,306', '公司地址': '4,653'}\n",
      "{'開盤價': '22.25', '最高價': '22.3', '最低價': '20.6', '收盤價': '20.6', '漲跌': '-1.4', '一年內最高價': '34.1', '一年內最低價': '20.05', '本益比': 'N/A', '一年內最大量': '97', '一年內最低量': '0', '成交量': '10', '同業平均本益比': '29.18', '一年來最高本益比': 'N/A', '一年來最低本益比': 'N/A', '盤後量': '1', '殖利率': '0%', '總市值': '371', '85年來最高總市值': '4,252', '85年來最低總市值': '209', '今年以來': '-20.77%', '每股淨值(元)': '7.11', '營業毛利率': '-470.83%', '貝他值': '0.34', '最近一週': '-4.63%', '每人營收(仟元)': 'N/A', '營業利益率': '-683.41%', '標準差': '3.74%', '最近一個月': '-7.62%', '每股營收(元)': '0.19', '稅前淨利率': '-792.43%', '最近二個月': '-9.45%', '負債比例': '56.04%', '資產報酬率': '-9.37%', '最近三個月': '-9.65%', '股價淨值比': '2.90', '股東權益報酬率': '-23.02%', '股本(億, 台幣)': '1.80', '現金股利(元)': '0', '成立時間': '62/01/24', '股票股利': '0', '初次上市(櫃)日期': '89/09/11', '盈餘配股': '0', '股務代理': '元大證02-25865859', '公積配股': '0', '董事長': '王光祥', '總經理': '王雅萱', '發言人': '王雅萱', '營收比重': '衛星產品53.98%、其他44.47%、提供勞務1.55% (2020年)', '公司電話': '02-25787775', '網址': 'http://www.lunghwa.com.tw', '公司地址': '台北市松山區八德路三段32號15樓'}\n",
      "{'開盤價': '40.7', '最高價': '41.2', '最低價': '40', '收盤價': '40.2', '漲跌': '-0.5', '一年內最高價': '52.5', '一年內最低價': '18.9', '本益比': '12.04', '一年內最大量': '12,851', '一年內最低量': '62', '成交量': '467', '同業平均本益比': '14.61', '一年來最高本益比': '16.89', '一年來最低本益比': '11.01', '盤後量': '3', '殖利率': '3.86%', '總市值': '6,692', '85年來最高總市值': '13,867', '85年來最低總市值': '2,031', '今年以來': '111.13%', '每股淨值(元)': '29.94', '營業毛利率': '15.55%', '貝他值': '0.52', '最近一週': '-0.25%', '每人營收(仟元)': '2,365.00', '營業利益率': '2.82%', '標準差': '2.67%', '最近一個月': '-4.17%', '每股營收(元)': '33.58', '稅前淨利率': '2.69%', '最近二個月': '-12.89%', '負債比例': '67.27%', '資產報酬率': '0.88%', '最近三個月': '-7.05%', '股價淨值比': '1.34', '股東權益報酬率': '2.44%', '股本(億, 台幣)': '16.65', '現金股利(元)': '1.55', '成立時間': '67/11/02', '股票股利': '0', '初次上市(櫃)日期': '89/09/11', '盈餘配股': '0', '股務代理': '元大證02-25865859', '公積配股': '0', '董事長': '林技典', '總經理': '王友良', '發言人': '家用電器57.03%、資訊產品39.04%、其他3.94% (2020年)', '營收比重': '02-27953988', '公司電話': 'http://www.tk3c.com.tw/', '網址': '台北市內湖區堤頂大道一段331號3樓', '公司地址': '8,573'}\n",
      "{'開盤價': '51.1', '最高價': '51.2', '最低價': '51', '收盤價': '51.1', '漲跌': '0', '一年內最高價': '55', '一年內最低價': '49.5', '本益比': '13.34', '一年內最大量': '431', '一年內最低量': '6', '成交量': '52', '同業平均本益比': '38.79', '一年來最高本益比': '14.06', '一年來最低本益比': '12.68', '盤後量': '7.05%', '殖利率': '7,384', '總市值': '10,296', '85年來最高總市值': '1,011', '85年來最低總市值': '6.23%', '今年以來': '28.11', '每股淨值(元)': '25.73%', '營業毛利率': '0.25', '貝他值': '-0.58%', '最近一週': 'N/A', '每人營收(仟元)': '10.48%', '營業利益率': '0.57%', '標準差': '0.39%', '最近一個月': '6.61', '每股營收(元)': '30.26%', '稅前淨利率': '1.39%', '最近二個月': '40.24%', '負債比例': '3.39%', '資產報酬率': '2.20%', '最近三個月': '1.82', '股價淨值比': '5.45%', '股東權益報酬率': '14.45', '股本(億, 台幣)': '3.6', '現金股利(元)': '73/08/30', '成立時間': '0', '股票股利': '89/09/11', '初次上市(櫃)日期': '0', '盈餘配股': '元大證02-25865859', '股務代理': '0', '公積配股': '廖慶章', '董事長': '翁國華', '總經理': '謝淑惠', '發言人': '租賃70.20%、辦公室自動化商品29.80% (2020年)', '營收比重': '02-23458009', '公司電話': 'http://www.eosasc.com.tw', '網址': '台北市信義區信義路5段2號12樓', '公司地址': '7,918'}\n",
      "{'開盤價': '16.25', '最高價': '15.3', '最低價': '15.6', '收盤價': '+0.7', '漲跌': '16.35', '一年內最高價': '6.4', '一年內最低價': '520.00', '本益比': '2,891', '一年內最大量': '5', '一年內最低量': '882', '成交量': '61.99', '同業平均本益比': '526.67', '一年來最高本益比': '125.00', '一年來最低本益比': '3', '盤後量': '0%', '殖利率': '939', '總市值': '14,942', '85年來最高總市值': '101', '85年來最低總市值': '47.86%', '今年以來': '9.75', '每股淨值(元)': '23.18%', '營業毛利率': '0.95', '貝他值': '11.83%', '最近一週': '538.00', '每人營收(仟元)': '6.91%', '營業利益率': '3.65%', '標準差': '4.70%', '最近一個月': '1.74', '每股營收(元)': '8.53%', '稅前淨利率': '36.84%', '最近二個月': '13.40%', '負債比例': '0.64%', '資產報酬率': '41.18%', '最近三個月': '1.60', '股價淨值比': '0.73%', '股東權益報酬率': '6.02', '股本(億, 台幣)': '0', '現金股利(元)': '71/01/14', '成立時間': '0', '股票股利': '89/09/11', '初次上市(櫃)日期': '0', '盈餘配股': '元大證02-25865859', '股務代理': '0', '公積配股': '王智永', '董事長': '王智永', '總經理': '蕭芳瑀', '發言人': '玻璃減薄拋光等加工76.19%、機電設備,組件17.62%、其他5.51%、平面光源及LED照明燈具0.69% (2020年)', '營收比重': '03-3508001', '公司電話': 'http://www.enlightcorp.com.tw/', '網址': '桃園市龜山區舊路里東舊路街118巷11號', '公司地址': '966'}\n",
      "{'開盤價': '13.1', '最高價': '13.1', '最低價': '12.95', '收盤價': '12.95', '漲跌': '-0.05', '一年內最高價': '18.15', '一年內最低價': '12.5', '本益比': '29.43', '一年內最大量': '7,192', '一年內最低量': '2', '成交量': '216', '同業平均本益比': '19.11', '一年來最高本益比': '32.55', '一年來最低本益比': '16.49', '盤後量': '0', '殖利率': '3.09%', '總市值': '906', '85年來最高總市值': '4,876', '85年來最低總市值': '428', '今年以來': '-3.20%', '每股淨值(元)': '16.30', '營業毛利率': '10.68%', '貝他值': '0.56', '最近一週': '-1.15%', '每人營收(仟元)': '1,718.00', '營業利益率': '2.50%', '標準差': '1.81%', '最近一個月': '-3.36%', '每股營收(元)': '7.32', '稅前淨利率': '2.60%', '最近二個月': '-2.63%', '負債比例': '33.12%', '資產報酬率': '0.61%', '最近三個月': '1.17%', '股價淨值比': '0.79', '股東權益報酬率': '0.94%', '股本(億, 台幣)': '7.00', '現金股利(元)': '0.4', '成立時間': '66/04/11', '股票股利': '0', '初次上市(櫃)日期': '90/09/17', '盈餘配股': '0', '股務代理': '凱基證02-23892999', '公積配股': '0', '董事長': '魏幸雄', '總經理': '唐宇華', '發言人': '陳秀月', '營收比重': '電腦設備及系統整合61.95%、電腦視訊產品15.06%、專業服務及其他11.58%、維修服務9.47%、專業影像處理服務1.13%、電腦影像產品0.80% (2020年)', '公司電話': '02-27935566', '網址': 'http://www.fis.com.tw/', '公司地址': '台北市內湖區行愛路78巷25號6樓'}\n",
      "{'開盤價': '19.2', '最高價': '19.3', '最低價': '19.2', '收盤價': '19.25', '漲跌': '+0.05', '一年內最高價': '22.7', '一年內最低價': '18.5', '本益比': '25.33', '一年內最大量': '8,769', '一年內最低量': '105', '成交量': '861', '同業平均本益比': '49.87', '一年來最高本益比': '26.05', '一年來最低本益比': '13.38', '盤後量': '4', '殖利率': '5.19%', '總市值': '22,322', '85年來最高總市值': '80,271', '85年來最低總市值': '9,923', '今年以來': '1.82%', '每股淨值(元)': '20.46', '營業毛利率': '17.26%', '貝他值': '0.49', '最近一週': '-1.28%', '每人營收(仟元)': '2,677.00', '營業利益率': '-1.14%', '標準差': '1.01%', '最近一個月': '-0.77%', '每股營收(元)': '2.11', '稅前淨利率': '4.82%', '最近二個月': '0.26%', '負債比例': '62.74%', '資產報酬率': '0.19%', '最近三個月': '0.52%', '股價淨值比': '0.94', '股東權益報酬率': '0.30%', '股本(億, 台幣)': '115.96', '現金股利(元)': '1', '成立時間': '53/12/01', '股票股利': '0', '初次上市(櫃)日期': '54/03/05', '盈餘配股': '0', '股務代理': '公司自辦02-23779968', '公積配股': '0', '董事長': '張清櫆', '總經理': '李虹明', '發言人': '林清樑', '營收比重': '公寓、店鋪、大廈等97.26%、租賃2.74% (2020年)', '公司電話': '02-23779968', '網址': 'http://www.cathay-red.com.tw/', '公司地址': '台北市敦化南路二段218號2樓'}\n",
      "{'開盤價': '19.2', '最高價': '19.3', '最低價': '19.2', '收盤價': '19.25', '漲跌': '+0.05', '一年內最高價': '22.7', '一年內最低價': '18.5', '本益比': '25.33', '一年內最大量': '8,769', '一年內最低量': '105', '成交量': '861', '同業平均本益比': '49.87', '一年來最高本益比': '26.05', '一年來最低本益比': '13.38', '盤後量': '4', '殖利率': '5.19%', '總市值': '22,322', '85年來最高總市值': '80,271', '85年來最低總市值': '9,923', '今年以來': '1.82%', '每股淨值(元)': '20.46', '營業毛利率': '17.26%', '貝他值': '0.49', '最近一週': '-1.28%', '每人營收(仟元)': '2,677.00', '營業利益率': '-1.14%', '標準差': '1.01%', '最近一個月': '-0.77%', '每股營收(元)': '2.11', '稅前淨利率': '4.82%', '最近二個月': '0.26%', '負債比例': '62.74%', '資產報酬率': '0.19%', '最近三個月': '0.52%', '股價淨值比': '0.94', '股東權益報酬率': '0.30%', '股本(億, 台幣)': '115.96', '現金股利(元)': '1', '成立時間': '53/12/01', '股票股利': '0', '初次上市(櫃)日期': '54/03/05', '盈餘配股': '0', '股務代理': '公司自辦02-23779968', '公積配股': '0', '董事長': '張清櫆', '總經理': '李虹明', '發言人': '林清樑', '營收比重': '公寓、店鋪、大廈等97.26%、租賃2.74% (2020年)', '公司電話': '02-23779968', '網址': 'http://www.cathay-red.com.tw/', '公司地址': '台北市敦化南路二段218號2樓'}\n",
      "{'開盤價': '7.57', '最高價': '7.62', '最低價': '7.54', '收盤價': '7.55', '漲跌': '-0.07', '一年內最高價': '10.8', '一年內最低價': '6.6', '本益比': '31.46', '一年內最大量': '5,079', '一年內最低量': '1', '成交量': '75', '同業平均本益比': '49.87', '一年來最高本益比': '67.67', '一年來最低本益比': '31.46', '盤後量': '0', '殖利率': '0%', '總市值': '1,793', '85年來最高總市值': '2,498', '85年來最低總市值': '231', '今年以來': '5.15%', '每股淨值(元)': '8.62', '營業毛利率': '4.66%', '貝他值': '0.83', '最近一週': '-1.44%', '每人營收(仟元)': '2,014.00', '營業利益率': '2.60%', '標準差': '2.30%', '最近一個月': '-0.92%', '每股營收(元)': '9.18', '稅前淨利率': '2.01%', '最近二個月': '0.67%', '負債比例': '73.07%', '資產報酬率': '0.62%', '最近三個月': '-0.40%', '股價淨值比': '0.88', '股東權益報酬率': '1.70%', '股本(億, 台幣)': '23.75', '現金股利(元)': '0', '成立時間': '70/02/16', '股票股利': '0', '初次上市(櫃)日期': '88/10/15', '盈餘配股': '0', '股務代理': '元富證02-27686668', '公積配股': '0', '董事長': '江程金', '總經理': '黃重雷', '發言人': '官心惠', '營收比重': '營建工程88.44%、混凝土11.56% (2020年)', '公司電話': '02-27922988', '網址': 'http://www.hcgc.com.tw/', '公司地址': '台北市中正區重慶南路三段180號'}\n",
      "{'開盤價': '37.5', '最高價': '37.7', '最低價': '37.25', '收盤價': '37.6', '漲跌': '+0.1', '一年內最高價': '51.9', '一年內最低價': '28.8', '本益比': '1,253.33', '一年內最大量': '729', '一年內最低量': '0', '成交量': '14', '同業平均本益比': '356.74', '一年來最高本益比': '1,266.67', '一年來最低本益比': '29.16', '盤後量': '1.86%', '殖利率': '3,948', '總市值': '6,300', '85年來最高總市值': '2,100', '85年來最低總市值': '-26.20%', '今年以來': '11.36', '每股淨值(元)': '-6.75%', '營業毛利率': '0.21', '貝他值': '0.40%', '最近一週': '171.00', '每人營收(仟元)': '-45.93%', '營業利益率': '2.14%', '標準差': '-1.44%', '最近一個月': '0.59', '每股營收(元)': '-23.54%', '稅前淨利率': '-3.09%', '最近二個月': '15.08%', '負債比例': '-1.02%', '資產報酬率': '0.94%', '最近三個月': '3.31', '股價淨值比': '-1.21%', '股東權益報酬率': '10.50', '股本(億, 台幣)': '0.7', '現金股利(元)': '80/01/15', '成立時間': '0', '股票股利': '102/12/03', '初次上市(櫃)日期': '0', '盈餘配股': '元大證02-25865859', '股務代理': '0', '公積配股': '武祥生', '董事長': '劉美惠', '總經理': '劉惠美', '發言人': '飯店客房63.16%、餐飲32.02%、其他4.82% (2020年)', '營收比重': '03-8123900', '公司電話': 'http://www.farglory-hotel.com.tw/', '網址': '花蓮縣壽豐鄉鹽寮村山嶺18號', '公司地址': '5,292'}\n",
      "{'開盤價': '134.5', '最高價': '138', '最低價': '132.5', '收盤價': '133', '漲跌': '-2', '一年內最高價': '172', '一年內最低價': '125', '本益比': '14.24', '一年內最大量': '1,631', '一年內最低量': '52', '成交量': '359', '同業平均本益比': '356.74', '一年來最高本益比': '16.26', '一年來最低本益比': '12.80', '盤後量': '9', '殖利率': '4.89%', '總市值': '8,784', '85年來最高總市值': '12,159', '85年來最低總市值': '8,289', '今年以來': 'N/A', '每股淨值(元)': '45.37', '營業毛利率': '36.08%', '貝他值': '5.14%', '最近一週': 'N/A', '每人營收(仟元)': '8.49%', '營業利益率': '-1.48%', '標準差': '22.76', '最近一個月': '9.41%', '每股營收(元)': '-4.32%', '稅前淨利率': '40.76%', '最近二個月': '2.40%', '負債比例': '-20.36%', '資產報酬率': '2.93', '最近三個月': '4.28%', '股價淨值比': '6.60', '股東權益報酬率': '2.27288142', '股本(億, 台幣)': '89/01/19', '現金股利(元)': '0', '成立時間': '110/09/09', '股票股利': '0', '初次上市(櫃)日期': '中信託02-66365566', '盈餘配股': '0', '股務代理': '林欣怡', '公積配股': '張瑞蓮', '董事長': '張瑞蓮', '總經理': '食品加工53.34%、餐飲36.81%、其他9.85% (2020年)', '發言人': '02-88098898', '營收比重': 'http://www.8way.com.tw/', '公司電話': '新北市淡水區中正東路二段27號18樓', '網址': '11,029', '公司地址': '12,159'}\n",
      "{'開盤價': '35.3', '最高價': '35.3', '最低價': '35.3', '收盤價': '35.3', '漲跌': '-0.65', '一年內最高價': '52.9', '一年內最低價': '29.9', '本益比': '45.26', '一年內最大量': '83', '一年內最低量': '0', '成交量': '1', '同業平均本益比': '123.61', '一年來最高本益比': '92.81', '一年來最低本益比': '33.46', '盤後量': '1.42%', '殖利率': '7,368', '總市值': '13,110', '85年來最高總市值': '3,131', '85年來最低總市值': '-32.26%', '今年以來': '13.31', '每股淨值(元)': '64.20%', '營業毛利率': '0.84', '貝他值': '2.02%', '最近一週': '1,418.00', '每人營收(仟元)': '24.33%', '營業利益率': '2.64%', '標準差': '2.62%', '最近一個月': '0.69', '每股營收(元)': '11.75%', '稅前淨利率': '3.22%', '最近二個月': '60.55%', '負債比例': '0.57%', '資產報酬率': '6.97%', '最近三個月': '2.65', '股價淨值比': '1.21%', '股東權益報酬率': '20.87', '股本(億, 台幣)': '0.5', '現金股利(元)': '71/08/18', '成立時間': '0', '股票股利': '85/12/30', '初次上市(櫃)日期': '0', '盈餘配股': '福邦證02-23711658', '股務代理': '0', '公積配股': '蘇建義', '董事長': '翁華利', '總經理': '陳文隆', '發言人': '租賃44.68%、商品銷售36.29%、營建工程10.76%、其他8.26% (2020年)', '營收比重': '02-27522222', '公司電話': 'http://www.tonlin.com.tw/', '網址': '台北巿大安區忠孝東路四段197號10樓之6', '公司地址': '10,812'}\n",
      "{'開盤價': '25.7', '最高價': '26.3', '最低價': '25.7', '收盤價': '26.3', '漲跌': '+0.1', '一年內最高價': '30.6', '一年內最低價': '18.8', '本益比': '7.67', '一年內最大量': '1,568', '一年內最低量': '1', '成交量': '6', '同業平均本益比': '123.61', '一年來最高本益比': '16.77', '一年來最低本益比': '5.00', '盤後量': '0%', '殖利率': '2,000', '總市值': '3,904', '85年來最高總市值': '880', '85年來最低總市值': '22.04%', '今年以來': '36.42', '每股淨值(元)': '39.78%', '營業毛利率': '0.36', '貝他值': '0.57%', '最近一週': '2,848.00', '每人營收(仟元)': '5.80%', '營業利益率': '1.96%', '標準差': '-0.57%', '最近一個月': '24.75', '每股營收(元)': '5.27%', '稅前淨利率': '1.54%', '最近二個月': '47.80%', '負債比例': '1.59%', '資產報酬率': '5.20%', '最近三個月': '0.72', '股價淨值比': '2.57%', '股東權益報酬率': '7.61', '股本(億, 台幣)': '0', '現金股利(元)': '102/08/22', '成立時間': '0', '股票股利': '105/09/26', '初次上市(櫃)日期': '0', '盈餘配股': '中信託02-66365566', '股務代理': '0', '公積配股': '高黎莎', '董事長': '葉伯璘', '總經理': '葉伯璘', '發言人': '寢室家具35.44%、客廳家具25.96%、餐廳家具12.82%、家居裝飾產品9.44%、書房家具8.20%、娛樂用品4.54%、其他3.60% (2020年)', '營收比重': '04-22490777', '公司電話': 'http://www.coasterinternational.com/', '網址': '臺中市北屯區北屯路360號7樓之1', '公司地址': '2,239'}\n",
      "{'開盤價': '73.6', '最高價': '73.7', '最低價': '71.5', '收盤價': '71.5', '漲跌': '-2', '一年內最高價': '87.6', '一年內最低價': '71.5', '本益比': '23.52', '一年內最大量': '3,322', '一年內最低量': '280', '成交量': '322', '同業平均本益比': '123.61', '一年來最高本益比': '27.63', '一年來最低本益比': '23.52', '盤後量': '10', '殖利率': '3.82%', '總市值': '4,826', '85年來最高總市值': '7,144', '85年來最低總市值': '4,602', '今年以來': 'N/A', '每股淨值(元)': '22.07', '營業毛利率': '25.24%', '貝他值': '-6.29%', '最近一週': 'N/A', '每人營收(仟元)': '2.60%', '營業利益率': 'N/A', '標準差': '61.90', '最近一個月': '2.52%', '每股營收(元)': 'N/A', '稅前淨利率': '73.78%', '最近二個月': '1.50%', '負債比例': 'N/A', '資產報酬率': '3.24', '最近三個月': '5.46%', '股價淨值比': '6.75', '股東權益報酬率': '2.7294855', '股本(億, 台幣)': '102/02/07', '現金股利(元)': '0', '成立時間': '110/11/30', '股票股利': '0', '初次上市(櫃)日期': '宏遠證02-77198899', '盈餘配股': '0', '股務代理': '陳翔玢', '公積配股': '邱光隆', '董事長': '邱光隆', '總經理': '菸酒44.03%、食品41.72%、其他產品14.25% (2020年)', '發言人': '02-25061166', '營收比重': 'https://www.simplemartretail.com/', '公司電話': '台北市中山區民權東路三段４號地下一層', '網址': '5,670', '公司地址': '5,874'}\n",
      "{'開盤價': '26.7', '最高價': '26.7', '最低價': '24.65', '收盤價': '25.35', '漲跌': '-1.1', '一年內最高價': '33.8', '一年內最低價': '14', '本益比': '17.48', '一年內最大量': '16,426', '一年內最低量': '32', '成交量': '2,194', '同業平均本益比': '24.16', '一年來最高本益比': '31.07', '一年來最低本益比': '12.07', '盤後量': '12', '殖利率': '2.76%', '總市值': '2,383', '85年來最高總市值': '11,829', '85年來最低總市值': '82', '今年以來': '71.98%', '每股淨值(元)': '13.47', '營業毛利率': '21.87%', '貝他值': '1.27', '最近一週': '6.07%', '每人營收(仟元)': '594.00', '營業利益率': '9.99%', '標準差': '3.71%', '最近一個月': '13.93%', '每股營收(元)': '10.02', '稅前淨利率': '8.98%', '最近二個月': '16.28%', '負債比例': '54.32%', '資產報酬率': '2.39%', '最近三個月': '19.86%', '股價淨值比': '1.88', '股東權益報酬率': '5.17%', '股本(億, 台幣)': '9.40', '現金股利(元)': '0.7', '成立時間': '82/05/25', '股票股利': '0', '初次上市(櫃)日期': '89/09/20', '盈餘配股': '0', '股務代理': '中信託02-66365566', '公積配股': '0', '董事長': '張允騰', '總經理': '王祥宇', '發言人': '林冠宇', '營收比重': '連接器線及連接器64.29%、其他35.71% (2020年)', '公司電話': '02-87682688', '網址': 'http://www.welltend.com.tw/', '公司地址': '台北市東興路59號6樓'}\n",
      "{'開盤價': '197', '最高價': '197.5', '最低價': '188', '收盤價': '188.5', '漲跌': '-6', '一年內最高價': '219', '一年內最低價': '48.3', '本益比': '66.84', '一年內最大量': '113,622', '一年內最低量': '1,385', '成交量': '29,454', '同業平均本益比': '31.40', '一年來最高本益比': '100.57', '一年來最低本益比': '33.25', '盤後量': '157', '殖利率': '0.53%', '總市值': '46,852', '85年來最高總市值': '55,773', '85年來最低總市值': '6,361', '今年以來': '273.41%', '每股淨值(元)': '29.52', '營業毛利率': '51.61%', '貝他值': '1.38', '最近一週': '2.17%', '每人營收(仟元)': '2,543.00', '營業利益率': '20.27%', '標準差': '4.25%', '最近一個月': '4.14%', '每股營收(元)': '8.92', '稅前淨利率': '20.44%', '最近二個月': '45.00%', '負債比例': '30.94%', '資產報酬率': '3.81%', '最近三個月': '87.56%', '股價淨值比': '6.39', '股東權益報酬率': '5.33%', '股本(億, 台幣)': '24.86', '現金股利(元)': '1', '成立時間': '82/06/10', '股票股利': '0', '初次上市(櫃)日期': '88/10/27', '盈餘配股': '0', '股務代理': '宏遠證02-77198899', '公積配股': '0', '董事長': '洪嘉聰', '總經理': '王國雍', '發言人': '曾雯如', '營收比重': '特殊應用積體電路(ASIC)47.40%、委託設計服務19.38%、晶圓17.96%、智慧財產權元件及技術權利金15.26% (2020年)', '公司電話': '03-5787888', '網址': 'http://www.faraday-tech.com/', '公司地址': '新竹科學工業園區力行三路5號'}\n",
      "{'開盤價': '14.85', '最高價': '14.5', '最低價': '+1.35', '收盤價': '14.9', '漲跌': '5.25', '一年內最高價': '5.82', '一年內最低價': '15,839', '本益比': '114', '一年內最大量': '15,839', '一年內最低量': '61.99', '成交量': 'N/A', '同業平均本益比': '3.66', '一年來最高本益比': '18', '一年來最低本益比': '0%', '盤後量': '3,982', '殖利率': '42,276', '總市值': '334', '85年來最高總市值': '136.51%', '85年來最低總市值': '6.25', '今年以來': '26.24%', '每股淨值(元)': '0.89', '營業毛利率': '36.70%', '貝他值': 'N/A', '最近一週': '12.74%', '每人營收(仟元)': '3.59%', '營業利益率': '40.57%', '標準差': '2.42', '最近一個月': '11.38%', '每股營收(元)': '67.42%', '稅前淨利率': '59.30%', '最近二個月': '2.00%', '負債比例': '62.84%', '資產報酬率': '2.38', '最近三個月': '4.47%', '股價淨值比': '26.72', '股東權益報酬率': '0', '股本(億, 台幣)': '87/03/03', '現金股利(元)': '0', '成立時間': '91/10/28', '股票股利': '0', '初次上市(櫃)日期': '群益金鼎證02-27023999', '盈餘配股': '0', '股務代理': '趙寄蓉', '公積配股': '趙輝生', '董事長': '趙寄蓉', '總經理': '薄膜電晶體液晶顯示器(TFT-LC80.90%、TN/STN19.10% (2020年)', '發言人': '03-4606677', '營收比重': 'http://www.optimax.com.tw/', '公司電話': '桃園市平鎮區平東路659巷37號', '網址': '3,982', '公司地址': '1,724'}\n",
      "{'開盤價': '41', '最高價': '42.3', '最低價': '40.55', '收盤價': '41.25', '漲跌': '+0.3', '一年內最高價': '48.55', '一年內最低價': '27.4', '本益比': '49.70', '一年內最大量': '89,842', '一年內最低量': '769', '成交量': '24,204', '同業平均本益比': '61.99', '一年來最高本益比': '83.80', '一年來最低本益比': '45.00', '盤後量': '48', '殖利率': '1.21%', '總市值': '11,522', '85年來最高總市值': '24,438', '85年來最低總市值': '2,944', '今年以來': '23.74%', '每股淨值(元)': '31.38', '營業毛利率': '26.55%', '貝他值': '1.45', '最近一週': '6.73%', '每人營收(仟元)': '5,245.00', '營業利益率': '5.91%', '標準差': '3.29%', '最近一個月': '5.77%', '每股營收(元)': '9.14', '稅前淨利率': '7.34%', '最近二個月': '26.15%', '負債比例': '41.48%', '資產報酬率': '0.93%', '最近三個月': '20.53%', '股價淨值比': '1.31', '股東權益報酬率': '1.52%', '股本(億, 台幣)': '27.93', '現金股利(元)': '0.49672803', '成立時間': '85/12/24', '股票股利': '0', '初次上市(櫃)日期': '91/12/24', '盈餘配股': '0', '股務代理': '永豐金證02-23816288', '公積配股': '0', '董事長': '夏汝文', '總經理': '夏汝文', '發言人': '陳矢學', '營收比重': '數位影像相關應用產品100.00% (2020年)', '公司電話': '03-5784567', '網址': 'http://www.altek.com.tw', '公司地址': '新竹科學工業園區新竹市力行路12號'}\n",
      "{'開盤價': '230', '最高價': '235.5', '最低價': '226.5', '收盤價': '226.5', '漲跌': '0', '一年內最高價': '518', '一年內最低價': '80.5', '本益比': '53.04', '一年內最大量': '6,820', '一年內最低量': '155', '成交量': '976', '同業平均本益比': '60.73', '一年來最高本益比': '230.75', '一年來最低本益比': '40.85', '盤後量': '9', '殖利率': '0.71%', '總市值': '10,582', '85年來最高總市值': '22,951', '85年來最低總市值': '425', '今年以來': '45.54%', '每股淨值(元)': '26.79', '營業毛利率': '42.37%', '貝他值': '3.90%', '最近一週': '923.00', '每人營收(仟元)': '9.12%', '營業利益率': '0.44%', '標準差': '7.57', '最近一個月': '42.17%', '每股營收(元)': '41.56%', '稅前淨利率': '37.96%', '最近二個月': '6.19%', '負債比例': '23.43%', '資產報酬率': '8.45', '最近三個月': '10.47%', '股價淨值比': '4.67', '股東權益報酬率': '1.60343377', '股本(億, 台幣)': '79/02/10', '現金股利(元)': '0', '成立時間': '109/12/11', '股票股利': '0', '初次上市(櫃)日期': '國票證02-25288988', '盈餘配股': '0', '股務代理': '張玉斌', '公積配股': '張玉斌', '董事長': '溫文聖', '總經理': '量測設備36.19%、射頻天線34.51%、測試認證29.30% (2020年)', '發言人': '03-3631901', '營收比重': 'http://www.auden.com.tw/', '公司電話': '桃園市八德區和平路772巷19號', '網址': '22,951', '公司地址': '7,331'}\n",
      "{'開盤價': '13.8', '最高價': '13.8', '最低價': '13.45', '收盤價': '13.65', '漲跌': '-0.15', '一年內最高價': '16.05', '一年內最低價': '12', '本益比': '37.92', '一年內最大量': '2,312', '一年內最低量': '2', '成交量': '236', '同業平均本益比': '49.87', '一年來最高本益比': '55.42', '一年來最低本益比': '25.53', '盤後量': '1', '殖利率': '0%', '總市值': '4,809', '85年來最高總市值': '12,068', '85年來最低總市值': '188', '今年以來': '-9.90%', '每股淨值(元)': '15.01', '營業毛利率': '49.83%', '貝他值': '0.41', '最近一週': '2.63%', '每人營收(仟元)': 'N/A', '營業利益率': '35.83%', '標準差': '1.38%', '最近一個月': '3.80%', '每股營收(元)': '1.36', '稅前淨利率': '39.79%', '最近二個月': '6.64%', '負債比例': '53.07%', '資產報酬率': '1.52%', '最近三個月': '10.53%', '股價淨值比': '0.91', '股東權益報酬率': '3.21%', '股本(億, 台幣)': '35.23', '現金股利(元)': '0', '成立時間': '82/03/17', '股票股利': '0', '初次上市(櫃)日期': '93/10/18', '盈餘配股': '0', '股務代理': '日盛證02-25419977', '公積配股': '0', '董事長': '麥寬成', '總經理': '簡伯殷', '發言人': '簡伯殷', '營收比重': '房地銷售83.10%、營建工程15.13%、租賃1.70%、其他0.07% (2020年)', '公司電話': '02-27771355', '網址': 'http://www.sunty.com.tw/', '公司地址': '台北市大安區忠孝東路四段289號12樓'}\n",
      "{'開盤價': '27.2', '最高價': '29.2', '最低價': '27.2', '收盤價': '28.1', '漲跌': '+0.2', '一年內最高價': '32.4', '一年內最低價': '13.6', '本益比': 'N/A', '一年內最大量': '42,616', '一年內最低量': '95', '成交量': '20,985', '同業平均本益比': '60.73', '一年來最高本益比': 'N/A', '一年來最低本益比': '14.76', '盤後量': '59', '殖利率': '1.78%', '總市值': '3,385', '85年來最高總市值': '4,037', '85年來最低總市值': '480', '今年以來': '38.94%', '每股淨值(元)': '11.93', '營業毛利率': '15.32%', '貝他值': '1.38', '最近一週': '13.08%', '每人營收(仟元)': '630.00', '營業利益率': '-4.54%', '標準差': '3.54%', '最近一個月': '67.76%', '每股營收(元)': '3.44', '稅前淨利率': '-1.65%', '最近二個月': '87.33%', '負債比例': '38.68%', '資產報酬率': '-0.27%', '最近三個月': '83.06%', '股價淨值比': '2.36', '股東權益報酬率': '-0.47%', '股本(億, 台幣)': '12.05', '現金股利(元)': '0.5', '成立時間': '70/11/18', '股票股利': '0', '初次上市(櫃)日期': '95/05/12', '盈餘配股': '0', '股務代理': '台新證02-25048125', '公積配股': '0', '董事長': '鄒宓富', '總經理': '陳世忠', '發言人': '曹付宜', '營收比重': '高中低頻無線裝置78.57%、電子及光通訊零件19.79%、電子訊號連接裝置1.64% (2020年)', '公司電話': '03-5714225', '網址': 'http://www.whayu.com/', '公司地址': '新竹市公道五路二段326號'}\n",
      "{'開盤價': '282', '最高價': '288.5', '最低價': '276', '收盤價': '287.5', '漲跌': '+1', '一年內最高價': '288.5', '一年內最低價': '125', '本益比': '16.86', '一年內最大量': '14,822', '一年內最低量': '182', '成交量': '8,274', '同業平均本益比': '29.18', '一年來最高本益比': '16.88', '一年來最低本益比': '7.13', '盤後量': '42', '殖利率': '2.78%', '總市值': '34,685', '85年來最高總市值': '34,685', '85年來最低總市值': '3,831', '今年以來': '91.78%', '每股淨值(元)': '62.70', '營業毛利率': '28.01%', '貝他值': '1.09', '最近一週': '16.63%', '每人營收(仟元)': '5,833.00', '營業利益率': '12.72%', '標準差': '3.21%', '最近一個月': '39.90%', '每股營收(元)': '33.75', '稅前淨利率': '13.06%', '最近二個月': '77.47%', '負債比例': '38.58%', '資產報酬率': '3.19%', '最近三個月': '103.90%', '股價淨值比': '4.59', '股東權益報酬率': '5.51%', '股本(億, 台幣)': '12.06', '現金股利(元)': '8', '成立時間': '91/05/10', '股票股利': '0', '初次上市(櫃)日期': '96/11/08', '盈餘配股': '0', '股務代理': '凱基證02-23892999', '公積配股': '0', '董事長': '童旭田', '總經理': '許隆倫', '發言人': '陳健宏', '營收比重': '電腦周邊產品97.91%、其他2.09% (2020年)', '公司電話': '02-28965588', '網址': 'http://www.asrock.com.tw/', '公司地址': '臺北市北投區中央南路二段37號2樓'}\n",
      "{'開盤價': '307.5', '最高價': '307.5', '最低價': '279.5', '收盤價': '280', '漲跌': '-18', '一年內最高價': '307.5', '一年內最低價': '124.5', '本益比': '81.63', '一年內最大量': '18,273', '一年內最低量': '245', '成交量': '9,593', '同業平均本益比': '31.40', '一年來最高本益比': '86.88', '一年來最低本益比': '39.76', '盤後量': '48', '殖利率': '0.77%', '總市值': '108,597', '85年來最高總市值': '132,256', '85年來最低總市值': '19,121', '今年以來': '109.79%', '每股淨值(元)': '52.87', '營業毛利率': '22.43%', '貝他值': '1.35', '最近一週': '8.95%', '每人營收(仟元)': 'N/A', '營業利益率': '17.02%', '標準差': '3.34%', '最近一個月': '65.68%', '每股營收(元)': '8.19', '稅前淨利率': '16.81%', '最近二個月': '80.06%', '負債比例': '10.96%', '資產報酬率': '1.86%', '最近三個月': '56.42%', '股價淨值比': '5.30', '股東權益報酬率': '2.11%', '股本(億, 台幣)': '38.78', '現金股利(元)': '2.15', '成立時間': '84/11/21', '股票股利': '0', '初次上市(櫃)日期': '96/12/10', '盈餘配股': '0', '股務代理': '公司自辦02-27189898', '公積配股': '0', '董事長': '林健男', '總經理': '田中惠一', '發言人': '邱紹勛', '營收比重': '矽晶圓100.00% (2020年)', '公司電話': '02-27122211', '網址': 'http://www.fstech.com.tw/', '公司地址': '台北市敦化北路201號7樓388室'}\n",
      "{'開盤價': '95.2', '最高價': '98', '最低價': '90', '收盤價': '90.3', '漲跌': '-1.7', '一年內最高價': '98', '一年內最低價': '12.8', '本益比': '85.19', '一年內最大量': '38,889', '一年內最低量': '0', '成交量': '22,127', '同業平均本益比': '29.18', '一年來最高本益比': 'N/A', '一年來最低本益比': '35.73', '盤後量': '59', '殖利率': '0%', '總市值': '17,188', '85年來最高總市值': '17,607', '85年來最低總市值': '223', '今年以來': '556.73%', '每股淨值(元)': '12.27', '營業毛利率': '13.78%', '貝他值': '0.47', '最近一週': '4.51%', '每人營收(仟元)': '584.00', '營業利益率': '4.09%', '標準差': '3.94%', '最近一個月': '62.41%', '每股營收(元)': '14.36', '稅前淨利率': '6.26%', '最近二個月': '129.48%', '負債比例': '56.26%', '資產報酬率': '2.17%', '最近三個月': '250.68%', '股價淨值比': '7.36', '股東權益報酬率': '4.63%', '股本(億, 台幣)': '19.03', '現金股利(元)': '0', '成立時間': '93/08/30', '股票股利': '0', '初次上市(櫃)日期': '93/08/30', '盈餘配股': '0', '股務代理': '福邦證02-23711658', '公積配股': '0', '董事長': '簡明仁', '總經理': '簡民智', '發言人': '羅安棣', '營收比重': '其他48.02%、電子製造服務 (EMS)33.23%、工業電腦零組件製造服務(IPC18.75% (2020年)', '公司電話': '02-87518751', '網址': 'http://www.ficg.com.tw/', '公司地址': '台北市內湖區陽光街300號1至9樓'}\n",
      "{'開盤價': '78.9', '最高價': '79.7', '最低價': '78.3', '收盤價': '78.5', '漲跌': '+0.2', '一年內最高價': '91.2', '一年內最低價': '57.4', '本益比': 'N/A', '一年內最大量': '53,644', '一年內最低量': '1,781', '成交量': '4,831', '同業平均本益比': '61.99', '一年來最高本益比': 'N/A', '一年來最低本益比': 'N/A', '盤後量': '19', '殖利率': '78.9%', '總市值': '53,792', '85年來最高總市值': '62,422', '85年來最低總市值': '42,392', '今年以來': 'N/A', '每股淨值(元)': '75.66', '營業毛利率': '24.82%', '貝他值': '-0.76%', '最近一週': 'N/A', '每人營收(仟元)': '10.22%', '營業利益率': '3.43%', '標準差': '15.14', '最近一個月': '11.95%', '每股營收(元)': '13.11%', '稅前淨利率': '30.83%', '最近二個月': '1.61%', '負債比例': '7.83%', '資產報酬率': '1.04', '最近三個月': '2.23%', '股價淨值比': '68.53', '股東權益報酬率': '110/01/06', '股本(億, 台幣)': '110/01/06', '現金股利(元)': '宏遠證02-77198899', '成立時間': '李秉傑', '股票股利': '李秉傑', '初次上市(櫃)日期': '張博儀', '盈餘配股': '高 度LED晶粒57.24%、背光應用產品29.20%、照明應用產品6.99%、其他5.91%、高 度LED晶片0.65% (2019年)', '股務代理': '03-5679000', '公積配股': 'http://www.ennostar.com', '董事長': '新竹市東區公道五路三段1號7樓之5', '總經理': 'N/A', '發言人': 'N/A', '營收比重': 'N/A', '公司電話': 'N/A', '網址': 'N/A', '公司地址': 'N/A'}\n",
      "{'開盤價': '73.1', '最高價': '73.5', '最低價': '73.1', '收盤價': '73.2', '漲跌': '-0.2', '一年內最高價': '105', '一年內最低價': '69.2', '本益比': '13.33', '一年內最大量': '1,886', '一年內最低量': '0', '成交量': '20', '同業平均本益比': '36.40', '一年來最高本益比': '24.35', '一年來最低本益比': '11.06', '盤後量': '0', '殖利率': '2.73%', '總市值': '4,452', '85年來最高總市值': '10,495', '85年來最低總市值': '3,094', '今年以來': '-20.33%', '每股淨值(元)': '35.10', '營業毛利率': '71.00%', '貝他值': '0.88', '最近一週': '0.27%', '每人營收(仟元)': '280.00', '營業利益率': '7.98%', '標準差': '1.76%', '最近一個月': '-10.18%', '每股營收(元)': '10.39', '稅前淨利率': '8.45%', '最近二個月': '0.83%', '負債比例': '71.58%', '資產報酬率': '0.64%', '最近三個月': '4.72%', '股價淨值比': '2.09', '股東權益報酬率': '1.71%', '股本(億, 台幣)': '6.08', '現金股利(元)': '2', '成立時間': '99/06/21', '股票股利': '0', '初次上市(櫃)日期': '104/10/21', '盈餘配股': '0', '股務代理': '永豐金證02-23816288', '公積配股': '0', '董事長': '陳正雄', '總經理': '陳佳琦', '發言人': '陳佳琦', '營收比重': '美容美品50.71%、美容美體課程服務41.62%、支援服務及權利金6.78%、其他-美容美品0.89% (2020年)', '公司電話': '04-22922999', '網址': 'http://www.jourdeness.com/', '公司地址': 'Oleander Way, 802 West Bay Road, P.O.Box 32052, Grand Cayman'}\n",
      "{'開盤價': '22.3', '最高價': '22.6', '最低價': '22.05', '收盤價': '22.2', '漲跌': '-0.4', '一年內最高價': '31.65', '一年內最低價': '17.5', '本益比': 'N/A', '一年內最大量': '5,817', '一年內最低量': '48', '成交量': '211', '同業平均本益比': '54.90', '一年來最高本益比': 'N/A', '一年來最低本益比': 'N/A', '盤後量': '2', '殖利率': '0%', '總市值': '3,833', '85年來最高總市值': '19,648', '85年來最低總市值': '300', '今年以來': '-23.84%', '每股淨值(元)': '16.38', '營業毛利率': '-76.78%', '貝他值': '0.86', '最近一週': '5.97%', '每人營收(仟元)': 'N/A', '營業利益率': '-119.78%', '標準差': '2.44%', '最近一個月': '12.98%', '每股營收(元)': '0.63', '稅前淨利率': '-114.18%', '最近二個月': '22.31%', '負債比例': '43.52%', '資產報酬率': '-1.91%', '最近三個月': '17.77%', '股價淨值比': '1.36', '股東權益報酬率': '-3.45%', '股本(億, 台幣)': '17.27', '現金股利(元)': '0', '成立時間': '86/09/26', '股票股利': '0', '初次上市(櫃)日期': '95/11/10', '盈餘配股': '0', '股務代理': '台新證02-25048125', '公積配股': '0', '董事長': '洪文耀', '總經理': '簡瑋倫', '發言人': '針織網布98.76%、其他1.24% (2020年)', '營收比重': '05-5571010', '公司電話': 'http://www.li-cheng.com.tw/', '網址': '雲林縣斗六市斗工十二路5號', '公司地址': '5,431'}\n",
      "{'開盤價': '48.3', '最高價': '48.3', '最低價': '47', '收盤價': '47.35', '漲跌': '-0.75', '一年內最高價': '52', '一年內最低價': '42.45', '本益比': '11.72', '一年內最大量': '2,485', '一年內最低量': '119', '成交量': '394', '同業平均本益比': '54.90', '一年來最高本益比': '12.50', '一年來最低本益比': '10.62', '盤後量': '0', '殖利率': '9.29%', '總市值': '3,201', '85年來最高總市值': '3,414', '85年來最低總市值': '1,109', '今年以來': 'N/A', '每股淨值(元)': '19.04', '營業毛利率': '24.54%', '貝他值': '1.61%', '最近一週': '2,754.00', '每人營收(仟元)': '20.79%', '營業利益率': '7.61%', '標準差': '8.39', '最近一個月': '21.07%', '每股營收(元)': 'N/A', '稅前淨利率': '41.23%', '最近二個月': '4.58%', '負債比例': 'N/A', '資產報酬率': '2.49', '最近三個月': '7.90%', '股價淨值比': '6.76', '股東權益報酬率': '0.5', '股本(億, 台幣)': '102/06/21', '現金股利(元)': '3.9', '成立時間': '110/10/25', '股票股利': '2.9', '初次上市(櫃)日期': '福邦證02-23711658', '盈餘配股': '1', '股務代理': '邱倉沛', '公積配股': '邱倉沛', '董事長': '洪火文', '總經理': '彈性包覆紗64.50%、加工絲(DTY)35.38%、其他0.12% (2020年)', '發言人': '02-26576158', '營收比重': 'http://www.yishin-textile.com.tw', '公司電話': '台北巿內湖區瑞光路266號11樓', '網址': '3,414', '公司地址': '1,692'}\n",
      "{'開盤價': '51.5', '最高價': '51.7', '最低價': '51.5', '收盤價': '51.6', '漲跌': '0', '一年內最高價': '67.5', '一年內最低價': '46.2', '本益比': '15.40', '一年內最大量': '2,851', '一年內最低量': '2', '成交量': '27', '同業平均本益比': '31.68', '一年來最高本益比': '37.57', '一年來最低本益比': '15.31', '盤後量': '2.91%', '殖利率': '3,457', '總市值': '5,745', '85年來最高總市值': '2,575', '85年來最低總市值': '4.49%', '今年以來': '39.97', '每股淨值(元)': '35.20%', '營業毛利率': '0.56', '貝他值': '0.00%', '最近一週': '709.00', '每人營收(仟元)': '14.75%', '營業利益率': '1.76%', '標準差': '-2.82%', '最近一個月': '8.32', '每股營收(元)': '14.48%', '稅前淨利率': '-4.09%', '最近二個月': '40.09%', '負債比例': '1.72%', '資產報酬率': '-4.44%', '最近三個月': '1.29', '股價淨值比': '2.78%', '股東權益報酬率': '6.70', '股本(億, 台幣)': '1.4974784', '現金股利(元)': '75/11/19', '成立時間': '0', '股票股利': '104/10/27', '初次上市(櫃)日期': '0', '盈餘配股': '富邦證02-23611300', '股務代理': '0', '公積配股': '游平政', '董事長': '游平政', '總經理': '蘇志安', '發言人': '執行元件44.01%、外購產品17.21%、其他15.01%、輔助元件10.72%、控制元件8.28%、氣源處理元件4.78% (2020年)', '營收比重': '02-29041235', '公司電話': 'http://www.chelic.com/', '網址': '新北市泰山區貴鳳街21 號', '公司地址': '4,247'}\n",
      "{'開盤價': '42.25', '最高價': '42.25', '最低價': '41.8', '收盤價': '42.2', '漲跌': '0', '一年內最高價': '45.25', '一年內最低價': '39.1', '本益比': '17.66', '一年內最大量': '468', '一年內最低量': '54', '成交量': '87', '同業平均本益比': '31.68', '一年來最高本益比': '51.49', '一年來最低本益比': '17.55', '盤後量': '2.37%', '殖利率': '2,874', '總市值': '5,285', '85年來最高總市值': '2,453', '85年來最低總市值': '-3.49%', '今年以來': '23.49', '每股淨值(元)': '35.17%', '營業毛利率': '0.54', '貝他值': '0.00%', '最近一週': '364.00', '每人營收(仟元)': '15.07%', '營業利益率': '1.25%', '標準差': '-1.40%', '最近一個月': '7.06', '每股營收(元)': '14.60%', '稅前淨利率': '0.60%', '最近二個月': '28.38%', '負債比例': '2.44%', '資產報酬率': '1.69%', '最近三個月': '1.80', '股價淨值比': '3.42%', '股東權益報酬率': '6.81', '股本(億, 台幣)': '1', '現金股利(元)': '103/10/31', '成立時間': '0', '股票股利': '106/05/26', '初次上市(櫃)日期': '0', '盈餘配股': '富邦證02-23611300', '股務代理': '0', '公積配股': '綦秉信', '董事長': '綦秉信', '總經理': '綦秉信', '發言人': '工業縫紉機零配件82.73%、口罩機17.27% (2020年)', '營收比重': '03-3198016', '公司電話': 'http://www.strongh.cn', '網址': '桃園市龜山區建國東路89號', '公司地址': '3,080'}\n",
      "{'開盤價': '104', '最高價': '106', '最低價': '98.6', '收盤價': '101', '漲跌': '0', '一年內最高價': '106', '一年內最低價': '56.2', '本益比': '21.81', '一年內最大量': '12,958', '一年內最低量': '4', '成交量': '4,714', '同業平均本益比': '24.27', '一年來最高本益比': '21.81', '一年來最低本益比': '13.28', '盤後量': '15', '殖利率': '2.97%', '總市值': '10,171', '85年來最高總市值': '10,171', '85年來最低總市值': '1,695', '今年以來': '62.93%', '每股淨值(元)': '38.63', '營業毛利率': '23.66%', '貝他值': '0.70', '最近一週': '23.47%', '每人營收(仟元)': 'N/A', '營業利益率': '14.02%', '標準差': '2.03%', '最近一個月': '14.64%', '每股營收(元)': '11.72', '稅前淨利率': '16.39%', '最近二個月': '49.19%', '負債比例': '33.63%', '資產報酬率': '2.73%', '最近三個月': '56.59%', '股價淨值比': '2.61', '股東權益報酬率': '4.02%', '股本(億, 台幣)': '10.07', '現金股利(元)': '3', '成立時間': '92/03/17', '股票股利': '0', '初次上市(櫃)日期': '102/11/27', '盈餘配股': '0', '股務代理': '第一金證02-25635711', '公積配股': '0', '董事長': '巫信弘', '總經理': '蔡介榮', '發言人': '謝銘智', '營收比重': '精密化學品82.61%、基礎化學品17.39% (2020年)', '公司電話': '02-25426789', '網址': 'http://www.sfchem.com.tw/', '公司地址': '台北市中山北路二段21號5樓'}\n",
      "{'開盤價': '25.85', '最高價': '26', '最低價': '25.7', '收盤價': '25.8', '漲跌': '-0.15', '一年內最高價': '36.85', '一年內最低價': '17.3', '本益比': '7.57', '一年內最大量': '15,317', '一年內最低量': '76', '成交量': '237', '同業平均本益比': '22.79', '一年來最高本益比': '19.03', '一年來最低本益比': '6.72', '盤後量': '4', '殖利率': '13.57%', '總市值': '3,465', '85年來最高總市值': '10,165', '85年來最低總市值': '911', '今年以來': '40.52%', '每股淨值(元)': '26.94', '營業毛利率': '16.70%', '貝他值': '1.04', '最近一週': '0.00%', '每人營收(仟元)': '588.00', '營業利益率': '7.44%', '標準差': '2.71%', '最近一個月': '-1.34%', '每股營收(元)': '20.30', '稅前淨利率': '13.29%', '最近二個月': '28.04%', '負債比例': '54.41%', '資產報酬率': '2.50%', '最近三個月': '12.91%', '股價淨值比': '0.96', '股東權益報酬率': '5.39%', '股本(億, 台幣)': '13.43', '現金股利(元)': '3.5', '成立時間': '98/11/11', '股票股利': '0', '初次上市(櫃)日期': '99/06/21', '盈餘配股': '0', '股務代理': '元大證02-25865859', '公積配股': '0', '董事長': '林技典', '總經理': '劉凱禎', '發言人': '美食烹調67.53%、居家幫手19.42%、咖啡茗茶8.44%、餐飲,橄欖油及租金4.60% (2020年)', '營收比重': '02-27956898', '公司電話': 'http://www.starcomgistic.com/', '網址': '台北市內湖區堤頂大道一段333號6樓', '公司地址': '4,808'}\n",
      "{'開盤價': '52', '最高價': '52.4', '最低價': '51.9', '收盤價': '51.9', '漲跌': '-0.4', '一年內最高價': '87.4', '一年內最低價': '48.2', '本益比': '20.84', '一年內最大量': '963', '一年內最低量': '1', '成交量': '21', '同業平均本益比': '19.11', '一年來最高本益比': '23.75', '一年來最低本益比': '16.95', '盤後量': '0', '殖利率': '5.78%', '總市值': '5,742', '85年來最高總市值': '18,169', '85年來最低總市值': '3,389', '今年以來': '-28.87%', '每股淨值(元)': '14.56', '營業毛利率': '58.01%', '貝他值': '0.66', '最近一週': '-1.14%', '每人營收(仟元)': '1,370.00', '營業利益率': '16.14%', '標準差': '2.05%', '最近一個月': '-3.53%', '每股營收(元)': '6.87', '稅前淨利率': '12.28%', '最近二個月': '-7.16%', '負債比例': '32.16%', '資產報酬率': '3.61%', '最近三個月': '-3.53%', '股價淨值比': '3.56', '股東權益報酬率': '5.94%', '股本(億, 台幣)': '11.06', '現金股利(元)': '3', '成立時間': '91/01/09', '股票股利': '0', '初次上市(櫃)日期': '100/12/13', '盈餘配股': '0', '股務代理': '台新證02-25048125', '公積配股': '0', '董事長': '張峰旗', '總經理': '張峰旗', '發言人': '周秋美', '營收比重': '遊戲96.71%、權利金收入3.29% (2020年)', '公司電話': '02-77186620', '網址': 'http://www.x-legend.tw/', '公司地址': '台北市信義區市民大道六段288號7樓'}\n",
      "{'開盤價': '222', '最高價': '222', '最低價': '213', '收盤價': '214', '漲跌': '-5', '一年內最高價': '234', '一年內最低價': '157', '本益比': '52.84', '一年內最大量': '8,099', '一年內最低量': '690', '成交量': '1,317', '同業平均本益比': '31.40', '一年來最高本益比': '56.67', '一年來最低本益比': '44.07', '盤後量': '18', '殖利率': '2.9%', '總市值': '14,515', '85年來最高總市值': '15,567', '85年來最低總市值': '963', '今年以來': 'N/A', '每股淨值(元)': '16.76', '營業毛利率': '43.12%', '貝他值': '6.20%', '最近一週': '933.00', '每人營收(仟元)': '23.93%', '營業利益率': '16.94%', '標準差': '3.56', '最近一個月': '22.93%', '每股營收(元)': 'N/A', '稅前淨利率': '20.64%', '最近二個月': '3.18%', '負債比例': 'N/A', '資產報酬率': '12.77', '最近三個月': '3.98%', '股價淨值比': '6.78', '股東權益報酬率': '1.5', '股本(億, 台幣)': '87/06/17', '現金股利(元)': '4.7', '成立時間': '110/10/25', '股票股利': '3.7', '初次上市(櫃)日期': '元富證02-27686668', '盈餘配股': '1', '股務代理': '張全生', '公積配股': '張全生', '董事長': '張全生', '總經理': '微波放大器72.43%、微波次系統21.60%、場效電晶體元件3.56%、微波積體電路元件1.75%、其他0.66% (2020年)', '發言人': '06-5051601', '營收比重': 'http://www.transcominc.com.tw/chinese/index.php', '公司電話': '南部科學園區台南市新市區大順七路90號', '網址': '15,567', '公司地址': '5,533'}\n",
      "{'開盤價': '21.3', '最高價': '21.9', '最低價': '21.3', '收盤價': '21.6', '漲跌': '+0.35', '一年內最高價': '28.85', '一年內最低價': '17.5', '本益比': 'N/A', '一年內最大量': '1,533', '一年內最低量': '0', '成交量': '99', '同業平均本益比': '38.79', '一年來最高本益比': 'N/A', '一年來最低本益比': 'N/A', '盤後量': '0', '殖利率': '0%', '總市值': '1,327', '85年來最高總市值': '5,534', '85年來最低總市值': '1,112', '今年以來': '-21.74%', '每股淨值(元)': '19.24', '營業毛利率': '9.13%', '貝他值': '0.62', '最近一週': '0.00%', '每人營收(仟元)': '845.00', '營業利益率': '1.28%', '標準差': '1.99%', '最近一個月': '-2.70%', '每股營收(元)': '45.53', '稅前淨利率': '2.51%', '最近二個月': '15.51%', '負債比例': '82.12%', '資產報酬率': '2.02%', '最近三個月': '9.64%', '股價淨值比': '1.12', '股東權益報酬率': '10.62%', '股本(億, 台幣)': '6.14', '現金股利(元)': '0', '成立時間': '100/02/01', '股票股利': '0', '初次上市(櫃)日期': '101/11/05', '盈餘配股': '0', '股務代理': '永豐金證02-23816288', '公積配股': '0', '董事長': '東雅電子股份有限公司/劉政林', '總經理': '白錦蒼', '發言人': '張柏照', '營收比重': '家用音訊系統58.44%、個人音訊系統22.73%、其他14.70%、單體喇叭4.13% (2020年)', '公司電話': '02-89113535', '網址': 'http://eastech.com/', '公司地址': 'P.O.Box 32052, Grand Cayman KY1-1208, Cayman Isalnds'}\n",
      "{'開盤價': '44.95', '最高價': '45.15', '最低價': '44.5', '收盤價': '44.9', '漲跌': '+0.4', '一年內最高價': '50', '一年內最低價': '34.2', '本益比': '13.17', '一年內最大量': '478', '一年內最低量': '0', '成交量': '42', '同業平均本益比': '18.90', '一年來最高本益比': '20.09', '一年來最低本益比': '12.84', '盤後量': '4.68%', '殖利率': '1,961', '總市值': '3,028', '85年來最高總市值': '1,297', '85年來最低總市值': '34.41%', '今年以來': '36.64', '每股淨值(元)': '30.08%', '營業毛利率': '0.52', '貝他值': '1.13%', '最近一週': '287.00', '每人營收(仟元)': '11.40%', '營業利益率': '1.55%', '標準差': '2.75%', '最近一個月': '7.35', '每股營收(元)': '12.18%', '稅前淨利率': '3.22%', '最近二個月': '45.10%', '負債比例': '1.22%', '資產報酬率': '5.03%', '最近三個月': '1.23', '股價淨值比': '2.01%', '股東權益報酬率': '4.37', '股本(億, 台幣)': '2.1', '現金股利(元)': '101/05/17', '成立時間': '0', '股票股利': '103/10/07', '初次上市(櫃)日期': '0', '盈餘配股': '第一金證02-25635711', '股務代理': '0', '公積配股': '鍾國松', '董事長': '鍾國松', '總經理': '鍾國圳', '發言人': '通訊類產品49.48%、航空產品27.42%、電子產品10.91%、其他10.44%、醫療用品1.75% (2020年)', '營收比重': '02-25415566', '公司電話': 'http://www.jppholding.com/', '網址': '台北市中山區松江路152號11樓1112室', '公司地址': '2,092'}\n",
      "{'開盤價': '59.8', '最高價': '59.8', '最低價': '59', '收盤價': '59', '漲跌': '-0.4', '一年內最高價': '90', '一年內最低價': '55.5', '本益比': '13.00', '一年內最大量': '2,001', '一年內最低量': '4', '成交量': '35', '同業平均本益比': '49.87', '一年來最高本益比': '13.52', '一年來最低本益比': '7.15', '盤後量': '0', '殖利率': '9.88%', '總市值': '4,858', '85年來最高總市值': '7,146', '85年來最低總市值': '4,573', '今年以來': '-18.40%', '每股淨值(元)': '36.31', '營業毛利率': '7.62%', '貝他值': '0.43', '最近一週': '-1.34%', '每人營收(仟元)': '4,566.00', '營業利益率': '2.86%', '標準差': '1.43%', '最近一個月': '-4.07%', '每股營收(元)': '17.74', '稅前淨利率': '1.99%', '最近二個月': '-8.67%', '負債比例': '54.72%', '資產報酬率': '0.38%', '最近三個月': '-6.79%', '股價淨值比': '1.62', '股東權益報酬率': '0.59%', '股本(億, 台幣)': '8.23', '現金股利(元)': '5.83134093', '成立時間': '105/05/27', '股票股利': '0', '初次上市(櫃)日期': '109/05/20', '盈餘配股': '0', '股務代理': '中信託02-66365566', '公積配股': '0', '董事長': '簡國釧', '總經理': '林皇智', '發言人': '簡國釧', '營收比重': '混凝土100.00% (2020年)', '公司電話': '02-27157546', '網址': 'http://www.yg1999.com/', '公司地址': '台北市松山區復興北路99號15樓'}\n",
      "{'開盤價': '51.3', '最高價': '53.1', '最低價': '49.3', '收盤價': '51', '漲跌': '+0.8', '一年內最高價': '76.3', '一年內最低價': '7.33', '本益比': '11.51', '一年內最大量': '178,732', '一年內最低量': '1,729', '成交量': '37,291', '同業平均本益比': '23.46', '一年來最高本益比': 'N/A', '一年來最低本益比': '9.20', '盤後量': '111', '殖利率': '0%', '總市值': '14,243', '85年來最高總市值': '26,249', '85年來最低總市值': '594', '今年以來': '292.31%', '每股淨值(元)': '16.56', '營業毛利率': '52.09%', '貝他值': '1.24', '最近一週': '15.78%', '每人營收(仟元)': '1,776.00', '營業利益率': '47.13%', '標準差': '5.58%', '最近一個月': '16.17%', '每股營收(元)': '5.93', '稅前淨利率': '49.20%', '最近二個月': '4.72%', '負債比例': '78.13%', '資產報酬率': '4.02%', '最近三個月': '-14.86%', '股價淨值比': '3.08', '股東權益報酬率': '18.55%', '股本(億, 台幣)': '27.93', '現金股利(元)': '0', '成立時間': '74/03/11', '股票股利': '0', '初次上市(櫃)日期': '90/07/03', '盈餘配股': '0', '股務代理': '兆豐證02-33930898', '公積配股': '0', '董事長': '羅盤投資股份有限公司/藍心琪', '總經理': '藍心琪', '發言人': '許綱倫', '營收比重': '海運94.24%、觀光5.76% (2020年)', '公司電話': '02-87121888', '網址': 'http://www.swnav.com.tw/', '公司地址': '台北市松山區復興北路167號16樓'}\n",
      "{'開盤價': '18.55', '最高價': '19.3', '最低價': '18.55', '收盤價': '18.8', '漲跌': '+0.25', '一年內最高價': '22.85', '一年內最低價': '16.6', '本益比': '30.82', '一年內最大量': '13,747', '一年內最低量': '44', '成交量': '880', '同業平均本益比': '60.73', '一年來最高本益比': '41.89', '一年來最低本益比': '28.28', '盤後量': '2', '殖利率': '5.85%', '總市值': '2,172', '85年來最高總市值': '6,020', '85年來最低總市值': '1,041', '今年以來': '14.12%', '每股淨值(元)': '23.91', '營業毛利率': '13.83%', '貝他值': '0.35', '最近一週': '1.90%', '每人營收(仟元)': '1,707.00', '營業利益率': '-10.42%', '標準差': '1.33%', '最近一個月': '8.99%', '每股營收(元)': '1.34', '稅前淨利率': '57.79%', '最近二個月': '11.90%', '負債比例': '4.10%', '資產報酬率': '3.03%', '最近三個月': '11.57%', '股價淨值比': '0.79', '股東權益報酬率': '3.21%', '股本(億, 台幣)': '11.55', '現金股利(元)': '1.1', '成立時間': '81/04/13', '股票股利': '0', '初次上市(櫃)日期': '91/01/16', '盈餘配股': '0', '股務代理': '台新證02-25048125', '公積配股': '0', '董事長': '吳長青', '總經理': '吳長青', '發言人': '鄭正川', '營收比重': '電子零組件51.48%、通信、娛樂服務及影像之代理48.35%、其他0.17% (2020年)', '公司電話': '02-89124300', '網址': 'http://www.fullerton.com.tw', '公司地址': '新北市新店區寶強路6-3號5樓'}\n",
      "{'開盤價': '-2.2', '最高價': '45.7', '最低價': '20.1', '收盤價': '22.58', '漲跌': '736', '一年內最高價': '0', '一年內最低價': '120', '本益比': '27.60', '一年內最大量': 'N/A', '一年內最低量': '22.58', '成交量': '1%', '同業平均本益比': '603', '一年來最高本益比': '2,200', '一年來最低本益比': '106', '盤後量': '-33.36%', '殖利率': '11.01', '總市值': '7.66%', '85年來最高總市值': '0.59', '85年來最低總市值': '0.00%', '今年以來': '4,613.00', '每股淨值(元)': '5.77%', '營業毛利率': '2.87%', '貝他值': '-14.83%', '最近一週': '5.07', '每人營收(仟元)': '3.48%', '營業利益率': '-53.85%', '標準差': '62.73%', '最近一個月': '0.89%', '每股營收(元)': '-50.75%', '稅前淨利率': '1.83', '最近二個月': '1.95%', '負債比例': '3.00', '資產報酬率': '0.2', '最近三個月': '86/08/08', '股價淨值比': '0', '股東權益報酬率': '91/04/18', '股本(億, 台幣)': '0', '現金股利(元)': '永豐金證02-23816288', '成立時間': '0', '股票股利': '廖年豐', '初次上市(櫃)日期': '廖年豐', '盈餘配股': '廖年豐', '股務代理': '無線網通產品97.52%、租賃1.68%、電腦週邊卡片裝置0.78%、其他0.02% (2020年)', '公積配股': '03-5729399', '董事長': 'http://www.billionton.com.tw', '總經理': '新竹市水利路21號', '發言人': '1,338', '營收比重': '909', '公司電話': '713', '網址': '540', '公司地址': '431'}\n",
      "{'開盤價': '40.9', '最高價': '40.95', '最低價': '40.75', '收盤價': '40.85', '漲跌': '+0.15', '一年內最高價': '43.7', '一年內最低價': '34.25', '本益比': '10.39', '一年內最大量': '2,523', '一年內最低量': '77', '成交量': '222', '同業平均本益比': '14.61', '一年來最高本益比': '14.61', '一年來最低本益比': '10.23', '盤後量': '1', '殖利率': '6.54%', '總市值': '7,771', '85年來最高總市值': '7,783', '85年來最低總市值': '1,566', '今年以來': '23.52%', '每股淨值(元)': '23.12', '營業毛利率': '7.34%', '貝他值': '0.47', '最近一週': '0.86%', '每人營收(仟元)': 'N/A', '營業利益率': '4.02%', '標準差': '0.84%', '最近一個月': '4.08%', '每股營收(元)': '44.25', '稅前淨利率': '3.80%', '最近二個月': '6.66%', '負債比例': '66.64%', '資產報酬率': '1.92%', '最近三個月': '6.52%', '股價淨值比': '1.77', '股東權益報酬率': '5.40%', '股本(億, 台幣)': '19.02', '現金股利(元)': '2.67123106', '成立時間': '75/05/26', '股票股利': '0', '初次上市(櫃)日期': '91/09/16', '盈餘配股': '0', '股務代理': '元大證02-25865859', '公積配股': '0', '董事長': '陳澄芳', '總經理': '陳澄芳', '發言人': '杜懷琪', '營收比重': '線性、分散式元件45.07%、影像處理IC21.10%、特定應用液晶面板產品20.43%、特定應用晶片7.23%、其他6.16% (2020年)', '公司電話': '02-26590303', '網址': 'http://www.promate.com.tw/', '公司地址': '台北市內湖區環山路一段32號4樓'}\n",
      "{'開盤價': '43.5', '最高價': '43.6', '最低價': '43.5', '收盤價': '43.6', '漲跌': '+0.3', '一年內最高價': '57', '一年內最低價': '37.35', '本益比': '11.75', '一年內最大量': '2,076', '一年內最低量': '0', '成交量': '11', '同業平均本益比': '38.79', '一年來最高本益比': '20.52', '一年來最低本益比': '10.76', '盤後量': '0', '殖利率': '6.88%', '總市值': '3,889', '85年來最高總市值': '5,754', '85年來最低總市值': '1,570', '今年以來': '22.49%', '每股淨值(元)': '27.68', '營業毛利率': '22.47%', '貝他值': '0.72', '最近一週': '1.40%', '每人營收(仟元)': '833.00', '營業利益率': '12.95%', '標準差': '1.73%', '最近一個月': '3.32%', '每股營收(元)': '11.95', '稅前淨利率': '13.21%', '最近二個月': '3.32%', '負債比例': '28.00%', '資產報酬率': '3.16%', '最近三個月': '1.75%', '股價淨值比': '1.58', '股東權益報酬率': '4.65%', '股本(億, 台幣)': '8.92', '現金股利(元)': '3', '成立時間': '70/11/25', '股票股利': '0', '初次上市(櫃)日期': '91/12/27', '盈餘配股': '0', '股務代理': '中信託02-66365566', '公積配股': '0', '董事長': '黃晉益', '總經理': '許瑞峰', '發言人': '許瑞峰', '營收比重': '音頻產品71.04%、小家電20.30%、其他產品8.66% (2020年)', '公司電話': '06-5932201', '網址': 'http://www.yahorng.com/', '公司地址': '台南市安定區中沙里沙崙35號'}\n",
      "{'開盤價': '38.75', '最高價': '39.5', '最低價': '36.5', '收盤價': '37', '漲跌': '-0.65', '一年內最高價': '46.45', '一年內最低價': '24.55', '本益比': 'N/A', '一年內最大量': '37,085', '一年內最低量': '289', '成交量': '21,069', '同業平均本益比': '61.99', '一年來最高本益比': 'N/A', '一年來最低本益比': 'N/A', '盤後量': '41', '殖利率': '0%', '總市值': '6,443', '85年來最高總市值': '10,110', '85年來最低總市值': '1,076', '今年以來': '3.93%', '每股淨值(元)': '18.15', '營業毛利率': '6.03%', '貝他值': '1.33', '最近一週': '13.67%', '每人營收(仟元)': '424.00', '營業利益率': '-7.17%', '標準差': '3.00%', '最近一個月': '24.16%', '每股營收(元)': '5.17', '稅前淨利率': '-9.01%', '最近二個月': '36.28%', '負債比例': '34.51%', '資產報酬率': '-1.26%', '最近三個月': '27.37%', '股價淨值比': '2.04', '股東權益報酬率': '-2.02%', '股本(億, 台幣)': '17.41', '現金股利(元)': '0', '成立時間': '69/06/19', '股票股利': '0', '初次上市(櫃)日期': '91/12/30', '盈餘配股': '0', '股務代理': '福邦證02-23711658', '公積配股': '0', '董事長': '陳慶棋', '總經理': '周樑昌', '發言人': '林炳鏻', '營收比重': '光學鏡頭52.91%、光學鏡片45.48%、其他1.61% (2020年)', '公司電話': '04-26595985', '網址': 'http://www.kinko-optical.com', '公司地址': '台中市梧棲區向上路九段562巷91號'}\n",
      "{'開盤價': '144', '最高價': '144', '最低價': '132', '收盤價': '134.5', '漲跌': '-6', '一年內最高價': '188', '一年內最低價': '89.2', '本益比': '20.76', '一年內最大量': '13,294', '一年內最低量': '244', '成交量': '11,794', '同業平均本益比': '24.16', '一年來最高本益比': '33.45', '一年來最低本益比': '17.67', '盤後量': '49', '殖利率': '3.16%', '總市值': '11,519', '85年來最高總市值': '15,670', '85年來最低總市值': '1,061', '今年以來': '45.43%', '每股淨值(元)': '32.07', '營業毛利率': '32.16%', '貝他值': '1.52', '最近一週': '10.70%', '每人營收(仟元)': '1,976.00', '營業利益率': '14.78%', '標準差': '3.66%', '最近一個月': '12.08%', '每股營收(元)': '11.12', '稅前淨利率': '16.78%', '最近二個月': '12.55%', '負債比例': '39.55%', '資產報酬率': '2.43%', '最近三個月': '1.89%', '股價淨值比': '4.19', '股東權益報酬率': '3.99%', '股本(億, 台幣)': '8.56', '現金股利(元)': '4.25', '成立時間': '86/12/18', '股票股利': '0', '初次上市(櫃)日期': '92/01/06', '盈餘配股': '0', '股務代理': '凱基證02-23892999', '公積配股': '0', '董事長': '朱復華', '總經理': '王紹裘', '發言人': '侯全興', '營收比重': '保護元件85.22%、其他14.78% (2020年)', '公司電話': '03-5643931', '網址': 'http://www.pttc.com.tw', '公司地址': '新竹科學園區工業東四路24之1號'}\n",
      "{'開盤價': '166', '最高價': '166.5', '最低價': '164.5', '收盤價': '166', '漲跌': '0', '一年內最高價': '239', '一年內最低價': '154', '本益比': '26.39', '一年內最大量': '7,267', '一年內最低量': '1', '成交量': '12', '同業平均本益比': '29.18', '一年來最高本益比': '29.88', '一年來最低本益比': '19.06', '盤後量': '0', '殖利率': '0.82%', '總市值': '14,333', '85年來最高總市值': '25,471', '85年來最低總市值': '930', '今年以來': '-20.52%', '每股淨值(元)': '53.15', '營業毛利率': '16.00%', '貝他值': '0.61', '最近一週': '0.61%', '每人營收(仟元)': '879.00', '營業利益率': '4.59%', '標準差': '2.01%', '最近一個月': '-4.05%', '每股營收(元)': '32.98', '稅前淨利率': '6.15%', '最近二個月': '4.40%', '負債比例': '54.63%', '資產報酬率': '0.94%', '最近三個月': '-2.92%', '股價淨值比': '3.12', '股東權益報酬率': '2.00%', '股本(億, 台幣)': '8.63', '現金股利(元)': '1.36', '成立時間': '62/12/14', '股票股利': '0', '初次上市(櫃)日期': '92/01/14', '盈餘配股': '0', '股務代理': '元大證02-25865859', '公積配股': '0', '董事長': '永井淳一', '總經理': '林志仁', '發言人': '散熱模組70.33%、散熱片18.45%、其他11.23% (2020年)', '營收比重': '02-29952666', '公司電話': 'http://www.ccic.com.tw', '網址': '新北市三重區中興北街184-3號', '公司地址': '19,945'}\n",
      "{'開盤價': '2.56', '最高價': '2.58', '最低價': '2.55', '收盤價': '2.55', '漲跌': '-0.05', '一年內最高價': '4.4', '一年內最低價': '2.34', '本益比': 'N/A', '一年內最大量': '816', '一年內最低量': '0', '成交量': '97', '同業平均本益比': '61.99', '一年來最高本益比': 'N/A', '一年來最低本益比': 'N/A', '盤後量': '0', '殖利率': '0%', '總市值': '206', '85年來最高總市值': '14,515', '85年來最低總市值': '111', '今年以來': '-25.44%', '每股淨值(元)': '0.02', '營業毛利率': '-148.50%', '貝他值': '0.96', '最近一週': '6.25%', '每人營收(仟元)': 'N/A', '營業利益率': '-197.40%', '標準差': '3.84%', '最近一個月': '-7.27%', '每股營收(元)': '0.12', '稅前淨利率': '14.21%', '最近二個月': '-5.90%', '負債比例': '98.75%', '資產報酬率': '1.01%', '最近三個月': '-8.93%', '股價淨值比': '127.50', '股東權益報酬率': '92.58%', '股本(億, 台幣)': '8.08', '現金股利(元)': '0', '成立時間': '87/09/28', '股票股利': '0', '初次上市(櫃)日期': '92/08/28', '盈餘配股': '0', '股務代理': '福邦證02-23711658', '公積配股': '0', '董事長': '華冠生醫材料(股)公司/李蘇美亮', '總經理': '盧曉華(代)', '發言人': '盧曉華', '營收比重': '發光二極體晶粒97.99%、發光二極體磊晶片2.01% (2020年)', '公司電話': '03-5986699', '網址': 'http://www.aocepi.com/', '公司地址': '新竹縣湖口鄉新竹工業區光復北路119號'}\n",
      "{'開盤價': '28.6', '最高價': '28.65', '最低價': '28.2', '收盤價': '28.55', '漲跌': '+0.05', '一年內最高價': '51.7', '一年內最低價': '19.6', '本益比': '41.38', '一年內最大量': '5,989', '一年內最低量': '27', '成交量': '82', '同業平均本益比': '61.99', '一年來最高本益比': '42.90', '一年來最低本益比': '9.32', '盤後量': '2.1%', '殖利率': '1,879', '總市值': '5,139', '85年來最高總市值': '651', '85年來最低總市值': '35.63%', '今年以來': '43.34', '每股淨值(元)': '34.09%', '營業毛利率': '1.41', '貝他值': '0.00%', '最近一週': '350.00', '每人營收(仟元)': '12.33%', '營業利益率': '3.28%', '標準差': '-0.70%', '最近一個月': '2.45', '每股營收(元)': '9.22%', '稅前淨利率': '7.33%', '最近二個月': '12.35%', '負債比例': '0.32%', '資產報酬率': '8.35%', '最近三個月': '0.66', '股價淨值比': '0.36%', '股東權益報酬率': '6.58', '股本(億, 台幣)': '0.6', '現金股利(元)': '93/07/13', '成立時間': '0', '股票股利': '102/11/28', '初次上市(櫃)日期': '0', '盈餘配股': '凱基證02-23892999', '股務代理': '0', '公積配股': '陳春夏', '董事長': '陳春夏', '總經理': '陳春夏', '發言人': '薄化玻璃100.00% (2020年)', '營收比重': '03-4335831', '公司電話': 'http://www.onano-nm.com/', '網址': '桃園市中壢區北園路18號', '公司地址': '3,349'}\n",
      "{'開盤價': '34.5', '最高價': '34.85', '最低價': '34.25', '收盤價': '34.85', '漲跌': '0', '一年內最高價': '39', '一年內最低價': '28.05', '本益比': '41.99', '一年內最大量': '567', '一年內最低量': '0', '成交量': '43', '同業平均本益比': '60.73', '一年來最高本益比': 'N/A', '一年來最低本益比': '41.57', '盤後量': '0', '殖利率': '2.87%', '總市值': '2,415', '85年來最高總市值': '5,003', '85年來最低總市值': '1,812', '今年以來': '20.87%', '每股淨值(元)': '25.63', '營業毛利率': '18.75%', '貝他值': '0.43', '最近一週': '1.01%', '每人營收(仟元)': '746.00', '營業利益率': '4.55%', '標準差': '1.51%', '最近一個月': '-0.43%', '每股營收(元)': '11.59', '稅前淨利率': '4.52%', '最近二個月': '1.90%', '負債比例': '42.76%', '資產報酬率': '0.81%', '最近三個月': '0.72%', '股價淨值比': '1.36', '股東權益報酬率': '1.35%', '股本(億, 台幣)': '6.93', '現金股利(元)': '1', '成立時間': '85/09/04', '股票股利': '0', '初次上市(櫃)日期': '104/07/14', '盈餘配股': '0', '股務代理': '台新證02-25048125', '公積配股': '0', '董事長': 'CHEN, STEVE', '總經理': '張英華', '發言人': '莊國安', '營收比重': '高頻連接線52.28%、光通訊產品47.72% (2020年)', '公司電話': '02-28086333', '網址': 'http://www.ezconn.com/', '公司地址': '新北市淡水區中正東路二段27-8號13樓'}\n",
      "{'開盤價': '412', '最高價': '412.5', '最低價': '395.5', '收盤價': '396.5', '漲跌': '-17.5', '一年內最高價': '506', '一年內最低價': '222', '本益比': '36.44', '一年內最大量': '1,919', '一年內最低量': '14', '成交量': '599', '同業平均本益比': '31.40', '一年來最高本益比': '38.88', '一年來最低本益比': '14.31', '盤後量': '7', '殖利率': '3.27%', '總市值': '13,434', '85年來最高總市值': '17,931', '85年來最低總市值': '5,332', '今年以來': 'N/A', '每股淨值(元)': '79.36', '營業毛利率': '40.73%', '貝他值': '-1.12%', '最近一週': '1,116.00', '每人營收(仟元)': '19.59%', '營業利益率': '15.94%', '標準差': '22.27', '最近一個月': '19.94%', '每股營收(元)': '59.88%', '稅前淨利率': '22.77%', '最近二個月': '3.35%', '負債比例': '62.50%', '資產報酬率': '5.00', '最近三個月': '4.59%', '股價淨值比': '3.39', '股東權益報酬率': '12.98350156', '股本(億, 台幣)': '90/04/10', '現金股利(元)': '0', '成立時間': '110/01/20', '股票股利': '0', '初次上市(櫃)日期': '元大證02-25865859', '盈餘配股': '0', '股務代理': '王嘉煌', '公積配股': '王嘉煌', '董事長': '李振昆', '總經理': '測試治具66.81%、接觸元件17.51%、探針卡9.28%、其他6.40% (2020年)', '發言人': '07-3610999', '營收比重': 'https://www.winwayglobal.com/', '公司電話': '高雄市楠梓區創意南路68號', '網址': '16,338', '公司地址': '17,931'}\n",
      "{'開盤價': '114.5', '最高價': '115', '最低價': '113.5', '收盤價': '115', '漲跌': '+2', '一年內最高價': '135', '一年內最低價': '100', '本益比': '32.76', '一年內最大量': '1,201', '一年內最低量': '1', '成交量': '40', '同業平均本益比': '24.16', '一年來最高本益比': '41.75', '一年來最低本益比': '21.87', '盤後量': '2.17%', '殖利率': '6,555', '總市值': '9,947', '85年來最高總市值': '3,489', '85年來最低總市值': '-7.83%', '今年以來': '28.79', '每股淨值(元)': '24.20%', '營業毛利率': '0.49', '貝他值': '4.55%', '最近一週': 'N/A', '每人營收(仟元)': '10.05%', '營業利益率': '1.82%', '標準差': '-5.74%', '最近一個月': '13.08', '每股營收(元)': '10.63%', '稅前淨利率': '-2.13%', '最近二個月': '41.39%', '負債比例': '2.03%', '資產報酬率': '0.88%', '最近三個月': '3.99', '股價淨值比': '3.56%', '股東權益報酬率': '5.70', '股本(億, 台幣)': '2.5', '現金股利(元)': '100/08/22', '成立時間': '0', '股票股利': '108/12/12', '初次上市(櫃)日期': '0', '盈餘配股': '中信託02-66365566', '股務代理': '0', '公積配股': '朱德祥', '董事長': '羅偉仁', '總經理': '朱祖琪', '發言人': '高速電傳輸線88.34%、光學和電子零件9.16%、高速光纖通訊傳輸線1.40%、其他1.10% (2020年)', '營收比重': '02-82265880', '公司電話': 'http://www.lintestech.com/tw/', '網址': '新北市中和區建一路166號12樓', '公司地址': '7,439'}\n",
      "{'開盤價': '76.7', '最高價': '77.6', '最低價': '75.9', '收盤價': '76', '漲跌': '-0.5', '一年內最高價': '189', '一年內最低價': '63', '本益比': '97.44', '一年內最大量': '8,161', '一年內最低量': '140', '成交量': '244', '同業平均本益比': '38.79', '一年來最高本益比': '103.85', '一年來最低本益比': '16.96', '盤後量': '6', '殖利率': '5.17%', '總市值': '11,400', '85年來最高總市值': '22,143', '85年來最低總市值': '2,767', '今年以來': '-26.79%', '每股淨值(元)': '19.79', '營業毛利率': '3.86%', '貝他值': '1.74%', '最近一週': '955.00', '每人營收(仟元)': '-8.09%', '營業利益率': '6.00%', '標準差': '8.64', '最近一個月': '-5.99%', '每股營收(元)': '7.04%', '稅前淨利率': '67.21%', '最近二個月': '-0.50%', '負債比例': '13.31%', '資產報酬率': '3.84', '最近三個月': '-1.89%', '股價淨值比': '15.00', '股東權益報酬率': '1.63934426', '股本(億, 台幣)': '87/07/02', '現金股利(元)': '2.29508196', '成立時間': '109/12/14', '股票股利': '1.29508196', '初次上市(櫃)日期': '中信託02-66365566', '盈餘配股': '1', '股務代理': '黃常青', '公積配股': '黃常青', '董事長': '許明仁', '總經理': '消費性電子產品89.84%、塑膠零組件10.16% (2020年)', '發言人': '02-26552798', '營收比重': 'http://www.ampacscorp.com', '公司電話': '台北市南港區三重路19-3號3樓', '網址': '22,143', '公司地址': '18,239'}\n",
      "{'開盤價': '41.5', '最高價': '41.55', '最低價': '40.9', '收盤價': '41.2', '漲跌': '-0.3', '一年內最高價': '49.95', '一年內最低價': '38.2', '本益比': '15.55', '一年內最大量': '743', '一年內最低量': '6', '成交量': '377', '同業平均本益比': '18.90', '一年來最高本益比': '16.06', '一年來最低本益比': '11.62', '盤後量': '0', '殖利率': '6.8%', '總市值': '2,719', '85年來最高總市值': '3,729', '85年來最低總市值': '2,538', '今年以來': '6.14%', '每股淨值(元)': '28.26', '營業毛利率': '13.33%', '貝他值': '0.54', '最近一週': '-0.72%', '每人營收(仟元)': 'N/A', '營業利益率': '1.77%', '標準差': '1.22%', '最近一個月': '0.86%', '每股營收(元)': '16.03', '稅前淨利率': '2.99%', '最近二個月': '-0.48%', '負債比例': '53.50%', '資產報酬率': '0.34%', '最近三個月': '-9.25%', '股價淨值比': '1.46', '股東權益報酬率': '0.73%', '股本(億, 台幣)': '6.60', '現金股利(元)': '2.8', '成立時間': '103/12/09', '股票股利': '0', '初次上市(櫃)日期': '109/08/25', '盈餘配股': '0', '股務代理': '凱基證02-23892999', '公積配股': '0', '董事長': '王秀卿', '總經理': '楊信力', '發言人': '羅月華', '營收比重': '商業空間71.44%、商務空間17.06%、其他9.92%、休閒旅遊1.57% (2020年)', '公司電話': '02-25456011', '網址': 'http://www.richhonour.com', '公司地址': '台北市松山區南京東路四段75號12樓'}\n",
      "{'開盤價': '535', '最高價': '536', '最低價': '517', '收盤價': '527', '漲跌': '-2', '一年內最高價': '625', '一年內最低價': '211.5', '本益比': '49.62', '一年內最大量': '13,028', '一年內最低量': '114', '成交量': '3,173', '同業平均本益比': '31.40', '一年來最高本益比': '83.15', '一年來最低本益比': '33.70', '盤後量': '20', '殖利率': '0.85%', '總市值': '35,573', '85年來最高總市值': '41,175', '85年來最低總市值': '6,480', '今年以來': '124.60%', '每股淨值(元)': '43.60', '營業毛利率': '54.33%', '貝他值': '-3.13%', '最近一週': 'N/A', '每人營收(仟元)': '31.69%', '營業利益率': '1.15%', '標準差': '13.23', '最近一個月': '32.26%', '每股營收(元)': '23.42%', '稅前淨利率': '20.64%', '最近二個月': '6.78%', '負債比例': '9.79%', '資產報酬率': '12.09', '最近三個月': '8.51%', '股價淨值比': '6.75', '股東權益報酬率': '4.5', '股本(億, 台幣)': '97/07/07', '現金股利(元)': '0', '成立時間': '109/12/24', '股票股利': '0', '初次上市(櫃)日期': '中信託02-66365566', '盈餘配股': '0', '股務代理': '陳文琦', '公積配股': '林志峰', '董事長': '林志峰', '總經理': 'USB等晶片98.69%、專利授權及其他1.31% (2020年)', '發言人': '02-22181838', '營收比重': 'https://www.via-labs.com/', '公司電話': '新北市新店區中正路529-1號7樓', '網址': '41,175', '公司地址': '18,158'}\n",
      "{'開盤價': '67.2', '最高價': '68.1', '最低價': '66.7', '收盤價': '66.7', '漲跌': '-0.1', '一年內最高價': '95', '一年內最低價': '62.6', '本益比': '31.91', '一年內最大量': '8,297', '一年內最低量': '18', '成交量': '198', '同業平均本益比': '18.90', '一年來最高本益比': '35.65', '一年來最低本益比': '26.81', '盤後量': '1', '殖利率': '4.5%', '總市值': '13,076', '85年來最高總市值': '15,664', '85年來最低總市值': '12,351', '今年以來': 'N/A', '每股淨值(元)': '61.09', '營業毛利率': '4.43%', '貝他值': '1.83%', '最近一週': '58.00', '每人營收(仟元)': '-13.87%', '營業利益率': '-9.38%', '標準差': '8.86', '最近一個月': '-9.64%', '每股營收(元)': '-4.71%', '稅前淨利率': '26.77%', '最近二個月': '-0.79%', '負債比例': '-1.04%', '資產報酬率': '1.09', '最近三個月': '-1.23%', '股價淨值比': '19.60', '股東權益報酬率': '2.99999998', '股本(億, 台幣)': '106/03/28', '現金股利(元)': '0', '成立時間': '110/04/22', '股票股利': '0', '初次上市(櫃)日期': '元大證02-25865859', '盈餘配股': '0', '股務代理': '陳維家', '公積配股': '陳維家', '董事長': '麥班達', '總經理': '運動鞋57.17%、休閒鞋40.54%、球類製造銷售1.31%、其他0.98% (2020年)', '發言人': '04-22585388', '營收比重': 'http://www.sportsgear.com.tw/', '公司電話': '台中市西屯區市政北5路266號3樓', '網址': '15,664', '公司地址': 'N/A'}\n",
      "{'開盤價': '72.2', '最高價': '72.5', '最低價': '70.9', '收盤價': '71', '漲跌': '-1.7', '一年內最高價': '78.9', '一年內最低價': '70.9', '本益比': '33.33', '一年內最大量': '79,438', '一年內最低量': '31,868', '成交量': '37,150', '同業平均本益比': '31.40', '一年來最高本益比': '35.63', '一年來最低本益比': '33.33', '盤後量': '404', '殖利率': '0.69%', '總市值': '250,999', '85年來最高總市值': '268,321', '85年來最低總市值': '143,460', '今年以來': 'N/A', '每股淨值(元)': '15.32', '營業毛利率': '43.50%', '貝他值': 'N/A', '最近一週': 'N/A', '每人營收(仟元)': '31.71%', '營業利益率': 'N/A', '標準差': '5.08', '最近一個月': '30.80%', '每股營收(元)': 'N/A', '稅前淨利率': '51.01%', '最近二個月': '4.44%', '負債比例': 'N/A', '資產報酬率': '4.63', '最近三個月': '8.67%', '股價淨值比': '353.52', '股東權益報酬率': '0.65', '股本(億, 台幣)': '97/04/17', '現金股利(元)': '0', '成立時間': '110/12/06', '股票股利': '0', '初次上市(櫃)日期': '群益金鼎證02-27023999', '盈餘配股': '0', '股務代理': '黃崇仁', '公積配股': '謝再居', '董事長': '譚仲民', '總經理': '晶圓99.71%、包裝元件0.29% (2020年)', '發言人': '03-5795000', '營收比重': 'https://www.powerchip.com/', '公司電話': '新竹科學園區新竹市力行一路18號', '網址': '268,321', '公司地址': '172,959'}\n",
      "{'開盤價': '1500', '最高價': '1575', '最低價': '1490', '收盤價': '1570', '漲跌': '+95', '一年內最高價': '1610', '一年內最低價': '368', '本益比': '148.39', '一年內最大量': '6,037', '一年內最低量': '46', '成交量': '492', '同業平均本益比': '24.16', '一年來最高本益比': '152.17', '一年來最低本益比': '36.77', '盤後量': '6', '殖利率': '0.34%', '總市值': '134,106', '85年來最高總市值': '137,523', '85年來最低總市值': '38,182', '今年以來': 'N/A', '每股淨值(元)': '113.53', '營業毛利率': '36.07%', '貝他值': '2.95%', '最近一週': '2,947.00', '每人營收(仟元)': '26.11%', '營業利益率': '37.72%', '標準差': '34.16', '最近一個月': '26.71%', '每股營收(元)': '76.60%', '稅前淨利率': '28.55%', '最近二個月': '4.60%', '負債比例': '94.79%', '資產報酬率': '13.83', '最近三個月': '6.49%', '股價淨值比': '8.54', '股東權益報酬率': '5.3', '股本(億, 台幣)': '109/01/09', '現金股利(元)': '0', '成立時間': '110/03/22', '股票股利': '0', '初次上市(櫃)日期': '台新證02-25048125', '盈餘配股': '0', '股務代理': '宋福祥', '公積配股': '宋維哲', '董事長': '陳柏達', '總經理': '鋰電池組99.79%、其他0.21% (2020年)', '發言人': '03-5695916', '營收比重': 'http://www.advancedenergysolution.com.tw/', '公司電話': '新竹縣湖口鄉湖口村八德路二段656號5樓', '網址': '137,523', '公司地址': 'N/A'}\n",
      "{'開盤價': '49.3', '最高價': '49.3', '最低價': '49', '收盤價': '49.05', '漲跌': '-0.05', '一年內最高價': '57.1', '一年內最低價': '47.55', '本益比': '8.61', '一年內最大量': '4,395', '一年內最低量': '105', '成交量': '169', '同業平均本益比': '45.76', '一年來最高本益比': '8.99', '一年來最低本益比': '7.67', '盤後量': '1', '殖利率': '8.15%', '總市值': '13,103', '85年來最高總市值': '14,906', '85年來最低總市值': '11,033', '今年以來': 'N/A', '每股淨值(元)': '18.90', '營業毛利率': '23.26%', '貝他值': '0.10%', '最近一週': 'N/A', '每人營收(仟元)': '8.48%', '營業利益率': '1.66%', '標準差': '8.35', '最近一個月': '8.99%', '每股營收(元)': '-2.29%', '稅前淨利率': '39.30%', '最近二個月': '1.98%', '負債比例': 'N/A', '資產報酬率': '2.60', '最近三個月': '3.61%', '股價淨值比': '26.71', '股東權益報酬率': '4', '股本(億, 台幣)': '75/10/29', '現金股利(元)': '0', '成立時間': '110/09/29', '股票股利': '0', '初次上市(櫃)日期': '永豐金證02-23816288', '盈餘配股': '0', '股務代理': '何奕達', '公積配股': '徐志宏', '董事長': '陳佩雯', '總經理': '紙製品87.64%、其他6.53%、清潔用品5.83% (2020年)', '發言人': '02-21921022', '營收比重': 'http://www.yfycpg.com/', '公司電話': '臺北市中正區重慶南路2段51號16樓', '網址': '14,906', '公司地址': '14,009'}\n",
      "{'開盤價': '95.3', '最高價': '97.3', '最低價': '95.3', '收盤價': '96.8', '漲跌': '+1.8', '一年內最高價': '125', '一年內最低價': '89.1', '本益比': '23.96', '一年內最大量': '6,677', '一年內最低量': '412', '成交量': '625', '同業平均本益比': '18.90', '一年來最高本益比': '28.96', '一年來最低本益比': '22.28', '盤後量': '9', '殖利率': '1.03%', '總市值': '14,181', '85年來最高總市值': '17,141', '85年來最低總市值': '6,120', '今年以來': 'N/A', '每股淨值(元)': '30.88', '營業毛利率': '14.83%', '貝他值': '7.56%', '最近一週': 'N/A', '每人營收(仟元)': '7.69%', '營業利益率': 'N/A', '標準差': '5.80', '最近一個月': '7.92%', '每股營收(元)': 'N/A', '稅前淨利率': '50.06%', '最近二個月': '0.68%', '負債比例': 'N/A', '資產報酬率': '3.13', '最近三個月': '1.06%', '股價淨值比': '14.65', '股東權益報酬率': '1', '股本(億, 台幣)': '96/04/27', '現金股利(元)': '0', '成立時間': '110/11/15', '股票股利': '0', '初次上市(櫃)日期': '福邦證02-23711658', '盈餘配股': '0', '股務代理': '郭台強', '公積配股': '胡惠森', '董事長': '蔡美智', '總經理': '工程58.89%、技術服務21.20%、電力19.91% (2020年)', '發言人': '02-22699888', '營收比重': 'http://www.shinfox.com.tw/', '公司電話': '新北市土城區中央路四段49號', '網址': '17,141', '公司地址': '7,300'}\n",
      "{'開盤價': '68.5', '最高價': '71.5', '最低價': '65.8', '收盤價': '69', '漲跌': '+3.6', '一年內最高價': '71.5', '一年內最低價': '41.4', '本益比': '21.17', '一年內最大量': '17,869', '一年內最低量': '39', '成交量': '17,869', '同業平均本益比': '61.99', '一年來最高本益比': '30.67', '一年來最低本益比': '10.28', '盤後量': '37', '殖利率': '4.33%', '總市值': '4,693', '85年來最高總市值': '6,006', '85年來最低總市值': '1,650', '今年以來': '35.81%', '每股淨值(元)': '29.08', '營業毛利率': '16.37%', '貝他值': '1.25', '最近一週': '25.91%', '每人營收(仟元)': '2,686.00', '營業利益率': '5.64%', '標準差': '2.73%', '最近一個月': '44.20%', '每股營收(元)': '11.14', '稅前淨利率': '7.16%', '最近二個月': '50.66%', '負債比例': '47.10%', '資產報酬率': '1.26%', '最近三個月': '43.53%', '股價淨值比': '2.37', '股東權益報酬率': '2.09%', '股本(億, 台幣)': '6.80', '現金股利(元)': '2.99475916', '成立時間': '89/03/13', '股票股利': '0', '初次上市(櫃)日期': '108/01/17', '盈餘配股': '0', '股務代理': '台新證02-25048125', '公積配股': '0', '董事長': '葉垂景', '總經理': '陳康', '發言人': '王鼎章', '營收比重': 'PMOLED模組63.21%、PMOLED玻璃21.14%、其他15.66% (2020年)', '公司電話': '03-5989999', '網址': 'http://www.ritdisplay.com', '公司地址': '新竹縣湖口鄉新竹工業區光復北路12號'}\n",
      "{'開盤價': '73.5', '最高價': '73.5', '最低價': '73.2', '收盤價': '73.5', '漲跌': '-0.1', '一年內最高價': '74.9', '一年內最低價': '35', '本益比': 'N/A', '一年內最大量': '1,860', '一年內最低量': '0', '成交量': '72', '同業平均本益比': '18.90', '一年來最高本益比': 'N/A', '一年來最低本益比': 'N/A', '盤後量': '0%', '殖利率': '7,663', '總市值': '8,174', '85年來最高總市值': '3,618', '85年來最低總市值': '47.15%', '今年以來': '33.90', '每股淨值(元)': 'N/A', '營業毛利率': '0.46', '貝他值': '0.41%', '最近一週': '-189.00', '每人營收(仟元)': 'N/A', '營業利益率': '2.78%', '標準差': '38.94%', '最近一個月': '-4.02', '每股營收(元)': 'N/A', '稅前淨利率': '70.53%', '最近二個月': '38.13%', '負債比例': '-3.81%', '資產報酬率': '48.79%', '最近三個月': '2.17', '股價淨值比': '-6.44%', '股東權益報酬率': '10.43', '股本(億, 台幣)': '0', '現金股利(元)': '99/09/08', '成立時間': '0', '股票股利': '100/12/06', '初次上市(櫃)日期': '0', '盈餘配股': '兆豐證02-33930898', '股務代理': '0', '公積配股': '劉宗信', '董事長': '劉怡孝', '總經理': '曾獻正', '發言人': '休閒家具85.53%、其他13.92%、休閒家具配件0.55% (2020年)', '營收比重': '02-22192640', '公司電話': 'http://www.keysheen.com/', '網址': '新北市新店區民權路95號16樓', '公司地址': '7,788'}\n",
      "{'開盤價': '40', '最高價': '40', '最低價': '40', '收盤價': '40', '漲跌': '+0.35', '一年內最高價': '50.7', '一年內最低價': '37.6', '本益比': '27.78', '一年內最大量': '282', '一年內最低量': '0', '成交量': '1', '同業平均本益比': '18.90', '一年來最高本益比': 'N/A', '一年來最低本益比': '27.36', '盤後量': '0%', '殖利率': '1,981', '總市值': '3,875', '85年來最高總市值': '1,180', '85年來最低總市值': '-15.85%', '今年以來': '28.97', '每股淨值(元)': '37.90%', '營業毛利率': '0.22', '貝他值': '0.00%', '最近一週': '517.00', '每人營收(仟元)': '20.39%', '營業利益率': '2.08%', '標準差': '-2.44%', '最近一個月': '9.67', '每股營收(元)': '22.36%', '稅前淨利率': '-3.38%', '最近二個月': '48.54%', '負債比例': '3.35%', '資產報酬率': '3.09%', '最近三個月': '1.38', '股價淨值比': '6.34%', '股東權益報酬率': '4.95', '股本(億, 台幣)': '0.5', '現金股利(元)': '102/07/10', '成立時間': '0', '股票股利': '104/12/15', '初次上市(櫃)日期': '0', '盈餘配股': '永豐金證02-23816288', '股務代理': '0', '公積配股': '洪芳蘭', '董事長': '洪進山', '總經理': '戴珮君', '發言人': '碳纖維複材用品94.89%、非碳纖維複材用品5.11% (2020年)', '營收比重': '04-25376022', '公司電話': 'http://bonnyworldwide.com/', '網址': 'PO Box 309, Ugland House, Grand Cayman, KY1-1104, Cayman Isl', '公司地址': '2,440'}\n",
      "{'開盤價': '144', '最高價': '149', '最低價': '135.5', '收盤價': '139.5', '漲跌': '+2', '一年內最高價': '149', '一年內最低價': '39.25', '本益比': '16.24', '一年內最大量': '4,550', '一年內最低量': '9', '成交量': '4,550', '同業平均本益比': '18.90', '一年來最高本益比': '58.57', '一年來最低本益比': '9.92', '盤後量': '15', '殖利率': '0.73%', '總市值': '12,679', '85年來最高總市值': '12,679', '85年來最低總市值': '2,350', '今年以來': '139.20%', '每股淨值(元)': '31.62', '營業毛利率': '38.08%', '貝他值': '1.12', '最近一週': '29.77%', '每人營收(仟元)': '1,669.00', '營業利益率': '20.18%', '標準差': '3.43%', '最近一個月': '63.35%', '每股營收(元)': '11.90', '稅前淨利率': '18.30%', '最近二個月': '75.61%', '負債比例': '60.11%', '資產報酬率': '2.68%', '最近三個月': '71.77%', '股價淨值比': '4.41', '股東權益報酬率': '6.47%', '股本(億, 台幣)': '9.09', '現金股利(元)': '1.02273443', '成立時間': '67/01/23', '股票股利': '0', '初次上市(櫃)日期': '106/12/11', '盈餘配股': '0', '股務代理': '凱基證02-23892999', '公積配股': '0', '董事長': '闕慶承', '總經理': '曾雄威', '發言人': '曾雄威', '營收比重': '大尺寸遊艇69.28%、小尺寸遊艇19.38%、其他11.34% (2020年)', '公司電話': '07-8314126', '網址': 'http://oceanalexander.com/zh-hans/', '公司地址': '高雄市前鎮區金福路1號'}\n",
      "{'開盤價': '74.2', '最高價': '74.2', '最低價': '74.2', '收盤價': '74.2', '漲跌': '+0.1', '一年內最高價': '108', '一年內最低價': '64.4', '本益比': '10.22', '一年內最大量': '388', '一年內最低量': '0', '成交量': '1', '同業平均本益比': '18.90', '一年來最高本益比': '17.24', '一年來最低本益比': '9.71', '盤後量': '6.47%', '殖利率': '8,195', '總市值': '16,945', '85年來最高總市值': '7,698', '85年來最低總市值': '-24.43%', '今年以來': '27.66', '每股淨值(元)': '36.59%', '營業毛利率': '0.72', '貝他值': '3.20%', '最近一週': '581.00', '每人營收(仟元)': '19.23%', '營業利益率': '1.78%', '標準差': '3.06%', '最近一個月': '11.51', '每股營收(元)': '23.09%', '稅前淨利率': '4.65%', '最近二個月': '28.24%', '負債比例': '5.82%', '資產報酬率': '5.25%', '最近三個月': '2.68', '股價淨值比': '8.70%', '股東權益報酬率': '11.04', '股本(億, 台幣)': '4.8', '現金股利(元)': '103/09/30', '成立時間': '0', '股票股利': '107/08/15', '初次上市(櫃)日期': '0', '盈餘配股': '凱基證02-23892999', '股務代理': '0', '公積配股': '謝智通', '董事長': '謝淑韞', '總經理': '林芳毅', '發言人': '室內家具92.09%、其他7.91% (2020年)', '營收比重': '02-77111060', '公司電話': 'http://www.shaneglobal.com.tw', '網址': 'P.O.Box 31119 Grand pavilion,Hibiscus Way,802 West Bay Road,', '公司地址': '11,431'}\n",
      "{'開盤價': '15.8', '最高價': '15.95', '最低價': '15.7', '收盤價': '15.95', '漲跌': '+0.35', '一年內最高價': '19.85', '一年內最低價': '13.65', '本益比': '12.27', '一年內最大量': '1,963', '一年內最低量': '0', '成交量': '19', '同業平均本益比': '18.90', '一年來最高本益比': '55.67', '一年來最低本益比': '9.00', '盤後量': '1.88%', '殖利率': '1,077', '總市值': '3,176', '85年來最高總市值': '813', '85年來最低總市值': '-0.86%', '今年以來': '36.46', '每股淨值(元)': '7.33%', '營業毛利率': '0.71', '貝他值': '2.57%', '最近一週': '2,169.00', '每人營收(仟元)': '1.43%', '營業利益率': '2.43%', '標準差': '2.24%', '最近一個月': '14.59', '每股營收(元)': '1.10%', '稅前淨利率': '1.59%', '最近二個月': '55.87%', '負債比例': '0.21%', '資產報酬率': '-3.22%', '最近三個月': '0.44', '股價淨值比': '0.20%', '股東權益報酬率': '6.75', '股本(億, 台幣)': '0.3', '現金股利(元)': '103/03/27', '成立時間': '0', '股票股利': '105/12/13', '初次上市(櫃)日期': '0', '盈餘配股': '凱基證02-23892999', '股務代理': '0', '公積配股': '林漢清', '董事長': '陳金龍', '總經理': '林子閔', '發言人': '馬口鐵罐65.23%、鋁罐34.77% (2020年)', '營收比重': '06-2895658', '公司電話': 'http://www.jypkg.com/', '網址': '4th Fl, 11 Dr Roy’s Drive, PO Box 10338, Cayman Islands', '公司地址': '1,310'}\n",
      "{'開盤價': '48.6', '最高價': '48.6', '最低價': '48.6', '收盤價': '48.6', '漲跌': '0', '一年內最高價': '55.5', '一年內最低價': '46.5', '本益比': '20.25', '一年內最大量': '697', '一年內最低量': '0', '成交量': '2', '同業平均本益比': '20.01', '一年來最高本益比': '21.26', '一年來最低本益比': '18.64', '盤後量': '1', '殖利率': '3.7%', '總市值': '8,724', '85年來最高總市值': '9,065', '85年來最低總市值': '1,113', '今年以來': '4.40%', '每股淨值(元)': '19.38', '營業毛利率': '32.29%', '貝他值': '0.30', '最近一週': '0.52%', '每人營收(仟元)': 'N/A', '營業利益率': '24.11%', '標準差': '0.84%', '最近一個月': '0.62%', '每股營收(元)': '2.65', '稅前淨利率': '34.43%', '最近二個月': '-0.61%', '負債比例': '52.06%', '資產報酬率': '1.94%', '最近三個月': '2.32%', '股價淨值比': '2.51', '股東權益報酬率': '4.15%', '股本(億, 台幣)': '17.95', '現金股利(元)': '1.8', '成立時間': '55/06/11', '股票股利': '0', '初次上市(櫃)日期': '87/04/08', '盈餘配股': '0', '股務代理': '元富證02-27686668', '公積配股': '0', '董事長': '謝榮富', '總經理': '李振隆', '發言人': '張志雄', '營收比重': '天然氣100.00% (2020年)', '公司電話': '02-29821131', '網址': 'http://www.shinhaigas.com.tw', '公司地址': '新北市三重區力行路一段52號(通訊地址)'}\n",
      "{'開盤價': '39.7', '最高價': '39.85', '最低價': '39.15', '收盤價': '39.25', '漲跌': '-0.2', '一年內最高價': '45.8', '一年內最低價': '28.2', '本益比': '8.86', '一年內最大量': '8,198', '一年內最低量': '67', '成交量': '198', '同業平均本益比': '18.90', '一年來最高本益比': '23.13', '一年來最低本益比': '7.54', '盤後量': '8', '殖利率': '2.55%', '總市值': '6,567', '85年來最高總市值': '12,723', '85年來最低總市值': '891', '今年以來': '16.05%', '每股淨值(元)': '31.30', '營業毛利率': '16.03%', '貝他值': '0.89', '最近一週': '-1.88%', '每人營收(仟元)': '7,522.00', '營業利益率': '13.16%', '標準差': '1.96%', '最近一個月': '0.19%', '每股營收(元)': '12.50', '稅前淨利率': '13.81%', '最近二個月': '5.74%', '負債比例': '22.71%', '資產報酬率': '3.26%', '最近三個月': '-1.15%', '股價淨值比': '1.25', '股東權益報酬率': '4.10%', '股本(億, 台幣)': '16.73', '現金股利(元)': '1', '成立時間': '72/02/19', '股票股利': '0', '初次上市(櫃)日期': '88/03/12', '盈餘配股': '0', '股務代理': '台新證02-25048125', '公積配股': '0', '董事長': '陳豊明', '總經理': '李茂生', '發言人': '童新沅', '營收比重': '鉛合金錠90.98%、黃、紅丹6.63%、其他2.39% (2020年)', '公司電話': '07-7872278', '網址': 'http://www.tmicl.com.tw', '公司地址': '高雄市大寮區莒光三街六號'}\n"
     ]
    },
    {
     "name": "stderr",
     "output_type": "stream",
     "text": [
      "\n"
     ]
    }
   ],
   "source": [
    "for stock_id in tqdm(selected_stock_ids):\n",
    "    print(comp_dict[stock_id])\n",
    "    "
   ]
  },
  {
   "cell_type": "code",
   "execution_count": 177,
   "metadata": {},
   "outputs": [
    {
     "data": {
      "text/plain": [
       "'1321'"
      ]
     },
     "execution_count": 177,
     "metadata": {},
     "output_type": "execute_result"
    }
   ],
   "source": [
    "selected_stock_ids[2]"
   ]
  },
  {
   "cell_type": "code",
   "execution_count": 194,
   "metadata": {},
   "outputs": [],
   "source": [
    "# write to json\n",
    "with open('company_basic_info.json', 'w', encoding='utf-8') as f:\n",
    "    json.dump(comp_dict, f, ensure_ascii=False, indent=4)\n",
    "    "
   ]
  },
  {
   "cell_type": "markdown",
   "metadata": {},
   "source": [
    "#### 類股分類\n",
    "- 上市\n",
    "- 上櫃\n",
    "- 興櫃\n",
    "- 電子產業\n",
    "- 概念股\n",
    "- 集團股\n"
   ]
  },
  {
   "cell_type": "code",
   "execution_count": 274,
   "metadata": {
    "scrolled": true
   },
   "outputs": [
    {
     "ename": "AttributeError",
     "evalue": "'NoneType' object has no attribute 'find_all'",
     "output_type": "error",
     "traceback": [
      "\u001b[1;31m---------------------------------------------------------------------------\u001b[0m",
      "\u001b[1;31mAttributeError\u001b[0m                            Traceback (most recent call last)",
      "\u001b[1;32m<ipython-input-274-e3616d40dea6>\u001b[0m in \u001b[0;36m<module>\u001b[1;34m\u001b[0m\n\u001b[0;32m     13\u001b[0m \u001b[1;33m\u001b[0m\u001b[0m\n\u001b[0;32m     14\u001b[0m \u001b[1;33m\u001b[0m\u001b[0m\n\u001b[1;32m---> 15\u001b[1;33m \u001b[0mlist_stock_cate\u001b[0m \u001b[1;33m=\u001b[0m \u001b[0mgetStockCates\u001b[0m\u001b[1;33m(\u001b[0m\u001b[0midx\u001b[0m\u001b[1;33m=\u001b[0m\u001b[1;36m1\u001b[0m\u001b[1;33m)\u001b[0m\u001b[1;33m\u001b[0m\u001b[1;33m\u001b[0m\u001b[0m\n\u001b[0m\u001b[0;32m     16\u001b[0m \u001b[0mlist_stock_cate\u001b[0m\u001b[1;33m\u001b[0m\u001b[1;33m\u001b[0m\u001b[0m\n",
      "\u001b[1;32m<ipython-input-274-e3616d40dea6>\u001b[0m in \u001b[0;36mgetStockCates\u001b[1;34m(idx)\u001b[0m\n\u001b[0;32m      7\u001b[0m     \u001b[0mres\u001b[0m \u001b[1;33m=\u001b[0m \u001b[0mrequests\u001b[0m\u001b[1;33m.\u001b[0m\u001b[0mget\u001b[0m\u001b[1;33m(\u001b[0m\u001b[0murl\u001b[0m\u001b[1;33m,\u001b[0m \u001b[0mheaders\u001b[0m\u001b[1;33m=\u001b[0m\u001b[0mheaders\u001b[0m\u001b[1;33m)\u001b[0m\u001b[1;33m.\u001b[0m\u001b[0mcontent\u001b[0m\u001b[1;33m\u001b[0m\u001b[1;33m\u001b[0m\u001b[0m\n\u001b[0;32m      8\u001b[0m     \u001b[0msoup\u001b[0m \u001b[1;33m=\u001b[0m \u001b[0mBeautifulSoup\u001b[0m\u001b[1;33m(\u001b[0m\u001b[0mres\u001b[0m\u001b[1;33m,\u001b[0m \u001b[1;34m'html.parser'\u001b[0m\u001b[1;33m)\u001b[0m\u001b[1;33m\u001b[0m\u001b[1;33m\u001b[0m\u001b[0m\n\u001b[1;32m----> 9\u001b[1;33m     \u001b[0mlist_stock_cate\u001b[0m \u001b[1;33m=\u001b[0m \u001b[0msoup\u001b[0m\u001b[1;33m.\u001b[0m\u001b[0mfind\u001b[0m\u001b[1;33m(\u001b[0m\u001b[1;34m'table'\u001b[0m\u001b[1;33m,\u001b[0m \u001b[1;33m{\u001b[0m\u001b[1;34m'id'\u001b[0m\u001b[1;33m:\u001b[0m \u001b[1;34mf'MENU{idx+2}'\u001b[0m\u001b[1;33m}\u001b[0m\u001b[1;33m)\u001b[0m\u001b[1;33m.\u001b[0m\u001b[0mfind_all\u001b[0m\u001b[1;33m(\u001b[0m\u001b[1;34m'td'\u001b[0m\u001b[1;33m,\u001b[0m \u001b[1;33m{\u001b[0m\u001b[1;34m'colspan'\u001b[0m\u001b[1;33m:\u001b[0m \u001b[1;34m'4'\u001b[0m\u001b[1;33m}\u001b[0m\u001b[1;33m)\u001b[0m\u001b[1;33m\u001b[0m\u001b[1;33m\u001b[0m\u001b[0m\n\u001b[0m\u001b[0;32m     10\u001b[0m     \u001b[0mlist_stock_cate\u001b[0m \u001b[1;33m=\u001b[0m \u001b[1;33m[\u001b[0m\u001b[0mre\u001b[0m\u001b[1;33m.\u001b[0m\u001b[0mfindall\u001b[0m\u001b[1;33m(\u001b[0m\u001b[1;34mr'[\\u4e00-\\u9fff]+'\u001b[0m\u001b[1;33m,\u001b[0m \u001b[0mstr\u001b[0m\u001b[1;33m(\u001b[0m\u001b[0mitem\u001b[0m\u001b[1;33m)\u001b[0m\u001b[1;33m)\u001b[0m \u001b[1;32mfor\u001b[0m \u001b[0mitem\u001b[0m \u001b[1;32min\u001b[0m \u001b[0mlist_stock_cate\u001b[0m\u001b[1;33m]\u001b[0m\u001b[1;33m\u001b[0m\u001b[1;33m\u001b[0m\u001b[0m\n\u001b[0;32m     11\u001b[0m     \u001b[0mlist_stock_cate\u001b[0m \u001b[1;33m=\u001b[0m \u001b[1;33m[\u001b[0m\u001b[0mitem\u001b[0m\u001b[1;33m[\u001b[0m\u001b[1;33m-\u001b[0m\u001b[1;36m1\u001b[0m\u001b[1;33m]\u001b[0m \u001b[1;32mfor\u001b[0m \u001b[0mitem\u001b[0m \u001b[1;32min\u001b[0m \u001b[0mlist_stock_cate\u001b[0m \u001b[1;32mif\u001b[0m \u001b[0mlen\u001b[0m\u001b[1;33m(\u001b[0m\u001b[0mitem\u001b[0m\u001b[1;33m)\u001b[0m \u001b[1;33m>\u001b[0m\u001b[1;36m0\u001b[0m \u001b[1;32mand\u001b[0m \u001b[0mmarket_cat\u001b[0m \u001b[1;32mnot\u001b[0m \u001b[1;32min\u001b[0m \u001b[0mitem\u001b[0m\u001b[1;33m[\u001b[0m\u001b[1;33m-\u001b[0m\u001b[1;36m1\u001b[0m\u001b[1;33m]\u001b[0m\u001b[1;33m]\u001b[0m\u001b[1;33m\u001b[0m\u001b[1;33m\u001b[0m\u001b[0m\n",
      "\u001b[1;31mAttributeError\u001b[0m: 'NoneType' object has no attribute 'find_all'"
     ]
    }
   ],
   "source": [
    "def getStockCates(idx):\n",
    "    \n",
    "    market_categories = ['上市','上櫃','興櫃','電子產業','概念股','集團股']\n",
    "    market_cat = market_categories[idx]\n",
    "    url = f'https://goodinfo.tw/StockInfo/StockList.asp?MARKET_CAT={market_cat}'\n",
    "    headers['User-Agent'] = random.choice(user_agent_list)\n",
    "    res = requests.get(url, headers=headers).content\n",
    "    soup = BeautifulSoup(res, 'html.parser')\n",
    "    list_stock_cate = soup.find('table', {'id': f'MENU{idx+2}'}).find_all('td', {'colspan': '4'})\n",
    "    list_stock_cate = [re.findall(r'[\\u4e00-\\u9fff]+', str(item)) for item in list_stock_cate]\n",
    "    list_stock_cate = [item[-1] for item in list_stock_cate if len(item) >0 and market_cat not in item[-1]]\n",
    "    return list_stock_cate\n",
    "\n",
    "\n",
    "list_stock_cate = getStockCates(idx=1)\n",
    "list_stock_cate\n"
   ]
  },
  {
   "cell_type": "code",
   "execution_count": 210,
   "metadata": {},
   "outputs": [],
   "source": [
    "industries = list_stock_cate.copy()\n",
    "url = f'https://goodinfo.tw/StockInfo/StockList.asp?MARKET_CAT=上市&INDUSTRY_CAT={list_stock_cate[0]}'\n"
   ]
  },
  {
   "cell_type": "code",
   "execution_count": 275,
   "metadata": {},
   "outputs": [],
   "source": [
    "def getCateStockList(market_cat, ind):\n",
    "    \n",
    "    url = f'https://goodinfo.tw/StockInfo/StockList.asp?MARKET_CAT={market_cat}&INDUSTRY_CAT={ind}'\n",
    "    headers['User-Agent'] = random.choice(user_agent_list)\n",
    "    res = requests.get(url, headers=headers).content\n",
    "    soup = BeautifulSoup(res, 'html.parser')\n",
    "    list_stock = [item.text for item in soup.find('table', {'class': 'r10_0_0_10 b1 p4_1'}).find_all('td')]\n",
    "    list_stock = [(x, y) for x, y in zip(list_stock[::2], list_stock[1::2]) if x != '代號']\n",
    "    return list_stock\n",
    "\n"
   ]
  },
  {
   "cell_type": "code",
   "execution_count": 263,
   "metadata": {
    "scrolled": true
   },
   "outputs": [
    {
     "name": "stderr",
     "output_type": "stream",
     "text": [
      "  0%|                                                                                                                                                                                                                 | 0/6 [00:00<?, ?it/s]\n"
     ]
    },
    {
     "ename": "AttributeError",
     "evalue": "'NoneType' object has no attribute 'find_all'",
     "output_type": "error",
     "traceback": [
      "\u001b[1;31m---------------------------------------------------------------------------\u001b[0m",
      "\u001b[1;31mAttributeError\u001b[0m                            Traceback (most recent call last)",
      "\u001b[1;32m<ipython-input-263-b3f5904cada1>\u001b[0m in \u001b[0;36m<module>\u001b[1;34m\u001b[0m\n\u001b[0;32m      6\u001b[0m     \u001b[0m_ind_stocks\u001b[0m \u001b[1;33m=\u001b[0m \u001b[0mdict\u001b[0m\u001b[1;33m(\u001b[0m\u001b[1;33m)\u001b[0m\u001b[1;33m\u001b[0m\u001b[1;33m\u001b[0m\u001b[0m\n\u001b[0;32m      7\u001b[0m     \u001b[0mmarket_cat\u001b[0m \u001b[1;33m=\u001b[0m \u001b[0mmarket_categories\u001b[0m\u001b[1;33m[\u001b[0m\u001b[0midx\u001b[0m\u001b[1;33m]\u001b[0m\u001b[1;33m\u001b[0m\u001b[1;33m\u001b[0m\u001b[0m\n\u001b[1;32m----> 8\u001b[1;33m     \u001b[0mindustries\u001b[0m \u001b[1;33m=\u001b[0m \u001b[0mgetStockCates\u001b[0m\u001b[1;33m(\u001b[0m\u001b[0midx\u001b[0m\u001b[1;33m=\u001b[0m\u001b[0midx\u001b[0m\u001b[1;33m)\u001b[0m\u001b[1;33m\u001b[0m\u001b[1;33m\u001b[0m\u001b[0m\n\u001b[0m\u001b[0;32m      9\u001b[0m     \u001b[0mprint\u001b[0m\u001b[1;33m(\u001b[0m\u001b[0mindustries\u001b[0m\u001b[1;33m)\u001b[0m\u001b[1;33m\u001b[0m\u001b[1;33m\u001b[0m\u001b[0m\n\u001b[0;32m     10\u001b[0m \u001b[1;33m\u001b[0m\u001b[0m\n",
      "\u001b[1;32m<ipython-input-261-0979cd910cfb>\u001b[0m in \u001b[0;36mgetStockCates\u001b[1;34m(idx)\u001b[0m\n\u001b[0;32m      6\u001b[0m     \u001b[0mres\u001b[0m \u001b[1;33m=\u001b[0m \u001b[0mrequests\u001b[0m\u001b[1;33m.\u001b[0m\u001b[0mget\u001b[0m\u001b[1;33m(\u001b[0m\u001b[0murl\u001b[0m\u001b[1;33m,\u001b[0m \u001b[0mheaders\u001b[0m\u001b[1;33m=\u001b[0m\u001b[0mheaders\u001b[0m\u001b[1;33m)\u001b[0m\u001b[1;33m.\u001b[0m\u001b[0mcontent\u001b[0m\u001b[1;33m\u001b[0m\u001b[1;33m\u001b[0m\u001b[0m\n\u001b[0;32m      7\u001b[0m     \u001b[0msoup\u001b[0m \u001b[1;33m=\u001b[0m \u001b[0mBeautifulSoup\u001b[0m\u001b[1;33m(\u001b[0m\u001b[0mres\u001b[0m\u001b[1;33m,\u001b[0m \u001b[1;34m'html.parser'\u001b[0m\u001b[1;33m)\u001b[0m\u001b[1;33m\u001b[0m\u001b[1;33m\u001b[0m\u001b[0m\n\u001b[1;32m----> 8\u001b[1;33m     \u001b[0mlist_stock_cate\u001b[0m \u001b[1;33m=\u001b[0m \u001b[0msoup\u001b[0m\u001b[1;33m.\u001b[0m\u001b[0mfind\u001b[0m\u001b[1;33m(\u001b[0m\u001b[1;34m'table'\u001b[0m\u001b[1;33m,\u001b[0m \u001b[1;33m{\u001b[0m\u001b[1;34m'id'\u001b[0m\u001b[1;33m:\u001b[0m \u001b[1;34mf'MENU{idx+2}'\u001b[0m\u001b[1;33m}\u001b[0m\u001b[1;33m)\u001b[0m\u001b[1;33m.\u001b[0m\u001b[0mfind_all\u001b[0m\u001b[1;33m(\u001b[0m\u001b[1;34m'td'\u001b[0m\u001b[1;33m,\u001b[0m \u001b[1;33m{\u001b[0m\u001b[1;34m'colspan'\u001b[0m\u001b[1;33m:\u001b[0m \u001b[1;34m'4'\u001b[0m\u001b[1;33m}\u001b[0m\u001b[1;33m)\u001b[0m\u001b[1;33m\u001b[0m\u001b[1;33m\u001b[0m\u001b[0m\n\u001b[0m\u001b[0;32m      9\u001b[0m     \u001b[0mlist_stock_cate\u001b[0m \u001b[1;33m=\u001b[0m \u001b[1;33m[\u001b[0m\u001b[0mre\u001b[0m\u001b[1;33m.\u001b[0m\u001b[0mfindall\u001b[0m\u001b[1;33m(\u001b[0m\u001b[1;34mr'[\\u4e00-\\u9fff]+'\u001b[0m\u001b[1;33m,\u001b[0m \u001b[0mstr\u001b[0m\u001b[1;33m(\u001b[0m\u001b[0mitem\u001b[0m\u001b[1;33m)\u001b[0m\u001b[1;33m)\u001b[0m \u001b[1;32mfor\u001b[0m \u001b[0mitem\u001b[0m \u001b[1;32min\u001b[0m \u001b[0mlist_stock_cate\u001b[0m\u001b[1;33m]\u001b[0m\u001b[1;33m\u001b[0m\u001b[1;33m\u001b[0m\u001b[0m\n\u001b[0;32m     10\u001b[0m     \u001b[0mlist_stock_cate\u001b[0m \u001b[1;33m=\u001b[0m \u001b[1;33m[\u001b[0m\u001b[0mitem\u001b[0m\u001b[1;33m[\u001b[0m\u001b[1;33m-\u001b[0m\u001b[1;36m1\u001b[0m\u001b[1;33m]\u001b[0m \u001b[1;32mfor\u001b[0m \u001b[0mitem\u001b[0m \u001b[1;32min\u001b[0m \u001b[0mlist_stock_cate\u001b[0m \u001b[1;32mif\u001b[0m \u001b[0mlen\u001b[0m\u001b[1;33m(\u001b[0m\u001b[0mitem\u001b[0m\u001b[1;33m)\u001b[0m \u001b[1;33m>\u001b[0m\u001b[1;36m0\u001b[0m \u001b[1;32mand\u001b[0m \u001b[0mmarket_cat\u001b[0m \u001b[1;32mnot\u001b[0m \u001b[1;32min\u001b[0m \u001b[0mitem\u001b[0m\u001b[1;33m[\u001b[0m\u001b[1;33m-\u001b[0m\u001b[1;36m1\u001b[0m\u001b[1;33m]\u001b[0m\u001b[1;33m]\u001b[0m\u001b[1;33m\u001b[0m\u001b[1;33m\u001b[0m\u001b[0m\n",
      "\u001b[1;31mAttributeError\u001b[0m: 'NoneType' object has no attribute 'find_all'"
     ]
    }
   ],
   "source": [
    "market_categories = ['上市','上櫃','興櫃','電子產業','概念股','集團股']\n",
    "stock_categories = dict()\n",
    "sleep_time = 10\n",
    "\n",
    "for idx in tqdm(range(len(market_categories))):\n",
    "    _ind_stocks = dict()\n",
    "    market_cat = market_categories[idx]\n",
    "    industries = getStockCates(idx=idx)\n",
    "    print(industries)\n",
    "    \n",
    "    sleep(np.random.randint(5, 8))\n",
    "    \n",
    "    for ind in industries:\n",
    "        try:\n",
    "            list_stock = getCateStockList(market_cat=market_cat, ind=ind)\n",
    "        except:\n",
    "            print(url)\n",
    "            # 發生錯誤時 多休息幾秒緩衝 避免被網站擋\n",
    "            sleep_time += 5\n",
    "            continue\n",
    "            \n",
    "        finally:\n",
    "            _ind_stocks.update({ind: list_stock})\n",
    "            print(ind, _ind_stocks[ind], '\\n')\n",
    "\n",
    "        sleep(np.random.randint(sleep_time, sleep_time+5))\n",
    "        \n",
    "    stock_categories.update({market_cat: _ind_stocks})\n",
    "    print(market_cat, stock_categories[market_cat])\n",
    "\n"
   ]
  },
  {
   "cell_type": "code",
   "execution_count": 260,
   "metadata": {},
   "outputs": [
    {
     "data": {
      "text/plain": [
       "[('5878', '台名')]"
      ]
     },
     "execution_count": 260,
     "metadata": {},
     "output_type": "execute_result"
    }
   ],
   "source": [
    "stock_categories.keys()\n",
    "stock_categories['上櫃']['保險業']\n"
   ]
  },
  {
   "cell_type": "code",
   "execution_count": 262,
   "metadata": {},
   "outputs": [],
   "source": [
    "with open('stock_categories.json', 'w', encoding='utf-8') as f:\n",
    "    json.dump(stock_categories, f, ensure_ascii=False, indent=4)\n"
   ]
  },
  {
   "cell_type": "code",
   "execution_count": null,
   "metadata": {},
   "outputs": [],
   "source": [
    "url = f'https://goodinfo.tw/StockInfo/StockDetail.asp?STOCK_ID={stock_id}'\n"
   ]
  },
  {
   "cell_type": "markdown",
   "metadata": {},
   "source": [
    "#### SemEval 2016 Task5 ABSA datasets\n",
    "- xml parser"
   ]
  },
  {
   "cell_type": "code",
   "execution_count": 12,
   "metadata": {},
   "outputs": [
    {
     "data": {
      "text/plain": [
       "OrderedDict([('Reviews',\n",
       "              OrderedDict([('Review',\n",
       "                            [OrderedDict([('@rid', '1'),\n",
       "                                          ('sentences',\n",
       "                                           OrderedDict([('sentence',\n",
       "                                                         [OrderedDict([('@id',\n",
       "                                                                        '1:0'),\n",
       "                                                                       ('text',\n",
       "                                                                        '用了一个月的台电C280客观评价，')]),\n",
       "                                                          OrderedDict([('@id',\n",
       "                                                                        '1:1'),\n",
       "                                                                       ('text',\n",
       "                                                                        '优点：音质非常不错，'),\n",
       "                                                                       ('Opinions',\n",
       "                                                                        OrderedDict([('Opinion',\n",
       "                                                                                      OrderedDict([('@category',\n",
       "                                                                                                    'MULTIMEDIA DEVICES#QUALITY'),\n",
       "                                                                                                   ('@polarity',\n",
       "                                                                                                    'positive')]))]))]),\n",
       "                                                          OrderedDict([('@id',\n",
       "                                                                        '1:2'),\n",
       "                                                                       ('text',\n",
       "                                                                        '建议大家配个好耳机更爽。')]),\n",
       "                                                          OrderedDict([('@id',\n",
       "                                                                        '1:3'),\n",
       "                                                                       ('text',\n",
       "                                                                        '视频图像也很清晰，'),\n",
       "                                                                       ('Opinions',\n",
       "                                                                        OrderedDict([('Opinion',\n",
       "                                                                                      OrderedDict([('@category',\n",
       "                                                                                                    'MULTIMEDIA DEVICES#QUALITY'),\n",
       "                                                                                                   ('@polarity',\n",
       "                                                                                                    'positive')]))]))]),\n",
       "                                                          OrderedDict([('@id',\n",
       "                                                                        '1:4'),\n",
       "                                                                       ('text',\n",
       "                                                                        '色彩还原较好。'),\n",
       "                                                                       ('Opinions',\n",
       "                                                                        OrderedDict([('Opinion',\n",
       "                                                                                      OrderedDict([('@category',\n",
       "                                                                                                    'MULTIMEDIA DEVICES#QUALITY'),\n",
       "                                                                                                   ('@polarity',\n",
       "                                                                                                    'positive')]))]))]),\n",
       "                                                          OrderedDict([('@id',\n",
       "                                                                        '1:5'),\n",
       "                                                                       ('text',\n",
       "                                                                        '外观也很现代。'),\n",
       "                                                                       ('Opinions',\n",
       "                                                                        OrderedDict([('Opinion',\n",
       "                                                                                      OrderedDict([('@category',\n",
       "                                                                                                    'DISPLAY#GENERAL'),\n",
       "                                                                                                   ('@polarity',\n",
       "                                                                                                    'positive')]))]))]),\n",
       "                                                          OrderedDict([('@id',\n",
       "                                                                        '1:6'),\n",
       "                                                                       ('text',\n",
       "                                                                        '缺点：操作太麻烦了，'),\n",
       "                                                                       ('Opinions',\n",
       "                                                                        OrderedDict([('Opinion',\n",
       "                                                                                      OrderedDict([('@category',\n",
       "                                                                                                    'PHONE#OPERATION_PERFORMANCE'),\n",
       "                                                                                                   ('@polarity',\n",
       "                                                                                                    'negative')]))]))]),\n",
       "                                                          OrderedDict([('@id',\n",
       "                                                                        '1:7'),\n",
       "                                                                       ('text',\n",
       "                                                                        '也许刚买的朋友们会不适应。')]),\n",
       "                                                          OrderedDict([('@id',\n",
       "                                                                        '1:8'),\n",
       "                                                                       ('text',\n",
       "                                                                        '播放音乐界面太幼稚了，'),\n",
       "                                                                       ('Opinions',\n",
       "                                                                        OrderedDict([('Opinion',\n",
       "                                                                                      OrderedDict([('@category',\n",
       "                                                                                                    'MULTIMEDIA DEVICES#GENERAL'),\n",
       "                                                                                                   ('@polarity',\n",
       "                                                                                                    'negative')]))]))]),\n",
       "                                                          OrderedDict([('@id',\n",
       "                                                                        '1:9'),\n",
       "                                                                       ('text',\n",
       "                                                                        'MP3格式的音乐播放时会强制淡入，'),\n",
       "                                                                       ('Opinions',\n",
       "                                                                        OrderedDict([('Opinion',\n",
       "                                                                                      OrderedDict([('@category',\n",
       "                                                                                                    'MULTIMEDIA DEVICES#OPERATION_PERFORMANCE'),\n",
       "                                                                                                   ('@polarity',\n",
       "                                                                                                    'negative')]))]))]),\n",
       "                                                          OrderedDict([('@id',\n",
       "                                                                        '1:10'),\n",
       "                                                                       ('text',\n",
       "                                                                        '听英语的朋友们要倒霉了。')]),\n",
       "                                                          OrderedDict([('@id',\n",
       "                                                                        '1:11'),\n",
       "                                                                       ('text',\n",
       "                                                                        '电池最让人不满意，'),\n",
       "                                                                       ('Opinions',\n",
       "                                                                        OrderedDict([('Opinion',\n",
       "                                                                                      OrderedDict([('@category',\n",
       "                                                                                                    'BATTERY#GENERAL'),\n",
       "                                                                                                   ('@polarity',\n",
       "                                                                                                    'negative')]))]))]),\n",
       "                                                          OrderedDict([('@id',\n",
       "                                                                        '1:12'),\n",
       "                                                                       ('text',\n",
       "                                                                        '持续时间太短。'),\n",
       "                                                                       ('Opinions',\n",
       "                                                                        OrderedDict([('Opinion',\n",
       "                                                                                      OrderedDict([('@category',\n",
       "                                                                                                    'BATTERY#QUALITY'),\n",
       "                                                                                                   ('@polarity',\n",
       "                                                                                                    'negative')]))]))]),\n",
       "                                                          OrderedDict([('@id',\n",
       "                                                                        '1:13'),\n",
       "                                                                       ('text',\n",
       "                                                                        '总评：总体还是很让人满意的，'),\n",
       "                                                                       ('Opinions',\n",
       "                                                                        OrderedDict([('Opinion',\n",
       "                                                                                      OrderedDict([('@category',\n",
       "                                                                                                    'PHONE#GENERAL'),\n",
       "                                                                                                   ('@polarity',\n",
       "                                                                                                    'positive')]))]))]),\n",
       "                                                          OrderedDict([('@id',\n",
       "                                                                        '1:14'),\n",
       "                                                                       ('text',\n",
       "                                                                        '性价比很高。'),\n",
       "                                                                       ('Opinions',\n",
       "                                                                        OrderedDict([('Opinion',\n",
       "                                                                                      OrderedDict([('@category',\n",
       "                                                                                                    'PHONE#PRICE'),\n",
       "                                                                                                   ('@polarity',\n",
       "                                                                                                    'positive')]))]))])])]))]),\n",
       "                             OrderedDict([('@rid', '2'),\n",
       "                                          ('sentences',\n",
       "                                           OrderedDict([('sentence',\n",
       "                                                         [OrderedDict([('@id',\n",
       "                                                                        '2:0'),\n",
       "                                                                       ('text',\n",
       "                                                                        '我也是入手D1三天')]),\n",
       "                                                          OrderedDict([('@id',\n",
       "                                                                        '2:1'),\n",
       "                                                                       ('text',\n",
       "                                                                        '个人感觉还是蛮好的机子，'),\n",
       "                                                                       ('Opinions',\n",
       "                                                                        OrderedDict([('Opinion',\n",
       "                                                                                      OrderedDict([('@category',\n",
       "                                                                                                    'PHONE#GENERAL'),\n",
       "                                                                                                   ('@polarity',\n",
       "                                                                                                    'positive')]))]))]),\n",
       "                                                          OrderedDict([('@id',\n",
       "                                                                        '2:2'),\n",
       "                                                                       ('text',\n",
       "                                                                        '希望华为以后带给国人更多的惊喜！'),\n",
       "                                                                       ('Opinions',\n",
       "                                                                        OrderedDict([('Opinion',\n",
       "                                                                                      OrderedDict([('@category',\n",
       "                                                                                                    'COMPANY#GENERAL'),\n",
       "                                                                                                   ('@polarity',\n",
       "                                                                                                    'positive')]))]))]),\n",
       "                                                          OrderedDict([('@id',\n",
       "                                                                        '2:3'),\n",
       "                                                                       ('text',\n",
       "                                                                        '本人买这台机器是出于支持优秀的本国企业，'),\n",
       "                                                                       ('Opinions',\n",
       "                                                                        OrderedDict([('Opinion',\n",
       "                                                                                      OrderedDict([('@category',\n",
       "                                                                                                    'COMPANY#GENERAL'),\n",
       "                                                                                                   ('@polarity',\n",
       "                                                                                                    'positive')]))]))]),\n",
       "                                                          OrderedDict([('@id',\n",
       "                                                                        '2:4'),\n",
       "                                                                       ('text',\n",
       "                                                                        '那怕我的力量只是微不足道的。')]),\n",
       "                                                          OrderedDict([('@id',\n",
       "                                                                        '2:5'),\n",
       "                                                                       ('text',\n",
       "                                                                        '电池也如大家说的一样使劲折腾的话真是不怎么耐用，'),\n",
       "                                                                       ('Opinions',\n",
       "                                                                        OrderedDict([('Opinion',\n",
       "                                                                                      OrderedDict([('@category',\n",
       "                                                                                                    'BATTERY#QUALITY'),\n",
       "                                                                                                   ('@polarity',\n",
       "                                                                                                    'negative')]))]))]),\n",
       "                                                          OrderedDict([('@id',\n",
       "                                                                        '2:6'),\n",
       "                                                                       ('text',\n",
       "                                                                        '毕竟是4.5寸的原因吧！')]),\n",
       "                                                          OrderedDict([('@id',\n",
       "                                                                        '2:7'),\n",
       "                                                                       ('text',\n",
       "                                                                        '我用过几部大屏幕智能机一般都有这个通病！')]),\n",
       "                                                          OrderedDict([('@id',\n",
       "                                                                        '2:8'),\n",
       "                                                                       ('text',\n",
       "                                                                        '所以个人感觉电池这块是大屏幕的通病，'),\n",
       "                                                                       ('Opinions',\n",
       "                                                                        OrderedDict([('Opinion',\n",
       "                                                                                      OrderedDict([('@category',\n",
       "                                                                                                    'BATTERY#QUALITY'),\n",
       "                                                                                                   ('@polarity',\n",
       "                                                                                                    'negative')]))]))]),\n",
       "                                                          OrderedDict([('@id',\n",
       "                                                                        '2:9'),\n",
       "                                                                       ('text',\n",
       "                                                                        '不过现在有移动电源，')]),\n",
       "                                                          OrderedDict([('@id',\n",
       "                                                                        '2:10'),\n",
       "                                                                       ('text',\n",
       "                                                                        '出远门的时候大家还是可以带着去的呵呵！')])])]))]),\n",
       "                             OrderedDict([('@rid', '3'),\n",
       "                                          ('sentences',\n",
       "                                           OrderedDict([('sentence',\n",
       "                                                         [OrderedDict([('@id',\n",
       "                                                                        '3:0'),\n",
       "                                                                       ('text',\n",
       "                                                                        '先买了c8825d使用两天，')]),\n",
       "                                                          OrderedDict([('@id',\n",
       "                                                                        '3:1'),\n",
       "                                                                       ('text',\n",
       "                                                                        '优点很多，'),\n",
       "                                                                       ('Opinions',\n",
       "                                                                        OrderedDict([('Opinion',\n",
       "                                                                                      OrderedDict([('@category',\n",
       "                                                                                                    'PHONE#GENERAL'),\n",
       "                                                                                                   ('@polarity',\n",
       "                                                                                                    'positive')]))]))]),\n",
       "                                                          OrderedDict([('@id',\n",
       "                                                                        '3:2'),\n",
       "                                                                       ('text',\n",
       "                                                                        '速度快，'),\n",
       "                                                                       ('Opinions',\n",
       "                                                                        OrderedDict([('Opinion',\n",
       "                                                                                      OrderedDict([('@category',\n",
       "                                                                                                    'PHONE#QUALITY'),\n",
       "                                                                                                   ('@polarity',\n",
       "                                                                                                    'positive')]))]))]),\n",
       "                                                          OrderedDict([('@id',\n",
       "                                                                        '3:3'),\n",
       "                                                                       ('text',\n",
       "                                                                        'gps搜星定位快，'),\n",
       "                                                                       ('Opinions',\n",
       "                                                                        OrderedDict([('Opinion',\n",
       "                                                                                      OrderedDict([('@category',\n",
       "                                                                                                    'SOFTWARE#QUALITY'),\n",
       "                                                                                                   ('@polarity',\n",
       "                                                                                                    'positive')]))]))]),\n",
       "                                                          OrderedDict([('@id',\n",
       "                                                                        '3:4'),\n",
       "                                                                       ('text',\n",
       "                                                                        '通话质量也不错。'),\n",
       "                                                                       ('Opinions',\n",
       "                                                                        OrderedDict([('Opinion',\n",
       "                                                                                      OrderedDict([('@category',\n",
       "                                                                                                    'CALLS#QUALITY'),\n",
       "                                                                                                   ('@polarity',\n",
       "                                                                                                    'positive')]))]))]),\n",
       "                                                          OrderedDict([('@id',\n",
       "                                                                        '3:5'),\n",
       "                                                                       ('text',\n",
       "                                                                        '随后发现问题，')]),\n",
       "                                                          OrderedDict([('@id',\n",
       "                                                                        '3:6'),\n",
       "                                                                       ('text',\n",
       "                                                                        '开机几个小时后3g网络失效，'),\n",
       "                                                                       ('Opinions',\n",
       "                                                                        OrderedDict([('Opinion',\n",
       "                                                                                      OrderedDict([('@category',\n",
       "                                                                                                    'PHONE#CONNECTIVITY'),\n",
       "                                                                                                   ('@polarity',\n",
       "                                                                                                    'negative')]))]))]),\n",
       "                                                          OrderedDict([('@id',\n",
       "                                                                        '3:7'),\n",
       "                                                                       ('text',\n",
       "                                                                        '表现为网页无法打开。')]),\n",
       "                                                          OrderedDict([('@id',\n",
       "                                                                        '3:8'),\n",
       "                                                                       ('text',\n",
       "                                                                        '在即时通信软件风行的今天这个故障是无法忍受的。'),\n",
       "                                                                       ('Opinions',\n",
       "                                                                        OrderedDict([('Opinion',\n",
       "                                                                                      OrderedDict([('@category',\n",
       "                                                                                                    'SOFTWARE#CONNECTIVITY'),\n",
       "                                                                                                   ('@polarity',\n",
       "                                                                                                    'negative')]))]))])])]))])])]))])"
      ]
     },
     "execution_count": 12,
     "metadata": {},
     "output_type": "execute_result"
    }
   ],
   "source": [
    "from xml.etree import ElementTree\n",
    "import xmltodict\n",
    "\n",
    "# trial data\n",
    "url = 'https://alt.qcri.org/semeval2016/task5/data/uploads/trial-data/mobilephones_trial_chinese.xml'\n",
    "\n",
    "res = requests.get(url, headers=headers).content\n",
    "# tree = ElementTree.fromstring(res)\n",
    "res_dict = xmltodict.parse(res)\n",
    "res_dict\n"
   ]
  },
  {
   "cell_type": "code",
   "execution_count": 41,
   "metadata": {},
   "outputs": [
    {
     "data": {
      "text/plain": [
       "'MULTIMEDIA DEVICES#QUALITY'"
      ]
     },
     "execution_count": 41,
     "metadata": {},
     "output_type": "execute_result"
    }
   ],
   "source": [
    "res_dict.keys()\n",
    "res_dict['Reviews'].keys()\n",
    "len(res_dict['Reviews']['Review'])\n",
    "res_dict['Reviews']['Review'][0].keys()\n",
    "res_dict['Reviews']['Review'][0]['sentences'].keys()\n",
    "len(res_dict['Reviews']['Review'][0]['sentences']['sentence'])\n",
    "res_dict['Reviews']['Review'][0]['sentences']['sentence'][1].keys()\n",
    "res_dict['Reviews']['Review'][0]['sentences']['sentence'][1]['Opinions']['Opinion']['@category']\n"
   ]
  },
  {
   "cell_type": "markdown",
   "metadata": {},
   "source": [
    "#### Other"
   ]
  },
  {
   "cell_type": "code",
   "execution_count": 179,
   "metadata": {
    "collapsed": true
   },
   "outputs": [
    {
     "data": {
      "text/plain": [
       "['ACFP71',\n",
       " 'ACCY98',\n",
       " 'ACFP72',\n",
       " 'ACML07',\n",
       " 'ACCP10',\n",
       " 'ACII21',\n",
       " 'ACPS01',\n",
       " 'ACFT121',\n",
       " 'ACFT122',\n",
       " 'ACFH67',\n",
       " 'ACFH68',\n",
       " 'ACFT119',\n",
       " 'ACFT120',\n",
       " 'ACFT116',\n",
       " 'ACFT115',\n",
       " 'ACFT117',\n",
       " 'ACFT118',\n",
       " 'ACJS61',\n",
       " 'ACJS62',\n",
       " 'ACJS66',\n",
       " 'ACJS65',\n",
       " 'ACPS60',\n",
       " 'ACPS58',\n",
       " 'ACPS59',\n",
       " 'ACJS26',\n",
       " 'ACNC100',\n",
       " 'ACNC98',\n",
       " 'ACNC101',\n",
       " 'ACNC99',\n",
       " 'ACCB46',\n",
       " 'ACCB47',\n",
       " 'ACFH22',\n",
       " 'ACFH56',\n",
       " 'ACCY81',\n",
       " 'ACDD15',\n",
       " 'ACJF92',\n",
       " 'ACJF146',\n",
       " 'ACYC17',\n",
       " 'ACFH23',\n",
       " 'ACII02',\n",
       " 'ACII14',\n",
       " 'ACNC56',\n",
       " 'ACDD17',\n",
       " 'ACNC88',\n",
       " 'ACNC57',\n",
       " 'ACNC89',\n",
       " 'ACAP136',\n",
       " 'ACNC141',\n",
       " 'ACNC139',\n",
       " 'ACNC142',\n",
       " 'ACFH26',\n",
       " 'ACNC140',\n",
       " 'ACAP137',\n",
       " 'ACTS82',\n",
       " 'ACTS84',\n",
       " 'ACTS83',\n",
       " 'ACKH46',\n",
       " 'ACFT84',\n",
       " 'ACFT83',\n",
       " 'ACKH45',\n",
       " 'ACKG90',\n",
       " 'ACKG89',\n",
       " 'ACKG119',\n",
       " 'ACCS16',\n",
       " 'ACKG81',\n",
       " 'ACKG37',\n",
       " 'ACCA176',\n",
       " 'ACCA103',\n",
       " 'ACCA104',\n",
       " 'ACCA179',\n",
       " 'ACKG38',\n",
       " 'ACKG82',\n",
       " 'ACAP135',\n",
       " 'ACKH175',\n",
       " 'ACGC23',\n",
       " 'ACAP142',\n",
       " 'ACIC1001',\n",
       " 'ACIC10',\n",
       " 'ACCA101',\n",
       " 'ACCA178',\n",
       " 'ACCA102',\n",
       " 'ACCA181',\n",
       " 'ACCA100',\n",
       " 'ACCA180',\n",
       " 'ACCA177',\n",
       " 'ACCA99',\n",
       " 'ACAP71',\n",
       " 'ACFT81',\n",
       " 'ACFT82',\n",
       " 'ACAP74',\n",
       " 'ACCY80',\n",
       " 'ACDD22',\n",
       " 'ACCY78',\n",
       " 'ACAP143',\n",
       " 'ACCY79',\n",
       " 'ACAP140',\n",
       " 'ACYT38',\n",
       " 'ACAP139',\n",
       " 'ACFT77',\n",
       " 'ACFT76',\n",
       " 'ACAP138',\n",
       " 'ACFT75',\n",
       " 'ACAP73',\n",
       " 'ACFT79',\n",
       " 'ACFT80',\n",
       " 'ACAP72',\n",
       " 'ACAP70',\n",
       " 'ACAP69',\n",
       " 'ACAP141',\n",
       " 'ACFT78',\n",
       " 'ACAP134',\n",
       " 'ACYT32',\n",
       " 'ACYT33',\n",
       " 'ACFE06',\n",
       " 'ACJF139',\n",
       " 'ACYT79',\n",
       " 'ACCB07',\n",
       " 'ACYT40',\n",
       " 'ACYT78',\n",
       " 'ACJF136',\n",
       " 'ACJF137',\n",
       " 'ACJF138',\n",
       " 'ACYT66',\n",
       " 'ACYT67',\n",
       " 'ACYT68',\n",
       " 'ACFH42',\n",
       " 'ACKG30',\n",
       " 'ACKG28',\n",
       " 'ACKG29',\n",
       " 'ACFT73',\n",
       " 'ACFT111',\n",
       " 'ACFT74',\n",
       " 'ACFT112',\n",
       " 'ACCI27',\n",
       " 'ACDD18',\n",
       " 'ACAP52',\n",
       " 'ACJF79',\n",
       " 'ACAP17',\n",
       " 'ACCI33',\n",
       " 'ACDD136',\n",
       " 'ACCB108',\n",
       " 'ACAI333',\n",
       " 'ACAI338',\n",
       " 'ACAI348',\n",
       " 'ACAI349',\n",
       " 'ACAI339',\n",
       " 'ACAI334',\n",
       " 'ACAI336',\n",
       " 'ACAI341',\n",
       " 'ACAI351',\n",
       " 'ACCB107',\n",
       " 'ACKH217',\n",
       " 'ACKH218',\n",
       " 'ACKH219',\n",
       " 'ACKH220',\n",
       " 'ACKH221',\n",
       " 'ACKH222',\n",
       " 'ACKH223',\n",
       " 'ACKH224',\n",
       " 'ACPS26',\n",
       " 'ACFH73',\n",
       " 'ACFH74',\n",
       " 'ACDF17',\n",
       " 'ACPS48',\n",
       " 'ACPS22',\n",
       " 'ACPS47',\n",
       " 'ACFT92',\n",
       " 'ACPS11',\n",
       " 'ACCP42',\n",
       " 'ACFH18',\n",
       " 'ACPS24',\n",
       " 'ACPS52',\n",
       " 'ACPS31',\n",
       " 'ACPS51',\n",
       " 'ACKG19',\n",
       " 'ACKG39',\n",
       " 'ACFH32',\n",
       " 'ACYT62',\n",
       " 'ACYT61',\n",
       " 'ACYT26',\n",
       " 'ACYC41',\n",
       " 'ACYT41',\n",
       " 'ACYC32',\n",
       " 'ACYC42',\n",
       " 'ACNC81',\n",
       " 'ACCY53',\n",
       " 'ACCY54',\n",
       " 'ACIC24',\n",
       " 'ACTR21',\n",
       " 'ACNC37',\n",
       " 'ACCA38',\n",
       " 'ACCA130',\n",
       " 'ACCY24',\n",
       " 'ACCA39',\n",
       " 'ACCA131',\n",
       " 'ACCY51',\n",
       " 'ACYT44',\n",
       " 'ACPS28',\n",
       " 'ACNC18',\n",
       " 'ACCA73',\n",
       " 'ACFT91',\n",
       " 'ACFT31',\n",
       " 'ACCA29',\n",
       " 'ACAP38',\n",
       " 'ACCA72',\n",
       " 'ACFT23',\n",
       " 'ACFT89',\n",
       " 'ACKH179',\n",
       " 'ACKH57',\n",
       " 'ACKH58',\n",
       " 'ACFT90',\n",
       " 'ACFT32',\n",
       " 'ACAI38',\n",
       " 'ACPS55',\n",
       " 'ACCA77',\n",
       " 'ACPS53',\n",
       " 'ACTR23',\n",
       " 'ACDD57',\n",
       " 'ACCA32',\n",
       " 'ACPS54',\n",
       " 'ACDD56',\n",
       " 'ACCA76',\n",
       " 'ACCI62',\n",
       " 'ACCY31',\n",
       " 'ACAP39',\n",
       " 'ACAP20',\n",
       " 'ACDD58',\n",
       " 'ACTR11',\n",
       " 'ACCI60',\n",
       " 'ACCA21',\n",
       " 'ACCI61',\n",
       " 'ACCA95',\n",
       " 'ACAI31',\n",
       " 'ACTT13',\n",
       " 'ACGC26',\n",
       " 'ACIC18',\n",
       " 'ACIC1801',\n",
       " 'ACDD130',\n",
       " 'ACDD21',\n",
       " 'ACDD78',\n",
       " 'ACNC47',\n",
       " 'ACNC79',\n",
       " 'ACNC80',\n",
       " 'ACNC36',\n",
       " 'ACNC78',\n",
       " 'ACFH28',\n",
       " 'ACCP31',\n",
       " 'ACJF121',\n",
       " 'ACJF119',\n",
       " 'ACJF118',\n",
       " 'ACJF120',\n",
       " 'ACKH202',\n",
       " 'ACIC26',\n",
       " 'ACCP29',\n",
       " 'ACKH201',\n",
       " 'ACCP13',\n",
       " 'ACCA24',\n",
       " 'ACML03',\n",
       " 'ACDF13',\n",
       " 'ACCI22',\n",
       " 'ACFT30',\n",
       " 'ACCA26',\n",
       " 'ACCA113',\n",
       " 'ACFT11',\n",
       " 'ACJF116',\n",
       " 'ACFT34',\n",
       " 'ACCI59',\n",
       " 'ACCI58',\n",
       " 'ACJF135',\n",
       " 'ACJF80',\n",
       " 'ACCI31',\n",
       " 'ACDD08',\n",
       " 'ACJF96',\n",
       " 'ACJF106',\n",
       " 'ACJF99',\n",
       " 'ACAI45',\n",
       " 'ACAI52',\n",
       " 'ACAI46',\n",
       " 'ACJF77',\n",
       " 'ACJF100',\n",
       " 'ACFH53',\n",
       " 'ACFH54',\n",
       " 'ACFH52',\n",
       " 'ACAI16',\n",
       " 'ACAI17',\n",
       " 'ACAI51',\n",
       " 'ACAI64',\n",
       " 'ACAI63',\n",
       " 'ACII41',\n",
       " 'ACII31',\n",
       " 'ACII32',\n",
       " 'ACDD10',\n",
       " 'ACJF101',\n",
       " 'ACJF104',\n",
       " 'ACDD23',\n",
       " 'ACIB24',\n",
       " 'ACIB08',\n",
       " 'ACCP55',\n",
       " 'ACIB23',\n",
       " 'ACCP56',\n",
       " 'ACCP2401',\n",
       " 'ACCP24',\n",
       " 'ACCP50',\n",
       " 'ACML30',\n",
       " 'ACML100',\n",
       " 'ACTI101',\n",
       " 'ACFH43',\n",
       " 'ACTI97',\n",
       " 'ACFH60',\n",
       " 'ACTI98',\n",
       " 'ACTI108',\n",
       " 'ACTI109',\n",
       " 'ACTI100',\n",
       " 'ACTI99',\n",
       " 'ACDS94',\n",
       " 'ACDS95',\n",
       " 'ACIC32',\n",
       " 'ACCP80',\n",
       " 'ACCP22',\n",
       " 'ACCP79',\n",
       " 'ACCA75',\n",
       " 'ACCA117',\n",
       " 'ACCA118',\n",
       " 'ACCA30',\n",
       " 'ACCA119',\n",
       " 'ACCA74',\n",
       " 'ACCA81',\n",
       " 'ACCA79',\n",
       " 'ACCA162',\n",
       " 'ACCA163',\n",
       " 'ACCA80',\n",
       " 'ACCI52',\n",
       " 'ACCI42',\n",
       " 'ACCI53',\n",
       " 'ACKH64',\n",
       " 'ACKH187',\n",
       " 'ACAI210',\n",
       " 'ACAI211',\n",
       " 'ACTI77',\n",
       " 'ACAI206',\n",
       " 'ACAI207',\n",
       " 'ACAI212',\n",
       " 'ACAI213',\n",
       " 'ACTI75',\n",
       " 'ACTI76',\n",
       " 'ACCA161',\n",
       " 'ACFH51',\n",
       " 'ACFH50',\n",
       " 'ACCP32',\n",
       " 'ACTT128',\n",
       " 'ACTT131',\n",
       " 'ACTT132',\n",
       " 'ACTT129',\n",
       " 'ACTT134',\n",
       " 'ACTT135',\n",
       " 'ACTT133',\n",
       " 'ACTT130',\n",
       " 'ACTT63',\n",
       " 'ACCY118',\n",
       " 'ACYT146',\n",
       " 'ACFP66',\n",
       " 'ACFP131',\n",
       " 'ACKY37',\n",
       " 'ACYT80',\n",
       " 'ACKG52',\n",
       " 'ACCA105',\n",
       " 'ACYT158',\n",
       " 'ACFH105',\n",
       " 'ACFP63',\n",
       " 'ACKG51',\n",
       " 'ACTS88',\n",
       " 'ACGC64',\n",
       " 'ACKG50',\n",
       " 'ACTS78',\n",
       " 'ACTS85',\n",
       " 'ACTS77',\n",
       " 'ACGC66',\n",
       " 'ACCY105',\n",
       " 'ACTS86',\n",
       " 'ACTR14',\n",
       " 'ACTR20',\n",
       " 'ACCA96',\n",
       " 'ACFH102',\n",
       " 'ACCY142',\n",
       " 'ACTR34',\n",
       " 'ACFH103',\n",
       " 'ACFH104',\n",
       " 'ACCB38',\n",
       " 'ACYT89',\n",
       " 'ACCB39',\n",
       " 'ACFP94',\n",
       " 'ACYT127',\n",
       " 'ACTS80',\n",
       " 'ACYT150',\n",
       " 'ACFP62',\n",
       " 'ACFH106',\n",
       " 'ACCB36',\n",
       " 'ACCB37',\n",
       " 'ACCB35',\n",
       " 'ACCB34',\n",
       " 'ACFH107',\n",
       " 'ACFH101',\n",
       " 'ACFH100',\n",
       " 'ACFH108',\n",
       " 'ACFH109',\n",
       " 'ACCY104',\n",
       " 'ACCY97',\n",
       " 'ACTR15',\n",
       " 'ACYT90',\n",
       " 'ACCY75',\n",
       " 'ACFP61',\n",
       " 'ACTR19',\n",
       " 'ACTR35',\n",
       " 'ACYT124',\n",
       " 'ACYT125',\n",
       " 'ACYT119',\n",
       " 'ACYT126',\n",
       " 'AC0061',\n",
       " 'ACYT77',\n",
       " 'ACKY28',\n",
       " 'ACYT76',\n",
       " 'ACFP91',\n",
       " 'ACTS96',\n",
       " 'ACTS98',\n",
       " 'ACTS97',\n",
       " 'ACFP51',\n",
       " 'ACCY73',\n",
       " 'ACFP133',\n",
       " 'ACCB103',\n",
       " 'ACCB104',\n",
       " 'ACFP134',\n",
       " 'ACII03',\n",
       " 'ACKH05',\n",
       " 'ACTT03',\n",
       " 'ACTT116',\n",
       " 'ACTT0301',\n",
       " 'ACTT117',\n",
       " 'ACCA15',\n",
       " 'ACCA10',\n",
       " 'ACCI03',\n",
       " 'ACCP15',\n",
       " 'ACAI43',\n",
       " 'ACAI54',\n",
       " 'ACAI44',\n",
       " 'ACAI53',\n",
       " 'ACAI40',\n",
       " 'ACAI39',\n",
       " 'ACAI62',\n",
       " 'ACAI42',\n",
       " 'ACAI41',\n",
       " 'ACCA13',\n",
       " 'ACOB03',\n",
       " 'ACOB28',\n",
       " 'ACFH16',\n",
       " 'ACCY72',\n",
       " 'ACFH12',\n",
       " 'ACFH65',\n",
       " 'ACCY141',\n",
       " 'ACUI18',\n",
       " 'ACUI43',\n",
       " 'ACUI15',\n",
       " 'ACUI14',\n",
       " 'ACUI44',\n",
       " 'ACUI45',\n",
       " 'ACCY66',\n",
       " 'ACCP64',\n",
       " 'ACYT91',\n",
       " 'ACCP63',\n",
       " 'ACDS85',\n",
       " 'ACYT92',\n",
       " 'ACDS37',\n",
       " 'ACDS36',\n",
       " 'ACCY140',\n",
       " 'ACDS39',\n",
       " 'ACDS38',\n",
       " 'ACCY134',\n",
       " 'ACCY136',\n",
       " 'ACCY135',\n",
       " 'ACCY139',\n",
       " 'ACCY137',\n",
       " 'ACCY138',\n",
       " 'ACYT52',\n",
       " 'ACCY71',\n",
       " 'ACKY47',\n",
       " 'ACYC33',\n",
       " 'ACYC34',\n",
       " 'ACCY68',\n",
       " 'ACCY67',\n",
       " 'ACYC35',\n",
       " 'ACCY70',\n",
       " 'ACCY69',\n",
       " 'ACYC36',\n",
       " 'ACTS44',\n",
       " 'ACTS45',\n",
       " 'ACTS89',\n",
       " 'ACTS47',\n",
       " 'ACTS46',\n",
       " 'ACCP104',\n",
       " 'ACCP115',\n",
       " 'ACCP114',\n",
       " 'ACCP103',\n",
       " 'ACCP173',\n",
       " 'ACCP101',\n",
       " 'ACCP102',\n",
       " 'ACCP113',\n",
       " 'ACCA65',\n",
       " 'ACCA66',\n",
       " 'ACCY52',\n",
       " 'ACCA63',\n",
       " 'ACCA64',\n",
       " 'ACCA68',\n",
       " 'ACCA67',\n",
       " 'ACCY45',\n",
       " 'ACCY46',\n",
       " 'ACCY43',\n",
       " 'ACDS84',\n",
       " 'ACCY44',\n",
       " 'ACCY152',\n",
       " 'ACCY153',\n",
       " 'ACML51',\n",
       " 'ACML49',\n",
       " 'ACML48',\n",
       " 'ACML50',\n",
       " 'ACJF9301',\n",
       " 'ACJF93',\n",
       " 'ACCP61',\n",
       " 'ACCP62',\n",
       " 'ACCI49',\n",
       " 'ACCI75',\n",
       " 'ACCI48',\n",
       " 'ACCA20',\n",
       " 'ACCI47',\n",
       " 'ACCI74',\n",
       " 'ACCI46',\n",
       " 'ACCI51',\n",
       " 'ACCI50',\n",
       " 'ACCI76',\n",
       " 'ACCY100',\n",
       " 'ACCY101',\n",
       " 'ACCY102',\n",
       " 'ACJF90',\n",
       " 'ACJF130',\n",
       " 'ACJF134',\n",
       " 'ACJF133',\n",
       " 'ACJF128',\n",
       " 'ACJF127',\n",
       " 'ACJF129',\n",
       " 'ACJF131',\n",
       " 'ACJF132',\n",
       " 'ACCP66',\n",
       " 'ACJF140',\n",
       " 'ACCP65',\n",
       " 'ACCP57',\n",
       " 'ACCP58',\n",
       " 'ACCP59',\n",
       " 'ACCP60',\n",
       " 'ACJS58',\n",
       " 'ACJS59',\n",
       " 'ACJS60',\n",
       " 'ACCY160',\n",
       " 'ACFT53',\n",
       " 'ACFT54',\n",
       " 'ACKG72',\n",
       " 'ACKG73',\n",
       " 'ACKH55',\n",
       " 'ACKH56',\n",
       " 'ACKG68',\n",
       " 'ACKG69',\n",
       " 'ACKG71',\n",
       " 'ACKG70',\n",
       " 'ACKG64',\n",
       " 'ACKG66',\n",
       " 'ACKG67',\n",
       " 'ACKG65',\n",
       " 'ACKH53',\n",
       " 'ACKH54',\n",
       " 'ACKH51',\n",
       " 'ACKH52',\n",
       " 'ACKG63',\n",
       " 'ACKG60',\n",
       " 'ACKG61',\n",
       " 'ACKG62',\n",
       " 'ACTI96',\n",
       " 'ACKH185',\n",
       " 'ACKH47',\n",
       " 'ACKH48',\n",
       " 'ACKH49',\n",
       " 'ACKH50',\n",
       " 'ACTI90',\n",
       " 'ACTI91',\n",
       " 'ACTI94',\n",
       " 'ACTI95',\n",
       " 'ACTI92',\n",
       " 'ACKH196',\n",
       " 'ACTI88',\n",
       " 'ACKH68',\n",
       " 'ACKH71',\n",
       " 'ACTI89',\n",
       " 'ACTI93',\n",
       " 'ACCP200',\n",
       " 'ACCP199',\n",
       " 'ACKH193',\n",
       " 'ACKH195',\n",
       " 'ACKH70',\n",
       " 'ACKH67',\n",
       " 'ACKH69',\n",
       " 'ACKH194',\n",
       " 'ACKH66',\n",
       " 'ACYC70',\n",
       " 'ACCP198',\n",
       " 'ACCP197',\n",
       " 'ACCA206',\n",
       " 'ACCA212',\n",
       " 'ACCA213',\n",
       " 'ACCA207',\n",
       " 'ACTI52',\n",
       " 'ACCA208',\n",
       " 'ACCA202',\n",
       " 'ACYC69',\n",
       " 'ACCA209',\n",
       " 'ACCA203',\n",
       " 'ACCA205',\n",
       " 'ACCA211',\n",
       " 'ACCA204',\n",
       " 'ACCA210',\n",
       " 'ACCF52',\n",
       " 'ACCF50',\n",
       " 'ACTI51',\n",
       " 'ACCF51',\n",
       " 'ACTI79',\n",
       " 'ACAI205',\n",
       " 'ACAI204',\n",
       " 'ACES95',\n",
       " 'ACES94',\n",
       " 'ACES97',\n",
       " 'ACES96',\n",
       " 'ACCF49',\n",
       " 'ACTI50',\n",
       " 'ACCP188',\n",
       " 'ACCF62',\n",
       " 'ACFT52',\n",
       " 'ACFT51',\n",
       " 'ACCF63',\n",
       " 'ACCF61',\n",
       " 'ACCF64',\n",
       " 'ACFT48',\n",
       " 'ACFT47',\n",
       " 'ACFT49',\n",
       " 'ACFT50',\n",
       " 'ACIB49',\n",
       " 'ACIB43',\n",
       " 'ACCP183',\n",
       " 'ACCP182',\n",
       " 'ACIB44',\n",
       " 'ACCP184',\n",
       " 'ACCP181',\n",
       " 'ACIB19',\n",
       " 'ACIB47',\n",
       " 'ACCF45',\n",
       " 'ACCF46',\n",
       " 'ACIB20',\n",
       " 'ACIB22',\n",
       " 'ACCF48',\n",
       " 'ACCF47',\n",
       " 'ACIB50',\n",
       " 'ACIB21',\n",
       " 'ACIB48',\n",
       " 'ACCF59',\n",
       " 'ACCF60',\n",
       " 'ACCF57',\n",
       " 'ACCF58',\n",
       " 'ACCF54',\n",
       " 'ACKH188',\n",
       " 'ACCF53',\n",
       " 'ACAI198',\n",
       " 'ACAI190',\n",
       " 'ACAI194',\n",
       " 'ACAI202',\n",
       " 'ACCF56',\n",
       " 'ACAI203',\n",
       " 'ACAI195',\n",
       " 'ACAI199',\n",
       " 'ACAI191',\n",
       " 'ACCF55',\n",
       " 'ACNB33',\n",
       " 'ACNB34',\n",
       " 'ACNB31',\n",
       " 'ACNB32',\n",
       " 'ACIB41',\n",
       " 'ACIB42',\n",
       " 'ACIB46',\n",
       " 'ACIB45',\n",
       " 'ACIB39',\n",
       " 'ACIB40',\n",
       " 'ACNB24',\n",
       " 'ACNB23',\n",
       " 'ACNB25',\n",
       " 'ACNB26',\n",
       " 'ACAI196',\n",
       " 'ACAI200',\n",
       " 'ACAI192',\n",
       " 'ACAI188',\n",
       " 'ACAI193',\n",
       " 'ACAI201',\n",
       " 'ACAI197',\n",
       " 'ACAI189',\n",
       " 'ACYT132',\n",
       " 'ACYT133',\n",
       " 'ACYT134',\n",
       " 'ACNB16',\n",
       " 'ACTI25',\n",
       " 'ACTI24',\n",
       " 'ACTI78',\n",
       " 'ACNB21',\n",
       " 'ACNB22',\n",
       " 'ACNB17',\n",
       " 'ACNB18',\n",
       " 'ACNB19',\n",
       " 'ACNB15',\n",
       " 'ACNB20',\n",
       " 'ACNB29',\n",
       " 'ACNB30',\n",
       " 'ACNB27',\n",
       " 'ACNB28',\n",
       " 'ACTI56',\n",
       " 'ACTI26',\n",
       " 'ACTI27',\n",
       " 'ACAI250',\n",
       " 'ACAI251',\n",
       " 'ACAI249',\n",
       " 'ACAI247',\n",
       " 'ACAI246',\n",
       " 'ACAI245',\n",
       " 'ACAI242',\n",
       " 'ACAI243',\n",
       " 'ACAI241',\n",
       " 'ACAI254',\n",
       " 'ACAI255',\n",
       " 'ACAI253',\n",
       " 'ACAP200',\n",
       " 'ACAP191',\n",
       " 'ACAP190',\n",
       " 'ACKH225',\n",
       " 'ACAP201',\n",
       " 'ACFD47',\n",
       " 'ACFD48',\n",
       " 'ACFD41',\n",
       " 'ACFD42',\n",
       " 'ACCB120',\n",
       " 'ACCB119',\n",
       " 'ACAP188',\n",
       " 'ACAP189',\n",
       " 'ACAP199',\n",
       " 'ACAP198',\n",
       " 'ACAP177',\n",
       " 'ACAP193',\n",
       " 'ACCB117',\n",
       " 'ACCB118',\n",
       " 'ACAP196',\n",
       " 'ACAP197',\n",
       " 'ACAP186',\n",
       " 'ACAP187',\n",
       " 'ACAP203',\n",
       " 'ACAP184',\n",
       " 'ACAP185',\n",
       " 'ACAP195',\n",
       " 'ACAP194',\n",
       " 'ACAP202',\n",
       " 'ACCB116',\n",
       " 'ACAP167',\n",
       " 'ACCB115',\n",
       " 'ACAP192',\n",
       " 'ACAP182',\n",
       " 'ACAP172',\n",
       " 'ACCB113',\n",
       " 'ACCB114',\n",
       " 'ACCB112',\n",
       " 'ACCB110',\n",
       " 'ACCB111',\n",
       " 'ACCB109',\n",
       " 'ACAP181',\n",
       " 'ACAP171',\n",
       " 'ACAP176',\n",
       " 'ACAP166',\n",
       " 'ACAP168',\n",
       " 'ACAP175',\n",
       " 'ACAP180',\n",
       " 'ACAP170',\n",
       " 'ACAP165',\n",
       " 'ACAP173',\n",
       " 'ACAP174',\n",
       " 'ACAP164',\n",
       " 'ACAP179',\n",
       " 'ACAP169',\n",
       " 'ACAP183',\n",
       " 'ACFD44',\n",
       " 'ACFD37',\n",
       " 'ACFD38',\n",
       " 'ACFD43',\n",
       " 'ACFD39',\n",
       " 'ACFD40',\n",
       " 'ACFD45',\n",
       " 'ACFD46',\n",
       " 'ACAP178',\n",
       " 'ACCS77',\n",
       " 'ACAI331',\n",
       " 'ACAI330',\n",
       " 'ACCF89',\n",
       " 'ACCF94',\n",
       " 'ACOB43',\n",
       " 'ACCF99',\n",
       " 'ACCF104',\n",
       " 'ACCP196',\n",
       " 'ACNC122',\n",
       " 'ACNC121',\n",
       " 'ACNC124',\n",
       " 'ACNC123',\n",
       " 'ACFP125',\n",
       " 'ACFP126',\n",
       " 'ACNB73',\n",
       " 'ACNB75',\n",
       " 'ACNB76',\n",
       " 'ACNB74',\n",
       " 'ACCP194',\n",
       " 'ACCP195',\n",
       " 'ACCF93',\n",
       " 'ACUN48',\n",
       " 'ACUN49',\n",
       " 'ACML71',\n",
       " 'ACCF98',\n",
       " 'ACCS76',\n",
       " 'ACAI270',\n",
       " 'ACAI273',\n",
       " 'ACAI272',\n",
       " 'ACAI271',\n",
       " 'ACCF88',\n",
       " 'ACCF103',\n",
       " 'ACAP54',\n",
       " 'ACII59',\n",
       " 'ACII58',\n",
       " 'ACAI267',\n",
       " 'ACAI268',\n",
       " 'ACAI269',\n",
       " 'ACAI266',\n",
       " 'ACNB66',\n",
       " 'ACNB68',\n",
       " 'ACAP55',\n",
       " 'ACUI59',\n",
       " 'ACUI60',\n",
       " 'ACNB67',\n",
       " 'ACNB65',\n",
       " 'ACNC119',\n",
       " 'ACNC117',\n",
       " 'ACCA250',\n",
       " 'ACCA251',\n",
       " 'ACCA249',\n",
       " 'ACCA248',\n",
       " 'ACNC120',\n",
       " 'ACML67',\n",
       " 'ACML68',\n",
       " 'ACAI323',\n",
       " 'ACAI320',\n",
       " 'ACAI322',\n",
       " 'ACAI321',\n",
       " 'ACFP123',\n",
       " 'ACML69',\n",
       " 'ACML70',\n",
       " 'ACFP124',\n",
       " 'ACFH36',\n",
       " 'ACNC118',\n",
       " 'ACFH37',\n",
       " 'ACAI318',\n",
       " 'ACAI317',\n",
       " 'ACFP128',\n",
       " 'ACFP127',\n",
       " 'ACCF85',\n",
       " 'ACNC115',\n",
       " 'ACNC116',\n",
       " 'ACNC114',\n",
       " 'ACNC113',\n",
       " 'ACCF87',\n",
       " 'ACNC106',\n",
       " 'ACNC105',\n",
       " 'ACNC108',\n",
       " 'ACNC107',\n",
       " 'ACKH154',\n",
       " 'ACKH115',\n",
       " 'ACKH118',\n",
       " 'ACCF92',\n",
       " 'ACAI265',\n",
       " 'ACCF90',\n",
       " 'ACCF100',\n",
       " 'ACCF95',\n",
       " 'ACNC111',\n",
       " 'ACNC109',\n",
       " 'ACCF86',\n",
       " 'ACKH112',\n",
       " 'ACAP53',\n",
       " 'ACNC112',\n",
       " 'ACAP31',\n",
       " 'ACCF96',\n",
       " 'ACNC110',\n",
       " 'ACCF91',\n",
       " 'ACAI275',\n",
       " 'ACAI276',\n",
       " 'ACAI277',\n",
       " 'ACAI274',\n",
       " 'ACFP96',\n",
       " 'ACFP95',\n",
       " 'ACAI264',\n",
       " 'ACAI263',\n",
       " 'ACAI261',\n",
       " 'ACAI262',\n",
       " 'ACCF101',\n",
       " 'ACCF97',\n",
       " 'ACCA254',\n",
       " 'ACNC131',\n",
       " 'ACAP18',\n",
       " 'ACAP19',\n",
       " 'ACCF102',\n",
       " 'ACCY122',\n",
       " 'ACOB42',\n",
       " 'ACII56',\n",
       " 'ACII57',\n",
       " 'ACCA240',\n",
       " 'ACCA242',\n",
       " 'ACCA243',\n",
       " 'ACCA241',\n",
       " 'ACCA246',\n",
       " 'ACCA244',\n",
       " 'ACCA247',\n",
       " 'ACCA245',\n",
       " 'ACKG43',\n",
       " 'ACNB57',\n",
       " 'ACAI286',\n",
       " 'ACAI328',\n",
       " 'ACFP31',\n",
       " 'ACTS99',\n",
       " 'ACTS100',\n",
       " 'ACFP32',\n",
       " 'ACAI154',\n",
       " 'ACAI153',\n",
       " 'ACAI14',\n",
       " 'ACAI15',\n",
       " 'ACNB60',\n",
       " 'ACAI313',\n",
       " 'ACAI311',\n",
       " 'ACAI312',\n",
       " 'ACAI310',\n",
       " 'ACUN65',\n",
       " 'ACAI327',\n",
       " 'ACAI325',\n",
       " 'ACAI326',\n",
       " 'ACAI324',\n",
       " 'ACUN47',\n",
       " 'ACUN46',\n",
       " 'ACTS49',\n",
       " 'ACTS50',\n",
       " 'ACNC132',\n",
       " 'ACNB61',\n",
       " 'ACNB63',\n",
       " 'ACNB59',\n",
       " 'ACNB64',\n",
       " 'ACNB62',\n",
       " 'ACNB58',\n",
       " 'ACFP75',\n",
       " 'ACFP74',\n",
       " 'ACAP26',\n",
       " 'ACNB69',\n",
       " 'ACNB71',\n",
       " 'ACAP25',\n",
       " 'ACNB72',\n",
       " 'ACNB70',\n",
       " 'ACKH192',\n",
       " 'ACKH197',\n",
       " 'ACKH153',\n",
       " 'ACKH117',\n",
       " 'ACKH114',\n",
       " 'ACKH72',\n",
       " 'ACTS52',\n",
       " 'ACTS51',\n",
       " 'ACKH65',\n",
       " 'ACUI58',\n",
       " 'ACCP192',\n",
       " 'ACIB32',\n",
       " 'ACUI57',\n",
       " 'ACIB31',\n",
       " 'ACCP193',\n",
       " 'ACKH152',\n",
       " 'ACKH151',\n",
       " 'ACUI61',\n",
       " 'ACKH113',\n",
       " 'ACKH116',\n",
       " 'ACUI62',\n",
       " 'ACFH10',\n",
       " 'ACFH24',\n",
       " 'ACKG79',\n",
       " 'ACKG78',\n",
       " 'ACNC153',\n",
       " 'ACNC154',\n",
       " ...]"
      ]
     },
     "execution_count": 179,
     "metadata": {},
     "output_type": "execute_result"
    }
   ],
   "source": [
    "# check table data\n",
    "# 英文公司名中間有空格，和分隔符衝突\n",
    "\n",
    "empty = list()\n",
    "diff = list()\n",
    "valid = list()\n",
    "for k in fund_ratio.keys():\n",
    "    \n",
    "    cl = list()\n",
    "    for row in fund_ratio[k].split('\\n'):\n",
    "        cl.append([char.strip() for char in row.split(' ') if len(char.strip()) > 0])\n",
    "    \n",
    "    try: \n",
    "        check = len(cl[3])\n",
    "        if check not in [6, 8]:\n",
    "            diff.append(k)\n",
    "        else:\n",
    "            valid.append(k)\n",
    "    except:\n",
    "        empty.append(k)\n",
    "\n",
    "\n",
    "empty\n",
    "diff"
   ]
  },
  {
   "cell_type": "code",
   "execution_count": 108,
   "metadata": {},
   "outputs": [],
   "source": [
    "# test the login pop-up\n",
    "driver = webdriver.Chrome(executable_path=chrome_path, options=opt)\n",
    "driver.set_window_size(1024, 850)\n",
    "driver.get('https://www.moneydj.com/funddj/yl/yp013000.djhtm?a=ACKY39')\n",
    "sleep(1)\n",
    "\n",
    "# 在網頁外面的彈出 selenium 沒辦法操作\n",
    "#action = ActionChains(driver)\n",
    "#action.send_keys(account).send_keys(Keys.TAB).send_keys(password).send_keys(Keys.ENTER).perform()\n"
   ]
  },
  {
   "cell_type": "code",
   "execution_count": 138,
   "metadata": {},
   "outputs": [],
   "source": [
    "driver.quit()"
   ]
  },
  {
   "cell_type": "code",
   "execution_count": 218,
   "metadata": {
    "scrolled": true
   },
   "outputs": [
    {
     "data": {
      "text/plain": [
       "'ACFT119'"
      ]
     },
     "execution_count": 218,
     "metadata": {},
     "output_type": "execute_result"
    }
   ],
   "source": [
    "cl = list()\n",
    "for row in fund_ratio[diff[11]].split('\\n'):\n",
    "    cl.append([char.strip() for char in row.split(' ') if len(char.strip()) > 0])\n",
    "\n",
    "cl\n",
    "# [row.split(' ') for row in fund_ratio['AC0001'].split('\\n')]\n",
    "diff[11]"
   ]
  },
  {
   "cell_type": "code",
   "execution_count": 300,
   "metadata": {},
   "outputs": [
    {
     "data": {
      "text/plain": [
       "'C 0   7.02 1.19% ALL 5.1   3.20 0.04% BAC 6.45 K*   5.87 0.46% RGA 6.2   2.47 0.13% AEGON 5.1   4.83 0.08% SRE 5.75   2.43 0.04% ATH 6.35 A   3.44 0.04% HIG 7.875   2.25 0.23% T 5.35   3.34 0.00 CTL 6.75   1.95 0.01%'"
      ]
     },
     "execution_count": 300,
     "metadata": {},
     "output_type": "execute_result"
    }
   ],
   "source": [
    "k = 'ACAI175'\n",
    "\n",
    "content = ' '.join(fund_ratio[k].split('\\n')[3:])\n",
    "cl = np.unique([char.strip() for char in re.findall(r'[\\u4e00-\\u9fff- a-zA-Z]+|91APP', content) \n",
    "                if (char.strip() != '') and (char.strip() != '-')]).tolist()\n",
    "\n",
    "content"
   ]
  },
  {
   "cell_type": "code",
   "execution_count": 313,
   "metadata": {},
   "outputs": [
    {
     "data": {
      "text/plain": [
       "3632"
      ]
     },
     "execution_count": 313,
     "metadata": {},
     "output_type": "execute_result"
    }
   ],
   "source": [
    "len(fund_ratio_simple.keys())"
   ]
  },
  {
   "cell_type": "code",
   "execution_count": 301,
   "metadata": {},
   "outputs": [
    {
     "data": {
      "text/plain": [
       "'股票名稱 持股\\n(千股) 比例 增減 股票名稱 持股\\n(千股) 比例 增減\\nC 0   7.02 1.19% ALL 5.1   3.20 0.04%\\nBAC 6.45 K*   5.87 0.46% RGA 6.2   2.47 0.13%\\nAEGON 5.1   4.83 0.08% SRE 5.75   2.43 0.04%\\nATH 6.35 A   3.44 0.04% HIG 7.875   2.25 0.23%\\nT 5.35   3.34 0.00 CTL 6.75   1.95 0.01%'"
      ]
     },
     "execution_count": 301,
     "metadata": {},
     "output_type": "execute_result"
    }
   ],
   "source": [
    "fund_ratio[k]"
   ]
  },
  {
   "cell_type": "code",
   "execution_count": 327,
   "metadata": {},
   "outputs": [],
   "source": [
    "url = 'https://www.tej.com.tw/webtej/doc/uid.htm'\n",
    "\n",
    "driver = webdriver.Chrome(executable_path=chrome_path, options=opt)\n",
    "driver.set_window_size(1024, 850)\n",
    "driver.get(url)\n",
    "text = [item.text for item in driver.find_elements_by_xpath('//font')]\n",
    "sleep(1)\n",
    "driver.quit()"
   ]
  },
  {
   "cell_type": "code",
   "execution_count": 347,
   "metadata": {},
   "outputs": [],
   "source": [
    "end = text.index('上櫃公司代碼一覽表')\n",
    "start = text.index('1101   台泥')\n",
    "stock_comp = [item.strip() for item in text[start:end] if (item.strip() != '') and re.findall('[0-9]+', item)]\n",
    "stock_names = [item.split(' ')[-1].strip() for item in stock_comp]\n",
    "stock_ids = [item.split(' ')[0].strip() for item in stock_comp]\n"
   ]
  },
  {
   "cell_type": "code",
   "execution_count": 335,
   "metadata": {},
   "outputs": [
    {
     "data": {
      "text/plain": [
       "['1110']"
      ]
     },
     "execution_count": 335,
     "metadata": {},
     "output_type": "execute_result"
    }
   ],
   "source": [
    "re.findall('[0-9]+', '1110   東泥')"
   ]
  },
  {
   "cell_type": "code",
   "execution_count": 352,
   "metadata": {},
   "outputs": [],
   "source": [
    "df_stock_comp = pd.DataFrame([stock_ids, stock_names]).T\n",
    "df_stock_comp.columns = ['id', 'name']\n",
    "df_stock_comp.to_csv('df_stock_comp.csv', index=False)"
   ]
  },
  {
   "cell_type": "code",
   "execution_count": 353,
   "metadata": {
    "scrolled": false
   },
   "outputs": [
    {
     "data": {
      "text/html": [
       "<div>\n",
       "<style scoped>\n",
       "    .dataframe tbody tr th:only-of-type {\n",
       "        vertical-align: middle;\n",
       "    }\n",
       "\n",
       "    .dataframe tbody tr th {\n",
       "        vertical-align: top;\n",
       "    }\n",
       "\n",
       "    .dataframe thead th {\n",
       "        text-align: right;\n",
       "    }\n",
       "</style>\n",
       "<table border=\"1\" class=\"dataframe\">\n",
       "  <thead>\n",
       "    <tr style=\"text-align: right;\">\n",
       "      <th></th>\n",
       "      <th>id</th>\n",
       "      <th>name</th>\n",
       "    </tr>\n",
       "  </thead>\n",
       "  <tbody>\n",
       "    <tr>\n",
       "      <th>0</th>\n",
       "      <td>1101</td>\n",
       "      <td>台泥</td>\n",
       "    </tr>\n",
       "    <tr>\n",
       "      <th>1</th>\n",
       "      <td>1102</td>\n",
       "      <td>亞泥</td>\n",
       "    </tr>\n",
       "    <tr>\n",
       "      <th>2</th>\n",
       "      <td>1103</td>\n",
       "      <td>嘉泥</td>\n",
       "    </tr>\n",
       "    <tr>\n",
       "      <th>3</th>\n",
       "      <td>1104</td>\n",
       "      <td>環泥</td>\n",
       "    </tr>\n",
       "    <tr>\n",
       "      <th>4</th>\n",
       "      <td>1107</td>\n",
       "      <td>建台</td>\n",
       "    </tr>\n",
       "    <tr>\n",
       "      <th>...</th>\n",
       "      <td>...</td>\n",
       "      <td>...</td>\n",
       "    </tr>\n",
       "    <tr>\n",
       "      <th>642</th>\n",
       "      <td>9941</td>\n",
       "      <td>裕融</td>\n",
       "    </tr>\n",
       "    <tr>\n",
       "      <th>643</th>\n",
       "      <td>9942</td>\n",
       "      <td>茂順</td>\n",
       "    </tr>\n",
       "    <tr>\n",
       "      <th>644</th>\n",
       "      <td>9943</td>\n",
       "      <td>好樂迪</td>\n",
       "    </tr>\n",
       "    <tr>\n",
       "      <th>645</th>\n",
       "      <td>9944</td>\n",
       "      <td>新麗</td>\n",
       "    </tr>\n",
       "    <tr>\n",
       "      <th>646</th>\n",
       "      <td>9945</td>\n",
       "      <td>潤泰新</td>\n",
       "    </tr>\n",
       "  </tbody>\n",
       "</table>\n",
       "<p>647 rows × 2 columns</p>\n",
       "</div>"
      ],
      "text/plain": [
       "       id name\n",
       "0    1101   台泥\n",
       "1    1102   亞泥\n",
       "2    1103   嘉泥\n",
       "3    1104   環泥\n",
       "4    1107   建台\n",
       "..    ...  ...\n",
       "642  9941   裕融\n",
       "643  9942   茂順\n",
       "644  9943  好樂迪\n",
       "645  9944   新麗\n",
       "646  9945  潤泰新\n",
       "\n",
       "[647 rows x 2 columns]"
      ]
     },
     "execution_count": 353,
     "metadata": {},
     "output_type": "execute_result"
    }
   ],
   "source": [
    "df_stock_comp"
   ]
  },
  {
   "cell_type": "code",
   "execution_count": null,
   "metadata": {},
   "outputs": [],
   "source": []
  },
  {
   "cell_type": "code",
   "execution_count": null,
   "metadata": {},
   "outputs": [],
   "source": []
  }
 ],
 "metadata": {
  "kernelspec": {
   "display_name": "Python 3 (ipykernel)",
   "language": "python",
   "name": "python3"
  },
  "language_info": {
   "codemirror_mode": {
    "name": "ipython",
    "version": 3
   },
   "file_extension": ".py",
   "mimetype": "text/x-python",
   "name": "python",
   "nbconvert_exporter": "python",
   "pygments_lexer": "ipython3",
   "version": "3.7.10"
  }
 },
 "nbformat": 4,
 "nbformat_minor": 5
}
