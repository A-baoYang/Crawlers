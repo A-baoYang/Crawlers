{
 "cells": [
  {
   "cell_type": "code",
   "execution_count": 1,
   "metadata": {},
   "outputs": [],
   "source": [
    "import requests\n",
    "import random\n",
    "from bs4 import BeautifulSoup\n",
    "\n",
    "url = 'https://table.yahoo.com.tw/zh/restaurants/list/?tag=bistro'\n",
    "user_agent_list = [\n",
    "    'Mozilla/5.0 (Macintosh; Intel Mac OS X 10_15_5) AppleWebKit/605.1.15 (KHTML, like Gecko) Version/13.1.1 Safari/605.1.15',\n",
    "    'Mozilla/5.0 (Windows NT 10.0; Win64; x64; rv:77.0) Gecko/20100101 Firefox/77.0',\n",
    "    'Mozilla/5.0 (Macintosh; Intel Mac OS X 10_15_5) AppleWebKit/537.36 (KHTML, like Gecko) Chrome/83.0.4103.97 Safari/537.36',\n",
    "    'Mozilla/5.0 (Macintosh; Intel Mac OS X 10.15; rv:77.0) Gecko/20100101 Firefox/77.0',\n",
    "    'Mozilla/5.0 (Windows NT 10.0; Win64; x64) AppleWebKit/537.36 (KHTML, like Gecko) Chrome/83.0.4103.97 Safari/537.36',\n",
    "]\n",
    "headers = {\n",
    "    \"accept\": \"text/html,application/xhtml+xml,application/xml;q=0.9,image/avif,image/webp,image/apng,*/*;q=0.8,application/signed-exchange;v=b3;q=0.9\", \n",
    "    \"accept-encoding\": \"gzip, deflate, br\", \n",
    "    \"accept-language\": \"zh-TW,zh;q=0.9,en-US;q=0.8,en;q=0.7\", \n",
    "    \"sec-fetch-dest\": \"document\",\n",
    "    \"sec-fetch-mode\": \"navigate\",\n",
    "    \"sec-fetch-site\": \"none\",\n",
    "    \"sec-fetch-user\": \"?1\",\n",
    "    \"sec-gpc\": \"1\",\n",
    "    \"referer\": \"https://www.google.com/\",\n",
    "    \"dnt\": \"1\", \n",
    "    \"upgrade-Insecure-Requests\": \"1\", \n",
    "    \"user-Agent\": \"Mozilla/5.0 (Linux; Android 6.0; Nexus 5 Build/MRA58N) AppleWebKit/537.36 (KHTML, like Gecko) Chrome/95.0.4638.69 Mobile Safari/537.36\", \n",
    "}\n"
   ]
  },
  {
   "cell_type": "code",
   "execution_count": 2,
   "metadata": {},
   "outputs": [
    {
     "data": {
      "text/plain": [
       "[]"
      ]
     },
     "execution_count": 2,
     "metadata": {},
     "output_type": "execute_result"
    }
   ],
   "source": [
    "# test requests but no use\n",
    "res = requests.get(url, headers=headers).content\n",
    "soup = BeautifulSoup(res, 'html.parser')\n",
    "soup.find_all('ul')"
   ]
  },
  {
   "cell_type": "code",
   "execution_count": 6,
   "metadata": {},
   "outputs": [
    {
     "name": "stderr",
     "output_type": "stream",
     "text": [
      "[WDM] - \n",
      "\n",
      "\n",
      "\n",
      "[WDM] - ====== WebDriver manager ======\n",
      "====== WebDriver manager ======\n",
      "[WDM] - Driver [/Users/jiunyiyang/.wdm/drivers/operadriver/mac64/v.96.0.4664.45/operadriver_mac64/] found in cache\n",
      "Driver [/Users/jiunyiyang/.wdm/drivers/operadriver/mac64/v.96.0.4664.45/operadriver_mac64/] found in cache\n"
     ]
    }
   ],
   "source": [
    "from selenium import webdriver\n",
    "from webdriver_manager.opera import OperaDriverManager\n",
    "driver = webdriver.Opera(executable_path=OperaDriverManager().install())\n",
    "from selenium.webdriver.common.by import By\n",
    "from selenium.webdriver.support import expected_conditions as EC\n",
    "from selenium.webdriver.support.ui import WebDriverWait\n",
    "from selenium.webdriver.common.action_chains import ActionChains\n",
    "from selenium.webdriver.common.keys import Keys\n",
    "\n",
    "from time import sleep\n",
    "import numpy as np\n",
    "from tqdm import tqdm\n"
   ]
  },
  {
   "cell_type": "code",
   "execution_count": 23,
   "metadata": {},
   "outputs": [],
   "source": [
    "user_agent = 'Mozilla/5.0 (Macintosh; Intel Mac OS X 10_13_6) AppleWebKit/605.1.15 (KHTML, like Gecko) Version/12.0.3 Safari/605.1.15'\n",
    "opera_path = '/Users/jiunyiyang/.wdm/drivers/operadriver/mac64/v.96.0.4664.45/operadriver_mac64/operadriver'\n",
    "url = 'https://table.yahoo.com.tw/zh/restaurants/list/?tag=bistro&lat=24.104771968187073&lng=120.67668039074628'\n",
    "opt = webdriver.ChromeOptions()\n",
    "opt.add_argument('--user-agent=%s' % user_agent)\n"
   ]
  },
  {
   "cell_type": "code",
   "execution_count": 24,
   "metadata": {},
   "outputs": [
    {
     "name": "stderr",
     "output_type": "stream",
     "text": [
      "/Users/jiunyiyang/opt/anaconda3/envs/crawler/lib/python3.7/site-packages/ipykernel_launcher.py:9: DeprecationWarning: find_elements_by_* commands are deprecated. Please use find_elements() instead\n",
      "  if __name__ == '__main__':\n"
     ]
    },
    {
     "name": "stdout",
     "output_type": "stream",
     "text": [
      "[{'ELEMENT': '0.3803375052885205-1'}, {'ELEMENT': '0.3803375052885205-2'}, {'ELEMENT': '0.3803375052885205-3'}, {'ELEMENT': '0.3803375052885205-4'}, {'ELEMENT': '0.3803375052885205-5'}, {'ELEMENT': '0.3803375052885205-6'}, {'ELEMENT': '0.3803375052885205-7'}, {'ELEMENT': '0.3803375052885205-8'}, {'ELEMENT': '0.3803375052885205-9'}, {'ELEMENT': '0.3803375052885205-10'}, {'ELEMENT': '0.3803375052885205-11'}, {'ELEMENT': '0.3803375052885205-12'}, {'ELEMENT': '0.3803375052885205-13'}, {'ELEMENT': '0.3803375052885205-14'}, {'ELEMENT': '0.3803375052885205-15'}, {'ELEMENT': '0.3803375052885205-16'}, {'ELEMENT': '0.3803375052885205-17'}, {'ELEMENT': '0.3803375052885205-18'}, {'ELEMENT': '0.3803375052885205-19'}, {'ELEMENT': '0.3803375052885205-20'}]\n"
     ]
    }
   ],
   "source": [
    "# get all restaurant links\n",
    "driver = webdriver.Opera(executable_path=opera_path, options=opt)\n",
    "driver.set_window_size(1024, 850)\n",
    "url = 'https://table.yahoo.com.tw/zh/restaurants/list/?tag=bistro&lat=24.104771968187073&lng=120.67668039074628'\n",
    "driver.get(url)\n",
    "total_page = driver.find_elements_by_xpath('//li[@class=\"Grid Grid--center Grid--middle page\"')[-1].text\n",
    "\n",
    "restaurants = list()\n",
    "for i in range(total_page):\n",
    "    _restaurants = WebDriverWait(driver, 5).until(\n",
    "                        EC.presence_of_element_located((By.XPATH, \n",
    "                                                        '//div[@class=\"restaurant-card control\"]')))\n",
    "    _restaurants = driver.find_elements_by_xpath('//div[@class=\"restaurant-card control\"]')\n",
    "    \n",
    "    for _rest in _restaurants:\n",
    "        \n",
    "\n",
    "    next_page_button = driver.find_element_by_xpath('//i[@class=\"arrow right\"]')\n",
    "    next_page_button.click()\n",
    "\n",
    "print(restaurants)\n",
    "\n",
    "driver.quit()\n"
   ]
  },
  {
   "cell_type": "code",
   "execution_count": 21,
   "metadata": {},
   "outputs": [],
   "source": [
    "driver.quit()\n",
    "\n"
   ]
  },
  {
   "cell_type": "code",
   "execution_count": null,
   "metadata": {},
   "outputs": [],
   "source": []
  }
 ],
 "metadata": {
  "interpreter": {
   "hash": "40d3a090f54c6569ab1632332b64b2c03c39dcf918b08424e98f38b5ae0af88f"
  },
  "kernelspec": {
   "display_name": "Python 3.8.8 64-bit ('base': conda)",
   "language": "python",
   "name": "python3"
  },
  "language_info": {
   "codemirror_mode": {
    "name": "ipython",
    "version": 3
   },
   "file_extension": ".py",
   "mimetype": "text/x-python",
   "name": "python",
   "nbconvert_exporter": "python",
   "pygments_lexer": "ipython3",
   "version": "3.7.11"
  },
  "orig_nbformat": 4
 },
 "nbformat": 4,
 "nbformat_minor": 2
}
